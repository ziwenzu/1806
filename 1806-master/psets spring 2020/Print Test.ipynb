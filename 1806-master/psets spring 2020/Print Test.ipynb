{
 "cells": [
  {
   "cell_type": "markdown",
   "metadata": {},
   "source": [
    "Spaced between $ and letters - doesn't work:\n",
    "\n",
    "$U$ is $m \\times n$ and $V$ is $n \\times n$ if $ m \\ge n$, and\n",
    "$U$ is $m \\times m$ and $V$ is $n \\times m$ if $ m \\lt n$.\n",
    "\n",
    "Does work:\n",
    "$U$ is $m \\times n$ and $V$ is $n \\times n$ if $m \\ge n$, and\n",
    "$U$ is $m \\times m$ and $V$ is $n \\times m$ if $m \\lt n$.\n",
    "\n",
    "Something about the matrix format - doesn't work:\n",
    "\n",
    "$\\left( \\begin{matrix}\n",
    "a & a & a & a \\\\\n",
    "a & b & b & b \\\\\n",
    "a & b & c & c \\\\\n",
    "a & b & c & d\n",
    "\\end{matrix} \\right) $\n",
    "\n",
    "\n",
    "Does work:\n",
    "$\\begin{bmatrix} a & a & a & a \\\\ a & b & b & b \\\\ a & b & c & c \\\\ a & b & c & d \\end{bmatrix}$."
   ]
  },
  {
   "cell_type": "code",
   "execution_count": null,
   "metadata": {},
   "outputs": [],
   "source": []
  }
 ],
 "metadata": {
  "kernelspec": {
   "display_name": "Julia 1.3.0",
   "language": "julia",
   "name": "julia-1.3"
  },
  "language_info": {
   "file_extension": ".jl",
   "mimetype": "application/julia",
   "name": "julia",
   "version": "1.3.0"
  }
 },
 "nbformat": 4,
 "nbformat_minor": 2
}
