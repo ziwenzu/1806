{
 "cells": [
  {
   "cell_type": "markdown",
   "metadata": {},
   "source": [
    "##### Pset 5: Due Wednesday night March 11th"
   ]
  },
  {
   "cell_type": "markdown",
   "metadata": {},
   "source": [
    "(1.) (a) Suppose A,B,C are matrices with the same number of rows. Multiply the following block matrices: <br>\n",
    "$[ A \\  B \\  C ]^T[ A \\  B \\  C ]$ and $[ A \\  B \\  C ][ A \\  B \\  C ]^T$ in terms of A,B,C and transposes."
   ]
  },
  {
   "cell_type": "markdown",
   "metadata": {},
   "source": [
    "(b) Suppose further that $[A \\ B \\ C]$ is a (square) orthogonal matrix.  What can you say about $A^TA$,$B^TB$,$C^TC$ and $A^TC$,$B^TC$,$A^TB$? "
   ]
  },
  {
   "cell_type": "markdown",
   "metadata": {},
   "source": [
    "(c) Again assuming $[A \\  B \\  C]$ is (square) orthogonal, what can you say about $(AA^T)^2$,$(BB^T)^2$,$(CC^T)^2$? The three matrices $AA^T$,$BB^T$,$CC^T$ are called ___________ matrices?"
   ]
  },
  {
   "cell_type": "markdown",
   "metadata": {},
   "source": [
    "(2) Consider the vector space F of functions of the form $f(x) = a+bx+cx^2 + d \\sin(x)+e \\cos(x)$."
   ]
  },
  {
   "cell_type": "markdown",
   "metadata": {},
   "source": [
    "(2a) What kinds of functions should we say live in the nullspace of d/dx? <br>\n",
    "(2b) What kinds of functions are in the analog of the column space? (If the column space is {Av} for column vectors, then perhaps it should be {f' for f in F}.)<br>\n",
    "(2c) What should we call the rank of d/dx acting on F?<br>\n",
    "\n",
    "(2d) If f(x) is in the \"column space\", what is the analog of the solution to Ax=b?<br>\n",
    "(2e) are there 0,1, or infinitely many solutions?"
   ]
  },
  {
   "cell_type": "markdown",
   "metadata": {},
   "source": [
    "(3 GS p. 175) Find the largest possible number of independent vectors among\n",
    "[1,-1,0,0], [1,0,-1,0],[1,0,0,-1],[0,1,-1,0],[0,1,0,-1],[0,0,1,-1]?"
   ]
  },
  {
   "cell_type": "markdown",
   "metadata": {},
   "source": [
    "(4) Consider the matrix A below"
   ]
  },
  {
   "cell_type": "code",
   "execution_count": 103,
   "metadata": {},
   "outputs": [
    {
     "data": {
      "text/plain": [
       "3×3 Array{Float64,2}:\n",
       " 0.138803  0.0635682  0.166459\n",
       " 0.382691  0.393285   0.59615 \n",
       " 0.373926  0.369614   0.573268"
      ]
     },
     "execution_count": 103,
     "metadata": {},
     "output_type": "execute_result"
    }
   ],
   "source": [
    "using LinearAlgebra\n",
    "A =\n",
    "[0.138803  0.0635682  0.16645913\n",
    " 0.382691  0.393285   0.59615\n",
    " 0.373926  0.3696142   0.573268\n",
    "]"
   ]
  },
  {
   "cell_type": "code",
   "execution_count": 104,
   "metadata": {},
   "outputs": [
    {
     "data": {
      "text/plain": [
       "3-element Array{Float64,1}:\n",
       " 1.1444252264762649   \n",
       " 0.05383825009216254  \n",
       " 3.848754866158789e-10"
      ]
     },
     "execution_count": 104,
     "metadata": {},
     "output_type": "execute_result"
    }
   ],
   "source": [
    "svdvals(A)"
   ]
  },
  {
   "cell_type": "markdown",
   "metadata": {},
   "source": [
    "(4a) Explain why a pure mathematician would say, yes, this matrix A has three independent columns."
   ]
  },
  {
   "cell_type": "markdown",
   "metadata": {},
   "source": [
    "(4b) Explain why a more practically minded applied mathematician would says, that A nearly has three dependent columns. "
   ]
  },
  {
   "cell_type": "markdown",
   "metadata": {},
   "source": [
    "You can use Julia or not in your explanations."
   ]
  },
  {
   "cell_type": "markdown",
   "metadata": {},
   "source": [
    "(5) Suppose S is a 2-dimensional subspace of $R^3$. Can every basis of S be extended a basis of R^3?  Can every basis of R^3 be reduced to a basis for S?  "
   ]
  },
  {
   "cell_type": "markdown",
   "metadata": {},
   "source": [
    "(6) (similar to GS 3.4 24 p.177) True or false (give an SVD based reason) <br>\n",
    "(6a) If athe columns of a metrix are dependent, so are the rows. <br>\n",
    "(6b) The column space of a 2x2 matrix is the same as its row space. <br>\n",
    "(6c) The column space of a 2x2 matrix has the same dimension as its row space. <br>\n",
    "(6d) The columns of a matrix are always a basis for the column space."
   ]
  },
  {
   "cell_type": "markdown",
   "metadata": {},
   "source": [
    "(7) For a fixed n, what is the span of all nxn invertible matrices?  All nxn singular matrices? All nxn upper triangular matrices?"
   ]
  },
  {
   "cell_type": "markdown",
   "metadata": {},
   "source": [
    "(8) (GS 3.4 39 p.179 ) Supose A is 5x4 with rank 4.  (8a) Show that Ax=b has no solution when the 5x5 matrix $[A \\ b]$ is invertible."
   ]
  },
  {
   "cell_type": "markdown",
   "metadata": {},
   "source": [
    "(Hint: think about independence)"
   ]
  },
  {
   "cell_type": "markdown",
   "metadata": {},
   "source": [
    "(8b) Show that $Ax=b$ is solvable when $[A \\ b]$ is singular."
   ]
  },
  {
   "cell_type": "markdown",
   "metadata": {},
   "source": [
    "(9) Consider all 3x3 matrices A that satisfy A*[1,1,1] is a multiple of [1,1,1]? Do these form a subspace of 3x3 matrices? (Matrices with all row sums equal to each other)"
   ]
  },
  {
   "cell_type": "markdown",
   "metadata": {},
   "source": [
    "(10) (GS p.178 problem 35) Find a basis for the space of polynomials p(x) of degree ≤ 3?  Find a basis for the subspace with p(1)=0"
   ]
  },
  {
   "cell_type": "markdown",
   "metadata": {},
   "source": []
  }
 ],
 "metadata": {
  "kernelspec": {
   "display_name": "Julia 1.3.0",
   "language": "julia",
   "name": "julia-1.3"
  },
  "language_info": {
   "file_extension": ".jl",
   "mimetype": "application/julia",
   "name": "julia",
   "version": "1.3.0"
  }
 },
 "nbformat": 4,
 "nbformat_minor": 2
}
