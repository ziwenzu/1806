{
 "cells": [
  {
   "cell_type": "markdown",
   "metadata": {},
   "source": [
    "Pset 3 (spring 2020) <br>\n",
    "(Optional: if you wish to download this notebook as an .ipynb file, use the download button in the upper right and OPTION-click (MAC) or ALT-Click (Linux and Windows ) then \"Save Link as..\" or \"Download Linked File As..\" or something similar on your browser.)"
   ]
  },
  {
   "cell_type": "markdown",
   "metadata": {},
   "source": [
    "Problem 1. Let x̄$\\ = \\frac{1}{n}\\sum_{i=1}^n x_i$ denote the mean of x. What is \n",
    "sum( x.-x̄).  (Remember x.-x̄ is the vector x with an elementwise subtraction of x̄). Explain your answer."
   ]
  },
  {
   "cell_type": "markdown",
   "metadata": {},
   "source": [
    "If you wish to try some examples in Julia (optional):"
   ]
  },
  {
   "cell_type": "code",
   "execution_count": 18,
   "metadata": {},
   "outputs": [
    {
     "data": {
      "text/plain": [
       "2.220446049250313e-16"
      ]
     },
     "execution_count": 18,
     "metadata": {},
     "output_type": "execute_result"
    }
   ],
   "source": [
    "using Statistics\n",
    "n = 8\n",
    "x = rand(n)\n",
    "x̄ = mean(x)\n",
    "sum( x .- x̄)"
   ]
  },
  {
   "cell_type": "markdown",
   "metadata": {},
   "source": [
    "Problem 2.  (We may supply some hints as we go, so check back in ) <br>\n",
    "This problem shows how the QR idea can derive the formulas for best fit lines. <br>\n",
    "a)Suppose (xᵢ,yᵢ) for i=1,...m are data which we will fit with a best least squares line.  Let\n",
    "a = x .- x̄ and b = y .- ȳ. <br> The slope of the best line through the (aᵢ,bᵢ) is 1) the same  2) bigger 3) smaller\n",
    "than the line through the (xᵢ,yᵢ) for i=1,...m ?  Explain."
   ]
  },
  {
   "cell_type": "markdown",
   "metadata": {},
   "source": [
    "b) In terms of a and b, write an m x 2 matrix A  and a right hand side expressing $A [slope; intercept] = $ right hand side."
   ]
  },
  {
   "cell_type": "markdown",
   "metadata": {},
   "source": [
    "c) What is the dot product of the first column of A with the second? (Hint: this is easy)"
   ]
  },
  {
   "cell_type": "markdown",
   "metadata": {},
   "source": [
    "d) Use the result in c to derive the QR factorization of $A$ without too much hard work. "
   ]
  },
  {
   "cell_type": "markdown",
   "metadata": {},
   "source": [
    "e) What is a formula for the slope of the best least squares line?\n",
    "(Hint: we are heading towards the formula for β̂ in the [simple linear regression formula in wikipedia](https://en.wikipedia.org/wiki/Simple_linear_regression#Intuitive_explanation) )"
   ]
  },
  {
   "cell_type": "markdown",
   "metadata": {},
   "source": [
    "f) The intercept is very simple?  Why is this result obvious?"
   ]
  },
  {
   "cell_type": "markdown",
   "metadata": {},
   "source": [
    "g) What are the slope and intercept for the original data (xᵢ,yᵢ) without any hard work?\n",
    "    "
   ]
  },
  {
   "cell_type": "markdown",
   "metadata": {},
   "source": [
    "Problem 3.  Suppose A=QR is square, where Q is orthogonal and R is upper triangular and invertible. Write the solution to Ax=b in terms of b and possibly Q,Qᵀ,and R."
   ]
  },
  {
   "cell_type": "markdown",
   "metadata": {},
   "source": [
    "Problem 4. Set up a matrix least squares problem if we are interested in taking n data points $(x_i,y_i)$ and we wish to find the best function f(x)=$c_1e^x+c_2e^{−x}$  through the data points."
   ]
  },
  {
   "cell_type": "markdown",
   "metadata": {},
   "source": [
    "Problem 5. Find $A^T$ and $A^{-1}$ and $(A^{-1})^T$ and $(A^T)^{-1}$ for\n",
    "$A=\\left( \\begin{matrix} 1 & 0 \\\\ 9 & 3 \\end{matrix}\\right)$."
   ]
  },
  {
   "cell_type": "markdown",
   "metadata": {},
   "source": [
    "Problem 6. A matrix $A$ is symmetric if $A=A^T$.  Which of these are true?  <br>\n",
    "6a. The block matrix $\\begin{pmatrix} 0  & A\\\\ A  & 0 \\end{pmatrix}$ is automatically symmetric. <br>\n",
    "6b.  If A and B are symmetric then their product AB is symmetric. <br>\n",
    "6c. If A is not symmetric then $A^{−1}$ is not symmetric. <br>\n",
    "6d. When A,B,C are symmetric, the transpose of ABC is CBA <br>\n",
    ". If $A=A^T$ and $B=B^T$, which of these matrices are certainly symmetric? <br>\n",
    "\n",
    "6e. $A^2−B^2$  <br>\n",
    "6f. $(A+B)(A−B)$ <br>\n",
    "6g. $ABA$ <br>\n",
    "6h.  $ABAB$"
   ]
  },
  {
   "cell_type": "markdown",
   "metadata": {},
   "source": [
    "Problem 7 (GS p.106 13)\n",
    "Compute U and L for the symmetric matrix A:  <br>\n",
    "$\\left( \\begin{matrix}\n",
    "a & a  & a & a \\\\\n",
    "a & b  & b & b \\\\\n",
    "a & b  & c & c \\\\\n",
    "a & b  & c &  d\n",
    "\\end{matrix} \\right) $.\n",
    "Find four conditions on a,b,c,d to get A=LU with four pivots."
   ]
  },
  {
   "cell_type": "markdown",
   "metadata": {},
   "source": [
    "Problem 8.  First computation of a singular value decomposition. <br>\n",
    "\n",
    "\n",
    "Here we wish for you to become familiar with an SVD by changing the m and n from what appears here\n",
    "and testing that the results have the required properties.  You merely need to execute and turn in\n",
    "a screen shot. Describe in a few words what kind of matrix is U, V, and diagm(Σ) for your chosen m and n.\n",
    "Say sizes, and use words like orthogonal, tall skinny orthogonal, diagonal, triangular etc."
   ]
  },
  {
   "cell_type": "markdown",
   "metadata": {},
   "source": [
    "One version of the SVD produces $$ A = U * Diagonal(\\Sigma) * V',$$ where  $U'U=I$, $V'V=I$, $\\Sigma=(\\sigma_1,\\sigma_2,...)$ with $\\sigma_1 \\ge \\sigma_2 \\ge ... \\gt 0$.  <br>\n",
    "$U$ is $m \\times n$ and $V$ is $n \\times n$ if $ m \\ge n$, and \n",
    "$U$ is $m \\times m$ and $V$ is $n \\times m$ if $ m \\lt n$."
   ]
  },
  {
   "cell_type": "code",
   "execution_count": 1,
   "metadata": {},
   "outputs": [
    {
     "data": {
      "text/plain": [
       "3-element Array{Float64,1}:\n",
       " 2.0908607204660132\n",
       " 0.5438073613767322\n",
       " 0.1985541583756679"
      ]
     },
     "metadata": {},
     "output_type": "display_data"
    }
   ],
   "source": [
    "using LinearAlgebra\n",
    "A = rand(5,3)\n",
    "U,Σ,V = svd(A)\n",
    "display(Σ)"
   ]
  },
  {
   "cell_type": "code",
   "execution_count": 2,
   "metadata": {},
   "outputs": [
    {
     "data": {
      "text/plain": [
       "true"
      ]
     },
     "execution_count": 2,
     "metadata": {},
     "output_type": "execute_result"
    }
   ],
   "source": [
    "U'U ≈ I"
   ]
  },
  {
   "cell_type": "code",
   "execution_count": 3,
   "metadata": {},
   "outputs": [
    {
     "data": {
      "text/plain": [
       "true"
      ]
     },
     "execution_count": 3,
     "metadata": {},
     "output_type": "execute_result"
    }
   ],
   "source": [
    "V'V ≈ I"
   ]
  },
  {
   "cell_type": "code",
   "execution_count": 4,
   "metadata": {},
   "outputs": [
    {
     "data": {
      "text/plain": [
       "true"
      ]
     },
     "execution_count": 4,
     "metadata": {},
     "output_type": "execute_result"
    }
   ],
   "source": [
    "# A ≈ U * diagm(Σ) * V'\n",
    "A ≈ U * Diagonal(Σ) * V'"
   ]
  },
  {
   "cell_type": "markdown",
   "metadata": {},
   "source": [
    "Problem 9. Suppose a square $A$ has an LU factorization $A=LU$ where $L$ and $U$ are invertible. If $A=QR$, what is $r_{11}$ in terms of possibly elements of $L$ and $U$?\n"
   ]
  },
  {
   "cell_type": "markdown",
   "metadata": {},
   "source": [
    "Problem 10 .  Suppose an n x 2 matrix $A$ is written as $QR$, where $Q$ is a tall-skinny orthogonal matrix and is also n x 2 and R = $ \\left( \\begin{matrix} 1 & 3 \\\\ 0 & 4 \\end{matrix} \\right)  $<br>"
   ]
  },
  {
   "cell_type": "markdown",
   "metadata": {},
   "source": [
    "What is the norm of the second column of $A$? Briefly explain?"
   ]
  },
  {
   "cell_type": "code",
   "execution_count": null,
   "metadata": {},
   "outputs": [],
   "source": []
  }
 ],
 "metadata": {
  "kernelspec": {
   "display_name": "Julia 1.3.1",
   "language": "julia",
   "name": "julia-1.3"
  },
  "language_info": {
   "file_extension": ".jl",
   "mimetype": "application/julia",
   "name": "julia",
   "version": "1.3.1"
  }
 },
 "nbformat": 4,
 "nbformat_minor": 2
}
