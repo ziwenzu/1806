{
 "cells": [
  {
   "cell_type": "markdown",
   "metadata": {},
   "source": [
    "Due Friday night  March 4th "
   ]
  },
  {
   "cell_type": "markdown",
   "metadata": {},
   "source": [
    "1) Let A be an arbitrary square n x n matrix.\n"
   ]
  },
  {
   "cell_type": "markdown",
   "metadata": {},
   "source": [
    "Are the singular values of $A^2$ necessarily the same as the squares of the singular values of A?  (either find a counterexample by hand or with julia, or prove that it is always the case, or demonstrate with enough examples to be convicing with julia)"
   ]
  },
  {
   "cell_type": "markdown",
   "metadata": {},
   "source": [
    "Answer: No. Counterexample: Let $A=\\begin{pmatrix}0&0\\\\1&0\\end{pmatrix}$ with the full SVD as $A=\\begin{pmatrix}0\\\\1\\end{pmatrix}(1)\\begin{pmatrix}1&0\\end{pmatrix}$. So the singular value of $A$ is $1$.\n",
    "$A^2=\\begin{pmatrix}0& 0\\\\0&0\\end{pmatrix}(1)\n",
    "=\\begin{pmatrix}0\\\\1\\end{pmatrix}(1)\\begin{pmatrix}1&0\\end{pmatrix}\n",
    "\\begin{pmatrix}0\\\\1\\end{pmatrix}(1)\\begin{pmatrix}1&0\\end{pmatrix}\n",
    "=\\begin{pmatrix}0\\\\1\\end{pmatrix}(0)\\begin{pmatrix}1&0\\end{pmatrix}$ and thus the singular value is $0$."
   ]
  },
  {
   "cell_type": "markdown",
   "metadata": {},
   "source": [
    "2) Let A be an arbitrary  m x n matrix."
   ]
  },
  {
   "cell_type": "markdown",
   "metadata": {},
   "source": [
    "Are the singular values of $A^TA$ necessarily the same as the squares of the singular values of A?  (either find a counterexample by hand or with julia, or prove that it is always the case, or demonstrate with enough examples to be convicing with julia)"
   ]
  },
  {
   "cell_type": "markdown",
   "metadata": {},
   "source": [
    "Answer: Yes. Let the SVD of A be $A=U\\Sigma V^T$. Then $A^TA=V\\Sigma^T U^TU\\Sigma V^T= V\\Sigma^T\\Sigma V^T$. Since $\\Sigma$ is diagonal, we have $\\Sigma^T=\\Sigma$ and $\\Sigma^T\\Sigma$ is a diagonal matrix with the diagonal entries being squres of the diagoal entries of $\\Sigma$."
   ]
  },
  {
   "cell_type": "markdown",
   "metadata": {},
   "source": [
    "3) Suppose we have the rank-r svd of a rank 1 matrix  $A = U\\Sigma V^T$. Describe the nullspace of $A$ in terms of possibly U, $\\Sigma$, and V."
   ]
  },
  {
   "cell_type": "markdown",
   "metadata": {},
   "source": [
    "Answer: The nullspace of A is the same as the nullspace of $V^T$. Since $A$ is rank $1$, $V$ is a vector. So the nullspace of $V^T$ is a hyperplane given by $V^T x=0$, i.e., the space of all the vectors that are perpendicular to $V$."
   ]
  },
  {
   "cell_type": "markdown",
   "metadata": {},
   "source": [
    "4) Let A be the matrix below with the full SVD (Note: numbers with an e-16 or e-15 may be considered to be 0)"
   ]
  },
  {
   "cell_type": "code",
   "execution_count": 3,
   "metadata": {},
   "outputs": [
    {
     "data": {
      "text/plain": [
       "3×3 Array{Int64,2}:\n",
       "  1   4   2\n",
       "  2   8   4\n",
       " -1  -4  -2"
      ]
     },
     "execution_count": 3,
     "metadata": {},
     "output_type": "execute_result"
    }
   ],
   "source": [
    "A = [ 1 4 2;2 8 4; -1 -4 -2]"
   ]
  },
  {
   "cell_type": "code",
   "execution_count": 4,
   "metadata": {},
   "outputs": [
    {
     "data": {
      "text/plain": [
       "3×3 Array{Float64,2}:\n",
       " -0.408248   0.912871  7.81735e-17\n",
       " -0.816497  -0.365148  0.447214   \n",
       "  0.408248   0.182574  0.894427   "
      ]
     },
     "metadata": {},
     "output_type": "display_data"
    },
    {
     "data": {
      "text/plain": [
       "3-element Array{Float64,1}:\n",
       " 11.22497216032183     \n",
       "  4.845410522502476e-16\n",
       "  0.0                  "
      ]
     },
     "metadata": {},
     "output_type": "display_data"
    },
    {
     "data": {
      "text/plain": [
       "3×3 Adjoint{Float64,Array{Float64,2}}:\n",
       " -0.218218  -0.9759    0.0     \n",
       " -0.872872   0.19518  -0.447214\n",
       " -0.436436   0.09759   0.894427"
      ]
     },
     "metadata": {},
     "output_type": "display_data"
    }
   ],
   "source": [
    "using LinearAlgebra\n",
    "U,s,V =svd(A, full=true)\n",
    "display(U)\n",
    "display(s)\n",
    "display(V)"
   ]
  },
  {
   "cell_type": "markdown",
   "metadata": {},
   "source": [
    "4a. What is the rank of this matrix? <br>\n",
    "4b. For which right hand sides is Ax=b solvable?  (Find a condition on b₁,b₂,b₃)?"
   ]
  },
  {
   "cell_type": "markdown",
   "metadata": {},
   "source": [
    "Answer: 4a: 1 <br>\n",
    "4b: $Ax=b$ is solvable when $b$ is a scalar multiple of the first column of U. So the conditions are $b_3=-b_1$ and $b_2=2b_1$."
   ]
  },
  {
   "cell_type": "markdown",
   "metadata": {},
   "source": [
    " 5) Let A be the matrix below with the full SVD "
   ]
  },
  {
   "cell_type": "code",
   "execution_count": 6,
   "metadata": {},
   "outputs": [
    {
     "data": {
      "text/plain": [
       "3×2 Array{Int64,2}:\n",
       "  1   4\n",
       "  2   9\n",
       " -1  -4"
      ]
     },
     "execution_count": 6,
     "metadata": {},
     "output_type": "execute_result"
    }
   ],
   "source": [
    "A = [1 4; 2 9;-1 -4]"
   ]
  },
  {
   "cell_type": "code",
   "execution_count": 7,
   "metadata": {},
   "outputs": [
    {
     "data": {
      "text/plain": [
       "3×3 Array{Float64,2}:\n",
       " -0.377924   0.59764    0.707107   \n",
       " -0.84519   -0.534466  -1.38778e-15\n",
       "  0.377924  -0.59764    0.707107   "
      ]
     },
     "metadata": {},
     "output_type": "display_data"
    },
    {
     "data": {
      "text/plain": [
       "2-element Array{Float64,1}:\n",
       " 10.907941643728067  \n",
       "  0.12964990174715935"
      ]
     },
     "metadata": {},
     "output_type": "display_data"
    },
    {
     "data": {
      "text/plain": [
       "2×2 Adjoint{Float64,Array{Float64,2}}:\n",
       " -0.224261   0.974529\n",
       " -0.974529  -0.224261"
      ]
     },
     "metadata": {},
     "output_type": "display_data"
    }
   ],
   "source": [
    "using LinearAlgebra\n",
    "U,s,V =svd(A, full=true)\n",
    "display(U)\n",
    "display(s)\n",
    "display(V)"
   ]
  },
  {
   "cell_type": "markdown",
   "metadata": {},
   "source": [
    "5a. What is the rank of this matrix? <br>\n",
    "5b. For which right hand sides is Ax=b solvable? (Find a condition on b₁,b₂,b₃)?"
   ]
  },
  {
   "cell_type": "markdown",
   "metadata": {},
   "source": [
    "Answer: 5a: 2<br>\n",
    "5b: $Ax=b$  is solvable when $𝑏$ is a linear combination of the two columns of $U$. Thus the condition is $b_3=-b_1$."
   ]
  },
  {
   "cell_type": "markdown",
   "metadata": {},
   "source": [
    "(6) Explain why the set of singular matrices is not a subspace."
   ]
  },
  {
   "cell_type": "markdown",
   "metadata": {},
   "source": [
    "Answer: It is not a subspace since it is not closed under addition. Two singluar matrices sum up may get a nonsingular matrix. For example, $\\begin{pmatrix}1&0\\\\0&0\\end{pmatrix}+ \\begin{pmatrix}0&0\\\\0&1\\end{pmatrix}=\\begin{pmatrix}1&0\\\\0&1\\end{pmatrix}$."
   ]
  },
  {
   "cell_type": "markdown",
   "metadata": {},
   "source": [
    "(7) If the 9x12 system Ax=b is solvable for every b then the column space of A is .......?"
   ]
  },
  {
   "cell_type": "markdown",
   "metadata": {},
   "source": [
    "Answer: The space of all the $9\\times 1$ vectors."
   ]
  },
  {
   "cell_type": "markdown",
   "metadata": {},
   "source": [
    "(8) GS p143 3.2 15 done with the svd on a computer: <br>\n",
    "\n",
    "Construct a matrix for which N(A) = all combinations of (2,2,1,0) and (3,1,0,1)"
   ]
  },
  {
   "cell_type": "markdown",
   "metadata": {},
   "source": [
    "Step 1: Find an orthogonal matrix whose first two columns are linear combinations of the given vectors:<br>\n",
    "Notice that we input a 4x2 matrix but Julia's QR returns a complete square orthgonal matrix who first two columns are the Q we saw in class."
   ]
  },
  {
   "cell_type": "code",
   "execution_count": null,
   "metadata": {},
   "outputs": [],
   "source": [
    "using LinearAlgebra\n",
    "N = [2 3\n",
    "     2 1\n",
    "     1 0\n",
    "     0 1];\n",
    "Q, = qr(N) # we don't need R just the \"Q\"\n",
    "W = Q[:,[3,4]] # take the last two columns of Q ( \" [3,4] \" means take column 3 and 4, note that the commas are needed)"
   ]
  },
  {
   "cell_type": "markdown",
   "metadata": {},
   "source": [
    "Step 2: W' immediately gives a right answer.  Let's check this."
   ]
  },
  {
   "cell_type": "code",
   "execution_count": 20,
   "metadata": {},
   "outputs": [
    {
     "data": {
      "text/plain": [
       "2×2 Array{Float64,2}:\n",
       " -1.11022e-16  -1.66533e-16\n",
       " -8.32667e-17   3.33067e-16"
      ]
     },
     "execution_count": 20,
     "metadata": {},
     "output_type": "execute_result"
    }
   ],
   "source": [
    "W'N"
   ]
  },
  {
   "cell_type": "code",
   "execution_count": null,
   "metadata": {},
   "outputs": [],
   "source": [
    "using LinearAlgebra\n",
    "U,s,V =svd(A, full=true)\n",
    "display(U)\n",
    "display(s)\n",
    "display(V)"
   ]
  },
  {
   "cell_type": "markdown",
   "metadata": {},
   "source": [
    "Understanding that the last two columns of Q are the completion of the left part to an orthogonal matrix explain why this worked."
   ]
  },
  {
   "cell_type": "markdown",
   "metadata": {},
   "source": [
    "Answer: Write the columns of $N$ as $N_1, N_2$. We want to show that $W^Tx=0$ if and only if $x$ is a linear combination of $N_1$ and $N_2$.<br>\n",
    "Write the columns of the orthogonal matrix $Q$ as $Q_1, \\cdots, Q_4$.\n",
    "Note that the space of all the linear combination of  $Q_1$ and $Q_2$ is the same as the space of all the linear combination of $N_1$ and $N_2$.\n",
    "So the above statement is equivalent to $W^Tx=0$ if and only if $x$ is a linear combination of $Q_1$ and $Q_2$.<br>\n",
    "1). If $x$ is a linear combination of $Q_1$ and $Q_2$, then $x= \\begin{pmatrix}Q_1,Q_2\\end{pmatrix}b$, where $b$ is $2\\times 1$ vector.\n",
    "Note $Q$ is an orthogonal matrix. Then $Q_i\\cdot Q_j=0$ for $i\\neq j$, i.e., $Q_i^T Q_j=0$. Thus $W^Tx=\\begin{pmatrix}Q_3^T\\\\ Q_4^T\\end{pmatrix}(x)=\\begin{pmatrix}Q_3^T\\\\ Q_4^T\\end{pmatrix}\\begin{pmatrix}Q_1,Q_2\\end{pmatrix}b=0$.<br>\n",
    "2) For the other direction, assume $W^Tx=0$. Let M be $Q[:,[1,2]]$.Note that $ I=QQ^T=MM^T+WW^T$. So we have $x=(MM^T+WW^T)x=(M(M^Tx)+ W(W^Tx))= M(M^Tx)$ thus is a linear combination of $Q_1$ and $Q_2$."
   ]
  },
  {
   "cell_type": "markdown",
   "metadata": {},
   "source": [
    "(9) (Julia  submit a screenshot problem) GS p143 3.2 16: <br>\n",
    "With Julia construct A so that the nullspace of A = all multiples of (4,3,2,1).  Its rank is .....  ?\n"
   ]
  },
  {
   "cell_type": "code",
   "execution_count": 25,
   "metadata": {},
   "outputs": [
    {
     "data": {
      "text/plain": [
       "4-element Array{Int64,1}:\n",
       " 4\n",
       " 3\n",
       " 2\n",
       " 1"
      ]
     },
     "execution_count": 25,
     "metadata": {},
     "output_type": "execute_result"
    }
   ],
   "source": [
    "using LinearAlgebra\n",
    "N = [4\n",
    "     3\n",
    "     2\n",
    "     1]\n",
    "# Please finish the computation following problem 8 as a template"
   ]
  },
  {
   "cell_type": "code",
   "execution_count": 26,
   "metadata": {},
   "outputs": [],
   "source": [
    "# please provide a screenshot of your check"
   ]
  },
  {
   "cell_type": "markdown",
   "metadata": {},
   "source": [
    "Answer: 3."
   ]
  },
  {
   "cell_type": "code",
   "execution_count": 1,
   "metadata": {},
   "outputs": [
    {
     "data": {
      "text/plain": [
       "4×3 Array{Float64,2}:\n",
       " -0.547723   -0.365148  -0.182574 \n",
       "  0.826619   -0.115587  -0.0577936\n",
       " -0.115587    0.922942  -0.038529 \n",
       " -0.0577936  -0.038529   0.980735 "
      ]
     },
     "execution_count": 1,
     "metadata": {},
     "output_type": "execute_result"
    }
   ],
   "source": [
    "using LinearAlgebra\n",
    "N = [4\n",
    "     3\n",
    "     2\n",
    "     1];\n",
    "Q,=qr(N)\n",
    "W = Q[:,[2,3,4]]"
   ]
  },
  {
   "cell_type": "code",
   "execution_count": 2,
   "metadata": {},
   "outputs": [
    {
     "data": {
      "text/plain": [
       "3-element Array{Float64,1}:\n",
       " 4.440892098500626e-16\n",
       " 2.220446049250313e-16\n",
       " 2.220446049250313e-16"
      ]
     },
     "execution_count": 2,
     "metadata": {},
     "output_type": "execute_result"
    }
   ],
   "source": [
    "W'N"
   ]
  },
  {
   "cell_type": "code",
   "execution_count": 3,
   "metadata": {},
   "outputs": [
    {
     "data": {
      "text/plain": [
       "3-element Array{Float64,1}:\n",
       " 1.0               \n",
       " 1.0               \n",
       " 0.9999999999999999"
      ]
     },
     "metadata": {},
     "output_type": "display_data"
    }
   ],
   "source": [
    "using LinearAlgebra\n",
    "U,s,V =svd(W, full=true)\n",
    "display(s)"
   ]
  },
  {
   "cell_type": "markdown",
   "metadata": {},
   "source": [
    "(10) Use the svd to explain why no 3x3 matrix have a nullspace that equals its column space."
   ]
  },
  {
   "cell_type": "markdown",
   "metadata": {},
   "source": [
    "Answer: Let $A$ be a $3\\times 3$ matrix with the full SVD writen in block matrices: $A=\\begin{pmatrix}U_1&U_2\\end{pmatrix}\\begin{pmatrix}\\Sigma & 0\\\\0& 0\\end{pmatrix} \\begin{pmatrix}V^1 &V^2\\end{pmatrix}^T$, where $r$ is the rank of $A$. The nullspace is given by $V_2$, which is generated by $3-r$ vectors. The column space is given by $U_1$, which is generated by $r$ vectors. Since $3-r\\neq r$ for all integer $r$, the nullspace is not equal to the column space."
   ]
  }
 ],
 "metadata": {
  "kernelspec": {
   "display_name": "Julia 1.3.1",
   "language": "julia",
   "name": "julia-1.3"
  },
  "language_info": {
   "file_extension": ".jl",
   "mimetype": "application/julia",
   "name": "julia",
   "version": "1.3.1"
  }
 },
 "nbformat": 4,
 "nbformat_minor": 2
}
