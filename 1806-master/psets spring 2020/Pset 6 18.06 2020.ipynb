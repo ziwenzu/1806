{
 "cells": [
  {
   "cell_type": "markdown",
   "metadata": {},
   "source": [
    "Pset 6: Due Monday April 6"
   ]
  },
  {
   "cell_type": "markdown",
   "metadata": {},
   "source": [
    "(1.) GS p. 161 Problem 24) Give examples of matrices A for which the number of solutions to Ax=b is <br>\n",
    "(a) 0 or 1, depending on b <br>\n",
    "(b) $\\infty$, regardless of b <br>\n",
    "(c) 0 or $\\infty$, depending on b <br>\n",
    "(d) 1, regardless of b"
   ]
  },
  {
   "cell_type": "markdown",
   "metadata": {},
   "source": [
    "(2)  Inspired by GS p163 Problem 34. Suppose A is 3x4 and the nullspace consists of multiples of s = (2,3,1,0). <br>"
   ]
  },
  {
   "cell_type": "markdown",
   "metadata": {},
   "source": [
    "(a) What are the dimensions of the four fundamental subspaces? <br>\n",
    "(b) How do you know that $Ax=b$ can be solved for all b?"
   ]
  },
  {
   "cell_type": "markdown",
   "metadata": {},
   "source": [
    "(3) GS p.177 Problem 18.  Suppose $v_1,v_2,\\ldots,v_6$ are six vectors in $R^4$. <br>\n",
    "(a) Those vectors (do)(do not)(might not) span $R^4$. <br>\n",
    "(b) Those vectors (are)(are not) (might be) linearly independent. <br>\n",
    "(c) Any four of those vectores (are)(are not)(might be) a basis for $R^4$."
   ]
  },
  {
   "cell_type": "markdown",
   "metadata": {},
   "source": [
    "(4)Inspired by GS p.192 Problem 21.  Under what possible conditions is the matrix $A=uv^T+wz^T$ not of rank 2?"
   ]
  },
  {
   "cell_type": "markdown",
   "metadata": {},
   "source": [
    "(5) GS p.203 Inspired by Problem 10.  If $A$ is symmetric, why is the column space perpendicular to the nullspace? "
   ]
  },
  {
   "cell_type": "markdown",
   "metadata": {},
   "source": [
    "(6) GS p.202 Problem 4. If $AB=0$ then the columns of B are in the [--2 words--] of A.  The rows of A are in the [--2 words--] of B.  With AB=0,  why can't A and B be 3x3 matrices of rank 2?"
   ]
  },
  {
   "cell_type": "markdown",
   "metadata": {},
   "source": [
    "(7) GS p.204 Problem 24. Suppose an mxn matrix is invertible: $AA^{-1}=I$.  Then the first column of $A^{-1}$ is orthogonal to the space spanned by which rows of $A$?"
   ]
  },
  {
   "cell_type": "markdown",
   "metadata": {},
   "source": [
    "(8) A matrix is m x n what are the possible dimensions?<br>\n",
    "(A) dim(col(A))?<br>\n",
    "(B) dim(row(A))+dim(null(A))?<br>\n",
    "(C) the sum of the dimensions of the four fundamental subspaces?<br>\n",
    "(D) dim(col(A)) + dim(row(A))?"
   ]
  },
  {
   "cell_type": "markdown",
   "metadata": {},
   "source": [
    "(9)Suppose y₁(x),y₂(x),y₃(x),y₄(x) are four non-zero polynomials of degree at most 2. (This means the functions have the form ax²+bx+c, where at least one of the coefficients is nonzero.) What possibilities are there in the dimension of the vector space spanned by y₁(x),y₂(x),y₃(x),y₄(x)? Give examples for each possibility and explain briefly why no other dimension can happen."
   ]
  },
  {
   "cell_type": "markdown",
   "metadata": {},
   "source": [
    "(10)  A reflector is defined as a matrix of the form $Q=I−2uu^T$ where ‖u‖=1.  <br>(A) Show that a reflector is orthogonal by showing that Q is symmetric and $Q^2=I$. <br>(B) Explain briefly why this makes Q orthogonal."
   ]
  },
  {
   "cell_type": "code",
   "execution_count": null,
   "metadata": {},
   "outputs": [],
   "source": []
  }
 ],
 "metadata": {
  "kernelspec": {
   "display_name": "Julia 1.4.0",
   "language": "julia",
   "name": "julia-1.4"
  },
  "language_info": {
   "file_extension": ".jl",
   "mimetype": "application/julia",
   "name": "julia",
   "version": "1.4.0"
  }
 },
 "nbformat": 4,
 "nbformat_minor": 2
}
