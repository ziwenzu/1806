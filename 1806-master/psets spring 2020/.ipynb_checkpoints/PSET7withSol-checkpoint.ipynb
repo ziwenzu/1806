{
 "cells": [
  {
   "cell_type": "markdown",
   "metadata": {},
   "source": [
    "Pset 7 Due April 13"
   ]
  },
  {
   "cell_type": "markdown",
   "metadata": {},
   "source": [
    "(1) GS p.216 17.  If $P^2=P$ show that $(I-P)^2=I-P$.  When $P$ projects onto the column space of $A$$, what does $I-P$ project onto?"
   ]
  },
  {
   "cell_type": "markdown",
   "metadata": {},
   "source": [
    "## A) $(I-P)^2 = I - 2P + P^2 = I - 2P + P = I - P$. So $I-P$ is another projection matrix. "
   ]
  },
  {
   "cell_type": "markdown",
   "metadata": {},
   "source": [
    "(2) GS p.217 22. Knowing that the inverse of a symmetric matrix is symmetric, prove that  projection matrices are symmetric by showing that $P=A(A^TA)^{-1}A^T$ is symmetric.  Do this by showing that $P^T=P$."
   ]
  },
  {
   "cell_type": "markdown",
   "metadata": {},
   "source": [
    "(3) GS p. 214 1. Project the vector $b$ onto the line through $a$. Check that $e$ is perpendicular to $a$.\n",
    "<br>\n",
    "(a) b=[1;2;2] and a=[1;1;1] (semicolons indicate column vectors) <br>\n",
    "(b) b=[1;3;1] and a=[-1;-3;-1] <br>\n"
   ]
  },
  {
   "cell_type": "markdown",
   "metadata": {},
   "source": [
    "(4) GS p. 254 3. True or False, with a reason if true or a counterexample if false <br>\n",
    "(Notation: $|A|=\\det(A)$.) <br>\n",
    "(a) The determinant of $I+A$ is $1+\\det A$. <br>\n",
    "(b) The determinant of $ABC$ is $|A||B||C|$. <br>\n",
    "(c) The determinant of $4A$ is $4 |A|$. <br>\n",
    "(d) The determinant of $AB-BA$ is always zero. (Maybe try A=[0 0;0 1])"
   ]
  },
  {
   "cell_type": "markdown",
   "metadata": {},
   "source": [
    "(5) GS p 255 12. The inverse of a 2x2 matrix seems to have determinant = 1:\n",
    "$$ \\det A^{-1} = \\det \\frac{1}{ad-bc} \\left[ \\begin{array}{rr} d & -b \\\\ -c & a \\end{array} \\right]=\n",
    "\\frac{ad-bc}{ad-bc}=1.$$\n",
    "What is wrong with this calculation? What is the correct $\\det A^{-1}$?"
   ]
  },
  {
   "cell_type": "markdown",
   "metadata": {},
   "source": [
    "(6)  A Hadamard matrix H is a matrix with entries ±1 and orthogonal columns. What is the determinant of H as a function of n?\n",
    "(Hadamard matrices are conjectured to exist for every n that is a multiple of 4, but nobody knows if there is such a matrix even for n=668)\n",
    "(See [mathoverflow](https://mathoverflow.net/questions/85201/status-of-hadamard-matrix-conjecture) for example.) If you stumble on a Hadamard matrix of size 668 please let us know. (Extremely unlikely don't waste much time looking.)"
   ]
  },
  {
   "cell_type": "markdown",
   "metadata": {},
   "source": [
    "(7a)\n",
    " How many row exchanges would turn this \"4-cycle\" permutation matrix into I: <br>\n",
    "        $$\\begin{pmatrix} 0 & 1 & 0 & 0 \\\\\n",
    "     0 & 0 & 1 & 0 \\\\\n",
    "    0 & 0 & 0 & 1 \\\\\n",
    "    1 & 0 & 0 & 0\n",
    "    \\end{pmatrix}.$$"
   ]
  },
  {
   "cell_type": "markdown",
   "metadata": {},
   "source": [
    "(7b)(2b)There are 12 edge pieces on a Rubik's cube: ![cubie](edges.png)  An edge piece always has two colored stickers on the two visible faces. <br>  There are also 8 corner pieces\n",
    "![corners.](corners.png)  The corners always have three colored stickers on the three visible faces."
   ]
  },
  {
   "cell_type": "markdown",
   "metadata": {},
   "source": [
    "Imagine numbering the edge pieces on a solved cube from 1 to 12. Propose a method to encode the position with a 12x12 permutation matrix when the puzzle has evolved. (You may also start to think, but no need to write anything down, how you can do the same with corner pieces numbered 1 to 8 using an 8x8 permutation matrix.)"
   ]
  },
  {
   "cell_type": "markdown",
   "metadata": {},
   "source": [
    "(7c) A move is defined as a quarter turn of a face. (A half turn is thus two moves.) Use the result in (7a) and what you know about determinants to prove that if you start with a solved cube and apply $k$ moves to return to the solved state, then $k$ must be even."
   ]
  },
  {
   "cell_type": "markdown",
   "metadata": {},
   "source": [
    "(7d) Argue that if you plucked out two edge pieces, interchanged them, and put them back in, the cube would be unsolvable.  (Hint: Argue that the determinants are the same for the 12x12 and 8x8 permutation matrices for the edges and the corners.  Therefore if the edge determinant tells us that we need an odd number of moves to solve the cube, \n",
    "the corner would tell us we simultaneously need an even number, which is impossible.)"
   ]
  },
  {
   "cell_type": "markdown",
   "metadata": {},
   "source": [
    "(7e)  Does the same argument work for the eight corner pieces (you'll need an 8x8 permutation matrix)?  (A corner piece has three exposed color faces.) Explain briefly?"
   ]
  },
  {
   "cell_type": "markdown",
   "metadata": {},
   "source": [
    "(7f)  Does the same argument work if you would interchange the two colored stickers on any one edge?"
   ]
  },
  {
   "cell_type": "markdown",
   "metadata": {},
   "source": [
    "(7g) Does the same argument work if you would permute the three colored stickers on any one corner?"
   ]
  },
  {
   "cell_type": "markdown",
   "metadata": {},
   "source": [
    "(8) If $\\det A = -1$, does that mean that $A$ is orthogonal? Explain why or provide a counterexample if it is false."
   ]
  },
  {
   "cell_type": "code",
   "execution_count": null,
   "metadata": {},
   "outputs": [],
   "source": []
  }
 ],
 "metadata": {
  "kernelspec": {
   "display_name": "Python 3",
   "language": "python",
   "name": "python3"
  },
  "language_info": {
   "codemirror_mode": {
    "name": "ipython",
    "version": 3
   },
   "file_extension": ".py",
   "mimetype": "text/x-python",
   "name": "python",
   "nbconvert_exporter": "python",
   "pygments_lexer": "ipython3",
   "version": "3.7.1"
  }
 },
 "nbformat": 4,
 "nbformat_minor": 2
}
