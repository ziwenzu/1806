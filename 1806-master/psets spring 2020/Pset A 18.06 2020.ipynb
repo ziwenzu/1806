{
 "cells": [
  {
   "cell_type": "markdown",
   "metadata": {},
   "source": [
    "Pset A (Required More Substantial Pset, not droppable)   Due Wednesday April 22.  You may use all available materials.  Some collaboration allowed but do your own work.  "
   ]
  },
  {
   "cell_type": "markdown",
   "metadata": {},
   "source": [
    "(1) Compute the projection matrices $\\frac{aa^T}{a^Ta}$ onto the lines through $a_1=(-1,2,2)\\in R^3$ and $a_2=(2,2,-1)\\in R^3$. Multiply those projection matrices and explain why their product $P_1P_2$ is what it is.  "
   ]
  },
  {
   "cell_type": "markdown",
   "metadata": {},
   "source": [
    "(2) A is an $m$ by $n$ matrix of rank $r$.  Suppose there are right hand sides $b$ for which $Ax=b$ has no solution.  \n",
    "\n",
    "(a) What are all inequalities ($<$ or $\\le$) that must be true between $m,n$ and $r$?  \n",
    "(b) How do you know that $A^T y=0$ has solutions other than $y=0$?"
   ]
  },
  {
   "cell_type": "markdown",
   "metadata": {},
   "source": [
    "(3) Show that if $Q$ is nxn  orthogonal, $\\det(Q)=\\pm 1$ "
   ]
  },
  {
   "cell_type": "markdown",
   "metadata": {},
   "source": [
    "(4) We have"
   ]
  },
  {
   "cell_type": "code",
   "execution_count": 4,
   "metadata": {},
   "outputs": [
    {
     "data": {
      "text/plain": [
       "3×3 Array{Float64,2}:\n",
       " 2.19565   -0.00886362  -0.386611\n",
       " 1.03165    1.18653     -0.776745\n",
       " 0.889864   1.95349      1.16022"
      ]
     },
     "execution_count": 4,
     "metadata": {},
     "output_type": "execute_result"
    }
   ],
   "source": [
    "using LinearAlgebra\n",
    "U, = qr(rand(3,3))\n",
    "V, = qr(rand(3,3))\n",
    "D  = Diagonal([3,2,1])\n",
    "A = U*D*V'"
   ]
  },
  {
   "cell_type": "markdown",
   "metadata": {},
   "source": [
    "We have $\\det(A)=\\pm$(what number?) Why?"
   ]
  },
  {
   "cell_type": "markdown",
   "metadata": {},
   "source": [
    "(5)  $Q$ is a tall skinny 3x2 matrix. ($Q^TQ=I$)  A picture of a corgi sits on the unit square in $R^2$. Describe carefully but briefly the image of this picture under $Q$. (What is the shape? What is the area? Where are the vertices?)"
   ]
  },
  {
   "cell_type": "markdown",
   "metadata": {},
   "source": [
    "(6)  A solid box has volume 10 cubic meters.  What is the shape of the image of the box under the transformation $A$ in question (4) above.  What is the volume of this image?"
   ]
  },
  {
   "cell_type": "markdown",
   "metadata": {},
   "source": [
    "(7) Suppose $A=U\\Sigma V^T$ is the rank-r svd of an mxn matrix $A$.\n",
    "Write $x_r=$ the projection of x onto the rowspace of $A$ in terms of possibly $x$, $U$, or $V$."
   ]
  },
  {
   "cell_type": "markdown",
   "metadata": {},
   "source": [
    "(8) As in (7), write $x_n$=projection of $x$ on the left nullspace of $A$ in terms of possibly $x$,$U$,$V$."
   ]
  },
  {
   "cell_type": "markdown",
   "metadata": {},
   "source": [
    "(9) As above, what is $x_r+x_n$ in simple terms?"
   ]
  },
  {
   "cell_type": "markdown",
   "metadata": {},
   "source": [
    "(10)As above, suppose $Ax_r=b$, what is $Ax$ in simplest form?"
   ]
  },
  {
   "cell_type": "markdown",
   "metadata": {},
   "source": [
    "(11) As above, if $Ax_r=b$, is $b$ in the column space of $U$? Why or why not?"
   ]
  },
  {
   "cell_type": "markdown",
   "metadata": {},
   "source": [
    "(12) Using  the rank-r SVD, if $b$ is in col($A$), what is the unique solution in row($A$) to $Ax=b$?"
   ]
  },
  {
   "cell_type": "markdown",
   "metadata": {},
   "source": [
    "(13) Use the fact that swapping two rows of a matrix $A$ flips the sign of a determinant to show that det($A$)=0 if $A$ has two equal rows."
   ]
  },
  {
   "cell_type": "markdown",
   "metadata": {},
   "source": [
    "(14) Am I a linear transformation? (A linear transformation is a function $f$ from one\n",
    "    vector space to another that satisfies $f(c_1x_1+c_2x_2)=c_1f(x_1)+c_2 f(x_2)$."
   ]
  },
  {
   "cell_type": "markdown",
   "metadata": {},
   "source": [
    "(14a) $f(A)=trace(A)$ from $n\\times n$ A to $R$  \n",
    "(14b) $f(A)=\\det(A)$  \n",
    "(14c) $f(x)=c^Tx$ for $x \\in R^n$ (c constant in $R^n$)  \n",
    "(14d) $f(A)=M^TA$, for $m \\times n$ $A$ and constant $M$ with $n$ columns.  \n",
    "(14e) $f(A)=X^T A Y$ for $m \\times n$ $A$ and compatible constant matrices $X$ and $Y$  \n",
    "(14f) $f(A) = A^TA$ for $m \\times n$ $A$   \n",
    "(14g) $f(A)= A+A^T$ for $n \\times n$ $A$"
   ]
  },
  {
   "cell_type": "markdown",
   "metadata": {},
   "source": [
    "(15) Suppose $m \\times n$ $B$ has rank $m$.  Let $B = U\\Sigma V^T$ be the rank-r svd.\n",
    "What is $(BB^T)^{-1}?$"
   ]
  },
  {
   "cell_type": "code",
   "execution_count": null,
   "metadata": {},
   "outputs": [],
   "source": []
  }
 ],
 "metadata": {
  "@webio": {
   "lastCommId": null,
   "lastKernelId": null
  },
  "kernelspec": {
   "display_name": "Julia 1.4.0",
   "language": "julia",
   "name": "julia-1.4"
  },
  "language_info": {
   "file_extension": ".jl",
   "mimetype": "application/julia",
   "name": "julia",
   "version": "1.4.0"
  }
 },
 "nbformat": 4,
 "nbformat_minor": 2
}
