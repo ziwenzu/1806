{
 "cells": [
  {
   "cell_type": "markdown",
   "metadata": {},
   "source": [
    "Exam 1 will likely consist of problems that may be like the sample ones below in spirit, the problems in the psets, and material in the lectures. The number of problems will of course be fewer for a 50 minute exam. Also familiarizing yourselves with these sort of problems will, no doubt, make the exam itself easier.\n",
    "\n",
    "Exam 1 is in Walker on Friday February 28 during class hour in Walker.  It is closed book and covers material up to Friday February 21, Lecture 9.  There are no makeup exams.  There is a makeup paper and prorating possibility for students who are legitimitely unable to take the exam at most once per semester for emergency reasons.  It is not an alternative choice. Grade\n",
    "approximate cutoffs will be released Monday, March 2.\n",
    "\n",
    "Mark you calendars, the final for 18.06 is on Friday May 15 in the JNSN-Ice Rink.  Our final is the lucky early one.\n",
    "\n",
    "Feel free to ask any math questions on piazza.  Students are encouraged and welcome to answer."
   ]
  },
  {
   "cell_type": "markdown",
   "metadata": {},
   "source": [
    "1) Am I necessarily a vector space? Why or why not? (Argue that all real linear combinations are in the space, or zero or some other linear combination is not in the space.)"
   ]
  },
  {
   "cell_type": "markdown",
   "metadata": {},
   "source": [
    "1a. In ℝ³ the xy plane. <br>\n",
    "1b. All twice differentiable functions y(x) that satisfy y\"(x)=y(x).<br>\n",
    "1c. Given two m x n matrices A and B , all vectors x in ℝⁿ for which (A+B)x=0. <br>\n",
    "1d. All polynomials in x whose value at x=0 is either 0, 1806, or 2020.<br>\n",
    "1d. All  polynomials in x of the form (ax²+bx+c)  whose value at x=1806 is 0.<br>\n",
    "1e. All upper triangular 5x5 matrices whose entries add to 0.<br>\n",
    "1f. All 2x2 orthogonal matrices."
   ]
  },
  {
   "cell_type": "markdown",
   "metadata": {},
   "source": [
    "2) A 4x4 matrix has the following QR decomposition computed by Julia: "
   ]
  },
  {
   "cell_type": "code",
   "execution_count": 2,
   "metadata": {},
   "outputs": [],
   "source": [
    "using LinearAlgebra"
   ]
  },
  {
   "cell_type": "code",
   "execution_count": 51,
   "metadata": {},
   "outputs": [],
   "source": [
    "A = randn(4,4);"
   ]
  },
  {
   "cell_type": "code",
   "execution_count": 30,
   "metadata": {},
   "outputs": [
    {
     "data": {
      "text/plain": [
       "LinearAlgebra.QRCompactWY{Float64,Array{Float64,2}}\n",
       "Q factor:\n",
       "4×4 LinearAlgebra.QRCompactWYQ{Float64,Array{Float64,2}}:\n",
       " -0.0794061   0.562453   0.75994    0.315964\n",
       " -0.753917   -0.379036   0.365216  -0.393139\n",
       " -0.453098    0.71361   -0.46941   -0.25518 \n",
       " -0.469047   -0.175326  -0.262228   0.824919\n",
       "R factor:\n",
       "4×4 Array{Float64,2}:\n",
       " 1.7856   1.22595  -1.34356   -1.12008 \n",
       " 0.0     -0.68126   0.601194  -0.960545\n",
       " 0.0      0.0       2.3629     0.429161\n",
       " 0.0      0.0       0.0       -0.537463"
      ]
     },
     "execution_count": 30,
     "metadata": {},
     "output_type": "execute_result"
    }
   ],
   "source": [
    "Q,R = qr(A)"
   ]
  },
  {
   "cell_type": "markdown",
   "metadata": {},
   "source": [
    "2a. What is $\\|$ Q[:,1] $\\|$, (the norm of the first column of Q)? <br>\n",
    "2b. What is $\\|$ A[:,1] $\\|$, (the norm of the first column of A) to  four digits or so? <br>\n",
    "2c. What is the (4,4) entry of $Q^{-1}$. <br>\n",
    "2d. (Challenging) Write a simple numerical expression for the (4,4) entry of $R^{-1}$. <br>\n",
    "2e. Find a simple relationship between A'A and R'R."
   ]
  },
  {
   "cell_type": "markdown",
   "metadata": {},
   "source": [
    "3) Which of these matrix functions make sense (assume m≠n)?? \n",
    "\n",
    "3a. f(x) = W * W * x (where W is an m x n matrix, x is a length n vector) <br>\n",
    "3b. f(x) = W * x + b (where W is an m x n matrix, x is a length n vector, b is a length m vector)<br>\n",
    "3c. f(x) = x * W (where W is an m x n matrix, x is a length n vector)<br>\n",
    "3d. f(x) = sin.(W * x) (where W is an m x n matrix, x is a length n vector and the \".\" means take the sine of element of the vector W*x)<br>\n",
    "3e. f(x) = sin.(W) * x (where W is an m x n matrix, x is a length n vector)<br>\n",
    "3f. f(x) = σ.(x) where (where σ is the sigmoid function σ(t) = 1/(1+e^(-t)))<br>"
   ]
  },
  {
   "cell_type": "markdown",
   "metadata": {},
   "source": [
    "4) Let v ∈ Rⁿ  be a vector with no zero entries and let A be the the n+1 x n matrix that has v on the subdiagonal:\n",
    "\n",
    "$$ A = \\begin{pmatrix} 0  & 0 & \\ldots & 0\\\\ v_1 & 0\\\\ 0 & v_2 & \\\\ \\vdots \\\\ 0 &0 & \\ldots & v_n \\end{pmatrix}. $$"
   ]
  },
  {
   "cell_type": "markdown",
   "metadata": {},
   "source": [
    "4a) Let $b$ be a vector in $R^{n+1}$.  Ax=b has a solution if and only if ___________________ ( what is the condition on b)"
   ]
  },
  {
   "cell_type": "markdown",
   "metadata": {},
   "source": [
    "4b) assuming the condition on b is met, write a simple expression using the \"dot\" elementwise operation notation for the solution x.\n",
    "\n",
    "You might use b[2:n+1] as notation for [$b_2$,...,$b_{n+1}$]."
   ]
  },
  {
   "cell_type": "markdown",
   "metadata": {},
   "source": [
    "5) Suppose W is nxn, x and b are vectors of length n <br>\n",
    "5a. What do you expect is the comparison between the time spent computing W*x when n is 10000 vs n is 20000\n",
    "when W is a general square matrix? <br>\n",
    "5b. Suppose R is triangular, What do you expect is the comparison between the time spent solving  Rx=b when n is 10000 vs n is 20000?"
   ]
  },
  {
   "cell_type": "markdown",
   "metadata": {},
   "source": [
    " 6a. What 3x3 matrix E turns $\\begin{pmatrix} a \\\\b \\\\ c \\end{pmatrix}$ into  $\\begin{pmatrix} a \\\\3a+b \\\\ -5a+c \\end{pmatrix}$?"
   ]
  },
  {
   "cell_type": "markdown",
   "metadata": {},
   "source": [
    " 6b. What is the inverse of $E$ in 6a without any calculations?"
   ]
  },
  {
   "cell_type": "markdown",
   "metadata": {},
   "source": [
    "7).  Write the rank-r format svd of the nxn all ones matrix."
   ]
  },
  {
   "cell_type": "markdown",
   "metadata": {},
   "source": [
    "8a. For v ≠ 0, the set of solutions in Rⁿ to $v^Tx=b$ (where b is a scalar) is best generally described as a a) line b) sphere c) hyperplane d) normal?"
   ]
  },
  {
   "cell_type": "markdown",
   "metadata": {},
   "source": [
    "8b. Describe all vectors in the direction of the normal to your set in 8a as all c times $___________$"
   ]
  },
  {
   "cell_type": "markdown",
   "metadata": {},
   "source": [
    "8c.  Find a c in 8b which gives a solution to $v^Tx=b$."
   ]
  },
  {
   "cell_type": "markdown",
   "metadata": {},
   "source": [
    "8d. What is the length of the vector in 8c?"
   ]
  },
  {
   "cell_type": "markdown",
   "metadata": {},
   "source": [
    "8e. What is the distance from 0 to the set of solutions to $v^TX=b$?"
   ]
  },
  {
   "cell_type": "markdown",
   "metadata": {},
   "source": [
    "9) Find a QR decomposition to the diagonal matrix with entries 1,2,3,4.  (1 on the upper left)  Also find an svd.  (Be careful)"
   ]
  },
  {
   "cell_type": "markdown",
   "metadata": {},
   "source": [
    "10) Here is the svd of a random 2x2 matrix"
   ]
  },
  {
   "cell_type": "code",
   "execution_count": 56,
   "metadata": {},
   "outputs": [
    {
     "data": {
      "text/plain": [
       "2×2 Array{Float64,2}:\n",
       " 0.210605  0.757207\n",
       " 0.772477  0.440875"
      ]
     },
     "execution_count": 56,
     "metadata": {},
     "output_type": "execute_result"
    }
   ],
   "source": [
    "A = rand(2,2)"
   ]
  },
  {
   "cell_type": "code",
   "execution_count": 57,
   "metadata": {},
   "outputs": [
    {
     "data": {
      "text/plain": [
       "SVD{Float64,Float64,Array{Float64,2}}\n",
       "U factor:\n",
       "2×2 Array{Float64,2}:\n",
       " -0.643433  -0.765503\n",
       " -0.765503   0.643433\n",
       "singular values:\n",
       "2-element Array{Float64,1}:\n",
       " 1.0992892039060085\n",
       " 0.4476295939034664\n",
       "Vt factor:\n",
       "2×2 Array{Float64,2}:\n",
       " -0.661194  -0.750215\n",
       "  0.750215  -0.661194"
      ]
     },
     "execution_count": 57,
     "metadata": {},
     "output_type": "execute_result"
    }
   ],
   "source": [
    "U,s,V = svd(A)"
   ]
  },
  {
   "cell_type": "markdown",
   "metadata": {},
   "source": [
    "10a. Interpret the vector s geometrically."
   ]
  },
  {
   "cell_type": "markdown",
   "metadata": {},
   "source": [
    "10b. Interpret the columns of U geometrically"
   ]
  },
  {
   "cell_type": "markdown",
   "metadata": {},
   "source": [
    "10c. Interpret the columns of V and S in the context of A'"
   ]
  },
  {
   "cell_type": "markdown",
   "metadata": {},
   "source": [
    "11) Suppose A has two columns but they are colinear.  What can you conclude about the QR decomposion?"
   ]
  },
  {
   "cell_type": "markdown",
   "metadata": {},
   "source": [
    "12) If elimination breaks down , does that mean A does not have an inverse?  Argue yes, or give a counterexample."
   ]
  },
  {
   "cell_type": "code",
   "execution_count": null,
   "metadata": {},
   "outputs": [],
   "source": []
  }
 ],
 "metadata": {
  "kernelspec": {
   "display_name": "Julia 1.3.0",
   "language": "julia",
   "name": "julia-1.3"
  },
  "language_info": {
   "file_extension": ".jl",
   "mimetype": "application/julia",
   "name": "julia",
   "version": "1.3.0"
  }
 },
 "nbformat": 4,
 "nbformat_minor": 2
}
