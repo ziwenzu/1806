{
 "cells": [
  {
   "cell_type": "markdown",
   "metadata": {},
   "source": [
    "# Julia Basics\n",
    "\n",
    "This is a *basic* introduction to an IJulia notebook."
   ]
  },
  {
   "cell_type": "code",
   "execution_count": 1,
   "metadata": {},
   "outputs": [
    {
     "data": {
      "text/plain": [
       "2"
      ]
     },
     "execution_count": 1,
     "metadata": {},
     "output_type": "execute_result"
    }
   ],
   "source": [
    "1+1"
   ]
  },
  {
   "cell_type": "code",
   "execution_count": 2,
   "metadata": {},
   "outputs": [
    {
     "data": {
      "text/plain": [
       "3"
      ]
     },
     "execution_count": 2,
     "metadata": {},
     "output_type": "execute_result"
    }
   ],
   "source": [
    "x = 3"
   ]
  },
  {
   "cell_type": "code",
   "execution_count": 3,
   "metadata": {},
   "outputs": [
    {
     "data": {
      "text/plain": [
       "3"
      ]
     },
     "execution_count": 3,
     "metadata": {},
     "output_type": "execute_result"
    }
   ],
   "source": [
    "x"
   ]
  },
  {
   "cell_type": "code",
   "execution_count": 4,
   "metadata": {},
   "outputs": [
    {
     "data": {
      "text/plain": [
       "36.141120008059865"
      ]
     },
     "execution_count": 4,
     "metadata": {},
     "output_type": "execute_result"
    }
   ],
   "source": [
    "3*x + x^3 + sin(x)"
   ]
  },
  {
   "cell_type": "code",
   "execution_count": 5,
   "metadata": {},
   "outputs": [
    {
     "data": {
      "text/plain": [
       "3 + 4im"
      ]
     },
     "execution_count": 5,
     "metadata": {},
     "output_type": "execute_result"
    }
   ],
   "source": [
    "z = 3 + 4im"
   ]
  },
  {
   "cell_type": "code",
   "execution_count": 6,
   "metadata": {},
   "outputs": [
    {
     "data": {
      "text/plain": [
       "-117 + 44im"
      ]
     },
     "execution_count": 6,
     "metadata": {},
     "output_type": "execute_result"
    }
   ],
   "source": [
    "z^3"
   ]
  },
  {
   "cell_type": "code",
   "execution_count": 7,
   "metadata": {},
   "outputs": [
    {
     "data": {
      "text/plain": [
       "-13.128783081462158 - 15.200784463067954im"
      ]
     },
     "execution_count": 7,
     "metadata": {},
     "output_type": "execute_result"
    }
   ],
   "source": [
    "exp(z)"
   ]
  },
  {
   "cell_type": "code",
   "execution_count": 8,
   "metadata": {},
   "outputs": [
    {
     "data": {
      "text/plain": [
       "2.0 + 1.0im"
      ]
     },
     "execution_count": 8,
     "metadata": {},
     "output_type": "execute_result"
    }
   ],
   "source": [
    "sqrt(z)"
   ]
  },
  {
   "cell_type": "code",
   "execution_count": 9,
   "metadata": {},
   "outputs": [
    {
     "data": {
      "text/plain": [
       "0.0 + 1.4142135623730951im"
      ]
     },
     "execution_count": 9,
     "metadata": {},
     "output_type": "execute_result"
    }
   ],
   "source": [
    "sqrt(-2+0im)"
   ]
  },
  {
   "cell_type": "code",
   "execution_count": 10,
   "metadata": {},
   "outputs": [
    {
     "ename": "LoadError",
     "evalue": "\u001b[91mKeyError: key 12 not found\u001b[39m",
     "output_type": "error",
     "traceback": [
      "\u001b[91mKeyError: key 12 not found\u001b[39m",
      "",
      "Stacktrace:",
      " [1] \u001b[1mgetindex\u001b[22m\u001b[22m\u001b[1m(\u001b[22m\u001b[22m::Dict{Int64,Any}, ::Int64\u001b[1m)\u001b[22m\u001b[22m at \u001b[1m./dict.jl:474\u001b[22m\u001b[22m",
      " [2] \u001b[1minclude_string\u001b[22m\u001b[22m\u001b[1m(\u001b[22m\u001b[22m::String, ::String\u001b[1m)\u001b[22m\u001b[22m at \u001b[1m./loading.jl:515\u001b[22m\u001b[22m"
     ]
    }
   ],
   "source": [
    "abs(Out[12])"
   ]
  },
  {
   "cell_type": "code",
   "execution_count": 11,
   "metadata": {},
   "outputs": [
    {
     "data": {
      "text/plain": [
       "5.0"
      ]
     },
     "execution_count": 11,
     "metadata": {},
     "output_type": "execute_result"
    }
   ],
   "source": [
    "abs(3+4im)"
   ]
  },
  {
   "cell_type": "code",
   "execution_count": 12,
   "metadata": {},
   "outputs": [
    {
     "data": {
      "text/plain": [
       "3-element Array{Int64,1}:\n",
       " 1\n",
       " 2\n",
       " 3"
      ]
     },
     "execution_count": 12,
     "metadata": {},
     "output_type": "execute_result"
    }
   ],
   "source": [
    "x = [1,2,3]"
   ]
  },
  {
   "cell_type": "code",
   "execution_count": 13,
   "metadata": {},
   "outputs": [
    {
     "data": {
      "text/plain": [
       "1×3 Array{Int64,2}:\n",
       " 1  2  3"
      ]
     },
     "execution_count": 13,
     "metadata": {},
     "output_type": "execute_result"
    }
   ],
   "source": [
    "y = [1 2 3]"
   ]
  },
  {
   "cell_type": "code",
   "execution_count": 14,
   "metadata": {},
   "outputs": [
    {
     "data": {
      "text/plain": [
       "1-element Array{Int64,1}:\n",
       " 14"
      ]
     },
     "execution_count": 14,
     "metadata": {},
     "output_type": "execute_result"
    }
   ],
   "source": [
    "y * x"
   ]
  },
  {
   "cell_type": "code",
   "execution_count": 15,
   "metadata": {},
   "outputs": [
    {
     "data": {
      "text/plain": [
       "3×3 Array{Int64,2}:\n",
       " 1  2  3\n",
       " 2  4  6\n",
       " 3  6  9"
      ]
     },
     "execution_count": 15,
     "metadata": {},
     "output_type": "execute_result"
    }
   ],
   "source": [
    "x * y"
   ]
  },
  {
   "cell_type": "code",
   "execution_count": 16,
   "metadata": {},
   "outputs": [
    {
     "ename": "LoadError",
     "evalue": "\u001b[91mDimensionMismatch(\"dimensions must match\")\u001b[39m",
     "output_type": "error",
     "traceback": [
      "\u001b[91mDimensionMismatch(\"dimensions must match\")\u001b[39m",
      "",
      "Stacktrace:",
      " [1] \u001b[1mpromote_shape\u001b[22m\u001b[22m\u001b[1m(\u001b[22m\u001b[22m::Tuple{Base.OneTo{Int64},Base.OneTo{Int64}}, ::Tuple{Base.OneTo{Int64}}\u001b[1m)\u001b[22m\u001b[22m at \u001b[1m./indices.jl:79\u001b[22m\u001b[22m",
      " [2] \u001b[1mpromote_shape\u001b[22m\u001b[22m\u001b[1m(\u001b[22m\u001b[22m::Tuple{Base.OneTo{Int64}}, ::Tuple{Base.OneTo{Int64},Base.OneTo{Int64}}\u001b[1m)\u001b[22m\u001b[22m at \u001b[1m./indices.jl:75\u001b[22m\u001b[22m",
      " [3] \u001b[1m+\u001b[22m\u001b[22m\u001b[1m(\u001b[22m\u001b[22m::Array{Int64,1}, ::Array{Int64,2}\u001b[1m)\u001b[22m\u001b[22m at \u001b[1m./arraymath.jl:37\u001b[22m\u001b[22m",
      " [4] \u001b[1minclude_string\u001b[22m\u001b[22m\u001b[1m(\u001b[22m\u001b[22m::String, ::String\u001b[1m)\u001b[22m\u001b[22m at \u001b[1m./loading.jl:515\u001b[22m\u001b[22m"
     ]
    }
   ],
   "source": [
    "x + y"
   ]
  },
  {
   "cell_type": "code",
   "execution_count": 17,
   "metadata": {},
   "outputs": [
    {
     "data": {
      "text/plain": [
       "3×3 Array{Int64,2}:\n",
       " 2  3  4\n",
       " 3  4  5\n",
       " 4  5  6"
      ]
     },
     "execution_count": 17,
     "metadata": {},
     "output_type": "execute_result"
    }
   ],
   "source": [
    "A = x .+ y"
   ]
  },
  {
   "cell_type": "code",
   "execution_count": 18,
   "metadata": {},
   "outputs": [
    {
     "data": {
      "text/plain": [
       "3-element Array{Int64,1}:\n",
       " 1\n",
       " 4\n",
       " 9"
      ]
     },
     "execution_count": 18,
     "metadata": {},
     "output_type": "execute_result"
    }
   ],
   "source": [
    "x .* x"
   ]
  },
  {
   "cell_type": "code",
   "execution_count": 19,
   "metadata": {},
   "outputs": [
    {
     "data": {
      "text/plain": [
       "20-element Array{Float64,1}:\n",
       " 0.144325\n",
       " 0.539383\n",
       " 0.905254\n",
       " 0.181768\n",
       " 0.474543\n",
       " 0.634997\n",
       " 0.516441\n",
       " 0.803727\n",
       " 0.938047\n",
       " 0.307588\n",
       " 0.735985\n",
       " 0.137097\n",
       " 0.349963\n",
       " 0.97564 \n",
       " 0.570409\n",
       " 0.995515\n",
       " 0.558727\n",
       " 0.61811 \n",
       " 0.828529\n",
       " 0.873731"
      ]
     },
     "execution_count": 19,
     "metadata": {},
     "output_type": "execute_result"
    }
   ],
   "source": [
    "x = rand(20)"
   ]
  },
  {
   "cell_type": "code",
   "execution_count": 20,
   "metadata": {},
   "outputs": [
    {
     "data": {
      "text/plain": [
       "0.5393826836540165"
      ]
     },
     "execution_count": 20,
     "metadata": {},
     "output_type": "execute_result"
    }
   ],
   "source": [
    "x[2]"
   ]
  },
  {
   "cell_type": "code",
   "execution_count": 21,
   "metadata": {},
   "outputs": [
    {
     "data": {
      "text/plain": [
       "4-element Array{Float64,1}:\n",
       " 0.539383\n",
       " 0.905254\n",
       " 0.181768\n",
       " 0.474543"
      ]
     },
     "execution_count": 21,
     "metadata": {},
     "output_type": "execute_result"
    }
   ],
   "source": [
    "x[2:5]"
   ]
  },
  {
   "cell_type": "code",
   "execution_count": 22,
   "metadata": {},
   "outputs": [
    {
     "data": {
      "text/plain": [
       "7-element Array{Float64,1}:\n",
       " 0.516441\n",
       " 0.938047\n",
       " 0.735985\n",
       " 0.349963\n",
       " 0.570409\n",
       " 0.558727\n",
       " 0.828529"
      ]
     },
     "execution_count": 22,
     "metadata": {},
     "output_type": "execute_result"
    }
   ],
   "source": [
    "x[7:2:end] # x[7], x[9], x[11], ... end of array"
   ]
  },
  {
   "cell_type": "code",
   "execution_count": 23,
   "metadata": {},
   "outputs": [
    {
     "data": {
      "text/plain": [
       "14-element Array{Float64,1}:\n",
       " 0.539383\n",
       " 0.905254\n",
       " 0.634997\n",
       " 0.516441\n",
       " 0.803727\n",
       " 0.938047\n",
       " 0.735985\n",
       " 0.97564 \n",
       " 0.570409\n",
       " 0.995515\n",
       " 0.558727\n",
       " 0.61811 \n",
       " 0.828529\n",
       " 0.873731"
      ]
     },
     "execution_count": 23,
     "metadata": {},
     "output_type": "execute_result"
    }
   ],
   "source": [
    "x[x .> 0.5]"
   ]
  },
  {
   "cell_type": "markdown",
   "metadata": {},
   "source": [
    "Any function `f` can be applied elementwise to an array `x` by the syntax `f.(x)`.\n",
    "\n",
    "You may be thinking that Matlab and Numpy do this without dots, but it turns out that the `.` in `f.(x)` enables extensive possibilities that aren't possible in other language.  See also [this blog post on the real power of this syntax](http://julialang.org/blog/2017/01/moredots).\n",
    "\n",
    "e.g. compute $e^{\\sin x_i}$ for each element $x_i$=`x[i]` of the array `x`:"
   ]
  },
  {
   "cell_type": "code",
   "execution_count": 24,
   "metadata": {},
   "outputs": [
    {
     "data": {
      "text/plain": [
       "20-element Array{Float64,1}:\n",
       " 1.15468\n",
       " 1.67131\n",
       " 2.19588\n",
       " 1.19814\n",
       " 1.57922\n",
       " 1.80973\n",
       " 1.63851\n",
       " 2.05433\n",
       " 2.23984\n",
       " 1.35359\n",
       " 1.95681\n",
       " 1.14645\n",
       " 1.40898\n",
       " 2.28888\n",
       " 1.71597\n",
       " 2.31414\n",
       " 1.69911\n",
       " 1.78514\n",
       " 2.08953\n",
       " 2.15271"
      ]
     },
     "execution_count": 24,
     "metadata": {},
     "output_type": "execute_result"
    }
   ],
   "source": [
    "exp.(sin.(x))"
   ]
  },
  {
   "cell_type": "markdown",
   "metadata": {},
   "source": [
    "## Plotting"
   ]
  },
  {
   "cell_type": "code",
   "execution_count": 25,
   "metadata": {},
   "outputs": [],
   "source": [
    "using PyPlot # thin wrapper around Python Matplotlib"
   ]
  },
  {
   "cell_type": "code",
   "execution_count": 26,
   "metadata": {},
   "outputs": [
    {
     "data": {
      "image/png": "[encoded data removed]",
      "text/plain": [
       "PyPlot.Figure(PyObject <matplotlib.figure.Figure object at 0x1382e1e90>)"
      ]
     },
     "metadata": {},
     "output_type": "display_data"
    },
    {
     "data": {
      "text/plain": [
       "1-element Array{PyCall.PyObject,1}:\n",
       " PyObject <matplotlib.lines.Line2D object at 0x112aa0410>"
      ]
     },
     "execution_count": 26,
     "metadata": {},
     "output_type": "execute_result"
    }
   ],
   "source": [
    "x = linspace(0,1,20)\n",
    "plot(x, x.*x, \"bo-\")"
   ]
  },
  {
   "cell_type": "markdown",
   "metadata": {},
   "source": [
    "Let's plot a more complicated function, $\\sqrt{e^{x^2}} = e^{x^2/2}$:"
   ]
  },
  {
   "cell_type": "code",
   "execution_count": 27,
   "metadata": {},
   "outputs": [
    {
     "data": {
      "image/png": "[encoded data removed]",
      "text/plain": [
       "PyPlot.Figure(PyObject <matplotlib.figure.Figure object at 0x112b2cf50>)"
      ]
     },
     "metadata": {},
     "output_type": "display_data"
    }
   ],
   "source": [
    "x = linspace(0, 3, 100)\n",
    "plot(x, sqrt.(exp.(x.*x)), \"r-\")\n",
    "title(\"a more complicated function\")\n",
    "xlabel(L\"x\")\n",
    "ylabel(L\"\\sqrt{e^{x^2}}\")\n",
    "grid()"
   ]
  },
  {
   "cell_type": "code",
   "execution_count": 28,
   "metadata": {},
   "outputs": [
    {
     "data": {
      "image/png": "[encoded data removed]",
      "text/plain": [
       "PyPlot.Figure(PyObject <matplotlib.figure.Figure object at 0x137fafc90>)"
      ]
     },
     "metadata": {},
     "output_type": "display_data"
    },
    {
     "data": {
      "text/plain": [
       "PyObject <matplotlib.legend.Legend object at 0x12dbed710>"
      ]
     },
     "execution_count": 28,
     "metadata": {},
     "output_type": "execute_result"
    }
   ],
   "source": [
    "x = linspace(0.1, 3, 100)\n",
    "loglog(x, x.^(-2), \"r-\")\n",
    "loglog(x, x.^(-3), \"b-\")\n",
    "title(\"a couple of power laws\")\n",
    "xlabel(L\"x\")\n",
    "legend([L\"1/x^2\", L\"1/x^3\"])"
   ]
  },
  {
   "cell_type": "markdown",
   "metadata": {},
   "source": [
    "## Linear algebra"
   ]
  },
  {
   "cell_type": "code",
   "execution_count": 29,
   "metadata": {},
   "outputs": [
    {
     "data": {
      "text/plain": [
       "3×4 Array{Int64,2}:\n",
       " 1   2   3   4\n",
       " 5   6   7   8\n",
       " 9  10  11  12"
      ]
     },
     "execution_count": 29,
     "metadata": {},
     "output_type": "execute_result"
    }
   ],
   "source": [
    "A = [1 2 3 4; 5 6 7 8; 9 10 11 12]"
   ]
  },
  {
   "cell_type": "code",
   "execution_count": 30,
   "metadata": {},
   "outputs": [
    {
     "data": {
      "text/plain": [
       "3×4 Array{Int64,2}:\n",
       " 1   2   3   4\n",
       " 5   6   7   8\n",
       " 9  10  11  12"
      ]
     },
     "execution_count": 30,
     "metadata": {},
     "output_type": "execute_result"
    }
   ],
   "source": [
    "A = [1 2 3 4\n",
    "     5 6 7 8\n",
    "     9 10 11 12]"
   ]
  },
  {
   "cell_type": "code",
   "execution_count": 31,
   "metadata": {},
   "outputs": [
    {
     "data": {
      "text/plain": [
       "4×4 Array{Float64,2}:\n",
       " 0.468988  0.40314   0.42774   0.430075\n",
       " 0.506144  0.243659  0.666158  0.677984\n",
       " 0.122759  0.747095  0.894337  0.274605\n",
       " 0.901903  0.646881  0.902446  0.444673"
      ]
     },
     "execution_count": 31,
     "metadata": {},
     "output_type": "execute_result"
    }
   ],
   "source": [
    "A = rand(4,4)"
   ]
  },
  {
   "cell_type": "code",
   "execution_count": 32,
   "metadata": {},
   "outputs": [
    {
     "data": {
      "text/plain": [
       "1000×1000 Array{Float64,2}:\n",
       " -3.92081    -0.125597   -0.271852   …  -1.05752     0.0432705  -0.844987 \n",
       "  0.964957    0.881508   -1.11977       -0.668474    1.26099    -0.626752 \n",
       " -0.283793   -0.612464   -0.639531       0.0402086  -0.89994     0.971123 \n",
       "  1.90809    -0.399926   -0.448561      -0.0892749  -0.219389    0.0568491\n",
       "  0.325687    0.110893   -0.790278       0.868956    0.482209    0.143322 \n",
       "  0.882951   -0.853728    0.684322   …   0.553641    0.382662   -0.833766 \n",
       "  0.739445    0.514026   -0.400339       1.3078      0.455491    0.437431 \n",
       " -0.176262    1.26989    -1.6845         0.916057   -0.164074    1.18765  \n",
       " -1.62114    -1.10071     1.81827        0.127403    0.911214   -1.10649  \n",
       "  0.334767   -0.826587    0.544696      -0.284371    0.667293   -0.339589 \n",
       "  0.268401    0.393914    1.17279    …   1.12595     1.06643     0.0320605\n",
       " -0.0542488   1.68916     1.10874        0.972287    0.185435   -0.827114 \n",
       " -1.14838    -1.85967    -0.165392       0.0623633   0.486016   -0.662348 \n",
       "  ⋮                                  ⋱                                    \n",
       "  0.169414   -0.0948217  -0.59109        0.385028   -1.60487     1.2692   \n",
       "  0.601934    1.89478    -0.640368      -0.183489   -1.1377     -0.0314457\n",
       "  1.09582    -0.423357   -0.367192   …  -0.253151   -1.20003     0.359188 \n",
       " -0.740662   -0.591528    0.0900804     -0.899319   -0.530705   -0.563432 \n",
       " -0.605553    0.154798   -1.33175        1.47598    -0.384623   -0.192465 \n",
       "  0.252608    0.0355055  -0.200141      -0.245389   -0.614924   -0.476619 \n",
       "  0.104547    0.340412   -0.44581        0.35474     0.0935907  -1.73103  \n",
       " -0.307589   -1.32375     2.879      …  -1.00889     0.0667546   0.891903 \n",
       "  1.17112     1.88918    -0.911926      -1.07599     0.209169   -0.365497 \n",
       " -0.178176    0.116688    2.20219        0.0592909  -1.15561    -1.1396   \n",
       "  1.63478     0.620795   -1.10512        1.15111    -1.3169      0.665555 \n",
       " -0.678734   -0.749931   -0.969804       0.108355   -0.206907    0.499762 "
      ]
     },
     "execution_count": 32,
     "metadata": {},
     "output_type": "execute_result"
    }
   ],
   "source": [
    "A = randn(1000,1000)"
   ]
  },
  {
   "cell_type": "code",
   "execution_count": 33,
   "metadata": {},
   "outputs": [
    {
     "data": {
      "text/plain": [
       "1000-element Array{Float64,1}:\n",
       "  2.50914 \n",
       "  1.00515 \n",
       "  0.655121\n",
       " -0.70084 \n",
       "  0.521746\n",
       "  1.42532 \n",
       " -1.208   \n",
       " -0.503263\n",
       " -1.47881 \n",
       " -1.47563 \n",
       " -0.166415\n",
       "  1.21908 \n",
       "  0.113287\n",
       "  ⋮       \n",
       " -1.16237 \n",
       "  0.465969\n",
       " -0.814659\n",
       "  0.902918\n",
       " -0.887828\n",
       "  0.349207\n",
       "  0.657511\n",
       "  0.526407\n",
       " -0.273558\n",
       "  2.11414 \n",
       " -0.330335\n",
       "  0.429515"
      ]
     },
     "execution_count": 33,
     "metadata": {},
     "output_type": "execute_result"
    }
   ],
   "source": [
    "b = randn(1000)"
   ]
  },
  {
   "cell_type": "markdown",
   "metadata": {},
   "source": [
    "Let's solve $Ax = b$:"
   ]
  },
  {
   "cell_type": "code",
   "execution_count": 34,
   "metadata": {},
   "outputs": [
    {
     "data": {
      "text/plain": [
       "1000-element Array{Float64,1}:\n",
       " -0.455183 \n",
       " -0.791691 \n",
       " -0.910741 \n",
       "  1.57576  \n",
       "  5.23045  \n",
       " -0.482715 \n",
       "  0.534908 \n",
       "  2.9925   \n",
       " -4.27148  \n",
       "  3.81676  \n",
       " -1.80634  \n",
       "  2.45016  \n",
       " -2.34689  \n",
       "  ⋮        \n",
       "  7.2581   \n",
       "  1.52678  \n",
       "  0.687566 \n",
       "  2.21427  \n",
       "  0.441155 \n",
       "  5.74879  \n",
       " -0.925171 \n",
       " -1.59141  \n",
       "  0.628882 \n",
       " -0.227938 \n",
       " -2.51944  \n",
       "  0.0368821"
      ]
     },
     "execution_count": 34,
     "metadata": {},
     "output_type": "execute_result"
    }
   ],
   "source": [
    "x = inv(A) * b"
   ]
  },
  {
   "cell_type": "code",
   "execution_count": 35,
   "metadata": {},
   "outputs": [
    {
     "data": {
      "text/plain": [
       "1000-element Array{Float64,1}:\n",
       " -0.455183 \n",
       " -0.791691 \n",
       " -0.910741 \n",
       "  1.57576  \n",
       "  5.23045  \n",
       " -0.482715 \n",
       "  0.534908 \n",
       "  2.9925   \n",
       " -4.27148  \n",
       "  3.81676  \n",
       " -1.80634  \n",
       "  2.45016  \n",
       " -2.34689  \n",
       "  ⋮        \n",
       "  7.2581   \n",
       "  1.52678  \n",
       "  0.687566 \n",
       "  2.21427  \n",
       "  0.441155 \n",
       "  5.74879  \n",
       " -0.925171 \n",
       " -1.59141  \n",
       "  0.628882 \n",
       " -0.227938 \n",
       " -2.51944  \n",
       "  0.0368821"
      ]
     },
     "execution_count": 35,
     "metadata": {},
     "output_type": "execute_result"
    }
   ],
   "source": [
    "x = A \\ b"
   ]
  },
  {
   "cell_type": "code",
   "execution_count": 36,
   "metadata": {},
   "outputs": [
    {
     "data": {
      "text/plain": [
       "1000-element Array{Complex{Float64},1}:\n",
       "    -22.8148+22.7317im \n",
       "    -22.8148-22.7317im \n",
       "    -31.6454+4.76216im \n",
       "    -31.6454-4.76216im \n",
       "    -29.7089+10.7519im \n",
       "    -29.7089-10.7519im \n",
       "    -31.0894+0.0im     \n",
       "    -24.7398+19.571im  \n",
       "    -24.7398-19.571im  \n",
       "     16.4793+28.05im   \n",
       "     16.4793-28.05im   \n",
       "    -26.5884+16.4096im \n",
       "    -26.5884-16.4096im \n",
       "            ⋮          \n",
       "    -2.17419+0.0im     \n",
       "     3.65671+0.0im     \n",
       " 0.000743924+3.4153im  \n",
       " 0.000743924-3.4153im  \n",
       "     2.57654+1.43675im \n",
       "     2.57654-1.43675im \n",
       "     2.04091+0.877569im\n",
       "     2.04091-0.877569im\n",
       "    0.262097+1.36469im \n",
       "    0.262097-1.36469im \n",
       "     1.29348+0.0im     \n",
       "    0.659693+0.0im     "
      ]
     },
     "execution_count": 36,
     "metadata": {},
     "output_type": "execute_result"
    }
   ],
   "source": [
    "λ = eigvals(A)"
   ]
  },
  {
   "cell_type": "markdown",
   "metadata": {},
   "source": [
    "You may be wondering how to type `λ`.  It turns out you can just type `\\lambda` (the LaTeX code for λ) and then hit *tab*.  You can type much more complicated variable names this way.  (This is all thanks to Julia's support for something called [Unicode](https://en.wikipedia.org/wiki/Unicode).)"
   ]
  },
  {
   "cell_type": "code",
   "execution_count": 37,
   "metadata": {},
   "outputs": [
    {
     "data": {
      "text/plain": [
       "7"
      ]
     },
     "execution_count": 37,
     "metadata": {},
     "output_type": "execute_result"
    }
   ],
   "source": [
    "x̂₂′ = 7 # x\\hat<tab>\\_2<tab>\\prime<tab>"
   ]
  },
  {
   "cell_type": "code",
   "execution_count": 38,
   "metadata": {},
   "outputs": [
    {
     "data": {
      "image/png": "[encoded data removed]",
      "text/plain": [
       "PyPlot.Figure(PyObject <matplotlib.figure.Figure object at 0x12dbed050>)"
      ]
     },
     "metadata": {},
     "output_type": "display_data"
    }
   ],
   "source": [
    "A = randn(1000,1000)\n",
    "λ = eigvals(A)\n",
    "plot(real(λ), imag(λ), \"b.\")\n",
    "axis(\"equal\")\n",
    "xlabel(L\"\\Re \\lambda\")\n",
    "ylabel(L\"\\Im \\lambda\")\n",
    "savefig(\"foo.pdf\")"
   ]
  },
  {
   "cell_type": "code",
   "execution_count": 39,
   "metadata": {},
   "outputs": [
    {
     "data": {
      "text/plain": [
       "5×5 Array{Float64,2}:\n",
       " 0.772491  0.914363   0.503056  0.327185  0.935868\n",
       " 0.337439  0.27736    0.740784  0.123188  0.544757\n",
       " 0.749563  0.470368   0.430169  0.182185  0.797062\n",
       " 0.518365  0.628527   0.290453  0.066444  0.338332\n",
       " 0.962669  0.0420736  0.855852  0.425863  0.881027"
      ]
     },
     "execution_count": 39,
     "metadata": {},
     "output_type": "execute_result"
    }
   ],
   "source": [
    "A = rand(5,5)"
   ]
  },
  {
   "cell_type": "code",
   "execution_count": 40,
   "metadata": {},
   "outputs": [
    {
     "data": {
      "text/plain": [
       "(Complex{Float64}[2.81767+0.0im, 0.0326738+0.310406im, 0.0326738-0.310406im, -0.227764+0.149855im, -0.227764-0.149855im], Complex{Float64}[0.554886+0.0im 0.316024+0.103191im … -0.506872-0.181904im -0.506872+0.181904im; 0.334248+0.0im -0.0253449+0.381451im … 0.0736716-0.0991253im 0.0736716+0.0991253im; … ; 0.294731+0.0im 0.606263+0.0im … 0.039948+0.465844im 0.039948-0.465844im; 0.544214+0.0im -0.427062-0.414644im … 0.629411+0.0im 0.629411-0.0im])"
      ]
     },
     "execution_count": 40,
     "metadata": {},
     "output_type": "execute_result"
    }
   ],
   "source": [
    "λ, X = eig(A)"
   ]
  },
  {
   "cell_type": "code",
   "execution_count": 41,
   "metadata": {},
   "outputs": [
    {
     "data": {
      "text/plain": [
       "5-element Array{Complex{Float64},1}:\n",
       "   2.81767+0.0im     \n",
       " 0.0326738+0.310406im\n",
       " 0.0326738-0.310406im\n",
       " -0.227764+0.149855im\n",
       " -0.227764-0.149855im"
      ]
     },
     "execution_count": 41,
     "metadata": {},
     "output_type": "execute_result"
    }
   ],
   "source": [
    "λ"
   ]
  },
  {
   "cell_type": "code",
   "execution_count": 42,
   "metadata": {},
   "outputs": [
    {
     "data": {
      "text/plain": [
       "5×5 Array{Complex{Float64},2}:\n",
       " 0.554886+0.0im    0.316024+0.103191im  …  -0.506872+0.181904im \n",
       " 0.334248+0.0im  -0.0253449+0.381451im     0.0736716+0.0991253im\n",
       " 0.444234+0.0im  -0.0821847+0.121299im     -0.268794-0.0878872im\n",
       " 0.294731+0.0im    0.606263+0.0im           0.039948-0.465844im \n",
       " 0.544214+0.0im   -0.427062-0.414644im      0.629411-0.0im      "
      ]
     },
     "execution_count": 42,
     "metadata": {},
     "output_type": "execute_result"
    }
   ],
   "source": [
    "X "
   ]
  },
  {
   "cell_type": "code",
   "execution_count": 43,
   "metadata": {},
   "outputs": [
    {
     "data": {
      "text/plain": [
       "(Complex{Float64}[2.81767+0.0im, 0.0326738+0.310406im, 0.0326738-0.310406im, -0.227764+0.149855im, -0.227764-0.149855im], Complex{Float64}[0.554886+0.0im 0.316024+0.103191im … -0.506872-0.181904im -0.506872+0.181904im; 0.334248+0.0im -0.0253449+0.381451im … 0.0736716-0.0991253im 0.0736716+0.0991253im; … ; 0.294731+0.0im 0.606263+0.0im … 0.039948+0.465844im 0.039948-0.465844im; 0.544214+0.0im -0.427062-0.414644im … 0.629411+0.0im 0.629411-0.0im])"
      ]
     },
     "execution_count": 43,
     "metadata": {},
     "output_type": "execute_result"
    }
   ],
   "source": [
    "λ, X"
   ]
  },
  {
   "cell_type": "code",
   "execution_count": 44,
   "metadata": {},
   "outputs": [
    {
     "data": {
      "text/html": [
       "<div id=\"interact-js-shim\">\n",
       "    <script charset=\"utf-8\">\n",
       "(function (IPython, $, _, MathJax) {\n",
       "    $.event.special.destroyed = {\n",
       "\tremove: function(o) {\n",
       "\t    if (o.handler) {\n",
       "\t\to.handler.apply(this, arguments)\n",
       "\t    }\n",
       "\t}\n",
       "    }\n",
       "\n",
       "    var OutputArea = IPython.version >= \"4.0.0\" ? require(\"notebook/js/outputarea\").OutputArea : IPython.OutputArea;\n",
       "\n",
       "    var redrawValue = function (container, type, val) {\n",
       "\tvar selector = $(\"<div/>\");\n",
       "\tvar oa = new OutputArea(_.extend(selector, {\n",
       "\t    selector: selector,\n",
       "\t    prompt_area: true,\n",
       "\t    events: IPython.events,\n",
       "\t    keyboard_manager: IPython.keyboard_manager\n",
       "\t})); // Hack to work with IPython 2.1.0\n",
       "\n",
       "\tswitch (type) {\n",
       "\tcase \"image/png\":\n",
       "            var _src = 'data:' + type + ';base64,' + val;\n",
       "\t    $(container).find(\"img\").attr('src', _src);\n",
       "\t    break;\n",
       "\tcase \"text/latex\":\n",
       "\t\tif (MathJax){\n",
       "\t\t\tvar math = MathJax.Hub.getAllJax(container)[0];\n",
       "\t\t\tMathJax.Hub.Queue([\"Text\", math, val.replace(/^\\${1,2}|\\${1,2}$/g, '')]);\n",
       "\t\t\tbreak;\n",
       "\t\t}\n",
       "\tdefault:\n",
       "\t    var toinsert = OutputArea.append_map[type].apply(\n",
       "\t\toa, [val, {}, selector]\n",
       "\t    );\n",
       "\t    $(container).empty().append(toinsert.contents());\n",
       "\t    selector.remove();\n",
       "\t}\n",
       "    }\n",
       "\n",
       "\n",
       "    $(document).ready(function() {\n",
       "\tfunction initComm(evt, data) {\n",
       "\t    var comm_manager = data.kernel.comm_manager;\n",
       "        //_.extend(comm_manager.targets, require(\"widgets/js/widget\"))\n",
       "\t    comm_manager.register_target(\"Signal\", function (comm) {\n",
       "            comm.on_msg(function (msg) {\n",
       "                var val = msg.content.data.value;\n",
       "                $(\".signal-\" + comm.comm_id).each(function() {\n",
       "                var type = $(this).data(\"type\");\n",
       "                if (typeof(val[type]) !== \"undefined\" && val[type] !== null) {\n",
       "                    redrawValue(this, type, val[type], type);\n",
       "                }\n",
       "                });\n",
       "                delete val;\n",
       "                delete msg.content.data.value;\n",
       "            });\n",
       "\t    });\n",
       "\n",
       "\t    // coordingate with Comm and redraw Signals\n",
       "\t    // XXX: Test using Reactive here to improve performance\n",
       "\t    $([IPython.events]).on(\n",
       "\t\t'output_appended.OutputArea', function (event, type, value, md, toinsert) {\n",
       "\t\t    if (md && md.reactive) {\n",
       "                // console.log(md.comm_id);\n",
       "                toinsert.addClass(\"signal-\" + md.comm_id);\n",
       "                toinsert.data(\"type\", type);\n",
       "                // Signal back indicating the mimetype required\n",
       "                var comm_manager = IPython.notebook.kernel.comm_manager;\n",
       "                var comm = comm_manager.comms[md.comm_id];\n",
       "                comm.then(function (c) {\n",
       "                    c.send({action: \"subscribe_mime\",\n",
       "                       mime: type});\n",
       "                    toinsert.bind(\"destroyed\", function() {\n",
       "                        c.send({action: \"unsubscribe_mime\",\n",
       "                               mime: type});\n",
       "                    });\n",
       "                })\n",
       "\t\t    }\n",
       "\t    });\n",
       "\t}\n",
       "\n",
       "\ttry {\n",
       "\t    // try to initialize right away. otherwise, wait on the status_started event.\n",
       "\t    initComm(undefined, IPython.notebook);\n",
       "\t} catch (e) {\n",
       "\t    $([IPython.events]).on('kernel_created.Kernel kernel_created.Session', initComm);\n",
       "\t}\n",
       "    });\n",
       "})(IPython, jQuery, _, MathJax);\n",
       "</script>\n",
       "    <script>\n",
       "        window.interactLoadedFlag = true\n",
       "       $(\"#interact-js-shim\").bind(\"destroyed\", function () {\n",
       "           if (window.interactLoadedFlag) {\n",
       "               console.warn(\"JavaScript required by Interact will be removed if you remove this cell or run using Interact more than once.\")\n",
       "           }\n",
       "       })\n",
       "       $([IPython.events]).on(\"kernel_starting.Kernel kernel_restarting.Kernel\", function () { window.interactLoadedFlag = false })\n",
       "   </script>\n",
       "</div>"
      ]
     },
     "metadata": {},
     "output_type": "display_data"
    }
   ],
   "source": [
    "using Interact"
   ]
  },
  {
   "cell_type": "code",
   "execution_count": 45,
   "metadata": {},
   "outputs": [
    {
     "data": {
      "text/html": [],
      "text/plain": [
       "Interact.Options{:SelectionSlider,Int64}(1: \"input\" = 505 Int64 , \"n\", 505, \"505\", Interact.OptionDict(DataStructures.OrderedDict(\"10\"=>10,\"11\"=>11,\"12\"=>12,\"13\"=>13,\"14\"=>14,\"15\"=>15,\"16\"=>16,\"17\"=>17,\"18\"=>18,\"19\"=>19…), Dict(306=>\"306\",29=>\"29\",74=>\"74\",905=>\"905\",176=>\"176\",892=>\"892\",285=>\"285\",318=>\"318\",873=>\"873\",975=>\"975\"…)), Any[], Any[], true, \"horizontal\")"
      ]
     },
     "metadata": {},
     "output_type": "display_data"
    },
    {
     "data": {
      "image/png": "[encoded data removed]",
      "text/plain": [
       "PyPlot.Figure(PyObject <matplotlib.figure.Figure object at 0x133a87b50>)"
      ]
     },
     "execution_count": 45,
     "metadata": {
      "comm_id": "cc29dfd3-50e1-458b-ae71-4fb0f91f9294",
      "reactive": true
     },
     "output_type": "execute_result"
    }
   ],
   "source": [
    "f = figure()\n",
    "@manipulate for n in 10:1000\n",
    "    withfig(f) do\n",
    "        A = randn(n,n)\n",
    "        λ = eigvals(A)\n",
    "        plot(real(λ), imag(λ), \"b.\")\n",
    "        axis(\"equal\")\n",
    "        xlabel(L\"\\Re \\lambda\")\n",
    "        ylabel(L\"\\Im \\lambda\")\n",
    "    end\n",
    "end"
   ]
  },
  {
   "cell_type": "markdown",
   "metadata": {},
   "source": [
    "## Calling Python\n",
    "\n",
    "Being a young language, Julia doesn't have as many mature libraries and packages as a language like Python.  Fortunately, Julia code can *call Python libraries* directly, with the help of the [PyCall package](https://github.com/JuliaPy/PyCall.jl):"
   ]
  },
  {
   "cell_type": "code",
   "execution_count": 46,
   "metadata": {
    "collapsed": true
   },
   "outputs": [],
   "source": [
    "using PyCall"
   ]
  },
  {
   "cell_type": "code",
   "execution_count": 47,
   "metadata": {
    "collapsed": true
   },
   "outputs": [],
   "source": [
    "@pyimport scipy.special as special"
   ]
  },
  {
   "cell_type": "code",
   "execution_count": 48,
   "metadata": {},
   "outputs": [
    {
     "data": {
      "text/plain": [
       "(0.006591139357460717, -0.011912976705951313, 14.037328963730229, 22.92221496638217)"
      ]
     },
     "execution_count": 48,
     "metadata": {},
     "output_type": "execute_result"
    }
   ],
   "source": [
    "special.airy(3)"
   ]
  },
  {
   "cell_type": "code",
   "execution_count": 49,
   "metadata": {
    "collapsed": true
   },
   "outputs": [],
   "source": [
    "@pyimport scipy.optimize as opt"
   ]
  },
  {
   "cell_type": "code",
   "execution_count": 50,
   "metadata": {},
   "outputs": [
    {
     "data": {
      "text/plain": [
       "0.0"
      ]
     },
     "execution_count": 50,
     "metadata": {},
     "output_type": "execute_result"
    }
   ],
   "source": [
    "opt.newton(cos, 1.4) - pi/2"
   ]
  },
  {
   "cell_type": "code",
   "execution_count": 51,
   "metadata": {},
   "outputs": [
    {
     "data": {
      "text/plain": [
       "0.7390851332151607"
      ]
     },
     "execution_count": 51,
     "metadata": {},
     "output_type": "execute_result"
    }
   ],
   "source": [
    "opt.newton(x -> cos(x) - x, 1.4)"
   ]
  }
 ],
 "metadata": {
  "anaconda-cloud": {},
  "kernelspec": {
   "display_name": "Julia 1.0.5",
   "language": "julia",
   "name": "julia-1.0"
  },
  "language_info": {
   "file_extension": ".jl",
   "mimetype": "application/julia",
   "name": "julia",
   "version": "1.0.5"
  },
  "latex_envs": {
   "LaTeX_envs_menu_present": true,
   "autoclose": false,
   "autocomplete": true,
   "bibliofile": "biblio.bib",
   "cite_by": "apalike",
   "current_citInitial": 1,
   "eqLabelWithNumbers": true,
   "eqNumInitial": 1,
   "hotkeys": {
    "equation": "Ctrl-E",
    "itemize": "Ctrl-I"
   },
   "labels_anchors": false,
   "latex_user_defs": false,
   "report_style_numbering": false,
   "user_envs_cfg": false
  },
  "toc": {
   "base_numbering": 1,
   "nav_menu": {},
   "number_sections": true,
   "sideBar": true,
   "skip_h1_title": false,
   "title_cell": "Table of Contents",
   "title_sidebar": "Contents",
   "toc_cell": false,
   "toc_position": {},
   "toc_section_display": true,
   "toc_window_display": false
  },
  "varInspector": {
   "cols": {
    "lenName": 16,
    "lenType": 16,
    "lenVar": 40
   },
   "kernels_config": {
    "python": {
     "delete_cmd_postfix": "",
     "delete_cmd_prefix": "del ",
     "library": "var_list.py",
     "varRefreshCmd": "print(var_dic_list())"
    },
    "r": {
     "delete_cmd_postfix": ") ",
     "delete_cmd_prefix": "rm(",
     "library": "var_list.r",
     "varRefreshCmd": "cat(var_dic_list()) "
    }
   },
   "types_to_exclude": [
    "module",
    "function",
    "builtin_function_or_method",
    "instance",
    "_Feature"
   ],
   "window_display": false
  },
  "widgets": {
   "state": {
    "2249e52a-4038-4bb7-bb18-32aa5c4ed838": {
     "views": [
      {
       "cell_index": 51
      }
     ]
    }
   },
   "version": "1.2.0"
  }
 },
 "nbformat": 4,
 "nbformat_minor": 1
}
