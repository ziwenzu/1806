{
 "cells": [
  {
   "cell_type": "code",
   "execution_count": 1,
   "metadata": {},
   "outputs": [
    {
     "data": {
      "text/html": [
       "    <script class='js-collapse-script'>\n",
       "        var curMatch =\n",
       "            window.location.href\n",
       "            .match(/(.*?)\\/notebooks\\/.*\\.ipynb/);\n",
       "\n",
       "        curMatch = curMatch ||\n",
       "            window.location.href\n",
       "            .match(/(.*?)\\/apps\\/.*\\.ipynb/);\n",
       "\n",
       "        if ( curMatch ) {\n",
       "            $('head').append('<base href=\"' + curMatch[1] + '/\">');\n",
       "        }\n",
       "    </script>\n"
      ],
      "text/plain": [
       "HTML{String}(\"    <script class='js-collapse-script'>\\n        var curMatch =\\n            window.location.href\\n            .match(/(.*?)\\\\/notebooks\\\\/.*\\\\.ipynb/);\\n\\n        curMatch = curMatch ||\\n            window.location.href\\n            .match(/(.*?)\\\\/apps\\\\/.*\\\\.ipynb/);\\n\\n        if ( curMatch ) {\\n            \\$('head').append('<base href=\\\"' + curMatch[1] + '/\\\">');\\n        }\\n    </script>\\n\")"
      ]
     },
     "metadata": {},
     "output_type": "display_data"
    },
    {
     "data": {
      "text/html": [
       "<script class='js-collapse-script' src='/assetserver/2788aaff54f3972bd10a224d42612bcbc5553044-assets/webio/dist/bundle.js'></script>"
      ],
      "text/plain": [
       "HTML{String}(\"<script class='js-collapse-script' src='/assetserver/2788aaff54f3972bd10a224d42612bcbc5553044-assets/webio/dist/bundle.js'></script>\")"
      ]
     },
     "metadata": {},
     "output_type": "display_data"
    },
    {
     "data": {
      "text/html": [
       "<script class='js-collapse-script' src='/assetserver/2788aaff54f3972bd10a224d42612bcbc5553044-assets/providers/ijulia_setup.js'></script>"
      ],
      "text/plain": [
       "HTML{String}(\"<script class='js-collapse-script' src='/assetserver/2788aaff54f3972bd10a224d42612bcbc5553044-assets/providers/ijulia_setup.js'></script>\")"
      ]
     },
     "metadata": {},
     "output_type": "display_data"
    },
    {
     "data": {
      "text/html": [
       "  <script class='js-collapse-script'>\n",
       "    $('.js-collapse-script').parent('.output_subarea').css('padding', '0');\n",
       "  </script>\n"
      ],
      "text/plain": [
       "HTML{String}(\"  <script class='js-collapse-script'>\\n    \\$('.js-collapse-script').parent('.output_subarea').css('padding', '0');\\n  </script>\\n\")"
      ]
     },
     "metadata": {},
     "output_type": "display_data"
    }
   ],
   "source": [
    "using Polynomials, PyPlot, Interact\n",
    "# force IJulia to display as LaTeX rather than HTML\n",
    "Base.mimewritable(::MIME\"text/html\", ::Poly) = false"
   ]
  },
  {
   "cell_type": "markdown",
   "metadata": {},
   "source": [
    "# Eigenvalues: The Key Idea\n",
    "\n",
    "If we can find a solution $x \\ne 0$ to\n",
    "\n",
    "$$\n",
    "Ax = \\lambda x\n",
    "$$\n",
    "\n",
    "then, for this vector, the matrix $A$ **acts like a scalar**.  $x$ is called an **eigenvector** of $A$, and $\\lambda$ is called an **eigenvalue**.\n",
    "\n",
    "In fact, for an $m \\times m$ matrix $A$, we typically find $m$ linearly independendent eigenvectors $x_1,x_2,\\ldots,x_m$ and $m$ corresponding eigenvalues $\\lambda_1, \\lambda_2, \\ldots, \\lambda_m$.   Such a matrix is called **diagonalizable**.  Most matrices are diagonalizable; we will deal with the rare \"defective\" (non-diagonalizable) case later.\n",
    "\n",
    "Given such a **basis of eigenvectors**, the key idea for using them is:\n",
    "\n",
    "1. Take any vector $x$ and expand it in this basis: $x = c_1 x_1 + \\cdots c_m x_n$, or $x = Xc$ or $c = X^{-1}x$ where $X$ is the matrix whose *columns are the eigenvectors*.\n",
    "\n",
    "2. For each eigenvector $x_k$, the matrix $A$ acts like a scalar $\\lambda_k$.  Multiplication or division corresponds to multiplying/dividing $x_k$ by $\\lambda_k$.  **Solve your problem for each eigenvector by treating A as the scalar λ**.\n",
    "\n",
    "3. Add up the solution to your problem (sum the basis of the eigenvectors).  That is, multiply the new coefficients by $X$."
   ]
  },
  {
   "cell_type": "markdown",
   "metadata": {},
   "source": [
    "# The characteristic polynomial\n",
    "\n",
    "To *find* the eigenvalues, one approach is to realize that $Ax = \\lambda x$ means:\n",
    "\n",
    "$$\n",
    "(A - \\lambda I) x = 0 \\, ,\n",
    "$$\n",
    "\n",
    "so the matrix $A - \\lambda I$ is **singular for any eigenvalue λ**.  This corresponds to the determinant being zero:\n",
    "\n",
    "$$\n",
    "p(\\lambda) = \\det(A - \\lambda I) = 0\n",
    "$$\n",
    "\n",
    "where $p(\\lambda)$ is the **characteristic polynomial of A: a polynomial of degree m** if $A$ is $m \\times m$.  The **roots of this polynomial are the eigenvalues λ**.\n",
    "\n",
    "A polynomial of degree $m$ has at most $m$ roots (possibly complex), and typically has $m$ distinct roots.  **This is why most matrices have $m$ distinct eigenvalues/eigenvectors**, and are therefore **diagonalizable**.\n",
    "\n",
    "For example, let's plot the $\\det(A - \\lambda I)$ for a 4×4 matrix $A$.  The result is a *quartic* curve whose roots are the four eigenvalues (computed by the built-in `eigvals` function):"
   ]
  },
  {
   "cell_type": "code",
   "execution_count": 2,
   "metadata": {},
   "outputs": [
    {
     "data": {
      "text/plain": [
       "4-element Array{Float64,1}:\n",
       " 0.1\n",
       " 0.2\n",
       " 0.4\n",
       " 0.5"
      ]
     },
     "execution_count": 2,
     "metadata": {},
     "output_type": "execute_result"
    }
   ],
   "source": [
    "# some \"random\" matrix:\n",
    "A = [ 0.325  -0.075   0.075  -0.075\n",
    "      0.025   0.225  -0.025  -0.275\n",
    "       0.15   -0.05    0.25   -0.05 \n",
    "       -0.1    -0.1     0.1     0.4  ]\n",
    "\n",
    "λ = eigvals(A)"
   ]
  },
  {
   "cell_type": "markdown",
   "metadata": {},
   "source": [
    "(I admit it: $A$ was not chosen at random to have such special eigenvalues.)"
   ]
  },
  {
   "cell_type": "code",
   "execution_count": 3,
   "metadata": {},
   "outputs": [
    {
     "data": {
      "image/png": "[encoded data removed]",
      "text/plain": [
       "PyPlot.Figure(PyObject <Figure size 640x480 with 1 Axes>)"
      ]
     },
     "metadata": {},
     "output_type": "display_data"
    },
    {
     "data": {
      "text/plain": [
       "PyObject Text(0.5,1,'characteristic polynomial')"
      ]
     },
     "execution_count": 3,
     "metadata": {},
     "output_type": "execute_result"
    }
   ],
   "source": [
    "ξ = linspace(0,0.6,100)\n",
    "plot(ξ, [det(A - λ*I) for λ in ξ], \"r-\")\n",
    "plot(ξ, zeros(ξ), \"k--\")\n",
    "plot(λ, zeros(λ), \"bo\")\n",
    "xlabel(L\"\\lambda\")\n",
    "ylabel(L\"\\det(A - \\lambda I)\")\n",
    "title(\"characteristic polynomial\")"
   ]
  },
  {
   "cell_type": "markdown",
   "metadata": {},
   "source": [
    "## Eigenvalue example:\n",
    "\n",
    "For example, consider the matrix\n",
    "\n",
    "$$\n",
    "A = \\begin{pmatrix} 1 & 1 \\\\ -2 & 4 \\end{pmatrix}\n",
    "$$\n",
    "\n",
    "whose eigenvalues are $\\lambda = \\{2,3\\}$:"
   ]
  },
  {
   "cell_type": "code",
   "execution_count": 4,
   "metadata": {},
   "outputs": [
    {
     "data": {
      "text/plain": [
       "2×2 Array{Int64,2}:\n",
       "  1  1\n",
       " -2  4"
      ]
     },
     "execution_count": 4,
     "metadata": {},
     "output_type": "execute_result"
    }
   ],
   "source": [
    "A = [ 1 1\n",
    "     -2 4 ]"
   ]
  },
  {
   "cell_type": "code",
   "execution_count": 5,
   "metadata": {},
   "outputs": [
    {
     "data": {
      "text/plain": [
       "2-element Array{Float64,1}:\n",
       " 2.0\n",
       " 3.0"
      ]
     },
     "execution_count": 5,
     "metadata": {},
     "output_type": "execute_result"
    }
   ],
   "source": [
    "eigvals(A)"
   ]
  },
  {
   "cell_type": "markdown",
   "metadata": {},
   "source": [
    "The characteristic polynomial is\n",
    "\n",
    "$$\n",
    "\\det(A - \\lambda I) = \\det \\begin{pmatrix} 1 - \\lambda & 1 \\\\ -2 & 4 - \\lambda \\end{pmatrix} = (1 - \\lambda)(4 - \\lambda) - (1)(-2) = \\lambda^2 - 5\\lambda + 6 = (\\lambda - 2) (\\lambda - 3)\n",
    "$$\n",
    "\n",
    "where we have used high-school algebra to factor the polynomial.   Hence its roots are $\\lambda = \\{2, 3\\}$, as computed above."
   ]
  },
  {
   "cell_type": "markdown",
   "metadata": {},
   "source": [
    "## Eigenvectors\n",
    "\n",
    "Once we have the eigenvalues, finding the eigenvectors is (in principle) easy: **the eigenvectors are just (a basis for) the nullspace**\n",
    "\n",
    "$$\n",
    "N(A - \\lambda I)\n",
    "$$\n",
    "\n",
    "when $\\lambda$ is an eigenvalue.\n",
    "\n",
    "For example, with the matrix above, let's take the eigenvalue $\\lambda_1 = 2$:\n",
    "\n",
    "$$\n",
    "A - 2I = \\begin{pmatrix} -1 & 1 \\\\ -2 & 2 \\end{pmatrix}\n",
    "$$\n",
    "\n",
    "We could go through Gaussian elimination to find the nullspace, but we can see by inspection that the second column is minus the first, hence $x_1 = (1, 1)$ is a basis for the nullspace:\n",
    "\n",
    "$$\n",
    "(A - 2I) x_1 = \\begin{pmatrix} -1 & 1 \\\\ -2 & 2 \\end{pmatrix} \\begin{pmatrix} 1 \\\\ 1 \\end{pmatrix} = \\begin{pmatrix} 0 \\\\ 0 \\end{pmatrix}\n",
    "$$\n",
    "\n",
    "or\n",
    "\n",
    "$$\n",
    "A x_1 = 2 x_1\n",
    "$$\n",
    "\n",
    "as desired.  $x_1 = (1, 1)$ is an eigenvector!  Let's check:"
   ]
  },
  {
   "cell_type": "code",
   "execution_count": 6,
   "metadata": {},
   "outputs": [
    {
     "data": {
      "text/plain": [
       "2-element Array{Int64,1}:\n",
       " 2\n",
       " 2"
      ]
     },
     "execution_count": 6,
     "metadata": {},
     "output_type": "execute_result"
    }
   ],
   "source": [
    "A * [1, 1]"
   ]
  },
  {
   "cell_type": "markdown",
   "metadata": {},
   "source": [
    "For the other eigenvalue, $\\lambda = 3$, we get:\n",
    "\n",
    "$$\n",
    "A - 3I = \\begin{pmatrix} -2 & 1 \\\\ -2 & 1 \\end{pmatrix}\n",
    "$$\n",
    "\n",
    "from which it is obvious that a basis for the nullspace is $x_2 = (1, 2)$.  Let's check:"
   ]
  },
  {
   "cell_type": "code",
   "execution_count": 7,
   "metadata": {},
   "outputs": [
    {
     "data": {
      "text/plain": [
       "2-element Array{Int64,1}:\n",
       " 3\n",
       " 6"
      ]
     },
     "execution_count": 7,
     "metadata": {},
     "output_type": "execute_result"
    }
   ],
   "source": [
    "A * [1, 2]"
   ]
  },
  {
   "cell_type": "markdown",
   "metadata": {},
   "source": [
    "Yup, $A x_2 = 3 x_2$!\n",
    "\n",
    "For more complicated cases, of course, we might have to go through elimination to find the nullspace.  In practice, though, we alway just let the computer do it.  The `eig` function in Julia will return the eigenvalues and eigenvectors:"
   ]
  },
  {
   "cell_type": "code",
   "execution_count": 8,
   "metadata": {},
   "outputs": [
    {
     "data": {
      "text/plain": [
       "([2.0, 3.0], [-0.707107 -0.447214; -0.707107 -0.894427])"
      ]
     },
     "execution_count": 8,
     "metadata": {},
     "output_type": "execute_result"
    }
   ],
   "source": [
    "λ, X = eig(A)"
   ]
  },
  {
   "cell_type": "code",
   "execution_count": 9,
   "metadata": {},
   "outputs": [
    {
     "data": {
      "text/plain": [
       "2-element Array{Float64,1}:\n",
       " 2.0\n",
       " 3.0"
      ]
     },
     "execution_count": 9,
     "metadata": {},
     "output_type": "execute_result"
    }
   ],
   "source": [
    "λ"
   ]
  },
  {
   "cell_type": "code",
   "execution_count": 10,
   "metadata": {},
   "outputs": [
    {
     "data": {
      "text/plain": [
       "2×2 Array{Float64,2}:\n",
       " -0.707107  -0.447214\n",
       " -0.707107  -0.894427"
      ]
     },
     "execution_count": 10,
     "metadata": {},
     "output_type": "execute_result"
    }
   ],
   "source": [
    "X"
   ]
  },
  {
   "cell_type": "markdown",
   "metadata": {},
   "source": [
    "The columns of `X` are indeed the eigenvectors from above, but they are scaled differently (they are normalized to unit length).  If we divide each one by its first element, though, we should recover our scaling from above:"
   ]
  },
  {
   "cell_type": "code",
   "execution_count": 11,
   "metadata": {},
   "outputs": [
    {
     "data": {
      "text/plain": [
       "2-element Array{Float64,1}:\n",
       " 1.0\n",
       " 1.0"
      ]
     },
     "execution_count": 11,
     "metadata": {},
     "output_type": "execute_result"
    }
   ],
   "source": [
    "X[:,1] / X[1,1]  # first column, with first entry scaled to 1"
   ]
  },
  {
   "cell_type": "code",
   "execution_count": 12,
   "metadata": {},
   "outputs": [
    {
     "data": {
      "text/plain": [
       "2-element Array{Float64,1}:\n",
       " 1.0\n",
       " 2.0"
      ]
     },
     "execution_count": 12,
     "metadata": {},
     "output_type": "execute_result"
    }
   ],
   "source": [
    "X[:,2] / X[1,2] # second column, with second entry scaled to 1"
   ]
  },
  {
   "cell_type": "markdown",
   "metadata": {},
   "source": [
    "In practice, computing eigenvalues by hand, especially by this method, is even more pointless than doing Gaussian elimination by hand, for reasons explained below, so I will **focus more on the properties of eigenvalues and how to use them than how to compute them.**  The computer will give us their values."
   ]
  },
  {
   "cell_type": "code",
   "execution_count": 13,
   "metadata": {},
   "outputs": [
    {
     "data": {
      "text/html": [
       "0.4472135954999579"
      ],
      "text/plain": [
       "0.4472135954999579"
      ]
     },
     "execution_count": 13,
     "metadata": {},
     "output_type": "execute_result"
    }
   ],
   "source": [
    "1/sqrt(5)"
   ]
  },
  {
   "cell_type": "markdown",
   "metadata": {},
   "source": [
    "## Matrix powers: A first look\n",
    "\n",
    "If you multiply an eigenvector by $A^n$, it just multiplies the vector by $\\lambda^n$.  We will explore this more later, but for now let's try a couple of quick examples:"
   ]
  },
  {
   "cell_type": "code",
   "execution_count": 14,
   "metadata": {},
   "outputs": [
    {
     "data": {
      "text/plain": [
       "2-element Array{Int64,1}:\n",
       " 32\n",
       " 32"
      ]
     },
     "execution_count": 14,
     "metadata": {},
     "output_type": "execute_result"
    }
   ],
   "source": [
    "A^5 * [1,1] # gives 2⁵ * [1,1] = [32, 32]"
   ]
  },
  {
   "cell_type": "markdown",
   "metadata": {},
   "source": [
    "What if we multiply some *other* vector $y$ by $A^n$? To understand what happens, we **expand *y* in the basis of eigenvectors**.  A simple example is:\n",
    "$$\n",
    "A^n \\begin{pmatrix} 2 \\\\ 3 \\end{pmatrix} = A^n \\left[ \\begin{pmatrix} 1 \\\\ 1 \\end{pmatrix} + \\begin{pmatrix} 1 \\\\ 2 \\end{pmatrix} \\right]\n",
    "= 2^n \\begin{pmatrix} 1 \\\\ 1 \\end{pmatrix} + 3^n \\begin{pmatrix} 1 \\\\ 2 \\end{pmatrix} \\approx 3^n \\begin{pmatrix} 1 \\\\ 2 \\end{pmatrix} \\mbox{ for } n \\gg 1.\n",
    "$$\n",
    "In this basis **each eigenvector is multiplied by λⁿ**.  Furthermore the **term with the biggest |λ| grows fastest** so for large *n* the result is approximately in the corresponding eigenvector direction."
   ]
  },
  {
   "cell_type": "code",
   "execution_count": 15,
   "metadata": {},
   "outputs": [
    {
     "data": {
      "text/plain": [
       "2-element Array{Float64,1}:\n",
       " 5.15378e47\n",
       " 1.03076e48"
      ]
     },
     "execution_count": 15,
     "metadata": {},
     "output_type": "execute_result"
    }
   ],
   "source": [
    "y = A^100.0 * [2,3]"
   ]
  },
  {
   "cell_type": "code",
   "execution_count": 38,
   "metadata": {},
   "outputs": [
    {
     "data": {
      "text/plain": [
       "2-element Array{Float64,1}:\n",
       " 5.15378e47\n",
       " 1.03076e48"
      ]
     },
     "execution_count": 38,
     "metadata": {},
     "output_type": "execute_result"
    }
   ],
   "source": [
    "2^100.0 * [1,1] + 3^100.0 * [1,2]  # same, but computed with eigenvectors"
   ]
  },
  {
   "cell_type": "markdown",
   "metadata": {},
   "source": [
    "The result is approximately a multiple of $(1,2)$, so the second component should be nearly double the first component:"
   ]
  },
  {
   "cell_type": "code",
   "execution_count": 16,
   "metadata": {},
   "outputs": [
    {
     "data": {
      "text/html": [
       "1.9999999999999993"
      ],
      "text/plain": [
       "1.9999999999999993"
      ]
     },
     "execution_count": 16,
     "metadata": {},
     "output_type": "execute_result"
    }
   ],
   "source": [
    "y[2] / y[1]"
   ]
  },
  {
   "cell_type": "markdown",
   "metadata": {},
   "source": [
    "The same reasoning shows that for *any* vector $z$ that is not a multiple of $(1,1)$, $A^{100}z$ will blow up proportional to $3^{100}$ and will be approximately parallel to $(1,2)$:"
   ]
  },
  {
   "cell_type": "code",
   "execution_count": 17,
   "metadata": {},
   "outputs": [
    {
     "data": {
      "text/plain": [
       "2-element Array{Float64,1}:\n",
       " -1.13383e49\n",
       " -2.26766e49"
      ]
     },
     "execution_count": 17,
     "metadata": {},
     "output_type": "execute_result"
    }
   ],
   "source": [
    "z = A^100.0 * [17,-5]"
   ]
  },
  {
   "cell_type": "code",
   "execution_count": 18,
   "metadata": {},
   "outputs": [
    {
     "data": {
      "text/html": [
       "2.0000000000000013"
      ],
      "text/plain": [
       "2.0000000000000013"
      ]
     },
     "execution_count": 18,
     "metadata": {},
     "output_type": "execute_result"
    }
   ],
   "source": [
    "z[2]/z[1] # approximately 2 since z is nearly parallel to (1,2)"
   ]
  },
  {
   "cell_type": "markdown",
   "metadata": {},
   "source": [
    "## Transpose: Same eigenvalues!\n",
    "\n",
    "One of the properties of determinant is that $\\det A^T = \\det A$.   It follows that\n",
    "$$\\det(A-\\lambda I) = \\det\\left[ (A -\\lambda I)^T \\right] = \\det (A^T - \\lambda I)$$\n",
    "and therefore $A$ and $A^T$ have the **same eigenvalues!**  (They have the **same characteristic polynomial**.)\n",
    "\n",
    "Let's check:"
   ]
  },
  {
   "cell_type": "code",
   "execution_count": 19,
   "metadata": {},
   "outputs": [
    {
     "data": {
      "text/plain": [
       "2-element Array{Float64,1}:\n",
       " 2.0\n",
       " 3.0"
      ]
     },
     "execution_count": 19,
     "metadata": {},
     "output_type": "execute_result"
    }
   ],
   "source": [
    "eigvals(A')"
   ]
  },
  {
   "cell_type": "markdown",
   "metadata": {},
   "source": [
    "Yup, same eigenvalues (2 and 3) as for $A$.\n",
    "\n",
    "However, $A$ and $A^T$ in general have **different eigenvectors**, because the **left and right nullspaces are not usually the same**.  $N(A - \\lambda I) \\ne N(A^T - \\lambda I)$ in general.  Here, the eigenvectors are:"
   ]
  },
  {
   "cell_type": "code",
   "execution_count": 20,
   "metadata": {},
   "outputs": [
    {
     "data": {
      "text/plain": [
       "2×2 Array{Float64,2}:\n",
       "  1.0   1.0\n",
       " -0.5  -1.0"
      ]
     },
     "execution_count": 20,
     "metadata": {},
     "output_type": "execute_result"
    }
   ],
   "source": [
    "Y = eigvecs(A')\n",
    "Y ./ Y[1,:]' # normalize so that the first components are 1, for easier comparison"
   ]
  },
  {
   "cell_type": "markdown",
   "metadata": {},
   "source": [
    "Notice that these are different from the (1,1) and (1,2) that we got above.\n",
    "\n",
    "As you might guess, the eigenvectors of $A^T$ are sometimes called its **left eigenvectors**."
   ]
  },
  {
   "cell_type": "markdown",
   "metadata": {},
   "source": [
    "## Complex eigenvalues\n",
    "\n",
    "If we change the matrix to:\n",
    "$$\n",
    "\\begin{pmatrix} 1 & 3 \\\\ -2 & 4 \\end{pmatrix}\n",
    "$$\n",
    "we get a characteristic polynomial:\n",
    "$$\n",
    "\\det \\begin{pmatrix} 1 - \\lambda & 3 \\\\ -2 & 4 - \\lambda \\end{pmatrix} = (1 - \\lambda)(4 - \\lambda) - (3)(-2) = \\lambda^2 - 5\\lambda + 10\n",
    "$$\n",
    "whose roots, from the quadratic formula, are:\n",
    "$$\n",
    "\\lambda = \\frac{5 \\pm \\sqrt{5^2 - 40}}{2} = \\frac{5 \\pm \\sqrt{-15}}{2}\n",
    "$$\n",
    "which are complex!  Let's check:"
   ]
  },
  {
   "cell_type": "code",
   "execution_count": 21,
   "metadata": {},
   "outputs": [
    {
     "data": {
      "text/plain": [
       "2-element Array{Complex{Float64},1}:\n",
       " 2.5+1.93649im\n",
       " 2.5-1.93649im"
      ]
     },
     "execution_count": 21,
     "metadata": {},
     "output_type": "execute_result"
    }
   ],
   "source": [
    "eigvals([1 3\n",
    "        -2 4])"
   ]
  },
  {
   "cell_type": "code",
   "execution_count": 22,
   "metadata": {},
   "outputs": [
    {
     "data": {
      "text/html": [
       "2.5 + 1.9364916731037085im"
      ],
      "text/plain": [
       "2.5 + 1.9364916731037085im"
      ]
     },
     "execution_count": 22,
     "metadata": {},
     "output_type": "execute_result"
    }
   ],
   "source": [
    "(5 + sqrt(15)*im) / 2"
   ]
  },
  {
   "cell_type": "markdown",
   "metadata": {},
   "source": [
    "Yup, it matches our formula.\n",
    "\n",
    "**Eigenvalues may be complex numbers, even for real matrices**.  We can't avoid complex numbers for any longer in 18.06!\n",
    "\n",
    "(But, for real matrices, they are the [roots of a real polynomial](https://en.wikipedia.org/wiki/Complex_conjugate_root_theorem) and hence come in [complex conjugate pairs](https://en.wikipedia.org/wiki/Complex_conjugate).)"
   ]
  },
  {
   "cell_type": "markdown",
   "metadata": {},
   "source": [
    "# The perils of polynomial roots\n",
    "\n",
    "You might think that finding roots of polynomials is we must inevitably find eigenvalues.  In fact, although we use the characteristic polynomial to *think* about eigenvalues, in practice they are not used to *compute* them except for tiny matrices.\n",
    "\n",
    "In fact, working with the characteristic polynomial is a computational disaster in general, because **roots of polynomials are exponentially sensitive to their coefficients**.  Any tiny roundoff error leads to disaster.\n",
    "\n",
    "For example, consider the polynomial\n",
    "\n",
    "$$\n",
    "w(x) = (x - 1) (x - 2) (x - 3) \\cdots (x - 10)\n",
    "$$\n",
    "whose roots are, obviously, ${1,2,\\ldots,10}$.  What happens if we actually multiply this polynomial together and compute the roots from the coefficients?"
   ]
  },
  {
   "cell_type": "code",
   "execution_count": 23,
   "metadata": {},
   "outputs": [
    {
     "data": {
      "text/latex": [
       "$3.6288e6 - 1.062864e7\\cdot x + 1.2753576e7\\cdot x^{2} - 8.4095e6\\cdot x^{3} + 3.41693e6\\cdot x^{4} - 902055.0\\cdot x^{5} + 157773.0\\cdot x^{6} - 18150.0\\cdot x^{7} + 1320.0\\cdot x^{8} - 55.0\\cdot x^{9} + 1.0\\cdot x^{10}$"
      ],
      "text/plain": [
       "Poly(3.6288e6 - 1.062864e7*x + 1.2753576e7*x^2 - 8.4095e6*x^3 + 3.41693e6*x^4 - 902055.0*x^5 + 157773.0*x^6 - 18150.0*x^7 + 1320.0*x^8 - 55.0*x^9 + 1.0*x^10)"
      ]
     },
     "execution_count": 23,
     "metadata": {},
     "output_type": "execute_result"
    }
   ],
   "source": [
    "w = prod([Poly([-n, 1.0]) for n = 1:10])"
   ]
  },
  {
   "cell_type": "markdown",
   "metadata": {},
   "source": [
    "Already, this seems hard: how do we find roots of a high-degree polynomial?  More on this below.\n",
    "\n",
    "For the moment, we will just use a \"black box\" function `roots` provided by the Polynomials package to \"magically\" get the roots of $w$ from its coefficients:"
   ]
  },
  {
   "cell_type": "code",
   "execution_count": 24,
   "metadata": {},
   "outputs": [
    {
     "data": {
      "text/plain": [
       "10-element Array{Float64,1}:\n",
       " 10.0\n",
       "  9.0\n",
       "  8.0\n",
       "  7.0\n",
       "  6.0\n",
       "  5.0\n",
       "  4.0\n",
       "  3.0\n",
       "  2.0\n",
       "  1.0"
      ]
     },
     "execution_count": 24,
     "metadata": {},
     "output_type": "execute_result"
    }
   ],
   "source": [
    "roots(w)"
   ]
  },
  {
   "cell_type": "markdown",
   "metadata": {},
   "source": [
    "Looks good!  The roots are what they should be.\n",
    "\n",
    "Howevever, suppose we make a *tiny error* in computing the coefficients.  Let's multiply each coefficient by $1 + \\epsilon$, where $\\epsilon$ is a *random small number* of root-mean-square value $R$.\n",
    "\n",
    "The following code plots the roots in the [complex plane](https://en.wikipedia.org/wiki/Complex_plane) for 100 random perturbations, and lets us vary the magnitude $R$ of the pertubation:"
   ]
  },
  {
   "cell_type": "code",
   "execution_count": 25,
   "metadata": {},
   "outputs": [
    {
     "data": {
      "text/html": [
       "<div class='tex2jax_ignore interactbulma'>\n",
       "<div class='display:none'></div><unsafe-script style='display:none'>\n",
       "WebIO.mount(this.previousSibling,{&quot;props&quot;:{},&quot;nodeType&quot;:&quot;DOM&quot;,&quot;type&quot;:&quot;node&quot;,&quot;instanceArgs&quot;:{&quot;namespace&quot;:&quot;html&quot;,&quot;tag&quot;:&quot;div&quot;},&quot;children&quot;:[{&quot;props&quot;:{&quot;className&quot;:&quot;field&quot;},&quot;nodeType&quot;:&quot;DOM&quot;,&quot;type&quot;:&quot;node&quot;,&quot;instanceArgs&quot;:{&quot;namespace&quot;:&quot;html&quot;,&quot;tag&quot;:&quot;div&quot;},&quot;children&quot;:[{&quot;props&quot;:{},&quot;nodeType&quot;:&quot;Scope&quot;,&quot;type&quot;:&quot;node&quot;,&quot;instanceArgs&quot;:{&quot;imports&quot;:{&quot;data&quot;:[{&quot;name&quot;:&quot;knockout&quot;,&quot;type&quot;:&quot;js&quot;,&quot;url&quot;:&quot;/assetserver/d6df0bcbf61025c952fa7d6260c0502952fc6253-knockout.js&quot;},{&quot;name&quot;:&quot;knockout_punches&quot;,&quot;type&quot;:&quot;js&quot;,&quot;url&quot;:&quot;/assetserver/76b9e9b6191c21207f614aefd21121e841930334-knockout_punches.js&quot;},{&quot;name&quot;:null,&quot;type&quot;:&quot;js&quot;,&quot;url&quot;:&quot;/assetserver/aee18abf5b39fa7dbdb49e13ea37aa8617a93fca-all.js&quot;},{&quot;name&quot;:null,&quot;type&quot;:&quot;css&quot;,&quot;url&quot;:&quot;/assetserver/b8ef71fc8f8c937f705d60a54c85dd170cf7e73f-style.css&quot;},{&quot;name&quot;:null,&quot;type&quot;:&quot;css&quot;,&quot;url&quot;:&quot;/assetserver/342c1e68f950ec6d9432ff00342c66dae6d08a65-main.css&quot;}],&quot;type&quot;:&quot;async_block&quot;},&quot;id&quot;:&quot;knockout-component-49c4814b-48b2-4671-a688-f13752e3c5d2&quot;,&quot;handlers&quot;:{&quot;_promises&quot;:{&quot;importsLoaded&quot;:[function (ko, koPunches) {\n",
       "    ko.punches.enableAll();\n",
       "    ko.bindingHandlers.numericValue = {\n",
       "        init : function(element, valueAccessor, allBindings, data, context) {\n",
       "            var stringified = ko.observable(ko.unwrap(valueAccessor()));\n",
       "            stringified.subscribe(function(value) {\n",
       "                var val = parseFloat(value);\n",
       "                if (!isNaN(val)) {\n",
       "                    valueAccessor()(val);\n",
       "                }\n",
       "            })\n",
       "            valueAccessor().subscribe(function(value) {\n",
       "                var str = JSON.stringify(value);\n",
       "                if ((str == &quot;0&quot;) &amp;&amp; ([&quot;-0&quot;, &quot;-0.&quot;].indexOf(stringified()) &gt;= 0))\n",
       "                     return;\n",
       "                 if ([&quot;null&quot;, &quot;&quot;].indexOf(str) &gt;= 0)\n",
       "                     return;\n",
       "                stringified(str);\n",
       "            })\n",
       "            ko.applyBindingsToNode(element, { value: stringified, valueUpdate: allBindings.get(&#39;valueUpdate&#39;)}, context);\n",
       "        }\n",
       "    };\n",
       "    var json_data = JSON.parse(&quot;{\\&quot;changes\\&quot;:0,\\&quot;value\\&quot;:-6.5}&quot;);\n",
       "    var self = this;\n",
       "    function AppViewModel() {\n",
       "        for (var key in json_data) {\n",
       "            var el = json_data[key];\n",
       "            this[key] = Array.isArray(el) ? ko.observableArray(el) : ko.observable(el);\n",
       "        }\n",
       "        \n",
       "        [this[&quot;displayedvalue&quot;]=ko.computed(function () {return this.value().toPrecision(6);},this)]\n",
       "        [this[&quot;changes&quot;].subscribe((function (val){!(this.valueFromJulia[&quot;changes&quot;]) ? (WebIO.setval({&quot;name&quot;:&quot;changes&quot;,&quot;scope&quot;:&quot;knockout-component-49c4814b-48b2-4671-a688-f13752e3c5d2&quot;,&quot;id&quot;:&quot;ob_02&quot;,&quot;type&quot;:&quot;observable&quot;},val)) : undefined; return this.valueFromJulia[&quot;changes&quot;]=false}),self),this[&quot;value&quot;].subscribe((function (val){!(this.valueFromJulia[&quot;value&quot;]) ? (WebIO.setval({&quot;name&quot;:&quot;value&quot;,&quot;scope&quot;:&quot;knockout-component-49c4814b-48b2-4671-a688-f13752e3c5d2&quot;,&quot;id&quot;:&quot;ob_01&quot;,&quot;type&quot;:&quot;observable&quot;},val)) : undefined; return this.valueFromJulia[&quot;value&quot;]=false}),self)]\n",
       "        \n",
       "    }\n",
       "    self.model = new AppViewModel();\n",
       "    self.valueFromJulia = {};\n",
       "    for (var key in json_data) {\n",
       "        self.valueFromJulia[key] = false;\n",
       "    }\n",
       "    ko.applyBindings(self.model, self.dom);\n",
       "}\n",
       "]},&quot;changes&quot;:[(function (val){return (val!=this.model[&quot;changes&quot;]()) ? (this.valueFromJulia[&quot;changes&quot;]=true, this.model[&quot;changes&quot;](val)) : undefined})],&quot;value&quot;:[(function (val){return (val!=this.model[&quot;value&quot;]()) ? (this.valueFromJulia[&quot;value&quot;]=true, this.model[&quot;value&quot;](val)) : undefined})]},&quot;systemjs_options&quot;:null,&quot;observables&quot;:{&quot;changes&quot;:{&quot;sync&quot;:false,&quot;id&quot;:&quot;ob_02&quot;,&quot;value&quot;:0},&quot;value&quot;:{&quot;sync&quot;:true,&quot;id&quot;:&quot;ob_01&quot;,&quot;value&quot;:-6.5}}},&quot;children&quot;:[{&quot;props&quot;:{&quot;attributes&quot;:{&quot;style&quot;:&quot;display:flex; justify-content:center; align-items:center;&quot;}},&quot;nodeType&quot;:&quot;DOM&quot;,&quot;type&quot;:&quot;node&quot;,&quot;instanceArgs&quot;:{&quot;namespace&quot;:&quot;html&quot;,&quot;tag&quot;:&quot;div&quot;},&quot;children&quot;:[{&quot;props&quot;:{&quot;attributes&quot;:{&quot;style&quot;:&quot;text-align:right;width:18%&quot;}},&quot;nodeType&quot;:&quot;DOM&quot;,&quot;type&quot;:&quot;node&quot;,&quot;instanceArgs&quot;:{&quot;namespace&quot;:&quot;html&quot;,&quot;tag&quot;:&quot;div&quot;},&quot;children&quot;:[{&quot;props&quot;:{&quot;className&quot;:&quot;interact &quot;,&quot;style&quot;:{&quot;padding&quot;:&quot;5px 10px 0px 10px&quot;}},&quot;nodeType&quot;:&quot;DOM&quot;,&quot;type&quot;:&quot;node&quot;,&quot;instanceArgs&quot;:{&quot;namespace&quot;:&quot;html&quot;,&quot;tag&quot;:&quot;label&quot;},&quot;children&quot;:[&quot;logR&quot;]}]},{&quot;props&quot;:{&quot;attributes&quot;:{&quot;style&quot;:&quot;flex-grow:1; margin: 0 2%&quot;}},&quot;nodeType&quot;:&quot;DOM&quot;,&quot;type&quot;:&quot;node&quot;,&quot;instanceArgs&quot;:{&quot;namespace&quot;:&quot;html&quot;,&quot;tag&quot;:&quot;div&quot;},&quot;children&quot;:[{&quot;props&quot;:{&quot;max&quot;:-1.0,&quot;min&quot;:-12.0,&quot;attributes&quot;:{&quot;type&quot;:&quot;range&quot;,&quot;data-bind&quot;:&quot;numericValue: value, valueUpdate: &#39;input&#39;, event: {change : function () {this.changes(this.changes()+1)}}&quot;},&quot;step&quot;:0.1,&quot;className&quot;:&quot;slider slider is-fullwidth&quot;,&quot;style&quot;:{}},&quot;nodeType&quot;:&quot;DOM&quot;,&quot;type&quot;:&quot;node&quot;,&quot;instanceArgs&quot;:{&quot;namespace&quot;:&quot;html&quot;,&quot;tag&quot;:&quot;input&quot;},&quot;children&quot;:[]}]},{&quot;props&quot;:{&quot;attributes&quot;:{&quot;style&quot;:&quot;width:18%&quot;}},&quot;nodeType&quot;:&quot;DOM&quot;,&quot;type&quot;:&quot;node&quot;,&quot;instanceArgs&quot;:{&quot;namespace&quot;:&quot;html&quot;,&quot;tag&quot;:&quot;div&quot;},&quot;children&quot;:[{&quot;props&quot;:{&quot;attributes&quot;:{&quot;data-bind&quot;:&quot;text: displayedvalue&quot;}},&quot;nodeType&quot;:&quot;DOM&quot;,&quot;type&quot;:&quot;node&quot;,&quot;instanceArgs&quot;:{&quot;namespace&quot;:&quot;html&quot;,&quot;tag&quot;:&quot;p&quot;},&quot;children&quot;:[]}]}]}]}]},{&quot;props&quot;:{},&quot;nodeType&quot;:&quot;Scope&quot;,&quot;type&quot;:&quot;node&quot;,&quot;instanceArgs&quot;:{&quot;imports&quot;:{&quot;data&quot;:[],&quot;type&quot;:&quot;async_block&quot;},&quot;id&quot;:&quot;scope-22e84a9d-460c-48b5-9440-7011ba7ef010&quot;,&quot;handlers&quot;:{&quot;obs-output&quot;:[function (updated_htmlstr) {\n",
       "    var el = this.dom.querySelector(&quot;#out&quot;);\n",
       "    WebIO.propUtils.setInnerHtml(el, updated_htmlstr);\n",
       "}]},&quot;systemjs_options&quot;:null,&quot;observables&quot;:{&quot;obs-output&quot;:{&quot;sync&quot;:false,&quot;id&quot;:&quot;ob_06&quot;,&quot;value&quot;:&quot;&lt;div class=&#39;display:none&#39;&gt;&lt;/div&gt;&lt;unsafe-script style=&#39;display:none&#39;&gt;\\nWebIO.mount(this.previousSibling,{&amp;quot;props&amp;quot;:{&amp;quot;attributes&amp;quot;:{&amp;quot;style&amp;quot;:&amp;quot;display:flex; justify-content:center; align-items:center;&amp;quot;}},&amp;quot;nodeType&amp;quot;:&amp;quot;DOM&amp;quot;,&amp;quot;type&amp;quot;:&amp;quot;node&amp;quot;,&amp;quot;instanceArgs&amp;quot;:{&amp;quot;namespace&amp;quot;:&amp;quot;html&amp;quot;,&amp;quot;tag&amp;quot;:&amp;quot;div&amp;quot;},&amp;quot;children&amp;quot;:[{&amp;quot;props&amp;quot;:{&amp;quot;setInnerHtml&amp;quot;:&amp;quot;&amp;lt;img src=&amp;#39;data:image/png;base64,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&amp;#39;&amp;gt;&amp;lt;/img&amp;gt;&amp;quot;},&amp;quot;nodeType&amp;quot;:&amp;quot;DOM&amp;quot;,&amp;quot;type&amp;quot;:&amp;quot;node&amp;quot;,&amp;quot;instanceArgs&amp;quot;:{&amp;quot;namespace&amp;quot;:&amp;quot;html&amp;quot;,&amp;quot;tag&amp;quot;:&amp;quot;div&amp;quot;},&amp;quot;children&amp;quot;:[]}]})&lt;/unsafe-script&gt;&quot;}}},&quot;children&quot;:[{&quot;props&quot;:{&quot;id&quot;:&quot;out&quot;,&quot;setInnerHtml&quot;:&quot;&lt;div class=&#39;display:none&#39;&gt;&lt;/div&gt;&lt;unsafe-script style=&#39;display:none&#39;&gt;\\nWebIO.mount(this.previousSibling,{&amp;quot;props&amp;quot;:{&amp;quot;attributes&amp;quot;:{&amp;quot;style&amp;quot;:&amp;quot;display:flex; justify-content:center; align-items:center;&amp;quot;}},&amp;quot;nodeType&amp;quot;:&amp;quot;DOM&amp;quot;,&amp;quot;type&amp;quot;:&amp;quot;node&amp;quot;,&amp;quot;instanceArgs&amp;quot;:{&amp;quot;namespace&amp;quot;:&amp;quot;html&amp;quot;,&amp;quot;tag&amp;quot;:&amp;quot;div&amp;quot;},&amp;quot;children&amp;quot;:[{&amp;quot;props&amp;quot;:{&amp;quot;setInnerHtml&amp;quot;:&amp;quot;&amp;lt;img src=&amp;#39;data:image/png;base64,iVBORw0KGgoAAAANSUhEUgAAApsAAAHHCAYAAADwNpN1AAAABHNCSVQICAgIfAhkiAAAAAlwSFlzAAAPYQAAD2EBqD+naQAAADl0RVh0U29mdHdhcmUAbWF0cGxvdGxpYiB2ZXJzaW9uIDIuMi4zLCBodHRwOi8vbWF0cGxvdGxpYi5vcmcvIxREBQAAIABJREFUeJzs3Xd8FGX+B/DPboAkJhBaqBt6UFCaEKRIkRbxRLAgckiRSNFTmiKg3gk2qpyeiAoEEP2JNAsIJ1ICigQNYDwLeCAtqyCokABSs8/vj7lZtszszobMJM/k83699gV5dnbmeabsfPeZpziEEAJERERERCZwFnUGiIiIiMi+GGwSERERkWkYbBIRERGRaRhsEhEREZFpGGwSERERkWkYbBIRERGRaRhsEhEREZFpGGwSERERkWkYbBIRERGRaRhsEhEREZFpGGwSERERkWmKdbC5fft2TJ48GadOnbJ828uWLcP111+P2NhYOBwOZGdnh/3Ms88+i8aNG8Pj8ViQQ32nT5/GE088gR49eiAxMREOhwOTJ0/WXDY9PR01a9bE2bNnTctPcdkvQGT7BgDOnDmDMWPGoEaNGoiJiUHz5s3x3nvv+S1jxT4EgMWLF8PhcODQoUMAQl8fkydPhsPhwG+//WZqngqb3nVXkOuxuDD7e8yqY61up7jkR70e1FepUqVQvXp13Hfffdi3b1+hbSc7Oxt/+ctfUKtWLcTGxqJixYpo27Yt3nnnHUOfj/Q7Z9u2bbjttttQoUIFxMbGIjk5Gc8995zfMps3b8bQoUNx3XXXIS4uDjVr1kTv3r2xa9euAi0HAEOGDPHbn4GvHTt2FGhZo2WKZFkj38sF2fdGt//111+jT58+qFGjBq655hpcd911ePbZZ/Hnn3/6LWf03Il0f3711VdITU1F2bJlER8fj1tuuQVffPFFyHIVRKT5CqXYB5tTpkyxPNg8ceIEBg4ciPr16+OTTz5BZmYmGjZsGPIzv/zyC2bMmIFnn30WTmfR7tbff/8d8+bNw4ULF9CnT5+Qyw4ePBhxcXGYMWOGKXkpTvsFiGzfAMBdd92Ft956C8888wz+/e9/IyUlBf3798e7777rXcbsfaj6y1/+gszMTFSvXh1A0V0fZtG77gpyPRYndjtOxc2iRYuQmZmJjRs34pFHHsHq1atx88034+TJk4Wy/lOnTiEpKQkvvvgi1q1bhyVLlqBOnToYOHAgnn/++bCfj+Q7591330WnTp2QkJCAJUuWYN26dZgwYQKEEH7Lvf766zh06BBGjx6NdevW4ZVXXsHx48fRpk0bbN68OeLlAODvf/87MjMzg16VK1dGzZo1kZKSUqBljZYpkmWNfC9Huu+Nbv+HH35Au3btcOjQIbz88sv4+OOPcd999+HZZ59F//79/dZn9NyJZH9mZWWhY8eOOHfuHN5++228/fbbOH/+PLp27YrMzMywZYxEJPkKSxSCs2fPFsZqgsycOVMAEAcPHjRl/Xq2bdsmAIhly5YZ/swTTzwhatasKfLz803MmTEej0d4PB4hhBAnTpwQAMQzzzyju/ysWbNEQkKCKcexOO0XISLbN2vXrhUAxLvvvuuX3r17d1GjRg1x+fJlb5qZ+1BPqOvjmWeeEQDEiRMnLMvP1dK77gpyPRYH6rlg1veYun6rjrW6HaPLmZ2fRYsWCQAiKyvLL33KlCkCgFi4cKGp27/ppptEUlJS2OWMfue43W4RFxcnHnroobDr/PXXX4PSTp8+LapWrSq6du0a8XJ6tmzZIgCIp59+ukDLRlImo8tG8r0cyfe90e0/9dRTAoDYv3+/X/rw4cMFAPHHH3+E/LwQxs4dvX2fmpoqqlat6nevycvLE5UrVxbt2rULu+2rFck54Sviqib1Ecnu3btxzz33oEKFCqhfvz4Apfq5a9euKFu2LK655hq0a9cOa9eu1VxPuGUnT56M8ePHAwDq1q3rrbbdsmULTpw4geHDhyMpKQnR0dFITExE+/btsXHjxrD5D7fdIUOG4OabbwYA9OvXDw6HA507dw65zosXLyI9PR1//etf/Wrvjh49ivj4eNx3331+y3/88ccoXbo0nnrqqbD5LQh1Xxk1YMAA5OXlaT6GuBp6+wWQY9988MEHiI+PR9++ff3SH3jgAfzyyy/48ssvvWlG9+H3338Ph8OBFStWeNN27doFh8OB66+/3m/ZO+64Ay1btvT+7fsYPdT14evXX39F//79kZCQgKpVq2Lo0KHIzc01VP69e/eif//+qFq1KqKjo1GrVi0MGjQIFy5c8C5j9Jrft28f/vrXv6JKlSqIjo5Go0aN8Nprr3nf17vuQl2PBf0eUL/Dvv76a9x1110oV64cEhIScP/99+PEiRMR5913nYHfi6GO05AhQ1CnTh3d/BlZv6+cnJyw5TFSFgBYu3YtmjdvjujoaNStWxezZs0KuU+1hMvP559/DofDgaVLlwZ9dsmSJXA4HMjKyop4u61atQKgnPtmqly5MkqVKhV2OaPfOQsWLMDZs2cxYcKEsMtWqVIlKC0+Ph6NGzdGTk5OxMvpSU9Ph8PhwNChQwu0bCRlMrpsJN/LkXzfG91+6dKlAQAJCQl+6eXLl4fT6USZMmXCbsvIuaO377/44gt07twZ11xzjTetbNmy6NixI7Zv346jR4/6LW/0mjcqknPCT6RRrfqrtXbt2mLChAliw4YN4sMPPxRbtmwRpUuXFi1bthTLli0TH374oejRo4dwOBzivffeC4qMwy2bk5MjHn30UQFAvP/++yIzM1NkZmaK3NxckZqaKhITE8W8efPEli1bxIcffij+8Y9/BG0nkJHt7t+/X7z22msCgHjxxRdFZmam+P7770Ou97PPPhMAxLp164LemzJlinA4HGLnzp1CCCEyMjJETEyMePTRRw3v86thpGZTCCEaNWok7rrrrkLddqj9IkTx3zdt2rQRKSkpQenfffedACDefPNNv3Sj+7B69epi+PDh3r+nTZsmYmNjBQDx888/CyGEuHTpkihXrpx44oknvMupNTkHDx4MeX0IceU6vfbaa8U//vEPsWHDBjF79mwRHR0tHnjggbB5zM7OFvHx8aJOnTrijTfeEJs2bRLvvPOOuPfee0VeXp4Qwtj1JIQQ33//vUhISBBNmjQRS5YsEZ9++ql47LHHhNPpFJMnTxZC6F93oa7Hgn4P+H6HjR8/Xqxfv17Mnj1bxMXFiRYtWoiLFy9GlPfAdfp+L4Y6ToMHDxa1a9fWzZ9enn3XH0l5jJZl48aNIioqStx8883i/fffFytWrBApKSmiVq1aEdVsGtm/LVq0EO3btw9aR0pKiua150uvZnPOnDkCgFi1apVfusfjEZcuXTL00pKfny8uXbokjh8/Ll577TVRqlQp8cYbb4TdH75Cfed06dJFVKxYUXzyySeiWbNmIioqSiQmJooRI0Z4r+tQTp06JRISEsSdd95ZaMvFxsaKbt26Gdq21rKRlMnospF+L6vCfd8b3f7BgwdF+fLlxT333CN++uknkZeXJ9asWSMSEhJ0712Rnjuh9n2ZMmXEoEGDgtL79+8vAIj169d704xe80ZFck4EKnCw+Y9//MMvvU2bNqJKlSri9OnT3rTLly+LG264QbhcLm9VdiTL6j1+io+PF2PGjIk064a3m5GRIQCIFStWGFrv9OnTBQBx7NixoPfOnj0ratSoIbp27Sq++uorUbZsWfHAAw/47Q8zGQ02BwwYIKpWreqX5vF4xMmTJ4MeDZ87d06cPHnS73GFEELk5uZ6AxEhQu8XIYr/vklOThapqalB6b/88os3+PGltQ+13H///aJevXrev7t16yaGDRsmKlSoIN566y0hhBBffPGFACA+/fRT73K+waYQxh6jz5gxwy/94YcfFjExMWH3cZcuXUT58uXF8ePHdZcxej2lpqYKl8sVdHN55JFHRExMjPexk951p5de0O8Bdd+MHTvWL/3//u//BADxzjvveNOM5l3ve1EI/eNUkGBTa/1Gy2O0LDfddJOoUaOGOHfunHeZvLw8UbFixYiCTSP7Vz2nv/76a2/aV199JQB4rwU96md37NghLl26JE6fPi0++eQTUa1aNdGxY8egoFE9j4y8tK6pESNGeN8vU6aMmDt3bth9ESjUd861114rYmJiRNmyZcWLL74oMjIyxIwZM0RsbKxo37592Gt2wIABolSpUt4f71e73Ouvvy4AiKVLl4Ytl96ykZTJ6LKRfi+rwn3fR5LXPXv2iOuuu87vnBk1apTuMYr03Am175s3by4aNmzo1zTt0qVLol69ekHNC4xe80ZFck4EKnCw+c0333jTzpw5IxwOh3j44YeDllcDjj179kS8rN6XtHojfO6550RmZqbfL2U9kWw30mBz9OjRwuFwBAVfqoULFwoAIi4uTtx77726y/lu28jL9wtaj9Fgc+zYscLhcPh9QR89elQAEIMHD/ZbVj0HMjMz/dKrVq0qmjVr5v073H4Ronjvm+TkZHHrrbcGpatfalOnTvVL19qHWtSb5IEDB8S5c+dETEyMWLVqlbjrrrvE/fffL4RQan2jo6PFn3/+GfS5SILNvXv3+qW/8cYbIX8ACKH8CIiKivKrfQ1k9Ho6d+6cKFWqlHj00UeDao/WrVvnV/MdabBZkO8BIa7sm8Cb7aVLl0SpUqVEWlqaEEJElHet70VVYQabWus3Uh6jZTlz5oxwOp3ikUceCdrO4MGDIwo2w+1fIYQ4f/68qFKlinjwwQe9aQMHDhSJiYni/PnzIbejXg+Br0aNGomTJ08GLZ+XlyeysrIMvS5cuBD0+cOHD4usrCyxdu1aMXLkSOF0OsXMmTPD7g9fob5zkpOTNb9XXn75ZQFAbNiwQXe9Tz/9tAAgXn311ZDbN7qcEEK0atVKVKpUKexxCLVsJGUyumyk38sqI9/3RrZ/8OBB0aBBA9G+fXuxcuVKsXXrVjFjxgxRrlw5MXToUM11R3ruhNr36enpAoB46KGHhNvtFkeOHBFpaWkiKipKAPA+2Ynk+yvwfb2gOZJzIlD4Bic61B6xAHDy5EkIIfzSVDVq1ACg9AqLdFk9y5Ytw/PPP48FCxbg73//O+Lj43HnnXdixowZqFatmuZnCmO7es6dO4fSpUsjKipK832156zD4cDixYt1lwOAa6+9FvPnzze03Vq1akWeWR0xMTEQQuD8+fOIj48vlHWG2y9A8d43lSpV0jwn/vjjDwBAxYoV/dKN7sNu3boBADZu3Ii6devi0qVL6NKlC3799VfvEBsbN25E+/btERsbe9Vl8BUdHQ1AOTZ6Tp48ifz8fLhcrpDLGLmeypYti8uXL+PVV1/Fq6++qrmugg6RU5DvAV+By5QqVcrvmP/+++8R511rfxSmUOsPVR6jZTl58iQ8Ho/m/jOyT43mRxUdHY0RI0bgpZdewsyZM3Hp0iUsX74c48aN856r4SxZsgSNGjXC6dOnsWzZMrz55pvo378//v3vf/stFx8fj+bNmxtap1Z7ulq1anm/V2677TYAwKRJkzB48GAkJiYaWm8olSpVwr59+5CamuqX3rNnT4wZMwa7d+/2fnf4mjJlCp5//nm88MILeOSRR3TXb3Q5APjPf/6DnTt3YvTo0WGPQ6hlIymT0WUj/V42yuj2J06ciLy8PGRnZyMuLg4A0LFjR1SuXBlDhw7FoEGD0KlTJ791RHLuhNv3Q4cOxYkTJ/D888/j9ddfBwC0bdsWjz/+OKZPn46aNWsCMP79dejQIdStW9cvPSMjI6ivSiTnhJYCB5u+jW4rVKgAp9MZ1DAVUIa+AZQGsZEuq6dy5cp4+eWX8fLLL+PIkSNYvXo1Jk6ciOPHj+OTTz7R/ExhbDdUfi5evIizZ896Tz5VdnY2br/9drRv3x5ffPEFFi5ciL/97W+666pevToefPDBAuXjavzxxx+Ijo72C5KqVaumOTzF5MmTNccqO3bsmN/fofYLUPz3TZMmTbB06VJcvnzZ7+bz7bffAgBuuOEGv+W19qEWl8uFhg0bYuPGjahTpw5atWqF8uXLo2vXrnj44Yfx5ZdfYseOHZgyZUrhF8qAihUrIioqCm63W3cZo9dThQoVEBUVhYEDB+oe28AvOqMK8j3g69ixY94vZgC4fPkyfv/9d2+AXpC8R9IxLyYmxq+zlSpU8B1q/aHKY7QsMTExcDgcQdeyuv5IhNu/qoceegjTpk3DwoULcf78eVy+fBkjR440vJ1GjRp5OwXdcsstyM/Px4IFC7By5Urcc8893uW2bt2KW265xdA6Dx48qNl5y1fr1q3xxhtv4MCBA4USbDZt2lRz3EL1O1hr6LgpU6Z4v4+ffPJJ3XUbXU6Vnp4OAIa+b0MtG0mZjC4b6feyUUa3n52djcaNGwfd09RhgL777rugYDNQqHPHyL6fMGECxowZg3379qFs2bKoXbs2RowYgbi4OG+nUqPXfNmyZYM64l177bVBy0ZyTmiKtCpUb1iLtm3bimrVqvk99svPzxdNmjQJarNpdNl//etfAoD44YcfwuarT58+IjExMeQyRrcb6WP0JUuWaD7i2rt3r6hSpYro2bOnuHjxoujdu7eoXLmyOHXqlKH1Fgajj9G7d+8uWrRoUajb1tsvQsixb9RHDYEdTm699dagITaEiGwfPvzww6Jy5cqiRYsWfkNI1KpVS/To0UMAEF999ZXfZwIfo4e6PvSu08B16OnSpYuoUKFCyOFrjF5P3bp1E82aNdN8NOkr0sfoWox8D4RrU/j2229704zmXW9/C6F/nKZOnSqcTqdfk4YLFy6IBg0a6D5G11q/0fIYLYvZbTZ996/qr3/9q6hfv75ISkoSffr0CbsNIfQ7CP3xxx+iQoUKolGjRn7t2q72MXqggQMHCqfTGbJdc6BQ3znr168XAMQLL7zglz579mwBQHz++ed+6c8++6wAwg9BY3Q51fnz50XFihVF69atr3rZSMpkdNlIv5dV4b7vjW7/lltuEYmJiX5t1YUQYt68eQKAt+NeKHrnTiT73tfhw4dFQkJCUBt2o9d8OAXNl69CCzbVnqk33XSTWLFihfjoo49EampqyN7o4ZZVbzIjRowQ27dvF1lZWeLUqVOiRYsWYubMmWLNmjViy5YtYubMmSImJkb89a9/DZn3SLdrNNg8cuSIAPx7wR08eFC4XC7RoUMH7814z549Iioqyq+HsVnWrVsnVqxY4W0T2bdvX7FixQqxYsWKoA4/+fn5IiEhQYwbN65Q86C1X4SQa990795dVKhQQcybN09s3rxZDBs2TAD+nRyEiHwfrlq1ytvGbOvWrd70Bx54QAAQFSpUCBqbNDBQ1Lo+1A5aVxtsqr3R69Wr5y370qVLRf/+/YN6o4e7nr7//ntRoUIF0bp1a7Fo0SKRkZEhVq9eLWbPni1uueUW73KRBJtX8z0Q2Fv6008/Ff/85z9FfHx80Bez0byHCgb1jtOBAwdE6dKlRefOncXatWvFqlWrRKdOnUTdunULFGyGK4/Rsnz66afC6XSKm2++WXzwwQdi5cqVIiUlRSQlJUUUbBrZv6ovv/zSez1s3Lgx7DaE0A82hRBixowZuoFtpIYNGyYee+wxsWzZMrFlyxaxcuVK0a9fPwFAjB8/3rvcli1bRFRUlJgyZUrQOox+5/Tq1UtER0eL5557TmzYsEFMnTpVxMTEiNtvv91vfbNmzRIAxK233uod4cD3Felyvt577z0BQMybNy/svjGyrNEyRbKs0e9lISL7vjey/Y8++kg4HA7Rpk0bsWzZMrFp0ybxwgsviPj4eNG4cWO/89vouRPJ/vz222/F5MmTxccffyw2bNggZs2aJSpXrixatWoVFAAbvebDieSc0FNowaYQQnz++eeiS5cuIi4uTsTGxoo2bdqINWvWaK7H6LKTJk0SNWrUEE6nUwAQn3zyiRg5cqRo2rSpKFeunIiNjRXXXnuteOaZZwwNqG1ku5EGm0II0aFDB3HbbbcJIZSGyvXr1xc33nhjUC+wYcOGiejoaNMHqq9du7Zm43mtQGPTpk0CgNi1a1eh58N3vwgh3745ffq0GDVqlKhWrZooU6aMaNq0qWZPvEj34cmTJ4XT6RRxcXF+HVvU2h+tIZS0AsXA6yMjI0MIcfXBphBC/PDDD6Jv376iUqVKokyZMqJWrVpiyJAhfo3DjV7HBw8eFEOHDhU1a9YUpUuXFomJiaJdu3bi+eef9y4TSbB5/vz5An8PqPtm165dolevXiI+Pl6ULVtW9O/fX3MQbCN5D/W9KIT+cVq3bp1o3ry5iI2NFfXq1RNz5swJ2UEoVLBppDxGyiKEEKtXrxZNmzb1Hvdp06Zp5qsw9q+qTp06olGjRmHXrwoVbJ47d07UqlVLJCcnh+x0aMTChQtFhw4dROXKlUWpUqVE+fLlRadOnYICWfU81ao5M/qd8+eff4oJEyaIpKQkUapUKVGrVi0xadKkoA4ZnTp10l2f7zEyupyv7t27i7i4OL+RRfQYWdZomSJZ1uj3shCRfd8b3f7mzZtFjx49RLVq1URsbKxo2LCheOyxx8Rvv/3mt5zRcyeS/fnjjz+Kjh07iooVK4oyZcqIBg0aiKefflqcOXNGc3mj13wokZwTehxCaDTKo4itWrUK/fr1w+HDh/3aKclg4MCBOHDggClzq8q8XyJh5j6kwjV58mRMmTIFJ06cKHA7bSpc//nPf9CsWTO89tprePjhh4s6O0RUyIp+smqbuOuuu5CSkoKpU6cWdVYi8tNPP2HZsmWYPn26KeuXdb9Ewux9SGRXP/30EzZv3ozhw4ejevXqGDJkSFFniYhMwGCzkDgcDsyfPx81atSAx+Mp6uwYduTIEcyZM8c7JWBhk3W/RMLsfUhkV8899xy6d++OM2fOYMWKFX5T8BGRffAxOhERERGZhjWbRERERGQa2webn332GXr16oUaNWrA4XDgww8/DLn8li1b4HA4gl579+61KMdERERE9lHgGYRkcfbsWTRr1gwPPPAA7r77bsOf+/HHH1GuXDnv34UxQwQRERFRSWP7YLNnz57o2bNnxJ+rUqUKypcvX6Btejwe/PLLLyhbtmxE09cRERFR0RFC4PTp06hRo4bmFKFUMLYPNguqRYsWOH/+PBo3boynn37a8Jy6gDI3dFJSkom5IyIiIrPk5OTA5XIVdTZsg8FmgOrVq2PevHlo2bIlLly4gLfffhtdu3bFli1b0LFjR83PXLhwARcuXPD+rXbwz8nJ8XsUT0RERMVXXl4ekpKSULZs2aLOiq0w2Axw7bXX4tprr/X+3bZtW+Tk5GDWrFm6webUqVMxZcqUoPRy5cox2CQiIpIMm8AVLjZIMKBNmzbYt2+f7vuTJk1Cbm6u95WTk2Nh7oiIiIiKL9ZsGvD111+jevXquu9HR0cjOjrawhwRERERycH2weaZM2ewf/9+798HDx5EdnY2KlasiFq1amHSpEn4+eefsWTJEgDAyy+/jDp16uD666/HxYsX8c4772DVqlVYtWpVURWBiIiISFq2DzZ37tzp15N83LhxAIDBgwdj8eLFOHr0KI4cOeJ9/+LFi3j88cfx888/IzY2Ftdffz3Wrl2L2267zfK8ExEREcmOc6ObIC8vDwkJCcjNzWUHISIiIknw/m0OdhAiIiIiItMw2CQiIiIi0zDYJCIiIiLTMNgkIiIiItMw2CQiIiIi0zDYJCIiIiLTMNgkIqJixe0GMjKUf4lIfgw2iYio2EhPB2rXBrp0Uf5NTy/qHBHR1WKwSURExYLbDQwfDng8yt8eDzBiBGs4iWTHYJOIiIqFffuuBJqq/Hxg//6iyQ8RFQ4Gm0REVCwkJwPOgLtSVBTQoEHR5IeICgeDTSIiKhZcLmDePCXABJR/33xTSScieZUq6gwQERGp0tKA1FTl0XmDBgw0ieyAwSYRERUrLheDTCI74WN0IiIiIjINg00iIiIiMg2DTSIiIiIyDYNNIiIiIjINg00iIiIiMg2DTSIiIiIyDYNNIiIiIjINg00iIiIiMg2DTSIiIiIyDYNNIiIiIjINg00iIioW3G4gI0P5l4jsg8EmEREVufR0oHZtoEsX5d/09KLOEREVFgabRERUpNxuYPhwwONR/vZ4gBEjWMNJZBcMNomIqEjt23cl0FTl5wP79xdNfoiocDHYJCKiIpWcDDgD7kZRUUCDBkWTHyIqXAw2iYioSLlcwLx5SoAJKP+++aaSTkTyK1XUGSAiopLN7Qbq1QMyM4GzZ5UaTQaaRPbBmk0iIioyvr3Q27QBfvqJgSaR3TDYJCKiIsFe6EQlA4NNIiIqEuyFTlQyMNgkIqIiwV7oRCUDg00iIioS4Xqhc/pKIntgb3QiIioyaWlAaqry6Fyt0czIAHbuBCZOVB6zO51KUJqWVrR5JaKCcQghRFFnwm7y8vKQkJCA3NxclCtXrqizQ0QkhfR0/w5DvqKigEOH2FOdzMX7tzn4GJ2IiIpcYM/0QOw4RCQvBptERFTktHqm+2LHISJ5MdgkIqIip9UzXWXn6SvZCYpKAgabRERU5NSe6Q6Hf7rDAUybZs/OQb6zJ9WurfxNZEfsIGQCNjAmIoqc260EXYGP051O4PBhe9VsapWVnaCKHu/f5mDNJhERFQt67TY9Hvt1DuLsSVSSMNgkIqJiYdMm7XSn036dgzh7EpUkDDaJiKjIzZoFvPCC9nvz5tnv0XK42ZOI7IQzCBERUZFyu4EJE4o6F9YLnD2JgSbZFWs2iYgkZKchc8KNsTlihD3KqcXlAjp3ZqBJ9sZgk4hIMnYbMifUGJsAO84QyY7BJhGRRAKndfR45K/50xtjU2XHDkJEJQmDTSIiidh1yJzUVEBv1Ofhw/mYmUhmtg82P/vsM/Tq1Qs1atSAw+HAhx9+GPYzW7duRcuWLRETE4N69erhjTfesCCnRETh2XHIHLdbqdnU06WLdXkhosJn+2Dz7NmzaNasGebMmWNo+YMHD+K2225Dhw4d8PXXX+PJJ5/EqFGjsGrVKpNzSkQUXuCQOU4nMHZs0ebpaqjtT597Tn+Ztm2tyw8RFb4SNV2lw+HABx98gD5KgT4WAAAgAElEQVR9+uguM2HCBKxevRp79uzxpo0cORLffPMNMjMzDW2H010RkRncbuUxenKy8vcrrwCzZyuP1Z1OJQiVaQ5xvekpfT3yCPDqq9bliUo23r/NYfuazUhlZmaiR48efmmpqanYuXMnLl26pPmZCxcuIC8vz+9FRFSYAnugv/felUATkLOjULghjwBgzhz5e9uHkpWlHMesrKLOCZF5GGwGOHbsGKpWreqXVrVqVVy+fBm//fab5memTp2KhIQE7yspKcmKrBJRCaHVA33CBPk7CoUb8kj14INyBdFGDRkCtG4NPPaY8u+QIUWdIyJzMNjU4AgYf0NtaRCYrpo0aRJyc3O9r5ycHNPzSEQlh1YNoMcTPFSQbB2F1PanRgJOg62YpPHxx8Bbb/mnvfUWazjJnhhsBqhWrRqOHTvml3b8+HGUKlUKlSpV0vxMdHQ0ypUr5/ciIrpa6ixB8fHBAZnD4T9UkNMp59zaaWnAjh3GAk67SE8H7rhD+71Zs6zNC5EVStDlbUzbtm2xYcMGv7RPP/0UrVq1QunSpYsoV0RU0vi20WzTBhg40D8g0+ramZpqXf4KU0pK6BpOh8M+PdLVJhF6XXNXrrRnkwEq2WwfbJ45cwbZ2dnIzs4GoAxtlJ2djSNHjgBQHoEPGjTIu/zIkSNx+PBhjBs3Dnv27MHChQuRnp6Oxx9/vEjyT0Qlj1Ybzbff1g9Q1GVkaq8ZKC0NWLpU+73HHpOvxlZPuE5Rsh9HIi2lijoDZtu5cyduueUW79/jxo0DAAwePBiLFy/G0aNHvYEnANStWxfr1q3D2LFj8dprr6FGjRr417/+hbvvvtvyvBNRyaTXRjMU2dprBnK7gd9/137v3nutzYuZ1E5ResdT9uNIpMX2wWbnzp0RaijRxYsXB6V16tQJu3fvNjFXRET6tAISp1Op2dT6OouKkrO9pio93b8mN9DZs9bmx0wuFzBunHbbTFnb3RKFY/vH6EREsgmcJcjhUAIxrUDT6VR6ass0mLuvwCYDgexY0xcwuh4A5Tju2CHvcSQKhcEmEVExlJYGHDoEjBwZvq2mzDV/odowOp3KeKL79tmn04zbrZQp0LRpSkcpIjtisElEVIzNmxf6fdlr/pKTg8cLBa7U5r744pVZk+wwk5BecM1Ak+yMwSYRUTEVruey7G013W5g+3btmtvANBmn49SiNWuS7D8YiMJhsElEVEzpTef45JPKYO+HDsnbxk8dR7RfP+OfkW06Ti2B7XGdTuURuqw/GIiMYLBJRFRMaQUmM2cCL7wAdO6spC1frrxkqvEL1ylIj11qANPSgKlTrzQVmDDBHk0EiPQ4RKhxgahA8vLykJCQgNzcXE5dSURXze1WavQaNFACULcbeOUV4KWXrjxudjiA+fPlqOnMyFDaYWoJnIZT5XQqgbcM5QvH7VZqdX2D7agopaaaNZxFi/dvc7Bmk4iomHO5lJpMl0up2UxKUsZp9A3KhFBqC2Wo4dRrt/j66/o97yOtBS3Otm8PLo8dmggQ6WGwSUQkiVmzgCee0H9flqkOA5sHqB2drr029Ofs0EEoPR3o3z843S5NBIi0MNgkIltxu5XHtLIHJYHc7tCBJqDUFsoSsKjjiPp2dDp7VnsYJJXstX96bVUdDrlHFSAKh8EmEdmG2sPZTuMyqvbtCz24u8Oh1BbKFLD4Ng8YMgTo1St0GWWv/dMbysrhAMqWtd8PJCIVg00isoXAWiO7jMuoSk7Wf+/114EjR+TtPJOVBbz1VnD6o48GP2qXKZgOpDeAvcejDAFltx9IRCoGm0RkC1q1RrI/dvV19Kh2+pNPKlNayhyEff65dnq9elcetWdmKn/L/OPB5QKmT9d/324/kIhUDDaJyBbsPjPLmjXa6YmJ1ubDDB06aKc3aKD8iMjKAtq0sUfziPHjlREF9Nqm2ukHEpGKwSYR2YJeD2eZa/xUs2YBzz2n/V779tbmxQwpKcDgwf5p7doBvXsrAeYTT9irecR99+m3TbXTDyQiVamizgARUWFJSwNSU/0HQJfdzJn6vdAHD1YCNTtYvBj429+AL75Qjl3v3vpja6q1f7Ie3+3btdPZK53sisEmEdmKy2Wfm7XbrUxlqGXMGOCxx6zNjxU8HiAnJ/Qg7nat/RswQN5OXkSh8DE6EVExFWq4o5dflr/9oq++fYHWrZUA+uGH9ZeTvXlEqMf/S5fK3TyASA+DTSKiYkqr05MvO7RfBICnnwZWrjS27NKl8tb+qePA9uun3UGInYPIrhhsEhEVU4GdnuwYoLjdwIsvGls2Kgpo29bc/JglcBxYrRpruzYPIGKwSURUjPlO6/jll/Yb3inczEgqp1Pux+d6swepx1P25gFEobCDEBFRMefb6WnePOXReX6+PQIUtalAqA5BADBqlDLSgKy0yul0Ah99BMTH22f0BCItrNkkIpKIb03noUPytl9UGWkqAMjfISqwnIASePbuDfz0EwNNsjeHEEYeYFAk8vLykJCQgNzcXJQrV66os0NEVOy53VfGR12/3r99o6+oKCXIljU4U2dDCqzhnDMH6NVL3nLZBe/f5mDNJhHZmtut1ALK3mPb7lwuoHNn5d+0NODwYWD27ODlZO8QdeZMcBDt8SjDPdWqJW/NLVEoDDaJyLbUoWbsMKd2SeNyKWNv2q1DVKjhrISwx1BWRIEYbBKRLQUONWOHMSlLWi2tHee7V8ukF3DKXnNLpIXBJhHZktZQMzLfyEtqLW1aGpCZqTxSz8yUv0OUSq+3hOw1t0RaGGwSkS3pPa7cudP6vFytrCxg2DB71dIalZ6udKgZN075V9Yg2+0Gli8HXn9dOZZawabsY4kS6WGwSUS25HIB06YFp0+cKFeQpgZbgcGJzLW0RtmlKUR6utL5p18/pSOQVqDZq5fSKcouNbdEvhhsEpFttWoVnCZTkBYYbPkqCY9bt2+XvymE261fk+lr3Tpr8kNUFBhsEpFtaT1KlylICzXF4ZtvKv+3a4eh9HTgvvuC02U6foDx6ThlC6KJIsFgk4hsS6s389SpSgAgQ4CmFSw7ncCOHcr/7dphSK3RDQzSZOyNnpysPyuSL6cTiIszPz9FoaSNokDBGGwSka35Tu84caLykiVA0wqWp08HDh60d4chvRrdpUvla9PocgHz5/sHnA4HMHhw8NSVMneA0lNSR1Egf5yu0gSc7oqo+Jk5E3jiCf80WaY+VKdyzMpSgmWtQAxQAurOnS3NmincbiUw8S2nLMdKz6xZyvknhBJsDhoEvPVW8HKyl9OXjMeR929zsGaTiGwvKwuYMCE4XZZ2ci6X0k4xVKDpdMrVljGcceOu1AbKPiSQ262cf2rVjhDagSYgzzlphN3GuqWCK5JgMz8/H9nZ2Th58mRRbJ6ISgi3Gxg/HrjpJv1xDWUJ0PQeLatkfUYV2J5Pfew6a5a8ZQoU7tj5kq0DVCiyd9CjwmNJsDlmzBik/6+hRn5+Pjp16oQbb7wRSUlJ2LJlixVZIKISRh3bMFTQMn26PLVloebUBpQyylZjFNieb+ZM7aGeZG+TGu7YqWTsABWKHacbpYKxJNhcuXIlmjVrBgBYs2YNDh48iL1792LMmDF46qmnrMgCEZUger2ZA8lUcxZ44w4kW42R1oDtoZoJyPz41eVSftioAWdUlH8HIacTePxxpS2jbB2g9Kg11qmpVzro2al8FBlLgs3ffvsN1apVAwCsW7cOffv2RcOGDZGWloZvv/3WiiwQUQli9LGlbLMJ+fasnzFD7hojrWPk8ejXAMoWTPtKT1fabHo8SjvUqVOBxYuvHMvDh5VaXZmOXyiBNdbr1ysd1+xSPoqcJcFm1apV8cMPPyA/Px+ffPIJunXrBgD4888/EaX3M52IqICMPrb0eOSrLXO5lBv3+PFy1xjpteebPj249lbGYFoVWIMrBDBpkpKuHksZy6VHnTHJt8Z6+HC5ftRR4bMk2HzggQdw77334oYbboDD4UD37t0BAF9++SWuu+46K7JARCWI3rzogWSuLQPkDlb02vM9/jiQmQnMng2sWSNvMK3S65GdmVk0+THb9u3BzVM8HvuWl4wpZcVGJk+ejBtuuAE5OTno27cvoqOjAQBRUVGYOHGiFVkgohJGa150X7IPp2MHaWlKm779+5Wg3+VSHsGqNYFOpxKQyjx2qFqDGxhw3ncfkJcnbxBNFAlLBnVfsmQJ+vXr5w0yVRcvXsR7772HQYMGmZ0FS3FQWKKipzWgtK9nngEmT7Y0SxSG3iDg774LtGsn7w8D3wDaV3Ef4Lwg3G5lFAjfyMLhAI4ckaOcvH+bw7LH6Lm5uUHpp0+fxgMPPGBFFoiohFEf0+q13fzLX6zND4Wn98i5Xz+5pzpMS1Om2gwkcw97Per0nOp153Qqf8sQaJJ5LAk2hRBw+E4M+z9utxsJCQlWZIGISqC0NKUzRiCHA6he3fr8UGihOnbJPtZm3bra6XFx1ubDCmlpSg97tac9mwqQqW02W7RoAYfDAYfDga5du6JUqSuby8/Px8GDB3HrrbeamQUiKsHcbmWYmUDqAOiy1ra43UotYHKyvGXQotZGjxih1PoFUmsCZSzz8uXa6WfPWpsPq7hcch4nMoepwWafPn0AANnZ2UhNTUV8fLz3vTJlyqBOnTq4++67zcwCEZVgocbblLUXulYHGjvVHKmdhjIzlcfnvm3/ZB09wO0GXnopOF3W8hBFytRg85lnngEA1KlTB/369UNMTIyZmyMi8pOcrDwy1+oGuXSpMlalTNQxDNXyqI+WU1PtVYvkcgF9+yq9tdVaTpnH2ty3T/scHDtWzvLosWuNO109S3qjq3bt2oU9e/bA4XCgcePGaNGihVWbthR7sxEVH+PHK/OjB3I4gC+/BFJSrM9TQemVJSND7uGBQnG7/YdGkpFWL3unU2nPKGuZAtmlxp33b3NY0kHo+PHj6NKlC1JSUjBq1Cg88sgjaNmyJbp27YoTJ06Yvv25c+eibt26iImJQcuWLfH555/rLrt48WJvO1Pf1/nz503PJxEVvtGjlcAykBBA69by9HB2u5WBzgM5nfZ+FCvzwPUqrQHs582Tu0y+tOa5l7kzFxU+S4LNRx99FHl5efj+++/xxx9/4OTJk/juu++Ql5eHUaNGmbrtZcuWYcyYMXjqqafw9ddfo0OHDujZsyeOHDmi+5ly5crh6NGjfi82ASCSk8ulzCOuZ9gwOW6Keu1Px41Tyuh2KzWcMpSlJPKd117mGZG06A1ZZbdhnajgLHmMnpCQgI0bNyIl4HnVV199hR49euDUqVOmbfumm27CjTfeiNdff92b1qhRI/Tp0wdTNbqpLl68GGPGjLmqPLEanqh4cbuBAQOAzz7Tfn/5cqWNYHGmN+D5oUPA+vX2eIRJcpJ9IHdfvH+bw5KaTY/Hg9KlSwelly5dGh69rqKF4OLFi9i1axd69Ojhl96jRw9s375d93NnzpxB7dq14XK5cPvtt+Prr78OuZ0LFy4gLy/P70VExUN6uhKk6QWastCbSxzgI8zirKTWOAuhPZA9lUyWBJtdunTB6NGj8csvv3jTfv75Z4wdOxZdu3Y1bbu//fYb8vPzUbVqVb/0qlWr4tixY5qfue6667B48WKsXr0aS5cuRUxMDNq3b499+/bpbmfq1KlISEjwvpKSkgq1HERUMIFtybQ4nUDbttbl6WpoPYrlI8ziS/2h06WL3DMghaPX237ixJIXZJM2S4LNOXPm4PTp06hTpw7q16+PBg0aoG7dujh9+jReffVV07cfOHuR3oxGANCmTRvcf//9aNasGTp06IDly5ejYcOGIfM5adIk5Obmel85OTmFmn8iKphQ42yqpk2T71Hf8ePA9u3KjVxr1h2O31j0tDrNDB8OZGUVbb7MsGuXdrrHwx89pDB1nE1VUlISdu/ejQ0bNmDv3r0QQqBx48bo1q2bqdutXLkyoqKigmoxjx8/HlTbqcfpdCIlJSVkzWZ0dDSio6OvKq9EVPiSk8MvI9PQR+np/uNsOhzKvNO+s+7IPB6lnWj90PF4gJtuUo6ZXdrUut3AhAna7zkc/NFDCkuCTVX37t3RvXt3y7ZXpkwZtGzZEhs2bMCdd97pTd+wYQN69+5taB1CCGRnZ6NJkyZmZZOITHL0aOj3HQ555qYOHNAdUP4/YoTySP3QIXnHo3S7lZpaAGjXTvlX9sHB1RrnwIBTPWZ2GYg/1NODvn3tUUa6epY8RgeArVu3olevXmjQoAGSk5Nxxx13hBzvsrCMGzcOCxYswMKFC7Fnzx6MHTsWR44cwciRIwEAgwYNwqRJk7zLT5kyBevXr8eBAweQnZ2NtLQ0ZGdne5cnInmE+4oRQqlpkqEtnV67ON/5wmUcjzI9XenJ3K+f8kpKUv6WvZ2j2qErsIkDYK82teosXVoGDrQ2L1R8WRJsvvPOO+jWrRuuueYa76DusbGx6Nq1K959911Tt92vXz+8/PLLePbZZ9G8eXN89tlnWLduHWrXrg0AOHLkCI76VH+cOnUKw4cPR6NGjdCjRw/8/PPP+Oyzz9C6dWtT80lEha9hw/DLqDVNxb0jg95NXeb2mVq1tUDwdJzF/djoSUsDduwIPm4yH7NALhfQsaP2e+fOWZsXKr4sGWezUaNGGD58OMaOHeuXPnv2bMyfPx979uwxOwuW4jhdREXPd/o8I2SY8jGwzabTCUyfDrRsKecj54wMpQbTyHLF/diEkp4e3KbWTm029QZgkWH82kC8f5vDkjabBw4cQK9evYLS77jjDjz55JNWZIGIShAjQx75kqWmKS1NaeuXman8feiQ0jlD1sHc1draUFUeshybcHx7pdvJmjX678kypBiZz5LH6ElJSdi0aVNQ+qZNmzgmJREVOiNDHqkcDrl6b7tcSm1R27bKOIYyD+bucik9s30fMzscV9o52qFnvfrDRw2oZWm2YZReJ7xeveQ+blS4LKnZfOyxxzBq1ChkZ2ejXbt2cDgc2LZtGxYvXoxXXnnFiiwQUQmi1RNYDWgCa9GcTqW2UDahBnOX6SYfWFur1obJ2rM+kF2Ok5569bTT77rL2nxQ8WZJsPnQQw+hWrVqeOmll7B8+XIASjvOZcuWGR6CiIjIKLUnsNpOzulUgsxwvbll4XYDJ04EP4KW9ZGzWlsbmGYHWj98ZD1OWv74Qzv91Clr80HFm+nBZn5+PrZt24bOnTv7jXVJRGQmtcZs/35lxp1+/fSXzcqSpwOKb8cnh+NKwGmHR852FPjDx27HSS/YbN/e2nxQ8WZJb/SYmBjs2bMHdevWNXtTxQJ7sxEVL263MmajXjvOqCils01xDwC0yhEVBSxdqjx+Lu75L8ncbvs0DVDpXVf33AOsWFE0ebpavH+bw5IOQk2aNMGBAwes2BQRURC1dikqSvt9WQbZ1mv/l5honwDGbtxuZegmQM5B90PR64j3t79Znxcq3iwJNl944QU8/vjj+Pjjj3H06FHk5eX5vYio+FNvmrL2ok1LU2ovly+Xd5Bttf2fL1nyXhKlpys1f7LPhqTn8GHt9EOHLM0GScCSYPPWW2/FN998gzvuuAMulwsVKlRAhQoVUL58eVSoUMGKLBDRVbDLTVPtiDJ//pVaTpna0AXW0PrmXfYfA3YTONarjENThfO//r5BZH2ETuaxpDd6hvoMgYiko3fTTE2VI0DT4tt5SLY2dFp59+00JOPg7nZk9yGPAOD777XT2ROdAlkSbHbq1MmKzRCRCex603S55M2/b97t+GPADuw+5NGsWcCRI9rvNW5sbV6o+LPkMToRyYvtBIu3UD8GAD5eLyqhmjzIzu0Gxo/Xf3/4cOvyQnJgsElEIblcwMCB/mn332+fm6bsgVioHwMytbW1w7EIpHZKy8hQ/rVL04bt2/Xf69gRSEmxLi8kBwabRBSS2w28/bZ/2jvvyB8UyBSIhaJXgwbI00HFLsdCi8tlvyGP9DgcwP/9X1Hngooj04LN1atX49KlS2atnogsEu4xrYzs1lNYqwZNluOmdyyWL5f3eNhdu3bBw4cBwIwZJSOopsiZFmzeeeedOPW/LmlRUVE4fvy4WZsiIhPZsc2mLIFYJAJr0GQ5bnrHol8/+9Vy2oXLBQwa5J92zz3A448XTX6o+DMt2ExMTMSOHTsAAEIIOLR+BhFRsWfHjg6yBGJGabV3lOW4aR0Llew1znal1bTmgw94nEifacHmyJEj0bt3b0RFRcHhcKBatWqIiorSfBFR8WaHjg6+AZmdOj2Fau8ow3Gzy1SiJYkdnwyQuRxCCGHWyvfu3Yv9+/fjjjvuwKJFi1C+fHnN5Xr37m1WFopEXl4eEhISkJubi3LlyhV1dohKvMBBz6dNAyZODB4D8dAhuQJOt1sJMGUvB6CUJTNTeXzue1eStTx2ZqfzLhDv3+YwdVD36667Dtdddx2eeeYZ9O3bF9dcc42ZmyMiCqLVASUw0ATkHKjeTgPuq1OJ5uUpj87z84vvo/+SzuUCpk8HJkxQzj8eJwrH1JrNQCdOnMCPP/4Ih8OBhg0bIjEx0apNW4q/jIiKj4wM5RFzODLWzNi1hsntlnMqUUDJ+759SltU2fJuVHo6MGzYlRroGTNCD/IuE96/zWHJOJt//vknhg4diho1aqBjx47o0KEDatSogbS0NPz5559WZIGISqhQHVBUstbMyNIJKBJqsCZjoGnn8UJVbrd/oAkoNZzsHEShWBJsjh07Flu3bsXq1atx6tQpnDp1Ch999BG2bt2Kxx57zIosEFEhkW2ml3AdUABg6dLi2XnGCBk6ARklc7Bmt7Fb9Wzf7h9oAsrfmZlFkx+SgyXB5qpVq5Ceno6ePXuiXLlyKFeuHG677TbMnz8fK1eutCILRFQIZA0G0tKUm6HWCGxOJ9C2rfV5Kkx2mKVG9mCNPbSJ9Fn2GL1q1apB6VWqVOFjdCJJyB4MnDkTXCMDAOPGyR2k2YXswZrdxm7VozV7kB1+sJG5LAk227Zti2eeeQbnz5/3pp07dw5TpkxBW56hRFKwYzAAANHR1ueFgskerNmx/awWlwuYP9+/nPPm2a+cVLhMHfpI9corr+DWW2+Fy+VCs2bN4HA4kJ2djZiYGKxfv96KLBDRVdq5MzhNtmBg2jTgiSf80194AShfnlPtFTU1WJN52KO0NCA1Vd6e9EalpQFNmwLbtgE33wykpBR1jqi4s2zoo3PnzuGdd97B3r17IYRA48aNMWDAAMTGxlqxeUtx6ASyG60hdgBg5ky5gjS9YZCcTuDwYfsGBzKRedijkiJwkoR58+TumOaL929zWDrOZknBk5XsRi9Iy8hQOqbIwu0GatXSbru5fDlQubK9x0ekomGnsTe1fnja6cca79/msKTNJhHJTa+9Y1aW9Xm5GurMJ4EcDuC+++TrZU/Fn6wjOOjRarvt8QCvvFI0+SE5sGbTBPxlRHY0a1bwLCGyzlYza9aVqfacTqWmk/NxU2Gz4wxPek8HZC+Xivdvc7Bmk4gMadkyOE2m3ui+Hn9ceeyXkaEM6B5445S1XFS8yD6CgxaXC9Cai0X2cpG5GGwSkSGyD00TSB0IvV07e5VLthme7Mxu14xq9Gh7lovMY0mwWa9ePfz+++9B6adOnUK9evWsyAIRXSXZxxEMFYSNGydvuXzZrX2g7GS/ZvSow4ipAaddykXmsaTNptPpxLFjx1ClShW/9F9//RW1atXChQsXzM6Cpdjmg+xMxqFp9IZq8U13OJTHg6NHy1MuX3ZsH2gXMl4zoQReT9OnyzUEWii8f5vD1GBz9erVAIA+ffrgrbfeQkJCgve9/Px8bNq0CRs2bMCPP/5oVhaKBE9WouJDLwjLzATatLFPcGaX4amoeLP7jxrev81h6gxCffr08f5/8ODBfu+VLl0aderUwUsvvWRmFoiohNPrpLFtm37nDRlvmmr7wMAggO3oip6dxtkM1elJ9rKReUxts+nxeODxeFC7dm2cOHHC+7fH48GFCxfw448/4vbbbzczC0RUyGTrgKLXSePmm+3VycGu7QNlZ7d2tPHx2ulxcdbmg+RiegehS5cuoU6dOpodhIhILunpyhh7Xboo/8pw49QLwlJS7BecpaUpjzMzMpR/7TKFoKzc7ittGwHl3xEj5PmhpmXnTu30s2etzQfJxZIOQomJidi+fTuSk5PN3lSxwDYfZEdagzk7HMCRI3IEaHqdNOzWeYOKD7u1ox0yBHjrreB0ttmkcCwZ+mjQoEFIl6EKhIh0bd8ePPi5EEpHGxmo42oG3hD10omulp3G2czK0g40nU75nwiQ+UztIKS6ePEiFixYgA0bNqBVq1aIC2jcMXv2bCuyQUQlnJ06alDxpzbhGDFC6UQjc1ONzz/XTr/tNjbXoPAsCTa/++473HjjjQCA//73v37vORwOK7JARFepXTvlsblv7abTCbRtW3R5ioTW2IAtWzLwJHOlpQGpqfI31WjYUDt97VrlR5ys5SJrWBJsZmRkWLEZIjKRywXMny9nLY1WR43x45X/+w7yTmQGl0uO6yQUvd7mQnDYIwqPc6MTkWGy9nbWGhtQZYcewkRmS05WnmwEkrUNKlnLkppNAMjKysKKFStw5MgRXLx40e+9999/36psENFVkrGWRmvAc18clJooNPXJxrBhV5rSsHMQGWVJzeZ7772H9u3b44cffsAHH3yAS5cu4YcffsDmzZv9prAkIjJD4FibgVg7QxReWpoy1Nny5crr8GF5nm5Q0bJknM2mTZtixIgR+Nvf/oayZcvim2++Qd26dTFixAhUr14dU6ZMMTsLluI4XUTFkzqmZlYWMGmSf9tT3jSJiPdvc1gSbMbFxeH7779HnTp1ULlyZWRkZKBJkybYs2cPunTpgqNHj5qdBUvxZCUq/jiYO1HB2XUYMd6/zWHJY/SKFSvi9OnTAOme8NoAACAASURBVICaNWviu+++AwCcOnUKf/75pxVZICLyw8HciQrGbvO9k/ksCTY7dOiADRs2AADuvfdejB49GsOGDUP//v3RtWtX07c/d+5c1K1bFzExMWjZsiU+1xud9n9WrVqFxo0bIzo6Go0bN8YHH3xgeh4N2blTubr1JqeVgexlYP6LnuxlYP6LnuxlKML8F9p877IfA4qIJb3R58yZg/PnzwMAJk2ahNKlS2Pbtm2466678Pe//93UbS9btgxjxozB3Llz0b59e7z55pvo2bMnfvjhB9SqVSto+czMTPTr1w/PPfcc7rzzTnzwwQe49957sW3bNtx0002m5jUcR8r1ADYAKReDpg2UhaxlcLuB9u2BI0daQMm/kr5okTJfcFFTH2llZADr1gFlywK//gr8/DOQl+e7ZBOUwsco00ZAlFF6k5YtCyQlKePolS0LJCYCrVoBvXoptX7hHpeFej8rC/i//1P+P2AAUL26Mu3lrl3Af/4DlC4NVKkCVKoEREcDrVsr+d+2DWjeXBkw/tAhZT3nzinL1j18Gt2+iUXci5mIn9QKZ84o2z56FFizBrhw4cq61Acn7dpFXoMZWC6tcrrdSnkA4JprgP/+Vxn8Oi4OiI9X7qM7dyr7dcAAICUFcM9djX0ZAslzV8O1sJWhbfvuz88/Bzp0UNYVbnmjjzp9y6G1r9T1xMcDZ6ZmIjnjv8Dc1dg3sJWSdiZ4P/mmAwXPX6SPa0MdN0Ap5++v/4RKWyqh3dzVwLOtDO8jMx4bF2gfLFmiXOxvvw13tVbYvl1pEnL+vHLdpqQo58qaNUBMDFChgrKekyeB48eV6whQlm/d+sr5euZM+OO2fXvwqA75+cq0tep3et26V9a1YYNyvQPA7t3Kddy+PdDvz29xTUYsNj54GmdaAT/9BGRnA6VKKZ+LjlbaU9esCVSsCPzxh5LfoUOBbt3s+Qjf1oTNtW7dWowcOdIv7brrrhMTJ07UXP7ee+8Vt956q19aamqquO+++wxvMzc3VwAQubm5kWc40KFDQuzcKYB8AXiEcjl7BJAvxM6dyvvFneRlWDD9N598B748on6ti0WbvwVCOJ1aebv61+DBV9btdCrb0tt24PuDB5uTpyvnj9a/2i+HIzjvRvep06m9HxYsUNYbSZ7bNT0tnLisrAeXxYK/Hwq6BvT2aeD+HDw49PKhjk1gWX3LEbivlPX472cH8oUD+X5pgfvJd33q+iPNn9EyGDluDodH4zzJ/1+6UsZQ+yiSfBgV+T7wKOdMlSpCAGJB2THe/Pu+6te/+mtM67jpnfORXQda13HBXoV5LFSFev8mL1i1ocuXL4sVK1aIZ599Vjz33HNi5cqV4tKlS6Zu88KFCyIqKkq8//77fumjRo0SHTt21PxMUlKSmD17tl/a7NmzRa1atXS3c/78eZGbm+t95eTkFN7JCgjgT42L0iOAP5U/ijuJy5CTY+QL0SMWLSq6/JkVaGq9oqKUbeptW33/q6+sy1MkNyY171e7T53Ogt5g/c+lKFwSOajpvQb09umaNdrrW7NGe/mvvtI/NoFl1SqHuqwZ55fR/IU6v8y6FvT2UST5MMrIejWXwSWRA5fIQU3vDxcrXlFRVxNUmpuvqz0WvhhsmsOSNpvfffcdGjZsiMGDB+ODDz7A+++/j8GDByM5ORnffvutadv97bffkJ+fj6pVq/qlV61aFceOHdP8zLFjxyJaHgCmTp2KhIQE7yspKenqM6965x0AZQAETt3gUNLfeafwtmUWicuwbx8QnO9ADnz0kQWZ0RBqZhwzqIOf621bfT9Ms+gi4fFcyXsoRvapx6Pc6iLnfy7loxT2O6/1XgN6+3TdOu21/fvf2stv26Z/bHzt26ddDnVZM84vo/kLdX5pKYy86u2jSPJhlJH1ai6DUtiP+tiHZHigM3CsCfLzC3rOm6swjgWZz5Jg88EHH8T1118Pt9uN3bt3Y/fu3cjJyUHTpk0xfPhw07fvCJhjSwgRlHY1y0+aNAm5ubneV05OztVl2NeAAQAuAgi8yoWSPmBA4W3LLBKXQW23FE7v3ubmQ486M45VfAc/19q2+n6HDtblySin09jA7Ub2qdOpPXVfeP7XQBQuo8HHL3uvAb19ettt2mvr2VN7+Ztv1j82vsJNQWjG+WU0f6HOLy2FkVe9fRRJPowysl7NZXAZDbAfydgHJ/KvLhMRiIoq6DlvLk7IIAdLblPffPMNpk6digpqK2UAFSpUwAsvvIDs7GzTtlu5cmVERUUF1UoeP348qPZSVa1atYiWB4Do6GiUK1fO71WYxK49UG5S6o1K+b+SLgdZy+ByAQsWAMGBskqgfv2i6yQUbmacqzV48JV1q4Ofqw3yA7ft+35KivJZ84iAf0NzOJS8GulMoFWuwP0wb54ydV9kN1+BdvgCUbisrAeX8SZGwFX1Ushtv/kmcPvtwftz8GAlXWv5lBT9YxNY1sBy+E5BGHx+KfvbiXw4vIGO0NxPvutT1x9J/kKdX1rCHTclaAs8XzzegC3UPookH0YZWW/QMk6hnDPOo3DhZ8xzjNQMOOvXv7q8AcoxUwNdNW/z52sH9A5H4fz4ilRhHQsynyWDujdv3hyzZ89Gly5d/NI3b96M0aNHm/oo/aabbkLLli0xd+5cb1rjxo3Ru3dvTJ06NWj5fv364fTp01jn89yqZ8+eKF++PJYuXWpom4U+KKzbDaSkwHHsAJTH0RchqtVTuhvKcpVJXgZ31lG0b30eR+A7gsFlLHrpDIaMq1Rk+VKpA5Rv3qw8Wo2PV3qdqr3RhVBvSJdQyuFEGXEeAg44Y8ugbEI0kpKUz5Qrp/RGb9lSCWTU3ryhBj8P9X5WFqBeNv37K73RMzOV3qnffqv0Rk9MVHqjx8QoveDXrQO++AJo1kzpGe3tjZ57Don/yUD9CifR5Z6KiN/0EeJOHMLZN95Gg7aJOHoUWLtW6bGqruvcOWXbbdsWrDe6b7m0yul2K+UBgNjYK+/Hxys9fHftUl5lywL9u/yKlGHN4a7aEvu7DEeDzfPg+nWX5jWgt0+zspR90759cG90reWNDlzvWw6tfeV2A/szTyBu5ECcTayDBkNuBt57D/uPlEHcktdxNr5q0H6KiwPOnr1S61TQ/EU6+H6o44ajR5HZ/R/4PaEeKvVoibZZ/wJ++QX7X1uPBm0Tw+4jMyYBiGgfxB2F644bleEj0tKA9HS4D11G5rMbsP9kJVy4APzlL1d6o69dq/Tq9u2NfuKEcs0BysgNrVpdOV/Png1/3JYvB/r1C87j8uVX/l+nzpV1bdyo9EL3eP7XG/3MJbTPW4f7knYgNrUjNq/8A6fzPNjf/B5k74319kaPiVGCyRo1gMqVgd9+Ay5eVH7Yd+tm3oQMHNTdJFY0DF27dq24/vrrxYoVK0ROTo7IyckRK1asEE2aNBFr167161xT2N577z1RunRpkZ6eLn744QcxZswYERcXJw79r/fnwIED/Xqmf/HFFyIqKkpMmzZN7NmzR0ybNk2UKlVK7Nixw/A2TWlgfP68EB6P8n+PR/lbNrKXgfkverKXgfkverKXoYjzXygdporxMWAHIXNYUrPp9Kl3V9s+qpv1/dvhcCA/v/DboMydOxczZszA0aNHccMNN+Cf//wnOnbsCADo3Lkz6tSpg8WLF3uXX7lyJZ5++mkcOHAA9evXxwsvvIC77rrL8Pb4y4iIiOwqPV0ZyD0//8qj7LS0os5V4eD92xyWBJtbt241vGynTp1MzIk1eLISFX92nduZyApmNSsoarx/m8OSGYTsEEASkfzUAHPnTmDiRKUdmdOpdMKwS80Mkdn4Q40iZeGgKURERSc9HahdW5mO+YknCmFuZ6ISaNasK9dR7drKdUUUDoNNIrI9txsYPlx/0G8ODE0U3syZwPjx/KFGkWOwSUQRcbuBjAy5bjDhZpfhwNBEobndwIQJwen8oUZGMNgkIsN8H0XL9Agt1OwyHBiaKDy9qU2NzsxFJZslwebkyZNx+PBhKzZFRCZxu4Fhw/wfoQ0fLkcNp9ZsLTNnKjW0hw6xcxCZS8anAYHOntVOHzyYP9QoPEuCzTVr1qB+/fro2rUr3n33XZw/f96KzRJRIdq+Pbhmw+O5MvNMcZeWpgSWaoD5+ONA5868UZK5ZH0aEOi//9VOX7xY3jKRdSwJNnft2oXdu3ejadOmGDt2LKpXr46HHnoIWVlZVmyeiAiAElgywCSrBHZMk7lDTYcO2ulCyFsmso5lbTabNm2Kf/7zn/j555+xcOFC/Pzzz2jfvj2aNGmCV155Bbm5uVZlhYgKoF074H8Tfnk5HMpc2jLQe5Rph0ecvuxWHplpdUyTtUNNSoryyFyLrGUi61jeQcjj8eDixYu4cOEChBCoWLEiXn/9dSQlJWHZsmVWZ4eIDHK5gPnzr3S0cTqVv2WoJdR7lGmXR5wqu5VHdlod02Qe+WDxYmDNmuB0h0PeMpE1LJmuElAepS9atAhLly5FdHQ0Bg0ahAcffBAN/neGvvTSS5gxYwZ+/fVXK7JjKk53RXYm2zR1brcSePnWMEVFKW1N27QJTj90SI5yBdIrp6zlsQu7zSPudgO1avm333Y6gcOH7XGe8f5tDkumq2zatCn27NmDHj16ID09Hb169UKU2i30fwYNGoTx48dbkR0iugoul1w3Fb1Hmdu26T/ilKl8qlCPbGUsj12kpQGpqXL9QAtFawgkj4fnGYVmSbDZt29fDB06FDVr1tRdJjExEZ5Qoy4TUbEg27zI6qPMwBq/m2/WTpf1caBeOWUtj53I9gMtFJ5nVBCmt9m8dOkSFi1axA5ARDYgY5tArTE233xT6fDgm+50AmPHFl0+r5ZeOe0S5MjMTp22As8zpxOYNo3nGYVmSZvNmjVrYuPGjWjUqJHZmyoW2OaD7Ej2NoF6bU3dbuCVV4DZs5WyOZ3KzVTWdnWytam1u/T0K8MfyX5u+Zo5U5m+Ugh7lYv3b3NYEmxOmzYNe/fuxYIFC1CqlCVP7osUT1ayo4wMpUZTK71zZ8uzU2hkD6Kp+LLruWXXcgG8f5vFksjvyy+/xKZNm/Dpp5+iSZMmiIuL83v//ffftyIbRHQVkpOVIU58f57K3FZLbXt64gQ71pA57Npp65VX7FkuMo8lwWb58uVx9913W7EpIjLJ+vX+fzsc8rYJnDVLeQTo8SjlsFMQTcWHHTvTuN3ASy8Fp8teLjKXJcHmokWLrNgMEZlEnXYvcGy91NSiy1NBzZwJPPHElb+FUILNqCj/sRBlDKKpeFE70wSOsynzuaU19BGgdK6TuVxkLvs3oCSiq2aXx4Fut1KjGUgIYOlSIDGRHWuocNltnE2t2lqnExg9uujyRMWfZcHmypUrsXz5chw5cgQXL170e2/37t1WZYOICkDrBgMAO3fK1TlIr1bG6VTmeJc9ELAD2cZxNcJO42yqtbWBPeztUj4yhyVzo//rX//CAw88gCpVquDrr79G69atUalSJRw4cAA9e/a0IgtEdBVcLmUsvUATJ8o1duDOndrp06fzZlkcyDiOayA7jalJVFgsCTbnzp2LefPmYc6cOShTpgyeeOIJbNiwAaNGjeJg70SSaNUqOE19lC4Dt1sJjgM99RTw+OPW54f8qe2C1dpzj0dp6yhT0GaHYDkcOxwnsp4lweaRI0fQrl07AEBsbCxOnz4NABg4cCCWLl1qRRaI6Cqpj9J9ydQDVavdKQBcuGB9XihYqHbBMigpQZjsx4mKhiXBZrVq1fD7778DAGrXro0dO3YAAA4ePAgLxpQnokIg+3SI8fFKr/NAs2fbLyCQkR1/zNgxCIuP104PGD6byI8lwWaXLl2wZs0aAEBaWhrGjh2L7t27o1+/frjzzjutyAIRFYK0NGWWkIwM5V9ZpqdLTwfatNHuHOTxAJmZ1uepMNmhnaDsP2ZkD5aNOnNGO/3sWWvzQXKxZLpKj8cDj8fjnapy+fLl2LZtGxo0aICRI0eiTJkyZmfBUpzuiqj40JpaL5DMczvbbe5tmed2T///9u49PqY7/x/460xoyNUlK5cOEXUXitISraaUtCp12VK0SptNdcu6RN16TW3Jom67tpZsHi6tVv229NvualVJqWIFjSqWFCFj5ZtWSSR2QzPn98f5zphMzpkk5MyZz5nX8/GYB3PmzJz3yQnnPZ/L+5NVtaamyNdCjZmXqgR4/9aLV5JNf8NfViLfobWmuzsRb5hmvfGLXP5I5GS5plyTaotFqVQxY4bRUdUN3r/14bU6m1euXMGBAwdQVFQEu1sTwzPPPOOtMIjIz2gVoTZDkXqzFNt3JXpLrZlqampJSQEuX7655Ovs2UCTJmJdJ/Iur7Rsfvrpp3jqqadQVlaG0NBQSC6j9CVJws8//6x3CF7Fb0ZEvsW9ezMjQ7lBit4iaKaWTZsN2LsXGDWq6jr1Ip6PmZnp984d79/68MoEoenTp+O5557D1atXceXKFVy+fNn5MFuiSWRWIk9CcZ/YNGMGMHZs5X2eflq8G2VNJtWIcN0c9SmffLLqJC4zzugWnb/MvKe645WWzeDgYBw9ehStWrXS+1A+gd+MyGxE79p0Z7aWGa1xgiJct+omcIl8XczKbP9+XPH+rQ+vtGwmJSXhoNY6cUTk08xYrNpsLTNWq7JGvXuLpgjXTavYPiBe+SN/YbVW7RkYNozXibR5ZYLQY489hhkzZuD48ePo3Lkz6tevX+n1xx9/3BthENEtMOMkFLVJQ6LXRHSfwS3KddO6Fh98APTu7VuxksJmA9avr7ztb38D3n6bS7+SOq90o1vcK926BiBJqKio0DsEr2IzPJmJWbvMzFQTUa27PClJnOtmpmvhDzZtUsbXupMk4Px53/v9qg3ev/XhlW50R1F3tYfZEk0is1HrMhNxMo07UVdDcqfVXQ6IsyKPWa6FGhEmaNUVWQaeesroKMgXsai7DvjNiMzErC2bZqFVtD47WxnH6Q9Fxn2VCBO0boXNBjRvrv36gQNAz57ei6cu8f6tD93GbP7xj3/E888/jwYNGuCPf/yjx30nT56sVxhEdJtEGfvnr6obf+oPRcZ9kVaLc1KS+NfDagUWLdJeNWj1anGTTdKHbi2bcXFxOHjwIJo2bYq4uDjtACQJZ86c0SMEw/CbEZmJWVs2RV8S0TV2jnn0PdW1OJtBbKwyRtNdQgLwzTfej6cu8P6tD91aNs+ePav6dyISi6NwuHsyI1qC5krk7k2t2JOS2F3uS8xY8cBdp07qyWajRt6PhXwbx2zqgN+MyIzMMPZP9CURzdrKbFZmb3FeuxZ49tmq29esAcaP93Y0dYP3b314pc5mWlqa6nZJktCgQQO0bt0aQ4YMQZMmTbwRDhHdAtHH/rm2CLoTZQwqx8+KxewtzrGx6ts3bhQ32SR9eKVl86GHHsLhw4dRUVGBdu3aQZZl5OXlISAgAO3bt8fJkychSRL27NmDjh076h2O7vjNiMi3mGVJRK2WzfffV8bJ+Xr8/kzkMcJaPP27EnVGOu/f+vBKnc0hQ4bg4Ycfxr///W8cOnQIhw8fxoULFzBgwACMHj0aFy5cQN++fTFt2jRvhENEfsJR43DvXu1EEwAyMsRIABzjZx21Mx1jAp98UrnpZ2UZGx+py8pSrk+/fua6TlYr8MQT6q+JOkGI9OGVls0777wT27dvr9JqeezYMQwcOBAXLlzA4cOHMXDgQPz00096h6M7fjMiMp5rt7kkKdu0/rcTbYawzQbs26ckmSKOPfUnZh9nm5MD3Htv1e1s2SRXXmnZLC4uRlFRUZXtP/74I0pKSgAAjRo1wvXr170RDhGZnHuNQ0dCprZyrogzhK1WICKiavLsGL8pGptNWQJx0ybl72ZadcfTOFsz+N//rd128k9e60Z/7rnnsGXLFthsNly4cAFbtmxBSkoKhg4dCgA4cOAA2rZt641wiMjk1G7wsqzelW63A9u2eSeuuuQoreNKxMQ5Kwto0UJppX3ySWVlmhYtzNPlbJbrpGXrVvXtixd7Nw7ybV7pRi8tLcW0adOwfv16/PLLLwCAevXqYdy4cVi6dCmCg4ORm5sLAOjatave4eiOzfBExqpuQpA7kbo1HeWbAODcOWDOHHFL69hsSmLp6S4k0rXRInJd1+r8/e9AcrL6awUF4l033r/14ZXSRyEhIcjMzMTSpUtx5swZyLKMu+66CyEhIc59zJBkEpFvcC9EXx1RygdlZQGpqTeTM0kCFi4EevQQs7ROXp7nRBMQ59r4q8GDgbZtgVOnqr62bx8wYoT3YyLf45VudIeQkBB06dIFd999d6VEk4iorqWkAB9/XLN9RejWtNkqJ5qA8vfZs8VMNAGli9kxeUuLCNfGk5wc5bq5r5FuhvGoDg89ZHQE5Ou8lmzm5ORg5syZGDVqFIYPH17poZfLly9j7NixCA8PR3h4OMaOHYsrV654fE9iYiIkSar0GDVqlG4xEpF+1Fpb3EmSGMtvarUCijzZxGoFMjMrJ5ySdHOMo+hLo2ZlAb16mWcilxqbTelFULN7t3djId/llWRz48aN6NOnD44fP44tW7bgxo0bOH78OHbu3Inw8HDdjjtmzBjk5ubi888/x+eff47c3FyMHTu22velpqbi4sWLzseqVat0i5GI9PPAA9Xv8+GHYoyf02oFdLT8iTqDOyVFWV/bMRv9/HllLGp2tjJWU4Rro8a9IoIr0VtrXXkaCvHnP4v3+0j68MqYzfnz52Pp0qWYOHEiQkNDsXz5csTFxWHChAmIjo7W5ZgnTpzA559/jv379+O+++4DAGRmZqJ37944efIk2rVrp/neoKAgREVF6RIXEXlPTf57yc/XPYw64WgFdO1Kt1iUlr9t28SegGK1Vh3bJ2prpoNaRQTg5jUT/fwcHLPt1c5VljnelhReadk8ffo0HnvsMQBAYGAgysrKIEkSpk2bhtVa7e+3ad++fQgPD3cmmgDQq1cvhIeHY69jKqeGDRs2ICIiAp06dcJLL72Eq1evety/vLwcJSUllR5EZLy8vOr3mTNHnNYX91bAc+eUtbddW9DMOCZQRGoljywWYP9+sb4IVMdqBRYsUH/NYjFPCy7dHq8km02aNHEmbHfeeSe+//57AMCVK1dw7do1XY5ZWFiIZs2aVdnerFkzFBYWar7vqaeewgcffICvvvoKr732Gj766KNqx5VmZGQ4x4WGh4ejefPmtx0/Ed0+tRu+OxHHz0VEAL17Kzd6sxcNF5X70qIBAcpzEVfVqc4996hvT0tjqyYpvJJsPvDAA9i+fTsAYOTIkZgyZQpSU1MxevRo9O/fv1aflZ6eXmUCj/vj4MGDAABJZYCTLMuq2x1SU1Px8MMPIz4+HqNGjcLf/vY3fPnllzh8+LDme+bMmYPi4mLno6CgoFbnRET6cL/hawkO9k48t0ttjW2zFw0XWUqKMkxD9PGn1VEbTyxJwJQpxsRDvscrYzZXrFiB//73vwCUxKx+/frYs2cPhg8fjtdee61WnzVp0qRqZ4e3bNkS3333Hf5XZb2sH3/8EZGRkTU+Xvfu3VG/fn3k5eWhe/fuqvsEBgYiMDCwxp9JRN6TkqJ0NT/9NLBrl/o+ZWXejelWuE84cXSX5+dXrikq+gxus7Fa/fNaVFfSivyLV5LNJk2aOP9usVgwc+ZMzJw585Y+KyIiAhEREdXu17t3bxQXF+PAgQO49957AQD//Oc/UVxcjISEhBof79ixY7hx44ZuE5mISH8bN2onmqK0Amp1ly9fDixapCTUP/wgbs1Nf2CzKdexTRtzXSO1Gel2OycH0U1eWa7SoaioCEVFRbC7/Y/ZpUsXXY736KOP4t///rezdNHzzz+P2NhYfPrppwCACxcuoH///li/fj3uvfdenD59Ghs2bMCgQYMQERGB48ePY/r06WjYsCFycnIQUF1f3P/hcldEvsPTkogizdzWWoLTYlEmCvGm7tvMvGSl2u+mqMuM8v6tD6+M2Tx06BDi4+MRHR2NLl26oGvXrs5Ht27ddDvuhg0b0LlzZwwcOBADBw5Ely5d8O677zpfv3HjBk6ePOmcpHTHHXdgx44dSEpKQrt27TB58mQMHDgQX375ZY0TTSLyLcuXqyeakiTWzGCrVZlw4c7RgmRWotYPdaU2BOL558U+J1dqk6E4lINceaVls0uXLmjdujVmzZqFyMjIKhN0YmNj9Q7Bq/jNiMg3eGrVXLgQmDHD+zHdDrXzEbUFyRNHd/PBg8pynKK3BmZnK5O63L30kjIEwixsNvGHcvD+rQ+vJJuhoaH49ttv0VqEgVF1gL+sRL5B6yYPAAUFYt4Qs7KqTgYSMQHT4trd7E7UxFrrS48kKXVTRTsfM+P9Wx9e6Ubv378/jhw54o1DERE5eaqzKWrXs5nL6Xha4hEQt36o1aqs/OROloF9+7wfD5G3eWU2+l//+leMGzcO33//PeLj41G/fv1Krz/++OPeCIOI/IzVqqwQNG9e5e2SJMYMdC1mLaejtcSjgyiVA9R07Wp0BN5l1pn3dGu8kmzu3bsXe/bswWeffVblNUmSUFFR4Y0wiMjPZGUB8+dX3S7LwMWLvAn6Gk/rbIs86SQrC5g4sep2SVJWgjKbrCylJVeWlXPMzDRXCzzVnle60SdPnoyxY8fi4sWLsNvtlR5MNIlID44uWa1R6f/4h3fjoeqpzWpetEjsIQNav4cWi5KEiZg8e2Kz3Uw0AeXP1FTzzLynW+OVls1Lly5h2rRptVq5h4jodlTXJTt3LtC8uZgJjJm4d7c6VnwSfVazg9bv4caNwIgR3o9Hb3v3Vk2sHWNTzXi+VDNeadkcPnw4srOzvXEoIiIAStkcT2RZmdXNFhfjqK317uAY6iB6jU2ttevN2H1OpMUrLZtt27bFnDlzsGfPHnTu3LnKBKHJkyd7Iwwi8hM2/6CrRwAAH/lJREFUm1KfsTqO2c2itp6JPAlDa633y5eBWbMqtwaKXGPTMTTAX9auT0hQxmm6tm5aLEyu/Z1X6mzGxcVpByBJOHPmjN4heBXrdBEZy1N9TVciLvVoloLnWtfI0wQhEWtsOthsSleyLCsJmdUq9pcFT0SuBcv7tz680rJ59uxZbxyGiAiA51nNrv7wB7Fu8loFzx2tgklJ4pyP2jXydM1Eb4Xetq3y2uhjxwLvvqs8lyRg+nRgyhRxz8+V+7hbQPlyYbakmmrOK2M2iYi8ydF1qVXQ3cFt5VyfZraC52ozz//wB+1rJnKNTbUhA+vW3Xwuy8Dbb1cdtyoyqxVITFSSbK1xueQ/dOtGT0tLw+9//3sEBwcjLS3N475LlizRIwTDsBmeyDfYbMDy5cCSJepJmkjd6NUNDRB16UP39bRdu2BdjRsHrF1rSIi3rabDOgDxhwu4stmUBNP1356vnx/v3/rQrRv922+/xY0bN5x/1yKJ1LRAREKxWpU6jSNHAvfdV7Uki90uRteszQb8+GPViReuRP2v1H01pJQUoEuXqtfrvfeAt97y/WulpqbDOgDxhwu4Uiv7ZKbzo5rTLdl0LXXEskdEZKSePYEFC4CZMytvF6Fr1nWcpiRpJ5yiJM41UVpa9RxFTlKs1pu/f7J8c8zm+vVVz1OE38maUkuyzXR+VHMcs0lEpmezAT16AK+8cnNMoAglaNzH+jmW/5s/v2pLpplu4mq1KS0WIDjYmHhuV1bWzUQTUP68dq3qfiL8TtaG2rhcM50f1ZxXSh/5G475IPIdri2DFosyCaVnTzFWp9Ea6ydJwDPPKF3LIpaXqQm1sZsilniy2YAWLbSHPzhYLMD+/crvptm4j8v1Zbx/64PJpg74y0rkG0ScoOBKLX6HgAClbmNZmRg38VuRkwP06iXu9QNqNzkoO1uZwU3G4f1bH+xGJyLT8jRBQQSeSjhVVCiJZmKiOIlXbZWWin39AGVIQE0mb1ks5hkGQeSOySYRmZba+uiijW1MSVG6V808RlOL1rriIp231QpkZlafcI4e7Z14iIzAZJOITElrfXTRVg0ClHF8mZn+N9HCLBNMUlKUGqibNimPhQtvnpPDhg3K2E4WPScz8spylURE3qbWhQ4os9JF5L4EoGgJ1+1wXXlHVFYrMGLEzecdOgDJyZX3kWXxlh0lqgm2bBKRKZmhC9adYwlAf0lEHKWfXEsGTZigbBdZVhYwZIj6a6KNSSWqCSabRGRKZumC9WeiT/BSU90a96J/ISJSw250IjItf+56Fp3WEp2iJ2NawzsApSWeX4jIjJhsEpGpua+9Tb7JZlMSsTZtgG3bgNTUm0mmI+E0Q+t0SEjVJRwtFuDPfwYGDxb73Ii0MNkkIhKMa2JmhuTEff13taVGNm0CevcW+3xdz9PBjKs/EbnjmE0iIh9nsymry9hsSsISG6usShMbK36pHLX1393JMnDpktiJptpYTYsF+PhjoFUr8Sc9EXnClk0iIh/mvra7LN9MyOx28UvleBrD6OrFF4H69cVtAVQ7T7sdePxx5XqKuO47UU2xZZOIyEe5t4bZ7VVb/kSfnV3T5RxlWflZ5OToH5Me1EpxAVW/OLCFk8yIySYRkY+qSauf6LOzrVbg5Zdrtq/dDvTqJebQAfdSXGoJtuhfHIi0MNkkIvJR1bX6mWF2NgC89RbwxBM121fkFsCUFCA/X5nspDY2VfQvDkRamGwSkam4TqYRndUKTJ+u/fof/mCeMX7/7/8BBw4AS5cC77zjeV+RWwCtVvVEEwBGjxb/iwORGiabRGQaZpupDQBTpqiP9QOAmTPNkVS7stuB5s21zxkwbwvghg3m+J0lcsdkk4hMQW0yjajdra4cY/3UutNlGdi3z/sx6WH8eODee5WW3ORkZWymY3yjxXLz/M0wdCAhQX27WdZ+J3LH0kdEZAqe1tEWOTEBlK7y69eV8j9mlJMDrFtXedvevcCnnyor7jhaMc2y7OjGjdrF683yO0vkii2bRGQKaqVlzNTdmpys3rqZn+/1UOrc11+rb3ckl3l5yvPERPGTsEWLgBkztMdtmul3lsiBySYRmYJ7aRkzdLfWxMyZwMqVYne9PvCA+vYzZ8w1BtdmA2bN0n7dX35nyf9Isqz1/YpuVUlJCcLDw1FcXIywsDCjwyHyKzabebpbXWVnK0mXFkkCMjPFnZ0+fnzVrnR3AQFKS66o11XrGlosSte66Gu/mwHv3/pgyyYRmYrVao7uVnfV1dx0rLAjUguna5mqtWuVMZqezlHkkkeA9ipCdjtQUmK+31kiByabREQCsFqBhQs972O3i5OMqZWpCg7WHssIiD+e0X2ohyvOQiczY7JJRCSIl17ynHBaLGIkY1plqv71L+33SJI5xjOmpADvv191u+ittkSeMNkkIvJxNpuyxOGmTcoqMwUFSuLp2uUsSUqrmQjJmFaZqhdf1O5G99S9LpqEBHNXTiByxwlCOuAAYyKqK1lZQGrqze5lSQIWLAB69FBqUDpKH4k0ucRmU7rO3RPO6og+QcjVokXA7NnKz8AxC13UyV1mwvu3PtiySUTkoxzdza5NArKslDvq109ZZaekBBgxQqwEzNPYRU/M0tWclXUz0bRYzLXGPZEaJptERD5KrbvZlchLcqakKK2UmzbV/D1m6GpWG686e7aY15CopphsEhH5KK1SOa5Ebu2zWpXuf7XxmO7bzFLwXGu86vLlxsRD5A1MNomIfFhamufJMRaLUjJIVHl56uWOZFk575dfVmpx5uebo6tZ6wvEkiVs3STzYrJJROSDHHUo335bef7CC0qXuXviabcrYzdFXcrRU+utLCuTocy0GpTVqnyBcGe3A/v2eT8eIm9gsklE5GPcx/XJsjKhJjNTvRVQ5LGb1U0WEnmYgJbISPXto0aJ+6WByBMmm0REPkZtXJ/d7nmykMhJmWOy0Pz56q+LPEzAnc0GzJql/prIXxqIPDF1sjlv3jwkJCQgKCgIjRo1qtF7ZFlGeno6YmJi0LBhQyQmJuLYsWM6R0pEdJNa17LFUv3YTZFnam/bBrzyivprtZmx7uuqqzAg8pcGIi2mTjavX7+OESNG4Le//W2N37Nw4UIsWbIEK1asQE5ODqKiojBgwABcvXpVx0iJiG5y71oOCADGjq28j3viKctKwiYitXqirhYvNk9rX3UVBiRJ7C8NRGpMnWy++eabmDZtGjp37lyj/WVZxrJly/DKK69g+PDhiI+Px7p163Dt2jW8r7aYLRGRThxdy9nZysSRd9+tnIxJUuWEU5bF7YLdu9dza58sm2fyjOOLhFbCOWGCeSZDETmYOtmsrbNnz6KwsBADBw50bgsMDMSDDz6IvXv3ar6vvLwcJSUllR5ERLfLagUSE4HSUvUxnO4tgSJ2wWZlKRNj/ElKCrB/f9XWaUnSHkpAJDImmy4KCwsBAJFuUwUjIyOdr6nJyMhAeHi489G8eXNd4yQi/6LW9RoQoF74XKQu2Oq6z1317q1/PN7Us6dSXcB1qERmJls1yZyESzbT09MhSZLHx8GDB2/rGJLb/+CyLFfZ5mrOnDkoLi52PgoKCm7r+ERErtTGcK5aVTVZEW2Fneomyzj89a9inVdNuQ6VMEvReiI19YwOoLYmTZqEUdX0ubRs2fKWPjsqKgqA0sIZHR3t3F5UVFSltdNVYGAgAgMDb+mYREQ1kZICJCUp3eSO1su8PGUsY1mZmIXPHS22nhLOSZPMnYRZreJdN6LaEi7ZjIiIQEREhC6fHRcXh6ioKGzfvh3dunUDoMxo37VrFxYsWKDLMYmIasqRmGRl3Sz6brEorZ6JiUZHV3uOFtsJE5TxpmpWrFDqUjIhIxKXcN3otXH+/Hnk5ubi/PnzqKioQG5uLnJzc1FaWurcp3379tiyZQsApft86tSpmD9/PrZs2YLvv/8e48ePR1BQEMaMGWPUaRARObmvLiR6IXBHV/Lrr2vvY5aZ6ET+SriWzdp4/fXXsW7dOudzR2tldnY2Ev+vGeDkyZMoLi527jNz5kz85z//wYsvvojLly/jvvvuwxdffIHQ0FCvxk5EpEZtnKNjFrqorX9WK5CaCsydq/76zp3AiBHejYmI6o4kyzWZB0i1UVJSgvDwcBQXFyMsLMzocIjIRGw2IDa2csIZEKC0DoqabALK0IDf/Eb9NYsFOHdO7PMjMfD+rQ9Td6MTEZmN1sx0kRMxx9AALXa7ePVDiegmU3ejExGZkfvMdJETTaD6Ekii1Q+tDZtNOf82bcS/jkRa2LJJRCQgx+pCZkhQPK0XLknit9xqycpShkT066f8mZVldERE+mCySUREhqpuvXAzMltVASJP/OifNhER+SrHeuHuZFlJysyWhHmqKkBkNkw2iYjIJ7iUQK7EjBOEtNa7N+vYVPJvTDaJiMgnaI3dtFjMl4SZsaoAkRbORiciIp+wbZvSbe5KkoAFC8yZhJmtqgCRFiabRERkOMeEGfdkU5aVtdEbN1aSM7NxrHdPZGbsRiciIsN5qrXJmdpEYmOySUREhvNUaxPgTG0ikTHZJCIiw7lPmHHHmdpE4uKYTSIiMpRjycakJCA/X2nBzMkB5sxRWjQ5U5tIbEw2iYjIMFlZN1fSsViU1s2UFGUpztGjOVObyAwkWXaf+0e3q6SkBOHh4SguLkZYWJjR4RAR+SSbTVkT3HViUECA0rrJ5JKMwPu3Pjhmk4iIDMElG4n8A5NNIiIyBJdsJPIPTDaJiMgQXLKRyD9wghARERnGdcnG4GCgtFQZy8mEk8g82LJJRESGslqB06eBXr2Afv2USUNZWUZHRUR1hckmEREZyrEuumOyEJenJDIXJptERGQozkonMjcmm0REZCjOSicyNyabRERkKM5KJzI3zkYnIiLDuc5K5/KURObCZJOIiHyC1cokk8iM2I1ORERERLphsklEREREumGySURERES6YbJJRERERLphsklEREREumGySURERES6YbJJRERERLphsklEREREumGySURERES6YbJJRERERLphsklERD7FZgOys5U/iUh8TDaJiMhnZGUBsbFAv37Kn1lZRkdERLeLySYREfkEmw14/nnAblee2+3AhAls4SQSHZNNIiLyCXl5NxNNh4oK4IcfjImHiOoGk00iIvIJbdoAFre7UkAA0Lq1MfEQUd1gsklERD7BagVWr1YSTED5c9UqZTsRiaue0QEQERE5pKQASUlK13nr1kw0icyAySYREfkUq5VJJpGZsBudiIiIiHTDZJOIiIiIdMNkk4iIiIh0w2STiIiIiHTDZJOIiIiIdMNkk4iIiIh0Y+pkc968eUhISEBQUBAaNWpUo/eMHz8ekiRVevTq1UvnSImIiIjMydTJ5vXr1zFixAj89re/rdX7HnnkEVy8eNH52Lp1q04REhEREZmbqYu6v/nmmwCAtWvX1up9gYGBiIqK0iEiIiIiIv9i6pbNW/XVV1+hWbNmaNu2LVJTU1FUVORx//LycpSUlFR6EBERERGTzSoeffRRbNiwATt37sTixYuRk5ODfv36oby8XPM9GRkZCA8Pdz6aN2/uxYiJiIiIfJcky7JsdBC1kZ6e7uwe15KTk4MePXo4n69duxZTp07FlStXan28ixcvIjY2Fhs3bsTw4cNV9ykvL6+UjBYXF6NFixYoKChAWFhYrY9JRERE3ldSUoLmzZvjypUrCA8PNzoc0xBuzOakSZMwatQoj/u0bNmyzo4XHR2N2NhY5OXlae4TGBiIwMBA53NHNzpbOImIiMRz9epVJpt1SLhkMyIiAhEREV473qVLl1BQUIDo6OgavycmJgYFBQUIDQ2FJEk6Ricex7dGtvoagz9/4/EaGI/XwHi+eg1kWcbVq1cRExNjdCimIlyyWRvnz5/Hzz//jPPnz6OiogK5ubkAgNatWyMkJAQA0L59e2RkZGDYsGEoLS1Feno6fv3rXyM6Ohr5+fl4+eWXERERgWHDhtX4uBaLBVarVZdzMouwsDCf+g/G3/DnbzxeA+PxGhjPF68BWzTrnqmTzddffx3r1q1zPu/WrRsAIDs7G4mJiQCAkydPori4GAAQEBCAo0ePYv369bhy5Qqio6Px0EMP4cMPP0RoaKjX4yciIiISnamTzbVr11ZbY9N1flTDhg2xbds2naMiIiIi8h8B6enp6UYHQf4lICAAiYmJqFfP1N91fBZ//sbjNTAer4HxeA38h3Clj4iIiIhIHCzqTkRERES6YbJJRERERLphsklEREREumGySURERES6YbJJusvIyEDPnj0RGhqKZs2aYejQoTh58qTRYfm1jIwMSJKEqVOnGh2KX7lw4QKefvppNG3aFEFBQejatSsOHTpkdFh+4ZdffsGrr76KuLg4NGzYEK1atcLcuXNht9uNDs20du/ejeTkZMTExECSJHz88ceVXpdlGenp6YiJiUHDhg2RmJiIY8eOGRQt6YnJJulu165dmDhxIvbv34/t27fjl19+wcCBA1FWVmZ0aH4pJycHq1evRpcuXYwOxa9cvnwZffr0Qf369fHZZ5/h+PHjWLx4MRo1amR0aH5hwYIF+Mtf/oIVK1bgxIkTWLhwIRYtWoQ//elPRodmWmVlZbj77ruxYsUK1dcXLlyIJUuWYMWKFcjJyUFUVBQGDBiAq1evejlS0htLH5HX/fjjj2jWrBl27dqFvn37Gh2OXyktLUX37t3xzjvv4K233kLXrl2xbNkyo8PyC7Nnz8Y333yDr7/+2uhQ/NLgwYMRGRmJrKws57Zf//rXCAoKwrvvvmtgZP5BkiRs2bIFQ4cOBaC0asbExGDq1KmYNWsWAKC8vByRkZFYsGABJkyYYGS4VMfYskle51getEmTJgZH4n8mTpyIxx57DA8//LDRofidTz75BD169MCIESPQrFkzdOvWDZmZmUaH5Tfuv/9+7NixA6dOnQIAHDlyBHv27MGgQYMMjsw/nT17FoWFhRg4cKBzW2BgIB588EHs3bvXwMhIDyzbT14lyzLS0tJw//33Iz4+3uhw/MrGjRtx+PBh5OTkGB2KXzpz5gxWrlyJtLQ0vPzyyzhw4AAmT56MwMBAPPPMM0aHZ3qzZs1CcXEx2rdvj4CAAFRUVGDevHkYPXq00aH5pcLCQgBAZGRkpe2RkZE4d+6cESGRjphskldNmjQJ3333Hfbs2WN0KH6loKAAU6ZMwRdffIEGDRoYHY5fstvt6NGjB+bPnw8A6NatG44dO4aVK1cy2fSCDz/8EO+99x7ef/99dOrUCbm5uZg6dSpiYmIwbtw4o8PzW5IkVXouy3KVbSQ+JpvkNb/73e/wySefYPfu3bBarUaH41cOHTqEoqIi3HPPPc5tFRUV2L17N1asWIHy8nIEBAQYGKH5RUdHo2PHjpW2dejQAR999JFBEfmXGTNmYPbs2Rg1ahQAoHPnzjh37hwyMjKYbBogKioKgNLCGR0d7dxeVFRUpbWTxMcxm6Q7WZYxadIkbN68GTt37kRcXJzRIfmd/v374+jRo8jNzXU+evTogaeeegq5ublMNL2gT58+VUp+nTp1CrGxsQZF5F+uXbsGi6XyLS8gIICljwwSFxeHqKgobN++3bnt+vXr2LVrFxISEgyMjPTAlk3S3cSJE/H+++/jf/7nfxAaGuocqxMeHo6GDRsaHJ1/CA0NrTJGNjg4GE2bNuXYWS+ZNm0aEhISMH/+fIwcORIHDhzA6tWrsXr1aqND8wvJycmYN28eWrRogU6dOuHbb7/FkiVL8NxzzxkdmmmVlpbihx9+cD4/e/YscnNz0aRJE7Ro0QJTp07F/Pnz0aZNG7Rp0wbz589HUFAQxowZY2DUpAuZSGcAVB9r1qwxOjS/9uCDD8pTpkwxOgy/8umnn8rx8fFyYGCg3L59e3n16tVGh+Q3SkpK5ClTpsgtWrSQGzRoILdq1Up+5ZVX5PLycqNDM63s7GzV//vHjRsny7Is2+12+Y033pCjoqLkwMBAuW/fvvLRo0eNDZp0wTqbRERERKQbjtkkIiIiIt0w2SQiIiIi3TDZJCIiIiLdMNkkIiIiIt0w2SQiIiIi3TDZJCIiIiLdMNkkIiIiIt0w2SQiIbRs2RLLli0zOozbVlhYiAEDBiA4OBiNGjUyOhwiIt0x2SQiqsbatWvrLDFcunQpLl68iNzcXJw6dapOPrM2zJK0E5E4uDY6Eenm+vXruOOOO4wO47bcuHGjTj/v9OnTuOeee9CmTZsav8cMP0ci8l9s2SSiOpOYmIhJkyYhLS0NERERGDBgAACguLgYzz//PJo1a4awsDD069cPR44ccb7v9OnTGDJkCCIjIxESEoKePXviyy+/rNWxx48fj6FDh+LNN990HmfChAm4fv26c5/PP/8c999/Pxo1aoSmTZti8ODBOH36tPP1/Px8SJKETZs2ITExEQ0aNMB7772HZ599FsXFxZAkCZIkIT09XTOOlStX4q677sIdd9yBdu3a4d1333W+1rJlS3z00UdYv349JEnC+PHjPZ5LRkYGYmJi0LZtWwDA5cuX8cwzz6Bx48YICgrCo48+iry8vErv/eijj9CpUycEBgaiZcuWWLx4sfO1xMREnDt3DtOmTXOeCwCcO3cOycnJaNy4MYKDg9GpUyds3bq1xj97IiJPmGwSUZ1at24d6tWrh2+++QarVq2CLMt47LHHUFhYiK1bt+LQoUPo3r07+vfvj59//hkAUFpaikGDBuHLL7/Et99+i6SkJCQnJ+P8+fO1OvaOHTtw4sQJZGdn44MPPsCWLVvw5ptvOl8vKytDWloacnJysGPHDlgsFgwbNgx2u73S58yaNQuTJ0/GiRMn0L9/fyxbtgxhYWG4ePEiLl68iJdeekn1+Fu2bMGUKVMwffp0fP/995gwYQKeffZZZGdnAwBycnLwyCOPYOTIkbh48SKWL19e7bls374df//73wEoSejBgwfxySefYN++fZBlGYMGDXK2vh46dAgjR47EqFGjcPToUaSnp+O1117D2rVrAQCbN2+G1WrF3LlznecCABMnTkR5eTl2796No0ePYsGCBQgJCanVz56ISJNMRFRHHnzwQblr166Vtu3YsUMOCwuT//vf/1baftddd8mrVq3S/KyOHTvKf/rTn5zPY2Nj5aVLl2ruP27cOLlJkyZyWVmZc9vKlSvlkJAQuaKiQvU9RUVFMgD56NGjsizL8tmzZ2UA8rJlyyrtt2bNGjk8PFzz2A4JCQlyampqpW0jRoyQBw0a5Hw+ZMgQedy4cR4/Z9y4cXJkZKRcXl7u3Hbq1CkZgPzNN984t/30009yw4YN5U2bNsmyLMtjxoyRBwwYUOmzZsyYIXfs2NH5XO3n2LlzZzk9Pb3a8yMiuhVs2SSiOtWjR49Kzw8dOoTS0lI0bdoUISEhzsfZs2edXdhlZWWYOXMmOnbsiEaNGiEkJAT/+te/at2yeffddyMoKMj5vHfv3igtLUVBQQEApbt+zJgxaNWqFcLCwhAXFwcAVY7jfg41deLECfTp06fStj59+uDEiRO1/qzOnTtXGqd54sQJ1KtXD/fdd59zW9OmTdGuXTvn52sdPy8vDxUVFZrHmjx5Mt566y306dMHb7zxBr777rtax0tEpIUThIioTgUHB1d6brfbER0dja+++qrKvo4Z3jNmzMC2bdvw9ttvo3Xr1mjYsCGeeOKJSuMtb4djbGJycjKaN2+OzMxMxMTEwG63Iz4+vspx3M/hVo7lIMtylW014R6DLMuq+7l+vtqxtN7n6je/+Q2SkpLwj3/8A1988QUyMjKwePFi/O53v6t13ERE7tiySUS66t69OwoLC1GvXj20bt260iMiIgIA8PXXX2P8+PEYNmwYOnfujKioKOTn59f6WEeOHMF//vMf5/P9+/cjJCQEVqsVly5dwokTJ/Dqq6+if//+6NChAy5fvlyjz73jjjs8tgw6dOjQAXv27Km0be/evejQoUPtTkRFx44d8csvv+Cf//ync9ulS5dw6tQp5+d37NhR9fht27ZFQEAAAO1zad68OV544QVs3rwZ06dPR2Zm5m3HTEQEMNkkIp09/PDD6N27N4YOHYpt27YhPz8fe/fuxauvvoqDBw8CAFq3bo3NmzcjNzcXR44cwZgxY6pM2qmJ69evIyUlBcePH8dnn32GN954A5MmTYLFYkHjxo3RtGlTrF69Gj/88AN27tyJtLS0Gn1uy5YtUVpaih07duCnn37CtWvXVPebMWMG1q5di7/85S/Iy8vDkiVLsHnzZs0JRbXRpk0bDBkyBKmpqdizZw+OHDmCp59+GnfeeSeGDBkCAJg+fTp27NiB3//+9zh16hTWrVuHFStWVDp+y5YtsXv3bly4cAE//fQTAGDq1KnYtm0bzp49i8OHD2Pnzp11kiATEQFMNolIZ5IkYevWrejbty+ee+45tG3bFqNGjUJ+fj4iIyMBKIXOGzdujISEBCQnJyMpKQndu3ev9bH69++PNm3aoG/fvhg5ciSSk5OdZYosFgs2btyIQ4cOIT4+HtOmTcOiRYtq9LkJCQl44YUX8OSTT+JXv/oVFi5cqLrf0KFDsXz5cixatAidOnXCqlWrsGbNGiQmJtb6XNSsWbMG99xzDwYPHozevXtDlmVs3boV9evXB6C0Im/atAkbN25EfHw8Xn/9dcydO7dSiaW5c+ciPz8fd911F371q18BACoqKjBx4kR06NABjzzyCNq1a4d33nmnTmImIpLkmgzoISLycePHj8eVK1fw8ccfGx0KERG5YMsmEREREemGySYRERER6Ybd6ERERESkG7ZsEhEREZFumGwSERERkW6YbBIRERGRbphsEhEREZFumGwSERERkW6YbBIRERGRbphsEhEREZFumGwSERERkW6YbBIRERGRbv4/h6s0oETLAWgAAAAASUVORK5CYII=&amp;#39;&amp;gt;&amp;lt;/img&amp;gt;&amp;quot;},&amp;quot;nodeType&amp;quot;:&amp;quot;DOM&amp;quot;,&amp;quot;type&amp;quot;:&amp;quot;node&amp;quot;,&amp;quot;instanceArgs&amp;quot;:{&amp;quot;namespace&amp;quot;:&amp;quot;html&amp;quot;,&amp;quot;tag&amp;quot;:&amp;quot;div&amp;quot;},&amp;quot;children&amp;quot;:[]}]})&lt;/unsafe-script&gt;&quot;},&quot;nodeType&quot;:&quot;DOM&quot;,&quot;type&quot;:&quot;node&quot;,&quot;instanceArgs&quot;:{&quot;namespace&quot;:&quot;html&quot;,&quot;tag&quot;:&quot;div&quot;},&quot;children&quot;:[]}]}]})</unsafe-script>\n",
       "</div>"
      ],
      "text/plain": [
       "(div\n",
       "  Widgets.Widget{:slider}(DataStructures.OrderedDict{Symbol,Any}(:changes=>Observables.Observable{Int64}(\"ob_02\", 0, Any[WebIO.SyncCallback(WebIO.Scope(\"knockout-component-49c4814b-48b2-4671-a688-f13752e3c5d2\", WebIO.Node{WebIO.DOM}(WebIO.DOM(:html, :div), Any[WebIO.Node{WebIO.DOM}(WebIO.DOM(:html, :div), Any[WebIO.Node{WebIO.DOM}(WebIO.DOM(:html, :label), Any[\"logR\"], Dict{Symbol,Any}(Pair{Symbol,Any}(:className, \"interact \"),Pair{Symbol,Any}(:style, Dict{Any,Any}(Pair{Any,Any}(:padding, \"5px 10px 0px 10px\")))), 1)], Dict{Symbol,Any}(Pair{Symbol,Any}(:attributes, Dict(\"style\"=>\"text-align:right;width:18%\"))), 2), WebIO.Node{WebIO.DOM}(WebIO.DOM(:html, :div), Any[WebIO.Node{WebIO.DOM}(WebIO.DOM(:html, :input), Any[], Dict{Symbol,Any}(Pair{Symbol,Any}(:max, -1.0),Pair{Symbol,Any}(:min, -12.0),Pair{Symbol,Any}(:attributes, Dict{Any,Any}(Pair{Any,Any}(:type, \"range\"),Pair{Any,Any}(Symbol(\"data-bind\"), \"numericValue: value, valueUpdate: 'input', event: {change : function () {this.changes(this.changes()+1)}}\"))),Pair{Symbol,Any}(:step, 0.1),Pair{Symbol,Any}(:className, \"slider slider is-fullwidth\"),Pair{Symbol,Any}(:style, Dict{Any,Any}())), 0)], Dict{Symbol,Any}(Pair{Symbol,Any}(:attributes, Dict(\"style\"=>\"flex-grow:1; margin: 0 2%\"))), 1), WebIO.Node{WebIO.DOM}(WebIO.DOM(:html, :div), Any[WebIO.Node{WebIO.DOM}(WebIO.DOM(:html, :p), Any[], Dict{Symbol,Any}(Pair{Symbol,Any}(:attributes, Dict(\"data-bind\"=>\"text: displayedvalue\"))), 0)], Dict{Symbol,Any}(Pair{Symbol,Any}(:attributes, Dict(\"style\"=>\"width:18%\"))), 1)], Dict{Symbol,Any}(Pair{Symbol,Any}(:attributes, Dict(\"style\"=>\"display:flex; justify-content:center; align-items:center;\"))), 7), Dict{String,Tuple{Observables.Observable,Union{Bool, Void}}}(Pair{String,Tuple{Observables.Observable,Union{Bool, Void}}}(\"changes\", (Observables.Observable{Int64}(#= circular reference @-7 =#), nothing)),Pair{String,Tuple{Observables.Observable,Union{Bool, Void}}}(\"value\", (Observables.Observable{Float64}(\"ob_01\", -6.5, Any[WebIO.SyncCallback(WebIO.Scope(#= circular reference @-7 =#), WebIO.SyncCallback(WebIO.Scope(#= circular reference @-8 =#), WebIO.#37)), Observables.g]), nothing))), Set{String}(), nothing, Any[\"knockout\"=>\"/Users/stevenj/.julia/v0.6/Knockout/src/../assets/knockout.js\", \"knockout_punches\"=>\"/Users/stevenj/.julia/v0.6/Knockout/src/../assets/knockout_punches.js\", \"/Users/stevenj/.julia/v0.6/InteractBase/src/../assets/all.js\", \"/Users/stevenj/.julia/v0.6/InteractBase/src/../assets/style.css\", \"/Users/stevenj/.julia/v0.6/InteractBulma/src/../assets/main.css\"], Dict{Any,Any}(Pair{Any,Any}(\"_promises\", Dict{Any,Any}(Pair{Any,Any}(\"importsLoaded\", Any[WebIO.JSString(\"function (ko, koPunches) {\\n    ko.punches.enableAll();\\n    ko.bindingHandlers.numericValue = {\\n        init : function(element, valueAccessor, allBindings, data, context) {\\n            var stringified = ko.observable(ko.unwrap(valueAccessor()));\\n            stringified.subscribe(function(value) {\\n                var val = parseFloat(value);\\n                if (!isNaN(val)) {\\n                    valueAccessor()(val);\\n                }\\n            })\\n            valueAccessor().subscribe(function(value) {\\n                var str = JSON.stringify(value);\\n                if ((str == \\\"0\\\") && ([\\\"-0\\\", \\\"-0.\\\"].indexOf(stringified()) >= 0))\\n                     return;\\n                 if ([\\\"null\\\", \\\"\\\"].indexOf(str) >= 0)\\n                     return;\\n                stringified(str);\\n            })\\n            ko.applyBindingsToNode(element, { value: stringified, valueUpdate: allBindings.get('valueUpdate')}, context);\\n        }\\n    };\\n    var json_data = JSON.parse(\\\"{\\\\\\\"changes\\\\\\\":0,\\\\\\\"value\\\\\\\":-6.5}\\\");\\n    var self = this;\\n    function AppViewModel() {\\n        for (var key in json_data) {\\n            var el = json_data[key];\\n            this[key] = Array.isArray(el) ? ko.observableArray(el) : ko.observable(el);\\n        }\\n        \\n        [this[\\\"displayedvalue\\\"]=ko.computed(function () {return this.value().toPrecision(6);},this)]\\n        [this[\\\"changes\\\"].subscribe((function (val){!(this.valueFromJulia[\\\"changes\\\"]) ? (WebIO.setval({\\\"name\\\":\\\"changes\\\",\\\"scope\\\":\\\"knockout-component-49c4814b-48b2-4671-a688-f13752e3c5d2\\\",\\\"id\\\":\\\"ob_02\\\",\\\"type\\\":\\\"observable\\\"},val)) : undefined; return this.valueFromJulia[\\\"changes\\\"]=false}),self),this[\\\"value\\\"].subscribe((function (val){!(this.valueFromJulia[\\\"value\\\"]) ? (WebIO.setval({\\\"name\\\":\\\"value\\\",\\\"scope\\\":\\\"knockout-component-49c4814b-48b2-4671-a688-f13752e3c5d2\\\",\\\"id\\\":\\\"ob_01\\\",\\\"type\\\":\\\"observable\\\"},val)) : undefined; return this.valueFromJulia[\\\"value\\\"]=false}),self)]\\n        \\n    }\\n    self.model = new AppViewModel();\\n    self.valueFromJulia = {};\\n    for (var key in json_data) {\\n        self.valueFromJulia[key] = false;\\n    }\\n    ko.applyBindings(self.model, self.dom);\\n}\\n\")]))),Pair{Any,Any}(\"changes\", Any[WebIO.JSString(\"(function (val){return (val!=this.model[\\\"changes\\\"]()) ? (this.valueFromJulia[\\\"changes\\\"]=true, this.model[\\\"changes\\\"](val)) : undefined})\")]),Pair{Any,Any}(\"value\", Any[WebIO.JSString(\"(function (val){return (val!=this.model[\\\"value\\\"]()) ? (this.valueFromJulia[\\\"value\\\"]=true, this.model[\\\"value\\\"](val)) : undefined})\")])), WebIO.ConnectionPool(Channel{Any}(sz_max:9223372036854775807,sz_curr:3), Set{WebIO.AbstractConnection}(), Channel{WebIO.AbstractConnection}(sz_max:32,sz_curr:0))), WebIO.SyncCallback(WebIO.Scope(\"knockout-component-49c4814b-48b2-4671-a688-f13752e3c5d2\", WebIO.Node{WebIO.DOM}(WebIO.DOM(:html, :div), Any[WebIO.Node{WebIO.DOM}(WebIO.DOM(:html, :div), Any[WebIO.Node{WebIO.DOM}(WebIO.DOM(:html, :label), Any[\"logR\"], Dict{Symbol,Any}(Pair{Symbol,Any}(:className, \"interact \"),Pair{Symbol,Any}(:style, Dict{Any,Any}(Pair{Any,Any}(:padding, \"5px 10px 0px 10px\")))), 1)], Dict{Symbol,Any}(Pair{Symbol,Any}(:attributes, Dict(\"style\"=>\"text-align:right;width:18%\"))), 2), WebIO.Node{WebIO.DOM}(WebIO.DOM(:html, :div), Any[WebIO.Node{WebIO.DOM}(WebIO.DOM(:html, :input), Any[], Dict{Symbol,Any}(Pair{Symbol,Any}(:max, -1.0),Pair{Symbol,Any}(:min, -12.0),Pair{Symbol,Any}(:attributes, Dict{Any,Any}(Pair{Any,Any}(:type, \"range\"),Pair{Any,Any}(Symbol(\"data-bind\"), \"numericValue: value, valueUpdate: 'input', event: {change : function () {this.changes(this.changes()+1)}}\"))),Pair{Symbol,Any}(:step, 0.1),Pair{Symbol,Any}(:className, \"slider slider is-fullwidth\"),Pair{Symbol,Any}(:style, Dict{Any,Any}())), 0)], Dict{Symbol,Any}(Pair{Symbol,Any}(:attributes, Dict(\"style\"=>\"flex-grow:1; margin: 0 2%\"))), 1), WebIO.Node{WebIO.DOM}(WebIO.DOM(:html, :div), Any[WebIO.Node{WebIO.DOM}(WebIO.DOM(:html, :p), Any[], Dict{Symbol,Any}(Pair{Symbol,Any}(:attributes, Dict(\"data-bind\"=>\"text: displayedvalue\"))), 0)], Dict{Symbol,Any}(Pair{Symbol,Any}(:attributes, Dict(\"style\"=>\"width:18%\"))), 1)], Dict{Symbol,Any}(Pair{Symbol,Any}(:attributes, Dict(\"style\"=>\"display:flex; justify-content:center; align-items:center;\"))), 7), Dict{String,Tuple{Observables.Observable,Union{Bool, Void}}}(Pair{String,Tuple{Observables.Observable,Union{Bool, Void}}}(\"changes\", (Observables.Observable{Int64}(#= circular reference @-8 =#), nothing)),Pair{String,Tuple{Observables.Observable,Union{Bool, Void}}}(\"value\", (Observables.Observable{Float64}(\"ob_01\", -6.5, Any[WebIO.SyncCallback(WebIO.Scope(#= circular reference @-7 =#), WebIO.SyncCallback(WebIO.Scope(#= circular reference @-8 =#), WebIO.#37)), Observables.g]), nothing))), Set{String}(), nothing, Any[\"knockout\"=>\"/Users/stevenj/.julia/v0.6/Knockout/src/../assets/knockout.js\", \"knockout_punches\"=>\"/Users/stevenj/.julia/v0.6/Knockout/src/../assets/knockout_punches.js\", \"/Users/stevenj/.julia/v0.6/InteractBase/src/../assets/all.js\", \"/Users/stevenj/.julia/v0.6/InteractBase/src/../assets/style.css\", \"/Users/stevenj/.julia/v0.6/InteractBulma/src/../assets/main.css\"], Dict{Any,Any}(Pair{Any,Any}(\"_promises\", Dict{Any,Any}(Pair{Any,Any}(\"importsLoaded\", Any[WebIO.JSString(\"function (ko, koPunches) {\\n    ko.punches.enableAll();\\n    ko.bindingHandlers.numericValue = {\\n        init : function(element, valueAccessor, allBindings, data, context) {\\n            var stringified = ko.observable(ko.unwrap(valueAccessor()));\\n            stringified.subscribe(function(value) {\\n                var val = parseFloat(value);\\n                if (!isNaN(val)) {\\n                    valueAccessor()(val);\\n                }\\n            })\\n            valueAccessor().subscribe(function(value) {\\n                var str = JSON.stringify(value);\\n                if ((str == \\\"0\\\") && ([\\\"-0\\\", \\\"-0.\\\"].indexOf(stringified()) >= 0))\\n                     return;\\n                 if ([\\\"null\\\", \\\"\\\"].indexOf(str) >= 0)\\n                     return;\\n                stringified(str);\\n            })\\n            ko.applyBindingsToNode(element, { value: stringified, valueUpdate: allBindings.get('valueUpdate')}, context);\\n        }\\n    };\\n    var json_data = JSON.parse(\\\"{\\\\\\\"changes\\\\\\\":0,\\\\\\\"value\\\\\\\":-6.5}\\\");\\n    var self = this;\\n    function AppViewModel() {\\n        for (var key in json_data) {\\n            var el = json_data[key];\\n            this[key] = Array.isArray(el) ? ko.observableArray(el) : ko.observable(el);\\n        }\\n        \\n        [this[\\\"displayedvalue\\\"]=ko.computed(function () {return this.value().toPrecision(6);},this)]\\n        [this[\\\"changes\\\"].subscribe((function (val){!(this.valueFromJulia[\\\"changes\\\"]) ? (WebIO.setval({\\\"name\\\":\\\"changes\\\",\\\"scope\\\":\\\"knockout-component-49c4814b-48b2-4671-a688-f13752e3c5d2\\\",\\\"id\\\":\\\"ob_02\\\",\\\"type\\\":\\\"observable\\\"},val)) : undefined; return this.valueFromJulia[\\\"changes\\\"]=false}),self),this[\\\"value\\\"].subscribe((function (val){!(this.valueFromJulia[\\\"value\\\"]) ? (WebIO.setval({\\\"name\\\":\\\"value\\\",\\\"scope\\\":\\\"knockout-component-49c4814b-48b2-4671-a688-f13752e3c5d2\\\",\\\"id\\\":\\\"ob_01\\\",\\\"type\\\":\\\"observable\\\"},val)) : undefined; return this.valueFromJulia[\\\"value\\\"]=false}),self)]\\n        \\n    }\\n    self.model = new AppViewModel();\\n    self.valueFromJulia = {};\\n    for (var key in json_data) {\\n        self.valueFromJulia[key] = false;\\n    }\\n    ko.applyBindings(self.model, self.dom);\\n}\\n\")]))),Pair{Any,Any}(\"changes\", Any[WebIO.JSString(\"(function (val){return (val!=this.model[\\\"changes\\\"]()) ? (this.valueFromJulia[\\\"changes\\\"]=true, this.model[\\\"changes\\\"](val)) : undefined})\")]),Pair{Any,Any}(\"value\", Any[WebIO.JSString(\"(function (val){return (val!=this.model[\\\"value\\\"]()) ? (this.valueFromJulia[\\\"value\\\"]=true, this.model[\\\"value\\\"](val)) : undefined})\")])), WebIO.ConnectionPool(Channel{Any}(sz_max:9223372036854775807,sz_curr:3), Set{WebIO.AbstractConnection}(), Channel{WebIO.AbstractConnection}(sz_max:32,sz_curr:0))), WebIO.#37))]),:value=>Observables.Observable{Float64}(\"ob_01\", -6.5, Any[WebIO.SyncCallback(WebIO.Scope(\"knockout-component-49c4814b-48b2-4671-a688-f13752e3c5d2\", WebIO.Node{WebIO.DOM}(WebIO.DOM(:html, :div), Any[WebIO.Node{WebIO.DOM}(WebIO.DOM(:html, :div), Any[WebIO.Node{WebIO.DOM}(WebIO.DOM(:html, :label), Any[\"logR\"], Dict{Symbol,Any}(Pair{Symbol,Any}(:className, \"interact \"),Pair{Symbol,Any}(:style, Dict{Any,Any}(Pair{Any,Any}(:padding, \"5px 10px 0px 10px\")))), 1)], Dict{Symbol,Any}(Pair{Symbol,Any}(:attributes, Dict(\"style\"=>\"text-align:right;width:18%\"))), 2), WebIO.Node{WebIO.DOM}(WebIO.DOM(:html, :div), Any[WebIO.Node{WebIO.DOM}(WebIO.DOM(:html, :input), Any[], Dict{Symbol,Any}(Pair{Symbol,Any}(:max, -1.0),Pair{Symbol,Any}(:min, -12.0),Pair{Symbol,Any}(:attributes, Dict{Any,Any}(Pair{Any,Any}(:type, \"range\"),Pair{Any,Any}(Symbol(\"data-bind\"), \"numericValue: value, valueUpdate: 'input', event: {change : function () {this.changes(this.changes()+1)}}\"))),Pair{Symbol,Any}(:step, 0.1),Pair{Symbol,Any}(:className, \"slider slider is-fullwidth\"),Pair{Symbol,Any}(:style, Dict{Any,Any}())), 0)], Dict{Symbol,Any}(Pair{Symbol,Any}(:attributes, Dict(\"style\"=>\"flex-grow:1; margin: 0 2%\"))), 1), WebIO.Node{WebIO.DOM}(WebIO.DOM(:html, :div), Any[WebIO.Node{WebIO.DOM}(WebIO.DOM(:html, :p), Any[], Dict{Symbol,Any}(Pair{Symbol,Any}(:attributes, Dict(\"data-bind\"=>\"text: displayedvalue\"))), 0)], Dict{Symbol,Any}(Pair{Symbol,Any}(:attributes, Dict(\"style\"=>\"width:18%\"))), 1)], Dict{Symbol,Any}(Pair{Symbol,Any}(:attributes, Dict(\"style\"=>\"display:flex; justify-content:center; align-items:center;\"))), 7), Dict{String,Tuple{Observables.Observable,Union{Bool, Void}}}(Pair{String,Tuple{Observables.Observable,Union{Bool, Void}}}(\"changes\", (Observables.Observable{Int64}(\"ob_02\", 0, Any[WebIO.SyncCallback(WebIO.Scope(#= circular reference @-7 =#), WebIO.SyncCallback(WebIO.Scope(#= circular reference @-8 =#), WebIO.#37))]), nothing)),Pair{String,Tuple{Observables.Observable,Union{Bool, Void}}}(\"value\", (Observables.Observable{Float64}(#= circular reference @-7 =#), nothing))), Set{String}(), nothing, Any[\"knockout\"=>\"/Users/stevenj/.julia/v0.6/Knockout/src/../assets/knockout.js\", \"knockout_punches\"=>\"/Users/stevenj/.julia/v0.6/Knockout/src/../assets/knockout_punches.js\", \"/Users/stevenj/.julia/v0.6/InteractBase/src/../assets/all.js\", \"/Users/stevenj/.julia/v0.6/InteractBase/src/../assets/style.css\", \"/Users/stevenj/.julia/v0.6/InteractBulma/src/../assets/main.css\"], Dict{Any,Any}(Pair{Any,Any}(\"_promises\", Dict{Any,Any}(Pair{Any,Any}(\"importsLoaded\", Any[WebIO.JSString(\"function (ko, koPunches) {\\n    ko.punches.enableAll();\\n    ko.bindingHandlers.numericValue = {\\n        init : function(element, valueAccessor, allBindings, data, context) {\\n            var stringified = ko.observable(ko.unwrap(valueAccessor()));\\n            stringified.subscribe(function(value) {\\n                var val = parseFloat(value);\\n                if (!isNaN(val)) {\\n                    valueAccessor()(val);\\n                }\\n            })\\n            valueAccessor().subscribe(function(value) {\\n                var str = JSON.stringify(value);\\n                if ((str == \\\"0\\\") && ([\\\"-0\\\", \\\"-0.\\\"].indexOf(stringified()) >= 0))\\n                     return;\\n                 if ([\\\"null\\\", \\\"\\\"].indexOf(str) >= 0)\\n                     return;\\n                stringified(str);\\n            })\\n            ko.applyBindingsToNode(element, { value: stringified, valueUpdate: allBindings.get('valueUpdate')}, context);\\n        }\\n    };\\n    var json_data = JSON.parse(\\\"{\\\\\\\"changes\\\\\\\":0,\\\\\\\"value\\\\\\\":-6.5}\\\");\\n    var self = this;\\n    function AppViewModel() {\\n        for (var key in json_data) {\\n            var el = json_data[key];\\n            this[key] = Array.isArray(el) ? ko.observableArray(el) : ko.observable(el);\\n        }\\n        \\n        [this[\\\"displayedvalue\\\"]=ko.computed(function () {return this.value().toPrecision(6);},this)]\\n        [this[\\\"changes\\\"].subscribe((function (val){!(this.valueFromJulia[\\\"changes\\\"]) ? (WebIO.setval({\\\"name\\\":\\\"changes\\\",\\\"scope\\\":\\\"knockout-component-49c4814b-48b2-4671-a688-f13752e3c5d2\\\",\\\"id\\\":\\\"ob_02\\\",\\\"type\\\":\\\"observable\\\"},val)) : undefined; return this.valueFromJulia[\\\"changes\\\"]=false}),self),this[\\\"value\\\"].subscribe((function (val){!(this.valueFromJulia[\\\"value\\\"]) ? (WebIO.setval({\\\"name\\\":\\\"value\\\",\\\"scope\\\":\\\"knockout-component-49c4814b-48b2-4671-a688-f13752e3c5d2\\\",\\\"id\\\":\\\"ob_01\\\",\\\"type\\\":\\\"observable\\\"},val)) : undefined; return this.valueFromJulia[\\\"value\\\"]=false}),self)]\\n        \\n    }\\n    self.model = new AppViewModel();\\n    self.valueFromJulia = {};\\n    for (var key in json_data) {\\n        self.valueFromJulia[key] = false;\\n    }\\n    ko.applyBindings(self.model, self.dom);\\n}\\n\")]))),Pair{Any,Any}(\"changes\", Any[WebIO.JSString(\"(function (val){return (val!=this.model[\\\"changes\\\"]()) ? (this.valueFromJulia[\\\"changes\\\"]=true, this.model[\\\"changes\\\"](val)) : undefined})\")]),Pair{Any,Any}(\"value\", Any[WebIO.JSString(\"(function (val){return (val!=this.model[\\\"value\\\"]()) ? (this.valueFromJulia[\\\"value\\\"]=true, this.model[\\\"value\\\"](val)) : undefined})\")])), WebIO.ConnectionPool(Channel{Any}(sz_max:9223372036854775807,sz_curr:3), Set{WebIO.AbstractConnection}(), Channel{WebIO.AbstractConnection}(sz_max:32,sz_curr:0))), WebIO.SyncCallback(WebIO.Scope(\"knockout-component-49c4814b-48b2-4671-a688-f13752e3c5d2\", WebIO.Node{WebIO.DOM}(WebIO.DOM(:html, :div), Any[WebIO.Node{WebIO.DOM}(WebIO.DOM(:html, :div), Any[WebIO.Node{WebIO.DOM}(WebIO.DOM(:html, :label), Any[\"logR\"], Dict{Symbol,Any}(Pair{Symbol,Any}(:className, \"interact \"),Pair{Symbol,Any}(:style, Dict{Any,Any}(Pair{Any,Any}(:padding, \"5px 10px 0px 10px\")))), 1)], Dict{Symbol,Any}(Pair{Symbol,Any}(:attributes, Dict(\"style\"=>\"text-align:right;width:18%\"))), 2), WebIO.Node{WebIO.DOM}(WebIO.DOM(:html, :div), Any[WebIO.Node{WebIO.DOM}(WebIO.DOM(:html, :input), Any[], Dict{Symbol,Any}(Pair{Symbol,Any}(:max, -1.0),Pair{Symbol,Any}(:min, -12.0),Pair{Symbol,Any}(:attributes, Dict{Any,Any}(Pair{Any,Any}(:type, \"range\"),Pair{Any,Any}(Symbol(\"data-bind\"), \"numericValue: value, valueUpdate: 'input', event: {change : function () {this.changes(this.changes()+1)}}\"))),Pair{Symbol,Any}(:step, 0.1),Pair{Symbol,Any}(:className, \"slider slider is-fullwidth\"),Pair{Symbol,Any}(:style, Dict{Any,Any}())), 0)], Dict{Symbol,Any}(Pair{Symbol,Any}(:attributes, Dict(\"style\"=>\"flex-grow:1; margin: 0 2%\"))), 1), WebIO.Node{WebIO.DOM}(WebIO.DOM(:html, :div), Any[WebIO.Node{WebIO.DOM}(WebIO.DOM(:html, :p), Any[], Dict{Symbol,Any}(Pair{Symbol,Any}(:attributes, Dict(\"data-bind\"=>\"text: displayedvalue\"))), 0)], Dict{Symbol,Any}(Pair{Symbol,Any}(:attributes, Dict(\"style\"=>\"width:18%\"))), 1)], Dict{Symbol,Any}(Pair{Symbol,Any}(:attributes, Dict(\"style\"=>\"display:flex; justify-content:center; align-items:center;\"))), 7), Dict{String,Tuple{Observables.Observable,Union{Bool, Void}}}(Pair{String,Tuple{Observables.Observable,Union{Bool, Void}}}(\"changes\", (Observables.Observable{Int64}(\"ob_02\", 0, Any[WebIO.SyncCallback(WebIO.Scope(#= circular reference @-7 =#), WebIO.SyncCallback(WebIO.Scope(#= circular reference @-8 =#), WebIO.#37))]), nothing)),Pair{String,Tuple{Observables.Observable,Union{Bool, Void}}}(\"value\", (Observables.Observable{Float64}(#= circular reference @-8 =#), nothing))), Set{String}(), nothing, Any[\"knockout\"=>\"/Users/stevenj/.julia/v0.6/Knockout/src/../assets/knockout.js\", \"knockout_punches\"=>\"/Users/stevenj/.julia/v0.6/Knockout/src/../assets/knockout_punches.js\", \"/Users/stevenj/.julia/v0.6/InteractBase/src/../assets/all.js\", \"/Users/stevenj/.julia/v0.6/InteractBase/src/../assets/style.css\", \"/Users/stevenj/.julia/v0.6/InteractBulma/src/../assets/main.css\"], Dict{Any,Any}(Pair{Any,Any}(\"_promises\", Dict{Any,Any}(Pair{Any,Any}(\"importsLoaded\", Any[WebIO.JSString(\"function (ko, koPunches) {\\n    ko.punches.enableAll();\\n    ko.bindingHandlers.numericValue = {\\n        init : function(element, valueAccessor, allBindings, data, context) {\\n            var stringified = ko.observable(ko.unwrap(valueAccessor()));\\n            stringified.subscribe(function(value) {\\n                var val = parseFloat(value);\\n                if (!isNaN(val)) {\\n                    valueAccessor()(val);\\n                }\\n            })\\n            valueAccessor().subscribe(function(value) {\\n                var str = JSON.stringify(value);\\n                if ((str == \\\"0\\\") && ([\\\"-0\\\", \\\"-0.\\\"].indexOf(stringified()) >= 0))\\n                     return;\\n                 if ([\\\"null\\\", \\\"\\\"].indexOf(str) >= 0)\\n                     return;\\n                stringified(str);\\n            })\\n            ko.applyBindingsToNode(element, { value: stringified, valueUpdate: allBindings.get('valueUpdate')}, context);\\n        }\\n    };\\n    var json_data = JSON.parse(\\\"{\\\\\\\"changes\\\\\\\":0,\\\\\\\"value\\\\\\\":-6.5}\\\");\\n    var self = this;\\n    function AppViewModel() {\\n        for (var key in json_data) {\\n            var el = json_data[key];\\n            this[key] = Array.isArray(el) ? ko.observableArray(el) : ko.observable(el);\\n        }\\n        \\n        [this[\\\"displayedvalue\\\"]=ko.computed(function () {return this.value().toPrecision(6);},this)]\\n        [this[\\\"changes\\\"].subscribe((function (val){!(this.valueFromJulia[\\\"changes\\\"]) ? (WebIO.setval({\\\"name\\\":\\\"changes\\\",\\\"scope\\\":\\\"knockout-component-49c4814b-48b2-4671-a688-f13752e3c5d2\\\",\\\"id\\\":\\\"ob_02\\\",\\\"type\\\":\\\"observable\\\"},val)) : undefined; return this.valueFromJulia[\\\"changes\\\"]=false}),self),this[\\\"value\\\"].subscribe((function (val){!(this.valueFromJulia[\\\"value\\\"]) ? (WebIO.setval({\\\"name\\\":\\\"value\\\",\\\"scope\\\":\\\"knockout-component-49c4814b-48b2-4671-a688-f13752e3c5d2\\\",\\\"id\\\":\\\"ob_01\\\",\\\"type\\\":\\\"observable\\\"},val)) : undefined; return this.valueFromJulia[\\\"value\\\"]=false}),self)]\\n        \\n    }\\n    self.model = new AppViewModel();\\n    self.valueFromJulia = {};\\n    for (var key in json_data) {\\n        self.valueFromJulia[key] = false;\\n    }\\n    ko.applyBindings(self.model, self.dom);\\n}\\n\")]))),Pair{Any,Any}(\"changes\", Any[WebIO.JSString(\"(function (val){return (val!=this.model[\\\"changes\\\"]()) ? (this.valueFromJulia[\\\"changes\\\"]=true, this.model[\\\"changes\\\"](val)) : undefined})\")]),Pair{Any,Any}(\"value\", Any[WebIO.JSString(\"(function (val){return (val!=this.model[\\\"value\\\"]()) ? (this.valueFromJulia[\\\"value\\\"]=true, this.model[\\\"value\\\"](val)) : undefined})\")])), WebIO.ConnectionPool(Channel{Any}(sz_max:9223372036854775807,sz_curr:3), Set{WebIO.AbstractConnection}(), Channel{WebIO.AbstractConnection}(sz_max:32,sz_curr:0))), WebIO.#37)), Observables.g])), Observables.Observable{Float64}(\"ob_01\", -6.5, Any[WebIO.SyncCallback(WebIO.Scope(\"knockout-component-49c4814b-48b2-4671-a688-f13752e3c5d2\", WebIO.Node{WebIO.DOM}(WebIO.DOM(:html, :div), Any[WebIO.Node{WebIO.DOM}(WebIO.DOM(:html, :div), Any[WebIO.Node{WebIO.DOM}(WebIO.DOM(:html, :label), Any[\"logR\"], Dict{Symbol,Any}(Pair{Symbol,Any}(:className, \"interact \"),Pair{Symbol,Any}(:style, Dict{Any,Any}(Pair{Any,Any}(:padding, \"5px 10px 0px 10px\")))), 1)], Dict{Symbol,Any}(Pair{Symbol,Any}(:attributes, Dict(\"style\"=>\"text-align:right;width:18%\"))), 2), WebIO.Node{WebIO.DOM}(WebIO.DOM(:html, :div), Any[WebIO.Node{WebIO.DOM}(WebIO.DOM(:html, :input), Any[], Dict{Symbol,Any}(Pair{Symbol,Any}(:max, -1.0),Pair{Symbol,Any}(:min, -12.0),Pair{Symbol,Any}(:attributes, Dict{Any,Any}(Pair{Any,Any}(:type, \"range\"),Pair{Any,Any}(Symbol(\"data-bind\"), \"numericValue: value, valueUpdate: 'input', event: {change : function () {this.changes(this.changes()+1)}}\"))),Pair{Symbol,Any}(:step, 0.1),Pair{Symbol,Any}(:className, \"slider slider is-fullwidth\"),Pair{Symbol,Any}(:style, Dict{Any,Any}())), 0)], Dict{Symbol,Any}(Pair{Symbol,Any}(:attributes, Dict(\"style\"=>\"flex-grow:1; margin: 0 2%\"))), 1), WebIO.Node{WebIO.DOM}(WebIO.DOM(:html, :div), Any[WebIO.Node{WebIO.DOM}(WebIO.DOM(:html, :p), Any[], Dict{Symbol,Any}(Pair{Symbol,Any}(:attributes, Dict(\"data-bind\"=>\"text: displayedvalue\"))), 0)], Dict{Symbol,Any}(Pair{Symbol,Any}(:attributes, Dict(\"style\"=>\"width:18%\"))), 1)], Dict{Symbol,Any}(Pair{Symbol,Any}(:attributes, Dict(\"style\"=>\"display:flex; justify-content:center; align-items:center;\"))), 7), Dict{String,Tuple{Observables.Observable,Union{Bool, Void}}}(Pair{String,Tuple{Observables.Observable,Union{Bool, Void}}}(\"changes\", (Observables.Observable{Int64}(\"ob_02\", 0, Any[WebIO.SyncCallback(WebIO.Scope(#= circular reference @-7 =#), WebIO.SyncCallback(WebIO.Scope(#= circular reference @-8 =#), WebIO.#37))]), nothing)),Pair{String,Tuple{Observables.Observable,Union{Bool, Void}}}(\"value\", (Observables.Observable{Float64}(#= circular reference @-7 =#), nothing))), Set{String}(), nothing, Any[\"knockout\"=>\"/Users/stevenj/.julia/v0.6/Knockout/src/../assets/knockout.js\", \"knockout_punches\"=>\"/Users/stevenj/.julia/v0.6/Knockout/src/../assets/knockout_punches.js\", \"/Users/stevenj/.julia/v0.6/InteractBase/src/../assets/all.js\", \"/Users/stevenj/.julia/v0.6/InteractBase/src/../assets/style.css\", \"/Users/stevenj/.julia/v0.6/InteractBulma/src/../assets/main.css\"], Dict{Any,Any}(Pair{Any,Any}(\"_promises\", Dict{Any,Any}(Pair{Any,Any}(\"importsLoaded\", Any[WebIO.JSString(\"function (ko, koPunches) {\\n    ko.punches.enableAll();\\n    ko.bindingHandlers.numericValue = {\\n        init : function(element, valueAccessor, allBindings, data, context) {\\n            var stringified = ko.observable(ko.unwrap(valueAccessor()));\\n            stringified.subscribe(function(value) {\\n                var val = parseFloat(value);\\n                if (!isNaN(val)) {\\n                    valueAccessor()(val);\\n                }\\n            })\\n            valueAccessor().subscribe(function(value) {\\n                var str = JSON.stringify(value);\\n                if ((str == \\\"0\\\") && ([\\\"-0\\\", \\\"-0.\\\"].indexOf(stringified()) >= 0))\\n                     return;\\n                 if ([\\\"null\\\", \\\"\\\"].indexOf(str) >= 0)\\n                     return;\\n                stringified(str);\\n            })\\n            ko.applyBindingsToNode(element, { value: stringified, valueUpdate: allBindings.get('valueUpdate')}, context);\\n        }\\n    };\\n    var json_data = JSON.parse(\\\"{\\\\\\\"changes\\\\\\\":0,\\\\\\\"value\\\\\\\":-6.5}\\\");\\n    var self = this;\\n    function AppViewModel() {\\n        for (var key in json_data) {\\n            var el = json_data[key];\\n            this[key] = Array.isArray(el) ? ko.observableArray(el) : ko.observable(el);\\n        }\\n        \\n        [this[\\\"displayedvalue\\\"]=ko.computed(function () {return this.value().toPrecision(6);},this)]\\n        [this[\\\"changes\\\"].subscribe((function (val){!(this.valueFromJulia[\\\"changes\\\"]) ? (WebIO.setval({\\\"name\\\":\\\"changes\\\",\\\"scope\\\":\\\"knockout-component-49c4814b-48b2-4671-a688-f13752e3c5d2\\\",\\\"id\\\":\\\"ob_02\\\",\\\"type\\\":\\\"observable\\\"},val)) : undefined; return this.valueFromJulia[\\\"changes\\\"]=false}),self),this[\\\"value\\\"].subscribe((function (val){!(this.valueFromJulia[\\\"value\\\"]) ? (WebIO.setval({\\\"name\\\":\\\"value\\\",\\\"scope\\\":\\\"knockout-component-49c4814b-48b2-4671-a688-f13752e3c5d2\\\",\\\"id\\\":\\\"ob_01\\\",\\\"type\\\":\\\"observable\\\"},val)) : undefined; return this.valueFromJulia[\\\"value\\\"]=false}),self)]\\n        \\n    }\\n    self.model = new AppViewModel();\\n    self.valueFromJulia = {};\\n    for (var key in json_data) {\\n        self.valueFromJulia[key] = false;\\n    }\\n    ko.applyBindings(self.model, self.dom);\\n}\\n\")]))),Pair{Any,Any}(\"changes\", Any[WebIO.JSString(\"(function (val){return (val!=this.model[\\\"changes\\\"]()) ? (this.valueFromJulia[\\\"changes\\\"]=true, this.model[\\\"changes\\\"](val)) : undefined})\")]),Pair{Any,Any}(\"value\", Any[WebIO.JSString(\"(function (val){return (val!=this.model[\\\"value\\\"]()) ? (this.valueFromJulia[\\\"value\\\"]=true, this.model[\\\"value\\\"](val)) : undefined})\")])), WebIO.ConnectionPool(Channel{Any}(sz_max:9223372036854775807,sz_curr:3), Set{WebIO.AbstractConnection}(), Channel{WebIO.AbstractConnection}(sz_max:32,sz_curr:0))), WebIO.SyncCallback(WebIO.Scope(\"knockout-component-49c4814b-48b2-4671-a688-f13752e3c5d2\", WebIO.Node{WebIO.DOM}(WebIO.DOM(:html, :div), Any[WebIO.Node{WebIO.DOM}(WebIO.DOM(:html, :div), Any[WebIO.Node{WebIO.DOM}(WebIO.DOM(:html, :label), Any[\"logR\"], Dict{Symbol,Any}(Pair{Symbol,Any}(:className, \"interact \"),Pair{Symbol,Any}(:style, Dict{Any,Any}(Pair{Any,Any}(:padding, \"5px 10px 0px 10px\")))), 1)], Dict{Symbol,Any}(Pair{Symbol,Any}(:attributes, Dict(\"style\"=>\"text-align:right;width:18%\"))), 2), WebIO.Node{WebIO.DOM}(WebIO.DOM(:html, :div), Any[WebIO.Node{WebIO.DOM}(WebIO.DOM(:html, :input), Any[], Dict{Symbol,Any}(Pair{Symbol,Any}(:max, -1.0),Pair{Symbol,Any}(:min, -12.0),Pair{Symbol,Any}(:attributes, Dict{Any,Any}(Pair{Any,Any}(:type, \"range\"),Pair{Any,Any}(Symbol(\"data-bind\"), \"numericValue: value, valueUpdate: 'input', event: {change : function () {this.changes(this.changes()+1)}}\"))),Pair{Symbol,Any}(:step, 0.1),Pair{Symbol,Any}(:className, \"slider slider is-fullwidth\"),Pair{Symbol,Any}(:style, Dict{Any,Any}())), 0)], Dict{Symbol,Any}(Pair{Symbol,Any}(:attributes, Dict(\"style\"=>\"flex-grow:1; margin: 0 2%\"))), 1), WebIO.Node{WebIO.DOM}(WebIO.DOM(:html, :div), Any[WebIO.Node{WebIO.DOM}(WebIO.DOM(:html, :p), Any[], Dict{Symbol,Any}(Pair{Symbol,Any}(:attributes, Dict(\"data-bind\"=>\"text: displayedvalue\"))), 0)], Dict{Symbol,Any}(Pair{Symbol,Any}(:attributes, Dict(\"style\"=>\"width:18%\"))), 1)], Dict{Symbol,Any}(Pair{Symbol,Any}(:attributes, Dict(\"style\"=>\"display:flex; justify-content:center; align-items:center;\"))), 7), Dict{String,Tuple{Observables.Observable,Union{Bool, Void}}}(Pair{String,Tuple{Observables.Observable,Union{Bool, Void}}}(\"changes\", (Observables.Observable{Int64}(\"ob_02\", 0, Any[WebIO.SyncCallback(WebIO.Scope(#= circular reference @-7 =#), WebIO.SyncCallback(WebIO.Scope(#= circular reference @-8 =#), WebIO.#37))]), nothing)),Pair{String,Tuple{Observables.Observable,Union{Bool, Void}}}(\"value\", (Observables.Observable{Float64}(#= circular reference @-8 =#), nothing))), Set{String}(), nothing, Any[\"knockout\"=>\"/Users/stevenj/.julia/v0.6/Knockout/src/../assets/knockout.js\", \"knockout_punches\"=>\"/Users/stevenj/.julia/v0.6/Knockout/src/../assets/knockout_punches.js\", \"/Users/stevenj/.julia/v0.6/InteractBase/src/../assets/all.js\", \"/Users/stevenj/.julia/v0.6/InteractBase/src/../assets/style.css\", \"/Users/stevenj/.julia/v0.6/InteractBulma/src/../assets/main.css\"], Dict{Any,Any}(Pair{Any,Any}(\"_promises\", Dict{Any,Any}(Pair{Any,Any}(\"importsLoaded\", Any[WebIO.JSString(\"function (ko, koPunches) {\\n    ko.punches.enableAll();\\n    ko.bindingHandlers.numericValue = {\\n        init : function(element, valueAccessor, allBindings, data, context) {\\n            var stringified = ko.observable(ko.unwrap(valueAccessor()));\\n            stringified.subscribe(function(value) {\\n                var val = parseFloat(value);\\n                if (!isNaN(val)) {\\n                    valueAccessor()(val);\\n                }\\n            })\\n            valueAccessor().subscribe(function(value) {\\n                var str = JSON.stringify(value);\\n                if ((str == \\\"0\\\") && ([\\\"-0\\\", \\\"-0.\\\"].indexOf(stringified()) >= 0))\\n                     return;\\n                 if ([\\\"null\\\", \\\"\\\"].indexOf(str) >= 0)\\n                     return;\\n                stringified(str);\\n            })\\n            ko.applyBindingsToNode(element, { value: stringified, valueUpdate: allBindings.get('valueUpdate')}, context);\\n        }\\n    };\\n    var json_data = JSON.parse(\\\"{\\\\\\\"changes\\\\\\\":0,\\\\\\\"value\\\\\\\":-6.5}\\\");\\n    var self = this;\\n    function AppViewModel() {\\n        for (var key in json_data) {\\n            var el = json_data[key];\\n            this[key] = Array.isArray(el) ? ko.observableArray(el) : ko.observable(el);\\n        }\\n        \\n        [this[\\\"displayedvalue\\\"]=ko.computed(function () {return this.value().toPrecision(6);},this)]\\n        [this[\\\"changes\\\"].subscribe((function (val){!(this.valueFromJulia[\\\"changes\\\"]) ? (WebIO.setval({\\\"name\\\":\\\"changes\\\",\\\"scope\\\":\\\"knockout-component-49c4814b-48b2-4671-a688-f13752e3c5d2\\\",\\\"id\\\":\\\"ob_02\\\",\\\"type\\\":\\\"observable\\\"},val)) : undefined; return this.valueFromJulia[\\\"changes\\\"]=false}),self),this[\\\"value\\\"].subscribe((function (val){!(this.valueFromJulia[\\\"value\\\"]) ? (WebIO.setval({\\\"name\\\":\\\"value\\\",\\\"scope\\\":\\\"knockout-component-49c4814b-48b2-4671-a688-f13752e3c5d2\\\",\\\"id\\\":\\\"ob_01\\\",\\\"type\\\":\\\"observable\\\"},val)) : undefined; return this.valueFromJulia[\\\"value\\\"]=false}),self)]\\n        \\n    }\\n    self.model = new AppViewModel();\\n    self.valueFromJulia = {};\\n    for (var key in json_data) {\\n        self.valueFromJulia[key] = false;\\n    }\\n    ko.applyBindings(self.model, self.dom);\\n}\\n\")]))),Pair{Any,Any}(\"changes\", Any[WebIO.JSString(\"(function (val){return (val!=this.model[\\\"changes\\\"]()) ? (this.valueFromJulia[\\\"changes\\\"]=true, this.model[\\\"changes\\\"](val)) : undefined})\")]),Pair{Any,Any}(\"value\", Any[WebIO.JSString(\"(function (val){return (val!=this.model[\\\"value\\\"]()) ? (this.valueFromJulia[\\\"value\\\"]=true, this.model[\\\"value\\\"](val)) : undefined})\")])), WebIO.ConnectionPool(Channel{Any}(sz_max:9223372036854775807,sz_curr:3), Set{WebIO.AbstractConnection}(), Channel{WebIO.AbstractConnection}(sz_max:32,sz_curr:0))), WebIO.#37)), Observables.g]), Observables.Observable{Float64}(\"ob_01\", -6.5, Any[WebIO.SyncCallback(WebIO.Scope(\"knockout-component-49c4814b-48b2-4671-a688-f13752e3c5d2\", WebIO.Node{WebIO.DOM}(WebIO.DOM(:html, :div), Any[WebIO.Node{WebIO.DOM}(WebIO.DOM(:html, :div), Any[WebIO.Node{WebIO.DOM}(WebIO.DOM(:html, :label), Any[\"logR\"], Dict{Symbol,Any}(Pair{Symbol,Any}(:className, \"interact \"),Pair{Symbol,Any}(:style, Dict{Any,Any}(Pair{Any,Any}(:padding, \"5px 10px 0px 10px\")))), 1)], Dict{Symbol,Any}(Pair{Symbol,Any}(:attributes, Dict(\"style\"=>\"text-align:right;width:18%\"))), 2), WebIO.Node{WebIO.DOM}(WebIO.DOM(:html, :div), Any[WebIO.Node{WebIO.DOM}(WebIO.DOM(:html, :input), Any[], Dict{Symbol,Any}(Pair{Symbol,Any}(:max, -1.0),Pair{Symbol,Any}(:min, -12.0),Pair{Symbol,Any}(:attributes, Dict{Any,Any}(Pair{Any,Any}(:type, \"range\"),Pair{Any,Any}(Symbol(\"data-bind\"), \"numericValue: value, valueUpdate: 'input', event: {change : function () {this.changes(this.changes()+1)}}\"))),Pair{Symbol,Any}(:step, 0.1),Pair{Symbol,Any}(:className, \"slider slider is-fullwidth\"),Pair{Symbol,Any}(:style, Dict{Any,Any}())), 0)], Dict{Symbol,Any}(Pair{Symbol,Any}(:attributes, Dict(\"style\"=>\"flex-grow:1; margin: 0 2%\"))), 1), WebIO.Node{WebIO.DOM}(WebIO.DOM(:html, :div), Any[WebIO.Node{WebIO.DOM}(WebIO.DOM(:html, :p), Any[], Dict{Symbol,Any}(Pair{Symbol,Any}(:attributes, Dict(\"data-bind\"=>\"text: displayedvalue\"))), 0)], Dict{Symbol,Any}(Pair{Symbol,Any}(:attributes, Dict(\"style\"=>\"width:18%\"))), 1)], Dict{Symbol,Any}(Pair{Symbol,Any}(:attributes, Dict(\"style\"=>\"display:flex; justify-content:center; align-items:center;\"))), 7), Dict{String,Tuple{Observables.Observable,Union{Bool, Void}}}(Pair{String,Tuple{Observables.Observable,Union{Bool, Void}}}(\"changes\", (Observables.Observable{Int64}(\"ob_02\", 0, Any[WebIO.SyncCallback(WebIO.Scope(#= circular reference @-7 =#), WebIO.SyncCallback(WebIO.Scope(#= circular reference @-8 =#), WebIO.#37))]), nothing)),Pair{String,Tuple{Observables.Observable,Union{Bool, Void}}}(\"value\", (Observables.Observable{Float64}(#= circular reference @-7 =#), nothing))), Set{String}(), nothing, Any[\"knockout\"=>\"/Users/stevenj/.julia/v0.6/Knockout/src/../assets/knockout.js\", \"knockout_punches\"=>\"/Users/stevenj/.julia/v0.6/Knockout/src/../assets/knockout_punches.js\", \"/Users/stevenj/.julia/v0.6/InteractBase/src/../assets/all.js\", \"/Users/stevenj/.julia/v0.6/InteractBase/src/../assets/style.css\", \"/Users/stevenj/.julia/v0.6/InteractBulma/src/../assets/main.css\"], Dict{Any,Any}(Pair{Any,Any}(\"_promises\", Dict{Any,Any}(Pair{Any,Any}(\"importsLoaded\", Any[WebIO.JSString(\"function (ko, koPunches) {\\n    ko.punches.enableAll();\\n    ko.bindingHandlers.numericValue = {\\n        init : function(element, valueAccessor, allBindings, data, context) {\\n            var stringified = ko.observable(ko.unwrap(valueAccessor()));\\n            stringified.subscribe(function(value) {\\n                var val = parseFloat(value);\\n                if (!isNaN(val)) {\\n                    valueAccessor()(val);\\n                }\\n            })\\n            valueAccessor().subscribe(function(value) {\\n                var str = JSON.stringify(value);\\n                if ((str == \\\"0\\\") && ([\\\"-0\\\", \\\"-0.\\\"].indexOf(stringified()) >= 0))\\n                     return;\\n                 if ([\\\"null\\\", \\\"\\\"].indexOf(str) >= 0)\\n                     return;\\n                stringified(str);\\n            })\\n            ko.applyBindingsToNode(element, { value: stringified, valueUpdate: allBindings.get('valueUpdate')}, context);\\n        }\\n    };\\n    var json_data = JSON.parse(\\\"{\\\\\\\"changes\\\\\\\":0,\\\\\\\"value\\\\\\\":-6.5}\\\");\\n    var self = this;\\n    function AppViewModel() {\\n        for (var key in json_data) {\\n            var el = json_data[key];\\n            this[key] = Array.isArray(el) ? ko.observableArray(el) : ko.observable(el);\\n        }\\n        \\n        [this[\\\"displayedvalue\\\"]=ko.computed(function () {return this.value().toPrecision(6);},this)]\\n        [this[\\\"changes\\\"].subscribe((function (val){!(this.valueFromJulia[\\\"changes\\\"]) ? (WebIO.setval({\\\"name\\\":\\\"changes\\\",\\\"scope\\\":\\\"knockout-component-49c4814b-48b2-4671-a688-f13752e3c5d2\\\",\\\"id\\\":\\\"ob_02\\\",\\\"type\\\":\\\"observable\\\"},val)) : undefined; return this.valueFromJulia[\\\"changes\\\"]=false}),self),this[\\\"value\\\"].subscribe((function (val){!(this.valueFromJulia[\\\"value\\\"]) ? (WebIO.setval({\\\"name\\\":\\\"value\\\",\\\"scope\\\":\\\"knockout-component-49c4814b-48b2-4671-a688-f13752e3c5d2\\\",\\\"id\\\":\\\"ob_01\\\",\\\"type\\\":\\\"observable\\\"},val)) : undefined; return this.valueFromJulia[\\\"value\\\"]=false}),self)]\\n        \\n    }\\n    self.model = new AppViewModel();\\n    self.valueFromJulia = {};\\n    for (var key in json_data) {\\n        self.valueFromJulia[key] = false;\\n    }\\n    ko.applyBindings(self.model, self.dom);\\n}\\n\")]))),Pair{Any,Any}(\"changes\", Any[WebIO.JSString(\"(function (val){return (val!=this.model[\\\"changes\\\"]()) ? (this.valueFromJulia[\\\"changes\\\"]=true, this.model[\\\"changes\\\"](val)) : undefined})\")]),Pair{Any,Any}(\"value\", Any[WebIO.JSString(\"(function (val){return (val!=this.model[\\\"value\\\"]()) ? (this.valueFromJulia[\\\"value\\\"]=true, this.model[\\\"value\\\"](val)) : undefined})\")])), WebIO.ConnectionPool(Channel{Any}(sz_max:9223372036854775807,sz_curr:3), Set{WebIO.AbstractConnection}(), Channel{WebIO.AbstractConnection}(sz_max:32,sz_curr:0))), WebIO.SyncCallback(WebIO.Scope(\"knockout-component-49c4814b-48b2-4671-a688-f13752e3c5d2\", WebIO.Node{WebIO.DOM}(WebIO.DOM(:html, :div), Any[WebIO.Node{WebIO.DOM}(WebIO.DOM(:html, :div), Any[WebIO.Node{WebIO.DOM}(WebIO.DOM(:html, :label), Any[\"logR\"], Dict{Symbol,Any}(Pair{Symbol,Any}(:className, \"interact \"),Pair{Symbol,Any}(:style, Dict{Any,Any}(Pair{Any,Any}(:padding, \"5px 10px 0px 10px\")))), 1)], Dict{Symbol,Any}(Pair{Symbol,Any}(:attributes, Dict(\"style\"=>\"text-align:right;width:18%\"))), 2), WebIO.Node{WebIO.DOM}(WebIO.DOM(:html, :div), Any[WebIO.Node{WebIO.DOM}(WebIO.DOM(:html, :input), Any[], Dict{Symbol,Any}(Pair{Symbol,Any}(:max, -1.0),Pair{Symbol,Any}(:min, -12.0),Pair{Symbol,Any}(:attributes, Dict{Any,Any}(Pair{Any,Any}(:type, \"range\"),Pair{Any,Any}(Symbol(\"data-bind\"), \"numericValue: value, valueUpdate: 'input', event: {change : function () {this.changes(this.changes()+1)}}\"))),Pair{Symbol,Any}(:step, 0.1),Pair{Symbol,Any}(:className, \"slider slider is-fullwidth\"),Pair{Symbol,Any}(:style, Dict{Any,Any}())), 0)], Dict{Symbol,Any}(Pair{Symbol,Any}(:attributes, Dict(\"style\"=>\"flex-grow:1; margin: 0 2%\"))), 1), WebIO.Node{WebIO.DOM}(WebIO.DOM(:html, :div), Any[WebIO.Node{WebIO.DOM}(WebIO.DOM(:html, :p), Any[], Dict{Symbol,Any}(Pair{Symbol,Any}(:attributes, Dict(\"data-bind\"=>\"text: displayedvalue\"))), 0)], Dict{Symbol,Any}(Pair{Symbol,Any}(:attributes, Dict(\"style\"=>\"width:18%\"))), 1)], Dict{Symbol,Any}(Pair{Symbol,Any}(:attributes, Dict(\"style\"=>\"display:flex; justify-content:center; align-items:center;\"))), 7), Dict{String,Tuple{Observables.Observable,Union{Bool, Void}}}(Pair{String,Tuple{Observables.Observable,Union{Bool, Void}}}(\"changes\", (Observables.Observable{Int64}(\"ob_02\", 0, Any[WebIO.SyncCallback(WebIO.Scope(#= circular reference @-7 =#), WebIO.SyncCallback(WebIO.Scope(#= circular reference @-8 =#), WebIO.#37))]), nothing)),Pair{String,Tuple{Observables.Observable,Union{Bool, Void}}}(\"value\", (Observables.Observable{Float64}(#= circular reference @-8 =#), nothing))), Set{String}(), nothing, Any[\"knockout\"=>\"/Users/stevenj/.julia/v0.6/Knockout/src/../assets/knockout.js\", \"knockout_punches\"=>\"/Users/stevenj/.julia/v0.6/Knockout/src/../assets/knockout_punches.js\", \"/Users/stevenj/.julia/v0.6/InteractBase/src/../assets/all.js\", \"/Users/stevenj/.julia/v0.6/InteractBase/src/../assets/style.css\", \"/Users/stevenj/.julia/v0.6/InteractBulma/src/../assets/main.css\"], Dict{Any,Any}(Pair{Any,Any}(\"_promises\", Dict{Any,Any}(Pair{Any,Any}(\"importsLoaded\", Any[WebIO.JSString(\"function (ko, koPunches) {\\n    ko.punches.enableAll();\\n    ko.bindingHandlers.numericValue = {\\n        init : function(element, valueAccessor, allBindings, data, context) {\\n            var stringified = ko.observable(ko.unwrap(valueAccessor()));\\n            stringified.subscribe(function(value) {\\n                var val = parseFloat(value);\\n                if (!isNaN(val)) {\\n                    valueAccessor()(val);\\n                }\\n            })\\n            valueAccessor().subscribe(function(value) {\\n                var str = JSON.stringify(value);\\n                if ((str == \\\"0\\\") && ([\\\"-0\\\", \\\"-0.\\\"].indexOf(stringified()) >= 0))\\n                     return;\\n                 if ([\\\"null\\\", \\\"\\\"].indexOf(str) >= 0)\\n                     return;\\n                stringified(str);\\n            })\\n            ko.applyBindingsToNode(element, { value: stringified, valueUpdate: allBindings.get('valueUpdate')}, context);\\n        }\\n    };\\n    var json_data = JSON.parse(\\\"{\\\\\\\"changes\\\\\\\":0,\\\\\\\"value\\\\\\\":-6.5}\\\");\\n    var self = this;\\n    function AppViewModel() {\\n        for (var key in json_data) {\\n            var el = json_data[key];\\n            this[key] = Array.isArray(el) ? ko.observableArray(el) : ko.observable(el);\\n        }\\n        \\n        [this[\\\"displayedvalue\\\"]=ko.computed(function () {return this.value().toPrecision(6);},this)]\\n        [this[\\\"changes\\\"].subscribe((function (val){!(this.valueFromJulia[\\\"changes\\\"]) ? (WebIO.setval({\\\"name\\\":\\\"changes\\\",\\\"scope\\\":\\\"knockout-component-49c4814b-48b2-4671-a688-f13752e3c5d2\\\",\\\"id\\\":\\\"ob_02\\\",\\\"type\\\":\\\"observable\\\"},val)) : undefined; return this.valueFromJulia[\\\"changes\\\"]=false}),self),this[\\\"value\\\"].subscribe((function (val){!(this.valueFromJulia[\\\"value\\\"]) ? (WebIO.setval({\\\"name\\\":\\\"value\\\",\\\"scope\\\":\\\"knockout-component-49c4814b-48b2-4671-a688-f13752e3c5d2\\\",\\\"id\\\":\\\"ob_01\\\",\\\"type\\\":\\\"observable\\\"},val)) : undefined; return this.valueFromJulia[\\\"value\\\"]=false}),self)]\\n        \\n    }\\n    self.model = new AppViewModel();\\n    self.valueFromJulia = {};\\n    for (var key in json_data) {\\n        self.valueFromJulia[key] = false;\\n    }\\n    ko.applyBindings(self.model, self.dom);\\n}\\n\")]))),Pair{Any,Any}(\"changes\", Any[WebIO.JSString(\"(function (val){return (val!=this.model[\\\"changes\\\"]()) ? (this.valueFromJulia[\\\"changes\\\"]=true, this.model[\\\"changes\\\"](val)) : undefined})\")]),Pair{Any,Any}(\"value\", Any[WebIO.JSString(\"(function (val){return (val!=this.model[\\\"value\\\"]()) ? (this.valueFromJulia[\\\"value\\\"]=true, this.model[\\\"value\\\"](val)) : undefined})\")])), WebIO.ConnectionPool(Channel{Any}(sz_max:9223372036854775807,sz_curr:3), Set{WebIO.AbstractConnection}(), Channel{WebIO.AbstractConnection}(sz_max:32,sz_curr:0))), WebIO.#37)), Observables.g]), WebIO.Scope(\"knockout-component-49c4814b-48b2-4671-a688-f13752e3c5d2\", WebIO.Node{WebIO.DOM}(WebIO.DOM(:html, :div), Any[WebIO.Node{WebIO.DOM}(WebIO.DOM(:html, :div), Any[WebIO.Node{WebIO.DOM}(WebIO.DOM(:html, :label), Any[\"logR\"], Dict{Symbol,Any}(Pair{Symbol,Any}(:className, \"interact \"),Pair{Symbol,Any}(:style, Dict{Any,Any}(Pair{Any,Any}(:padding, \"5px 10px 0px 10px\")))), 1)], Dict{Symbol,Any}(Pair{Symbol,Any}(:attributes, Dict(\"style\"=>\"text-align:right;width:18%\"))), 2), WebIO.Node{WebIO.DOM}(WebIO.DOM(:html, :div), Any[WebIO.Node{WebIO.DOM}(WebIO.DOM(:html, :input), Any[], Dict{Symbol,Any}(Pair{Symbol,Any}(:max, -1.0),Pair{Symbol,Any}(:min, -12.0),Pair{Symbol,Any}(:attributes, Dict{Any,Any}(Pair{Any,Any}(:type, \"range\"),Pair{Any,Any}(Symbol(\"data-bind\"), \"numericValue: value, valueUpdate: 'input', event: {change : function () {this.changes(this.changes()+1)}}\"))),Pair{Symbol,Any}(:step, 0.1),Pair{Symbol,Any}(:className, \"slider slider is-fullwidth\"),Pair{Symbol,Any}(:style, Dict{Any,Any}())), 0)], Dict{Symbol,Any}(Pair{Symbol,Any}(:attributes, Dict(\"style\"=>\"flex-grow:1; margin: 0 2%\"))), 1), WebIO.Node{WebIO.DOM}(WebIO.DOM(:html, :div), Any[WebIO.Node{WebIO.DOM}(WebIO.DOM(:html, :p), Any[], Dict{Symbol,Any}(Pair{Symbol,Any}(:attributes, Dict(\"data-bind\"=>\"text: displayedvalue\"))), 0)], Dict{Symbol,Any}(Pair{Symbol,Any}(:attributes, Dict(\"style\"=>\"width:18%\"))), 1)], Dict{Symbol,Any}(Pair{Symbol,Any}(:attributes, Dict(\"style\"=>\"display:flex; justify-content:center; align-items:center;\"))), 7), Dict{String,Tuple{Observables.Observable,Union{Bool, Void}}}(Pair{String,Tuple{Observables.Observable,Union{Bool, Void}}}(\"changes\", (Observables.Observable{Int64}(\"ob_02\", 0, Any[WebIO.SyncCallback(WebIO.Scope(#= circular reference @-7 =#), WebIO.SyncCallback(WebIO.Scope(#= circular reference @-8 =#), WebIO.#37))]), nothing)),Pair{String,Tuple{Observables.Observable,Union{Bool, Void}}}(\"value\", (Observables.Observable{Float64}(\"ob_01\", -6.5, Any[WebIO.SyncCallback(WebIO.Scope(#= circular reference @-7 =#), WebIO.SyncCallback(WebIO.Scope(#= circular reference @-8 =#), WebIO.#37)), Observables.g]), nothing))), Set{String}(), nothing, Any[\"knockout\"=>\"/Users/stevenj/.julia/v0.6/Knockout/src/../assets/knockout.js\", \"knockout_punches\"=>\"/Users/stevenj/.julia/v0.6/Knockout/src/../assets/knockout_punches.js\", \"/Users/stevenj/.julia/v0.6/InteractBase/src/../assets/all.js\", \"/Users/stevenj/.julia/v0.6/InteractBase/src/../assets/style.css\", \"/Users/stevenj/.julia/v0.6/InteractBulma/src/../assets/main.css\"], Dict{Any,Any}(Pair{Any,Any}(\"_promises\", Dict{Any,Any}(Pair{Any,Any}(\"importsLoaded\", Any[WebIO.JSString(\"function (ko, koPunches) {\\n    ko.punches.enableAll();\\n    ko.bindingHandlers.numericValue = {\\n        init : function(element, valueAccessor, allBindings, data, context) {\\n            var stringified = ko.observable(ko.unwrap(valueAccessor()));\\n            stringified.subscribe(function(value) {\\n                var val = parseFloat(value);\\n                if (!isNaN(val)) {\\n                    valueAccessor()(val);\\n                }\\n            })\\n            valueAccessor().subscribe(function(value) {\\n                var str = JSON.stringify(value);\\n                if ((str == \\\"0\\\") && ([\\\"-0\\\", \\\"-0.\\\"].indexOf(stringified()) >= 0))\\n                     return;\\n                 if ([\\\"null\\\", \\\"\\\"].indexOf(str) >= 0)\\n                     return;\\n                stringified(str);\\n            })\\n            ko.applyBindingsToNode(element, { value: stringified, valueUpdate: allBindings.get('valueUpdate')}, context);\\n        }\\n    };\\n    var json_data = JSON.parse(\\\"{\\\\\\\"changes\\\\\\\":0,\\\\\\\"value\\\\\\\":-6.5}\\\");\\n    var self = this;\\n    function AppViewModel() {\\n        for (var key in json_data) {\\n            var el = json_data[key];\\n            this[key] = Array.isArray(el) ? ko.observableArray(el) : ko.observable(el);\\n        }\\n        \\n        [this[\\\"displayedvalue\\\"]=ko.computed(function () {return this.value().toPrecision(6);},this)]\\n        [this[\\\"changes\\\"].subscribe((function (val){!(this.valueFromJulia[\\\"changes\\\"]) ? (WebIO.setval({\\\"name\\\":\\\"changes\\\",\\\"scope\\\":\\\"knockout-component-49c4814b-48b2-4671-a688-f13752e3c5d2\\\",\\\"id\\\":\\\"ob_02\\\",\\\"type\\\":\\\"observable\\\"},val)) : undefined; return this.valueFromJulia[\\\"changes\\\"]=false}),self),this[\\\"value\\\"].subscribe((function (val){!(this.valueFromJulia[\\\"value\\\"]) ? (WebIO.setval({\\\"name\\\":\\\"value\\\",\\\"scope\\\":\\\"knockout-component-49c4814b-48b2-4671-a688-f13752e3c5d2\\\",\\\"id\\\":\\\"ob_01\\\",\\\"type\\\":\\\"observable\\\"},val)) : undefined; return this.valueFromJulia[\\\"value\\\"]=false}),self)]\\n        \\n    }\\n    self.model = new AppViewModel();\\n    self.valueFromJulia = {};\\n    for (var key in json_data) {\\n        self.valueFromJulia[key] = false;\\n    }\\n    ko.applyBindings(self.model, self.dom);\\n}\\n\")]))),Pair{Any,Any}(\"changes\", Any[WebIO.JSString(\"(function (val){return (val!=this.model[\\\"changes\\\"]()) ? (this.valueFromJulia[\\\"changes\\\"]=true, this.model[\\\"changes\\\"](val)) : undefined})\")]),Pair{Any,Any}(\"value\", Any[WebIO.JSString(\"(function (val){return (val!=this.model[\\\"value\\\"]()) ? (this.valueFromJulia[\\\"value\\\"]=true, this.model[\\\"value\\\"](val)) : undefined})\")])), WebIO.ConnectionPool(Channel{Any}(sz_max:9223372036854775807,sz_curr:3), Set{WebIO.AbstractConnection}(), Channel{WebIO.AbstractConnection}(sz_max:32,sz_curr:0))), Widgets.#4, Base.#55)\n",
       "  Observables.Observable{Any}(\"ob_05\", WebIO.Node{WebIO.DOM}(WebIO.DOM(:html, :div), Any[PyPlot.Figure(PyObject <Figure size 640x480 with 1 Axes>)], Dict{Symbol,Any}(Pair{Symbol,Any}(:attributes, Dict(\"style\"=>\"display:flex; justify-content:center; align-items:center;\"))), 1), Any[]))"
      ]
     },
     "execution_count": 25,
     "metadata": {},
     "output_type": "execute_result"
    }
   ],
   "source": [
    "N = 10\n",
    "w = prod([Poly([-n, 1.0]) for n = 1:N])\n",
    "fig = figure()\n",
    "@manipulate for logR in -12:0.1:-1\n",
    "    withfig(fig) do\n",
    "        plot(1:N, zeros(10), \"r*\")\n",
    "        R = exp10(logR)\n",
    "        for i = 1:100\n",
    "            r = roots(Poly(coeffs(w) .* (1 .+ R .* randn(N+1))))\n",
    "            plot(real(r), imag(r), \"b.\")\n",
    "        end\n",
    "        xlabel(\"real part of roots\")\n",
    "        ylabel(\"imaginary part of roots\")\n",
    "        title(\"roots of \\$(x-1)\\\\cdots(x-10)\\$ with coeffs perturbed by R=$R\")\n",
    "    end\n",
    "end"
   ]
  },
  {
   "cell_type": "code",
   "execution_count": 26,
   "metadata": {},
   "outputs": [
    {
     "data": {
      "image/png": "[encoded data removed]",
      "text/plain": [
       "PyPlot.Figure(PyObject <Figure size 640x480 with 1 Axes>)"
      ]
     },
     "metadata": {},
     "output_type": "display_data"
    },
    {
     "data": {
      "text/plain": [
       "PyObject Text(0.5,1,'roots of $(x-1)\\\\cdots(x-10)$ with coeffs perturbed by R=1.0e-5')"
      ]
     },
     "execution_count": 26,
     "metadata": {},
     "output_type": "execute_result"
    }
   ],
   "source": [
    "w = prod([Poly([-n, 1.0]) for n = 1:N])\n",
    "logR = -5\n",
    "plot(1:N, zeros(10), \"r*\")\n",
    "R = exp10(logR)\n",
    "for i = 1:100\n",
    "    r = roots(Poly(coeffs(w) .* (1 .+ R .* randn(N+1))))\n",
    "    plot(real(r), imag(r), \"b.\")\n",
    "end\n",
    "xlabel(\"real part of roots\")\n",
    "ylabel(\"imaginary part of roots\")\n",
    "title(\"roots of \\$(x-1)\\\\cdots(x-10)\\$ with coeffs perturbed by R=$R\")\n"
   ]
  },
  {
   "cell_type": "markdown",
   "metadata": {},
   "source": [
    "Even a **tiny error** causes the roots to be **complete garbage**.  This gets exponentially worse as the degree of the polynomials increases.\n",
    "\n",
    "Because computers inevitably use a finite precision (usually about 15 significant digits), the tiny roundoff errors mean that characteristic polynomials are a computational disaster if they are actually computed explicitly."
   ]
  },
  {
   "cell_type": "markdown",
   "metadata": {},
   "source": [
    "# Companion matrices\n",
    "\n",
    "Finding **roots of polynomials is *equivalent* to finding eigenvalues**.  Not only can you find eigenvalues by solving for the roots of the characteristic polynomial, but you can conversely find roots of *any* polynomial by turning into a matrix and finding the eigenvalues.\n",
    "\n",
    "Given the degree-$n$ polynomial:\n",
    "\n",
    "$$\n",
    "p(z)=c_0 + c_1 z + \\cdots + c_{n-1}z^{n-1} + z^n \\;,\n",
    "$$\n",
    "\n",
    "(notice that the $z^n$ coefficient is 1), we define the $n \\times n$  **companion matrix**\n",
    "\n",
    "$$\n",
    "C=\\begin{pmatrix}\n",
    "0 & 1 & 0 & \\dots & 0 \\\\\n",
    "0 & 0 & 1 & \\dots & 0 \\\\\n",
    "0 & \\ddots & \\ddots & \\ddots & \\vdots \\\\\n",
    "\\vdots & \\vdots & \\ddots & 0 & 1 \\\\\n",
    "-c_0 & -c_1 & \\dots & -c_{n-2} & -c_{n-1}\n",
    "\\end{pmatrix}.\n",
    "$$\n",
    "\n",
    "The amazing fact is that the *characteristic polynomial* $\\det (C - \\lambda I) = p(\\lambda)$, and so the **eigenvalues of C are the roots of p**.\n",
    "\n",
    "## Proof\n",
    "\n",
    "Suppose $z$ is an root of $p(z) = 0$.  We can now show that this is an eigenvalue of $C$, with eigenvector $= (1,z,z^2,\\ldots,z^{n-1})$:\n",
    "\n",
    "$$\n",
    "C \\begin{pmatrix} 1 \\\\ z \\\\ z^2 \\\\ \\vdots \\\\ z^{n-1} \\end{pmatrix}\n",
    "= \\begin{pmatrix} z \\\\ z^2 \\\\ \\vdots \\\\ z^{n-1} \\\\ -c_0 - c_1 z - \\cdots - c_{n-1} z^{m-1} \\end{pmatrix}\n",
    "= \\begin{pmatrix} z \\\\ z^2 \\\\ \\vdots \\\\ z^{n-1} \\\\ z^n \\end{pmatrix}\n",
    "= z \\begin{pmatrix} 1 \\\\ z \\\\ z^2 \\\\ \\vdots \\\\ z^{n-1} \\end{pmatrix}\n",
    "$$\n",
    "\n",
    "where in the last row we used the fact that $p(z) = 0$ so $z^n = -c_0 - c_1 z - \\cdots - c_{n-1} z^{m-1}$.\n",
    "\n",
    "Hence $z$ is an eigenvalue.  The **eigenvalues of C are the roots of p** and vice versa.\n",
    "\n",
    "## Conclusion\n",
    "\n",
    "If you have a polynomial whose leading coefficient is *not* 1, you can just divide the polynomial by that coefficient to get it in this form, without changing its roots.   Hence the **roots of any polynomial can be found by computing the eigenvalues of a companion matrix.**"
   ]
  },
  {
   "cell_type": "code",
   "execution_count": 27,
   "metadata": {},
   "outputs": [
    {
     "data": {
      "text/plain": [
       "companion (generic function with 1 method)"
      ]
     },
     "execution_count": 27,
     "metadata": {},
     "output_type": "execute_result"
    }
   ],
   "source": [
    "function companion(p::Poly)\n",
    "    c = coeffs(p)\n",
    "    n = degree(p)\n",
    "    c = c[1:n] / c[end]\n",
    "    C = [ [ zeros(n-1)'; eye(n-1,n-1) ] -c ]'\n",
    "    return C\n",
    "end"
   ]
  },
  {
   "cell_type": "code",
   "execution_count": 28,
   "metadata": {},
   "outputs": [
    {
     "data": {
      "text/latex": [
       "$6 - 5\\cdot x + x^{2}$"
      ],
      "text/plain": [
       "Poly(6 - 5*x + x^2)"
      ]
     },
     "execution_count": 28,
     "metadata": {},
     "output_type": "execute_result"
    }
   ],
   "source": [
    "p = Poly([-2, 1]) * Poly([-3, 1]) # (x - 2) * (x - 3)"
   ]
  },
  {
   "cell_type": "code",
   "execution_count": 29,
   "metadata": {},
   "outputs": [
    {
     "data": {
      "text/plain": [
       "2×2 Array{Float64,2}:\n",
       "  0.0  1.0\n",
       " -6.0  5.0"
      ]
     },
     "execution_count": 29,
     "metadata": {},
     "output_type": "execute_result"
    }
   ],
   "source": [
    "C = companion(p)"
   ]
  },
  {
   "cell_type": "code",
   "execution_count": 30,
   "metadata": {},
   "outputs": [
    {
     "data": {
      "text/plain": [
       "2-element Array{Float64,1}:\n",
       " 2.0\n",
       " 3.0"
      ]
     },
     "execution_count": 30,
     "metadata": {},
     "output_type": "execute_result"
    }
   ],
   "source": [
    "eigvals(C)"
   ]
  },
  {
   "cell_type": "code",
   "execution_count": 31,
   "metadata": {},
   "outputs": [
    {
     "data": {
      "text/latex": [
       "$-24 + 2\\cdot x + 17\\cdot x^{2} - 8\\cdot x^{3} + x^{4}$"
      ],
      "text/plain": [
       "Poly(-24 + 2*x + 17*x^2 - 8*x^3 + x^4)"
      ]
     },
     "execution_count": 31,
     "metadata": {},
     "output_type": "execute_result"
    }
   ],
   "source": [
    " # (x - 2) * (x - 3) * (x - 4) * (x + 1)\n",
    "p = Poly([-2, 1]) * Poly([-3, 1]) * Poly([-4, 1]) * Poly([1, 1])"
   ]
  },
  {
   "cell_type": "code",
   "execution_count": 32,
   "metadata": {},
   "outputs": [
    {
     "data": {
      "text/plain": [
       "4×4 Array{Float64,2}:\n",
       "  0.0   1.0    0.0  0.0\n",
       "  0.0   0.0    1.0  0.0\n",
       "  0.0   0.0    0.0  1.0\n",
       " 24.0  -2.0  -17.0  8.0"
      ]
     },
     "execution_count": 32,
     "metadata": {},
     "output_type": "execute_result"
    }
   ],
   "source": [
    "C = companion(p)"
   ]
  },
  {
   "cell_type": "code",
   "execution_count": 33,
   "metadata": {},
   "outputs": [
    {
     "data": {
      "text/plain": [
       "4-element Array{Float64,1}:\n",
       " -1.0\n",
       "  4.0\n",
       "  3.0\n",
       "  2.0"
      ]
     },
     "execution_count": 33,
     "metadata": {},
     "output_type": "execute_result"
    }
   ],
   "source": [
    "eigvals(C)"
   ]
  },
  {
   "cell_type": "markdown",
   "metadata": {},
   "source": [
    "In fact, **this is the most common method to find roots of polynomials of degree ≥ 5**: you find the companion matrix, and compute its eigenvalues.  This is precisely how the Polynomials package does it (albeit with some extra cleverness to check for leading and trailing zero coefficients):"
   ]
  },
  {
   "cell_type": "code",
   "execution_count": 34,
   "metadata": {},
   "outputs": [
    {
     "data": {
      "text/html": [
       "roots<i>{T}</i>(p::<b>Polynomials.Poly{T}</b>) at <a href=\"https://github.com/JuliaMath/Polynomials.jl/tree/1c2c79672e7fa18f14bf0ed7f3f77c1602c94ceb//src/Polynomials.jl#L630\" target=\"_blank\">/Users/stevenj/.julia/v0.6/Polynomials/src/Polynomials.jl:630</a>"
      ],
      "text/plain": [
       "roots(p::Polynomials.Poly{T}) where T in Polynomials at /Users/stevenj/.julia/v0.6/Polynomials/src/Polynomials.jl:630"
      ]
     },
     "execution_count": 34,
     "metadata": {},
     "output_type": "execute_result"
    }
   ],
   "source": [
    "@which roots(p)"
   ]
  },
  {
   "cell_type": "markdown",
   "metadata": {},
   "source": [
    "This would seem rather circular if eigenvalues were computed, in turn, by finding roots of polynomials.  But they aren't: **practical computer eigenvalue solvers never compute the characteristic polynomial, and don't resemble generic root-finding algorithms (like Newton's method)**."
   ]
  },
  {
   "cell_type": "markdown",
   "metadata": {},
   "source": [
    "# Computing eigenvalues = polynomial roots = hard\n",
    "\n",
    "* Everyone learns the [quadratic formula](https://en.wikipedia.org/wiki/Quadratic_formula) to find roots of a quadratic (degree-2) polynomial.\n",
    "\n",
    "* There is a (horrible) [cubic formula](https://en.wikipedia.org/wiki/Cubic_function) to find the roots of any cubic (degree-3) polynomial.\n",
    "\n",
    "* There is a (terrifying) [quartic formula](https://en.wikipedia.org/wiki/Quartic_function) to find the roots of any quartic (degree-4) polynomial.\n",
    "\n",
    "* There is **no formula** (in terms of a *finite number* of ±,×,÷,ⁿ√) for the roots of an **arbitrary quintic** polynomial or **any degree ≥ 5**.  This is the [Abel–Ruffini theorem](https://en.wikipedia.org/wiki/Abel%E2%80%93Ruffini_theorem), proved in the 19th century.\n",
    "\n",
    "This does **not mean** that you can't compute roots (or eigenvalues) in practice!  But it means that **root-finding/eigenvalue algorithms are necessarily *iterative***: they **converge toward the solution** but **never reach it exactly**.  You can get the solution to *any desired accuracy*.\n",
    "\n",
    "For example we've already seen one such algorithm!  [Newton's method](https://en.wikipedia.org/wiki/Newton%27s_method) is an algorithm that could be used to find the roots of an arbitrary polynomial (given enough starting guesses), and converges *very* quickly without ever exactly *reaching* the root.\n",
    "\n",
    "The most common algorithm to find eigenvalues (and hence polynomial roots, via companion matrices) is the [QR algorithm](https://en.wikipedia.org/wiki/QR_algorithm).  As you might guess, it is *related* to the $A=QR$ factorization.  Explaining *how* and *why* this algorithm works, however, is outside the scope of 18.06.  (It takes me a week+ in 18.335: graduate numerical methods.)\n",
    "\n",
    "This means that the textbook characteristic-polynomial method we use to find eigenvalues of $2\\times 2$ matrices is something of a fraud: unlike Gaussian elimination, it bears no resemblance whatsoever to how eigenvalues are really computed.  In 18.06, therefore, we will mostly assume that the computer hands us the eigenvalues and eigenvectors, and **we will focus on what eigensolutions *mean*, how they are *used*, and what their *properties* are.**"
   ]
  },
  {
   "cell_type": "markdown",
   "metadata": {
    "collapsed": true
   },
   "source": [
    "One thing that it is useful to know, however, is that the computer algorithm to compute eigenvalues/eigenvectors of an $m \\times m$ matrix requires $\\sim m^3$ operations, just like Gaussian elimination.  However, the \"constant\"  coefficient in front of $m^3$ is significantly worse:"
   ]
  },
  {
   "cell_type": "code",
   "execution_count": 35,
   "metadata": {},
   "outputs": [
    {
     "name": "stdout",
     "output_type": "stream",
     "text": [
      "  0.037040 seconds (107 allocations: 7.644 MiB, 28.83% gc time)\n",
      "  0.136025 seconds (19.23 k allocations: 9.247 MiB)\n",
      "  1.795111 seconds (25 allocations: 7.936 MiB, 1.88% gc time)\n",
      "  3.510496 seconds (6.35 k allocations: 31.892 MiB, 3.49% gc time)\n"
     ]
    }
   ],
   "source": [
    "A1000 = rand(1000,1000)\n",
    "@time lufact(A1000)\n",
    "@time qrfact(A1000)\n",
    "@time eigvals(A1000)\n",
    "@time eig(A1000);"
   ]
  },
  {
   "cell_type": "code",
   "execution_count": 36,
   "metadata": {},
   "outputs": [
    {
     "data": {
      "text/html": [
       "164.89250315453947"
      ],
      "text/plain": [
       "164.89250315453947"
      ]
     },
     "execution_count": 36,
     "metadata": {},
     "output_type": "execute_result"
    }
   ],
   "source": [
    "@elapsed(eig(A1000)) / @elapsed(lufact(A1000))"
   ]
  },
  {
   "cell_type": "markdown",
   "metadata": {},
   "source": [
    "Finding eigenvalues and/or eigenvectors is not so cheap, but it is often worth it!"
   ]
  }
 ],
 "metadata": {
  "kernelspec": {
   "display_name": "Julia 0.6.3",
   "language": "julia",
   "name": "julia-0.6"
  },
  "language_info": {
   "file_extension": ".jl",
   "mimetype": "application/julia",
   "name": "julia",
   "version": "0.6.3"
  },
  "widgets": {
   "state": {
    "1df4718a-d6a4-4ee1-9281-dbdb7f019e2d": {
     "views": [
      {
       "cell_index": 27
      }
     ]
    }
   },
   "version": "1.2.0"
  }
 },
 "nbformat": 4,
 "nbformat_minor": 2
}
