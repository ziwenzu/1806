{
 "cells": [
  {
   "cell_type": "markdown",
   "metadata": {},
   "source": [
    "# Errors, Norms, and Condition Numbers\n",
    "\n",
    "(See also section 9.2 of Strang, *Introduction to Linear Algebra*.  The book *Numerical Linear Algebra* by Trefethen and Bau is a good source for a much more in-depth discussion.)\n",
    "\n",
    "Throughout the semester, when we solve problems like $Ax=b$ on the computer, we notice that the answer is correct \"up to roundoff errors\" — little errors that appear in the solution, typically $\\lesssim 10^{-15}$:"
   ]
  },
  {
   "cell_type": "code",
   "execution_count": 1,
   "metadata": {},
   "outputs": [
    {
     "data": {
      "text/plain": [
       "5-element Array{Float64,1}:\n",
       "  7.21645e-16\n",
       " -3.33067e-16\n",
       "  7.77156e-16\n",
       " -5.55112e-16\n",
       " -6.66134e-16"
      ]
     },
     "execution_count": 1,
     "metadata": {},
     "output_type": "execute_result"
    }
   ],
   "source": [
    "A = randn(5,5)\n",
    "b = randn(5)\n",
    "x = A \\ b # solve Ax = b\n",
    "b - A*x # this \"residual\" should be zero"
   ]
  },
  {
   "cell_type": "markdown",
   "metadata": {},
   "source": [
    "These arise because the computer [only stores about 15 decimal digits](https://en.wikipedia.org/wiki/Floating-point_arithmetic) for each number, so almost every arithmetic operation makes a tiny [round-off error](https://en.wikipedia.org/wiki/Round-off_error).\n",
    "\n",
    "In real applications, there are lots of other sources of error, too.  If $A$ or $b$ comes from measured data, they probably include [measurement errors](https://en.wikipedia.org/wiki/Observational_error).  Often, the equations you solve on the computer are only approximations for the *real* equations of nature (which may not even be fully known!), so there could also be **systematic errors** or **modelling errors** in your problem.\n",
    "\n",
    "Such (hopefully) tiny errors are almost inevitable in most real problems. But the key question is **do tiny errors in the *inputs* produce equally tiny errors in the *outputs*,** or **do errors get amplified?**?"
   ]
  },
  {
   "cell_type": "markdown",
   "metadata": {},
   "source": [
    "## Output error from input error\n",
    "\n",
    "Suppose that we we want to solve $Ax = b$, but we actually have a *little error Δb in b*.  Does that mean **we have an equally little error in x**?\n",
    "\n",
    "Let's work it out: we solve $A(x+\\Delta x) = b + \\Delta b$, and we should obtain\n",
    "$$\n",
    "x + \\Delta x = A^{-1} (b + \\Delta b) = A^{-1} b + A^{-1} \\Delta b\n",
    "$$\n",
    "so our error should be $\\boxed{\\Delta x = A^{-1} \\Delta b}$.\n",
    "\n",
    "Let's check:"
   ]
  },
  {
   "cell_type": "code",
   "execution_count": 2,
   "metadata": {},
   "outputs": [
    {
     "data": {
      "text/plain": [
       "2-element Array{Float64,1}:\n",
       " 0.333333\n",
       " 0.333333"
      ]
     },
     "execution_count": 2,
     "metadata": {},
     "output_type": "execute_result"
    }
   ],
   "source": [
    "A = [1    2\n",
    "     2.01 3.99]\n",
    "b = [1,2]\n",
    "x = A \\ b # \"exact\" answer"
   ]
  },
  {
   "cell_type": "code",
   "execution_count": 3,
   "metadata": {},
   "outputs": [
    {
     "data": {
      "text/plain": [
       "2-element Array{Float64,1}:\n",
       "  1.93\n",
       " -0.47"
      ]
     },
     "execution_count": 3,
     "metadata": {},
     "output_type": "execute_result"
    }
   ],
   "source": [
    "Δb = [-0.01, 0.004]\n",
    "x′ = A \\ (b + Δb)"
   ]
  },
  {
   "cell_type": "code",
   "execution_count": 4,
   "metadata": {},
   "outputs": [
    {
     "data": {
      "text/plain": [
       "2-element Array{Float64,1}:\n",
       "  1.59667 \n",
       " -0.803333"
      ]
     },
     "execution_count": 4,
     "metadata": {},
     "output_type": "execute_result"
    }
   ],
   "source": [
    "x′ - x # the error Δx"
   ]
  },
  {
   "cell_type": "code",
   "execution_count": 5,
   "metadata": {},
   "outputs": [
    {
     "data": {
      "text/plain": [
       "2-element Array{Float64,1}:\n",
       "  1.59667 \n",
       " -0.803333"
      ]
     },
     "execution_count": 5,
     "metadata": {},
     "output_type": "execute_result"
    }
   ],
   "source": [
    "Δx = A \\ Δb"
   ]
  },
  {
   "cell_type": "markdown",
   "metadata": {},
   "source": [
    "Okay, great, our $\\Delta x$ formula worked.  But look at what happened here — we put a \"tiny\" error $\\sim 0.01$ into b, and got a \"huge\" error $\\sim 1$ in x!  Why?\n",
    "\n",
    "That is, if we compare $\\Vert \\Delta x \\Vert$ to $\\Vert \\Delta b \\Vert$, we get a big increase:"
   ]
  },
  {
   "cell_type": "code",
   "execution_count": 6,
   "metadata": {},
   "outputs": [
    {
     "data": {
      "text/plain": [
       "0.010770329614269008"
      ]
     },
     "execution_count": 6,
     "metadata": {},
     "output_type": "execute_result"
    }
   ],
   "source": [
    "norm(Δb) # the size of the error in the input"
   ]
  },
  {
   "cell_type": "code",
   "execution_count": 7,
   "metadata": {},
   "outputs": [
    {
     "data": {
      "text/plain": [
       "1.7873692648384276"
      ]
     },
     "execution_count": 7,
     "metadata": {},
     "output_type": "execute_result"
    }
   ],
   "source": [
    "norm(Δx) # the size of the error in the output"
   ]
  },
  {
   "cell_type": "markdown",
   "metadata": {},
   "source": [
    "## Error growth and a matrix norm\n",
    "\n",
    "In general, what is the relationship between $\\Vert \\Delta x \\Vert$ and $\\Vert \\Delta b \\Vert$?  If $\\Delta b$ is a \"random\" error that could be in *any direction*, how big can $\\Vert \\Delta x \\Vert / \\Vert \\Delta b \\Vert$ be?\n",
    "\n",
    "That is, we would like to know the **maximum possible value** of\n",
    "$$\n",
    "\\frac{\\Vert \\Delta x \\Vert}{\\Vert \\Delta b \\Vert} = \\frac{\\Vert A^{-1} \\Delta b \\Vert}{\\Vert \\Delta b \\Vert}\n",
    "$$\n",
    "over **all possible Δb ≠ 0**.\n",
    "\n",
    "More generally, for *any* matrix $B$, we define the [induced matrix norm](https://en.wikipedia.org/wiki/Matrix_norm)\n",
    "$$\n",
    "\\Vert B \\Vert = \\max_{y\\ne 0} \\frac{\\Vert B y \\Vert}{\\Vert y \\Vert}\n",
    "$$\n",
    "This is a measure of \"how big\" the matrix is, according to the *maximum* amount by which it can \"stretch\" a vector.\n",
    "\n",
    "By this definition, $\\boxed{\\Vert \\Delta x \\Vert \\le \\Vert A^{-1} \\Vert \\; \\Vert \\Delta b \\Vert}$: the **norm of A⁻¹ *bounds* how much the error can increase**.\n",
    "\n",
    "In Julia, $\\Vert B \\Vert$ is computed by `norm(B)`, for example:"
   ]
  },
  {
   "cell_type": "code",
   "execution_count": 8,
   "metadata": {},
   "outputs": [
    {
     "data": {
      "text/plain": [
       "4.996014806077393"
      ]
     },
     "execution_count": 8,
     "metadata": {},
     "output_type": "execute_result"
    }
   ],
   "source": [
    "norm(A)        # ‖A‖"
   ]
  },
  {
   "cell_type": "code",
   "execution_count": 9,
   "metadata": {},
   "outputs": [
    {
     "data": {
      "text/plain": [
       "166.53382686925093"
      ]
     },
     "execution_count": 9,
     "metadata": {},
     "output_type": "execute_result"
    }
   ],
   "source": [
    "norm(inv(A))   # ‖A⁻¹‖"
   ]
  },
  {
   "cell_type": "markdown",
   "metadata": {},
   "source": [
    "The fact that our $A^{-1}$ from above has such a big norm explains why $\\Vert \\Delta x \\Vert$ could be 100× bigger than $\\Vert \\Delta b \\Vert$.\n",
    "\n",
    "But how can we get $\\Vert A^{-1} \\Vert$?\n",
    "\n",
    "One way is to simply compute $\\Vert A^{-1} y \\Vert / \\Vert y \\Vert$.  Since $\\Vert A^{-1} y \\Vert / \\Vert y \\Vert = \\Vert A^{-1} \\alpha y \\Vert / \\Vert \\alpha y \\Vert$ for any scalar α, we can freely restrict ourselves to $\\Vert y \\Vert = 1$ (by choosing $\\alpha = 1 / \\Vert y \\Vert$), i.e. we can *equivalently* define\n",
    "\n",
    "$$\n",
    "\\Vert B \\Vert = \\max_{\\Vert y \\Vert = 1} \\Vert B y \\Vert\n",
    "$$\n",
    "\n",
    "So, we can just plot $\\Vert A^{-1} y \\Vert$ versus angle $\\theta$ for $y = (\\cos \\theta, \\sin \\theta)$ on the unit circle:"
   ]
  },
  {
   "cell_type": "code",
   "execution_count": 12,
   "metadata": {},
   "outputs": [
    {
     "data": {
      "image/png": "[encoded data removed]",
      "text/plain": [
       "PyPlot.Figure(PyObject <matplotlib.figure.Figure object at 0x12c585450>)"
      ]
     },
     "metadata": {},
     "output_type": "display_data"
    },
    {
     "data": {
      "text/plain": [
       "PyObject Text(0.5,1,u'maximizing $\\\\Vert A^{-1} y \\\\Vert$ over angle $\\\\theta$')"
      ]
     },
     "execution_count": 12,
     "metadata": {},
     "output_type": "execute_result"
    }
   ],
   "source": [
    "using PyPlot\n",
    "θ = linspace(0,2π,100)\n",
    "plot(θ/(2π), [norm(A \\ [cos(θ), sin(θ)]) for θ in θ], \"r-\")\n",
    "plot(θ/(2π), ones(θ)*norm(inv(A)), \"k--\")\n",
    "xlabel(L\"\\theta / 2\\pi\")\n",
    "ylabel(L\"\\Vert A^{-1} y \\Vert\")\n",
    "text(0.16,norm(inv(A))*0.95, L\"\\Vert A^{-1} \\Vert\")\n",
    "title(L\"maximizing $\\Vert A^{-1} y \\Vert$ over angle $\\theta$\")"
   ]
  },
  {
   "cell_type": "markdown",
   "metadata": {},
   "source": [
    "Yup, the maximum certainly seems to be matching what Julia's `norm` function computes for $\\Vert A^{-1} \\Vert$.\n",
    "\n",
    "But there must be a better way to compute it.  Maybe $\\Vert A^{-1} \\Vert$ is related to $|\\lambda|$?"
   ]
  },
  {
   "cell_type": "code",
   "execution_count": 13,
   "metadata": {},
   "outputs": [
    {
     "data": {
      "text/plain": [
       "2-element Array{Float64,1}:\n",
       " -166.533  \n",
       "    0.20016"
      ]
     },
     "execution_count": 13,
     "metadata": {},
     "output_type": "execute_result"
    }
   ],
   "source": [
    "eigvals(inv(A))"
   ]
  },
  {
   "cell_type": "code",
   "execution_count": 14,
   "metadata": {},
   "outputs": [
    {
     "data": {
      "text/plain": [
       "2-element Array{Float64,1}:\n",
       " 166.533  \n",
       "   0.20016"
      ]
     },
     "execution_count": 14,
     "metadata": {},
     "output_type": "execute_result"
    }
   ],
   "source": [
    "abs.(eigvals(inv(A)))"
   ]
  },
  {
   "cell_type": "markdown",
   "metadata": {},
   "source": [
    "Hey, it certainly *looks* like $\\Vert A^{-1} \\Vert$ is the magnitude of the biggest $\\lambda$ of $A^{-1}$.  Let's check it more carefully:"
   ]
  },
  {
   "cell_type": "code",
   "execution_count": 15,
   "metadata": {},
   "outputs": [
    {
     "data": {
      "text/plain": [
       "-0.0003336000409319695"
      ]
     },
     "execution_count": 15,
     "metadata": {},
     "output_type": "execute_result"
    }
   ],
   "source": [
    "abs.(eigvals(inv(A)))[1] - norm(inv(A))"
   ]
  },
  {
   "cell_type": "markdown",
   "metadata": {},
   "source": [
    "Hmm, this difference of 0.0003 is *much* bigger than the $\\sim 10^{-15}$ we normally get from mere roundoff errors.  Let's try another matrix $B$, chosen at random:"
   ]
  },
  {
   "cell_type": "code",
   "execution_count": 16,
   "metadata": {},
   "outputs": [
    {
     "data": {
      "text/plain": [
       "0.9498866099125951"
      ]
     },
     "execution_count": 16,
     "metadata": {},
     "output_type": "execute_result"
    }
   ],
   "source": [
    "B = randn(2,2)\n",
    "norm(B)"
   ]
  },
  {
   "cell_type": "code",
   "execution_count": 17,
   "metadata": {},
   "outputs": [
    {
     "data": {
      "text/plain": [
       "2-element Array{Float64,1}:\n",
       " 0.842641\n",
       " 0.842641"
      ]
     },
     "execution_count": 17,
     "metadata": {},
     "output_type": "execute_result"
    }
   ],
   "source": [
    "abs.(eigvals(B))"
   ]
  },
  {
   "cell_type": "markdown",
   "metadata": {},
   "source": [
    "Whoops, no, in this case the eigenvalues have *much* smaller magnitudes than $\\Vert B \\Vert$.  So the near-match in the case of $A^{-1}$ was just a coincidence?\n",
    "\n",
    "In fact, the right answer involves the **singular values** of the matrix:"
   ]
  },
  {
   "cell_type": "code",
   "execution_count": 18,
   "metadata": {},
   "outputs": [
    {
     "data": {
      "text/plain": [
       "2-element Array{Float64,1}:\n",
       " 0.949887\n",
       " 0.747504"
      ]
     },
     "execution_count": 18,
     "metadata": {},
     "output_type": "execute_result"
    }
   ],
   "source": [
    "svdvals(B)"
   ]
  },
  {
   "cell_type": "markdown",
   "metadata": {},
   "source": [
    "The **norm is the biggest singular value** of the matrix!"
   ]
  },
  {
   "cell_type": "code",
   "execution_count": 19,
   "metadata": {},
   "outputs": [
    {
     "data": {
      "text/plain": [
       "0.0"
      ]
     },
     "execution_count": 19,
     "metadata": {},
     "output_type": "execute_result"
    }
   ],
   "source": [
    "svdvals(B)[1] - norm(B)"
   ]
  },
  {
   "cell_type": "code",
   "execution_count": 20,
   "metadata": {},
   "outputs": [
    {
     "data": {
      "text/plain": [
       "0.0"
      ]
     },
     "execution_count": 20,
     "metadata": {},
     "output_type": "execute_result"
    }
   ],
   "source": [
    "svdvals(inv(A))[1] - norm(inv(A))"
   ]
  },
  {
   "cell_type": "markdown",
   "metadata": {},
   "source": [
    "(In fact, computing the singular values is precisely how Julia's `norm` function works.)"
   ]
  },
  {
   "cell_type": "markdown",
   "metadata": {},
   "source": [
    "## The Rayleigh quotient and the min–max theorem\n",
    "\n",
    "Why is $\\Vert B \\Vert$ equal to the largest singular value of $B$?  We can derive it!\n",
    "\n",
    "To avoid square roots, it is convenient to look at $\\Vert B \\Vert^2$:\n",
    "\n",
    "$$\n",
    "\\Vert B \\Vert^2 = \\max_{y\\ne 0} \\frac{\\Vert By \\Vert^2}{\\Vert y \\Vert^2} \\\\ = \\max_{y\\ne 0} \\frac{(By)^H (By)}{y^H y} = \\max_{y\\ne 0} \\frac{y^H (B^H B) y}{y^H y}\n",
    "$$\n",
    "\n",
    "This final ratio is called the [Rayleigh quotient](https://en.wikipedia.org/wiki/Rayleigh_quotient) of the *Hermitian* matrix $S = B^H B$:\n",
    "$$\n",
    "R_S(y) = \\frac{y^H S y}{y^H y}\n",
    "$$\n",
    "\n",
    "It is a remarkable and important fact, known as the [min–max theorem](https://en.wikipedia.org/wiki/Min-max_theorem) that the *maximum* of the Rayleigh quotient is given by the *biggest λ of S*!\n",
    "\n",
    "To prove this, since $S$ is an $m\\times m$ Hermitian matrix, we use that it's eigenvalues $\\lambda_1,\\ldots,\\lambda_m$ are real and the corresponding eigenvectors $q_1,\\ldots,q_m$ can be chosen orthonormality.  Any vector $y$ can be written in this basis as $y = c_1 q_1 + \\cdots + c_m q_m$ for some coefficients $c_1,\\ldots,c_m$, and then orthonormality means:\n",
    "$$\n",
    "R_S(y) = \\frac{(c_1 q_1 + \\cdots + c_m q_m)^H (\\lambda_1 c_1 q_1 + \\cdots \\lambda_m c_m q_m)}{(c_1 q_1 + \\cdots + c_m q_m)^H (c_1 q_1 + \\cdots + c_m q_m)} = \\frac{\\lambda_1 |c_1|^2 + \\cdots + \\lambda_m |c_m|^2}{ |c_1|^2 + \\cdots +  |c_m|^2}\n",
    "$$\n",
    "which is just a [weighted average](https://en.wikipedia.org/wiki/Weighted_arithmetic_mean) of the eigenvalues λ.  If we number the eigenvalues in order $\\lambda_1 \\ge \\lambda_2 \\ge \\cdots \\lambda_m$, we immediately get:\n",
    "$$\n",
    "R_S(y) = \\frac{\\lambda_1 |c_1|^2 + \\cdots + \\lambda_m |c_m|^2}{ |c_1|^2 + \\cdots +  |c_m|^2} \\le \\frac{\\lambda_1 |c_1|^2 + \\cdots + \\lambda_1 |c_m|^2}{ |c_1|^2 + \\cdots +  |c_m|^2} = \\lambda_1\n",
    "$$\n",
    "so $\\lambda_1$ is an upper bound, achieved by $R_S(q_1) = \\lambda_1$.\n",
    "\n",
    "So,\n",
    "$$\n",
    "\\Vert B \\Vert = \\sqrt{\\max\\;\\lambda\\;\\mathrm{of}\\;B^T B}\n",
    "$$\n",
    "Let's check:"
   ]
  },
  {
   "cell_type": "code",
   "execution_count": 21,
   "metadata": {},
   "outputs": [
    {
     "data": {
      "text/plain": [
       "0.9498866099125951"
      ]
     },
     "execution_count": 21,
     "metadata": {},
     "output_type": "execute_result"
    }
   ],
   "source": [
    "norm(B)"
   ]
  },
  {
   "cell_type": "code",
   "execution_count": 22,
   "metadata": {},
   "outputs": [
    {
     "data": {
      "text/plain": [
       "2-element Array{Float64,1}:\n",
       " 0.747504\n",
       " 0.949887"
      ]
     },
     "execution_count": 22,
     "metadata": {},
     "output_type": "execute_result"
    }
   ],
   "source": [
    "sqrt.(eigvals(B'B))"
   ]
  },
  {
   "cell_type": "markdown",
   "metadata": {},
   "source": [
    "But we already learned, in a previous lecture, that the **eigenvalues of BᴴB** are precisely the **the squares σ² of the singular values σ of B**."
   ]
  },
  {
   "cell_type": "code",
   "execution_count": 23,
   "metadata": {},
   "outputs": [
    {
     "data": {
      "text/plain": [
       "2-element Array{Float64,1}:\n",
       " 0.949887\n",
       " 0.747504"
      ]
     },
     "execution_count": 23,
     "metadata": {},
     "output_type": "execute_result"
    }
   ],
   "source": [
    "svdvals(B)"
   ]
  },
  {
   "cell_type": "markdown",
   "metadata": {},
   "source": [
    "## Key properties of the matrix norm\n",
    "\n",
    "Note that $\\Vert B\\Vert$ is defined above for *any* matrix, including non-square matrices.  Some key properties of this norm are:\n",
    "\n",
    "* Positivity: $\\Vert B \\Vert \\ge 0$, and $= 0$ only if $B = 0$.  (Obvious from the definition and the SVD.)\n",
    "\n",
    "* Scaling: $\\Vert \\alpha B \\Vert = |\\alpha|\\;\\Vert B \\Vert$.  (Obvious from the definition.)\n",
    "\n",
    "* [Triangle inequality](https://en.wikipedia.org/wiki/Triangle_inequality): $\\Vert B_1 + B_2 \\Vert \\le \\Vert B_1 \\Vert + \\Vert B_2 \\Vert$.  (Not so obvious, but easy to show from the definition and the triangle inequality for vector norms.)\n",
    "\n",
    "* Products: $\\Vert B_1 B_2 \\Vert \\le \\Vert B_1 \\Vert \\; \\Vert B_2 \\Vert$.  (Not so obvious, but easy to show from the definition above.)\n",
    "\n",
    "It's easy to try some of these:"
   ]
  },
  {
   "cell_type": "code",
   "execution_count": 24,
   "metadata": {},
   "outputs": [
    {
     "data": {
      "text/plain": [
       "9.999999999999996"
      ]
     },
     "execution_count": 24,
     "metadata": {},
     "output_type": "execute_result"
    }
   ],
   "source": [
    "norm(10*B) / norm(B)"
   ]
  },
  {
   "cell_type": "code",
   "execution_count": 25,
   "metadata": {},
   "outputs": [
    {
     "data": {
      "text/plain": [
       "0.7022689744366356"
      ]
     },
     "execution_count": 25,
     "metadata": {},
     "output_type": "execute_result"
    }
   ],
   "source": [
    "B₂ = randn(size(B))\n",
    "norm(B + B₂) / (norm(B) + norm(B₂))"
   ]
  },
  {
   "cell_type": "code",
   "execution_count": 26,
   "metadata": {},
   "outputs": [
    {
     "data": {
      "text/plain": [
       "0.8070017721511517"
      ]
     },
     "execution_count": 26,
     "metadata": {},
     "output_type": "execute_result"
    }
   ],
   "source": [
    "norm(B * B₂) / (norm(B) * norm(B₂))"
   ]
  },
  {
   "cell_type": "markdown",
   "metadata": {},
   "source": [
    "### Norm of the inverse\n",
    "\n",
    "One thing to be careful of is the inverse.  Even if $A$ is invertible, $\\Vert A \\Vert^{-1} \\ne \\Vert A^{-1} \\Vert$ in general!   However, there is a cute trick to get $A^{-1}$.  Let's look at the definition:\n",
    "\n",
    "$$\n",
    "\\Vert A^{-1} \\Vert = \\max_{y\\ne 0} \\frac{\\Vert A^{-1} y \\Vert}{\\Vert y \\Vert} = \\max_{z\\ne 0} \\frac{\\Vert z \\Vert}{\\Vert Az \\Vert}\n",
    "$$\n",
    "\n",
    "where we have substituted $z = A^{-1} y$, i.e. $y = Az$.   But then\n",
    "\n",
    "$$\n",
    "\\frac{1}{\\Vert A^{-1} \\Vert} = \\min_{z\\ne 0} \\frac{\\Vert Az \\Vert}{\\Vert z \\Vert}\n",
    "$$\n",
    "\n",
    "since the maximum is 1 over the minimum.  But, exactly analogous to the discussion above, $\\Vert Az \\Vert / \\Vert z \\Vert$ is has a minimum for the *minimum* singular value of $A$!  So\n",
    "\n",
    "* $\\Vert A^{-1} \\Vert$ is the *inverse* of the *minimum* singular value of $A$ (assuming $A$ is invertible) \n",
    "\n",
    "Let's check:"
   ]
  },
  {
   "cell_type": "code",
   "execution_count": 27,
   "metadata": {},
   "outputs": [
    {
     "data": {
      "text/plain": [
       "166.53382686925093"
      ]
     },
     "execution_count": 27,
     "metadata": {},
     "output_type": "execute_result"
    }
   ],
   "source": [
    "norm(inv(A))"
   ]
  },
  {
   "cell_type": "code",
   "execution_count": 28,
   "metadata": {},
   "outputs": [
    {
     "data": {
      "text/plain": [
       "2-element Array{Float64,1}:\n",
       "   0.20016\n",
       " 166.534  "
      ]
     },
     "execution_count": 28,
     "metadata": {},
     "output_type": "execute_result"
    }
   ],
   "source": [
    "1 ./ svdvals(A)"
   ]
  },
  {
   "cell_type": "markdown",
   "metadata": {},
   "source": [
    "Yup, they match!"
   ]
  },
  {
   "cell_type": "code",
   "execution_count": 29,
   "metadata": {},
   "outputs": [
    {
     "data": {
      "text/plain": [
       "1.0032863428932615e-11"
      ]
     },
     "execution_count": 29,
     "metadata": {},
     "output_type": "execute_result"
    }
   ],
   "source": [
    "norm(inv(A)) - 1/svdvals(A)[2]"
   ]
  },
  {
   "cell_type": "markdown",
   "metadata": {},
   "source": [
    "(At least up to roundoff errors.)"
   ]
  },
  {
   "cell_type": "markdown",
   "metadata": {},
   "source": [
    "## Compared to what?  Relative errors\n",
    "\n",
    "There is still a problem with our presentation above.   How do we decide whether an error $\\Vert \\Delta x \\Vert$ is big or small?  Compared to what?\n",
    "\n",
    "Above, we compared to $\\Vert \\Delta b \\Vert$.  But this is often *not* the right thing to do.  We can see that in a couple of ways:\n",
    "\n",
    "* In a physical system, $x$ and $b$ may have *different units*.  e.g. $b$ may be a current and $x$ may be a voltage.  $\\Vert \\Delta x \\Vert / \\Vert \\Delta b \\Vert$ is therefore a *dimensionful* quantity, and we can't  say whether it is big or small without comparing to some other dimensionful quantity with the same units.\n",
    "\n",
    "* If we multiply $A$ by 1000, it is easy to see from above that $\\Vert A \\Vert$ multiples by 1000 and $\\Vert A^{-1} \\Vert$ is *divided* by 1000.  But simply scaling the problem shouldn't change whether the errors are big or small!  (You can't reduce the errors in your experiment by changing units from meters to millimeters!)\n",
    "\n",
    "The right thing to do is generally to compare $\\Vert \\Delta x \\Vert$ to $\\Vert x \\Vert$ and $\\Vert \\Delta b \\Vert$ to $\\Vert b \\Vert$.   The ratio\n",
    "$$\n",
    "\\frac{\\Vert \\Delta x \\Vert}{\\Vert x \\Vert}\n",
    "$$\n",
    "is called the [relative error](https://en.wikipedia.org/wiki/Approximation_error), as opposed to the *absolute* error $\\Vert \\Delta x \\Vert$."
   ]
  },
  {
   "cell_type": "markdown",
   "metadata": {},
   "source": [
    "### Condition number of a matrix\n",
    "\n",
    "How much can the relative error grow when we solve $Ax = b$? Well, from above:\n",
    "\n",
    "$$\n",
    "\\frac{\\Vert \\Delta x \\Vert}{\\Vert x \\Vert} \\le \\frac{\\Vert A^{-1} \\Vert \\; \\Vert \\Delta b \\Vert}{\\Vert x \\Vert} = \\frac{\\Vert A^{-1} \\Vert \\; \\Vert \\Delta b \\Vert}{\\Vert b \\Vert} \\frac{\\Vert Ax \\Vert}{\\Vert x \\Vert} \\le \\boxed{\\Vert A \\Vert \\; \\Vert A^{-1} \\Vert \\frac{\\Vert \\Delta b \\Vert}{\\Vert b \\Vert}}\n",
    "$$\n",
    "\n",
    "The quantity $\\kappa(A) = \\Vert A \\Vert \\; \\Vert A^{-1} \\Vert$ is called the [condition number](https://en.wikipedia.org/wiki/Condition_number) of the matrix A.  It gives an **upper bound** on how much the **relative error can grow** when comparing input to output.   Since $\\kappa(A) = \\kappa(A^{-1})$, it is the same for computing $x = A^{-1} b$ or for computing $b = Ax$ (i.e. x from b or b from x)!   In Julia, it is computed by `cond(A)`."
   ]
  },
  {
   "cell_type": "code",
   "execution_count": 30,
   "metadata": {},
   "outputs": [
    {
     "data": {
      "text/plain": [
       "832.0054647514568"
      ]
     },
     "execution_count": 30,
     "metadata": {},
     "output_type": "execute_result"
    }
   ],
   "source": [
    "cond(A)"
   ]
  },
  {
   "cell_type": "code",
   "execution_count": 31,
   "metadata": {},
   "outputs": [
    {
     "data": {
      "text/plain": [
       "832.0054647515068"
      ]
     },
     "execution_count": 31,
     "metadata": {},
     "output_type": "execute_result"
    }
   ],
   "source": [
    "norm(A) * norm(inv(A))"
   ]
  },
  {
   "cell_type": "markdown",
   "metadata": {},
   "source": [
    "From the definition above and the relationship of the matrix norm to the singular values, the **condition number is the ratio of the largest to the smallest singular value** of A:\n",
    "\n",
    "$$\n",
    "\\boxed{\\kappa(A) = \\Vert A \\Vert \\; \\Vert A^{-1} \\Vert = \\frac{\\sigma_\\max}{\\sigma_\\min}}\n",
    "$$"
   ]
  },
  {
   "cell_type": "code",
   "execution_count": 32,
   "metadata": {},
   "outputs": [
    {
     "data": {
      "text/plain": [
       "832.0054647514568"
      ]
     },
     "execution_count": 32,
     "metadata": {},
     "output_type": "execute_result"
    }
   ],
   "source": [
    "σ = svdvals(A)\n",
    "maximum(σ) / minimum(σ)"
   ]
  },
  {
   "cell_type": "markdown",
   "metadata": {},
   "source": [
    "From this, we can see that $\\kappa(A) \\ge 1$.  **The smallest possible condition number is 1**.   This happens for $\\kappa(I) = 1$, or for any multiple of $I$, and in fact **any unitary matrix** has condition number 1."
   ]
  },
  {
   "cell_type": "markdown",
   "metadata": {},
   "source": [
    "## Ill-conditioned matrices\n",
    "\n",
    "If the condition number is $\\gg 1$, we say that the matrix is **ill-conditioned** (or \"badly conditioned\").   When you solve an ill-conditioned problem, **any error can be greatly magnified**.  This includes both measurement errors and things like roundoff errors during the calculations.\n",
    "\n",
    "Our matrix $A$ above pretty badly conditioned — it can magnify erros by a factor of $\\sim 1000$:"
   ]
  },
  {
   "cell_type": "code",
   "execution_count": 33,
   "metadata": {},
   "outputs": [
    {
     "data": {
      "text/plain": [
       "832.0054647514568"
      ]
     },
     "execution_count": 33,
     "metadata": {},
     "output_type": "execute_result"
    }
   ],
   "source": [
    "cond(A)"
   ]
  },
  {
   "cell_type": "markdown",
   "metadata": {},
   "source": [
    "An **ill-conditioned matrix is a matrix that is *almost* singular**.   A singular matrix has a condition number of \"∞\": the condition number blows up as one of the singular values goes to zero.\n",
    "\n",
    "It is easy to see that our matrix $A$ from above is almost singular: the second row is *almost* twice the first row:"
   ]
  },
  {
   "cell_type": "code",
   "execution_count": 34,
   "metadata": {},
   "outputs": [
    {
     "data": {
      "text/plain": [
       "2×2 Array{Float64,2}:\n",
       " 1.0   2.0 \n",
       " 2.01  3.99"
      ]
     },
     "execution_count": 34,
     "metadata": {},
     "output_type": "execute_result"
    }
   ],
   "source": [
    "A"
   ]
  },
  {
   "cell_type": "markdown",
   "metadata": {},
   "source": [
    "That's why our error increased by so much:"
   ]
  },
  {
   "cell_type": "code",
   "execution_count": 35,
   "metadata": {},
   "outputs": [
    {
     "data": {
      "text/plain": [
       "787.184529039192"
      ]
     },
     "execution_count": 35,
     "metadata": {},
     "output_type": "execute_result"
    }
   ],
   "source": [
    "norm(Δx)/norm(x) / (norm(Δb)/norm(b))"
   ]
  },
  {
   "cell_type": "markdown",
   "metadata": {},
   "source": [
    "(In fact, I didn't pick `Δb` at random: I picked it to lie almost parallel to the singular vector for the smallest singular value, to magnify the error as much as possible.)"
   ]
  },
  {
   "cell_type": "markdown",
   "metadata": {},
   "source": [
    "Just because a matrix is ill-conditioned does not mean that you can't get accurate answers, but it indicates that you need to be **much more careful** about errors."
   ]
  },
  {
   "cell_type": "markdown",
   "metadata": {},
   "source": [
    "## Nearly defective matrices\n",
    "\n",
    "In class, we discussed defective matrices, in which we are \"missing\" some eigenvectors (due to repeated roots) and hence don't have a basis.  In practice, *exactly* defective matrices are extremely uncommon.\n",
    "\n",
    "However, it is much more common to have a *nearly* defective matrix $A$, in which two or more eigenvectors are *nearly* parallel.   Such matrices are still diagonalizable, $A = X \\Lambda X^{-1}$, so why worry?\n",
    "\n",
    "The problem with a *nearly* defective matrix is that the eigenvector matrix $X$ is *nearly* singular — it is **ill-conditioned**!  That means that *working with eigenvectors of a nearly-defective matrix is very sensitive to errors (roundoff, measurement, …)*!\n",
    "\n",
    "For example, let's construct a nearly defective matrix $M$ with eigenvectors $(1,0)$ and $(1,10^{-14})$, and eigenvalues $\\lambda = 1$ and $\\lambda = 1 + 10^{-14}$."
   ]
  },
  {
   "cell_type": "code",
   "execution_count": 36,
   "metadata": {},
   "outputs": [
    {
     "data": {
      "text/plain": [
       "2×2 Array{Float64,2}:\n",
       " 1.0  0.999201\n",
       " 0.0  1.0     "
      ]
     },
     "execution_count": 36,
     "metadata": {},
     "output_type": "execute_result"
    }
   ],
   "source": [
    "X = [1  1\n",
    "     0  1e-14]\n",
    "M = X * diagm([1,1+1e-14]) / X"
   ]
  },
  {
   "cell_type": "markdown",
   "metadata": {},
   "source": [
    "Now, let's compute the matrix exponential $e^M$, both by the built-in Julia function `expm` and by the 18.06 formula involving the diagonalization $X e^\\Lambda X^{-1}$:"
   ]
  },
  {
   "cell_type": "code",
   "execution_count": 37,
   "metadata": {},
   "outputs": [
    {
     "data": {
      "text/plain": [
       "2×2 Array{Float64,2}:\n",
       " 2.71828  2.71611\n",
       " 0.0      2.71828"
      ]
     },
     "execution_count": 37,
     "metadata": {},
     "output_type": "execute_result"
    }
   ],
   "source": [
    "expm(M)"
   ]
  },
  {
   "cell_type": "code",
   "execution_count": 38,
   "metadata": {},
   "outputs": [
    {
     "data": {
      "text/plain": [
       "2×2 Array{Float64,2}:\n",
       " 2.71828  2.57572\n",
       " 0.0      2.71828"
      ]
     },
     "execution_count": 38,
     "metadata": {},
     "output_type": "execute_result"
    }
   ],
   "source": [
    "X * expm(diagm([1,1+1e-14])) / X"
   ]
  },
  {
   "cell_type": "markdown",
   "metadata": {},
   "source": [
    "The two don't match very well, and in fact the diagonalization-based formula gives horribly wrong results (off by about 10%).   Computing matrix exponentials (and many other matrix functions) robustly for arbitrary matrices (including nearly defective matrices) is a tricky problem.  There is a famous paper called [Nineteen Dubious Ways to Compute the Exponential of a Matrix](http://epubs.siam.org/doi/abs/10.1137/S00361445024180) on the many possible approaches."
   ]
  },
  {
   "cell_type": "markdown",
   "metadata": {},
   "source": [
    "The \"opposite\" of a nearly defective matrix is a matrix with an *orthonormal* basis $X=Q$ of eigenvectors (e.g. a Hermitian, unitary, or other [\"normal\"](https://en.wikipedia.org/wiki/Normal_matrix) matrix).   In this case, the eigenvector basis has condition number $= 1$, the best possible conditioning, and working with eigenvectors is great!"
   ]
  }
 ],
 "metadata": {
  "kernelspec": {
   "display_name": "Julia 0.6.0",
   "language": "julia",
   "name": "julia-0.6"
  },
  "language_info": {
   "file_extension": ".jl",
   "mimetype": "application/julia",
   "name": "julia",
   "version": "0.6.0"
  }
 },
 "nbformat": 4,
 "nbformat_minor": 2
}
