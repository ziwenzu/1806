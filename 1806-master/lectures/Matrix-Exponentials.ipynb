{
 "cells": [
  {
   "cell_type": "code",
   "execution_count": 1,
   "metadata": {},
   "outputs": [],
   "source": [
    "using PyPlot"
   ]
  },
  {
   "cell_type": "markdown",
   "metadata": {},
   "source": [
    "# Review: Solving ODEs via eigenvectors\n",
    "\n",
    "If we have a simple scalar ODE:\n",
    "\n",
    "$$\n",
    "\\frac{dx}{dt} = a x\n",
    "$$\n",
    "\n",
    "then the solution is\n",
    "\n",
    "$$\n",
    "x(t) = e^{at} x(0)\n",
    "$$\n",
    "\n",
    "where $x(0)$ is the initial condition.\n",
    "\n",
    "If we have an $m\\times m$ system of ODEs\n",
    "\n",
    "$$\n",
    "\\frac{d\\vec{x}}{dt} = A\\vec{x}\n",
    "$$\n",
    "\n",
    "we know that if $A = X \\Lambda X^{-1}$ is diagonalizable with eigensolutions $A\\vec{x}_k = \\lambda_k \\vec{x}_k$ ($k=1,2,\\ldots,m$), then we can write the solution as:\n",
    "\n",
    "$$\n",
    "\\vec{x}(t) = c_1 e^{\\lambda_1 t} \\vec{x}_1 + c_2 e^{\\lambda_2 t} \\vec{x}_2 + \\cdots\n",
    "$$\n",
    "\n",
    "where the $\\vec{c}$ coefficients are determined from the initial conditions\n",
    "\n",
    "$$\n",
    "\\vec{x}(0) = c_1 \\vec{x}_1 + c_2 \\vec{x}_2 + \\cdots\n",
    "$$\n",
    "\n",
    "i.e. $\\vec{c} = X^{-1} \\vec{x}(0)$ where $X$ is the matrix whose columns are the eigenvectors and $\\vec{c} = (c_1, c_2, \\ldots, c_m)$.\n",
    "\n",
    "## Matrix exponential, first guess:\n",
    "\n",
    "It sure would be nice to have a formula as simple as $e^{at} x(0)$ from the scalar case.  Can we **define the exponential of a matrix** so that \n",
    "\n",
    "$$\n",
    "\\vec{x}(t) = \\underbrace{e^{At}}_\\mbox{???} \\vec{x}(0) \\, ?\n",
    "$$\n",
    "\n",
    "But what is the exponential of a matrix?  \n",
    "\n",
    "We can guess at least one case.  For **eigenvectors, the matrix A acts like a scalar λ**, so we should have $e^{At} \\vec{x}_k = e^{\\lambda_k t} \\vec{x}_k$! \n",
    "\n",
    "This turns out to be exactly correct, but let's take it a bit more slowly."
   ]
  },
  {
   "cell_type": "markdown",
   "metadata": {},
   "source": [
    "# Writing ODE solution in matrix form\n",
    "\n",
    "Another way of saying this is that we'd like to write the solution $x(t)$ as $\\mbox{(some matrix)} \\times \\vec{x}(0)$.  This will help us to understand the solution as a *linear operation on the initial condition* and manipulate it algebraically, in much the same way as writing the solution to $Ax=b$ as $x = A^{-1} b$ helps us work with matrix equations (even though we rarely compute matrix inverses explicitly in practice).\n",
    "\n",
    "To do so, let's break down\n",
    "\n",
    "$$\n",
    "\\vec{x}(t) = c_1 e^{\\lambda_1 t} \\vec{x}_1 + c_2 e^{\\lambda_2 t} \\vec{x}_2 + \\cdots\n",
    "$$\n",
    "\n",
    "into steps.\n",
    "\n",
    "1. Compute $\\vec{c} = X^{-1} \\vec{x}(0)$.  That is, write the initial condition in the basis of eigenvectors.  (In practice, we would solve $X \\vec{c} = \\vec{x}(0)$ by elimination, rather than computing $X^{-1}$ explicitly!)\n",
    "\n",
    "2. Multiply each component of $\\vec{c}$ by $e^{\\lambda t}$.\n",
    "\n",
    "3. Multiply by $X$: i.e. multiply each coefficient $c_k e^{\\lambda_k t}$ by $\\vec{x}_k$ and add them up.\n",
    "\n",
    "In matrix form, this becomes:\n",
    "\n",
    "$$\n",
    "\\vec{x}(t) = X \\underbrace{\\begin{pmatrix} e^{\\lambda_1 t} & & & \\\\\n",
    "                                               & e^{\\lambda_2 t} & & \\\\\n",
    "                                               & & \\ddots & \\\\\n",
    "                                               & & & e^{\\lambda_m t} \\end{pmatrix}}_{e^{\\Lambda t}} \\underbrace{X^{-1} \\vec{x}(0)}_\\vec{c}\n",
    "= \\boxed{ e^{At} \\vec{x}(0) }\n",
    "$$\n",
    "\n",
    "where we have *defined* the \"matrix exponential\" of a diagonalizable matrix as:\n",
    "\n",
    "$$\n",
    "e^{At} = X e^{\\Lambda t} X^{-1}\n",
    "$$\n",
    "\n",
    "Note that we have defined the exponential $e^{\\Lambda t}$ of a *diagonal matrix* $\\Lambda$ to be the diagonal matrix of the $e^{\\lambda t}$ values.\n",
    "\n",
    "* Equivalently, $e^{At}$ is the matrix with the **same eigenvectors as A but with eigenvalues λ replaced by** $e^{\\lambda t}$.\n",
    "\n",
    "* Equivalently, **for eigenvectors, A acts like a number λ**, so $e^{At} \\vec{x}_k = e^{\\lambda_k t} \\vec{x}_k$."
   ]
  },
  {
   "cell_type": "markdown",
   "metadata": {},
   "source": [
    "## Example\n",
    "\n",
    "For example, the matrix\n",
    "\n",
    "$$\n",
    "A = \\begin{pmatrix}\n",
    "0 & 1 \\\\\n",
    "1 & 0\n",
    "\\end{pmatrix}\n",
    "$$\n",
    "\n",
    "has two eigenvalues $\\lambda_1 = +1$ and $\\lambda_2 = -1$ (corresponding to exponentially *growing* and *decaying* solutions to $d\\vec{x}/dt = A\\vec{x}$, respectively).  The corresponding eigenvectors are:\n",
    "\n",
    "$$\n",
    "\\vec{x}_1 = \\begin{pmatrix} 1 \\\\ 1 \\end{pmatrix} , \\; \\vec{x}_2 = \\begin{pmatrix} 1 \\\\ -1 \\end{pmatrix} .\n",
    "$$\n",
    "\n",
    "Hence, the matrix exponential should be:\n",
    "\n",
    "$$\n",
    "e^{At} = \\underbrace{\\begin{pmatrix} 1 & 1 \\\\ 1 & -1 \\end{pmatrix}}_X\n",
    "         \\underbrace{\\begin{pmatrix} e^t &  \\\\  & e^{-t} \\end{pmatrix}}_{e^{\\Lambda t}}\n",
    "         \\underbrace{\\begin{pmatrix} 1 & 1 \\\\ 1 & -1 \\end{pmatrix}^{-1}}_{X^{-1}}\n",
    "       = \\begin{pmatrix} 1 & 1 \\\\ 1 & -1 \\end{pmatrix}\n",
    "         \\begin{pmatrix} e^t &  \\\\  & e^{-t} \\end{pmatrix}\n",
    "         \\left[ \\frac{1}{2} \\begin{pmatrix} 1 & 1 \\\\ 1 & -1\\end{pmatrix} \\right]\n",
    "       = \\frac{1}{2} \n",
    "           \\begin{pmatrix} e^t & e^{-t}  \\\\ e^t & -e^{-t} \\end{pmatrix}\n",
    "          \\begin{pmatrix} 1 & 1 \\\\ 1 & -1 \\end{pmatrix}\n",
    "       = \\frac{1}{2} \n",
    "         \\begin{pmatrix} e^t + e^{-t} & e^t - e^{-t} \\\\ e^t - e^{-t} & e^t + e^{-t}\\end{pmatrix}\n",
    "       = \\begin{pmatrix} \\cosh(t) & \\sinh(t) \\\\ \\sinh(t) & \\cosh(t) \\end{pmatrix}\n",
    "$$\n",
    "\n",
    "In this example, $e^{At}$ turns out to have a very nice form!  In general, no one ever, ever, calculates matrix exponentials analytically like this except for toy $2\\times 2$ problems or *very* special matrices.  (I will never ask you to go through this tedious algebra on an exam.)\n",
    "\n",
    "The computer is pretty good at computing matrix exponentials, however, and in Julia this is calculated by the `expm(A*t)` function.  (There is a famous paper: [19 dubious ways to compute the exponential of a matrix](http://www.cs.cornell.edu/cv/researchpdf/19ways+.pdf) on techniques for this tricky problem.)  Let's try it:"
   ]
  },
  {
   "cell_type": "code",
   "execution_count": 2,
   "metadata": {},
   "outputs": [
    {
     "data": {
      "text/plain": [
       "2×2 Array{Float64,2}:\n",
       " 1.54308  1.1752 \n",
       " 1.1752   1.54308"
      ]
     },
     "execution_count": 2,
     "metadata": {},
     "output_type": "execute_result"
    }
   ],
   "source": [
    "t = 1\n",
    "[cosh(t) sinh(t)\n",
    " sinh(t) cosh(t)]"
   ]
  },
  {
   "cell_type": "code",
   "execution_count": 3,
   "metadata": {},
   "outputs": [
    {
     "data": {
      "text/plain": [
       "2×2 Array{Float64,2}:\n",
       " 1.54308  1.1752 \n",
       " 1.1752   1.54308"
      ]
     },
     "execution_count": 3,
     "metadata": {},
     "output_type": "execute_result"
    }
   ],
   "source": [
    "expm([0 1; 1 0]*t)"
   ]
  },
  {
   "cell_type": "markdown",
   "metadata": {},
   "source": [
    "Yup, it matches for $t=1$.\n",
    "\n",
    "What happens for larger $t$, say $t=20$?"
   ]
  },
  {
   "cell_type": "code",
   "execution_count": 4,
   "metadata": {},
   "outputs": [
    {
     "data": {
      "text/plain": [
       "2×2 Array{Float64,2}:\n",
       " 2.42583e8  2.42583e8\n",
       " 2.42583e8  2.42583e8"
      ]
     },
     "execution_count": 4,
     "metadata": {},
     "output_type": "execute_result"
    }
   ],
   "source": [
    "t = 20\n",
    "[cosh(t) sinh(t); sinh(t) cosh(t)]"
   ]
  },
  {
   "cell_type": "code",
   "execution_count": 5,
   "metadata": {},
   "outputs": [
    {
     "data": {
      "text/plain": [
       "2×2 Array{Float64,2}:\n",
       " 2.42583e8  2.42583e8\n",
       " 2.42583e8  2.42583e8"
      ]
     },
     "execution_count": 5,
     "metadata": {},
     "output_type": "execute_result"
    }
   ],
   "source": [
    "expm([0 1; 1 0]*20)"
   ]
  },
  {
   "cell_type": "markdown",
   "metadata": {},
   "source": [
    "For large $t$, the $e^t$ exponentially growing term takes over, and $\\cosh(t) \\approx \\sinh(t) \\approx e^t/2$:\n",
    "\n",
    "$$\n",
    "e^{At} = \\begin{pmatrix} \\cosh(t) & \\sinh(t) \\\\ \\sinh(t) & \\cosh(t) \\end{pmatrix}\n",
    "\\approx \\frac{e^t}{2} \\begin{pmatrix} 1 & 1 \\\\ 1 & 1 \\end{pmatrix}\n",
    "$$"
   ]
  },
  {
   "cell_type": "code",
   "execution_count": 6,
   "metadata": {},
   "outputs": [
    {
     "data": {
      "text/plain": [
       "2×2 Array{Float64,2}:\n",
       " 2.42583e8  2.42583e8\n",
       " 2.42583e8  2.42583e8"
      ]
     },
     "execution_count": 6,
     "metadata": {},
     "output_type": "execute_result"
    }
   ],
   "source": [
    "exp(20)/2 * [1 1; 1 1]"
   ]
  },
  {
   "cell_type": "markdown",
   "metadata": {},
   "source": [
    "But we could have seen this from our eigenvector expansion too:\n",
    "\n",
    "$$\n",
    "\\vec{x}(t) = c_1 e^t \\begin{pmatrix} 1 \\\\ 1 \\end{pmatrix} + c_2 e^{-t} \\begin{pmatrix} 1 \\\\ -1 \\end{pmatrix} \\approx c_1 e^t \\begin{pmatrix} 1 \\\\ 1 \\end{pmatrix}\n",
    "$$\n",
    "\n",
    "where $c_1$ is the coefficient of the initial condition: (nearly) every initial condition should give $\\vec{x}(t)$ proportional to $(1,1)$ for large $t$, except in the very special case where $c_1 = 0$.\n",
    "\n",
    "In fact, since **these** two eigenvectors are an **orthogonal basis** (not by chance: we will see later that it happens because $A^T = A$), we can get $c_1$ just by a dot product:\n",
    "\n",
    "$$\n",
    "c_1 = \\frac{\\vec{x}_1 ^T \\vec{x}(0)}{\\vec{x}_1 ^T \\vec{x}_1} = \\frac{\\vec{x}_1 ^T \\vec{x}(0)}{2}\n",
    "$$\n",
    "\n",
    "and hence\n",
    "\n",
    "$$\n",
    "\\vec{x}(t) \\approx c_1 e^t \\vec{x}_1 = \\frac{e^t}{2} \\vec{x}_1 \\vec{x}_1^T  \\vec{x}(0) = \\frac{e^t}{2} \\begin{pmatrix} 1 & 1 \\\\ 1 & 1 \\end{pmatrix} \\vec{x}(0) \n",
    "$$\n",
    "\n",
    "which is the same as our approximation for $e^{At}$ above."
   ]
  },
  {
   "cell_type": "markdown",
   "metadata": {},
   "source": [
    "# Series definition of a matrix exponential\n",
    "\n",
    "Just plugging in $t=1$ above, we see that we have defined the [matrix exponential](https://en.wikipedia.org/wiki/Matrix_exponential) by\n",
    "\n",
    "$$\n",
    "e^{A} = X e^{\\Lambda} X^{-1}\n",
    "$$\n",
    "\n",
    "This works (for a diagonalizable matrix $A$, at least), but it is a bit odd.  It doesn't *look* much like any definition of $e^x$ for scalar $x$, and it's not clear how you would extend it to non-diagonalizable (defective) matrices.\n",
    "\n",
    "Instead, we can **equivalently** define matrix exponentials by starting with the **Taylor series** of $e^x$:\n",
    "\n",
    "$$\n",
    "e^x = 1 + x + \\frac{x^2}{2!} + \\frac{x^3}{3!} + \\cdots + \\frac{x^n}{n!} + \\cdots\n",
    "$$\n",
    "\n",
    "It is quite natural to define $e^A$ (for **any square** matrix $A$) by the **same series**:\n",
    "\n",
    "$$\n",
    "e^A = I + A + \\frac{A^2}{2!} + \\frac{A^3}{3!} + \\cdots + \\frac{A^n}{n!} + \\cdots\n",
    "$$\n",
    "\n",
    "This involves only familiar matrix multiplication and addition, so it is completely unambiguous, and it converges because the $n!$ denominator grows faster than $A^n \\sim \\lambda^n$ for the biggest $|\\lambda|$.\n",
    "\n",
    "Let's try summing up 100 terms of this series for a random $A$ and comparing it to both Julia's `expm` and to our formula in terms of eigenvectors:"
   ]
  },
  {
   "cell_type": "code",
   "execution_count": 7,
   "metadata": {},
   "outputs": [
    {
     "data": {
      "text/plain": [
       "5×5 Array{Float64,2}:\n",
       "  1.01443    0.177316  -0.396083  -0.247802  -1.37415 \n",
       "  0.346655   1.78857    0.764516  -0.72246    1.37608 \n",
       "  0.310727  -0.744581   0.831868   1.30593   -3.84946 \n",
       " -2.37921   -2.51767   -3.18863    0.298747   0.765365\n",
       "  1.36838    1.43755    0.478554  -0.330148  -0.929847"
      ]
     },
     "execution_count": 7,
     "metadata": {},
     "output_type": "execute_result"
    }
   ],
   "source": [
    "A = randn(5,5)"
   ]
  },
  {
   "cell_type": "code",
   "execution_count": 8,
   "metadata": {},
   "outputs": [
    {
     "data": {
      "text/plain": [
       "5×5 Array{Float64,2}:\n",
       "  2.47277    0.511146  -0.1485   -0.613896  -1.06134\n",
       "  2.84151    5.75252    4.07823  -0.482641  -2.83171\n",
       " -6.73843   -9.0214    -4.86201   2.50582    2.06533\n",
       "  0.420618   2.37196   -1.60708  -1.14324    4.9231 \n",
       "  2.13169    2.21291    1.57121  -0.297329  -1.46333"
      ]
     },
     "execution_count": 8,
     "metadata": {},
     "output_type": "execute_result"
    }
   ],
   "source": [
    "expm(A)"
   ]
  },
  {
   "cell_type": "code",
   "execution_count": 9,
   "metadata": {},
   "outputs": [
    {
     "data": {
      "text/plain": [
       "5×5 Array{Float64,2}:\n",
       "  2.47277    0.511146  -0.1485   -0.613896  -1.06134\n",
       "  2.84151    5.75252    4.07823  -0.482641  -2.83171\n",
       " -6.73843   -9.0214    -4.86201   2.50582    2.06533\n",
       "  0.420618   2.37196   -1.60708  -1.14324    4.9231 \n",
       "  2.13169    2.21291    1.57121  -0.297329  -1.46333"
      ]
     },
     "execution_count": 9,
     "metadata": {},
     "output_type": "execute_result"
    }
   ],
   "source": [
    "series = I + A # first two terms\n",
    "term = A\n",
    "for n = 2:100\n",
    "    term = term*A / n # compute Aⁿ / n! from the previous term Aⁿ⁻¹/(n-1)!\n",
    "    series = series + term\n",
    "end\n",
    "series"
   ]
  },
  {
   "cell_type": "code",
   "execution_count": 10,
   "metadata": {},
   "outputs": [
    {
     "data": {
      "text/plain": [
       "5×5 Array{Complex{Float64},2}:\n",
       "  2.47277+4.17935e-17im  0.511146+2.65442e-16im  …  -1.06134+6.10343e-17im\n",
       "  2.84151-1.46885e-15im   5.75252-1.91472e-15im     -2.83171+3.1472e-16im \n",
       " -6.73843+2.55795e-15im   -9.0214+1.74692e-15im      2.06533-1.03261e-15im\n",
       " 0.420618-1.09905e-15im   2.37196+8.41017e-16im       4.9231+1.23692e-15im\n",
       "  2.13169-5.66756e-16im   2.21291-6.71792e-16im     -1.46333+4.17809e-17im"
      ]
     },
     "execution_count": 10,
     "metadata": {},
     "output_type": "execute_result"
    }
   ],
   "source": [
    "λ, X = eig(A)\n",
    "X * diagm(exp.(λ)) * inv(X)"
   ]
  },
  {
   "cell_type": "code",
   "execution_count": 11,
   "metadata": {},
   "outputs": [
    {
     "data": {
      "text/plain": [
       "5×5 Array{Float64,2}:\n",
       "  2.47277    0.511146  -0.1485   -0.613896  -1.06134\n",
       "  2.84151    5.75252    4.07823  -0.482641  -2.83171\n",
       " -6.73843   -9.0214    -4.86201   2.50582    2.06533\n",
       "  0.420618   2.37196   -1.60708  -1.14324    4.9231 \n",
       "  2.13169    2.21291    1.57121  -0.297329  -1.46333"
      ]
     },
     "execution_count": 11,
     "metadata": {},
     "output_type": "execute_result"
    }
   ],
   "source": [
    "real(X * diagm(exp.(λ)) * inv(X)) # get rid of tiny imaginary parts"
   ]
  },
  {
   "cell_type": "markdown",
   "metadata": {},
   "source": [
    "Hurray, they all match, up to roundoff errors!  (Though the eigenvector method doesn't realize that the result is real, and we see tiny imaginary parts due to roundoff errors.)\n",
    "\n",
    "But why does the eigenvector definition match the series definition?  They look quite different, but they are not!  We can see this simply by looking at what the series does to an eigenvector:\n",
    "\n",
    "## Series definition for eigenvectors\n",
    "\n",
    "Even simpler, the key fact is that the eigenvalues of $e^A$ are $e^\\lambda$.  We can see this from the series definition:\n",
    "\n",
    "If $Ax = \\lambda x$, thend\n",
    "$$\n",
    "e^A x = \\left(I + A + \\frac{A^2}{2!} + \\cdots\\right)x = \\left(1 + \\lambda + \\frac{\\lambda^2}{2!} + \\cdots\\right) x = e^\\lambda x\n",
    "$$\n",
    "from the series definition of $e^\\lambda$.\n",
    "\n",
    "It follows that $e^A$ has the same eigenvectors as $A$ and the eigenvalues become $e^\\lambda$.\n",
    "\n",
    "If $A$ is diagonalizable, this means $e^A = X e^\\Lambda X^{-1}$: we get the same result as before!"
   ]
  },
  {
   "cell_type": "markdown",
   "metadata": {},
   "source": [
    "# Matrix exponentials and derivatives\n",
    "\n",
    "In first-year calculus, we learn that $\\frac{d}{dt} e^{at} = a e^{at}$.  The same thing works for matrices!\n",
    "\n",
    "$$\n",
    "\\boxed{\\frac{d}{dt} e^{At} = A e^{At}}\n",
    "$$\n",
    "\n",
    "You can derive this in various ways.  For example, you can plug $e^{At}$ into the series definition and take the derivative term-by-term.\n",
    "\n",
    "This is why $\\vec{x}(t) = e^{At} \\vec{x}(0)$ solves our ODE:\n",
    "\n",
    "1. It satisfies $d\\vec{x}/dt = A\\vec{x}$, since $\\frac{d}{dt} e^{At} \\vec{x}(0) = A e^{At} \\vec{x}(0)$\n",
    "\n",
    "2. It satisfies the initial condition: $e^{A\\times0} \\vec{x}(0) = \\vec{x}(0)$, since from the series definition we can see that $e^{A\\times0}=I$.\n",
    "\n"
   ]
  },
  {
   "cell_type": "markdown",
   "metadata": {},
   "source": [
    "# Products of matrix exponentials\n",
    "\n",
    "In high school, you learn that $e^x e^y = e^{x+y}$.  (In fact, exponentials $a^x$ are essentially the *only* functions that have this property.)\n",
    "\n",
    "However, this is **not** in general true for matrices:\n",
    "\n",
    "$$\n",
    "\\boxed{e^A e^B \\ne e^{A + B} }\n",
    "$$\n",
    "\n",
    "unless $AB = BA$ (unless they **commute**).\n",
    "\n",
    "This can be seen from the series definition: if you multiply together the series for $e^A$ and $e^B$, you can only re-arrange this into the series for $e^{A + B}$ if you are allowed to re-order products of $A$ and $B$.  For example, the $(A+B)^2=(A+B)(A+B)$ term gives $A^2 +AB+BA +B^2$ (not $A^2 +2AB +B^2$!), which requires both orders $BA$ and $AB$.\n",
    "\n",
    "Let's try it:"
   ]
  },
  {
   "cell_type": "code",
   "execution_count": 12,
   "metadata": {},
   "outputs": [
    {
     "data": {
      "text/plain": [
       "5×5 Array{Float64,2}:\n",
       "   6.17598    19.6728   -1.66702    2.51091    8.7367\n",
       "  20.5522    102.073    -7.27974   16.7237    30.2402\n",
       " -62.3322   -254.756    29.1714   -33.7915   -94.9602\n",
       "  61.743     223.815   -38.5368    20.8227    96.4689\n",
       "   8.20601    38.3868   -2.31351    6.6087    12.1611"
      ]
     },
     "execution_count": 12,
     "metadata": {},
     "output_type": "execute_result"
    }
   ],
   "source": [
    "B = randn(5,5)\n",
    "expm(A) * expm(B)"
   ]
  },
  {
   "cell_type": "code",
   "execution_count": 13,
   "metadata": {},
   "outputs": [
    {
     "data": {
      "text/plain": [
       "5×5 Array{Float64,2}:\n",
       "    5.03837    12.9698    1.94154   0.468425    2.79803\n",
       "  108.889     295.162    21.2169   -4.5088     93.6245 \n",
       " -105.044    -274.169   -21.6401    5.25907   -86.0411 \n",
       "    7.25132    13.8611   -1.25912  -2.67275     8.10598\n",
       "   57.0939    148.673    10.9999   -2.85229    47.6897 "
      ]
     },
     "execution_count": 13,
     "metadata": {},
     "output_type": "execute_result"
    }
   ],
   "source": [
    "expm(A + B)"
   ]
  },
  {
   "cell_type": "markdown",
   "metadata": {},
   "source": [
    "They are not even close!"
   ]
  },
  {
   "cell_type": "markdown",
   "metadata": {},
   "source": [
    "However, since $A$ and $2A$ commute ($A\\times2A=2A^2 = 2A \\times A$), we *do* have $e^{A}e^{2A}=e^{3A}$:"
   ]
  },
  {
   "cell_type": "code",
   "execution_count": 14,
   "metadata": {},
   "outputs": [
    {
     "data": {
      "text/plain": [
       "5×5 Array{Float64,2}:\n",
       "  -4.89008  -18.3628   -9.74324    2.87295     -4.66528\n",
       " -66.354    -60.0132  -61.3167     4.45378     85.6283 \n",
       " 139.462    162.786   121.314    -30.7473    -101.742  \n",
       " -59.3594   -83.5661  -14.1441    45.7616     -71.4801 \n",
       " -21.6007   -23.7546  -24.5253     0.283899    31.2687 "
      ]
     },
     "execution_count": 14,
     "metadata": {},
     "output_type": "execute_result"
    }
   ],
   "source": [
    "expm(A) * expm(2A)"
   ]
  },
  {
   "cell_type": "code",
   "execution_count": 15,
   "metadata": {},
   "outputs": [
    {
     "data": {
      "text/plain": [
       "5×5 Array{Float64,2}:\n",
       "  -4.89008  -18.3628   -9.74324    2.87295     -4.66528\n",
       " -66.354    -60.0132  -61.3167     4.45378     85.6283 \n",
       " 139.462    162.786   121.314    -30.7473    -101.742  \n",
       " -59.3594   -83.5661  -14.1441    45.7616     -71.4801 \n",
       " -21.6007   -23.7546  -24.5253     0.283899    31.2687 "
      ]
     },
     "execution_count": 15,
     "metadata": {},
     "output_type": "execute_result"
    }
   ],
   "source": [
    "expm(3A)"
   ]
  },
  {
   "cell_type": "code",
   "execution_count": 16,
   "metadata": {},
   "outputs": [
    {
     "data": {
      "text/plain": [
       "5×5 Array{Float64,2}:\n",
       "  -4.89008  -18.3628   -9.74324    2.87295     -4.66528\n",
       " -66.354    -60.0132  -61.3167     4.45378     85.6283 \n",
       " 139.462    162.786   121.314    -30.7473    -101.742  \n",
       " -59.3594   -83.5661  -14.1441    45.7616     -71.4801 \n",
       " -21.6007   -23.7546  -24.5253     0.283899    31.2687 "
      ]
     },
     "execution_count": 16,
     "metadata": {},
     "output_type": "execute_result"
    }
   ],
   "source": [
    "expm(2A) * expm(A)"
   ]
  },
  {
   "cell_type": "markdown",
   "metadata": {},
   "source": [
    "## Inverses of matrix exponentials\n",
    "\n",
    "As a special case of the above, since $A$ and $-A$ commute, we have $e^A e^{-A} = e^{A-A} = I$, so:\n",
    "\n",
    "$$\n",
    "\\boxed{\\left(e^A\\right)^{-1} = e^{-A}}\n",
    "$$\n",
    "\n",
    "For example"
   ]
  },
  {
   "cell_type": "code",
   "execution_count": 17,
   "metadata": {},
   "outputs": [
    {
     "data": {
      "text/plain": [
       "5×5 Array{Float64,2}:\n",
       " -0.404814  -0.696514    0.0379446   0.0820087   1.9709 \n",
       "  0.820519   1.052       0.383089    0.265898   -1.1956 \n",
       " -1.62211   -1.38588    -0.576234   -0.31939     1.97051\n",
       " -0.460109  -0.0277296   0.899845    0.493523    3.31778\n",
       " -0.997102  -0.906185   -0.166956    0.0783529   1.82135"
      ]
     },
     "execution_count": 17,
     "metadata": {},
     "output_type": "execute_result"
    }
   ],
   "source": [
    "inv(expm(A))"
   ]
  },
  {
   "cell_type": "code",
   "execution_count": 18,
   "metadata": {},
   "outputs": [
    {
     "data": {
      "text/plain": [
       "5×5 Array{Float64,2}:\n",
       " -0.404814  -0.696514    0.0379446   0.0820087   1.9709 \n",
       "  0.820519   1.052       0.383089    0.265898   -1.1956 \n",
       " -1.62211   -1.38588    -0.576234   -0.31939     1.97051\n",
       " -0.460109  -0.0277296   0.899845    0.493523    3.31778\n",
       " -0.997102  -0.906185   -0.166956    0.0783529   1.82135"
      ]
     },
     "execution_count": 18,
     "metadata": {},
     "output_type": "execute_result"
    }
   ],
   "source": [
    "expm(-A)"
   ]
  },
  {
   "cell_type": "markdown",
   "metadata": {},
   "source": [
    "# Matrix exponentials as propagators\n",
    "\n",
    "From above, we had $\\vec{x}(t) = e^{At} \\vec{x}(0)$ solving $d\\vec{x}/dt = A\\vec{x}$ given the initial condition at $t=0$.\n",
    "\n",
    "However, there is nothing that special about $t=0$.  We could instead have given $\\vec{x}(t)$ and asked for $\\vec{x}(t+\\Delta t)$ and the result would have been similar:\n",
    "\n",
    "$$\n",
    "\\boxed{ \\vec{x}(t+\\Delta t) = e^{A\\Delta t} \\vec{x(t)} } = e^{A\\Delta t} e^{A t} \\vec{x}(0) = \n",
    "e^{A(t + \\Delta t)} \\vec{x}(0)\\, .\n",
    "$$\n",
    "\n",
    "Viewed in this way, the matrix $T = e^{A\\Delta t}$ can be thought of as a \"propagator\" matrix: it takes the solution at any time $t$ and \"propagates\" it forwards in time by $\\Delta t$.\n",
    "\n",
    "The *inverse* of this propagator matrix is simply $T^{-1} = e^{-A\\Delta t}$, which propagates *backwards* in time by $\\Delta t$. \n",
    "\n",
    "If we multiply by this propagator matrix repeatedly, we can get $\\vec{x}$ at a whole sequence of time points:\n",
    "\n",
    "$$\n",
    "\\vec{x}(0), \\vec{x}(\\Delta t), \\vec{x}(2\\Delta t), \\ldots =\n",
    "\\vec{x}(0), T \\vec{x}(0), T^2 \\vec{x}(0), \\ldots\n",
    "$$\n",
    "\n",
    "which is nice for plotting the solutions as a function of time!  Let's try it for our [two masses and springs example](ODEs.ipynb):"
   ]
  },
  {
   "cell_type": "code",
   "execution_count": 19,
   "metadata": {},
   "outputs": [
    {
     "data": {
      "image/png": "[encoded data removed]",
      "text/plain": [
       "PyPlot.Figure(PyObject <Figure size 640x480 with 1 Axes>)"
      ]
     },
     "metadata": {},
     "output_type": "display_data"
    }
   ],
   "source": [
    "C = [ 0     0    1 0\n",
    "      0     0    0 1\n",
    "     -0.02  0.01 0 0\n",
    "      0.01 -0.02 0 0 ]\n",
    "Δt = 1.0\n",
    "T = expm(C*Δt)  # propagator matrix\n",
    "\n",
    "x₀ = [0.0,0,1,0]  # initial condition\n",
    "\n",
    "# loop over 300 timesteps and keep track of x₁(t)\n",
    "x = x₀\n",
    "x₁ = [ x₀[1] ]\n",
    "for i = 1:300\n",
    "    x = T*x     # repeatedly multiply by T\n",
    "    push!(x₁, x[1])  # & store current x₁(t) in the array x₁\n",
    "end\n",
    "\n",
    "plot((0:300)*Δt, x₁, \"r.-\")\n",
    "xlabel(\"time \\$t\\$\")\n",
    "ylabel(\"solution \\$x_1(t)\\$\")\n",
    "grid()"
   ]
  },
  {
   "cell_type": "markdown",
   "metadata": {},
   "source": [
    "(This is **not** an approximate solution.  It is the *exact* solution, up to the computer's roundoff errors, at the times $t=0,\\Delta t, 2\\Delta t, \\ldots$.  Don't confuse it with approximations like [Euler's method](https://en.wikipedia.org/wiki/Euler_method).)"
   ]
  },
  {
   "cell_type": "markdown",
   "metadata": {},
   "source": [
    "# Stability of solutions in eᴬ vs. Aⁿ\n",
    "\n",
    "It is important to compare and contrast the two cases we have studied:\n",
    "\n",
    "* Multiplying by $A^n$ (e.g. in **linear recurrence** equations $x_{n+1} = Ax_n$) corresponds to multiplying each eigenvector by $\\lambda^n$, which:\n",
    "  - blows up if $|\\lambda| > 1$\n",
    "  - decays if $|\\lambda| < 1$\n",
    "  - oscillates if $|\\lambda|=1$\n",
    "  - If $\\lambda = 1$ you have a steady-state vector (a stable \"attractor\" if the other eigenvalue have $|\\lambda| < 1$).\n",
    "  - large-$n$ behavior dominated by biggest $|\\lambda|$\n",
    "\n",
    "versus\n",
    "\n",
    "* Multiplying by $e^{At}$ (e.g. **linear differential** equations $dx/dt=Ax$ ), corresponds to multiplying each eigenvector by $e^{\\lambda t}$, which\n",
    "  - blows up if $\\operatorname{Re}(\\lambda) > 0$\n",
    "  - decays if $\\operatorname{Re}(\\lambda) < 0$\n",
    "  - oscillates if $\\operatorname{Re}(\\lambda) = 0$ (purely imaginary λ)\n",
    "  - If $\\lambda = 0$ you have a steady-state solution (a stable \"attractor\" if the other eigenvalue have $\\operatorname{Re}(\\lambda) < 0$). \n",
    "  - large-$t$ behavior dominated by biggest $\\operatorname{Re}(\\lambda)$.  (Note: not biggest magnitude!  Remember, $0 > -1 > -2$.)"
   ]
  },
  {
   "cell_type": "markdown",
   "metadata": {},
   "source": [
    "## Relating eᴬᵗ and Aⁿ\n",
    "\n",
    "These two cases are **related by the propagator matrix** $T = e^{A\\Delta t}$!  Solving the ODE for long time, or multiplying by $e^{At}$ for large $t$, corresponds to **repeatedly multiplying** by $T$!\n",
    "\n",
    "What are the eigenvalues of $T$ for a diagonalizable $A = X \\Lambda X^{-1}$? Well, since \n",
    "\n",
    "$$\n",
    "T = e^{A \\Delta t} = X e^{\\Lambda \\Delta t} X^{-1} = \n",
    "\\begin{pmatrix} e^{\\lambda_1 \\Delta t} & & & \\\\\n",
    "                                               & e^{\\lambda_2 \\Delta t} & & \\\\\n",
    "                                               & & \\ddots & \\\\\n",
    "                                               & & & e^{\\lambda_m \\Delta t} \\end{pmatrix} X^{-1}\n",
    "$$\n",
    "\n",
    "the eigenvalues of $T$ are just $e^{\\lambda \\Delta t}$ (the equation above is precisely the diagonalization of $T$).\n",
    "\n",
    "Equivalently, for an eigenvector $\\vec{x}_k$ of $A$, $T\\vec{x}_k = e^{\\lambda_k \\Delta t} \\vec{x}_k$, so $\\vec{x}_k$ is **also an eigenvector** of $T$ with eigenvalue $e^{\\lambda_k \\Delta t}$.  Let's check:"
   ]
  },
  {
   "cell_type": "code",
   "execution_count": 20,
   "metadata": {},
   "outputs": [
    {
     "data": {
      "text/plain": [
       "5-element Array{Complex{Float64},1}:\n",
       " -1.22329+4.15894im \n",
       " -1.22329-4.15894im \n",
       "  2.19697+0.0im     \n",
       " 0.503162+0.484909im\n",
       " 0.503162-0.484909im"
      ]
     },
     "execution_count": 20,
     "metadata": {},
     "output_type": "execute_result"
    }
   ],
   "source": [
    "eigvals(expm(A*Δt))"
   ]
  },
  {
   "cell_type": "code",
   "execution_count": 21,
   "metadata": {},
   "outputs": [
    {
     "data": {
      "text/plain": [
       "5-element Array{Complex{Float64},1}:\n",
       " -1.22329+4.15894im \n",
       " -1.22329-4.15894im \n",
       " 0.503162+0.484909im\n",
       " 0.503162-0.484909im\n",
       "  2.19697+0.0im     "
      ]
     },
     "execution_count": 21,
     "metadata": {},
     "output_type": "execute_result"
    }
   ],
   "source": [
    "λ = eigvals(A)\n",
    "exp.(λ * Δt)"
   ]
  },
  {
   "cell_type": "markdown",
   "metadata": {},
   "source": [
    "Yup, they match (although the order is different: Julia gives the eigenvalues in a somewhat \"random\" order)."
   ]
  },
  {
   "cell_type": "markdown",
   "metadata": {},
   "source": [
    "What does this mean for stability of the solutions?\n",
    "\n",
    "For example, if $A$ has an real eigenvalue with $\\lambda < 0$, a decaying solution, then $T$ has an eigenvalue $e^{\\lambda \\Delta t} < 1$, which is also decaying when you multiply by $T$ repeatedly!\n",
    "\n",
    "It is easy to verify that going from $\\lambda \\to e^\\lambda$ turns the **conditions for growing/decaying ODE (eᴬᵗ) solutions into the rules for growing/decaying Aⁿ solutions!**."
   ]
  }
 ],
 "metadata": {
  "kernelspec": {
   "display_name": "Julia 0.6.3",
   "language": "julia",
   "name": "julia-0.6"
  },
  "language_info": {
   "file_extension": ".jl",
   "mimetype": "application/julia",
   "name": "julia",
   "version": "0.6.3"
  }
 },
 "nbformat": 4,
 "nbformat_minor": 2
}
