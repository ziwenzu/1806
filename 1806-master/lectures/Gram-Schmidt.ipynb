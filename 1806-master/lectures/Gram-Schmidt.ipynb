{
 "cells": [
  {
   "cell_type": "markdown",
   "metadata": {},
   "source": [
    "# Gram–Schmidt orthogonalization\n",
    "\n",
    "Chapter 4.4 illustrates a hand technique for computing orthonormal vectors q₁,q₂,… from arbitrary vectors a,b,… with the property that the first k vectors in the original set span the same subspace as the orthonormal set, and this is true for k=1,2,3,...\n",
    "\n",
    "We will move this hand technique to the computer in this notebook.  Some of you will notice that on the computer one can combine operations in a simpler block fashion.  "
   ]
  },
  {
   "cell_type": "code",
   "execution_count": 1,
   "metadata": {},
   "outputs": [
    {
     "data": {
      "text/plain": [
       "6×4 Array{Int64,2}:\n",
       " 7  2  6   9\n",
       " 2  4  3   2\n",
       " 8  6  4  10\n",
       " 4  9  2   5\n",
       " 7  1  5   9\n",
       " 7  8  4   6"
      ]
     },
     "execution_count": 1,
     "metadata": {},
     "output_type": "execute_result"
    }
   ],
   "source": [
    "# start with four arbitrary independent vectors in ℝᵐ\n",
    "# with random entries from 1 to 10.\n",
    "m = 6\n",
    "a₁ = rand(1:10,m)\n",
    "a₂ = rand(1:10,m)\n",
    "a₃ = rand(1:10,m)\n",
    "a₄ = rand(1:10,m)\n",
    "A = [a₁ a₂ a₃ a₄] # show them as the columns of a 6×4 matrix A"
   ]
  },
  {
   "cell_type": "code",
   "execution_count": 2,
   "metadata": {},
   "outputs": [
    {
     "data": {
      "text/plain": [
       "6×4 Array{Float64,2}:\n",
       " 7.0  -3.12121    1.12662     0.293808 \n",
       " 2.0   2.5368     1.93453    -0.0432856\n",
       " 8.0   0.147186  -1.2154      0.62856  \n",
       " 4.0   6.07359   -0.0355781   1.14313  \n",
       " 7.0  -4.12121    0.031269    0.178556 \n",
       " 7.0   2.87879   -0.301254   -1.83157  "
      ]
     },
     "execution_count": 2,
     "metadata": {},
     "output_type": "execute_result"
    }
   ],
   "source": [
    "# The vₖ are vectors, but they are all orthogonal and\n",
    "#span([v₁]) = span([a₁])\n",
    "#span([v₁ v₂]) = span([a₁ a₂])\n",
    "#span([v₁ v₂ v₃]) = span([a₁ a₂ a₃] )\n",
    "#span([v₁ v₂ v₃ v₄]) = span([a₁ a₂ a₃ a₄])\n",
    "v₁ = a₁\n",
    "v₂ = a₂ - v₁*(v₁'a₂)/(v₁'v₁)\n",
    "v₃ = a₃ - v₁*(v₁'a₃)/(v₁'v₁) - v₂*(v₂'a₃)/(v₂'v₂)\n",
    "v₄ = a₄ - v₁*(v₁'a₄)/(v₁'v₁) - v₂*(v₂'a₄)/(v₂'v₂) - v₃*(v₃'a₄)/(v₃'v₃)\n",
    "\n",
    "# gather into a matrix V with orthogonal but *not* orthonormal columns\n",
    "V = [v₁ v₂ v₃ v₄]"
   ]
  },
  {
   "cell_type": "code",
   "execution_count": 3,
   "metadata": {},
   "outputs": [
    {
     "data": {
      "text/plain": [
       "6×4 Array{Float64,2}:\n",
       " 0.460566  -0.352596    0.43914     0.129135 \n",
       " 0.13159    0.286576    0.754051   -0.0190249\n",
       " 0.526361   0.0166273  -0.473745    0.276266 \n",
       " 0.263181   0.686121   -0.0138678   0.502429 \n",
       " 0.460566  -0.465564    0.0121882   0.0784793\n",
       " 0.460566   0.32521    -0.117424   -0.805013 "
      ]
     },
     "execution_count": 3,
     "metadata": {},
     "output_type": "execute_result"
    }
   ],
   "source": [
    "# now we normalize\n",
    "q₁ = normalize(v₁) # same as A/norm(A)\n",
    "q₂ = normalize(v₂)\n",
    "q₃ = normalize(v₃)\n",
    "q₄ = normalize(v₄);\n",
    "\n",
    "# Gather into a matrix Q with orthonormal columns\n",
    "Q = [q₁ q₂ q₃ q₄]"
   ]
  },
  {
   "cell_type": "code",
   "execution_count": 4,
   "metadata": {},
   "outputs": [
    {
     "data": {
      "text/plain": [
       "4×4 Array{Float64,2}:\n",
       "  1.0           4.06e-17     -9.50947e-17  -7.11172e-17\n",
       "  4.06e-17      1.0           7.34308e-17  -1.81051e-16\n",
       " -9.50947e-17   7.34308e-17   1.0           1.19386e-15\n",
       " -7.11172e-17  -1.81051e-16   1.19386e-15   1.0        "
      ]
     },
     "execution_count": 4,
     "metadata": {},
     "output_type": "execute_result"
    }
   ],
   "source": [
    "#check that Q has orthonormal columns\n",
    "Q'Q"
   ]
  },
  {
   "cell_type": "code",
   "execution_count": 5,
   "metadata": {},
   "outputs": [
    {
     "data": {
      "text/plain": [
       "4×4 Array{Float64,2}:\n",
       "  0.0           4.06e-17     -9.50947e-17  -7.11172e-17\n",
       "  4.06e-17      2.22045e-16   7.34308e-17  -1.81051e-16\n",
       " -9.50947e-17   7.34308e-17   0.0           1.19386e-15\n",
       " -7.11172e-17  -1.81051e-16   1.19386e-15   2.22045e-16"
      ]
     },
     "execution_count": 5,
     "metadata": {},
     "output_type": "execute_result"
    }
   ],
   "source": [
    "Q'Q - I"
   ]
  },
  {
   "cell_type": "code",
   "execution_count": 6,
   "metadata": {},
   "outputs": [
    {
     "data": {
      "text/plain": [
       "true"
      ]
     },
     "execution_count": 6,
     "metadata": {},
     "output_type": "execute_result"
    }
   ],
   "source": [
    "Q'Q ≈ eye(4)"
   ]
  },
  {
   "cell_type": "code",
   "execution_count": 7,
   "metadata": {},
   "outputs": [
    {
     "data": {
      "text/plain": [
       "4×4 Array{Float64,2}:\n",
       " 231.0           3.55271e-15  -4.88498e-15  -3.10862e-15\n",
       "   3.55271e-15  78.3593        1.26619e-15  -2.82135e-15\n",
       "  -4.88498e-15   1.26619e-15   6.5819        6.95173e-15\n",
       "  -3.10862e-15  -2.82135e-15   6.95173e-15   5.17654    "
      ]
     },
     "execution_count": 7,
     "metadata": {},
     "output_type": "execute_result"
    }
   ],
   "source": [
    "# compare to what happens if we didn't normalize:\n",
    "V'V # = diagonal matrix (orthogonal columns, but not orthonormal)"
   ]
  },
  {
   "cell_type": "code",
   "execution_count": 8,
   "metadata": {},
   "outputs": [
    {
     "data": {
      "text/plain": [
       "4×4 Array{Float64,2}:\n",
       " 15.1987  11.1194    9.93507  17.8963 \n",
       "  0.0      8.85208  -0.84408  -1.24216\n",
       " -0.0     -0.0       2.56552   0.05872\n",
       " -0.0     -0.0       0.0       2.2752 "
      ]
     },
     "execution_count": 8,
     "metadata": {},
     "output_type": "execute_result"
    }
   ],
   "source": [
    "# What does this triangular structure say?\n",
    "round.(Q'A, 5)"
   ]
  },
  {
   "cell_type": "markdown",
   "metadata": {},
   "source": [
    "## QR factorization\n",
    "\n",
    "How do we do all this at once on a computer? We ask the computer to factor the matrix as $QR$ (orthonormal columns times upper triangular)."
   ]
  },
  {
   "cell_type": "code",
   "execution_count": 9,
   "metadata": {},
   "outputs": [
    {
     "data": {
      "text/plain": [
       "([-0.460566 0.352596 0.43914 -0.129135; -0.13159 -0.286576 0.754051 0.0190249; … ; -0.460566 0.465564 0.0121882 -0.0784793; -0.460566 -0.32521 -0.117424 0.805013], [-15.1987 -11.1194 -9.93507 -17.8963; 0.0 -8.85208 0.84408 1.24216; 0.0 0.0 2.56552 0.0587228; 0.0 0.0 0.0 -2.2752])"
      ]
     },
     "execution_count": 9,
     "metadata": {},
     "output_type": "execute_result"
    }
   ],
   "source": [
    "Q2,R = qr(A)"
   ]
  },
  {
   "cell_type": "code",
   "execution_count": 10,
   "metadata": {},
   "outputs": [
    {
     "data": {
      "text/plain": [
       "4×4 Array{Float64,2}:\n",
       " -1.0   0.0   0.0   0.0\n",
       " -0.0  -1.0  -0.0   0.0\n",
       "  0.0  -0.0   1.0  -0.0\n",
       "  0.0   0.0   0.0  -1.0"
      ]
     },
     "execution_count": 10,
     "metadata": {},
     "output_type": "execute_result"
    }
   ],
   "source": [
    "round.(Q'Q2, 5) # almost I, up to signs"
   ]
  },
  {
   "cell_type": "code",
   "execution_count": 11,
   "metadata": {},
   "outputs": [
    {
     "data": {
      "text/plain": [
       "4×4 Array{Float64,2}:\n",
       " -15.1987  -11.1194   -9.93507  -17.8963   \n",
       "   0.0      -8.85208   0.84408    1.24216  \n",
       "   0.0       0.0       2.56552    0.0587228\n",
       "   0.0       0.0       0.0       -2.2752   "
      ]
     },
     "execution_count": 11,
     "metadata": {},
     "output_type": "execute_result"
    }
   ],
   "source": [
    "R # Recognize this matrix?"
   ]
  },
  {
   "cell_type": "code",
   "execution_count": 12,
   "metadata": {},
   "outputs": [
    {
     "data": {
      "text/plain": [
       "true"
      ]
     },
     "execution_count": 12,
     "metadata": {},
     "output_type": "execute_result"
    }
   ],
   "source": [
    "Q2*R ≈ A"
   ]
  },
  {
   "cell_type": "code",
   "execution_count": 14,
   "metadata": {},
   "outputs": [
    {
     "data": {
      "text/plain": [
       "6-element Array{Float64,1}:\n",
       " 0.891932\n",
       " 0.169511\n",
       " 0.408775\n",
       " 0.138505\n",
       " 0.768323\n",
       " 0.147395"
      ]
     },
     "execution_count": 14,
     "metadata": {},
     "output_type": "execute_result"
    }
   ],
   "source": [
    "b = rand(6)"
   ]
  },
  {
   "cell_type": "code",
   "execution_count": 15,
   "metadata": {},
   "outputs": [
    {
     "data": {
      "text/plain": [
       "4-element Array{Float64,1}:\n",
       " -0.108273 \n",
       " -0.0274501\n",
       "  0.12079  \n",
       "  0.103778 "
      ]
     },
     "execution_count": 15,
     "metadata": {},
     "output_type": "execute_result"
    }
   ],
   "source": [
    "A \\ b"
   ]
  },
  {
   "cell_type": "code",
   "execution_count": 16,
   "metadata": {},
   "outputs": [
    {
     "data": {
      "text/plain": [
       "4-element Array{Float64,1}:\n",
       " -0.108273 \n",
       " -0.0274501\n",
       "  0.12079  \n",
       "  0.103778 "
      ]
     },
     "execution_count": 16,
     "metadata": {},
     "output_type": "execute_result"
    }
   ],
   "source": [
    "inv(A'A) * A'b"
   ]
  },
  {
   "cell_type": "code",
   "execution_count": 17,
   "metadata": {},
   "outputs": [
    {
     "data": {
      "text/plain": [
       "4-element Array{Float64,1}:\n",
       " -0.108273 \n",
       " -0.0274501\n",
       "  0.12079  \n",
       "  0.103778 "
      ]
     },
     "execution_count": 17,
     "metadata": {},
     "output_type": "execute_result"
    }
   ],
   "source": [
    "R \\ Q2'b"
   ]
  }
 ],
 "metadata": {
  "kernelspec": {
   "display_name": "Julia 0.6.3",
   "language": "julia",
   "name": "julia-0.6"
  },
  "language_info": {
   "file_extension": ".jl",
   "mimetype": "application/julia",
   "name": "julia",
   "version": "0.6.3"
  }
 },
 "nbformat": 4,
 "nbformat_minor": 2
}
