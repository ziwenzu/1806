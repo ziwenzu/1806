{
 "cells": [
  {
   "cell_type": "markdown",
   "metadata": {},
   "source": [
    "# Graphs and Networks in Linear Algebra\n",
    "\n",
    "This notebook is based on section 10.1 of Strang's *Linear Algebra* textbook.\n",
    "\n",
    "One interesting source of large matrices in linear algebra is a [graph](https://en.wikipedia.org/wiki/Graph_(discrete_mathematics), a collection of *nodes* (vertices) and *edges* (arrows from one vertex to another).   Graphs are used in many applications to represent *relationships* and *connectivity*, such as:\n",
    "\n",
    "* For computer networks, nodes could represent web pages, and edges could represent links.\n",
    "* For circuits, edges could represent wires (or resistors) and nodes junctions.\n",
    "* For transportation, nodes could represent cities and edges roads.\n",
    "* In bioinformatics, graphs can represent gene regulatory networks.\n",
    "* In sociology, nodes could represent people and edges relationships.\n",
    "* ... and many, many other applications ...\n",
    "\n",
    "In this notebook, we explain how a graph can be represented by a *matrix*, and how linear algebra can tell us properties of the graph and can help us do computations on graph-based problems.  There is a particularly beautiful connection to Kirchhoff's laws of circuit theory."
   ]
  },
  {
   "cell_type": "markdown",
   "metadata": {},
   "source": [
    "## Packages for this notebook\n",
    "\n",
    "To run the code in this notebook, you'll need to install a few Julia packages used below.  To do so, uncomment the following line and run it:"
   ]
  },
  {
   "cell_type": "code",
   "execution_count": 1,
   "metadata": {},
   "outputs": [],
   "source": [
    "# Pkg.add.([\"LightGraphs\", \"MetaGraphs\", \"GraphPlot\", \"NamedColors\", \"RowEchelon\", Interact\", \"SymPy\"])"
   ]
  },
  {
   "cell_type": "markdown",
   "metadata": {},
   "source": [
    "...and then run this cell to import the packages:"
   ]
  },
  {
   "cell_type": "code",
   "execution_count": 2,
   "metadata": {},
   "outputs": [
    {
     "data": {
      "text/html": [
       "    <script id=\"webio-setup-2532233624759935175\">\n",
       "    // Immediately-invoked-function-expression to avoid global variables.\n",
       "    (function() {\n",
       "        var warning_div = document.getElementById(\"webio-warning-5035077655054867987\");\n",
       "        var hide = function () {\n",
       "            var script = document.getElementById(\"webio-setup-2532233624759935175\");\n",
       "            var parent = script && script.parentElement;\n",
       "            var grandparent = parent && parent.parentElement;\n",
       "            if (grandparent) {\n",
       "                grandparent.style.display = \"none\";\n",
       "            }\n",
       "            warning_div.style.display = \"none\";\n",
       "        };\n",
       "        if (window.require && require.defined) {\n",
       "            // Jupyter notebook.\n",
       "            if (require.defined(\"nbextensions/webio/main\")\n",
       "                    || require.defined(\"/assetserver/62410a6b2cb49fb072163a2752687141fb839b23-dist/main.js\")) {\n",
       "                // Extension already loaded.\n",
       "                hide();\n",
       "                return;\n",
       "            }\n",
       "            console.warn(\"Loading WebIO Jupyter extension on an ad-hoc basis. Consider enabling the WebIO nbextension for a stabler experience (this should happen automatically when building WebIO).\");\n",
       "            require([\"/assetserver/62410a6b2cb49fb072163a2752687141fb839b23-dist/main.js\"], function (webIOModule) {\n",
       "                webIOModule.load_ipython_extension();\n",
       "            });\n",
       "            warning_div.innerHTML = \"<strong>Loading WebIO Jupyter extension on an ad-hoc basis. Consider enabling the WebIO nbextension for a stabler experience (this should happen automatically when building WebIO).</strong>\";\n",
       "        } else if (window.location.pathname.includes(\"/lab\")) {\n",
       "            // Guessing JupyterLab\n",
       "            warning_div.innerHTML = \"WebIO does not support JupyterLab yet.\";\n",
       "        }\n",
       "    })();\n",
       "    </script>\n",
       "    <div\n",
       "        id=\"webio-warning-5035077655054867987\"\n",
       "        class=\"output_text output_stderr\"\n",
       "        style=\"padding: 1em; font-weight: bold;\"\n",
       "    >\n",
       "        Unable to load WebIO. Please make sure WebIO works for your Jupyter client.\n",
       "        <!-- TODO: link to installation docs. -->\n",
       "    </div>\n"
      ],
      "text/plain": [
       "HTML{String}(\"    <script id=\\\"webio-setup-2532233624759935175\\\">\\n    // Immediately-invoked-function-expression to avoid global variables.\\n    (function() {\\n        var warning_div = document.getElementById(\\\"webio-warning-5035077655054867987\\\");\\n        var hide = function () {\\n            var script = document.getElementById(\\\"webio-setup-2532233624759935175\\\");\\n            var parent = script && script.parentElement;\\n            var grandparent = parent && parent.parentElement;\\n            if (grandparent) {\\n                grandparent.style.display = \\\"none\\\";\\n            }\\n            warning_div.style.display = \\\"none\\\";\\n        };\\n        if (window.require && require.defined) {\\n            // Jupyter notebook.\\n            if (require.defined(\\\"nbextensions/webio/main\\\")\\n                    || require.defined(\\\"/assetserver/62410a6b2cb49fb072163a2752687141fb839b23-dist/main.js\\\")) {\\n                // Extension already loaded.\\n                hide();\\n                return;\\n            }\\n            console.warn(\\\"Loading WebIO Jupyter extension on an ad-hoc basis. Consider enabling the WebIO nbextension for a stabler experience (this should happen automatically when building WebIO).\\\");\\n            require([\\\"/assetserver/62410a6b2cb49fb072163a2752687141fb839b23-dist/main.js\\\"], function (webIOModule) {\\n                webIOModule.load_ipython_extension();\\n            });\\n            warning_div.innerHTML = \\\"<strong>Loading WebIO Jupyter extension on an ad-hoc basis. Consider enabling the WebIO nbextension for a stabler experience (this should happen automatically when building WebIO).</strong>\\\";\\n        } else if (window.location.pathname.includes(\\\"/lab\\\")) {\\n            // Guessing JupyterLab\\n            warning_div.innerHTML = \\\"WebIO does not support JupyterLab yet.\\\";\\n        }\\n    })();\\n    </script>\\n    <div\\n        id=\\\"webio-warning-5035077655054867987\\\"\\n        class=\\\"output_text output_stderr\\\"\\n        style=\\\"padding: 1em; font-weight: bold;\\\"\\n    >\\n        Unable to load WebIO. Please make sure WebIO works for your Jupyter client.\\n        <!-- TODO: link to installation docs. -->\\n    </div>\\n\")"
      ]
     },
     "metadata": {},
     "output_type": "display_data"
    }
   ],
   "source": [
    "using Interact, RowEchelon, LightGraphs, MetaGraphs, GraphPlot, NamedColors, LinearAlgebra\n",
    "import SymPy\n",
    "using SymPy: Sym"
   ]
  },
  {
   "cell_type": "markdown",
   "metadata": {},
   "source": [
    "## Julia Graph-visualization code\n",
    "\n",
    "There are several Julia packages for manipulating graphs, e.g. [LightGraphs](https://github.com/JuliaGraphs/LightGraphs.jl), along with several packages for visualizing graphs, e.g. [GraphViz](https://github.com/Keno/GraphViz.jl).  LightGraphs is oriented towards fast and sophisticated graph computations, however, and here I just want to do some simple and pretty visualizations with simple algorithms based on those in Strang's 18.06 textbook.\n",
    "\n",
    "So, here I define a simple `MyGraph` wrapper around LightGraphs directed graphs, with metadata attached via the MetaGraphs package, for basic plotting via the GraphPlots package."
   ]
  },
  {
   "cell_type": "code",
   "execution_count": 3,
   "metadata": {},
   "outputs": [
    {
     "data": {
      "text/plain": [
       "labels (generic function with 1 method)"
      ]
     },
     "execution_count": 3,
     "metadata": {},
     "output_type": "execute_result"
    }
   ],
   "source": [
    "struct MyGraph\n",
    "    g::MetaDiGraph\n",
    "end\n",
    "Base.copy(mg::MyGraph) = MyGraph(copy(mg.g))\n",
    "function MyGraph(edges::Pair{<:Integer,<:Integer}...)\n",
    "    g = SimpleDiGraphFromIterator(Edge(e) for e in edges)\n",
    "    MyGraph(MetaDiGraph(g))\n",
    "end\n",
    "\n",
    "using Random\n",
    "function deterministic_spring_layout(g::AbstractGraph; seed::Integer=0, kws...)\n",
    "    rng = MersenneTwister(seed)\n",
    "    spring_layout(g, 2 .* rand(rng, nv(g)) .- 1.0, 2 .* rand(rng,nv(g)) .- 1.0; kws...)\n",
    "end\n",
    "function Base.show(io::IO, m::MIME\"image/svg+xml\", mg::MyGraph)\n",
    "    show(io, m, \n",
    "         gplot(mg.g, layout=deterministic_spring_layout,\n",
    "               nodelabel=map(v -> get(MetaGraphs.props(mg.g, v), :label, v), vertices(mg.g)),\n",
    "               nodefillc=map(v -> get(MetaGraphs.props(mg.g, v), :color, \"gray\"), vertices(mg.g)),\n",
    "               edgelabel=map(ie -> get(MetaGraphs.props(mg.g, ie[2]), :label, ie[1]), enumerate(edges(mg.g))),\n",
    "               edgestrokec=map(e -> get(MetaGraphs.props(mg.g, e), :color, \"lightgray\"), edges(mg.g)),\n",
    "         ))\n",
    "end\n",
    "\n",
    "function nodecolors!(g::MyGraph, nodes::AbstractVector{<:Integer}, color::String=\"red\")\n",
    "    for n in nodes\n",
    "        set_prop!(g.g, n, :color, color)\n",
    "    end\n",
    "    g\n",
    "end\n",
    "nodecolors(g, nodes, color) = nodecolors!(copy(g), nodes, color)\n",
    "edgearr(g, e) = e\n",
    "edgearr(g, e::AbstractVector{<:Integer}) = collect(edges(g))[e]\n",
    "edgearr(g, e::AbstractVector{<:Pair}) = Edge.(e)\n",
    "function edgecolors!(g::MyGraph, edges::AbstractVector, color::String=\"red\")\n",
    "    for e in edgearr(g.g, edges)\n",
    "        set_prop!(g.g, e, :color, color)\n",
    "    end\n",
    "    g\n",
    "end\n",
    "edgecolors(g::MyGraph, edges::AbstractVector, color::String=\"red\") = edgecolors!(copy(g), edges, color)\n",
    "\n",
    "# A little code so that we can label graph nodes/edges with SymPy expressions.\n",
    "# convert strings like \"v_2 - v_0\" from SymPy to nicer Unicode strings like \"v₂ - v₀\"\n",
    "subchar(d::Integer) = Char(UInt32('₀')+d)\n",
    "subchar(c::Char) = subchar(UInt32(c)-UInt32('0'))\n",
    "subchar(s::String) = replace(s, r\"_[0-9]\" => s -> subchar(s[2]))\n",
    "labelstring(s::SymPy.Sym) = subchar(repr(\"text/plain\", s))\n",
    "labelstring(x) = x\n",
    "\n",
    "function labels!(g::MyGraph; edges=nothing, nodes=nothing)\n",
    "    if edges !== nothing\n",
    "        for (e,E) in zip(MetaGraphs.edges(g.g), edges)\n",
    "            set_prop!(g.g, e, :label, labelstring(E))\n",
    "        end\n",
    "    end\n",
    "    if nodes !== nothing\n",
    "        for (n,N) in zip(vertices(g.g), nodes)\n",
    "            set_prop!(g.g, n, :label, labelstring(N))\n",
    "        end\n",
    "    end\n",
    "    g\n",
    "end\n",
    "labels(g::MyGraph; kws...) = labels!(copy(g); kws...)"
   ]
  },
  {
   "cell_type": "code",
   "execution_count": 4,
   "metadata": {},
   "outputs": [
    {
     "data": {
      "text/plain": [
       "randgraph (generic function with 1 method)"
      ]
     },
     "execution_count": 4,
     "metadata": {},
     "output_type": "execute_result"
    }
   ],
   "source": [
    "# generate a random graph with a given average #edges per node\n",
    "function randgraph(numnodes::Integer, edgespernode::Real)\n",
    "    p = edgespernode/numnodes # probability of each edge\n",
    "    e = Vector{Pair{Int,Int}}()\n",
    "    for i = 1:numnodes, j = 1:numnodes\n",
    "        if i != j && rand() < p\n",
    "            push!(e, i=>j)\n",
    "        end\n",
    "    end\n",
    "    return MyGraph(e...)\n",
    "end"
   ]
  },
  {
   "cell_type": "code",
   "execution_count": 5,
   "metadata": {},
   "outputs": [
    {
     "data": {
      "text/plain": [
       "incidence (generic function with 1 method)"
      ]
     },
     "execution_count": 5,
     "metadata": {},
     "output_type": "execute_result"
    }
   ],
   "source": [
    "# returns the incidence matrix for g\n",
    "function incidence(g::MyGraph)\n",
    "    A = zeros(Int, ne(g.g), nv(g.g))\n",
    "    for (i,e) in enumerate(edges(g.g))\n",
    "        A[i,e.src] = -1\n",
    "        A[i,e.dst] = +1\n",
    "    end\n",
    "    return A\n",
    "end"
   ]
  },
  {
   "cell_type": "code",
   "execution_count": 6,
   "metadata": {},
   "outputs": [
    {
     "data": {
      "text/plain": [
       "leftnullspace (generic function with 1 method)"
      ]
     },
     "execution_count": 6,
     "metadata": {},
     "output_type": "execute_result"
    }
   ],
   "source": [
    "# Find the loops in g by the simplest \"textbook\" manner:\n",
    "# get a basis for the left nullspace incidence matrix.\n",
    "# We do this via the rref form, rather than nullspace(A'), because\n",
    "# we want a \"nice\" basis of ±1 and 0 entries.\n",
    "function leftnullspace(g::MyGraph)\n",
    "    A = incidence(g)\n",
    "    R = rref(Matrix(A'))\n",
    "    m, n = size(R)\n",
    "    pivots = Int[]\n",
    "    for i = 1:m\n",
    "        j = findfirst(!iszero, R[i,:])\n",
    "        j !== nothing && push!(pivots, j)\n",
    "    end\n",
    "    r = length(pivots) # rank\n",
    "    free = Int[j for j=1:n if j ∉ pivots]\n",
    "    N = zeros(Int, n, n-r)\n",
    "    k = 0\n",
    "    for (k,j) in enumerate(free)\n",
    "        N[pivots, k] = -R[1:r, j]\n",
    "        N[j, k] = 1\n",
    "    end\n",
    "    return N\n",
    "end"
   ]
  },
  {
   "cell_type": "code",
   "execution_count": 7,
   "metadata": {},
   "outputs": [
    {
     "data": {
      "text/plain": [
       "tree (generic function with 1 method)"
      ]
     },
     "execution_count": 7,
     "metadata": {},
     "output_type": "execute_result"
    }
   ],
   "source": [
    "# color the edges of a spanning tree of g, by the textbook\n",
    "# method of finding the pivot rows of the incidence matrix\n",
    "function pivotrows(g::MyGraph)\n",
    "    A = incidence(g)\n",
    "    R = rref(Matrix(A'))\n",
    "    m, n = size(R)\n",
    "    pivots = Int[]\n",
    "    for i = 1:m\n",
    "        j = findfirst(!iszero, R[i,:])\n",
    "        j !== nothing && push!(pivots, j)\n",
    "    end\n",
    "    return pivots\n",
    "end\n",
    "colortree(g::MyGraph, color::String=\"red\") = edgecolors(g, pivotrows(g), color)\n",
    "tree(g::MyGraph) = MyGraph(MetaDiGraph(SimpleDiGraphFromIterator(edgearr(g.g, pivotrows(g)))))"
   ]
  },
  {
   "cell_type": "markdown",
   "metadata": {},
   "source": [
    "## Graphs and incidence matrices\n",
    "\n",
    "Let's start by looking at an example graph with 6 nodes 8 edges.  Computers are pretty good at drawing graphs for us:"
   ]
  },
  {
   "cell_type": "code",
   "execution_count": 8,
   "metadata": {},
   "outputs": [
    {
     "data": {
      "image/svg+xml": [
       "<?xml version=\"1.0\" encoding=\"UTF-8\"?>\n",
       "<svg xmlns=\"http://www.w3.org/2000/svg\"\n",
       "     xmlns:xlink=\"http://www.w3.org/1999/xlink\"\n",
       "     version=\"1.2\"\n",
       "     width=\"141.42mm\" height=\"100mm\" viewBox=\"0 0 141.42 100\"\n",
       "     stroke=\"none\"\n",
       "     fill=\"#000000\"\n",
       "     stroke-width=\"0.3\"\n",
       "     font-size=\"3.88\"\n",
       ">\n",
       "<defs>\n",
       "  <marker id=\"arrow\" markerWidth=\"15\" markerHeight=\"7\" refX=\"5\" refY=\"3.5\" orient=\"auto\" markerUnits=\"strokeWidth\">\n",
       "    <path d=\"M0,0 L15,3.5 L0,7 z\" stroke=\"context-stroke\" fill=\"context-stroke\"/>\n",
       "  </marker>\n",
       "</defs>\n",
       "<g stroke-width=\"1.22\" fill=\"#000000\" fill-opacity=\"0.000\" id=\"img-7f87197a-1\">\n",
       "  <g transform=\"translate(101.62,69.71)\" stroke=\"#D3D3D3\">\n",
       "    <path fill=\"none\" d=\"M22.98,-10.57 L -22.98 10.57\" class=\"primitive\"/>\n",
       "  </g>\n",
       "  <g transform=\"translate(106.66,40.76)\" stroke=\"#D3D3D3\">\n",
       "    <path fill=\"none\" d=\"M-18.7,-13.08 L 18.7 13.08\" class=\"primitive\"/>\n",
       "  </g>\n",
       "  <g transform=\"translate(58.22,37.58)\" stroke=\"#D3D3D3\">\n",
       "    <path fill=\"none\" d=\"M20.58,-10.42 L -20.58 10.42\" class=\"primitive\"/>\n",
       "  </g>\n",
       "  <g transform=\"translate(55.5,16.51)\" stroke=\"#D3D3D3\">\n",
       "    <path fill=\"none\" d=\"M-22.63,-6.56 L 22.63 6.56\" class=\"primitive\"/>\n",
       "  </g>\n",
       "  <g transform=\"translate(42.69,87.13)\" stroke=\"#D3D3D3\">\n",
       "    <path fill=\"none\" d=\"M25.02,-3.67 L -25.02 3.67\" class=\"primitive\"/>\n",
       "  </g>\n",
       "  <g transform=\"translate(53.18,66.53)\" stroke=\"#D3D3D3\">\n",
       "    <path fill=\"none\" d=\"M16.4,12.9 L -16.4 -12.9\" class=\"primitive\"/>\n",
       "  </g>\n",
       "  <g transform=\"translate(22.27,71.07)\" stroke=\"#D3D3D3\">\n",
       "    <path fill=\"none\" d=\"M-8.45,16.59 L 8.45 -16.59\" class=\"primitive\"/>\n",
       "  </g>\n",
       "  <g transform=\"translate(30.03,29.41)\" stroke=\"#D3D3D3\">\n",
       "    <path fill=\"none\" d=\"M2.18,16.84 L -2.18 -16.84\" class=\"primitive\"/>\n",
       "  </g>\n",
       "</g>\n",
       "<g stroke-width=\"1.22\" id=\"img-7f87197a-2\">\n",
       "  <g transform=\"translate(81.74,78.85)\" stroke=\"#D3D3D3\">\n",
       "    <path fill=\"none\" d=\"M2.65,0.48 L -3.09 1.42 0.45 -1.91\" class=\"primitive\"/>\n",
       "  </g>\n",
       "  <g transform=\"translate(122.74,52)\" stroke=\"#D3D3D3\">\n",
       "    <path fill=\"none\" d=\"M0.1,-1.93 L 2.62 1.84 -2.73 0.1\" class=\"primitive\"/>\n",
       "  </g>\n",
       "  <g transform=\"translate(40.64,46.48)\" stroke=\"#D3D3D3\">\n",
       "    <path fill=\"none\" d=\"M2.67,0.4 L -3 1.52 0.33 -1.92\" class=\"primitive\"/>\n",
       "  </g>\n",
       "  <g transform=\"translate(74.71,22.08)\" stroke=\"#D3D3D3\">\n",
       "    <path fill=\"none\" d=\"M-0.94,-1.81 L 3.42 0.99 -2.47 0.82\" class=\"primitive\"/>\n",
       "  </g>\n",
       "  <g transform=\"translate(21.29,90.27)\" stroke=\"#D3D3D3\">\n",
       "    <path fill=\"none\" d=\"M2.22,1.13 L -3.61 0.53 1.4 -1.66\" class=\"primitive\"/>\n",
       "  </g>\n",
       "  <g transform=\"translate(39.24,55.58)\" stroke=\"#D3D3D3\">\n",
       "    <path fill=\"none\" d=\"M-0.26,1.92 L -2.47 -1.94 2.73 0.02\" class=\"primitive\"/>\n",
       "  </g>\n",
       "  <g transform=\"translate(29.46,56.93)\" stroke=\"#D3D3D3\">\n",
       "    <path fill=\"none\" d=\"M-2.52,0.75 L 1.25 -2.46 1.27 1.71\" class=\"primitive\"/>\n",
       "  </g>\n",
       "  <g transform=\"translate(28.19,15.17)\" stroke=\"#D3D3D3\">\n",
       "    <path fill=\"none\" d=\"M-1.84,1.43 L -0.34 -2.6 2.18 1.17\" class=\"primitive\"/>\n",
       "  </g>\n",
       "</g>\n",
       "<g font-size=\"4\" stroke=\"#000000\" stroke-opacity=\"0.000\" fill=\"#000000\" id=\"img-7f87197a-3\">\n",
       "  <g transform=\"translate(87.61,76.15)\">\n",
       "    <g class=\"primitive\">\n",
       "      <text text-anchor=\"middle\" dy=\"0.35em\">1</text>\n",
       "    </g>\n",
       "  </g>\n",
       "  <g transform=\"translate(118.15,48.79)\">\n",
       "    <g class=\"primitive\">\n",
       "      <text text-anchor=\"middle\" dy=\"0.35em\">2</text>\n",
       "    </g>\n",
       "  </g>\n",
       "  <g transform=\"translate(45.49,44.03)\">\n",
       "    <g class=\"primitive\">\n",
       "      <text text-anchor=\"middle\" dy=\"0.35em\">3</text>\n",
       "    </g>\n",
       "  </g>\n",
       "  <g transform=\"translate(69.59,20.6)\">\n",
       "    <g class=\"primitive\">\n",
       "      <text text-anchor=\"middle\" dy=\"0.35em\">4</text>\n",
       "    </g>\n",
       "  </g>\n",
       "  <g transform=\"translate(27.24,89.4)\">\n",
       "    <g class=\"primitive\">\n",
       "      <text text-anchor=\"middle\" dy=\"0.35em\">5</text>\n",
       "    </g>\n",
       "  </g>\n",
       "  <g transform=\"translate(42.96,58.51)\">\n",
       "    <g class=\"primitive\">\n",
       "      <text text-anchor=\"middle\" dy=\"0.35em\">6</text>\n",
       "    </g>\n",
       "  </g>\n",
       "  <g transform=\"translate(27.51,60.77)\">\n",
       "    <g class=\"primitive\">\n",
       "      <text text-anchor=\"middle\" dy=\"0.35em\">7</text>\n",
       "    </g>\n",
       "  </g>\n",
       "  <g transform=\"translate(28.66,18.87)\">\n",
       "    <g class=\"primitive\">\n",
       "      <text text-anchor=\"middle\" dy=\"0.35em\">8</text>\n",
       "    </g>\n",
       "  </g>\n",
       "</g>\n",
       "<g stroke-width=\"0\" stroke=\"#000000\" stroke-opacity=\"0.000\" id=\"img-7f87197a-4\">\n",
       "  <g transform=\"translate(129.64,56.82)\" fill=\"#808080\">\n",
       "    <circle cx=\"0\" cy=\"0\" r=\"5.77\" class=\"primitive\"/>\n",
       "  </g>\n",
       "  <g transform=\"translate(83.69,24.69)\" fill=\"#808080\">\n",
       "    <circle cx=\"0\" cy=\"0\" r=\"5.77\" class=\"primitive\"/>\n",
       "  </g>\n",
       "  <g transform=\"translate(27.3,8.33)\" fill=\"#808080\">\n",
       "    <circle cx=\"0\" cy=\"0\" r=\"5.77\" class=\"primitive\"/>\n",
       "  </g>\n",
       "  <g transform=\"translate(73.6,82.59)\" fill=\"#808080\">\n",
       "    <circle cx=\"0\" cy=\"0\" r=\"5.77\" class=\"primitive\"/>\n",
       "  </g>\n",
       "  <g transform=\"translate(11.79,91.67)\" fill=\"#808080\">\n",
       "    <circle cx=\"0\" cy=\"0\" r=\"5.77\" class=\"primitive\"/>\n",
       "  </g>\n",
       "  <g transform=\"translate(32.75,50.48)\" fill=\"#808080\">\n",
       "    <circle cx=\"0\" cy=\"0\" r=\"5.77\" class=\"primitive\"/>\n",
       "  </g>\n",
       "</g>\n",
       "<g font-size=\"4\" stroke=\"#000000\" stroke-opacity=\"0.000\" fill=\"#000000\" id=\"img-7f87197a-5\">\n",
       "  <g transform=\"translate(129.64,56.82)\">\n",
       "    <g class=\"primitive\">\n",
       "      <text text-anchor=\"middle\" dy=\"0.35em\">1</text>\n",
       "    </g>\n",
       "  </g>\n",
       "  <g transform=\"translate(83.69,24.69)\">\n",
       "    <g class=\"primitive\">\n",
       "      <text text-anchor=\"middle\" dy=\"0.35em\">2</text>\n",
       "    </g>\n",
       "  </g>\n",
       "  <g transform=\"translate(27.3,8.33)\">\n",
       "    <g class=\"primitive\">\n",
       "      <text text-anchor=\"middle\" dy=\"0.35em\">3</text>\n",
       "    </g>\n",
       "  </g>\n",
       "  <g transform=\"translate(73.6,82.59)\">\n",
       "    <g class=\"primitive\">\n",
       "      <text text-anchor=\"middle\" dy=\"0.35em\">4</text>\n",
       "    </g>\n",
       "  </g>\n",
       "  <g transform=\"translate(11.79,91.67)\">\n",
       "    <g class=\"primitive\">\n",
       "      <text text-anchor=\"middle\" dy=\"0.35em\">5</text>\n",
       "    </g>\n",
       "  </g>\n",
       "  <g transform=\"translate(32.75,50.48)\">\n",
       "    <g class=\"primitive\">\n",
       "      <text text-anchor=\"middle\" dy=\"0.35em\">6</text>\n",
       "    </g>\n",
       "  </g>\n",
       "</g>\n",
       "</svg>\n"
      ],
      "text/plain": [
       "MyGraph({6, 8} directed Int64 metagraph with Float64 weights defined by :weight (default weight 1.0))"
      ]
     },
     "execution_count": 8,
     "metadata": {},
     "output_type": "execute_result"
    }
   ],
   "source": [
    "g = MyGraph(1=>4, 4=>5, 5=>6, 6=>3, 3=>2, 2=>1, 2=>6, 4=>6)"
   ]
  },
  {
   "cell_type": "markdown",
   "metadata": {},
   "source": [
    "A key way to represent a graph in linear algebra is the [incidence matrix](https://en.wikipedia.org/wiki/Incidence_matrix).  As defined in Strang's textbook, this is a matrix where the **rows correspond to edges** and the **columns correspond to nodes**.  (Some authors use the transpose of this instead.)\n",
    "\n",
    "In particular, in the row for each edge going **from node N to node M**, there is a **-1 in column N** and a **+1 in column N**.\n",
    "\n",
    "For example, the incidence matrix of the graph above is:"
   ]
  },
  {
   "cell_type": "code",
   "execution_count": 9,
   "metadata": {},
   "outputs": [
    {
     "data": {
      "text/plain": [
       "8×6 Array{Int64,2}:\n",
       " -1   0   0   1   0   0\n",
       "  1  -1   0   0   0   0\n",
       "  0  -1   0   0   0   1\n",
       "  0   1  -1   0   0   0\n",
       "  0   0   0  -1   1   0\n",
       "  0   0   0  -1   0   1\n",
       "  0   0   0   0  -1   1\n",
       "  0   0   1   0   0  -1"
      ]
     },
     "execution_count": 9,
     "metadata": {},
     "output_type": "execute_result"
    }
   ],
   "source": [
    "A = incidence(g)"
   ]
  },
  {
   "cell_type": "markdown",
   "metadata": {},
   "source": [
    "There is an interesting structure if you think about *loops* in the graph.  For example, in the graph above there is a loop among nodes 6, 3, 2, via edges 4,3,8.  Let's look at the rows of $A$ corresponding to those edges:"
   ]
  },
  {
   "cell_type": "code",
   "execution_count": 10,
   "metadata": {},
   "outputs": [
    {
     "data": {
      "text/plain": [
       "3×6 Array{Int64,2}:\n",
       " 0   1  -1  0  0   0\n",
       " 0  -1   0  0  0   1\n",
       " 0   0   1  0  0  -1"
      ]
     },
     "execution_count": 10,
     "metadata": {},
     "output_type": "execute_result"
    }
   ],
   "source": [
    "A[[4,3,8],:]"
   ]
  },
  {
   "cell_type": "markdown",
   "metadata": {},
   "source": [
    "If we **add these rows** we get **zero**:"
   ]
  },
  {
   "cell_type": "code",
   "execution_count": 11,
   "metadata": {},
   "outputs": [
    {
     "data": {
      "text/plain": [
       "1×6 Adjoint{Int64,Array{Int64,1}}:\n",
       " 0  0  0  0  0  0"
      ]
     },
     "execution_count": 11,
     "metadata": {},
     "output_type": "execute_result"
    }
   ],
   "source": [
    "A[4,:]' + A[3,:]' + A[8,:]'"
   ]
  },
  {
   "cell_type": "markdown",
   "metadata": {},
   "source": [
    "In general, it is easy to see that **any loop in the graph** corresponds to **dependent rows**: if we sum the rows going around the loop (with a minus sign for arrows in the wrong direction), we get zero.\n",
    "\n",
    "The reason is simple: we get a -1 in a column when we *leave* a node, and a +1 in the column when we *enter* a node.  When we go around the loop, we leave and enter each node, so the sum is zero.\n",
    "\n",
    "But dependent rows correspond to **elements of the left nullspace**:"
   ]
  },
  {
   "cell_type": "code",
   "execution_count": 12,
   "metadata": {},
   "outputs": [
    {
     "data": {
      "text/plain": [
       "1×6 Array{Int64,2}:\n",
       " 0  0  0  0  0  0"
      ]
     },
     "execution_count": 12,
     "metadata": {},
     "output_type": "execute_result"
    }
   ],
   "source": [
    "[0 0 1 1 0 0 0 1] * A"
   ]
  },
  {
   "cell_type": "markdown",
   "metadata": {},
   "source": [
    "That means that the number of \"independent\" (primitive) loops in a graph is related to the **rank** of the incidence matrix, and the **independent rows of A have no loops**.\n",
    "\n",
    "Let's look at the row-reduced echelon (rref) form of $A^T$:"
   ]
  },
  {
   "cell_type": "code",
   "execution_count": 13,
   "metadata": {},
   "outputs": [
    {
     "data": {
      "text/plain": [
       "6×8 Array{Int64,2}:\n",
       " 1  0  0  0  0  -1  -1   0\n",
       " 0  1  0  0  0  -1  -1   0\n",
       " 0  0  1  0  0   1   1  -1\n",
       " 0  0  0  1  0   0   0  -1\n",
       " 0  0  0  0  1   0  -1   0\n",
       " 0  0  0  0  0   0   0   0"
      ]
     },
     "execution_count": 13,
     "metadata": {},
     "output_type": "execute_result"
    }
   ],
   "source": [
    "Matrix{Int}(rref(Matrix(A')))"
   ]
  },
  {
   "cell_type": "markdown",
   "metadata": {},
   "source": [
    "We can see that the rank of $A$ is 5:"
   ]
  },
  {
   "cell_type": "code",
   "execution_count": 14,
   "metadata": {},
   "outputs": [
    {
     "data": {
      "text/plain": [
       "5"
      ]
     },
     "execution_count": 14,
     "metadata": {},
     "output_type": "execute_result"
    }
   ],
   "source": [
    "rank(A)"
   ]
  },
  {
   "cell_type": "markdown",
   "metadata": {},
   "source": [
    "This means that there are **five loop-free (independent) edges**, and there are **three** (8 - 5) primitive loops.  Using the rref form of $A^T$, we can read off a basis for the left nullspace from the free columns (6,7,8):"
   ]
  },
  {
   "cell_type": "code",
   "execution_count": 15,
   "metadata": {},
   "outputs": [
    {
     "data": {
      "text/plain": [
       "8×3 Array{Int64,2}:\n",
       "  1   1  0\n",
       "  1   1  0\n",
       " -1  -1  1\n",
       "  0   0  1\n",
       "  0   1  0\n",
       "  1   0  0\n",
       "  0   1  0\n",
       "  0   0  1"
      ]
     },
     "execution_count": 15,
     "metadata": {},
     "output_type": "execute_result"
    }
   ],
   "source": [
    "N = leftnullspace(g)"
   ]
  },
  {
   "cell_type": "code",
   "execution_count": 16,
   "metadata": {},
   "outputs": [
    {
     "data": {
      "text/plain": [
       "6×3 Array{Int64,2}:\n",
       " 0  0  0\n",
       " 0  0  0\n",
       " 0  0  0\n",
       " 0  0  0\n",
       " 0  0  0\n",
       " 0  0  0"
      ]
     },
     "execution_count": 16,
     "metadata": {},
     "output_type": "execute_result"
    }
   ],
   "source": [
    "A' * N"
   ]
  },
  {
   "cell_type": "markdown",
   "metadata": {},
   "source": [
    "Let's visualize these loops by plotting the edges in a different color (red) one by one,\n",
    "with help from the Interact package to give us an interactive widget:"
   ]
  },
  {
   "cell_type": "code",
   "execution_count": 17,
   "metadata": {},
   "outputs": [
    {
     "data": {
      "text/plain": [
       "animloops (generic function with 1 method)"
      ]
     },
     "execution_count": 17,
     "metadata": {},
     "output_type": "execute_result"
    }
   ],
   "source": [
    "colorloop(g::MyGraph, n::Vector) = edgecolors!(edgecolors(g, findall(n .> 0), \"red\"), findall(n .< 0), \"blue\")\n",
    "function animloops(g::MyGraph)\n",
    "    L = leftnullspace(g)\n",
    "    @manipulate for loop in 1:size(L,2)\n",
    "        colorloop(g, L[:,loop])\n",
    "    end\n",
    "end"
   ]
  },
  {
   "cell_type": "code",
   "execution_count": 18,
   "metadata": {},
   "outputs": [
    {
     "data": {
      "application/vnd.webio.node+json": {
       "children": [
        {
         "children": [
          {
           "children": [
            {
             "children": [
              {
               "children": [
                {
                 "children": [
                  "loop"
                 ],
                 "instanceArgs": {
                  "namespace": "html",
                  "tag": "label"
                 },
                 "nodeType": "DOM",
                 "props": {
                  "className": "interact ",
                  "style": {
                   "padding": "5px 10px 0px 10px"
                  }
                 },
                 "type": "node"
                }
               ],
               "instanceArgs": {
                "namespace": "html",
                "tag": "div"
               },
               "nodeType": "DOM",
               "props": {
                "attributes": {
                 "style": "text-align:right;width:18%"
                }
               },
               "type": "node"
              },
              {
               "children": [
                {
                 "children": [],
                 "instanceArgs": {
                  "namespace": "html",
                  "tag": "input"
                 },
                 "nodeType": "DOM",
                 "props": {
                  "attributes": {
                   "data-bind": "numericValue: value, valueUpdate: 'input', event: {change : function () {this.changes(this.changes()+1)}}",
                   "orient": "horizontal",
                   "type": "range"
                  },
                  "className": "slider slider is-fullwidth",
                  "max": 3,
                  "min": 1,
                  "step": 1,
                  "style": {}
                 },
                 "type": "node"
                }
               ],
               "instanceArgs": {
                "namespace": "html",
                "tag": "div"
               },
               "nodeType": "DOM",
               "props": {
                "attributes": {
                 "style": "flex-grow:1; margin: 0 2%"
                }
               },
               "type": "node"
              },
              {
               "children": [
                {
                 "children": [],
                 "instanceArgs": {
                  "namespace": "html",
                  "tag": "p"
                 },
                 "nodeType": "DOM",
                 "props": {
                  "attributes": {
                   "data-bind": "text: value"
                  }
                 },
                 "type": "node"
                }
               ],
               "instanceArgs": {
                "namespace": "html",
                "tag": "div"
               },
               "nodeType": "DOM",
               "props": {
                "attributes": {
                 "style": "width:18%"
                }
               },
               "type": "node"
              }
             ],
             "instanceArgs": {
              "namespace": "html",
              "tag": "div"
             },
             "nodeType": "DOM",
             "props": {
              "attributes": {
               "style": "display:flex; justify-content:center; align-items:center;"
              }
             },
             "type": "node"
            }
           ],
           "instanceArgs": {
            "handlers": {
             "_promises": {
              "importsLoaded": [
               "function (ko, koPunches) {\n    ko.punches.enableAll();\n    ko.bindingHandlers.numericValue = {\n        init : function(element, valueAccessor, allBindings, data, context) {\n            var stringified = ko.observable(ko.unwrap(valueAccessor()));\n            stringified.subscribe(function(value) {\n                var val = parseFloat(value);\n                if (!isNaN(val)) {\n                    valueAccessor()(val);\n                }\n            })\n            valueAccessor().subscribe(function(value) {\n                var str = JSON.stringify(value);\n                if ((str == \"0\") && ([\"-0\", \"-0.\"].indexOf(stringified()) >= 0))\n                     return;\n                 if ([\"null\", \"\"].indexOf(str) >= 0)\n                     return;\n                stringified(str);\n            })\n            ko.applyBindingsToNode(element, { value: stringified, valueUpdate: allBindings.get('valueUpdate')}, context);\n        }\n    };\n    var json_data = JSON.parse(\"{\\\"changes\\\":0,\\\"value\\\":2}\");\n    var self = this;\n    function AppViewModel() {\n        for (var key in json_data) {\n            var el = json_data[key];\n            this[key] = Array.isArray(el) ? ko.observableArray(el) : ko.observable(el);\n        }\n        \n        \n        [this[\"changes\"].subscribe((function (val){!(this.valueFromJulia[\"changes\"]) ? (_webIOScope.setObservableValue({\"name\":\"changes\",\"scope\":\"knockout-component-5e5894c4-4d5a-4120-94d2-9404bbe983c5\",\"id\":\"ob_02\",\"type\":\"observable\"},val)) : undefined; return this.valueFromJulia[\"changes\"]=false}),self),this[\"value\"].subscribe((function (val){!(this.valueFromJulia[\"value\"]) ? (_webIOScope.setObservableValue({\"name\":\"value\",\"scope\":\"knockout-component-5e5894c4-4d5a-4120-94d2-9404bbe983c5\",\"id\":\"ob_01\",\"type\":\"observable\"},val)) : undefined; return this.valueFromJulia[\"value\"]=false}),self)]\n        \n    }\n    self.model = new AppViewModel();\n    self.valueFromJulia = {};\n    for (var key in json_data) {\n        self.valueFromJulia[key] = false;\n    }\n    ko.applyBindings(self.model, self.dom);\n}\n"
              ]
             },
             "changes": [
              "(function (val){return (val!=this.model[\"changes\"]()) ? (this.valueFromJulia[\"changes\"]=true, this.model[\"changes\"](val)) : undefined})"
             ],
             "value": [
              "(function (val){return (val!=this.model[\"value\"]()) ? (this.valueFromJulia[\"value\"]=true, this.model[\"value\"](val)) : undefined})"
             ]
            },
            "id": "knockout-component-5e5894c4-4d5a-4120-94d2-9404bbe983c5",
            "imports": {
             "data": [
              {
               "name": "knockout",
               "type": "js",
               "url": "/assetserver/429ea4842967203db7a2e10862642c116542d0e4-knockout.js"
              },
              {
               "name": "knockout_punches",
               "type": "js",
               "url": "/assetserver/9998dbb29ca780269e6886a8c8c4b78bb9a73c26-knockout_punches.js"
              },
              {
               "name": null,
               "type": "js",
               "url": "/assetserver/6ee7ce3a8d8fbffe6a5785768ec923478100c144-all.js"
              },
              {
               "name": null,
               "type": "css",
               "url": "/assetserver/255cc2d911924b0ffa0f74016aac5f640f90a396-style.css"
              },
              {
               "name": null,
               "type": "css",
               "url": "/assetserver/66a9780e4509d09169a66d890937410d69e4da42-main.css"
              }
             ],
             "type": "async_block"
            },
            "observables": {
             "changes": {
              "id": "ob_02",
              "sync": false,
              "value": 0
             },
             "value": {
              "id": "ob_01",
              "sync": true,
              "value": 2
             }
            },
            "systemjs_options": null
           },
           "nodeType": "Scope",
           "props": {},
           "type": "node"
          }
         ],
         "instanceArgs": {
          "namespace": "html",
          "tag": "div"
         },
         "nodeType": "DOM",
         "props": {
          "className": "field"
         },
         "type": "node"
        },
        {
         "children": [
          {
           "children": [],
           "instanceArgs": {
            "id": "ob_07",
            "name": "obs-node"
           },
           "nodeType": "ObservableNode",
           "props": {},
           "type": "node"
          }
         ],
         "instanceArgs": {
          "handlers": {},
          "id": "scope-48d3cb39-301d-48b2-bf09-1d8d82dd38c9",
          "imports": {
           "data": [],
           "type": "async_block"
          },
          "observables": {
           "obs-node": {
            "id": "ob_07",
            "sync": false,
            "value": {
             "children": [
              {
               "children": [],
               "instanceArgs": {
                "namespace": "html",
                "tag": "div"
               },
               "nodeType": "DOM",
               "props": {
                "setInnerHtml": "<?xml version=\"1.0\" encoding=\"UTF-8\"?>\n<svg xmlns=\"http://www.w3.org/2000/svg\"\n     xmlns:xlink=\"http://www.w3.org/1999/xlink\"\n     version=\"1.2\"\n     width=\"141.42mm\" height=\"100mm\" viewBox=\"0 0 141.42 100\"\n     stroke=\"none\"\n     fill=\"#000000\"\n     stroke-width=\"0.3\"\n     font-size=\"3.88\"\n>\n<defs>\n  <marker id=\"arrow\" markerWidth=\"15\" markerHeight=\"7\" refX=\"5\" refY=\"3.5\" orient=\"auto\" markerUnits=\"strokeWidth\">\n    <path d=\"M0,0 L15,3.5 L0,7 z\" stroke=\"context-stroke\" fill=\"context-stroke\"/>\n  </marker>\n</defs>\n<g stroke-width=\"1.22\" fill=\"#000000\" fill-opacity=\"0.000\" id=\"img-c34a0438-1\">\n  <g transform=\"translate(101.62,69.71)\" stroke=\"#FF0000\">\n    <path fill=\"none\" d=\"M22.98,-10.57 L -22.98 10.57\" class=\"primitive\"/>\n  </g>\n  <g transform=\"translate(106.66,40.76)\" stroke=\"#FF0000\">\n    <path fill=\"none\" d=\"M-18.7,-13.08 L 18.7 13.08\" class=\"primitive\"/>\n  </g>\n  <g transform=\"translate(58.22,37.58)\" stroke=\"#0000FF\">\n    <path fill=\"none\" d=\"M20.58,-10.42 L -20.58 10.42\" class=\"primitive\"/>\n  </g>\n  <g transform=\"translate(55.5,16.51)\" stroke=\"#D3D3D3\">\n    <path fill=\"none\" d=\"M-22.63,-6.56 L 22.63 6.56\" class=\"primitive\"/>\n  </g>\n  <g transform=\"translate(42.69,87.13)\" stroke=\"#FF0000\">\n    <path fill=\"none\" d=\"M25.02,-3.67 L -25.02 3.67\" class=\"primitive\"/>\n  </g>\n  <g transform=\"translate(53.18,66.53)\" stroke=\"#D3D3D3\">\n    <path fill=\"none\" d=\"M16.4,12.9 L -16.4 -12.9\" class=\"primitive\"/>\n  </g>\n  <g transform=\"translate(22.27,71.07)\" stroke=\"#FF0000\">\n    <path fill=\"none\" d=\"M-8.45,16.59 L 8.45 -16.59\" class=\"primitive\"/>\n  </g>\n  <g transform=\"translate(30.03,29.41)\" stroke=\"#D3D3D3\">\n    <path fill=\"none\" d=\"M2.18,16.84 L -2.18 -16.84\" class=\"primitive\"/>\n  </g>\n</g>\n<g stroke-width=\"1.22\" id=\"img-c34a0438-2\">\n  <g transform=\"translate(81.74,78.85)\" stroke=\"#FF0000\">\n    <path fill=\"none\" d=\"M2.65,0.48 L -3.09 1.42 0.45 -1.91\" class=\"primitive\"/>\n  </g>\n  <g transform=\"translate(122.74,52)\" stroke=\"#FF0000\">\n    <path fill=\"none\" d=\"M0.1,-1.93 L 2.62 1.84 -2.73 0.1\" class=\"primitive\"/>\n  </g>\n  <g transform=\"translate(40.64,46.48)\" stroke=\"#0000FF\">\n    <path fill=\"none\" d=\"M2.67,0.4 L -3 1.52 0.33 -1.92\" class=\"primitive\"/>\n  </g>\n  <g transform=\"translate(74.71,22.08)\" stroke=\"#D3D3D3\">\n    <path fill=\"none\" d=\"M-0.94,-1.81 L 3.42 0.99 -2.47 0.82\" class=\"primitive\"/>\n  </g>\n  <g transform=\"translate(21.29,90.27)\" stroke=\"#FF0000\">\n    <path fill=\"none\" d=\"M2.22,1.13 L -3.61 0.53 1.4 -1.66\" class=\"primitive\"/>\n  </g>\n  <g transform=\"translate(39.24,55.58)\" stroke=\"#D3D3D3\">\n    <path fill=\"none\" d=\"M-0.26,1.92 L -2.47 -1.94 2.73 0.02\" class=\"primitive\"/>\n  </g>\n  <g transform=\"translate(29.46,56.93)\" stroke=\"#FF0000\">\n    <path fill=\"none\" d=\"M-2.52,0.75 L 1.25 -2.46 1.27 1.71\" class=\"primitive\"/>\n  </g>\n  <g transform=\"translate(28.19,15.17)\" stroke=\"#D3D3D3\">\n    <path fill=\"none\" d=\"M-1.84,1.43 L -0.34 -2.6 2.18 1.17\" class=\"primitive\"/>\n  </g>\n</g>\n<g font-size=\"4\" stroke=\"#000000\" stroke-opacity=\"0.000\" fill=\"#000000\" id=\"img-c34a0438-3\">\n  <g transform=\"translate(87.61,76.15)\">\n    <g class=\"primitive\">\n      <text text-anchor=\"middle\" dy=\"0.35em\">1</text>\n    </g>\n  </g>\n  <g transform=\"translate(118.15,48.79)\">\n    <g class=\"primitive\">\n      <text text-anchor=\"middle\" dy=\"0.35em\">2</text>\n    </g>\n  </g>\n  <g transform=\"translate(45.49,44.03)\">\n    <g class=\"primitive\">\n      <text text-anchor=\"middle\" dy=\"0.35em\">3</text>\n    </g>\n  </g>\n  <g transform=\"translate(69.59,20.6)\">\n    <g class=\"primitive\">\n      <text text-anchor=\"middle\" dy=\"0.35em\">4</text>\n    </g>\n  </g>\n  <g transform=\"translate(27.24,89.4)\">\n    <g class=\"primitive\">\n      <text text-anchor=\"middle\" dy=\"0.35em\">5</text>\n    </g>\n  </g>\n  <g transform=\"translate(42.96,58.51)\">\n    <g class=\"primitive\">\n      <text text-anchor=\"middle\" dy=\"0.35em\">6</text>\n    </g>\n  </g>\n  <g transform=\"translate(27.51,60.77)\">\n    <g class=\"primitive\">\n      <text text-anchor=\"middle\" dy=\"0.35em\">7</text>\n    </g>\n  </g>\n  <g transform=\"translate(28.66,18.87)\">\n    <g class=\"primitive\">\n      <text text-anchor=\"middle\" dy=\"0.35em\">8</text>\n    </g>\n  </g>\n</g>\n<g stroke-width=\"0\" stroke=\"#000000\" stroke-opacity=\"0.000\" id=\"img-c34a0438-4\">\n  <g transform=\"translate(129.64,56.82)\" fill=\"#808080\">\n    <circle cx=\"0\" cy=\"0\" r=\"5.77\" class=\"primitive\"/>\n  </g>\n  <g transform=\"translate(83.69,24.69)\" fill=\"#808080\">\n    <circle cx=\"0\" cy=\"0\" r=\"5.77\" class=\"primitive\"/>\n  </g>\n  <g transform=\"translate(27.3,8.33)\" fill=\"#808080\">\n    <circle cx=\"0\" cy=\"0\" r=\"5.77\" class=\"primitive\"/>\n  </g>\n  <g transform=\"translate(73.6,82.59)\" fill=\"#808080\">\n    <circle cx=\"0\" cy=\"0\" r=\"5.77\" class=\"primitive\"/>\n  </g>\n  <g transform=\"translate(11.79,91.67)\" fill=\"#808080\">\n    <circle cx=\"0\" cy=\"0\" r=\"5.77\" class=\"primitive\"/>\n  </g>\n  <g transform=\"translate(32.75,50.48)\" fill=\"#808080\">\n    <circle cx=\"0\" cy=\"0\" r=\"5.77\" class=\"primitive\"/>\n  </g>\n</g>\n<g font-size=\"4\" stroke=\"#000000\" stroke-opacity=\"0.000\" fill=\"#000000\" id=\"img-c34a0438-5\">\n  <g transform=\"translate(129.64,56.82)\">\n    <g class=\"primitive\">\n      <text text-anchor=\"middle\" dy=\"0.35em\">1</text>\n    </g>\n  </g>\n  <g transform=\"translate(83.69,24.69)\">\n    <g class=\"primitive\">\n      <text text-anchor=\"middle\" dy=\"0.35em\">2</text>\n    </g>\n  </g>\n  <g transform=\"translate(27.3,8.33)\">\n    <g class=\"primitive\">\n      <text text-anchor=\"middle\" dy=\"0.35em\">3</text>\n    </g>\n  </g>\n  <g transform=\"translate(73.6,82.59)\">\n    <g class=\"primitive\">\n      <text text-anchor=\"middle\" dy=\"0.35em\">4</text>\n    </g>\n  </g>\n  <g transform=\"translate(11.79,91.67)\">\n    <g class=\"primitive\">\n      <text text-anchor=\"middle\" dy=\"0.35em\">5</text>\n    </g>\n  </g>\n  <g transform=\"translate(32.75,50.48)\">\n    <g class=\"primitive\">\n      <text text-anchor=\"middle\" dy=\"0.35em\">6</text>\n    </g>\n  </g>\n</g>\n</svg>\n"
               },
               "type": "node"
              }
             ],
             "instanceArgs": {
              "namespace": "html",
              "tag": "div"
             },
             "nodeType": "DOM",
             "props": {
              "attributes": {
               "style": "display:flex; justify-content:center; align-items:center;"
              }
             },
             "type": "node"
            }
           }
          },
          "systemjs_options": null
         },
         "nodeType": "Scope",
         "props": {},
         "type": "node"
        }
       ],
       "instanceArgs": {
        "namespace": "html",
        "tag": "div"
       },
       "nodeType": "DOM",
       "props": {},
       "type": "node"
      },
      "text/html": [
       "<div\n",
       "    class=\"webio-mountpoint\"\n",
       "    data-webio-mountpoint=\"10847078507792260602\"\n",
       ">\n",
       "    <script>\n",
       "    if (window.require && require.defined && require.defined(\"nbextensions/webio/main\")) {\n",
       "        console.log(\"Jupyter WebIO extension detected, not mounting.\");\n",
       "    } else if (window.WebIO) {\n",
       "        WebIO.mount(\n",
       "            document.querySelector('[data-webio-mountpoint=\"10847078507792260602\"]'),\n",
       "            {\"props\":{},\"nodeType\":\"DOM\",\"type\":\"node\",\"instanceArgs\":{\"namespace\":\"html\",\"tag\":\"div\"},\"children\":[{\"props\":{\"className\":\"field\"},\"nodeType\":\"DOM\",\"type\":\"node\",\"instanceArgs\":{\"namespace\":\"html\",\"tag\":\"div\"},\"children\":[{\"props\":{},\"nodeType\":\"Scope\",\"type\":\"node\",\"instanceArgs\":{\"imports\":{\"data\":[{\"name\":\"knockout\",\"type\":\"js\",\"url\":\"\\/assetserver\\/429ea4842967203db7a2e10862642c116542d0e4-knockout.js\"},{\"name\":\"knockout_punches\",\"type\":\"js\",\"url\":\"\\/assetserver\\/9998dbb29ca780269e6886a8c8c4b78bb9a73c26-knockout_punches.js\"},{\"name\":null,\"type\":\"js\",\"url\":\"\\/assetserver\\/6ee7ce3a8d8fbffe6a5785768ec923478100c144-all.js\"},{\"name\":null,\"type\":\"css\",\"url\":\"\\/assetserver\\/255cc2d911924b0ffa0f74016aac5f640f90a396-style.css\"},{\"name\":null,\"type\":\"css\",\"url\":\"\\/assetserver\\/66a9780e4509d09169a66d890937410d69e4da42-main.css\"}],\"type\":\"async_block\"},\"id\":\"knockout-component-5e5894c4-4d5a-4120-94d2-9404bbe983c5\",\"handlers\":{\"_promises\":{\"importsLoaded\":[\"function (ko, koPunches) {\\n    ko.punches.enableAll();\\n    ko.bindingHandlers.numericValue = {\\n        init : function(element, valueAccessor, allBindings, data, context) {\\n            var stringified = ko.observable(ko.unwrap(valueAccessor()));\\n            stringified.subscribe(function(value) {\\n                var val = parseFloat(value);\\n                if (!isNaN(val)) {\\n                    valueAccessor()(val);\\n                }\\n            })\\n            valueAccessor().subscribe(function(value) {\\n                var str = JSON.stringify(value);\\n                if ((str == \\\"0\\\") && ([\\\"-0\\\", \\\"-0.\\\"].indexOf(stringified()) >= 0))\\n                     return;\\n                 if ([\\\"null\\\", \\\"\\\"].indexOf(str) >= 0)\\n                     return;\\n                stringified(str);\\n            })\\n            ko.applyBindingsToNode(element, { value: stringified, valueUpdate: allBindings.get('valueUpdate')}, context);\\n        }\\n    };\\n    var json_data = JSON.parse(\\\"{\\\\\\\"changes\\\\\\\":0,\\\\\\\"value\\\\\\\":2}\\\");\\n    var self = this;\\n    function AppViewModel() {\\n        for (var key in json_data) {\\n            var el = json_data[key];\\n            this[key] = Array.isArray(el) ? ko.observableArray(el) : ko.observable(el);\\n        }\\n        \\n        \\n        [this[\\\"changes\\\"].subscribe((function (val){!(this.valueFromJulia[\\\"changes\\\"]) ? (_webIOScope.setObservableValue({\\\"name\\\":\\\"changes\\\",\\\"scope\\\":\\\"knockout-component-5e5894c4-4d5a-4120-94d2-9404bbe983c5\\\",\\\"id\\\":\\\"ob_02\\\",\\\"type\\\":\\\"observable\\\"},val)) : undefined; return this.valueFromJulia[\\\"changes\\\"]=false}),self),this[\\\"value\\\"].subscribe((function (val){!(this.valueFromJulia[\\\"value\\\"]) ? (_webIOScope.setObservableValue({\\\"name\\\":\\\"value\\\",\\\"scope\\\":\\\"knockout-component-5e5894c4-4d5a-4120-94d2-9404bbe983c5\\\",\\\"id\\\":\\\"ob_01\\\",\\\"type\\\":\\\"observable\\\"},val)) : undefined; return this.valueFromJulia[\\\"value\\\"]=false}),self)]\\n        \\n    }\\n    self.model = new AppViewModel();\\n    self.valueFromJulia = {};\\n    for (var key in json_data) {\\n        self.valueFromJulia[key] = false;\\n    }\\n    ko.applyBindings(self.model, self.dom);\\n}\\n\"]},\"changes\":[\"(function (val){return (val!=this.model[\\\"changes\\\"]()) ? (this.valueFromJulia[\\\"changes\\\"]=true, this.model[\\\"changes\\\"](val)) : undefined})\"],\"value\":[\"(function (val){return (val!=this.model[\\\"value\\\"]()) ? (this.valueFromJulia[\\\"value\\\"]=true, this.model[\\\"value\\\"](val)) : undefined})\"]},\"systemjs_options\":null,\"observables\":{\"changes\":{\"sync\":false,\"id\":\"ob_02\",\"value\":0},\"value\":{\"sync\":true,\"id\":\"ob_01\",\"value\":2}}},\"children\":[{\"props\":{\"attributes\":{\"style\":\"display:flex; justify-content:center; align-items:center;\"}},\"nodeType\":\"DOM\",\"type\":\"node\",\"instanceArgs\":{\"namespace\":\"html\",\"tag\":\"div\"},\"children\":[{\"props\":{\"attributes\":{\"style\":\"text-align:right;width:18%\"}},\"nodeType\":\"DOM\",\"type\":\"node\",\"instanceArgs\":{\"namespace\":\"html\",\"tag\":\"div\"},\"children\":[{\"props\":{\"className\":\"interact \",\"style\":{\"padding\":\"5px 10px 0px 10px\"}},\"nodeType\":\"DOM\",\"type\":\"node\",\"instanceArgs\":{\"namespace\":\"html\",\"tag\":\"label\"},\"children\":[\"loop\"]}]},{\"props\":{\"attributes\":{\"style\":\"flex-grow:1; margin: 0 2%\"}},\"nodeType\":\"DOM\",\"type\":\"node\",\"instanceArgs\":{\"namespace\":\"html\",\"tag\":\"div\"},\"children\":[{\"props\":{\"max\":3,\"min\":1,\"attributes\":{\"type\":\"range\",\"data-bind\":\"numericValue: value, valueUpdate: 'input', event: {change : function () {this.changes(this.changes()+1)}}\",\"orient\":\"horizontal\"},\"step\":1,\"className\":\"slider slider is-fullwidth\",\"style\":{}},\"nodeType\":\"DOM\",\"type\":\"node\",\"instanceArgs\":{\"namespace\":\"html\",\"tag\":\"input\"},\"children\":[]}]},{\"props\":{\"attributes\":{\"style\":\"width:18%\"}},\"nodeType\":\"DOM\",\"type\":\"node\",\"instanceArgs\":{\"namespace\":\"html\",\"tag\":\"div\"},\"children\":[{\"props\":{\"attributes\":{\"data-bind\":\"text: value\"}},\"nodeType\":\"DOM\",\"type\":\"node\",\"instanceArgs\":{\"namespace\":\"html\",\"tag\":\"p\"},\"children\":[]}]}]}]}]},{\"props\":{},\"nodeType\":\"Scope\",\"type\":\"node\",\"instanceArgs\":{\"imports\":{\"data\":[],\"type\":\"async_block\"},\"id\":\"scope-550db11f-a96f-4f09-89de-1129df28409f\",\"handlers\":{},\"systemjs_options\":null,\"observables\":{\"obs-node\":{\"sync\":false,\"id\":\"ob_05\",\"value\":{\"props\":{\"attributes\":{\"style\":\"display:flex; justify-content:center; align-items:center;\"}},\"nodeType\":\"DOM\",\"type\":\"node\",\"instanceArgs\":{\"namespace\":\"html\",\"tag\":\"div\"},\"children\":[{\"props\":{\"setInnerHtml\":\"<?xml version=\\\"1.0\\\" encoding=\\\"UTF-8\\\"?>\\n<svg xmlns=\\\"http:\\/\\/www.w3.org\\/2000\\/svg\\\"\\n     xmlns:xlink=\\\"http:\\/\\/www.w3.org\\/1999\\/xlink\\\"\\n     version=\\\"1.2\\\"\\n     width=\\\"141.42mm\\\" height=\\\"100mm\\\" viewBox=\\\"0 0 141.42 100\\\"\\n     stroke=\\\"none\\\"\\n     fill=\\\"#000000\\\"\\n     stroke-width=\\\"0.3\\\"\\n     font-size=\\\"3.88\\\"\\n>\\n<defs>\\n  <marker id=\\\"arrow\\\" markerWidth=\\\"15\\\" markerHeight=\\\"7\\\" refX=\\\"5\\\" refY=\\\"3.5\\\" orient=\\\"auto\\\" markerUnits=\\\"strokeWidth\\\">\\n    <path d=\\\"M0,0 L15,3.5 L0,7 z\\\" stroke=\\\"context-stroke\\\" fill=\\\"context-stroke\\\"\\/>\\n  <\\/marker>\\n<\\/defs>\\n<g stroke-width=\\\"1.22\\\" fill=\\\"#000000\\\" fill-opacity=\\\"0.000\\\" id=\\\"img-662fbee8-1\\\">\\n  <g transform=\\\"translate(101.62,69.71)\\\" stroke=\\\"#FF0000\\\">\\n    <path fill=\\\"none\\\" d=\\\"M22.98,-10.57 L -22.98 10.57\\\" class=\\\"primitive\\\"\\/>\\n  <\\/g>\\n  <g transform=\\\"translate(106.66,40.76)\\\" stroke=\\\"#FF0000\\\">\\n    <path fill=\\\"none\\\" d=\\\"M-18.7,-13.08 L 18.7 13.08\\\" class=\\\"primitive\\\"\\/>\\n  <\\/g>\\n  <g transform=\\\"translate(58.22,37.58)\\\" stroke=\\\"#0000FF\\\">\\n    <path fill=\\\"none\\\" d=\\\"M20.58,-10.42 L -20.58 10.42\\\" class=\\\"primitive\\\"\\/>\\n  <\\/g>\\n  <g transform=\\\"translate(55.5,16.51)\\\" stroke=\\\"#D3D3D3\\\">\\n    <path fill=\\\"none\\\" d=\\\"M-22.63,-6.56 L 22.63 6.56\\\" class=\\\"primitive\\\"\\/>\\n  <\\/g>\\n  <g transform=\\\"translate(42.69,87.13)\\\" stroke=\\\"#FF0000\\\">\\n    <path fill=\\\"none\\\" d=\\\"M25.02,-3.67 L -25.02 3.67\\\" class=\\\"primitive\\\"\\/>\\n  <\\/g>\\n  <g transform=\\\"translate(53.18,66.53)\\\" stroke=\\\"#D3D3D3\\\">\\n    <path fill=\\\"none\\\" d=\\\"M16.4,12.9 L -16.4 -12.9\\\" class=\\\"primitive\\\"\\/>\\n  <\\/g>\\n  <g transform=\\\"translate(22.27,71.07)\\\" stroke=\\\"#FF0000\\\">\\n    <path fill=\\\"none\\\" d=\\\"M-8.45,16.59 L 8.45 -16.59\\\" class=\\\"primitive\\\"\\/>\\n  <\\/g>\\n  <g transform=\\\"translate(30.03,29.41)\\\" stroke=\\\"#D3D3D3\\\">\\n    <path fill=\\\"none\\\" d=\\\"M2.18,16.84 L -2.18 -16.84\\\" class=\\\"primitive\\\"\\/>\\n  <\\/g>\\n<\\/g>\\n<g stroke-width=\\\"1.22\\\" id=\\\"img-662fbee8-2\\\">\\n  <g transform=\\\"translate(81.74,78.85)\\\" stroke=\\\"#FF0000\\\">\\n    <path fill=\\\"none\\\" d=\\\"M2.65,0.48 L -3.09 1.42 0.45 -1.91\\\" class=\\\"primitive\\\"\\/>\\n  <\\/g>\\n  <g transform=\\\"translate(122.74,52)\\\" stroke=\\\"#FF0000\\\">\\n    <path fill=\\\"none\\\" d=\\\"M0.1,-1.93 L 2.62 1.84 -2.73 0.1\\\" class=\\\"primitive\\\"\\/>\\n  <\\/g>\\n  <g transform=\\\"translate(40.64,46.48)\\\" stroke=\\\"#0000FF\\\">\\n    <path fill=\\\"none\\\" d=\\\"M2.67,0.4 L -3 1.52 0.33 -1.92\\\" class=\\\"primitive\\\"\\/>\\n  <\\/g>\\n  <g transform=\\\"translate(74.71,22.08)\\\" stroke=\\\"#D3D3D3\\\">\\n    <path fill=\\\"none\\\" d=\\\"M-0.94,-1.81 L 3.42 0.99 -2.47 0.82\\\" class=\\\"primitive\\\"\\/>\\n  <\\/g>\\n  <g transform=\\\"translate(21.29,90.27)\\\" stroke=\\\"#FF0000\\\">\\n    <path fill=\\\"none\\\" d=\\\"M2.22,1.13 L -3.61 0.53 1.4 -1.66\\\" class=\\\"primitive\\\"\\/>\\n  <\\/g>\\n  <g transform=\\\"translate(39.24,55.58)\\\" stroke=\\\"#D3D3D3\\\">\\n    <path fill=\\\"none\\\" d=\\\"M-0.26,1.92 L -2.47 -1.94 2.73 0.02\\\" class=\\\"primitive\\\"\\/>\\n  <\\/g>\\n  <g transform=\\\"translate(29.46,56.93)\\\" stroke=\\\"#FF0000\\\">\\n    <path fill=\\\"none\\\" d=\\\"M-2.52,0.75 L 1.25 -2.46 1.27 1.71\\\" class=\\\"primitive\\\"\\/>\\n  <\\/g>\\n  <g transform=\\\"translate(28.19,15.17)\\\" stroke=\\\"#D3D3D3\\\">\\n    <path fill=\\\"none\\\" d=\\\"M-1.84,1.43 L -0.34 -2.6 2.18 1.17\\\" class=\\\"primitive\\\"\\/>\\n  <\\/g>\\n<\\/g>\\n<g font-size=\\\"4\\\" stroke=\\\"#000000\\\" stroke-opacity=\\\"0.000\\\" fill=\\\"#000000\\\" id=\\\"img-662fbee8-3\\\">\\n  <g transform=\\\"translate(87.61,76.15)\\\">\\n    <g class=\\\"primitive\\\">\\n      <text text-anchor=\\\"middle\\\" dy=\\\"0.35em\\\">1<\\/text>\\n    <\\/g>\\n  <\\/g>\\n  <g transform=\\\"translate(118.15,48.79)\\\">\\n    <g class=\\\"primitive\\\">\\n      <text text-anchor=\\\"middle\\\" dy=\\\"0.35em\\\">2<\\/text>\\n    <\\/g>\\n  <\\/g>\\n  <g transform=\\\"translate(45.49,44.03)\\\">\\n    <g class=\\\"primitive\\\">\\n      <text text-anchor=\\\"middle\\\" dy=\\\"0.35em\\\">3<\\/text>\\n    <\\/g>\\n  <\\/g>\\n  <g transform=\\\"translate(69.59,20.6)\\\">\\n    <g class=\\\"primitive\\\">\\n      <text text-anchor=\\\"middle\\\" dy=\\\"0.35em\\\">4<\\/text>\\n    <\\/g>\\n  <\\/g>\\n  <g transform=\\\"translate(27.24,89.4)\\\">\\n    <g class=\\\"primitive\\\">\\n      <text text-anchor=\\\"middle\\\" dy=\\\"0.35em\\\">5<\\/text>\\n    <\\/g>\\n  <\\/g>\\n  <g transform=\\\"translate(42.96,58.51)\\\">\\n    <g class=\\\"primitive\\\">\\n      <text text-anchor=\\\"middle\\\" dy=\\\"0.35em\\\">6<\\/text>\\n    <\\/g>\\n  <\\/g>\\n  <g transform=\\\"translate(27.51,60.77)\\\">\\n    <g class=\\\"primitive\\\">\\n      <text text-anchor=\\\"middle\\\" dy=\\\"0.35em\\\">7<\\/text>\\n    <\\/g>\\n  <\\/g>\\n  <g transform=\\\"translate(28.66,18.87)\\\">\\n    <g class=\\\"primitive\\\">\\n      <text text-anchor=\\\"middle\\\" dy=\\\"0.35em\\\">8<\\/text>\\n    <\\/g>\\n  <\\/g>\\n<\\/g>\\n<g stroke-width=\\\"0\\\" stroke=\\\"#000000\\\" stroke-opacity=\\\"0.000\\\" id=\\\"img-662fbee8-4\\\">\\n  <g transform=\\\"translate(129.64,56.82)\\\" fill=\\\"#808080\\\">\\n    <circle cx=\\\"0\\\" cy=\\\"0\\\" r=\\\"5.77\\\" class=\\\"primitive\\\"\\/>\\n  <\\/g>\\n  <g transform=\\\"translate(83.69,24.69)\\\" fill=\\\"#808080\\\">\\n    <circle cx=\\\"0\\\" cy=\\\"0\\\" r=\\\"5.77\\\" class=\\\"primitive\\\"\\/>\\n  <\\/g>\\n  <g transform=\\\"translate(27.3,8.33)\\\" fill=\\\"#808080\\\">\\n    <circle cx=\\\"0\\\" cy=\\\"0\\\" r=\\\"5.77\\\" class=\\\"primitive\\\"\\/>\\n  <\\/g>\\n  <g transform=\\\"translate(73.6,82.59)\\\" fill=\\\"#808080\\\">\\n    <circle cx=\\\"0\\\" cy=\\\"0\\\" r=\\\"5.77\\\" class=\\\"primitive\\\"\\/>\\n  <\\/g>\\n  <g transform=\\\"translate(11.79,91.67)\\\" fill=\\\"#808080\\\">\\n    <circle cx=\\\"0\\\" cy=\\\"0\\\" r=\\\"5.77\\\" class=\\\"primitive\\\"\\/>\\n  <\\/g>\\n  <g transform=\\\"translate(32.75,50.48)\\\" fill=\\\"#808080\\\">\\n    <circle cx=\\\"0\\\" cy=\\\"0\\\" r=\\\"5.77\\\" class=\\\"primitive\\\"\\/>\\n  <\\/g>\\n<\\/g>\\n<g font-size=\\\"4\\\" stroke=\\\"#000000\\\" stroke-opacity=\\\"0.000\\\" fill=\\\"#000000\\\" id=\\\"img-662fbee8-5\\\">\\n  <g transform=\\\"translate(129.64,56.82)\\\">\\n    <g class=\\\"primitive\\\">\\n      <text text-anchor=\\\"middle\\\" dy=\\\"0.35em\\\">1<\\/text>\\n    <\\/g>\\n  <\\/g>\\n  <g transform=\\\"translate(83.69,24.69)\\\">\\n    <g class=\\\"primitive\\\">\\n      <text text-anchor=\\\"middle\\\" dy=\\\"0.35em\\\">2<\\/text>\\n    <\\/g>\\n  <\\/g>\\n  <g transform=\\\"translate(27.3,8.33)\\\">\\n    <g class=\\\"primitive\\\">\\n      <text text-anchor=\\\"middle\\\" dy=\\\"0.35em\\\">3<\\/text>\\n    <\\/g>\\n  <\\/g>\\n  <g transform=\\\"translate(73.6,82.59)\\\">\\n    <g class=\\\"primitive\\\">\\n      <text text-anchor=\\\"middle\\\" dy=\\\"0.35em\\\">4<\\/text>\\n    <\\/g>\\n  <\\/g>\\n  <g transform=\\\"translate(11.79,91.67)\\\">\\n    <g class=\\\"primitive\\\">\\n      <text text-anchor=\\\"middle\\\" dy=\\\"0.35em\\\">5<\\/text>\\n    <\\/g>\\n  <\\/g>\\n  <g transform=\\\"translate(32.75,50.48)\\\">\\n    <g class=\\\"primitive\\\">\\n      <text text-anchor=\\\"middle\\\" dy=\\\"0.35em\\\">6<\\/text>\\n    <\\/g>\\n  <\\/g>\\n<\\/g>\\n<\\/svg>\\n\"},\"nodeType\":\"DOM\",\"type\":\"node\",\"instanceArgs\":{\"namespace\":\"html\",\"tag\":\"div\"},\"children\":[]}]}}}},\"children\":[{\"props\":{},\"nodeType\":\"ObservableNode\",\"type\":\"node\",\"instanceArgs\":{\"id\":\"ob_05\",\"name\":\"obs-node\"},\"children\":[]}]}]},\n",
       "        );\n",
       "    } else {\n",
       "        document\n",
       "            .querySelector('[data-webio-mountpoint=\"10847078507792260602\"]')\n",
       "            .innerHTML = '<strong>WebIO not detected.</strong>';\n",
       "    }\n",
       "    </script>\n",
       "</div>\n"
      ],
      "text/plain": [
       "Widget{:manipulate,Any}(OrderedDict{Symbol,Any}(:loop=>Widget{:slider,Int64}(OrderedDict{Symbol,Any}(:changes=>Observable{Int64} with 1 listeners. Value:\n",
       "0,:value=>Observable{Int64} with 2 listeners. Value:\n",
       "2), Observable{Int64} with 2 listeners. Value:\n",
       "2, Scope(\"knockout-component-5e5894c4-4d5a-4120-94d2-9404bbe983c5\", Node{DOM}(DOM(:html, :div), Any[Node{DOM}(DOM(:html, :div), Any[Node{DOM}(DOM(:html, :label), Any[\"loop\"], Dict{Symbol,Any}(:className=>\"interact \",:style=>Dict{Any,Any}(:padding=>\"5px 10px 0px 10px\")), 1)], Dict{Symbol,Any}(:attributes=>Dict(\"style\"=>\"text-align:right;width:18%\")), 2), Node{DOM}(DOM(:html, :div), Any[Node{DOM}(DOM(:html, :input), Any[], Dict{Symbol,Any}(:max=>3,:min=>1,:attributes=>Dict{Any,Any}(:type=>\"range\",Symbol(\"data-bind\")=>\"numericValue: value, valueUpdate: 'input', event: {change : function () {this.changes(this.changes()+1)}}\",\"orient\"=>\"horizontal\"),:step=>1,:className=>\"slider slider is-fullwidth\",:style=>Dict{Any,Any}()), 0)], Dict{Symbol,Any}(:attributes=>Dict(\"style\"=>\"flex-grow:1; margin: 0 2%\")), 1), Node{DOM}(DOM(:html, :div), Any[Node{DOM}(DOM(:html, :p), Any[], Dict{Symbol,Any}(:attributes=>Dict(\"data-bind\"=>\"text: value\")), 0)], Dict{Symbol,Any}(:attributes=>Dict(\"style\"=>\"width:18%\")), 1)], Dict{Symbol,Any}(:attributes=>Dict(\"style\"=>\"display:flex; justify-content:center; align-items:center;\")), 7), Dict{String,Tuple{Observables.AbstractObservable,Union{Nothing, Bool}}}(\"changes\"=>(Observable{Int64} with 1 listeners. Value:\n",
       "0, nothing),\"value\"=>(Observable{Int64} with 2 listeners. Value:\n",
       "2, nothing)), Set(String[]), nothing, Any[\"knockout\"=>\"/Users/stevenj/.julia/packages/Knockout/JIqpG/src/../assets/knockout.js\", \"knockout_punches\"=>\"/Users/stevenj/.julia/packages/Knockout/JIqpG/src/../assets/knockout_punches.js\", \"/Users/stevenj/.julia/packages/InteractBase/Q4IkI/src/../assets/all.js\", \"/Users/stevenj/.julia/packages/InteractBase/Q4IkI/src/../assets/style.css\", \"/Users/stevenj/.julia/packages/InteractBulma/Ohu5Y/src/../assets/main.css\"], Dict{Any,Any}(\"_promises\"=>Dict{Any,Any}(\"importsLoaded\"=>Any[JSString(\"function (ko, koPunches) {\\n    ko.punches.enableAll();\\n    ko.bindingHandlers.numericValue = {\\n        init : function(element, valueAccessor, allBindings, data, context) {\\n            var stringified = ko.observable(ko.unwrap(valueAccessor()));\\n            stringified.subscribe(function(value) {\\n                var val = parseFloat(value);\\n                if (!isNaN(val)) {\\n                    valueAccessor()(val);\\n                }\\n            })\\n            valueAccessor().subscribe(function(value) {\\n                var str = JSON.stringify(value);\\n                if ((str == \\\"0\\\") && ([\\\"-0\\\", \\\"-0.\\\"].indexOf(stringified()) >= 0))\\n                     return;\\n                 if ([\\\"null\\\", \\\"\\\"].indexOf(str) >= 0)\\n                     return;\\n                stringified(str);\\n            })\\n            ko.applyBindingsToNode(element, { value: stringified, valueUpdate: allBindings.get('valueUpdate')}, context);\\n        }\\n    };\\n    var json_data = JSON.parse(\\\"{\\\\\\\"changes\\\\\\\":0,\\\\\\\"value\\\\\\\":2}\\\");\\n    var self = this;\\n    function AppViewModel() {\\n        for (var key in json_data) {\\n            var el = json_data[key];\\n            this[key] = Array.isArray(el) ? ko.observableArray(el) : ko.observable(el);\\n        }\\n        \\n        \\n        [this[\\\"changes\\\"].subscribe((function (val){!(this.valueFromJulia[\\\"changes\\\"]) ? (_webIOScope.setObservableValue({\\\"name\\\":\\\"changes\\\",\\\"scope\\\":\\\"knockout-component-5e5894c4-4d5a-4120-94d2-9404bbe983c5\\\",\\\"id\\\":\\\"ob_02\\\",\\\"type\\\":\\\"observable\\\"},val)) : undefined; return this.valueFromJulia[\\\"changes\\\"]=false}),self),this[\\\"value\\\"].subscribe((function (val){!(this.valueFromJulia[\\\"value\\\"]) ? (_webIOScope.setObservableValue({\\\"name\\\":\\\"value\\\",\\\"scope\\\":\\\"knockout-component-5e5894c4-4d5a-4120-94d2-9404bbe983c5\\\",\\\"id\\\":\\\"ob_01\\\",\\\"type\\\":\\\"observable\\\"},val)) : undefined; return this.valueFromJulia[\\\"value\\\"]=false}),self)]\\n        \\n    }\\n    self.model = new AppViewModel();\\n    self.valueFromJulia = {};\\n    for (var key in json_data) {\\n        self.valueFromJulia[key] = false;\\n    }\\n    ko.applyBindings(self.model, self.dom);\\n}\\n\")]),\"changes\"=>Any[JSString(\"(function (val){return (val!=this.model[\\\"changes\\\"]()) ? (this.valueFromJulia[\\\"changes\\\"]=true, this.model[\\\"changes\\\"](val)) : undefined})\")],\"value\"=>Any[JSString(\"(function (val){return (val!=this.model[\\\"value\\\"]()) ? (this.valueFromJulia[\\\"value\\\"]=true, this.model[\\\"value\\\"](val)) : undefined})\")]), ConnectionPool(Channel{Any}(sz_max:9223372036854775807,sz_curr:0), Set(AbstractConnection[]), Channel{AbstractConnection}(sz_max:32,sz_curr:0))), ##52#53{#dom#13{##dom#11#12{Dict{Any,Any},DOM}},typeof(scope)}(#dom#13{##dom#11#12{Dict{Any,Any},DOM}}(##dom#11#12{Dict{Any,Any},DOM}(Dict{Any,Any}(:className=>\"field\"), DOM(:html, :div))), scope))), Observable{Any} with 0 listeners. Value:\n",
       "MyGraph({6, 8} directed Int64 metagraph with Float64 weights defined by :weight (default weight 1.0)), nothing, getfield(Main, Symbol(\"##21#23\")){Observable{Any}}(Observable{Any} with 0 listeners. Value:\n",
       "MyGraph({6, 8} directed Int64 metagraph with Float64 weights defined by :weight (default weight 1.0))))"
      ]
     },
     "execution_count": 18,
     "metadata": {
      "application/vnd.webio.node+json": {
       "kernelId": "ce8f9bc2-a3f5-447e-9f03-bf67c5c9ae34"
      }
     },
     "output_type": "execute_result"
    }
   ],
   "source": [
    "animloops(g)"
   ]
  },
  {
   "cell_type": "markdown",
   "metadata": {},
   "source": [
    "These three loops are **not the only loops** in the graph, but the **other loops can be made from combinations of these loops**.  (Similarly, the columns of $N$ are not the *whole* left nullspace, they are just a **basis** for the n nullspace.\n",
    "\n",
    "For example, the loop between nodes 1-4-5-6-3-2  can be made by starting with 1-4-5-6-2 and \"adding\" the 6-3-2 loop.\n",
    "\n",
    "In this sense, a basis for the left nullspace of $A$ is a \"basis\" for the other loops in the graph: we say that they are \"primitive\" loops."
   ]
  },
  {
   "cell_type": "code",
   "execution_count": 19,
   "metadata": {},
   "outputs": [
    {
     "data": {
      "image/svg+xml": [
       "<?xml version=\"1.0\" encoding=\"UTF-8\"?>\n",
       "<svg xmlns=\"http://www.w3.org/2000/svg\"\n",
       "     xmlns:xlink=\"http://www.w3.org/1999/xlink\"\n",
       "     version=\"1.2\"\n",
       "     width=\"141.42mm\" height=\"100mm\" viewBox=\"0 0 141.42 100\"\n",
       "     stroke=\"none\"\n",
       "     fill=\"#000000\"\n",
       "     stroke-width=\"0.3\"\n",
       "     font-size=\"3.88\"\n",
       ">\n",
       "<defs>\n",
       "  <marker id=\"arrow\" markerWidth=\"15\" markerHeight=\"7\" refX=\"5\" refY=\"3.5\" orient=\"auto\" markerUnits=\"strokeWidth\">\n",
       "    <path d=\"M0,0 L15,3.5 L0,7 z\" stroke=\"context-stroke\" fill=\"context-stroke\"/>\n",
       "  </marker>\n",
       "</defs>\n",
       "<g stroke-width=\"1.22\" fill=\"#000000\" fill-opacity=\"0.000\" id=\"img-99ddab56-1\">\n",
       "  <g transform=\"translate(101.62,69.71)\" stroke=\"#FF0000\">\n",
       "    <path fill=\"none\" d=\"M22.98,-10.57 L -22.98 10.57\" class=\"primitive\"/>\n",
       "  </g>\n",
       "  <g transform=\"translate(106.66,40.76)\" stroke=\"#FF0000\">\n",
       "    <path fill=\"none\" d=\"M-18.7,-13.08 L 18.7 13.08\" class=\"primitive\"/>\n",
       "  </g>\n",
       "  <g transform=\"translate(58.22,37.58)\" stroke=\"#D3D3D3\">\n",
       "    <path fill=\"none\" d=\"M20.58,-10.42 L -20.58 10.42\" class=\"primitive\"/>\n",
       "  </g>\n",
       "  <g transform=\"translate(55.5,16.51)\" stroke=\"#FF0000\">\n",
       "    <path fill=\"none\" d=\"M-22.63,-6.56 L 22.63 6.56\" class=\"primitive\"/>\n",
       "  </g>\n",
       "  <g transform=\"translate(42.69,87.13)\" stroke=\"#FF0000\">\n",
       "    <path fill=\"none\" d=\"M25.02,-3.67 L -25.02 3.67\" class=\"primitive\"/>\n",
       "  </g>\n",
       "  <g transform=\"translate(53.18,66.53)\" stroke=\"#D3D3D3\">\n",
       "    <path fill=\"none\" d=\"M16.4,12.9 L -16.4 -12.9\" class=\"primitive\"/>\n",
       "  </g>\n",
       "  <g transform=\"translate(22.27,71.07)\" stroke=\"#FF0000\">\n",
       "    <path fill=\"none\" d=\"M-8.45,16.59 L 8.45 -16.59\" class=\"primitive\"/>\n",
       "  </g>\n",
       "  <g transform=\"translate(30.03,29.41)\" stroke=\"#FF0000\">\n",
       "    <path fill=\"none\" d=\"M2.18,16.84 L -2.18 -16.84\" class=\"primitive\"/>\n",
       "  </g>\n",
       "</g>\n",
       "<g stroke-width=\"1.22\" id=\"img-99ddab56-2\">\n",
       "  <g transform=\"translate(81.74,78.85)\" stroke=\"#FF0000\">\n",
       "    <path fill=\"none\" d=\"M2.65,0.48 L -3.09 1.42 0.45 -1.91\" class=\"primitive\"/>\n",
       "  </g>\n",
       "  <g transform=\"translate(122.74,52)\" stroke=\"#FF0000\">\n",
       "    <path fill=\"none\" d=\"M0.1,-1.93 L 2.62 1.84 -2.73 0.1\" class=\"primitive\"/>\n",
       "  </g>\n",
       "  <g transform=\"translate(40.64,46.48)\" stroke=\"#D3D3D3\">\n",
       "    <path fill=\"none\" d=\"M2.67,0.4 L -3 1.52 0.33 -1.92\" class=\"primitive\"/>\n",
       "  </g>\n",
       "  <g transform=\"translate(74.71,22.08)\" stroke=\"#FF0000\">\n",
       "    <path fill=\"none\" d=\"M-0.94,-1.81 L 3.42 0.99 -2.47 0.82\" class=\"primitive\"/>\n",
       "  </g>\n",
       "  <g transform=\"translate(21.29,90.27)\" stroke=\"#FF0000\">\n",
       "    <path fill=\"none\" d=\"M2.22,1.13 L -3.61 0.53 1.4 -1.66\" class=\"primitive\"/>\n",
       "  </g>\n",
       "  <g transform=\"translate(39.24,55.58)\" stroke=\"#D3D3D3\">\n",
       "    <path fill=\"none\" d=\"M-0.26,1.92 L -2.47 -1.94 2.73 0.02\" class=\"primitive\"/>\n",
       "  </g>\n",
       "  <g transform=\"translate(29.46,56.93)\" stroke=\"#FF0000\">\n",
       "    <path fill=\"none\" d=\"M-2.52,0.75 L 1.25 -2.46 1.27 1.71\" class=\"primitive\"/>\n",
       "  </g>\n",
       "  <g transform=\"translate(28.19,15.17)\" stroke=\"#FF0000\">\n",
       "    <path fill=\"none\" d=\"M-1.84,1.43 L -0.34 -2.6 2.18 1.17\" class=\"primitive\"/>\n",
       "  </g>\n",
       "</g>\n",
       "<g font-size=\"4\" stroke=\"#000000\" stroke-opacity=\"0.000\" fill=\"#000000\" id=\"img-99ddab56-3\">\n",
       "  <g transform=\"translate(87.61,76.15)\">\n",
       "    <g class=\"primitive\">\n",
       "      <text text-anchor=\"middle\" dy=\"0.35em\">1</text>\n",
       "    </g>\n",
       "  </g>\n",
       "  <g transform=\"translate(118.15,48.79)\">\n",
       "    <g class=\"primitive\">\n",
       "      <text text-anchor=\"middle\" dy=\"0.35em\">2</text>\n",
       "    </g>\n",
       "  </g>\n",
       "  <g transform=\"translate(45.49,44.03)\">\n",
       "    <g class=\"primitive\">\n",
       "      <text text-anchor=\"middle\" dy=\"0.35em\">3</text>\n",
       "    </g>\n",
       "  </g>\n",
       "  <g transform=\"translate(69.59,20.6)\">\n",
       "    <g class=\"primitive\">\n",
       "      <text text-anchor=\"middle\" dy=\"0.35em\">4</text>\n",
       "    </g>\n",
       "  </g>\n",
       "  <g transform=\"translate(27.24,89.4)\">\n",
       "    <g class=\"primitive\">\n",
       "      <text text-anchor=\"middle\" dy=\"0.35em\">5</text>\n",
       "    </g>\n",
       "  </g>\n",
       "  <g transform=\"translate(42.96,58.51)\">\n",
       "    <g class=\"primitive\">\n",
       "      <text text-anchor=\"middle\" dy=\"0.35em\">6</text>\n",
       "    </g>\n",
       "  </g>\n",
       "  <g transform=\"translate(27.51,60.77)\">\n",
       "    <g class=\"primitive\">\n",
       "      <text text-anchor=\"middle\" dy=\"0.35em\">7</text>\n",
       "    </g>\n",
       "  </g>\n",
       "  <g transform=\"translate(28.66,18.87)\">\n",
       "    <g class=\"primitive\">\n",
       "      <text text-anchor=\"middle\" dy=\"0.35em\">8</text>\n",
       "    </g>\n",
       "  </g>\n",
       "</g>\n",
       "<g stroke-width=\"0\" stroke=\"#000000\" stroke-opacity=\"0.000\" id=\"img-99ddab56-4\">\n",
       "  <g transform=\"translate(129.64,56.82)\" fill=\"#808080\">\n",
       "    <circle cx=\"0\" cy=\"0\" r=\"5.77\" class=\"primitive\"/>\n",
       "  </g>\n",
       "  <g transform=\"translate(83.69,24.69)\" fill=\"#808080\">\n",
       "    <circle cx=\"0\" cy=\"0\" r=\"5.77\" class=\"primitive\"/>\n",
       "  </g>\n",
       "  <g transform=\"translate(27.3,8.33)\" fill=\"#808080\">\n",
       "    <circle cx=\"0\" cy=\"0\" r=\"5.77\" class=\"primitive\"/>\n",
       "  </g>\n",
       "  <g transform=\"translate(73.6,82.59)\" fill=\"#808080\">\n",
       "    <circle cx=\"0\" cy=\"0\" r=\"5.77\" class=\"primitive\"/>\n",
       "  </g>\n",
       "  <g transform=\"translate(11.79,91.67)\" fill=\"#808080\">\n",
       "    <circle cx=\"0\" cy=\"0\" r=\"5.77\" class=\"primitive\"/>\n",
       "  </g>\n",
       "  <g transform=\"translate(32.75,50.48)\" fill=\"#808080\">\n",
       "    <circle cx=\"0\" cy=\"0\" r=\"5.77\" class=\"primitive\"/>\n",
       "  </g>\n",
       "</g>\n",
       "<g font-size=\"4\" stroke=\"#000000\" stroke-opacity=\"0.000\" fill=\"#000000\" id=\"img-99ddab56-5\">\n",
       "  <g transform=\"translate(129.64,56.82)\">\n",
       "    <g class=\"primitive\">\n",
       "      <text text-anchor=\"middle\" dy=\"0.35em\">1</text>\n",
       "    </g>\n",
       "  </g>\n",
       "  <g transform=\"translate(83.69,24.69)\">\n",
       "    <g class=\"primitive\">\n",
       "      <text text-anchor=\"middle\" dy=\"0.35em\">2</text>\n",
       "    </g>\n",
       "  </g>\n",
       "  <g transform=\"translate(27.3,8.33)\">\n",
       "    <g class=\"primitive\">\n",
       "      <text text-anchor=\"middle\" dy=\"0.35em\">3</text>\n",
       "    </g>\n",
       "  </g>\n",
       "  <g transform=\"translate(73.6,82.59)\">\n",
       "    <g class=\"primitive\">\n",
       "      <text text-anchor=\"middle\" dy=\"0.35em\">4</text>\n",
       "    </g>\n",
       "  </g>\n",
       "  <g transform=\"translate(11.79,91.67)\">\n",
       "    <g class=\"primitive\">\n",
       "      <text text-anchor=\"middle\" dy=\"0.35em\">5</text>\n",
       "    </g>\n",
       "  </g>\n",
       "  <g transform=\"translate(32.75,50.48)\">\n",
       "    <g class=\"primitive\">\n",
       "      <text text-anchor=\"middle\" dy=\"0.35em\">6</text>\n",
       "    </g>\n",
       "  </g>\n",
       "</g>\n",
       "</svg>\n"
      ],
      "text/plain": [
       "MyGraph({6, 8} directed Int64 metagraph with Float64 weights defined by :weight (default weight 1.0))"
      ]
     },
     "execution_count": 19,
     "metadata": {},
     "output_type": "execute_result"
    }
   ],
   "source": [
    "colorloop(g, N[:,2] + N[:,3]) # add two loops to make another loop"
   ]
  },
  {
   "cell_type": "markdown",
   "metadata": {},
   "source": [
    "It is fun to do the same thing for bigger graphs, chosen at random:"
   ]
  },
  {
   "cell_type": "code",
   "execution_count": 20,
   "metadata": {},
   "outputs": [
    {
     "data": {
      "application/vnd.webio.node+json": {
       "children": [
        {
         "children": [
          {
           "children": [
            {
             "children": [
              {
               "children": [
                {
                 "children": [
                  "loop"
                 ],
                 "instanceArgs": {
                  "namespace": "html",
                  "tag": "label"
                 },
                 "nodeType": "DOM",
                 "props": {
                  "className": "interact ",
                  "style": {
                   "padding": "5px 10px 0px 10px"
                  }
                 },
                 "type": "node"
                }
               ],
               "instanceArgs": {
                "namespace": "html",
                "tag": "div"
               },
               "nodeType": "DOM",
               "props": {
                "attributes": {
                 "style": "text-align:right;width:18%"
                }
               },
               "type": "node"
              },
              {
               "children": [
                {
                 "children": [],
                 "instanceArgs": {
                  "namespace": "html",
                  "tag": "input"
                 },
                 "nodeType": "DOM",
                 "props": {
                  "attributes": {
                   "data-bind": "numericValue: value, valueUpdate: 'input', event: {change : function () {this.changes(this.changes()+1)}}",
                   "orient": "horizontal",
                   "type": "range"
                  },
                  "className": "slider slider is-fullwidth",
                  "max": 9,
                  "min": 1,
                  "step": 1,
                  "style": {}
                 },
                 "type": "node"
                }
               ],
               "instanceArgs": {
                "namespace": "html",
                "tag": "div"
               },
               "nodeType": "DOM",
               "props": {
                "attributes": {
                 "style": "flex-grow:1; margin: 0 2%"
                }
               },
               "type": "node"
              },
              {
               "children": [
                {
                 "children": [],
                 "instanceArgs": {
                  "namespace": "html",
                  "tag": "p"
                 },
                 "nodeType": "DOM",
                 "props": {
                  "attributes": {
                   "data-bind": "text: value"
                  }
                 },
                 "type": "node"
                }
               ],
               "instanceArgs": {
                "namespace": "html",
                "tag": "div"
               },
               "nodeType": "DOM",
               "props": {
                "attributes": {
                 "style": "width:18%"
                }
               },
               "type": "node"
              }
             ],
             "instanceArgs": {
              "namespace": "html",
              "tag": "div"
             },
             "nodeType": "DOM",
             "props": {
              "attributes": {
               "style": "display:flex; justify-content:center; align-items:center;"
              }
             },
             "type": "node"
            }
           ],
           "instanceArgs": {
            "handlers": {
             "_promises": {
              "importsLoaded": [
               "function (ko, koPunches) {\n    ko.punches.enableAll();\n    ko.bindingHandlers.numericValue = {\n        init : function(element, valueAccessor, allBindings, data, context) {\n            var stringified = ko.observable(ko.unwrap(valueAccessor()));\n            stringified.subscribe(function(value) {\n                var val = parseFloat(value);\n                if (!isNaN(val)) {\n                    valueAccessor()(val);\n                }\n            })\n            valueAccessor().subscribe(function(value) {\n                var str = JSON.stringify(value);\n                if ((str == \"0\") && ([\"-0\", \"-0.\"].indexOf(stringified()) >= 0))\n                     return;\n                 if ([\"null\", \"\"].indexOf(str) >= 0)\n                     return;\n                stringified(str);\n            })\n            ko.applyBindingsToNode(element, { value: stringified, valueUpdate: allBindings.get('valueUpdate')}, context);\n        }\n    };\n    var json_data = JSON.parse(\"{\\\"changes\\\":0,\\\"value\\\":5}\");\n    var self = this;\n    function AppViewModel() {\n        for (var key in json_data) {\n            var el = json_data[key];\n            this[key] = Array.isArray(el) ? ko.observableArray(el) : ko.observable(el);\n        }\n        \n        \n        [this[\"changes\"].subscribe((function (val){!(this.valueFromJulia[\"changes\"]) ? (_webIOScope.setObservableValue({\"name\":\"changes\",\"scope\":\"knockout-component-445c54a5-22cf-48aa-bc7e-a2492035de0f\",\"id\":\"ob_09\",\"type\":\"observable\"},val)) : undefined; return this.valueFromJulia[\"changes\"]=false}),self),this[\"value\"].subscribe((function (val){!(this.valueFromJulia[\"value\"]) ? (_webIOScope.setObservableValue({\"name\":\"value\",\"scope\":\"knockout-component-445c54a5-22cf-48aa-bc7e-a2492035de0f\",\"id\":\"ob_08\",\"type\":\"observable\"},val)) : undefined; return this.valueFromJulia[\"value\"]=false}),self)]\n        \n    }\n    self.model = new AppViewModel();\n    self.valueFromJulia = {};\n    for (var key in json_data) {\n        self.valueFromJulia[key] = false;\n    }\n    ko.applyBindings(self.model, self.dom);\n}\n"
              ]
             },
             "changes": [
              "(function (val){return (val!=this.model[\"changes\"]()) ? (this.valueFromJulia[\"changes\"]=true, this.model[\"changes\"](val)) : undefined})"
             ],
             "value": [
              "(function (val){return (val!=this.model[\"value\"]()) ? (this.valueFromJulia[\"value\"]=true, this.model[\"value\"](val)) : undefined})"
             ]
            },
            "id": "knockout-component-445c54a5-22cf-48aa-bc7e-a2492035de0f",
            "imports": {
             "data": [
              {
               "name": "knockout",
               "type": "js",
               "url": "/assetserver/429ea4842967203db7a2e10862642c116542d0e4-knockout.js"
              },
              {
               "name": "knockout_punches",
               "type": "js",
               "url": "/assetserver/9998dbb29ca780269e6886a8c8c4b78bb9a73c26-knockout_punches.js"
              },
              {
               "name": null,
               "type": "js",
               "url": "/assetserver/6ee7ce3a8d8fbffe6a5785768ec923478100c144-all.js"
              },
              {
               "name": null,
               "type": "css",
               "url": "/assetserver/255cc2d911924b0ffa0f74016aac5f640f90a396-style.css"
              },
              {
               "name": null,
               "type": "css",
               "url": "/assetserver/66a9780e4509d09169a66d890937410d69e4da42-main.css"
              }
             ],
             "type": "async_block"
            },
            "observables": {
             "changes": {
              "id": "ob_09",
              "sync": false,
              "value": 0
             },
             "value": {
              "id": "ob_08",
              "sync": true,
              "value": 5
             }
            },
            "systemjs_options": null
           },
           "nodeType": "Scope",
           "props": {},
           "type": "node"
          }
         ],
         "instanceArgs": {
          "namespace": "html",
          "tag": "div"
         },
         "nodeType": "DOM",
         "props": {
          "className": "field"
         },
         "type": "node"
        },
        {
         "children": [
          {
           "children": [],
           "instanceArgs": {
            "id": "ob_14",
            "name": "obs-node"
           },
           "nodeType": "ObservableNode",
           "props": {},
           "type": "node"
          }
         ],
         "instanceArgs": {
          "handlers": {},
          "id": "scope-ba6b7f48-6ba2-4e49-9d45-a33625603f5e",
          "imports": {
           "data": [],
           "type": "async_block"
          },
          "observables": {
           "obs-node": {
            "id": "ob_14",
            "sync": false,
            "value": {
             "children": [
              {
               "children": [],
               "instanceArgs": {
                "namespace": "html",
                "tag": "div"
               },
               "nodeType": "DOM",
               "props": {
                "setInnerHtml": "<?xml version=\"1.0\" encoding=\"UTF-8\"?>\n<svg xmlns=\"http://www.w3.org/2000/svg\"\n     xmlns:xlink=\"http://www.w3.org/1999/xlink\"\n     version=\"1.2\"\n     width=\"141.42mm\" height=\"100mm\" viewBox=\"0 0 141.42 100\"\n     stroke=\"none\"\n     fill=\"#000000\"\n     stroke-width=\"0.3\"\n     font-size=\"3.88\"\n>\n<defs>\n  <marker id=\"arrow\" markerWidth=\"15\" markerHeight=\"7\" refX=\"5\" refY=\"3.5\" orient=\"auto\" markerUnits=\"strokeWidth\">\n    <path d=\"M0,0 L15,3.5 L0,7 z\" stroke=\"context-stroke\" fill=\"context-stroke\"/>\n  </marker>\n</defs>\n<g stroke-width=\"0.77\" fill=\"#000000\" fill-opacity=\"0.000\" id=\"img-ceb65602-1\">\n  <g transform=\"translate(51.57,12.67)\" stroke=\"#D3D3D3\">\n    <path fill=\"none\" d=\"M7.44,3 L -7.44 -3\" class=\"primitive\"/>\n  </g>\n  <g transform=\"translate(59.53,27.55)\" stroke=\"#D3D3D3\">\n    <path fill=\"none\" d=\"M2.09,-7.9 L -2.09 7.9\" class=\"primitive\"/>\n  </g>\n  <g transform=\"translate(89.02,83.03)\" stroke=\"#FF0000\">\n    <path fill=\"none\" d=\"M-0.91,5.97 L 0.91 -5.97\" class=\"primitive\"/>\n  </g>\n  <g transform=\"translate(73.99,87.44)\" stroke=\"#0000FF\">\n    <path fill=\"none\" d=\"M10.22,3.15 L -10.22 -3.15\" class=\"primitive\"/>\n  </g>\n  <g transform=\"translate(45.69,83.63)\" stroke=\"#FF0000\">\n    <path fill=\"none\" d=\"M-10.79,0.31 L 10.79 -0.31\" class=\"primitive\"/>\n  </g>\n  <g transform=\"translate(42.39,75.91)\" stroke=\"#FF0000\">\n    <path fill=\"none\" d=\"M8.63,-6.22 L -8.63 6.22\" class=\"primitive\"/>\n  </g>\n  <g transform=\"translate(62.71,71.78)\" stroke=\"#D3D3D3\">\n    <path fill=\"none\" d=\"M1.86,-8.77 L -1.86 8.77\" class=\"primitive\"/>\n  </g>\n  <g transform=\"translate(72.01,71.08)\" stroke=\"#D3D3D3\">\n    <path fill=\"none\" d=\"M14.64,2.64 L -14.64 -2.64\" class=\"primitive\"/>\n  </g>\n  <g transform=\"translate(37.74,36.09)\" stroke=\"#D3D3D3\">\n    <path fill=\"none\" d=\"M0.44,-7.36 L -0.44 7.36\" class=\"primitive\"/>\n  </g>\n  <g transform=\"translate(47.54,32.07)\" stroke=\"#D3D3D3\">\n    <path fill=\"none\" d=\"M-6.42,-4.2 L 6.42 4.2\" class=\"primitive\"/>\n  </g>\n  <g transform=\"translate(45.41,56.95)\" stroke=\"#D3D3D3\">\n    <path fill=\"none\" d=\"M-6.47,-8.45 L 6.47 8.45\" class=\"primitive\"/>\n  </g>\n  <g transform=\"translate(62.71,71.78)\" stroke=\"#D3D3D3\">\n    <path fill=\"none\" d=\"M-1.86,8.77 L 1.86 -8.77\" class=\"primitive\"/>\n  </g>\n  <g transform=\"translate(39.58,17.19)\" stroke=\"#D3D3D3\">\n    <path fill=\"none\" d=\"M0.87,-6.18 L -0.87 6.18\" class=\"primitive\"/>\n  </g>\n  <g transform=\"translate(74.88,65.76)\" stroke=\"#FF0000\">\n    <path fill=\"none\" d=\"M17.42,-1.65 L -17.42 1.65\" class=\"primitive\"/>\n  </g>\n  <g transform=\"translate(80.6,62.05)\" stroke=\"#D3D3D3\">\n    <path fill=\"none\" d=\"M11.71,1.29 L -11.71 -1.29\" class=\"primitive\"/>\n  </g>\n  <g transform=\"translate(112.85,60.54)\" stroke=\"#0000FF\">\n    <path fill=\"none\" d=\"M-13.11,2.51 L 13.11 -2.51\" class=\"primitive\"/>\n  </g>\n  <g transform=\"translate(93.75,63.29)\" stroke=\"#0000FF\">\n    <path fill=\"none\" d=\"M2.61,-8.46 L -2.61 8.46\" class=\"primitive\"/>\n  </g>\n  <g transform=\"translate(113.4,54.76)\" stroke=\"#FF0000\">\n    <path fill=\"none\" d=\"M-12.52,-1.98 L 12.52 1.98\" class=\"primitive\"/>\n  </g>\n  <g transform=\"translate(76.96,45.15)\" stroke=\"#D3D3D3\">\n    <path fill=\"none\" d=\"M16.8,5.86 L -16.8 -5.86\" class=\"primitive\"/>\n  </g>\n  <g transform=\"translate(112.85,60.54)\" stroke=\"#D3D3D3\">\n    <path fill=\"none\" d=\"M13.11,-2.51 L -13.11 2.51\" class=\"primitive\"/>\n  </g>\n  <g transform=\"translate(60.94,49.23)\" stroke=\"#D3D3D3\">\n    <path fill=\"none\" d=\"M-3.21,-8.53 L 3.21 8.53\" class=\"primitive\"/>\n  </g>\n  <g transform=\"translate(34.27,34.36)\" stroke=\"#D3D3D3\">\n    <path fill=\"none\" d=\"M18.78,3.12 L -18.78 -3.12\" class=\"primitive\"/>\n  </g>\n  <g transform=\"translate(46.94,42.12)\" stroke=\"#D3D3D3\">\n    <path fill=\"none\" d=\"M6.51,-2.67 L -6.51 2.67\" class=\"primitive\"/>\n  </g>\n</g>\n<g stroke-width=\"0.77\" id=\"img-ceb65602-2\">\n  <g transform=\"translate(47.34,10.96)\" stroke=\"#D3D3D3\">\n    <path fill=\"none\" d=\"M0.6,1.88 L -3.21 -1.29 2.6 -0.59\" class=\"primitive\"/>\n  </g>\n  <g transform=\"translate(58.12,32.89)\" stroke=\"#D3D3D3\">\n    <path fill=\"none\" d=\"M2.32,-1.02 L -0.68 2.57 -1.64 -1.54\" class=\"primitive\"/>\n  </g>\n  <g transform=\"translate(89.53,79.65)\" stroke=\"#FF0000\">\n    <path fill=\"none\" d=\"M-2.2,1.14 L 0.4 -2.6 1.81 1.45\" class=\"primitive\"/>\n  </g>\n  <g transform=\"translate(67.15,85.33)\" stroke=\"#0000FF\">\n    <path fill=\"none\" d=\"M0.89,1.83 L -3.38 -1.04 2.5 -0.78\" class=\"primitive\"/>\n  </g>\n  <g transform=\"translate(52.79,83.42)\" stroke=\"#FF0000\">\n    <path fill=\"none\" d=\"M-1.93,-1.37 L 3.69 -0.11 -1.76 1.48\" class=\"primitive\"/>\n  </g>\n  <g transform=\"translate(36.35,80.26)\" stroke=\"#FF0000\">\n    <path fill=\"none\" d=\"M2.73,0.07 L -2.59 1.86 -0.15 -1.93\" class=\"primitive\"/>\n  </g>\n  <g transform=\"translate(61.39,77.97)\" stroke=\"#D3D3D3\">\n    <path fill=\"none\" d=\"M2.27,-1.08 L -0.55 2.58 -1.72 -1.5\" class=\"primitive\"/>\n  </g>\n  <g transform=\"translate(60.95,69.08)\" stroke=\"#D3D3D3\">\n    <path fill=\"none\" d=\"M1.29,1.7 L -3.58 -0.65 2.29 -1.06\" class=\"primitive\"/>\n  </g>\n  <g transform=\"translate(37.45,40.84)\" stroke=\"#D3D3D3\">\n    <path fill=\"none\" d=\"M2.09,-1.24 L -0.16 2.61 -1.94 -1.36\" class=\"primitive\"/>\n  </g>\n  <g transform=\"translate(51.25,34.5)\" stroke=\"#D3D3D3\">\n    <path fill=\"none\" d=\"M0.02,-1.93 L 2.71 1.77 -2.72 0.16\" class=\"primitive\"/>\n  </g>\n  <g transform=\"translate(50.12,63.11)\" stroke=\"#D3D3D3\">\n    <path fill=\"none\" d=\"M0.89,-1.83 L 1.76 2.3 -2.65 -0.47\" class=\"primitive\"/>\n  </g>\n  <g transform=\"translate(64.02,65.59)\" stroke=\"#D3D3D3\">\n    <path fill=\"none\" d=\"M-2.27,1.08 L 0.55 -2.58 1.72 1.5\" class=\"primitive\"/>\n  </g>\n  <g transform=\"translate(39.08,20.76)\" stroke=\"#D3D3D3\">\n    <path fill=\"none\" d=\"M2.19,-1.16 L -0.37 2.6 -1.82 -1.44\" class=\"primitive\"/>\n  </g>\n  <g transform=\"translate(61.12,67.06)\" stroke=\"#FF0000\">\n    <path fill=\"none\" d=\"M2.1,1.24 L -3.66 0.35 1.56 -1.59\" class=\"primitive\"/>\n  </g>\n  <g transform=\"translate(72.54,61.17)\" stroke=\"#D3D3D3\">\n    <path fill=\"none\" d=\"M1.51,1.61 L -3.65 -0.4 2.13 -1.21\" class=\"primitive\"/>\n  </g>\n  <g transform=\"translate(122.4,58.71)\" stroke=\"#0000FF\">\n    <path fill=\"none\" d=\"M-2.31,-1.03 L 3.56 -0.68 -1.26 1.72\" class=\"primitive\"/>\n  </g>\n  <g transform=\"translate(91.93,69.21)\" stroke=\"#0000FF\">\n    <path fill=\"none\" d=\"M2.36,-0.97 L -0.79 2.55 -1.58 -1.58\" class=\"primitive\"/>\n  </g>\n  <g transform=\"translate(122.32,56.17)\" stroke=\"#FF0000\">\n    <path fill=\"none\" d=\"M-1.36,-1.68 L 3.6 0.57 -2.24 1.11\" class=\"primitive\"/>\n  </g>\n  <g transform=\"translate(63.47,40.44)\" stroke=\"#D3D3D3\">\n    <path fill=\"none\" d=\"M0.76,1.86 L -3.31 -1.16 2.55 -0.7\" class=\"primitive\"/>\n  </g>\n  <g transform=\"translate(103.31,62.36)\" stroke=\"#D3D3D3\">\n    <path fill=\"none\" d=\"M2.31,1.03 L -3.56 0.68 1.26 -1.72\" class=\"primitive\"/>\n  </g>\n  <g transform=\"translate(63.2,55.23)\" stroke=\"#D3D3D3\">\n    <path fill=\"none\" d=\"M1.47,-1.63 L 0.95 2.52 -2.42 -0.89\" class=\"primitive\"/>\n  </g>\n  <g transform=\"translate(19.08,31.84)\" stroke=\"#D3D3D3\">\n    <path fill=\"none\" d=\"M1.34,1.69 L -3.59 -0.6 2.26 -1.09\" class=\"primitive\"/>\n  </g>\n  <g transform=\"translate(43.62,43.48)\" stroke=\"#D3D3D3\">\n    <path fill=\"none\" d=\"M2.61,0.58 L -3.19 1.31 0.59 -1.89\" class=\"primitive\"/>\n  </g>\n</g>\n<g font-size=\"4\" stroke=\"#000000\" stroke-opacity=\"0.000\" fill=\"#000000\" id=\"img-ceb65602-3\">\n  <g transform=\"translate(46.2,10.5)\">\n    <g class=\"primitive\">\n      <text text-anchor=\"middle\" dy=\"0.35em\">1</text>\n    </g>\n  </g>\n  <g transform=\"translate(58.14,32.82)\">\n    <g class=\"primitive\">\n      <text text-anchor=\"middle\" dy=\"0.35em\">2</text>\n    </g>\n  </g>\n  <g transform=\"translate(89.68,78.71)\">\n    <g class=\"primitive\">\n      <text text-anchor=\"middle\" dy=\"0.35em\">3</text>\n    </g>\n  </g>\n  <g transform=\"translate(67.13,85.32)\">\n    <g class=\"primitive\">\n      <text text-anchor=\"middle\" dy=\"0.35em\">4</text>\n    </g>\n  </g>\n  <g transform=\"translate(52.98,83.42)\">\n    <g class=\"primitive\">\n      <text text-anchor=\"middle\" dy=\"0.35em\">5</text>\n    </g>\n  </g>\n  <g transform=\"translate(36.75,79.98)\">\n    <g class=\"primitive\">\n      <text text-anchor=\"middle\" dy=\"0.35em\">6</text>\n    </g>\n  </g>\n  <g transform=\"translate(61.49,77.49)\">\n    <g class=\"primitive\">\n      <text text-anchor=\"middle\" dy=\"0.35em\">7</text>\n    </g>\n  </g>\n  <g transform=\"translate(62.85,69.42)\">\n    <g class=\"primitive\">\n      <text text-anchor=\"middle\" dy=\"0.35em\">8</text>\n    </g>\n  </g>\n  <g transform=\"translate(37.44,41.11)\">\n    <g class=\"primitive\">\n      <text text-anchor=\"middle\" dy=\"0.35em\">9</text>\n    </g>\n  </g>\n  <g transform=\"translate(52.14,35.08)\">\n    <g class=\"primitive\">\n      <text text-anchor=\"middle\" dy=\"0.35em\">10</text>\n    </g>\n  </g>\n  <g transform=\"translate(49.55,62.36)\">\n    <g class=\"primitive\">\n      <text text-anchor=\"middle\" dy=\"0.35em\">11</text>\n    </g>\n  </g>\n  <g transform=\"translate(63.92,66.07)\">\n    <g class=\"primitive\">\n      <text text-anchor=\"middle\" dy=\"0.35em\">12</text>\n    </g>\n  </g>\n  <g transform=\"translate(38.96,21.61)\">\n    <g class=\"primitive\">\n      <text text-anchor=\"middle\" dy=\"0.35em\">13</text>\n    </g>\n  </g>\n  <g transform=\"translate(64.28,66.76)\">\n    <g class=\"primitive\">\n      <text text-anchor=\"middle\" dy=\"0.35em\">14</text>\n    </g>\n  </g>\n  <g transform=\"translate(72.87,61.2)\">\n    <g class=\"primitive\">\n      <text text-anchor=\"middle\" dy=\"0.35em\">15</text>\n    </g>\n  </g>\n  <g transform=\"translate(121.24,58.93)\">\n    <g class=\"primitive\">\n      <text text-anchor=\"middle\" dy=\"0.35em\">16</text>\n    </g>\n  </g>\n  <g transform=\"translate(92.05,68.84)\">\n    <g class=\"primitive\">\n      <text text-anchor=\"middle\" dy=\"0.35em\">17</text>\n    </g>\n  </g>\n  <g transform=\"translate(121.52,56.04)\">\n    <g class=\"primitive\">\n      <text text-anchor=\"middle\" dy=\"0.35em\">18</text>\n    </g>\n  </g>\n  <g transform=\"translate(66.85,41.62)\">\n    <g class=\"primitive\">\n      <text text-anchor=\"middle\" dy=\"0.35em\">19</text>\n    </g>\n  </g>\n  <g transform=\"translate(104.46,62.14)\">\n    <g class=\"primitive\">\n      <text text-anchor=\"middle\" dy=\"0.35em\">20</text>\n    </g>\n  </g>\n  <g transform=\"translate(63.04,54.79)\">\n    <g class=\"primitive\">\n      <text text-anchor=\"middle\" dy=\"0.35em\">21</text>\n    </g>\n  </g>\n  <g transform=\"translate(23.03,32.5)\">\n    <g class=\"primitive\">\n      <text text-anchor=\"middle\" dy=\"0.35em\">22</text>\n    </g>\n  </g>\n  <g transform=\"translate(42.04,44.13)\">\n    <g class=\"primitive\">\n      <text text-anchor=\"middle\" dy=\"0.35em\">23</text>\n    </g>\n  </g>\n</g>\n<g stroke-width=\"0\" stroke=\"#000000\" stroke-opacity=\"0.000\" id=\"img-ceb65602-4\">\n  <g transform=\"translate(62.32,17)\" fill=\"#808080\">\n    <circle cx=\"0\" cy=\"0\" r=\"3.65\" class=\"primitive\"/>\n  </g>\n  <g transform=\"translate(87.69,91.67)\" fill=\"#808080\">\n    <circle cx=\"0\" cy=\"0\" r=\"3.65\" class=\"primitive\"/>\n  </g>\n  <g transform=\"translate(31.1,84.05)\" fill=\"#808080\">\n    <circle cx=\"0\" cy=\"0\" r=\"3.65\" class=\"primitive\"/>\n  </g>\n  <g transform=\"translate(53.69,67.77)\" fill=\"#808080\">\n    <circle cx=\"0\" cy=\"0\" r=\"3.65\" class=\"primitive\"/>\n  </g>\n  <g transform=\"translate(65.13,60.35)\" fill=\"#808080\">\n    <circle cx=\"0\" cy=\"0\" r=\"3.65\" class=\"primitive\"/>\n  </g>\n  <g transform=\"translate(90.34,74.39)\" fill=\"#808080\">\n    <circle cx=\"0\" cy=\"0\" r=\"3.65\" class=\"primitive\"/>\n  </g>\n  <g transform=\"translate(38.33,26.04)\" fill=\"#808080\">\n    <circle cx=\"0\" cy=\"0\" r=\"3.65\" class=\"primitive\"/>\n  </g>\n  <g transform=\"translate(11.79,30.63)\" fill=\"#808080\">\n    <circle cx=\"0\" cy=\"0\" r=\"3.65\" class=\"primitive\"/>\n  </g>\n  <g transform=\"translate(37.14,46.14)\" fill=\"#808080\">\n    <circle cx=\"0\" cy=\"0\" r=\"3.65\" class=\"primitive\"/>\n  </g>\n  <g transform=\"translate(60.28,83.21)\" fill=\"#808080\">\n    <circle cx=\"0\" cy=\"0\" r=\"3.65\" class=\"primitive\"/>\n  </g>\n  <g transform=\"translate(40.82,8.33)\" fill=\"#808080\">\n    <circle cx=\"0\" cy=\"0\" r=\"3.65\" class=\"primitive\"/>\n  </g>\n  <g transform=\"translate(96.07,63.75)\" fill=\"#808080\">\n    <circle cx=\"0\" cy=\"0\" r=\"3.65\" class=\"primitive\"/>\n  </g>\n  <g transform=\"translate(97.17,52.2)\" fill=\"#808080\">\n    <circle cx=\"0\" cy=\"0\" r=\"3.65\" class=\"primitive\"/>\n  </g>\n  <g transform=\"translate(129.64,57.32)\" fill=\"#808080\">\n    <circle cx=\"0\" cy=\"0\" r=\"3.65\" class=\"primitive\"/>\n  </g>\n  <g transform=\"translate(56.75,38.1)\" fill=\"#808080\">\n    <circle cx=\"0\" cy=\"0\" r=\"3.65\" class=\"primitive\"/>\n  </g>\n</g>\n<g font-size=\"4\" stroke=\"#000000\" stroke-opacity=\"0.000\" fill=\"#000000\" id=\"img-ceb65602-5\">\n  <g transform=\"translate(62.32,17)\">\n    <g class=\"primitive\">\n      <text text-anchor=\"middle\" dy=\"0.35em\">1</text>\n    </g>\n  </g>\n  <g transform=\"translate(87.69,91.67)\">\n    <g class=\"primitive\">\n      <text text-anchor=\"middle\" dy=\"0.35em\">2</text>\n    </g>\n  </g>\n  <g transform=\"translate(31.1,84.05)\">\n    <g class=\"primitive\">\n      <text text-anchor=\"middle\" dy=\"0.35em\">3</text>\n    </g>\n  </g>\n  <g transform=\"translate(53.69,67.77)\">\n    <g class=\"primitive\">\n      <text text-anchor=\"middle\" dy=\"0.35em\">4</text>\n    </g>\n  </g>\n  <g transform=\"translate(65.13,60.35)\">\n    <g class=\"primitive\">\n      <text text-anchor=\"middle\" dy=\"0.35em\">5</text>\n    </g>\n  </g>\n  <g transform=\"translate(90.34,74.39)\">\n    <g class=\"primitive\">\n      <text text-anchor=\"middle\" dy=\"0.35em\">6</text>\n    </g>\n  </g>\n  <g transform=\"translate(38.33,26.04)\">\n    <g class=\"primitive\">\n      <text text-anchor=\"middle\" dy=\"0.35em\">7</text>\n    </g>\n  </g>\n  <g transform=\"translate(11.79,30.63)\">\n    <g class=\"primitive\">\n      <text text-anchor=\"middle\" dy=\"0.35em\">8</text>\n    </g>\n  </g>\n  <g transform=\"translate(37.14,46.14)\">\n    <g class=\"primitive\">\n      <text text-anchor=\"middle\" dy=\"0.35em\">9</text>\n    </g>\n  </g>\n  <g transform=\"translate(60.28,83.21)\">\n    <g class=\"primitive\">\n      <text text-anchor=\"middle\" dy=\"0.35em\">10</text>\n    </g>\n  </g>\n  <g transform=\"translate(40.82,8.33)\">\n    <g class=\"primitive\">\n      <text text-anchor=\"middle\" dy=\"0.35em\">11</text>\n    </g>\n  </g>\n  <g transform=\"translate(96.07,63.75)\">\n    <g class=\"primitive\">\n      <text text-anchor=\"middle\" dy=\"0.35em\">12</text>\n    </g>\n  </g>\n  <g transform=\"translate(97.17,52.2)\">\n    <g class=\"primitive\">\n      <text text-anchor=\"middle\" dy=\"0.35em\">13</text>\n    </g>\n  </g>\n  <g transform=\"translate(129.64,57.32)\">\n    <g class=\"primitive\">\n      <text text-anchor=\"middle\" dy=\"0.35em\">14</text>\n    </g>\n  </g>\n  <g transform=\"translate(56.75,38.1)\">\n    <g class=\"primitive\">\n      <text text-anchor=\"middle\" dy=\"0.35em\">15</text>\n    </g>\n  </g>\n</g>\n</svg>\n"
               },
               "type": "node"
              }
             ],
             "instanceArgs": {
              "namespace": "html",
              "tag": "div"
             },
             "nodeType": "DOM",
             "props": {
              "attributes": {
               "style": "display:flex; justify-content:center; align-items:center;"
              }
             },
             "type": "node"
            }
           }
          },
          "systemjs_options": null
         },
         "nodeType": "Scope",
         "props": {},
         "type": "node"
        }
       ],
       "instanceArgs": {
        "namespace": "html",
        "tag": "div"
       },
       "nodeType": "DOM",
       "props": {},
       "type": "node"
      },
      "text/html": [
       "<div\n",
       "    class=\"webio-mountpoint\"\n",
       "    data-webio-mountpoint=\"13718558611863051652\"\n",
       ">\n",
       "    <script>\n",
       "    if (window.require && require.defined && require.defined(\"nbextensions/webio/main\")) {\n",
       "        console.log(\"Jupyter WebIO extension detected, not mounting.\");\n",
       "    } else if (window.WebIO) {\n",
       "        WebIO.mount(\n",
       "            document.querySelector('[data-webio-mountpoint=\"13718558611863051652\"]'),\n",
       "            {\"props\":{},\"nodeType\":\"DOM\",\"type\":\"node\",\"instanceArgs\":{\"namespace\":\"html\",\"tag\":\"div\"},\"children\":[{\"props\":{\"className\":\"field\"},\"nodeType\":\"DOM\",\"type\":\"node\",\"instanceArgs\":{\"namespace\":\"html\",\"tag\":\"div\"},\"children\":[{\"props\":{},\"nodeType\":\"Scope\",\"type\":\"node\",\"instanceArgs\":{\"imports\":{\"data\":[{\"name\":\"knockout\",\"type\":\"js\",\"url\":\"\\/assetserver\\/429ea4842967203db7a2e10862642c116542d0e4-knockout.js\"},{\"name\":\"knockout_punches\",\"type\":\"js\",\"url\":\"\\/assetserver\\/9998dbb29ca780269e6886a8c8c4b78bb9a73c26-knockout_punches.js\"},{\"name\":null,\"type\":\"js\",\"url\":\"\\/assetserver\\/6ee7ce3a8d8fbffe6a5785768ec923478100c144-all.js\"},{\"name\":null,\"type\":\"css\",\"url\":\"\\/assetserver\\/255cc2d911924b0ffa0f74016aac5f640f90a396-style.css\"},{\"name\":null,\"type\":\"css\",\"url\":\"\\/assetserver\\/66a9780e4509d09169a66d890937410d69e4da42-main.css\"}],\"type\":\"async_block\"},\"id\":\"knockout-component-445c54a5-22cf-48aa-bc7e-a2492035de0f\",\"handlers\":{\"_promises\":{\"importsLoaded\":[\"function (ko, koPunches) {\\n    ko.punches.enableAll();\\n    ko.bindingHandlers.numericValue = {\\n        init : function(element, valueAccessor, allBindings, data, context) {\\n            var stringified = ko.observable(ko.unwrap(valueAccessor()));\\n            stringified.subscribe(function(value) {\\n                var val = parseFloat(value);\\n                if (!isNaN(val)) {\\n                    valueAccessor()(val);\\n                }\\n            })\\n            valueAccessor().subscribe(function(value) {\\n                var str = JSON.stringify(value);\\n                if ((str == \\\"0\\\") && ([\\\"-0\\\", \\\"-0.\\\"].indexOf(stringified()) >= 0))\\n                     return;\\n                 if ([\\\"null\\\", \\\"\\\"].indexOf(str) >= 0)\\n                     return;\\n                stringified(str);\\n            })\\n            ko.applyBindingsToNode(element, { value: stringified, valueUpdate: allBindings.get('valueUpdate')}, context);\\n        }\\n    };\\n    var json_data = JSON.parse(\\\"{\\\\\\\"changes\\\\\\\":0,\\\\\\\"value\\\\\\\":5}\\\");\\n    var self = this;\\n    function AppViewModel() {\\n        for (var key in json_data) {\\n            var el = json_data[key];\\n            this[key] = Array.isArray(el) ? ko.observableArray(el) : ko.observable(el);\\n        }\\n        \\n        \\n        [this[\\\"changes\\\"].subscribe((function (val){!(this.valueFromJulia[\\\"changes\\\"]) ? (_webIOScope.setObservableValue({\\\"name\\\":\\\"changes\\\",\\\"scope\\\":\\\"knockout-component-445c54a5-22cf-48aa-bc7e-a2492035de0f\\\",\\\"id\\\":\\\"ob_09\\\",\\\"type\\\":\\\"observable\\\"},val)) : undefined; return this.valueFromJulia[\\\"changes\\\"]=false}),self),this[\\\"value\\\"].subscribe((function (val){!(this.valueFromJulia[\\\"value\\\"]) ? (_webIOScope.setObservableValue({\\\"name\\\":\\\"value\\\",\\\"scope\\\":\\\"knockout-component-445c54a5-22cf-48aa-bc7e-a2492035de0f\\\",\\\"id\\\":\\\"ob_08\\\",\\\"type\\\":\\\"observable\\\"},val)) : undefined; return this.valueFromJulia[\\\"value\\\"]=false}),self)]\\n        \\n    }\\n    self.model = new AppViewModel();\\n    self.valueFromJulia = {};\\n    for (var key in json_data) {\\n        self.valueFromJulia[key] = false;\\n    }\\n    ko.applyBindings(self.model, self.dom);\\n}\\n\"]},\"changes\":[\"(function (val){return (val!=this.model[\\\"changes\\\"]()) ? (this.valueFromJulia[\\\"changes\\\"]=true, this.model[\\\"changes\\\"](val)) : undefined})\"],\"value\":[\"(function (val){return (val!=this.model[\\\"value\\\"]()) ? (this.valueFromJulia[\\\"value\\\"]=true, this.model[\\\"value\\\"](val)) : undefined})\"]},\"systemjs_options\":null,\"observables\":{\"changes\":{\"sync\":false,\"id\":\"ob_09\",\"value\":0},\"value\":{\"sync\":true,\"id\":\"ob_08\",\"value\":5}}},\"children\":[{\"props\":{\"attributes\":{\"style\":\"display:flex; justify-content:center; align-items:center;\"}},\"nodeType\":\"DOM\",\"type\":\"node\",\"instanceArgs\":{\"namespace\":\"html\",\"tag\":\"div\"},\"children\":[{\"props\":{\"attributes\":{\"style\":\"text-align:right;width:18%\"}},\"nodeType\":\"DOM\",\"type\":\"node\",\"instanceArgs\":{\"namespace\":\"html\",\"tag\":\"div\"},\"children\":[{\"props\":{\"className\":\"interact \",\"style\":{\"padding\":\"5px 10px 0px 10px\"}},\"nodeType\":\"DOM\",\"type\":\"node\",\"instanceArgs\":{\"namespace\":\"html\",\"tag\":\"label\"},\"children\":[\"loop\"]}]},{\"props\":{\"attributes\":{\"style\":\"flex-grow:1; margin: 0 2%\"}},\"nodeType\":\"DOM\",\"type\":\"node\",\"instanceArgs\":{\"namespace\":\"html\",\"tag\":\"div\"},\"children\":[{\"props\":{\"max\":9,\"min\":1,\"attributes\":{\"type\":\"range\",\"data-bind\":\"numericValue: value, valueUpdate: 'input', event: {change : function () {this.changes(this.changes()+1)}}\",\"orient\":\"horizontal\"},\"step\":1,\"className\":\"slider slider is-fullwidth\",\"style\":{}},\"nodeType\":\"DOM\",\"type\":\"node\",\"instanceArgs\":{\"namespace\":\"html\",\"tag\":\"input\"},\"children\":[]}]},{\"props\":{\"attributes\":{\"style\":\"width:18%\"}},\"nodeType\":\"DOM\",\"type\":\"node\",\"instanceArgs\":{\"namespace\":\"html\",\"tag\":\"div\"},\"children\":[{\"props\":{\"attributes\":{\"data-bind\":\"text: value\"}},\"nodeType\":\"DOM\",\"type\":\"node\",\"instanceArgs\":{\"namespace\":\"html\",\"tag\":\"p\"},\"children\":[]}]}]}]}]},{\"props\":{},\"nodeType\":\"Scope\",\"type\":\"node\",\"instanceArgs\":{\"imports\":{\"data\":[],\"type\":\"async_block\"},\"id\":\"scope-9e96102d-5ddc-4891-b9bc-d9eaea0043c4\",\"handlers\":{},\"systemjs_options\":null,\"observables\":{\"obs-node\":{\"sync\":false,\"id\":\"ob_12\",\"value\":{\"props\":{\"attributes\":{\"style\":\"display:flex; justify-content:center; align-items:center;\"}},\"nodeType\":\"DOM\",\"type\":\"node\",\"instanceArgs\":{\"namespace\":\"html\",\"tag\":\"div\"},\"children\":[{\"props\":{\"setInnerHtml\":\"<?xml version=\\\"1.0\\\" encoding=\\\"UTF-8\\\"?>\\n<svg xmlns=\\\"http:\\/\\/www.w3.org\\/2000\\/svg\\\"\\n     xmlns:xlink=\\\"http:\\/\\/www.w3.org\\/1999\\/xlink\\\"\\n     version=\\\"1.2\\\"\\n     width=\\\"141.42mm\\\" height=\\\"100mm\\\" viewBox=\\\"0 0 141.42 100\\\"\\n     stroke=\\\"none\\\"\\n     fill=\\\"#000000\\\"\\n     stroke-width=\\\"0.3\\\"\\n     font-size=\\\"3.88\\\"\\n>\\n<defs>\\n  <marker id=\\\"arrow\\\" markerWidth=\\\"15\\\" markerHeight=\\\"7\\\" refX=\\\"5\\\" refY=\\\"3.5\\\" orient=\\\"auto\\\" markerUnits=\\\"strokeWidth\\\">\\n    <path d=\\\"M0,0 L15,3.5 L0,7 z\\\" stroke=\\\"context-stroke\\\" fill=\\\"context-stroke\\\"\\/>\\n  <\\/marker>\\n<\\/defs>\\n<g stroke-width=\\\"0.77\\\" fill=\\\"#000000\\\" fill-opacity=\\\"0.000\\\" id=\\\"img-f9540d0e-1\\\">\\n  <g transform=\\\"translate(51.57,12.67)\\\" stroke=\\\"#D3D3D3\\\">\\n    <path fill=\\\"none\\\" d=\\\"M7.44,3 L -7.44 -3\\\" class=\\\"primitive\\\"\\/>\\n  <\\/g>\\n  <g transform=\\\"translate(59.53,27.55)\\\" stroke=\\\"#D3D3D3\\\">\\n    <path fill=\\\"none\\\" d=\\\"M2.09,-7.9 L -2.09 7.9\\\" class=\\\"primitive\\\"\\/>\\n  <\\/g>\\n  <g transform=\\\"translate(89.02,83.03)\\\" stroke=\\\"#FF0000\\\">\\n    <path fill=\\\"none\\\" d=\\\"M-0.91,5.97 L 0.91 -5.97\\\" class=\\\"primitive\\\"\\/>\\n  <\\/g>\\n  <g transform=\\\"translate(73.99,87.44)\\\" stroke=\\\"#0000FF\\\">\\n    <path fill=\\\"none\\\" d=\\\"M10.22,3.15 L -10.22 -3.15\\\" class=\\\"primitive\\\"\\/>\\n  <\\/g>\\n  <g transform=\\\"translate(45.69,83.63)\\\" stroke=\\\"#FF0000\\\">\\n    <path fill=\\\"none\\\" d=\\\"M-10.79,0.31 L 10.79 -0.31\\\" class=\\\"primitive\\\"\\/>\\n  <\\/g>\\n  <g transform=\\\"translate(42.39,75.91)\\\" stroke=\\\"#FF0000\\\">\\n    <path fill=\\\"none\\\" d=\\\"M8.63,-6.22 L -8.63 6.22\\\" class=\\\"primitive\\\"\\/>\\n  <\\/g>\\n  <g transform=\\\"translate(62.71,71.78)\\\" stroke=\\\"#D3D3D3\\\">\\n    <path fill=\\\"none\\\" d=\\\"M1.86,-8.77 L -1.86 8.77\\\" class=\\\"primitive\\\"\\/>\\n  <\\/g>\\n  <g transform=\\\"translate(72.01,71.08)\\\" stroke=\\\"#D3D3D3\\\">\\n    <path fill=\\\"none\\\" d=\\\"M14.64,2.64 L -14.64 -2.64\\\" class=\\\"primitive\\\"\\/>\\n  <\\/g>\\n  <g transform=\\\"translate(37.74,36.09)\\\" stroke=\\\"#D3D3D3\\\">\\n    <path fill=\\\"none\\\" d=\\\"M0.44,-7.36 L -0.44 7.36\\\" class=\\\"primitive\\\"\\/>\\n  <\\/g>\\n  <g transform=\\\"translate(47.54,32.07)\\\" stroke=\\\"#D3D3D3\\\">\\n    <path fill=\\\"none\\\" d=\\\"M-6.42,-4.2 L 6.42 4.2\\\" class=\\\"primitive\\\"\\/>\\n  <\\/g>\\n  <g transform=\\\"translate(45.41,56.95)\\\" stroke=\\\"#D3D3D3\\\">\\n    <path fill=\\\"none\\\" d=\\\"M-6.47,-8.45 L 6.47 8.45\\\" class=\\\"primitive\\\"\\/>\\n  <\\/g>\\n  <g transform=\\\"translate(62.71,71.78)\\\" stroke=\\\"#D3D3D3\\\">\\n    <path fill=\\\"none\\\" d=\\\"M-1.86,8.77 L 1.86 -8.77\\\" class=\\\"primitive\\\"\\/>\\n  <\\/g>\\n  <g transform=\\\"translate(39.58,17.19)\\\" stroke=\\\"#D3D3D3\\\">\\n    <path fill=\\\"none\\\" d=\\\"M0.87,-6.18 L -0.87 6.18\\\" class=\\\"primitive\\\"\\/>\\n  <\\/g>\\n  <g transform=\\\"translate(74.88,65.76)\\\" stroke=\\\"#FF0000\\\">\\n    <path fill=\\\"none\\\" d=\\\"M17.42,-1.65 L -17.42 1.65\\\" class=\\\"primitive\\\"\\/>\\n  <\\/g>\\n  <g transform=\\\"translate(80.6,62.05)\\\" stroke=\\\"#D3D3D3\\\">\\n    <path fill=\\\"none\\\" d=\\\"M11.71,1.29 L -11.71 -1.29\\\" class=\\\"primitive\\\"\\/>\\n  <\\/g>\\n  <g transform=\\\"translate(112.85,60.54)\\\" stroke=\\\"#0000FF\\\">\\n    <path fill=\\\"none\\\" d=\\\"M-13.11,2.51 L 13.11 -2.51\\\" class=\\\"primitive\\\"\\/>\\n  <\\/g>\\n  <g transform=\\\"translate(93.75,63.29)\\\" stroke=\\\"#0000FF\\\">\\n    <path fill=\\\"none\\\" d=\\\"M2.61,-8.46 L -2.61 8.46\\\" class=\\\"primitive\\\"\\/>\\n  <\\/g>\\n  <g transform=\\\"translate(113.4,54.76)\\\" stroke=\\\"#FF0000\\\">\\n    <path fill=\\\"none\\\" d=\\\"M-12.52,-1.98 L 12.52 1.98\\\" class=\\\"primitive\\\"\\/>\\n  <\\/g>\\n  <g transform=\\\"translate(76.96,45.15)\\\" stroke=\\\"#D3D3D3\\\">\\n    <path fill=\\\"none\\\" d=\\\"M16.8,5.86 L -16.8 -5.86\\\" class=\\\"primitive\\\"\\/>\\n  <\\/g>\\n  <g transform=\\\"translate(112.85,60.54)\\\" stroke=\\\"#D3D3D3\\\">\\n    <path fill=\\\"none\\\" d=\\\"M13.11,-2.51 L -13.11 2.51\\\" class=\\\"primitive\\\"\\/>\\n  <\\/g>\\n  <g transform=\\\"translate(60.94,49.23)\\\" stroke=\\\"#D3D3D3\\\">\\n    <path fill=\\\"none\\\" d=\\\"M-3.21,-8.53 L 3.21 8.53\\\" class=\\\"primitive\\\"\\/>\\n  <\\/g>\\n  <g transform=\\\"translate(34.27,34.36)\\\" stroke=\\\"#D3D3D3\\\">\\n    <path fill=\\\"none\\\" d=\\\"M18.78,3.12 L -18.78 -3.12\\\" class=\\\"primitive\\\"\\/>\\n  <\\/g>\\n  <g transform=\\\"translate(46.94,42.12)\\\" stroke=\\\"#D3D3D3\\\">\\n    <path fill=\\\"none\\\" d=\\\"M6.51,-2.67 L -6.51 2.67\\\" class=\\\"primitive\\\"\\/>\\n  <\\/g>\\n<\\/g>\\n<g stroke-width=\\\"0.77\\\" id=\\\"img-f9540d0e-2\\\">\\n  <g transform=\\\"translate(47.34,10.96)\\\" stroke=\\\"#D3D3D3\\\">\\n    <path fill=\\\"none\\\" d=\\\"M0.6,1.88 L -3.21 -1.29 2.6 -0.59\\\" class=\\\"primitive\\\"\\/>\\n  <\\/g>\\n  <g transform=\\\"translate(58.12,32.89)\\\" stroke=\\\"#D3D3D3\\\">\\n    <path fill=\\\"none\\\" d=\\\"M2.32,-1.02 L -0.68 2.57 -1.64 -1.54\\\" class=\\\"primitive\\\"\\/>\\n  <\\/g>\\n  <g transform=\\\"translate(89.53,79.65)\\\" stroke=\\\"#FF0000\\\">\\n    <path fill=\\\"none\\\" d=\\\"M-2.2,1.14 L 0.4 -2.6 1.81 1.45\\\" class=\\\"primitive\\\"\\/>\\n  <\\/g>\\n  <g transform=\\\"translate(67.15,85.33)\\\" stroke=\\\"#0000FF\\\">\\n    <path fill=\\\"none\\\" d=\\\"M0.89,1.83 L -3.38 -1.04 2.5 -0.78\\\" class=\\\"primitive\\\"\\/>\\n  <\\/g>\\n  <g transform=\\\"translate(52.79,83.42)\\\" stroke=\\\"#FF0000\\\">\\n    <path fill=\\\"none\\\" d=\\\"M-1.93,-1.37 L 3.69 -0.11 -1.76 1.48\\\" class=\\\"primitive\\\"\\/>\\n  <\\/g>\\n  <g transform=\\\"translate(36.35,80.26)\\\" stroke=\\\"#FF0000\\\">\\n    <path fill=\\\"none\\\" d=\\\"M2.73,0.07 L -2.59 1.86 -0.15 -1.93\\\" class=\\\"primitive\\\"\\/>\\n  <\\/g>\\n  <g transform=\\\"translate(61.39,77.97)\\\" stroke=\\\"#D3D3D3\\\">\\n    <path fill=\\\"none\\\" d=\\\"M2.27,-1.08 L -0.55 2.58 -1.72 -1.5\\\" class=\\\"primitive\\\"\\/>\\n  <\\/g>\\n  <g transform=\\\"translate(60.95,69.08)\\\" stroke=\\\"#D3D3D3\\\">\\n    <path fill=\\\"none\\\" d=\\\"M1.29,1.7 L -3.58 -0.65 2.29 -1.06\\\" class=\\\"primitive\\\"\\/>\\n  <\\/g>\\n  <g transform=\\\"translate(37.45,40.84)\\\" stroke=\\\"#D3D3D3\\\">\\n    <path fill=\\\"none\\\" d=\\\"M2.09,-1.24 L -0.16 2.61 -1.94 -1.36\\\" class=\\\"primitive\\\"\\/>\\n  <\\/g>\\n  <g transform=\\\"translate(51.25,34.5)\\\" stroke=\\\"#D3D3D3\\\">\\n    <path fill=\\\"none\\\" d=\\\"M0.02,-1.93 L 2.71 1.77 -2.72 0.16\\\" class=\\\"primitive\\\"\\/>\\n  <\\/g>\\n  <g transform=\\\"translate(50.12,63.11)\\\" stroke=\\\"#D3D3D3\\\">\\n    <path fill=\\\"none\\\" d=\\\"M0.89,-1.83 L 1.76 2.3 -2.65 -0.47\\\" class=\\\"primitive\\\"\\/>\\n  <\\/g>\\n  <g transform=\\\"translate(64.02,65.59)\\\" stroke=\\\"#D3D3D3\\\">\\n    <path fill=\\\"none\\\" d=\\\"M-2.27,1.08 L 0.55 -2.58 1.72 1.5\\\" class=\\\"primitive\\\"\\/>\\n  <\\/g>\\n  <g transform=\\\"translate(39.08,20.76)\\\" stroke=\\\"#D3D3D3\\\">\\n    <path fill=\\\"none\\\" d=\\\"M2.19,-1.16 L -0.37 2.6 -1.82 -1.44\\\" class=\\\"primitive\\\"\\/>\\n  <\\/g>\\n  <g transform=\\\"translate(61.12,67.06)\\\" stroke=\\\"#FF0000\\\">\\n    <path fill=\\\"none\\\" d=\\\"M2.1,1.24 L -3.66 0.35 1.56 -1.59\\\" class=\\\"primitive\\\"\\/>\\n  <\\/g>\\n  <g transform=\\\"translate(72.54,61.17)\\\" stroke=\\\"#D3D3D3\\\">\\n    <path fill=\\\"none\\\" d=\\\"M1.51,1.61 L -3.65 -0.4 2.13 -1.21\\\" class=\\\"primitive\\\"\\/>\\n  <\\/g>\\n  <g transform=\\\"translate(122.4,58.71)\\\" stroke=\\\"#0000FF\\\">\\n    <path fill=\\\"none\\\" d=\\\"M-2.31,-1.03 L 3.56 -0.68 -1.26 1.72\\\" class=\\\"primitive\\\"\\/>\\n  <\\/g>\\n  <g transform=\\\"translate(91.93,69.21)\\\" stroke=\\\"#0000FF\\\">\\n    <path fill=\\\"none\\\" d=\\\"M2.36,-0.97 L -0.79 2.55 -1.58 -1.58\\\" class=\\\"primitive\\\"\\/>\\n  <\\/g>\\n  <g transform=\\\"translate(122.32,56.17)\\\" stroke=\\\"#FF0000\\\">\\n    <path fill=\\\"none\\\" d=\\\"M-1.36,-1.68 L 3.6 0.57 -2.24 1.11\\\" class=\\\"primitive\\\"\\/>\\n  <\\/g>\\n  <g transform=\\\"translate(63.47,40.44)\\\" stroke=\\\"#D3D3D3\\\">\\n    <path fill=\\\"none\\\" d=\\\"M0.76,1.86 L -3.31 -1.16 2.55 -0.7\\\" class=\\\"primitive\\\"\\/>\\n  <\\/g>\\n  <g transform=\\\"translate(103.31,62.36)\\\" stroke=\\\"#D3D3D3\\\">\\n    <path fill=\\\"none\\\" d=\\\"M2.31,1.03 L -3.56 0.68 1.26 -1.72\\\" class=\\\"primitive\\\"\\/>\\n  <\\/g>\\n  <g transform=\\\"translate(63.2,55.23)\\\" stroke=\\\"#D3D3D3\\\">\\n    <path fill=\\\"none\\\" d=\\\"M1.47,-1.63 L 0.95 2.52 -2.42 -0.89\\\" class=\\\"primitive\\\"\\/>\\n  <\\/g>\\n  <g transform=\\\"translate(19.08,31.84)\\\" stroke=\\\"#D3D3D3\\\">\\n    <path fill=\\\"none\\\" d=\\\"M1.34,1.69 L -3.59 -0.6 2.26 -1.09\\\" class=\\\"primitive\\\"\\/>\\n  <\\/g>\\n  <g transform=\\\"translate(43.62,43.48)\\\" stroke=\\\"#D3D3D3\\\">\\n    <path fill=\\\"none\\\" d=\\\"M2.61,0.58 L -3.19 1.31 0.59 -1.89\\\" class=\\\"primitive\\\"\\/>\\n  <\\/g>\\n<\\/g>\\n<g font-size=\\\"4\\\" stroke=\\\"#000000\\\" stroke-opacity=\\\"0.000\\\" fill=\\\"#000000\\\" id=\\\"img-f9540d0e-3\\\">\\n  <g transform=\\\"translate(46.2,10.5)\\\">\\n    <g class=\\\"primitive\\\">\\n      <text text-anchor=\\\"middle\\\" dy=\\\"0.35em\\\">1<\\/text>\\n    <\\/g>\\n  <\\/g>\\n  <g transform=\\\"translate(58.14,32.82)\\\">\\n    <g class=\\\"primitive\\\">\\n      <text text-anchor=\\\"middle\\\" dy=\\\"0.35em\\\">2<\\/text>\\n    <\\/g>\\n  <\\/g>\\n  <g transform=\\\"translate(89.68,78.71)\\\">\\n    <g class=\\\"primitive\\\">\\n      <text text-anchor=\\\"middle\\\" dy=\\\"0.35em\\\">3<\\/text>\\n    <\\/g>\\n  <\\/g>\\n  <g transform=\\\"translate(67.13,85.32)\\\">\\n    <g class=\\\"primitive\\\">\\n      <text text-anchor=\\\"middle\\\" dy=\\\"0.35em\\\">4<\\/text>\\n    <\\/g>\\n  <\\/g>\\n  <g transform=\\\"translate(52.98,83.42)\\\">\\n    <g class=\\\"primitive\\\">\\n      <text text-anchor=\\\"middle\\\" dy=\\\"0.35em\\\">5<\\/text>\\n    <\\/g>\\n  <\\/g>\\n  <g transform=\\\"translate(36.75,79.98)\\\">\\n    <g class=\\\"primitive\\\">\\n      <text text-anchor=\\\"middle\\\" dy=\\\"0.35em\\\">6<\\/text>\\n    <\\/g>\\n  <\\/g>\\n  <g transform=\\\"translate(61.49,77.49)\\\">\\n    <g class=\\\"primitive\\\">\\n      <text text-anchor=\\\"middle\\\" dy=\\\"0.35em\\\">7<\\/text>\\n    <\\/g>\\n  <\\/g>\\n  <g transform=\\\"translate(62.85,69.42)\\\">\\n    <g class=\\\"primitive\\\">\\n      <text text-anchor=\\\"middle\\\" dy=\\\"0.35em\\\">8<\\/text>\\n    <\\/g>\\n  <\\/g>\\n  <g transform=\\\"translate(37.44,41.11)\\\">\\n    <g class=\\\"primitive\\\">\\n      <text text-anchor=\\\"middle\\\" dy=\\\"0.35em\\\">9<\\/text>\\n    <\\/g>\\n  <\\/g>\\n  <g transform=\\\"translate(52.14,35.08)\\\">\\n    <g class=\\\"primitive\\\">\\n      <text text-anchor=\\\"middle\\\" dy=\\\"0.35em\\\">10<\\/text>\\n    <\\/g>\\n  <\\/g>\\n  <g transform=\\\"translate(49.55,62.36)\\\">\\n    <g class=\\\"primitive\\\">\\n      <text text-anchor=\\\"middle\\\" dy=\\\"0.35em\\\">11<\\/text>\\n    <\\/g>\\n  <\\/g>\\n  <g transform=\\\"translate(63.92,66.07)\\\">\\n    <g class=\\\"primitive\\\">\\n      <text text-anchor=\\\"middle\\\" dy=\\\"0.35em\\\">12<\\/text>\\n    <\\/g>\\n  <\\/g>\\n  <g transform=\\\"translate(38.96,21.61)\\\">\\n    <g class=\\\"primitive\\\">\\n      <text text-anchor=\\\"middle\\\" dy=\\\"0.35em\\\">13<\\/text>\\n    <\\/g>\\n  <\\/g>\\n  <g transform=\\\"translate(64.28,66.76)\\\">\\n    <g class=\\\"primitive\\\">\\n      <text text-anchor=\\\"middle\\\" dy=\\\"0.35em\\\">14<\\/text>\\n    <\\/g>\\n  <\\/g>\\n  <g transform=\\\"translate(72.87,61.2)\\\">\\n    <g class=\\\"primitive\\\">\\n      <text text-anchor=\\\"middle\\\" dy=\\\"0.35em\\\">15<\\/text>\\n    <\\/g>\\n  <\\/g>\\n  <g transform=\\\"translate(121.24,58.93)\\\">\\n    <g class=\\\"primitive\\\">\\n      <text text-anchor=\\\"middle\\\" dy=\\\"0.35em\\\">16<\\/text>\\n    <\\/g>\\n  <\\/g>\\n  <g transform=\\\"translate(92.05,68.84)\\\">\\n    <g class=\\\"primitive\\\">\\n      <text text-anchor=\\\"middle\\\" dy=\\\"0.35em\\\">17<\\/text>\\n    <\\/g>\\n  <\\/g>\\n  <g transform=\\\"translate(121.52,56.04)\\\">\\n    <g class=\\\"primitive\\\">\\n      <text text-anchor=\\\"middle\\\" dy=\\\"0.35em\\\">18<\\/text>\\n    <\\/g>\\n  <\\/g>\\n  <g transform=\\\"translate(66.85,41.62)\\\">\\n    <g class=\\\"primitive\\\">\\n      <text text-anchor=\\\"middle\\\" dy=\\\"0.35em\\\">19<\\/text>\\n    <\\/g>\\n  <\\/g>\\n  <g transform=\\\"translate(104.46,62.14)\\\">\\n    <g class=\\\"primitive\\\">\\n      <text text-anchor=\\\"middle\\\" dy=\\\"0.35em\\\">20<\\/text>\\n    <\\/g>\\n  <\\/g>\\n  <g transform=\\\"translate(63.04,54.79)\\\">\\n    <g class=\\\"primitive\\\">\\n      <text text-anchor=\\\"middle\\\" dy=\\\"0.35em\\\">21<\\/text>\\n    <\\/g>\\n  <\\/g>\\n  <g transform=\\\"translate(23.03,32.5)\\\">\\n    <g class=\\\"primitive\\\">\\n      <text text-anchor=\\\"middle\\\" dy=\\\"0.35em\\\">22<\\/text>\\n    <\\/g>\\n  <\\/g>\\n  <g transform=\\\"translate(42.04,44.13)\\\">\\n    <g class=\\\"primitive\\\">\\n      <text text-anchor=\\\"middle\\\" dy=\\\"0.35em\\\">23<\\/text>\\n    <\\/g>\\n  <\\/g>\\n<\\/g>\\n<g stroke-width=\\\"0\\\" stroke=\\\"#000000\\\" stroke-opacity=\\\"0.000\\\" id=\\\"img-f9540d0e-4\\\">\\n  <g transform=\\\"translate(62.32,17)\\\" fill=\\\"#808080\\\">\\n    <circle cx=\\\"0\\\" cy=\\\"0\\\" r=\\\"3.65\\\" class=\\\"primitive\\\"\\/>\\n  <\\/g>\\n  <g transform=\\\"translate(87.69,91.67)\\\" fill=\\\"#808080\\\">\\n    <circle cx=\\\"0\\\" cy=\\\"0\\\" r=\\\"3.65\\\" class=\\\"primitive\\\"\\/>\\n  <\\/g>\\n  <g transform=\\\"translate(31.1,84.05)\\\" fill=\\\"#808080\\\">\\n    <circle cx=\\\"0\\\" cy=\\\"0\\\" r=\\\"3.65\\\" class=\\\"primitive\\\"\\/>\\n  <\\/g>\\n  <g transform=\\\"translate(53.69,67.77)\\\" fill=\\\"#808080\\\">\\n    <circle cx=\\\"0\\\" cy=\\\"0\\\" r=\\\"3.65\\\" class=\\\"primitive\\\"\\/>\\n  <\\/g>\\n  <g transform=\\\"translate(65.13,60.35)\\\" fill=\\\"#808080\\\">\\n    <circle cx=\\\"0\\\" cy=\\\"0\\\" r=\\\"3.65\\\" class=\\\"primitive\\\"\\/>\\n  <\\/g>\\n  <g transform=\\\"translate(90.34,74.39)\\\" fill=\\\"#808080\\\">\\n    <circle cx=\\\"0\\\" cy=\\\"0\\\" r=\\\"3.65\\\" class=\\\"primitive\\\"\\/>\\n  <\\/g>\\n  <g transform=\\\"translate(38.33,26.04)\\\" fill=\\\"#808080\\\">\\n    <circle cx=\\\"0\\\" cy=\\\"0\\\" r=\\\"3.65\\\" class=\\\"primitive\\\"\\/>\\n  <\\/g>\\n  <g transform=\\\"translate(11.79,30.63)\\\" fill=\\\"#808080\\\">\\n    <circle cx=\\\"0\\\" cy=\\\"0\\\" r=\\\"3.65\\\" class=\\\"primitive\\\"\\/>\\n  <\\/g>\\n  <g transform=\\\"translate(37.14,46.14)\\\" fill=\\\"#808080\\\">\\n    <circle cx=\\\"0\\\" cy=\\\"0\\\" r=\\\"3.65\\\" class=\\\"primitive\\\"\\/>\\n  <\\/g>\\n  <g transform=\\\"translate(60.28,83.21)\\\" fill=\\\"#808080\\\">\\n    <circle cx=\\\"0\\\" cy=\\\"0\\\" r=\\\"3.65\\\" class=\\\"primitive\\\"\\/>\\n  <\\/g>\\n  <g transform=\\\"translate(40.82,8.33)\\\" fill=\\\"#808080\\\">\\n    <circle cx=\\\"0\\\" cy=\\\"0\\\" r=\\\"3.65\\\" class=\\\"primitive\\\"\\/>\\n  <\\/g>\\n  <g transform=\\\"translate(96.07,63.75)\\\" fill=\\\"#808080\\\">\\n    <circle cx=\\\"0\\\" cy=\\\"0\\\" r=\\\"3.65\\\" class=\\\"primitive\\\"\\/>\\n  <\\/g>\\n  <g transform=\\\"translate(97.17,52.2)\\\" fill=\\\"#808080\\\">\\n    <circle cx=\\\"0\\\" cy=\\\"0\\\" r=\\\"3.65\\\" class=\\\"primitive\\\"\\/>\\n  <\\/g>\\n  <g transform=\\\"translate(129.64,57.32)\\\" fill=\\\"#808080\\\">\\n    <circle cx=\\\"0\\\" cy=\\\"0\\\" r=\\\"3.65\\\" class=\\\"primitive\\\"\\/>\\n  <\\/g>\\n  <g transform=\\\"translate(56.75,38.1)\\\" fill=\\\"#808080\\\">\\n    <circle cx=\\\"0\\\" cy=\\\"0\\\" r=\\\"3.65\\\" class=\\\"primitive\\\"\\/>\\n  <\\/g>\\n<\\/g>\\n<g font-size=\\\"4\\\" stroke=\\\"#000000\\\" stroke-opacity=\\\"0.000\\\" fill=\\\"#000000\\\" id=\\\"img-f9540d0e-5\\\">\\n  <g transform=\\\"translate(62.32,17)\\\">\\n    <g class=\\\"primitive\\\">\\n      <text text-anchor=\\\"middle\\\" dy=\\\"0.35em\\\">1<\\/text>\\n    <\\/g>\\n  <\\/g>\\n  <g transform=\\\"translate(87.69,91.67)\\\">\\n    <g class=\\\"primitive\\\">\\n      <text text-anchor=\\\"middle\\\" dy=\\\"0.35em\\\">2<\\/text>\\n    <\\/g>\\n  <\\/g>\\n  <g transform=\\\"translate(31.1,84.05)\\\">\\n    <g class=\\\"primitive\\\">\\n      <text text-anchor=\\\"middle\\\" dy=\\\"0.35em\\\">3<\\/text>\\n    <\\/g>\\n  <\\/g>\\n  <g transform=\\\"translate(53.69,67.77)\\\">\\n    <g class=\\\"primitive\\\">\\n      <text text-anchor=\\\"middle\\\" dy=\\\"0.35em\\\">4<\\/text>\\n    <\\/g>\\n  <\\/g>\\n  <g transform=\\\"translate(65.13,60.35)\\\">\\n    <g class=\\\"primitive\\\">\\n      <text text-anchor=\\\"middle\\\" dy=\\\"0.35em\\\">5<\\/text>\\n    <\\/g>\\n  <\\/g>\\n  <g transform=\\\"translate(90.34,74.39)\\\">\\n    <g class=\\\"primitive\\\">\\n      <text text-anchor=\\\"middle\\\" dy=\\\"0.35em\\\">6<\\/text>\\n    <\\/g>\\n  <\\/g>\\n  <g transform=\\\"translate(38.33,26.04)\\\">\\n    <g class=\\\"primitive\\\">\\n      <text text-anchor=\\\"middle\\\" dy=\\\"0.35em\\\">7<\\/text>\\n    <\\/g>\\n  <\\/g>\\n  <g transform=\\\"translate(11.79,30.63)\\\">\\n    <g class=\\\"primitive\\\">\\n      <text text-anchor=\\\"middle\\\" dy=\\\"0.35em\\\">8<\\/text>\\n    <\\/g>\\n  <\\/g>\\n  <g transform=\\\"translate(37.14,46.14)\\\">\\n    <g class=\\\"primitive\\\">\\n      <text text-anchor=\\\"middle\\\" dy=\\\"0.35em\\\">9<\\/text>\\n    <\\/g>\\n  <\\/g>\\n  <g transform=\\\"translate(60.28,83.21)\\\">\\n    <g class=\\\"primitive\\\">\\n      <text text-anchor=\\\"middle\\\" dy=\\\"0.35em\\\">10<\\/text>\\n    <\\/g>\\n  <\\/g>\\n  <g transform=\\\"translate(40.82,8.33)\\\">\\n    <g class=\\\"primitive\\\">\\n      <text text-anchor=\\\"middle\\\" dy=\\\"0.35em\\\">11<\\/text>\\n    <\\/g>\\n  <\\/g>\\n  <g transform=\\\"translate(96.07,63.75)\\\">\\n    <g class=\\\"primitive\\\">\\n      <text text-anchor=\\\"middle\\\" dy=\\\"0.35em\\\">12<\\/text>\\n    <\\/g>\\n  <\\/g>\\n  <g transform=\\\"translate(97.17,52.2)\\\">\\n    <g class=\\\"primitive\\\">\\n      <text text-anchor=\\\"middle\\\" dy=\\\"0.35em\\\">13<\\/text>\\n    <\\/g>\\n  <\\/g>\\n  <g transform=\\\"translate(129.64,57.32)\\\">\\n    <g class=\\\"primitive\\\">\\n      <text text-anchor=\\\"middle\\\" dy=\\\"0.35em\\\">14<\\/text>\\n    <\\/g>\\n  <\\/g>\\n  <g transform=\\\"translate(56.75,38.1)\\\">\\n    <g class=\\\"primitive\\\">\\n      <text text-anchor=\\\"middle\\\" dy=\\\"0.35em\\\">15<\\/text>\\n    <\\/g>\\n  <\\/g>\\n<\\/g>\\n<\\/svg>\\n\"},\"nodeType\":\"DOM\",\"type\":\"node\",\"instanceArgs\":{\"namespace\":\"html\",\"tag\":\"div\"},\"children\":[]}]}}}},\"children\":[{\"props\":{},\"nodeType\":\"ObservableNode\",\"type\":\"node\",\"instanceArgs\":{\"id\":\"ob_12\",\"name\":\"obs-node\"},\"children\":[]}]}]},\n",
       "        );\n",
       "    } else {\n",
       "        document\n",
       "            .querySelector('[data-webio-mountpoint=\"13718558611863051652\"]')\n",
       "            .innerHTML = '<strong>WebIO not detected.</strong>';\n",
       "    }\n",
       "    </script>\n",
       "</div>\n"
      ],
      "text/plain": [
       "Widget{:manipulate,Any}(OrderedDict{Symbol,Any}(:loop=>Widget{:slider,Int64}(OrderedDict{Symbol,Any}(:changes=>Observable{Int64} with 1 listeners. Value:\n",
       "0,:value=>Observable{Int64} with 2 listeners. Value:\n",
       "5), Observable{Int64} with 2 listeners. Value:\n",
       "5, Scope(\"knockout-component-445c54a5-22cf-48aa-bc7e-a2492035de0f\", Node{DOM}(DOM(:html, :div), Any[Node{DOM}(DOM(:html, :div), Any[Node{DOM}(DOM(:html, :label), Any[\"loop\"], Dict{Symbol,Any}(:className=>\"interact \",:style=>Dict{Any,Any}(:padding=>\"5px 10px 0px 10px\")), 1)], Dict{Symbol,Any}(:attributes=>Dict(\"style\"=>\"text-align:right;width:18%\")), 2), Node{DOM}(DOM(:html, :div), Any[Node{DOM}(DOM(:html, :input), Any[], Dict{Symbol,Any}(:max=>9,:min=>1,:attributes=>Dict{Any,Any}(:type=>\"range\",Symbol(\"data-bind\")=>\"numericValue: value, valueUpdate: 'input', event: {change : function () {this.changes(this.changes()+1)}}\",\"orient\"=>\"horizontal\"),:step=>1,:className=>\"slider slider is-fullwidth\",:style=>Dict{Any,Any}()), 0)], Dict{Symbol,Any}(:attributes=>Dict(\"style\"=>\"flex-grow:1; margin: 0 2%\")), 1), Node{DOM}(DOM(:html, :div), Any[Node{DOM}(DOM(:html, :p), Any[], Dict{Symbol,Any}(:attributes=>Dict(\"data-bind\"=>\"text: value\")), 0)], Dict{Symbol,Any}(:attributes=>Dict(\"style\"=>\"width:18%\")), 1)], Dict{Symbol,Any}(:attributes=>Dict(\"style\"=>\"display:flex; justify-content:center; align-items:center;\")), 7), Dict{String,Tuple{Observables.AbstractObservable,Union{Nothing, Bool}}}(\"changes\"=>(Observable{Int64} with 1 listeners. Value:\n",
       "0, nothing),\"value\"=>(Observable{Int64} with 2 listeners. Value:\n",
       "5, nothing)), Set(String[]), nothing, Any[\"knockout\"=>\"/Users/stevenj/.julia/packages/Knockout/JIqpG/src/../assets/knockout.js\", \"knockout_punches\"=>\"/Users/stevenj/.julia/packages/Knockout/JIqpG/src/../assets/knockout_punches.js\", \"/Users/stevenj/.julia/packages/InteractBase/Q4IkI/src/../assets/all.js\", \"/Users/stevenj/.julia/packages/InteractBase/Q4IkI/src/../assets/style.css\", \"/Users/stevenj/.julia/packages/InteractBulma/Ohu5Y/src/../assets/main.css\"], Dict{Any,Any}(\"_promises\"=>Dict{Any,Any}(\"importsLoaded\"=>Any[JSString(\"function (ko, koPunches) {\\n    ko.punches.enableAll();\\n    ko.bindingHandlers.numericValue = {\\n        init : function(element, valueAccessor, allBindings, data, context) {\\n            var stringified = ko.observable(ko.unwrap(valueAccessor()));\\n            stringified.subscribe(function(value) {\\n                var val = parseFloat(value);\\n                if (!isNaN(val)) {\\n                    valueAccessor()(val);\\n                }\\n            })\\n            valueAccessor().subscribe(function(value) {\\n                var str = JSON.stringify(value);\\n                if ((str == \\\"0\\\") && ([\\\"-0\\\", \\\"-0.\\\"].indexOf(stringified()) >= 0))\\n                     return;\\n                 if ([\\\"null\\\", \\\"\\\"].indexOf(str) >= 0)\\n                     return;\\n                stringified(str);\\n            })\\n            ko.applyBindingsToNode(element, { value: stringified, valueUpdate: allBindings.get('valueUpdate')}, context);\\n        }\\n    };\\n    var json_data = JSON.parse(\\\"{\\\\\\\"changes\\\\\\\":0,\\\\\\\"value\\\\\\\":5}\\\");\\n    var self = this;\\n    function AppViewModel() {\\n        for (var key in json_data) {\\n            var el = json_data[key];\\n            this[key] = Array.isArray(el) ? ko.observableArray(el) : ko.observable(el);\\n        }\\n        \\n        \\n        [this[\\\"changes\\\"].subscribe((function (val){!(this.valueFromJulia[\\\"changes\\\"]) ? (_webIOScope.setObservableValue({\\\"name\\\":\\\"changes\\\",\\\"scope\\\":\\\"knockout-component-445c54a5-22cf-48aa-bc7e-a2492035de0f\\\",\\\"id\\\":\\\"ob_09\\\",\\\"type\\\":\\\"observable\\\"},val)) : undefined; return this.valueFromJulia[\\\"changes\\\"]=false}),self),this[\\\"value\\\"].subscribe((function (val){!(this.valueFromJulia[\\\"value\\\"]) ? (_webIOScope.setObservableValue({\\\"name\\\":\\\"value\\\",\\\"scope\\\":\\\"knockout-component-445c54a5-22cf-48aa-bc7e-a2492035de0f\\\",\\\"id\\\":\\\"ob_08\\\",\\\"type\\\":\\\"observable\\\"},val)) : undefined; return this.valueFromJulia[\\\"value\\\"]=false}),self)]\\n        \\n    }\\n    self.model = new AppViewModel();\\n    self.valueFromJulia = {};\\n    for (var key in json_data) {\\n        self.valueFromJulia[key] = false;\\n    }\\n    ko.applyBindings(self.model, self.dom);\\n}\\n\")]),\"changes\"=>Any[JSString(\"(function (val){return (val!=this.model[\\\"changes\\\"]()) ? (this.valueFromJulia[\\\"changes\\\"]=true, this.model[\\\"changes\\\"](val)) : undefined})\")],\"value\"=>Any[JSString(\"(function (val){return (val!=this.model[\\\"value\\\"]()) ? (this.valueFromJulia[\\\"value\\\"]=true, this.model[\\\"value\\\"](val)) : undefined})\")]), ConnectionPool(Channel{Any}(sz_max:9223372036854775807,sz_curr:0), Set(AbstractConnection[]), Channel{AbstractConnection}(sz_max:32,sz_curr:0))), ##52#53{#dom#13{##dom#11#12{Dict{Any,Any},DOM}},typeof(scope)}(#dom#13{##dom#11#12{Dict{Any,Any},DOM}}(##dom#11#12{Dict{Any,Any},DOM}(Dict{Any,Any}(:className=>\"field\"), DOM(:html, :div))), scope))), Observable{Any} with 0 listeners. Value:\n",
       "MyGraph({15, 23} directed Int64 metagraph with Float64 weights defined by :weight (default weight 1.0)), nothing, getfield(Main, Symbol(\"##21#23\")){Observable{Any}}(Observable{Any} with 0 listeners. Value:\n",
       "MyGraph({15, 23} directed Int64 metagraph with Float64 weights defined by :weight (default weight 1.0))))"
      ]
     },
     "execution_count": 20,
     "metadata": {
      "application/vnd.webio.node+json": {
       "kernelId": "ce8f9bc2-a3f5-447e-9f03-bf67c5c9ae34"
      }
     },
     "output_type": "execute_result"
    }
   ],
   "source": [
    "gbig = randgraph(15, 2)\n",
    "animloops(gbig)"
   ]
  },
  {
   "cell_type": "markdown",
   "metadata": {},
   "source": [
    "Conversely, the *independent* rows of $A$ (corresponding to the **pivot columns** of the rref form of $A^T$) form a **maximal set of edges with no loops**.  A graph with no loops is called a [tree](https://en.wikipedia.org/wiki/Tree_(graph_theory)), and this particular tree is called a [spanning tree](https://en.wikipedia.org/wiki/Spanning_tree) because it touches all of (\"spans\") the nodes (assuming the graph is connected).\n",
    "\n",
    "Let's color the spanning tree (loop-free edges) of our example graph red:"
   ]
  },
  {
   "cell_type": "code",
   "execution_count": 21,
   "metadata": {},
   "outputs": [
    {
     "data": {
      "image/svg+xml": [
       "<?xml version=\"1.0\" encoding=\"UTF-8\"?>\n",
       "<svg xmlns=\"http://www.w3.org/2000/svg\"\n",
       "     xmlns:xlink=\"http://www.w3.org/1999/xlink\"\n",
       "     version=\"1.2\"\n",
       "     width=\"141.42mm\" height=\"100mm\" viewBox=\"0 0 141.42 100\"\n",
       "     stroke=\"none\"\n",
       "     fill=\"#000000\"\n",
       "     stroke-width=\"0.3\"\n",
       "     font-size=\"3.88\"\n",
       ">\n",
       "<defs>\n",
       "  <marker id=\"arrow\" markerWidth=\"15\" markerHeight=\"7\" refX=\"5\" refY=\"3.5\" orient=\"auto\" markerUnits=\"strokeWidth\">\n",
       "    <path d=\"M0,0 L15,3.5 L0,7 z\" stroke=\"context-stroke\" fill=\"context-stroke\"/>\n",
       "  </marker>\n",
       "</defs>\n",
       "<g stroke-width=\"1.22\" fill=\"#000000\" fill-opacity=\"0.000\" id=\"img-b23e649a-1\">\n",
       "  <g transform=\"translate(101.62,69.71)\" stroke=\"#FF0000\">\n",
       "    <path fill=\"none\" d=\"M22.98,-10.57 L -22.98 10.57\" class=\"primitive\"/>\n",
       "  </g>\n",
       "  <g transform=\"translate(106.66,40.76)\" stroke=\"#FF0000\">\n",
       "    <path fill=\"none\" d=\"M-18.7,-13.08 L 18.7 13.08\" class=\"primitive\"/>\n",
       "  </g>\n",
       "  <g transform=\"translate(58.22,37.58)\" stroke=\"#FF0000\">\n",
       "    <path fill=\"none\" d=\"M20.58,-10.42 L -20.58 10.42\" class=\"primitive\"/>\n",
       "  </g>\n",
       "  <g transform=\"translate(55.5,16.51)\" stroke=\"#FF0000\">\n",
       "    <path fill=\"none\" d=\"M-22.63,-6.56 L 22.63 6.56\" class=\"primitive\"/>\n",
       "  </g>\n",
       "  <g transform=\"translate(42.69,87.13)\" stroke=\"#FF0000\">\n",
       "    <path fill=\"none\" d=\"M25.02,-3.67 L -25.02 3.67\" class=\"primitive\"/>\n",
       "  </g>\n",
       "  <g transform=\"translate(53.18,66.53)\" stroke=\"#D3D3D3\">\n",
       "    <path fill=\"none\" d=\"M16.4,12.9 L -16.4 -12.9\" class=\"primitive\"/>\n",
       "  </g>\n",
       "  <g transform=\"translate(22.27,71.07)\" stroke=\"#D3D3D3\">\n",
       "    <path fill=\"none\" d=\"M-8.45,16.59 L 8.45 -16.59\" class=\"primitive\"/>\n",
       "  </g>\n",
       "  <g transform=\"translate(30.03,29.41)\" stroke=\"#D3D3D3\">\n",
       "    <path fill=\"none\" d=\"M2.18,16.84 L -2.18 -16.84\" class=\"primitive\"/>\n",
       "  </g>\n",
       "</g>\n",
       "<g stroke-width=\"1.22\" id=\"img-b23e649a-2\">\n",
       "  <g transform=\"translate(81.74,78.85)\" stroke=\"#FF0000\">\n",
       "    <path fill=\"none\" d=\"M2.65,0.48 L -3.09 1.42 0.45 -1.91\" class=\"primitive\"/>\n",
       "  </g>\n",
       "  <g transform=\"translate(122.74,52)\" stroke=\"#FF0000\">\n",
       "    <path fill=\"none\" d=\"M0.1,-1.93 L 2.62 1.84 -2.73 0.1\" class=\"primitive\"/>\n",
       "  </g>\n",
       "  <g transform=\"translate(40.64,46.48)\" stroke=\"#FF0000\">\n",
       "    <path fill=\"none\" d=\"M2.67,0.4 L -3 1.52 0.33 -1.92\" class=\"primitive\"/>\n",
       "  </g>\n",
       "  <g transform=\"translate(74.71,22.08)\" stroke=\"#FF0000\">\n",
       "    <path fill=\"none\" d=\"M-0.94,-1.81 L 3.42 0.99 -2.47 0.82\" class=\"primitive\"/>\n",
       "  </g>\n",
       "  <g transform=\"translate(21.29,90.27)\" stroke=\"#FF0000\">\n",
       "    <path fill=\"none\" d=\"M2.22,1.13 L -3.61 0.53 1.4 -1.66\" class=\"primitive\"/>\n",
       "  </g>\n",
       "  <g transform=\"translate(39.24,55.58)\" stroke=\"#D3D3D3\">\n",
       "    <path fill=\"none\" d=\"M-0.26,1.92 L -2.47 -1.94 2.73 0.02\" class=\"primitive\"/>\n",
       "  </g>\n",
       "  <g transform=\"translate(29.46,56.93)\" stroke=\"#D3D3D3\">\n",
       "    <path fill=\"none\" d=\"M-2.52,0.75 L 1.25 -2.46 1.27 1.71\" class=\"primitive\"/>\n",
       "  </g>\n",
       "  <g transform=\"translate(28.19,15.17)\" stroke=\"#D3D3D3\">\n",
       "    <path fill=\"none\" d=\"M-1.84,1.43 L -0.34 -2.6 2.18 1.17\" class=\"primitive\"/>\n",
       "  </g>\n",
       "</g>\n",
       "<g font-size=\"4\" stroke=\"#000000\" stroke-opacity=\"0.000\" fill=\"#000000\" id=\"img-b23e649a-3\">\n",
       "  <g transform=\"translate(87.61,76.15)\">\n",
       "    <g class=\"primitive\">\n",
       "      <text text-anchor=\"middle\" dy=\"0.35em\">1</text>\n",
       "    </g>\n",
       "  </g>\n",
       "  <g transform=\"translate(118.15,48.79)\">\n",
       "    <g class=\"primitive\">\n",
       "      <text text-anchor=\"middle\" dy=\"0.35em\">2</text>\n",
       "    </g>\n",
       "  </g>\n",
       "  <g transform=\"translate(45.49,44.03)\">\n",
       "    <g class=\"primitive\">\n",
       "      <text text-anchor=\"middle\" dy=\"0.35em\">3</text>\n",
       "    </g>\n",
       "  </g>\n",
       "  <g transform=\"translate(69.59,20.6)\">\n",
       "    <g class=\"primitive\">\n",
       "      <text text-anchor=\"middle\" dy=\"0.35em\">4</text>\n",
       "    </g>\n",
       "  </g>\n",
       "  <g transform=\"translate(27.24,89.4)\">\n",
       "    <g class=\"primitive\">\n",
       "      <text text-anchor=\"middle\" dy=\"0.35em\">5</text>\n",
       "    </g>\n",
       "  </g>\n",
       "  <g transform=\"translate(42.96,58.51)\">\n",
       "    <g class=\"primitive\">\n",
       "      <text text-anchor=\"middle\" dy=\"0.35em\">6</text>\n",
       "    </g>\n",
       "  </g>\n",
       "  <g transform=\"translate(27.51,60.77)\">\n",
       "    <g class=\"primitive\">\n",
       "      <text text-anchor=\"middle\" dy=\"0.35em\">7</text>\n",
       "    </g>\n",
       "  </g>\n",
       "  <g transform=\"translate(28.66,18.87)\">\n",
       "    <g class=\"primitive\">\n",
       "      <text text-anchor=\"middle\" dy=\"0.35em\">8</text>\n",
       "    </g>\n",
       "  </g>\n",
       "</g>\n",
       "<g stroke-width=\"0\" stroke=\"#000000\" stroke-opacity=\"0.000\" id=\"img-b23e649a-4\">\n",
       "  <g transform=\"translate(129.64,56.82)\" fill=\"#808080\">\n",
       "    <circle cx=\"0\" cy=\"0\" r=\"5.77\" class=\"primitive\"/>\n",
       "  </g>\n",
       "  <g transform=\"translate(83.69,24.69)\" fill=\"#808080\">\n",
       "    <circle cx=\"0\" cy=\"0\" r=\"5.77\" class=\"primitive\"/>\n",
       "  </g>\n",
       "  <g transform=\"translate(27.3,8.33)\" fill=\"#808080\">\n",
       "    <circle cx=\"0\" cy=\"0\" r=\"5.77\" class=\"primitive\"/>\n",
       "  </g>\n",
       "  <g transform=\"translate(73.6,82.59)\" fill=\"#808080\">\n",
       "    <circle cx=\"0\" cy=\"0\" r=\"5.77\" class=\"primitive\"/>\n",
       "  </g>\n",
       "  <g transform=\"translate(11.79,91.67)\" fill=\"#808080\">\n",
       "    <circle cx=\"0\" cy=\"0\" r=\"5.77\" class=\"primitive\"/>\n",
       "  </g>\n",
       "  <g transform=\"translate(32.75,50.48)\" fill=\"#808080\">\n",
       "    <circle cx=\"0\" cy=\"0\" r=\"5.77\" class=\"primitive\"/>\n",
       "  </g>\n",
       "</g>\n",
       "<g font-size=\"4\" stroke=\"#000000\" stroke-opacity=\"0.000\" fill=\"#000000\" id=\"img-b23e649a-5\">\n",
       "  <g transform=\"translate(129.64,56.82)\">\n",
       "    <g class=\"primitive\">\n",
       "      <text text-anchor=\"middle\" dy=\"0.35em\">1</text>\n",
       "    </g>\n",
       "  </g>\n",
       "  <g transform=\"translate(83.69,24.69)\">\n",
       "    <g class=\"primitive\">\n",
       "      <text text-anchor=\"middle\" dy=\"0.35em\">2</text>\n",
       "    </g>\n",
       "  </g>\n",
       "  <g transform=\"translate(27.3,8.33)\">\n",
       "    <g class=\"primitive\">\n",
       "      <text text-anchor=\"middle\" dy=\"0.35em\">3</text>\n",
       "    </g>\n",
       "  </g>\n",
       "  <g transform=\"translate(73.6,82.59)\">\n",
       "    <g class=\"primitive\">\n",
       "      <text text-anchor=\"middle\" dy=\"0.35em\">4</text>\n",
       "    </g>\n",
       "  </g>\n",
       "  <g transform=\"translate(11.79,91.67)\">\n",
       "    <g class=\"primitive\">\n",
       "      <text text-anchor=\"middle\" dy=\"0.35em\">5</text>\n",
       "    </g>\n",
       "  </g>\n",
       "  <g transform=\"translate(32.75,50.48)\">\n",
       "    <g class=\"primitive\">\n",
       "      <text text-anchor=\"middle\" dy=\"0.35em\">6</text>\n",
       "    </g>\n",
       "  </g>\n",
       "</g>\n",
       "</svg>\n"
      ],
      "text/plain": [
       "MyGraph({6, 8} directed Int64 metagraph with Float64 weights defined by :weight (default weight 1.0))"
      ]
     },
     "execution_count": 21,
     "metadata": {},
     "output_type": "execute_result"
    }
   ],
   "source": [
    "colortree(g)"
   ]
  },
  {
   "cell_type": "markdown",
   "metadata": {},
   "source": [
    "We can also discard all of the edges that are *not* in the spanning tree, and we are left with a more boring graph of *just* the spanning tree:"
   ]
  },
  {
   "cell_type": "code",
   "execution_count": 22,
   "metadata": {},
   "outputs": [
    {
     "data": {
      "image/svg+xml": [
       "<?xml version=\"1.0\" encoding=\"UTF-8\"?>\n",
       "<svg xmlns=\"http://www.w3.org/2000/svg\"\n",
       "     xmlns:xlink=\"http://www.w3.org/1999/xlink\"\n",
       "     version=\"1.2\"\n",
       "     width=\"141.42mm\" height=\"100mm\" viewBox=\"0 0 141.42 100\"\n",
       "     stroke=\"none\"\n",
       "     fill=\"#000000\"\n",
       "     stroke-width=\"0.3\"\n",
       "     font-size=\"3.88\"\n",
       ">\n",
       "<defs>\n",
       "  <marker id=\"arrow\" markerWidth=\"15\" markerHeight=\"7\" refX=\"5\" refY=\"3.5\" orient=\"auto\" markerUnits=\"strokeWidth\">\n",
       "    <path d=\"M0,0 L15,3.5 L0,7 z\" stroke=\"context-stroke\" fill=\"context-stroke\"/>\n",
       "  </marker>\n",
       "</defs>\n",
       "<g stroke-width=\"1.22\" fill=\"#000000\" fill-opacity=\"0.000\" id=\"img-b96c06aa-1\">\n",
       "  <g transform=\"translate(102.04,60.54)\" stroke=\"#D3D3D3\">\n",
       "    <path fill=\"none\" d=\"M-4.81,-7.68 L 4.81 7.68\" class=\"primitive\"/>\n",
       "  </g>\n",
       "  <g transform=\"translate(87.3,36.95)\" stroke=\"#D3D3D3\">\n",
       "    <path fill=\"none\" d=\"M-5.07,-8.13 L 5.07 8.13\" class=\"primitive\"/>\n",
       "  </g>\n",
       "  <g transform=\"translate(45.79,18.78)\" stroke=\"#D3D3D3\">\n",
       "    <path fill=\"none\" d=\"M28.18,5.09 L -28.18 -5.09\" class=\"primitive\"/>\n",
       "  </g>\n",
       "  <g transform=\"translate(104.72,16.63)\" stroke=\"#D3D3D3\">\n",
       "    <path fill=\"none\" d=\"M19.48,-6.49 L -19.48 6.49\" class=\"primitive\"/>\n",
       "  </g>\n",
       "  <g transform=\"translate(115.4,81.89)\" stroke=\"#D3D3D3\">\n",
       "    <path fill=\"none\" d=\"M-3.69,-5.89 L 3.69 5.89\" class=\"primitive\"/>\n",
       "  </g>\n",
       "</g>\n",
       "<g stroke-width=\"1.22\" id=\"img-b96c06aa-2\">\n",
       "  <g transform=\"translate(105.36,65.84)\" stroke=\"#D3D3D3\">\n",
       "    <path fill=\"none\" d=\"M1.1,-1.77 L 1.49 2.39 -2.59 -0.62\" class=\"primitive\"/>\n",
       "  </g>\n",
       "  <g transform=\"translate(90.88,42.7)\" stroke=\"#D3D3D3\">\n",
       "    <path fill=\"none\" d=\"M1.1,-1.77 L 1.49 2.39 -2.59 -0.62\" class=\"primitive\"/>\n",
       "  </g>\n",
       "  <g transform=\"translate(21.19,14.34)\" stroke=\"#D3D3D3\">\n",
       "    <path fill=\"none\" d=\"M1.29,1.7 L -3.58 -0.65 2.29 -1.06\" class=\"primitive\"/>\n",
       "  </g>\n",
       "  <g transform=\"translate(88.58,22.01)\" stroke=\"#D3D3D3\">\n",
       "    <path fill=\"none\" d=\"M2.53,0.73 L -3.34 1.11 0.81 -1.85\" class=\"primitive\"/>\n",
       "  </g>\n",
       "  <g transform=\"translate(117.6,85.39)\" stroke=\"#D3D3D3\">\n",
       "    <path fill=\"none\" d=\"M1.1,-1.77 L 1.49 2.39 -2.59 -0.62\" class=\"primitive\"/>\n",
       "  </g>\n",
       "</g>\n",
       "<g font-size=\"4\" stroke=\"#000000\" stroke-opacity=\"0.000\" fill=\"#000000\" id=\"img-b96c06aa-3\">\n",
       "  <g transform=\"translate(105.66,66.33)\">\n",
       "    <g class=\"primitive\">\n",
       "      <text text-anchor=\"middle\" dy=\"0.35em\">1</text>\n",
       "    </g>\n",
       "  </g>\n",
       "  <g transform=\"translate(91.05,42.96)\">\n",
       "    <g class=\"primitive\">\n",
       "      <text text-anchor=\"middle\" dy=\"0.35em\">2</text>\n",
       "    </g>\n",
       "  </g>\n",
       "  <g transform=\"translate(28.79,15.71)\">\n",
       "    <g class=\"primitive\">\n",
       "      <text text-anchor=\"middle\" dy=\"0.35em\">3</text>\n",
       "    </g>\n",
       "  </g>\n",
       "  <g transform=\"translate(92.26,20.78)\">\n",
       "    <g class=\"primitive\">\n",
       "      <text text-anchor=\"middle\" dy=\"0.35em\">4</text>\n",
       "    </g>\n",
       "  </g>\n",
       "  <g transform=\"translate(118.46,86.78)\">\n",
       "    <g class=\"primitive\">\n",
       "      <text text-anchor=\"middle\" dy=\"0.35em\">5</text>\n",
       "    </g>\n",
       "  </g>\n",
       "</g>\n",
       "<g stroke-width=\"0\" stroke=\"#000000\" stroke-opacity=\"0.000\" id=\"img-b96c06aa-4\">\n",
       "  <g transform=\"translate(94.8,48.97)\" fill=\"#808080\">\n",
       "    <circle cx=\"0\" cy=\"0\" r=\"5.77\" class=\"primitive\"/>\n",
       "  </g>\n",
       "  <g transform=\"translate(79.8,24.93)\" fill=\"#808080\">\n",
       "    <circle cx=\"0\" cy=\"0\" r=\"5.77\" class=\"primitive\"/>\n",
       "  </g>\n",
       "  <g transform=\"translate(129.64,8.33)\" fill=\"#808080\">\n",
       "    <circle cx=\"0\" cy=\"0\" r=\"5.77\" class=\"primitive\"/>\n",
       "  </g>\n",
       "  <g transform=\"translate(109.28,72.11)\" fill=\"#808080\">\n",
       "    <circle cx=\"0\" cy=\"0\" r=\"5.77\" class=\"primitive\"/>\n",
       "  </g>\n",
       "  <g transform=\"translate(121.52,91.67)\" fill=\"#808080\">\n",
       "    <circle cx=\"0\" cy=\"0\" r=\"5.77\" class=\"primitive\"/>\n",
       "  </g>\n",
       "  <g transform=\"translate(11.79,12.64)\" fill=\"#808080\">\n",
       "    <circle cx=\"0\" cy=\"0\" r=\"5.77\" class=\"primitive\"/>\n",
       "  </g>\n",
       "</g>\n",
       "<g font-size=\"4\" stroke=\"#000000\" stroke-opacity=\"0.000\" fill=\"#000000\" id=\"img-b96c06aa-5\">\n",
       "  <g transform=\"translate(94.8,48.97)\">\n",
       "    <g class=\"primitive\">\n",
       "      <text text-anchor=\"middle\" dy=\"0.35em\">1</text>\n",
       "    </g>\n",
       "  </g>\n",
       "  <g transform=\"translate(79.8,24.93)\">\n",
       "    <g class=\"primitive\">\n",
       "      <text text-anchor=\"middle\" dy=\"0.35em\">2</text>\n",
       "    </g>\n",
       "  </g>\n",
       "  <g transform=\"translate(129.64,8.33)\">\n",
       "    <g class=\"primitive\">\n",
       "      <text text-anchor=\"middle\" dy=\"0.35em\">3</text>\n",
       "    </g>\n",
       "  </g>\n",
       "  <g transform=\"translate(109.28,72.11)\">\n",
       "    <g class=\"primitive\">\n",
       "      <text text-anchor=\"middle\" dy=\"0.35em\">4</text>\n",
       "    </g>\n",
       "  </g>\n",
       "  <g transform=\"translate(121.52,91.67)\">\n",
       "    <g class=\"primitive\">\n",
       "      <text text-anchor=\"middle\" dy=\"0.35em\">5</text>\n",
       "    </g>\n",
       "  </g>\n",
       "  <g transform=\"translate(11.79,12.64)\">\n",
       "    <g class=\"primitive\">\n",
       "      <text text-anchor=\"middle\" dy=\"0.35em\">6</text>\n",
       "    </g>\n",
       "  </g>\n",
       "</g>\n",
       "</svg>\n"
      ],
      "text/plain": [
       "MyGraph({6, 5} directed Int64 metagraph with Float64 weights defined by :weight (default weight 1.0))"
      ]
     },
     "execution_count": 22,
     "metadata": {},
     "output_type": "execute_result"
    }
   ],
   "source": [
    "tree(g)"
   ]
  },
  {
   "cell_type": "markdown",
   "metadata": {},
   "source": [
    "We can do the same thing for our bigger random example:"
   ]
  },
  {
   "cell_type": "code",
   "execution_count": 23,
   "metadata": {},
   "outputs": [
    {
     "data": {
      "image/svg+xml": [
       "<?xml version=\"1.0\" encoding=\"UTF-8\"?>\n",
       "<svg xmlns=\"http://www.w3.org/2000/svg\"\n",
       "     xmlns:xlink=\"http://www.w3.org/1999/xlink\"\n",
       "     version=\"1.2\"\n",
       "     width=\"141.42mm\" height=\"100mm\" viewBox=\"0 0 141.42 100\"\n",
       "     stroke=\"none\"\n",
       "     fill=\"#000000\"\n",
       "     stroke-width=\"0.3\"\n",
       "     font-size=\"3.88\"\n",
       ">\n",
       "<defs>\n",
       "  <marker id=\"arrow\" markerWidth=\"15\" markerHeight=\"7\" refX=\"5\" refY=\"3.5\" orient=\"auto\" markerUnits=\"strokeWidth\">\n",
       "    <path d=\"M0,0 L15,3.5 L0,7 z\" stroke=\"context-stroke\" fill=\"context-stroke\"/>\n",
       "  </marker>\n",
       "</defs>\n",
       "<g stroke-width=\"0.77\" fill=\"#000000\" fill-opacity=\"0.000\" id=\"img-624e7208-1\">\n",
       "  <g transform=\"translate(51.57,12.67)\" stroke=\"#FF0000\">\n",
       "    <path fill=\"none\" d=\"M7.44,3 L -7.44 -3\" class=\"primitive\"/>\n",
       "  </g>\n",
       "  <g transform=\"translate(59.53,27.55)\" stroke=\"#FF0000\">\n",
       "    <path fill=\"none\" d=\"M2.09,-7.9 L -2.09 7.9\" class=\"primitive\"/>\n",
       "  </g>\n",
       "  <g transform=\"translate(89.02,83.03)\" stroke=\"#FF0000\">\n",
       "    <path fill=\"none\" d=\"M-0.91,5.97 L 0.91 -5.97\" class=\"primitive\"/>\n",
       "  </g>\n",
       "  <g transform=\"translate(73.99,87.44)\" stroke=\"#FF0000\">\n",
       "    <path fill=\"none\" d=\"M10.22,3.15 L -10.22 -3.15\" class=\"primitive\"/>\n",
       "  </g>\n",
       "  <g transform=\"translate(45.69,83.63)\" stroke=\"#FF0000\">\n",
       "    <path fill=\"none\" d=\"M-10.79,0.31 L 10.79 -0.31\" class=\"primitive\"/>\n",
       "  </g>\n",
       "  <g transform=\"translate(42.39,75.91)\" stroke=\"#FF0000\">\n",
       "    <path fill=\"none\" d=\"M8.63,-6.22 L -8.63 6.22\" class=\"primitive\"/>\n",
       "  </g>\n",
       "  <g transform=\"translate(62.71,71.78)\" stroke=\"#FF0000\">\n",
       "    <path fill=\"none\" d=\"M1.86,-8.77 L -1.86 8.77\" class=\"primitive\"/>\n",
       "  </g>\n",
       "  <g transform=\"translate(72.01,71.08)\" stroke=\"#D3D3D3\">\n",
       "    <path fill=\"none\" d=\"M14.64,2.64 L -14.64 -2.64\" class=\"primitive\"/>\n",
       "  </g>\n",
       "  <g transform=\"translate(37.74,36.09)\" stroke=\"#FF0000\">\n",
       "    <path fill=\"none\" d=\"M0.44,-7.36 L -0.44 7.36\" class=\"primitive\"/>\n",
       "  </g>\n",
       "  <g transform=\"translate(47.54,32.07)\" stroke=\"#FF0000\">\n",
       "    <path fill=\"none\" d=\"M-6.42,-4.2 L 6.42 4.2\" class=\"primitive\"/>\n",
       "  </g>\n",
       "  <g transform=\"translate(45.41,56.95)\" stroke=\"#FF0000\">\n",
       "    <path fill=\"none\" d=\"M-6.47,-8.45 L 6.47 8.45\" class=\"primitive\"/>\n",
       "  </g>\n",
       "  <g transform=\"translate(62.71,71.78)\" stroke=\"#D3D3D3\">\n",
       "    <path fill=\"none\" d=\"M-1.86,8.77 L 1.86 -8.77\" class=\"primitive\"/>\n",
       "  </g>\n",
       "  <g transform=\"translate(39.58,17.19)\" stroke=\"#D3D3D3\">\n",
       "    <path fill=\"none\" d=\"M0.87,-6.18 L -0.87 6.18\" class=\"primitive\"/>\n",
       "  </g>\n",
       "  <g transform=\"translate(74.88,65.76)\" stroke=\"#FF0000\">\n",
       "    <path fill=\"none\" d=\"M17.42,-1.65 L -17.42 1.65\" class=\"primitive\"/>\n",
       "  </g>\n",
       "  <g transform=\"translate(80.6,62.05)\" stroke=\"#D3D3D3\">\n",
       "    <path fill=\"none\" d=\"M11.71,1.29 L -11.71 -1.29\" class=\"primitive\"/>\n",
       "  </g>\n",
       "  <g transform=\"translate(112.85,60.54)\" stroke=\"#FF0000\">\n",
       "    <path fill=\"none\" d=\"M-13.11,2.51 L 13.11 -2.51\" class=\"primitive\"/>\n",
       "  </g>\n",
       "  <g transform=\"translate(93.75,63.29)\" stroke=\"#FF0000\">\n",
       "    <path fill=\"none\" d=\"M2.61,-8.46 L -2.61 8.46\" class=\"primitive\"/>\n",
       "  </g>\n",
       "  <g transform=\"translate(113.4,54.76)\" stroke=\"#D3D3D3\">\n",
       "    <path fill=\"none\" d=\"M-12.52,-1.98 L 12.52 1.98\" class=\"primitive\"/>\n",
       "  </g>\n",
       "  <g transform=\"translate(76.96,45.15)\" stroke=\"#D3D3D3\">\n",
       "    <path fill=\"none\" d=\"M16.8,5.86 L -16.8 -5.86\" class=\"primitive\"/>\n",
       "  </g>\n",
       "  <g transform=\"translate(112.85,60.54)\" stroke=\"#D3D3D3\">\n",
       "    <path fill=\"none\" d=\"M13.11,-2.51 L -13.11 2.51\" class=\"primitive\"/>\n",
       "  </g>\n",
       "  <g transform=\"translate(60.94,49.23)\" stroke=\"#D3D3D3\">\n",
       "    <path fill=\"none\" d=\"M-3.21,-8.53 L 3.21 8.53\" class=\"primitive\"/>\n",
       "  </g>\n",
       "  <g transform=\"translate(34.27,34.36)\" stroke=\"#FF0000\">\n",
       "    <path fill=\"none\" d=\"M18.78,3.12 L -18.78 -3.12\" class=\"primitive\"/>\n",
       "  </g>\n",
       "  <g transform=\"translate(46.94,42.12)\" stroke=\"#D3D3D3\">\n",
       "    <path fill=\"none\" d=\"M6.51,-2.67 L -6.51 2.67\" class=\"primitive\"/>\n",
       "  </g>\n",
       "</g>\n",
       "<g stroke-width=\"0.77\" id=\"img-624e7208-2\">\n",
       "  <g transform=\"translate(47.34,10.96)\" stroke=\"#FF0000\">\n",
       "    <path fill=\"none\" d=\"M0.6,1.88 L -3.21 -1.29 2.6 -0.59\" class=\"primitive\"/>\n",
       "  </g>\n",
       "  <g transform=\"translate(58.12,32.89)\" stroke=\"#FF0000\">\n",
       "    <path fill=\"none\" d=\"M2.32,-1.02 L -0.68 2.57 -1.64 -1.54\" class=\"primitive\"/>\n",
       "  </g>\n",
       "  <g transform=\"translate(89.53,79.65)\" stroke=\"#FF0000\">\n",
       "    <path fill=\"none\" d=\"M-2.2,1.14 L 0.4 -2.6 1.81 1.45\" class=\"primitive\"/>\n",
       "  </g>\n",
       "  <g transform=\"translate(67.15,85.33)\" stroke=\"#FF0000\">\n",
       "    <path fill=\"none\" d=\"M0.89,1.83 L -3.38 -1.04 2.5 -0.78\" class=\"primitive\"/>\n",
       "  </g>\n",
       "  <g transform=\"translate(52.79,83.42)\" stroke=\"#FF0000\">\n",
       "    <path fill=\"none\" d=\"M-1.93,-1.37 L 3.69 -0.11 -1.76 1.48\" class=\"primitive\"/>\n",
       "  </g>\n",
       "  <g transform=\"translate(36.35,80.26)\" stroke=\"#FF0000\">\n",
       "    <path fill=\"none\" d=\"M2.73,0.07 L -2.59 1.86 -0.15 -1.93\" class=\"primitive\"/>\n",
       "  </g>\n",
       "  <g transform=\"translate(61.39,77.97)\" stroke=\"#FF0000\">\n",
       "    <path fill=\"none\" d=\"M2.27,-1.08 L -0.55 2.58 -1.72 -1.5\" class=\"primitive\"/>\n",
       "  </g>\n",
       "  <g transform=\"translate(60.95,69.08)\" stroke=\"#D3D3D3\">\n",
       "    <path fill=\"none\" d=\"M1.29,1.7 L -3.58 -0.65 2.29 -1.06\" class=\"primitive\"/>\n",
       "  </g>\n",
       "  <g transform=\"translate(37.45,40.84)\" stroke=\"#FF0000\">\n",
       "    <path fill=\"none\" d=\"M2.09,-1.24 L -0.16 2.61 -1.94 -1.36\" class=\"primitive\"/>\n",
       "  </g>\n",
       "  <g transform=\"translate(51.25,34.5)\" stroke=\"#FF0000\">\n",
       "    <path fill=\"none\" d=\"M0.02,-1.93 L 2.71 1.77 -2.72 0.16\" class=\"primitive\"/>\n",
       "  </g>\n",
       "  <g transform=\"translate(50.12,63.11)\" stroke=\"#FF0000\">\n",
       "    <path fill=\"none\" d=\"M0.89,-1.83 L 1.76 2.3 -2.65 -0.47\" class=\"primitive\"/>\n",
       "  </g>\n",
       "  <g transform=\"translate(64.02,65.59)\" stroke=\"#D3D3D3\">\n",
       "    <path fill=\"none\" d=\"M-2.27,1.08 L 0.55 -2.58 1.72 1.5\" class=\"primitive\"/>\n",
       "  </g>\n",
       "  <g transform=\"translate(39.08,20.76)\" stroke=\"#D3D3D3\">\n",
       "    <path fill=\"none\" d=\"M2.19,-1.16 L -0.37 2.6 -1.82 -1.44\" class=\"primitive\"/>\n",
       "  </g>\n",
       "  <g transform=\"translate(61.12,67.06)\" stroke=\"#FF0000\">\n",
       "    <path fill=\"none\" d=\"M2.1,1.24 L -3.66 0.35 1.56 -1.59\" class=\"primitive\"/>\n",
       "  </g>\n",
       "  <g transform=\"translate(72.54,61.17)\" stroke=\"#D3D3D3\">\n",
       "    <path fill=\"none\" d=\"M1.51,1.61 L -3.65 -0.4 2.13 -1.21\" class=\"primitive\"/>\n",
       "  </g>\n",
       "  <g transform=\"translate(122.4,58.71)\" stroke=\"#FF0000\">\n",
       "    <path fill=\"none\" d=\"M-2.31,-1.03 L 3.56 -0.68 -1.26 1.72\" class=\"primitive\"/>\n",
       "  </g>\n",
       "  <g transform=\"translate(91.93,69.21)\" stroke=\"#FF0000\">\n",
       "    <path fill=\"none\" d=\"M2.36,-0.97 L -0.79 2.55 -1.58 -1.58\" class=\"primitive\"/>\n",
       "  </g>\n",
       "  <g transform=\"translate(122.32,56.17)\" stroke=\"#D3D3D3\">\n",
       "    <path fill=\"none\" d=\"M-1.36,-1.68 L 3.6 0.57 -2.24 1.11\" class=\"primitive\"/>\n",
       "  </g>\n",
       "  <g transform=\"translate(63.47,40.44)\" stroke=\"#D3D3D3\">\n",
       "    <path fill=\"none\" d=\"M0.76,1.86 L -3.31 -1.16 2.55 -0.7\" class=\"primitive\"/>\n",
       "  </g>\n",
       "  <g transform=\"translate(103.31,62.36)\" stroke=\"#D3D3D3\">\n",
       "    <path fill=\"none\" d=\"M2.31,1.03 L -3.56 0.68 1.26 -1.72\" class=\"primitive\"/>\n",
       "  </g>\n",
       "  <g transform=\"translate(63.2,55.23)\" stroke=\"#D3D3D3\">\n",
       "    <path fill=\"none\" d=\"M1.47,-1.63 L 0.95 2.52 -2.42 -0.89\" class=\"primitive\"/>\n",
       "  </g>\n",
       "  <g transform=\"translate(19.08,31.84)\" stroke=\"#FF0000\">\n",
       "    <path fill=\"none\" d=\"M1.34,1.69 L -3.59 -0.6 2.26 -1.09\" class=\"primitive\"/>\n",
       "  </g>\n",
       "  <g transform=\"translate(43.62,43.48)\" stroke=\"#D3D3D3\">\n",
       "    <path fill=\"none\" d=\"M2.61,0.58 L -3.19 1.31 0.59 -1.89\" class=\"primitive\"/>\n",
       "  </g>\n",
       "</g>\n",
       "<g font-size=\"4\" stroke=\"#000000\" stroke-opacity=\"0.000\" fill=\"#000000\" id=\"img-624e7208-3\">\n",
       "  <g transform=\"translate(46.2,10.5)\">\n",
       "    <g class=\"primitive\">\n",
       "      <text text-anchor=\"middle\" dy=\"0.35em\">1</text>\n",
       "    </g>\n",
       "  </g>\n",
       "  <g transform=\"translate(58.14,32.82)\">\n",
       "    <g class=\"primitive\">\n",
       "      <text text-anchor=\"middle\" dy=\"0.35em\">2</text>\n",
       "    </g>\n",
       "  </g>\n",
       "  <g transform=\"translate(89.68,78.71)\">\n",
       "    <g class=\"primitive\">\n",
       "      <text text-anchor=\"middle\" dy=\"0.35em\">3</text>\n",
       "    </g>\n",
       "  </g>\n",
       "  <g transform=\"translate(67.13,85.32)\">\n",
       "    <g class=\"primitive\">\n",
       "      <text text-anchor=\"middle\" dy=\"0.35em\">4</text>\n",
       "    </g>\n",
       "  </g>\n",
       "  <g transform=\"translate(52.98,83.42)\">\n",
       "    <g class=\"primitive\">\n",
       "      <text text-anchor=\"middle\" dy=\"0.35em\">5</text>\n",
       "    </g>\n",
       "  </g>\n",
       "  <g transform=\"translate(36.75,79.98)\">\n",
       "    <g class=\"primitive\">\n",
       "      <text text-anchor=\"middle\" dy=\"0.35em\">6</text>\n",
       "    </g>\n",
       "  </g>\n",
       "  <g transform=\"translate(61.49,77.49)\">\n",
       "    <g class=\"primitive\">\n",
       "      <text text-anchor=\"middle\" dy=\"0.35em\">7</text>\n",
       "    </g>\n",
       "  </g>\n",
       "  <g transform=\"translate(62.85,69.42)\">\n",
       "    <g class=\"primitive\">\n",
       "      <text text-anchor=\"middle\" dy=\"0.35em\">8</text>\n",
       "    </g>\n",
       "  </g>\n",
       "  <g transform=\"translate(37.44,41.11)\">\n",
       "    <g class=\"primitive\">\n",
       "      <text text-anchor=\"middle\" dy=\"0.35em\">9</text>\n",
       "    </g>\n",
       "  </g>\n",
       "  <g transform=\"translate(52.14,35.08)\">\n",
       "    <g class=\"primitive\">\n",
       "      <text text-anchor=\"middle\" dy=\"0.35em\">10</text>\n",
       "    </g>\n",
       "  </g>\n",
       "  <g transform=\"translate(49.55,62.36)\">\n",
       "    <g class=\"primitive\">\n",
       "      <text text-anchor=\"middle\" dy=\"0.35em\">11</text>\n",
       "    </g>\n",
       "  </g>\n",
       "  <g transform=\"translate(63.92,66.07)\">\n",
       "    <g class=\"primitive\">\n",
       "      <text text-anchor=\"middle\" dy=\"0.35em\">12</text>\n",
       "    </g>\n",
       "  </g>\n",
       "  <g transform=\"translate(38.96,21.61)\">\n",
       "    <g class=\"primitive\">\n",
       "      <text text-anchor=\"middle\" dy=\"0.35em\">13</text>\n",
       "    </g>\n",
       "  </g>\n",
       "  <g transform=\"translate(64.28,66.76)\">\n",
       "    <g class=\"primitive\">\n",
       "      <text text-anchor=\"middle\" dy=\"0.35em\">14</text>\n",
       "    </g>\n",
       "  </g>\n",
       "  <g transform=\"translate(72.87,61.2)\">\n",
       "    <g class=\"primitive\">\n",
       "      <text text-anchor=\"middle\" dy=\"0.35em\">15</text>\n",
       "    </g>\n",
       "  </g>\n",
       "  <g transform=\"translate(121.24,58.93)\">\n",
       "    <g class=\"primitive\">\n",
       "      <text text-anchor=\"middle\" dy=\"0.35em\">16</text>\n",
       "    </g>\n",
       "  </g>\n",
       "  <g transform=\"translate(92.05,68.84)\">\n",
       "    <g class=\"primitive\">\n",
       "      <text text-anchor=\"middle\" dy=\"0.35em\">17</text>\n",
       "    </g>\n",
       "  </g>\n",
       "  <g transform=\"translate(121.52,56.04)\">\n",
       "    <g class=\"primitive\">\n",
       "      <text text-anchor=\"middle\" dy=\"0.35em\">18</text>\n",
       "    </g>\n",
       "  </g>\n",
       "  <g transform=\"translate(66.85,41.62)\">\n",
       "    <g class=\"primitive\">\n",
       "      <text text-anchor=\"middle\" dy=\"0.35em\">19</text>\n",
       "    </g>\n",
       "  </g>\n",
       "  <g transform=\"translate(104.46,62.14)\">\n",
       "    <g class=\"primitive\">\n",
       "      <text text-anchor=\"middle\" dy=\"0.35em\">20</text>\n",
       "    </g>\n",
       "  </g>\n",
       "  <g transform=\"translate(63.04,54.79)\">\n",
       "    <g class=\"primitive\">\n",
       "      <text text-anchor=\"middle\" dy=\"0.35em\">21</text>\n",
       "    </g>\n",
       "  </g>\n",
       "  <g transform=\"translate(23.03,32.5)\">\n",
       "    <g class=\"primitive\">\n",
       "      <text text-anchor=\"middle\" dy=\"0.35em\">22</text>\n",
       "    </g>\n",
       "  </g>\n",
       "  <g transform=\"translate(42.04,44.13)\">\n",
       "    <g class=\"primitive\">\n",
       "      <text text-anchor=\"middle\" dy=\"0.35em\">23</text>\n",
       "    </g>\n",
       "  </g>\n",
       "</g>\n",
       "<g stroke-width=\"0\" stroke=\"#000000\" stroke-opacity=\"0.000\" id=\"img-624e7208-4\">\n",
       "  <g transform=\"translate(62.32,17)\" fill=\"#808080\">\n",
       "    <circle cx=\"0\" cy=\"0\" r=\"3.65\" class=\"primitive\"/>\n",
       "  </g>\n",
       "  <g transform=\"translate(87.69,91.67)\" fill=\"#808080\">\n",
       "    <circle cx=\"0\" cy=\"0\" r=\"3.65\" class=\"primitive\"/>\n",
       "  </g>\n",
       "  <g transform=\"translate(31.1,84.05)\" fill=\"#808080\">\n",
       "    <circle cx=\"0\" cy=\"0\" r=\"3.65\" class=\"primitive\"/>\n",
       "  </g>\n",
       "  <g transform=\"translate(53.69,67.77)\" fill=\"#808080\">\n",
       "    <circle cx=\"0\" cy=\"0\" r=\"3.65\" class=\"primitive\"/>\n",
       "  </g>\n",
       "  <g transform=\"translate(65.13,60.35)\" fill=\"#808080\">\n",
       "    <circle cx=\"0\" cy=\"0\" r=\"3.65\" class=\"primitive\"/>\n",
       "  </g>\n",
       "  <g transform=\"translate(90.34,74.39)\" fill=\"#808080\">\n",
       "    <circle cx=\"0\" cy=\"0\" r=\"3.65\" class=\"primitive\"/>\n",
       "  </g>\n",
       "  <g transform=\"translate(38.33,26.04)\" fill=\"#808080\">\n",
       "    <circle cx=\"0\" cy=\"0\" r=\"3.65\" class=\"primitive\"/>\n",
       "  </g>\n",
       "  <g transform=\"translate(11.79,30.63)\" fill=\"#808080\">\n",
       "    <circle cx=\"0\" cy=\"0\" r=\"3.65\" class=\"primitive\"/>\n",
       "  </g>\n",
       "  <g transform=\"translate(37.14,46.14)\" fill=\"#808080\">\n",
       "    <circle cx=\"0\" cy=\"0\" r=\"3.65\" class=\"primitive\"/>\n",
       "  </g>\n",
       "  <g transform=\"translate(60.28,83.21)\" fill=\"#808080\">\n",
       "    <circle cx=\"0\" cy=\"0\" r=\"3.65\" class=\"primitive\"/>\n",
       "  </g>\n",
       "  <g transform=\"translate(40.82,8.33)\" fill=\"#808080\">\n",
       "    <circle cx=\"0\" cy=\"0\" r=\"3.65\" class=\"primitive\"/>\n",
       "  </g>\n",
       "  <g transform=\"translate(96.07,63.75)\" fill=\"#808080\">\n",
       "    <circle cx=\"0\" cy=\"0\" r=\"3.65\" class=\"primitive\"/>\n",
       "  </g>\n",
       "  <g transform=\"translate(97.17,52.2)\" fill=\"#808080\">\n",
       "    <circle cx=\"0\" cy=\"0\" r=\"3.65\" class=\"primitive\"/>\n",
       "  </g>\n",
       "  <g transform=\"translate(129.64,57.32)\" fill=\"#808080\">\n",
       "    <circle cx=\"0\" cy=\"0\" r=\"3.65\" class=\"primitive\"/>\n",
       "  </g>\n",
       "  <g transform=\"translate(56.75,38.1)\" fill=\"#808080\">\n",
       "    <circle cx=\"0\" cy=\"0\" r=\"3.65\" class=\"primitive\"/>\n",
       "  </g>\n",
       "</g>\n",
       "<g font-size=\"4\" stroke=\"#000000\" stroke-opacity=\"0.000\" fill=\"#000000\" id=\"img-624e7208-5\">\n",
       "  <g transform=\"translate(62.32,17)\">\n",
       "    <g class=\"primitive\">\n",
       "      <text text-anchor=\"middle\" dy=\"0.35em\">1</text>\n",
       "    </g>\n",
       "  </g>\n",
       "  <g transform=\"translate(87.69,91.67)\">\n",
       "    <g class=\"primitive\">\n",
       "      <text text-anchor=\"middle\" dy=\"0.35em\">2</text>\n",
       "    </g>\n",
       "  </g>\n",
       "  <g transform=\"translate(31.1,84.05)\">\n",
       "    <g class=\"primitive\">\n",
       "      <text text-anchor=\"middle\" dy=\"0.35em\">3</text>\n",
       "    </g>\n",
       "  </g>\n",
       "  <g transform=\"translate(53.69,67.77)\">\n",
       "    <g class=\"primitive\">\n",
       "      <text text-anchor=\"middle\" dy=\"0.35em\">4</text>\n",
       "    </g>\n",
       "  </g>\n",
       "  <g transform=\"translate(65.13,60.35)\">\n",
       "    <g class=\"primitive\">\n",
       "      <text text-anchor=\"middle\" dy=\"0.35em\">5</text>\n",
       "    </g>\n",
       "  </g>\n",
       "  <g transform=\"translate(90.34,74.39)\">\n",
       "    <g class=\"primitive\">\n",
       "      <text text-anchor=\"middle\" dy=\"0.35em\">6</text>\n",
       "    </g>\n",
       "  </g>\n",
       "  <g transform=\"translate(38.33,26.04)\">\n",
       "    <g class=\"primitive\">\n",
       "      <text text-anchor=\"middle\" dy=\"0.35em\">7</text>\n",
       "    </g>\n",
       "  </g>\n",
       "  <g transform=\"translate(11.79,30.63)\">\n",
       "    <g class=\"primitive\">\n",
       "      <text text-anchor=\"middle\" dy=\"0.35em\">8</text>\n",
       "    </g>\n",
       "  </g>\n",
       "  <g transform=\"translate(37.14,46.14)\">\n",
       "    <g class=\"primitive\">\n",
       "      <text text-anchor=\"middle\" dy=\"0.35em\">9</text>\n",
       "    </g>\n",
       "  </g>\n",
       "  <g transform=\"translate(60.28,83.21)\">\n",
       "    <g class=\"primitive\">\n",
       "      <text text-anchor=\"middle\" dy=\"0.35em\">10</text>\n",
       "    </g>\n",
       "  </g>\n",
       "  <g transform=\"translate(40.82,8.33)\">\n",
       "    <g class=\"primitive\">\n",
       "      <text text-anchor=\"middle\" dy=\"0.35em\">11</text>\n",
       "    </g>\n",
       "  </g>\n",
       "  <g transform=\"translate(96.07,63.75)\">\n",
       "    <g class=\"primitive\">\n",
       "      <text text-anchor=\"middle\" dy=\"0.35em\">12</text>\n",
       "    </g>\n",
       "  </g>\n",
       "  <g transform=\"translate(97.17,52.2)\">\n",
       "    <g class=\"primitive\">\n",
       "      <text text-anchor=\"middle\" dy=\"0.35em\">13</text>\n",
       "    </g>\n",
       "  </g>\n",
       "  <g transform=\"translate(129.64,57.32)\">\n",
       "    <g class=\"primitive\">\n",
       "      <text text-anchor=\"middle\" dy=\"0.35em\">14</text>\n",
       "    </g>\n",
       "  </g>\n",
       "  <g transform=\"translate(56.75,38.1)\">\n",
       "    <g class=\"primitive\">\n",
       "      <text text-anchor=\"middle\" dy=\"0.35em\">15</text>\n",
       "    </g>\n",
       "  </g>\n",
       "</g>\n",
       "</svg>\n"
      ],
      "text/plain": [
       "MyGraph({15, 23} directed Int64 metagraph with Float64 weights defined by :weight (default weight 1.0))"
      ]
     },
     "execution_count": 23,
     "metadata": {},
     "output_type": "execute_result"
    }
   ],
   "source": [
    "colortree(gbig)"
   ]
  },
  {
   "cell_type": "code",
   "execution_count": 24,
   "metadata": {},
   "outputs": [
    {
     "data": {
      "image/svg+xml": [
       "<?xml version=\"1.0\" encoding=\"UTF-8\"?>\n",
       "<svg xmlns=\"http://www.w3.org/2000/svg\"\n",
       "     xmlns:xlink=\"http://www.w3.org/1999/xlink\"\n",
       "     version=\"1.2\"\n",
       "     width=\"141.42mm\" height=\"100mm\" viewBox=\"0 0 141.42 100\"\n",
       "     stroke=\"none\"\n",
       "     fill=\"#000000\"\n",
       "     stroke-width=\"0.3\"\n",
       "     font-size=\"3.88\"\n",
       ">\n",
       "<defs>\n",
       "  <marker id=\"arrow\" markerWidth=\"15\" markerHeight=\"7\" refX=\"5\" refY=\"3.5\" orient=\"auto\" markerUnits=\"strokeWidth\">\n",
       "    <path d=\"M0,0 L15,3.5 L0,7 z\" stroke=\"context-stroke\" fill=\"context-stroke\"/>\n",
       "  </marker>\n",
       "</defs>\n",
       "<g stroke-width=\"0.77\" fill=\"#000000\" fill-opacity=\"0.000\" id=\"img-84a4852d-1\">\n",
       "  <g transform=\"translate(43.77,16.83)\" stroke=\"#D3D3D3\">\n",
       "    <path fill=\"none\" d=\"M-4.65,2.04 L 4.65 -2.04\" class=\"primitive\"/>\n",
       "  </g>\n",
       "  <g transform=\"translate(32.44,29.45)\" stroke=\"#D3D3D3\">\n",
       "    <path fill=\"none\" d=\"M2.47,-6.56 L -2.47 6.56\" class=\"primitive\"/>\n",
       "  </g>\n",
       "  <g transform=\"translate(101.69,36.41)\" stroke=\"#D3D3D3\">\n",
       "    <path fill=\"none\" d=\"M-2.13,8.03 L 2.13 -8.03\" class=\"primitive\"/>\n",
       "  </g>\n",
       "  <g transform=\"translate(94.3,58.74)\" stroke=\"#D3D3D3\">\n",
       "    <path fill=\"none\" d=\"M3.55,-9.06 L -3.55 9.06\" class=\"primitive\"/>\n",
       "  </g>\n",
       "  <g transform=\"translate(92.18,79.9)\" stroke=\"#D3D3D3\">\n",
       "    <path fill=\"none\" d=\"M1.77,6.86 L -1.77 -6.86\" class=\"primitive\"/>\n",
       "  </g>\n",
       "  <g transform=\"translate(91.64,86.11)\" stroke=\"#D3D3D3\">\n",
       "    <path fill=\"none\" d=\"M-0.94,-1.03 L 0.94 1.03\" class=\"primitive\"/>\n",
       "  </g>\n",
       "  <g transform=\"translate(83.82,78.03)\" stroke=\"#D3D3D3\">\n",
       "    <path fill=\"none\" d=\"M-4.09,5.28 L 4.09 -5.28\" class=\"primitive\"/>\n",
       "  </g>\n",
       "  <g transform=\"translate(54.38,63.65)\" stroke=\"#D3D3D3\">\n",
       "    <path fill=\"none\" d=\"M-7.44,-5.35 L 7.44 5.35\" class=\"primitive\"/>\n",
       "  </g>\n",
       "  <g transform=\"translate(36.63,47.5)\" stroke=\"#D3D3D3\">\n",
       "    <path fill=\"none\" d=\"M5.67,6.59 L -5.67 -6.59\" class=\"primitive\"/>\n",
       "  </g>\n",
       "  <g transform=\"translate(76.56,76.87)\" stroke=\"#D3D3D3\">\n",
       "    <path fill=\"none\" d=\"M-8.95,-4.41 L 8.95 4.41\" class=\"primitive\"/>\n",
       "  </g>\n",
       "  <g transform=\"translate(100.21,86.49)\" stroke=\"#D3D3D3\">\n",
       "    <path fill=\"none\" d=\"M8.1,2.57 L -8.1 -2.57\" class=\"primitive\"/>\n",
       "  </g>\n",
       "  <g transform=\"translate(120.71,90.92)\" stroke=\"#D3D3D3\">\n",
       "    <path fill=\"none\" d=\"M-5.15,-0.43 L 5.15 0.43\" class=\"primitive\"/>\n",
       "  </g>\n",
       "  <g transform=\"translate(106.38,17.04)\" stroke=\"#D3D3D3\">\n",
       "    <path fill=\"none\" d=\"M1.29,-6.04 L -1.29 6.04\" class=\"primitive\"/>\n",
       "  </g>\n",
       "  <g transform=\"translate(20.39,36.93)\" stroke=\"#D3D3D3\">\n",
       "    <path fill=\"none\" d=\"M4.94,0.97 L -4.94 -0.97\" class=\"primitive\"/>\n",
       "  </g>\n",
       "</g>\n",
       "<g stroke-width=\"0.77\" id=\"img-84a4852d-2\">\n",
       "  <g transform=\"translate(45.28,16.17)\" stroke=\"#D3D3D3\">\n",
       "    <path fill=\"none\" d=\"M-2.63,-0.52 L 3.14 -1.37 -0.51 1.9\" class=\"primitive\"/>\n",
       "  </g>\n",
       "  <g transform=\"translate(30.92,33.49)\" stroke=\"#D3D3D3\">\n",
       "    <path fill=\"none\" d=\"M2.42,-0.9 L -0.95 2.52 -1.47 -1.63\" class=\"primitive\"/>\n",
       "  </g>\n",
       "  <g transform=\"translate(103.14,30.95)\" stroke=\"#D3D3D3\">\n",
       "    <path fill=\"none\" d=\"M-2.32,1.02 L 0.68 -2.57 1.64 1.55\" class=\"primitive\"/>\n",
       "  </g>\n",
       "  <g transform=\"translate(91.74,65.29)\" stroke=\"#D3D3D3\">\n",
       "    <path fill=\"none\" d=\"M2.44,-0.88 L -0.99 2.52 -1.45 -1.64\" class=\"primitive\"/>\n",
       "  </g>\n",
       "  <g transform=\"translate(91.08,75.61)\" stroke=\"#D3D3D3\">\n",
       "    <path fill=\"none\" d=\"M-1.65,1.54 L -0.66 -2.57 2.31 1.03\" class=\"primitive\"/>\n",
       "  </g>\n",
       "  <g transform=\"translate(90.57,84.95)\" stroke=\"#D3D3D3\">\n",
       "    <path fill=\"none\" d=\"M0.69,-1.87 L 2 2.19 -2.69 -0.32\" class=\"primitive\"/>\n",
       "  </g>\n",
       "  <g transform=\"translate(86.14,75.04)\" stroke=\"#D3D3D3\">\n",
       "    <path fill=\"none\" d=\"M-2.65,0.46 L 1.77 -2.29 0.88 1.83\" class=\"primitive\"/>\n",
       "  </g>\n",
       "  <g transform=\"translate(59.24,67.14)\" stroke=\"#D3D3D3\">\n",
       "    <path fill=\"none\" d=\"M0.14,-1.93 L 2.59 1.86 -2.73 0.07\" class=\"primitive\"/>\n",
       "  </g>\n",
       "  <g transform=\"translate(32.89,43.14)\" stroke=\"#D3D3D3\">\n",
       "    <path fill=\"none\" d=\"M-0.76,1.86 L -1.92 -2.23 2.68 0.37\" class=\"primitive\"/>\n",
       "  </g>\n",
       "  <g transform=\"translate(82.49,79.79)\" stroke=\"#D3D3D3\">\n",
       "    <path fill=\"none\" d=\"M-0.36,-1.92 L 3.03 1.49 -2.67 0.42\" class=\"primitive\"/>\n",
       "  </g>\n",
       "  <g transform=\"translate(95.47,84.99)\" stroke=\"#D3D3D3\">\n",
       "    <path fill=\"none\" d=\"M0.86,1.83 L -3.37 -1.07 2.51 -0.77\" class=\"primitive\"/>\n",
       "  </g>\n",
       "  <g transform=\"translate(122.19,91.04)\" stroke=\"#D3D3D3\">\n",
       "    <path fill=\"none\" d=\"M-1.59,-1.57 L 3.67 0.31 -2.07 1.26\" class=\"primitive\"/>\n",
       "  </g>\n",
       "  <g transform=\"translate(105.64,20.5)\" stroke=\"#D3D3D3\">\n",
       "    <path fill=\"none\" d=\"M2.27,-1.08 L -0.55 2.58 -1.72 -1.5\" class=\"primitive\"/>\n",
       "  </g>\n",
       "  <g transform=\"translate(19.01,36.66)\" stroke=\"#D3D3D3\">\n",
       "    <path fill=\"none\" d=\"M1.24,1.72 L -3.56 -0.7 2.32 -1.03\" class=\"primitive\"/>\n",
       "  </g>\n",
       "</g>\n",
       "<g font-size=\"4\" stroke=\"#000000\" stroke-opacity=\"0.000\" fill=\"#000000\" id=\"img-84a4852d-3\">\n",
       "  <g transform=\"translate(47.71,15.11)\">\n",
       "    <g class=\"primitive\">\n",
       "      <text text-anchor=\"middle\" dy=\"0.35em\">1</text>\n",
       "    </g>\n",
       "  </g>\n",
       "  <g transform=\"translate(30.72,34.03)\">\n",
       "    <g class=\"primitive\">\n",
       "      <text text-anchor=\"middle\" dy=\"0.35em\">2</text>\n",
       "    </g>\n",
       "  </g>\n",
       "  <g transform=\"translate(103.11,31.08)\">\n",
       "    <g class=\"primitive\">\n",
       "      <text text-anchor=\"middle\" dy=\"0.35em\">3</text>\n",
       "    </g>\n",
       "  </g>\n",
       "  <g transform=\"translate(92.02,64.57)\">\n",
       "    <g class=\"primitive\">\n",
       "      <text text-anchor=\"middle\" dy=\"0.35em\">4</text>\n",
       "    </g>\n",
       "  </g>\n",
       "  <g transform=\"translate(90.96,75.15)\">\n",
       "    <g class=\"primitive\">\n",
       "      <text text-anchor=\"middle\" dy=\"0.35em\">5</text>\n",
       "    </g>\n",
       "  </g>\n",
       "  <g transform=\"translate(93.14,87.76)\">\n",
       "    <g class=\"primitive\">\n",
       "      <text text-anchor=\"middle\" dy=\"0.35em\">6</text>\n",
       "    </g>\n",
       "  </g>\n",
       "  <g transform=\"translate(86.78,74.21)\">\n",
       "    <g class=\"primitive\">\n",
       "      <text text-anchor=\"middle\" dy=\"0.35em\">7</text>\n",
       "    </g>\n",
       "  </g>\n",
       "  <g transform=\"translate(59.44,67.29)\">\n",
       "    <g class=\"primitive\">\n",
       "      <text text-anchor=\"middle\" dy=\"0.35em\">8</text>\n",
       "    </g>\n",
       "  </g>\n",
       "  <g transform=\"translate(32.81,43.06)\">\n",
       "    <g class=\"primitive\">\n",
       "      <text text-anchor=\"middle\" dy=\"0.35em\">9</text>\n",
       "    </g>\n",
       "  </g>\n",
       "  <g transform=\"translate(82.6,79.85)\">\n",
       "    <g class=\"primitive\">\n",
       "      <text text-anchor=\"middle\" dy=\"0.35em\">10</text>\n",
       "    </g>\n",
       "  </g>\n",
       "  <g transform=\"translate(94.42,84.66)\">\n",
       "    <g class=\"primitive\">\n",
       "      <text text-anchor=\"middle\" dy=\"0.35em\">11</text>\n",
       "    </g>\n",
       "  </g>\n",
       "  <g transform=\"translate(125.17,91.29)\">\n",
       "    <g class=\"primitive\">\n",
       "      <text text-anchor=\"middle\" dy=\"0.35em\">12</text>\n",
       "    </g>\n",
       "  </g>\n",
       "  <g transform=\"translate(105.45,21.39)\">\n",
       "    <g class=\"primitive\">\n",
       "      <text text-anchor=\"middle\" dy=\"0.35em\">13</text>\n",
       "    </g>\n",
       "  </g>\n",
       "  <g transform=\"translate(16.09,36.09)\">\n",
       "    <g class=\"primitive\">\n",
       "      <text text-anchor=\"middle\" dy=\"0.35em\">14</text>\n",
       "    </g>\n",
       "  </g>\n",
       "</g>\n",
       "<g stroke-width=\"0\" stroke=\"#000000\" stroke-opacity=\"0.000\" id=\"img-84a4852d-4\">\n",
       "  <g transform=\"translate(35.88,20.29)\" fill=\"#808080\">\n",
       "    <circle cx=\"0\" cy=\"0\" r=\"3.65\" class=\"primitive\"/>\n",
       "  </g>\n",
       "  <g transform=\"translate(98.87,47.09)\" fill=\"#808080\">\n",
       "    <circle cx=\"0\" cy=\"0\" r=\"3.65\" class=\"primitive\"/>\n",
       "  </g>\n",
       "  <g transform=\"translate(94.64,89.4)\" fill=\"#808080\">\n",
       "    <circle cx=\"0\" cy=\"0\" r=\"3.65\" class=\"primitive\"/>\n",
       "  </g>\n",
       "  <g transform=\"translate(88.64,82.82)\" fill=\"#808080\">\n",
       "    <circle cx=\"0\" cy=\"0\" r=\"3.65\" class=\"primitive\"/>\n",
       "  </g>\n",
       "  <g transform=\"translate(77.91,85.68)\" fill=\"#808080\">\n",
       "    <circle cx=\"0\" cy=\"0\" r=\"3.65\" class=\"primitive\"/>\n",
       "  </g>\n",
       "  <g transform=\"translate(104.52,25.74)\" fill=\"#808080\">\n",
       "    <circle cx=\"0\" cy=\"0\" r=\"3.65\" class=\"primitive\"/>\n",
       "  </g>\n",
       "  <g transform=\"translate(44.28,56.38)\" fill=\"#808080\">\n",
       "    <circle cx=\"0\" cy=\"0\" r=\"3.65\" class=\"primitive\"/>\n",
       "  </g>\n",
       "  <g transform=\"translate(11.79,35.25)\" fill=\"#808080\">\n",
       "    <circle cx=\"0\" cy=\"0\" r=\"3.65\" class=\"primitive\"/>\n",
       "  </g>\n",
       "  <g transform=\"translate(64.49,70.92)\" fill=\"#808080\">\n",
       "    <circle cx=\"0\" cy=\"0\" r=\"3.65\" class=\"primitive\"/>\n",
       "  </g>\n",
       "  <g transform=\"translate(89.73,70.39)\" fill=\"#808080\">\n",
       "    <circle cx=\"0\" cy=\"0\" r=\"3.65\" class=\"primitive\"/>\n",
       "  </g>\n",
       "  <g transform=\"translate(51.66,13.38)\" fill=\"#808080\">\n",
       "    <circle cx=\"0\" cy=\"0\" r=\"3.65\" class=\"primitive\"/>\n",
       "  </g>\n",
       "  <g transform=\"translate(111.78,90.17)\" fill=\"#808080\">\n",
       "    <circle cx=\"0\" cy=\"0\" r=\"3.65\" class=\"primitive\"/>\n",
       "  </g>\n",
       "  <g transform=\"translate(108.23,8.33)\" fill=\"#808080\">\n",
       "    <circle cx=\"0\" cy=\"0\" r=\"3.65\" class=\"primitive\"/>\n",
       "  </g>\n",
       "  <g transform=\"translate(129.64,91.67)\" fill=\"#808080\">\n",
       "    <circle cx=\"0\" cy=\"0\" r=\"3.65\" class=\"primitive\"/>\n",
       "  </g>\n",
       "  <g transform=\"translate(28.99,38.61)\" fill=\"#808080\">\n",
       "    <circle cx=\"0\" cy=\"0\" r=\"3.65\" class=\"primitive\"/>\n",
       "  </g>\n",
       "</g>\n",
       "<g font-size=\"4\" stroke=\"#000000\" stroke-opacity=\"0.000\" fill=\"#000000\" id=\"img-84a4852d-5\">\n",
       "  <g transform=\"translate(35.88,20.29)\">\n",
       "    <g class=\"primitive\">\n",
       "      <text text-anchor=\"middle\" dy=\"0.35em\">1</text>\n",
       "    </g>\n",
       "  </g>\n",
       "  <g transform=\"translate(98.87,47.09)\">\n",
       "    <g class=\"primitive\">\n",
       "      <text text-anchor=\"middle\" dy=\"0.35em\">2</text>\n",
       "    </g>\n",
       "  </g>\n",
       "  <g transform=\"translate(94.64,89.4)\">\n",
       "    <g class=\"primitive\">\n",
       "      <text text-anchor=\"middle\" dy=\"0.35em\">3</text>\n",
       "    </g>\n",
       "  </g>\n",
       "  <g transform=\"translate(88.64,82.82)\">\n",
       "    <g class=\"primitive\">\n",
       "      <text text-anchor=\"middle\" dy=\"0.35em\">4</text>\n",
       "    </g>\n",
       "  </g>\n",
       "  <g transform=\"translate(77.91,85.68)\">\n",
       "    <g class=\"primitive\">\n",
       "      <text text-anchor=\"middle\" dy=\"0.35em\">5</text>\n",
       "    </g>\n",
       "  </g>\n",
       "  <g transform=\"translate(104.52,25.74)\">\n",
       "    <g class=\"primitive\">\n",
       "      <text text-anchor=\"middle\" dy=\"0.35em\">6</text>\n",
       "    </g>\n",
       "  </g>\n",
       "  <g transform=\"translate(44.28,56.38)\">\n",
       "    <g class=\"primitive\">\n",
       "      <text text-anchor=\"middle\" dy=\"0.35em\">7</text>\n",
       "    </g>\n",
       "  </g>\n",
       "  <g transform=\"translate(11.79,35.25)\">\n",
       "    <g class=\"primitive\">\n",
       "      <text text-anchor=\"middle\" dy=\"0.35em\">8</text>\n",
       "    </g>\n",
       "  </g>\n",
       "  <g transform=\"translate(64.49,70.92)\">\n",
       "    <g class=\"primitive\">\n",
       "      <text text-anchor=\"middle\" dy=\"0.35em\">9</text>\n",
       "    </g>\n",
       "  </g>\n",
       "  <g transform=\"translate(89.73,70.39)\">\n",
       "    <g class=\"primitive\">\n",
       "      <text text-anchor=\"middle\" dy=\"0.35em\">10</text>\n",
       "    </g>\n",
       "  </g>\n",
       "  <g transform=\"translate(51.66,13.38)\">\n",
       "    <g class=\"primitive\">\n",
       "      <text text-anchor=\"middle\" dy=\"0.35em\">11</text>\n",
       "    </g>\n",
       "  </g>\n",
       "  <g transform=\"translate(111.78,90.17)\">\n",
       "    <g class=\"primitive\">\n",
       "      <text text-anchor=\"middle\" dy=\"0.35em\">12</text>\n",
       "    </g>\n",
       "  </g>\n",
       "  <g transform=\"translate(108.23,8.33)\">\n",
       "    <g class=\"primitive\">\n",
       "      <text text-anchor=\"middle\" dy=\"0.35em\">13</text>\n",
       "    </g>\n",
       "  </g>\n",
       "  <g transform=\"translate(129.64,91.67)\">\n",
       "    <g class=\"primitive\">\n",
       "      <text text-anchor=\"middle\" dy=\"0.35em\">14</text>\n",
       "    </g>\n",
       "  </g>\n",
       "  <g transform=\"translate(28.99,38.61)\">\n",
       "    <g class=\"primitive\">\n",
       "      <text text-anchor=\"middle\" dy=\"0.35em\">15</text>\n",
       "    </g>\n",
       "  </g>\n",
       "</g>\n",
       "</svg>\n"
      ],
      "text/plain": [
       "MyGraph({15, 14} directed Int64 metagraph with Float64 weights defined by :weight (default weight 1.0))"
      ]
     },
     "execution_count": 24,
     "metadata": {},
     "output_type": "execute_result"
    }
   ],
   "source": [
    "tree(gbig)"
   ]
  },
  {
   "cell_type": "markdown",
   "metadata": {},
   "source": [
    "And we can make trees from even larger graphs, for fun:"
   ]
  },
  {
   "cell_type": "code",
   "execution_count": 25,
   "metadata": {},
   "outputs": [
    {
     "data": {
      "image/svg+xml": [
       "<?xml version=\"1.0\" encoding=\"UTF-8\"?>\n",
       "<svg xmlns=\"http://www.w3.org/2000/svg\"\n",
       "     xmlns:xlink=\"http://www.w3.org/1999/xlink\"\n",
       "     version=\"1.2\"\n",
       "     width=\"141.42mm\" height=\"100mm\" viewBox=\"0 0 141.42 100\"\n",
       "     stroke=\"none\"\n",
       "     fill=\"#000000\"\n",
       "     stroke-width=\"0.3\"\n",
       "     font-size=\"3.88\"\n",
       ">\n",
       "<defs>\n",
       "  <marker id=\"arrow\" markerWidth=\"15\" markerHeight=\"7\" refX=\"5\" refY=\"3.5\" orient=\"auto\" markerUnits=\"strokeWidth\">\n",
       "    <path d=\"M0,0 L15,3.5 L0,7 z\" stroke=\"context-stroke\" fill=\"context-stroke\"/>\n",
       "  </marker>\n",
       "</defs>\n",
       "<g stroke-width=\"0.42\" fill=\"#000000\" fill-opacity=\"0.000\" id=\"img-43e10fcd-1\">\n",
       "  <g transform=\"translate(70.99,53.74)\" stroke=\"#D3D3D3\">\n",
       "    <path fill=\"none\" d=\"M7.16,-3.69 L -7.16 3.69\" class=\"primitive\"/>\n",
       "  </g>\n",
       "  <g transform=\"translate(84.15,50.59)\" stroke=\"#D3D3D3\">\n",
       "    <path fill=\"none\" d=\"M-2.43,-0.79 L 2.43 0.79\" class=\"primitive\"/>\n",
       "  </g>\n",
       "  <g transform=\"translate(81.31,52.84)\" stroke=\"#D3D3D3\">\n",
       "    <path fill=\"none\" d=\"M-0.91,-2.24 L 0.91 2.24\" class=\"primitive\"/>\n",
       "  </g>\n",
       "  <g transform=\"translate(84.13,46.64)\" stroke=\"#D3D3D3\">\n",
       "    <path fill=\"none\" d=\"M-2.71,1.6 L 2.71 -1.6\" class=\"primitive\"/>\n",
       "  </g>\n",
       "  <g transform=\"translate(86.79,50.55)\" stroke=\"#D3D3D3\">\n",
       "    <path fill=\"none\" d=\"M-4.95,-0.97 L 4.95 0.97\" class=\"primitive\"/>\n",
       "  </g>\n",
       "  <g transform=\"translate(86.14,48.35)\" stroke=\"#D3D3D3\">\n",
       "    <path fill=\"none\" d=\"M-4.26,0.57 L 4.26 -0.57\" class=\"primitive\"/>\n",
       "  </g>\n",
       "  <g transform=\"translate(84.47,52.64)\" stroke=\"#D3D3D3\">\n",
       "    <path fill=\"none\" d=\"M-3.21,-2.39 L 3.21 2.39\" class=\"primitive\"/>\n",
       "  </g>\n",
       "  <g transform=\"translate(72.77,41.83)\" stroke=\"#D3D3D3\">\n",
       "    <path fill=\"none\" d=\"M-5.89,-6.14 L 5.89 6.14\" class=\"primitive\"/>\n",
       "  </g>\n",
       "  <g transform=\"translate(63.93,43.2)\" stroke=\"#D3D3D3\">\n",
       "    <path fill=\"none\" d=\"M1.49,-7.27 L -1.49 7.27\" class=\"primitive\"/>\n",
       "  </g>\n",
       "  <g transform=\"translate(61.52,32.37)\" stroke=\"#D3D3D3\">\n",
       "    <path fill=\"none\" d=\"M2.5,1.25 L -2.5 -1.25\" class=\"primitive\"/>\n",
       "  </g>\n",
       "  <g transform=\"translate(64.62,29.63)\" stroke=\"#D3D3D3\">\n",
       "    <path fill=\"none\" d=\"M0.77,3.38 L -0.77 -3.38\" class=\"primitive\"/>\n",
       "  </g>\n",
       "  <g transform=\"translate(61.33,30.39)\" stroke=\"#D3D3D3\">\n",
       "    <path fill=\"none\" d=\"M3.13,2.91 L -3.13 -2.91\" class=\"primitive\"/>\n",
       "  </g>\n",
       "  <g transform=\"translate(66.04,30.95)\" stroke=\"#D3D3D3\">\n",
       "    <path fill=\"none\" d=\"M-0.19,2.05 L 0.19 -2.05\" class=\"primitive\"/>\n",
       "  </g>\n",
       "  <g transform=\"translate(60.25,34.81)\" stroke=\"#D3D3D3\">\n",
       "    <path fill=\"none\" d=\"M3.39,-0.21 L -3.39 0.21\" class=\"primitive\"/>\n",
       "  </g>\n",
       "  <g transform=\"translate(59,31.7)\" stroke=\"#D3D3D3\">\n",
       "    <path fill=\"none\" d=\"M4.92,2.03 L -4.92 -2.03\" class=\"primitive\"/>\n",
       "  </g>\n",
       "  <g transform=\"translate(58.29,33.71)\" stroke=\"#D3D3D3\">\n",
       "    <path fill=\"none\" d=\"M5.37,0.55 L -5.37 -0.55\" class=\"primitive\"/>\n",
       "  </g>\n",
       "  <g transform=\"translate(75.9,28.76)\" stroke=\"#D3D3D3\">\n",
       "    <path fill=\"none\" d=\"M8.55,-4.79 L -8.55 4.79\" class=\"primitive\"/>\n",
       "  </g>\n",
       "  <g transform=\"translate(86.29,18.97)\" stroke=\"#D3D3D3\">\n",
       "    <path fill=\"none\" d=\"M-0.14,2.61 L 0.14 -2.61\" class=\"primitive\"/>\n",
       "  </g>\n",
       "  <g transform=\"translate(59.45,62.61)\" stroke=\"#D3D3D3\">\n",
       "    <path fill=\"none\" d=\"M2.33,-9.23 L -2.33 9.23\" class=\"primitive\"/>\n",
       "  </g>\n",
       "  <g transform=\"translate(65.82,49.06)\" stroke=\"#D3D3D3\">\n",
       "    <path fill=\"none\" d=\"M-2.28,1.78 L 2.28 -1.78\" class=\"primitive\"/>\n",
       "  </g>\n",
       "  <g transform=\"translate(66.42,50.99)\" stroke=\"#D3D3D3\">\n",
       "    <path fill=\"none\" d=\"M-2.29,0.51 L 2.29 -0.51\" class=\"primitive\"/>\n",
       "  </g>\n",
       "  <g transform=\"translate(63.12,48.09)\" stroke=\"#D3D3D3\">\n",
       "    <path fill=\"none\" d=\"M-0.61,2.4 L 0.61 -2.4\" class=\"primitive\"/>\n",
       "  </g>\n",
       "  <g transform=\"translate(62.07,49.94)\" stroke=\"#D3D3D3\">\n",
       "    <path fill=\"none\" d=\"M0.02,0.52 L -0.02 -0.52\" class=\"primitive\"/>\n",
       "  </g>\n",
       "  <g transform=\"translate(59.96,48.45)\" stroke=\"#D3D3D3\">\n",
       "    <path fill=\"none\" d=\"M1.34,2.14 L -1.34 -2.14\" class=\"primitive\"/>\n",
       "  </g>\n",
       "  <g transform=\"translate(96.74,19.86)\" stroke=\"#D3D3D3\">\n",
       "    <path fill=\"none\" d=\"M8.74,-2.62 L -8.74 2.62\" class=\"primitive\"/>\n",
       "  </g>\n",
       "  <g transform=\"translate(113.17,19.56)\" stroke=\"#D3D3D3\">\n",
       "    <path fill=\"none\" d=\"M-4.08,-2.05 L 4.08 2.05\" class=\"primitive\"/>\n",
       "  </g>\n",
       "  <g transform=\"translate(107.82,12.5)\" stroke=\"#D3D3D3\">\n",
       "    <path fill=\"none\" d=\"M-0.27,2.69 L 0.27 -2.69\" class=\"primitive\"/>\n",
       "  </g>\n",
       "  <g transform=\"translate(112.8,14.24)\" stroke=\"#D3D3D3\">\n",
       "    <path fill=\"none\" d=\"M-3.64,1.63 L 3.64 -1.63\" class=\"primitive\"/>\n",
       "  </g>\n",
       "  <g transform=\"translate(110.78,12.76)\" stroke=\"#D3D3D3\">\n",
       "    <path fill=\"none\" d=\"M-2.29,2.64 L 2.29 -2.64\" class=\"primitive\"/>\n",
       "  </g>\n",
       "  <g transform=\"translate(110.23,20.49)\" stroke=\"#D3D3D3\">\n",
       "    <path fill=\"none\" d=\"M-1.87,-2.53 L 1.87 2.53\" class=\"primitive\"/>\n",
       "  </g>\n",
       "  <g transform=\"translate(66,78.72)\" stroke=\"#D3D3D3\">\n",
       "    <path fill=\"none\" d=\"M-7.64,-4.49 L 7.64 4.49\" class=\"primitive\"/>\n",
       "  </g>\n",
       "  <g transform=\"translate(55.13,77.87)\" stroke=\"#D3D3D3\">\n",
       "    <path fill=\"none\" d=\"M1.12,-3.15 L -1.12 3.15\" class=\"primitive\"/>\n",
       "  </g>\n",
       "  <g transform=\"translate(61.39,73.29)\" stroke=\"#D3D3D3\">\n",
       "    <path fill=\"none\" d=\"M-2.55,-0 L 2.55 0\" class=\"primitive\"/>\n",
       "  </g>\n",
       "  <g transform=\"translate(52.71,77.32)\" stroke=\"#D3D3D3\">\n",
       "    <path fill=\"none\" d=\"M2.84,-2.83 L -2.84 2.83\" class=\"primitive\"/>\n",
       "  </g>\n",
       "  <g transform=\"translate(57.66,77.7)\" stroke=\"#D3D3D3\">\n",
       "    <path fill=\"none\" d=\"M-0.61,-2.95 L 0.61 2.95\" class=\"primitive\"/>\n",
       "  </g>\n",
       "  <g transform=\"translate(52.06,75.6)\" stroke=\"#D3D3D3\">\n",
       "    <path fill=\"none\" d=\"M2.98,-1.47 L -2.98 1.47\" class=\"primitive\"/>\n",
       "  </g>\n",
       "  <g transform=\"translate(60.14,76.29)\" stroke=\"#D3D3D3\">\n",
       "    <path fill=\"none\" d=\"M-2.09,-1.85 L 2.09 1.85\" class=\"primitive\"/>\n",
       "  </g>\n",
       "  <g transform=\"translate(45.41,71.88)\" stroke=\"#D3D3D3\">\n",
       "    <path fill=\"none\" d=\"M-9.29,-1.16 L 9.29 1.16\" class=\"primitive\"/>\n",
       "  </g>\n",
       "  <g transform=\"translate(27.2,67.05)\" stroke=\"#D3D3D3\">\n",
       "    <path fill=\"none\" d=\"M5.15,2.57 L -5.15 -2.57\" class=\"primitive\"/>\n",
       "  </g>\n",
       "  <g transform=\"translate(28.19,72.15)\" stroke=\"#D3D3D3\">\n",
       "    <path fill=\"none\" d=\"M3.94,-1.13 L -3.94 1.13\" class=\"primitive\"/>\n",
       "  </g>\n",
       "  <g transform=\"translate(115.29,22.76)\" stroke=\"#D3D3D3\">\n",
       "    <path fill=\"none\" d=\"M1.59,-0.13 L -1.59 0.13\" class=\"primitive\"/>\n",
       "  </g>\n",
       "  <g transform=\"translate(124.29,23.95)\" stroke=\"#D3D3D3\">\n",
       "    <path fill=\"none\" d=\"M-3.41,-0.95 L 3.41 0.95\" class=\"primitive\"/>\n",
       "  </g>\n",
       "  <g transform=\"translate(55.01,62.06)\" stroke=\"#D3D3D3\">\n",
       "    <path fill=\"none\" d=\"M5.46,-2.88 L -5.46 2.88\" class=\"primitive\"/>\n",
       "  </g>\n",
       "  <g transform=\"translate(57.08,59)\" stroke=\"#D3D3D3\">\n",
       "    <path fill=\"none\" d=\"M3.02,-0.42 L -3.02 0.42\" class=\"primitive\"/>\n",
       "  </g>\n",
       "  <g transform=\"translate(80.68,86.86)\" stroke=\"#D3D3D3\">\n",
       "    <path fill=\"none\" d=\"M-3.73,-1.87 L 3.73 1.87\" class=\"primitive\"/>\n",
       "  </g>\n",
       "  <g transform=\"translate(81.56,85.02)\" stroke=\"#D3D3D3\">\n",
       "    <path fill=\"none\" d=\"M-4.27,-0.59 L 4.27 0.59\" class=\"primitive\"/>\n",
       "  </g>\n",
       "  <g transform=\"translate(16.07,60.24)\" stroke=\"#D3D3D3\">\n",
       "    <path fill=\"none\" d=\"M2.89,2.29 L -2.89 -2.29\" class=\"primitive\"/>\n",
       "  </g>\n",
       "  <g transform=\"translate(42.78,69.28)\" stroke=\"#D3D3D3\">\n",
       "    <path fill=\"none\" d=\"M3.59,-2.44 L -3.59 2.44\" class=\"primitive\"/>\n",
       "  </g>\n",
       "  <g transform=\"translate(78.11,87.91)\" stroke=\"#D3D3D3\">\n",
       "    <path fill=\"none\" d=\"M1.88,2.46 L -1.88 -2.46\" class=\"primitive\"/>\n",
       "  </g>\n",
       "</g>\n",
       "<g stroke-width=\"0.42\" id=\"img-43e10fcd-2\">\n",
       "  <g transform=\"translate(66.81,55.89)\" stroke=\"#D3D3D3\">\n",
       "    <path fill=\"none\" d=\"M2.68,0.38 L -2.98 1.54 0.31 -1.92\" class=\"primitive\"/>\n",
       "  </g>\n",
       "  <g transform=\"translate(83.24,50.29)\" stroke=\"#D3D3D3\">\n",
       "    <path fill=\"none\" d=\"M-0.83,-1.84 L 3.35 1.09 -2.52 0.75\" class=\"primitive\"/>\n",
       "  </g>\n",
       "  <g transform=\"translate(81.2,52.57)\" stroke=\"#D3D3D3\">\n",
       "    <path fill=\"none\" d=\"M1.43,-1.65 L 1.02 2.51 -2.45 -0.86\" class=\"primitive\"/>\n",
       "  </g>\n",
       "  <g transform=\"translate(84.01,46.71)\" stroke=\"#D3D3D3\">\n",
       "    <path fill=\"none\" d=\"M-2.71,-0.26 L 2.83 -1.67 -0.12 1.93\" class=\"primitive\"/>\n",
       "  </g>\n",
       "  <g transform=\"translate(88.18,50.82)\" stroke=\"#D3D3D3\">\n",
       "    <path fill=\"none\" d=\"M-1.24,-1.72 L 3.56 0.7 -2.32 1.03\" class=\"primitive\"/>\n",
       "  </g>\n",
       "  <g transform=\"translate(86.78,48.26)\" stroke=\"#D3D3D3\">\n",
       "    <path fill=\"none\" d=\"M-2.19,-1.16 L 3.63 -0.48 -1.44 1.64\" class=\"primitive\"/>\n",
       "  </g>\n",
       "  <g transform=\"translate(85.14,53.13)\" stroke=\"#D3D3D3\">\n",
       "    <path fill=\"none\" d=\"M0.19,-1.93 L 2.54 1.89 -2.73 0.04\" class=\"primitive\"/>\n",
       "  </g>\n",
       "  <g transform=\"translate(76.59,45.8)\" stroke=\"#D3D3D3\">\n",
       "    <path fill=\"none\" d=\"M0.63,-1.88 L 2.07 2.16 -2.7 -0.28\" class=\"primitive\"/>\n",
       "  </g>\n",
       "  <g transform=\"translate(62.97,47.9)\" stroke=\"#D3D3D3\">\n",
       "    <path fill=\"none\" d=\"M2.26,-1.09 L -0.53 2.58 -1.73 -1.5\" class=\"primitive\"/>\n",
       "  </g>\n",
       "  <g transform=\"translate(62.04,32.62)\" stroke=\"#D3D3D3\">\n",
       "    <path fill=\"none\" d=\"M0.34,1.92 L -3.01 -1.51 2.67 -0.41\" class=\"primitive\"/>\n",
       "  </g>\n",
       "  <g transform=\"translate(64.44,28.83)\" stroke=\"#D3D3D3\">\n",
       "    <path fill=\"none\" d=\"M-1.7,1.51 L -0.59 -2.58 2.28 1.06\" class=\"primitive\"/>\n",
       "  </g>\n",
       "  <g transform=\"translate(60.44,29.56)\" stroke=\"#D3D3D3\">\n",
       "    <path fill=\"none\" d=\"M-0.49,1.9 L -2.24 -2.08 2.72 0.18\" class=\"primitive\"/>\n",
       "  </g>\n",
       "  <g transform=\"translate(65.99,31.51)\" stroke=\"#D3D3D3\">\n",
       "    <path fill=\"none\" d=\"M-2.13,1.21 L 0.24 -2.6 1.89 1.39\" class=\"primitive\"/>\n",
       "  </g>\n",
       "  <g transform=\"translate(60.54,34.79)\" stroke=\"#D3D3D3\">\n",
       "    <path fill=\"none\" d=\"M2.01,1.31 L -3.68 0.22 1.67 -1.53\" class=\"primitive\"/>\n",
       "  </g>\n",
       "  <g transform=\"translate(57.27,30.98)\" stroke=\"#D3D3D3\">\n",
       "    <path fill=\"none\" d=\"M0.58,1.89 L -3.19 -1.32 2.61 -0.57\" class=\"primitive\"/>\n",
       "  </g>\n",
       "  <g transform=\"translate(56.57,33.53)\" stroke=\"#D3D3D3\">\n",
       "    <path fill=\"none\" d=\"M1.54,1.6 L -3.65 -0.37 2.12 -1.22\" class=\"primitive\"/>\n",
       "  </g>\n",
       "  <g transform=\"translate(70.24,31.93)\" stroke=\"#D3D3D3\">\n",
       "    <path fill=\"none\" d=\"M2.7,0.31 L -2.89 1.62 0.19 -1.93\" class=\"primitive\"/>\n",
       "  </g>\n",
       "  <g transform=\"translate(86.29,18.97)\" stroke=\"#D3D3D3\">\n",
       "    <path fill=\"none\" d=\"M-2.08,1.25 L 0.14 -2.61 1.95 1.36\" class=\"primitive\"/>\n",
       "  </g>\n",
       "  <g transform=\"translate(57.77,69.27)\" stroke=\"#D3D3D3\">\n",
       "    <path fill=\"none\" d=\"M2.31,-1.03 L -0.65 2.57 -1.66 -1.54\" class=\"primitive\"/>\n",
       "  </g>\n",
       "  <g transform=\"translate(65.63,49.22)\" stroke=\"#D3D3D3\">\n",
       "    <path fill=\"none\" d=\"M-2.73,0.01 L 2.48 -1.93 0.25 1.92\" class=\"primitive\"/>\n",
       "  </g>\n",
       "  <g transform=\"translate(65.18,51.26)\" stroke=\"#D3D3D3\">\n",
       "    <path fill=\"none\" d=\"M-2.37,-0.97 L 3.52 -0.78 -1.16 1.75\" class=\"primitive\"/>\n",
       "  </g>\n",
       "  <g transform=\"translate(63.07,48.26)\" stroke=\"#D3D3D3\">\n",
       "    <path fill=\"none\" d=\"M-2.31,1.03 L 0.65 -2.57 1.66 1.54\" class=\"primitive\"/>\n",
       "  </g>\n",
       "  <g transform=\"translate(62.15,52.03)\" stroke=\"#D3D3D3\">\n",
       "    <path fill=\"none\" d=\"M-1.97,1.34 L -0.09 -2.61 2.06 1.27\" class=\"primitive\"/>\n",
       "  </g>\n",
       "  <g transform=\"translate(60.12,48.7)\" stroke=\"#D3D3D3\">\n",
       "    <path fill=\"none\" d=\"M-1.1,1.77 L -1.49 -2.39 2.59 0.62\" class=\"primitive\"/>\n",
       "  </g>\n",
       "  <g transform=\"translate(91.39,21.46)\" stroke=\"#D3D3D3\">\n",
       "    <path fill=\"none\" d=\"M2.49,0.8 L -3.4 1.02 0.91 -1.82\" class=\"primitive\"/>\n",
       "  </g>\n",
       "  <g transform=\"translate(114.24,20.09)\" stroke=\"#D3D3D3\">\n",
       "    <path fill=\"none\" d=\"M-0.34,-1.92 L 3.01 1.51 -2.67 0.41\" class=\"primitive\"/>\n",
       "  </g>\n",
       "  <g transform=\"translate(107.83,12.41)\" stroke=\"#D3D3D3\">\n",
       "    <path fill=\"none\" d=\"M-2.14,1.2 L 0.26 -2.6 1.88 1.4\" class=\"primitive\"/>\n",
       "  </g>\n",
       "  <g transform=\"translate(113.32,14)\" stroke=\"#D3D3D3\">\n",
       "    <path fill=\"none\" d=\"M-2.64,-0.51 L 3.12 -1.4 -0.48 1.9\" class=\"primitive\"/>\n",
       "  </g>\n",
       "  <g transform=\"translate(111.14,12.35)\" stroke=\"#D3D3D3\">\n",
       "    <path fill=\"none\" d=\"M-2.68,0.37 L 1.93 -2.22 0.75 1.86\" class=\"primitive\"/>\n",
       "  </g>\n",
       "  <g transform=\"translate(110.4,20.71)\" stroke=\"#D3D3D3\">\n",
       "    <path fill=\"none\" d=\"M0.93,-1.82 L 1.71 2.31 -2.64 -0.5\" class=\"primitive\"/>\n",
       "  </g>\n",
       "  <g transform=\"translate(70.8,81.54)\" stroke=\"#D3D3D3\">\n",
       "    <path fill=\"none\" d=\"M-0.13,-1.93 L 2.84 1.67 -2.71 0.26\" class=\"primitive\"/>\n",
       "  </g>\n",
       "  <g transform=\"translate(54.91,78.48)\" stroke=\"#D3D3D3\">\n",
       "    <path fill=\"none\" d=\"M2.4,-0.92 L -0.9 2.53 -1.51 -1.61\" class=\"primitive\"/>\n",
       "  </g>\n",
       "  <g transform=\"translate(60.24,73.29)\" stroke=\"#D3D3D3\">\n",
       "    <path fill=\"none\" d=\"M-1.84,-1.43 L 3.69 0 -1.85 1.42\" class=\"primitive\"/>\n",
       "  </g>\n",
       "  <g transform=\"translate(52.01,78.02)\" stroke=\"#D3D3D3\">\n",
       "    <path fill=\"none\" d=\"M2.71,-0.24 L -2.14 2.13 -0.58 -1.89\" class=\"primitive\"/>\n",
       "  </g>\n",
       "  <g transform=\"translate(57.74,78.06)\" stroke=\"#D3D3D3\">\n",
       "    <path fill=\"none\" d=\"M1.73,-1.5 L 0.53 2.58 -2.26 -1.09\" class=\"primitive\"/>\n",
       "  </g>\n",
       "  <g transform=\"translate(52.11,75.58)\" stroke=\"#D3D3D3\">\n",
       "    <path fill=\"none\" d=\"M2.67,0.42 L -3.03 1.49 0.36 -1.92\" class=\"primitive\"/>\n",
       "  </g>\n",
       "  <g transform=\"translate(59.92,76.1)\" stroke=\"#D3D3D3\">\n",
       "    <path fill=\"none\" d=\"M0.42,-1.91 L 2.3 2.04 -2.73 -0.13\" class=\"primitive\"/>\n",
       "  </g>\n",
       "  <g transform=\"translate(51.07,72.58)\" stroke=\"#D3D3D3\">\n",
       "    <path fill=\"none\" d=\"M-1.47,-1.63 L 3.64 0.45 -2.17 1.18\" class=\"primitive\"/>\n",
       "  </g>\n",
       "  <g transform=\"translate(25.07,65.99)\" stroke=\"#D3D3D3\">\n",
       "    <path fill=\"none\" d=\"M0.35,1.92 L -3.02 -1.5 2.67 -0.41\" class=\"primitive\"/>\n",
       "  </g>\n",
       "  <g transform=\"translate(27.67,72.29)\" stroke=\"#D3D3D3\">\n",
       "    <path fill=\"none\" d=\"M2.47,0.83 L -3.42 0.98 0.96 -1.81\" class=\"primitive\"/>\n",
       "  </g>\n",
       "  <g transform=\"translate(117.37,22.59)\" stroke=\"#D3D3D3\">\n",
       "    <path fill=\"none\" d=\"M2.07,1.26 L -3.67 0.3 1.6 -1.57\" class=\"primitive\"/>\n",
       "  </g>\n",
       "  <g transform=\"translate(124.26,23.94)\" stroke=\"#D3D3D3\">\n",
       "    <path fill=\"none\" d=\"M-0.98,-1.8 L 3.44 0.96 -2.46 0.85\" class=\"primitive\"/>\n",
       "  </g>\n",
       "  <g transform=\"translate(52.5,63.38)\" stroke=\"#D3D3D3\">\n",
       "    <path fill=\"none\" d=\"M2.68,0.36 L -2.96 1.56 0.27 -1.92\" class=\"primitive\"/>\n",
       "  </g>\n",
       "  <g transform=\"translate(57.68,58.92)\" stroke=\"#D3D3D3\">\n",
       "    <path fill=\"none\" d=\"M2.2,1.15 L -3.62 0.5 1.42 -1.65\" class=\"primitive\"/>\n",
       "  </g>\n",
       "  <g transform=\"translate(81.39,87.22)\" stroke=\"#D3D3D3\">\n",
       "    <path fill=\"none\" d=\"M-0.34,-1.92 L 3.01 1.51 -2.67 0.41\" class=\"primitive\"/>\n",
       "  </g>\n",
       "  <g transform=\"translate(82.21,85.11)\" stroke=\"#D3D3D3\">\n",
       "    <path fill=\"none\" d=\"M-1.42,-1.65 L 3.62 0.5 -2.2 1.15\" class=\"primitive\"/>\n",
       "  </g>\n",
       "  <g transform=\"translate(15.63,59.9)\" stroke=\"#D3D3D3\">\n",
       "    <path fill=\"none\" d=\"M-0.27,1.92 L -2.46 -1.95 2.73 0.02\" class=\"primitive\"/>\n",
       "  </g>\n",
       "  <g transform=\"translate(41.86,69.9)\" stroke=\"#D3D3D3\">\n",
       "    <path fill=\"none\" d=\"M2.73,0.12 L -2.66 1.81 -0.06 -1.93\" class=\"primitive\"/>\n",
       "  </g>\n",
       "  <g transform=\"translate(77.99,87.74)\" stroke=\"#D3D3D3\">\n",
       "    <path fill=\"none\" d=\"M-0.9,1.83 L -1.75 -2.3 2.65 0.47\" class=\"primitive\"/>\n",
       "  </g>\n",
       "</g>\n",
       "<g font-size=\"4\" stroke=\"#000000\" stroke-opacity=\"0.000\" fill=\"#000000\" id=\"img-43e10fcd-3\">\n",
       "  <g transform=\"translate(66.56,56.02)\">\n",
       "    <g class=\"primitive\">\n",
       "      <text text-anchor=\"middle\" dy=\"0.35em\">1</text>\n",
       "    </g>\n",
       "  </g>\n",
       "  <g transform=\"translate(86.32,51.3)\">\n",
       "    <g class=\"primitive\">\n",
       "      <text text-anchor=\"middle\" dy=\"0.35em\">2</text>\n",
       "    </g>\n",
       "  </g>\n",
       "  <g transform=\"translate(82.05,54.66)\">\n",
       "    <g class=\"primitive\">\n",
       "      <text text-anchor=\"middle\" dy=\"0.35em\">3</text>\n",
       "    </g>\n",
       "  </g>\n",
       "  <g transform=\"translate(86.29,45.37)\">\n",
       "    <g class=\"primitive\">\n",
       "      <text text-anchor=\"middle\" dy=\"0.35em\">4</text>\n",
       "    </g>\n",
       "  </g>\n",
       "  <g transform=\"translate(90.27,51.23)\">\n",
       "    <g class=\"primitive\">\n",
       "      <text text-anchor=\"middle\" dy=\"0.35em\">5</text>\n",
       "    </g>\n",
       "  </g>\n",
       "  <g transform=\"translate(89.3,47.93)\">\n",
       "    <g class=\"primitive\">\n",
       "      <text text-anchor=\"middle\" dy=\"0.35em\">6</text>\n",
       "    </g>\n",
       "  </g>\n",
       "  <g transform=\"translate(86.79,54.37)\">\n",
       "    <g class=\"primitive\">\n",
       "      <text text-anchor=\"middle\" dy=\"0.35em\">7</text>\n",
       "    </g>\n",
       "  </g>\n",
       "  <g transform=\"translate(76.3,45.51)\">\n",
       "    <g class=\"primitive\">\n",
       "      <text text-anchor=\"middle\" dy=\"0.35em\">8</text>\n",
       "    </g>\n",
       "  </g>\n",
       "  <g transform=\"translate(63.04,47.57)\">\n",
       "    <g class=\"primitive\">\n",
       "      <text text-anchor=\"middle\" dy=\"0.35em\">9</text>\n",
       "    </g>\n",
       "  </g>\n",
       "  <g transform=\"translate(59.43,31.31)\">\n",
       "    <g class=\"primitive\">\n",
       "      <text text-anchor=\"middle\" dy=\"0.35em\">10</text>\n",
       "    </g>\n",
       "  </g>\n",
       "  <g transform=\"translate(64.07,27.22)\">\n",
       "    <g class=\"primitive\">\n",
       "      <text text-anchor=\"middle\" dy=\"0.35em\">11</text>\n",
       "    </g>\n",
       "  </g>\n",
       "  <g transform=\"translate(59.14,28.35)\">\n",
       "    <g class=\"primitive\">\n",
       "      <text text-anchor=\"middle\" dy=\"0.35em\">12</text>\n",
       "    </g>\n",
       "  </g>\n",
       "  <g transform=\"translate(66.2,29.19)\">\n",
       "    <g class=\"primitive\">\n",
       "      <text text-anchor=\"middle\" dy=\"0.35em\">13</text>\n",
       "    </g>\n",
       "  </g>\n",
       "  <g transform=\"translate(57.52,34.97)\">\n",
       "    <g class=\"primitive\">\n",
       "      <text text-anchor=\"middle\" dy=\"0.35em\">14</text>\n",
       "    </g>\n",
       "  </g>\n",
       "  <g transform=\"translate(55.64,30.31)\">\n",
       "    <g class=\"primitive\">\n",
       "      <text text-anchor=\"middle\" dy=\"0.35em\">15</text>\n",
       "    </g>\n",
       "  </g>\n",
       "  <g transform=\"translate(54.57,33.33)\">\n",
       "    <g class=\"primitive\">\n",
       "      <text text-anchor=\"middle\" dy=\"0.35em\">16</text>\n",
       "    </g>\n",
       "  </g>\n",
       "  <g transform=\"translate(70.81,31.62)\">\n",
       "    <g class=\"primitive\">\n",
       "      <text text-anchor=\"middle\" dy=\"0.35em\">17</text>\n",
       "    </g>\n",
       "  </g>\n",
       "  <g transform=\"translate(86.4,16.93)\">\n",
       "    <g class=\"primitive\">\n",
       "      <text text-anchor=\"middle\" dy=\"0.35em\">18</text>\n",
       "    </g>\n",
       "  </g>\n",
       "  <g transform=\"translate(58.1,67.95)\">\n",
       "    <g class=\"primitive\">\n",
       "      <text text-anchor=\"middle\" dy=\"0.35em\">19</text>\n",
       "    </g>\n",
       "  </g>\n",
       "  <g transform=\"translate(67.66,47.63)\">\n",
       "    <g class=\"primitive\">\n",
       "      <text text-anchor=\"middle\" dy=\"0.35em\">20</text>\n",
       "    </g>\n",
       "  </g>\n",
       "  <g transform=\"translate(68.55,50.51)\">\n",
       "    <g class=\"primitive\">\n",
       "      <text text-anchor=\"middle\" dy=\"0.35em\">21</text>\n",
       "    </g>\n",
       "  </g>\n",
       "  <g transform=\"translate(63.6,46.17)\">\n",
       "    <g class=\"primitive\">\n",
       "      <text text-anchor=\"middle\" dy=\"0.35em\">22</text>\n",
       "    </g>\n",
       "  </g>\n",
       "  <g transform=\"translate(62.04,48.95)\">\n",
       "    <g class=\"primitive\">\n",
       "      <text text-anchor=\"middle\" dy=\"0.35em\">23</text>\n",
       "    </g>\n",
       "  </g>\n",
       "  <g transform=\"translate(58.87,46.71)\">\n",
       "    <g class=\"primitive\">\n",
       "      <text text-anchor=\"middle\" dy=\"0.35em\">24</text>\n",
       "    </g>\n",
       "  </g>\n",
       "  <g transform=\"translate(91.41,21.46)\">\n",
       "    <g class=\"primitive\">\n",
       "      <text text-anchor=\"middle\" dy=\"0.35em\">25</text>\n",
       "    </g>\n",
       "  </g>\n",
       "  <g transform=\"translate(116.06,21.01)\">\n",
       "    <g class=\"primitive\">\n",
       "      <text text-anchor=\"middle\" dy=\"0.35em\">26</text>\n",
       "    </g>\n",
       "  </g>\n",
       "  <g transform=\"translate(108.03,10.41)\">\n",
       "    <g class=\"primitive\">\n",
       "      <text text-anchor=\"middle\" dy=\"0.35em\">27</text>\n",
       "    </g>\n",
       "  </g>\n",
       "  <g transform=\"translate(115.5,13.03)\">\n",
       "    <g class=\"primitive\">\n",
       "      <text text-anchor=\"middle\" dy=\"0.35em\">28</text>\n",
       "    </g>\n",
       "  </g>\n",
       "  <g transform=\"translate(112.47,10.82)\">\n",
       "    <g class=\"primitive\">\n",
       "      <text text-anchor=\"middle\" dy=\"0.35em\">29</text>\n",
       "    </g>\n",
       "  </g>\n",
       "  <g transform=\"translate(111.65,22.41)\">\n",
       "    <g class=\"primitive\">\n",
       "      <text text-anchor=\"middle\" dy=\"0.35em\">30</text>\n",
       "    </g>\n",
       "  </g>\n",
       "  <g transform=\"translate(70.62,81.43)\">\n",
       "    <g class=\"primitive\">\n",
       "      <text text-anchor=\"middle\" dy=\"0.35em\">31</text>\n",
       "    </g>\n",
       "  </g>\n",
       "  <g transform=\"translate(54.32,80.15)\">\n",
       "    <g class=\"primitive\">\n",
       "      <text text-anchor=\"middle\" dy=\"0.35em\">32</text>\n",
       "    </g>\n",
       "  </g>\n",
       "  <g transform=\"translate(63.7,73.3)\">\n",
       "    <g class=\"primitive\">\n",
       "      <text text-anchor=\"middle\" dy=\"0.35em\">33</text>\n",
       "    </g>\n",
       "  </g>\n",
       "  <g transform=\"translate(50.69,79.34)\">\n",
       "    <g class=\"primitive\">\n",
       "      <text text-anchor=\"middle\" dy=\"0.35em\">34</text>\n",
       "    </g>\n",
       "  </g>\n",
       "  <g transform=\"translate(58.11,79.9)\">\n",
       "    <g class=\"primitive\">\n",
       "      <text text-anchor=\"middle\" dy=\"0.35em\">35</text>\n",
       "    </g>\n",
       "  </g>\n",
       "  <g transform=\"translate(49.72,76.75)\">\n",
       "    <g class=\"primitive\">\n",
       "      <text text-anchor=\"middle\" dy=\"0.35em\">36</text>\n",
       "    </g>\n",
       "  </g>\n",
       "  <g transform=\"translate(61.83,77.79)\">\n",
       "    <g class=\"primitive\">\n",
       "      <text text-anchor=\"middle\" dy=\"0.35em\">37</text>\n",
       "    </g>\n",
       "  </g>\n",
       "  <g transform=\"translate(51.08,72.59)\">\n",
       "    <g class=\"primitive\">\n",
       "      <text text-anchor=\"middle\" dy=\"0.35em\">38</text>\n",
       "    </g>\n",
       "  </g>\n",
       "  <g transform=\"translate(23.78,65.34)\">\n",
       "    <g class=\"primitive\">\n",
       "      <text text-anchor=\"middle\" dy=\"0.35em\">39</text>\n",
       "    </g>\n",
       "  </g>\n",
       "  <g transform=\"translate(25.25,72.98)\">\n",
       "    <g class=\"primitive\">\n",
       "      <text text-anchor=\"middle\" dy=\"0.35em\">40</text>\n",
       "    </g>\n",
       "  </g>\n",
       "  <g transform=\"translate(113.46,22.91)\">\n",
       "    <g class=\"primitive\">\n",
       "      <text text-anchor=\"middle\" dy=\"0.35em\">41</text>\n",
       "    </g>\n",
       "  </g>\n",
       "  <g transform=\"translate(126.96,24.69)\">\n",
       "    <g class=\"primitive\">\n",
       "      <text text-anchor=\"middle\" dy=\"0.35em\">42</text>\n",
       "    </g>\n",
       "  </g>\n",
       "  <g transform=\"translate(51.44,63.94)\">\n",
       "    <g class=\"primitive\">\n",
       "      <text text-anchor=\"middle\" dy=\"0.35em\">43</text>\n",
       "    </g>\n",
       "  </g>\n",
       "  <g transform=\"translate(54.55,59.35)\">\n",
       "    <g class=\"primitive\">\n",
       "      <text text-anchor=\"middle\" dy=\"0.35em\">44</text>\n",
       "    </g>\n",
       "  </g>\n",
       "  <g transform=\"translate(83.39,88.22)\">\n",
       "    <g class=\"primitive\">\n",
       "      <text text-anchor=\"middle\" dy=\"0.35em\">45</text>\n",
       "    </g>\n",
       "  </g>\n",
       "  <g transform=\"translate(84.72,85.46)\">\n",
       "    <g class=\"primitive\">\n",
       "      <text text-anchor=\"middle\" dy=\"0.35em\">46</text>\n",
       "    </g>\n",
       "  </g>\n",
       "  <g transform=\"translate(13.93,58.55)\">\n",
       "    <g class=\"primitive\">\n",
       "      <text text-anchor=\"middle\" dy=\"0.35em\">47</text>\n",
       "    </g>\n",
       "  </g>\n",
       "  <g transform=\"translate(40.24,71)\">\n",
       "    <g class=\"primitive\">\n",
       "      <text text-anchor=\"middle\" dy=\"0.35em\">48</text>\n",
       "    </g>\n",
       "  </g>\n",
       "  <g transform=\"translate(76.68,86.02)\">\n",
       "    <g class=\"primitive\">\n",
       "      <text text-anchor=\"middle\" dy=\"0.35em\">49</text>\n",
       "    </g>\n",
       "  </g>\n",
       "</g>\n",
       "<g stroke-width=\"0\" stroke=\"#000000\" stroke-opacity=\"0.000\" id=\"img-43e10fcd-4\">\n",
       "  <g transform=\"translate(79.83,49.18)\" fill=\"#808080\">\n",
       "    <circle cx=\"0\" cy=\"0\" r=\"2\" class=\"primitive\"/>\n",
       "  </g>\n",
       "  <g transform=\"translate(65.72,34.47)\" fill=\"#808080\">\n",
       "    <circle cx=\"0\" cy=\"0\" r=\"2\" class=\"primitive\"/>\n",
       "  </g>\n",
       "  <g transform=\"translate(86.08,23.06)\" fill=\"#808080\">\n",
       "    <circle cx=\"0\" cy=\"0\" r=\"2\" class=\"primitive\"/>\n",
       "  </g>\n",
       "  <g transform=\"translate(62.14,51.94)\" fill=\"#808080\">\n",
       "    <circle cx=\"0\" cy=\"0\" r=\"2\" class=\"primitive\"/>\n",
       "  </g>\n",
       "  <g transform=\"translate(107.39,16.66)\" fill=\"#808080\">\n",
       "    <circle cx=\"0\" cy=\"0\" r=\"2\" class=\"primitive\"/>\n",
       "  </g>\n",
       "  <g transform=\"translate(56.75,73.29)\" fill=\"#808080\">\n",
       "    <circle cx=\"0\" cy=\"0\" r=\"2\" class=\"primitive\"/>\n",
       "  </g>\n",
       "  <g transform=\"translate(34.06,70.47)\" fill=\"#808080\">\n",
       "    <circle cx=\"0\" cy=\"0\" r=\"2\" class=\"primitive\"/>\n",
       "  </g>\n",
       "  <g transform=\"translate(118.95,22.46)\" fill=\"#808080\">\n",
       "    <circle cx=\"0\" cy=\"0\" r=\"2\" class=\"primitive\"/>\n",
       "  </g>\n",
       "  <g transform=\"translate(62.14,58.3)\" fill=\"#808080\">\n",
       "    <circle cx=\"0\" cy=\"0\" r=\"2\" class=\"primitive\"/>\n",
       "  </g>\n",
       "  <g transform=\"translate(75.25,84.14)\" fill=\"#808080\">\n",
       "    <circle cx=\"0\" cy=\"0\" r=\"2\" class=\"primitive\"/>\n",
       "  </g>\n",
       "  <g transform=\"translate(108.24,8.33)\" fill=\"#808080\">\n",
       "    <circle cx=\"0\" cy=\"0\" r=\"2\" class=\"primitive\"/>\n",
       "  </g>\n",
       "  <g transform=\"translate(20.35,63.64)\" fill=\"#808080\">\n",
       "    <circle cx=\"0\" cy=\"0\" r=\"2\" class=\"primitive\"/>\n",
       "  </g>\n",
       "  <g transform=\"translate(47.87,65.82)\" fill=\"#808080\">\n",
       "    <circle cx=\"0\" cy=\"0\" r=\"2\" class=\"primitive\"/>\n",
       "  </g>\n",
       "  <g transform=\"translate(118.2,11.82)\" fill=\"#808080\">\n",
       "    <circle cx=\"0\" cy=\"0\" r=\"2\" class=\"primitive\"/>\n",
       "  </g>\n",
       "  <g transform=\"translate(69.5,46.19)\" fill=\"#808080\">\n",
       "    <circle cx=\"0\" cy=\"0\" r=\"2\" class=\"primitive\"/>\n",
       "  </g>\n",
       "  <g transform=\"translate(86.11,89.58)\" fill=\"#808080\">\n",
       "    <circle cx=\"0\" cy=\"0\" r=\"2\" class=\"primitive\"/>\n",
       "  </g>\n",
       "  <g transform=\"translate(53.51,82.44)\" fill=\"#808080\">\n",
       "    <circle cx=\"0\" cy=\"0\" r=\"2\" class=\"primitive\"/>\n",
       "  </g>\n",
       "  <g transform=\"translate(114.16,8.87)\" fill=\"#808080\">\n",
       "    <circle cx=\"0\" cy=\"0\" r=\"2\" class=\"primitive\"/>\n",
       "  </g>\n",
       "  <g transform=\"translate(70.69,50.03)\" fill=\"#808080\">\n",
       "    <circle cx=\"0\" cy=\"0\" r=\"2\" class=\"primitive\"/>\n",
       "  </g>\n",
       "  <g transform=\"translate(87.88,85.9)\" fill=\"#808080\">\n",
       "    <circle cx=\"0\" cy=\"0\" r=\"2\" class=\"primitive\"/>\n",
       "  </g>\n",
       "  <g transform=\"translate(80.98,91.67)\" fill=\"#808080\">\n",
       "    <circle cx=\"0\" cy=\"0\" r=\"2\" class=\"primitive\"/>\n",
       "  </g>\n",
       "  <g transform=\"translate(57.33,30.26)\" fill=\"#808080\">\n",
       "    <circle cx=\"0\" cy=\"0\" r=\"2\" class=\"primitive\"/>\n",
       "  </g>\n",
       "  <g transform=\"translate(63.52,24.8)\" fill=\"#808080\">\n",
       "    <circle cx=\"0\" cy=\"0\" r=\"2\" class=\"primitive\"/>\n",
       "  </g>\n",
       "  <g transform=\"translate(111.63,23.07)\" fill=\"#808080\">\n",
       "    <circle cx=\"0\" cy=\"0\" r=\"2\" class=\"primitive\"/>\n",
       "  </g>\n",
       "  <g transform=\"translate(64.09,44.24)\" fill=\"#808080\">\n",
       "    <circle cx=\"0\" cy=\"0\" r=\"2\" class=\"primitive\"/>\n",
       "  </g>\n",
       "  <g transform=\"translate(52.02,59.7)\" fill=\"#808080\">\n",
       "    <circle cx=\"0\" cy=\"0\" r=\"2\" class=\"primitive\"/>\n",
       "  </g>\n",
       "  <g transform=\"translate(37.69,72.73)\" fill=\"#808080\">\n",
       "    <circle cx=\"0\" cy=\"0\" r=\"2\" class=\"primitive\"/>\n",
       "  </g>\n",
       "  <g transform=\"translate(56.94,26.31)\" fill=\"#808080\">\n",
       "    <circle cx=\"0\" cy=\"0\" r=\"2\" class=\"primitive\"/>\n",
       "  </g>\n",
       "  <g transform=\"translate(88.48,52)\" fill=\"#808080\">\n",
       "    <circle cx=\"0\" cy=\"0\" r=\"2\" class=\"primitive\"/>\n",
       "  </g>\n",
       "  <g transform=\"translate(22.32,73.82)\" fill=\"#808080\">\n",
       "    <circle cx=\"0\" cy=\"0\" r=\"2\" class=\"primitive\"/>\n",
       "  </g>\n",
       "  <g transform=\"translate(66.36,27.43)\" fill=\"#808080\">\n",
       "    <circle cx=\"0\" cy=\"0\" r=\"2\" class=\"primitive\"/>\n",
       "  </g>\n",
       "  <g transform=\"translate(82.8,56.49)\" fill=\"#808080\">\n",
       "    <circle cx=\"0\" cy=\"0\" r=\"2\" class=\"primitive\"/>\n",
       "  </g>\n",
       "  <g transform=\"translate(62,47.95)\" fill=\"#808080\">\n",
       "    <circle cx=\"0\" cy=\"0\" r=\"2\" class=\"primitive\"/>\n",
       "  </g>\n",
       "  <g transform=\"translate(66.02,73.3)\" fill=\"#808080\">\n",
       "    <circle cx=\"0\" cy=\"0\" r=\"2\" class=\"primitive\"/>\n",
       "  </g>\n",
       "  <g transform=\"translate(88.44,44.1)\" fill=\"#808080\">\n",
       "    <circle cx=\"0\" cy=\"0\" r=\"2\" class=\"primitive\"/>\n",
       "  </g>\n",
       "  <g transform=\"translate(93.75,51.91)\" fill=\"#808080\">\n",
       "    <circle cx=\"0\" cy=\"0\" r=\"2\" class=\"primitive\"/>\n",
       "  </g>\n",
       "  <g transform=\"translate(54.78,35.14)\" fill=\"#808080\">\n",
       "    <circle cx=\"0\" cy=\"0\" r=\"2\" class=\"primitive\"/>\n",
       "  </g>\n",
       "  <g transform=\"translate(48.67,81.35)\" fill=\"#808080\">\n",
       "    <circle cx=\"0\" cy=\"0\" r=\"2\" class=\"primitive\"/>\n",
       "  </g>\n",
       "  <g transform=\"translate(58.57,82.1)\" fill=\"#808080\">\n",
       "    <circle cx=\"0\" cy=\"0\" r=\"2\" class=\"primitive\"/>\n",
       "  </g>\n",
       "  <g transform=\"translate(92.45,47.51)\" fill=\"#808080\">\n",
       "    <circle cx=\"0\" cy=\"0\" r=\"2\" class=\"primitive\"/>\n",
       "  </g>\n",
       "  <g transform=\"translate(129.64,25.43)\" fill=\"#808080\">\n",
       "    <circle cx=\"0\" cy=\"0\" r=\"2\" class=\"primitive\"/>\n",
       "  </g>\n",
       "  <g transform=\"translate(86.51,14.89)\" fill=\"#808080\">\n",
       "    <circle cx=\"0\" cy=\"0\" r=\"2\" class=\"primitive\"/>\n",
       "  </g>\n",
       "  <g transform=\"translate(11.79,56.85)\" fill=\"#808080\">\n",
       "    <circle cx=\"0\" cy=\"0\" r=\"2\" class=\"primitive\"/>\n",
       "  </g>\n",
       "  <g transform=\"translate(52.28,28.92)\" fill=\"#808080\">\n",
       "    <circle cx=\"0\" cy=\"0\" r=\"2\" class=\"primitive\"/>\n",
       "  </g>\n",
       "  <g transform=\"translate(89.11,56.09)\" fill=\"#808080\">\n",
       "    <circle cx=\"0\" cy=\"0\" r=\"2\" class=\"primitive\"/>\n",
       "  </g>\n",
       "  <g transform=\"translate(47.37,77.91)\" fill=\"#808080\">\n",
       "    <circle cx=\"0\" cy=\"0\" r=\"2\" class=\"primitive\"/>\n",
       "  </g>\n",
       "  <g transform=\"translate(113.07,24.33)\" fill=\"#808080\">\n",
       "    <circle cx=\"0\" cy=\"0\" r=\"2\" class=\"primitive\"/>\n",
       "  </g>\n",
       "  <g transform=\"translate(63.53,79.29)\" fill=\"#808080\">\n",
       "    <circle cx=\"0\" cy=\"0\" r=\"2\" class=\"primitive\"/>\n",
       "  </g>\n",
       "  <g transform=\"translate(57.78,44.97)\" fill=\"#808080\">\n",
       "    <circle cx=\"0\" cy=\"0\" r=\"2\" class=\"primitive\"/>\n",
       "  </g>\n",
       "  <g transform=\"translate(50.86,32.95)\" fill=\"#808080\">\n",
       "    <circle cx=\"0\" cy=\"0\" r=\"2\" class=\"primitive\"/>\n",
       "  </g>\n",
       "</g>\n",
       "<g font-size=\"4\" stroke=\"#000000\" stroke-opacity=\"0.000\" fill=\"#000000\" id=\"img-43e10fcd-5\">\n",
       "  <g transform=\"translate(79.83,49.18)\">\n",
       "    <g class=\"primitive\">\n",
       "      <text text-anchor=\"middle\" dy=\"0.35em\">1</text>\n",
       "    </g>\n",
       "  </g>\n",
       "  <g transform=\"translate(65.72,34.47)\">\n",
       "    <g class=\"primitive\">\n",
       "      <text text-anchor=\"middle\" dy=\"0.35em\">2</text>\n",
       "    </g>\n",
       "  </g>\n",
       "  <g transform=\"translate(86.08,23.06)\">\n",
       "    <g class=\"primitive\">\n",
       "      <text text-anchor=\"middle\" dy=\"0.35em\">3</text>\n",
       "    </g>\n",
       "  </g>\n",
       "  <g transform=\"translate(62.14,51.94)\">\n",
       "    <g class=\"primitive\">\n",
       "      <text text-anchor=\"middle\" dy=\"0.35em\">4</text>\n",
       "    </g>\n",
       "  </g>\n",
       "  <g transform=\"translate(107.39,16.66)\">\n",
       "    <g class=\"primitive\">\n",
       "      <text text-anchor=\"middle\" dy=\"0.35em\">5</text>\n",
       "    </g>\n",
       "  </g>\n",
       "  <g transform=\"translate(56.75,73.29)\">\n",
       "    <g class=\"primitive\">\n",
       "      <text text-anchor=\"middle\" dy=\"0.35em\">6</text>\n",
       "    </g>\n",
       "  </g>\n",
       "  <g transform=\"translate(34.06,70.47)\">\n",
       "    <g class=\"primitive\">\n",
       "      <text text-anchor=\"middle\" dy=\"0.35em\">7</text>\n",
       "    </g>\n",
       "  </g>\n",
       "  <g transform=\"translate(118.95,22.46)\">\n",
       "    <g class=\"primitive\">\n",
       "      <text text-anchor=\"middle\" dy=\"0.35em\">8</text>\n",
       "    </g>\n",
       "  </g>\n",
       "  <g transform=\"translate(62.14,58.3)\">\n",
       "    <g class=\"primitive\">\n",
       "      <text text-anchor=\"middle\" dy=\"0.35em\">9</text>\n",
       "    </g>\n",
       "  </g>\n",
       "  <g transform=\"translate(75.25,84.14)\">\n",
       "    <g class=\"primitive\">\n",
       "      <text text-anchor=\"middle\" dy=\"0.35em\">10</text>\n",
       "    </g>\n",
       "  </g>\n",
       "  <g transform=\"translate(108.24,8.33)\">\n",
       "    <g class=\"primitive\">\n",
       "      <text text-anchor=\"middle\" dy=\"0.35em\">11</text>\n",
       "    </g>\n",
       "  </g>\n",
       "  <g transform=\"translate(20.35,63.64)\">\n",
       "    <g class=\"primitive\">\n",
       "      <text text-anchor=\"middle\" dy=\"0.35em\">12</text>\n",
       "    </g>\n",
       "  </g>\n",
       "  <g transform=\"translate(47.87,65.82)\">\n",
       "    <g class=\"primitive\">\n",
       "      <text text-anchor=\"middle\" dy=\"0.35em\">13</text>\n",
       "    </g>\n",
       "  </g>\n",
       "  <g transform=\"translate(118.2,11.82)\">\n",
       "    <g class=\"primitive\">\n",
       "      <text text-anchor=\"middle\" dy=\"0.35em\">14</text>\n",
       "    </g>\n",
       "  </g>\n",
       "  <g transform=\"translate(69.5,46.19)\">\n",
       "    <g class=\"primitive\">\n",
       "      <text text-anchor=\"middle\" dy=\"0.35em\">15</text>\n",
       "    </g>\n",
       "  </g>\n",
       "  <g transform=\"translate(86.11,89.58)\">\n",
       "    <g class=\"primitive\">\n",
       "      <text text-anchor=\"middle\" dy=\"0.35em\">16</text>\n",
       "    </g>\n",
       "  </g>\n",
       "  <g transform=\"translate(53.51,82.44)\">\n",
       "    <g class=\"primitive\">\n",
       "      <text text-anchor=\"middle\" dy=\"0.35em\">17</text>\n",
       "    </g>\n",
       "  </g>\n",
       "  <g transform=\"translate(114.16,8.87)\">\n",
       "    <g class=\"primitive\">\n",
       "      <text text-anchor=\"middle\" dy=\"0.35em\">18</text>\n",
       "    </g>\n",
       "  </g>\n",
       "  <g transform=\"translate(70.69,50.03)\">\n",
       "    <g class=\"primitive\">\n",
       "      <text text-anchor=\"middle\" dy=\"0.35em\">19</text>\n",
       "    </g>\n",
       "  </g>\n",
       "  <g transform=\"translate(87.88,85.9)\">\n",
       "    <g class=\"primitive\">\n",
       "      <text text-anchor=\"middle\" dy=\"0.35em\">20</text>\n",
       "    </g>\n",
       "  </g>\n",
       "  <g transform=\"translate(80.98,91.67)\">\n",
       "    <g class=\"primitive\">\n",
       "      <text text-anchor=\"middle\" dy=\"0.35em\">21</text>\n",
       "    </g>\n",
       "  </g>\n",
       "  <g transform=\"translate(57.33,30.26)\">\n",
       "    <g class=\"primitive\">\n",
       "      <text text-anchor=\"middle\" dy=\"0.35em\">22</text>\n",
       "    </g>\n",
       "  </g>\n",
       "  <g transform=\"translate(63.52,24.8)\">\n",
       "    <g class=\"primitive\">\n",
       "      <text text-anchor=\"middle\" dy=\"0.35em\">23</text>\n",
       "    </g>\n",
       "  </g>\n",
       "  <g transform=\"translate(111.63,23.07)\">\n",
       "    <g class=\"primitive\">\n",
       "      <text text-anchor=\"middle\" dy=\"0.35em\">24</text>\n",
       "    </g>\n",
       "  </g>\n",
       "  <g transform=\"translate(64.09,44.24)\">\n",
       "    <g class=\"primitive\">\n",
       "      <text text-anchor=\"middle\" dy=\"0.35em\">25</text>\n",
       "    </g>\n",
       "  </g>\n",
       "  <g transform=\"translate(52.02,59.7)\">\n",
       "    <g class=\"primitive\">\n",
       "      <text text-anchor=\"middle\" dy=\"0.35em\">26</text>\n",
       "    </g>\n",
       "  </g>\n",
       "  <g transform=\"translate(37.69,72.73)\">\n",
       "    <g class=\"primitive\">\n",
       "      <text text-anchor=\"middle\" dy=\"0.35em\">27</text>\n",
       "    </g>\n",
       "  </g>\n",
       "  <g transform=\"translate(56.94,26.31)\">\n",
       "    <g class=\"primitive\">\n",
       "      <text text-anchor=\"middle\" dy=\"0.35em\">28</text>\n",
       "    </g>\n",
       "  </g>\n",
       "  <g transform=\"translate(88.48,52)\">\n",
       "    <g class=\"primitive\">\n",
       "      <text text-anchor=\"middle\" dy=\"0.35em\">29</text>\n",
       "    </g>\n",
       "  </g>\n",
       "  <g transform=\"translate(22.32,73.82)\">\n",
       "    <g class=\"primitive\">\n",
       "      <text text-anchor=\"middle\" dy=\"0.35em\">30</text>\n",
       "    </g>\n",
       "  </g>\n",
       "  <g transform=\"translate(66.36,27.43)\">\n",
       "    <g class=\"primitive\">\n",
       "      <text text-anchor=\"middle\" dy=\"0.35em\">31</text>\n",
       "    </g>\n",
       "  </g>\n",
       "  <g transform=\"translate(82.8,56.49)\">\n",
       "    <g class=\"primitive\">\n",
       "      <text text-anchor=\"middle\" dy=\"0.35em\">32</text>\n",
       "    </g>\n",
       "  </g>\n",
       "  <g transform=\"translate(62,47.95)\">\n",
       "    <g class=\"primitive\">\n",
       "      <text text-anchor=\"middle\" dy=\"0.35em\">33</text>\n",
       "    </g>\n",
       "  </g>\n",
       "  <g transform=\"translate(66.02,73.3)\">\n",
       "    <g class=\"primitive\">\n",
       "      <text text-anchor=\"middle\" dy=\"0.35em\">34</text>\n",
       "    </g>\n",
       "  </g>\n",
       "  <g transform=\"translate(88.44,44.1)\">\n",
       "    <g class=\"primitive\">\n",
       "      <text text-anchor=\"middle\" dy=\"0.35em\">35</text>\n",
       "    </g>\n",
       "  </g>\n",
       "  <g transform=\"translate(93.75,51.91)\">\n",
       "    <g class=\"primitive\">\n",
       "      <text text-anchor=\"middle\" dy=\"0.35em\">36</text>\n",
       "    </g>\n",
       "  </g>\n",
       "  <g transform=\"translate(54.78,35.14)\">\n",
       "    <g class=\"primitive\">\n",
       "      <text text-anchor=\"middle\" dy=\"0.35em\">37</text>\n",
       "    </g>\n",
       "  </g>\n",
       "  <g transform=\"translate(48.67,81.35)\">\n",
       "    <g class=\"primitive\">\n",
       "      <text text-anchor=\"middle\" dy=\"0.35em\">38</text>\n",
       "    </g>\n",
       "  </g>\n",
       "  <g transform=\"translate(58.57,82.1)\">\n",
       "    <g class=\"primitive\">\n",
       "      <text text-anchor=\"middle\" dy=\"0.35em\">39</text>\n",
       "    </g>\n",
       "  </g>\n",
       "  <g transform=\"translate(92.45,47.51)\">\n",
       "    <g class=\"primitive\">\n",
       "      <text text-anchor=\"middle\" dy=\"0.35em\">40</text>\n",
       "    </g>\n",
       "  </g>\n",
       "  <g transform=\"translate(129.64,25.43)\">\n",
       "    <g class=\"primitive\">\n",
       "      <text text-anchor=\"middle\" dy=\"0.35em\">41</text>\n",
       "    </g>\n",
       "  </g>\n",
       "  <g transform=\"translate(86.51,14.89)\">\n",
       "    <g class=\"primitive\">\n",
       "      <text text-anchor=\"middle\" dy=\"0.35em\">42</text>\n",
       "    </g>\n",
       "  </g>\n",
       "  <g transform=\"translate(11.79,56.85)\">\n",
       "    <g class=\"primitive\">\n",
       "      <text text-anchor=\"middle\" dy=\"0.35em\">43</text>\n",
       "    </g>\n",
       "  </g>\n",
       "  <g transform=\"translate(52.28,28.92)\">\n",
       "    <g class=\"primitive\">\n",
       "      <text text-anchor=\"middle\" dy=\"0.35em\">44</text>\n",
       "    </g>\n",
       "  </g>\n",
       "  <g transform=\"translate(89.11,56.09)\">\n",
       "    <g class=\"primitive\">\n",
       "      <text text-anchor=\"middle\" dy=\"0.35em\">45</text>\n",
       "    </g>\n",
       "  </g>\n",
       "  <g transform=\"translate(47.37,77.91)\">\n",
       "    <g class=\"primitive\">\n",
       "      <text text-anchor=\"middle\" dy=\"0.35em\">46</text>\n",
       "    </g>\n",
       "  </g>\n",
       "  <g transform=\"translate(113.07,24.33)\">\n",
       "    <g class=\"primitive\">\n",
       "      <text text-anchor=\"middle\" dy=\"0.35em\">47</text>\n",
       "    </g>\n",
       "  </g>\n",
       "  <g transform=\"translate(63.53,79.29)\">\n",
       "    <g class=\"primitive\">\n",
       "      <text text-anchor=\"middle\" dy=\"0.35em\">48</text>\n",
       "    </g>\n",
       "  </g>\n",
       "  <g transform=\"translate(57.78,44.97)\">\n",
       "    <g class=\"primitive\">\n",
       "      <text text-anchor=\"middle\" dy=\"0.35em\">49</text>\n",
       "    </g>\n",
       "  </g>\n",
       "  <g transform=\"translate(50.86,32.95)\">\n",
       "    <g class=\"primitive\">\n",
       "      <text text-anchor=\"middle\" dy=\"0.35em\">50</text>\n",
       "    </g>\n",
       "  </g>\n",
       "</g>\n",
       "</svg>\n"
      ],
      "text/plain": [
       "MyGraph({50, 49} directed Int64 metagraph with Float64 weights defined by :weight (default weight 1.0))"
      ]
     },
     "execution_count": 25,
     "metadata": {},
     "output_type": "execute_result"
    }
   ],
   "source": [
    "tree(randgraph(50, 8))"
   ]
  },
  {
   "cell_type": "markdown",
   "metadata": {},
   "source": [
    "## Graphs and Kirchhoff's circuit laws\n",
    "\n"
   ]
  },
  {
   "cell_type": "markdown",
   "metadata": {},
   "source": [
    "An elegant application of the incidence matrix and its subspaces arises if we think of the graph as representing an **electrical circuit**:\n",
    "\n",
    "* Each edge represents a wire/resistor, with an unknown current $i$.  The *direction* of the edge indicates the *sign convention* ($i>0$ indicates current flowing in the direction of the arrow).\n",
    "* Each node represents a junction, with an unknown voltage $v$.\n",
    "\n",
    "Let's visualize this by re-labeling our graph from above.  We'll use the [SymPy](https://github.com/JuliaPy/SymPy.jl) package to allow us to do *symbolic* (not numeric) calculations with the incidence matrix."
   ]
  },
  {
   "cell_type": "code",
   "execution_count": 26,
   "metadata": {},
   "outputs": [
    {
     "data": {
      "image/svg+xml": [
       "<?xml version=\"1.0\" encoding=\"UTF-8\"?>\n",
       "<svg xmlns=\"http://www.w3.org/2000/svg\"\n",
       "     xmlns:xlink=\"http://www.w3.org/1999/xlink\"\n",
       "     version=\"1.2\"\n",
       "     width=\"141.42mm\" height=\"100mm\" viewBox=\"0 0 141.42 100\"\n",
       "     stroke=\"none\"\n",
       "     fill=\"#000000\"\n",
       "     stroke-width=\"0.3\"\n",
       "     font-size=\"3.88\"\n",
       ">\n",
       "<defs>\n",
       "  <marker id=\"arrow\" markerWidth=\"15\" markerHeight=\"7\" refX=\"5\" refY=\"3.5\" orient=\"auto\" markerUnits=\"strokeWidth\">\n",
       "    <path d=\"M0,0 L15,3.5 L0,7 z\" stroke=\"context-stroke\" fill=\"context-stroke\"/>\n",
       "  </marker>\n",
       "</defs>\n",
       "<g stroke-width=\"1.22\" fill=\"#000000\" fill-opacity=\"0.000\" id=\"img-021286a1-1\">\n",
       "  <g transform=\"translate(101.62,69.71)\" stroke=\"#D3D3D3\">\n",
       "    <path fill=\"none\" d=\"M22.98,-10.57 L -22.98 10.57\" class=\"primitive\"/>\n",
       "  </g>\n",
       "  <g transform=\"translate(106.66,40.76)\" stroke=\"#D3D3D3\">\n",
       "    <path fill=\"none\" d=\"M-18.7,-13.08 L 18.7 13.08\" class=\"primitive\"/>\n",
       "  </g>\n",
       "  <g transform=\"translate(58.22,37.58)\" stroke=\"#D3D3D3\">\n",
       "    <path fill=\"none\" d=\"M20.58,-10.42 L -20.58 10.42\" class=\"primitive\"/>\n",
       "  </g>\n",
       "  <g transform=\"translate(55.5,16.51)\" stroke=\"#D3D3D3\">\n",
       "    <path fill=\"none\" d=\"M-22.63,-6.56 L 22.63 6.56\" class=\"primitive\"/>\n",
       "  </g>\n",
       "  <g transform=\"translate(42.69,87.13)\" stroke=\"#D3D3D3\">\n",
       "    <path fill=\"none\" d=\"M25.02,-3.67 L -25.02 3.67\" class=\"primitive\"/>\n",
       "  </g>\n",
       "  <g transform=\"translate(53.18,66.53)\" stroke=\"#D3D3D3\">\n",
       "    <path fill=\"none\" d=\"M16.4,12.9 L -16.4 -12.9\" class=\"primitive\"/>\n",
       "  </g>\n",
       "  <g transform=\"translate(22.27,71.07)\" stroke=\"#D3D3D3\">\n",
       "    <path fill=\"none\" d=\"M-8.45,16.59 L 8.45 -16.59\" class=\"primitive\"/>\n",
       "  </g>\n",
       "  <g transform=\"translate(30.03,29.41)\" stroke=\"#D3D3D3\">\n",
       "    <path fill=\"none\" d=\"M2.18,16.84 L -2.18 -16.84\" class=\"primitive\"/>\n",
       "  </g>\n",
       "</g>\n",
       "<g stroke-width=\"1.22\" id=\"img-021286a1-2\">\n",
       "  <g transform=\"translate(81.74,78.85)\" stroke=\"#D3D3D3\">\n",
       "    <path fill=\"none\" d=\"M2.65,0.48 L -3.09 1.42 0.45 -1.91\" class=\"primitive\"/>\n",
       "  </g>\n",
       "  <g transform=\"translate(122.74,52)\" stroke=\"#D3D3D3\">\n",
       "    <path fill=\"none\" d=\"M0.1,-1.93 L 2.62 1.84 -2.73 0.1\" class=\"primitive\"/>\n",
       "  </g>\n",
       "  <g transform=\"translate(40.64,46.48)\" stroke=\"#D3D3D3\">\n",
       "    <path fill=\"none\" d=\"M2.67,0.4 L -3 1.52 0.33 -1.92\" class=\"primitive\"/>\n",
       "  </g>\n",
       "  <g transform=\"translate(74.71,22.08)\" stroke=\"#D3D3D3\">\n",
       "    <path fill=\"none\" d=\"M-0.94,-1.81 L 3.42 0.99 -2.47 0.82\" class=\"primitive\"/>\n",
       "  </g>\n",
       "  <g transform=\"translate(21.29,90.27)\" stroke=\"#D3D3D3\">\n",
       "    <path fill=\"none\" d=\"M2.22,1.13 L -3.61 0.53 1.4 -1.66\" class=\"primitive\"/>\n",
       "  </g>\n",
       "  <g transform=\"translate(39.24,55.58)\" stroke=\"#D3D3D3\">\n",
       "    <path fill=\"none\" d=\"M-0.26,1.92 L -2.47 -1.94 2.73 0.02\" class=\"primitive\"/>\n",
       "  </g>\n",
       "  <g transform=\"translate(29.46,56.93)\" stroke=\"#D3D3D3\">\n",
       "    <path fill=\"none\" d=\"M-2.52,0.75 L 1.25 -2.46 1.27 1.71\" class=\"primitive\"/>\n",
       "  </g>\n",
       "  <g transform=\"translate(28.19,15.17)\" stroke=\"#D3D3D3\">\n",
       "    <path fill=\"none\" d=\"M-1.84,1.43 L -0.34 -2.6 2.18 1.17\" class=\"primitive\"/>\n",
       "  </g>\n",
       "</g>\n",
       "<g font-size=\"4\" stroke=\"#000000\" stroke-opacity=\"0.000\" fill=\"#000000\" id=\"img-021286a1-3\">\n",
       "  <g transform=\"translate(87.61,76.15)\">\n",
       "    <g class=\"primitive\">\n",
       "      <text text-anchor=\"middle\" dy=\"0.35em\">i₁</text>\n",
       "    </g>\n",
       "  </g>\n",
       "  <g transform=\"translate(118.15,48.79)\">\n",
       "    <g class=\"primitive\">\n",
       "      <text text-anchor=\"middle\" dy=\"0.35em\">i₂</text>\n",
       "    </g>\n",
       "  </g>\n",
       "  <g transform=\"translate(45.49,44.03)\">\n",
       "    <g class=\"primitive\">\n",
       "      <text text-anchor=\"middle\" dy=\"0.35em\">i₃</text>\n",
       "    </g>\n",
       "  </g>\n",
       "  <g transform=\"translate(69.59,20.6)\">\n",
       "    <g class=\"primitive\">\n",
       "      <text text-anchor=\"middle\" dy=\"0.35em\">i₄</text>\n",
       "    </g>\n",
       "  </g>\n",
       "  <g transform=\"translate(27.24,89.4)\">\n",
       "    <g class=\"primitive\">\n",
       "      <text text-anchor=\"middle\" dy=\"0.35em\">i₅</text>\n",
       "    </g>\n",
       "  </g>\n",
       "  <g transform=\"translate(42.96,58.51)\">\n",
       "    <g class=\"primitive\">\n",
       "      <text text-anchor=\"middle\" dy=\"0.35em\">i₆</text>\n",
       "    </g>\n",
       "  </g>\n",
       "  <g transform=\"translate(27.51,60.77)\">\n",
       "    <g class=\"primitive\">\n",
       "      <text text-anchor=\"middle\" dy=\"0.35em\">i₇</text>\n",
       "    </g>\n",
       "  </g>\n",
       "  <g transform=\"translate(28.66,18.87)\">\n",
       "    <g class=\"primitive\">\n",
       "      <text text-anchor=\"middle\" dy=\"0.35em\">i₈</text>\n",
       "    </g>\n",
       "  </g>\n",
       "</g>\n",
       "<g stroke-width=\"0\" stroke=\"#000000\" stroke-opacity=\"0.000\" id=\"img-021286a1-4\">\n",
       "  <g transform=\"translate(129.64,56.82)\" fill=\"#808080\">\n",
       "    <circle cx=\"0\" cy=\"0\" r=\"5.77\" class=\"primitive\"/>\n",
       "  </g>\n",
       "  <g transform=\"translate(83.69,24.69)\" fill=\"#808080\">\n",
       "    <circle cx=\"0\" cy=\"0\" r=\"5.77\" class=\"primitive\"/>\n",
       "  </g>\n",
       "  <g transform=\"translate(27.3,8.33)\" fill=\"#808080\">\n",
       "    <circle cx=\"0\" cy=\"0\" r=\"5.77\" class=\"primitive\"/>\n",
       "  </g>\n",
       "  <g transform=\"translate(73.6,82.59)\" fill=\"#808080\">\n",
       "    <circle cx=\"0\" cy=\"0\" r=\"5.77\" class=\"primitive\"/>\n",
       "  </g>\n",
       "  <g transform=\"translate(11.79,91.67)\" fill=\"#808080\">\n",
       "    <circle cx=\"0\" cy=\"0\" r=\"5.77\" class=\"primitive\"/>\n",
       "  </g>\n",
       "  <g transform=\"translate(32.75,50.48)\" fill=\"#808080\">\n",
       "    <circle cx=\"0\" cy=\"0\" r=\"5.77\" class=\"primitive\"/>\n",
       "  </g>\n",
       "</g>\n",
       "<g font-size=\"4\" stroke=\"#000000\" stroke-opacity=\"0.000\" fill=\"#000000\" id=\"img-021286a1-5\">\n",
       "  <g transform=\"translate(129.64,56.82)\">\n",
       "    <g class=\"primitive\">\n",
       "      <text text-anchor=\"middle\" dy=\"0.35em\">v₁</text>\n",
       "    </g>\n",
       "  </g>\n",
       "  <g transform=\"translate(83.69,24.69)\">\n",
       "    <g class=\"primitive\">\n",
       "      <text text-anchor=\"middle\" dy=\"0.35em\">v₂</text>\n",
       "    </g>\n",
       "  </g>\n",
       "  <g transform=\"translate(27.3,8.33)\">\n",
       "    <g class=\"primitive\">\n",
       "      <text text-anchor=\"middle\" dy=\"0.35em\">v₃</text>\n",
       "    </g>\n",
       "  </g>\n",
       "  <g transform=\"translate(73.6,82.59)\">\n",
       "    <g class=\"primitive\">\n",
       "      <text text-anchor=\"middle\" dy=\"0.35em\">v₄</text>\n",
       "    </g>\n",
       "  </g>\n",
       "  <g transform=\"translate(11.79,91.67)\">\n",
       "    <g class=\"primitive\">\n",
       "      <text text-anchor=\"middle\" dy=\"0.35em\">v₅</text>\n",
       "    </g>\n",
       "  </g>\n",
       "  <g transform=\"translate(32.75,50.48)\">\n",
       "    <g class=\"primitive\">\n",
       "      <text text-anchor=\"middle\" dy=\"0.35em\">v₆</text>\n",
       "    </g>\n",
       "  </g>\n",
       "</g>\n",
       "</svg>\n"
      ],
      "text/plain": [
       "MyGraph({6, 8} directed Int64 metagraph with Float64 weights defined by :weight (default weight 1.0))"
      ]
     },
     "execution_count": 26,
     "metadata": {},
     "output_type": "execute_result"
    }
   ],
   "source": [
    "labels(g, edges=[Sym(\"i_$i\") for i = 1:size(A,1)], nodes=[Sym(\"v_$i\") for i = 1:size(A,2)])"
   ]
  },
  {
   "cell_type": "markdown",
   "metadata": {},
   "source": [
    "### Kirchhoff's voltage law (KVL)\n",
    "\n",
    "Let's start doing some linear algebra.  What happens if we *multiply* our incidence matrix $A$ by a vector of voltages, one per node?"
   ]
  },
  {
   "cell_type": "code",
   "execution_count": 27,
   "metadata": {},
   "outputs": [
    {
     "data": {
      "text/latex": [
       "\\[ \\left[ \\begin{array}{r}v_{1}\\\\v_{2}\\\\v_{3}\\\\v_{4}\\\\v_{5}\\\\v_{6}\\end{array} \\right] \\]"
      ],
      "text/plain": [
       "6-element Array{Sym,1}:\n",
       " v_1\n",
       " v_2\n",
       " v_3\n",
       " v_4\n",
       " v_5\n",
       " v_6"
      ]
     },
     "execution_count": 27,
     "metadata": {},
     "output_type": "execute_result"
    }
   ],
   "source": [
    "v = [Sym(\"v_$i\") for i = 1:size(A,2)]"
   ]
  },
  {
   "cell_type": "code",
   "execution_count": 28,
   "metadata": {},
   "outputs": [
    {
     "data": {
      "text/plain": [
       "8×6 Array{Int64,2}:\n",
       " -1   0   0   1   0   0\n",
       "  1  -1   0   0   0   0\n",
       "  0  -1   0   0   0   1\n",
       "  0   1  -1   0   0   0\n",
       "  0   0   0  -1   1   0\n",
       "  0   0   0  -1   0   1\n",
       "  0   0   0   0  -1   1\n",
       "  0   0   1   0   0  -1"
      ]
     },
     "execution_count": 28,
     "metadata": {},
     "output_type": "execute_result"
    }
   ],
   "source": [
    "A"
   ]
  },
  {
   "cell_type": "code",
   "execution_count": 29,
   "metadata": {},
   "outputs": [
    {
     "data": {
      "text/latex": [
       "\\[ \\left[ \\begin{array}{r}- v_{1} + v_{4}\\\\v_{1} - v_{2}\\\\- v_{2} + v_{6}\\\\v_{2} - v_{3}\\\\- v_{4} + v_{5}\\\\- v_{4} + v_{6}\\\\- v_{5} + v_{6}\\\\v_{3} - v_{6}\\end{array} \\right] \\]"
      ],
      "text/plain": [
       "8-element Array{Sym,1}:\n",
       " -v_1 + v_4\n",
       "  v_1 - v_2\n",
       " -v_2 + v_6\n",
       "  v_2 - v_3\n",
       " -v_4 + v_5\n",
       " -v_4 + v_6\n",
       " -v_5 + v_6\n",
       "  v_3 - v_6"
      ]
     },
     "execution_count": 29,
     "metadata": {},
     "output_type": "execute_result"
    }
   ],
   "source": [
    "A * v"
   ]
  },
  {
   "cell_type": "markdown",
   "metadata": {},
   "source": [
    "What we get are the **voltage difference** (and in particular, the **voltage rise**) across each edge.  It is easier to see this if we use the elements of $Av$ to directly label the edges of our graph:"
   ]
  },
  {
   "cell_type": "code",
   "execution_count": 30,
   "metadata": {},
   "outputs": [
    {
     "data": {
      "image/svg+xml": [
       "<?xml version=\"1.0\" encoding=\"UTF-8\"?>\n",
       "<svg xmlns=\"http://www.w3.org/2000/svg\"\n",
       "     xmlns:xlink=\"http://www.w3.org/1999/xlink\"\n",
       "     version=\"1.2\"\n",
       "     width=\"141.42mm\" height=\"100mm\" viewBox=\"0 0 141.42 100\"\n",
       "     stroke=\"none\"\n",
       "     fill=\"#000000\"\n",
       "     stroke-width=\"0.3\"\n",
       "     font-size=\"3.88\"\n",
       ">\n",
       "<defs>\n",
       "  <marker id=\"arrow\" markerWidth=\"15\" markerHeight=\"7\" refX=\"5\" refY=\"3.5\" orient=\"auto\" markerUnits=\"strokeWidth\">\n",
       "    <path d=\"M0,0 L15,3.5 L0,7 z\" stroke=\"context-stroke\" fill=\"context-stroke\"/>\n",
       "  </marker>\n",
       "</defs>\n",
       "<g stroke-width=\"1.22\" fill=\"#000000\" fill-opacity=\"0.000\" id=\"img-41248919-1\">\n",
       "  <g transform=\"translate(101.62,69.71)\" stroke=\"#D3D3D3\">\n",
       "    <path fill=\"none\" d=\"M22.98,-10.57 L -22.98 10.57\" class=\"primitive\"/>\n",
       "  </g>\n",
       "  <g transform=\"translate(106.66,40.76)\" stroke=\"#D3D3D3\">\n",
       "    <path fill=\"none\" d=\"M-18.7,-13.08 L 18.7 13.08\" class=\"primitive\"/>\n",
       "  </g>\n",
       "  <g transform=\"translate(58.22,37.58)\" stroke=\"#D3D3D3\">\n",
       "    <path fill=\"none\" d=\"M20.58,-10.42 L -20.58 10.42\" class=\"primitive\"/>\n",
       "  </g>\n",
       "  <g transform=\"translate(55.5,16.51)\" stroke=\"#D3D3D3\">\n",
       "    <path fill=\"none\" d=\"M-22.63,-6.56 L 22.63 6.56\" class=\"primitive\"/>\n",
       "  </g>\n",
       "  <g transform=\"translate(42.69,87.13)\" stroke=\"#D3D3D3\">\n",
       "    <path fill=\"none\" d=\"M25.02,-3.67 L -25.02 3.67\" class=\"primitive\"/>\n",
       "  </g>\n",
       "  <g transform=\"translate(53.18,66.53)\" stroke=\"#D3D3D3\">\n",
       "    <path fill=\"none\" d=\"M16.4,12.9 L -16.4 -12.9\" class=\"primitive\"/>\n",
       "  </g>\n",
       "  <g transform=\"translate(22.27,71.07)\" stroke=\"#D3D3D3\">\n",
       "    <path fill=\"none\" d=\"M-8.45,16.59 L 8.45 -16.59\" class=\"primitive\"/>\n",
       "  </g>\n",
       "  <g transform=\"translate(30.03,29.41)\" stroke=\"#D3D3D3\">\n",
       "    <path fill=\"none\" d=\"M2.18,16.84 L -2.18 -16.84\" class=\"primitive\"/>\n",
       "  </g>\n",
       "</g>\n",
       "<g stroke-width=\"1.22\" id=\"img-41248919-2\">\n",
       "  <g transform=\"translate(81.74,78.85)\" stroke=\"#D3D3D3\">\n",
       "    <path fill=\"none\" d=\"M2.65,0.48 L -3.09 1.42 0.45 -1.91\" class=\"primitive\"/>\n",
       "  </g>\n",
       "  <g transform=\"translate(122.74,52)\" stroke=\"#D3D3D3\">\n",
       "    <path fill=\"none\" d=\"M0.1,-1.93 L 2.62 1.84 -2.73 0.1\" class=\"primitive\"/>\n",
       "  </g>\n",
       "  <g transform=\"translate(40.64,46.48)\" stroke=\"#D3D3D3\">\n",
       "    <path fill=\"none\" d=\"M2.67,0.4 L -3 1.52 0.33 -1.92\" class=\"primitive\"/>\n",
       "  </g>\n",
       "  <g transform=\"translate(74.71,22.08)\" stroke=\"#D3D3D3\">\n",
       "    <path fill=\"none\" d=\"M-0.94,-1.81 L 3.42 0.99 -2.47 0.82\" class=\"primitive\"/>\n",
       "  </g>\n",
       "  <g transform=\"translate(21.29,90.27)\" stroke=\"#D3D3D3\">\n",
       "    <path fill=\"none\" d=\"M2.22,1.13 L -3.61 0.53 1.4 -1.66\" class=\"primitive\"/>\n",
       "  </g>\n",
       "  <g transform=\"translate(39.24,55.58)\" stroke=\"#D3D3D3\">\n",
       "    <path fill=\"none\" d=\"M-0.26,1.92 L -2.47 -1.94 2.73 0.02\" class=\"primitive\"/>\n",
       "  </g>\n",
       "  <g transform=\"translate(29.46,56.93)\" stroke=\"#D3D3D3\">\n",
       "    <path fill=\"none\" d=\"M-2.52,0.75 L 1.25 -2.46 1.27 1.71\" class=\"primitive\"/>\n",
       "  </g>\n",
       "  <g transform=\"translate(28.19,15.17)\" stroke=\"#D3D3D3\">\n",
       "    <path fill=\"none\" d=\"M-1.84,1.43 L -0.34 -2.6 2.18 1.17\" class=\"primitive\"/>\n",
       "  </g>\n",
       "</g>\n",
       "<g font-size=\"4\" stroke=\"#000000\" stroke-opacity=\"0.000\" fill=\"#000000\" id=\"img-41248919-3\">\n",
       "  <g transform=\"translate(87.61,76.15)\">\n",
       "    <g class=\"primitive\">\n",
       "      <text text-anchor=\"middle\" dy=\"0.35em\">-v₁ + v₄</text>\n",
       "    </g>\n",
       "  </g>\n",
       "  <g transform=\"translate(118.15,48.79)\">\n",
       "    <g class=\"primitive\">\n",
       "      <text text-anchor=\"middle\" dy=\"0.35em\">v₁ - v₂</text>\n",
       "    </g>\n",
       "  </g>\n",
       "  <g transform=\"translate(45.49,44.03)\">\n",
       "    <g class=\"primitive\">\n",
       "      <text text-anchor=\"middle\" dy=\"0.35em\">-v₂ + v₆</text>\n",
       "    </g>\n",
       "  </g>\n",
       "  <g transform=\"translate(69.59,20.6)\">\n",
       "    <g class=\"primitive\">\n",
       "      <text text-anchor=\"middle\" dy=\"0.35em\">v₂ - v₃</text>\n",
       "    </g>\n",
       "  </g>\n",
       "  <g transform=\"translate(27.24,89.4)\">\n",
       "    <g class=\"primitive\">\n",
       "      <text text-anchor=\"middle\" dy=\"0.35em\">-v₄ + v₅</text>\n",
       "    </g>\n",
       "  </g>\n",
       "  <g transform=\"translate(42.96,58.51)\">\n",
       "    <g class=\"primitive\">\n",
       "      <text text-anchor=\"middle\" dy=\"0.35em\">-v₄ + v₆</text>\n",
       "    </g>\n",
       "  </g>\n",
       "  <g transform=\"translate(27.51,60.77)\">\n",
       "    <g class=\"primitive\">\n",
       "      <text text-anchor=\"middle\" dy=\"0.35em\">-v₅ + v₆</text>\n",
       "    </g>\n",
       "  </g>\n",
       "  <g transform=\"translate(28.66,18.87)\">\n",
       "    <g class=\"primitive\">\n",
       "      <text text-anchor=\"middle\" dy=\"0.35em\">v₃ - v₆</text>\n",
       "    </g>\n",
       "  </g>\n",
       "</g>\n",
       "<g stroke-width=\"0\" stroke=\"#000000\" stroke-opacity=\"0.000\" id=\"img-41248919-4\">\n",
       "  <g transform=\"translate(129.64,56.82)\" fill=\"#808080\">\n",
       "    <circle cx=\"0\" cy=\"0\" r=\"5.77\" class=\"primitive\"/>\n",
       "  </g>\n",
       "  <g transform=\"translate(83.69,24.69)\" fill=\"#808080\">\n",
       "    <circle cx=\"0\" cy=\"0\" r=\"5.77\" class=\"primitive\"/>\n",
       "  </g>\n",
       "  <g transform=\"translate(27.3,8.33)\" fill=\"#808080\">\n",
       "    <circle cx=\"0\" cy=\"0\" r=\"5.77\" class=\"primitive\"/>\n",
       "  </g>\n",
       "  <g transform=\"translate(73.6,82.59)\" fill=\"#808080\">\n",
       "    <circle cx=\"0\" cy=\"0\" r=\"5.77\" class=\"primitive\"/>\n",
       "  </g>\n",
       "  <g transform=\"translate(11.79,91.67)\" fill=\"#808080\">\n",
       "    <circle cx=\"0\" cy=\"0\" r=\"5.77\" class=\"primitive\"/>\n",
       "  </g>\n",
       "  <g transform=\"translate(32.75,50.48)\" fill=\"#808080\">\n",
       "    <circle cx=\"0\" cy=\"0\" r=\"5.77\" class=\"primitive\"/>\n",
       "  </g>\n",
       "</g>\n",
       "<g font-size=\"4\" stroke=\"#000000\" stroke-opacity=\"0.000\" fill=\"#000000\" id=\"img-41248919-5\">\n",
       "  <g transform=\"translate(129.64,56.82)\">\n",
       "    <g class=\"primitive\">\n",
       "      <text text-anchor=\"middle\" dy=\"0.35em\">v₁</text>\n",
       "    </g>\n",
       "  </g>\n",
       "  <g transform=\"translate(83.69,24.69)\">\n",
       "    <g class=\"primitive\">\n",
       "      <text text-anchor=\"middle\" dy=\"0.35em\">v₂</text>\n",
       "    </g>\n",
       "  </g>\n",
       "  <g transform=\"translate(27.3,8.33)\">\n",
       "    <g class=\"primitive\">\n",
       "      <text text-anchor=\"middle\" dy=\"0.35em\">v₃</text>\n",
       "    </g>\n",
       "  </g>\n",
       "  <g transform=\"translate(73.6,82.59)\">\n",
       "    <g class=\"primitive\">\n",
       "      <text text-anchor=\"middle\" dy=\"0.35em\">v₄</text>\n",
       "    </g>\n",
       "  </g>\n",
       "  <g transform=\"translate(11.79,91.67)\">\n",
       "    <g class=\"primitive\">\n",
       "      <text text-anchor=\"middle\" dy=\"0.35em\">v₅</text>\n",
       "    </g>\n",
       "  </g>\n",
       "  <g transform=\"translate(32.75,50.48)\">\n",
       "    <g class=\"primitive\">\n",
       "      <text text-anchor=\"middle\" dy=\"0.35em\">v₆</text>\n",
       "    </g>\n",
       "  </g>\n",
       "</g>\n",
       "</svg>\n"
      ],
      "text/plain": [
       "MyGraph({6, 8} directed Int64 metagraph with Float64 weights defined by :weight (default weight 1.0))"
      ]
     },
     "execution_count": 30,
     "metadata": {},
     "output_type": "execute_result"
    }
   ],
   "source": [
    "labels(g, edges=A*v, nodes=v)"
   ]
  },
  {
   "cell_type": "markdown",
   "metadata": {},
   "source": [
    "Now, let's ask the inverse question: **what voltage differences $d=Av$** can possibly arise?  i.e. what $d$ are in $C(A)$? \n",
    "\n",
    "Remember, $A$ is **not full rank**: its rank is 5, but there are 8 rows (8 edges).  So, $C(A)$ is 5-dimensional (\"missing\" three dimensions).  Equivalently $C(A)$ is **orthogonal to the left nullspace**, which has three rows.  What does this mean?\n",
    "\n",
    "Let's visualize the differences d:"
   ]
  },
  {
   "cell_type": "code",
   "execution_count": 31,
   "metadata": {},
   "outputs": [
    {
     "data": {
      "image/svg+xml": [
       "<?xml version=\"1.0\" encoding=\"UTF-8\"?>\n",
       "<svg xmlns=\"http://www.w3.org/2000/svg\"\n",
       "     xmlns:xlink=\"http://www.w3.org/1999/xlink\"\n",
       "     version=\"1.2\"\n",
       "     width=\"141.42mm\" height=\"100mm\" viewBox=\"0 0 141.42 100\"\n",
       "     stroke=\"none\"\n",
       "     fill=\"#000000\"\n",
       "     stroke-width=\"0.3\"\n",
       "     font-size=\"3.88\"\n",
       ">\n",
       "<defs>\n",
       "  <marker id=\"arrow\" markerWidth=\"15\" markerHeight=\"7\" refX=\"5\" refY=\"3.5\" orient=\"auto\" markerUnits=\"strokeWidth\">\n",
       "    <path d=\"M0,0 L15,3.5 L0,7 z\" stroke=\"context-stroke\" fill=\"context-stroke\"/>\n",
       "  </marker>\n",
       "</defs>\n",
       "<g stroke-width=\"1.22\" fill=\"#000000\" fill-opacity=\"0.000\" id=\"img-87813031-1\">\n",
       "  <g transform=\"translate(101.62,69.71)\" stroke=\"#D3D3D3\">\n",
       "    <path fill=\"none\" d=\"M22.98,-10.57 L -22.98 10.57\" class=\"primitive\"/>\n",
       "  </g>\n",
       "  <g transform=\"translate(106.66,40.76)\" stroke=\"#D3D3D3\">\n",
       "    <path fill=\"none\" d=\"M-18.7,-13.08 L 18.7 13.08\" class=\"primitive\"/>\n",
       "  </g>\n",
       "  <g transform=\"translate(58.22,37.58)\" stroke=\"#D3D3D3\">\n",
       "    <path fill=\"none\" d=\"M20.58,-10.42 L -20.58 10.42\" class=\"primitive\"/>\n",
       "  </g>\n",
       "  <g transform=\"translate(55.5,16.51)\" stroke=\"#D3D3D3\">\n",
       "    <path fill=\"none\" d=\"M-22.63,-6.56 L 22.63 6.56\" class=\"primitive\"/>\n",
       "  </g>\n",
       "  <g transform=\"translate(42.69,87.13)\" stroke=\"#D3D3D3\">\n",
       "    <path fill=\"none\" d=\"M25.02,-3.67 L -25.02 3.67\" class=\"primitive\"/>\n",
       "  </g>\n",
       "  <g transform=\"translate(53.18,66.53)\" stroke=\"#D3D3D3\">\n",
       "    <path fill=\"none\" d=\"M16.4,12.9 L -16.4 -12.9\" class=\"primitive\"/>\n",
       "  </g>\n",
       "  <g transform=\"translate(22.27,71.07)\" stroke=\"#D3D3D3\">\n",
       "    <path fill=\"none\" d=\"M-8.45,16.59 L 8.45 -16.59\" class=\"primitive\"/>\n",
       "  </g>\n",
       "  <g transform=\"translate(30.03,29.41)\" stroke=\"#D3D3D3\">\n",
       "    <path fill=\"none\" d=\"M2.18,16.84 L -2.18 -16.84\" class=\"primitive\"/>\n",
       "  </g>\n",
       "</g>\n",
       "<g stroke-width=\"1.22\" id=\"img-87813031-2\">\n",
       "  <g transform=\"translate(81.74,78.85)\" stroke=\"#D3D3D3\">\n",
       "    <path fill=\"none\" d=\"M2.65,0.48 L -3.09 1.42 0.45 -1.91\" class=\"primitive\"/>\n",
       "  </g>\n",
       "  <g transform=\"translate(122.74,52)\" stroke=\"#D3D3D3\">\n",
       "    <path fill=\"none\" d=\"M0.1,-1.93 L 2.62 1.84 -2.73 0.1\" class=\"primitive\"/>\n",
       "  </g>\n",
       "  <g transform=\"translate(40.64,46.48)\" stroke=\"#D3D3D3\">\n",
       "    <path fill=\"none\" d=\"M2.67,0.4 L -3 1.52 0.33 -1.92\" class=\"primitive\"/>\n",
       "  </g>\n",
       "  <g transform=\"translate(74.71,22.08)\" stroke=\"#D3D3D3\">\n",
       "    <path fill=\"none\" d=\"M-0.94,-1.81 L 3.42 0.99 -2.47 0.82\" class=\"primitive\"/>\n",
       "  </g>\n",
       "  <g transform=\"translate(21.29,90.27)\" stroke=\"#D3D3D3\">\n",
       "    <path fill=\"none\" d=\"M2.22,1.13 L -3.61 0.53 1.4 -1.66\" class=\"primitive\"/>\n",
       "  </g>\n",
       "  <g transform=\"translate(39.24,55.58)\" stroke=\"#D3D3D3\">\n",
       "    <path fill=\"none\" d=\"M-0.26,1.92 L -2.47 -1.94 2.73 0.02\" class=\"primitive\"/>\n",
       "  </g>\n",
       "  <g transform=\"translate(29.46,56.93)\" stroke=\"#D3D3D3\">\n",
       "    <path fill=\"none\" d=\"M-2.52,0.75 L 1.25 -2.46 1.27 1.71\" class=\"primitive\"/>\n",
       "  </g>\n",
       "  <g transform=\"translate(28.19,15.17)\" stroke=\"#D3D3D3\">\n",
       "    <path fill=\"none\" d=\"M-1.84,1.43 L -0.34 -2.6 2.18 1.17\" class=\"primitive\"/>\n",
       "  </g>\n",
       "</g>\n",
       "<g font-size=\"4\" stroke=\"#000000\" stroke-opacity=\"0.000\" fill=\"#000000\" id=\"img-87813031-3\">\n",
       "  <g transform=\"translate(87.61,76.15)\">\n",
       "    <g class=\"primitive\">\n",
       "      <text text-anchor=\"middle\" dy=\"0.35em\">d₁</text>\n",
       "    </g>\n",
       "  </g>\n",
       "  <g transform=\"translate(118.15,48.79)\">\n",
       "    <g class=\"primitive\">\n",
       "      <text text-anchor=\"middle\" dy=\"0.35em\">d₂</text>\n",
       "    </g>\n",
       "  </g>\n",
       "  <g transform=\"translate(45.49,44.03)\">\n",
       "    <g class=\"primitive\">\n",
       "      <text text-anchor=\"middle\" dy=\"0.35em\">d₃</text>\n",
       "    </g>\n",
       "  </g>\n",
       "  <g transform=\"translate(69.59,20.6)\">\n",
       "    <g class=\"primitive\">\n",
       "      <text text-anchor=\"middle\" dy=\"0.35em\">d₄</text>\n",
       "    </g>\n",
       "  </g>\n",
       "  <g transform=\"translate(27.24,89.4)\">\n",
       "    <g class=\"primitive\">\n",
       "      <text text-anchor=\"middle\" dy=\"0.35em\">d₅</text>\n",
       "    </g>\n",
       "  </g>\n",
       "  <g transform=\"translate(42.96,58.51)\">\n",
       "    <g class=\"primitive\">\n",
       "      <text text-anchor=\"middle\" dy=\"0.35em\">d₆</text>\n",
       "    </g>\n",
       "  </g>\n",
       "  <g transform=\"translate(27.51,60.77)\">\n",
       "    <g class=\"primitive\">\n",
       "      <text text-anchor=\"middle\" dy=\"0.35em\">d₇</text>\n",
       "    </g>\n",
       "  </g>\n",
       "  <g transform=\"translate(28.66,18.87)\">\n",
       "    <g class=\"primitive\">\n",
       "      <text text-anchor=\"middle\" dy=\"0.35em\">d₈</text>\n",
       "    </g>\n",
       "  </g>\n",
       "</g>\n",
       "<g stroke-width=\"0\" stroke=\"#000000\" stroke-opacity=\"0.000\" id=\"img-87813031-4\">\n",
       "  <g transform=\"translate(129.64,56.82)\" fill=\"#808080\">\n",
       "    <circle cx=\"0\" cy=\"0\" r=\"5.77\" class=\"primitive\"/>\n",
       "  </g>\n",
       "  <g transform=\"translate(83.69,24.69)\" fill=\"#808080\">\n",
       "    <circle cx=\"0\" cy=\"0\" r=\"5.77\" class=\"primitive\"/>\n",
       "  </g>\n",
       "  <g transform=\"translate(27.3,8.33)\" fill=\"#808080\">\n",
       "    <circle cx=\"0\" cy=\"0\" r=\"5.77\" class=\"primitive\"/>\n",
       "  </g>\n",
       "  <g transform=\"translate(73.6,82.59)\" fill=\"#808080\">\n",
       "    <circle cx=\"0\" cy=\"0\" r=\"5.77\" class=\"primitive\"/>\n",
       "  </g>\n",
       "  <g transform=\"translate(11.79,91.67)\" fill=\"#808080\">\n",
       "    <circle cx=\"0\" cy=\"0\" r=\"5.77\" class=\"primitive\"/>\n",
       "  </g>\n",
       "  <g transform=\"translate(32.75,50.48)\" fill=\"#808080\">\n",
       "    <circle cx=\"0\" cy=\"0\" r=\"5.77\" class=\"primitive\"/>\n",
       "  </g>\n",
       "</g>\n",
       "<g font-size=\"4\" stroke=\"#000000\" stroke-opacity=\"0.000\" fill=\"#000000\" id=\"img-87813031-5\">\n",
       "  <g transform=\"translate(129.64,56.82)\">\n",
       "    <g class=\"primitive\">\n",
       "      <text text-anchor=\"middle\" dy=\"0.35em\">v₁</text>\n",
       "    </g>\n",
       "  </g>\n",
       "  <g transform=\"translate(83.69,24.69)\">\n",
       "    <g class=\"primitive\">\n",
       "      <text text-anchor=\"middle\" dy=\"0.35em\">v₂</text>\n",
       "    </g>\n",
       "  </g>\n",
       "  <g transform=\"translate(27.3,8.33)\">\n",
       "    <g class=\"primitive\">\n",
       "      <text text-anchor=\"middle\" dy=\"0.35em\">v₃</text>\n",
       "    </g>\n",
       "  </g>\n",
       "  <g transform=\"translate(73.6,82.59)\">\n",
       "    <g class=\"primitive\">\n",
       "      <text text-anchor=\"middle\" dy=\"0.35em\">v₄</text>\n",
       "    </g>\n",
       "  </g>\n",
       "  <g transform=\"translate(11.79,91.67)\">\n",
       "    <g class=\"primitive\">\n",
       "      <text text-anchor=\"middle\" dy=\"0.35em\">v₅</text>\n",
       "    </g>\n",
       "  </g>\n",
       "  <g transform=\"translate(32.75,50.48)\">\n",
       "    <g class=\"primitive\">\n",
       "      <text text-anchor=\"middle\" dy=\"0.35em\">v₆</text>\n",
       "    </g>\n",
       "  </g>\n",
       "</g>\n",
       "</svg>\n"
      ],
      "text/plain": [
       "MyGraph({6, 8} directed Int64 metagraph with Float64 weights defined by :weight (default weight 1.0))"
      ]
     },
     "execution_count": 31,
     "metadata": {},
     "output_type": "execute_result"
    }
   ],
   "source": [
    "d = [Sym(\"d_$j\") for j = 1:size(A,1)]\n",
    "labels(g, edges=d, nodes=v)"
   ]
  },
  {
   "cell_type": "markdown",
   "metadata": {},
   "source": [
    "If $N$ is a basis for the left nullspace, we must have $N^T d = 0$, or:"
   ]
  },
  {
   "cell_type": "code",
   "execution_count": 32,
   "metadata": {},
   "outputs": [
    {
     "data": {
      "text/latex": [
       "\\[ \\left[ \\begin{array}{r}d_{1} + d_{2} - d_{3} + d_{6}\\\\d_{1} + d_{2} - d_{3} + d_{5} + d_{7}\\\\d_{3} + d_{4} + d_{8}\\end{array} \\right] \\]"
      ],
      "text/plain": [
       "3-element Array{Sym,1}:\n",
       "       d_1 + d_2 - d_3 + d_6\n",
       " d_1 + d_2 - d_3 + d_5 + d_7\n",
       "             d_3 + d_4 + d_8"
      ]
     },
     "execution_count": 32,
     "metadata": {},
     "output_type": "execute_result"
    }
   ],
   "source": [
    "N' * d"
   ]
  },
  {
   "cell_type": "markdown",
   "metadata": {},
   "source": [
    "But what is this?  Remember, each element of the left nullspace corresponded to a **loop in the graph**.  Saying $N^T d = 0$, or $d \\perp N(A^T)$, is equivalent to saying that the **sum of the voltage rises around each loop = 0**.\n",
    "\n",
    "But this is precisely [Kirchhoff's voltage law](https://en.wikipedia.org/wiki/Kirchhoff's_circuit_laws) from circuit theory!"
   ]
  },
  {
   "cell_type": "markdown",
   "metadata": {},
   "source": [
    "### Kirchhoff's current law (KCL)\n",
    "\n",
    "To actually solve circuit problems, we need three additional ingredients:\n",
    "\n",
    "* The voltage difference $d$ must be divided by a resistance $R$ to get the *current* $i$ through that edge: $i = -d/R = -Yd$ (where $Y=1/R$ is the \"admittance\"), by [Ohm's law](https://en.wikipedia.org/wiki/Ohm's_law).  Note that we need a minus sign to get the current in the direction of the arrow, since $d$ was the the voltage *rise* across the edge.\n",
    "\n",
    "* The sum of the currents $i$ entering each node must be zero, by Kirchhoff's current law (KCL).\n",
    "\n",
    "* To get a nontrivial solution, we need some kind of *source*: a battery or current source, to start currents flowing.\n",
    "\n",
    "How do we represent each one of these steps by linear-algebra operations?"
   ]
  },
  {
   "cell_type": "markdown",
   "metadata": {},
   "source": [
    "#### Ohm's law\n",
    "\n",
    "To represent Ohm's law, we need to multiply the voltage differences $d=Av$ by a *diagonal matrix* of admittances:"
   ]
  },
  {
   "cell_type": "code",
   "execution_count": 33,
   "metadata": {},
   "outputs": [
    {
     "data": {
      "text/latex": [
       "\\[\\left[ \\begin{array}{rrrrrrrr}Y_{1}&0&0&0&0&0&0&0\\\\0&Y_{2}&0&0&0&0&0&0\\\\0&0&Y_{3}&0&0&0&0&0\\\\0&0&0&Y_{4}&0&0&0&0\\\\0&0&0&0&Y_{5}&0&0&0\\\\0&0&0&0&0&Y_{6}&0&0\\\\0&0&0&0&0&0&Y_{7}&0\\\\0&0&0&0&0&0&0&Y_{8}\\end{array}\\right]\\]"
      ],
      "text/plain": [
       "8×8 Array{Sym,2}:\n",
       " Y_1    0    0    0    0    0    0    0\n",
       "   0  Y_2    0    0    0    0    0    0\n",
       "   0    0  Y_3    0    0    0    0    0\n",
       "   0    0    0  Y_4    0    0    0    0\n",
       "   0    0    0    0  Y_5    0    0    0\n",
       "   0    0    0    0    0  Y_6    0    0\n",
       "   0    0    0    0    0    0  Y_7    0\n",
       "   0    0    0    0    0    0    0  Y_8"
      ]
     },
     "execution_count": 33,
     "metadata": {},
     "output_type": "execute_result"
    }
   ],
   "source": [
    "Y = diagm(0=>[Sym(\"Y_$i\") for i = 1:size(A,1)])"
   ]
  },
  {
   "cell_type": "code",
   "execution_count": 34,
   "metadata": {},
   "outputs": [
    {
     "data": {
      "text/latex": [
       "\\[ \\left[ \\begin{array}{r}Y_{1} d_{1}\\\\Y_{2} d_{2}\\\\Y_{3} d_{3}\\\\Y_{4} d_{4}\\\\Y_{5} d_{5}\\\\Y_{6} d_{6}\\\\Y_{7} d_{7}\\\\Y_{8} d_{8}\\end{array} \\right] \\]"
      ],
      "text/plain": [
       "8-element Array{Sym,1}:\n",
       " Y_1*d_1\n",
       " Y_2*d_2\n",
       " Y_3*d_3\n",
       " Y_4*d_4\n",
       " Y_5*d_5\n",
       " Y_6*d_6\n",
       " Y_7*d_7\n",
       " Y_8*d_8"
      ]
     },
     "execution_count": 34,
     "metadata": {},
     "output_type": "execute_result"
    }
   ],
   "source": [
    "Y*d"
   ]
  },
  {
   "cell_type": "code",
   "execution_count": 35,
   "metadata": {},
   "outputs": [
    {
     "data": {
      "text/latex": [
       "\\[ \\left[ \\begin{array}{r}- Y_{1} v_{1} + Y_{1} v_{4}\\\\Y_{2} v_{1} - Y_{2} v_{2}\\\\- Y_{3} v_{2} + Y_{3} v_{6}\\\\Y_{4} v_{2} - Y_{4} v_{3}\\\\- Y_{5} v_{4} + Y_{5} v_{5}\\\\- Y_{6} v_{4} + Y_{6} v_{6}\\\\- Y_{7} v_{5} + Y_{7} v_{6}\\\\Y_{8} v_{3} - Y_{8} v_{6}\\end{array} \\right] \\]"
      ],
      "text/plain": [
       "8-element Array{Sym,1}:\n",
       " -Y_1*v_1 + Y_1*v_4\n",
       "  Y_2*v_1 - Y_2*v_2\n",
       " -Y_3*v_2 + Y_3*v_6\n",
       "  Y_4*v_2 - Y_4*v_3\n",
       " -Y_5*v_4 + Y_5*v_5\n",
       " -Y_6*v_4 + Y_6*v_6\n",
       " -Y_7*v_5 + Y_7*v_6\n",
       "  Y_8*v_3 - Y_8*v_6"
      ]
     },
     "execution_count": 35,
     "metadata": {},
     "output_type": "execute_result"
    }
   ],
   "source": [
    "Y*A*v"
   ]
  },
  {
   "cell_type": "markdown",
   "metadata": {},
   "source": [
    "#### Net current into each node\n",
    "\n",
    "Given the currents $i$, a little thought shows that the net current flowing into each node is precisely $A^T i$:"
   ]
  },
  {
   "cell_type": "code",
   "execution_count": 36,
   "metadata": {},
   "outputs": [
    {
     "data": {
      "text/latex": [
       "\\[ \\left[ \\begin{array}{r}- i_{1} + i_{2}\\\\- i_{2} - i_{3} + i_{4}\\\\- i_{4} + i_{8}\\\\i_{1} - i_{5} - i_{6}\\\\i_{5} - i_{7}\\\\i_{3} + i_{6} + i_{7} - i_{8}\\end{array} \\right] \\]"
      ],
      "text/plain": [
       "6-element Array{Sym,1}:\n",
       "            -i_1 + i_2\n",
       "      -i_2 - i_3 + i_4\n",
       "            -i_4 + i_8\n",
       "       i_1 - i_5 - i_6\n",
       "             i_5 - i_7\n",
       " i_3 + i_6 + i_7 - i_8"
      ]
     },
     "execution_count": 36,
     "metadata": {},
     "output_type": "execute_result"
    }
   ],
   "source": [
    "i = [Sym(\"i_$j\") for j=1:size(A,1)]\n",
    "A'*i"
   ]
  },
  {
   "cell_type": "code",
   "execution_count": 37,
   "metadata": {},
   "outputs": [
    {
     "data": {
      "image/svg+xml": [
       "<?xml version=\"1.0\" encoding=\"UTF-8\"?>\n",
       "<svg xmlns=\"http://www.w3.org/2000/svg\"\n",
       "     xmlns:xlink=\"http://www.w3.org/1999/xlink\"\n",
       "     version=\"1.2\"\n",
       "     width=\"141.42mm\" height=\"100mm\" viewBox=\"0 0 141.42 100\"\n",
       "     stroke=\"none\"\n",
       "     fill=\"#000000\"\n",
       "     stroke-width=\"0.3\"\n",
       "     font-size=\"3.88\"\n",
       ">\n",
       "<defs>\n",
       "  <marker id=\"arrow\" markerWidth=\"15\" markerHeight=\"7\" refX=\"5\" refY=\"3.5\" orient=\"auto\" markerUnits=\"strokeWidth\">\n",
       "    <path d=\"M0,0 L15,3.5 L0,7 z\" stroke=\"context-stroke\" fill=\"context-stroke\"/>\n",
       "  </marker>\n",
       "</defs>\n",
       "<g stroke-width=\"1.22\" fill=\"#000000\" fill-opacity=\"0.000\" id=\"img-28ed236c-1\">\n",
       "  <g transform=\"translate(101.62,69.71)\" stroke=\"#D3D3D3\">\n",
       "    <path fill=\"none\" d=\"M22.98,-10.57 L -22.98 10.57\" class=\"primitive\"/>\n",
       "  </g>\n",
       "  <g transform=\"translate(106.66,40.76)\" stroke=\"#D3D3D3\">\n",
       "    <path fill=\"none\" d=\"M-18.7,-13.08 L 18.7 13.08\" class=\"primitive\"/>\n",
       "  </g>\n",
       "  <g transform=\"translate(58.22,37.58)\" stroke=\"#D3D3D3\">\n",
       "    <path fill=\"none\" d=\"M20.58,-10.42 L -20.58 10.42\" class=\"primitive\"/>\n",
       "  </g>\n",
       "  <g transform=\"translate(55.5,16.51)\" stroke=\"#D3D3D3\">\n",
       "    <path fill=\"none\" d=\"M-22.63,-6.56 L 22.63 6.56\" class=\"primitive\"/>\n",
       "  </g>\n",
       "  <g transform=\"translate(42.69,87.13)\" stroke=\"#D3D3D3\">\n",
       "    <path fill=\"none\" d=\"M25.02,-3.67 L -25.02 3.67\" class=\"primitive\"/>\n",
       "  </g>\n",
       "  <g transform=\"translate(53.18,66.53)\" stroke=\"#D3D3D3\">\n",
       "    <path fill=\"none\" d=\"M16.4,12.9 L -16.4 -12.9\" class=\"primitive\"/>\n",
       "  </g>\n",
       "  <g transform=\"translate(22.27,71.07)\" stroke=\"#D3D3D3\">\n",
       "    <path fill=\"none\" d=\"M-8.45,16.59 L 8.45 -16.59\" class=\"primitive\"/>\n",
       "  </g>\n",
       "  <g transform=\"translate(30.03,29.41)\" stroke=\"#D3D3D3\">\n",
       "    <path fill=\"none\" d=\"M2.18,16.84 L -2.18 -16.84\" class=\"primitive\"/>\n",
       "  </g>\n",
       "</g>\n",
       "<g stroke-width=\"1.22\" id=\"img-28ed236c-2\">\n",
       "  <g transform=\"translate(81.74,78.85)\" stroke=\"#D3D3D3\">\n",
       "    <path fill=\"none\" d=\"M2.65,0.48 L -3.09 1.42 0.45 -1.91\" class=\"primitive\"/>\n",
       "  </g>\n",
       "  <g transform=\"translate(122.74,52)\" stroke=\"#D3D3D3\">\n",
       "    <path fill=\"none\" d=\"M0.1,-1.93 L 2.62 1.84 -2.73 0.1\" class=\"primitive\"/>\n",
       "  </g>\n",
       "  <g transform=\"translate(40.64,46.48)\" stroke=\"#D3D3D3\">\n",
       "    <path fill=\"none\" d=\"M2.67,0.4 L -3 1.52 0.33 -1.92\" class=\"primitive\"/>\n",
       "  </g>\n",
       "  <g transform=\"translate(74.71,22.08)\" stroke=\"#D3D3D3\">\n",
       "    <path fill=\"none\" d=\"M-0.94,-1.81 L 3.42 0.99 -2.47 0.82\" class=\"primitive\"/>\n",
       "  </g>\n",
       "  <g transform=\"translate(21.29,90.27)\" stroke=\"#D3D3D3\">\n",
       "    <path fill=\"none\" d=\"M2.22,1.13 L -3.61 0.53 1.4 -1.66\" class=\"primitive\"/>\n",
       "  </g>\n",
       "  <g transform=\"translate(39.24,55.58)\" stroke=\"#D3D3D3\">\n",
       "    <path fill=\"none\" d=\"M-0.26,1.92 L -2.47 -1.94 2.73 0.02\" class=\"primitive\"/>\n",
       "  </g>\n",
       "  <g transform=\"translate(29.46,56.93)\" stroke=\"#D3D3D3\">\n",
       "    <path fill=\"none\" d=\"M-2.52,0.75 L 1.25 -2.46 1.27 1.71\" class=\"primitive\"/>\n",
       "  </g>\n",
       "  <g transform=\"translate(28.19,15.17)\" stroke=\"#D3D3D3\">\n",
       "    <path fill=\"none\" d=\"M-1.84,1.43 L -0.34 -2.6 2.18 1.17\" class=\"primitive\"/>\n",
       "  </g>\n",
       "</g>\n",
       "<g font-size=\"4\" stroke=\"#000000\" stroke-opacity=\"0.000\" fill=\"#000000\" id=\"img-28ed236c-3\">\n",
       "  <g transform=\"translate(87.61,76.15)\">\n",
       "    <g class=\"primitive\">\n",
       "      <text text-anchor=\"middle\" dy=\"0.35em\">i₁</text>\n",
       "    </g>\n",
       "  </g>\n",
       "  <g transform=\"translate(118.15,48.79)\">\n",
       "    <g class=\"primitive\">\n",
       "      <text text-anchor=\"middle\" dy=\"0.35em\">i₂</text>\n",
       "    </g>\n",
       "  </g>\n",
       "  <g transform=\"translate(45.49,44.03)\">\n",
       "    <g class=\"primitive\">\n",
       "      <text text-anchor=\"middle\" dy=\"0.35em\">i₃</text>\n",
       "    </g>\n",
       "  </g>\n",
       "  <g transform=\"translate(69.59,20.6)\">\n",
       "    <g class=\"primitive\">\n",
       "      <text text-anchor=\"middle\" dy=\"0.35em\">i₄</text>\n",
       "    </g>\n",
       "  </g>\n",
       "  <g transform=\"translate(27.24,89.4)\">\n",
       "    <g class=\"primitive\">\n",
       "      <text text-anchor=\"middle\" dy=\"0.35em\">i₅</text>\n",
       "    </g>\n",
       "  </g>\n",
       "  <g transform=\"translate(42.96,58.51)\">\n",
       "    <g class=\"primitive\">\n",
       "      <text text-anchor=\"middle\" dy=\"0.35em\">i₆</text>\n",
       "    </g>\n",
       "  </g>\n",
       "  <g transform=\"translate(27.51,60.77)\">\n",
       "    <g class=\"primitive\">\n",
       "      <text text-anchor=\"middle\" dy=\"0.35em\">i₇</text>\n",
       "    </g>\n",
       "  </g>\n",
       "  <g transform=\"translate(28.66,18.87)\">\n",
       "    <g class=\"primitive\">\n",
       "      <text text-anchor=\"middle\" dy=\"0.35em\">i₈</text>\n",
       "    </g>\n",
       "  </g>\n",
       "</g>\n",
       "<g stroke-width=\"0\" stroke=\"#000000\" stroke-opacity=\"0.000\" id=\"img-28ed236c-4\">\n",
       "  <g transform=\"translate(129.64,56.82)\" fill=\"#808080\">\n",
       "    <circle cx=\"0\" cy=\"0\" r=\"5.77\" class=\"primitive\"/>\n",
       "  </g>\n",
       "  <g transform=\"translate(83.69,24.69)\" fill=\"#808080\">\n",
       "    <circle cx=\"0\" cy=\"0\" r=\"5.77\" class=\"primitive\"/>\n",
       "  </g>\n",
       "  <g transform=\"translate(27.3,8.33)\" fill=\"#808080\">\n",
       "    <circle cx=\"0\" cy=\"0\" r=\"5.77\" class=\"primitive\"/>\n",
       "  </g>\n",
       "  <g transform=\"translate(73.6,82.59)\" fill=\"#808080\">\n",
       "    <circle cx=\"0\" cy=\"0\" r=\"5.77\" class=\"primitive\"/>\n",
       "  </g>\n",
       "  <g transform=\"translate(11.79,91.67)\" fill=\"#808080\">\n",
       "    <circle cx=\"0\" cy=\"0\" r=\"5.77\" class=\"primitive\"/>\n",
       "  </g>\n",
       "  <g transform=\"translate(32.75,50.48)\" fill=\"#808080\">\n",
       "    <circle cx=\"0\" cy=\"0\" r=\"5.77\" class=\"primitive\"/>\n",
       "  </g>\n",
       "</g>\n",
       "<g font-size=\"4\" stroke=\"#000000\" stroke-opacity=\"0.000\" fill=\"#000000\" id=\"img-28ed236c-5\">\n",
       "  <g transform=\"translate(129.64,56.82)\">\n",
       "    <g class=\"primitive\">\n",
       "      <text text-anchor=\"middle\" dy=\"0.35em\">-i₁ + i₂</text>\n",
       "    </g>\n",
       "  </g>\n",
       "  <g transform=\"translate(83.69,24.69)\">\n",
       "    <g class=\"primitive\">\n",
       "      <text text-anchor=\"middle\" dy=\"0.35em\">-i₂ - i₃ + i₄</text>\n",
       "    </g>\n",
       "  </g>\n",
       "  <g transform=\"translate(27.3,8.33)\">\n",
       "    <g class=\"primitive\">\n",
       "      <text text-anchor=\"middle\" dy=\"0.35em\">-i₄ + i₈</text>\n",
       "    </g>\n",
       "  </g>\n",
       "  <g transform=\"translate(73.6,82.59)\">\n",
       "    <g class=\"primitive\">\n",
       "      <text text-anchor=\"middle\" dy=\"0.35em\">i₁ - i₅ - i₆</text>\n",
       "    </g>\n",
       "  </g>\n",
       "  <g transform=\"translate(11.79,91.67)\">\n",
       "    <g class=\"primitive\">\n",
       "      <text text-anchor=\"middle\" dy=\"0.35em\">i₅ - i₇</text>\n",
       "    </g>\n",
       "  </g>\n",
       "  <g transform=\"translate(32.75,50.48)\">\n",
       "    <g class=\"primitive\">\n",
       "      <text text-anchor=\"middle\" dy=\"0.35em\">i₃ + i₆ + i₇ - i₈</text>\n",
       "    </g>\n",
       "  </g>\n",
       "</g>\n",
       "</svg>\n"
      ],
      "text/plain": [
       "MyGraph({6, 8} directed Int64 metagraph with Float64 weights defined by :weight (default weight 1.0))"
      ]
     },
     "execution_count": 37,
     "metadata": {},
     "output_type": "execute_result"
    }
   ],
   "source": [
    "labels(g, edges=i, nodes=A'*i)"
   ]
  },
  {
   "cell_type": "markdown",
   "metadata": {},
   "source": [
    "Why is this?  The reason is that each row $A^T$ corresponds to a node, and has $\\pm 1$ for each edge going into or out of the node, exactly the right sign to sum the net currents flowing in:"
   ]
  },
  {
   "cell_type": "code",
   "execution_count": 38,
   "metadata": {},
   "outputs": [
    {
     "data": {
      "text/plain": [
       "6×8 Adjoint{Int64,Array{Int64,2}}:\n",
       " -1   1   0   0   0   0   0   0\n",
       "  0  -1  -1   1   0   0   0   0\n",
       "  0   0   0  -1   0   0   0   1\n",
       "  1   0   0   0  -1  -1   0   0\n",
       "  0   0   0   0   1   0  -1   0\n",
       "  0   0   1   0   0   1   1  -1"
      ]
     },
     "execution_count": 38,
     "metadata": {},
     "output_type": "execute_result"
    }
   ],
   "source": [
    "A'"
   ]
  },
  {
   "cell_type": "markdown",
   "metadata": {},
   "source": [
    "Putting it together, given voltages $v$, the net current flowing **out of** each node is\n",
    "\n",
    "$$\n",
    "A^T Y A v\n",
    "$$\n",
    "\n",
    "The matrix $A^T Y A$ is a very special and important kind of matrix.  It is obviously **symmetric**, and later on in the course we will see that any matrix of this form is necessarily **positive semidefinite** (all pivots are ≥ 0).   Many important matrices in science, engineering, statistics, and other fields take on this special form.\n",
    "\n",
    "If we multiply $A^T Y A$ together, not all of its specialness is apparent.  It is often better to leave it in \"factored\" form:"
   ]
  },
  {
   "cell_type": "code",
   "execution_count": 39,
   "metadata": {},
   "outputs": [
    {
     "data": {
      "text/latex": [
       "\\[\\left[ \\begin{array}{rrrrrr}Y_{1} + Y_{2}&- Y_{2}&0&- Y_{1}&0&0\\\\- Y_{2}&Y_{2} + Y_{3} + Y_{4}&- Y_{4}&0&0&- Y_{3}\\\\0&- Y_{4}&Y_{4} + Y_{8}&0&0&- Y_{8}\\\\- Y_{1}&0&0&Y_{1} + Y_{5} + Y_{6}&- Y_{5}&- Y_{6}\\\\0&0&0&- Y_{5}&Y_{5} + Y_{7}&- Y_{7}\\\\0&- Y_{3}&- Y_{8}&- Y_{6}&- Y_{7}&Y_{3} + Y_{6} + Y_{7} + Y_{8}\\end{array}\\right]\\]"
      ],
      "text/plain": [
       "6×6 Array{Sym,2}:\n",
       " Y_1 + Y_2             -Y_2          0  …          0                      0\n",
       "      -Y_2  Y_2 + Y_3 + Y_4       -Y_4             0                   -Y_3\n",
       "         0             -Y_4  Y_4 + Y_8             0                   -Y_8\n",
       "      -Y_1                0          0          -Y_5                   -Y_6\n",
       "         0                0          0     Y_5 + Y_7                   -Y_7\n",
       "         0             -Y_3       -Y_8  …       -Y_7  Y_3 + Y_6 + Y_7 + Y_8"
      ]
     },
     "execution_count": 39,
     "metadata": {},
     "output_type": "execute_result"
    }
   ],
   "source": [
    "A' * Y * A"
   ]
  },
  {
   "cell_type": "markdown",
   "metadata": {},
   "source": [
    "#### Null space\n",
    "\n",
    "If we just say that the net current flowing out of each node is zero, we get the equation:\n",
    "$$\n",
    "A^T Y A v = 0\n",
    "$$\n",
    "or $v \\in N(A^T Y A) = N(A)$.\n",
    "\n",
    "It is an amazing and important fact that $N(A^T Y A) = N(A)$!!  (You saw a version of this in homework.)   Why is this?  Clearly, if $Ax = 0$ then $A^T Y Ax=0$.  But what about the converse?  Here is a trick: if $A^T Y Ax =0$, then $x^T A^T Y A x=0 = (Ax)^T Y (Ax)$.  Let $y=Ax$.  It is easy to see that $y^T Y y = \\sum_i Y_i y_i^2 = 0$ only if $y=0$, since all of the admittances $Y_i$ are positive.  (We will later say that $Y$ is a \"positive-definite matrix\".)  This means that $A^T Y Ax =0$ implies that $y=Ax=0$, which implies that $x \\in N(A)$.\n",
    "\n",
    "What is $N(A)$? The rank of $A$ is 5, so $N(A)$ must be **1-dimensional**.  A basis for it is:"
   ]
  },
  {
   "cell_type": "code",
   "execution_count": 40,
   "metadata": {},
   "outputs": [
    {
     "data": {
      "text/plain": [
       "6×1 Array{Float64,2}:\n",
       " -0.4082482904638629 \n",
       " -0.408248290463863  \n",
       " -0.4082482904638628 \n",
       " -0.40824829046386313\n",
       " -0.4082482904638631 \n",
       " -0.4082482904638629 "
      ]
     },
     "execution_count": 40,
     "metadata": {},
     "output_type": "execute_result"
    }
   ],
   "source": [
    "nullspace(A)"
   ]
  },
  {
   "cell_type": "markdown",
   "metadata": {
    "collapsed": true
   },
   "source": [
    "But this is, of course, just the space of vectors where **all voltages are equal**.   In hindsight, this should be obvious: if all the voltages are equal, then their difference are zero, and the currents are zero, and KCL is satisfied."
   ]
  },
  {
   "cell_type": "markdown",
   "metadata": {},
   "source": [
    "### Current sources\n",
    "\n",
    "Of course, it is much more interesting to think about circuits when the currents are nonzero!\n",
    "\n",
    "To do this, we must consider a **source term** in the equations, and in particular we could try to solve\n",
    "\n",
    "$$\n",
    "A^T Y A v = s\n",
    "$$\n",
    "\n",
    "for some $s\\ne 0$.  What does $s$ represent?  It is precisely an **external source of current** flowing **out of each node**.\n",
    "\n",
    "For this to have a solution, however, we must have $s \\in C(A^T Y A) = N((A^T Y A)^T)^\\perp = N(A^T Y A)^\\perp = N(A)^\\perp$ (since $A^T Y A$ is symmetric, the left and right nullspaces are equal).  We know a basis for $N(A)$ from above, so this boils down to:\n",
    "\n",
    "$$\n",
    "\\begin{pmatrix} 1 & 1 & 1 & 1 & 1 & 1 \\end{pmatrix} s = 0 = \\sum_{i=1}^6 s_i\n",
    "$$\n",
    "\n",
    "That is, to have a solution, **all current that flows in must flow out**, so that the net current flowing into the circuit is zero.  This makes a lot of physical sense!"
   ]
  },
  {
   "cell_type": "markdown",
   "metadata": {},
   "source": [
    "Just for fun, let's solve this circuit problem when the current is flowing **into node 2** and **out through node 1**, with slider controls for the 8 admittances, and label the edges with the currents."
   ]
  },
  {
   "cell_type": "code",
   "execution_count": 41,
   "metadata": {},
   "outputs": [
    {
     "data": {
      "text/plain": [
       "twodigits (generic function with 1 method)"
      ]
     },
     "execution_count": 41,
     "metadata": {},
     "output_type": "execute_result"
    }
   ],
   "source": [
    "twodigits(x) = round(x, digits=2)"
   ]
  },
  {
   "cell_type": "code",
   "execution_count": 42,
   "metadata": {},
   "outputs": [
    {
     "data": {
      "application/vnd.webio.node+json": {
       "children": [
        {
         "children": [
          {
           "children": [
            {
             "children": [
              {
               "children": [
                {
                 "children": [
                  "Y₁"
                 ],
                 "instanceArgs": {
                  "namespace": "html",
                  "tag": "label"
                 },
                 "nodeType": "DOM",
                 "props": {
                  "className": "interact ",
                  "style": {
                   "padding": "5px 10px 0px 10px"
                  }
                 },
                 "type": "node"
                }
               ],
               "instanceArgs": {
                "namespace": "html",
                "tag": "div"
               },
               "nodeType": "DOM",
               "props": {
                "attributes": {
                 "style": "text-align:right;width:18%"
                }
               },
               "type": "node"
              },
              {
               "children": [
                {
                 "children": [],
                 "instanceArgs": {
                  "namespace": "html",
                  "tag": "input"
                 },
                 "nodeType": "DOM",
                 "props": {
                  "attributes": {
                   "data-bind": "numericValue: index, valueUpdate: 'input', event: {change : function () {this.changes(this.changes()+1)}}",
                   "orient": "horizontal",
                   "type": "range"
                  },
                  "className": "slider slider is-fullwidth",
                  "max": 100,
                  "min": 1,
                  "step": 1,
                  "style": {}
                 },
                 "type": "node"
                }
               ],
               "instanceArgs": {
                "namespace": "html",
                "tag": "div"
               },
               "nodeType": "DOM",
               "props": {
                "attributes": {
                 "style": "flex-grow:1; margin: 0 2%"
                }
               },
               "type": "node"
              },
              {
               "children": [
                {
                 "children": [],
                 "instanceArgs": {
                  "namespace": "html",
                  "tag": "p"
                 },
                 "nodeType": "DOM",
                 "props": {
                  "attributes": {
                   "data-bind": "text: formatted_value"
                  }
                 },
                 "type": "node"
                }
               ],
               "instanceArgs": {
                "namespace": "html",
                "tag": "div"
               },
               "nodeType": "DOM",
               "props": {
                "attributes": {
                 "style": "width:18%"
                }
               },
               "type": "node"
              }
             ],
             "instanceArgs": {
              "namespace": "html",
              "tag": "div"
             },
             "nodeType": "DOM",
             "props": {
              "attributes": {
               "style": "display:flex; justify-content:center; align-items:center;"
              }
             },
             "type": "node"
            }
           ],
           "instanceArgs": {
            "handlers": {
             "_promises": {
              "importsLoaded": [
               "function (ko, koPunches) {\n    ko.punches.enableAll();\n    ko.bindingHandlers.numericValue = {\n        init : function(element, valueAccessor, allBindings, data, context) {\n            var stringified = ko.observable(ko.unwrap(valueAccessor()));\n            stringified.subscribe(function(value) {\n                var val = parseFloat(value);\n                if (!isNaN(val)) {\n                    valueAccessor()(val);\n                }\n            })\n            valueAccessor().subscribe(function(value) {\n                var str = JSON.stringify(value);\n                if ((str == \"0\") && ([\"-0\", \"-0.\"].indexOf(stringified()) >= 0))\n                     return;\n                 if ([\"null\", \"\"].indexOf(str) >= 0)\n                     return;\n                stringified(str);\n            })\n            ko.applyBindingsToNode(element, { value: stringified, valueUpdate: allBindings.get('valueUpdate')}, context);\n        }\n    };\n    var json_data = JSON.parse(\"{\\\"formatted_vals\\\":[\\\"0.1\\\",\\\"0.2\\\",\\\"0.3\\\",\\\"0.4\\\",\\\"0.5\\\",\\\"0.6\\\",\\\"0.7\\\",\\\"0.8\\\",\\\"0.9\\\",\\\"1.0\\\",\\\"1.1\\\",\\\"1.2\\\",\\\"1.3\\\",\\\"1.4\\\",\\\"1.5\\\",\\\"1.6\\\",\\\"1.7\\\",\\\"1.8\\\",\\\"1.9\\\",\\\"2.0\\\",\\\"2.1\\\",\\\"2.2\\\",\\\"2.3\\\",\\\"2.4\\\",\\\"2.5\\\",\\\"2.6\\\",\\\"2.7\\\",\\\"2.8\\\",\\\"2.9\\\",\\\"3.0\\\",\\\"3.1\\\",\\\"3.2\\\",\\\"3.3\\\",\\\"3.4\\\",\\\"3.5\\\",\\\"3.6\\\",\\\"3.7\\\",\\\"3.8\\\",\\\"3.9\\\",\\\"4.0\\\",\\\"4.1\\\",\\\"4.2\\\",\\\"4.3\\\",\\\"4.4\\\",\\\"4.5\\\",\\\"4.6\\\",\\\"4.7\\\",\\\"4.8\\\",\\\"4.9\\\",\\\"5.0\\\",\\\"5.1\\\",\\\"5.2\\\",\\\"5.3\\\",\\\"5.4\\\",\\\"5.5\\\",\\\"5.6\\\",\\\"5.7\\\",\\\"5.8\\\",\\\"5.9\\\",\\\"6.0\\\",\\\"6.1\\\",\\\"6.2\\\",\\\"6.3\\\",\\\"6.4\\\",\\\"6.5\\\",\\\"6.6\\\",\\\"6.7\\\",\\\"6.8\\\",\\\"6.9\\\",\\\"7.0\\\",\\\"7.1\\\",\\\"7.2\\\",\\\"7.3\\\",\\\"7.4\\\",\\\"7.5\\\",\\\"7.6\\\",\\\"7.7\\\",\\\"7.8\\\",\\\"7.9\\\",\\\"8.0\\\",\\\"8.1\\\",\\\"8.2\\\",\\\"8.3\\\",\\\"8.4\\\",\\\"8.5\\\",\\\"8.6\\\",\\\"8.7\\\",\\\"8.8\\\",\\\"8.9\\\",\\\"9.0\\\",\\\"9.1\\\",\\\"9.2\\\",\\\"9.3\\\",\\\"9.4\\\",\\\"9.5\\\",\\\"9.6\\\",\\\"9.7\\\",\\\"9.8\\\",\\\"9.9\\\",\\\"10.0\\\"],\\\"changes\\\":0,\\\"formatted_value\\\":\\\"5.0\\\",\\\"index\\\":50}\");\n    var self = this;\n    function AppViewModel() {\n        for (var key in json_data) {\n            var el = json_data[key];\n            this[key] = Array.isArray(el) ? ko.observableArray(el) : ko.observable(el);\n        }\n        \n        \n        [this[\"formatted_vals\"].subscribe((function (val){!(this.valueFromJulia[\"formatted_vals\"]) ? (_webIOScope.setObservableValue({\"name\":\"formatted_vals\",\"scope\":\"knockout-component-37f6044d-c8f8-407d-8d44-d8198f960e0e\",\"id\":\"ob_17\",\"type\":\"observable\"},val)) : undefined; return this.valueFromJulia[\"formatted_vals\"]=false}),self),this[\"changes\"].subscribe((function (val){!(this.valueFromJulia[\"changes\"]) ? (_webIOScope.setObservableValue({\"name\":\"changes\",\"scope\":\"knockout-component-37f6044d-c8f8-407d-8d44-d8198f960e0e\",\"id\":\"ob_19\",\"type\":\"observable\"},val)) : undefined; return this.valueFromJulia[\"changes\"]=false}),self),this[\"formatted_value\"].subscribe((function (val){!(this.valueFromJulia[\"formatted_value\"]) ? (_webIOScope.setObservableValue({\"name\":\"formatted_value\",\"scope\":\"knockout-component-37f6044d-c8f8-407d-8d44-d8198f960e0e\",\"id\":\"ob_18\",\"type\":\"observable\"},val)) : undefined; return this.valueFromJulia[\"formatted_value\"]=false}),self),this[\"index\"].subscribe((function (val){!(this.valueFromJulia[\"index\"]) ? (_webIOScope.setObservableValue({\"name\":\"index\",\"scope\":\"knockout-component-37f6044d-c8f8-407d-8d44-d8198f960e0e\",\"id\":\"ob_16\",\"type\":\"observable\"},val)) : undefined; return this.valueFromJulia[\"index\"]=false}),self)]\n        \n    }\n    self.model = new AppViewModel();\n    self.valueFromJulia = {};\n    for (var key in json_data) {\n        self.valueFromJulia[key] = false;\n    }\n    ko.applyBindings(self.model, self.dom);\n}\n"
              ]
             },
             "changes": [
              "(function (val){return (val!=this.model[\"changes\"]()) ? (this.valueFromJulia[\"changes\"]=true, this.model[\"changes\"](val)) : undefined})"
             ],
             "formatted_vals": [
              "(function (val){return (val!=this.model[\"formatted_vals\"]()) ? (this.valueFromJulia[\"formatted_vals\"]=true, this.model[\"formatted_vals\"](val)) : undefined})"
             ],
             "formatted_value": [
              "(function (val){return (val!=this.model[\"formatted_value\"]()) ? (this.valueFromJulia[\"formatted_value\"]=true, this.model[\"formatted_value\"](val)) : undefined})"
             ],
             "index": [
              "(function (val){return (val!=this.model[\"index\"]()) ? (this.valueFromJulia[\"index\"]=true, this.model[\"index\"](val)) : undefined})",
              "(function (val){return _webIOScope.setObservableValue({\"name\":\"formatted_value\",\"scope\":\"knockout-component-37f6044d-c8f8-407d-8d44-d8198f960e0e\",\"id\":\"ob_18\",\"type\":\"observable\"},_webIOScope.getObservableValue({\"name\":\"formatted_vals\",\"scope\":\"knockout-component-37f6044d-c8f8-407d-8d44-d8198f960e0e\",\"id\":\"ob_17\",\"type\":\"observable\"})[(_webIOScope.getObservableValue({\"name\":\"index\",\"scope\":\"knockout-component-37f6044d-c8f8-407d-8d44-d8198f960e0e\",\"id\":\"ob_16\",\"type\":\"observable\"})-1)])})"
             ]
            },
            "id": "knockout-component-37f6044d-c8f8-407d-8d44-d8198f960e0e",
            "imports": {
             "data": [
              {
               "name": "knockout",
               "type": "js",
               "url": "/assetserver/429ea4842967203db7a2e10862642c116542d0e4-knockout.js"
              },
              {
               "name": "knockout_punches",
               "type": "js",
               "url": "/assetserver/9998dbb29ca780269e6886a8c8c4b78bb9a73c26-knockout_punches.js"
              },
              {
               "name": null,
               "type": "js",
               "url": "/assetserver/6ee7ce3a8d8fbffe6a5785768ec923478100c144-all.js"
              },
              {
               "name": null,
               "type": "css",
               "url": "/assetserver/255cc2d911924b0ffa0f74016aac5f640f90a396-style.css"
              },
              {
               "name": null,
               "type": "css",
               "url": "/assetserver/66a9780e4509d09169a66d890937410d69e4da42-main.css"
              }
             ],
             "type": "async_block"
            },
            "observables": {
             "changes": {
              "id": "ob_19",
              "sync": false,
              "value": 0
             },
             "formatted_vals": {
              "id": "ob_17",
              "sync": false,
              "value": [
               "0.1",
               "0.2",
               "0.3",
               "0.4",
               "0.5",
               "0.6",
               "0.7",
               "0.8",
               "0.9",
               "1.0",
               "1.1",
               "1.2",
               "1.3",
               "1.4",
               "1.5",
               "1.6",
               "1.7",
               "1.8",
               "1.9",
               "2.0",
               "2.1",
               "2.2",
               "2.3",
               "2.4",
               "2.5",
               "2.6",
               "2.7",
               "2.8",
               "2.9",
               "3.0",
               "3.1",
               "3.2",
               "3.3",
               "3.4",
               "3.5",
               "3.6",
               "3.7",
               "3.8",
               "3.9",
               "4.0",
               "4.1",
               "4.2",
               "4.3",
               "4.4",
               "4.5",
               "4.6",
               "4.7",
               "4.8",
               "4.9",
               "5.0",
               "5.1",
               "5.2",
               "5.3",
               "5.4",
               "5.5",
               "5.6",
               "5.7",
               "5.8",
               "5.9",
               "6.0",
               "6.1",
               "6.2",
               "6.3",
               "6.4",
               "6.5",
               "6.6",
               "6.7",
               "6.8",
               "6.9",
               "7.0",
               "7.1",
               "7.2",
               "7.3",
               "7.4",
               "7.5",
               "7.6",
               "7.7",
               "7.8",
               "7.9",
               "8.0",
               "8.1",
               "8.2",
               "8.3",
               "8.4",
               "8.5",
               "8.6",
               "8.7",
               "8.8",
               "8.9",
               "9.0",
               "9.1",
               "9.2",
               "9.3",
               "9.4",
               "9.5",
               "9.6",
               "9.7",
               "9.8",
               "9.9",
               "10.0"
              ]
             },
             "formatted_value": {
              "id": "ob_18",
              "sync": false,
              "value": "5.0"
             },
             "index": {
              "id": "ob_16",
              "sync": true,
              "value": 50
             }
            },
            "systemjs_options": null
           },
           "nodeType": "Scope",
           "props": {},
           "type": "node"
          }
         ],
         "instanceArgs": {
          "namespace": "html",
          "tag": "div"
         },
         "nodeType": "DOM",
         "props": {
          "className": "field"
         },
         "type": "node"
        },
        {
         "children": [
          {
           "children": [
            {
             "children": [
              {
               "children": [
                {
                 "children": [
                  "Y₂"
                 ],
                 "instanceArgs": {
                  "namespace": "html",
                  "tag": "label"
                 },
                 "nodeType": "DOM",
                 "props": {
                  "className": "interact ",
                  "style": {
                   "padding": "5px 10px 0px 10px"
                  }
                 },
                 "type": "node"
                }
               ],
               "instanceArgs": {
                "namespace": "html",
                "tag": "div"
               },
               "nodeType": "DOM",
               "props": {
                "attributes": {
                 "style": "text-align:right;width:18%"
                }
               },
               "type": "node"
              },
              {
               "children": [
                {
                 "children": [],
                 "instanceArgs": {
                  "namespace": "html",
                  "tag": "input"
                 },
                 "nodeType": "DOM",
                 "props": {
                  "attributes": {
                   "data-bind": "numericValue: index, valueUpdate: 'input', event: {change : function () {this.changes(this.changes()+1)}}",
                   "orient": "horizontal",
                   "type": "range"
                  },
                  "className": "slider slider is-fullwidth",
                  "max": 100,
                  "min": 1,
                  "step": 1,
                  "style": {}
                 },
                 "type": "node"
                }
               ],
               "instanceArgs": {
                "namespace": "html",
                "tag": "div"
               },
               "nodeType": "DOM",
               "props": {
                "attributes": {
                 "style": "flex-grow:1; margin: 0 2%"
                }
               },
               "type": "node"
              },
              {
               "children": [
                {
                 "children": [],
                 "instanceArgs": {
                  "namespace": "html",
                  "tag": "p"
                 },
                 "nodeType": "DOM",
                 "props": {
                  "attributes": {
                   "data-bind": "text: formatted_value"
                  }
                 },
                 "type": "node"
                }
               ],
               "instanceArgs": {
                "namespace": "html",
                "tag": "div"
               },
               "nodeType": "DOM",
               "props": {
                "attributes": {
                 "style": "width:18%"
                }
               },
               "type": "node"
              }
             ],
             "instanceArgs": {
              "namespace": "html",
              "tag": "div"
             },
             "nodeType": "DOM",
             "props": {
              "attributes": {
               "style": "display:flex; justify-content:center; align-items:center;"
              }
             },
             "type": "node"
            }
           ],
           "instanceArgs": {
            "handlers": {
             "_promises": {
              "importsLoaded": [
               "function (ko, koPunches) {\n    ko.punches.enableAll();\n    ko.bindingHandlers.numericValue = {\n        init : function(element, valueAccessor, allBindings, data, context) {\n            var stringified = ko.observable(ko.unwrap(valueAccessor()));\n            stringified.subscribe(function(value) {\n                var val = parseFloat(value);\n                if (!isNaN(val)) {\n                    valueAccessor()(val);\n                }\n            })\n            valueAccessor().subscribe(function(value) {\n                var str = JSON.stringify(value);\n                if ((str == \"0\") && ([\"-0\", \"-0.\"].indexOf(stringified()) >= 0))\n                     return;\n                 if ([\"null\", \"\"].indexOf(str) >= 0)\n                     return;\n                stringified(str);\n            })\n            ko.applyBindingsToNode(element, { value: stringified, valueUpdate: allBindings.get('valueUpdate')}, context);\n        }\n    };\n    var json_data = JSON.parse(\"{\\\"formatted_vals\\\":[\\\"0.1\\\",\\\"0.2\\\",\\\"0.3\\\",\\\"0.4\\\",\\\"0.5\\\",\\\"0.6\\\",\\\"0.7\\\",\\\"0.8\\\",\\\"0.9\\\",\\\"1.0\\\",\\\"1.1\\\",\\\"1.2\\\",\\\"1.3\\\",\\\"1.4\\\",\\\"1.5\\\",\\\"1.6\\\",\\\"1.7\\\",\\\"1.8\\\",\\\"1.9\\\",\\\"2.0\\\",\\\"2.1\\\",\\\"2.2\\\",\\\"2.3\\\",\\\"2.4\\\",\\\"2.5\\\",\\\"2.6\\\",\\\"2.7\\\",\\\"2.8\\\",\\\"2.9\\\",\\\"3.0\\\",\\\"3.1\\\",\\\"3.2\\\",\\\"3.3\\\",\\\"3.4\\\",\\\"3.5\\\",\\\"3.6\\\",\\\"3.7\\\",\\\"3.8\\\",\\\"3.9\\\",\\\"4.0\\\",\\\"4.1\\\",\\\"4.2\\\",\\\"4.3\\\",\\\"4.4\\\",\\\"4.5\\\",\\\"4.6\\\",\\\"4.7\\\",\\\"4.8\\\",\\\"4.9\\\",\\\"5.0\\\",\\\"5.1\\\",\\\"5.2\\\",\\\"5.3\\\",\\\"5.4\\\",\\\"5.5\\\",\\\"5.6\\\",\\\"5.7\\\",\\\"5.8\\\",\\\"5.9\\\",\\\"6.0\\\",\\\"6.1\\\",\\\"6.2\\\",\\\"6.3\\\",\\\"6.4\\\",\\\"6.5\\\",\\\"6.6\\\",\\\"6.7\\\",\\\"6.8\\\",\\\"6.9\\\",\\\"7.0\\\",\\\"7.1\\\",\\\"7.2\\\",\\\"7.3\\\",\\\"7.4\\\",\\\"7.5\\\",\\\"7.6\\\",\\\"7.7\\\",\\\"7.8\\\",\\\"7.9\\\",\\\"8.0\\\",\\\"8.1\\\",\\\"8.2\\\",\\\"8.3\\\",\\\"8.4\\\",\\\"8.5\\\",\\\"8.6\\\",\\\"8.7\\\",\\\"8.8\\\",\\\"8.9\\\",\\\"9.0\\\",\\\"9.1\\\",\\\"9.2\\\",\\\"9.3\\\",\\\"9.4\\\",\\\"9.5\\\",\\\"9.6\\\",\\\"9.7\\\",\\\"9.8\\\",\\\"9.9\\\",\\\"10.0\\\"],\\\"changes\\\":0,\\\"formatted_value\\\":\\\"5.0\\\",\\\"index\\\":50}\");\n    var self = this;\n    function AppViewModel() {\n        for (var key in json_data) {\n            var el = json_data[key];\n            this[key] = Array.isArray(el) ? ko.observableArray(el) : ko.observable(el);\n        }\n        \n        \n        [this[\"formatted_vals\"].subscribe((function (val){!(this.valueFromJulia[\"formatted_vals\"]) ? (_webIOScope.setObservableValue({\"name\":\"formatted_vals\",\"scope\":\"knockout-component-876c57af-f54e-4b21-9d4b-c1c8f06b3d49\",\"id\":\"ob_22\",\"type\":\"observable\"},val)) : undefined; return this.valueFromJulia[\"formatted_vals\"]=false}),self),this[\"changes\"].subscribe((function (val){!(this.valueFromJulia[\"changes\"]) ? (_webIOScope.setObservableValue({\"name\":\"changes\",\"scope\":\"knockout-component-876c57af-f54e-4b21-9d4b-c1c8f06b3d49\",\"id\":\"ob_24\",\"type\":\"observable\"},val)) : undefined; return this.valueFromJulia[\"changes\"]=false}),self),this[\"formatted_value\"].subscribe((function (val){!(this.valueFromJulia[\"formatted_value\"]) ? (_webIOScope.setObservableValue({\"name\":\"formatted_value\",\"scope\":\"knockout-component-876c57af-f54e-4b21-9d4b-c1c8f06b3d49\",\"id\":\"ob_23\",\"type\":\"observable\"},val)) : undefined; return this.valueFromJulia[\"formatted_value\"]=false}),self),this[\"index\"].subscribe((function (val){!(this.valueFromJulia[\"index\"]) ? (_webIOScope.setObservableValue({\"name\":\"index\",\"scope\":\"knockout-component-876c57af-f54e-4b21-9d4b-c1c8f06b3d49\",\"id\":\"ob_21\",\"type\":\"observable\"},val)) : undefined; return this.valueFromJulia[\"index\"]=false}),self)]\n        \n    }\n    self.model = new AppViewModel();\n    self.valueFromJulia = {};\n    for (var key in json_data) {\n        self.valueFromJulia[key] = false;\n    }\n    ko.applyBindings(self.model, self.dom);\n}\n"
              ]
             },
             "changes": [
              "(function (val){return (val!=this.model[\"changes\"]()) ? (this.valueFromJulia[\"changes\"]=true, this.model[\"changes\"](val)) : undefined})"
             ],
             "formatted_vals": [
              "(function (val){return (val!=this.model[\"formatted_vals\"]()) ? (this.valueFromJulia[\"formatted_vals\"]=true, this.model[\"formatted_vals\"](val)) : undefined})"
             ],
             "formatted_value": [
              "(function (val){return (val!=this.model[\"formatted_value\"]()) ? (this.valueFromJulia[\"formatted_value\"]=true, this.model[\"formatted_value\"](val)) : undefined})"
             ],
             "index": [
              "(function (val){return (val!=this.model[\"index\"]()) ? (this.valueFromJulia[\"index\"]=true, this.model[\"index\"](val)) : undefined})",
              "(function (val){return _webIOScope.setObservableValue({\"name\":\"formatted_value\",\"scope\":\"knockout-component-876c57af-f54e-4b21-9d4b-c1c8f06b3d49\",\"id\":\"ob_23\",\"type\":\"observable\"},_webIOScope.getObservableValue({\"name\":\"formatted_vals\",\"scope\":\"knockout-component-876c57af-f54e-4b21-9d4b-c1c8f06b3d49\",\"id\":\"ob_22\",\"type\":\"observable\"})[(_webIOScope.getObservableValue({\"name\":\"index\",\"scope\":\"knockout-component-876c57af-f54e-4b21-9d4b-c1c8f06b3d49\",\"id\":\"ob_21\",\"type\":\"observable\"})-1)])})"
             ]
            },
            "id": "knockout-component-876c57af-f54e-4b21-9d4b-c1c8f06b3d49",
            "imports": {
             "data": [
              {
               "name": "knockout",
               "type": "js",
               "url": "/assetserver/429ea4842967203db7a2e10862642c116542d0e4-knockout.js"
              },
              {
               "name": "knockout_punches",
               "type": "js",
               "url": "/assetserver/9998dbb29ca780269e6886a8c8c4b78bb9a73c26-knockout_punches.js"
              },
              {
               "name": null,
               "type": "js",
               "url": "/assetserver/6ee7ce3a8d8fbffe6a5785768ec923478100c144-all.js"
              },
              {
               "name": null,
               "type": "css",
               "url": "/assetserver/255cc2d911924b0ffa0f74016aac5f640f90a396-style.css"
              },
              {
               "name": null,
               "type": "css",
               "url": "/assetserver/66a9780e4509d09169a66d890937410d69e4da42-main.css"
              }
             ],
             "type": "async_block"
            },
            "observables": {
             "changes": {
              "id": "ob_24",
              "sync": false,
              "value": 0
             },
             "formatted_vals": {
              "id": "ob_22",
              "sync": false,
              "value": [
               "0.1",
               "0.2",
               "0.3",
               "0.4",
               "0.5",
               "0.6",
               "0.7",
               "0.8",
               "0.9",
               "1.0",
               "1.1",
               "1.2",
               "1.3",
               "1.4",
               "1.5",
               "1.6",
               "1.7",
               "1.8",
               "1.9",
               "2.0",
               "2.1",
               "2.2",
               "2.3",
               "2.4",
               "2.5",
               "2.6",
               "2.7",
               "2.8",
               "2.9",
               "3.0",
               "3.1",
               "3.2",
               "3.3",
               "3.4",
               "3.5",
               "3.6",
               "3.7",
               "3.8",
               "3.9",
               "4.0",
               "4.1",
               "4.2",
               "4.3",
               "4.4",
               "4.5",
               "4.6",
               "4.7",
               "4.8",
               "4.9",
               "5.0",
               "5.1",
               "5.2",
               "5.3",
               "5.4",
               "5.5",
               "5.6",
               "5.7",
               "5.8",
               "5.9",
               "6.0",
               "6.1",
               "6.2",
               "6.3",
               "6.4",
               "6.5",
               "6.6",
               "6.7",
               "6.8",
               "6.9",
               "7.0",
               "7.1",
               "7.2",
               "7.3",
               "7.4",
               "7.5",
               "7.6",
               "7.7",
               "7.8",
               "7.9",
               "8.0",
               "8.1",
               "8.2",
               "8.3",
               "8.4",
               "8.5",
               "8.6",
               "8.7",
               "8.8",
               "8.9",
               "9.0",
               "9.1",
               "9.2",
               "9.3",
               "9.4",
               "9.5",
               "9.6",
               "9.7",
               "9.8",
               "9.9",
               "10.0"
              ]
             },
             "formatted_value": {
              "id": "ob_23",
              "sync": false,
              "value": "5.0"
             },
             "index": {
              "id": "ob_21",
              "sync": true,
              "value": 50
             }
            },
            "systemjs_options": null
           },
           "nodeType": "Scope",
           "props": {},
           "type": "node"
          }
         ],
         "instanceArgs": {
          "namespace": "html",
          "tag": "div"
         },
         "nodeType": "DOM",
         "props": {
          "className": "field"
         },
         "type": "node"
        },
        {
         "children": [
          {
           "children": [
            {
             "children": [
              {
               "children": [
                {
                 "children": [
                  "Y₃"
                 ],
                 "instanceArgs": {
                  "namespace": "html",
                  "tag": "label"
                 },
                 "nodeType": "DOM",
                 "props": {
                  "className": "interact ",
                  "style": {
                   "padding": "5px 10px 0px 10px"
                  }
                 },
                 "type": "node"
                }
               ],
               "instanceArgs": {
                "namespace": "html",
                "tag": "div"
               },
               "nodeType": "DOM",
               "props": {
                "attributes": {
                 "style": "text-align:right;width:18%"
                }
               },
               "type": "node"
              },
              {
               "children": [
                {
                 "children": [],
                 "instanceArgs": {
                  "namespace": "html",
                  "tag": "input"
                 },
                 "nodeType": "DOM",
                 "props": {
                  "attributes": {
                   "data-bind": "numericValue: index, valueUpdate: 'input', event: {change : function () {this.changes(this.changes()+1)}}",
                   "orient": "horizontal",
                   "type": "range"
                  },
                  "className": "slider slider is-fullwidth",
                  "max": 100,
                  "min": 1,
                  "step": 1,
                  "style": {}
                 },
                 "type": "node"
                }
               ],
               "instanceArgs": {
                "namespace": "html",
                "tag": "div"
               },
               "nodeType": "DOM",
               "props": {
                "attributes": {
                 "style": "flex-grow:1; margin: 0 2%"
                }
               },
               "type": "node"
              },
              {
               "children": [
                {
                 "children": [],
                 "instanceArgs": {
                  "namespace": "html",
                  "tag": "p"
                 },
                 "nodeType": "DOM",
                 "props": {
                  "attributes": {
                   "data-bind": "text: formatted_value"
                  }
                 },
                 "type": "node"
                }
               ],
               "instanceArgs": {
                "namespace": "html",
                "tag": "div"
               },
               "nodeType": "DOM",
               "props": {
                "attributes": {
                 "style": "width:18%"
                }
               },
               "type": "node"
              }
             ],
             "instanceArgs": {
              "namespace": "html",
              "tag": "div"
             },
             "nodeType": "DOM",
             "props": {
              "attributes": {
               "style": "display:flex; justify-content:center; align-items:center;"
              }
             },
             "type": "node"
            }
           ],
           "instanceArgs": {
            "handlers": {
             "_promises": {
              "importsLoaded": [
               "function (ko, koPunches) {\n    ko.punches.enableAll();\n    ko.bindingHandlers.numericValue = {\n        init : function(element, valueAccessor, allBindings, data, context) {\n            var stringified = ko.observable(ko.unwrap(valueAccessor()));\n            stringified.subscribe(function(value) {\n                var val = parseFloat(value);\n                if (!isNaN(val)) {\n                    valueAccessor()(val);\n                }\n            })\n            valueAccessor().subscribe(function(value) {\n                var str = JSON.stringify(value);\n                if ((str == \"0\") && ([\"-0\", \"-0.\"].indexOf(stringified()) >= 0))\n                     return;\n                 if ([\"null\", \"\"].indexOf(str) >= 0)\n                     return;\n                stringified(str);\n            })\n            ko.applyBindingsToNode(element, { value: stringified, valueUpdate: allBindings.get('valueUpdate')}, context);\n        }\n    };\n    var json_data = JSON.parse(\"{\\\"formatted_vals\\\":[\\\"0.1\\\",\\\"0.2\\\",\\\"0.3\\\",\\\"0.4\\\",\\\"0.5\\\",\\\"0.6\\\",\\\"0.7\\\",\\\"0.8\\\",\\\"0.9\\\",\\\"1.0\\\",\\\"1.1\\\",\\\"1.2\\\",\\\"1.3\\\",\\\"1.4\\\",\\\"1.5\\\",\\\"1.6\\\",\\\"1.7\\\",\\\"1.8\\\",\\\"1.9\\\",\\\"2.0\\\",\\\"2.1\\\",\\\"2.2\\\",\\\"2.3\\\",\\\"2.4\\\",\\\"2.5\\\",\\\"2.6\\\",\\\"2.7\\\",\\\"2.8\\\",\\\"2.9\\\",\\\"3.0\\\",\\\"3.1\\\",\\\"3.2\\\",\\\"3.3\\\",\\\"3.4\\\",\\\"3.5\\\",\\\"3.6\\\",\\\"3.7\\\",\\\"3.8\\\",\\\"3.9\\\",\\\"4.0\\\",\\\"4.1\\\",\\\"4.2\\\",\\\"4.3\\\",\\\"4.4\\\",\\\"4.5\\\",\\\"4.6\\\",\\\"4.7\\\",\\\"4.8\\\",\\\"4.9\\\",\\\"5.0\\\",\\\"5.1\\\",\\\"5.2\\\",\\\"5.3\\\",\\\"5.4\\\",\\\"5.5\\\",\\\"5.6\\\",\\\"5.7\\\",\\\"5.8\\\",\\\"5.9\\\",\\\"6.0\\\",\\\"6.1\\\",\\\"6.2\\\",\\\"6.3\\\",\\\"6.4\\\",\\\"6.5\\\",\\\"6.6\\\",\\\"6.7\\\",\\\"6.8\\\",\\\"6.9\\\",\\\"7.0\\\",\\\"7.1\\\",\\\"7.2\\\",\\\"7.3\\\",\\\"7.4\\\",\\\"7.5\\\",\\\"7.6\\\",\\\"7.7\\\",\\\"7.8\\\",\\\"7.9\\\",\\\"8.0\\\",\\\"8.1\\\",\\\"8.2\\\",\\\"8.3\\\",\\\"8.4\\\",\\\"8.5\\\",\\\"8.6\\\",\\\"8.7\\\",\\\"8.8\\\",\\\"8.9\\\",\\\"9.0\\\",\\\"9.1\\\",\\\"9.2\\\",\\\"9.3\\\",\\\"9.4\\\",\\\"9.5\\\",\\\"9.6\\\",\\\"9.7\\\",\\\"9.8\\\",\\\"9.9\\\",\\\"10.0\\\"],\\\"changes\\\":0,\\\"formatted_value\\\":\\\"5.0\\\",\\\"index\\\":50}\");\n    var self = this;\n    function AppViewModel() {\n        for (var key in json_data) {\n            var el = json_data[key];\n            this[key] = Array.isArray(el) ? ko.observableArray(el) : ko.observable(el);\n        }\n        \n        \n        [this[\"formatted_vals\"].subscribe((function (val){!(this.valueFromJulia[\"formatted_vals\"]) ? (_webIOScope.setObservableValue({\"name\":\"formatted_vals\",\"scope\":\"knockout-component-357cabbd-89fe-4f9b-9166-4c2fd4599e49\",\"id\":\"ob_27\",\"type\":\"observable\"},val)) : undefined; return this.valueFromJulia[\"formatted_vals\"]=false}),self),this[\"changes\"].subscribe((function (val){!(this.valueFromJulia[\"changes\"]) ? (_webIOScope.setObservableValue({\"name\":\"changes\",\"scope\":\"knockout-component-357cabbd-89fe-4f9b-9166-4c2fd4599e49\",\"id\":\"ob_29\",\"type\":\"observable\"},val)) : undefined; return this.valueFromJulia[\"changes\"]=false}),self),this[\"formatted_value\"].subscribe((function (val){!(this.valueFromJulia[\"formatted_value\"]) ? (_webIOScope.setObservableValue({\"name\":\"formatted_value\",\"scope\":\"knockout-component-357cabbd-89fe-4f9b-9166-4c2fd4599e49\",\"id\":\"ob_28\",\"type\":\"observable\"},val)) : undefined; return this.valueFromJulia[\"formatted_value\"]=false}),self),this[\"index\"].subscribe((function (val){!(this.valueFromJulia[\"index\"]) ? (_webIOScope.setObservableValue({\"name\":\"index\",\"scope\":\"knockout-component-357cabbd-89fe-4f9b-9166-4c2fd4599e49\",\"id\":\"ob_26\",\"type\":\"observable\"},val)) : undefined; return this.valueFromJulia[\"index\"]=false}),self)]\n        \n    }\n    self.model = new AppViewModel();\n    self.valueFromJulia = {};\n    for (var key in json_data) {\n        self.valueFromJulia[key] = false;\n    }\n    ko.applyBindings(self.model, self.dom);\n}\n"
              ]
             },
             "changes": [
              "(function (val){return (val!=this.model[\"changes\"]()) ? (this.valueFromJulia[\"changes\"]=true, this.model[\"changes\"](val)) : undefined})"
             ],
             "formatted_vals": [
              "(function (val){return (val!=this.model[\"formatted_vals\"]()) ? (this.valueFromJulia[\"formatted_vals\"]=true, this.model[\"formatted_vals\"](val)) : undefined})"
             ],
             "formatted_value": [
              "(function (val){return (val!=this.model[\"formatted_value\"]()) ? (this.valueFromJulia[\"formatted_value\"]=true, this.model[\"formatted_value\"](val)) : undefined})"
             ],
             "index": [
              "(function (val){return (val!=this.model[\"index\"]()) ? (this.valueFromJulia[\"index\"]=true, this.model[\"index\"](val)) : undefined})",
              "(function (val){return _webIOScope.setObservableValue({\"name\":\"formatted_value\",\"scope\":\"knockout-component-357cabbd-89fe-4f9b-9166-4c2fd4599e49\",\"id\":\"ob_28\",\"type\":\"observable\"},_webIOScope.getObservableValue({\"name\":\"formatted_vals\",\"scope\":\"knockout-component-357cabbd-89fe-4f9b-9166-4c2fd4599e49\",\"id\":\"ob_27\",\"type\":\"observable\"})[(_webIOScope.getObservableValue({\"name\":\"index\",\"scope\":\"knockout-component-357cabbd-89fe-4f9b-9166-4c2fd4599e49\",\"id\":\"ob_26\",\"type\":\"observable\"})-1)])})"
             ]
            },
            "id": "knockout-component-357cabbd-89fe-4f9b-9166-4c2fd4599e49",
            "imports": {
             "data": [
              {
               "name": "knockout",
               "type": "js",
               "url": "/assetserver/429ea4842967203db7a2e10862642c116542d0e4-knockout.js"
              },
              {
               "name": "knockout_punches",
               "type": "js",
               "url": "/assetserver/9998dbb29ca780269e6886a8c8c4b78bb9a73c26-knockout_punches.js"
              },
              {
               "name": null,
               "type": "js",
               "url": "/assetserver/6ee7ce3a8d8fbffe6a5785768ec923478100c144-all.js"
              },
              {
               "name": null,
               "type": "css",
               "url": "/assetserver/255cc2d911924b0ffa0f74016aac5f640f90a396-style.css"
              },
              {
               "name": null,
               "type": "css",
               "url": "/assetserver/66a9780e4509d09169a66d890937410d69e4da42-main.css"
              }
             ],
             "type": "async_block"
            },
            "observables": {
             "changes": {
              "id": "ob_29",
              "sync": false,
              "value": 0
             },
             "formatted_vals": {
              "id": "ob_27",
              "sync": false,
              "value": [
               "0.1",
               "0.2",
               "0.3",
               "0.4",
               "0.5",
               "0.6",
               "0.7",
               "0.8",
               "0.9",
               "1.0",
               "1.1",
               "1.2",
               "1.3",
               "1.4",
               "1.5",
               "1.6",
               "1.7",
               "1.8",
               "1.9",
               "2.0",
               "2.1",
               "2.2",
               "2.3",
               "2.4",
               "2.5",
               "2.6",
               "2.7",
               "2.8",
               "2.9",
               "3.0",
               "3.1",
               "3.2",
               "3.3",
               "3.4",
               "3.5",
               "3.6",
               "3.7",
               "3.8",
               "3.9",
               "4.0",
               "4.1",
               "4.2",
               "4.3",
               "4.4",
               "4.5",
               "4.6",
               "4.7",
               "4.8",
               "4.9",
               "5.0",
               "5.1",
               "5.2",
               "5.3",
               "5.4",
               "5.5",
               "5.6",
               "5.7",
               "5.8",
               "5.9",
               "6.0",
               "6.1",
               "6.2",
               "6.3",
               "6.4",
               "6.5",
               "6.6",
               "6.7",
               "6.8",
               "6.9",
               "7.0",
               "7.1",
               "7.2",
               "7.3",
               "7.4",
               "7.5",
               "7.6",
               "7.7",
               "7.8",
               "7.9",
               "8.0",
               "8.1",
               "8.2",
               "8.3",
               "8.4",
               "8.5",
               "8.6",
               "8.7",
               "8.8",
               "8.9",
               "9.0",
               "9.1",
               "9.2",
               "9.3",
               "9.4",
               "9.5",
               "9.6",
               "9.7",
               "9.8",
               "9.9",
               "10.0"
              ]
             },
             "formatted_value": {
              "id": "ob_28",
              "sync": false,
              "value": "5.0"
             },
             "index": {
              "id": "ob_26",
              "sync": true,
              "value": 50
             }
            },
            "systemjs_options": null
           },
           "nodeType": "Scope",
           "props": {},
           "type": "node"
          }
         ],
         "instanceArgs": {
          "namespace": "html",
          "tag": "div"
         },
         "nodeType": "DOM",
         "props": {
          "className": "field"
         },
         "type": "node"
        },
        {
         "children": [
          {
           "children": [
            {
             "children": [
              {
               "children": [
                {
                 "children": [
                  "Y₄"
                 ],
                 "instanceArgs": {
                  "namespace": "html",
                  "tag": "label"
                 },
                 "nodeType": "DOM",
                 "props": {
                  "className": "interact ",
                  "style": {
                   "padding": "5px 10px 0px 10px"
                  }
                 },
                 "type": "node"
                }
               ],
               "instanceArgs": {
                "namespace": "html",
                "tag": "div"
               },
               "nodeType": "DOM",
               "props": {
                "attributes": {
                 "style": "text-align:right;width:18%"
                }
               },
               "type": "node"
              },
              {
               "children": [
                {
                 "children": [],
                 "instanceArgs": {
                  "namespace": "html",
                  "tag": "input"
                 },
                 "nodeType": "DOM",
                 "props": {
                  "attributes": {
                   "data-bind": "numericValue: index, valueUpdate: 'input', event: {change : function () {this.changes(this.changes()+1)}}",
                   "orient": "horizontal",
                   "type": "range"
                  },
                  "className": "slider slider is-fullwidth",
                  "max": 100,
                  "min": 1,
                  "step": 1,
                  "style": {}
                 },
                 "type": "node"
                }
               ],
               "instanceArgs": {
                "namespace": "html",
                "tag": "div"
               },
               "nodeType": "DOM",
               "props": {
                "attributes": {
                 "style": "flex-grow:1; margin: 0 2%"
                }
               },
               "type": "node"
              },
              {
               "children": [
                {
                 "children": [],
                 "instanceArgs": {
                  "namespace": "html",
                  "tag": "p"
                 },
                 "nodeType": "DOM",
                 "props": {
                  "attributes": {
                   "data-bind": "text: formatted_value"
                  }
                 },
                 "type": "node"
                }
               ],
               "instanceArgs": {
                "namespace": "html",
                "tag": "div"
               },
               "nodeType": "DOM",
               "props": {
                "attributes": {
                 "style": "width:18%"
                }
               },
               "type": "node"
              }
             ],
             "instanceArgs": {
              "namespace": "html",
              "tag": "div"
             },
             "nodeType": "DOM",
             "props": {
              "attributes": {
               "style": "display:flex; justify-content:center; align-items:center;"
              }
             },
             "type": "node"
            }
           ],
           "instanceArgs": {
            "handlers": {
             "_promises": {
              "importsLoaded": [
               "function (ko, koPunches) {\n    ko.punches.enableAll();\n    ko.bindingHandlers.numericValue = {\n        init : function(element, valueAccessor, allBindings, data, context) {\n            var stringified = ko.observable(ko.unwrap(valueAccessor()));\n            stringified.subscribe(function(value) {\n                var val = parseFloat(value);\n                if (!isNaN(val)) {\n                    valueAccessor()(val);\n                }\n            })\n            valueAccessor().subscribe(function(value) {\n                var str = JSON.stringify(value);\n                if ((str == \"0\") && ([\"-0\", \"-0.\"].indexOf(stringified()) >= 0))\n                     return;\n                 if ([\"null\", \"\"].indexOf(str) >= 0)\n                     return;\n                stringified(str);\n            })\n            ko.applyBindingsToNode(element, { value: stringified, valueUpdate: allBindings.get('valueUpdate')}, context);\n        }\n    };\n    var json_data = JSON.parse(\"{\\\"formatted_vals\\\":[\\\"0.1\\\",\\\"0.2\\\",\\\"0.3\\\",\\\"0.4\\\",\\\"0.5\\\",\\\"0.6\\\",\\\"0.7\\\",\\\"0.8\\\",\\\"0.9\\\",\\\"1.0\\\",\\\"1.1\\\",\\\"1.2\\\",\\\"1.3\\\",\\\"1.4\\\",\\\"1.5\\\",\\\"1.6\\\",\\\"1.7\\\",\\\"1.8\\\",\\\"1.9\\\",\\\"2.0\\\",\\\"2.1\\\",\\\"2.2\\\",\\\"2.3\\\",\\\"2.4\\\",\\\"2.5\\\",\\\"2.6\\\",\\\"2.7\\\",\\\"2.8\\\",\\\"2.9\\\",\\\"3.0\\\",\\\"3.1\\\",\\\"3.2\\\",\\\"3.3\\\",\\\"3.4\\\",\\\"3.5\\\",\\\"3.6\\\",\\\"3.7\\\",\\\"3.8\\\",\\\"3.9\\\",\\\"4.0\\\",\\\"4.1\\\",\\\"4.2\\\",\\\"4.3\\\",\\\"4.4\\\",\\\"4.5\\\",\\\"4.6\\\",\\\"4.7\\\",\\\"4.8\\\",\\\"4.9\\\",\\\"5.0\\\",\\\"5.1\\\",\\\"5.2\\\",\\\"5.3\\\",\\\"5.4\\\",\\\"5.5\\\",\\\"5.6\\\",\\\"5.7\\\",\\\"5.8\\\",\\\"5.9\\\",\\\"6.0\\\",\\\"6.1\\\",\\\"6.2\\\",\\\"6.3\\\",\\\"6.4\\\",\\\"6.5\\\",\\\"6.6\\\",\\\"6.7\\\",\\\"6.8\\\",\\\"6.9\\\",\\\"7.0\\\",\\\"7.1\\\",\\\"7.2\\\",\\\"7.3\\\",\\\"7.4\\\",\\\"7.5\\\",\\\"7.6\\\",\\\"7.7\\\",\\\"7.8\\\",\\\"7.9\\\",\\\"8.0\\\",\\\"8.1\\\",\\\"8.2\\\",\\\"8.3\\\",\\\"8.4\\\",\\\"8.5\\\",\\\"8.6\\\",\\\"8.7\\\",\\\"8.8\\\",\\\"8.9\\\",\\\"9.0\\\",\\\"9.1\\\",\\\"9.2\\\",\\\"9.3\\\",\\\"9.4\\\",\\\"9.5\\\",\\\"9.6\\\",\\\"9.7\\\",\\\"9.8\\\",\\\"9.9\\\",\\\"10.0\\\"],\\\"changes\\\":0,\\\"formatted_value\\\":\\\"5.0\\\",\\\"index\\\":50}\");\n    var self = this;\n    function AppViewModel() {\n        for (var key in json_data) {\n            var el = json_data[key];\n            this[key] = Array.isArray(el) ? ko.observableArray(el) : ko.observable(el);\n        }\n        \n        \n        [this[\"formatted_vals\"].subscribe((function (val){!(this.valueFromJulia[\"formatted_vals\"]) ? (_webIOScope.setObservableValue({\"name\":\"formatted_vals\",\"scope\":\"knockout-component-70a9c1c0-2a3e-435f-bea7-89ddfc755348\",\"id\":\"ob_32\",\"type\":\"observable\"},val)) : undefined; return this.valueFromJulia[\"formatted_vals\"]=false}),self),this[\"changes\"].subscribe((function (val){!(this.valueFromJulia[\"changes\"]) ? (_webIOScope.setObservableValue({\"name\":\"changes\",\"scope\":\"knockout-component-70a9c1c0-2a3e-435f-bea7-89ddfc755348\",\"id\":\"ob_34\",\"type\":\"observable\"},val)) : undefined; return this.valueFromJulia[\"changes\"]=false}),self),this[\"formatted_value\"].subscribe((function (val){!(this.valueFromJulia[\"formatted_value\"]) ? (_webIOScope.setObservableValue({\"name\":\"formatted_value\",\"scope\":\"knockout-component-70a9c1c0-2a3e-435f-bea7-89ddfc755348\",\"id\":\"ob_33\",\"type\":\"observable\"},val)) : undefined; return this.valueFromJulia[\"formatted_value\"]=false}),self),this[\"index\"].subscribe((function (val){!(this.valueFromJulia[\"index\"]) ? (_webIOScope.setObservableValue({\"name\":\"index\",\"scope\":\"knockout-component-70a9c1c0-2a3e-435f-bea7-89ddfc755348\",\"id\":\"ob_31\",\"type\":\"observable\"},val)) : undefined; return this.valueFromJulia[\"index\"]=false}),self)]\n        \n    }\n    self.model = new AppViewModel();\n    self.valueFromJulia = {};\n    for (var key in json_data) {\n        self.valueFromJulia[key] = false;\n    }\n    ko.applyBindings(self.model, self.dom);\n}\n"
              ]
             },
             "changes": [
              "(function (val){return (val!=this.model[\"changes\"]()) ? (this.valueFromJulia[\"changes\"]=true, this.model[\"changes\"](val)) : undefined})"
             ],
             "formatted_vals": [
              "(function (val){return (val!=this.model[\"formatted_vals\"]()) ? (this.valueFromJulia[\"formatted_vals\"]=true, this.model[\"formatted_vals\"](val)) : undefined})"
             ],
             "formatted_value": [
              "(function (val){return (val!=this.model[\"formatted_value\"]()) ? (this.valueFromJulia[\"formatted_value\"]=true, this.model[\"formatted_value\"](val)) : undefined})"
             ],
             "index": [
              "(function (val){return (val!=this.model[\"index\"]()) ? (this.valueFromJulia[\"index\"]=true, this.model[\"index\"](val)) : undefined})",
              "(function (val){return _webIOScope.setObservableValue({\"name\":\"formatted_value\",\"scope\":\"knockout-component-70a9c1c0-2a3e-435f-bea7-89ddfc755348\",\"id\":\"ob_33\",\"type\":\"observable\"},_webIOScope.getObservableValue({\"name\":\"formatted_vals\",\"scope\":\"knockout-component-70a9c1c0-2a3e-435f-bea7-89ddfc755348\",\"id\":\"ob_32\",\"type\":\"observable\"})[(_webIOScope.getObservableValue({\"name\":\"index\",\"scope\":\"knockout-component-70a9c1c0-2a3e-435f-bea7-89ddfc755348\",\"id\":\"ob_31\",\"type\":\"observable\"})-1)])})"
             ]
            },
            "id": "knockout-component-70a9c1c0-2a3e-435f-bea7-89ddfc755348",
            "imports": {
             "data": [
              {
               "name": "knockout",
               "type": "js",
               "url": "/assetserver/429ea4842967203db7a2e10862642c116542d0e4-knockout.js"
              },
              {
               "name": "knockout_punches",
               "type": "js",
               "url": "/assetserver/9998dbb29ca780269e6886a8c8c4b78bb9a73c26-knockout_punches.js"
              },
              {
               "name": null,
               "type": "js",
               "url": "/assetserver/6ee7ce3a8d8fbffe6a5785768ec923478100c144-all.js"
              },
              {
               "name": null,
               "type": "css",
               "url": "/assetserver/255cc2d911924b0ffa0f74016aac5f640f90a396-style.css"
              },
              {
               "name": null,
               "type": "css",
               "url": "/assetserver/66a9780e4509d09169a66d890937410d69e4da42-main.css"
              }
             ],
             "type": "async_block"
            },
            "observables": {
             "changes": {
              "id": "ob_34",
              "sync": false,
              "value": 0
             },
             "formatted_vals": {
              "id": "ob_32",
              "sync": false,
              "value": [
               "0.1",
               "0.2",
               "0.3",
               "0.4",
               "0.5",
               "0.6",
               "0.7",
               "0.8",
               "0.9",
               "1.0",
               "1.1",
               "1.2",
               "1.3",
               "1.4",
               "1.5",
               "1.6",
               "1.7",
               "1.8",
               "1.9",
               "2.0",
               "2.1",
               "2.2",
               "2.3",
               "2.4",
               "2.5",
               "2.6",
               "2.7",
               "2.8",
               "2.9",
               "3.0",
               "3.1",
               "3.2",
               "3.3",
               "3.4",
               "3.5",
               "3.6",
               "3.7",
               "3.8",
               "3.9",
               "4.0",
               "4.1",
               "4.2",
               "4.3",
               "4.4",
               "4.5",
               "4.6",
               "4.7",
               "4.8",
               "4.9",
               "5.0",
               "5.1",
               "5.2",
               "5.3",
               "5.4",
               "5.5",
               "5.6",
               "5.7",
               "5.8",
               "5.9",
               "6.0",
               "6.1",
               "6.2",
               "6.3",
               "6.4",
               "6.5",
               "6.6",
               "6.7",
               "6.8",
               "6.9",
               "7.0",
               "7.1",
               "7.2",
               "7.3",
               "7.4",
               "7.5",
               "7.6",
               "7.7",
               "7.8",
               "7.9",
               "8.0",
               "8.1",
               "8.2",
               "8.3",
               "8.4",
               "8.5",
               "8.6",
               "8.7",
               "8.8",
               "8.9",
               "9.0",
               "9.1",
               "9.2",
               "9.3",
               "9.4",
               "9.5",
               "9.6",
               "9.7",
               "9.8",
               "9.9",
               "10.0"
              ]
             },
             "formatted_value": {
              "id": "ob_33",
              "sync": false,
              "value": "5.0"
             },
             "index": {
              "id": "ob_31",
              "sync": true,
              "value": 50
             }
            },
            "systemjs_options": null
           },
           "nodeType": "Scope",
           "props": {},
           "type": "node"
          }
         ],
         "instanceArgs": {
          "namespace": "html",
          "tag": "div"
         },
         "nodeType": "DOM",
         "props": {
          "className": "field"
         },
         "type": "node"
        },
        {
         "children": [
          {
           "children": [
            {
             "children": [
              {
               "children": [
                {
                 "children": [
                  "Y₅"
                 ],
                 "instanceArgs": {
                  "namespace": "html",
                  "tag": "label"
                 },
                 "nodeType": "DOM",
                 "props": {
                  "className": "interact ",
                  "style": {
                   "padding": "5px 10px 0px 10px"
                  }
                 },
                 "type": "node"
                }
               ],
               "instanceArgs": {
                "namespace": "html",
                "tag": "div"
               },
               "nodeType": "DOM",
               "props": {
                "attributes": {
                 "style": "text-align:right;width:18%"
                }
               },
               "type": "node"
              },
              {
               "children": [
                {
                 "children": [],
                 "instanceArgs": {
                  "namespace": "html",
                  "tag": "input"
                 },
                 "nodeType": "DOM",
                 "props": {
                  "attributes": {
                   "data-bind": "numericValue: index, valueUpdate: 'input', event: {change : function () {this.changes(this.changes()+1)}}",
                   "orient": "horizontal",
                   "type": "range"
                  },
                  "className": "slider slider is-fullwidth",
                  "max": 100,
                  "min": 1,
                  "step": 1,
                  "style": {}
                 },
                 "type": "node"
                }
               ],
               "instanceArgs": {
                "namespace": "html",
                "tag": "div"
               },
               "nodeType": "DOM",
               "props": {
                "attributes": {
                 "style": "flex-grow:1; margin: 0 2%"
                }
               },
               "type": "node"
              },
              {
               "children": [
                {
                 "children": [],
                 "instanceArgs": {
                  "namespace": "html",
                  "tag": "p"
                 },
                 "nodeType": "DOM",
                 "props": {
                  "attributes": {
                   "data-bind": "text: formatted_value"
                  }
                 },
                 "type": "node"
                }
               ],
               "instanceArgs": {
                "namespace": "html",
                "tag": "div"
               },
               "nodeType": "DOM",
               "props": {
                "attributes": {
                 "style": "width:18%"
                }
               },
               "type": "node"
              }
             ],
             "instanceArgs": {
              "namespace": "html",
              "tag": "div"
             },
             "nodeType": "DOM",
             "props": {
              "attributes": {
               "style": "display:flex; justify-content:center; align-items:center;"
              }
             },
             "type": "node"
            }
           ],
           "instanceArgs": {
            "handlers": {
             "_promises": {
              "importsLoaded": [
               "function (ko, koPunches) {\n    ko.punches.enableAll();\n    ko.bindingHandlers.numericValue = {\n        init : function(element, valueAccessor, allBindings, data, context) {\n            var stringified = ko.observable(ko.unwrap(valueAccessor()));\n            stringified.subscribe(function(value) {\n                var val = parseFloat(value);\n                if (!isNaN(val)) {\n                    valueAccessor()(val);\n                }\n            })\n            valueAccessor().subscribe(function(value) {\n                var str = JSON.stringify(value);\n                if ((str == \"0\") && ([\"-0\", \"-0.\"].indexOf(stringified()) >= 0))\n                     return;\n                 if ([\"null\", \"\"].indexOf(str) >= 0)\n                     return;\n                stringified(str);\n            })\n            ko.applyBindingsToNode(element, { value: stringified, valueUpdate: allBindings.get('valueUpdate')}, context);\n        }\n    };\n    var json_data = JSON.parse(\"{\\\"formatted_vals\\\":[\\\"0.1\\\",\\\"0.2\\\",\\\"0.3\\\",\\\"0.4\\\",\\\"0.5\\\",\\\"0.6\\\",\\\"0.7\\\",\\\"0.8\\\",\\\"0.9\\\",\\\"1.0\\\",\\\"1.1\\\",\\\"1.2\\\",\\\"1.3\\\",\\\"1.4\\\",\\\"1.5\\\",\\\"1.6\\\",\\\"1.7\\\",\\\"1.8\\\",\\\"1.9\\\",\\\"2.0\\\",\\\"2.1\\\",\\\"2.2\\\",\\\"2.3\\\",\\\"2.4\\\",\\\"2.5\\\",\\\"2.6\\\",\\\"2.7\\\",\\\"2.8\\\",\\\"2.9\\\",\\\"3.0\\\",\\\"3.1\\\",\\\"3.2\\\",\\\"3.3\\\",\\\"3.4\\\",\\\"3.5\\\",\\\"3.6\\\",\\\"3.7\\\",\\\"3.8\\\",\\\"3.9\\\",\\\"4.0\\\",\\\"4.1\\\",\\\"4.2\\\",\\\"4.3\\\",\\\"4.4\\\",\\\"4.5\\\",\\\"4.6\\\",\\\"4.7\\\",\\\"4.8\\\",\\\"4.9\\\",\\\"5.0\\\",\\\"5.1\\\",\\\"5.2\\\",\\\"5.3\\\",\\\"5.4\\\",\\\"5.5\\\",\\\"5.6\\\",\\\"5.7\\\",\\\"5.8\\\",\\\"5.9\\\",\\\"6.0\\\",\\\"6.1\\\",\\\"6.2\\\",\\\"6.3\\\",\\\"6.4\\\",\\\"6.5\\\",\\\"6.6\\\",\\\"6.7\\\",\\\"6.8\\\",\\\"6.9\\\",\\\"7.0\\\",\\\"7.1\\\",\\\"7.2\\\",\\\"7.3\\\",\\\"7.4\\\",\\\"7.5\\\",\\\"7.6\\\",\\\"7.7\\\",\\\"7.8\\\",\\\"7.9\\\",\\\"8.0\\\",\\\"8.1\\\",\\\"8.2\\\",\\\"8.3\\\",\\\"8.4\\\",\\\"8.5\\\",\\\"8.6\\\",\\\"8.7\\\",\\\"8.8\\\",\\\"8.9\\\",\\\"9.0\\\",\\\"9.1\\\",\\\"9.2\\\",\\\"9.3\\\",\\\"9.4\\\",\\\"9.5\\\",\\\"9.6\\\",\\\"9.7\\\",\\\"9.8\\\",\\\"9.9\\\",\\\"10.0\\\"],\\\"changes\\\":0,\\\"formatted_value\\\":\\\"5.0\\\",\\\"index\\\":50}\");\n    var self = this;\n    function AppViewModel() {\n        for (var key in json_data) {\n            var el = json_data[key];\n            this[key] = Array.isArray(el) ? ko.observableArray(el) : ko.observable(el);\n        }\n        \n        \n        [this[\"formatted_vals\"].subscribe((function (val){!(this.valueFromJulia[\"formatted_vals\"]) ? (_webIOScope.setObservableValue({\"name\":\"formatted_vals\",\"scope\":\"knockout-component-6c9c0868-bb9e-4e26-9a7a-857b4f61a1ce\",\"id\":\"ob_37\",\"type\":\"observable\"},val)) : undefined; return this.valueFromJulia[\"formatted_vals\"]=false}),self),this[\"changes\"].subscribe((function (val){!(this.valueFromJulia[\"changes\"]) ? (_webIOScope.setObservableValue({\"name\":\"changes\",\"scope\":\"knockout-component-6c9c0868-bb9e-4e26-9a7a-857b4f61a1ce\",\"id\":\"ob_39\",\"type\":\"observable\"},val)) : undefined; return this.valueFromJulia[\"changes\"]=false}),self),this[\"formatted_value\"].subscribe((function (val){!(this.valueFromJulia[\"formatted_value\"]) ? (_webIOScope.setObservableValue({\"name\":\"formatted_value\",\"scope\":\"knockout-component-6c9c0868-bb9e-4e26-9a7a-857b4f61a1ce\",\"id\":\"ob_38\",\"type\":\"observable\"},val)) : undefined; return this.valueFromJulia[\"formatted_value\"]=false}),self),this[\"index\"].subscribe((function (val){!(this.valueFromJulia[\"index\"]) ? (_webIOScope.setObservableValue({\"name\":\"index\",\"scope\":\"knockout-component-6c9c0868-bb9e-4e26-9a7a-857b4f61a1ce\",\"id\":\"ob_36\",\"type\":\"observable\"},val)) : undefined; return this.valueFromJulia[\"index\"]=false}),self)]\n        \n    }\n    self.model = new AppViewModel();\n    self.valueFromJulia = {};\n    for (var key in json_data) {\n        self.valueFromJulia[key] = false;\n    }\n    ko.applyBindings(self.model, self.dom);\n}\n"
              ]
             },
             "changes": [
              "(function (val){return (val!=this.model[\"changes\"]()) ? (this.valueFromJulia[\"changes\"]=true, this.model[\"changes\"](val)) : undefined})"
             ],
             "formatted_vals": [
              "(function (val){return (val!=this.model[\"formatted_vals\"]()) ? (this.valueFromJulia[\"formatted_vals\"]=true, this.model[\"formatted_vals\"](val)) : undefined})"
             ],
             "formatted_value": [
              "(function (val){return (val!=this.model[\"formatted_value\"]()) ? (this.valueFromJulia[\"formatted_value\"]=true, this.model[\"formatted_value\"](val)) : undefined})"
             ],
             "index": [
              "(function (val){return (val!=this.model[\"index\"]()) ? (this.valueFromJulia[\"index\"]=true, this.model[\"index\"](val)) : undefined})",
              "(function (val){return _webIOScope.setObservableValue({\"name\":\"formatted_value\",\"scope\":\"knockout-component-6c9c0868-bb9e-4e26-9a7a-857b4f61a1ce\",\"id\":\"ob_38\",\"type\":\"observable\"},_webIOScope.getObservableValue({\"name\":\"formatted_vals\",\"scope\":\"knockout-component-6c9c0868-bb9e-4e26-9a7a-857b4f61a1ce\",\"id\":\"ob_37\",\"type\":\"observable\"})[(_webIOScope.getObservableValue({\"name\":\"index\",\"scope\":\"knockout-component-6c9c0868-bb9e-4e26-9a7a-857b4f61a1ce\",\"id\":\"ob_36\",\"type\":\"observable\"})-1)])})"
             ]
            },
            "id": "knockout-component-6c9c0868-bb9e-4e26-9a7a-857b4f61a1ce",
            "imports": {
             "data": [
              {
               "name": "knockout",
               "type": "js",
               "url": "/assetserver/429ea4842967203db7a2e10862642c116542d0e4-knockout.js"
              },
              {
               "name": "knockout_punches",
               "type": "js",
               "url": "/assetserver/9998dbb29ca780269e6886a8c8c4b78bb9a73c26-knockout_punches.js"
              },
              {
               "name": null,
               "type": "js",
               "url": "/assetserver/6ee7ce3a8d8fbffe6a5785768ec923478100c144-all.js"
              },
              {
               "name": null,
               "type": "css",
               "url": "/assetserver/255cc2d911924b0ffa0f74016aac5f640f90a396-style.css"
              },
              {
               "name": null,
               "type": "css",
               "url": "/assetserver/66a9780e4509d09169a66d890937410d69e4da42-main.css"
              }
             ],
             "type": "async_block"
            },
            "observables": {
             "changes": {
              "id": "ob_39",
              "sync": false,
              "value": 0
             },
             "formatted_vals": {
              "id": "ob_37",
              "sync": false,
              "value": [
               "0.1",
               "0.2",
               "0.3",
               "0.4",
               "0.5",
               "0.6",
               "0.7",
               "0.8",
               "0.9",
               "1.0",
               "1.1",
               "1.2",
               "1.3",
               "1.4",
               "1.5",
               "1.6",
               "1.7",
               "1.8",
               "1.9",
               "2.0",
               "2.1",
               "2.2",
               "2.3",
               "2.4",
               "2.5",
               "2.6",
               "2.7",
               "2.8",
               "2.9",
               "3.0",
               "3.1",
               "3.2",
               "3.3",
               "3.4",
               "3.5",
               "3.6",
               "3.7",
               "3.8",
               "3.9",
               "4.0",
               "4.1",
               "4.2",
               "4.3",
               "4.4",
               "4.5",
               "4.6",
               "4.7",
               "4.8",
               "4.9",
               "5.0",
               "5.1",
               "5.2",
               "5.3",
               "5.4",
               "5.5",
               "5.6",
               "5.7",
               "5.8",
               "5.9",
               "6.0",
               "6.1",
               "6.2",
               "6.3",
               "6.4",
               "6.5",
               "6.6",
               "6.7",
               "6.8",
               "6.9",
               "7.0",
               "7.1",
               "7.2",
               "7.3",
               "7.4",
               "7.5",
               "7.6",
               "7.7",
               "7.8",
               "7.9",
               "8.0",
               "8.1",
               "8.2",
               "8.3",
               "8.4",
               "8.5",
               "8.6",
               "8.7",
               "8.8",
               "8.9",
               "9.0",
               "9.1",
               "9.2",
               "9.3",
               "9.4",
               "9.5",
               "9.6",
               "9.7",
               "9.8",
               "9.9",
               "10.0"
              ]
             },
             "formatted_value": {
              "id": "ob_38",
              "sync": false,
              "value": "5.0"
             },
             "index": {
              "id": "ob_36",
              "sync": true,
              "value": 50
             }
            },
            "systemjs_options": null
           },
           "nodeType": "Scope",
           "props": {},
           "type": "node"
          }
         ],
         "instanceArgs": {
          "namespace": "html",
          "tag": "div"
         },
         "nodeType": "DOM",
         "props": {
          "className": "field"
         },
         "type": "node"
        },
        {
         "children": [
          {
           "children": [
            {
             "children": [
              {
               "children": [
                {
                 "children": [
                  "Y₆"
                 ],
                 "instanceArgs": {
                  "namespace": "html",
                  "tag": "label"
                 },
                 "nodeType": "DOM",
                 "props": {
                  "className": "interact ",
                  "style": {
                   "padding": "5px 10px 0px 10px"
                  }
                 },
                 "type": "node"
                }
               ],
               "instanceArgs": {
                "namespace": "html",
                "tag": "div"
               },
               "nodeType": "DOM",
               "props": {
                "attributes": {
                 "style": "text-align:right;width:18%"
                }
               },
               "type": "node"
              },
              {
               "children": [
                {
                 "children": [],
                 "instanceArgs": {
                  "namespace": "html",
                  "tag": "input"
                 },
                 "nodeType": "DOM",
                 "props": {
                  "attributes": {
                   "data-bind": "numericValue: index, valueUpdate: 'input', event: {change : function () {this.changes(this.changes()+1)}}",
                   "orient": "horizontal",
                   "type": "range"
                  },
                  "className": "slider slider is-fullwidth",
                  "max": 100,
                  "min": 1,
                  "step": 1,
                  "style": {}
                 },
                 "type": "node"
                }
               ],
               "instanceArgs": {
                "namespace": "html",
                "tag": "div"
               },
               "nodeType": "DOM",
               "props": {
                "attributes": {
                 "style": "flex-grow:1; margin: 0 2%"
                }
               },
               "type": "node"
              },
              {
               "children": [
                {
                 "children": [],
                 "instanceArgs": {
                  "namespace": "html",
                  "tag": "p"
                 },
                 "nodeType": "DOM",
                 "props": {
                  "attributes": {
                   "data-bind": "text: formatted_value"
                  }
                 },
                 "type": "node"
                }
               ],
               "instanceArgs": {
                "namespace": "html",
                "tag": "div"
               },
               "nodeType": "DOM",
               "props": {
                "attributes": {
                 "style": "width:18%"
                }
               },
               "type": "node"
              }
             ],
             "instanceArgs": {
              "namespace": "html",
              "tag": "div"
             },
             "nodeType": "DOM",
             "props": {
              "attributes": {
               "style": "display:flex; justify-content:center; align-items:center;"
              }
             },
             "type": "node"
            }
           ],
           "instanceArgs": {
            "handlers": {
             "_promises": {
              "importsLoaded": [
               "function (ko, koPunches) {\n    ko.punches.enableAll();\n    ko.bindingHandlers.numericValue = {\n        init : function(element, valueAccessor, allBindings, data, context) {\n            var stringified = ko.observable(ko.unwrap(valueAccessor()));\n            stringified.subscribe(function(value) {\n                var val = parseFloat(value);\n                if (!isNaN(val)) {\n                    valueAccessor()(val);\n                }\n            })\n            valueAccessor().subscribe(function(value) {\n                var str = JSON.stringify(value);\n                if ((str == \"0\") && ([\"-0\", \"-0.\"].indexOf(stringified()) >= 0))\n                     return;\n                 if ([\"null\", \"\"].indexOf(str) >= 0)\n                     return;\n                stringified(str);\n            })\n            ko.applyBindingsToNode(element, { value: stringified, valueUpdate: allBindings.get('valueUpdate')}, context);\n        }\n    };\n    var json_data = JSON.parse(\"{\\\"formatted_vals\\\":[\\\"0.1\\\",\\\"0.2\\\",\\\"0.3\\\",\\\"0.4\\\",\\\"0.5\\\",\\\"0.6\\\",\\\"0.7\\\",\\\"0.8\\\",\\\"0.9\\\",\\\"1.0\\\",\\\"1.1\\\",\\\"1.2\\\",\\\"1.3\\\",\\\"1.4\\\",\\\"1.5\\\",\\\"1.6\\\",\\\"1.7\\\",\\\"1.8\\\",\\\"1.9\\\",\\\"2.0\\\",\\\"2.1\\\",\\\"2.2\\\",\\\"2.3\\\",\\\"2.4\\\",\\\"2.5\\\",\\\"2.6\\\",\\\"2.7\\\",\\\"2.8\\\",\\\"2.9\\\",\\\"3.0\\\",\\\"3.1\\\",\\\"3.2\\\",\\\"3.3\\\",\\\"3.4\\\",\\\"3.5\\\",\\\"3.6\\\",\\\"3.7\\\",\\\"3.8\\\",\\\"3.9\\\",\\\"4.0\\\",\\\"4.1\\\",\\\"4.2\\\",\\\"4.3\\\",\\\"4.4\\\",\\\"4.5\\\",\\\"4.6\\\",\\\"4.7\\\",\\\"4.8\\\",\\\"4.9\\\",\\\"5.0\\\",\\\"5.1\\\",\\\"5.2\\\",\\\"5.3\\\",\\\"5.4\\\",\\\"5.5\\\",\\\"5.6\\\",\\\"5.7\\\",\\\"5.8\\\",\\\"5.9\\\",\\\"6.0\\\",\\\"6.1\\\",\\\"6.2\\\",\\\"6.3\\\",\\\"6.4\\\",\\\"6.5\\\",\\\"6.6\\\",\\\"6.7\\\",\\\"6.8\\\",\\\"6.9\\\",\\\"7.0\\\",\\\"7.1\\\",\\\"7.2\\\",\\\"7.3\\\",\\\"7.4\\\",\\\"7.5\\\",\\\"7.6\\\",\\\"7.7\\\",\\\"7.8\\\",\\\"7.9\\\",\\\"8.0\\\",\\\"8.1\\\",\\\"8.2\\\",\\\"8.3\\\",\\\"8.4\\\",\\\"8.5\\\",\\\"8.6\\\",\\\"8.7\\\",\\\"8.8\\\",\\\"8.9\\\",\\\"9.0\\\",\\\"9.1\\\",\\\"9.2\\\",\\\"9.3\\\",\\\"9.4\\\",\\\"9.5\\\",\\\"9.6\\\",\\\"9.7\\\",\\\"9.8\\\",\\\"9.9\\\",\\\"10.0\\\"],\\\"changes\\\":0,\\\"formatted_value\\\":\\\"5.0\\\",\\\"index\\\":50}\");\n    var self = this;\n    function AppViewModel() {\n        for (var key in json_data) {\n            var el = json_data[key];\n            this[key] = Array.isArray(el) ? ko.observableArray(el) : ko.observable(el);\n        }\n        \n        \n        [this[\"formatted_vals\"].subscribe((function (val){!(this.valueFromJulia[\"formatted_vals\"]) ? (_webIOScope.setObservableValue({\"name\":\"formatted_vals\",\"scope\":\"knockout-component-b277606f-985c-419d-b02e-511a141aa06b\",\"id\":\"ob_42\",\"type\":\"observable\"},val)) : undefined; return this.valueFromJulia[\"formatted_vals\"]=false}),self),this[\"changes\"].subscribe((function (val){!(this.valueFromJulia[\"changes\"]) ? (_webIOScope.setObservableValue({\"name\":\"changes\",\"scope\":\"knockout-component-b277606f-985c-419d-b02e-511a141aa06b\",\"id\":\"ob_44\",\"type\":\"observable\"},val)) : undefined; return this.valueFromJulia[\"changes\"]=false}),self),this[\"formatted_value\"].subscribe((function (val){!(this.valueFromJulia[\"formatted_value\"]) ? (_webIOScope.setObservableValue({\"name\":\"formatted_value\",\"scope\":\"knockout-component-b277606f-985c-419d-b02e-511a141aa06b\",\"id\":\"ob_43\",\"type\":\"observable\"},val)) : undefined; return this.valueFromJulia[\"formatted_value\"]=false}),self),this[\"index\"].subscribe((function (val){!(this.valueFromJulia[\"index\"]) ? (_webIOScope.setObservableValue({\"name\":\"index\",\"scope\":\"knockout-component-b277606f-985c-419d-b02e-511a141aa06b\",\"id\":\"ob_41\",\"type\":\"observable\"},val)) : undefined; return this.valueFromJulia[\"index\"]=false}),self)]\n        \n    }\n    self.model = new AppViewModel();\n    self.valueFromJulia = {};\n    for (var key in json_data) {\n        self.valueFromJulia[key] = false;\n    }\n    ko.applyBindings(self.model, self.dom);\n}\n"
              ]
             },
             "changes": [
              "(function (val){return (val!=this.model[\"changes\"]()) ? (this.valueFromJulia[\"changes\"]=true, this.model[\"changes\"](val)) : undefined})"
             ],
             "formatted_vals": [
              "(function (val){return (val!=this.model[\"formatted_vals\"]()) ? (this.valueFromJulia[\"formatted_vals\"]=true, this.model[\"formatted_vals\"](val)) : undefined})"
             ],
             "formatted_value": [
              "(function (val){return (val!=this.model[\"formatted_value\"]()) ? (this.valueFromJulia[\"formatted_value\"]=true, this.model[\"formatted_value\"](val)) : undefined})"
             ],
             "index": [
              "(function (val){return (val!=this.model[\"index\"]()) ? (this.valueFromJulia[\"index\"]=true, this.model[\"index\"](val)) : undefined})",
              "(function (val){return _webIOScope.setObservableValue({\"name\":\"formatted_value\",\"scope\":\"knockout-component-b277606f-985c-419d-b02e-511a141aa06b\",\"id\":\"ob_43\",\"type\":\"observable\"},_webIOScope.getObservableValue({\"name\":\"formatted_vals\",\"scope\":\"knockout-component-b277606f-985c-419d-b02e-511a141aa06b\",\"id\":\"ob_42\",\"type\":\"observable\"})[(_webIOScope.getObservableValue({\"name\":\"index\",\"scope\":\"knockout-component-b277606f-985c-419d-b02e-511a141aa06b\",\"id\":\"ob_41\",\"type\":\"observable\"})-1)])})"
             ]
            },
            "id": "knockout-component-b277606f-985c-419d-b02e-511a141aa06b",
            "imports": {
             "data": [
              {
               "name": "knockout",
               "type": "js",
               "url": "/assetserver/429ea4842967203db7a2e10862642c116542d0e4-knockout.js"
              },
              {
               "name": "knockout_punches",
               "type": "js",
               "url": "/assetserver/9998dbb29ca780269e6886a8c8c4b78bb9a73c26-knockout_punches.js"
              },
              {
               "name": null,
               "type": "js",
               "url": "/assetserver/6ee7ce3a8d8fbffe6a5785768ec923478100c144-all.js"
              },
              {
               "name": null,
               "type": "css",
               "url": "/assetserver/255cc2d911924b0ffa0f74016aac5f640f90a396-style.css"
              },
              {
               "name": null,
               "type": "css",
               "url": "/assetserver/66a9780e4509d09169a66d890937410d69e4da42-main.css"
              }
             ],
             "type": "async_block"
            },
            "observables": {
             "changes": {
              "id": "ob_44",
              "sync": false,
              "value": 0
             },
             "formatted_vals": {
              "id": "ob_42",
              "sync": false,
              "value": [
               "0.1",
               "0.2",
               "0.3",
               "0.4",
               "0.5",
               "0.6",
               "0.7",
               "0.8",
               "0.9",
               "1.0",
               "1.1",
               "1.2",
               "1.3",
               "1.4",
               "1.5",
               "1.6",
               "1.7",
               "1.8",
               "1.9",
               "2.0",
               "2.1",
               "2.2",
               "2.3",
               "2.4",
               "2.5",
               "2.6",
               "2.7",
               "2.8",
               "2.9",
               "3.0",
               "3.1",
               "3.2",
               "3.3",
               "3.4",
               "3.5",
               "3.6",
               "3.7",
               "3.8",
               "3.9",
               "4.0",
               "4.1",
               "4.2",
               "4.3",
               "4.4",
               "4.5",
               "4.6",
               "4.7",
               "4.8",
               "4.9",
               "5.0",
               "5.1",
               "5.2",
               "5.3",
               "5.4",
               "5.5",
               "5.6",
               "5.7",
               "5.8",
               "5.9",
               "6.0",
               "6.1",
               "6.2",
               "6.3",
               "6.4",
               "6.5",
               "6.6",
               "6.7",
               "6.8",
               "6.9",
               "7.0",
               "7.1",
               "7.2",
               "7.3",
               "7.4",
               "7.5",
               "7.6",
               "7.7",
               "7.8",
               "7.9",
               "8.0",
               "8.1",
               "8.2",
               "8.3",
               "8.4",
               "8.5",
               "8.6",
               "8.7",
               "8.8",
               "8.9",
               "9.0",
               "9.1",
               "9.2",
               "9.3",
               "9.4",
               "9.5",
               "9.6",
               "9.7",
               "9.8",
               "9.9",
               "10.0"
              ]
             },
             "formatted_value": {
              "id": "ob_43",
              "sync": false,
              "value": "5.0"
             },
             "index": {
              "id": "ob_41",
              "sync": true,
              "value": 50
             }
            },
            "systemjs_options": null
           },
           "nodeType": "Scope",
           "props": {},
           "type": "node"
          }
         ],
         "instanceArgs": {
          "namespace": "html",
          "tag": "div"
         },
         "nodeType": "DOM",
         "props": {
          "className": "field"
         },
         "type": "node"
        },
        {
         "children": [
          {
           "children": [
            {
             "children": [
              {
               "children": [
                {
                 "children": [
                  "Y₇"
                 ],
                 "instanceArgs": {
                  "namespace": "html",
                  "tag": "label"
                 },
                 "nodeType": "DOM",
                 "props": {
                  "className": "interact ",
                  "style": {
                   "padding": "5px 10px 0px 10px"
                  }
                 },
                 "type": "node"
                }
               ],
               "instanceArgs": {
                "namespace": "html",
                "tag": "div"
               },
               "nodeType": "DOM",
               "props": {
                "attributes": {
                 "style": "text-align:right;width:18%"
                }
               },
               "type": "node"
              },
              {
               "children": [
                {
                 "children": [],
                 "instanceArgs": {
                  "namespace": "html",
                  "tag": "input"
                 },
                 "nodeType": "DOM",
                 "props": {
                  "attributes": {
                   "data-bind": "numericValue: index, valueUpdate: 'input', event: {change : function () {this.changes(this.changes()+1)}}",
                   "orient": "horizontal",
                   "type": "range"
                  },
                  "className": "slider slider is-fullwidth",
                  "max": 100,
                  "min": 1,
                  "step": 1,
                  "style": {}
                 },
                 "type": "node"
                }
               ],
               "instanceArgs": {
                "namespace": "html",
                "tag": "div"
               },
               "nodeType": "DOM",
               "props": {
                "attributes": {
                 "style": "flex-grow:1; margin: 0 2%"
                }
               },
               "type": "node"
              },
              {
               "children": [
                {
                 "children": [],
                 "instanceArgs": {
                  "namespace": "html",
                  "tag": "p"
                 },
                 "nodeType": "DOM",
                 "props": {
                  "attributes": {
                   "data-bind": "text: formatted_value"
                  }
                 },
                 "type": "node"
                }
               ],
               "instanceArgs": {
                "namespace": "html",
                "tag": "div"
               },
               "nodeType": "DOM",
               "props": {
                "attributes": {
                 "style": "width:18%"
                }
               },
               "type": "node"
              }
             ],
             "instanceArgs": {
              "namespace": "html",
              "tag": "div"
             },
             "nodeType": "DOM",
             "props": {
              "attributes": {
               "style": "display:flex; justify-content:center; align-items:center;"
              }
             },
             "type": "node"
            }
           ],
           "instanceArgs": {
            "handlers": {
             "_promises": {
              "importsLoaded": [
               "function (ko, koPunches) {\n    ko.punches.enableAll();\n    ko.bindingHandlers.numericValue = {\n        init : function(element, valueAccessor, allBindings, data, context) {\n            var stringified = ko.observable(ko.unwrap(valueAccessor()));\n            stringified.subscribe(function(value) {\n                var val = parseFloat(value);\n                if (!isNaN(val)) {\n                    valueAccessor()(val);\n                }\n            })\n            valueAccessor().subscribe(function(value) {\n                var str = JSON.stringify(value);\n                if ((str == \"0\") && ([\"-0\", \"-0.\"].indexOf(stringified()) >= 0))\n                     return;\n                 if ([\"null\", \"\"].indexOf(str) >= 0)\n                     return;\n                stringified(str);\n            })\n            ko.applyBindingsToNode(element, { value: stringified, valueUpdate: allBindings.get('valueUpdate')}, context);\n        }\n    };\n    var json_data = JSON.parse(\"{\\\"formatted_vals\\\":[\\\"0.1\\\",\\\"0.2\\\",\\\"0.3\\\",\\\"0.4\\\",\\\"0.5\\\",\\\"0.6\\\",\\\"0.7\\\",\\\"0.8\\\",\\\"0.9\\\",\\\"1.0\\\",\\\"1.1\\\",\\\"1.2\\\",\\\"1.3\\\",\\\"1.4\\\",\\\"1.5\\\",\\\"1.6\\\",\\\"1.7\\\",\\\"1.8\\\",\\\"1.9\\\",\\\"2.0\\\",\\\"2.1\\\",\\\"2.2\\\",\\\"2.3\\\",\\\"2.4\\\",\\\"2.5\\\",\\\"2.6\\\",\\\"2.7\\\",\\\"2.8\\\",\\\"2.9\\\",\\\"3.0\\\",\\\"3.1\\\",\\\"3.2\\\",\\\"3.3\\\",\\\"3.4\\\",\\\"3.5\\\",\\\"3.6\\\",\\\"3.7\\\",\\\"3.8\\\",\\\"3.9\\\",\\\"4.0\\\",\\\"4.1\\\",\\\"4.2\\\",\\\"4.3\\\",\\\"4.4\\\",\\\"4.5\\\",\\\"4.6\\\",\\\"4.7\\\",\\\"4.8\\\",\\\"4.9\\\",\\\"5.0\\\",\\\"5.1\\\",\\\"5.2\\\",\\\"5.3\\\",\\\"5.4\\\",\\\"5.5\\\",\\\"5.6\\\",\\\"5.7\\\",\\\"5.8\\\",\\\"5.9\\\",\\\"6.0\\\",\\\"6.1\\\",\\\"6.2\\\",\\\"6.3\\\",\\\"6.4\\\",\\\"6.5\\\",\\\"6.6\\\",\\\"6.7\\\",\\\"6.8\\\",\\\"6.9\\\",\\\"7.0\\\",\\\"7.1\\\",\\\"7.2\\\",\\\"7.3\\\",\\\"7.4\\\",\\\"7.5\\\",\\\"7.6\\\",\\\"7.7\\\",\\\"7.8\\\",\\\"7.9\\\",\\\"8.0\\\",\\\"8.1\\\",\\\"8.2\\\",\\\"8.3\\\",\\\"8.4\\\",\\\"8.5\\\",\\\"8.6\\\",\\\"8.7\\\",\\\"8.8\\\",\\\"8.9\\\",\\\"9.0\\\",\\\"9.1\\\",\\\"9.2\\\",\\\"9.3\\\",\\\"9.4\\\",\\\"9.5\\\",\\\"9.6\\\",\\\"9.7\\\",\\\"9.8\\\",\\\"9.9\\\",\\\"10.0\\\"],\\\"changes\\\":0,\\\"formatted_value\\\":\\\"5.0\\\",\\\"index\\\":50}\");\n    var self = this;\n    function AppViewModel() {\n        for (var key in json_data) {\n            var el = json_data[key];\n            this[key] = Array.isArray(el) ? ko.observableArray(el) : ko.observable(el);\n        }\n        \n        \n        [this[\"formatted_vals\"].subscribe((function (val){!(this.valueFromJulia[\"formatted_vals\"]) ? (_webIOScope.setObservableValue({\"name\":\"formatted_vals\",\"scope\":\"knockout-component-942adce0-9fe1-400b-80b6-82aa2544a456\",\"id\":\"ob_47\",\"type\":\"observable\"},val)) : undefined; return this.valueFromJulia[\"formatted_vals\"]=false}),self),this[\"changes\"].subscribe((function (val){!(this.valueFromJulia[\"changes\"]) ? (_webIOScope.setObservableValue({\"name\":\"changes\",\"scope\":\"knockout-component-942adce0-9fe1-400b-80b6-82aa2544a456\",\"id\":\"ob_49\",\"type\":\"observable\"},val)) : undefined; return this.valueFromJulia[\"changes\"]=false}),self),this[\"formatted_value\"].subscribe((function (val){!(this.valueFromJulia[\"formatted_value\"]) ? (_webIOScope.setObservableValue({\"name\":\"formatted_value\",\"scope\":\"knockout-component-942adce0-9fe1-400b-80b6-82aa2544a456\",\"id\":\"ob_48\",\"type\":\"observable\"},val)) : undefined; return this.valueFromJulia[\"formatted_value\"]=false}),self),this[\"index\"].subscribe((function (val){!(this.valueFromJulia[\"index\"]) ? (_webIOScope.setObservableValue({\"name\":\"index\",\"scope\":\"knockout-component-942adce0-9fe1-400b-80b6-82aa2544a456\",\"id\":\"ob_46\",\"type\":\"observable\"},val)) : undefined; return this.valueFromJulia[\"index\"]=false}),self)]\n        \n    }\n    self.model = new AppViewModel();\n    self.valueFromJulia = {};\n    for (var key in json_data) {\n        self.valueFromJulia[key] = false;\n    }\n    ko.applyBindings(self.model, self.dom);\n}\n"
              ]
             },
             "changes": [
              "(function (val){return (val!=this.model[\"changes\"]()) ? (this.valueFromJulia[\"changes\"]=true, this.model[\"changes\"](val)) : undefined})"
             ],
             "formatted_vals": [
              "(function (val){return (val!=this.model[\"formatted_vals\"]()) ? (this.valueFromJulia[\"formatted_vals\"]=true, this.model[\"formatted_vals\"](val)) : undefined})"
             ],
             "formatted_value": [
              "(function (val){return (val!=this.model[\"formatted_value\"]()) ? (this.valueFromJulia[\"formatted_value\"]=true, this.model[\"formatted_value\"](val)) : undefined})"
             ],
             "index": [
              "(function (val){return (val!=this.model[\"index\"]()) ? (this.valueFromJulia[\"index\"]=true, this.model[\"index\"](val)) : undefined})",
              "(function (val){return _webIOScope.setObservableValue({\"name\":\"formatted_value\",\"scope\":\"knockout-component-942adce0-9fe1-400b-80b6-82aa2544a456\",\"id\":\"ob_48\",\"type\":\"observable\"},_webIOScope.getObservableValue({\"name\":\"formatted_vals\",\"scope\":\"knockout-component-942adce0-9fe1-400b-80b6-82aa2544a456\",\"id\":\"ob_47\",\"type\":\"observable\"})[(_webIOScope.getObservableValue({\"name\":\"index\",\"scope\":\"knockout-component-942adce0-9fe1-400b-80b6-82aa2544a456\",\"id\":\"ob_46\",\"type\":\"observable\"})-1)])})"
             ]
            },
            "id": "knockout-component-942adce0-9fe1-400b-80b6-82aa2544a456",
            "imports": {
             "data": [
              {
               "name": "knockout",
               "type": "js",
               "url": "/assetserver/429ea4842967203db7a2e10862642c116542d0e4-knockout.js"
              },
              {
               "name": "knockout_punches",
               "type": "js",
               "url": "/assetserver/9998dbb29ca780269e6886a8c8c4b78bb9a73c26-knockout_punches.js"
              },
              {
               "name": null,
               "type": "js",
               "url": "/assetserver/6ee7ce3a8d8fbffe6a5785768ec923478100c144-all.js"
              },
              {
               "name": null,
               "type": "css",
               "url": "/assetserver/255cc2d911924b0ffa0f74016aac5f640f90a396-style.css"
              },
              {
               "name": null,
               "type": "css",
               "url": "/assetserver/66a9780e4509d09169a66d890937410d69e4da42-main.css"
              }
             ],
             "type": "async_block"
            },
            "observables": {
             "changes": {
              "id": "ob_49",
              "sync": false,
              "value": 0
             },
             "formatted_vals": {
              "id": "ob_47",
              "sync": false,
              "value": [
               "0.1",
               "0.2",
               "0.3",
               "0.4",
               "0.5",
               "0.6",
               "0.7",
               "0.8",
               "0.9",
               "1.0",
               "1.1",
               "1.2",
               "1.3",
               "1.4",
               "1.5",
               "1.6",
               "1.7",
               "1.8",
               "1.9",
               "2.0",
               "2.1",
               "2.2",
               "2.3",
               "2.4",
               "2.5",
               "2.6",
               "2.7",
               "2.8",
               "2.9",
               "3.0",
               "3.1",
               "3.2",
               "3.3",
               "3.4",
               "3.5",
               "3.6",
               "3.7",
               "3.8",
               "3.9",
               "4.0",
               "4.1",
               "4.2",
               "4.3",
               "4.4",
               "4.5",
               "4.6",
               "4.7",
               "4.8",
               "4.9",
               "5.0",
               "5.1",
               "5.2",
               "5.3",
               "5.4",
               "5.5",
               "5.6",
               "5.7",
               "5.8",
               "5.9",
               "6.0",
               "6.1",
               "6.2",
               "6.3",
               "6.4",
               "6.5",
               "6.6",
               "6.7",
               "6.8",
               "6.9",
               "7.0",
               "7.1",
               "7.2",
               "7.3",
               "7.4",
               "7.5",
               "7.6",
               "7.7",
               "7.8",
               "7.9",
               "8.0",
               "8.1",
               "8.2",
               "8.3",
               "8.4",
               "8.5",
               "8.6",
               "8.7",
               "8.8",
               "8.9",
               "9.0",
               "9.1",
               "9.2",
               "9.3",
               "9.4",
               "9.5",
               "9.6",
               "9.7",
               "9.8",
               "9.9",
               "10.0"
              ]
             },
             "formatted_value": {
              "id": "ob_48",
              "sync": false,
              "value": "5.0"
             },
             "index": {
              "id": "ob_46",
              "sync": true,
              "value": 50
             }
            },
            "systemjs_options": null
           },
           "nodeType": "Scope",
           "props": {},
           "type": "node"
          }
         ],
         "instanceArgs": {
          "namespace": "html",
          "tag": "div"
         },
         "nodeType": "DOM",
         "props": {
          "className": "field"
         },
         "type": "node"
        },
        {
         "children": [
          {
           "children": [
            {
             "children": [
              {
               "children": [
                {
                 "children": [
                  "Y₈"
                 ],
                 "instanceArgs": {
                  "namespace": "html",
                  "tag": "label"
                 },
                 "nodeType": "DOM",
                 "props": {
                  "className": "interact ",
                  "style": {
                   "padding": "5px 10px 0px 10px"
                  }
                 },
                 "type": "node"
                }
               ],
               "instanceArgs": {
                "namespace": "html",
                "tag": "div"
               },
               "nodeType": "DOM",
               "props": {
                "attributes": {
                 "style": "text-align:right;width:18%"
                }
               },
               "type": "node"
              },
              {
               "children": [
                {
                 "children": [],
                 "instanceArgs": {
                  "namespace": "html",
                  "tag": "input"
                 },
                 "nodeType": "DOM",
                 "props": {
                  "attributes": {
                   "data-bind": "numericValue: index, valueUpdate: 'input', event: {change : function () {this.changes(this.changes()+1)}}",
                   "orient": "horizontal",
                   "type": "range"
                  },
                  "className": "slider slider is-fullwidth",
                  "max": 100,
                  "min": 1,
                  "step": 1,
                  "style": {}
                 },
                 "type": "node"
                }
               ],
               "instanceArgs": {
                "namespace": "html",
                "tag": "div"
               },
               "nodeType": "DOM",
               "props": {
                "attributes": {
                 "style": "flex-grow:1; margin: 0 2%"
                }
               },
               "type": "node"
              },
              {
               "children": [
                {
                 "children": [],
                 "instanceArgs": {
                  "namespace": "html",
                  "tag": "p"
                 },
                 "nodeType": "DOM",
                 "props": {
                  "attributes": {
                   "data-bind": "text: formatted_value"
                  }
                 },
                 "type": "node"
                }
               ],
               "instanceArgs": {
                "namespace": "html",
                "tag": "div"
               },
               "nodeType": "DOM",
               "props": {
                "attributes": {
                 "style": "width:18%"
                }
               },
               "type": "node"
              }
             ],
             "instanceArgs": {
              "namespace": "html",
              "tag": "div"
             },
             "nodeType": "DOM",
             "props": {
              "attributes": {
               "style": "display:flex; justify-content:center; align-items:center;"
              }
             },
             "type": "node"
            }
           ],
           "instanceArgs": {
            "handlers": {
             "_promises": {
              "importsLoaded": [
               "function (ko, koPunches) {\n    ko.punches.enableAll();\n    ko.bindingHandlers.numericValue = {\n        init : function(element, valueAccessor, allBindings, data, context) {\n            var stringified = ko.observable(ko.unwrap(valueAccessor()));\n            stringified.subscribe(function(value) {\n                var val = parseFloat(value);\n                if (!isNaN(val)) {\n                    valueAccessor()(val);\n                }\n            })\n            valueAccessor().subscribe(function(value) {\n                var str = JSON.stringify(value);\n                if ((str == \"0\") && ([\"-0\", \"-0.\"].indexOf(stringified()) >= 0))\n                     return;\n                 if ([\"null\", \"\"].indexOf(str) >= 0)\n                     return;\n                stringified(str);\n            })\n            ko.applyBindingsToNode(element, { value: stringified, valueUpdate: allBindings.get('valueUpdate')}, context);\n        }\n    };\n    var json_data = JSON.parse(\"{\\\"formatted_vals\\\":[\\\"0.1\\\",\\\"0.2\\\",\\\"0.3\\\",\\\"0.4\\\",\\\"0.5\\\",\\\"0.6\\\",\\\"0.7\\\",\\\"0.8\\\",\\\"0.9\\\",\\\"1.0\\\",\\\"1.1\\\",\\\"1.2\\\",\\\"1.3\\\",\\\"1.4\\\",\\\"1.5\\\",\\\"1.6\\\",\\\"1.7\\\",\\\"1.8\\\",\\\"1.9\\\",\\\"2.0\\\",\\\"2.1\\\",\\\"2.2\\\",\\\"2.3\\\",\\\"2.4\\\",\\\"2.5\\\",\\\"2.6\\\",\\\"2.7\\\",\\\"2.8\\\",\\\"2.9\\\",\\\"3.0\\\",\\\"3.1\\\",\\\"3.2\\\",\\\"3.3\\\",\\\"3.4\\\",\\\"3.5\\\",\\\"3.6\\\",\\\"3.7\\\",\\\"3.8\\\",\\\"3.9\\\",\\\"4.0\\\",\\\"4.1\\\",\\\"4.2\\\",\\\"4.3\\\",\\\"4.4\\\",\\\"4.5\\\",\\\"4.6\\\",\\\"4.7\\\",\\\"4.8\\\",\\\"4.9\\\",\\\"5.0\\\",\\\"5.1\\\",\\\"5.2\\\",\\\"5.3\\\",\\\"5.4\\\",\\\"5.5\\\",\\\"5.6\\\",\\\"5.7\\\",\\\"5.8\\\",\\\"5.9\\\",\\\"6.0\\\",\\\"6.1\\\",\\\"6.2\\\",\\\"6.3\\\",\\\"6.4\\\",\\\"6.5\\\",\\\"6.6\\\",\\\"6.7\\\",\\\"6.8\\\",\\\"6.9\\\",\\\"7.0\\\",\\\"7.1\\\",\\\"7.2\\\",\\\"7.3\\\",\\\"7.4\\\",\\\"7.5\\\",\\\"7.6\\\",\\\"7.7\\\",\\\"7.8\\\",\\\"7.9\\\",\\\"8.0\\\",\\\"8.1\\\",\\\"8.2\\\",\\\"8.3\\\",\\\"8.4\\\",\\\"8.5\\\",\\\"8.6\\\",\\\"8.7\\\",\\\"8.8\\\",\\\"8.9\\\",\\\"9.0\\\",\\\"9.1\\\",\\\"9.2\\\",\\\"9.3\\\",\\\"9.4\\\",\\\"9.5\\\",\\\"9.6\\\",\\\"9.7\\\",\\\"9.8\\\",\\\"9.9\\\",\\\"10.0\\\"],\\\"changes\\\":0,\\\"formatted_value\\\":\\\"5.0\\\",\\\"index\\\":50}\");\n    var self = this;\n    function AppViewModel() {\n        for (var key in json_data) {\n            var el = json_data[key];\n            this[key] = Array.isArray(el) ? ko.observableArray(el) : ko.observable(el);\n        }\n        \n        \n        [this[\"formatted_vals\"].subscribe((function (val){!(this.valueFromJulia[\"formatted_vals\"]) ? (_webIOScope.setObservableValue({\"name\":\"formatted_vals\",\"scope\":\"knockout-component-358c62c2-31f6-4004-a037-4c6f56220441\",\"id\":\"ob_52\",\"type\":\"observable\"},val)) : undefined; return this.valueFromJulia[\"formatted_vals\"]=false}),self),this[\"changes\"].subscribe((function (val){!(this.valueFromJulia[\"changes\"]) ? (_webIOScope.setObservableValue({\"name\":\"changes\",\"scope\":\"knockout-component-358c62c2-31f6-4004-a037-4c6f56220441\",\"id\":\"ob_54\",\"type\":\"observable\"},val)) : undefined; return this.valueFromJulia[\"changes\"]=false}),self),this[\"formatted_value\"].subscribe((function (val){!(this.valueFromJulia[\"formatted_value\"]) ? (_webIOScope.setObservableValue({\"name\":\"formatted_value\",\"scope\":\"knockout-component-358c62c2-31f6-4004-a037-4c6f56220441\",\"id\":\"ob_53\",\"type\":\"observable\"},val)) : undefined; return this.valueFromJulia[\"formatted_value\"]=false}),self),this[\"index\"].subscribe((function (val){!(this.valueFromJulia[\"index\"]) ? (_webIOScope.setObservableValue({\"name\":\"index\",\"scope\":\"knockout-component-358c62c2-31f6-4004-a037-4c6f56220441\",\"id\":\"ob_51\",\"type\":\"observable\"},val)) : undefined; return this.valueFromJulia[\"index\"]=false}),self)]\n        \n    }\n    self.model = new AppViewModel();\n    self.valueFromJulia = {};\n    for (var key in json_data) {\n        self.valueFromJulia[key] = false;\n    }\n    ko.applyBindings(self.model, self.dom);\n}\n"
              ]
             },
             "changes": [
              "(function (val){return (val!=this.model[\"changes\"]()) ? (this.valueFromJulia[\"changes\"]=true, this.model[\"changes\"](val)) : undefined})"
             ],
             "formatted_vals": [
              "(function (val){return (val!=this.model[\"formatted_vals\"]()) ? (this.valueFromJulia[\"formatted_vals\"]=true, this.model[\"formatted_vals\"](val)) : undefined})"
             ],
             "formatted_value": [
              "(function (val){return (val!=this.model[\"formatted_value\"]()) ? (this.valueFromJulia[\"formatted_value\"]=true, this.model[\"formatted_value\"](val)) : undefined})"
             ],
             "index": [
              "(function (val){return (val!=this.model[\"index\"]()) ? (this.valueFromJulia[\"index\"]=true, this.model[\"index\"](val)) : undefined})",
              "(function (val){return _webIOScope.setObservableValue({\"name\":\"formatted_value\",\"scope\":\"knockout-component-358c62c2-31f6-4004-a037-4c6f56220441\",\"id\":\"ob_53\",\"type\":\"observable\"},_webIOScope.getObservableValue({\"name\":\"formatted_vals\",\"scope\":\"knockout-component-358c62c2-31f6-4004-a037-4c6f56220441\",\"id\":\"ob_52\",\"type\":\"observable\"})[(_webIOScope.getObservableValue({\"name\":\"index\",\"scope\":\"knockout-component-358c62c2-31f6-4004-a037-4c6f56220441\",\"id\":\"ob_51\",\"type\":\"observable\"})-1)])})"
             ]
            },
            "id": "knockout-component-358c62c2-31f6-4004-a037-4c6f56220441",
            "imports": {
             "data": [
              {
               "name": "knockout",
               "type": "js",
               "url": "/assetserver/429ea4842967203db7a2e10862642c116542d0e4-knockout.js"
              },
              {
               "name": "knockout_punches",
               "type": "js",
               "url": "/assetserver/9998dbb29ca780269e6886a8c8c4b78bb9a73c26-knockout_punches.js"
              },
              {
               "name": null,
               "type": "js",
               "url": "/assetserver/6ee7ce3a8d8fbffe6a5785768ec923478100c144-all.js"
              },
              {
               "name": null,
               "type": "css",
               "url": "/assetserver/255cc2d911924b0ffa0f74016aac5f640f90a396-style.css"
              },
              {
               "name": null,
               "type": "css",
               "url": "/assetserver/66a9780e4509d09169a66d890937410d69e4da42-main.css"
              }
             ],
             "type": "async_block"
            },
            "observables": {
             "changes": {
              "id": "ob_54",
              "sync": false,
              "value": 0
             },
             "formatted_vals": {
              "id": "ob_52",
              "sync": false,
              "value": [
               "0.1",
               "0.2",
               "0.3",
               "0.4",
               "0.5",
               "0.6",
               "0.7",
               "0.8",
               "0.9",
               "1.0",
               "1.1",
               "1.2",
               "1.3",
               "1.4",
               "1.5",
               "1.6",
               "1.7",
               "1.8",
               "1.9",
               "2.0",
               "2.1",
               "2.2",
               "2.3",
               "2.4",
               "2.5",
               "2.6",
               "2.7",
               "2.8",
               "2.9",
               "3.0",
               "3.1",
               "3.2",
               "3.3",
               "3.4",
               "3.5",
               "3.6",
               "3.7",
               "3.8",
               "3.9",
               "4.0",
               "4.1",
               "4.2",
               "4.3",
               "4.4",
               "4.5",
               "4.6",
               "4.7",
               "4.8",
               "4.9",
               "5.0",
               "5.1",
               "5.2",
               "5.3",
               "5.4",
               "5.5",
               "5.6",
               "5.7",
               "5.8",
               "5.9",
               "6.0",
               "6.1",
               "6.2",
               "6.3",
               "6.4",
               "6.5",
               "6.6",
               "6.7",
               "6.8",
               "6.9",
               "7.0",
               "7.1",
               "7.2",
               "7.3",
               "7.4",
               "7.5",
               "7.6",
               "7.7",
               "7.8",
               "7.9",
               "8.0",
               "8.1",
               "8.2",
               "8.3",
               "8.4",
               "8.5",
               "8.6",
               "8.7",
               "8.8",
               "8.9",
               "9.0",
               "9.1",
               "9.2",
               "9.3",
               "9.4",
               "9.5",
               "9.6",
               "9.7",
               "9.8",
               "9.9",
               "10.0"
              ]
             },
             "formatted_value": {
              "id": "ob_53",
              "sync": false,
              "value": "5.0"
             },
             "index": {
              "id": "ob_51",
              "sync": true,
              "value": 50
             }
            },
            "systemjs_options": null
           },
           "nodeType": "Scope",
           "props": {},
           "type": "node"
          }
         ],
         "instanceArgs": {
          "namespace": "html",
          "tag": "div"
         },
         "nodeType": "DOM",
         "props": {
          "className": "field"
         },
         "type": "node"
        },
        {
         "children": [
          {
           "children": [],
           "instanceArgs": {
            "id": "ob_59",
            "name": "obs-node"
           },
           "nodeType": "ObservableNode",
           "props": {},
           "type": "node"
          }
         ],
         "instanceArgs": {
          "handlers": {},
          "id": "scope-0838b45e-2781-4a3e-9d5e-0aac5d2c7882",
          "imports": {
           "data": [],
           "type": "async_block"
          },
          "observables": {
           "obs-node": {
            "id": "ob_59",
            "sync": false,
            "value": {
             "children": [
              {
               "children": [],
               "instanceArgs": {
                "namespace": "html",
                "tag": "div"
               },
               "nodeType": "DOM",
               "props": {
                "setInnerHtml": "<?xml version=\"1.0\" encoding=\"UTF-8\"?>\n<svg xmlns=\"http://www.w3.org/2000/svg\"\n     xmlns:xlink=\"http://www.w3.org/1999/xlink\"\n     version=\"1.2\"\n     width=\"141.42mm\" height=\"100mm\" viewBox=\"0 0 141.42 100\"\n     stroke=\"none\"\n     fill=\"#000000\"\n     stroke-width=\"0.3\"\n     font-size=\"3.88\"\n>\n<defs>\n  <marker id=\"arrow\" markerWidth=\"15\" markerHeight=\"7\" refX=\"5\" refY=\"3.5\" orient=\"auto\" markerUnits=\"strokeWidth\">\n    <path d=\"M0,0 L15,3.5 L0,7 z\" stroke=\"context-stroke\" fill=\"context-stroke\"/>\n  </marker>\n</defs>\n<g stroke-width=\"1.22\" fill=\"#000000\" fill-opacity=\"0.000\" id=\"img-f84c32ee-1\">\n  <g transform=\"translate(101.62,69.71)\" stroke=\"#D3D3D3\">\n    <path fill=\"none\" d=\"M22.98,-10.57 L -22.98 10.57\" class=\"primitive\"/>\n  </g>\n  <g transform=\"translate(106.66,40.76)\" stroke=\"#D3D3D3\">\n    <path fill=\"none\" d=\"M-18.7,-13.08 L 18.7 13.08\" class=\"primitive\"/>\n  </g>\n  <g transform=\"translate(58.22,37.58)\" stroke=\"#D3D3D3\">\n    <path fill=\"none\" d=\"M20.58,-10.42 L -20.58 10.42\" class=\"primitive\"/>\n  </g>\n  <g transform=\"translate(55.5,16.51)\" stroke=\"#D3D3D3\">\n    <path fill=\"none\" d=\"M-22.63,-6.56 L 22.63 6.56\" class=\"primitive\"/>\n  </g>\n  <g transform=\"translate(42.69,87.13)\" stroke=\"#D3D3D3\">\n    <path fill=\"none\" d=\"M25.02,-3.67 L -25.02 3.67\" class=\"primitive\"/>\n  </g>\n  <g transform=\"translate(53.18,66.53)\" stroke=\"#D3D3D3\">\n    <path fill=\"none\" d=\"M16.4,12.9 L -16.4 -12.9\" class=\"primitive\"/>\n  </g>\n  <g transform=\"translate(22.27,71.07)\" stroke=\"#D3D3D3\">\n    <path fill=\"none\" d=\"M-8.45,16.59 L 8.45 -16.59\" class=\"primitive\"/>\n  </g>\n  <g transform=\"translate(30.03,29.41)\" stroke=\"#D3D3D3\">\n    <path fill=\"none\" d=\"M2.18,16.84 L -2.18 -16.84\" class=\"primitive\"/>\n  </g>\n</g>\n<g stroke-width=\"1.22\" id=\"img-f84c32ee-2\">\n  <g transform=\"translate(81.74,78.85)\" stroke=\"#D3D3D3\">\n    <path fill=\"none\" d=\"M2.65,0.48 L -3.09 1.42 0.45 -1.91\" class=\"primitive\"/>\n  </g>\n  <g transform=\"translate(122.74,52)\" stroke=\"#D3D3D3\">\n    <path fill=\"none\" d=\"M0.1,-1.93 L 2.62 1.84 -2.73 0.1\" class=\"primitive\"/>\n  </g>\n  <g transform=\"translate(40.64,46.48)\" stroke=\"#D3D3D3\">\n    <path fill=\"none\" d=\"M2.67,0.4 L -3 1.52 0.33 -1.92\" class=\"primitive\"/>\n  </g>\n  <g transform=\"translate(74.71,22.08)\" stroke=\"#D3D3D3\">\n    <path fill=\"none\" d=\"M-0.94,-1.81 L 3.42 0.99 -2.47 0.82\" class=\"primitive\"/>\n  </g>\n  <g transform=\"translate(21.29,90.27)\" stroke=\"#D3D3D3\">\n    <path fill=\"none\" d=\"M2.22,1.13 L -3.61 0.53 1.4 -1.66\" class=\"primitive\"/>\n  </g>\n  <g transform=\"translate(39.24,55.58)\" stroke=\"#D3D3D3\">\n    <path fill=\"none\" d=\"M-0.26,1.92 L -2.47 -1.94 2.73 0.02\" class=\"primitive\"/>\n  </g>\n  <g transform=\"translate(29.46,56.93)\" stroke=\"#D3D3D3\">\n    <path fill=\"none\" d=\"M-2.52,0.75 L 1.25 -2.46 1.27 1.71\" class=\"primitive\"/>\n  </g>\n  <g transform=\"translate(28.19,15.17)\" stroke=\"#D3D3D3\">\n    <path fill=\"none\" d=\"M-1.84,1.43 L -0.34 -2.6 2.18 1.17\" class=\"primitive\"/>\n  </g>\n</g>\n<g font-size=\"4\" stroke=\"#000000\" stroke-opacity=\"0.000\" fill=\"#000000\" id=\"img-f84c32ee-3\">\n  <g transform=\"translate(87.61,76.15)\">\n    <g class=\"primitive\">\n      <text text-anchor=\"middle\" dy=\"0.35em\">i₁ = -0.3</text>\n    </g>\n  </g>\n  <g transform=\"translate(118.15,48.79)\">\n    <g class=\"primitive\">\n      <text text-anchor=\"middle\" dy=\"0.35em\">i₂ = 0.7</text>\n    </g>\n  </g>\n  <g transform=\"translate(45.49,44.03)\">\n    <g class=\"primitive\">\n      <text text-anchor=\"middle\" dy=\"0.35em\">i₃ = 0.2</text>\n    </g>\n  </g>\n  <g transform=\"translate(69.59,20.6)\">\n    <g class=\"primitive\">\n      <text text-anchor=\"middle\" dy=\"0.35em\">i₄ = -0.1</text>\n    </g>\n  </g>\n  <g transform=\"translate(27.24,89.4)\">\n    <g class=\"primitive\">\n      <text text-anchor=\"middle\" dy=\"0.35em\">i₅ = -0.1</text>\n    </g>\n  </g>\n  <g transform=\"translate(42.96,58.51)\">\n    <g class=\"primitive\">\n      <text text-anchor=\"middle\" dy=\"0.35em\">i₆ = -0.2</text>\n    </g>\n  </g>\n  <g transform=\"translate(27.51,60.77)\">\n    <g class=\"primitive\">\n      <text text-anchor=\"middle\" dy=\"0.35em\">i₇ = -0.1</text>\n    </g>\n  </g>\n  <g transform=\"translate(28.66,18.87)\">\n    <g class=\"primitive\">\n      <text text-anchor=\"middle\" dy=\"0.35em\">i₈ = -0.1</text>\n    </g>\n  </g>\n</g>\n<g stroke-width=\"0\" stroke=\"#000000\" stroke-opacity=\"0.000\" id=\"img-f84c32ee-4\">\n  <g transform=\"translate(129.64,56.82)\" fill=\"#FF0000\">\n    <circle cx=\"0\" cy=\"0\" r=\"5.77\" class=\"primitive\"/>\n  </g>\n  <g transform=\"translate(83.69,24.69)\" fill=\"#FF0000\">\n    <circle cx=\"0\" cy=\"0\" r=\"5.77\" class=\"primitive\"/>\n  </g>\n  <g transform=\"translate(27.3,8.33)\" fill=\"#808080\">\n    <circle cx=\"0\" cy=\"0\" r=\"5.77\" class=\"primitive\"/>\n  </g>\n  <g transform=\"translate(73.6,82.59)\" fill=\"#808080\">\n    <circle cx=\"0\" cy=\"0\" r=\"5.77\" class=\"primitive\"/>\n  </g>\n  <g transform=\"translate(11.79,91.67)\" fill=\"#808080\">\n    <circle cx=\"0\" cy=\"0\" r=\"5.77\" class=\"primitive\"/>\n  </g>\n  <g transform=\"translate(32.75,50.48)\" fill=\"#808080\">\n    <circle cx=\"0\" cy=\"0\" r=\"5.77\" class=\"primitive\"/>\n  </g>\n</g>\n<g font-size=\"4\" stroke=\"#000000\" stroke-opacity=\"0.000\" fill=\"#000000\" id=\"img-f84c32ee-5\">\n  <g transform=\"translate(129.64,56.82)\">\n    <g class=\"primitive\">\n      <text text-anchor=\"middle\" dy=\"0.35em\">1</text>\n    </g>\n  </g>\n  <g transform=\"translate(83.69,24.69)\">\n    <g class=\"primitive\">\n      <text text-anchor=\"middle\" dy=\"0.35em\">2</text>\n    </g>\n  </g>\n  <g transform=\"translate(27.3,8.33)\">\n    <g class=\"primitive\">\n      <text text-anchor=\"middle\" dy=\"0.35em\">3</text>\n    </g>\n  </g>\n  <g transform=\"translate(73.6,82.59)\">\n    <g class=\"primitive\">\n      <text text-anchor=\"middle\" dy=\"0.35em\">4</text>\n    </g>\n  </g>\n  <g transform=\"translate(11.79,91.67)\">\n    <g class=\"primitive\">\n      <text text-anchor=\"middle\" dy=\"0.35em\">5</text>\n    </g>\n  </g>\n  <g transform=\"translate(32.75,50.48)\">\n    <g class=\"primitive\">\n      <text text-anchor=\"middle\" dy=\"0.35em\">6</text>\n    </g>\n  </g>\n</g>\n</svg>\n"
               },
               "type": "node"
              }
             ],
             "instanceArgs": {
              "namespace": "html",
              "tag": "div"
             },
             "nodeType": "DOM",
             "props": {
              "attributes": {
               "style": "display:flex; justify-content:center; align-items:center;"
              }
             },
             "type": "node"
            }
           }
          },
          "systemjs_options": null
         },
         "nodeType": "Scope",
         "props": {},
         "type": "node"
        }
       ],
       "instanceArgs": {
        "namespace": "html",
        "tag": "div"
       },
       "nodeType": "DOM",
       "props": {},
       "type": "node"
      },
      "text/html": [
       "<div\n",
       "    class=\"webio-mountpoint\"\n",
       "    data-webio-mountpoint=\"4961391952689522090\"\n",
       ">\n",
       "    <script>\n",
       "    if (window.require && require.defined && require.defined(\"nbextensions/webio/main\")) {\n",
       "        console.log(\"Jupyter WebIO extension detected, not mounting.\");\n",
       "    } else if (window.WebIO) {\n",
       "        WebIO.mount(\n",
       "            document.querySelector('[data-webio-mountpoint=\"4961391952689522090\"]'),\n",
       "            {\"props\":{},\"nodeType\":\"DOM\",\"type\":\"node\",\"instanceArgs\":{\"namespace\":\"html\",\"tag\":\"div\"},\"children\":[{\"props\":{\"className\":\"field\"},\"nodeType\":\"DOM\",\"type\":\"node\",\"instanceArgs\":{\"namespace\":\"html\",\"tag\":\"div\"},\"children\":[{\"props\":{},\"nodeType\":\"Scope\",\"type\":\"node\",\"instanceArgs\":{\"imports\":{\"data\":[{\"name\":\"knockout\",\"type\":\"js\",\"url\":\"\\/assetserver\\/429ea4842967203db7a2e10862642c116542d0e4-knockout.js\"},{\"name\":\"knockout_punches\",\"type\":\"js\",\"url\":\"\\/assetserver\\/9998dbb29ca780269e6886a8c8c4b78bb9a73c26-knockout_punches.js\"},{\"name\":null,\"type\":\"js\",\"url\":\"\\/assetserver\\/6ee7ce3a8d8fbffe6a5785768ec923478100c144-all.js\"},{\"name\":null,\"type\":\"css\",\"url\":\"\\/assetserver\\/255cc2d911924b0ffa0f74016aac5f640f90a396-style.css\"},{\"name\":null,\"type\":\"css\",\"url\":\"\\/assetserver\\/66a9780e4509d09169a66d890937410d69e4da42-main.css\"}],\"type\":\"async_block\"},\"id\":\"knockout-component-37f6044d-c8f8-407d-8d44-d8198f960e0e\",\"handlers\":{\"formatted_vals\":[\"(function (val){return (val!=this.model[\\\"formatted_vals\\\"]()) ? (this.valueFromJulia[\\\"formatted_vals\\\"]=true, this.model[\\\"formatted_vals\\\"](val)) : undefined})\"],\"_promises\":{\"importsLoaded\":[\"function (ko, koPunches) {\\n    ko.punches.enableAll();\\n    ko.bindingHandlers.numericValue = {\\n        init : function(element, valueAccessor, allBindings, data, context) {\\n            var stringified = ko.observable(ko.unwrap(valueAccessor()));\\n            stringified.subscribe(function(value) {\\n                var val = parseFloat(value);\\n                if (!isNaN(val)) {\\n                    valueAccessor()(val);\\n                }\\n            })\\n            valueAccessor().subscribe(function(value) {\\n                var str = JSON.stringify(value);\\n                if ((str == \\\"0\\\") && ([\\\"-0\\\", \\\"-0.\\\"].indexOf(stringified()) >= 0))\\n                     return;\\n                 if ([\\\"null\\\", \\\"\\\"].indexOf(str) >= 0)\\n                     return;\\n                stringified(str);\\n            })\\n            ko.applyBindingsToNode(element, { value: stringified, valueUpdate: allBindings.get('valueUpdate')}, context);\\n        }\\n    };\\n    var json_data = JSON.parse(\\\"{\\\\\\\"formatted_vals\\\\\\\":[\\\\\\\"0.1\\\\\\\",\\\\\\\"0.2\\\\\\\",\\\\\\\"0.3\\\\\\\",\\\\\\\"0.4\\\\\\\",\\\\\\\"0.5\\\\\\\",\\\\\\\"0.6\\\\\\\",\\\\\\\"0.7\\\\\\\",\\\\\\\"0.8\\\\\\\",\\\\\\\"0.9\\\\\\\",\\\\\\\"1.0\\\\\\\",\\\\\\\"1.1\\\\\\\",\\\\\\\"1.2\\\\\\\",\\\\\\\"1.3\\\\\\\",\\\\\\\"1.4\\\\\\\",\\\\\\\"1.5\\\\\\\",\\\\\\\"1.6\\\\\\\",\\\\\\\"1.7\\\\\\\",\\\\\\\"1.8\\\\\\\",\\\\\\\"1.9\\\\\\\",\\\\\\\"2.0\\\\\\\",\\\\\\\"2.1\\\\\\\",\\\\\\\"2.2\\\\\\\",\\\\\\\"2.3\\\\\\\",\\\\\\\"2.4\\\\\\\",\\\\\\\"2.5\\\\\\\",\\\\\\\"2.6\\\\\\\",\\\\\\\"2.7\\\\\\\",\\\\\\\"2.8\\\\\\\",\\\\\\\"2.9\\\\\\\",\\\\\\\"3.0\\\\\\\",\\\\\\\"3.1\\\\\\\",\\\\\\\"3.2\\\\\\\",\\\\\\\"3.3\\\\\\\",\\\\\\\"3.4\\\\\\\",\\\\\\\"3.5\\\\\\\",\\\\\\\"3.6\\\\\\\",\\\\\\\"3.7\\\\\\\",\\\\\\\"3.8\\\\\\\",\\\\\\\"3.9\\\\\\\",\\\\\\\"4.0\\\\\\\",\\\\\\\"4.1\\\\\\\",\\\\\\\"4.2\\\\\\\",\\\\\\\"4.3\\\\\\\",\\\\\\\"4.4\\\\\\\",\\\\\\\"4.5\\\\\\\",\\\\\\\"4.6\\\\\\\",\\\\\\\"4.7\\\\\\\",\\\\\\\"4.8\\\\\\\",\\\\\\\"4.9\\\\\\\",\\\\\\\"5.0\\\\\\\",\\\\\\\"5.1\\\\\\\",\\\\\\\"5.2\\\\\\\",\\\\\\\"5.3\\\\\\\",\\\\\\\"5.4\\\\\\\",\\\\\\\"5.5\\\\\\\",\\\\\\\"5.6\\\\\\\",\\\\\\\"5.7\\\\\\\",\\\\\\\"5.8\\\\\\\",\\\\\\\"5.9\\\\\\\",\\\\\\\"6.0\\\\\\\",\\\\\\\"6.1\\\\\\\",\\\\\\\"6.2\\\\\\\",\\\\\\\"6.3\\\\\\\",\\\\\\\"6.4\\\\\\\",\\\\\\\"6.5\\\\\\\",\\\\\\\"6.6\\\\\\\",\\\\\\\"6.7\\\\\\\",\\\\\\\"6.8\\\\\\\",\\\\\\\"6.9\\\\\\\",\\\\\\\"7.0\\\\\\\",\\\\\\\"7.1\\\\\\\",\\\\\\\"7.2\\\\\\\",\\\\\\\"7.3\\\\\\\",\\\\\\\"7.4\\\\\\\",\\\\\\\"7.5\\\\\\\",\\\\\\\"7.6\\\\\\\",\\\\\\\"7.7\\\\\\\",\\\\\\\"7.8\\\\\\\",\\\\\\\"7.9\\\\\\\",\\\\\\\"8.0\\\\\\\",\\\\\\\"8.1\\\\\\\",\\\\\\\"8.2\\\\\\\",\\\\\\\"8.3\\\\\\\",\\\\\\\"8.4\\\\\\\",\\\\\\\"8.5\\\\\\\",\\\\\\\"8.6\\\\\\\",\\\\\\\"8.7\\\\\\\",\\\\\\\"8.8\\\\\\\",\\\\\\\"8.9\\\\\\\",\\\\\\\"9.0\\\\\\\",\\\\\\\"9.1\\\\\\\",\\\\\\\"9.2\\\\\\\",\\\\\\\"9.3\\\\\\\",\\\\\\\"9.4\\\\\\\",\\\\\\\"9.5\\\\\\\",\\\\\\\"9.6\\\\\\\",\\\\\\\"9.7\\\\\\\",\\\\\\\"9.8\\\\\\\",\\\\\\\"9.9\\\\\\\",\\\\\\\"10.0\\\\\\\"],\\\\\\\"changes\\\\\\\":0,\\\\\\\"formatted_value\\\\\\\":\\\\\\\"5.0\\\\\\\",\\\\\\\"index\\\\\\\":50}\\\");\\n    var self = this;\\n    function AppViewModel() {\\n        for (var key in json_data) {\\n            var el = json_data[key];\\n            this[key] = Array.isArray(el) ? ko.observableArray(el) : ko.observable(el);\\n        }\\n        \\n        \\n        [this[\\\"formatted_vals\\\"].subscribe((function (val){!(this.valueFromJulia[\\\"formatted_vals\\\"]) ? (_webIOScope.setObservableValue({\\\"name\\\":\\\"formatted_vals\\\",\\\"scope\\\":\\\"knockout-component-37f6044d-c8f8-407d-8d44-d8198f960e0e\\\",\\\"id\\\":\\\"ob_17\\\",\\\"type\\\":\\\"observable\\\"},val)) : undefined; return this.valueFromJulia[\\\"formatted_vals\\\"]=false}),self),this[\\\"changes\\\"].subscribe((function (val){!(this.valueFromJulia[\\\"changes\\\"]) ? (_webIOScope.setObservableValue({\\\"name\\\":\\\"changes\\\",\\\"scope\\\":\\\"knockout-component-37f6044d-c8f8-407d-8d44-d8198f960e0e\\\",\\\"id\\\":\\\"ob_19\\\",\\\"type\\\":\\\"observable\\\"},val)) : undefined; return this.valueFromJulia[\\\"changes\\\"]=false}),self),this[\\\"formatted_value\\\"].subscribe((function (val){!(this.valueFromJulia[\\\"formatted_value\\\"]) ? (_webIOScope.setObservableValue({\\\"name\\\":\\\"formatted_value\\\",\\\"scope\\\":\\\"knockout-component-37f6044d-c8f8-407d-8d44-d8198f960e0e\\\",\\\"id\\\":\\\"ob_18\\\",\\\"type\\\":\\\"observable\\\"},val)) : undefined; return this.valueFromJulia[\\\"formatted_value\\\"]=false}),self),this[\\\"index\\\"].subscribe((function (val){!(this.valueFromJulia[\\\"index\\\"]) ? (_webIOScope.setObservableValue({\\\"name\\\":\\\"index\\\",\\\"scope\\\":\\\"knockout-component-37f6044d-c8f8-407d-8d44-d8198f960e0e\\\",\\\"id\\\":\\\"ob_16\\\",\\\"type\\\":\\\"observable\\\"},val)) : undefined; return this.valueFromJulia[\\\"index\\\"]=false}),self)]\\n        \\n    }\\n    self.model = new AppViewModel();\\n    self.valueFromJulia = {};\\n    for (var key in json_data) {\\n        self.valueFromJulia[key] = false;\\n    }\\n    ko.applyBindings(self.model, self.dom);\\n}\\n\"]},\"changes\":[\"(function (val){return (val!=this.model[\\\"changes\\\"]()) ? (this.valueFromJulia[\\\"changes\\\"]=true, this.model[\\\"changes\\\"](val)) : undefined})\"],\"formatted_value\":[\"(function (val){return (val!=this.model[\\\"formatted_value\\\"]()) ? (this.valueFromJulia[\\\"formatted_value\\\"]=true, this.model[\\\"formatted_value\\\"](val)) : undefined})\"],\"index\":[\"(function (val){return (val!=this.model[\\\"index\\\"]()) ? (this.valueFromJulia[\\\"index\\\"]=true, this.model[\\\"index\\\"](val)) : undefined})\",\"(function (val){return _webIOScope.setObservableValue({\\\"name\\\":\\\"formatted_value\\\",\\\"scope\\\":\\\"knockout-component-37f6044d-c8f8-407d-8d44-d8198f960e0e\\\",\\\"id\\\":\\\"ob_18\\\",\\\"type\\\":\\\"observable\\\"},_webIOScope.getObservableValue({\\\"name\\\":\\\"formatted_vals\\\",\\\"scope\\\":\\\"knockout-component-37f6044d-c8f8-407d-8d44-d8198f960e0e\\\",\\\"id\\\":\\\"ob_17\\\",\\\"type\\\":\\\"observable\\\"})[(_webIOScope.getObservableValue({\\\"name\\\":\\\"index\\\",\\\"scope\\\":\\\"knockout-component-37f6044d-c8f8-407d-8d44-d8198f960e0e\\\",\\\"id\\\":\\\"ob_16\\\",\\\"type\\\":\\\"observable\\\"})-1)])})\"]},\"systemjs_options\":null,\"observables\":{\"formatted_vals\":{\"sync\":false,\"id\":\"ob_17\",\"value\":[\"0.1\",\"0.2\",\"0.3\",\"0.4\",\"0.5\",\"0.6\",\"0.7\",\"0.8\",\"0.9\",\"1.0\",\"1.1\",\"1.2\",\"1.3\",\"1.4\",\"1.5\",\"1.6\",\"1.7\",\"1.8\",\"1.9\",\"2.0\",\"2.1\",\"2.2\",\"2.3\",\"2.4\",\"2.5\",\"2.6\",\"2.7\",\"2.8\",\"2.9\",\"3.0\",\"3.1\",\"3.2\",\"3.3\",\"3.4\",\"3.5\",\"3.6\",\"3.7\",\"3.8\",\"3.9\",\"4.0\",\"4.1\",\"4.2\",\"4.3\",\"4.4\",\"4.5\",\"4.6\",\"4.7\",\"4.8\",\"4.9\",\"5.0\",\"5.1\",\"5.2\",\"5.3\",\"5.4\",\"5.5\",\"5.6\",\"5.7\",\"5.8\",\"5.9\",\"6.0\",\"6.1\",\"6.2\",\"6.3\",\"6.4\",\"6.5\",\"6.6\",\"6.7\",\"6.8\",\"6.9\",\"7.0\",\"7.1\",\"7.2\",\"7.3\",\"7.4\",\"7.5\",\"7.6\",\"7.7\",\"7.8\",\"7.9\",\"8.0\",\"8.1\",\"8.2\",\"8.3\",\"8.4\",\"8.5\",\"8.6\",\"8.7\",\"8.8\",\"8.9\",\"9.0\",\"9.1\",\"9.2\",\"9.3\",\"9.4\",\"9.5\",\"9.6\",\"9.7\",\"9.8\",\"9.9\",\"10.0\"]},\"changes\":{\"sync\":false,\"id\":\"ob_19\",\"value\":0},\"formatted_value\":{\"sync\":false,\"id\":\"ob_18\",\"value\":\"5.0\"},\"index\":{\"sync\":true,\"id\":\"ob_16\",\"value\":50}}},\"children\":[{\"props\":{\"attributes\":{\"style\":\"display:flex; justify-content:center; align-items:center;\"}},\"nodeType\":\"DOM\",\"type\":\"node\",\"instanceArgs\":{\"namespace\":\"html\",\"tag\":\"div\"},\"children\":[{\"props\":{\"attributes\":{\"style\":\"text-align:right;width:18%\"}},\"nodeType\":\"DOM\",\"type\":\"node\",\"instanceArgs\":{\"namespace\":\"html\",\"tag\":\"div\"},\"children\":[{\"props\":{\"className\":\"interact \",\"style\":{\"padding\":\"5px 10px 0px 10px\"}},\"nodeType\":\"DOM\",\"type\":\"node\",\"instanceArgs\":{\"namespace\":\"html\",\"tag\":\"label\"},\"children\":[\"Y₁\"]}]},{\"props\":{\"attributes\":{\"style\":\"flex-grow:1; margin: 0 2%\"}},\"nodeType\":\"DOM\",\"type\":\"node\",\"instanceArgs\":{\"namespace\":\"html\",\"tag\":\"div\"},\"children\":[{\"props\":{\"max\":100,\"min\":1,\"attributes\":{\"type\":\"range\",\"data-bind\":\"numericValue: index, valueUpdate: 'input', event: {change : function () {this.changes(this.changes()+1)}}\",\"orient\":\"horizontal\"},\"step\":1,\"className\":\"slider slider is-fullwidth\",\"style\":{}},\"nodeType\":\"DOM\",\"type\":\"node\",\"instanceArgs\":{\"namespace\":\"html\",\"tag\":\"input\"},\"children\":[]}]},{\"props\":{\"attributes\":{\"style\":\"width:18%\"}},\"nodeType\":\"DOM\",\"type\":\"node\",\"instanceArgs\":{\"namespace\":\"html\",\"tag\":\"div\"},\"children\":[{\"props\":{\"attributes\":{\"data-bind\":\"text: formatted_value\"}},\"nodeType\":\"DOM\",\"type\":\"node\",\"instanceArgs\":{\"namespace\":\"html\",\"tag\":\"p\"},\"children\":[]}]}]}]}]},{\"props\":{\"className\":\"field\"},\"nodeType\":\"DOM\",\"type\":\"node\",\"instanceArgs\":{\"namespace\":\"html\",\"tag\":\"div\"},\"children\":[{\"props\":{},\"nodeType\":\"Scope\",\"type\":\"node\",\"instanceArgs\":{\"imports\":{\"data\":[{\"name\":\"knockout\",\"type\":\"js\",\"url\":\"\\/assetserver\\/429ea4842967203db7a2e10862642c116542d0e4-knockout.js\"},{\"name\":\"knockout_punches\",\"type\":\"js\",\"url\":\"\\/assetserver\\/9998dbb29ca780269e6886a8c8c4b78bb9a73c26-knockout_punches.js\"},{\"name\":null,\"type\":\"js\",\"url\":\"\\/assetserver\\/6ee7ce3a8d8fbffe6a5785768ec923478100c144-all.js\"},{\"name\":null,\"type\":\"css\",\"url\":\"\\/assetserver\\/255cc2d911924b0ffa0f74016aac5f640f90a396-style.css\"},{\"name\":null,\"type\":\"css\",\"url\":\"\\/assetserver\\/66a9780e4509d09169a66d890937410d69e4da42-main.css\"}],\"type\":\"async_block\"},\"id\":\"knockout-component-876c57af-f54e-4b21-9d4b-c1c8f06b3d49\",\"handlers\":{\"formatted_vals\":[\"(function (val){return (val!=this.model[\\\"formatted_vals\\\"]()) ? (this.valueFromJulia[\\\"formatted_vals\\\"]=true, this.model[\\\"formatted_vals\\\"](val)) : undefined})\"],\"_promises\":{\"importsLoaded\":[\"function (ko, koPunches) {\\n    ko.punches.enableAll();\\n    ko.bindingHandlers.numericValue = {\\n        init : function(element, valueAccessor, allBindings, data, context) {\\n            var stringified = ko.observable(ko.unwrap(valueAccessor()));\\n            stringified.subscribe(function(value) {\\n                var val = parseFloat(value);\\n                if (!isNaN(val)) {\\n                    valueAccessor()(val);\\n                }\\n            })\\n            valueAccessor().subscribe(function(value) {\\n                var str = JSON.stringify(value);\\n                if ((str == \\\"0\\\") && ([\\\"-0\\\", \\\"-0.\\\"].indexOf(stringified()) >= 0))\\n                     return;\\n                 if ([\\\"null\\\", \\\"\\\"].indexOf(str) >= 0)\\n                     return;\\n                stringified(str);\\n            })\\n            ko.applyBindingsToNode(element, { value: stringified, valueUpdate: allBindings.get('valueUpdate')}, context);\\n        }\\n    };\\n    var json_data = JSON.parse(\\\"{\\\\\\\"formatted_vals\\\\\\\":[\\\\\\\"0.1\\\\\\\",\\\\\\\"0.2\\\\\\\",\\\\\\\"0.3\\\\\\\",\\\\\\\"0.4\\\\\\\",\\\\\\\"0.5\\\\\\\",\\\\\\\"0.6\\\\\\\",\\\\\\\"0.7\\\\\\\",\\\\\\\"0.8\\\\\\\",\\\\\\\"0.9\\\\\\\",\\\\\\\"1.0\\\\\\\",\\\\\\\"1.1\\\\\\\",\\\\\\\"1.2\\\\\\\",\\\\\\\"1.3\\\\\\\",\\\\\\\"1.4\\\\\\\",\\\\\\\"1.5\\\\\\\",\\\\\\\"1.6\\\\\\\",\\\\\\\"1.7\\\\\\\",\\\\\\\"1.8\\\\\\\",\\\\\\\"1.9\\\\\\\",\\\\\\\"2.0\\\\\\\",\\\\\\\"2.1\\\\\\\",\\\\\\\"2.2\\\\\\\",\\\\\\\"2.3\\\\\\\",\\\\\\\"2.4\\\\\\\",\\\\\\\"2.5\\\\\\\",\\\\\\\"2.6\\\\\\\",\\\\\\\"2.7\\\\\\\",\\\\\\\"2.8\\\\\\\",\\\\\\\"2.9\\\\\\\",\\\\\\\"3.0\\\\\\\",\\\\\\\"3.1\\\\\\\",\\\\\\\"3.2\\\\\\\",\\\\\\\"3.3\\\\\\\",\\\\\\\"3.4\\\\\\\",\\\\\\\"3.5\\\\\\\",\\\\\\\"3.6\\\\\\\",\\\\\\\"3.7\\\\\\\",\\\\\\\"3.8\\\\\\\",\\\\\\\"3.9\\\\\\\",\\\\\\\"4.0\\\\\\\",\\\\\\\"4.1\\\\\\\",\\\\\\\"4.2\\\\\\\",\\\\\\\"4.3\\\\\\\",\\\\\\\"4.4\\\\\\\",\\\\\\\"4.5\\\\\\\",\\\\\\\"4.6\\\\\\\",\\\\\\\"4.7\\\\\\\",\\\\\\\"4.8\\\\\\\",\\\\\\\"4.9\\\\\\\",\\\\\\\"5.0\\\\\\\",\\\\\\\"5.1\\\\\\\",\\\\\\\"5.2\\\\\\\",\\\\\\\"5.3\\\\\\\",\\\\\\\"5.4\\\\\\\",\\\\\\\"5.5\\\\\\\",\\\\\\\"5.6\\\\\\\",\\\\\\\"5.7\\\\\\\",\\\\\\\"5.8\\\\\\\",\\\\\\\"5.9\\\\\\\",\\\\\\\"6.0\\\\\\\",\\\\\\\"6.1\\\\\\\",\\\\\\\"6.2\\\\\\\",\\\\\\\"6.3\\\\\\\",\\\\\\\"6.4\\\\\\\",\\\\\\\"6.5\\\\\\\",\\\\\\\"6.6\\\\\\\",\\\\\\\"6.7\\\\\\\",\\\\\\\"6.8\\\\\\\",\\\\\\\"6.9\\\\\\\",\\\\\\\"7.0\\\\\\\",\\\\\\\"7.1\\\\\\\",\\\\\\\"7.2\\\\\\\",\\\\\\\"7.3\\\\\\\",\\\\\\\"7.4\\\\\\\",\\\\\\\"7.5\\\\\\\",\\\\\\\"7.6\\\\\\\",\\\\\\\"7.7\\\\\\\",\\\\\\\"7.8\\\\\\\",\\\\\\\"7.9\\\\\\\",\\\\\\\"8.0\\\\\\\",\\\\\\\"8.1\\\\\\\",\\\\\\\"8.2\\\\\\\",\\\\\\\"8.3\\\\\\\",\\\\\\\"8.4\\\\\\\",\\\\\\\"8.5\\\\\\\",\\\\\\\"8.6\\\\\\\",\\\\\\\"8.7\\\\\\\",\\\\\\\"8.8\\\\\\\",\\\\\\\"8.9\\\\\\\",\\\\\\\"9.0\\\\\\\",\\\\\\\"9.1\\\\\\\",\\\\\\\"9.2\\\\\\\",\\\\\\\"9.3\\\\\\\",\\\\\\\"9.4\\\\\\\",\\\\\\\"9.5\\\\\\\",\\\\\\\"9.6\\\\\\\",\\\\\\\"9.7\\\\\\\",\\\\\\\"9.8\\\\\\\",\\\\\\\"9.9\\\\\\\",\\\\\\\"10.0\\\\\\\"],\\\\\\\"changes\\\\\\\":0,\\\\\\\"formatted_value\\\\\\\":\\\\\\\"5.0\\\\\\\",\\\\\\\"index\\\\\\\":50}\\\");\\n    var self = this;\\n    function AppViewModel() {\\n        for (var key in json_data) {\\n            var el = json_data[key];\\n            this[key] = Array.isArray(el) ? ko.observableArray(el) : ko.observable(el);\\n        }\\n        \\n        \\n        [this[\\\"formatted_vals\\\"].subscribe((function (val){!(this.valueFromJulia[\\\"formatted_vals\\\"]) ? (_webIOScope.setObservableValue({\\\"name\\\":\\\"formatted_vals\\\",\\\"scope\\\":\\\"knockout-component-876c57af-f54e-4b21-9d4b-c1c8f06b3d49\\\",\\\"id\\\":\\\"ob_22\\\",\\\"type\\\":\\\"observable\\\"},val)) : undefined; return this.valueFromJulia[\\\"formatted_vals\\\"]=false}),self),this[\\\"changes\\\"].subscribe((function (val){!(this.valueFromJulia[\\\"changes\\\"]) ? (_webIOScope.setObservableValue({\\\"name\\\":\\\"changes\\\",\\\"scope\\\":\\\"knockout-component-876c57af-f54e-4b21-9d4b-c1c8f06b3d49\\\",\\\"id\\\":\\\"ob_24\\\",\\\"type\\\":\\\"observable\\\"},val)) : undefined; return this.valueFromJulia[\\\"changes\\\"]=false}),self),this[\\\"formatted_value\\\"].subscribe((function (val){!(this.valueFromJulia[\\\"formatted_value\\\"]) ? (_webIOScope.setObservableValue({\\\"name\\\":\\\"formatted_value\\\",\\\"scope\\\":\\\"knockout-component-876c57af-f54e-4b21-9d4b-c1c8f06b3d49\\\",\\\"id\\\":\\\"ob_23\\\",\\\"type\\\":\\\"observable\\\"},val)) : undefined; return this.valueFromJulia[\\\"formatted_value\\\"]=false}),self),this[\\\"index\\\"].subscribe((function (val){!(this.valueFromJulia[\\\"index\\\"]) ? (_webIOScope.setObservableValue({\\\"name\\\":\\\"index\\\",\\\"scope\\\":\\\"knockout-component-876c57af-f54e-4b21-9d4b-c1c8f06b3d49\\\",\\\"id\\\":\\\"ob_21\\\",\\\"type\\\":\\\"observable\\\"},val)) : undefined; return this.valueFromJulia[\\\"index\\\"]=false}),self)]\\n        \\n    }\\n    self.model = new AppViewModel();\\n    self.valueFromJulia = {};\\n    for (var key in json_data) {\\n        self.valueFromJulia[key] = false;\\n    }\\n    ko.applyBindings(self.model, self.dom);\\n}\\n\"]},\"changes\":[\"(function (val){return (val!=this.model[\\\"changes\\\"]()) ? (this.valueFromJulia[\\\"changes\\\"]=true, this.model[\\\"changes\\\"](val)) : undefined})\"],\"formatted_value\":[\"(function (val){return (val!=this.model[\\\"formatted_value\\\"]()) ? (this.valueFromJulia[\\\"formatted_value\\\"]=true, this.model[\\\"formatted_value\\\"](val)) : undefined})\"],\"index\":[\"(function (val){return (val!=this.model[\\\"index\\\"]()) ? (this.valueFromJulia[\\\"index\\\"]=true, this.model[\\\"index\\\"](val)) : undefined})\",\"(function (val){return _webIOScope.setObservableValue({\\\"name\\\":\\\"formatted_value\\\",\\\"scope\\\":\\\"knockout-component-876c57af-f54e-4b21-9d4b-c1c8f06b3d49\\\",\\\"id\\\":\\\"ob_23\\\",\\\"type\\\":\\\"observable\\\"},_webIOScope.getObservableValue({\\\"name\\\":\\\"formatted_vals\\\",\\\"scope\\\":\\\"knockout-component-876c57af-f54e-4b21-9d4b-c1c8f06b3d49\\\",\\\"id\\\":\\\"ob_22\\\",\\\"type\\\":\\\"observable\\\"})[(_webIOScope.getObservableValue({\\\"name\\\":\\\"index\\\",\\\"scope\\\":\\\"knockout-component-876c57af-f54e-4b21-9d4b-c1c8f06b3d49\\\",\\\"id\\\":\\\"ob_21\\\",\\\"type\\\":\\\"observable\\\"})-1)])})\"]},\"systemjs_options\":null,\"observables\":{\"formatted_vals\":{\"sync\":false,\"id\":\"ob_22\",\"value\":[\"0.1\",\"0.2\",\"0.3\",\"0.4\",\"0.5\",\"0.6\",\"0.7\",\"0.8\",\"0.9\",\"1.0\",\"1.1\",\"1.2\",\"1.3\",\"1.4\",\"1.5\",\"1.6\",\"1.7\",\"1.8\",\"1.9\",\"2.0\",\"2.1\",\"2.2\",\"2.3\",\"2.4\",\"2.5\",\"2.6\",\"2.7\",\"2.8\",\"2.9\",\"3.0\",\"3.1\",\"3.2\",\"3.3\",\"3.4\",\"3.5\",\"3.6\",\"3.7\",\"3.8\",\"3.9\",\"4.0\",\"4.1\",\"4.2\",\"4.3\",\"4.4\",\"4.5\",\"4.6\",\"4.7\",\"4.8\",\"4.9\",\"5.0\",\"5.1\",\"5.2\",\"5.3\",\"5.4\",\"5.5\",\"5.6\",\"5.7\",\"5.8\",\"5.9\",\"6.0\",\"6.1\",\"6.2\",\"6.3\",\"6.4\",\"6.5\",\"6.6\",\"6.7\",\"6.8\",\"6.9\",\"7.0\",\"7.1\",\"7.2\",\"7.3\",\"7.4\",\"7.5\",\"7.6\",\"7.7\",\"7.8\",\"7.9\",\"8.0\",\"8.1\",\"8.2\",\"8.3\",\"8.4\",\"8.5\",\"8.6\",\"8.7\",\"8.8\",\"8.9\",\"9.0\",\"9.1\",\"9.2\",\"9.3\",\"9.4\",\"9.5\",\"9.6\",\"9.7\",\"9.8\",\"9.9\",\"10.0\"]},\"changes\":{\"sync\":false,\"id\":\"ob_24\",\"value\":0},\"formatted_value\":{\"sync\":false,\"id\":\"ob_23\",\"value\":\"5.0\"},\"index\":{\"sync\":true,\"id\":\"ob_21\",\"value\":50}}},\"children\":[{\"props\":{\"attributes\":{\"style\":\"display:flex; justify-content:center; align-items:center;\"}},\"nodeType\":\"DOM\",\"type\":\"node\",\"instanceArgs\":{\"namespace\":\"html\",\"tag\":\"div\"},\"children\":[{\"props\":{\"attributes\":{\"style\":\"text-align:right;width:18%\"}},\"nodeType\":\"DOM\",\"type\":\"node\",\"instanceArgs\":{\"namespace\":\"html\",\"tag\":\"div\"},\"children\":[{\"props\":{\"className\":\"interact \",\"style\":{\"padding\":\"5px 10px 0px 10px\"}},\"nodeType\":\"DOM\",\"type\":\"node\",\"instanceArgs\":{\"namespace\":\"html\",\"tag\":\"label\"},\"children\":[\"Y₂\"]}]},{\"props\":{\"attributes\":{\"style\":\"flex-grow:1; margin: 0 2%\"}},\"nodeType\":\"DOM\",\"type\":\"node\",\"instanceArgs\":{\"namespace\":\"html\",\"tag\":\"div\"},\"children\":[{\"props\":{\"max\":100,\"min\":1,\"attributes\":{\"type\":\"range\",\"data-bind\":\"numericValue: index, valueUpdate: 'input', event: {change : function () {this.changes(this.changes()+1)}}\",\"orient\":\"horizontal\"},\"step\":1,\"className\":\"slider slider is-fullwidth\",\"style\":{}},\"nodeType\":\"DOM\",\"type\":\"node\",\"instanceArgs\":{\"namespace\":\"html\",\"tag\":\"input\"},\"children\":[]}]},{\"props\":{\"attributes\":{\"style\":\"width:18%\"}},\"nodeType\":\"DOM\",\"type\":\"node\",\"instanceArgs\":{\"namespace\":\"html\",\"tag\":\"div\"},\"children\":[{\"props\":{\"attributes\":{\"data-bind\":\"text: formatted_value\"}},\"nodeType\":\"DOM\",\"type\":\"node\",\"instanceArgs\":{\"namespace\":\"html\",\"tag\":\"p\"},\"children\":[]}]}]}]}]},{\"props\":{\"className\":\"field\"},\"nodeType\":\"DOM\",\"type\":\"node\",\"instanceArgs\":{\"namespace\":\"html\",\"tag\":\"div\"},\"children\":[{\"props\":{},\"nodeType\":\"Scope\",\"type\":\"node\",\"instanceArgs\":{\"imports\":{\"data\":[{\"name\":\"knockout\",\"type\":\"js\",\"url\":\"\\/assetserver\\/429ea4842967203db7a2e10862642c116542d0e4-knockout.js\"},{\"name\":\"knockout_punches\",\"type\":\"js\",\"url\":\"\\/assetserver\\/9998dbb29ca780269e6886a8c8c4b78bb9a73c26-knockout_punches.js\"},{\"name\":null,\"type\":\"js\",\"url\":\"\\/assetserver\\/6ee7ce3a8d8fbffe6a5785768ec923478100c144-all.js\"},{\"name\":null,\"type\":\"css\",\"url\":\"\\/assetserver\\/255cc2d911924b0ffa0f74016aac5f640f90a396-style.css\"},{\"name\":null,\"type\":\"css\",\"url\":\"\\/assetserver\\/66a9780e4509d09169a66d890937410d69e4da42-main.css\"}],\"type\":\"async_block\"},\"id\":\"knockout-component-357cabbd-89fe-4f9b-9166-4c2fd4599e49\",\"handlers\":{\"formatted_vals\":[\"(function (val){return (val!=this.model[\\\"formatted_vals\\\"]()) ? (this.valueFromJulia[\\\"formatted_vals\\\"]=true, this.model[\\\"formatted_vals\\\"](val)) : undefined})\"],\"_promises\":{\"importsLoaded\":[\"function (ko, koPunches) {\\n    ko.punches.enableAll();\\n    ko.bindingHandlers.numericValue = {\\n        init : function(element, valueAccessor, allBindings, data, context) {\\n            var stringified = ko.observable(ko.unwrap(valueAccessor()));\\n            stringified.subscribe(function(value) {\\n                var val = parseFloat(value);\\n                if (!isNaN(val)) {\\n                    valueAccessor()(val);\\n                }\\n            })\\n            valueAccessor().subscribe(function(value) {\\n                var str = JSON.stringify(value);\\n                if ((str == \\\"0\\\") && ([\\\"-0\\\", \\\"-0.\\\"].indexOf(stringified()) >= 0))\\n                     return;\\n                 if ([\\\"null\\\", \\\"\\\"].indexOf(str) >= 0)\\n                     return;\\n                stringified(str);\\n            })\\n            ko.applyBindingsToNode(element, { value: stringified, valueUpdate: allBindings.get('valueUpdate')}, context);\\n        }\\n    };\\n    var json_data = JSON.parse(\\\"{\\\\\\\"formatted_vals\\\\\\\":[\\\\\\\"0.1\\\\\\\",\\\\\\\"0.2\\\\\\\",\\\\\\\"0.3\\\\\\\",\\\\\\\"0.4\\\\\\\",\\\\\\\"0.5\\\\\\\",\\\\\\\"0.6\\\\\\\",\\\\\\\"0.7\\\\\\\",\\\\\\\"0.8\\\\\\\",\\\\\\\"0.9\\\\\\\",\\\\\\\"1.0\\\\\\\",\\\\\\\"1.1\\\\\\\",\\\\\\\"1.2\\\\\\\",\\\\\\\"1.3\\\\\\\",\\\\\\\"1.4\\\\\\\",\\\\\\\"1.5\\\\\\\",\\\\\\\"1.6\\\\\\\",\\\\\\\"1.7\\\\\\\",\\\\\\\"1.8\\\\\\\",\\\\\\\"1.9\\\\\\\",\\\\\\\"2.0\\\\\\\",\\\\\\\"2.1\\\\\\\",\\\\\\\"2.2\\\\\\\",\\\\\\\"2.3\\\\\\\",\\\\\\\"2.4\\\\\\\",\\\\\\\"2.5\\\\\\\",\\\\\\\"2.6\\\\\\\",\\\\\\\"2.7\\\\\\\",\\\\\\\"2.8\\\\\\\",\\\\\\\"2.9\\\\\\\",\\\\\\\"3.0\\\\\\\",\\\\\\\"3.1\\\\\\\",\\\\\\\"3.2\\\\\\\",\\\\\\\"3.3\\\\\\\",\\\\\\\"3.4\\\\\\\",\\\\\\\"3.5\\\\\\\",\\\\\\\"3.6\\\\\\\",\\\\\\\"3.7\\\\\\\",\\\\\\\"3.8\\\\\\\",\\\\\\\"3.9\\\\\\\",\\\\\\\"4.0\\\\\\\",\\\\\\\"4.1\\\\\\\",\\\\\\\"4.2\\\\\\\",\\\\\\\"4.3\\\\\\\",\\\\\\\"4.4\\\\\\\",\\\\\\\"4.5\\\\\\\",\\\\\\\"4.6\\\\\\\",\\\\\\\"4.7\\\\\\\",\\\\\\\"4.8\\\\\\\",\\\\\\\"4.9\\\\\\\",\\\\\\\"5.0\\\\\\\",\\\\\\\"5.1\\\\\\\",\\\\\\\"5.2\\\\\\\",\\\\\\\"5.3\\\\\\\",\\\\\\\"5.4\\\\\\\",\\\\\\\"5.5\\\\\\\",\\\\\\\"5.6\\\\\\\",\\\\\\\"5.7\\\\\\\",\\\\\\\"5.8\\\\\\\",\\\\\\\"5.9\\\\\\\",\\\\\\\"6.0\\\\\\\",\\\\\\\"6.1\\\\\\\",\\\\\\\"6.2\\\\\\\",\\\\\\\"6.3\\\\\\\",\\\\\\\"6.4\\\\\\\",\\\\\\\"6.5\\\\\\\",\\\\\\\"6.6\\\\\\\",\\\\\\\"6.7\\\\\\\",\\\\\\\"6.8\\\\\\\",\\\\\\\"6.9\\\\\\\",\\\\\\\"7.0\\\\\\\",\\\\\\\"7.1\\\\\\\",\\\\\\\"7.2\\\\\\\",\\\\\\\"7.3\\\\\\\",\\\\\\\"7.4\\\\\\\",\\\\\\\"7.5\\\\\\\",\\\\\\\"7.6\\\\\\\",\\\\\\\"7.7\\\\\\\",\\\\\\\"7.8\\\\\\\",\\\\\\\"7.9\\\\\\\",\\\\\\\"8.0\\\\\\\",\\\\\\\"8.1\\\\\\\",\\\\\\\"8.2\\\\\\\",\\\\\\\"8.3\\\\\\\",\\\\\\\"8.4\\\\\\\",\\\\\\\"8.5\\\\\\\",\\\\\\\"8.6\\\\\\\",\\\\\\\"8.7\\\\\\\",\\\\\\\"8.8\\\\\\\",\\\\\\\"8.9\\\\\\\",\\\\\\\"9.0\\\\\\\",\\\\\\\"9.1\\\\\\\",\\\\\\\"9.2\\\\\\\",\\\\\\\"9.3\\\\\\\",\\\\\\\"9.4\\\\\\\",\\\\\\\"9.5\\\\\\\",\\\\\\\"9.6\\\\\\\",\\\\\\\"9.7\\\\\\\",\\\\\\\"9.8\\\\\\\",\\\\\\\"9.9\\\\\\\",\\\\\\\"10.0\\\\\\\"],\\\\\\\"changes\\\\\\\":0,\\\\\\\"formatted_value\\\\\\\":\\\\\\\"5.0\\\\\\\",\\\\\\\"index\\\\\\\":50}\\\");\\n    var self = this;\\n    function AppViewModel() {\\n        for (var key in json_data) {\\n            var el = json_data[key];\\n            this[key] = Array.isArray(el) ? ko.observableArray(el) : ko.observable(el);\\n        }\\n        \\n        \\n        [this[\\\"formatted_vals\\\"].subscribe((function (val){!(this.valueFromJulia[\\\"formatted_vals\\\"]) ? (_webIOScope.setObservableValue({\\\"name\\\":\\\"formatted_vals\\\",\\\"scope\\\":\\\"knockout-component-357cabbd-89fe-4f9b-9166-4c2fd4599e49\\\",\\\"id\\\":\\\"ob_27\\\",\\\"type\\\":\\\"observable\\\"},val)) : undefined; return this.valueFromJulia[\\\"formatted_vals\\\"]=false}),self),this[\\\"changes\\\"].subscribe((function (val){!(this.valueFromJulia[\\\"changes\\\"]) ? (_webIOScope.setObservableValue({\\\"name\\\":\\\"changes\\\",\\\"scope\\\":\\\"knockout-component-357cabbd-89fe-4f9b-9166-4c2fd4599e49\\\",\\\"id\\\":\\\"ob_29\\\",\\\"type\\\":\\\"observable\\\"},val)) : undefined; return this.valueFromJulia[\\\"changes\\\"]=false}),self),this[\\\"formatted_value\\\"].subscribe((function (val){!(this.valueFromJulia[\\\"formatted_value\\\"]) ? (_webIOScope.setObservableValue({\\\"name\\\":\\\"formatted_value\\\",\\\"scope\\\":\\\"knockout-component-357cabbd-89fe-4f9b-9166-4c2fd4599e49\\\",\\\"id\\\":\\\"ob_28\\\",\\\"type\\\":\\\"observable\\\"},val)) : undefined; return this.valueFromJulia[\\\"formatted_value\\\"]=false}),self),this[\\\"index\\\"].subscribe((function (val){!(this.valueFromJulia[\\\"index\\\"]) ? (_webIOScope.setObservableValue({\\\"name\\\":\\\"index\\\",\\\"scope\\\":\\\"knockout-component-357cabbd-89fe-4f9b-9166-4c2fd4599e49\\\",\\\"id\\\":\\\"ob_26\\\",\\\"type\\\":\\\"observable\\\"},val)) : undefined; return this.valueFromJulia[\\\"index\\\"]=false}),self)]\\n        \\n    }\\n    self.model = new AppViewModel();\\n    self.valueFromJulia = {};\\n    for (var key in json_data) {\\n        self.valueFromJulia[key] = false;\\n    }\\n    ko.applyBindings(self.model, self.dom);\\n}\\n\"]},\"changes\":[\"(function (val){return (val!=this.model[\\\"changes\\\"]()) ? (this.valueFromJulia[\\\"changes\\\"]=true, this.model[\\\"changes\\\"](val)) : undefined})\"],\"formatted_value\":[\"(function (val){return (val!=this.model[\\\"formatted_value\\\"]()) ? (this.valueFromJulia[\\\"formatted_value\\\"]=true, this.model[\\\"formatted_value\\\"](val)) : undefined})\"],\"index\":[\"(function (val){return (val!=this.model[\\\"index\\\"]()) ? (this.valueFromJulia[\\\"index\\\"]=true, this.model[\\\"index\\\"](val)) : undefined})\",\"(function (val){return _webIOScope.setObservableValue({\\\"name\\\":\\\"formatted_value\\\",\\\"scope\\\":\\\"knockout-component-357cabbd-89fe-4f9b-9166-4c2fd4599e49\\\",\\\"id\\\":\\\"ob_28\\\",\\\"type\\\":\\\"observable\\\"},_webIOScope.getObservableValue({\\\"name\\\":\\\"formatted_vals\\\",\\\"scope\\\":\\\"knockout-component-357cabbd-89fe-4f9b-9166-4c2fd4599e49\\\",\\\"id\\\":\\\"ob_27\\\",\\\"type\\\":\\\"observable\\\"})[(_webIOScope.getObservableValue({\\\"name\\\":\\\"index\\\",\\\"scope\\\":\\\"knockout-component-357cabbd-89fe-4f9b-9166-4c2fd4599e49\\\",\\\"id\\\":\\\"ob_26\\\",\\\"type\\\":\\\"observable\\\"})-1)])})\"]},\"systemjs_options\":null,\"observables\":{\"formatted_vals\":{\"sync\":false,\"id\":\"ob_27\",\"value\":[\"0.1\",\"0.2\",\"0.3\",\"0.4\",\"0.5\",\"0.6\",\"0.7\",\"0.8\",\"0.9\",\"1.0\",\"1.1\",\"1.2\",\"1.3\",\"1.4\",\"1.5\",\"1.6\",\"1.7\",\"1.8\",\"1.9\",\"2.0\",\"2.1\",\"2.2\",\"2.3\",\"2.4\",\"2.5\",\"2.6\",\"2.7\",\"2.8\",\"2.9\",\"3.0\",\"3.1\",\"3.2\",\"3.3\",\"3.4\",\"3.5\",\"3.6\",\"3.7\",\"3.8\",\"3.9\",\"4.0\",\"4.1\",\"4.2\",\"4.3\",\"4.4\",\"4.5\",\"4.6\",\"4.7\",\"4.8\",\"4.9\",\"5.0\",\"5.1\",\"5.2\",\"5.3\",\"5.4\",\"5.5\",\"5.6\",\"5.7\",\"5.8\",\"5.9\",\"6.0\",\"6.1\",\"6.2\",\"6.3\",\"6.4\",\"6.5\",\"6.6\",\"6.7\",\"6.8\",\"6.9\",\"7.0\",\"7.1\",\"7.2\",\"7.3\",\"7.4\",\"7.5\",\"7.6\",\"7.7\",\"7.8\",\"7.9\",\"8.0\",\"8.1\",\"8.2\",\"8.3\",\"8.4\",\"8.5\",\"8.6\",\"8.7\",\"8.8\",\"8.9\",\"9.0\",\"9.1\",\"9.2\",\"9.3\",\"9.4\",\"9.5\",\"9.6\",\"9.7\",\"9.8\",\"9.9\",\"10.0\"]},\"changes\":{\"sync\":false,\"id\":\"ob_29\",\"value\":0},\"formatted_value\":{\"sync\":false,\"id\":\"ob_28\",\"value\":\"5.0\"},\"index\":{\"sync\":true,\"id\":\"ob_26\",\"value\":50}}},\"children\":[{\"props\":{\"attributes\":{\"style\":\"display:flex; justify-content:center; align-items:center;\"}},\"nodeType\":\"DOM\",\"type\":\"node\",\"instanceArgs\":{\"namespace\":\"html\",\"tag\":\"div\"},\"children\":[{\"props\":{\"attributes\":{\"style\":\"text-align:right;width:18%\"}},\"nodeType\":\"DOM\",\"type\":\"node\",\"instanceArgs\":{\"namespace\":\"html\",\"tag\":\"div\"},\"children\":[{\"props\":{\"className\":\"interact \",\"style\":{\"padding\":\"5px 10px 0px 10px\"}},\"nodeType\":\"DOM\",\"type\":\"node\",\"instanceArgs\":{\"namespace\":\"html\",\"tag\":\"label\"},\"children\":[\"Y₃\"]}]},{\"props\":{\"attributes\":{\"style\":\"flex-grow:1; margin: 0 2%\"}},\"nodeType\":\"DOM\",\"type\":\"node\",\"instanceArgs\":{\"namespace\":\"html\",\"tag\":\"div\"},\"children\":[{\"props\":{\"max\":100,\"min\":1,\"attributes\":{\"type\":\"range\",\"data-bind\":\"numericValue: index, valueUpdate: 'input', event: {change : function () {this.changes(this.changes()+1)}}\",\"orient\":\"horizontal\"},\"step\":1,\"className\":\"slider slider is-fullwidth\",\"style\":{}},\"nodeType\":\"DOM\",\"type\":\"node\",\"instanceArgs\":{\"namespace\":\"html\",\"tag\":\"input\"},\"children\":[]}]},{\"props\":{\"attributes\":{\"style\":\"width:18%\"}},\"nodeType\":\"DOM\",\"type\":\"node\",\"instanceArgs\":{\"namespace\":\"html\",\"tag\":\"div\"},\"children\":[{\"props\":{\"attributes\":{\"data-bind\":\"text: formatted_value\"}},\"nodeType\":\"DOM\",\"type\":\"node\",\"instanceArgs\":{\"namespace\":\"html\",\"tag\":\"p\"},\"children\":[]}]}]}]}]},{\"props\":{\"className\":\"field\"},\"nodeType\":\"DOM\",\"type\":\"node\",\"instanceArgs\":{\"namespace\":\"html\",\"tag\":\"div\"},\"children\":[{\"props\":{},\"nodeType\":\"Scope\",\"type\":\"node\",\"instanceArgs\":{\"imports\":{\"data\":[{\"name\":\"knockout\",\"type\":\"js\",\"url\":\"\\/assetserver\\/429ea4842967203db7a2e10862642c116542d0e4-knockout.js\"},{\"name\":\"knockout_punches\",\"type\":\"js\",\"url\":\"\\/assetserver\\/9998dbb29ca780269e6886a8c8c4b78bb9a73c26-knockout_punches.js\"},{\"name\":null,\"type\":\"js\",\"url\":\"\\/assetserver\\/6ee7ce3a8d8fbffe6a5785768ec923478100c144-all.js\"},{\"name\":null,\"type\":\"css\",\"url\":\"\\/assetserver\\/255cc2d911924b0ffa0f74016aac5f640f90a396-style.css\"},{\"name\":null,\"type\":\"css\",\"url\":\"\\/assetserver\\/66a9780e4509d09169a66d890937410d69e4da42-main.css\"}],\"type\":\"async_block\"},\"id\":\"knockout-component-70a9c1c0-2a3e-435f-bea7-89ddfc755348\",\"handlers\":{\"formatted_vals\":[\"(function (val){return (val!=this.model[\\\"formatted_vals\\\"]()) ? (this.valueFromJulia[\\\"formatted_vals\\\"]=true, this.model[\\\"formatted_vals\\\"](val)) : undefined})\"],\"_promises\":{\"importsLoaded\":[\"function (ko, koPunches) {\\n    ko.punches.enableAll();\\n    ko.bindingHandlers.numericValue = {\\n        init : function(element, valueAccessor, allBindings, data, context) {\\n            var stringified = ko.observable(ko.unwrap(valueAccessor()));\\n            stringified.subscribe(function(value) {\\n                var val = parseFloat(value);\\n                if (!isNaN(val)) {\\n                    valueAccessor()(val);\\n                }\\n            })\\n            valueAccessor().subscribe(function(value) {\\n                var str = JSON.stringify(value);\\n                if ((str == \\\"0\\\") && ([\\\"-0\\\", \\\"-0.\\\"].indexOf(stringified()) >= 0))\\n                     return;\\n                 if ([\\\"null\\\", \\\"\\\"].indexOf(str) >= 0)\\n                     return;\\n                stringified(str);\\n            })\\n            ko.applyBindingsToNode(element, { value: stringified, valueUpdate: allBindings.get('valueUpdate')}, context);\\n        }\\n    };\\n    var json_data = JSON.parse(\\\"{\\\\\\\"formatted_vals\\\\\\\":[\\\\\\\"0.1\\\\\\\",\\\\\\\"0.2\\\\\\\",\\\\\\\"0.3\\\\\\\",\\\\\\\"0.4\\\\\\\",\\\\\\\"0.5\\\\\\\",\\\\\\\"0.6\\\\\\\",\\\\\\\"0.7\\\\\\\",\\\\\\\"0.8\\\\\\\",\\\\\\\"0.9\\\\\\\",\\\\\\\"1.0\\\\\\\",\\\\\\\"1.1\\\\\\\",\\\\\\\"1.2\\\\\\\",\\\\\\\"1.3\\\\\\\",\\\\\\\"1.4\\\\\\\",\\\\\\\"1.5\\\\\\\",\\\\\\\"1.6\\\\\\\",\\\\\\\"1.7\\\\\\\",\\\\\\\"1.8\\\\\\\",\\\\\\\"1.9\\\\\\\",\\\\\\\"2.0\\\\\\\",\\\\\\\"2.1\\\\\\\",\\\\\\\"2.2\\\\\\\",\\\\\\\"2.3\\\\\\\",\\\\\\\"2.4\\\\\\\",\\\\\\\"2.5\\\\\\\",\\\\\\\"2.6\\\\\\\",\\\\\\\"2.7\\\\\\\",\\\\\\\"2.8\\\\\\\",\\\\\\\"2.9\\\\\\\",\\\\\\\"3.0\\\\\\\",\\\\\\\"3.1\\\\\\\",\\\\\\\"3.2\\\\\\\",\\\\\\\"3.3\\\\\\\",\\\\\\\"3.4\\\\\\\",\\\\\\\"3.5\\\\\\\",\\\\\\\"3.6\\\\\\\",\\\\\\\"3.7\\\\\\\",\\\\\\\"3.8\\\\\\\",\\\\\\\"3.9\\\\\\\",\\\\\\\"4.0\\\\\\\",\\\\\\\"4.1\\\\\\\",\\\\\\\"4.2\\\\\\\",\\\\\\\"4.3\\\\\\\",\\\\\\\"4.4\\\\\\\",\\\\\\\"4.5\\\\\\\",\\\\\\\"4.6\\\\\\\",\\\\\\\"4.7\\\\\\\",\\\\\\\"4.8\\\\\\\",\\\\\\\"4.9\\\\\\\",\\\\\\\"5.0\\\\\\\",\\\\\\\"5.1\\\\\\\",\\\\\\\"5.2\\\\\\\",\\\\\\\"5.3\\\\\\\",\\\\\\\"5.4\\\\\\\",\\\\\\\"5.5\\\\\\\",\\\\\\\"5.6\\\\\\\",\\\\\\\"5.7\\\\\\\",\\\\\\\"5.8\\\\\\\",\\\\\\\"5.9\\\\\\\",\\\\\\\"6.0\\\\\\\",\\\\\\\"6.1\\\\\\\",\\\\\\\"6.2\\\\\\\",\\\\\\\"6.3\\\\\\\",\\\\\\\"6.4\\\\\\\",\\\\\\\"6.5\\\\\\\",\\\\\\\"6.6\\\\\\\",\\\\\\\"6.7\\\\\\\",\\\\\\\"6.8\\\\\\\",\\\\\\\"6.9\\\\\\\",\\\\\\\"7.0\\\\\\\",\\\\\\\"7.1\\\\\\\",\\\\\\\"7.2\\\\\\\",\\\\\\\"7.3\\\\\\\",\\\\\\\"7.4\\\\\\\",\\\\\\\"7.5\\\\\\\",\\\\\\\"7.6\\\\\\\",\\\\\\\"7.7\\\\\\\",\\\\\\\"7.8\\\\\\\",\\\\\\\"7.9\\\\\\\",\\\\\\\"8.0\\\\\\\",\\\\\\\"8.1\\\\\\\",\\\\\\\"8.2\\\\\\\",\\\\\\\"8.3\\\\\\\",\\\\\\\"8.4\\\\\\\",\\\\\\\"8.5\\\\\\\",\\\\\\\"8.6\\\\\\\",\\\\\\\"8.7\\\\\\\",\\\\\\\"8.8\\\\\\\",\\\\\\\"8.9\\\\\\\",\\\\\\\"9.0\\\\\\\",\\\\\\\"9.1\\\\\\\",\\\\\\\"9.2\\\\\\\",\\\\\\\"9.3\\\\\\\",\\\\\\\"9.4\\\\\\\",\\\\\\\"9.5\\\\\\\",\\\\\\\"9.6\\\\\\\",\\\\\\\"9.7\\\\\\\",\\\\\\\"9.8\\\\\\\",\\\\\\\"9.9\\\\\\\",\\\\\\\"10.0\\\\\\\"],\\\\\\\"changes\\\\\\\":0,\\\\\\\"formatted_value\\\\\\\":\\\\\\\"5.0\\\\\\\",\\\\\\\"index\\\\\\\":50}\\\");\\n    var self = this;\\n    function AppViewModel() {\\n        for (var key in json_data) {\\n            var el = json_data[key];\\n            this[key] = Array.isArray(el) ? ko.observableArray(el) : ko.observable(el);\\n        }\\n        \\n        \\n        [this[\\\"formatted_vals\\\"].subscribe((function (val){!(this.valueFromJulia[\\\"formatted_vals\\\"]) ? (_webIOScope.setObservableValue({\\\"name\\\":\\\"formatted_vals\\\",\\\"scope\\\":\\\"knockout-component-70a9c1c0-2a3e-435f-bea7-89ddfc755348\\\",\\\"id\\\":\\\"ob_32\\\",\\\"type\\\":\\\"observable\\\"},val)) : undefined; return this.valueFromJulia[\\\"formatted_vals\\\"]=false}),self),this[\\\"changes\\\"].subscribe((function (val){!(this.valueFromJulia[\\\"changes\\\"]) ? (_webIOScope.setObservableValue({\\\"name\\\":\\\"changes\\\",\\\"scope\\\":\\\"knockout-component-70a9c1c0-2a3e-435f-bea7-89ddfc755348\\\",\\\"id\\\":\\\"ob_34\\\",\\\"type\\\":\\\"observable\\\"},val)) : undefined; return this.valueFromJulia[\\\"changes\\\"]=false}),self),this[\\\"formatted_value\\\"].subscribe((function (val){!(this.valueFromJulia[\\\"formatted_value\\\"]) ? (_webIOScope.setObservableValue({\\\"name\\\":\\\"formatted_value\\\",\\\"scope\\\":\\\"knockout-component-70a9c1c0-2a3e-435f-bea7-89ddfc755348\\\",\\\"id\\\":\\\"ob_33\\\",\\\"type\\\":\\\"observable\\\"},val)) : undefined; return this.valueFromJulia[\\\"formatted_value\\\"]=false}),self),this[\\\"index\\\"].subscribe((function (val){!(this.valueFromJulia[\\\"index\\\"]) ? (_webIOScope.setObservableValue({\\\"name\\\":\\\"index\\\",\\\"scope\\\":\\\"knockout-component-70a9c1c0-2a3e-435f-bea7-89ddfc755348\\\",\\\"id\\\":\\\"ob_31\\\",\\\"type\\\":\\\"observable\\\"},val)) : undefined; return this.valueFromJulia[\\\"index\\\"]=false}),self)]\\n        \\n    }\\n    self.model = new AppViewModel();\\n    self.valueFromJulia = {};\\n    for (var key in json_data) {\\n        self.valueFromJulia[key] = false;\\n    }\\n    ko.applyBindings(self.model, self.dom);\\n}\\n\"]},\"changes\":[\"(function (val){return (val!=this.model[\\\"changes\\\"]()) ? (this.valueFromJulia[\\\"changes\\\"]=true, this.model[\\\"changes\\\"](val)) : undefined})\"],\"formatted_value\":[\"(function (val){return (val!=this.model[\\\"formatted_value\\\"]()) ? (this.valueFromJulia[\\\"formatted_value\\\"]=true, this.model[\\\"formatted_value\\\"](val)) : undefined})\"],\"index\":[\"(function (val){return (val!=this.model[\\\"index\\\"]()) ? (this.valueFromJulia[\\\"index\\\"]=true, this.model[\\\"index\\\"](val)) : undefined})\",\"(function (val){return _webIOScope.setObservableValue({\\\"name\\\":\\\"formatted_value\\\",\\\"scope\\\":\\\"knockout-component-70a9c1c0-2a3e-435f-bea7-89ddfc755348\\\",\\\"id\\\":\\\"ob_33\\\",\\\"type\\\":\\\"observable\\\"},_webIOScope.getObservableValue({\\\"name\\\":\\\"formatted_vals\\\",\\\"scope\\\":\\\"knockout-component-70a9c1c0-2a3e-435f-bea7-89ddfc755348\\\",\\\"id\\\":\\\"ob_32\\\",\\\"type\\\":\\\"observable\\\"})[(_webIOScope.getObservableValue({\\\"name\\\":\\\"index\\\",\\\"scope\\\":\\\"knockout-component-70a9c1c0-2a3e-435f-bea7-89ddfc755348\\\",\\\"id\\\":\\\"ob_31\\\",\\\"type\\\":\\\"observable\\\"})-1)])})\"]},\"systemjs_options\":null,\"observables\":{\"formatted_vals\":{\"sync\":false,\"id\":\"ob_32\",\"value\":[\"0.1\",\"0.2\",\"0.3\",\"0.4\",\"0.5\",\"0.6\",\"0.7\",\"0.8\",\"0.9\",\"1.0\",\"1.1\",\"1.2\",\"1.3\",\"1.4\",\"1.5\",\"1.6\",\"1.7\",\"1.8\",\"1.9\",\"2.0\",\"2.1\",\"2.2\",\"2.3\",\"2.4\",\"2.5\",\"2.6\",\"2.7\",\"2.8\",\"2.9\",\"3.0\",\"3.1\",\"3.2\",\"3.3\",\"3.4\",\"3.5\",\"3.6\",\"3.7\",\"3.8\",\"3.9\",\"4.0\",\"4.1\",\"4.2\",\"4.3\",\"4.4\",\"4.5\",\"4.6\",\"4.7\",\"4.8\",\"4.9\",\"5.0\",\"5.1\",\"5.2\",\"5.3\",\"5.4\",\"5.5\",\"5.6\",\"5.7\",\"5.8\",\"5.9\",\"6.0\",\"6.1\",\"6.2\",\"6.3\",\"6.4\",\"6.5\",\"6.6\",\"6.7\",\"6.8\",\"6.9\",\"7.0\",\"7.1\",\"7.2\",\"7.3\",\"7.4\",\"7.5\",\"7.6\",\"7.7\",\"7.8\",\"7.9\",\"8.0\",\"8.1\",\"8.2\",\"8.3\",\"8.4\",\"8.5\",\"8.6\",\"8.7\",\"8.8\",\"8.9\",\"9.0\",\"9.1\",\"9.2\",\"9.3\",\"9.4\",\"9.5\",\"9.6\",\"9.7\",\"9.8\",\"9.9\",\"10.0\"]},\"changes\":{\"sync\":false,\"id\":\"ob_34\",\"value\":0},\"formatted_value\":{\"sync\":false,\"id\":\"ob_33\",\"value\":\"5.0\"},\"index\":{\"sync\":true,\"id\":\"ob_31\",\"value\":50}}},\"children\":[{\"props\":{\"attributes\":{\"style\":\"display:flex; justify-content:center; align-items:center;\"}},\"nodeType\":\"DOM\",\"type\":\"node\",\"instanceArgs\":{\"namespace\":\"html\",\"tag\":\"div\"},\"children\":[{\"props\":{\"attributes\":{\"style\":\"text-align:right;width:18%\"}},\"nodeType\":\"DOM\",\"type\":\"node\",\"instanceArgs\":{\"namespace\":\"html\",\"tag\":\"div\"},\"children\":[{\"props\":{\"className\":\"interact \",\"style\":{\"padding\":\"5px 10px 0px 10px\"}},\"nodeType\":\"DOM\",\"type\":\"node\",\"instanceArgs\":{\"namespace\":\"html\",\"tag\":\"label\"},\"children\":[\"Y₄\"]}]},{\"props\":{\"attributes\":{\"style\":\"flex-grow:1; margin: 0 2%\"}},\"nodeType\":\"DOM\",\"type\":\"node\",\"instanceArgs\":{\"namespace\":\"html\",\"tag\":\"div\"},\"children\":[{\"props\":{\"max\":100,\"min\":1,\"attributes\":{\"type\":\"range\",\"data-bind\":\"numericValue: index, valueUpdate: 'input', event: {change : function () {this.changes(this.changes()+1)}}\",\"orient\":\"horizontal\"},\"step\":1,\"className\":\"slider slider is-fullwidth\",\"style\":{}},\"nodeType\":\"DOM\",\"type\":\"node\",\"instanceArgs\":{\"namespace\":\"html\",\"tag\":\"input\"},\"children\":[]}]},{\"props\":{\"attributes\":{\"style\":\"width:18%\"}},\"nodeType\":\"DOM\",\"type\":\"node\",\"instanceArgs\":{\"namespace\":\"html\",\"tag\":\"div\"},\"children\":[{\"props\":{\"attributes\":{\"data-bind\":\"text: formatted_value\"}},\"nodeType\":\"DOM\",\"type\":\"node\",\"instanceArgs\":{\"namespace\":\"html\",\"tag\":\"p\"},\"children\":[]}]}]}]}]},{\"props\":{\"className\":\"field\"},\"nodeType\":\"DOM\",\"type\":\"node\",\"instanceArgs\":{\"namespace\":\"html\",\"tag\":\"div\"},\"children\":[{\"props\":{},\"nodeType\":\"Scope\",\"type\":\"node\",\"instanceArgs\":{\"imports\":{\"data\":[{\"name\":\"knockout\",\"type\":\"js\",\"url\":\"\\/assetserver\\/429ea4842967203db7a2e10862642c116542d0e4-knockout.js\"},{\"name\":\"knockout_punches\",\"type\":\"js\",\"url\":\"\\/assetserver\\/9998dbb29ca780269e6886a8c8c4b78bb9a73c26-knockout_punches.js\"},{\"name\":null,\"type\":\"js\",\"url\":\"\\/assetserver\\/6ee7ce3a8d8fbffe6a5785768ec923478100c144-all.js\"},{\"name\":null,\"type\":\"css\",\"url\":\"\\/assetserver\\/255cc2d911924b0ffa0f74016aac5f640f90a396-style.css\"},{\"name\":null,\"type\":\"css\",\"url\":\"\\/assetserver\\/66a9780e4509d09169a66d890937410d69e4da42-main.css\"}],\"type\":\"async_block\"},\"id\":\"knockout-component-6c9c0868-bb9e-4e26-9a7a-857b4f61a1ce\",\"handlers\":{\"formatted_vals\":[\"(function (val){return (val!=this.model[\\\"formatted_vals\\\"]()) ? (this.valueFromJulia[\\\"formatted_vals\\\"]=true, this.model[\\\"formatted_vals\\\"](val)) : undefined})\"],\"_promises\":{\"importsLoaded\":[\"function (ko, koPunches) {\\n    ko.punches.enableAll();\\n    ko.bindingHandlers.numericValue = {\\n        init : function(element, valueAccessor, allBindings, data, context) {\\n            var stringified = ko.observable(ko.unwrap(valueAccessor()));\\n            stringified.subscribe(function(value) {\\n                var val = parseFloat(value);\\n                if (!isNaN(val)) {\\n                    valueAccessor()(val);\\n                }\\n            })\\n            valueAccessor().subscribe(function(value) {\\n                var str = JSON.stringify(value);\\n                if ((str == \\\"0\\\") && ([\\\"-0\\\", \\\"-0.\\\"].indexOf(stringified()) >= 0))\\n                     return;\\n                 if ([\\\"null\\\", \\\"\\\"].indexOf(str) >= 0)\\n                     return;\\n                stringified(str);\\n            })\\n            ko.applyBindingsToNode(element, { value: stringified, valueUpdate: allBindings.get('valueUpdate')}, context);\\n        }\\n    };\\n    var json_data = JSON.parse(\\\"{\\\\\\\"formatted_vals\\\\\\\":[\\\\\\\"0.1\\\\\\\",\\\\\\\"0.2\\\\\\\",\\\\\\\"0.3\\\\\\\",\\\\\\\"0.4\\\\\\\",\\\\\\\"0.5\\\\\\\",\\\\\\\"0.6\\\\\\\",\\\\\\\"0.7\\\\\\\",\\\\\\\"0.8\\\\\\\",\\\\\\\"0.9\\\\\\\",\\\\\\\"1.0\\\\\\\",\\\\\\\"1.1\\\\\\\",\\\\\\\"1.2\\\\\\\",\\\\\\\"1.3\\\\\\\",\\\\\\\"1.4\\\\\\\",\\\\\\\"1.5\\\\\\\",\\\\\\\"1.6\\\\\\\",\\\\\\\"1.7\\\\\\\",\\\\\\\"1.8\\\\\\\",\\\\\\\"1.9\\\\\\\",\\\\\\\"2.0\\\\\\\",\\\\\\\"2.1\\\\\\\",\\\\\\\"2.2\\\\\\\",\\\\\\\"2.3\\\\\\\",\\\\\\\"2.4\\\\\\\",\\\\\\\"2.5\\\\\\\",\\\\\\\"2.6\\\\\\\",\\\\\\\"2.7\\\\\\\",\\\\\\\"2.8\\\\\\\",\\\\\\\"2.9\\\\\\\",\\\\\\\"3.0\\\\\\\",\\\\\\\"3.1\\\\\\\",\\\\\\\"3.2\\\\\\\",\\\\\\\"3.3\\\\\\\",\\\\\\\"3.4\\\\\\\",\\\\\\\"3.5\\\\\\\",\\\\\\\"3.6\\\\\\\",\\\\\\\"3.7\\\\\\\",\\\\\\\"3.8\\\\\\\",\\\\\\\"3.9\\\\\\\",\\\\\\\"4.0\\\\\\\",\\\\\\\"4.1\\\\\\\",\\\\\\\"4.2\\\\\\\",\\\\\\\"4.3\\\\\\\",\\\\\\\"4.4\\\\\\\",\\\\\\\"4.5\\\\\\\",\\\\\\\"4.6\\\\\\\",\\\\\\\"4.7\\\\\\\",\\\\\\\"4.8\\\\\\\",\\\\\\\"4.9\\\\\\\",\\\\\\\"5.0\\\\\\\",\\\\\\\"5.1\\\\\\\",\\\\\\\"5.2\\\\\\\",\\\\\\\"5.3\\\\\\\",\\\\\\\"5.4\\\\\\\",\\\\\\\"5.5\\\\\\\",\\\\\\\"5.6\\\\\\\",\\\\\\\"5.7\\\\\\\",\\\\\\\"5.8\\\\\\\",\\\\\\\"5.9\\\\\\\",\\\\\\\"6.0\\\\\\\",\\\\\\\"6.1\\\\\\\",\\\\\\\"6.2\\\\\\\",\\\\\\\"6.3\\\\\\\",\\\\\\\"6.4\\\\\\\",\\\\\\\"6.5\\\\\\\",\\\\\\\"6.6\\\\\\\",\\\\\\\"6.7\\\\\\\",\\\\\\\"6.8\\\\\\\",\\\\\\\"6.9\\\\\\\",\\\\\\\"7.0\\\\\\\",\\\\\\\"7.1\\\\\\\",\\\\\\\"7.2\\\\\\\",\\\\\\\"7.3\\\\\\\",\\\\\\\"7.4\\\\\\\",\\\\\\\"7.5\\\\\\\",\\\\\\\"7.6\\\\\\\",\\\\\\\"7.7\\\\\\\",\\\\\\\"7.8\\\\\\\",\\\\\\\"7.9\\\\\\\",\\\\\\\"8.0\\\\\\\",\\\\\\\"8.1\\\\\\\",\\\\\\\"8.2\\\\\\\",\\\\\\\"8.3\\\\\\\",\\\\\\\"8.4\\\\\\\",\\\\\\\"8.5\\\\\\\",\\\\\\\"8.6\\\\\\\",\\\\\\\"8.7\\\\\\\",\\\\\\\"8.8\\\\\\\",\\\\\\\"8.9\\\\\\\",\\\\\\\"9.0\\\\\\\",\\\\\\\"9.1\\\\\\\",\\\\\\\"9.2\\\\\\\",\\\\\\\"9.3\\\\\\\",\\\\\\\"9.4\\\\\\\",\\\\\\\"9.5\\\\\\\",\\\\\\\"9.6\\\\\\\",\\\\\\\"9.7\\\\\\\",\\\\\\\"9.8\\\\\\\",\\\\\\\"9.9\\\\\\\",\\\\\\\"10.0\\\\\\\"],\\\\\\\"changes\\\\\\\":0,\\\\\\\"formatted_value\\\\\\\":\\\\\\\"5.0\\\\\\\",\\\\\\\"index\\\\\\\":50}\\\");\\n    var self = this;\\n    function AppViewModel() {\\n        for (var key in json_data) {\\n            var el = json_data[key];\\n            this[key] = Array.isArray(el) ? ko.observableArray(el) : ko.observable(el);\\n        }\\n        \\n        \\n        [this[\\\"formatted_vals\\\"].subscribe((function (val){!(this.valueFromJulia[\\\"formatted_vals\\\"]) ? (_webIOScope.setObservableValue({\\\"name\\\":\\\"formatted_vals\\\",\\\"scope\\\":\\\"knockout-component-6c9c0868-bb9e-4e26-9a7a-857b4f61a1ce\\\",\\\"id\\\":\\\"ob_37\\\",\\\"type\\\":\\\"observable\\\"},val)) : undefined; return this.valueFromJulia[\\\"formatted_vals\\\"]=false}),self),this[\\\"changes\\\"].subscribe((function (val){!(this.valueFromJulia[\\\"changes\\\"]) ? (_webIOScope.setObservableValue({\\\"name\\\":\\\"changes\\\",\\\"scope\\\":\\\"knockout-component-6c9c0868-bb9e-4e26-9a7a-857b4f61a1ce\\\",\\\"id\\\":\\\"ob_39\\\",\\\"type\\\":\\\"observable\\\"},val)) : undefined; return this.valueFromJulia[\\\"changes\\\"]=false}),self),this[\\\"formatted_value\\\"].subscribe((function (val){!(this.valueFromJulia[\\\"formatted_value\\\"]) ? (_webIOScope.setObservableValue({\\\"name\\\":\\\"formatted_value\\\",\\\"scope\\\":\\\"knockout-component-6c9c0868-bb9e-4e26-9a7a-857b4f61a1ce\\\",\\\"id\\\":\\\"ob_38\\\",\\\"type\\\":\\\"observable\\\"},val)) : undefined; return this.valueFromJulia[\\\"formatted_value\\\"]=false}),self),this[\\\"index\\\"].subscribe((function (val){!(this.valueFromJulia[\\\"index\\\"]) ? (_webIOScope.setObservableValue({\\\"name\\\":\\\"index\\\",\\\"scope\\\":\\\"knockout-component-6c9c0868-bb9e-4e26-9a7a-857b4f61a1ce\\\",\\\"id\\\":\\\"ob_36\\\",\\\"type\\\":\\\"observable\\\"},val)) : undefined; return this.valueFromJulia[\\\"index\\\"]=false}),self)]\\n        \\n    }\\n    self.model = new AppViewModel();\\n    self.valueFromJulia = {};\\n    for (var key in json_data) {\\n        self.valueFromJulia[key] = false;\\n    }\\n    ko.applyBindings(self.model, self.dom);\\n}\\n\"]},\"changes\":[\"(function (val){return (val!=this.model[\\\"changes\\\"]()) ? (this.valueFromJulia[\\\"changes\\\"]=true, this.model[\\\"changes\\\"](val)) : undefined})\"],\"formatted_value\":[\"(function (val){return (val!=this.model[\\\"formatted_value\\\"]()) ? (this.valueFromJulia[\\\"formatted_value\\\"]=true, this.model[\\\"formatted_value\\\"](val)) : undefined})\"],\"index\":[\"(function (val){return (val!=this.model[\\\"index\\\"]()) ? (this.valueFromJulia[\\\"index\\\"]=true, this.model[\\\"index\\\"](val)) : undefined})\",\"(function (val){return _webIOScope.setObservableValue({\\\"name\\\":\\\"formatted_value\\\",\\\"scope\\\":\\\"knockout-component-6c9c0868-bb9e-4e26-9a7a-857b4f61a1ce\\\",\\\"id\\\":\\\"ob_38\\\",\\\"type\\\":\\\"observable\\\"},_webIOScope.getObservableValue({\\\"name\\\":\\\"formatted_vals\\\",\\\"scope\\\":\\\"knockout-component-6c9c0868-bb9e-4e26-9a7a-857b4f61a1ce\\\",\\\"id\\\":\\\"ob_37\\\",\\\"type\\\":\\\"observable\\\"})[(_webIOScope.getObservableValue({\\\"name\\\":\\\"index\\\",\\\"scope\\\":\\\"knockout-component-6c9c0868-bb9e-4e26-9a7a-857b4f61a1ce\\\",\\\"id\\\":\\\"ob_36\\\",\\\"type\\\":\\\"observable\\\"})-1)])})\"]},\"systemjs_options\":null,\"observables\":{\"formatted_vals\":{\"sync\":false,\"id\":\"ob_37\",\"value\":[\"0.1\",\"0.2\",\"0.3\",\"0.4\",\"0.5\",\"0.6\",\"0.7\",\"0.8\",\"0.9\",\"1.0\",\"1.1\",\"1.2\",\"1.3\",\"1.4\",\"1.5\",\"1.6\",\"1.7\",\"1.8\",\"1.9\",\"2.0\",\"2.1\",\"2.2\",\"2.3\",\"2.4\",\"2.5\",\"2.6\",\"2.7\",\"2.8\",\"2.9\",\"3.0\",\"3.1\",\"3.2\",\"3.3\",\"3.4\",\"3.5\",\"3.6\",\"3.7\",\"3.8\",\"3.9\",\"4.0\",\"4.1\",\"4.2\",\"4.3\",\"4.4\",\"4.5\",\"4.6\",\"4.7\",\"4.8\",\"4.9\",\"5.0\",\"5.1\",\"5.2\",\"5.3\",\"5.4\",\"5.5\",\"5.6\",\"5.7\",\"5.8\",\"5.9\",\"6.0\",\"6.1\",\"6.2\",\"6.3\",\"6.4\",\"6.5\",\"6.6\",\"6.7\",\"6.8\",\"6.9\",\"7.0\",\"7.1\",\"7.2\",\"7.3\",\"7.4\",\"7.5\",\"7.6\",\"7.7\",\"7.8\",\"7.9\",\"8.0\",\"8.1\",\"8.2\",\"8.3\",\"8.4\",\"8.5\",\"8.6\",\"8.7\",\"8.8\",\"8.9\",\"9.0\",\"9.1\",\"9.2\",\"9.3\",\"9.4\",\"9.5\",\"9.6\",\"9.7\",\"9.8\",\"9.9\",\"10.0\"]},\"changes\":{\"sync\":false,\"id\":\"ob_39\",\"value\":0},\"formatted_value\":{\"sync\":false,\"id\":\"ob_38\",\"value\":\"5.0\"},\"index\":{\"sync\":true,\"id\":\"ob_36\",\"value\":50}}},\"children\":[{\"props\":{\"attributes\":{\"style\":\"display:flex; justify-content:center; align-items:center;\"}},\"nodeType\":\"DOM\",\"type\":\"node\",\"instanceArgs\":{\"namespace\":\"html\",\"tag\":\"div\"},\"children\":[{\"props\":{\"attributes\":{\"style\":\"text-align:right;width:18%\"}},\"nodeType\":\"DOM\",\"type\":\"node\",\"instanceArgs\":{\"namespace\":\"html\",\"tag\":\"div\"},\"children\":[{\"props\":{\"className\":\"interact \",\"style\":{\"padding\":\"5px 10px 0px 10px\"}},\"nodeType\":\"DOM\",\"type\":\"node\",\"instanceArgs\":{\"namespace\":\"html\",\"tag\":\"label\"},\"children\":[\"Y₅\"]}]},{\"props\":{\"attributes\":{\"style\":\"flex-grow:1; margin: 0 2%\"}},\"nodeType\":\"DOM\",\"type\":\"node\",\"instanceArgs\":{\"namespace\":\"html\",\"tag\":\"div\"},\"children\":[{\"props\":{\"max\":100,\"min\":1,\"attributes\":{\"type\":\"range\",\"data-bind\":\"numericValue: index, valueUpdate: 'input', event: {change : function () {this.changes(this.changes()+1)}}\",\"orient\":\"horizontal\"},\"step\":1,\"className\":\"slider slider is-fullwidth\",\"style\":{}},\"nodeType\":\"DOM\",\"type\":\"node\",\"instanceArgs\":{\"namespace\":\"html\",\"tag\":\"input\"},\"children\":[]}]},{\"props\":{\"attributes\":{\"style\":\"width:18%\"}},\"nodeType\":\"DOM\",\"type\":\"node\",\"instanceArgs\":{\"namespace\":\"html\",\"tag\":\"div\"},\"children\":[{\"props\":{\"attributes\":{\"data-bind\":\"text: formatted_value\"}},\"nodeType\":\"DOM\",\"type\":\"node\",\"instanceArgs\":{\"namespace\":\"html\",\"tag\":\"p\"},\"children\":[]}]}]}]}]},{\"props\":{\"className\":\"field\"},\"nodeType\":\"DOM\",\"type\":\"node\",\"instanceArgs\":{\"namespace\":\"html\",\"tag\":\"div\"},\"children\":[{\"props\":{},\"nodeType\":\"Scope\",\"type\":\"node\",\"instanceArgs\":{\"imports\":{\"data\":[{\"name\":\"knockout\",\"type\":\"js\",\"url\":\"\\/assetserver\\/429ea4842967203db7a2e10862642c116542d0e4-knockout.js\"},{\"name\":\"knockout_punches\",\"type\":\"js\",\"url\":\"\\/assetserver\\/9998dbb29ca780269e6886a8c8c4b78bb9a73c26-knockout_punches.js\"},{\"name\":null,\"type\":\"js\",\"url\":\"\\/assetserver\\/6ee7ce3a8d8fbffe6a5785768ec923478100c144-all.js\"},{\"name\":null,\"type\":\"css\",\"url\":\"\\/assetserver\\/255cc2d911924b0ffa0f74016aac5f640f90a396-style.css\"},{\"name\":null,\"type\":\"css\",\"url\":\"\\/assetserver\\/66a9780e4509d09169a66d890937410d69e4da42-main.css\"}],\"type\":\"async_block\"},\"id\":\"knockout-component-b277606f-985c-419d-b02e-511a141aa06b\",\"handlers\":{\"formatted_vals\":[\"(function (val){return (val!=this.model[\\\"formatted_vals\\\"]()) ? (this.valueFromJulia[\\\"formatted_vals\\\"]=true, this.model[\\\"formatted_vals\\\"](val)) : undefined})\"],\"_promises\":{\"importsLoaded\":[\"function (ko, koPunches) {\\n    ko.punches.enableAll();\\n    ko.bindingHandlers.numericValue = {\\n        init : function(element, valueAccessor, allBindings, data, context) {\\n            var stringified = ko.observable(ko.unwrap(valueAccessor()));\\n            stringified.subscribe(function(value) {\\n                var val = parseFloat(value);\\n                if (!isNaN(val)) {\\n                    valueAccessor()(val);\\n                }\\n            })\\n            valueAccessor().subscribe(function(value) {\\n                var str = JSON.stringify(value);\\n                if ((str == \\\"0\\\") && ([\\\"-0\\\", \\\"-0.\\\"].indexOf(stringified()) >= 0))\\n                     return;\\n                 if ([\\\"null\\\", \\\"\\\"].indexOf(str) >= 0)\\n                     return;\\n                stringified(str);\\n            })\\n            ko.applyBindingsToNode(element, { value: stringified, valueUpdate: allBindings.get('valueUpdate')}, context);\\n        }\\n    };\\n    var json_data = JSON.parse(\\\"{\\\\\\\"formatted_vals\\\\\\\":[\\\\\\\"0.1\\\\\\\",\\\\\\\"0.2\\\\\\\",\\\\\\\"0.3\\\\\\\",\\\\\\\"0.4\\\\\\\",\\\\\\\"0.5\\\\\\\",\\\\\\\"0.6\\\\\\\",\\\\\\\"0.7\\\\\\\",\\\\\\\"0.8\\\\\\\",\\\\\\\"0.9\\\\\\\",\\\\\\\"1.0\\\\\\\",\\\\\\\"1.1\\\\\\\",\\\\\\\"1.2\\\\\\\",\\\\\\\"1.3\\\\\\\",\\\\\\\"1.4\\\\\\\",\\\\\\\"1.5\\\\\\\",\\\\\\\"1.6\\\\\\\",\\\\\\\"1.7\\\\\\\",\\\\\\\"1.8\\\\\\\",\\\\\\\"1.9\\\\\\\",\\\\\\\"2.0\\\\\\\",\\\\\\\"2.1\\\\\\\",\\\\\\\"2.2\\\\\\\",\\\\\\\"2.3\\\\\\\",\\\\\\\"2.4\\\\\\\",\\\\\\\"2.5\\\\\\\",\\\\\\\"2.6\\\\\\\",\\\\\\\"2.7\\\\\\\",\\\\\\\"2.8\\\\\\\",\\\\\\\"2.9\\\\\\\",\\\\\\\"3.0\\\\\\\",\\\\\\\"3.1\\\\\\\",\\\\\\\"3.2\\\\\\\",\\\\\\\"3.3\\\\\\\",\\\\\\\"3.4\\\\\\\",\\\\\\\"3.5\\\\\\\",\\\\\\\"3.6\\\\\\\",\\\\\\\"3.7\\\\\\\",\\\\\\\"3.8\\\\\\\",\\\\\\\"3.9\\\\\\\",\\\\\\\"4.0\\\\\\\",\\\\\\\"4.1\\\\\\\",\\\\\\\"4.2\\\\\\\",\\\\\\\"4.3\\\\\\\",\\\\\\\"4.4\\\\\\\",\\\\\\\"4.5\\\\\\\",\\\\\\\"4.6\\\\\\\",\\\\\\\"4.7\\\\\\\",\\\\\\\"4.8\\\\\\\",\\\\\\\"4.9\\\\\\\",\\\\\\\"5.0\\\\\\\",\\\\\\\"5.1\\\\\\\",\\\\\\\"5.2\\\\\\\",\\\\\\\"5.3\\\\\\\",\\\\\\\"5.4\\\\\\\",\\\\\\\"5.5\\\\\\\",\\\\\\\"5.6\\\\\\\",\\\\\\\"5.7\\\\\\\",\\\\\\\"5.8\\\\\\\",\\\\\\\"5.9\\\\\\\",\\\\\\\"6.0\\\\\\\",\\\\\\\"6.1\\\\\\\",\\\\\\\"6.2\\\\\\\",\\\\\\\"6.3\\\\\\\",\\\\\\\"6.4\\\\\\\",\\\\\\\"6.5\\\\\\\",\\\\\\\"6.6\\\\\\\",\\\\\\\"6.7\\\\\\\",\\\\\\\"6.8\\\\\\\",\\\\\\\"6.9\\\\\\\",\\\\\\\"7.0\\\\\\\",\\\\\\\"7.1\\\\\\\",\\\\\\\"7.2\\\\\\\",\\\\\\\"7.3\\\\\\\",\\\\\\\"7.4\\\\\\\",\\\\\\\"7.5\\\\\\\",\\\\\\\"7.6\\\\\\\",\\\\\\\"7.7\\\\\\\",\\\\\\\"7.8\\\\\\\",\\\\\\\"7.9\\\\\\\",\\\\\\\"8.0\\\\\\\",\\\\\\\"8.1\\\\\\\",\\\\\\\"8.2\\\\\\\",\\\\\\\"8.3\\\\\\\",\\\\\\\"8.4\\\\\\\",\\\\\\\"8.5\\\\\\\",\\\\\\\"8.6\\\\\\\",\\\\\\\"8.7\\\\\\\",\\\\\\\"8.8\\\\\\\",\\\\\\\"8.9\\\\\\\",\\\\\\\"9.0\\\\\\\",\\\\\\\"9.1\\\\\\\",\\\\\\\"9.2\\\\\\\",\\\\\\\"9.3\\\\\\\",\\\\\\\"9.4\\\\\\\",\\\\\\\"9.5\\\\\\\",\\\\\\\"9.6\\\\\\\",\\\\\\\"9.7\\\\\\\",\\\\\\\"9.8\\\\\\\",\\\\\\\"9.9\\\\\\\",\\\\\\\"10.0\\\\\\\"],\\\\\\\"changes\\\\\\\":0,\\\\\\\"formatted_value\\\\\\\":\\\\\\\"5.0\\\\\\\",\\\\\\\"index\\\\\\\":50}\\\");\\n    var self = this;\\n    function AppViewModel() {\\n        for (var key in json_data) {\\n            var el = json_data[key];\\n            this[key] = Array.isArray(el) ? ko.observableArray(el) : ko.observable(el);\\n        }\\n        \\n        \\n        [this[\\\"formatted_vals\\\"].subscribe((function (val){!(this.valueFromJulia[\\\"formatted_vals\\\"]) ? (_webIOScope.setObservableValue({\\\"name\\\":\\\"formatted_vals\\\",\\\"scope\\\":\\\"knockout-component-b277606f-985c-419d-b02e-511a141aa06b\\\",\\\"id\\\":\\\"ob_42\\\",\\\"type\\\":\\\"observable\\\"},val)) : undefined; return this.valueFromJulia[\\\"formatted_vals\\\"]=false}),self),this[\\\"changes\\\"].subscribe((function (val){!(this.valueFromJulia[\\\"changes\\\"]) ? (_webIOScope.setObservableValue({\\\"name\\\":\\\"changes\\\",\\\"scope\\\":\\\"knockout-component-b277606f-985c-419d-b02e-511a141aa06b\\\",\\\"id\\\":\\\"ob_44\\\",\\\"type\\\":\\\"observable\\\"},val)) : undefined; return this.valueFromJulia[\\\"changes\\\"]=false}),self),this[\\\"formatted_value\\\"].subscribe((function (val){!(this.valueFromJulia[\\\"formatted_value\\\"]) ? (_webIOScope.setObservableValue({\\\"name\\\":\\\"formatted_value\\\",\\\"scope\\\":\\\"knockout-component-b277606f-985c-419d-b02e-511a141aa06b\\\",\\\"id\\\":\\\"ob_43\\\",\\\"type\\\":\\\"observable\\\"},val)) : undefined; return this.valueFromJulia[\\\"formatted_value\\\"]=false}),self),this[\\\"index\\\"].subscribe((function (val){!(this.valueFromJulia[\\\"index\\\"]) ? (_webIOScope.setObservableValue({\\\"name\\\":\\\"index\\\",\\\"scope\\\":\\\"knockout-component-b277606f-985c-419d-b02e-511a141aa06b\\\",\\\"id\\\":\\\"ob_41\\\",\\\"type\\\":\\\"observable\\\"},val)) : undefined; return this.valueFromJulia[\\\"index\\\"]=false}),self)]\\n        \\n    }\\n    self.model = new AppViewModel();\\n    self.valueFromJulia = {};\\n    for (var key in json_data) {\\n        self.valueFromJulia[key] = false;\\n    }\\n    ko.applyBindings(self.model, self.dom);\\n}\\n\"]},\"changes\":[\"(function (val){return (val!=this.model[\\\"changes\\\"]()) ? (this.valueFromJulia[\\\"changes\\\"]=true, this.model[\\\"changes\\\"](val)) : undefined})\"],\"formatted_value\":[\"(function (val){return (val!=this.model[\\\"formatted_value\\\"]()) ? (this.valueFromJulia[\\\"formatted_value\\\"]=true, this.model[\\\"formatted_value\\\"](val)) : undefined})\"],\"index\":[\"(function (val){return (val!=this.model[\\\"index\\\"]()) ? (this.valueFromJulia[\\\"index\\\"]=true, this.model[\\\"index\\\"](val)) : undefined})\",\"(function (val){return _webIOScope.setObservableValue({\\\"name\\\":\\\"formatted_value\\\",\\\"scope\\\":\\\"knockout-component-b277606f-985c-419d-b02e-511a141aa06b\\\",\\\"id\\\":\\\"ob_43\\\",\\\"type\\\":\\\"observable\\\"},_webIOScope.getObservableValue({\\\"name\\\":\\\"formatted_vals\\\",\\\"scope\\\":\\\"knockout-component-b277606f-985c-419d-b02e-511a141aa06b\\\",\\\"id\\\":\\\"ob_42\\\",\\\"type\\\":\\\"observable\\\"})[(_webIOScope.getObservableValue({\\\"name\\\":\\\"index\\\",\\\"scope\\\":\\\"knockout-component-b277606f-985c-419d-b02e-511a141aa06b\\\",\\\"id\\\":\\\"ob_41\\\",\\\"type\\\":\\\"observable\\\"})-1)])})\"]},\"systemjs_options\":null,\"observables\":{\"formatted_vals\":{\"sync\":false,\"id\":\"ob_42\",\"value\":[\"0.1\",\"0.2\",\"0.3\",\"0.4\",\"0.5\",\"0.6\",\"0.7\",\"0.8\",\"0.9\",\"1.0\",\"1.1\",\"1.2\",\"1.3\",\"1.4\",\"1.5\",\"1.6\",\"1.7\",\"1.8\",\"1.9\",\"2.0\",\"2.1\",\"2.2\",\"2.3\",\"2.4\",\"2.5\",\"2.6\",\"2.7\",\"2.8\",\"2.9\",\"3.0\",\"3.1\",\"3.2\",\"3.3\",\"3.4\",\"3.5\",\"3.6\",\"3.7\",\"3.8\",\"3.9\",\"4.0\",\"4.1\",\"4.2\",\"4.3\",\"4.4\",\"4.5\",\"4.6\",\"4.7\",\"4.8\",\"4.9\",\"5.0\",\"5.1\",\"5.2\",\"5.3\",\"5.4\",\"5.5\",\"5.6\",\"5.7\",\"5.8\",\"5.9\",\"6.0\",\"6.1\",\"6.2\",\"6.3\",\"6.4\",\"6.5\",\"6.6\",\"6.7\",\"6.8\",\"6.9\",\"7.0\",\"7.1\",\"7.2\",\"7.3\",\"7.4\",\"7.5\",\"7.6\",\"7.7\",\"7.8\",\"7.9\",\"8.0\",\"8.1\",\"8.2\",\"8.3\",\"8.4\",\"8.5\",\"8.6\",\"8.7\",\"8.8\",\"8.9\",\"9.0\",\"9.1\",\"9.2\",\"9.3\",\"9.4\",\"9.5\",\"9.6\",\"9.7\",\"9.8\",\"9.9\",\"10.0\"]},\"changes\":{\"sync\":false,\"id\":\"ob_44\",\"value\":0},\"formatted_value\":{\"sync\":false,\"id\":\"ob_43\",\"value\":\"5.0\"},\"index\":{\"sync\":true,\"id\":\"ob_41\",\"value\":50}}},\"children\":[{\"props\":{\"attributes\":{\"style\":\"display:flex; justify-content:center; align-items:center;\"}},\"nodeType\":\"DOM\",\"type\":\"node\",\"instanceArgs\":{\"namespace\":\"html\",\"tag\":\"div\"},\"children\":[{\"props\":{\"attributes\":{\"style\":\"text-align:right;width:18%\"}},\"nodeType\":\"DOM\",\"type\":\"node\",\"instanceArgs\":{\"namespace\":\"html\",\"tag\":\"div\"},\"children\":[{\"props\":{\"className\":\"interact \",\"style\":{\"padding\":\"5px 10px 0px 10px\"}},\"nodeType\":\"DOM\",\"type\":\"node\",\"instanceArgs\":{\"namespace\":\"html\",\"tag\":\"label\"},\"children\":[\"Y₆\"]}]},{\"props\":{\"attributes\":{\"style\":\"flex-grow:1; margin: 0 2%\"}},\"nodeType\":\"DOM\",\"type\":\"node\",\"instanceArgs\":{\"namespace\":\"html\",\"tag\":\"div\"},\"children\":[{\"props\":{\"max\":100,\"min\":1,\"attributes\":{\"type\":\"range\",\"data-bind\":\"numericValue: index, valueUpdate: 'input', event: {change : function () {this.changes(this.changes()+1)}}\",\"orient\":\"horizontal\"},\"step\":1,\"className\":\"slider slider is-fullwidth\",\"style\":{}},\"nodeType\":\"DOM\",\"type\":\"node\",\"instanceArgs\":{\"namespace\":\"html\",\"tag\":\"input\"},\"children\":[]}]},{\"props\":{\"attributes\":{\"style\":\"width:18%\"}},\"nodeType\":\"DOM\",\"type\":\"node\",\"instanceArgs\":{\"namespace\":\"html\",\"tag\":\"div\"},\"children\":[{\"props\":{\"attributes\":{\"data-bind\":\"text: formatted_value\"}},\"nodeType\":\"DOM\",\"type\":\"node\",\"instanceArgs\":{\"namespace\":\"html\",\"tag\":\"p\"},\"children\":[]}]}]}]}]},{\"props\":{\"className\":\"field\"},\"nodeType\":\"DOM\",\"type\":\"node\",\"instanceArgs\":{\"namespace\":\"html\",\"tag\":\"div\"},\"children\":[{\"props\":{},\"nodeType\":\"Scope\",\"type\":\"node\",\"instanceArgs\":{\"imports\":{\"data\":[{\"name\":\"knockout\",\"type\":\"js\",\"url\":\"\\/assetserver\\/429ea4842967203db7a2e10862642c116542d0e4-knockout.js\"},{\"name\":\"knockout_punches\",\"type\":\"js\",\"url\":\"\\/assetserver\\/9998dbb29ca780269e6886a8c8c4b78bb9a73c26-knockout_punches.js\"},{\"name\":null,\"type\":\"js\",\"url\":\"\\/assetserver\\/6ee7ce3a8d8fbffe6a5785768ec923478100c144-all.js\"},{\"name\":null,\"type\":\"css\",\"url\":\"\\/assetserver\\/255cc2d911924b0ffa0f74016aac5f640f90a396-style.css\"},{\"name\":null,\"type\":\"css\",\"url\":\"\\/assetserver\\/66a9780e4509d09169a66d890937410d69e4da42-main.css\"}],\"type\":\"async_block\"},\"id\":\"knockout-component-942adce0-9fe1-400b-80b6-82aa2544a456\",\"handlers\":{\"formatted_vals\":[\"(function (val){return (val!=this.model[\\\"formatted_vals\\\"]()) ? (this.valueFromJulia[\\\"formatted_vals\\\"]=true, this.model[\\\"formatted_vals\\\"](val)) : undefined})\"],\"_promises\":{\"importsLoaded\":[\"function (ko, koPunches) {\\n    ko.punches.enableAll();\\n    ko.bindingHandlers.numericValue = {\\n        init : function(element, valueAccessor, allBindings, data, context) {\\n            var stringified = ko.observable(ko.unwrap(valueAccessor()));\\n            stringified.subscribe(function(value) {\\n                var val = parseFloat(value);\\n                if (!isNaN(val)) {\\n                    valueAccessor()(val);\\n                }\\n            })\\n            valueAccessor().subscribe(function(value) {\\n                var str = JSON.stringify(value);\\n                if ((str == \\\"0\\\") && ([\\\"-0\\\", \\\"-0.\\\"].indexOf(stringified()) >= 0))\\n                     return;\\n                 if ([\\\"null\\\", \\\"\\\"].indexOf(str) >= 0)\\n                     return;\\n                stringified(str);\\n            })\\n            ko.applyBindingsToNode(element, { value: stringified, valueUpdate: allBindings.get('valueUpdate')}, context);\\n        }\\n    };\\n    var json_data = JSON.parse(\\\"{\\\\\\\"formatted_vals\\\\\\\":[\\\\\\\"0.1\\\\\\\",\\\\\\\"0.2\\\\\\\",\\\\\\\"0.3\\\\\\\",\\\\\\\"0.4\\\\\\\",\\\\\\\"0.5\\\\\\\",\\\\\\\"0.6\\\\\\\",\\\\\\\"0.7\\\\\\\",\\\\\\\"0.8\\\\\\\",\\\\\\\"0.9\\\\\\\",\\\\\\\"1.0\\\\\\\",\\\\\\\"1.1\\\\\\\",\\\\\\\"1.2\\\\\\\",\\\\\\\"1.3\\\\\\\",\\\\\\\"1.4\\\\\\\",\\\\\\\"1.5\\\\\\\",\\\\\\\"1.6\\\\\\\",\\\\\\\"1.7\\\\\\\",\\\\\\\"1.8\\\\\\\",\\\\\\\"1.9\\\\\\\",\\\\\\\"2.0\\\\\\\",\\\\\\\"2.1\\\\\\\",\\\\\\\"2.2\\\\\\\",\\\\\\\"2.3\\\\\\\",\\\\\\\"2.4\\\\\\\",\\\\\\\"2.5\\\\\\\",\\\\\\\"2.6\\\\\\\",\\\\\\\"2.7\\\\\\\",\\\\\\\"2.8\\\\\\\",\\\\\\\"2.9\\\\\\\",\\\\\\\"3.0\\\\\\\",\\\\\\\"3.1\\\\\\\",\\\\\\\"3.2\\\\\\\",\\\\\\\"3.3\\\\\\\",\\\\\\\"3.4\\\\\\\",\\\\\\\"3.5\\\\\\\",\\\\\\\"3.6\\\\\\\",\\\\\\\"3.7\\\\\\\",\\\\\\\"3.8\\\\\\\",\\\\\\\"3.9\\\\\\\",\\\\\\\"4.0\\\\\\\",\\\\\\\"4.1\\\\\\\",\\\\\\\"4.2\\\\\\\",\\\\\\\"4.3\\\\\\\",\\\\\\\"4.4\\\\\\\",\\\\\\\"4.5\\\\\\\",\\\\\\\"4.6\\\\\\\",\\\\\\\"4.7\\\\\\\",\\\\\\\"4.8\\\\\\\",\\\\\\\"4.9\\\\\\\",\\\\\\\"5.0\\\\\\\",\\\\\\\"5.1\\\\\\\",\\\\\\\"5.2\\\\\\\",\\\\\\\"5.3\\\\\\\",\\\\\\\"5.4\\\\\\\",\\\\\\\"5.5\\\\\\\",\\\\\\\"5.6\\\\\\\",\\\\\\\"5.7\\\\\\\",\\\\\\\"5.8\\\\\\\",\\\\\\\"5.9\\\\\\\",\\\\\\\"6.0\\\\\\\",\\\\\\\"6.1\\\\\\\",\\\\\\\"6.2\\\\\\\",\\\\\\\"6.3\\\\\\\",\\\\\\\"6.4\\\\\\\",\\\\\\\"6.5\\\\\\\",\\\\\\\"6.6\\\\\\\",\\\\\\\"6.7\\\\\\\",\\\\\\\"6.8\\\\\\\",\\\\\\\"6.9\\\\\\\",\\\\\\\"7.0\\\\\\\",\\\\\\\"7.1\\\\\\\",\\\\\\\"7.2\\\\\\\",\\\\\\\"7.3\\\\\\\",\\\\\\\"7.4\\\\\\\",\\\\\\\"7.5\\\\\\\",\\\\\\\"7.6\\\\\\\",\\\\\\\"7.7\\\\\\\",\\\\\\\"7.8\\\\\\\",\\\\\\\"7.9\\\\\\\",\\\\\\\"8.0\\\\\\\",\\\\\\\"8.1\\\\\\\",\\\\\\\"8.2\\\\\\\",\\\\\\\"8.3\\\\\\\",\\\\\\\"8.4\\\\\\\",\\\\\\\"8.5\\\\\\\",\\\\\\\"8.6\\\\\\\",\\\\\\\"8.7\\\\\\\",\\\\\\\"8.8\\\\\\\",\\\\\\\"8.9\\\\\\\",\\\\\\\"9.0\\\\\\\",\\\\\\\"9.1\\\\\\\",\\\\\\\"9.2\\\\\\\",\\\\\\\"9.3\\\\\\\",\\\\\\\"9.4\\\\\\\",\\\\\\\"9.5\\\\\\\",\\\\\\\"9.6\\\\\\\",\\\\\\\"9.7\\\\\\\",\\\\\\\"9.8\\\\\\\",\\\\\\\"9.9\\\\\\\",\\\\\\\"10.0\\\\\\\"],\\\\\\\"changes\\\\\\\":0,\\\\\\\"formatted_value\\\\\\\":\\\\\\\"5.0\\\\\\\",\\\\\\\"index\\\\\\\":50}\\\");\\n    var self = this;\\n    function AppViewModel() {\\n        for (var key in json_data) {\\n            var el = json_data[key];\\n            this[key] = Array.isArray(el) ? ko.observableArray(el) : ko.observable(el);\\n        }\\n        \\n        \\n        [this[\\\"formatted_vals\\\"].subscribe((function (val){!(this.valueFromJulia[\\\"formatted_vals\\\"]) ? (_webIOScope.setObservableValue({\\\"name\\\":\\\"formatted_vals\\\",\\\"scope\\\":\\\"knockout-component-942adce0-9fe1-400b-80b6-82aa2544a456\\\",\\\"id\\\":\\\"ob_47\\\",\\\"type\\\":\\\"observable\\\"},val)) : undefined; return this.valueFromJulia[\\\"formatted_vals\\\"]=false}),self),this[\\\"changes\\\"].subscribe((function (val){!(this.valueFromJulia[\\\"changes\\\"]) ? (_webIOScope.setObservableValue({\\\"name\\\":\\\"changes\\\",\\\"scope\\\":\\\"knockout-component-942adce0-9fe1-400b-80b6-82aa2544a456\\\",\\\"id\\\":\\\"ob_49\\\",\\\"type\\\":\\\"observable\\\"},val)) : undefined; return this.valueFromJulia[\\\"changes\\\"]=false}),self),this[\\\"formatted_value\\\"].subscribe((function (val){!(this.valueFromJulia[\\\"formatted_value\\\"]) ? (_webIOScope.setObservableValue({\\\"name\\\":\\\"formatted_value\\\",\\\"scope\\\":\\\"knockout-component-942adce0-9fe1-400b-80b6-82aa2544a456\\\",\\\"id\\\":\\\"ob_48\\\",\\\"type\\\":\\\"observable\\\"},val)) : undefined; return this.valueFromJulia[\\\"formatted_value\\\"]=false}),self),this[\\\"index\\\"].subscribe((function (val){!(this.valueFromJulia[\\\"index\\\"]) ? (_webIOScope.setObservableValue({\\\"name\\\":\\\"index\\\",\\\"scope\\\":\\\"knockout-component-942adce0-9fe1-400b-80b6-82aa2544a456\\\",\\\"id\\\":\\\"ob_46\\\",\\\"type\\\":\\\"observable\\\"},val)) : undefined; return this.valueFromJulia[\\\"index\\\"]=false}),self)]\\n        \\n    }\\n    self.model = new AppViewModel();\\n    self.valueFromJulia = {};\\n    for (var key in json_data) {\\n        self.valueFromJulia[key] = false;\\n    }\\n    ko.applyBindings(self.model, self.dom);\\n}\\n\"]},\"changes\":[\"(function (val){return (val!=this.model[\\\"changes\\\"]()) ? (this.valueFromJulia[\\\"changes\\\"]=true, this.model[\\\"changes\\\"](val)) : undefined})\"],\"formatted_value\":[\"(function (val){return (val!=this.model[\\\"formatted_value\\\"]()) ? (this.valueFromJulia[\\\"formatted_value\\\"]=true, this.model[\\\"formatted_value\\\"](val)) : undefined})\"],\"index\":[\"(function (val){return (val!=this.model[\\\"index\\\"]()) ? (this.valueFromJulia[\\\"index\\\"]=true, this.model[\\\"index\\\"](val)) : undefined})\",\"(function (val){return _webIOScope.setObservableValue({\\\"name\\\":\\\"formatted_value\\\",\\\"scope\\\":\\\"knockout-component-942adce0-9fe1-400b-80b6-82aa2544a456\\\",\\\"id\\\":\\\"ob_48\\\",\\\"type\\\":\\\"observable\\\"},_webIOScope.getObservableValue({\\\"name\\\":\\\"formatted_vals\\\",\\\"scope\\\":\\\"knockout-component-942adce0-9fe1-400b-80b6-82aa2544a456\\\",\\\"id\\\":\\\"ob_47\\\",\\\"type\\\":\\\"observable\\\"})[(_webIOScope.getObservableValue({\\\"name\\\":\\\"index\\\",\\\"scope\\\":\\\"knockout-component-942adce0-9fe1-400b-80b6-82aa2544a456\\\",\\\"id\\\":\\\"ob_46\\\",\\\"type\\\":\\\"observable\\\"})-1)])})\"]},\"systemjs_options\":null,\"observables\":{\"formatted_vals\":{\"sync\":false,\"id\":\"ob_47\",\"value\":[\"0.1\",\"0.2\",\"0.3\",\"0.4\",\"0.5\",\"0.6\",\"0.7\",\"0.8\",\"0.9\",\"1.0\",\"1.1\",\"1.2\",\"1.3\",\"1.4\",\"1.5\",\"1.6\",\"1.7\",\"1.8\",\"1.9\",\"2.0\",\"2.1\",\"2.2\",\"2.3\",\"2.4\",\"2.5\",\"2.6\",\"2.7\",\"2.8\",\"2.9\",\"3.0\",\"3.1\",\"3.2\",\"3.3\",\"3.4\",\"3.5\",\"3.6\",\"3.7\",\"3.8\",\"3.9\",\"4.0\",\"4.1\",\"4.2\",\"4.3\",\"4.4\",\"4.5\",\"4.6\",\"4.7\",\"4.8\",\"4.9\",\"5.0\",\"5.1\",\"5.2\",\"5.3\",\"5.4\",\"5.5\",\"5.6\",\"5.7\",\"5.8\",\"5.9\",\"6.0\",\"6.1\",\"6.2\",\"6.3\",\"6.4\",\"6.5\",\"6.6\",\"6.7\",\"6.8\",\"6.9\",\"7.0\",\"7.1\",\"7.2\",\"7.3\",\"7.4\",\"7.5\",\"7.6\",\"7.7\",\"7.8\",\"7.9\",\"8.0\",\"8.1\",\"8.2\",\"8.3\",\"8.4\",\"8.5\",\"8.6\",\"8.7\",\"8.8\",\"8.9\",\"9.0\",\"9.1\",\"9.2\",\"9.3\",\"9.4\",\"9.5\",\"9.6\",\"9.7\",\"9.8\",\"9.9\",\"10.0\"]},\"changes\":{\"sync\":false,\"id\":\"ob_49\",\"value\":0},\"formatted_value\":{\"sync\":false,\"id\":\"ob_48\",\"value\":\"5.0\"},\"index\":{\"sync\":true,\"id\":\"ob_46\",\"value\":50}}},\"children\":[{\"props\":{\"attributes\":{\"style\":\"display:flex; justify-content:center; align-items:center;\"}},\"nodeType\":\"DOM\",\"type\":\"node\",\"instanceArgs\":{\"namespace\":\"html\",\"tag\":\"div\"},\"children\":[{\"props\":{\"attributes\":{\"style\":\"text-align:right;width:18%\"}},\"nodeType\":\"DOM\",\"type\":\"node\",\"instanceArgs\":{\"namespace\":\"html\",\"tag\":\"div\"},\"children\":[{\"props\":{\"className\":\"interact \",\"style\":{\"padding\":\"5px 10px 0px 10px\"}},\"nodeType\":\"DOM\",\"type\":\"node\",\"instanceArgs\":{\"namespace\":\"html\",\"tag\":\"label\"},\"children\":[\"Y₇\"]}]},{\"props\":{\"attributes\":{\"style\":\"flex-grow:1; margin: 0 2%\"}},\"nodeType\":\"DOM\",\"type\":\"node\",\"instanceArgs\":{\"namespace\":\"html\",\"tag\":\"div\"},\"children\":[{\"props\":{\"max\":100,\"min\":1,\"attributes\":{\"type\":\"range\",\"data-bind\":\"numericValue: index, valueUpdate: 'input', event: {change : function () {this.changes(this.changes()+1)}}\",\"orient\":\"horizontal\"},\"step\":1,\"className\":\"slider slider is-fullwidth\",\"style\":{}},\"nodeType\":\"DOM\",\"type\":\"node\",\"instanceArgs\":{\"namespace\":\"html\",\"tag\":\"input\"},\"children\":[]}]},{\"props\":{\"attributes\":{\"style\":\"width:18%\"}},\"nodeType\":\"DOM\",\"type\":\"node\",\"instanceArgs\":{\"namespace\":\"html\",\"tag\":\"div\"},\"children\":[{\"props\":{\"attributes\":{\"data-bind\":\"text: formatted_value\"}},\"nodeType\":\"DOM\",\"type\":\"node\",\"instanceArgs\":{\"namespace\":\"html\",\"tag\":\"p\"},\"children\":[]}]}]}]}]},{\"props\":{\"className\":\"field\"},\"nodeType\":\"DOM\",\"type\":\"node\",\"instanceArgs\":{\"namespace\":\"html\",\"tag\":\"div\"},\"children\":[{\"props\":{},\"nodeType\":\"Scope\",\"type\":\"node\",\"instanceArgs\":{\"imports\":{\"data\":[{\"name\":\"knockout\",\"type\":\"js\",\"url\":\"\\/assetserver\\/429ea4842967203db7a2e10862642c116542d0e4-knockout.js\"},{\"name\":\"knockout_punches\",\"type\":\"js\",\"url\":\"\\/assetserver\\/9998dbb29ca780269e6886a8c8c4b78bb9a73c26-knockout_punches.js\"},{\"name\":null,\"type\":\"js\",\"url\":\"\\/assetserver\\/6ee7ce3a8d8fbffe6a5785768ec923478100c144-all.js\"},{\"name\":null,\"type\":\"css\",\"url\":\"\\/assetserver\\/255cc2d911924b0ffa0f74016aac5f640f90a396-style.css\"},{\"name\":null,\"type\":\"css\",\"url\":\"\\/assetserver\\/66a9780e4509d09169a66d890937410d69e4da42-main.css\"}],\"type\":\"async_block\"},\"id\":\"knockout-component-358c62c2-31f6-4004-a037-4c6f56220441\",\"handlers\":{\"formatted_vals\":[\"(function (val){return (val!=this.model[\\\"formatted_vals\\\"]()) ? (this.valueFromJulia[\\\"formatted_vals\\\"]=true, this.model[\\\"formatted_vals\\\"](val)) : undefined})\"],\"_promises\":{\"importsLoaded\":[\"function (ko, koPunches) {\\n    ko.punches.enableAll();\\n    ko.bindingHandlers.numericValue = {\\n        init : function(element, valueAccessor, allBindings, data, context) {\\n            var stringified = ko.observable(ko.unwrap(valueAccessor()));\\n            stringified.subscribe(function(value) {\\n                var val = parseFloat(value);\\n                if (!isNaN(val)) {\\n                    valueAccessor()(val);\\n                }\\n            })\\n            valueAccessor().subscribe(function(value) {\\n                var str = JSON.stringify(value);\\n                if ((str == \\\"0\\\") && ([\\\"-0\\\", \\\"-0.\\\"].indexOf(stringified()) >= 0))\\n                     return;\\n                 if ([\\\"null\\\", \\\"\\\"].indexOf(str) >= 0)\\n                     return;\\n                stringified(str);\\n            })\\n            ko.applyBindingsToNode(element, { value: stringified, valueUpdate: allBindings.get('valueUpdate')}, context);\\n        }\\n    };\\n    var json_data = JSON.parse(\\\"{\\\\\\\"formatted_vals\\\\\\\":[\\\\\\\"0.1\\\\\\\",\\\\\\\"0.2\\\\\\\",\\\\\\\"0.3\\\\\\\",\\\\\\\"0.4\\\\\\\",\\\\\\\"0.5\\\\\\\",\\\\\\\"0.6\\\\\\\",\\\\\\\"0.7\\\\\\\",\\\\\\\"0.8\\\\\\\",\\\\\\\"0.9\\\\\\\",\\\\\\\"1.0\\\\\\\",\\\\\\\"1.1\\\\\\\",\\\\\\\"1.2\\\\\\\",\\\\\\\"1.3\\\\\\\",\\\\\\\"1.4\\\\\\\",\\\\\\\"1.5\\\\\\\",\\\\\\\"1.6\\\\\\\",\\\\\\\"1.7\\\\\\\",\\\\\\\"1.8\\\\\\\",\\\\\\\"1.9\\\\\\\",\\\\\\\"2.0\\\\\\\",\\\\\\\"2.1\\\\\\\",\\\\\\\"2.2\\\\\\\",\\\\\\\"2.3\\\\\\\",\\\\\\\"2.4\\\\\\\",\\\\\\\"2.5\\\\\\\",\\\\\\\"2.6\\\\\\\",\\\\\\\"2.7\\\\\\\",\\\\\\\"2.8\\\\\\\",\\\\\\\"2.9\\\\\\\",\\\\\\\"3.0\\\\\\\",\\\\\\\"3.1\\\\\\\",\\\\\\\"3.2\\\\\\\",\\\\\\\"3.3\\\\\\\",\\\\\\\"3.4\\\\\\\",\\\\\\\"3.5\\\\\\\",\\\\\\\"3.6\\\\\\\",\\\\\\\"3.7\\\\\\\",\\\\\\\"3.8\\\\\\\",\\\\\\\"3.9\\\\\\\",\\\\\\\"4.0\\\\\\\",\\\\\\\"4.1\\\\\\\",\\\\\\\"4.2\\\\\\\",\\\\\\\"4.3\\\\\\\",\\\\\\\"4.4\\\\\\\",\\\\\\\"4.5\\\\\\\",\\\\\\\"4.6\\\\\\\",\\\\\\\"4.7\\\\\\\",\\\\\\\"4.8\\\\\\\",\\\\\\\"4.9\\\\\\\",\\\\\\\"5.0\\\\\\\",\\\\\\\"5.1\\\\\\\",\\\\\\\"5.2\\\\\\\",\\\\\\\"5.3\\\\\\\",\\\\\\\"5.4\\\\\\\",\\\\\\\"5.5\\\\\\\",\\\\\\\"5.6\\\\\\\",\\\\\\\"5.7\\\\\\\",\\\\\\\"5.8\\\\\\\",\\\\\\\"5.9\\\\\\\",\\\\\\\"6.0\\\\\\\",\\\\\\\"6.1\\\\\\\",\\\\\\\"6.2\\\\\\\",\\\\\\\"6.3\\\\\\\",\\\\\\\"6.4\\\\\\\",\\\\\\\"6.5\\\\\\\",\\\\\\\"6.6\\\\\\\",\\\\\\\"6.7\\\\\\\",\\\\\\\"6.8\\\\\\\",\\\\\\\"6.9\\\\\\\",\\\\\\\"7.0\\\\\\\",\\\\\\\"7.1\\\\\\\",\\\\\\\"7.2\\\\\\\",\\\\\\\"7.3\\\\\\\",\\\\\\\"7.4\\\\\\\",\\\\\\\"7.5\\\\\\\",\\\\\\\"7.6\\\\\\\",\\\\\\\"7.7\\\\\\\",\\\\\\\"7.8\\\\\\\",\\\\\\\"7.9\\\\\\\",\\\\\\\"8.0\\\\\\\",\\\\\\\"8.1\\\\\\\",\\\\\\\"8.2\\\\\\\",\\\\\\\"8.3\\\\\\\",\\\\\\\"8.4\\\\\\\",\\\\\\\"8.5\\\\\\\",\\\\\\\"8.6\\\\\\\",\\\\\\\"8.7\\\\\\\",\\\\\\\"8.8\\\\\\\",\\\\\\\"8.9\\\\\\\",\\\\\\\"9.0\\\\\\\",\\\\\\\"9.1\\\\\\\",\\\\\\\"9.2\\\\\\\",\\\\\\\"9.3\\\\\\\",\\\\\\\"9.4\\\\\\\",\\\\\\\"9.5\\\\\\\",\\\\\\\"9.6\\\\\\\",\\\\\\\"9.7\\\\\\\",\\\\\\\"9.8\\\\\\\",\\\\\\\"9.9\\\\\\\",\\\\\\\"10.0\\\\\\\"],\\\\\\\"changes\\\\\\\":0,\\\\\\\"formatted_value\\\\\\\":\\\\\\\"5.0\\\\\\\",\\\\\\\"index\\\\\\\":50}\\\");\\n    var self = this;\\n    function AppViewModel() {\\n        for (var key in json_data) {\\n            var el = json_data[key];\\n            this[key] = Array.isArray(el) ? ko.observableArray(el) : ko.observable(el);\\n        }\\n        \\n        \\n        [this[\\\"formatted_vals\\\"].subscribe((function (val){!(this.valueFromJulia[\\\"formatted_vals\\\"]) ? (_webIOScope.setObservableValue({\\\"name\\\":\\\"formatted_vals\\\",\\\"scope\\\":\\\"knockout-component-358c62c2-31f6-4004-a037-4c6f56220441\\\",\\\"id\\\":\\\"ob_52\\\",\\\"type\\\":\\\"observable\\\"},val)) : undefined; return this.valueFromJulia[\\\"formatted_vals\\\"]=false}),self),this[\\\"changes\\\"].subscribe((function (val){!(this.valueFromJulia[\\\"changes\\\"]) ? (_webIOScope.setObservableValue({\\\"name\\\":\\\"changes\\\",\\\"scope\\\":\\\"knockout-component-358c62c2-31f6-4004-a037-4c6f56220441\\\",\\\"id\\\":\\\"ob_54\\\",\\\"type\\\":\\\"observable\\\"},val)) : undefined; return this.valueFromJulia[\\\"changes\\\"]=false}),self),this[\\\"formatted_value\\\"].subscribe((function (val){!(this.valueFromJulia[\\\"formatted_value\\\"]) ? (_webIOScope.setObservableValue({\\\"name\\\":\\\"formatted_value\\\",\\\"scope\\\":\\\"knockout-component-358c62c2-31f6-4004-a037-4c6f56220441\\\",\\\"id\\\":\\\"ob_53\\\",\\\"type\\\":\\\"observable\\\"},val)) : undefined; return this.valueFromJulia[\\\"formatted_value\\\"]=false}),self),this[\\\"index\\\"].subscribe((function (val){!(this.valueFromJulia[\\\"index\\\"]) ? (_webIOScope.setObservableValue({\\\"name\\\":\\\"index\\\",\\\"scope\\\":\\\"knockout-component-358c62c2-31f6-4004-a037-4c6f56220441\\\",\\\"id\\\":\\\"ob_51\\\",\\\"type\\\":\\\"observable\\\"},val)) : undefined; return this.valueFromJulia[\\\"index\\\"]=false}),self)]\\n        \\n    }\\n    self.model = new AppViewModel();\\n    self.valueFromJulia = {};\\n    for (var key in json_data) {\\n        self.valueFromJulia[key] = false;\\n    }\\n    ko.applyBindings(self.model, self.dom);\\n}\\n\"]},\"changes\":[\"(function (val){return (val!=this.model[\\\"changes\\\"]()) ? (this.valueFromJulia[\\\"changes\\\"]=true, this.model[\\\"changes\\\"](val)) : undefined})\"],\"formatted_value\":[\"(function (val){return (val!=this.model[\\\"formatted_value\\\"]()) ? (this.valueFromJulia[\\\"formatted_value\\\"]=true, this.model[\\\"formatted_value\\\"](val)) : undefined})\"],\"index\":[\"(function (val){return (val!=this.model[\\\"index\\\"]()) ? (this.valueFromJulia[\\\"index\\\"]=true, this.model[\\\"index\\\"](val)) : undefined})\",\"(function (val){return _webIOScope.setObservableValue({\\\"name\\\":\\\"formatted_value\\\",\\\"scope\\\":\\\"knockout-component-358c62c2-31f6-4004-a037-4c6f56220441\\\",\\\"id\\\":\\\"ob_53\\\",\\\"type\\\":\\\"observable\\\"},_webIOScope.getObservableValue({\\\"name\\\":\\\"formatted_vals\\\",\\\"scope\\\":\\\"knockout-component-358c62c2-31f6-4004-a037-4c6f56220441\\\",\\\"id\\\":\\\"ob_52\\\",\\\"type\\\":\\\"observable\\\"})[(_webIOScope.getObservableValue({\\\"name\\\":\\\"index\\\",\\\"scope\\\":\\\"knockout-component-358c62c2-31f6-4004-a037-4c6f56220441\\\",\\\"id\\\":\\\"ob_51\\\",\\\"type\\\":\\\"observable\\\"})-1)])})\"]},\"systemjs_options\":null,\"observables\":{\"formatted_vals\":{\"sync\":false,\"id\":\"ob_52\",\"value\":[\"0.1\",\"0.2\",\"0.3\",\"0.4\",\"0.5\",\"0.6\",\"0.7\",\"0.8\",\"0.9\",\"1.0\",\"1.1\",\"1.2\",\"1.3\",\"1.4\",\"1.5\",\"1.6\",\"1.7\",\"1.8\",\"1.9\",\"2.0\",\"2.1\",\"2.2\",\"2.3\",\"2.4\",\"2.5\",\"2.6\",\"2.7\",\"2.8\",\"2.9\",\"3.0\",\"3.1\",\"3.2\",\"3.3\",\"3.4\",\"3.5\",\"3.6\",\"3.7\",\"3.8\",\"3.9\",\"4.0\",\"4.1\",\"4.2\",\"4.3\",\"4.4\",\"4.5\",\"4.6\",\"4.7\",\"4.8\",\"4.9\",\"5.0\",\"5.1\",\"5.2\",\"5.3\",\"5.4\",\"5.5\",\"5.6\",\"5.7\",\"5.8\",\"5.9\",\"6.0\",\"6.1\",\"6.2\",\"6.3\",\"6.4\",\"6.5\",\"6.6\",\"6.7\",\"6.8\",\"6.9\",\"7.0\",\"7.1\",\"7.2\",\"7.3\",\"7.4\",\"7.5\",\"7.6\",\"7.7\",\"7.8\",\"7.9\",\"8.0\",\"8.1\",\"8.2\",\"8.3\",\"8.4\",\"8.5\",\"8.6\",\"8.7\",\"8.8\",\"8.9\",\"9.0\",\"9.1\",\"9.2\",\"9.3\",\"9.4\",\"9.5\",\"9.6\",\"9.7\",\"9.8\",\"9.9\",\"10.0\"]},\"changes\":{\"sync\":false,\"id\":\"ob_54\",\"value\":0},\"formatted_value\":{\"sync\":false,\"id\":\"ob_53\",\"value\":\"5.0\"},\"index\":{\"sync\":true,\"id\":\"ob_51\",\"value\":50}}},\"children\":[{\"props\":{\"attributes\":{\"style\":\"display:flex; justify-content:center; align-items:center;\"}},\"nodeType\":\"DOM\",\"type\":\"node\",\"instanceArgs\":{\"namespace\":\"html\",\"tag\":\"div\"},\"children\":[{\"props\":{\"attributes\":{\"style\":\"text-align:right;width:18%\"}},\"nodeType\":\"DOM\",\"type\":\"node\",\"instanceArgs\":{\"namespace\":\"html\",\"tag\":\"div\"},\"children\":[{\"props\":{\"className\":\"interact \",\"style\":{\"padding\":\"5px 10px 0px 10px\"}},\"nodeType\":\"DOM\",\"type\":\"node\",\"instanceArgs\":{\"namespace\":\"html\",\"tag\":\"label\"},\"children\":[\"Y₈\"]}]},{\"props\":{\"attributes\":{\"style\":\"flex-grow:1; margin: 0 2%\"}},\"nodeType\":\"DOM\",\"type\":\"node\",\"instanceArgs\":{\"namespace\":\"html\",\"tag\":\"div\"},\"children\":[{\"props\":{\"max\":100,\"min\":1,\"attributes\":{\"type\":\"range\",\"data-bind\":\"numericValue: index, valueUpdate: 'input', event: {change : function () {this.changes(this.changes()+1)}}\",\"orient\":\"horizontal\"},\"step\":1,\"className\":\"slider slider is-fullwidth\",\"style\":{}},\"nodeType\":\"DOM\",\"type\":\"node\",\"instanceArgs\":{\"namespace\":\"html\",\"tag\":\"input\"},\"children\":[]}]},{\"props\":{\"attributes\":{\"style\":\"width:18%\"}},\"nodeType\":\"DOM\",\"type\":\"node\",\"instanceArgs\":{\"namespace\":\"html\",\"tag\":\"div\"},\"children\":[{\"props\":{\"attributes\":{\"data-bind\":\"text: formatted_value\"}},\"nodeType\":\"DOM\",\"type\":\"node\",\"instanceArgs\":{\"namespace\":\"html\",\"tag\":\"p\"},\"children\":[]}]}]}]}]},{\"props\":{},\"nodeType\":\"Scope\",\"type\":\"node\",\"instanceArgs\":{\"imports\":{\"data\":[],\"type\":\"async_block\"},\"id\":\"scope-f8fdc1f0-d77a-48a6-ab01-cd2ece25920a\",\"handlers\":{},\"systemjs_options\":null,\"observables\":{\"obs-node\":{\"sync\":false,\"id\":\"ob_57\",\"value\":{\"props\":{\"attributes\":{\"style\":\"display:flex; justify-content:center; align-items:center;\"}},\"nodeType\":\"DOM\",\"type\":\"node\",\"instanceArgs\":{\"namespace\":\"html\",\"tag\":\"div\"},\"children\":[{\"props\":{\"setInnerHtml\":\"<?xml version=\\\"1.0\\\" encoding=\\\"UTF-8\\\"?>\\n<svg xmlns=\\\"http:\\/\\/www.w3.org\\/2000\\/svg\\\"\\n     xmlns:xlink=\\\"http:\\/\\/www.w3.org\\/1999\\/xlink\\\"\\n     version=\\\"1.2\\\"\\n     width=\\\"141.42mm\\\" height=\\\"100mm\\\" viewBox=\\\"0 0 141.42 100\\\"\\n     stroke=\\\"none\\\"\\n     fill=\\\"#000000\\\"\\n     stroke-width=\\\"0.3\\\"\\n     font-size=\\\"3.88\\\"\\n>\\n<defs>\\n  <marker id=\\\"arrow\\\" markerWidth=\\\"15\\\" markerHeight=\\\"7\\\" refX=\\\"5\\\" refY=\\\"3.5\\\" orient=\\\"auto\\\" markerUnits=\\\"strokeWidth\\\">\\n    <path d=\\\"M0,0 L15,3.5 L0,7 z\\\" stroke=\\\"context-stroke\\\" fill=\\\"context-stroke\\\"\\/>\\n  <\\/marker>\\n<\\/defs>\\n<g stroke-width=\\\"1.22\\\" fill=\\\"#000000\\\" fill-opacity=\\\"0.000\\\" id=\\\"img-c37c0cf1-1\\\">\\n  <g transform=\\\"translate(101.62,69.71)\\\" stroke=\\\"#D3D3D3\\\">\\n    <path fill=\\\"none\\\" d=\\\"M22.98,-10.57 L -22.98 10.57\\\" class=\\\"primitive\\\"\\/>\\n  <\\/g>\\n  <g transform=\\\"translate(106.66,40.76)\\\" stroke=\\\"#D3D3D3\\\">\\n    <path fill=\\\"none\\\" d=\\\"M-18.7,-13.08 L 18.7 13.08\\\" class=\\\"primitive\\\"\\/>\\n  <\\/g>\\n  <g transform=\\\"translate(58.22,37.58)\\\" stroke=\\\"#D3D3D3\\\">\\n    <path fill=\\\"none\\\" d=\\\"M20.58,-10.42 L -20.58 10.42\\\" class=\\\"primitive\\\"\\/>\\n  <\\/g>\\n  <g transform=\\\"translate(55.5,16.51)\\\" stroke=\\\"#D3D3D3\\\">\\n    <path fill=\\\"none\\\" d=\\\"M-22.63,-6.56 L 22.63 6.56\\\" class=\\\"primitive\\\"\\/>\\n  <\\/g>\\n  <g transform=\\\"translate(42.69,87.13)\\\" stroke=\\\"#D3D3D3\\\">\\n    <path fill=\\\"none\\\" d=\\\"M25.02,-3.67 L -25.02 3.67\\\" class=\\\"primitive\\\"\\/>\\n  <\\/g>\\n  <g transform=\\\"translate(53.18,66.53)\\\" stroke=\\\"#D3D3D3\\\">\\n    <path fill=\\\"none\\\" d=\\\"M16.4,12.9 L -16.4 -12.9\\\" class=\\\"primitive\\\"\\/>\\n  <\\/g>\\n  <g transform=\\\"translate(22.27,71.07)\\\" stroke=\\\"#D3D3D3\\\">\\n    <path fill=\\\"none\\\" d=\\\"M-8.45,16.59 L 8.45 -16.59\\\" class=\\\"primitive\\\"\\/>\\n  <\\/g>\\n  <g transform=\\\"translate(30.03,29.41)\\\" stroke=\\\"#D3D3D3\\\">\\n    <path fill=\\\"none\\\" d=\\\"M2.18,16.84 L -2.18 -16.84\\\" class=\\\"primitive\\\"\\/>\\n  <\\/g>\\n<\\/g>\\n<g stroke-width=\\\"1.22\\\" id=\\\"img-c37c0cf1-2\\\">\\n  <g transform=\\\"translate(81.74,78.85)\\\" stroke=\\\"#D3D3D3\\\">\\n    <path fill=\\\"none\\\" d=\\\"M2.65,0.48 L -3.09 1.42 0.45 -1.91\\\" class=\\\"primitive\\\"\\/>\\n  <\\/g>\\n  <g transform=\\\"translate(122.74,52)\\\" stroke=\\\"#D3D3D3\\\">\\n    <path fill=\\\"none\\\" d=\\\"M0.1,-1.93 L 2.62 1.84 -2.73 0.1\\\" class=\\\"primitive\\\"\\/>\\n  <\\/g>\\n  <g transform=\\\"translate(40.64,46.48)\\\" stroke=\\\"#D3D3D3\\\">\\n    <path fill=\\\"none\\\" d=\\\"M2.67,0.4 L -3 1.52 0.33 -1.92\\\" class=\\\"primitive\\\"\\/>\\n  <\\/g>\\n  <g transform=\\\"translate(74.71,22.08)\\\" stroke=\\\"#D3D3D3\\\">\\n    <path fill=\\\"none\\\" d=\\\"M-0.94,-1.81 L 3.42 0.99 -2.47 0.82\\\" class=\\\"primitive\\\"\\/>\\n  <\\/g>\\n  <g transform=\\\"translate(21.29,90.27)\\\" stroke=\\\"#D3D3D3\\\">\\n    <path fill=\\\"none\\\" d=\\\"M2.22,1.13 L -3.61 0.53 1.4 -1.66\\\" class=\\\"primitive\\\"\\/>\\n  <\\/g>\\n  <g transform=\\\"translate(39.24,55.58)\\\" stroke=\\\"#D3D3D3\\\">\\n    <path fill=\\\"none\\\" d=\\\"M-0.26,1.92 L -2.47 -1.94 2.73 0.02\\\" class=\\\"primitive\\\"\\/>\\n  <\\/g>\\n  <g transform=\\\"translate(29.46,56.93)\\\" stroke=\\\"#D3D3D3\\\">\\n    <path fill=\\\"none\\\" d=\\\"M-2.52,0.75 L 1.25 -2.46 1.27 1.71\\\" class=\\\"primitive\\\"\\/>\\n  <\\/g>\\n  <g transform=\\\"translate(28.19,15.17)\\\" stroke=\\\"#D3D3D3\\\">\\n    <path fill=\\\"none\\\" d=\\\"M-1.84,1.43 L -0.34 -2.6 2.18 1.17\\\" class=\\\"primitive\\\"\\/>\\n  <\\/g>\\n<\\/g>\\n<g font-size=\\\"4\\\" stroke=\\\"#000000\\\" stroke-opacity=\\\"0.000\\\" fill=\\\"#000000\\\" id=\\\"img-c37c0cf1-3\\\">\\n  <g transform=\\\"translate(87.61,76.15)\\\">\\n    <g class=\\\"primitive\\\">\\n      <text text-anchor=\\\"middle\\\" dy=\\\"0.35em\\\">i₁ = -0.3<\\/text>\\n    <\\/g>\\n  <\\/g>\\n  <g transform=\\\"translate(118.15,48.79)\\\">\\n    <g class=\\\"primitive\\\">\\n      <text text-anchor=\\\"middle\\\" dy=\\\"0.35em\\\">i₂ = 0.7<\\/text>\\n    <\\/g>\\n  <\\/g>\\n  <g transform=\\\"translate(45.49,44.03)\\\">\\n    <g class=\\\"primitive\\\">\\n      <text text-anchor=\\\"middle\\\" dy=\\\"0.35em\\\">i₃ = 0.2<\\/text>\\n    <\\/g>\\n  <\\/g>\\n  <g transform=\\\"translate(69.59,20.6)\\\">\\n    <g class=\\\"primitive\\\">\\n      <text text-anchor=\\\"middle\\\" dy=\\\"0.35em\\\">i₄ = -0.1<\\/text>\\n    <\\/g>\\n  <\\/g>\\n  <g transform=\\\"translate(27.24,89.4)\\\">\\n    <g class=\\\"primitive\\\">\\n      <text text-anchor=\\\"middle\\\" dy=\\\"0.35em\\\">i₅ = -0.1<\\/text>\\n    <\\/g>\\n  <\\/g>\\n  <g transform=\\\"translate(42.96,58.51)\\\">\\n    <g class=\\\"primitive\\\">\\n      <text text-anchor=\\\"middle\\\" dy=\\\"0.35em\\\">i₆ = -0.2<\\/text>\\n    <\\/g>\\n  <\\/g>\\n  <g transform=\\\"translate(27.51,60.77)\\\">\\n    <g class=\\\"primitive\\\">\\n      <text text-anchor=\\\"middle\\\" dy=\\\"0.35em\\\">i₇ = -0.1<\\/text>\\n    <\\/g>\\n  <\\/g>\\n  <g transform=\\\"translate(28.66,18.87)\\\">\\n    <g class=\\\"primitive\\\">\\n      <text text-anchor=\\\"middle\\\" dy=\\\"0.35em\\\">i₈ = -0.1<\\/text>\\n    <\\/g>\\n  <\\/g>\\n<\\/g>\\n<g stroke-width=\\\"0\\\" stroke=\\\"#000000\\\" stroke-opacity=\\\"0.000\\\" id=\\\"img-c37c0cf1-4\\\">\\n  <g transform=\\\"translate(129.64,56.82)\\\" fill=\\\"#FF0000\\\">\\n    <circle cx=\\\"0\\\" cy=\\\"0\\\" r=\\\"5.77\\\" class=\\\"primitive\\\"\\/>\\n  <\\/g>\\n  <g transform=\\\"translate(83.69,24.69)\\\" fill=\\\"#FF0000\\\">\\n    <circle cx=\\\"0\\\" cy=\\\"0\\\" r=\\\"5.77\\\" class=\\\"primitive\\\"\\/>\\n  <\\/g>\\n  <g transform=\\\"translate(27.3,8.33)\\\" fill=\\\"#808080\\\">\\n    <circle cx=\\\"0\\\" cy=\\\"0\\\" r=\\\"5.77\\\" class=\\\"primitive\\\"\\/>\\n  <\\/g>\\n  <g transform=\\\"translate(73.6,82.59)\\\" fill=\\\"#808080\\\">\\n    <circle cx=\\\"0\\\" cy=\\\"0\\\" r=\\\"5.77\\\" class=\\\"primitive\\\"\\/>\\n  <\\/g>\\n  <g transform=\\\"translate(11.79,91.67)\\\" fill=\\\"#808080\\\">\\n    <circle cx=\\\"0\\\" cy=\\\"0\\\" r=\\\"5.77\\\" class=\\\"primitive\\\"\\/>\\n  <\\/g>\\n  <g transform=\\\"translate(32.75,50.48)\\\" fill=\\\"#808080\\\">\\n    <circle cx=\\\"0\\\" cy=\\\"0\\\" r=\\\"5.77\\\" class=\\\"primitive\\\"\\/>\\n  <\\/g>\\n<\\/g>\\n<g font-size=\\\"4\\\" stroke=\\\"#000000\\\" stroke-opacity=\\\"0.000\\\" fill=\\\"#000000\\\" id=\\\"img-c37c0cf1-5\\\">\\n  <g transform=\\\"translate(129.64,56.82)\\\">\\n    <g class=\\\"primitive\\\">\\n      <text text-anchor=\\\"middle\\\" dy=\\\"0.35em\\\">1<\\/text>\\n    <\\/g>\\n  <\\/g>\\n  <g transform=\\\"translate(83.69,24.69)\\\">\\n    <g class=\\\"primitive\\\">\\n      <text text-anchor=\\\"middle\\\" dy=\\\"0.35em\\\">2<\\/text>\\n    <\\/g>\\n  <\\/g>\\n  <g transform=\\\"translate(27.3,8.33)\\\">\\n    <g class=\\\"primitive\\\">\\n      <text text-anchor=\\\"middle\\\" dy=\\\"0.35em\\\">3<\\/text>\\n    <\\/g>\\n  <\\/g>\\n  <g transform=\\\"translate(73.6,82.59)\\\">\\n    <g class=\\\"primitive\\\">\\n      <text text-anchor=\\\"middle\\\" dy=\\\"0.35em\\\">4<\\/text>\\n    <\\/g>\\n  <\\/g>\\n  <g transform=\\\"translate(11.79,91.67)\\\">\\n    <g class=\\\"primitive\\\">\\n      <text text-anchor=\\\"middle\\\" dy=\\\"0.35em\\\">5<\\/text>\\n    <\\/g>\\n  <\\/g>\\n  <g transform=\\\"translate(32.75,50.48)\\\">\\n    <g class=\\\"primitive\\\">\\n      <text text-anchor=\\\"middle\\\" dy=\\\"0.35em\\\">6<\\/text>\\n    <\\/g>\\n  <\\/g>\\n<\\/g>\\n<\\/svg>\\n\"},\"nodeType\":\"DOM\",\"type\":\"node\",\"instanceArgs\":{\"namespace\":\"html\",\"tag\":\"div\"},\"children\":[]}]}}}},\"children\":[{\"props\":{},\"nodeType\":\"ObservableNode\",\"type\":\"node\",\"instanceArgs\":{\"id\":\"ob_57\",\"name\":\"obs-node\"},\"children\":[]}]}]},\n",
       "        );\n",
       "    } else {\n",
       "        document\n",
       "            .querySelector('[data-webio-mountpoint=\"4961391952689522090\"]')\n",
       "            .innerHTML = '<strong>WebIO not detected.</strong>';\n",
       "    }\n",
       "    </script>\n",
       "</div>\n"
      ],
      "text/plain": [
       "Widget{:manipulate,Any}(OrderedDict{Symbol,Any}(:Y₁=>Widget{:slider,Float64}(OrderedDict{Symbol,Any}(:changes=>Observable{Int64} with 1 listeners. Value:\n",
       "0,:index=>Observable{Any} with 2 listeners. Value:\n",
       "50,:formatted_vals=>Observable{Any} with 1 listeners. Value:\n",
       "[\"0.1\", \"0.2\", \"0.3\", \"0.4\", \"0.5\", \"0.6\", \"0.7\", \"0.8\", \"0.9\", \"1.0\"  …  \"9.1\", \"9.2\", \"9.3\", \"9.4\", \"9.5\", \"9.6\", \"9.7\", \"9.8\", \"9.9\", \"10.0\"],:formatted_value=>Observable{String} with 1 listeners. Value:\n",
       "\"5.0\",:value=>Observable{Float64} with 2 listeners. Value:\n",
       "5.0), Observable{Float64} with 2 listeners. Value:\n",
       "5.0, Scope(\"knockout-component-37f6044d-c8f8-407d-8d44-d8198f960e0e\", Node{DOM}(DOM(:html, :div), Any[Node{DOM}(DOM(:html, :div), Any[Node{DOM}(DOM(:html, :label), Any[\"Y₁\"], Dict{Symbol,Any}(:className=>\"interact \",:style=>Dict{Any,Any}(:padding=>\"5px 10px 0px 10px\")), 1)], Dict{Symbol,Any}(:attributes=>Dict(\"style\"=>\"text-align:right;width:18%\")), 2), Node{DOM}(DOM(:html, :div), Any[Node{DOM}(DOM(:html, :input), Any[], Dict{Symbol,Any}(:max=>100,:min=>1,:attributes=>Dict{Any,Any}(:type=>\"range\",Symbol(\"data-bind\")=>\"numericValue: index, valueUpdate: 'input', event: {change : function () {this.changes(this.changes()+1)}}\",\"orient\"=>\"horizontal\"),:step=>1,:className=>\"slider slider is-fullwidth\",:style=>Dict{Any,Any}()), 0)], Dict{Symbol,Any}(:attributes=>Dict(\"style\"=>\"flex-grow:1; margin: 0 2%\")), 1), Node{DOM}(DOM(:html, :div), Any[Node{DOM}(DOM(:html, :p), Any[], Dict{Symbol,Any}(:attributes=>Dict(\"data-bind\"=>\"text: formatted_value\")), 0)], Dict{Symbol,Any}(:attributes=>Dict(\"style\"=>\"width:18%\")), 1)], Dict{Symbol,Any}(:attributes=>Dict(\"style\"=>\"display:flex; justify-content:center; align-items:center;\")), 7), Dict{String,Tuple{Observables.AbstractObservable,Union{Nothing, Bool}}}(\"formatted_vals\"=>(Observable{Any} with 1 listeners. Value:\n",
       "[\"0.1\", \"0.2\", \"0.3\", \"0.4\", \"0.5\", \"0.6\", \"0.7\", \"0.8\", \"0.9\", \"1.0\"  …  \"9.1\", \"9.2\", \"9.3\", \"9.4\", \"9.5\", \"9.6\", \"9.7\", \"9.8\", \"9.9\", \"10.0\"], nothing),\"changes\"=>(Observable{Int64} with 1 listeners. Value:\n",
       "0, nothing),\"formatted_value\"=>(Observable{String} with 1 listeners. Value:\n",
       "\"5.0\", nothing),\"index\"=>(Observable{Any} with 2 listeners. Value:\n",
       "50, nothing)), Set(String[]), nothing, Any[\"knockout\"=>\"/Users/stevenj/.julia/packages/Knockout/JIqpG/src/../assets/knockout.js\", \"knockout_punches\"=>\"/Users/stevenj/.julia/packages/Knockout/JIqpG/src/../assets/knockout_punches.js\", \"/Users/stevenj/.julia/packages/InteractBase/Q4IkI/src/../assets/all.js\", \"/Users/stevenj/.julia/packages/InteractBase/Q4IkI/src/../assets/style.css\", \"/Users/stevenj/.julia/packages/InteractBulma/Ohu5Y/src/../assets/main.css\"], Dict{Any,Any}(\"formatted_vals\"=>Any[JSString(\"(function (val){return (val!=this.model[\\\"formatted_vals\\\"]()) ? (this.valueFromJulia[\\\"formatted_vals\\\"]=true, this.model[\\\"formatted_vals\\\"](val)) : undefined})\")],\"_promises\"=>Dict{Any,Any}(\"importsLoaded\"=>Any[JSString(\"function (ko, koPunches) {\\n    ko.punches.enableAll();\\n    ko.bindingHandlers.numericValue = {\\n        init : function(element, valueAccessor, allBindings, data, context) {\\n            var stringified = ko.observable(ko.unwrap(valueAccessor()));\\n            stringified.subscribe(function(value) {\\n                var val = parseFloat(value);\\n                if (!isNaN(val)) {\\n                    valueAccessor()(val);\\n                }\\n            })\\n            valueAccessor().subscribe(function(value) {\\n                var str = JSON.stringify(value);\\n                if ((str == \\\"0\\\") && ([\\\"-0\\\", \\\"-0.\\\"].indexOf(stringified()) >= 0))\\n                     return;\\n                 if ([\\\"null\\\", \\\"\\\"].indexOf(str) >= 0)\\n                     return;\\n                stringified(str);\\n            })\\n            ko.applyBindingsToNode(element, { value: stringified, valueUpdate: allBindings.get('valueUpdate')}, context);\\n        }\\n    };\\n    var json_data = JSON.parse(\\\"{\\\\\\\"formatted_vals\\\\\\\":[\\\\\\\"0.1\\\\\\\",\\\\\\\"0.2\\\\\\\",\\\\\\\"0.3\\\\\\\",\\\\\\\"0.4\\\\\\\",\\\\\\\"0.5\\\\\\\",\\\\\\\"0.6\\\\\\\",\\\\\\\"0.7\\\\\\\",\\\\\\\"0.8\\\\\\\",\\\\\\\"0.9\\\\\\\",\\\\\\\"1.0\\\\\\\",\\\\\\\"1.1\\\\\\\",\\\\\\\"1.2\\\\\\\",\\\\\\\"1.3\\\\\\\",\\\\\\\"1.4\\\\\\\",\\\\\\\"1.5\\\\\\\",\\\\\\\"1.6\\\\\\\",\\\\\\\"1.7\\\\\\\",\\\\\\\"1.8\\\\\\\",\\\\\\\"1.9\\\\\\\",\\\\\\\"2.0\\\\\\\",\\\\\\\"2.1\\\\\\\",\\\\\\\"2.2\\\\\\\",\\\\\\\"2.3\\\\\\\",\\\\\\\"2.4\\\\\\\",\\\\\\\"2.5\\\\\\\",\\\\\\\"2.6\\\\\\\",\\\\\\\"2.7\\\\\\\",\\\\\\\"2.8\\\\\\\",\\\\\\\"2.9\\\\\\\",\\\\\\\"3.0\\\\\\\",\\\\\\\"3.1\\\\\\\",\\\\\\\"3.2\\\\\\\",\\\\\\\"3.3\\\\\\\",\\\\\\\"3.4\\\\\\\",\\\\\\\"3.5\\\\\\\",\\\\\\\"3.6\\\\\\\",\\\\\\\"3.7\\\\\\\",\\\\\\\"3.8\\\\\\\",\\\\\\\"3.9\\\\\\\",\\\\\\\"4.0\\\\\\\",\\\\\\\"4.1\\\\\\\",\\\\\\\"4.2\\\\\\\",\\\\\\\"4.3\\\\\\\",\\\\\\\"4.4\\\\\\\",\\\\\\\"4.5\\\\\\\",\\\\\\\"4.6\\\\\\\",\\\\\\\"4.7\\\\\\\",\\\\\\\"4.8\\\\\\\",\\\\\\\"4.9\\\\\\\",\\\\\\\"5.0\\\\\\\",\\\\\\\"5.1\\\\\\\",\\\\\\\"5.2\\\\\\\",\\\\\\\"5.3\\\\\\\",\\\\\\\"5.4\\\\\\\",\\\\\\\"5.5\\\\\\\",\\\\\\\"5.6\\\\\\\",\\\\\\\"5.7\\\\\\\",\\\\\\\"5.8\\\\\\\",\\\\\\\"5.9\\\\\\\",\\\\\\\"6.0\\\\\\\",\\\\\\\"6.1\\\\\\\",\\\\\\\"6.2\\\\\\\",\\\\\\\"6.3\\\\\\\",\\\\\\\"6.4\\\\\\\",\\\\\\\"6.5\\\\\\\",\\\\\\\"6.6\\\\\\\",\\\\\\\"6.7\\\\\\\",\\\\\\\"6.8\\\\\\\",\\\\\\\"6.9\\\\\\\",\\\\\\\"7.0\\\\\\\",\\\\\\\"7.1\\\\\\\",\\\\\\\"7.2\\\\\\\",\\\\\\\"7.3\\\\\\\",\\\\\\\"7.4\\\\\\\",\\\\\\\"7.5\\\\\\\",\\\\\\\"7.6\\\\\\\",\\\\\\\"7.7\\\\\\\",\\\\\\\"7.8\\\\\\\",\\\\\\\"7.9\\\\\\\",\\\\\\\"8.0\\\\\\\",\\\\\\\"8.1\\\\\\\",\\\\\\\"8.2\\\\\\\",\\\\\\\"8.3\\\\\\\",\\\\\\\"8.4\\\\\\\",\\\\\\\"8.5\\\\\\\",\\\\\\\"8.6\\\\\\\",\\\\\\\"8.7\\\\\\\",\\\\\\\"8.8\\\\\\\",\\\\\\\"8.9\\\\\\\",\\\\\\\"9.0\\\\\\\",\\\\\\\"9.1\\\\\\\",\\\\\\\"9.2\\\\\\\",\\\\\\\"9.3\\\\\\\",\\\\\\\"9.4\\\\\\\",\\\\\\\"9.5\\\\\\\",\\\\\\\"9.6\\\\\\\",\\\\\\\"9.7\\\\\\\",\\\\\\\"9.8\\\\\\\",\\\\\\\"9.9\\\\\\\",\\\\\\\"10.0\\\\\\\"],\\\\\\\"changes\\\\\\\":0,\\\\\\\"formatted_value\\\\\\\":\\\\\\\"5.0\\\\\\\",\\\\\\\"index\\\\\\\":50}\\\");\\n    var self = this;\\n    function AppViewModel() {\\n        for (var key in json_data) {\\n            var el = json_data[key];\\n            this[key] = Array.isArray(el) ? ko.observableArray(el) : ko.observable(el);\\n        }\\n        \\n        \\n        [this[\\\"formatted_vals\\\"].subscribe((function (val){!(this.valueFromJulia[\\\"formatted_vals\\\"]) ? (_webIOScope.setObservableValue({\\\"name\\\":\\\"formatted_vals\\\",\\\"scope\\\":\\\"knockout-component-37f6044d-c8f8-407d-8d44-d8198f960e0e\\\",\\\"id\\\":\\\"ob_17\\\",\\\"type\\\":\\\"observable\\\"},val)) : undefined; return this.valueFromJulia[\\\"formatted_vals\\\"]=false}),self),this[\\\"changes\\\"].subscribe((function (val){!(this.valueFromJulia[\\\"changes\\\"]) ? (_webIOScope.setObservableValue({\\\"name\\\":\\\"changes\\\",\\\"scope\\\":\\\"knockout-component-37f6044d-c8f8-407d-8d44-d8198f960e0e\\\",\\\"id\\\":\\\"ob_19\\\",\\\"type\\\":\\\"observable\\\"},val)) : undefined; return this.valueFromJulia[\\\"changes\\\"]=false}),self),this[\\\"formatted_value\\\"].subscribe((function (val){!(this.valueFromJulia[\\\"formatted_value\\\"]) ? (_webIOScope.setObservableValue({\\\"name\\\":\\\"formatted_value\\\",\\\"scope\\\":\\\"knockout-component-37f6044d-c8f8-407d-8d44-d8198f960e0e\\\",\\\"id\\\":\\\"ob_18\\\",\\\"type\\\":\\\"observable\\\"},val)) : undefined; return this.valueFromJulia[\\\"formatted_value\\\"]=false}),self),this[\\\"index\\\"].subscribe((function (val){!(this.valueFromJulia[\\\"index\\\"]) ? (_webIOScope.setObservableValue({\\\"name\\\":\\\"index\\\",\\\"scope\\\":\\\"knockout-component-37f6044d-c8f8-407d-8d44-d8198f960e0e\\\",\\\"id\\\":\\\"ob_16\\\",\\\"type\\\":\\\"observable\\\"},val)) : undefined; return this.valueFromJulia[\\\"index\\\"]=false}),self)]\\n        \\n    }\\n    self.model = new AppViewModel();\\n    self.valueFromJulia = {};\\n    for (var key in json_data) {\\n        self.valueFromJulia[key] = false;\\n    }\\n    ko.applyBindings(self.model, self.dom);\\n}\\n\")]),\"changes\"=>Any[JSString(\"(function (val){return (val!=this.model[\\\"changes\\\"]()) ? (this.valueFromJulia[\\\"changes\\\"]=true, this.model[\\\"changes\\\"](val)) : undefined})\")],\"formatted_value\"=>Any[JSString(\"(function (val){return (val!=this.model[\\\"formatted_value\\\"]()) ? (this.valueFromJulia[\\\"formatted_value\\\"]=true, this.model[\\\"formatted_value\\\"](val)) : undefined})\")],\"index\"=>Any[JSString(\"(function (val){return (val!=this.model[\\\"index\\\"]()) ? (this.valueFromJulia[\\\"index\\\"]=true, this.model[\\\"index\\\"](val)) : undefined})\"), JSString(\"(function (val){return _webIOScope.setObservableValue({\\\"name\\\":\\\"formatted_value\\\",\\\"scope\\\":\\\"knockout-component-37f6044d-c8f8-407d-8d44-d8198f960e0e\\\",\\\"id\\\":\\\"ob_18\\\",\\\"type\\\":\\\"observable\\\"},_webIOScope.getObservableValue({\\\"name\\\":\\\"formatted_vals\\\",\\\"scope\\\":\\\"knockout-component-37f6044d-c8f8-407d-8d44-d8198f960e0e\\\",\\\"id\\\":\\\"ob_17\\\",\\\"type\\\":\\\"observable\\\"})[(_webIOScope.getObservableValue({\\\"name\\\":\\\"index\\\",\\\"scope\\\":\\\"knockout-component-37f6044d-c8f8-407d-8d44-d8198f960e0e\\\",\\\"id\\\":\\\"ob_16\\\",\\\"type\\\":\\\"observable\\\"})-1)])})\")]), ConnectionPool(Channel{Any}(sz_max:9223372036854775807,sz_curr:0), Set(AbstractConnection[]), Channel{AbstractConnection}(sz_max:32,sz_curr:0))), ##52#53{#dom#13{##dom#11#12{Dict{Any,Any},DOM}},typeof(scope)}(#dom#13{##dom#11#12{Dict{Any,Any},DOM}}(##dom#11#12{Dict{Any,Any},DOM}(Dict{Any,Any}(:className=>\"field\"), DOM(:html, :div))), scope)),:Y₂=>Widget{:slider,Float64}(OrderedDict{Symbol,Any}(:changes=>Observable{Int64} with 1 listeners. Value:\n",
       "0,:index=>Observable{Any} with 2 listeners. Value:\n",
       "50,:formatted_vals=>Observable{Any} with 1 listeners. Value:\n",
       "[\"0.1\", \"0.2\", \"0.3\", \"0.4\", \"0.5\", \"0.6\", \"0.7\", \"0.8\", \"0.9\", \"1.0\"  …  \"9.1\", \"9.2\", \"9.3\", \"9.4\", \"9.5\", \"9.6\", \"9.7\", \"9.8\", \"9.9\", \"10.0\"],:formatted_value=>Observable{String} with 1 listeners. Value:\n",
       "\"5.0\",:value=>Observable{Float64} with 2 listeners. Value:\n",
       "5.0), Observable{Float64} with 2 listeners. Value:\n",
       "5.0, Scope(\"knockout-component-876c57af-f54e-4b21-9d4b-c1c8f06b3d49\", Node{DOM}(DOM(:html, :div), Any[Node{DOM}(DOM(:html, :div), Any[Node{DOM}(DOM(:html, :label), Any[\"Y₂\"], Dict{Symbol,Any}(:className=>\"interact \",:style=>Dict{Any,Any}(:padding=>\"5px 10px 0px 10px\")), 1)], Dict{Symbol,Any}(:attributes=>Dict(\"style\"=>\"text-align:right;width:18%\")), 2), Node{DOM}(DOM(:html, :div), Any[Node{DOM}(DOM(:html, :input), Any[], Dict{Symbol,Any}(:max=>100,:min=>1,:attributes=>Dict{Any,Any}(:type=>\"range\",Symbol(\"data-bind\")=>\"numericValue: index, valueUpdate: 'input', event: {change : function () {this.changes(this.changes()+1)}}\",\"orient\"=>\"horizontal\"),:step=>1,:className=>\"slider slider is-fullwidth\",:style=>Dict{Any,Any}()), 0)], Dict{Symbol,Any}(:attributes=>Dict(\"style\"=>\"flex-grow:1; margin: 0 2%\")), 1), Node{DOM}(DOM(:html, :div), Any[Node{DOM}(DOM(:html, :p), Any[], Dict{Symbol,Any}(:attributes=>Dict(\"data-bind\"=>\"text: formatted_value\")), 0)], Dict{Symbol,Any}(:attributes=>Dict(\"style\"=>\"width:18%\")), 1)], Dict{Symbol,Any}(:attributes=>Dict(\"style\"=>\"display:flex; justify-content:center; align-items:center;\")), 7), Dict{String,Tuple{Observables.AbstractObservable,Union{Nothing, Bool}}}(\"formatted_vals\"=>(Observable{Any} with 1 listeners. Value:\n",
       "[\"0.1\", \"0.2\", \"0.3\", \"0.4\", \"0.5\", \"0.6\", \"0.7\", \"0.8\", \"0.9\", \"1.0\"  …  \"9.1\", \"9.2\", \"9.3\", \"9.4\", \"9.5\", \"9.6\", \"9.7\", \"9.8\", \"9.9\", \"10.0\"], nothing),\"changes\"=>(Observable{Int64} with 1 listeners. Value:\n",
       "0, nothing),\"formatted_value\"=>(Observable{String} with 1 listeners. Value:\n",
       "\"5.0\", nothing),\"index\"=>(Observable{Any} with 2 listeners. Value:\n",
       "50, nothing)), Set(String[]), nothing, Any[\"knockout\"=>\"/Users/stevenj/.julia/packages/Knockout/JIqpG/src/../assets/knockout.js\", \"knockout_punches\"=>\"/Users/stevenj/.julia/packages/Knockout/JIqpG/src/../assets/knockout_punches.js\", \"/Users/stevenj/.julia/packages/InteractBase/Q4IkI/src/../assets/all.js\", \"/Users/stevenj/.julia/packages/InteractBase/Q4IkI/src/../assets/style.css\", \"/Users/stevenj/.julia/packages/InteractBulma/Ohu5Y/src/../assets/main.css\"], Dict{Any,Any}(\"formatted_vals\"=>Any[JSString(\"(function (val){return (val!=this.model[\\\"formatted_vals\\\"]()) ? (this.valueFromJulia[\\\"formatted_vals\\\"]=true, this.model[\\\"formatted_vals\\\"](val)) : undefined})\")],\"_promises\"=>Dict{Any,Any}(\"importsLoaded\"=>Any[JSString(\"function (ko, koPunches) {\\n    ko.punches.enableAll();\\n    ko.bindingHandlers.numericValue = {\\n        init : function(element, valueAccessor, allBindings, data, context) {\\n            var stringified = ko.observable(ko.unwrap(valueAccessor()));\\n            stringified.subscribe(function(value) {\\n                var val = parseFloat(value);\\n                if (!isNaN(val)) {\\n                    valueAccessor()(val);\\n                }\\n            })\\n            valueAccessor().subscribe(function(value) {\\n                var str = JSON.stringify(value);\\n                if ((str == \\\"0\\\") && ([\\\"-0\\\", \\\"-0.\\\"].indexOf(stringified()) >= 0))\\n                     return;\\n                 if ([\\\"null\\\", \\\"\\\"].indexOf(str) >= 0)\\n                     return;\\n                stringified(str);\\n            })\\n            ko.applyBindingsToNode(element, { value: stringified, valueUpdate: allBindings.get('valueUpdate')}, context);\\n        }\\n    };\\n    var json_data = JSON.parse(\\\"{\\\\\\\"formatted_vals\\\\\\\":[\\\\\\\"0.1\\\\\\\",\\\\\\\"0.2\\\\\\\",\\\\\\\"0.3\\\\\\\",\\\\\\\"0.4\\\\\\\",\\\\\\\"0.5\\\\\\\",\\\\\\\"0.6\\\\\\\",\\\\\\\"0.7\\\\\\\",\\\\\\\"0.8\\\\\\\",\\\\\\\"0.9\\\\\\\",\\\\\\\"1.0\\\\\\\",\\\\\\\"1.1\\\\\\\",\\\\\\\"1.2\\\\\\\",\\\\\\\"1.3\\\\\\\",\\\\\\\"1.4\\\\\\\",\\\\\\\"1.5\\\\\\\",\\\\\\\"1.6\\\\\\\",\\\\\\\"1.7\\\\\\\",\\\\\\\"1.8\\\\\\\",\\\\\\\"1.9\\\\\\\",\\\\\\\"2.0\\\\\\\",\\\\\\\"2.1\\\\\\\",\\\\\\\"2.2\\\\\\\",\\\\\\\"2.3\\\\\\\",\\\\\\\"2.4\\\\\\\",\\\\\\\"2.5\\\\\\\",\\\\\\\"2.6\\\\\\\",\\\\\\\"2.7\\\\\\\",\\\\\\\"2.8\\\\\\\",\\\\\\\"2.9\\\\\\\",\\\\\\\"3.0\\\\\\\",\\\\\\\"3.1\\\\\\\",\\\\\\\"3.2\\\\\\\",\\\\\\\"3.3\\\\\\\",\\\\\\\"3.4\\\\\\\",\\\\\\\"3.5\\\\\\\",\\\\\\\"3.6\\\\\\\",\\\\\\\"3.7\\\\\\\",\\\\\\\"3.8\\\\\\\",\\\\\\\"3.9\\\\\\\",\\\\\\\"4.0\\\\\\\",\\\\\\\"4.1\\\\\\\",\\\\\\\"4.2\\\\\\\",\\\\\\\"4.3\\\\\\\",\\\\\\\"4.4\\\\\\\",\\\\\\\"4.5\\\\\\\",\\\\\\\"4.6\\\\\\\",\\\\\\\"4.7\\\\\\\",\\\\\\\"4.8\\\\\\\",\\\\\\\"4.9\\\\\\\",\\\\\\\"5.0\\\\\\\",\\\\\\\"5.1\\\\\\\",\\\\\\\"5.2\\\\\\\",\\\\\\\"5.3\\\\\\\",\\\\\\\"5.4\\\\\\\",\\\\\\\"5.5\\\\\\\",\\\\\\\"5.6\\\\\\\",\\\\\\\"5.7\\\\\\\",\\\\\\\"5.8\\\\\\\",\\\\\\\"5.9\\\\\\\",\\\\\\\"6.0\\\\\\\",\\\\\\\"6.1\\\\\\\",\\\\\\\"6.2\\\\\\\",\\\\\\\"6.3\\\\\\\",\\\\\\\"6.4\\\\\\\",\\\\\\\"6.5\\\\\\\",\\\\\\\"6.6\\\\\\\",\\\\\\\"6.7\\\\\\\",\\\\\\\"6.8\\\\\\\",\\\\\\\"6.9\\\\\\\",\\\\\\\"7.0\\\\\\\",\\\\\\\"7.1\\\\\\\",\\\\\\\"7.2\\\\\\\",\\\\\\\"7.3\\\\\\\",\\\\\\\"7.4\\\\\\\",\\\\\\\"7.5\\\\\\\",\\\\\\\"7.6\\\\\\\",\\\\\\\"7.7\\\\\\\",\\\\\\\"7.8\\\\\\\",\\\\\\\"7.9\\\\\\\",\\\\\\\"8.0\\\\\\\",\\\\\\\"8.1\\\\\\\",\\\\\\\"8.2\\\\\\\",\\\\\\\"8.3\\\\\\\",\\\\\\\"8.4\\\\\\\",\\\\\\\"8.5\\\\\\\",\\\\\\\"8.6\\\\\\\",\\\\\\\"8.7\\\\\\\",\\\\\\\"8.8\\\\\\\",\\\\\\\"8.9\\\\\\\",\\\\\\\"9.0\\\\\\\",\\\\\\\"9.1\\\\\\\",\\\\\\\"9.2\\\\\\\",\\\\\\\"9.3\\\\\\\",\\\\\\\"9.4\\\\\\\",\\\\\\\"9.5\\\\\\\",\\\\\\\"9.6\\\\\\\",\\\\\\\"9.7\\\\\\\",\\\\\\\"9.8\\\\\\\",\\\\\\\"9.9\\\\\\\",\\\\\\\"10.0\\\\\\\"],\\\\\\\"changes\\\\\\\":0,\\\\\\\"formatted_value\\\\\\\":\\\\\\\"5.0\\\\\\\",\\\\\\\"index\\\\\\\":50}\\\");\\n    var self = this;\\n    function AppViewModel() {\\n        for (var key in json_data) {\\n            var el = json_data[key];\\n            this[key] = Array.isArray(el) ? ko.observableArray(el) : ko.observable(el);\\n        }\\n        \\n        \\n        [this[\\\"formatted_vals\\\"].subscribe((function (val){!(this.valueFromJulia[\\\"formatted_vals\\\"]) ? (_webIOScope.setObservableValue({\\\"name\\\":\\\"formatted_vals\\\",\\\"scope\\\":\\\"knockout-component-876c57af-f54e-4b21-9d4b-c1c8f06b3d49\\\",\\\"id\\\":\\\"ob_22\\\",\\\"type\\\":\\\"observable\\\"},val)) : undefined; return this.valueFromJulia[\\\"formatted_vals\\\"]=false}),self),this[\\\"changes\\\"].subscribe((function (val){!(this.valueFromJulia[\\\"changes\\\"]) ? (_webIOScope.setObservableValue({\\\"name\\\":\\\"changes\\\",\\\"scope\\\":\\\"knockout-component-876c57af-f54e-4b21-9d4b-c1c8f06b3d49\\\",\\\"id\\\":\\\"ob_24\\\",\\\"type\\\":\\\"observable\\\"},val)) : undefined; return this.valueFromJulia[\\\"changes\\\"]=false}),self),this[\\\"formatted_value\\\"].subscribe((function (val){!(this.valueFromJulia[\\\"formatted_value\\\"]) ? (_webIOScope.setObservableValue({\\\"name\\\":\\\"formatted_value\\\",\\\"scope\\\":\\\"knockout-component-876c57af-f54e-4b21-9d4b-c1c8f06b3d49\\\",\\\"id\\\":\\\"ob_23\\\",\\\"type\\\":\\\"observable\\\"},val)) : undefined; return this.valueFromJulia[\\\"formatted_value\\\"]=false}),self),this[\\\"index\\\"].subscribe((function (val){!(this.valueFromJulia[\\\"index\\\"]) ? (_webIOScope.setObservableValue({\\\"name\\\":\\\"index\\\",\\\"scope\\\":\\\"knockout-component-876c57af-f54e-4b21-9d4b-c1c8f06b3d49\\\",\\\"id\\\":\\\"ob_21\\\",\\\"type\\\":\\\"observable\\\"},val)) : undefined; return this.valueFromJulia[\\\"index\\\"]=false}),self)]\\n        \\n    }\\n    self.model = new AppViewModel();\\n    self.valueFromJulia = {};\\n    for (var key in json_data) {\\n        self.valueFromJulia[key] = false;\\n    }\\n    ko.applyBindings(self.model, self.dom);\\n}\\n\")]),\"changes\"=>Any[JSString(\"(function (val){return (val!=this.model[\\\"changes\\\"]()) ? (this.valueFromJulia[\\\"changes\\\"]=true, this.model[\\\"changes\\\"](val)) : undefined})\")],\"formatted_value\"=>Any[JSString(\"(function (val){return (val!=this.model[\\\"formatted_value\\\"]()) ? (this.valueFromJulia[\\\"formatted_value\\\"]=true, this.model[\\\"formatted_value\\\"](val)) : undefined})\")],\"index\"=>Any[JSString(\"(function (val){return (val!=this.model[\\\"index\\\"]()) ? (this.valueFromJulia[\\\"index\\\"]=true, this.model[\\\"index\\\"](val)) : undefined})\"), JSString(\"(function (val){return _webIOScope.setObservableValue({\\\"name\\\":\\\"formatted_value\\\",\\\"scope\\\":\\\"knockout-component-876c57af-f54e-4b21-9d4b-c1c8f06b3d49\\\",\\\"id\\\":\\\"ob_23\\\",\\\"type\\\":\\\"observable\\\"},_webIOScope.getObservableValue({\\\"name\\\":\\\"formatted_vals\\\",\\\"scope\\\":\\\"knockout-component-876c57af-f54e-4b21-9d4b-c1c8f06b3d49\\\",\\\"id\\\":\\\"ob_22\\\",\\\"type\\\":\\\"observable\\\"})[(_webIOScope.getObservableValue({\\\"name\\\":\\\"index\\\",\\\"scope\\\":\\\"knockout-component-876c57af-f54e-4b21-9d4b-c1c8f06b3d49\\\",\\\"id\\\":\\\"ob_21\\\",\\\"type\\\":\\\"observable\\\"})-1)])})\")]), ConnectionPool(Channel{Any}(sz_max:9223372036854775807,sz_curr:0), Set(AbstractConnection[]), Channel{AbstractConnection}(sz_max:32,sz_curr:0))), ##52#53{#dom#13{##dom#11#12{Dict{Any,Any},DOM}},typeof(scope)}(#dom#13{##dom#11#12{Dict{Any,Any},DOM}}(##dom#11#12{Dict{Any,Any},DOM}(Dict{Any,Any}(:className=>\"field\"), DOM(:html, :div))), scope)),:Y₃=>Widget{:slider,Float64}(OrderedDict{Symbol,Any}(:changes=>Observable{Int64} with 1 listeners. Value:\n",
       "0,:index=>Observable{Any} with 2 listeners. Value:\n",
       "50,:formatted_vals=>Observable{Any} with 1 listeners. Value:\n",
       "[\"0.1\", \"0.2\", \"0.3\", \"0.4\", \"0.5\", \"0.6\", \"0.7\", \"0.8\", \"0.9\", \"1.0\"  …  \"9.1\", \"9.2\", \"9.3\", \"9.4\", \"9.5\", \"9.6\", \"9.7\", \"9.8\", \"9.9\", \"10.0\"],:formatted_value=>Observable{String} with 1 listeners. Value:\n",
       "\"5.0\",:value=>Observable{Float64} with 2 listeners. Value:\n",
       "5.0), Observable{Float64} with 2 listeners. Value:\n",
       "5.0, Scope(\"knockout-component-357cabbd-89fe-4f9b-9166-4c2fd4599e49\", Node{DOM}(DOM(:html, :div), Any[Node{DOM}(DOM(:html, :div), Any[Node{DOM}(DOM(:html, :label), Any[\"Y₃\"], Dict{Symbol,Any}(:className=>\"interact \",:style=>Dict{Any,Any}(:padding=>\"5px 10px 0px 10px\")), 1)], Dict{Symbol,Any}(:attributes=>Dict(\"style\"=>\"text-align:right;width:18%\")), 2), Node{DOM}(DOM(:html, :div), Any[Node{DOM}(DOM(:html, :input), Any[], Dict{Symbol,Any}(:max=>100,:min=>1,:attributes=>Dict{Any,Any}(:type=>\"range\",Symbol(\"data-bind\")=>\"numericValue: index, valueUpdate: 'input', event: {change : function () {this.changes(this.changes()+1)}}\",\"orient\"=>\"horizontal\"),:step=>1,:className=>\"slider slider is-fullwidth\",:style=>Dict{Any,Any}()), 0)], Dict{Symbol,Any}(:attributes=>Dict(\"style\"=>\"flex-grow:1; margin: 0 2%\")), 1), Node{DOM}(DOM(:html, :div), Any[Node{DOM}(DOM(:html, :p), Any[], Dict{Symbol,Any}(:attributes=>Dict(\"data-bind\"=>\"text: formatted_value\")), 0)], Dict{Symbol,Any}(:attributes=>Dict(\"style\"=>\"width:18%\")), 1)], Dict{Symbol,Any}(:attributes=>Dict(\"style\"=>\"display:flex; justify-content:center; align-items:center;\")), 7), Dict{String,Tuple{Observables.AbstractObservable,Union{Nothing, Bool}}}(\"formatted_vals\"=>(Observable{Any} with 1 listeners. Value:\n",
       "[\"0.1\", \"0.2\", \"0.3\", \"0.4\", \"0.5\", \"0.6\", \"0.7\", \"0.8\", \"0.9\", \"1.0\"  …  \"9.1\", \"9.2\", \"9.3\", \"9.4\", \"9.5\", \"9.6\", \"9.7\", \"9.8\", \"9.9\", \"10.0\"], nothing),\"changes\"=>(Observable{Int64} with 1 listeners. Value:\n",
       "0, nothing),\"formatted_value\"=>(Observable{String} with 1 listeners. Value:\n",
       "\"5.0\", nothing),\"index\"=>(Observable{Any} with 2 listeners. Value:\n",
       "50, nothing)), Set(String[]), nothing, Any[\"knockout\"=>\"/Users/stevenj/.julia/packages/Knockout/JIqpG/src/../assets/knockout.js\", \"knockout_punches\"=>\"/Users/stevenj/.julia/packages/Knockout/JIqpG/src/../assets/knockout_punches.js\", \"/Users/stevenj/.julia/packages/InteractBase/Q4IkI/src/../assets/all.js\", \"/Users/stevenj/.julia/packages/InteractBase/Q4IkI/src/../assets/style.css\", \"/Users/stevenj/.julia/packages/InteractBulma/Ohu5Y/src/../assets/main.css\"], Dict{Any,Any}(\"formatted_vals\"=>Any[JSString(\"(function (val){return (val!=this.model[\\\"formatted_vals\\\"]()) ? (this.valueFromJulia[\\\"formatted_vals\\\"]=true, this.model[\\\"formatted_vals\\\"](val)) : undefined})\")],\"_promises\"=>Dict{Any,Any}(\"importsLoaded\"=>Any[JSString(\"function (ko, koPunches) {\\n    ko.punches.enableAll();\\n    ko.bindingHandlers.numericValue = {\\n        init : function(element, valueAccessor, allBindings, data, context) {\\n            var stringified = ko.observable(ko.unwrap(valueAccessor()));\\n            stringified.subscribe(function(value) {\\n                var val = parseFloat(value);\\n                if (!isNaN(val)) {\\n                    valueAccessor()(val);\\n                }\\n            })\\n            valueAccessor().subscribe(function(value) {\\n                var str = JSON.stringify(value);\\n                if ((str == \\\"0\\\") && ([\\\"-0\\\", \\\"-0.\\\"].indexOf(stringified()) >= 0))\\n                     return;\\n                 if ([\\\"null\\\", \\\"\\\"].indexOf(str) >= 0)\\n                     return;\\n                stringified(str);\\n            })\\n            ko.applyBindingsToNode(element, { value: stringified, valueUpdate: allBindings.get('valueUpdate')}, context);\\n        }\\n    };\\n    var json_data = JSON.parse(\\\"{\\\\\\\"formatted_vals\\\\\\\":[\\\\\\\"0.1\\\\\\\",\\\\\\\"0.2\\\\\\\",\\\\\\\"0.3\\\\\\\",\\\\\\\"0.4\\\\\\\",\\\\\\\"0.5\\\\\\\",\\\\\\\"0.6\\\\\\\",\\\\\\\"0.7\\\\\\\",\\\\\\\"0.8\\\\\\\",\\\\\\\"0.9\\\\\\\",\\\\\\\"1.0\\\\\\\",\\\\\\\"1.1\\\\\\\",\\\\\\\"1.2\\\\\\\",\\\\\\\"1.3\\\\\\\",\\\\\\\"1.4\\\\\\\",\\\\\\\"1.5\\\\\\\",\\\\\\\"1.6\\\\\\\",\\\\\\\"1.7\\\\\\\",\\\\\\\"1.8\\\\\\\",\\\\\\\"1.9\\\\\\\",\\\\\\\"2.0\\\\\\\",\\\\\\\"2.1\\\\\\\",\\\\\\\"2.2\\\\\\\",\\\\\\\"2.3\\\\\\\",\\\\\\\"2.4\\\\\\\",\\\\\\\"2.5\\\\\\\",\\\\\\\"2.6\\\\\\\",\\\\\\\"2.7\\\\\\\",\\\\\\\"2.8\\\\\\\",\\\\\\\"2.9\\\\\\\",\\\\\\\"3.0\\\\\\\",\\\\\\\"3.1\\\\\\\",\\\\\\\"3.2\\\\\\\",\\\\\\\"3.3\\\\\\\",\\\\\\\"3.4\\\\\\\",\\\\\\\"3.5\\\\\\\",\\\\\\\"3.6\\\\\\\",\\\\\\\"3.7\\\\\\\",\\\\\\\"3.8\\\\\\\",\\\\\\\"3.9\\\\\\\",\\\\\\\"4.0\\\\\\\",\\\\\\\"4.1\\\\\\\",\\\\\\\"4.2\\\\\\\",\\\\\\\"4.3\\\\\\\",\\\\\\\"4.4\\\\\\\",\\\\\\\"4.5\\\\\\\",\\\\\\\"4.6\\\\\\\",\\\\\\\"4.7\\\\\\\",\\\\\\\"4.8\\\\\\\",\\\\\\\"4.9\\\\\\\",\\\\\\\"5.0\\\\\\\",\\\\\\\"5.1\\\\\\\",\\\\\\\"5.2\\\\\\\",\\\\\\\"5.3\\\\\\\",\\\\\\\"5.4\\\\\\\",\\\\\\\"5.5\\\\\\\",\\\\\\\"5.6\\\\\\\",\\\\\\\"5.7\\\\\\\",\\\\\\\"5.8\\\\\\\",\\\\\\\"5.9\\\\\\\",\\\\\\\"6.0\\\\\\\",\\\\\\\"6.1\\\\\\\",\\\\\\\"6.2\\\\\\\",\\\\\\\"6.3\\\\\\\",\\\\\\\"6.4\\\\\\\",\\\\\\\"6.5\\\\\\\",\\\\\\\"6.6\\\\\\\",\\\\\\\"6.7\\\\\\\",\\\\\\\"6.8\\\\\\\",\\\\\\\"6.9\\\\\\\",\\\\\\\"7.0\\\\\\\",\\\\\\\"7.1\\\\\\\",\\\\\\\"7.2\\\\\\\",\\\\\\\"7.3\\\\\\\",\\\\\\\"7.4\\\\\\\",\\\\\\\"7.5\\\\\\\",\\\\\\\"7.6\\\\\\\",\\\\\\\"7.7\\\\\\\",\\\\\\\"7.8\\\\\\\",\\\\\\\"7.9\\\\\\\",\\\\\\\"8.0\\\\\\\",\\\\\\\"8.1\\\\\\\",\\\\\\\"8.2\\\\\\\",\\\\\\\"8.3\\\\\\\",\\\\\\\"8.4\\\\\\\",\\\\\\\"8.5\\\\\\\",\\\\\\\"8.6\\\\\\\",\\\\\\\"8.7\\\\\\\",\\\\\\\"8.8\\\\\\\",\\\\\\\"8.9\\\\\\\",\\\\\\\"9.0\\\\\\\",\\\\\\\"9.1\\\\\\\",\\\\\\\"9.2\\\\\\\",\\\\\\\"9.3\\\\\\\",\\\\\\\"9.4\\\\\\\",\\\\\\\"9.5\\\\\\\",\\\\\\\"9.6\\\\\\\",\\\\\\\"9.7\\\\\\\",\\\\\\\"9.8\\\\\\\",\\\\\\\"9.9\\\\\\\",\\\\\\\"10.0\\\\\\\"],\\\\\\\"changes\\\\\\\":0,\\\\\\\"formatted_value\\\\\\\":\\\\\\\"5.0\\\\\\\",\\\\\\\"index\\\\\\\":50}\\\");\\n    var self = this;\\n    function AppViewModel() {\\n        for (var key in json_data) {\\n            var el = json_data[key];\\n            this[key] = Array.isArray(el) ? ko.observableArray(el) : ko.observable(el);\\n        }\\n        \\n        \\n        [this[\\\"formatted_vals\\\"].subscribe((function (val){!(this.valueFromJulia[\\\"formatted_vals\\\"]) ? (_webIOScope.setObservableValue({\\\"name\\\":\\\"formatted_vals\\\",\\\"scope\\\":\\\"knockout-component-357cabbd-89fe-4f9b-9166-4c2fd4599e49\\\",\\\"id\\\":\\\"ob_27\\\",\\\"type\\\":\\\"observable\\\"},val)) : undefined; return this.valueFromJulia[\\\"formatted_vals\\\"]=false}),self),this[\\\"changes\\\"].subscribe((function (val){!(this.valueFromJulia[\\\"changes\\\"]) ? (_webIOScope.setObservableValue({\\\"name\\\":\\\"changes\\\",\\\"scope\\\":\\\"knockout-component-357cabbd-89fe-4f9b-9166-4c2fd4599e49\\\",\\\"id\\\":\\\"ob_29\\\",\\\"type\\\":\\\"observable\\\"},val)) : undefined; return this.valueFromJulia[\\\"changes\\\"]=false}),self),this[\\\"formatted_value\\\"].subscribe((function (val){!(this.valueFromJulia[\\\"formatted_value\\\"]) ? (_webIOScope.setObservableValue({\\\"name\\\":\\\"formatted_value\\\",\\\"scope\\\":\\\"knockout-component-357cabbd-89fe-4f9b-9166-4c2fd4599e49\\\",\\\"id\\\":\\\"ob_28\\\",\\\"type\\\":\\\"observable\\\"},val)) : undefined; return this.valueFromJulia[\\\"formatted_value\\\"]=false}),self),this[\\\"index\\\"].subscribe((function (val){!(this.valueFromJulia[\\\"index\\\"]) ? (_webIOScope.setObservableValue({\\\"name\\\":\\\"index\\\",\\\"scope\\\":\\\"knockout-component-357cabbd-89fe-4f9b-9166-4c2fd4599e49\\\",\\\"id\\\":\\\"ob_26\\\",\\\"type\\\":\\\"observable\\\"},val)) : undefined; return this.valueFromJulia[\\\"index\\\"]=false}),self)]\\n        \\n    }\\n    self.model = new AppViewModel();\\n    self.valueFromJulia = {};\\n    for (var key in json_data) {\\n        self.valueFromJulia[key] = false;\\n    }\\n    ko.applyBindings(self.model, self.dom);\\n}\\n\")]),\"changes\"=>Any[JSString(\"(function (val){return (val!=this.model[\\\"changes\\\"]()) ? (this.valueFromJulia[\\\"changes\\\"]=true, this.model[\\\"changes\\\"](val)) : undefined})\")],\"formatted_value\"=>Any[JSString(\"(function (val){return (val!=this.model[\\\"formatted_value\\\"]()) ? (this.valueFromJulia[\\\"formatted_value\\\"]=true, this.model[\\\"formatted_value\\\"](val)) : undefined})\")],\"index\"=>Any[JSString(\"(function (val){return (val!=this.model[\\\"index\\\"]()) ? (this.valueFromJulia[\\\"index\\\"]=true, this.model[\\\"index\\\"](val)) : undefined})\"), JSString(\"(function (val){return _webIOScope.setObservableValue({\\\"name\\\":\\\"formatted_value\\\",\\\"scope\\\":\\\"knockout-component-357cabbd-89fe-4f9b-9166-4c2fd4599e49\\\",\\\"id\\\":\\\"ob_28\\\",\\\"type\\\":\\\"observable\\\"},_webIOScope.getObservableValue({\\\"name\\\":\\\"formatted_vals\\\",\\\"scope\\\":\\\"knockout-component-357cabbd-89fe-4f9b-9166-4c2fd4599e49\\\",\\\"id\\\":\\\"ob_27\\\",\\\"type\\\":\\\"observable\\\"})[(_webIOScope.getObservableValue({\\\"name\\\":\\\"index\\\",\\\"scope\\\":\\\"knockout-component-357cabbd-89fe-4f9b-9166-4c2fd4599e49\\\",\\\"id\\\":\\\"ob_26\\\",\\\"type\\\":\\\"observable\\\"})-1)])})\")]), ConnectionPool(Channel{Any}(sz_max:9223372036854775807,sz_curr:0), Set(AbstractConnection[]), Channel{AbstractConnection}(sz_max:32,sz_curr:0))), ##52#53{#dom#13{##dom#11#12{Dict{Any,Any},DOM}},typeof(scope)}(#dom#13{##dom#11#12{Dict{Any,Any},DOM}}(##dom#11#12{Dict{Any,Any},DOM}(Dict{Any,Any}(:className=>\"field\"), DOM(:html, :div))), scope)),:Y₄=>Widget{:slider,Float64}(OrderedDict{Symbol,Any}(:changes=>Observable{Int64} with 1 listeners. Value:\n",
       "0,:index=>Observable{Any} with 2 listeners. Value:\n",
       "50,:formatted_vals=>Observable{Any} with 1 listeners. Value:\n",
       "[\"0.1\", \"0.2\", \"0.3\", \"0.4\", \"0.5\", \"0.6\", \"0.7\", \"0.8\", \"0.9\", \"1.0\"  …  \"9.1\", \"9.2\", \"9.3\", \"9.4\", \"9.5\", \"9.6\", \"9.7\", \"9.8\", \"9.9\", \"10.0\"],:formatted_value=>Observable{String} with 1 listeners. Value:\n",
       "\"5.0\",:value=>Observable{Float64} with 2 listeners. Value:\n",
       "5.0), Observable{Float64} with 2 listeners. Value:\n",
       "5.0, Scope(\"knockout-component-70a9c1c0-2a3e-435f-bea7-89ddfc755348\", Node{DOM}(DOM(:html, :div), Any[Node{DOM}(DOM(:html, :div), Any[Node{DOM}(DOM(:html, :label), Any[\"Y₄\"], Dict{Symbol,Any}(:className=>\"interact \",:style=>Dict{Any,Any}(:padding=>\"5px 10px 0px 10px\")), 1)], Dict{Symbol,Any}(:attributes=>Dict(\"style\"=>\"text-align:right;width:18%\")), 2), Node{DOM}(DOM(:html, :div), Any[Node{DOM}(DOM(:html, :input), Any[], Dict{Symbol,Any}(:max=>100,:min=>1,:attributes=>Dict{Any,Any}(:type=>\"range\",Symbol(\"data-bind\")=>\"numericValue: index, valueUpdate: 'input', event: {change : function () {this.changes(this.changes()+1)}}\",\"orient\"=>\"horizontal\"),:step=>1,:className=>\"slider slider is-fullwidth\",:style=>Dict{Any,Any}()), 0)], Dict{Symbol,Any}(:attributes=>Dict(\"style\"=>\"flex-grow:1; margin: 0 2%\")), 1), Node{DOM}(DOM(:html, :div), Any[Node{DOM}(DOM(:html, :p), Any[], Dict{Symbol,Any}(:attributes=>Dict(\"data-bind\"=>\"text: formatted_value\")), 0)], Dict{Symbol,Any}(:attributes=>Dict(\"style\"=>\"width:18%\")), 1)], Dict{Symbol,Any}(:attributes=>Dict(\"style\"=>\"display:flex; justify-content:center; align-items:center;\")), 7), Dict{String,Tuple{Observables.AbstractObservable,Union{Nothing, Bool}}}(\"formatted_vals\"=>(Observable{Any} with 1 listeners. Value:\n",
       "[\"0.1\", \"0.2\", \"0.3\", \"0.4\", \"0.5\", \"0.6\", \"0.7\", \"0.8\", \"0.9\", \"1.0\"  …  \"9.1\", \"9.2\", \"9.3\", \"9.4\", \"9.5\", \"9.6\", \"9.7\", \"9.8\", \"9.9\", \"10.0\"], nothing),\"changes\"=>(Observable{Int64} with 1 listeners. Value:\n",
       "0, nothing),\"formatted_value\"=>(Observable{String} with 1 listeners. Value:\n",
       "\"5.0\", nothing),\"index\"=>(Observable{Any} with 2 listeners. Value:\n",
       "50, nothing)), Set(String[]), nothing, Any[\"knockout\"=>\"/Users/stevenj/.julia/packages/Knockout/JIqpG/src/../assets/knockout.js\", \"knockout_punches\"=>\"/Users/stevenj/.julia/packages/Knockout/JIqpG/src/../assets/knockout_punches.js\", \"/Users/stevenj/.julia/packages/InteractBase/Q4IkI/src/../assets/all.js\", \"/Users/stevenj/.julia/packages/InteractBase/Q4IkI/src/../assets/style.css\", \"/Users/stevenj/.julia/packages/InteractBulma/Ohu5Y/src/../assets/main.css\"], Dict{Any,Any}(\"formatted_vals\"=>Any[JSString(\"(function (val){return (val!=this.model[\\\"formatted_vals\\\"]()) ? (this.valueFromJulia[\\\"formatted_vals\\\"]=true, this.model[\\\"formatted_vals\\\"](val)) : undefined})\")],\"_promises\"=>Dict{Any,Any}(\"importsLoaded\"=>Any[JSString(\"function (ko, koPunches) {\\n    ko.punches.enableAll();\\n    ko.bindingHandlers.numericValue = {\\n        init : function(element, valueAccessor, allBindings, data, context) {\\n            var stringified = ko.observable(ko.unwrap(valueAccessor()));\\n            stringified.subscribe(function(value) {\\n                var val = parseFloat(value);\\n                if (!isNaN(val)) {\\n                    valueAccessor()(val);\\n                }\\n            })\\n            valueAccessor().subscribe(function(value) {\\n                var str = JSON.stringify(value);\\n                if ((str == \\\"0\\\") && ([\\\"-0\\\", \\\"-0.\\\"].indexOf(stringified()) >= 0))\\n                     return;\\n                 if ([\\\"null\\\", \\\"\\\"].indexOf(str) >= 0)\\n                     return;\\n                stringified(str);\\n            })\\n            ko.applyBindingsToNode(element, { value: stringified, valueUpdate: allBindings.get('valueUpdate')}, context);\\n        }\\n    };\\n    var json_data = JSON.parse(\\\"{\\\\\\\"formatted_vals\\\\\\\":[\\\\\\\"0.1\\\\\\\",\\\\\\\"0.2\\\\\\\",\\\\\\\"0.3\\\\\\\",\\\\\\\"0.4\\\\\\\",\\\\\\\"0.5\\\\\\\",\\\\\\\"0.6\\\\\\\",\\\\\\\"0.7\\\\\\\",\\\\\\\"0.8\\\\\\\",\\\\\\\"0.9\\\\\\\",\\\\\\\"1.0\\\\\\\",\\\\\\\"1.1\\\\\\\",\\\\\\\"1.2\\\\\\\",\\\\\\\"1.3\\\\\\\",\\\\\\\"1.4\\\\\\\",\\\\\\\"1.5\\\\\\\",\\\\\\\"1.6\\\\\\\",\\\\\\\"1.7\\\\\\\",\\\\\\\"1.8\\\\\\\",\\\\\\\"1.9\\\\\\\",\\\\\\\"2.0\\\\\\\",\\\\\\\"2.1\\\\\\\",\\\\\\\"2.2\\\\\\\",\\\\\\\"2.3\\\\\\\",\\\\\\\"2.4\\\\\\\",\\\\\\\"2.5\\\\\\\",\\\\\\\"2.6\\\\\\\",\\\\\\\"2.7\\\\\\\",\\\\\\\"2.8\\\\\\\",\\\\\\\"2.9\\\\\\\",\\\\\\\"3.0\\\\\\\",\\\\\\\"3.1\\\\\\\",\\\\\\\"3.2\\\\\\\",\\\\\\\"3.3\\\\\\\",\\\\\\\"3.4\\\\\\\",\\\\\\\"3.5\\\\\\\",\\\\\\\"3.6\\\\\\\",\\\\\\\"3.7\\\\\\\",\\\\\\\"3.8\\\\\\\",\\\\\\\"3.9\\\\\\\",\\\\\\\"4.0\\\\\\\",\\\\\\\"4.1\\\\\\\",\\\\\\\"4.2\\\\\\\",\\\\\\\"4.3\\\\\\\",\\\\\\\"4.4\\\\\\\",\\\\\\\"4.5\\\\\\\",\\\\\\\"4.6\\\\\\\",\\\\\\\"4.7\\\\\\\",\\\\\\\"4.8\\\\\\\",\\\\\\\"4.9\\\\\\\",\\\\\\\"5.0\\\\\\\",\\\\\\\"5.1\\\\\\\",\\\\\\\"5.2\\\\\\\",\\\\\\\"5.3\\\\\\\",\\\\\\\"5.4\\\\\\\",\\\\\\\"5.5\\\\\\\",\\\\\\\"5.6\\\\\\\",\\\\\\\"5.7\\\\\\\",\\\\\\\"5.8\\\\\\\",\\\\\\\"5.9\\\\\\\",\\\\\\\"6.0\\\\\\\",\\\\\\\"6.1\\\\\\\",\\\\\\\"6.2\\\\\\\",\\\\\\\"6.3\\\\\\\",\\\\\\\"6.4\\\\\\\",\\\\\\\"6.5\\\\\\\",\\\\\\\"6.6\\\\\\\",\\\\\\\"6.7\\\\\\\",\\\\\\\"6.8\\\\\\\",\\\\\\\"6.9\\\\\\\",\\\\\\\"7.0\\\\\\\",\\\\\\\"7.1\\\\\\\",\\\\\\\"7.2\\\\\\\",\\\\\\\"7.3\\\\\\\",\\\\\\\"7.4\\\\\\\",\\\\\\\"7.5\\\\\\\",\\\\\\\"7.6\\\\\\\",\\\\\\\"7.7\\\\\\\",\\\\\\\"7.8\\\\\\\",\\\\\\\"7.9\\\\\\\",\\\\\\\"8.0\\\\\\\",\\\\\\\"8.1\\\\\\\",\\\\\\\"8.2\\\\\\\",\\\\\\\"8.3\\\\\\\",\\\\\\\"8.4\\\\\\\",\\\\\\\"8.5\\\\\\\",\\\\\\\"8.6\\\\\\\",\\\\\\\"8.7\\\\\\\",\\\\\\\"8.8\\\\\\\",\\\\\\\"8.9\\\\\\\",\\\\\\\"9.0\\\\\\\",\\\\\\\"9.1\\\\\\\",\\\\\\\"9.2\\\\\\\",\\\\\\\"9.3\\\\\\\",\\\\\\\"9.4\\\\\\\",\\\\\\\"9.5\\\\\\\",\\\\\\\"9.6\\\\\\\",\\\\\\\"9.7\\\\\\\",\\\\\\\"9.8\\\\\\\",\\\\\\\"9.9\\\\\\\",\\\\\\\"10.0\\\\\\\"],\\\\\\\"changes\\\\\\\":0,\\\\\\\"formatted_value\\\\\\\":\\\\\\\"5.0\\\\\\\",\\\\\\\"index\\\\\\\":50}\\\");\\n    var self = this;\\n    function AppViewModel() {\\n        for (var key in json_data) {\\n            var el = json_data[key];\\n            this[key] = Array.isArray(el) ? ko.observableArray(el) : ko.observable(el);\\n        }\\n        \\n        \\n        [this[\\\"formatted_vals\\\"].subscribe((function (val){!(this.valueFromJulia[\\\"formatted_vals\\\"]) ? (_webIOScope.setObservableValue({\\\"name\\\":\\\"formatted_vals\\\",\\\"scope\\\":\\\"knockout-component-70a9c1c0-2a3e-435f-bea7-89ddfc755348\\\",\\\"id\\\":\\\"ob_32\\\",\\\"type\\\":\\\"observable\\\"},val)) : undefined; return this.valueFromJulia[\\\"formatted_vals\\\"]=false}),self),this[\\\"changes\\\"].subscribe((function (val){!(this.valueFromJulia[\\\"changes\\\"]) ? (_webIOScope.setObservableValue({\\\"name\\\":\\\"changes\\\",\\\"scope\\\":\\\"knockout-component-70a9c1c0-2a3e-435f-bea7-89ddfc755348\\\",\\\"id\\\":\\\"ob_34\\\",\\\"type\\\":\\\"observable\\\"},val)) : undefined; return this.valueFromJulia[\\\"changes\\\"]=false}),self),this[\\\"formatted_value\\\"].subscribe((function (val){!(this.valueFromJulia[\\\"formatted_value\\\"]) ? (_webIOScope.setObservableValue({\\\"name\\\":\\\"formatted_value\\\",\\\"scope\\\":\\\"knockout-component-70a9c1c0-2a3e-435f-bea7-89ddfc755348\\\",\\\"id\\\":\\\"ob_33\\\",\\\"type\\\":\\\"observable\\\"},val)) : undefined; return this.valueFromJulia[\\\"formatted_value\\\"]=false}),self),this[\\\"index\\\"].subscribe((function (val){!(this.valueFromJulia[\\\"index\\\"]) ? (_webIOScope.setObservableValue({\\\"name\\\":\\\"index\\\",\\\"scope\\\":\\\"knockout-component-70a9c1c0-2a3e-435f-bea7-89ddfc755348\\\",\\\"id\\\":\\\"ob_31\\\",\\\"type\\\":\\\"observable\\\"},val)) : undefined; return this.valueFromJulia[\\\"index\\\"]=false}),self)]\\n        \\n    }\\n    self.model = new AppViewModel();\\n    self.valueFromJulia = {};\\n    for (var key in json_data) {\\n        self.valueFromJulia[key] = false;\\n    }\\n    ko.applyBindings(self.model, self.dom);\\n}\\n\")]),\"changes\"=>Any[JSString(\"(function (val){return (val!=this.model[\\\"changes\\\"]()) ? (this.valueFromJulia[\\\"changes\\\"]=true, this.model[\\\"changes\\\"](val)) : undefined})\")],\"formatted_value\"=>Any[JSString(\"(function (val){return (val!=this.model[\\\"formatted_value\\\"]()) ? (this.valueFromJulia[\\\"formatted_value\\\"]=true, this.model[\\\"formatted_value\\\"](val)) : undefined})\")],\"index\"=>Any[JSString(\"(function (val){return (val!=this.model[\\\"index\\\"]()) ? (this.valueFromJulia[\\\"index\\\"]=true, this.model[\\\"index\\\"](val)) : undefined})\"), JSString(\"(function (val){return _webIOScope.setObservableValue({\\\"name\\\":\\\"formatted_value\\\",\\\"scope\\\":\\\"knockout-component-70a9c1c0-2a3e-435f-bea7-89ddfc755348\\\",\\\"id\\\":\\\"ob_33\\\",\\\"type\\\":\\\"observable\\\"},_webIOScope.getObservableValue({\\\"name\\\":\\\"formatted_vals\\\",\\\"scope\\\":\\\"knockout-component-70a9c1c0-2a3e-435f-bea7-89ddfc755348\\\",\\\"id\\\":\\\"ob_32\\\",\\\"type\\\":\\\"observable\\\"})[(_webIOScope.getObservableValue({\\\"name\\\":\\\"index\\\",\\\"scope\\\":\\\"knockout-component-70a9c1c0-2a3e-435f-bea7-89ddfc755348\\\",\\\"id\\\":\\\"ob_31\\\",\\\"type\\\":\\\"observable\\\"})-1)])})\")]), ConnectionPool(Channel{Any}(sz_max:9223372036854775807,sz_curr:0), Set(AbstractConnection[]), Channel{AbstractConnection}(sz_max:32,sz_curr:0))), ##52#53{#dom#13{##dom#11#12{Dict{Any,Any},DOM}},typeof(scope)}(#dom#13{##dom#11#12{Dict{Any,Any},DOM}}(##dom#11#12{Dict{Any,Any},DOM}(Dict{Any,Any}(:className=>\"field\"), DOM(:html, :div))), scope)),:Y₅=>Widget{:slider,Float64}(OrderedDict{Symbol,Any}(:changes=>Observable{Int64} with 1 listeners. Value:\n",
       "0,:index=>Observable{Any} with 2 listeners. Value:\n",
       "50,:formatted_vals=>Observable{Any} with 1 listeners. Value:\n",
       "[\"0.1\", \"0.2\", \"0.3\", \"0.4\", \"0.5\", \"0.6\", \"0.7\", \"0.8\", \"0.9\", \"1.0\"  …  \"9.1\", \"9.2\", \"9.3\", \"9.4\", \"9.5\", \"9.6\", \"9.7\", \"9.8\", \"9.9\", \"10.0\"],:formatted_value=>Observable{String} with 1 listeners. Value:\n",
       "\"5.0\",:value=>Observable{Float64} with 2 listeners. Value:\n",
       "5.0), Observable{Float64} with 2 listeners. Value:\n",
       "5.0, Scope(\"knockout-component-6c9c0868-bb9e-4e26-9a7a-857b4f61a1ce\", Node{DOM}(DOM(:html, :div), Any[Node{DOM}(DOM(:html, :div), Any[Node{DOM}(DOM(:html, :label), Any[\"Y₅\"], Dict{Symbol,Any}(:className=>\"interact \",:style=>Dict{Any,Any}(:padding=>\"5px 10px 0px 10px\")), 1)], Dict{Symbol,Any}(:attributes=>Dict(\"style\"=>\"text-align:right;width:18%\")), 2), Node{DOM}(DOM(:html, :div), Any[Node{DOM}(DOM(:html, :input), Any[], Dict{Symbol,Any}(:max=>100,:min=>1,:attributes=>Dict{Any,Any}(:type=>\"range\",Symbol(\"data-bind\")=>\"numericValue: index, valueUpdate: 'input', event: {change : function () {this.changes(this.changes()+1)}}\",\"orient\"=>\"horizontal\"),:step=>1,:className=>\"slider slider is-fullwidth\",:style=>Dict{Any,Any}()), 0)], Dict{Symbol,Any}(:attributes=>Dict(\"style\"=>\"flex-grow:1; margin: 0 2%\")), 1), Node{DOM}(DOM(:html, :div), Any[Node{DOM}(DOM(:html, :p), Any[], Dict{Symbol,Any}(:attributes=>Dict(\"data-bind\"=>\"text: formatted_value\")), 0)], Dict{Symbol,Any}(:attributes=>Dict(\"style\"=>\"width:18%\")), 1)], Dict{Symbol,Any}(:attributes=>Dict(\"style\"=>\"display:flex; justify-content:center; align-items:center;\")), 7), Dict{String,Tuple{Observables.AbstractObservable,Union{Nothing, Bool}}}(\"formatted_vals\"=>(Observable{Any} with 1 listeners. Value:\n",
       "[\"0.1\", \"0.2\", \"0.3\", \"0.4\", \"0.5\", \"0.6\", \"0.7\", \"0.8\", \"0.9\", \"1.0\"  …  \"9.1\", \"9.2\", \"9.3\", \"9.4\", \"9.5\", \"9.6\", \"9.7\", \"9.8\", \"9.9\", \"10.0\"], nothing),\"changes\"=>(Observable{Int64} with 1 listeners. Value:\n",
       "0, nothing),\"formatted_value\"=>(Observable{String} with 1 listeners. Value:\n",
       "\"5.0\", nothing),\"index\"=>(Observable{Any} with 2 listeners. Value:\n",
       "50, nothing)), Set(String[]), nothing, Any[\"knockout\"=>\"/Users/stevenj/.julia/packages/Knockout/JIqpG/src/../assets/knockout.js\", \"knockout_punches\"=>\"/Users/stevenj/.julia/packages/Knockout/JIqpG/src/../assets/knockout_punches.js\", \"/Users/stevenj/.julia/packages/InteractBase/Q4IkI/src/../assets/all.js\", \"/Users/stevenj/.julia/packages/InteractBase/Q4IkI/src/../assets/style.css\", \"/Users/stevenj/.julia/packages/InteractBulma/Ohu5Y/src/../assets/main.css\"], Dict{Any,Any}(\"formatted_vals\"=>Any[JSString(\"(function (val){return (val!=this.model[\\\"formatted_vals\\\"]()) ? (this.valueFromJulia[\\\"formatted_vals\\\"]=true, this.model[\\\"formatted_vals\\\"](val)) : undefined})\")],\"_promises\"=>Dict{Any,Any}(\"importsLoaded\"=>Any[JSString(\"function (ko, koPunches) {\\n    ko.punches.enableAll();\\n    ko.bindingHandlers.numericValue = {\\n        init : function(element, valueAccessor, allBindings, data, context) {\\n            var stringified = ko.observable(ko.unwrap(valueAccessor()));\\n            stringified.subscribe(function(value) {\\n                var val = parseFloat(value);\\n                if (!isNaN(val)) {\\n                    valueAccessor()(val);\\n                }\\n            })\\n            valueAccessor().subscribe(function(value) {\\n                var str = JSON.stringify(value);\\n                if ((str == \\\"0\\\") && ([\\\"-0\\\", \\\"-0.\\\"].indexOf(stringified()) >= 0))\\n                     return;\\n                 if ([\\\"null\\\", \\\"\\\"].indexOf(str) >= 0)\\n                     return;\\n                stringified(str);\\n            })\\n            ko.applyBindingsToNode(element, { value: stringified, valueUpdate: allBindings.get('valueUpdate')}, context);\\n        }\\n    };\\n    var json_data = JSON.parse(\\\"{\\\\\\\"formatted_vals\\\\\\\":[\\\\\\\"0.1\\\\\\\",\\\\\\\"0.2\\\\\\\",\\\\\\\"0.3\\\\\\\",\\\\\\\"0.4\\\\\\\",\\\\\\\"0.5\\\\\\\",\\\\\\\"0.6\\\\\\\",\\\\\\\"0.7\\\\\\\",\\\\\\\"0.8\\\\\\\",\\\\\\\"0.9\\\\\\\",\\\\\\\"1.0\\\\\\\",\\\\\\\"1.1\\\\\\\",\\\\\\\"1.2\\\\\\\",\\\\\\\"1.3\\\\\\\",\\\\\\\"1.4\\\\\\\",\\\\\\\"1.5\\\\\\\",\\\\\\\"1.6\\\\\\\",\\\\\\\"1.7\\\\\\\",\\\\\\\"1.8\\\\\\\",\\\\\\\"1.9\\\\\\\",\\\\\\\"2.0\\\\\\\",\\\\\\\"2.1\\\\\\\",\\\\\\\"2.2\\\\\\\",\\\\\\\"2.3\\\\\\\",\\\\\\\"2.4\\\\\\\",\\\\\\\"2.5\\\\\\\",\\\\\\\"2.6\\\\\\\",\\\\\\\"2.7\\\\\\\",\\\\\\\"2.8\\\\\\\",\\\\\\\"2.9\\\\\\\",\\\\\\\"3.0\\\\\\\",\\\\\\\"3.1\\\\\\\",\\\\\\\"3.2\\\\\\\",\\\\\\\"3.3\\\\\\\",\\\\\\\"3.4\\\\\\\",\\\\\\\"3.5\\\\\\\",\\\\\\\"3.6\\\\\\\",\\\\\\\"3.7\\\\\\\",\\\\\\\"3.8\\\\\\\",\\\\\\\"3.9\\\\\\\",\\\\\\\"4.0\\\\\\\",\\\\\\\"4.1\\\\\\\",\\\\\\\"4.2\\\\\\\",\\\\\\\"4.3\\\\\\\",\\\\\\\"4.4\\\\\\\",\\\\\\\"4.5\\\\\\\",\\\\\\\"4.6\\\\\\\",\\\\\\\"4.7\\\\\\\",\\\\\\\"4.8\\\\\\\",\\\\\\\"4.9\\\\\\\",\\\\\\\"5.0\\\\\\\",\\\\\\\"5.1\\\\\\\",\\\\\\\"5.2\\\\\\\",\\\\\\\"5.3\\\\\\\",\\\\\\\"5.4\\\\\\\",\\\\\\\"5.5\\\\\\\",\\\\\\\"5.6\\\\\\\",\\\\\\\"5.7\\\\\\\",\\\\\\\"5.8\\\\\\\",\\\\\\\"5.9\\\\\\\",\\\\\\\"6.0\\\\\\\",\\\\\\\"6.1\\\\\\\",\\\\\\\"6.2\\\\\\\",\\\\\\\"6.3\\\\\\\",\\\\\\\"6.4\\\\\\\",\\\\\\\"6.5\\\\\\\",\\\\\\\"6.6\\\\\\\",\\\\\\\"6.7\\\\\\\",\\\\\\\"6.8\\\\\\\",\\\\\\\"6.9\\\\\\\",\\\\\\\"7.0\\\\\\\",\\\\\\\"7.1\\\\\\\",\\\\\\\"7.2\\\\\\\",\\\\\\\"7.3\\\\\\\",\\\\\\\"7.4\\\\\\\",\\\\\\\"7.5\\\\\\\",\\\\\\\"7.6\\\\\\\",\\\\\\\"7.7\\\\\\\",\\\\\\\"7.8\\\\\\\",\\\\\\\"7.9\\\\\\\",\\\\\\\"8.0\\\\\\\",\\\\\\\"8.1\\\\\\\",\\\\\\\"8.2\\\\\\\",\\\\\\\"8.3\\\\\\\",\\\\\\\"8.4\\\\\\\",\\\\\\\"8.5\\\\\\\",\\\\\\\"8.6\\\\\\\",\\\\\\\"8.7\\\\\\\",\\\\\\\"8.8\\\\\\\",\\\\\\\"8.9\\\\\\\",\\\\\\\"9.0\\\\\\\",\\\\\\\"9.1\\\\\\\",\\\\\\\"9.2\\\\\\\",\\\\\\\"9.3\\\\\\\",\\\\\\\"9.4\\\\\\\",\\\\\\\"9.5\\\\\\\",\\\\\\\"9.6\\\\\\\",\\\\\\\"9.7\\\\\\\",\\\\\\\"9.8\\\\\\\",\\\\\\\"9.9\\\\\\\",\\\\\\\"10.0\\\\\\\"],\\\\\\\"changes\\\\\\\":0,\\\\\\\"formatted_value\\\\\\\":\\\\\\\"5.0\\\\\\\",\\\\\\\"index\\\\\\\":50}\\\");\\n    var self = this;\\n    function AppViewModel() {\\n        for (var key in json_data) {\\n            var el = json_data[key];\\n            this[key] = Array.isArray(el) ? ko.observableArray(el) : ko.observable(el);\\n        }\\n        \\n        \\n        [this[\\\"formatted_vals\\\"].subscribe((function (val){!(this.valueFromJulia[\\\"formatted_vals\\\"]) ? (_webIOScope.setObservableValue({\\\"name\\\":\\\"formatted_vals\\\",\\\"scope\\\":\\\"knockout-component-6c9c0868-bb9e-4e26-9a7a-857b4f61a1ce\\\",\\\"id\\\":\\\"ob_37\\\",\\\"type\\\":\\\"observable\\\"},val)) : undefined; return this.valueFromJulia[\\\"formatted_vals\\\"]=false}),self),this[\\\"changes\\\"].subscribe((function (val){!(this.valueFromJulia[\\\"changes\\\"]) ? (_webIOScope.setObservableValue({\\\"name\\\":\\\"changes\\\",\\\"scope\\\":\\\"knockout-component-6c9c0868-bb9e-4e26-9a7a-857b4f61a1ce\\\",\\\"id\\\":\\\"ob_39\\\",\\\"type\\\":\\\"observable\\\"},val)) : undefined; return this.valueFromJulia[\\\"changes\\\"]=false}),self),this[\\\"formatted_value\\\"].subscribe((function (val){!(this.valueFromJulia[\\\"formatted_value\\\"]) ? (_webIOScope.setObservableValue({\\\"name\\\":\\\"formatted_value\\\",\\\"scope\\\":\\\"knockout-component-6c9c0868-bb9e-4e26-9a7a-857b4f61a1ce\\\",\\\"id\\\":\\\"ob_38\\\",\\\"type\\\":\\\"observable\\\"},val)) : undefined; return this.valueFromJulia[\\\"formatted_value\\\"]=false}),self),this[\\\"index\\\"].subscribe((function (val){!(this.valueFromJulia[\\\"index\\\"]) ? (_webIOScope.setObservableValue({\\\"name\\\":\\\"index\\\",\\\"scope\\\":\\\"knockout-component-6c9c0868-bb9e-4e26-9a7a-857b4f61a1ce\\\",\\\"id\\\":\\\"ob_36\\\",\\\"type\\\":\\\"observable\\\"},val)) : undefined; return this.valueFromJulia[\\\"index\\\"]=false}),self)]\\n        \\n    }\\n    self.model = new AppViewModel();\\n    self.valueFromJulia = {};\\n    for (var key in json_data) {\\n        self.valueFromJulia[key] = false;\\n    }\\n    ko.applyBindings(self.model, self.dom);\\n}\\n\")]),\"changes\"=>Any[JSString(\"(function (val){return (val!=this.model[\\\"changes\\\"]()) ? (this.valueFromJulia[\\\"changes\\\"]=true, this.model[\\\"changes\\\"](val)) : undefined})\")],\"formatted_value\"=>Any[JSString(\"(function (val){return (val!=this.model[\\\"formatted_value\\\"]()) ? (this.valueFromJulia[\\\"formatted_value\\\"]=true, this.model[\\\"formatted_value\\\"](val)) : undefined})\")],\"index\"=>Any[JSString(\"(function (val){return (val!=this.model[\\\"index\\\"]()) ? (this.valueFromJulia[\\\"index\\\"]=true, this.model[\\\"index\\\"](val)) : undefined})\"), JSString(\"(function (val){return _webIOScope.setObservableValue({\\\"name\\\":\\\"formatted_value\\\",\\\"scope\\\":\\\"knockout-component-6c9c0868-bb9e-4e26-9a7a-857b4f61a1ce\\\",\\\"id\\\":\\\"ob_38\\\",\\\"type\\\":\\\"observable\\\"},_webIOScope.getObservableValue({\\\"name\\\":\\\"formatted_vals\\\",\\\"scope\\\":\\\"knockout-component-6c9c0868-bb9e-4e26-9a7a-857b4f61a1ce\\\",\\\"id\\\":\\\"ob_37\\\",\\\"type\\\":\\\"observable\\\"})[(_webIOScope.getObservableValue({\\\"name\\\":\\\"index\\\",\\\"scope\\\":\\\"knockout-component-6c9c0868-bb9e-4e26-9a7a-857b4f61a1ce\\\",\\\"id\\\":\\\"ob_36\\\",\\\"type\\\":\\\"observable\\\"})-1)])})\")]), ConnectionPool(Channel{Any}(sz_max:9223372036854775807,sz_curr:0), Set(AbstractConnection[]), Channel{AbstractConnection}(sz_max:32,sz_curr:0))), ##52#53{#dom#13{##dom#11#12{Dict{Any,Any},DOM}},typeof(scope)}(#dom#13{##dom#11#12{Dict{Any,Any},DOM}}(##dom#11#12{Dict{Any,Any},DOM}(Dict{Any,Any}(:className=>\"field\"), DOM(:html, :div))), scope)),:Y₆=>Widget{:slider,Float64}(OrderedDict{Symbol,Any}(:changes=>Observable{Int64} with 1 listeners. Value:\n",
       "0,:index=>Observable{Any} with 2 listeners. Value:\n",
       "50,:formatted_vals=>Observable{Any} with 1 listeners. Value:\n",
       "[\"0.1\", \"0.2\", \"0.3\", \"0.4\", \"0.5\", \"0.6\", \"0.7\", \"0.8\", \"0.9\", \"1.0\"  …  \"9.1\", \"9.2\", \"9.3\", \"9.4\", \"9.5\", \"9.6\", \"9.7\", \"9.8\", \"9.9\", \"10.0\"],:formatted_value=>Observable{String} with 1 listeners. Value:\n",
       "\"5.0\",:value=>Observable{Float64} with 2 listeners. Value:\n",
       "5.0), Observable{Float64} with 2 listeners. Value:\n",
       "5.0, Scope(\"knockout-component-b277606f-985c-419d-b02e-511a141aa06b\", Node{DOM}(DOM(:html, :div), Any[Node{DOM}(DOM(:html, :div), Any[Node{DOM}(DOM(:html, :label), Any[\"Y₆\"], Dict{Symbol,Any}(:className=>\"interact \",:style=>Dict{Any,Any}(:padding=>\"5px 10px 0px 10px\")), 1)], Dict{Symbol,Any}(:attributes=>Dict(\"style\"=>\"text-align:right;width:18%\")), 2), Node{DOM}(DOM(:html, :div), Any[Node{DOM}(DOM(:html, :input), Any[], Dict{Symbol,Any}(:max=>100,:min=>1,:attributes=>Dict{Any,Any}(:type=>\"range\",Symbol(\"data-bind\")=>\"numericValue: index, valueUpdate: 'input', event: {change : function () {this.changes(this.changes()+1)}}\",\"orient\"=>\"horizontal\"),:step=>1,:className=>\"slider slider is-fullwidth\",:style=>Dict{Any,Any}()), 0)], Dict{Symbol,Any}(:attributes=>Dict(\"style\"=>\"flex-grow:1; margin: 0 2%\")), 1), Node{DOM}(DOM(:html, :div), Any[Node{DOM}(DOM(:html, :p), Any[], Dict{Symbol,Any}(:attributes=>Dict(\"data-bind\"=>\"text: formatted_value\")), 0)], Dict{Symbol,Any}(:attributes=>Dict(\"style\"=>\"width:18%\")), 1)], Dict{Symbol,Any}(:attributes=>Dict(\"style\"=>\"display:flex; justify-content:center; align-items:center;\")), 7), Dict{String,Tuple{Observables.AbstractObservable,Union{Nothing, Bool}}}(\"formatted_vals\"=>(Observable{Any} with 1 listeners. Value:\n",
       "[\"0.1\", \"0.2\", \"0.3\", \"0.4\", \"0.5\", \"0.6\", \"0.7\", \"0.8\", \"0.9\", \"1.0\"  …  \"9.1\", \"9.2\", \"9.3\", \"9.4\", \"9.5\", \"9.6\", \"9.7\", \"9.8\", \"9.9\", \"10.0\"], nothing),\"changes\"=>(Observable{Int64} with 1 listeners. Value:\n",
       "0, nothing),\"formatted_value\"=>(Observable{String} with 1 listeners. Value:\n",
       "\"5.0\", nothing),\"index\"=>(Observable{Any} with 2 listeners. Value:\n",
       "50, nothing)), Set(String[]), nothing, Any[\"knockout\"=>\"/Users/stevenj/.julia/packages/Knockout/JIqpG/src/../assets/knockout.js\", \"knockout_punches\"=>\"/Users/stevenj/.julia/packages/Knockout/JIqpG/src/../assets/knockout_punches.js\", \"/Users/stevenj/.julia/packages/InteractBase/Q4IkI/src/../assets/all.js\", \"/Users/stevenj/.julia/packages/InteractBase/Q4IkI/src/../assets/style.css\", \"/Users/stevenj/.julia/packages/InteractBulma/Ohu5Y/src/../assets/main.css\"], Dict{Any,Any}(\"formatted_vals\"=>Any[JSString(\"(function (val){return (val!=this.model[\\\"formatted_vals\\\"]()) ? (this.valueFromJulia[\\\"formatted_vals\\\"]=true, this.model[\\\"formatted_vals\\\"](val)) : undefined})\")],\"_promises\"=>Dict{Any,Any}(\"importsLoaded\"=>Any[JSString(\"function (ko, koPunches) {\\n    ko.punches.enableAll();\\n    ko.bindingHandlers.numericValue = {\\n        init : function(element, valueAccessor, allBindings, data, context) {\\n            var stringified = ko.observable(ko.unwrap(valueAccessor()));\\n            stringified.subscribe(function(value) {\\n                var val = parseFloat(value);\\n                if (!isNaN(val)) {\\n                    valueAccessor()(val);\\n                }\\n            })\\n            valueAccessor().subscribe(function(value) {\\n                var str = JSON.stringify(value);\\n                if ((str == \\\"0\\\") && ([\\\"-0\\\", \\\"-0.\\\"].indexOf(stringified()) >= 0))\\n                     return;\\n                 if ([\\\"null\\\", \\\"\\\"].indexOf(str) >= 0)\\n                     return;\\n                stringified(str);\\n            })\\n            ko.applyBindingsToNode(element, { value: stringified, valueUpdate: allBindings.get('valueUpdate')}, context);\\n        }\\n    };\\n    var json_data = JSON.parse(\\\"{\\\\\\\"formatted_vals\\\\\\\":[\\\\\\\"0.1\\\\\\\",\\\\\\\"0.2\\\\\\\",\\\\\\\"0.3\\\\\\\",\\\\\\\"0.4\\\\\\\",\\\\\\\"0.5\\\\\\\",\\\\\\\"0.6\\\\\\\",\\\\\\\"0.7\\\\\\\",\\\\\\\"0.8\\\\\\\",\\\\\\\"0.9\\\\\\\",\\\\\\\"1.0\\\\\\\",\\\\\\\"1.1\\\\\\\",\\\\\\\"1.2\\\\\\\",\\\\\\\"1.3\\\\\\\",\\\\\\\"1.4\\\\\\\",\\\\\\\"1.5\\\\\\\",\\\\\\\"1.6\\\\\\\",\\\\\\\"1.7\\\\\\\",\\\\\\\"1.8\\\\\\\",\\\\\\\"1.9\\\\\\\",\\\\\\\"2.0\\\\\\\",\\\\\\\"2.1\\\\\\\",\\\\\\\"2.2\\\\\\\",\\\\\\\"2.3\\\\\\\",\\\\\\\"2.4\\\\\\\",\\\\\\\"2.5\\\\\\\",\\\\\\\"2.6\\\\\\\",\\\\\\\"2.7\\\\\\\",\\\\\\\"2.8\\\\\\\",\\\\\\\"2.9\\\\\\\",\\\\\\\"3.0\\\\\\\",\\\\\\\"3.1\\\\\\\",\\\\\\\"3.2\\\\\\\",\\\\\\\"3.3\\\\\\\",\\\\\\\"3.4\\\\\\\",\\\\\\\"3.5\\\\\\\",\\\\\\\"3.6\\\\\\\",\\\\\\\"3.7\\\\\\\",\\\\\\\"3.8\\\\\\\",\\\\\\\"3.9\\\\\\\",\\\\\\\"4.0\\\\\\\",\\\\\\\"4.1\\\\\\\",\\\\\\\"4.2\\\\\\\",\\\\\\\"4.3\\\\\\\",\\\\\\\"4.4\\\\\\\",\\\\\\\"4.5\\\\\\\",\\\\\\\"4.6\\\\\\\",\\\\\\\"4.7\\\\\\\",\\\\\\\"4.8\\\\\\\",\\\\\\\"4.9\\\\\\\",\\\\\\\"5.0\\\\\\\",\\\\\\\"5.1\\\\\\\",\\\\\\\"5.2\\\\\\\",\\\\\\\"5.3\\\\\\\",\\\\\\\"5.4\\\\\\\",\\\\\\\"5.5\\\\\\\",\\\\\\\"5.6\\\\\\\",\\\\\\\"5.7\\\\\\\",\\\\\\\"5.8\\\\\\\",\\\\\\\"5.9\\\\\\\",\\\\\\\"6.0\\\\\\\",\\\\\\\"6.1\\\\\\\",\\\\\\\"6.2\\\\\\\",\\\\\\\"6.3\\\\\\\",\\\\\\\"6.4\\\\\\\",\\\\\\\"6.5\\\\\\\",\\\\\\\"6.6\\\\\\\",\\\\\\\"6.7\\\\\\\",\\\\\\\"6.8\\\\\\\",\\\\\\\"6.9\\\\\\\",\\\\\\\"7.0\\\\\\\",\\\\\\\"7.1\\\\\\\",\\\\\\\"7.2\\\\\\\",\\\\\\\"7.3\\\\\\\",\\\\\\\"7.4\\\\\\\",\\\\\\\"7.5\\\\\\\",\\\\\\\"7.6\\\\\\\",\\\\\\\"7.7\\\\\\\",\\\\\\\"7.8\\\\\\\",\\\\\\\"7.9\\\\\\\",\\\\\\\"8.0\\\\\\\",\\\\\\\"8.1\\\\\\\",\\\\\\\"8.2\\\\\\\",\\\\\\\"8.3\\\\\\\",\\\\\\\"8.4\\\\\\\",\\\\\\\"8.5\\\\\\\",\\\\\\\"8.6\\\\\\\",\\\\\\\"8.7\\\\\\\",\\\\\\\"8.8\\\\\\\",\\\\\\\"8.9\\\\\\\",\\\\\\\"9.0\\\\\\\",\\\\\\\"9.1\\\\\\\",\\\\\\\"9.2\\\\\\\",\\\\\\\"9.3\\\\\\\",\\\\\\\"9.4\\\\\\\",\\\\\\\"9.5\\\\\\\",\\\\\\\"9.6\\\\\\\",\\\\\\\"9.7\\\\\\\",\\\\\\\"9.8\\\\\\\",\\\\\\\"9.9\\\\\\\",\\\\\\\"10.0\\\\\\\"],\\\\\\\"changes\\\\\\\":0,\\\\\\\"formatted_value\\\\\\\":\\\\\\\"5.0\\\\\\\",\\\\\\\"index\\\\\\\":50}\\\");\\n    var self = this;\\n    function AppViewModel() {\\n        for (var key in json_data) {\\n            var el = json_data[key];\\n            this[key] = Array.isArray(el) ? ko.observableArray(el) : ko.observable(el);\\n        }\\n        \\n        \\n        [this[\\\"formatted_vals\\\"].subscribe((function (val){!(this.valueFromJulia[\\\"formatted_vals\\\"]) ? (_webIOScope.setObservableValue({\\\"name\\\":\\\"formatted_vals\\\",\\\"scope\\\":\\\"knockout-component-b277606f-985c-419d-b02e-511a141aa06b\\\",\\\"id\\\":\\\"ob_42\\\",\\\"type\\\":\\\"observable\\\"},val)) : undefined; return this.valueFromJulia[\\\"formatted_vals\\\"]=false}),self),this[\\\"changes\\\"].subscribe((function (val){!(this.valueFromJulia[\\\"changes\\\"]) ? (_webIOScope.setObservableValue({\\\"name\\\":\\\"changes\\\",\\\"scope\\\":\\\"knockout-component-b277606f-985c-419d-b02e-511a141aa06b\\\",\\\"id\\\":\\\"ob_44\\\",\\\"type\\\":\\\"observable\\\"},val)) : undefined; return this.valueFromJulia[\\\"changes\\\"]=false}),self),this[\\\"formatted_value\\\"].subscribe((function (val){!(this.valueFromJulia[\\\"formatted_value\\\"]) ? (_webIOScope.setObservableValue({\\\"name\\\":\\\"formatted_value\\\",\\\"scope\\\":\\\"knockout-component-b277606f-985c-419d-b02e-511a141aa06b\\\",\\\"id\\\":\\\"ob_43\\\",\\\"type\\\":\\\"observable\\\"},val)) : undefined; return this.valueFromJulia[\\\"formatted_value\\\"]=false}),self),this[\\\"index\\\"].subscribe((function (val){!(this.valueFromJulia[\\\"index\\\"]) ? (_webIOScope.setObservableValue({\\\"name\\\":\\\"index\\\",\\\"scope\\\":\\\"knockout-component-b277606f-985c-419d-b02e-511a141aa06b\\\",\\\"id\\\":\\\"ob_41\\\",\\\"type\\\":\\\"observable\\\"},val)) : undefined; return this.valueFromJulia[\\\"index\\\"]=false}),self)]\\n        \\n    }\\n    self.model = new AppViewModel();\\n    self.valueFromJulia = {};\\n    for (var key in json_data) {\\n        self.valueFromJulia[key] = false;\\n    }\\n    ko.applyBindings(self.model, self.dom);\\n}\\n\")]),\"changes\"=>Any[JSString(\"(function (val){return (val!=this.model[\\\"changes\\\"]()) ? (this.valueFromJulia[\\\"changes\\\"]=true, this.model[\\\"changes\\\"](val)) : undefined})\")],\"formatted_value\"=>Any[JSString(\"(function (val){return (val!=this.model[\\\"formatted_value\\\"]()) ? (this.valueFromJulia[\\\"formatted_value\\\"]=true, this.model[\\\"formatted_value\\\"](val)) : undefined})\")],\"index\"=>Any[JSString(\"(function (val){return (val!=this.model[\\\"index\\\"]()) ? (this.valueFromJulia[\\\"index\\\"]=true, this.model[\\\"index\\\"](val)) : undefined})\"), JSString(\"(function (val){return _webIOScope.setObservableValue({\\\"name\\\":\\\"formatted_value\\\",\\\"scope\\\":\\\"knockout-component-b277606f-985c-419d-b02e-511a141aa06b\\\",\\\"id\\\":\\\"ob_43\\\",\\\"type\\\":\\\"observable\\\"},_webIOScope.getObservableValue({\\\"name\\\":\\\"formatted_vals\\\",\\\"scope\\\":\\\"knockout-component-b277606f-985c-419d-b02e-511a141aa06b\\\",\\\"id\\\":\\\"ob_42\\\",\\\"type\\\":\\\"observable\\\"})[(_webIOScope.getObservableValue({\\\"name\\\":\\\"index\\\",\\\"scope\\\":\\\"knockout-component-b277606f-985c-419d-b02e-511a141aa06b\\\",\\\"id\\\":\\\"ob_41\\\",\\\"type\\\":\\\"observable\\\"})-1)])})\")]), ConnectionPool(Channel{Any}(sz_max:9223372036854775807,sz_curr:0), Set(AbstractConnection[]), Channel{AbstractConnection}(sz_max:32,sz_curr:0))), ##52#53{#dom#13{##dom#11#12{Dict{Any,Any},DOM}},typeof(scope)}(#dom#13{##dom#11#12{Dict{Any,Any},DOM}}(##dom#11#12{Dict{Any,Any},DOM}(Dict{Any,Any}(:className=>\"field\"), DOM(:html, :div))), scope)),:Y₇=>Widget{:slider,Float64}(OrderedDict{Symbol,Any}(:changes=>Observable{Int64} with 1 listeners. Value:\n",
       "0,:index=>Observable{Any} with 2 listeners. Value:\n",
       "50,:formatted_vals=>Observable{Any} with 1 listeners. Value:\n",
       "[\"0.1\", \"0.2\", \"0.3\", \"0.4\", \"0.5\", \"0.6\", \"0.7\", \"0.8\", \"0.9\", \"1.0\"  …  \"9.1\", \"9.2\", \"9.3\", \"9.4\", \"9.5\", \"9.6\", \"9.7\", \"9.8\", \"9.9\", \"10.0\"],:formatted_value=>Observable{String} with 1 listeners. Value:\n",
       "\"5.0\",:value=>Observable{Float64} with 2 listeners. Value:\n",
       "5.0), Observable{Float64} with 2 listeners. Value:\n",
       "5.0, Scope(\"knockout-component-942adce0-9fe1-400b-80b6-82aa2544a456\", Node{DOM}(DOM(:html, :div), Any[Node{DOM}(DOM(:html, :div), Any[Node{DOM}(DOM(:html, :label), Any[\"Y₇\"], Dict{Symbol,Any}(:className=>\"interact \",:style=>Dict{Any,Any}(:padding=>\"5px 10px 0px 10px\")), 1)], Dict{Symbol,Any}(:attributes=>Dict(\"style\"=>\"text-align:right;width:18%\")), 2), Node{DOM}(DOM(:html, :div), Any[Node{DOM}(DOM(:html, :input), Any[], Dict{Symbol,Any}(:max=>100,:min=>1,:attributes=>Dict{Any,Any}(:type=>\"range\",Symbol(\"data-bind\")=>\"numericValue: index, valueUpdate: 'input', event: {change : function () {this.changes(this.changes()+1)}}\",\"orient\"=>\"horizontal\"),:step=>1,:className=>\"slider slider is-fullwidth\",:style=>Dict{Any,Any}()), 0)], Dict{Symbol,Any}(:attributes=>Dict(\"style\"=>\"flex-grow:1; margin: 0 2%\")), 1), Node{DOM}(DOM(:html, :div), Any[Node{DOM}(DOM(:html, :p), Any[], Dict{Symbol,Any}(:attributes=>Dict(\"data-bind\"=>\"text: formatted_value\")), 0)], Dict{Symbol,Any}(:attributes=>Dict(\"style\"=>\"width:18%\")), 1)], Dict{Symbol,Any}(:attributes=>Dict(\"style\"=>\"display:flex; justify-content:center; align-items:center;\")), 7), Dict{String,Tuple{Observables.AbstractObservable,Union{Nothing, Bool}}}(\"formatted_vals\"=>(Observable{Any} with 1 listeners. Value:\n",
       "[\"0.1\", \"0.2\", \"0.3\", \"0.4\", \"0.5\", \"0.6\", \"0.7\", \"0.8\", \"0.9\", \"1.0\"  …  \"9.1\", \"9.2\", \"9.3\", \"9.4\", \"9.5\", \"9.6\", \"9.7\", \"9.8\", \"9.9\", \"10.0\"], nothing),\"changes\"=>(Observable{Int64} with 1 listeners. Value:\n",
       "0, nothing),\"formatted_value\"=>(Observable{String} with 1 listeners. Value:\n",
       "\"5.0\", nothing),\"index\"=>(Observable{Any} with 2 listeners. Value:\n",
       "50, nothing)), Set(String[]), nothing, Any[\"knockout\"=>\"/Users/stevenj/.julia/packages/Knockout/JIqpG/src/../assets/knockout.js\", \"knockout_punches\"=>\"/Users/stevenj/.julia/packages/Knockout/JIqpG/src/../assets/knockout_punches.js\", \"/Users/stevenj/.julia/packages/InteractBase/Q4IkI/src/../assets/all.js\", \"/Users/stevenj/.julia/packages/InteractBase/Q4IkI/src/../assets/style.css\", \"/Users/stevenj/.julia/packages/InteractBulma/Ohu5Y/src/../assets/main.css\"], Dict{Any,Any}(\"formatted_vals\"=>Any[JSString(\"(function (val){return (val!=this.model[\\\"formatted_vals\\\"]()) ? (this.valueFromJulia[\\\"formatted_vals\\\"]=true, this.model[\\\"formatted_vals\\\"](val)) : undefined})\")],\"_promises\"=>Dict{Any,Any}(\"importsLoaded\"=>Any[JSString(\"function (ko, koPunches) {\\n    ko.punches.enableAll();\\n    ko.bindingHandlers.numericValue = {\\n        init : function(element, valueAccessor, allBindings, data, context) {\\n            var stringified = ko.observable(ko.unwrap(valueAccessor()));\\n            stringified.subscribe(function(value) {\\n                var val = parseFloat(value);\\n                if (!isNaN(val)) {\\n                    valueAccessor()(val);\\n                }\\n            })\\n            valueAccessor().subscribe(function(value) {\\n                var str = JSON.stringify(value);\\n                if ((str == \\\"0\\\") && ([\\\"-0\\\", \\\"-0.\\\"].indexOf(stringified()) >= 0))\\n                     return;\\n                 if ([\\\"null\\\", \\\"\\\"].indexOf(str) >= 0)\\n                     return;\\n                stringified(str);\\n            })\\n            ko.applyBindingsToNode(element, { value: stringified, valueUpdate: allBindings.get('valueUpdate')}, context);\\n        }\\n    };\\n    var json_data = JSON.parse(\\\"{\\\\\\\"formatted_vals\\\\\\\":[\\\\\\\"0.1\\\\\\\",\\\\\\\"0.2\\\\\\\",\\\\\\\"0.3\\\\\\\",\\\\\\\"0.4\\\\\\\",\\\\\\\"0.5\\\\\\\",\\\\\\\"0.6\\\\\\\",\\\\\\\"0.7\\\\\\\",\\\\\\\"0.8\\\\\\\",\\\\\\\"0.9\\\\\\\",\\\\\\\"1.0\\\\\\\",\\\\\\\"1.1\\\\\\\",\\\\\\\"1.2\\\\\\\",\\\\\\\"1.3\\\\\\\",\\\\\\\"1.4\\\\\\\",\\\\\\\"1.5\\\\\\\",\\\\\\\"1.6\\\\\\\",\\\\\\\"1.7\\\\\\\",\\\\\\\"1.8\\\\\\\",\\\\\\\"1.9\\\\\\\",\\\\\\\"2.0\\\\\\\",\\\\\\\"2.1\\\\\\\",\\\\\\\"2.2\\\\\\\",\\\\\\\"2.3\\\\\\\",\\\\\\\"2.4\\\\\\\",\\\\\\\"2.5\\\\\\\",\\\\\\\"2.6\\\\\\\",\\\\\\\"2.7\\\\\\\",\\\\\\\"2.8\\\\\\\",\\\\\\\"2.9\\\\\\\",\\\\\\\"3.0\\\\\\\",\\\\\\\"3.1\\\\\\\",\\\\\\\"3.2\\\\\\\",\\\\\\\"3.3\\\\\\\",\\\\\\\"3.4\\\\\\\",\\\\\\\"3.5\\\\\\\",\\\\\\\"3.6\\\\\\\",\\\\\\\"3.7\\\\\\\",\\\\\\\"3.8\\\\\\\",\\\\\\\"3.9\\\\\\\",\\\\\\\"4.0\\\\\\\",\\\\\\\"4.1\\\\\\\",\\\\\\\"4.2\\\\\\\",\\\\\\\"4.3\\\\\\\",\\\\\\\"4.4\\\\\\\",\\\\\\\"4.5\\\\\\\",\\\\\\\"4.6\\\\\\\",\\\\\\\"4.7\\\\\\\",\\\\\\\"4.8\\\\\\\",\\\\\\\"4.9\\\\\\\",\\\\\\\"5.0\\\\\\\",\\\\\\\"5.1\\\\\\\",\\\\\\\"5.2\\\\\\\",\\\\\\\"5.3\\\\\\\",\\\\\\\"5.4\\\\\\\",\\\\\\\"5.5\\\\\\\",\\\\\\\"5.6\\\\\\\",\\\\\\\"5.7\\\\\\\",\\\\\\\"5.8\\\\\\\",\\\\\\\"5.9\\\\\\\",\\\\\\\"6.0\\\\\\\",\\\\\\\"6.1\\\\\\\",\\\\\\\"6.2\\\\\\\",\\\\\\\"6.3\\\\\\\",\\\\\\\"6.4\\\\\\\",\\\\\\\"6.5\\\\\\\",\\\\\\\"6.6\\\\\\\",\\\\\\\"6.7\\\\\\\",\\\\\\\"6.8\\\\\\\",\\\\\\\"6.9\\\\\\\",\\\\\\\"7.0\\\\\\\",\\\\\\\"7.1\\\\\\\",\\\\\\\"7.2\\\\\\\",\\\\\\\"7.3\\\\\\\",\\\\\\\"7.4\\\\\\\",\\\\\\\"7.5\\\\\\\",\\\\\\\"7.6\\\\\\\",\\\\\\\"7.7\\\\\\\",\\\\\\\"7.8\\\\\\\",\\\\\\\"7.9\\\\\\\",\\\\\\\"8.0\\\\\\\",\\\\\\\"8.1\\\\\\\",\\\\\\\"8.2\\\\\\\",\\\\\\\"8.3\\\\\\\",\\\\\\\"8.4\\\\\\\",\\\\\\\"8.5\\\\\\\",\\\\\\\"8.6\\\\\\\",\\\\\\\"8.7\\\\\\\",\\\\\\\"8.8\\\\\\\",\\\\\\\"8.9\\\\\\\",\\\\\\\"9.0\\\\\\\",\\\\\\\"9.1\\\\\\\",\\\\\\\"9.2\\\\\\\",\\\\\\\"9.3\\\\\\\",\\\\\\\"9.4\\\\\\\",\\\\\\\"9.5\\\\\\\",\\\\\\\"9.6\\\\\\\",\\\\\\\"9.7\\\\\\\",\\\\\\\"9.8\\\\\\\",\\\\\\\"9.9\\\\\\\",\\\\\\\"10.0\\\\\\\"],\\\\\\\"changes\\\\\\\":0,\\\\\\\"formatted_value\\\\\\\":\\\\\\\"5.0\\\\\\\",\\\\\\\"index\\\\\\\":50}\\\");\\n    var self = this;\\n    function AppViewModel() {\\n        for (var key in json_data) {\\n            var el = json_data[key];\\n            this[key] = Array.isArray(el) ? ko.observableArray(el) : ko.observable(el);\\n        }\\n        \\n        \\n        [this[\\\"formatted_vals\\\"].subscribe((function (val){!(this.valueFromJulia[\\\"formatted_vals\\\"]) ? (_webIOScope.setObservableValue({\\\"name\\\":\\\"formatted_vals\\\",\\\"scope\\\":\\\"knockout-component-942adce0-9fe1-400b-80b6-82aa2544a456\\\",\\\"id\\\":\\\"ob_47\\\",\\\"type\\\":\\\"observable\\\"},val)) : undefined; return this.valueFromJulia[\\\"formatted_vals\\\"]=false}),self),this[\\\"changes\\\"].subscribe((function (val){!(this.valueFromJulia[\\\"changes\\\"]) ? (_webIOScope.setObservableValue({\\\"name\\\":\\\"changes\\\",\\\"scope\\\":\\\"knockout-component-942adce0-9fe1-400b-80b6-82aa2544a456\\\",\\\"id\\\":\\\"ob_49\\\",\\\"type\\\":\\\"observable\\\"},val)) : undefined; return this.valueFromJulia[\\\"changes\\\"]=false}),self),this[\\\"formatted_value\\\"].subscribe((function (val){!(this.valueFromJulia[\\\"formatted_value\\\"]) ? (_webIOScope.setObservableValue({\\\"name\\\":\\\"formatted_value\\\",\\\"scope\\\":\\\"knockout-component-942adce0-9fe1-400b-80b6-82aa2544a456\\\",\\\"id\\\":\\\"ob_48\\\",\\\"type\\\":\\\"observable\\\"},val)) : undefined; return this.valueFromJulia[\\\"formatted_value\\\"]=false}),self),this[\\\"index\\\"].subscribe((function (val){!(this.valueFromJulia[\\\"index\\\"]) ? (_webIOScope.setObservableValue({\\\"name\\\":\\\"index\\\",\\\"scope\\\":\\\"knockout-component-942adce0-9fe1-400b-80b6-82aa2544a456\\\",\\\"id\\\":\\\"ob_46\\\",\\\"type\\\":\\\"observable\\\"},val)) : undefined; return this.valueFromJulia[\\\"index\\\"]=false}),self)]\\n        \\n    }\\n    self.model = new AppViewModel();\\n    self.valueFromJulia = {};\\n    for (var key in json_data) {\\n        self.valueFromJulia[key] = false;\\n    }\\n    ko.applyBindings(self.model, self.dom);\\n}\\n\")]),\"changes\"=>Any[JSString(\"(function (val){return (val!=this.model[\\\"changes\\\"]()) ? (this.valueFromJulia[\\\"changes\\\"]=true, this.model[\\\"changes\\\"](val)) : undefined})\")],\"formatted_value\"=>Any[JSString(\"(function (val){return (val!=this.model[\\\"formatted_value\\\"]()) ? (this.valueFromJulia[\\\"formatted_value\\\"]=true, this.model[\\\"formatted_value\\\"](val)) : undefined})\")],\"index\"=>Any[JSString(\"(function (val){return (val!=this.model[\\\"index\\\"]()) ? (this.valueFromJulia[\\\"index\\\"]=true, this.model[\\\"index\\\"](val)) : undefined})\"), JSString(\"(function (val){return _webIOScope.setObservableValue({\\\"name\\\":\\\"formatted_value\\\",\\\"scope\\\":\\\"knockout-component-942adce0-9fe1-400b-80b6-82aa2544a456\\\",\\\"id\\\":\\\"ob_48\\\",\\\"type\\\":\\\"observable\\\"},_webIOScope.getObservableValue({\\\"name\\\":\\\"formatted_vals\\\",\\\"scope\\\":\\\"knockout-component-942adce0-9fe1-400b-80b6-82aa2544a456\\\",\\\"id\\\":\\\"ob_47\\\",\\\"type\\\":\\\"observable\\\"})[(_webIOScope.getObservableValue({\\\"name\\\":\\\"index\\\",\\\"scope\\\":\\\"knockout-component-942adce0-9fe1-400b-80b6-82aa2544a456\\\",\\\"id\\\":\\\"ob_46\\\",\\\"type\\\":\\\"observable\\\"})-1)])})\")]), ConnectionPool(Channel{Any}(sz_max:9223372036854775807,sz_curr:0), Set(AbstractConnection[]), Channel{AbstractConnection}(sz_max:32,sz_curr:0))), ##52#53{#dom#13{##dom#11#12{Dict{Any,Any},DOM}},typeof(scope)}(#dom#13{##dom#11#12{Dict{Any,Any},DOM}}(##dom#11#12{Dict{Any,Any},DOM}(Dict{Any,Any}(:className=>\"field\"), DOM(:html, :div))), scope)),:Y₈=>Widget{:slider,Float64}(OrderedDict{Symbol,Any}(:changes=>Observable{Int64} with 1 listeners. Value:\n",
       "0,:index=>Observable{Any} with 2 listeners. Value:\n",
       "50,:formatted_vals=>Observable{Any} with 1 listeners. Value:\n",
       "[\"0.1\", \"0.2\", \"0.3\", \"0.4\", \"0.5\", \"0.6\", \"0.7\", \"0.8\", \"0.9\", \"1.0\"  …  \"9.1\", \"9.2\", \"9.3\", \"9.4\", \"9.5\", \"9.6\", \"9.7\", \"9.8\", \"9.9\", \"10.0\"],:formatted_value=>Observable{String} with 1 listeners. Value:\n",
       "\"5.0\",:value=>Observable{Float64} with 2 listeners. Value:\n",
       "5.0), Observable{Float64} with 2 listeners. Value:\n",
       "5.0, Scope(\"knockout-component-358c62c2-31f6-4004-a037-4c6f56220441\", Node{DOM}(DOM(:html, :div), Any[Node{DOM}(DOM(:html, :div), Any[Node{DOM}(DOM(:html, :label), Any[\"Y₈\"], Dict{Symbol,Any}(:className=>\"interact \",:style=>Dict{Any,Any}(:padding=>\"5px 10px 0px 10px\")), 1)], Dict{Symbol,Any}(:attributes=>Dict(\"style\"=>\"text-align:right;width:18%\")), 2), Node{DOM}(DOM(:html, :div), Any[Node{DOM}(DOM(:html, :input), Any[], Dict{Symbol,Any}(:max=>100,:min=>1,:attributes=>Dict{Any,Any}(:type=>\"range\",Symbol(\"data-bind\")=>\"numericValue: index, valueUpdate: 'input', event: {change : function () {this.changes(this.changes()+1)}}\",\"orient\"=>\"horizontal\"),:step=>1,:className=>\"slider slider is-fullwidth\",:style=>Dict{Any,Any}()), 0)], Dict{Symbol,Any}(:attributes=>Dict(\"style\"=>\"flex-grow:1; margin: 0 2%\")), 1), Node{DOM}(DOM(:html, :div), Any[Node{DOM}(DOM(:html, :p), Any[], Dict{Symbol,Any}(:attributes=>Dict(\"data-bind\"=>\"text: formatted_value\")), 0)], Dict{Symbol,Any}(:attributes=>Dict(\"style\"=>\"width:18%\")), 1)], Dict{Symbol,Any}(:attributes=>Dict(\"style\"=>\"display:flex; justify-content:center; align-items:center;\")), 7), Dict{String,Tuple{Observables.AbstractObservable,Union{Nothing, Bool}}}(\"formatted_vals\"=>(Observable{Any} with 1 listeners. Value:\n",
       "[\"0.1\", \"0.2\", \"0.3\", \"0.4\", \"0.5\", \"0.6\", \"0.7\", \"0.8\", \"0.9\", \"1.0\"  …  \"9.1\", \"9.2\", \"9.3\", \"9.4\", \"9.5\", \"9.6\", \"9.7\", \"9.8\", \"9.9\", \"10.0\"], nothing),\"changes\"=>(Observable{Int64} with 1 listeners. Value:\n",
       "0, nothing),\"formatted_value\"=>(Observable{String} with 1 listeners. Value:\n",
       "\"5.0\", nothing),\"index\"=>(Observable{Any} with 2 listeners. Value:\n",
       "50, nothing)), Set(String[]), nothing, Any[\"knockout\"=>\"/Users/stevenj/.julia/packages/Knockout/JIqpG/src/../assets/knockout.js\", \"knockout_punches\"=>\"/Users/stevenj/.julia/packages/Knockout/JIqpG/src/../assets/knockout_punches.js\", \"/Users/stevenj/.julia/packages/InteractBase/Q4IkI/src/../assets/all.js\", \"/Users/stevenj/.julia/packages/InteractBase/Q4IkI/src/../assets/style.css\", \"/Users/stevenj/.julia/packages/InteractBulma/Ohu5Y/src/../assets/main.css\"], Dict{Any,Any}(\"formatted_vals\"=>Any[JSString(\"(function (val){return (val!=this.model[\\\"formatted_vals\\\"]()) ? (this.valueFromJulia[\\\"formatted_vals\\\"]=true, this.model[\\\"formatted_vals\\\"](val)) : undefined})\")],\"_promises\"=>Dict{Any,Any}(\"importsLoaded\"=>Any[JSString(\"function (ko, koPunches) {\\n    ko.punches.enableAll();\\n    ko.bindingHandlers.numericValue = {\\n        init : function(element, valueAccessor, allBindings, data, context) {\\n            var stringified = ko.observable(ko.unwrap(valueAccessor()));\\n            stringified.subscribe(function(value) {\\n                var val = parseFloat(value);\\n                if (!isNaN(val)) {\\n                    valueAccessor()(val);\\n                }\\n            })\\n            valueAccessor().subscribe(function(value) {\\n                var str = JSON.stringify(value);\\n                if ((str == \\\"0\\\") && ([\\\"-0\\\", \\\"-0.\\\"].indexOf(stringified()) >= 0))\\n                     return;\\n                 if ([\\\"null\\\", \\\"\\\"].indexOf(str) >= 0)\\n                     return;\\n                stringified(str);\\n            })\\n            ko.applyBindingsToNode(element, { value: stringified, valueUpdate: allBindings.get('valueUpdate')}, context);\\n        }\\n    };\\n    var json_data = JSON.parse(\\\"{\\\\\\\"formatted_vals\\\\\\\":[\\\\\\\"0.1\\\\\\\",\\\\\\\"0.2\\\\\\\",\\\\\\\"0.3\\\\\\\",\\\\\\\"0.4\\\\\\\",\\\\\\\"0.5\\\\\\\",\\\\\\\"0.6\\\\\\\",\\\\\\\"0.7\\\\\\\",\\\\\\\"0.8\\\\\\\",\\\\\\\"0.9\\\\\\\",\\\\\\\"1.0\\\\\\\",\\\\\\\"1.1\\\\\\\",\\\\\\\"1.2\\\\\\\",\\\\\\\"1.3\\\\\\\",\\\\\\\"1.4\\\\\\\",\\\\\\\"1.5\\\\\\\",\\\\\\\"1.6\\\\\\\",\\\\\\\"1.7\\\\\\\",\\\\\\\"1.8\\\\\\\",\\\\\\\"1.9\\\\\\\",\\\\\\\"2.0\\\\\\\",\\\\\\\"2.1\\\\\\\",\\\\\\\"2.2\\\\\\\",\\\\\\\"2.3\\\\\\\",\\\\\\\"2.4\\\\\\\",\\\\\\\"2.5\\\\\\\",\\\\\\\"2.6\\\\\\\",\\\\\\\"2.7\\\\\\\",\\\\\\\"2.8\\\\\\\",\\\\\\\"2.9\\\\\\\",\\\\\\\"3.0\\\\\\\",\\\\\\\"3.1\\\\\\\",\\\\\\\"3.2\\\\\\\",\\\\\\\"3.3\\\\\\\",\\\\\\\"3.4\\\\\\\",\\\\\\\"3.5\\\\\\\",\\\\\\\"3.6\\\\\\\",\\\\\\\"3.7\\\\\\\",\\\\\\\"3.8\\\\\\\",\\\\\\\"3.9\\\\\\\",\\\\\\\"4.0\\\\\\\",\\\\\\\"4.1\\\\\\\",\\\\\\\"4.2\\\\\\\",\\\\\\\"4.3\\\\\\\",\\\\\\\"4.4\\\\\\\",\\\\\\\"4.5\\\\\\\",\\\\\\\"4.6\\\\\\\",\\\\\\\"4.7\\\\\\\",\\\\\\\"4.8\\\\\\\",\\\\\\\"4.9\\\\\\\",\\\\\\\"5.0\\\\\\\",\\\\\\\"5.1\\\\\\\",\\\\\\\"5.2\\\\\\\",\\\\\\\"5.3\\\\\\\",\\\\\\\"5.4\\\\\\\",\\\\\\\"5.5\\\\\\\",\\\\\\\"5.6\\\\\\\",\\\\\\\"5.7\\\\\\\",\\\\\\\"5.8\\\\\\\",\\\\\\\"5.9\\\\\\\",\\\\\\\"6.0\\\\\\\",\\\\\\\"6.1\\\\\\\",\\\\\\\"6.2\\\\\\\",\\\\\\\"6.3\\\\\\\",\\\\\\\"6.4\\\\\\\",\\\\\\\"6.5\\\\\\\",\\\\\\\"6.6\\\\\\\",\\\\\\\"6.7\\\\\\\",\\\\\\\"6.8\\\\\\\",\\\\\\\"6.9\\\\\\\",\\\\\\\"7.0\\\\\\\",\\\\\\\"7.1\\\\\\\",\\\\\\\"7.2\\\\\\\",\\\\\\\"7.3\\\\\\\",\\\\\\\"7.4\\\\\\\",\\\\\\\"7.5\\\\\\\",\\\\\\\"7.6\\\\\\\",\\\\\\\"7.7\\\\\\\",\\\\\\\"7.8\\\\\\\",\\\\\\\"7.9\\\\\\\",\\\\\\\"8.0\\\\\\\",\\\\\\\"8.1\\\\\\\",\\\\\\\"8.2\\\\\\\",\\\\\\\"8.3\\\\\\\",\\\\\\\"8.4\\\\\\\",\\\\\\\"8.5\\\\\\\",\\\\\\\"8.6\\\\\\\",\\\\\\\"8.7\\\\\\\",\\\\\\\"8.8\\\\\\\",\\\\\\\"8.9\\\\\\\",\\\\\\\"9.0\\\\\\\",\\\\\\\"9.1\\\\\\\",\\\\\\\"9.2\\\\\\\",\\\\\\\"9.3\\\\\\\",\\\\\\\"9.4\\\\\\\",\\\\\\\"9.5\\\\\\\",\\\\\\\"9.6\\\\\\\",\\\\\\\"9.7\\\\\\\",\\\\\\\"9.8\\\\\\\",\\\\\\\"9.9\\\\\\\",\\\\\\\"10.0\\\\\\\"],\\\\\\\"changes\\\\\\\":0,\\\\\\\"formatted_value\\\\\\\":\\\\\\\"5.0\\\\\\\",\\\\\\\"index\\\\\\\":50}\\\");\\n    var self = this;\\n    function AppViewModel() {\\n        for (var key in json_data) {\\n            var el = json_data[key];\\n            this[key] = Array.isArray(el) ? ko.observableArray(el) : ko.observable(el);\\n        }\\n        \\n        \\n        [this[\\\"formatted_vals\\\"].subscribe((function (val){!(this.valueFromJulia[\\\"formatted_vals\\\"]) ? (_webIOScope.setObservableValue({\\\"name\\\":\\\"formatted_vals\\\",\\\"scope\\\":\\\"knockout-component-358c62c2-31f6-4004-a037-4c6f56220441\\\",\\\"id\\\":\\\"ob_52\\\",\\\"type\\\":\\\"observable\\\"},val)) : undefined; return this.valueFromJulia[\\\"formatted_vals\\\"]=false}),self),this[\\\"changes\\\"].subscribe((function (val){!(this.valueFromJulia[\\\"changes\\\"]) ? (_webIOScope.setObservableValue({\\\"name\\\":\\\"changes\\\",\\\"scope\\\":\\\"knockout-component-358c62c2-31f6-4004-a037-4c6f56220441\\\",\\\"id\\\":\\\"ob_54\\\",\\\"type\\\":\\\"observable\\\"},val)) : undefined; return this.valueFromJulia[\\\"changes\\\"]=false}),self),this[\\\"formatted_value\\\"].subscribe((function (val){!(this.valueFromJulia[\\\"formatted_value\\\"]) ? (_webIOScope.setObservableValue({\\\"name\\\":\\\"formatted_value\\\",\\\"scope\\\":\\\"knockout-component-358c62c2-31f6-4004-a037-4c6f56220441\\\",\\\"id\\\":\\\"ob_53\\\",\\\"type\\\":\\\"observable\\\"},val)) : undefined; return this.valueFromJulia[\\\"formatted_value\\\"]=false}),self),this[\\\"index\\\"].subscribe((function (val){!(this.valueFromJulia[\\\"index\\\"]) ? (_webIOScope.setObservableValue({\\\"name\\\":\\\"index\\\",\\\"scope\\\":\\\"knockout-component-358c62c2-31f6-4004-a037-4c6f56220441\\\",\\\"id\\\":\\\"ob_51\\\",\\\"type\\\":\\\"observable\\\"},val)) : undefined; return this.valueFromJulia[\\\"index\\\"]=false}),self)]\\n        \\n    }\\n    self.model = new AppViewModel();\\n    self.valueFromJulia = {};\\n    for (var key in json_data) {\\n        self.valueFromJulia[key] = false;\\n    }\\n    ko.applyBindings(self.model, self.dom);\\n}\\n\")]),\"changes\"=>Any[JSString(\"(function (val){return (val!=this.model[\\\"changes\\\"]()) ? (this.valueFromJulia[\\\"changes\\\"]=true, this.model[\\\"changes\\\"](val)) : undefined})\")],\"formatted_value\"=>Any[JSString(\"(function (val){return (val!=this.model[\\\"formatted_value\\\"]()) ? (this.valueFromJulia[\\\"formatted_value\\\"]=true, this.model[\\\"formatted_value\\\"](val)) : undefined})\")],\"index\"=>Any[JSString(\"(function (val){return (val!=this.model[\\\"index\\\"]()) ? (this.valueFromJulia[\\\"index\\\"]=true, this.model[\\\"index\\\"](val)) : undefined})\"), JSString(\"(function (val){return _webIOScope.setObservableValue({\\\"name\\\":\\\"formatted_value\\\",\\\"scope\\\":\\\"knockout-component-358c62c2-31f6-4004-a037-4c6f56220441\\\",\\\"id\\\":\\\"ob_53\\\",\\\"type\\\":\\\"observable\\\"},_webIOScope.getObservableValue({\\\"name\\\":\\\"formatted_vals\\\",\\\"scope\\\":\\\"knockout-component-358c62c2-31f6-4004-a037-4c6f56220441\\\",\\\"id\\\":\\\"ob_52\\\",\\\"type\\\":\\\"observable\\\"})[(_webIOScope.getObservableValue({\\\"name\\\":\\\"index\\\",\\\"scope\\\":\\\"knockout-component-358c62c2-31f6-4004-a037-4c6f56220441\\\",\\\"id\\\":\\\"ob_51\\\",\\\"type\\\":\\\"observable\\\"})-1)])})\")]), ConnectionPool(Channel{Any}(sz_max:9223372036854775807,sz_curr:0), Set(AbstractConnection[]), Channel{AbstractConnection}(sz_max:32,sz_curr:0))), ##52#53{#dom#13{##dom#11#12{Dict{Any,Any},DOM}},typeof(scope)}(#dom#13{##dom#11#12{Dict{Any,Any},DOM}}(##dom#11#12{Dict{Any,Any},DOM}(Dict{Any,Any}(:className=>\"field\"), DOM(:html, :div))), scope))), Observable{Any} with 0 listeners. Value:\n",
       "MyGraph({6, 8} directed Int64 metagraph with Float64 weights defined by :weight (default weight 1.0)), nothing, getfield(Main, Symbol(\"##38#41\")){Observable{Any}}(Observable{Any} with 0 listeners. Value:\n",
       "MyGraph({6, 8} directed Int64 metagraph with Float64 weights defined by :weight (default weight 1.0))))"
      ]
     },
     "execution_count": 42,
     "metadata": {
      "application/vnd.webio.node+json": {
       "kernelId": "ce8f9bc2-a3f5-447e-9f03-bf67c5c9ae34"
      }
     },
     "output_type": "execute_result"
    }
   ],
   "source": [
    "@manipulate for Y₁=0.1:0.1:10,\n",
    "                Y₂=0.1:0.1:10,\n",
    "                Y₃=0.1:0.1:10,\n",
    "                Y₄=0.1:0.1:10,\n",
    "                Y₅=0.1:0.1:10,\n",
    "                Y₆=0.1:0.1:10,\n",
    "                Y₇=0.1:0.1:10,\n",
    "                Y₈=0.1:0.1:10\n",
    "    s = [1,-1,0,0,0,0]\n",
    "    Y = diagm(0=>[Y₁,Y₂,Y₃,Y₄,Y₅,Y₆,Y₇,Y₈])\n",
    "    nodecolors!(labels(g, edges=[subchar(\"i_$j = $i\") for (j,i) in enumerate(twodigits.(Y*A*(pinv(A'*Y*A) * s)))]),\n",
    "                [1,2])\n",
    "end"
   ]
  },
  {
   "cell_type": "markdown",
   "metadata": {},
   "source": [
    "Notice that if we make the admittance $Y_2$ really large compared to all of the other admittances, then nearly all of the current should flow just over that one edge.   Conversely, if we make $Y_2$ really *small*, it is almost like \"cutting\" that wire: almost all of the current should flow through the *other* edges.\n",
    "\n",
    "Hooray, math (and physics) works!"
   ]
  },
  {
   "cell_type": "markdown",
   "metadata": {},
   "source": [
    "## Sparsity\n",
    "\n",
    "The case of matrices arising from graphs illustrates another point that I've made many times: **really large matrices are often sparse (mostly 0)** in practice.\n",
    "\n",
    "For example, imagine a circuit with a million nodes.  For the most part, there will only be *wires between nearby nodes*.  Or imagine a graph where the nodes are websites and the edges are links: there are billions of sites, but *each site only links to a few other sites* (a few hundred at most, usually).   In such cases, the **incidence matrix is mostly zero**, and similarly for $A^T Y A$ etcetetera.\n",
    "\n",
    "This is hugely important, because solving $Ax=b$ and most other matrix equations scale as $\\sim n^3$ for $n \\times n$ matrices.  $1000 \\times 1000$ matrices are easy (< 1 second), but $n=10^6$ would require supercomputers, and $n=10^9$ would be impossibly hard.   What saves us is that there are **much faster algorithms for sparse matrices**.  We won't learn much about such algorithms in 18.06, but the key point is to know that they exist.\n",
    "\n",
    "If you encounter a large sparse matrix problem in the future, go read about sparse matrix algorithms!"
   ]
  }
 ],
 "metadata": {
  "@webio": {
   "lastCommId": "9339f69e893548cd885be5bb190b5104",
   "lastKernelId": "ce8f9bc2-a3f5-447e-9f03-bf67c5c9ae34"
  },
  "anaconda-cloud": {},
  "kernelspec": {
   "display_name": "Julia 1.0.1",
   "language": "julia",
   "name": "julia-1.0"
  },
  "language_info": {
   "file_extension": ".jl",
   "mimetype": "application/julia",
   "name": "julia",
   "version": "1.0.1"
  }
 },
 "nbformat": 4,
 "nbformat_minor": 1
}
