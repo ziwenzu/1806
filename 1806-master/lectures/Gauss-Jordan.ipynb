{
 "cells": [
  {
   "cell_type": "markdown",
   "metadata": {},
   "source": [
    "# Gauss–Jordan and computing A⁻¹\n",
    "\n",
    "The Gauss–Jordan algorithm is a technique for hand-calculation of the inverse.   Nowadays, you should hardly ever compute a matrix inverse, even on a computer, but Gauss–Jordan is still useful to go over:\n",
    "\n",
    "* It helps us to understand when and why an inverse matrix exists.\n",
    "\n",
    "* It gives us yet another example to help us understand the *structure* of elimination operations"
   ]
  },
  {
   "cell_type": "markdown",
   "metadata": {},
   "source": [
    "## The Gauss–Jordan algorithm.\n",
    "\n",
    "The Gauss–Jordan idea, in a nutshell is: **if we do some row operations on A to obtain I, then doing the *same* row operations on I gives A⁻¹**.  Why?\n",
    "\n",
    "* Row operations correspond to multiplying $A$ by a some matrix $E=\\cdots E_2 E_1$ on the *left*.\n",
    "\n",
    "* So, doing row operations that turn $A$ into $I$ means that $EA = I$, and hence $E = A^{-1}$.\n",
    "\n",
    "* Doing the *same* row operations on $I$ is equivalent to multiplying $I$ on the *left* by the *same* matrix $E$, giving $EI$.  But $EI = E$, and $E = A^{-1}$, so this gives $A^{-1}$!\n",
    "\n",
    "As usual for Gaussian elimination, to do the *same* row operations on both $A$ and $I$ we **augment A** with $I$.  That is, we do:\n",
    "\n",
    "$$\n",
    "\\boxed{\n",
    "\\left(\\begin{array}{c|c}A & I\\end{array}\\right) \\underset{\\mbox{row ops}}{\\longrightarrow} \\left(\\begin{array}{c|c}I & A^{-1}\\end{array}\\right)\n",
    "}\n",
    "$$\n",
    "\n",
    "### Elimination $A \\to I$\n",
    "\n",
    "How do we do row operations to turn $A$ into $I$?  Simple:\n",
    "\n",
    "1. First, do ordinary Gaussian elimination \"downwards\" to turn $A$ into $U$ (an **upper-triangular** matrix).\n",
    "\n",
    "2. Then, do Gaussian elimination \"upwards\" on $U$ to eliminate entries *above* the diagonal, turning $U$ into a **diagonal** matrix $D$\n",
    "\n",
    "3. Finally, divide each row of $D$ by the diagonal entry to turn it into $I$."
   ]
  },
  {
   "cell_type": "markdown",
   "metadata": {},
   "source": [
    "# Gauss–Jordan example\n",
    "\n",
    "Let's perform these $A \\to I$ elimination steps on $3 \\times 3$ matrix $A$: first eliminate down to make $U$, then eliminate up to make $D$, then divide by the diagonals to make $I$:\n",
    "\n",
    "$$\n",
    "\\underbrace{\\begin{pmatrix} \\boxed{1} & 4 & 1 \\\\ 1 & 2 & -1 \\\\ 3 & 14 & 6 \\end{pmatrix}}_A\n",
    "\\longrightarrow\n",
    "\\begin{pmatrix} \\boxed{1} & 4 & 1 \\\\ 0 & \\boxed{-2} & -2 \\\\ 0 & 2 & 3 \\end{pmatrix}\n",
    "\\longrightarrow\n",
    "\\underbrace{\\begin{pmatrix} \\boxed{1} & 4 & 1 \\\\ 0 & \\boxed{-2} & -2 \\\\ 0 & 0 & \\boxed{1} \\end{pmatrix}}_U\n",
    "\\\\\n",
    "\\longrightarrow\n",
    "\\begin{pmatrix} 1 & 0 & -3 \\\\ 0 & \\boxed{-2} & -2 \\\\ 0 & 0 & 1 \\end{pmatrix}\n",
    "\\longrightarrow\n",
    "\\underbrace{\\begin{pmatrix} 1 & 0 & 0 \\\\ 0 & -2 & 0 \\\\ 0 & 0 & \\boxed{1} \\end{pmatrix}}_D\n",
    "\\longrightarrow\n",
    "\\underbrace{\\begin{pmatrix} 1 & 0 & 0 \\\\ 0 & 1 & 0 \\\\ 0 & 0 & 1 \\end{pmatrix}}_I\n",
    "$$\n",
    "\n",
    "No problem!  It is easy to see that this will work **whenever A has all of its pivots** (i.e. it is non-singular)."
   ]
  },
  {
   "cell_type": "markdown",
   "metadata": {},
   "source": [
    "To get the inverse, we needed to augment this with $I$ so that we perform the same elimination steps on both.\n",
    "\n",
    "$$\n",
    "\\left(\\begin{array}{rrr|rrr}\n",
    " \\boxed{1} & 4 & 1 & 1 & 0 & 0 \\\\\n",
    " 1 & 2 & -1 & 0 & 1 & 0 \\\\\n",
    " 3 & 14 & 6 & 0 & 0 & 1 \\end{array}\\right)\n",
    "\\longrightarrow\n",
    "\\left(\\begin{array}{rrr|rrr}\n",
    " \\boxed{1} & 4 & 1 & 1 & 0 & 0 \\\\\n",
    " 0 & \\boxed{-2} & -2 & -1 & 1 & 0 \\\\\n",
    " 0 & 2 & 3 & -3 & 0 & 1 \\end{array}\\right) \\\\\n",
    "\\longrightarrow\n",
    "\\left(\\begin{array}{rrr|rrr}\n",
    " \\boxed{1} & 4 & 1 & 1 & 0 & 0 \\\\\n",
    " 0 & \\boxed{-2} & -2 & -1 & 1 & 0 \\\\\n",
    " 0 & 0 & \\boxed{1} & -4 & 1 & 1 \\end{array}\\right)\n",
    "\\longrightarrow\n",
    "\\left(\\begin{array}{rrr|rrr}\n",
    " 1 & 0 & -3 & -1 & 2 & 0 \\\\\n",
    " 0 & \\boxed{-2} & -2 & -1 & 1 & 0 \\\\\n",
    " 0 & 0 & 1 & -4 & 1 & 1 \\end{array}\\right) \\\\\n",
    "\\longrightarrow\n",
    "\\left(\\begin{array}{rrr|rrr}\n",
    " 1 & 0 & 0 & -13 & 5 & 3 \\\\\n",
    " 0 & -2 & 0 & -9 & 3 & 2 \\\\\n",
    " 0 & 0 & \\boxed{1} & -4 & 1 & 1 \\end{array}\\right)\n",
    "\\longrightarrow\n",
    "\\left(\\begin{array}{rrr|rrr}\n",
    " 1 & 0 & 0 & -13 & 5 & 3 \\\\\n",
    " 0 & 1 & 0 & 4.5 & -1.5 & -1 \\\\\n",
    " 0 & 0 & 1 & -4 & 1 & 1 \\end{array}\\right)\n",
    "$$\n",
    "\n",
    "Whew, this was a lot of work!  Did we get the right answer?"
   ]
  },
  {
   "cell_type": "code",
   "execution_count": 1,
   "metadata": {},
   "outputs": [
    {
     "data": {
      "text/plain": [
       "3×3 Array{Int64,2}:\n",
       " 1   4   1\n",
       " 1   2  -1\n",
       " 3  14   6"
      ]
     },
     "execution_count": 1,
     "metadata": {},
     "output_type": "execute_result"
    }
   ],
   "source": [
    "A = [1  4  1\n",
    "     1  2 -1\n",
    "     3 14  6]"
   ]
  },
  {
   "cell_type": "code",
   "execution_count": 2,
   "metadata": {},
   "outputs": [
    {
     "data": {
      "text/plain": [
       "3×3 Array{Float64,2}:\n",
       " -13.0   5.0   3.0\n",
       "   4.5  -1.5  -1.0\n",
       "  -4.0   1.0   1.0"
      ]
     },
     "execution_count": 2,
     "metadata": {},
     "output_type": "execute_result"
    }
   ],
   "source": [
    "inv(A)"
   ]
  },
  {
   "cell_type": "markdown",
   "metadata": {},
   "source": [
    "Hooray!\n",
    "\n",
    "(It is *really* easy to make a mistake during this process.)"
   ]
  },
  {
   "cell_type": "markdown",
   "metadata": {},
   "source": [
    "# (Almost) Never Compute Inverses!\n",
    "\n",
    "Matrix inverses are funny, however:\n",
    "\n",
    "* Inverse matrices are very convenient in *analytical* manipulations, because they allow you to move matrices from one side to the other of equations easily.\n",
    "\n",
    "* Inverse matrices are **almost never computed** in \"serious\" numerical calculations.  Whenever you see $A^{-1} B$ (or $A^{-1} b$), when you go to *implement* it on a computer you should *read* $A^{-1} B$ as \"solve $AX = B$ by some method.\" e.g. solve it by `A \\ B` or by first computing the LU factorization of $A$ and then using it to solve $AX = B$.\n",
    "\n",
    "One reason that you don't usually compute inverse matrices is that it is wasteful: once you have $A=LU$ (later we will generalize this to \"$PA = LU$\"), you can solve $AX=B$ directly without bothering to find $A^{-1}$, and computing $A^{-1}$ requires much more work if you only have to solve a few right-hand sides.\n",
    "\n",
    "Another reason is that for many special matrices, there are ways to solve $AX=B$ *much* more quickly than you can find $A^{-1}$.   For example, many large matrices in practice are [sparse](https://en.wikipedia.org/wiki/Sparse_matrix) (mostly zero), and often for sparse matrices you can arrange for $L$ and $U$ to be sparse too.  Sparse matrices are much more efficient to work with than general \"dense\" matrices because you don't have to multiply (or even store) the zeros. Even if $A$ is sparse, however, $A^{-1}$ is usually non-sparse, so you lose the special efficiency of sparsity if you compute the inverse matrix.  \n",
    "\n",
    "For example:\n",
    "\n",
    "* If you see $U^{-1} b$ where $U$ is *upper* triangular, don't compute $U^{-1} explicitly!  Just solve $Ux = b$ by *back-substitution* (from the bottom row up).\n",
    "\n",
    "* If you see $L^{-1} b$ where $L$ is *lower* triangular, don't compute $L^{-1} explicitly!  Just solve $Lx = b$ by *forward-substitution* (from the top row down)."
   ]
  }
 ],
 "metadata": {
  "kernelspec": {
   "display_name": "Julia 0.6.3",
   "language": "julia",
   "name": "julia-0.6"
  },
  "language_info": {
   "file_extension": ".jl",
   "mimetype": "application/julia",
   "name": "julia",
   "version": "0.6.3"
  }
 },
 "nbformat": 4,
 "nbformat_minor": 2
}
