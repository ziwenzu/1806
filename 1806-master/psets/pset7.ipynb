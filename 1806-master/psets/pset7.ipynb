{
 "cells": [
  {
   "cell_type": "markdown",
   "metadata": {},
   "source": [
    "##### 18.06 Spring2019  pset 7\n",
    "## due  Friday  4/12 at 10:55am"
   ]
  },
  {
   "cell_type": "markdown",
   "metadata": {},
   "source": [
    "(1) If P is a projection matrix. What are the possible values of det(P)?"
   ]
  },
  {
   "cell_type": "markdown",
   "metadata": {},
   "source": [
    "(2) A Hadamard matrix H is a matrix with entries ±1 and orthogonal columns. What is the determinant of H as a function of n?\n",
    "(Hadamard matrices are conjectured to exist for every n that is a multiple of 4, but nobody knows if there is such a matrix even for n=668)\n",
    "(See [mathoverflow](https://mathoverflow.net/questions/85201/status-of-hadamard-matrix-conjecture) for example.) If you stumble on a Hadamard matrix of size 668 please let us know. (Extremely unlikely don't waste much time looking and definitely not juliabox cycles.)"
   ]
  },
  {
   "cell_type": "markdown",
   "metadata": {},
   "source": [
    "There is a simple recursive construction for powers of 2, if you would like to play with some easy Hadamard matrices in Julia: (you are not expected to understand the Julia syntax but if you are curious you can\n",
    "look up the [ternary operator](https://docs.julialang.org/en/v1/manual/control-flow/#man-conditional-evaluation-1) ( a compact if then else) and the [Kronecker product](https://en.wikipedia.org/wiki/Kronecker_product). "
   ]
  },
  {
   "cell_type": "code",
   "execution_count": 9,
   "metadata": {},
   "outputs": [
    {
     "data": {
      "text/plain": [
       "H (generic function with 1 method)"
      ]
     },
     "execution_count": 9,
     "metadata": {},
     "output_type": "execute_result"
    }
   ],
   "source": [
    "using LinearAlgebra\n",
    "A = [1 1;1 -1]\n",
    "H(k) = k==1 ? A : kron( H(k-1), A) # Creates a 2ᵏ by 2ᵏ Hadamard matrix"
   ]
  },
  {
   "cell_type": "code",
   "execution_count": 10,
   "metadata": {},
   "outputs": [
    {
     "data": {
      "text/plain": [
       "4×4 Array{Int64,2}:\n",
       " 1   1   1   1\n",
       " 1  -1   1  -1\n",
       " 1   1  -1  -1\n",
       " 1  -1  -1   1"
      ]
     },
     "execution_count": 10,
     "metadata": {},
     "output_type": "execute_result"
    }
   ],
   "source": [
    "H(2)"
   ]
  },
  {
   "cell_type": "markdown",
   "metadata": {},
   "source": [
    "(3)  Find a 3x3 matrix with entries 0 and 1 with determinant -2,-1,0, and 1,2. (Okay to use rand(0:1,3,3) if it helps but don't forget using LinearAlgebra)"
   ]
  },
  {
   "cell_type": "markdown",
   "metadata": {},
   "source": [
    "(4) What is the pattern in the formula for the determinant of S(n) given by the Julia code below? You may see it by inspecting, but ultimately you should figure it out by math."
   ]
  },
  {
   "cell_type": "code",
   "execution_count": 14,
   "metadata": {},
   "outputs": [
    {
     "data": {
      "text/plain": [
       "S (generic function with 1 method)"
      ]
     },
     "execution_count": 14,
     "metadata": {},
     "output_type": "execute_result"
    }
   ],
   "source": [
    "# using LinearAlgebra\n",
    "S(n) = SymTridiagonal( fill(3,n), fill(1,n-1))"
   ]
  },
  {
   "cell_type": "code",
   "execution_count": 15,
   "metadata": {},
   "outputs": [
    {
     "data": {
      "text/plain": [
       "5×5 SymTridiagonal{Int64,Array{Int64,1}}:\n",
       " 3  1  ⋅  ⋅  ⋅\n",
       " 1  3  1  ⋅  ⋅\n",
       " ⋅  1  3  1  ⋅\n",
       " ⋅  ⋅  1  3  1\n",
       " ⋅  ⋅  ⋅  1  3"
      ]
     },
     "execution_count": 15,
     "metadata": {},
     "output_type": "execute_result"
    }
   ],
   "source": [
    "S(5)"
   ]
  },
  {
   "cell_type": "code",
   "execution_count": 16,
   "metadata": {},
   "outputs": [
    {
     "data": {
      "text/plain": [
       "6-element Array{Int64,1}:\n",
       "   3\n",
       "   8\n",
       "  21\n",
       "  55\n",
       " 144\n",
       " 377"
      ]
     },
     "execution_count": 16,
     "metadata": {},
     "output_type": "execute_result"
    }
   ],
   "source": [
    "[det(S(n)) for n=1:6]"
   ]
  },
  {
   "cell_type": "markdown",
   "metadata": {},
   "source": [
    "(5) If you know all 16 cofactors of a 4x4 invertible matrix A, how would you find A?"
   ]
  },
  {
   "cell_type": "markdown",
   "metadata": {},
   "source": [
    "(6) A square matrix is said to be upper-[Hessenberg](https://en.wikipedia.org/wiki/Hessenberg_matrix) if it has non-zeros in the upper triangle and the diagonal below the main diagonal. If A is square upper Hessenberg, does the determinant of A depend on the entry in the top right? If so, how? "
   ]
  },
  {
   "cell_type": "markdown",
   "metadata": {},
   "source": [
    "(7)  What is $\\partial(\\det(A))/\\partial(A_{11})$  Hint: use the cofactor expansion?"
   ]
  },
  {
   "cell_type": "code",
   "execution_count": null,
   "metadata": {},
   "outputs": [],
   "source": []
  }
 ],
 "metadata": {
  "kernelspec": {
   "display_name": "Julia 1.0.0",
   "language": "julia",
   "name": "julia-1.0"
  },
  "language_info": {
   "file_extension": ".jl",
   "mimetype": "application/julia",
   "name": "julia",
   "version": "1.0.0"
  }
 },
 "nbformat": 4,
 "nbformat_minor": 2
}
