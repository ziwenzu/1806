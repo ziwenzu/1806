{
 "cells": [
  {
   "cell_type": "markdown",
   "metadata": {},
   "source": [
    "# 18.06 Spring2019  pset 7 - Solutions"
   ]
  },
  {
   "cell_type": "markdown",
   "metadata": {},
   "source": [
    "## Problem 1\n",
    "\n",
    "If P is a projection matrix. What are the possible values of det(P)?"
   ]
  },
  {
   "cell_type": "markdown",
   "metadata": {},
   "source": [
    "## Solution \n",
    "\n",
    "If $P$ is a projection matrix, then we know that $P^T = P$ and that $P^2=P$. We can then take the determinant of both sides of the second equation to obtain that \n",
    "$$\\det P^2 = \\det P \\implies (\\det P)(\\det P) = \\det P  \\implies (\\det P)^2 = \\det P$$\n",
    "There are then two possible values for $\\det P$:\n",
    "* $\\det P=1$, when $P$ has rank $n$. In this case $P$ is invertble. The condition $P^2 = P$ then implies that $\\boxed{P=I}$\n",
    "* $\\det P=0$, when $P$ has rank $<n$."
   ]
  },
  {
   "cell_type": "markdown",
   "metadata": {},
   "source": [
    "## Problem 2\n",
    "\n",
    "A Hadamard matrix H is a matrix with entries ±1 and orthogonal columns. What is the determinant of H as a function of n?\n",
    "(Hadamard matrices are conjectured to exist for every n that is a multiple of 4, but nobody knows if there is such a matrix even for n=668)\n",
    "(See [mathoverflow](https://mathoverflow.net/questions/85201/status-of-hadamard-matrix-conjecture) for example.) If you stumble on a Hadamard matrix of size 668 please let us know. (Extremely unlikely don't waste much time looking and definitely not juliabox cycles.)"
   ]
  },
  {
   "cell_type": "markdown",
   "metadata": {},
   "source": [
    "There is a simple recursive construction for powers of 2, if you would like to play with some easy Hadamard matrices in Julia: (you are not expected to understand the Julia syntax but if you are curious you can\n",
    "look up the [ternary operator](https://docs.julialang.org/en/v1/manual/control-flow/#man-conditional-evaluation-1) ( a compact if then else) and the [Kronecker product](https://en.wikipedia.org/wiki/Kronecker_product). "
   ]
  },
  {
   "cell_type": "code",
   "execution_count": 1,
   "metadata": {},
   "outputs": [
    {
     "data": {
      "text/plain": [
       "H (generic function with 1 method)"
      ]
     },
     "execution_count": 1,
     "metadata": {},
     "output_type": "execute_result"
    }
   ],
   "source": [
    "using LinearAlgebra\n",
    "A = [1 1;1 -1]\n",
    "H(k) = k==1 ? A : kron( H(k-1), A) # Creates a 2ᵏ by 2ᵏ Hadamard matrix"
   ]
  },
  {
   "cell_type": "code",
   "execution_count": 2,
   "metadata": {},
   "outputs": [],
   "source": [
    "A = H(2);"
   ]
  },
  {
   "cell_type": "markdown",
   "metadata": {},
   "source": [
    "## Solution\n",
    "\n",
    "Since the columns of $H$ are all orthogonal to each other, the product $H^TH$ will be a diagonal matrix. The entries along the diagonal are then the magnitudes squared of each of the columns of $H$. Since every column of $H$ contains only $\\pm 1$, every column of $H$ will have magnitude $\\sqrt{n}$. Hence $\\boxed{H^TH = n I}$. \n",
    "\n",
    "We can then take the determinant of this relationship to deduce that $\\;\\; \\det(H^TH) = \\det (nI) \\implies (\\det H )^2 = n^n$\n",
    "$$\\implies \\boxed{\\det H = \\pm n^{n/2}}$$\n"
   ]
  },
  {
   "cell_type": "markdown",
   "metadata": {},
   "source": [
    "## Problem 3\n",
    "\n",
    "Find a 3x3 matrix with entries 0 and 1 with determinant -2,-1,0, and 1,2. (Okay to use rand(0:1,3,3) if it helps but don't forget using LinearAlgebra)"
   ]
  },
  {
   "cell_type": "markdown",
   "metadata": {},
   "source": [
    "## Solution\n",
    "\n",
    "* The simplest matrix with $\\det A = 0$ is a matrix of all 0s. A non trivial example would be \n",
    "$$ A = \\begin{pmatrix} 1 & 0 & 0 \\\\ 0 & 1 & 0 \\\\ 0 & 0 & 0 \\end{pmatrix}$$\n",
    "* The identity matrix is the simplest example with $\\det A = 1$\n",
    "$$A = \\begin{pmatrix} 1 & 0 & 0 \\\\ 0 & 1 & 0 \\\\ 0 & 0 & 1 \\end{pmatrix}$$\n",
    "* An example of a matrix with $\\det A = 2$ is\n",
    "$$A = \\begin{pmatrix} 1 & 0 & 1 \\\\ 1 & 1 & 0 \\\\ 0 & 1 & 1 \\end{pmatrix}$$\n",
    "* To obtain an example with $\\det A = -1$, we just switch any two rows in our example with $\\det A =1$, e.g.\n",
    "$$A = \\begin{pmatrix} 1 & 0 & 0 \\\\ 0 & 0 & 1 \\\\ 0 & 1 & 0 \\end{pmatrix}$$\n",
    "* To obtain an example with $\\det A = -1$, we just switch any two rows in our example with $\\det A =1$, e.g.\n",
    "$$A = \\begin{pmatrix} 1 & 0 & 1 \\\\ 0 & 1 & 1 \\\\ 1 & 1 & 0 \\end{pmatrix}$$"
   ]
  },
  {
   "cell_type": "markdown",
   "metadata": {},
   "source": [
    "## Problem 4\n",
    "\n",
    "What is the pattern in the formula for the determinant of S(n) given by the Julia code below? You may see it by inspecting, but ultimately you should figure it out by math."
   ]
  },
  {
   "cell_type": "code",
   "execution_count": 3,
   "metadata": {},
   "outputs": [
    {
     "data": {
      "text/plain": [
       "S (generic function with 1 method)"
      ]
     },
     "execution_count": 3,
     "metadata": {},
     "output_type": "execute_result"
    }
   ],
   "source": [
    "# using LinearAlgebra\n",
    "S(n) = SymTridiagonal( fill(3,n), fill(1,n-1))"
   ]
  },
  {
   "cell_type": "code",
   "execution_count": 4,
   "metadata": {},
   "outputs": [
    {
     "data": {
      "text/plain": [
       "5×5 SymTridiagonal{Int64,Array{Int64,1}}:\n",
       " 3  1  ⋅  ⋅  ⋅\n",
       " 1  3  1  ⋅  ⋅\n",
       " ⋅  1  3  1  ⋅\n",
       " ⋅  ⋅  1  3  1\n",
       " ⋅  ⋅  ⋅  1  3"
      ]
     },
     "execution_count": 4,
     "metadata": {},
     "output_type": "execute_result"
    }
   ],
   "source": [
    "S(5)"
   ]
  },
  {
   "cell_type": "code",
   "execution_count": 5,
   "metadata": {},
   "outputs": [
    {
     "data": {
      "text/plain": [
       "6-element Array{Int64,1}:\n",
       "   3\n",
       "   8\n",
       "  21\n",
       "  55\n",
       " 144\n",
       " 377"
      ]
     },
     "execution_count": 5,
     "metadata": {},
     "output_type": "execute_result"
    }
   ],
   "source": [
    "[det(S(n)) for n=1:6]"
   ]
  },
  {
   "cell_type": "markdown",
   "metadata": {},
   "source": [
    "## Solution\n",
    "\n",
    "Let us denote the determinant of $S(n)$ by $D_n = \\det( S(n) )$. Then\n",
    "\\begin{align*}\n",
    "D_n &= \\begin{vmatrix} 3 & 1 &  &  & &  \\\\ \n",
    "                      1 & 3 & 1 & &  &  \\\\ \n",
    "                        & 1 & 3 & 1 &   & \\\\\n",
    "                        &  & \\cdot & \\cdot & \\cdot & \\\\\n",
    "                        &  &  & \\cdot & \\cdot & 1 \\\\\n",
    "                        &  & & & 1 & 3 \\end{vmatrix} \n",
    "                        \\\\\n",
    "    &= 3 \\times \\begin{vmatrix}  3 & 1 & &  &  \\\\ \n",
    "                                 1 & 3 & 1 &   & \\\\\n",
    "                                  & \\cdot & \\cdot & \\cdot & \\\\\n",
    "                                  &  & \\cdot & \\cdot & 1 \\\\\n",
    "                                  & & & 1 & 3 \\end{vmatrix} \n",
    "      -1\\times \\begin{vmatrix} 1  & 1 & &  &  \\\\ \n",
    "                               &  3 & 1 &   & \\\\\n",
    "                               &  \\cdot & \\cdot & \\cdot & \\\\\n",
    "                               &   & \\cdot & \\cdot & 1 \\\\\n",
    "                               &  & & 1 & 3 \\end{vmatrix}\n",
    "                        \\\\\n",
    "    &= 3D_{n-1} -1\\times \\left(1\\times \\begin{vmatrix}  3 & 1 & &  &  \\\\ \n",
    "                                 1 & 3 & 1 &   & \\\\\n",
    "                                  &  & \\cdot & \\cdot & 1 \\\\\n",
    "                                  & & & 1 & 3 \\end{vmatrix} \n",
    "                           -1\\times \\begin{vmatrix} \n",
    "                              0 &   1 &   & \\\\\n",
    "                              0 &   \\cdot & \\cdot & \\\\\n",
    "                              0 &  \\cdot & \\cdot & 1 \\\\\n",
    "                              0 &  & 1 & 3 \\end{vmatrix}\\right)\\\\\n",
    "    &= 3D_{n-1} - D_{n-2}\n",
    "\\end{align*}\n",
    "\n",
    "The recurrence relation\n",
    "$$\\boxed{D_n = 3D_{n-1} - D_{n-2}}$$\n",
    "is the relationship between determinants for $S(n)$. \n",
    "\n",
    "It is not required for this problem, but we can solve this difference equation explicitly, using techniques you may have seen in 18.03, or elsewhere. The general solution to this difference equation is \n",
    "$$D_n = a\\left(\\frac{3+\\sqrt{5}}{2}\\right)^n + b\\left(\\frac{3-\\sqrt{5}}{2}\\right)^n$$\n",
    "The coefficients $a,b$ are determined by the conditions that $D_1 = 3$ and $D_2 = 8$. "
   ]
  },
  {
   "cell_type": "markdown",
   "metadata": {},
   "source": [
    "## Problem 5\n",
    "\n",
    "If you know all 16 cofactors of a 4x4 invertible matrix A, how would you find A?"
   ]
  },
  {
   "cell_type": "markdown",
   "metadata": {},
   "source": [
    "## Solution\n",
    "\n",
    "We know that we can find the inverse of $A$ as\n",
    "$$A^{-1} = \\frac{C^T}{\\det A}.$$\n",
    "Where $C$ is the $4\\times 4$ matrix of cofactors. If we can express $\\det A$ in terms of $C$, we can then obtain $A^{-1}$ just in terms of the cofactors. Once we have $A^{-1}$, we can invert this matrix to find $A$. \n",
    "\n",
    "We can multiply both sides of the above equation by $A$ to obtain\n",
    "$$I = \\frac{AC^T}{\\det A} \\;\\; \\implies \\;\\; AC^T = (\\det A) I .$$\n",
    "We can then take the determinant of this equation:\n",
    "\\begin{align*}\n",
    "\\det (AC^T) &= \\det ((\\det A) I)\\\\\n",
    "\\implies (\\det A)(\\det C^T) &= (\\det A)^4 \\\\\n",
    "\\implies \\det C^T &= (\\det A)^{3}\n",
    "\\end{align*}\n",
    "\n",
    "and finally using the fact that $\\det C = \\det C^T$ for any matrix, we have that $\\det C = (\\det A)^{3}$. We can invert this equation to write that\n",
    "\n",
    "$$\\boxed{\\det A = (\\det C)^{1/3)}}$$\n",
    "\n",
    "We can then find $A^{-1}$ just from the cofactors of $A$. Hence we can find $A$ just from its cofactors via\n",
    "\n",
    "$$\\boxed{ A = (\\det C)^{1/3}(C^T)^{-1}}$$\n"
   ]
  },
  {
   "cell_type": "markdown",
   "metadata": {},
   "source": [
    "## Problem 6\n",
    "\n",
    "A square matrix is said to be upper-[Hessenberg](https://en.wikipedia.org/wiki/Hessenberg_matrix) if it has non-zeros in the upper triangle and the diagonal below the main diagonal. If A is square upper Hessenberg, does the determinant of A depend on the entry in the top right? If so, how? "
   ]
  },
  {
   "cell_type": "markdown",
   "metadata": {},
   "source": [
    "## Solution \n",
    "\n",
    "A $n\\times n$ upper-Hessenberg matrix has the form\n",
    "\n",
    "$$A = \\begin{pmatrix} a_{11} & a_{12} & a_{13} & \\cdots & a_{1n} \\\\\n",
    "                      a_{21} & a_{22} & a_{23} & \\cdots & a_{2n} \\\\\n",
    "                      0 &  a_{32} & a_{33} & \\cdots & a_{3n}\\\\\n",
    "                      0 & 0 & \\ddots & \\ddots & \\vdots \\\\\n",
    "                      0 & 0 & \\cdots & a_{n(n-1)} & a_{nn} \\end{pmatrix}$$\n",
    "                      \n",
    "The determinant of this matrix can be obtain using the cofactor expansion:\n",
    "$$\\det A = a_{11}C_{11} + a_{12}C_{12} + ... + a_{1n}C_{1n}$$\n",
    "None of the cofactors will depend on the upper right entry $a_{1n}$, since they are all calculated by taking the determinant of a submatrix which is obtained by removing the first row of $A$. Therefore the only part of $\\det A$ that depends on $a_{1n}$ is the last term in the cofactor expansion of $\\det A$. Hence $\\det A$ will depend linearly on $a_{1n}$.\n",
    "\n",
    "We can actually calculate the cofactor $C_{1n}$ explicitly, since \n",
    "$$C_{1n}=(-)^{1+n}\\det M_{1n}.$$\n",
    "Now $M_{1n}$ is the submatrix obtained by removing the first row and the last column of $A$. But this matrix is upper triangular, and so $\\det M_{1n} = \\prod_{i=1}^{n-1} a_{(i+1)i}$\n",
    "\n",
    "This means that \n",
    "$$\\partial(\\det(A))/\\partial(a_{1n}) =C_{1n}=(-)^{1+n}\\prod_{i=1}^{n-1} a_{(i+1)i} $$"
   ]
  },
  {
   "cell_type": "markdown",
   "metadata": {},
   "source": [
    "## Problem 7\n",
    "\n",
    "What is $\\partial(\\det(A))/\\partial(A_{11})$  Hint: use the cofactor expansion?"
   ]
  },
  {
   "cell_type": "markdown",
   "metadata": {},
   "source": [
    "## Solution\n",
    "\n",
    "The determinant of a matrix can be obtain using the cofactor expansion:\n",
    "$$\\det A = A_{11}C_{11} + A_{12}C_{12} + ... + A_{1n}C_{1n}$$\n",
    "None of the cofactors will depend on the entry $A_{11}$, since they are all calculated by taking the determinant of a submatrix which is obtained by removing the first row of $A$. Therefore the only part of $\\det A$ that depends on $A_{11}$ is the first term in the cofactor expansion of $\\det A$.\n",
    "\n",
    "Hence \n",
    "$$\\boxed{\\partial(\\det(A))/\\partial(A_{11}) = C_{11}} $$"
   ]
  },
  {
   "cell_type": "code",
   "execution_count": null,
   "metadata": {},
   "outputs": [],
   "source": []
  }
 ],
 "metadata": {
  "kernelspec": {
   "display_name": "Julia 1.0.3",
   "language": "julia",
   "name": "julia-1.0"
  },
  "language_info": {
   "file_extension": ".jl",
   "mimetype": "application/julia",
   "name": "julia",
   "version": "1.0.3"
  }
 },
 "nbformat": 4,
 "nbformat_minor": 2
}
