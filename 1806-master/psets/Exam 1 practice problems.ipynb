{
 "cells": [
  {
   "cell_type": "markdown",
   "metadata": {},
   "source": [
    "Exam 1 will likely consist of problems that may be like the sample ones below in spirit, the problems in the psets, and material in the lectures.  The number of problems will of course be fewer for a 50 minute exam.  Also familiarizing yourselves with these sort of problems will, no doubt, make the exam itself easier."
   ]
  },
  {
   "cell_type": "markdown",
   "metadata": {},
   "source": [
    "1a).  The rowspace of $\\begin{pmatrix} 1 & -1 & 0 \\\\ 0 & 1 & -1 \\\\ 0 & 0 & 0 \\end{pmatrix}$\n",
    "may be described as a plane through the origin.  What is the normal to this plane?\n",
    "<br>\n",
    "(This problem can be done by inspection and common sense.)\n",
    "<br> 1b) Also describe the nullspace.\n"
   ]
  },
  {
   "cell_type": "markdown",
   "metadata": {},
   "source": [
    "2a. Suppose $A=LU$ where $A,L,$ and $U$ are nxn invertible.  Write the solution to $Ax=b$ in terms of $b$ and possibly\n",
    "$L$,$U$,$L^{-1}$ and $U^{-1}$."
   ]
  },
  {
   "cell_type": "markdown",
   "metadata": {},
   "source": [
    "2b.  Suppose $A = QR$ is square,  where $Q$ is orthogonal and $R$ is upper triangular and invertible.  Write the solution to $Ax=b$ in terms of $b$ and possibly\n",
    "$Q$,$Q^T$,and $R$."
   ]
  },
  {
   "cell_type": "code",
   "execution_count": null,
   "metadata": {},
   "outputs": [],
   "source": []
  },
  {
   "cell_type": "markdown",
   "metadata": {},
   "source": [
    "2c.  Suppose $A=U\\Sigma V^T$ is the rank $r$ svd for a rectangular $A$ and $b=Uw$.  Write down a solution to $Ax=b$ \n",
    "in terms of $b$ and possibly $U$,$U^T$,$\\Sigma$,$\\Sigma^{-1}$, $V$, or $V^T$ and $w$."
   ]
  },
  {
   "cell_type": "code",
   "execution_count": null,
   "metadata": {},
   "outputs": [],
   "source": []
  },
  {
   "cell_type": "markdown",
   "metadata": {},
   "source": [
    "3a.  How many parameters are needed to represent the  $n \\times n$ identity matrix on a computer?"
   ]
  },
  {
   "cell_type": "markdown",
   "metadata": {},
   "source": [
    "3b. How many parameters are needed to represent the matrix $vv^T+$Diagonal($v$) on a computer, where $v \\in R^n$?"
   ]
  },
  {
   "cell_type": "markdown",
   "metadata": {},
   "source": [
    "3c. How many parameters are needed to represent the $\\Sigma$ in the rank-r svd?"
   ]
  },
  {
   "cell_type": "markdown",
   "metadata": {},
   "source": [
    "3d. How many parameters are needed to represent the $L$ in a unit $n$ by $n$ lower triangular matrix?"
   ]
  },
  {
   "cell_type": "code",
   "execution_count": null,
   "metadata": {},
   "outputs": [],
   "source": []
  },
  {
   "cell_type": "markdown",
   "metadata": {},
   "source": [
    "4). Am I necessarily a vector space? Why or why not?  (Argue that all real linear combinations are in the space, or zero or some other linear combination is not in the space.)"
   ]
  },
  {
   "cell_type": "markdown",
   "metadata": {},
   "source": [
    "4a. In $R^3$ the xy-plane together with the z axis?"
   ]
  },
  {
   "cell_type": "markdown",
   "metadata": {},
   "source": [
    "4b. All differentiable functions $y(x)$ that satisfy $y'(x)=y(x)$."
   ]
  },
  {
   "cell_type": "markdown",
   "metadata": {},
   "source": [
    "4c. Given any two matrices $A$ and $B$, all vectors $x$ such that $Ax=0$ and $Bx=0$."
   ]
  },
  {
   "cell_type": "markdown",
   "metadata": {},
   "source": [
    "4d. Given any two matrix $A$ and $B$, all vectors $x$ such that either $Ax=0$ or $Bx=0$ (or both)"
   ]
  },
  {
   "cell_type": "markdown",
   "metadata": {},
   "source": [
    "4e. All polynomials in $x$ whose value at $x=2019$ is $0$."
   ]
  },
  {
   "cell_type": "markdown",
   "metadata": {},
   "source": [
    "4f. All 10x10 matrices whose diagonal elements add to $0$."
   ]
  },
  {
   "cell_type": "markdown",
   "metadata": {},
   "source": [
    "5).  Factor $\\begin{pmatrix} a & b \\\\ c & d \\end{pmatrix}$ into an upper triangular $U$ times a unit lower triangular $L$.  When is this impossible?  Write the three parameters in $U$ and the one parameter in $L$ in terms of $a,b,c,d$."
   ]
  },
  {
   "cell_type": "code",
   "execution_count": null,
   "metadata": {},
   "outputs": [],
   "source": []
  },
  {
   "cell_type": "markdown",
   "metadata": {},
   "source": [
    "6).  Suppose a rank-1 matrix is written in terms of the rank r svd, as $A=uσv^T$, where $\\sigma>0$ is a scalar.\n"
   ]
  },
  {
   "cell_type": "markdown",
   "metadata": {},
   "source": [
    "6a.  What is the sum of squares of the entries in the first column of $A$ in terms of entries in $u$,$v$ and $\\sigma$?"
   ]
  },
  {
   "cell_type": "markdown",
   "metadata": {},
   "source": [
    "6b.  In simplest form, what is the sum of squares of all the entries of $A$ in terms of possibly $u$,$v$, and $\\sigma?$"
   ]
  },
  {
   "cell_type": "code",
   "execution_count": null,
   "metadata": {},
   "outputs": [],
   "source": []
  },
  {
   "cell_type": "markdown",
   "metadata": {},
   "source": [
    "7). Suppose $U = [U_1 | U_2]$ is a square $U$ matrix from the full SVD of an mxn A, what is $U_1^T U_2$? \n",
    "\n",
    "Pick from one of the five multiple choices that follow and explain your answer. <br>\n",
    "a) The rxr identity.  b) The rxr zero matrix. c) the mxm identity. d)the mxm zero matrix. (e) None of the choices."
   ]
  },
  {
   "cell_type": "code",
   "execution_count": null,
   "metadata": {},
   "outputs": [],
   "source": []
  },
  {
   "cell_type": "markdown",
   "metadata": {},
   "source": [
    "8). The computation below computes the svd of a random 5x5 matrix."
   ]
  },
  {
   "cell_type": "code",
   "execution_count": 5,
   "metadata": {},
   "outputs": [
    {
     "data": {
      "text/plain": [
       "5×5 Array{Float64,2}:\n",
       " -0.407359   0.877398   -0.0817975   0.00658491   0.239785\n",
       " -0.555299  -0.0178959   0.27982     0.0143706   -0.782827\n",
       " -0.366645  -0.2444      0.719571   -0.131027     0.520471\n",
       " -0.294181  -0.205395   -0.176267    0.9013       0.166912\n",
       " -0.552024  -0.357679   -0.60511    -0.412603     0.175886"
      ]
     },
     "metadata": {},
     "output_type": "display_data"
    },
    {
     "data": {
      "text/plain": [
       "5-element Array{Float64,1}:\n",
       " 2.80606080624294   \n",
       " 1.0051247466049922 \n",
       " 0.6517342346324352 \n",
       " 0.5541492663920499 \n",
       " 0.11013230563631918"
      ]
     },
     "metadata": {},
     "output_type": "display_data"
    },
    {
     "data": {
      "text/plain": [
       "5×5 Adjoint{Float64,Array{Float64,2}}:\n",
       " -0.544144  -0.359453    0.334992   -0.622418   -0.274    \n",
       " -0.53116   -0.451453    0.0495585   0.708475    0.0983147\n",
       " -0.22817   -0.0543589  -0.282816   -0.307714    0.877673 \n",
       " -0.498334   0.403714   -0.690143   -0.0216603  -0.334531 \n",
       " -0.348392   0.707844    0.573621    0.124506    0.181761 "
      ]
     },
     "metadata": {},
     "output_type": "display_data"
    }
   ],
   "source": [
    "using LinearAlgebra\n",
    "A = rand(5,5)\n",
    "U,s,V = svd(A)\n",
    "display(U)\n",
    "display(s)\n",
    "display(V)"
   ]
  },
  {
   "cell_type": "markdown",
   "metadata": {},
   "source": [
    "Circle the numbers in the above that would figure in the best rank 3 approximation of $A$."
   ]
  },
  {
   "cell_type": "code",
   "execution_count": null,
   "metadata": {},
   "outputs": [],
   "source": []
  },
  {
   "cell_type": "markdown",
   "metadata": {},
   "source": [
    "9). If you multiply through the block matrices $\\Sigma$ and $V^T$ that appear in the full SVD as below,  <br>\n",
    "$\\begin{pmatrix} \\Sigma_r & 0 \\\\ 0 & 0 \\end{pmatrix}\n",
    "\\begin{pmatrix} V_1^T \\\\ V_2^T \\end{pmatrix}$\n",
    "the\n",
    "answer is (pick your multiple choice which is the best answer and briefly explain): <br>\n",
    "a) $\\Sigma_r V_1^T $ <br>\n",
    "b)$\\ [\\Sigma_r V_1^T \\ \\ 0]$ <br>\n",
    "c) $\\begin{pmatrix}\\Sigma_r V_1^T  \\\\ 0 \\end{pmatrix}$ <br>\n",
    "d) $\\begin{pmatrix} \\Sigma_r  V_1^T & 0 \\\\ 0 & 0 \\end{pmatrix}$"
   ]
  },
  {
   "cell_type": "code",
   "execution_count": null,
   "metadata": {},
   "outputs": [],
   "source": []
  },
  {
   "cell_type": "markdown",
   "metadata": {},
   "source": [
    "10).  Suppose $v$ and $w$ are perpendicular in $R^n$.  What is $\\|v+w\\|^2$ in terms of $\\|v\\|^2$ and $\\|w\\|^2$?"
   ]
  },
  {
   "cell_type": "code",
   "execution_count": null,
   "metadata": {},
   "outputs": [],
   "source": []
  },
  {
   "cell_type": "markdown",
   "metadata": {},
   "source": [
    "11).  Set up a matrix least squares problem if we are interested in taking $n$ data points $(x_i,y_i)$ and we wish to find the best function $f(x)=c_1 e^x + c_2 e^{-x}$ through the data points."
   ]
  },
  {
   "cell_type": "code",
   "execution_count": null,
   "metadata": {},
   "outputs": [],
   "source": []
  },
  {
   "cell_type": "markdown",
   "metadata": {},
   "source": [
    "12) Suppose a square $A$ has an LU factorization $A=LU$ where $L$ and $U$ are invertible.  If $A=QR$, what is $r_{11}$ in terms of possibly elements of $L$ and $U$?"
   ]
  },
  {
   "cell_type": "code",
   "execution_count": null,
   "metadata": {},
   "outputs": [],
   "source": []
  }
 ],
 "metadata": {
  "kernelspec": {
   "display_name": "Julia 1.0.0",
   "language": "julia",
   "name": "julia-1.0"
  },
  "language_info": {
   "file_extension": ".jl",
   "mimetype": "application/julia",
   "name": "julia",
   "version": "1.0.0"
  }
 },
 "nbformat": 4,
 "nbformat_minor": 2
}
