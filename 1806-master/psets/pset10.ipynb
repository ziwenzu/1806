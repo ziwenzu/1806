{
 "cells": [
  {
   "cell_type": "markdown",
   "metadata": {},
   "source": [
    "18.06 Spring2019 pset 10 <br>\n",
    "due Friday 5/10 at 11:59pm "
   ]
  },
  {
   "cell_type": "markdown",
   "metadata": {},
   "source": [
    "Comment about Markov Matrix definition: Strang's book glosses over this issue, but on page 474 he says that a Markov matrix has positive elements and columns add to 1.  Many authors including this [wikipedia page](https://en.wikipedia.org/wiki/Stochastic_matrix) say that a Markov matrix is allowed 0's.  Also Strang focuses on left stochastic matrices, some authors use right stochastic matrices where rows add to 1.\n",
    "\n",
    "While this inconsistency is enough to drive anyone crazy, I will say positive Markov matrix when I wish to imply all entries are positive from now on.  Positive Markov matrices have one eigenvalue 1 and the rest have absolute value less than 1.  General Markov matrices can have more than one eigenvalue with absolute value 1."
   ]
  },
  {
   "cell_type": "markdown",
   "metadata": {},
   "source": [
    "(1) (GS prob 1, page 480) What is the steady state eigenvector of"
   ]
  },
  {
   "cell_type": "code",
   "execution_count": 2,
   "metadata": {},
   "outputs": [
    {
     "data": {
      "text/plain": [
       "2×2 Array{Float64,2}:\n",
       " 0.9  0.15\n",
       " 0.1  0.85"
      ]
     },
     "execution_count": 2,
     "metadata": {},
     "output_type": "execute_result"
    }
   ],
   "source": [
    "A = [.9 .15\n",
    "     .1 .85]"
   ]
  },
  {
   "cell_type": "markdown",
   "metadata": {},
   "source": [
    "This you should do by hand and can check if you like with Julia."
   ]
  },
  {
   "cell_type": "code",
   "execution_count": null,
   "metadata": {},
   "outputs": [],
   "source": [
    "using LinearAlgebra\n",
    "λ,X = eigen(A)\n",
    "X[:,1]/sum(X[:,1])"
   ]
  },
  {
   "cell_type": "markdown",
   "metadata": {},
   "source": [
    "(2) Show that the square of a positive Markov matrix is a positive Markov matrix.  Also show that the square of a general Markov matrix is also Markov.  (Hint: there is an easy way and a more difficult way.)"
   ]
  },
  {
   "cell_type": "markdown",
   "metadata": {},
   "source": [
    "(3) What can you say about the steady state of a symmetric positive Markov matrix?"
   ]
  },
  {
   "cell_type": "markdown",
   "metadata": {},
   "source": [
    "(4) Show that if $M$ is positive definite , so is $M^{-1}$."
   ]
  },
  {
   "cell_type": "markdown",
   "metadata": {},
   "source": [
    "(5a) We have mentioned that the image of the unit ball under A is an ellipsoid.  This means that the set of all y=Ax such that ||x||=1 is an ellipsoid.  Show that if A is square and invertible, the equation of this ellipsoid is\n",
    "$$y^T(AA^T)^{-1}y=1.$$"
   ]
  },
  {
   "cell_type": "markdown",
   "metadata": {},
   "source": [
    "(5b) Turning this around  if $M$ is positive definite, the equation $y^T M y=1$ is an ellipsoid. Show that it has  semi-axes equal to the sqrts of the reciprocals of the eigenvalues of $M$ and the directions are the eigenvectors.\n",
    "(Might be useful to see page 355 of GS)"
   ]
  },
  {
   "cell_type": "markdown",
   "metadata": {},
   "source": [
    "(This shows up in many areas including the axes of inertia in physics.  History has classified this as an eigen-fact,\n",
    "but you all know that this is really about the SVD of A, as the ellipsoid is most directly related to multiplying the unit sphere by $\\Sigma$)"
   ]
  },
  {
   "cell_type": "markdown",
   "metadata": {},
   "source": [
    "(6) For which values of $c$ is the matrix below positive definite? <br>\n",
    "\\begin{pmatrix} c & 1 & 1 \\\\ 1 & c & 1 \\\\ 1 & 1 & c \\end{pmatrix}"
   ]
  },
  {
   "cell_type": "markdown",
   "metadata": {},
   "source": [
    "If Interact happens to work you can try, if you like, playing with this in julia:"
   ]
  },
  {
   "cell_type": "code",
   "execution_count": 15,
   "metadata": {},
   "outputs": [],
   "source": [
    "using Interact, LinearAlgebra"
   ]
  },
  {
   "cell_type": "code",
   "execution_count": 14,
   "metadata": {},
   "outputs": [
    {
     "data": {
      "application/vnd.webio.node+json": {
       "children": [
        {
         "children": [
          {
           "children": [
            {
             "children": [
              {
               "children": [
                {
                 "children": [
                  "c"
                 ],
                 "instanceArgs": {
                  "namespace": "html",
                  "tag": "label"
                 },
                 "nodeType": "DOM",
                 "props": {
                  "className": "interact ",
                  "style": {
                   "padding": "5px 10px 0px 10px"
                  }
                 },
                 "type": "node"
                }
               ],
               "instanceArgs": {
                "namespace": "html",
                "tag": "div"
               },
               "nodeType": "DOM",
               "props": {
                "className": "interact-flex-row-left"
               },
               "type": "node"
              },
              {
               "children": [
                {
                 "children": [],
                 "instanceArgs": {
                  "namespace": "html",
                  "tag": "input"
                 },
                 "nodeType": "DOM",
                 "props": {
                  "attributes": {
                   "data-bind": "numericValue: index, valueUpdate: 'input', event: {change: function (){this.changes(this.changes()+1)}}",
                   "orient": "horizontal",
                   "type": "range"
                  },
                  "className": "slider slider is-fullwidth",
                  "max": 451,
                  "min": 1,
                  "step": 1,
                  "style": {}
                 },
                 "type": "node"
                }
               ],
               "instanceArgs": {
                "namespace": "html",
                "tag": "div"
               },
               "nodeType": "DOM",
               "props": {
                "className": "interact-flex-row-center"
               },
               "type": "node"
              },
              {
               "children": [
                {
                 "children": [],
                 "instanceArgs": {
                  "namespace": "html",
                  "tag": "p"
                 },
                 "nodeType": "DOM",
                 "props": {
                  "attributes": {
                   "data-bind": "text: formatted_val"
                  }
                 },
                 "type": "node"
                }
               ],
               "instanceArgs": {
                "namespace": "html",
                "tag": "div"
               },
               "nodeType": "DOM",
               "props": {
                "className": "interact-flex-row-right"
               },
               "type": "node"
              }
             ],
             "instanceArgs": {
              "namespace": "html",
              "tag": "div"
             },
             "nodeType": "DOM",
             "props": {
              "className": "interact-flex-row interact-widget"
             },
             "type": "node"
            }
           ],
           "instanceArgs": {
            "handlers": {
             "changes": [
              "(function (val){return (val!=this.model[\"changes\"]()) ? (this.valueFromJulia[\"changes\"]=true, this.model[\"changes\"](val)) : undefined})"
             ],
             "index": [
              "(function (val){return (val!=this.model[\"index\"]()) ? (this.valueFromJulia[\"index\"]=true, this.model[\"index\"](val)) : undefined})"
             ]
            },
            "id": "knockout-component-91d1ad8d-5531-46e8-998f-6c9ae1df7709",
            "imports": {
             "data": [
              {
               "name": "knockout",
               "type": "js",
               "url": "/assetserver/f07383ad7ba5d9e293900fdc7e5e611110d6ff32-knockout.js"
              },
              {
               "name": "knockout_punches",
               "type": "js",
               "url": "/assetserver/306cc87ce82e45c3e5eb81524cb970ae2bab3932-knockout_punches.js"
              },
              {
               "name": null,
               "type": "js",
               "url": "/assetserver/69078235d89420aa60ec07ae908cfcc65b6ecf85-all.js"
              },
              {
               "name": null,
               "type": "css",
               "url": "/assetserver/98bc206151bf33944d9780fd349511e9eae784a0-style.css"
              },
              {
               "name": null,
               "type": "css",
               "url": "/assetserver/13615fa9690b1c4388c3fe14db802e442333ebc4-bulma_confined.min.css"
              }
             ],
             "type": "async_block"
            },
            "mount_callbacks": [
             "function () {\n    var handler = (function (ko, koPunches) {\n    ko.punches.enableAll();\n    ko.bindingHandlers.numericValue = {\n        init : function(element, valueAccessor, allBindings, data, context) {\n            var stringified = ko.observable(ko.unwrap(valueAccessor()));\n            stringified.subscribe(function(value) {\n                var val = parseFloat(value);\n                if (!isNaN(val)) {\n                    valueAccessor()(val);\n                }\n            })\n            valueAccessor().subscribe(function(value) {\n                var str = JSON.stringify(value);\n                if ((str == \"0\") && ([\"-0\", \"-0.\"].indexOf(stringified()) >= 0))\n                     return;\n                 if ([\"null\", \"\"].indexOf(str) >= 0)\n                     return;\n                stringified(str);\n            })\n            ko.applyBindingsToNode(element, { value: stringified, valueUpdate: allBindings.get('valueUpdate')}, context);\n        }\n    };\n    var json_data = {\"formatted_vals\":[\"0.5\",\"0.51\",\"0.52\",\"0.53\",\"0.54\",\"0.55\",\"0.56\",\"0.57\",\"0.58\",\"0.59\",\"0.6\",\"0.61\",\"0.62\",\"0.63\",\"0.64\",\"0.65\",\"0.66\",\"0.67\",\"0.68\",\"0.69\",\"0.7\",\"0.71\",\"0.72\",\"0.73\",\"0.74\",\"0.75\",\"0.76\",\"0.77\",\"0.78\",\"0.79\",\"0.8\",\"0.81\",\"0.82\",\"0.83\",\"0.84\",\"0.85\",\"0.86\",\"0.87\",\"0.88\",\"0.89\",\"0.9\",\"0.91\",\"0.92\",\"0.93\",\"0.94\",\"0.95\",\"0.96\",\"0.97\",\"0.98\",\"0.99\",\"1.0\",\"1.01\",\"1.02\",\"1.03\",\"1.04\",\"1.05\",\"1.06\",\"1.07\",\"1.08\",\"1.09\",\"1.1\",\"1.11\",\"1.12\",\"1.13\",\"1.14\",\"1.15\",\"1.16\",\"1.17\",\"1.18\",\"1.19\",\"1.2\",\"1.21\",\"1.22\",\"1.23\",\"1.24\",\"1.25\",\"1.26\",\"1.27\",\"1.28\",\"1.29\",\"1.3\",\"1.31\",\"1.32\",\"1.33\",\"1.34\",\"1.35\",\"1.36\",\"1.37\",\"1.38\",\"1.39\",\"1.4\",\"1.41\",\"1.42\",\"1.43\",\"1.44\",\"1.45\",\"1.46\",\"1.47\",\"1.48\",\"1.49\",\"1.5\",\"1.51\",\"1.52\",\"1.53\",\"1.54\",\"1.55\",\"1.56\",\"1.57\",\"1.58\",\"1.59\",\"1.6\",\"1.61\",\"1.62\",\"1.63\",\"1.64\",\"1.65\",\"1.66\",\"1.67\",\"1.68\",\"1.69\",\"1.7\",\"1.71\",\"1.72\",\"1.73\",\"1.74\",\"1.75\",\"1.76\",\"1.77\",\"1.78\",\"1.79\",\"1.8\",\"1.81\",\"1.82\",\"1.83\",\"1.84\",\"1.85\",\"1.86\",\"1.87\",\"1.88\",\"1.89\",\"1.9\",\"1.91\",\"1.92\",\"1.93\",\"1.94\",\"1.95\",\"1.96\",\"1.97\",\"1.98\",\"1.99\",\"2.0\",\"2.01\",\"2.02\",\"2.03\",\"2.04\",\"2.05\",\"2.06\",\"2.07\",\"2.08\",\"2.09\",\"2.1\",\"2.11\",\"2.12\",\"2.13\",\"2.14\",\"2.15\",\"2.16\",\"2.17\",\"2.18\",\"2.19\",\"2.2\",\"2.21\",\"2.22\",\"2.23\",\"2.24\",\"2.25\",\"2.26\",\"2.27\",\"2.28\",\"2.29\",\"2.3\",\"2.31\",\"2.32\",\"2.33\",\"2.34\",\"2.35\",\"2.36\",\"2.37\",\"2.38\",\"2.39\",\"2.4\",\"2.41\",\"2.42\",\"2.43\",\"2.44\",\"2.45\",\"2.46\",\"2.47\",\"2.48\",\"2.49\",\"2.5\",\"2.51\",\"2.52\",\"2.53\",\"2.54\",\"2.55\",\"2.56\",\"2.57\",\"2.58\",\"2.59\",\"2.6\",\"2.61\",\"2.62\",\"2.63\",\"2.64\",\"2.65\",\"2.66\",\"2.67\",\"2.68\",\"2.69\",\"2.7\",\"2.71\",\"2.72\",\"2.73\",\"2.74\",\"2.75\",\"2.76\",\"2.77\",\"2.78\",\"2.79\",\"2.8\",\"2.81\",\"2.82\",\"2.83\",\"2.84\",\"2.85\",\"2.86\",\"2.87\",\"2.88\",\"2.89\",\"2.9\",\"2.91\",\"2.92\",\"2.93\",\"2.94\",\"2.95\",\"2.96\",\"2.97\",\"2.98\",\"2.99\",\"3.0\",\"3.01\",\"3.02\",\"3.03\",\"3.04\",\"3.05\",\"3.06\",\"3.07\",\"3.08\",\"3.09\",\"3.1\",\"3.11\",\"3.12\",\"3.13\",\"3.14\",\"3.15\",\"3.16\",\"3.17\",\"3.18\",\"3.19\",\"3.2\",\"3.21\",\"3.22\",\"3.23\",\"3.24\",\"3.25\",\"3.26\",\"3.27\",\"3.28\",\"3.29\",\"3.3\",\"3.31\",\"3.32\",\"3.33\",\"3.34\",\"3.35\",\"3.36\",\"3.37\",\"3.38\",\"3.39\",\"3.4\",\"3.41\",\"3.42\",\"3.43\",\"3.44\",\"3.45\",\"3.46\",\"3.47\",\"3.48\",\"3.49\",\"3.5\",\"3.51\",\"3.52\",\"3.53\",\"3.54\",\"3.55\",\"3.56\",\"3.57\",\"3.58\",\"3.59\",\"3.6\",\"3.61\",\"3.62\",\"3.63\",\"3.64\",\"3.65\",\"3.66\",\"3.67\",\"3.68\",\"3.69\",\"3.7\",\"3.71\",\"3.72\",\"3.73\",\"3.74\",\"3.75\",\"3.76\",\"3.77\",\"3.78\",\"3.79\",\"3.8\",\"3.81\",\"3.82\",\"3.83\",\"3.84\",\"3.85\",\"3.86\",\"3.87\",\"3.88\",\"3.89\",\"3.9\",\"3.91\",\"3.92\",\"3.93\",\"3.94\",\"3.95\",\"3.96\",\"3.97\",\"3.98\",\"3.99\",\"4.0\",\"4.01\",\"4.02\",\"4.03\",\"4.04\",\"4.05\",\"4.06\",\"4.07\",\"4.08\",\"4.09\",\"4.1\",\"4.11\",\"4.12\",\"4.13\",\"4.14\",\"4.15\",\"4.16\",\"4.17\",\"4.18\",\"4.19\",\"4.2\",\"4.21\",\"4.22\",\"4.23\",\"4.24\",\"4.25\",\"4.26\",\"4.27\",\"4.28\",\"4.29\",\"4.3\",\"4.31\",\"4.32\",\"4.33\",\"4.34\",\"4.35\",\"4.36\",\"4.37\",\"4.38\",\"4.39\",\"4.4\",\"4.41\",\"4.42\",\"4.43\",\"4.44\",\"4.45\",\"4.46\",\"4.47\",\"4.48\",\"4.49\",\"4.5\",\"4.51\",\"4.52\",\"4.53\",\"4.54\",\"4.55\",\"4.56\",\"4.57\",\"4.58\",\"4.59\",\"4.6\",\"4.61\",\"4.62\",\"4.63\",\"4.64\",\"4.65\",\"4.66\",\"4.67\",\"4.68\",\"4.69\",\"4.7\",\"4.71\",\"4.72\",\"4.73\",\"4.74\",\"4.75\",\"4.76\",\"4.77\",\"4.78\",\"4.79\",\"4.8\",\"4.81\",\"4.82\",\"4.83\",\"4.84\",\"4.85\",\"4.86\",\"4.87\",\"4.88\",\"4.89\",\"4.9\",\"4.91\",\"4.92\",\"4.93\",\"4.94\",\"4.95\",\"4.96\",\"4.97\",\"4.98\",\"4.99\",\"5.0\"],\"changes\":WebIO.getval({\"name\":\"changes\",\"scope\":\"knockout-component-91d1ad8d-5531-46e8-998f-6c9ae1df7709\",\"id\":\"ob_03\",\"type\":\"observable\"}),\"index\":WebIO.getval({\"name\":\"index\",\"scope\":\"knockout-component-91d1ad8d-5531-46e8-998f-6c9ae1df7709\",\"id\":\"ob_02\",\"type\":\"observable\"})};\n    var self = this;\n    function AppViewModel() {\n        for (var key in json_data) {\n            var el = json_data[key];\n            this[key] = Array.isArray(el) ? ko.observableArray(el) : ko.observable(el);\n        }\n        \n        [this[\"formatted_val\"]=ko.computed(    function(){\n        return this.formatted_vals()[parseInt(this.index())-1];\n    }\n,this)]\n        [this[\"changes\"].subscribe((function (val){!(this.valueFromJulia[\"changes\"]) ? (WebIO.setval({\"name\":\"changes\",\"scope\":\"knockout-component-91d1ad8d-5531-46e8-998f-6c9ae1df7709\",\"id\":\"ob_03\",\"type\":\"observable\"},val)) : undefined; return this.valueFromJulia[\"changes\"]=false}),self),this[\"index\"].subscribe((function (val){!(this.valueFromJulia[\"index\"]) ? (WebIO.setval({\"name\":\"index\",\"scope\":\"knockout-component-91d1ad8d-5531-46e8-998f-6c9ae1df7709\",\"id\":\"ob_02\",\"type\":\"observable\"},val)) : undefined; return this.valueFromJulia[\"index\"]=false}),self)]\n        \n    }\n    self.model = new AppViewModel();\n    self.valueFromJulia = {};\n    for (var key in json_data) {\n        self.valueFromJulia[key] = false;\n    }\n    ko.applyBindings(self.model, self.dom);\n}\n);\n    (WebIO.importBlock({\"data\":[{\"name\":\"knockout\",\"type\":\"js\",\"url\":\"/assetserver/f07383ad7ba5d9e293900fdc7e5e611110d6ff32-knockout.js\"},{\"name\":\"knockout_punches\",\"type\":\"js\",\"url\":\"/assetserver/306cc87ce82e45c3e5eb81524cb970ae2bab3932-knockout_punches.js\"}],\"type\":\"async_block\"})).then((imports) => handler.apply(this, imports));\n}\n"
            ],
            "observables": {
             "changes": {
              "id": "ob_03",
              "sync": false,
              "value": 0
             },
             "index": {
              "id": "ob_02",
              "sync": true,
              "value": 226
             }
            },
            "systemjs_options": null
           },
           "nodeType": "Scope",
           "props": {},
           "type": "node"
          }
         ],
         "instanceArgs": {
          "namespace": "html",
          "tag": "div"
         },
         "nodeType": "DOM",
         "props": {
          "className": "field interact-widget"
         },
         "type": "node"
        },
        {
         "children": [
          {
           "children": [],
           "instanceArgs": {
            "id": "ob_09",
            "name": "obs-node"
           },
           "nodeType": "ObservableNode",
           "props": {},
           "type": "node"
          }
         ],
         "instanceArgs": {
          "handlers": {},
          "id": "scope-2834bdda-a4ea-4e26-a0ed-1abc157f5bfe",
          "imports": {
           "data": [],
           "type": "async_block"
          },
          "mount_callbacks": [],
          "observables": {
           "obs-node": {
            "id": "ob_09",
            "sync": false,
            "value": {
             "children": [
              {
               "children": [],
               "instanceArgs": {
                "namespace": "html",
                "tag": "div"
               },
               "nodeType": "DOM",
               "props": {
                "setInnerHtml": "<pre>3-element Array{Float64,1}:\n 1.75\n 1.75\n 4.75</pre>"
               },
               "type": "node"
              }
             ],
             "instanceArgs": {
              "namespace": "html",
              "tag": "div"
             },
             "nodeType": "DOM",
             "props": {
              "className": "interact-flex-row interact-widget"
             },
             "type": "node"
            }
           }
          },
          "systemjs_options": null
         },
         "nodeType": "Scope",
         "props": {},
         "type": "node"
        }
       ],
       "instanceArgs": {
        "namespace": "html",
        "tag": "div"
       },
       "nodeType": "DOM",
       "props": {},
       "type": "node"
      },
      "text/html": [
       "<div\n",
       "    class=\"webio-mountpoint\"\n",
       "    data-webio-mountpoint=\"12307611682434963176\"\n",
       ">\n",
       "    <script>\n",
       "    if (window.require && require.defined && require.defined(\"nbextensions/webio/main\")) {\n",
       "        console.log(\"Jupyter WebIO extension detected, not mounting.\");\n",
       "    } else if (window.WebIO) {\n",
       "        WebIO.mount(\n",
       "            document.querySelector('[data-webio-mountpoint=\"12307611682434963176\"]'),\n",
       "            {\"props\":{},\"nodeType\":\"DOM\",\"type\":\"node\",\"instanceArgs\":{\"namespace\":\"html\",\"tag\":\"div\"},\"children\":[{\"props\":{\"className\":\"field interact-widget\"},\"nodeType\":\"DOM\",\"type\":\"node\",\"instanceArgs\":{\"namespace\":\"html\",\"tag\":\"div\"},\"children\":[{\"props\":{},\"nodeType\":\"Scope\",\"type\":\"node\",\"instanceArgs\":{\"imports\":{\"data\":[{\"name\":\"knockout\",\"type\":\"js\",\"url\":\"\\/assetserver\\/f07383ad7ba5d9e293900fdc7e5e611110d6ff32-knockout.js\"},{\"name\":\"knockout_punches\",\"type\":\"js\",\"url\":\"\\/assetserver\\/306cc87ce82e45c3e5eb81524cb970ae2bab3932-knockout_punches.js\"},{\"name\":null,\"type\":\"js\",\"url\":\"\\/assetserver\\/69078235d89420aa60ec07ae908cfcc65b6ecf85-all.js\"},{\"name\":null,\"type\":\"css\",\"url\":\"\\/assetserver\\/98bc206151bf33944d9780fd349511e9eae784a0-style.css\"},{\"name\":null,\"type\":\"css\",\"url\":\"\\/assetserver\\/13615fa9690b1c4388c3fe14db802e442333ebc4-bulma_confined.min.css\"}],\"type\":\"async_block\"},\"id\":\"knockout-component-91d1ad8d-5531-46e8-998f-6c9ae1df7709\",\"handlers\":{\"changes\":[\"(function (val){return (val!=this.model[\\\"changes\\\"]()) ? (this.valueFromJulia[\\\"changes\\\"]=true, this.model[\\\"changes\\\"](val)) : undefined})\"],\"index\":[\"(function (val){return (val!=this.model[\\\"index\\\"]()) ? (this.valueFromJulia[\\\"index\\\"]=true, this.model[\\\"index\\\"](val)) : undefined})\"]},\"systemjs_options\":null,\"mount_callbacks\":[\"function () {\\n    var handler = (function (ko, koPunches) {\\n    ko.punches.enableAll();\\n    ko.bindingHandlers.numericValue = {\\n        init : function(element, valueAccessor, allBindings, data, context) {\\n            var stringified = ko.observable(ko.unwrap(valueAccessor()));\\n            stringified.subscribe(function(value) {\\n                var val = parseFloat(value);\\n                if (!isNaN(val)) {\\n                    valueAccessor()(val);\\n                }\\n            })\\n            valueAccessor().subscribe(function(value) {\\n                var str = JSON.stringify(value);\\n                if ((str == \\\"0\\\") && ([\\\"-0\\\", \\\"-0.\\\"].indexOf(stringified()) >= 0))\\n                     return;\\n                 if ([\\\"null\\\", \\\"\\\"].indexOf(str) >= 0)\\n                     return;\\n                stringified(str);\\n            })\\n            ko.applyBindingsToNode(element, { value: stringified, valueUpdate: allBindings.get('valueUpdate')}, context);\\n        }\\n    };\\n    var json_data = {\\\"formatted_vals\\\":[\\\"0.5\\\",\\\"0.51\\\",\\\"0.52\\\",\\\"0.53\\\",\\\"0.54\\\",\\\"0.55\\\",\\\"0.56\\\",\\\"0.57\\\",\\\"0.58\\\",\\\"0.59\\\",\\\"0.6\\\",\\\"0.61\\\",\\\"0.62\\\",\\\"0.63\\\",\\\"0.64\\\",\\\"0.65\\\",\\\"0.66\\\",\\\"0.67\\\",\\\"0.68\\\",\\\"0.69\\\",\\\"0.7\\\",\\\"0.71\\\",\\\"0.72\\\",\\\"0.73\\\",\\\"0.74\\\",\\\"0.75\\\",\\\"0.76\\\",\\\"0.77\\\",\\\"0.78\\\",\\\"0.79\\\",\\\"0.8\\\",\\\"0.81\\\",\\\"0.82\\\",\\\"0.83\\\",\\\"0.84\\\",\\\"0.85\\\",\\\"0.86\\\",\\\"0.87\\\",\\\"0.88\\\",\\\"0.89\\\",\\\"0.9\\\",\\\"0.91\\\",\\\"0.92\\\",\\\"0.93\\\",\\\"0.94\\\",\\\"0.95\\\",\\\"0.96\\\",\\\"0.97\\\",\\\"0.98\\\",\\\"0.99\\\",\\\"1.0\\\",\\\"1.01\\\",\\\"1.02\\\",\\\"1.03\\\",\\\"1.04\\\",\\\"1.05\\\",\\\"1.06\\\",\\\"1.07\\\",\\\"1.08\\\",\\\"1.09\\\",\\\"1.1\\\",\\\"1.11\\\",\\\"1.12\\\",\\\"1.13\\\",\\\"1.14\\\",\\\"1.15\\\",\\\"1.16\\\",\\\"1.17\\\",\\\"1.18\\\",\\\"1.19\\\",\\\"1.2\\\",\\\"1.21\\\",\\\"1.22\\\",\\\"1.23\\\",\\\"1.24\\\",\\\"1.25\\\",\\\"1.26\\\",\\\"1.27\\\",\\\"1.28\\\",\\\"1.29\\\",\\\"1.3\\\",\\\"1.31\\\",\\\"1.32\\\",\\\"1.33\\\",\\\"1.34\\\",\\\"1.35\\\",\\\"1.36\\\",\\\"1.37\\\",\\\"1.38\\\",\\\"1.39\\\",\\\"1.4\\\",\\\"1.41\\\",\\\"1.42\\\",\\\"1.43\\\",\\\"1.44\\\",\\\"1.45\\\",\\\"1.46\\\",\\\"1.47\\\",\\\"1.48\\\",\\\"1.49\\\",\\\"1.5\\\",\\\"1.51\\\",\\\"1.52\\\",\\\"1.53\\\",\\\"1.54\\\",\\\"1.55\\\",\\\"1.56\\\",\\\"1.57\\\",\\\"1.58\\\",\\\"1.59\\\",\\\"1.6\\\",\\\"1.61\\\",\\\"1.62\\\",\\\"1.63\\\",\\\"1.64\\\",\\\"1.65\\\",\\\"1.66\\\",\\\"1.67\\\",\\\"1.68\\\",\\\"1.69\\\",\\\"1.7\\\",\\\"1.71\\\",\\\"1.72\\\",\\\"1.73\\\",\\\"1.74\\\",\\\"1.75\\\",\\\"1.76\\\",\\\"1.77\\\",\\\"1.78\\\",\\\"1.79\\\",\\\"1.8\\\",\\\"1.81\\\",\\\"1.82\\\",\\\"1.83\\\",\\\"1.84\\\",\\\"1.85\\\",\\\"1.86\\\",\\\"1.87\\\",\\\"1.88\\\",\\\"1.89\\\",\\\"1.9\\\",\\\"1.91\\\",\\\"1.92\\\",\\\"1.93\\\",\\\"1.94\\\",\\\"1.95\\\",\\\"1.96\\\",\\\"1.97\\\",\\\"1.98\\\",\\\"1.99\\\",\\\"2.0\\\",\\\"2.01\\\",\\\"2.02\\\",\\\"2.03\\\",\\\"2.04\\\",\\\"2.05\\\",\\\"2.06\\\",\\\"2.07\\\",\\\"2.08\\\",\\\"2.09\\\",\\\"2.1\\\",\\\"2.11\\\",\\\"2.12\\\",\\\"2.13\\\",\\\"2.14\\\",\\\"2.15\\\",\\\"2.16\\\",\\\"2.17\\\",\\\"2.18\\\",\\\"2.19\\\",\\\"2.2\\\",\\\"2.21\\\",\\\"2.22\\\",\\\"2.23\\\",\\\"2.24\\\",\\\"2.25\\\",\\\"2.26\\\",\\\"2.27\\\",\\\"2.28\\\",\\\"2.29\\\",\\\"2.3\\\",\\\"2.31\\\",\\\"2.32\\\",\\\"2.33\\\",\\\"2.34\\\",\\\"2.35\\\",\\\"2.36\\\",\\\"2.37\\\",\\\"2.38\\\",\\\"2.39\\\",\\\"2.4\\\",\\\"2.41\\\",\\\"2.42\\\",\\\"2.43\\\",\\\"2.44\\\",\\\"2.45\\\",\\\"2.46\\\",\\\"2.47\\\",\\\"2.48\\\",\\\"2.49\\\",\\\"2.5\\\",\\\"2.51\\\",\\\"2.52\\\",\\\"2.53\\\",\\\"2.54\\\",\\\"2.55\\\",\\\"2.56\\\",\\\"2.57\\\",\\\"2.58\\\",\\\"2.59\\\",\\\"2.6\\\",\\\"2.61\\\",\\\"2.62\\\",\\\"2.63\\\",\\\"2.64\\\",\\\"2.65\\\",\\\"2.66\\\",\\\"2.67\\\",\\\"2.68\\\",\\\"2.69\\\",\\\"2.7\\\",\\\"2.71\\\",\\\"2.72\\\",\\\"2.73\\\",\\\"2.74\\\",\\\"2.75\\\",\\\"2.76\\\",\\\"2.77\\\",\\\"2.78\\\",\\\"2.79\\\",\\\"2.8\\\",\\\"2.81\\\",\\\"2.82\\\",\\\"2.83\\\",\\\"2.84\\\",\\\"2.85\\\",\\\"2.86\\\",\\\"2.87\\\",\\\"2.88\\\",\\\"2.89\\\",\\\"2.9\\\",\\\"2.91\\\",\\\"2.92\\\",\\\"2.93\\\",\\\"2.94\\\",\\\"2.95\\\",\\\"2.96\\\",\\\"2.97\\\",\\\"2.98\\\",\\\"2.99\\\",\\\"3.0\\\",\\\"3.01\\\",\\\"3.02\\\",\\\"3.03\\\",\\\"3.04\\\",\\\"3.05\\\",\\\"3.06\\\",\\\"3.07\\\",\\\"3.08\\\",\\\"3.09\\\",\\\"3.1\\\",\\\"3.11\\\",\\\"3.12\\\",\\\"3.13\\\",\\\"3.14\\\",\\\"3.15\\\",\\\"3.16\\\",\\\"3.17\\\",\\\"3.18\\\",\\\"3.19\\\",\\\"3.2\\\",\\\"3.21\\\",\\\"3.22\\\",\\\"3.23\\\",\\\"3.24\\\",\\\"3.25\\\",\\\"3.26\\\",\\\"3.27\\\",\\\"3.28\\\",\\\"3.29\\\",\\\"3.3\\\",\\\"3.31\\\",\\\"3.32\\\",\\\"3.33\\\",\\\"3.34\\\",\\\"3.35\\\",\\\"3.36\\\",\\\"3.37\\\",\\\"3.38\\\",\\\"3.39\\\",\\\"3.4\\\",\\\"3.41\\\",\\\"3.42\\\",\\\"3.43\\\",\\\"3.44\\\",\\\"3.45\\\",\\\"3.46\\\",\\\"3.47\\\",\\\"3.48\\\",\\\"3.49\\\",\\\"3.5\\\",\\\"3.51\\\",\\\"3.52\\\",\\\"3.53\\\",\\\"3.54\\\",\\\"3.55\\\",\\\"3.56\\\",\\\"3.57\\\",\\\"3.58\\\",\\\"3.59\\\",\\\"3.6\\\",\\\"3.61\\\",\\\"3.62\\\",\\\"3.63\\\",\\\"3.64\\\",\\\"3.65\\\",\\\"3.66\\\",\\\"3.67\\\",\\\"3.68\\\",\\\"3.69\\\",\\\"3.7\\\",\\\"3.71\\\",\\\"3.72\\\",\\\"3.73\\\",\\\"3.74\\\",\\\"3.75\\\",\\\"3.76\\\",\\\"3.77\\\",\\\"3.78\\\",\\\"3.79\\\",\\\"3.8\\\",\\\"3.81\\\",\\\"3.82\\\",\\\"3.83\\\",\\\"3.84\\\",\\\"3.85\\\",\\\"3.86\\\",\\\"3.87\\\",\\\"3.88\\\",\\\"3.89\\\",\\\"3.9\\\",\\\"3.91\\\",\\\"3.92\\\",\\\"3.93\\\",\\\"3.94\\\",\\\"3.95\\\",\\\"3.96\\\",\\\"3.97\\\",\\\"3.98\\\",\\\"3.99\\\",\\\"4.0\\\",\\\"4.01\\\",\\\"4.02\\\",\\\"4.03\\\",\\\"4.04\\\",\\\"4.05\\\",\\\"4.06\\\",\\\"4.07\\\",\\\"4.08\\\",\\\"4.09\\\",\\\"4.1\\\",\\\"4.11\\\",\\\"4.12\\\",\\\"4.13\\\",\\\"4.14\\\",\\\"4.15\\\",\\\"4.16\\\",\\\"4.17\\\",\\\"4.18\\\",\\\"4.19\\\",\\\"4.2\\\",\\\"4.21\\\",\\\"4.22\\\",\\\"4.23\\\",\\\"4.24\\\",\\\"4.25\\\",\\\"4.26\\\",\\\"4.27\\\",\\\"4.28\\\",\\\"4.29\\\",\\\"4.3\\\",\\\"4.31\\\",\\\"4.32\\\",\\\"4.33\\\",\\\"4.34\\\",\\\"4.35\\\",\\\"4.36\\\",\\\"4.37\\\",\\\"4.38\\\",\\\"4.39\\\",\\\"4.4\\\",\\\"4.41\\\",\\\"4.42\\\",\\\"4.43\\\",\\\"4.44\\\",\\\"4.45\\\",\\\"4.46\\\",\\\"4.47\\\",\\\"4.48\\\",\\\"4.49\\\",\\\"4.5\\\",\\\"4.51\\\",\\\"4.52\\\",\\\"4.53\\\",\\\"4.54\\\",\\\"4.55\\\",\\\"4.56\\\",\\\"4.57\\\",\\\"4.58\\\",\\\"4.59\\\",\\\"4.6\\\",\\\"4.61\\\",\\\"4.62\\\",\\\"4.63\\\",\\\"4.64\\\",\\\"4.65\\\",\\\"4.66\\\",\\\"4.67\\\",\\\"4.68\\\",\\\"4.69\\\",\\\"4.7\\\",\\\"4.71\\\",\\\"4.72\\\",\\\"4.73\\\",\\\"4.74\\\",\\\"4.75\\\",\\\"4.76\\\",\\\"4.77\\\",\\\"4.78\\\",\\\"4.79\\\",\\\"4.8\\\",\\\"4.81\\\",\\\"4.82\\\",\\\"4.83\\\",\\\"4.84\\\",\\\"4.85\\\",\\\"4.86\\\",\\\"4.87\\\",\\\"4.88\\\",\\\"4.89\\\",\\\"4.9\\\",\\\"4.91\\\",\\\"4.92\\\",\\\"4.93\\\",\\\"4.94\\\",\\\"4.95\\\",\\\"4.96\\\",\\\"4.97\\\",\\\"4.98\\\",\\\"4.99\\\",\\\"5.0\\\"],\\\"changes\\\":WebIO.getval({\\\"name\\\":\\\"changes\\\",\\\"scope\\\":\\\"knockout-component-91d1ad8d-5531-46e8-998f-6c9ae1df7709\\\",\\\"id\\\":\\\"ob_03\\\",\\\"type\\\":\\\"observable\\\"}),\\\"index\\\":WebIO.getval({\\\"name\\\":\\\"index\\\",\\\"scope\\\":\\\"knockout-component-91d1ad8d-5531-46e8-998f-6c9ae1df7709\\\",\\\"id\\\":\\\"ob_02\\\",\\\"type\\\":\\\"observable\\\"})};\\n    var self = this;\\n    function AppViewModel() {\\n        for (var key in json_data) {\\n            var el = json_data[key];\\n            this[key] = Array.isArray(el) ? ko.observableArray(el) : ko.observable(el);\\n        }\\n        \\n        [this[\\\"formatted_val\\\"]=ko.computed(    function(){\\n        return this.formatted_vals()[parseInt(this.index())-1];\\n    }\\n,this)]\\n        [this[\\\"changes\\\"].subscribe((function (val){!(this.valueFromJulia[\\\"changes\\\"]) ? (WebIO.setval({\\\"name\\\":\\\"changes\\\",\\\"scope\\\":\\\"knockout-component-91d1ad8d-5531-46e8-998f-6c9ae1df7709\\\",\\\"id\\\":\\\"ob_03\\\",\\\"type\\\":\\\"observable\\\"},val)) : undefined; return this.valueFromJulia[\\\"changes\\\"]=false}),self),this[\\\"index\\\"].subscribe((function (val){!(this.valueFromJulia[\\\"index\\\"]) ? (WebIO.setval({\\\"name\\\":\\\"index\\\",\\\"scope\\\":\\\"knockout-component-91d1ad8d-5531-46e8-998f-6c9ae1df7709\\\",\\\"id\\\":\\\"ob_02\\\",\\\"type\\\":\\\"observable\\\"},val)) : undefined; return this.valueFromJulia[\\\"index\\\"]=false}),self)]\\n        \\n    }\\n    self.model = new AppViewModel();\\n    self.valueFromJulia = {};\\n    for (var key in json_data) {\\n        self.valueFromJulia[key] = false;\\n    }\\n    ko.applyBindings(self.model, self.dom);\\n}\\n);\\n    (WebIO.importBlock({\\\"data\\\":[{\\\"name\\\":\\\"knockout\\\",\\\"type\\\":\\\"js\\\",\\\"url\\\":\\\"\\/assetserver\\/f07383ad7ba5d9e293900fdc7e5e611110d6ff32-knockout.js\\\"},{\\\"name\\\":\\\"knockout_punches\\\",\\\"type\\\":\\\"js\\\",\\\"url\\\":\\\"\\/assetserver\\/306cc87ce82e45c3e5eb81524cb970ae2bab3932-knockout_punches.js\\\"}],\\\"type\\\":\\\"async_block\\\"})).then((imports) => handler.apply(this, imports));\\n}\\n\"],\"observables\":{\"changes\":{\"sync\":false,\"id\":\"ob_03\",\"value\":0},\"index\":{\"sync\":true,\"id\":\"ob_02\",\"value\":226}}},\"children\":[{\"props\":{\"className\":\"interact-flex-row interact-widget\"},\"nodeType\":\"DOM\",\"type\":\"node\",\"instanceArgs\":{\"namespace\":\"html\",\"tag\":\"div\"},\"children\":[{\"props\":{\"className\":\"interact-flex-row-left\"},\"nodeType\":\"DOM\",\"type\":\"node\",\"instanceArgs\":{\"namespace\":\"html\",\"tag\":\"div\"},\"children\":[{\"props\":{\"className\":\"interact \",\"style\":{\"padding\":\"5px 10px 0px 10px\"}},\"nodeType\":\"DOM\",\"type\":\"node\",\"instanceArgs\":{\"namespace\":\"html\",\"tag\":\"label\"},\"children\":[\"c\"]}]},{\"props\":{\"className\":\"interact-flex-row-center\"},\"nodeType\":\"DOM\",\"type\":\"node\",\"instanceArgs\":{\"namespace\":\"html\",\"tag\":\"div\"},\"children\":[{\"props\":{\"max\":451,\"min\":1,\"attributes\":{\"type\":\"range\",\"data-bind\":\"numericValue: index, valueUpdate: 'input', event: {change: function (){this.changes(this.changes()+1)}}\",\"orient\":\"horizontal\"},\"step\":1,\"className\":\"slider slider is-fullwidth\",\"style\":{}},\"nodeType\":\"DOM\",\"type\":\"node\",\"instanceArgs\":{\"namespace\":\"html\",\"tag\":\"input\"},\"children\":[]}]},{\"props\":{\"className\":\"interact-flex-row-right\"},\"nodeType\":\"DOM\",\"type\":\"node\",\"instanceArgs\":{\"namespace\":\"html\",\"tag\":\"div\"},\"children\":[{\"props\":{\"attributes\":{\"data-bind\":\"text: formatted_val\"}},\"nodeType\":\"DOM\",\"type\":\"node\",\"instanceArgs\":{\"namespace\":\"html\",\"tag\":\"p\"},\"children\":[]}]}]}]}]},{\"props\":{},\"nodeType\":\"Scope\",\"type\":\"node\",\"instanceArgs\":{\"imports\":{\"data\":[],\"type\":\"async_block\"},\"id\":\"scope-586ae763-eeb2-4504-a5f5-6de9119f626e\",\"handlers\":{},\"systemjs_options\":null,\"mount_callbacks\":[],\"observables\":{\"obs-node\":{\"sync\":false,\"id\":\"ob_07\",\"value\":{\"props\":{\"className\":\"interact-flex-row interact-widget\"},\"nodeType\":\"DOM\",\"type\":\"node\",\"instanceArgs\":{\"namespace\":\"html\",\"tag\":\"div\"},\"children\":[{\"props\":{\"setInnerHtml\":\"<pre>3-element Array{Float64,1}:\\n 1.75\\n 1.75\\n 4.75<\\/pre>\"},\"nodeType\":\"DOM\",\"type\":\"node\",\"instanceArgs\":{\"namespace\":\"html\",\"tag\":\"div\"},\"children\":[]}]}}}},\"children\":[{\"props\":{},\"nodeType\":\"ObservableNode\",\"type\":\"node\",\"instanceArgs\":{\"id\":\"ob_07\",\"name\":\"obs-node\"},\"children\":[]}]}]},\n",
       "            window,\n",
       "        );\n",
       "    } else {\n",
       "        document\n",
       "            .querySelector('[data-webio-mountpoint=\"12307611682434963176\"]')\n",
       "            .innerHTML = '<strong>WebIO not detected.</strong>';\n",
       "    }\n",
       "    </script>\n",
       "</div>\n"
      ],
      "text/plain": [
       "Node{WebIO.DOM}(WebIO.DOM(:html, :div), Any[Node{DOM}(DOM(:html, :div), Any[Scope(\"knockout-component-91d1ad8d-5531-46e8-998f-6c9ae1df7709\", Node{DOM}(DOM(:html, :div), Any[Node{DOM}(DOM(:html, :div), Any[Node{DOM}(DOM(:html, :label), Any[\"c\"], Dict{Symbol,Any}(:className=>\"interact \",:style=>Dict{Any,Any}(:padding=>\"5px 10px 0px 10px\")), 1)], Dict{Symbol,Any}(:className=>\"interact-flex-row-left\"), 2), Node{DOM}(DOM(:html, :div), Any[Node{DOM}(DOM(:html, :input), Any[], Dict{Symbol,Any}(:max=>451,:min=>1,:attributes=>Dict{Any,Any}(:type=>\"range\",Symbol(\"data-bind\")=>\"numericValue: index, valueUpdate: 'input', event: {change: function (){this.changes(this.changes()+1)}}\",\"orient\"=>\"horizontal\"),:step=>1,:className=>\"slider slider is-fullwidth\",:style=>Dict{Any,Any}()), 0)], Dict{Symbol,Any}(:className=>\"interact-flex-row-center\"), 1), Node{DOM}(DOM(:html, :div), Any[Node{DOM}(DOM(:html, :p), Any[], Dict{Symbol,Any}(:attributes=>Dict(\"data-bind\"=>\"text: formatted_val\")), 0)], Dict{Symbol,Any}(:className=>\"interact-flex-row-right\"), 1)], Dict{Symbol,Any}(:className=>\"interact-flex-row interact-widget\"), 7), Dict{String,Tuple{Observables.AbstractObservable,Union{Nothing, Bool}}}(\"changes\"=>(Observable{Int64} with 1 listeners. Value:\n",
       "0, nothing),\"index\"=>(Observable{Any} with 2 listeners. Value:\n",
       "226, nothing)), Set(String[]), nothing, Asset[Asset(\"js\", \"knockout\", \"/Users/edelman/.julia/packages/Knockout/JE2Yq/src/../assets/knockout.js\"), Asset(\"js\", \"knockout_punches\", \"/Users/edelman/.julia/packages/Knockout/JE2Yq/src/../assets/knockout_punches.js\"), Asset(\"js\", nothing, \"/Users/edelman/.julia/packages/InteractBase/R8JgH/src/../assets/all.js\"), Asset(\"css\", nothing, \"/Users/edelman/.julia/packages/InteractBase/R8JgH/src/../assets/style.css\"), Asset(\"css\", nothing, \"/Users/edelman/.julia/packages/Interact/0klKX/src/../assets/bulma_confined.min.css\")], Dict{Any,Any}(\"changes\"=>Any[JSString(\"(function (val){return (val!=this.model[\\\"changes\\\"]()) ? (this.valueFromJulia[\\\"changes\\\"]=true, this.model[\\\"changes\\\"](val)) : undefined})\")],\"index\"=>Any[JSString(\"(function (val){return (val!=this.model[\\\"index\\\"]()) ? (this.valueFromJulia[\\\"index\\\"]=true, this.model[\\\"index\\\"](val)) : undefined})\")]), ConnectionPool(Channel{Any}(sz_max:9223372036854775807,sz_curr:0), Set(AbstractConnection[]), Channel{AbstractConnection}(sz_max:32,sz_curr:0)), WebIO.JSString[JSString(\"function () {\\n    var handler = (function (ko, koPunches) {\\n    ko.punches.enableAll();\\n    ko.bindingHandlers.numericValue = {\\n        init : function(element, valueAccessor, allBindings, data, context) {\\n            var stringified = ko.observable(ko.unwrap(valueAccessor()));\\n            stringified.subscribe(function(value) {\\n                var val = parseFloat(value);\\n                if (!isNaN(val)) {\\n                    valueAccessor()(val);\\n                }\\n            })\\n            valueAccessor().subscribe(function(value) {\\n                var str = JSON.stringify(value);\\n                if ((str == \\\"0\\\") && ([\\\"-0\\\", \\\"-0.\\\"].indexOf(stringified()) >= 0))\\n                     return;\\n                 if ([\\\"null\\\", \\\"\\\"].indexOf(str) >= 0)\\n                     return;\\n                stringified(str);\\n            })\\n            ko.applyBindingsToNode(element, { value: stringified, valueUpdate: allBindings.get('valueUpdate')}, context);\\n        }\\n    };\\n    var json_data = {\\\"formatted_vals\\\":[\\\"0.5\\\",\\\"0.51\\\",\\\"0.52\\\",\\\"0.53\\\",\\\"0.54\\\",\\\"0.55\\\",\\\"0.56\\\",\\\"0.57\\\",\\\"0.58\\\",\\\"0.59\\\",\\\"0.6\\\",\\\"0.61\\\",\\\"0.62\\\",\\\"0.63\\\",\\\"0.64\\\",\\\"0.65\\\",\\\"0.66\\\",\\\"0.67\\\",\\\"0.68\\\",\\\"0.69\\\",\\\"0.7\\\",\\\"0.71\\\",\\\"0.72\\\",\\\"0.73\\\",\\\"0.74\\\",\\\"0.75\\\",\\\"0.76\\\",\\\"0.77\\\",\\\"0.78\\\",\\\"0.79\\\",\\\"0.8\\\",\\\"0.81\\\",\\\"0.82\\\",\\\"0.83\\\",\\\"0.84\\\",\\\"0.85\\\",\\\"0.86\\\",\\\"0.87\\\",\\\"0.88\\\",\\\"0.89\\\",\\\"0.9\\\",\\\"0.91\\\",\\\"0.92\\\",\\\"0.93\\\",\\\"0.94\\\",\\\"0.95\\\",\\\"0.96\\\",\\\"0.97\\\",\\\"0.98\\\",\\\"0.99\\\",\\\"1.0\\\",\\\"1.01\\\",\\\"1.02\\\",\\\"1.03\\\",\\\"1.04\\\",\\\"1.05\\\",\\\"1.06\\\",\\\"1.07\\\",\\\"1.08\\\",\\\"1.09\\\",\\\"1.1\\\",\\\"1.11\\\",\\\"1.12\\\",\\\"1.13\\\",\\\"1.14\\\",\\\"1.15\\\",\\\"1.16\\\",\\\"1.17\\\",\\\"1.18\\\",\\\"1.19\\\",\\\"1.2\\\",\\\"1.21\\\",\\\"1.22\\\",\\\"1.23\\\",\\\"1.24\\\",\\\"1.25\\\",\\\"1.26\\\",\\\"1.27\\\",\\\"1.28\\\",\\\"1.29\\\",\\\"1.3\\\",\\\"1.31\\\",\\\"1.32\\\",\\\"1.33\\\",\\\"1.34\\\",\\\"1.35\\\",\\\"1.36\\\",\\\"1.37\\\",\\\"1.38\\\",\\\"1.39\\\",\\\"1.4\\\",\\\"1.41\\\",\\\"1.42\\\",\\\"1.43\\\",\\\"1.44\\\",\\\"1.45\\\",\\\"1.46\\\",\\\"1.47\\\",\\\"1.48\\\",\\\"1.49\\\",\\\"1.5\\\",\\\"1.51\\\",\\\"1.52\\\",\\\"1.53\\\",\\\"1.54\\\",\\\"1.55\\\",\\\"1.56\\\",\\\"1.57\\\",\\\"1.58\\\",\\\"1.59\\\",\\\"1.6\\\",\\\"1.61\\\",\\\"1.62\\\",\\\"1.63\\\",\\\"1.64\\\",\\\"1.65\\\",\\\"1.66\\\",\\\"1.67\\\",\\\"1.68\\\",\\\"1.69\\\",\\\"1.7\\\",\\\"1.71\\\",\\\"1.72\\\",\\\"1.73\\\",\\\"1.74\\\",\\\"1.75\\\",\\\"1.76\\\",\\\"1.77\\\",\\\"1.78\\\",\\\"1.79\\\",\\\"1.8\\\",\\\"1.81\\\",\\\"1.82\\\",\\\"1.83\\\",\\\"1.84\\\",\\\"1.85\\\",\\\"1.86\\\",\\\"1.87\\\",\\\"1.88\\\",\\\"1.89\\\",\\\"1.9\\\",\\\"1.91\\\",\\\"1.92\\\",\\\"1.93\\\",\\\"1.94\\\",\\\"1.95\\\",\\\"1.96\\\",\\\"1.97\\\",\\\"1.98\\\",\\\"1.99\\\",\\\"2.0\\\",\\\"2.01\\\",\\\"2.02\\\",\\\"2.03\\\",\\\"2.04\\\",\\\"2.05\\\",\\\"2.06\\\",\\\"2.07\\\",\\\"2.08\\\",\\\"2.09\\\",\\\"2.1\\\",\\\"2.11\\\",\\\"2.12\\\",\\\"2.13\\\",\\\"2.14\\\",\\\"2.15\\\",\\\"2.16\\\",\\\"2.17\\\",\\\"2.18\\\",\\\"2.19\\\",\\\"2.2\\\",\\\"2.21\\\",\\\"2.22\\\",\\\"2.23\\\",\\\"2.24\\\",\\\"2.25\\\",\\\"2.26\\\",\\\"2.27\\\",\\\"2.28\\\",\\\"2.29\\\",\\\"2.3\\\",\\\"2.31\\\",\\\"2.32\\\",\\\"2.33\\\",\\\"2.34\\\",\\\"2.35\\\",\\\"2.36\\\",\\\"2.37\\\",\\\"2.38\\\",\\\"2.39\\\",\\\"2.4\\\",\\\"2.41\\\",\\\"2.42\\\",\\\"2.43\\\",\\\"2.44\\\",\\\"2.45\\\",\\\"2.46\\\",\\\"2.47\\\",\\\"2.48\\\",\\\"2.49\\\",\\\"2.5\\\",\\\"2.51\\\",\\\"2.52\\\",\\\"2.53\\\",\\\"2.54\\\",\\\"2.55\\\",\\\"2.56\\\",\\\"2.57\\\",\\\"2.58\\\",\\\"2.59\\\",\\\"2.6\\\",\\\"2.61\\\",\\\"2.62\\\",\\\"2.63\\\",\\\"2.64\\\",\\\"2.65\\\",\\\"2.66\\\",\\\"2.67\\\",\\\"2.68\\\",\\\"2.69\\\",\\\"2.7\\\",\\\"2.71\\\",\\\"2.72\\\",\\\"2.73\\\",\\\"2.74\\\",\\\"2.75\\\",\\\"2.76\\\",\\\"2.77\\\",\\\"2.78\\\",\\\"2.79\\\",\\\"2.8\\\",\\\"2.81\\\",\\\"2.82\\\",\\\"2.83\\\",\\\"2.84\\\",\\\"2.85\\\",\\\"2.86\\\",\\\"2.87\\\",\\\"2.88\\\",\\\"2.89\\\",\\\"2.9\\\",\\\"2.91\\\",\\\"2.92\\\",\\\"2.93\\\",\\\"2.94\\\",\\\"2.95\\\",\\\"2.96\\\",\\\"2.97\\\",\\\"2.98\\\",\\\"2.99\\\",\\\"3.0\\\",\\\"3.01\\\",\\\"3.02\\\",\\\"3.03\\\",\\\"3.04\\\",\\\"3.05\\\",\\\"3.06\\\",\\\"3.07\\\",\\\"3.08\\\",\\\"3.09\\\",\\\"3.1\\\",\\\"3.11\\\",\\\"3.12\\\",\\\"3.13\\\",\\\"3.14\\\",\\\"3.15\\\",\\\"3.16\\\",\\\"3.17\\\",\\\"3.18\\\",\\\"3.19\\\",\\\"3.2\\\",\\\"3.21\\\",\\\"3.22\\\",\\\"3.23\\\",\\\"3.24\\\",\\\"3.25\\\",\\\"3.26\\\",\\\"3.27\\\",\\\"3.28\\\",\\\"3.29\\\",\\\"3.3\\\",\\\"3.31\\\",\\\"3.32\\\",\\\"3.33\\\",\\\"3.34\\\",\\\"3.35\\\",\\\"3.36\\\",\\\"3.37\\\",\\\"3.38\\\",\\\"3.39\\\",\\\"3.4\\\",\\\"3.41\\\",\\\"3.42\\\",\\\"3.43\\\",\\\"3.44\\\",\\\"3.45\\\",\\\"3.46\\\",\\\"3.47\\\",\\\"3.48\\\",\\\"3.49\\\",\\\"3.5\\\",\\\"3.51\\\",\\\"3.52\\\",\\\"3.53\\\",\\\"3.54\\\",\\\"3.55\\\",\\\"3.56\\\",\\\"3.57\\\",\\\"3.58\\\",\\\"3.59\\\",\\\"3.6\\\",\\\"3.61\\\",\\\"3.62\\\",\\\"3.63\\\",\\\"3.64\\\",\\\"3.65\\\",\\\"3.66\\\",\\\"3.67\\\",\\\"3.68\\\",\\\"3.69\\\",\\\"3.7\\\",\\\"3.71\\\",\\\"3.72\\\",\\\"3.73\\\",\\\"3.74\\\",\\\"3.75\\\",\\\"3.76\\\",\\\"3.77\\\",\\\"3.78\\\",\\\"3.79\\\",\\\"3.8\\\",\\\"3.81\\\",\\\"3.82\\\",\\\"3.83\\\",\\\"3.84\\\",\\\"3.85\\\",\\\"3.86\\\",\\\"3.87\\\",\\\"3.88\\\",\\\"3.89\\\",\\\"3.9\\\",\\\"3.91\\\",\\\"3.92\\\",\\\"3.93\\\",\\\"3.94\\\",\\\"3.95\\\",\\\"3.96\\\",\\\"3.97\\\",\\\"3.98\\\",\\\"3.99\\\",\\\"4.0\\\",\\\"4.01\\\",\\\"4.02\\\",\\\"4.03\\\",\\\"4.04\\\",\\\"4.05\\\",\\\"4.06\\\",\\\"4.07\\\",\\\"4.08\\\",\\\"4.09\\\",\\\"4.1\\\",\\\"4.11\\\",\\\"4.12\\\",\\\"4.13\\\",\\\"4.14\\\",\\\"4.15\\\",\\\"4.16\\\",\\\"4.17\\\",\\\"4.18\\\",\\\"4.19\\\",\\\"4.2\\\",\\\"4.21\\\",\\\"4.22\\\",\\\"4.23\\\",\\\"4.24\\\",\\\"4.25\\\",\\\"4.26\\\",\\\"4.27\\\",\\\"4.28\\\",\\\"4.29\\\",\\\"4.3\\\",\\\"4.31\\\",\\\"4.32\\\",\\\"4.33\\\",\\\"4.34\\\",\\\"4.35\\\",\\\"4.36\\\",\\\"4.37\\\",\\\"4.38\\\",\\\"4.39\\\",\\\"4.4\\\",\\\"4.41\\\",\\\"4.42\\\",\\\"4.43\\\",\\\"4.44\\\",\\\"4.45\\\",\\\"4.46\\\",\\\"4.47\\\",\\\"4.48\\\",\\\"4.49\\\",\\\"4.5\\\",\\\"4.51\\\",\\\"4.52\\\",\\\"4.53\\\",\\\"4.54\\\",\\\"4.55\\\",\\\"4.56\\\",\\\"4.57\\\",\\\"4.58\\\",\\\"4.59\\\",\\\"4.6\\\",\\\"4.61\\\",\\\"4.62\\\",\\\"4.63\\\",\\\"4.64\\\",\\\"4.65\\\",\\\"4.66\\\",\\\"4.67\\\",\\\"4.68\\\",\\\"4.69\\\",\\\"4.7\\\",\\\"4.71\\\",\\\"4.72\\\",\\\"4.73\\\",\\\"4.74\\\",\\\"4.75\\\",\\\"4.76\\\",\\\"4.77\\\",\\\"4.78\\\",\\\"4.79\\\",\\\"4.8\\\",\\\"4.81\\\",\\\"4.82\\\",\\\"4.83\\\",\\\"4.84\\\",\\\"4.85\\\",\\\"4.86\\\",\\\"4.87\\\",\\\"4.88\\\",\\\"4.89\\\",\\\"4.9\\\",\\\"4.91\\\",\\\"4.92\\\",\\\"4.93\\\",\\\"4.94\\\",\\\"4.95\\\",\\\"4.96\\\",\\\"4.97\\\",\\\"4.98\\\",\\\"4.99\\\",\\\"5.0\\\"],\\\"changes\\\":WebIO.getval({\\\"name\\\":\\\"changes\\\",\\\"scope\\\":\\\"knockout-component-91d1ad8d-5531-46e8-998f-6c9ae1df7709\\\",\\\"id\\\":\\\"ob_03\\\",\\\"type\\\":\\\"observable\\\"}),\\\"index\\\":WebIO.getval({\\\"name\\\":\\\"index\\\",\\\"scope\\\":\\\"knockout-component-91d1ad8d-5531-46e8-998f-6c9ae1df7709\\\",\\\"id\\\":\\\"ob_02\\\",\\\"type\\\":\\\"observable\\\"})};\\n    var self = this;\\n    function AppViewModel() {\\n        for (var key in json_data) {\\n            var el = json_data[key];\\n            this[key] = Array.isArray(el) ? ko.observableArray(el) : ko.observable(el);\\n        }\\n        \\n        [this[\\\"formatted_val\\\"]=ko.computed(    function(){\\n        return this.formatted_vals()[parseInt(this.index())-1];\\n    }\\n,this)]\\n        [this[\\\"changes\\\"].subscribe((function (val){!(this.valueFromJulia[\\\"changes\\\"]) ? (WebIO.setval({\\\"name\\\":\\\"changes\\\",\\\"scope\\\":\\\"knockout-component-91d1ad8d-5531-46e8-998f-6c9ae1df7709\\\",\\\"id\\\":\\\"ob_03\\\",\\\"type\\\":\\\"observable\\\"},val)) : undefined; return this.valueFromJulia[\\\"changes\\\"]=false}),self),this[\\\"index\\\"].subscribe((function (val){!(this.valueFromJulia[\\\"index\\\"]) ? (WebIO.setval({\\\"name\\\":\\\"index\\\",\\\"scope\\\":\\\"knockout-component-91d1ad8d-5531-46e8-998f-6c9ae1df7709\\\",\\\"id\\\":\\\"ob_02\\\",\\\"type\\\":\\\"observable\\\"},val)) : undefined; return this.valueFromJulia[\\\"index\\\"]=false}),self)]\\n        \\n    }\\n    self.model = new AppViewModel();\\n    self.valueFromJulia = {};\\n    for (var key in json_data) {\\n        self.valueFromJulia[key] = false;\\n    }\\n    ko.applyBindings(self.model, self.dom);\\n}\\n);\\n    (WebIO.importBlock({\\\"data\\\":[{\\\"name\\\":\\\"knockout\\\",\\\"type\\\":\\\"js\\\",\\\"url\\\":\\\"/assetserver/f07383ad7ba5d9e293900fdc7e5e611110d6ff32-knockout.js\\\"},{\\\"name\\\":\\\"knockout_punches\\\",\\\"type\\\":\\\"js\\\",\\\"url\\\":\\\"/assetserver/306cc87ce82e45c3e5eb81524cb970ae2bab3932-knockout_punches.js\\\"}],\\\"type\\\":\\\"async_block\\\"})).then((imports) => handler.apply(this, imports));\\n}\\n\")])], Dict{Symbol,Any}(:className=>\"field interact-widget\"), 1), Observable{Any} with 0 listeners. Value:\n",
       "Node{DOM}(DOM(:html, :div), Any[[1.75, 1.75, 4.75]], Dict{Symbol,Any}(:className=>\"interact-flex-row interact-widget\"), 1)], Dict{Symbol,Any}(), 2)"
      ]
     },
     "execution_count": 14,
     "metadata": {
      "application/vnd.webio.node+json": {
       "kernelId": "1643e1b4-886e-40e9-b931-19377167b270"
      }
     },
     "output_type": "execute_result"
    }
   ],
   "source": [
    "@manipulate for c=.5:.01:5\n",
    "    round.( eigvals( [c 1 1 ;1 c 1;1 1 c]) , digits=3)\n",
    "end\n",
    "    "
   ]
  },
  {
   "cell_type": "markdown",
   "metadata": {},
   "source": [
    "The eigenvalues of this 3x3 matrix is readily found by first geting the eigenvalues of the 3x3 ones matrix and then doing what? This method requires almost no pencil and paper, and more importantly helps you understand why the eigenvalues are what they are."
   ]
  },
  {
   "cell_type": "markdown",
   "metadata": {},
   "source": [
    "(7) In class and in the textbook, positive-definiteness was defined only for symmetric matrices. However, it can be extended to arbitrary square matrices as follows.\n",
    "\n",
    "The matrix $A$ is positive-definite if $A + A^T$ is positive-definite (in the sense defined in class and in the book: $A + A^T$ has positive eigenvalues, or equivalently $x^T(A+A^T)x \\gt 0$ for all $x \\ne 0$, or equivalently $A^T + A = B^T B$ where $B$ has full column rank).\n",
    "Show that if $A + A^T$ is positive definite, then the eigenvalues of $A$ have positive real parts.\n",
    "\n",
    "(Hint: consider an eigenvector $Ax = \\lambda x$. How can you use this in one of the positive-definite conditions for $A+A^T$ above?)"
   ]
  },
  {
   "cell_type": "markdown",
   "metadata": {},
   "source": [
    "(8) Suppose a symmetric positive definite matrix $A$ has a unique largest eigenvalue.  While pure mathematicians would say that $A^{2019}$ has full rank, applied folks would say that it is very likely rank $1$ for all intents and purposes.  Explain this with words or a Julia example (2019 may be too large on a computer). "
   ]
  },
  {
   "cell_type": "markdown",
   "metadata": {},
   "source": [
    "(9) Consider the function $f(x, y) = x^3 − 12xy + 8y^3$.  Show that the gradient vanishes at exactly two points,\n",
    "(0,0) and (2,1).  One of these is a saddle point, and one a local minimum.  Which ones and why?\n"
   ]
  },
  {
   "cell_type": "markdown",
   "metadata": {},
   "source": [
    "(10) Use the full svd to derive the so called \"polar factorization\" of a matrix: Every square matrix $A$ can be factored into $QS$ where $Q$ is orthogonal and $S$ is positive semi-definite.  If $A$ is invertible further show $S$ is positive definite. (Hint: if $A=U\\Sigma V^T$, the orthogonal matrix $Q$ will be $UV^T$.  What do we need to complete the story.)  (Hint: if you don't yet see the answer, the polar decomposition  is on page 394 of Strang.) "
   ]
  },
  {
   "cell_type": "code",
   "execution_count": null,
   "metadata": {},
   "outputs": [],
   "source": []
  }
 ],
 "metadata": {
  "@webio": {
   "lastCommId": "f761ed0e5fd04cabb75da92d7c0e74ec",
   "lastKernelId": "1643e1b4-886e-40e9-b931-19377167b270"
  },
  "kernelspec": {
   "display_name": "Julia 1.0.0",
   "language": "julia",
   "name": "julia-1.0"
  },
  "language_info": {
   "file_extension": ".jl",
   "mimetype": "application/julia",
   "name": "julia",
   "version": "1.0.0"
  }
 },
 "nbformat": 4,
 "nbformat_minor": 2
}
