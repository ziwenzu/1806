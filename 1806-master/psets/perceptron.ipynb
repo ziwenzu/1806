{
 "cells": [
  {
   "cell_type": "markdown",
   "metadata": {},
   "source": [
    "## Perceptron\n",
    "data (x) is an n vector whose elements are d vectors  (n data points in Rᵈ) <br>\n",
    "labels (y) is an n vector of +1,-1"
   ]
  },
  {
   "cell_type": "code",
   "execution_count": 123,
   "metadata": {},
   "outputs": [
    {
     "data": {
      "text/plain": [
       "perceptron (generic function with 4 methods)"
      ]
     },
     "execution_count": 123,
     "metadata": {},
     "output_type": "execute_result"
    }
   ],
   "source": [
    "function perceptron(x::Vector, y::Vector, τ=100 )\n",
    "    θ,θ₀ = zeros(d),0\n",
    "    for t=1:τ, i=1:n  \n",
    "      if y[i]*(θ'x[i]+θ₀) ≤ 0        \n",
    "         θ  += y[i]*x[i]\n",
    "         θ₀ += y[i]\n",
    "      end\n",
    "    end\n",
    "    θ,θ₀\n",
    "end"
   ]
  },
  {
   "cell_type": "code",
   "execution_count": 124,
   "metadata": {},
   "outputs": [],
   "source": [
    "using LinearAlgebra\n",
    "# Example Data\n",
    "n = 100\n",
    "d = 5\n",
    "y = rand([-1,1],n);                         # n random ±1\n",
    "x = [ [y[i]*rand();randn(d-1);]  for i∈1:n] # random data with first component pointing in the direction of the label\n",
    "Q,= qr(randn(d,d))                          # a random rotation \n",
    "x = [Q*x[i] for i∈1:n];                     # rotate the data set"
   ]
  },
  {
   "cell_type": "code",
   "execution_count": 125,
   "metadata": {},
   "outputs": [
    {
     "data": {
      "text/plain": [
       "([-7.02686, 27.7585, 9.63108, -6.97683, 5.95082], -1)"
      ]
     },
     "execution_count": 125,
     "metadata": {},
     "output_type": "execute_result"
    }
   ],
   "source": [
    "θ,θ₀ = perceptron(x,y)"
   ]
  },
  {
   "cell_type": "code",
   "execution_count": 126,
   "metadata": {},
   "outputs": [
    {
     "data": {
      "text/plain": [
       "true"
      ]
     },
     "execution_count": 126,
     "metadata": {},
     "output_type": "execute_result"
    }
   ],
   "source": [
    "all([ sign(θ'x[i]+θ₀)==y[i] for i∈1:n]) # did we train perfectly?"
   ]
  }
 ],
 "metadata": {
  "kernelspec": {
   "display_name": "Julia 1.0.0",
   "language": "julia",
   "name": "julia-1.0"
  },
  "language_info": {
   "file_extension": ".jl",
   "mimetype": "application/julia",
   "name": "julia",
   "version": "1.0.0"
  }
 },
 "nbformat": 4,
 "nbformat_minor": 2
}
