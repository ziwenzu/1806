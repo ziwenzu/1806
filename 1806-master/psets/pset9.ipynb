{
 "cells": [
  {
   "cell_type": "markdown",
   "metadata": {},
   "source": [
    "#### 18.06 Spring2019 pset 9  \n",
    "## due Friday 4/26 at 11:59pm\n",
    "\n",
    "Moving to Friday night seems to be very popular so this and pset 10 will be Friday night sets,\n",
    "but please do not wait until Friday to start. "
   ]
  },
  {
   "cell_type": "markdown",
   "metadata": {},
   "source": [
    "(1a)  $A$ is diagonalizable if it can be written $X\\Lambda X^{-1}$ for some invertible matrix $X$. The eigenvalues go on the diagonal of $\\Lambda$ (in any order) and the corresponding eigenvectors are the columns of $X$.\n",
    "\n",
    "(GS p314 6.2 p1)\n",
    "Factor the following matrices into $A = X\\Lambda X^{-1}$:\n",
    "\n",
    "$A = \\begin{bmatrix} 1 & 2 \\\\ 0 & 3 \\end{bmatrix}$ and\n",
    "$A = \\begin{bmatrix} 1 & 1 \\\\ 3 & 3 \\end{bmatrix}$."
   ]
  },
  {
   "cell_type": "markdown",
   "metadata": {},
   "source": [
    "(1b) If $A=X \\Lambda X^{-1}$ then $A^3=( \\ )( \\ )( \\ )$ and $A^{-1}=( \\ )( \\ )( \\ )$."
   ]
  },
  {
   "cell_type": "markdown",
   "metadata": {},
   "source": [
    "(Optional) Check your work: "
   ]
  },
  {
   "cell_type": "code",
   "execution_count": null,
   "metadata": {},
   "outputs": [],
   "source": [
    "using LinearAlgebra\n",
    "A = [1 2; 0 3]\n",
    "Λ,X = eigen(A)\n",
    "display(Λ)  # Eigenvalues in machine picked order\n",
    "display(X) # Eigenvectors normalized to unit vectors"
   ]
  },
  {
   "cell_type": "code",
   "execution_count": null,
   "metadata": {},
   "outputs": [],
   "source": [
    "Λ,X = eigen(A^3)\n",
    "display(Λ)  \n",
    "display(X) "
   ]
  },
  {
   "cell_type": "code",
   "execution_count": null,
   "metadata": {},
   "outputs": [],
   "source": [
    "Λ,X = eigen(inv(A))\n",
    "display(Λ)  \n",
    "display(X) "
   ]
  },
  {
   "cell_type": "markdown",
   "metadata": {},
   "source": [
    "(2). Find the pattern. (We are not asking for an explanation. We want you to experiment and observe.) <br>\n",
    "(2a) When n=3, if you generate random real matrices which of the following seem to be possible: <br>\n",
    "$[ \\  ]$ All complex eigenvalues, $[ \\  ]$ All real eigenvalues, $ [ \\ ]$ 2 Real, One Complex,  $ [ \\ ]$ 2 Complex, One Real"
   ]
  },
  {
   "cell_type": "code",
   "execution_count": null,
   "metadata": {},
   "outputs": [],
   "source": [
    "howmany = 10  # if you like change 10 to anything\n",
    "n = 3 \n",
    "for i = 1:howmany\n",
    "    display(eigvals(randn(n,n))) # random n x n\n",
    "end"
   ]
  },
  {
   "cell_type": "markdown",
   "metadata": {},
   "source": [
    "(2b) When n=4, if you generate random real matrices what possibilities emerge for how many real and complex eigenvalues:\n",
    "(Note four real eigenvalues can happen, but it seems a bit rarer.)"
   ]
  },
  {
   "cell_type": "code",
   "execution_count": null,
   "metadata": {},
   "outputs": [],
   "source": [
    "howmany = 20  \n",
    "n = 4 \n",
    "for i = 1:howmany\n",
    "    display(eigvals(randn(n,n))) \n",
    "end"
   ]
  },
  {
   "cell_type": "markdown",
   "metadata": {},
   "source": [
    "(2c) What do you observe if the matrix is symmetric or antisymmetric?  Try n=3,4,5. (You may interpret as 0\n",
    "        floating point numbers with an e-16 (meaning $10^{-16}$, E for exponent) or less.)"
   ]
  },
  {
   "cell_type": "code",
   "execution_count": null,
   "metadata": {},
   "outputs": [],
   "source": [
    "howmany = 5  \n",
    "n = 4 \n",
    "for i = 1:howmany\n",
    "    A = randn(n,n)\n",
    "    A += A'  # This means add A' (same as Aᵀ) to A making A symmetric\n",
    "    display(eigvals(A)) \n",
    "end"
   ]
  },
  {
   "cell_type": "markdown",
   "metadata": {},
   "source": [
    "(3a) (GS p.314 p4) True or false: If the columns of X (eigenvectors of A) are linearly independent then <br>\n",
    "(a) A is invertible? <br>\n",
    "(b) A is diagonalizable <br>\n",
    "(c) X is invertible? <br>\n",
    "(d) X is diagonalizable\n",
    "\n",
    "(3b) (GS p. 315 p11) True or false: If the eigenvalues of $A$ are $2,2,5$ then the matrix is certainly <br>\n",
    "(a) invertible <br>\n",
    "(b) diagonalizable <br>\n",
    "(c) not diagonalizable.\n",
    "\n",
    "(3c) (GS p. 315 p. 12) True or false: If the only eigenvectors of $A$ are multiples of (1,4) then A has <br>\n",
    "(a) no inverse <br>\n",
    "(b) a repeated eigenvalue <br>\n",
    "(c) no diagonalization $X \\Lambda X^{-1}$."
   ]
  },
  {
   "cell_type": "markdown",
   "metadata": {},
   "source": [
    "4) If a matrix has eigenvalue 1, must it have singular value 1? If a matrix has eigenvalue 0, must it have fewer than n positive singular values?\n",
    "\n"
   ]
  },
  {
   "cell_type": "markdown",
   "metadata": {},
   "source": [
    "5) Supose rank(A) = n-1 and x is an eigenvector with eigenvalue 0. How might the information in x find itself inside the SVD?\n",
    "\n"
   ]
  },
  {
   "cell_type": "markdown",
   "metadata": {},
   "source": [
    "6) Construct for every n=2,3,... a non-zero matrix A that has all eigenvalues 0, but has (n-1) singular values 1. Is A diagonalizible? <br>\n",
    "(Possible Hint: Permuting the rows or columns\n",
    "of a matrix does not influence the singular values.)\n",
    "\n"
   ]
  },
  {
   "cell_type": "markdown",
   "metadata": {},
   "source": [
    "7) (Finally doing what was avoided all year!) Write an expression for $A^TA$ in terms of the svd of A. Use this to relate the singular values of $A$ to the eigenvalues of $A^TA$. Do the same for $AA^T$.\n",
    "\n",
    "We admit this is straightforward, so why did we avoid it?  From a practical perspective this can be numerically \n",
    "unstable as an algorithm.  From a mathematical perspective, by getting too caught up with eigendecompositions,\n",
    "one loses perspective of all the utility of the SVD that we have seen all semester."
   ]
  },
  {
   "cell_type": "markdown",
   "metadata": {},
   "source": [
    "8) Find two matrices (or argue that is impossible) for which $AB-BA=I$."
   ]
  },
  {
   "cell_type": "markdown",
   "metadata": {},
   "source": [
    "9) We recall that for complex numbers, the [absolute value](https://en.wikipedia.org/wiki/Absolute_value#Complex_numbers),  $|z|$ is the sqrt of the real part squared plus the imaginary part.\n",
    "\n",
    "Find a pattern (as an experimentalist, without proof) for the absolute values of eigenvalues of orthognal matrices."
   ]
  },
  {
   "cell_type": "code",
   "execution_count": null,
   "metadata": {},
   "outputs": [],
   "source": [
    "using LinearAlgebra\n",
    "n = 5\n",
    "Q, = qr(randn(n,n))  # Q stored in a clever factorized form\n",
    "λ = eigvals(Matrix(Q))\n",
    "abs.(λ)\n",
    "\n"
   ]
  },
  {
   "cell_type": "markdown",
   "metadata": {},
   "source": [
    "(10) The Tribonacci numbers are defined in analogy to the Fibonacci numbers:\n",
    "$T_1=T_2=0$,  $\\ T_3=1$, \n",
    "$T_n=T_{n-1}+T_{n-2}+T_{n-3}$ (for $n>3$)"
   ]
  },
  {
   "cell_type": "code",
   "execution_count": null,
   "metadata": {},
   "outputs": [],
   "source": [
    "# Inefficient but straightforward computation \n",
    "T(n) = n>3 ? T(n-1)+T(n-2)+T(n-3) : n==3 ? 1 : 0  \n",
    "[T(n) for n=1:15]'"
   ]
  },
  {
   "cell_type": "markdown",
   "metadata": {},
   "source": [
    "(Not required: but if you want to understand the Julia it says if n>3, use the recurrence, if n=3 return 1, otherwise 0)"
   ]
  },
  {
   "cell_type": "markdown",
   "metadata": {},
   "source": [
    "Let $u_k = \\begin{pmatrix} T_{k+2} \\\\ T_{k+1} \\\\ T_k \\end{pmatrix}$. Find a matrix A that relates $u_{k+1}$ to $u_k$\n",
    "\n"
   ]
  },
  {
   "cell_type": "code",
   "execution_count": null,
   "metadata": {},
   "outputs": [],
   "source": [
    "M = [ 1 2 3; 4 5 6; 7 8 9] # Template for a 3x3 matrix\n",
    "A =                        # Write the correct numbers"
   ]
  },
  {
   "cell_type": "markdown",
   "metadata": {},
   "source": [
    "Verify numerically that the largest eigenvalue of $A$ is"
   ]
  },
  {
   "cell_type": "code",
   "execution_count": 64,
   "metadata": {},
   "outputs": [
    {
     "data": {
      "text/plain": [
       "1.8392867552141612"
      ]
     },
     "execution_count": 64,
     "metadata": {},
     "output_type": "execute_result"
    }
   ],
   "source": [
    "ϕ = (1+∛(19+3*√33)+∛(19-3*√33))/3"
   ]
  },
  {
   "cell_type": "markdown",
   "metadata": {},
   "source": [
    "and the other two eigenvalues have absolute value less than 1."
   ]
  },
  {
   "cell_type": "code",
   "execution_count": null,
   "metadata": {},
   "outputs": [],
   "source": [
    "abs.(eigvals(A))"
   ]
  },
  {
   "cell_type": "markdown",
   "metadata": {},
   "source": [
    "Explain why T(31)/T(30) should be about ϕ"
   ]
  },
  {
   "cell_type": "code",
   "execution_count": 67,
   "metadata": {},
   "outputs": [
    {
     "data": {
      "text/plain": [
       "1.839286755221798"
      ]
     },
     "execution_count": 67,
     "metadata": {},
     "output_type": "execute_result"
    }
   ],
   "source": [
    "T(31)/T(30)"
   ]
  },
  {
   "cell_type": "markdown",
   "metadata": {},
   "source": [
    "Using Julia, expand u₁ in an eigenvector basis obtaining the coefficients c. \n",
    "(Two of which are complex, and one may have roundoff as an imaginary part.)"
   ]
  },
  {
   "cell_type": "code",
   "execution_count": null,
   "metadata": {},
   "outputs": [],
   "source": [
    "Λ,X = eigen(A) # Λ is a vector of eigenvalues in Julia for efficiency\n",
    "c = X\\[1,0,0] # Solve Xc = [1,0,0]"
   ]
  },
  {
   "cell_type": "code",
   "execution_count": null,
   "metadata": {},
   "outputs": [],
   "source": [
    "real(c[1]*X[1,1]*ϕ^15),T(18)"
   ]
  },
  {
   "cell_type": "markdown",
   "metadata": {},
   "source": [
    " A student wishes to approximate the 18th Tribonacci number. \n",
    "Explain why the above expression is correct, including the role played by c[1], X[1,1], 15, and 18."
   ]
  },
  {
   "cell_type": "code",
   "execution_count": null,
   "metadata": {},
   "outputs": [],
   "source": [
    "T(18) - real(c[1]*X[1,1]*ϕ^15) # error"
   ]
  },
  {
   "cell_type": "code",
   "execution_count": null,
   "metadata": {},
   "outputs": [],
   "source": [
    "2 * real(c[2]*X[1,2]*Λ[2]^15 )"
   ]
  },
  {
   "cell_type": "markdown",
   "metadata": {},
   "source": [
    "The above formula is the exact error to the student's approximation. Explain."
   ]
  },
  {
   "cell_type": "code",
   "execution_count": null,
   "metadata": {},
   "outputs": [],
   "source": []
  }
 ],
 "metadata": {
  "kernelspec": {
   "display_name": "Julia 1.0.0",
   "language": "julia",
   "name": "julia-1.0"
  },
  "language_info": {
   "file_extension": ".jl",
   "mimetype": "application/julia",
   "name": "julia",
   "version": "1.0.0"
  }
 },
 "nbformat": 4,
 "nbformat_minor": 2
}
