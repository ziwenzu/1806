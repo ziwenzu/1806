{
 "cells": [
  {
   "cell_type": "markdown",
   "metadata": {},
   "source": [
    "\n",
    "## IMPORTANT: How you download this file in Step 2 below matters more than it should. \n",
    "\n",
    "1. Half the story only: Use the download button \n",
    "![DownloadIcon](downloadicon.png) in the upper right BUT **right click**, don't just click.  <br>\n",
    "2. Choose \"Save Link As...\" or \"Download Linked File As..\" (View from chrome, other browsers similar): <br>\n",
    "\n",
    "![MenuIcon](menuicon.png)\n",
    "    \n",
    "\n",
    "This saves it as an .ipynb file and not some other extension.  Even better yet, if you get in the habit of OPTION-click (MAC) or ALT-Click (Linux and Windows I think) on the download icon, it will just work automagically. "
   ]
  },
  {
   "cell_type": "markdown",
   "metadata": {},
   "source": [
    "# 18.06 Spring2019 pset 0\n",
    "\n",
    "## due Sunday  2/10 at 4:55pm\n",
    "\n",
    "This required but non-graded homework will take you through the entire workflow hopefully stress-free :\n",
    "\n",
    "\n",
    "1. log into juliabox and add 1+1 in julia\n",
    "2. download this pset as ipynb\n",
    "3. upload the pset into juliabox\n",
    "4. do some problems\n",
    "5. save as a pdf\n",
    "6. submit to gradescope\n"
   ]
  },
  {
   "cell_type": "markdown",
   "metadata": {},
   "source": [
    "## 1. log into juliabox"
   ]
  },
  {
   "cell_type": "markdown",
   "metadata": {},
   "source": [
    "a. Click on [http://www.juliabox.com](http://www.juliabox.com) ==> log in ==> launch (launch takes a little while) <br>\n",
    "b. New ==> Julia 1.0.3 <br>\n",
    "c. Type 1+1 and ShiftEnter"
   ]
  },
  {
   "cell_type": "code",
   "execution_count": null,
   "metadata": {},
   "outputs": [],
   "source": []
  },
  {
   "cell_type": "markdown",
   "metadata": {},
   "source": [
    "# 2. download this ipynb file"
   ]
  },
  {
   "cell_type": "markdown",
   "metadata": {},
   "source": [
    "We strongly recommend viewing this file on nbviewer:  <br>\n",
    "[https://nbviewer.jupyter.org/github/mitmath/1806/blob/master/psets/pset00.ipynb](https://nbviewer.jupyter.org/github/mitmath/1806/blob/master/psets/pset00.ipynb)\n",
    "and you can then click the \"download\" icon on the upper right. The file will be an ugly text .ipynb file which you can now use the browser \"save\" button to save on your computer or you can use the \"save link as\" to directly download."
   ]
  },
  {
   "cell_type": "markdown",
   "metadata": {},
   "source": [
    "# 3.  upload this pset into juliabox"
   ]
  },
  {
   "cell_type": "markdown",
   "metadata": {},
   "source": [
    "drag the .ipynb file into juliabox and open it up"
   ]
  },
  {
   "cell_type": "markdown",
   "metadata": {},
   "source": [
    "# 4 Do these problems."
   ]
  },
  {
   "cell_type": "markdown",
   "metadata": {},
   "source": [
    "4a.  Type your name."
   ]
  },
  {
   "cell_type": "markdown",
   "metadata": {},
   "source": [
    "My name is. "
   ]
  },
  {
   "cell_type": "markdown",
   "metadata": {},
   "source": [
    "4b. Type your 18.06 section."
   ]
  },
  {
   "cell_type": "markdown",
   "metadata": {},
   "source": [
    "My 18.06 section is"
   ]
  },
  {
   "cell_type": "markdown",
   "metadata": {},
   "source": [
    "4c. Tell us why you are taking 18.06.  What are you hoping to learn?  What excites you about linear algebra?"
   ]
  },
  {
   "cell_type": "markdown",
   "metadata": {},
   "source": [
    "I am taking 18.06 because"
   ]
  },
  {
   "cell_type": "markdown",
   "metadata": {},
   "source": [
    "4d.  Type and excute the commands on page 1 of the [VMLS Julia Companion](http://vmls-book.stanford.edu/vmls-julia-companion.pdf)"
   ]
  },
  {
   "cell_type": "code",
   "execution_count": null,
   "metadata": {},
   "outputs": [],
   "source": []
  },
  {
   "cell_type": "code",
   "execution_count": null,
   "metadata": {},
   "outputs": [],
   "source": []
  },
  {
   "cell_type": "code",
   "execution_count": null,
   "metadata": {},
   "outputs": [],
   "source": []
  },
  {
   "cell_type": "code",
   "execution_count": null,
   "metadata": {},
   "outputs": [],
   "source": []
  },
  {
   "cell_type": "markdown",
   "metadata": {},
   "source": [
    "# 5. save as pdf"
   ]
  },
  {
   "cell_type": "markdown",
   "metadata": {},
   "source": [
    "Jupyter File --> Print Preview --> Browser File --> Print --> save as pdf works best"
   ]
  },
  {
   "cell_type": "markdown",
   "metadata": {},
   "source": [
    "# 6. Submit to gradescope"
   ]
  },
  {
   "cell_type": "markdown",
   "metadata": {},
   "source": [
    "tell gradescope on which pdf page(s) to find 4a, 4b, 4c, 4d <br>\n",
    "\n",
    "gradescope has extensive help on submitting homeworks"
   ]
  },
  {
   "cell_type": "code",
   "execution_count": null,
   "metadata": {},
   "outputs": [],
   "source": []
  }
 ],
 "metadata": {
  "kernelspec": {
   "display_name": "Julia 1.0.0",
   "language": "julia",
   "name": "julia-1.0"
  },
  "language_info": {
   "file_extension": ".jl",
   "mimetype": "application/julia",
   "name": "julia",
   "version": "1.0.0"
  }
 },
 "nbformat": 4,
 "nbformat_minor": 2
}
