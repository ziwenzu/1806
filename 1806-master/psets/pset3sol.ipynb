{
 "cells": [
  {
   "cell_type": "markdown",
   "metadata": {},
   "source": [
    "# 18.06 Spring2019 short pset 3 solutions\n",
    "## due Wednesday  2/27 at 10:55am"
   ]
  },
  {
   "cell_type": "markdown",
   "metadata": {},
   "source": [
    "This problem set is completely based on lectures and your ingenuity.  No foreshadowing. You can optionally not use Juliabox at all, though using Julia may enhance the experience.  This entire set can be done with pencil and paper if you prefer. There should be no mention of AAᵀ,AᵀA or eigenvalues.  You should not google or use wikipedia, just what you learned in lecture."
   ]
  },
  {
   "cell_type": "markdown",
   "metadata": {},
   "source": [
    "## Problem 1  \n",
    "\n",
    "Consider the matrix A defined below."
   ]
  },
  {
   "cell_type": "code",
   "execution_count": 1,
   "metadata": {},
   "outputs": [
    {
     "data": {
      "text/plain": [
       "3×3 Array{Int64,2}:\n",
       "  1   4   2\n",
       "  2   8   4\n",
       " -1  -4  -2"
      ]
     },
     "execution_count": 1,
     "metadata": {},
     "output_type": "execute_result"
    }
   ],
   "source": [
    "A = [1 4 2;2 8 4;-1 -4 -2]"
   ]
  },
  {
   "cell_type": "markdown",
   "metadata": {},
   "source": [
    "You should be able to describe the column space of A without any fancy svd's, just by common sense. <br> 1a. Please describe the column space."
   ]
  },
  {
   "cell_type": "markdown",
   "metadata": {},
   "source": [
    "This matrix can be expressed as an outer product, A=xyᵀ. <br> 1b. Find an x and y such that A=xyᵀ. "
   ]
  },
  {
   "cell_type": "markdown",
   "metadata": {},
   "source": [
    "Without a computer you should be able to write down a compact (rank r format) svd of A.  <br> 1c. What is U, Σ, and V? Write an exact answer not a decimal."
   ]
  },
  {
   "cell_type": "markdown",
   "metadata": {},
   "source": [
    "\n"
   ]
  },
  {
   "cell_type": "markdown",
   "metadata": {},
   "source": [
    "If you wish to check your work, or are not sure what an exact answer would look like, one option (nothing required here!) is to execute the Julia code, but you will get decimals which you will have to think a bit about to recognize as exact numbers."
   ]
  },
  {
   "cell_type": "code",
   "execution_count": 2,
   "metadata": {},
   "outputs": [
    {
     "data": {
      "text/plain": [
       "3×1 Array{Float64,2}:\n",
       " -0.40824829046386313\n",
       " -0.8164965809277259 \n",
       "  0.40824829046386296"
      ]
     },
     "metadata": {},
     "output_type": "display_data"
    },
    {
     "data": {
      "text/plain": [
       "1-element Array{Float64,1}:\n",
       " 11.22497216032183"
      ]
     },
     "metadata": {},
     "output_type": "display_data"
    },
    {
     "data": {
      "text/plain": [
       "3×1 Array{Float64,2}:\n",
       " -0.21821789023599225\n",
       " -0.8728715609439696 \n",
       " -0.43643578047198484"
      ]
     },
     "metadata": {},
     "output_type": "display_data"
    }
   ],
   "source": [
    "using LinearAlgebra\n",
    "r = rank(A)\n",
    "U,s,V = svd(A)\n",
    "display(U[:,1:r])\n",
    "display(s[1:r])\n",
    "display(V[:,1:r])"
   ]
  },
  {
   "cell_type": "markdown",
   "metadata": {},
   "source": [
    "## Solution\n",
    "\n",
    "1a. Notice that the second column is 4 times the first column and the third column is 2 times the first column. Thus, the column space is the set of all real multiples of the vector \n",
    "\n",
    "$$v=\\begin{pmatrix}1\\\\2\\\\-1\\end{pmatrix}$$\n",
    "\n",
    "in $\\mathbb{R}^3$.\n",
    "\n",
    "1b. With $v$ as in part 1a, the matrix is\n",
    "\n",
    "$$A=\\begin{pmatrix}1&4&2\\\\2&8&4\\\\-1&-4&-2\\end{pmatrix}=\\begin{pmatrix}v&4v&2v\\end{pmatrix}=v\\begin{pmatrix}1&4&2\\end{pmatrix}.$$\n",
    "\n",
    "Therefore, $A=xy^T$, where\n",
    "\n",
    "$$x=v=\\begin{pmatrix}1\\\\2\\\\-1\\end{pmatrix}, \\hspace{2cm} y=\\begin{pmatrix}1\\\\4\\\\2\\end{pmatrix}.$$\n",
    "\n",
    "1c. By part 1a, the rank of $A$ is $r=1$. By part 1b, we know $A=xy^T=x \\begin{pmatrix}1\\end{pmatrix} y^T$, which looks like an SVD, but $x$ and $y$ are not *orthogonal* $3\\times 1$ matrices. To fix this, we can divide $x$ and $y$ by their norms:\n",
    "\n",
    "$$A=\\left(\\frac{x}{|x|}\\right) \\begin{pmatrix}|x||y|\\end{pmatrix} \\left(\\frac{y}{|y|}\\right)^T.$$\n",
    "\n",
    "Thus, our answer is\n",
    "$$U=\\frac{x}{|x|}=\\frac{1}{\\sqrt{6}}\\begin{pmatrix}1\\\\2\\\\-1\\end{pmatrix},$$\n",
    "\n",
    "$$\\Sigma=\\begin{pmatrix}|x||y|\\end{pmatrix}=\\begin{pmatrix}\\sqrt{6}\\sqrt{21}\\end{pmatrix}=\\begin{pmatrix}3\\sqrt{14}\\end{pmatrix},$$\n",
    "\n",
    "$$V=\\frac{y}{|y|}=\\frac{1}{\\sqrt{21}}\\begin{pmatrix}1\\\\4\\\\2\\end{pmatrix}.$$\n",
    "\n",
    "Note that the $U$ and $V$ we give here are actually the negatives of the $U$ and $V$ given in the output of the Julia code above, but both are valid SVDs."
   ]
  },
  {
   "cell_type": "markdown",
   "metadata": {},
   "source": [
    "## Problem 2. Suppose we have the matrices U,Σ, and V as follows: (Note dividing by √10 means divide every entry by the square root of 10). Suppose  A=UΣVᵀ."
   ]
  },
  {
   "cell_type": "code",
   "execution_count": 3,
   "metadata": {},
   "outputs": [
    {
     "data": {
      "text/plain": [
       "2×2 Array{Float64,2}:\n",
       " 0.707107  -0.707107\n",
       " 0.707107   0.707107"
      ]
     },
     "execution_count": 3,
     "metadata": {},
     "output_type": "execute_result"
    }
   ],
   "source": [
    "U = [1 -3;3 1] / √10\n",
    "Σ = [√45 0; 0 √5]\n",
    "V = [1 -1;1 1] / √2"
   ]
  },
  {
   "cell_type": "markdown",
   "metadata": {},
   "source": [
    "2a. Is A invertible?  (Do not multiply through) Why or why not?"
   ]
  },
  {
   "cell_type": "markdown",
   "metadata": {},
   "source": [
    "2b. What is the column space of A?"
   ]
  },
  {
   "cell_type": "markdown",
   "metadata": {},
   "source": [
    "2c. What is the nullspace of A?"
   ]
  },
  {
   "cell_type": "markdown",
   "metadata": {},
   "source": [
    "2d. In factored form (no need to multiply out) write the rank 1 approximation to A corresponding to the [image compression notebook](https://nbviewer.jupyter.org/github/mitmath/1806/blob/master/Compressing%20an%20Image%20with%20the%20svd.ipynb) we saw in class."
   ]
  },
  {
   "cell_type": "markdown",
   "metadata": {},
   "source": [
    "2e. Find an SVD of the matrix A*V without multiplying out A*V"
   ]
  },
  {
   "cell_type": "markdown",
   "metadata": {},
   "source": [
    "2f. Find an SVD of the matrix A*V*V (you can multiply out V*V using pencil and paper)"
   ]
  },
  {
   "cell_type": "markdown",
   "metadata": {},
   "source": [
    "You can optionally check your work using Julia."
   ]
  },
  {
   "cell_type": "markdown",
   "metadata": {},
   "source": [
    "## Solution\n",
    "\n",
    "2a. $A$ is invertible. Because $U$ and $V^T$ are orthogonal square matrices, they are invertible (their inverses are $U^T$ and $V$ respectively). The matrix $\\Sigma$ is invertible because it is a diagonal square matrix with nonzero entries on the diagonal. Therefore, $A^{-1}=(U\\Sigma V^T)^{-1}=V\\Sigma^{-1}U^T$.\n",
    "\n",
    "2b. The column space of $A$ is all of $\\mathbb{R}^2$. To see this, recall\n",
    "\n",
    "$$\\operatorname{col}(A)=\\{Ax~:~x \\in \\mathbb{R}^2\\}.$$\n",
    "\n",
    "For any $y \\in \\mathbb{R}^2$, we have $y=A(A^{-1}y)$, so $y \\in \\operatorname{col}(A)$.\n",
    "\n",
    "2c. The nullspace of $A$ is just the zero vector. If $Ax=0$, then $x=A^{-1}0=0$.\n",
    "\n",
    "2d. To get the rank 1 approximation to $A$, we keep the larger singular value and throw away the smaller:\n",
    "\n",
    "$$\\text{rank 1 approx.}=\\begin{pmatrix}1/\\sqrt{10}\\\\3/\\sqrt{10}\\end{pmatrix}\\begin{pmatrix}\\sqrt{45}\\end{pmatrix}\\begin{pmatrix}1/\\sqrt{2}\\\\1/\\sqrt{2}\\end{pmatrix}^T.$$\n",
    "\n",
    "2e. We have $AV=U\\Sigma V^TV=U \\Sigma I_2$, where $I_2$ is the $2\\times 2$ identity matrix. $I_2$ is orthogonal, so $U\\Sigma I_2^T$ is an SVD for $AV$.\n",
    "\n",
    "2f. We have $AVV=U\\Sigma I_2 V=U\\Sigma V=U\\Sigma(V^T)^T$. This is an SVD for $AVV$."
   ]
  },
  {
   "cell_type": "markdown",
   "metadata": {},
   "source": [
    "## Problem 3. Let A be an arbitrary mxn matrix.\n",
    "\n",
    "3a. Are the singular values of 2A always double that of A?  If yes, why? If not give a counterexample."
   ]
  },
  {
   "cell_type": "markdown",
   "metadata": {},
   "source": [
    "3b. Are the singular values of -2A always -2 those of A?  If yes, why? If not give a counterexample.  (Be careful.)"
   ]
  },
  {
   "cell_type": "markdown",
   "metadata": {},
   "source": [
    "## Solution\n",
    "\n",
    "3a. Yes. If $A=U\\Sigma V^T$, then $2A=U(2\\Sigma)V^T$. If the diagonal entries of $\\Sigma$ are $\\sigma_1 \\ge \\sigma_2 \\ge \\cdots \\ge \\sigma_r > 0$, then the diagonal entries of $2\\Sigma$ are $2\\sigma_1 \\ge 2\\sigma_2 \\ge \\cdots \\ge 2\\sigma_r > 0$.\n",
    "\n",
    "3b. No. The reason is that singular values are always positive. For a counterexample, let\n",
    "\n",
    "$$A=I_2=\\begin{pmatrix}1&0\\\\0&1\\end{pmatrix}.$$\n",
    "\n",
    "The singular values of $A$ are $1$ and $1$. As for $-2A$, we have\n",
    "\n",
    "$$-2A=\\begin{pmatrix}-2&0\\\\0&-2\\end{pmatrix}=\\begin{pmatrix}-1&0\\\\0&-1\\end{pmatrix}\\begin{pmatrix}2&0\\\\0&2\\end{pmatrix}\\begin{pmatrix}1&0\\\\0&1\\end{pmatrix}^T.$$\n",
    "\n",
    "Thus, the singular values of $-2A$ are $2$ and $2$. Really, any nonzero matrix $A$ works as a counterexample."
   ]
  },
  {
   "cell_type": "markdown",
   "metadata": {},
   "source": [
    "## Problem 4"
   ]
  },
  {
   "cell_type": "markdown",
   "metadata": {},
   "source": [
    "4a. Let A=[1 2 3].  Describe the nullspace of A precisely as which geometric object with what normal?"
   ]
  },
  {
   "cell_type": "markdown",
   "metadata": {},
   "source": [
    "4b. Let A=[1 2 3]ᵀ.  What is the nullspace of A?"
   ]
  },
  {
   "cell_type": "markdown",
   "metadata": {},
   "source": [
    "## Solution \n",
    "4a. The nullspace of $A$ is the set\n",
    "$$\\operatorname{null}(A)=\\{x \\in \\mathbb{R}^3~:~Ax=0\\}=\\{(x,y,z) \\in \\mathbb{R}^3~:~x+2y+3z=0\\}.$$\n",
    "Thus, we see that the nullspace is the plane in $\\mathbb{R}^3$ containing the point $(0,0,0)$ and with normal vector \n",
    "$$n=\\begin{pmatrix}1\\\\2\\\\3\\end{pmatrix}.$$\n",
    "\n",
    "4b. The nullspace of $A$ is the set\n",
    "$$\\operatorname{null}(A)=\\{x \\in \\mathbb{R}~:~Ax=0\\}=\\left\\{x \\in \\mathbb{R}~:~\\begin{pmatrix}x\\\\2x\\\\3x\\end{pmatrix}=\\begin{pmatrix}0\\\\0\\\\0\\end{pmatrix}\\right\\}=\\{0\\}.$$"
   ]
  },
  {
   "cell_type": "code",
   "execution_count": null,
   "metadata": {},
   "outputs": [],
   "source": []
  }
 ],
 "metadata": {
  "kernelspec": {
   "display_name": "Julia 1.0.3",
   "language": "julia",
   "name": "julia-1.0"
  },
  "language_info": {
   "file_extension": ".jl",
   "mimetype": "application/julia",
   "name": "julia",
   "version": "1.0.3"
  }
 },
 "nbformat": 4,
 "nbformat_minor": 2
}
