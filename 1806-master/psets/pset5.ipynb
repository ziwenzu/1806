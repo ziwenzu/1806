{
 "cells": [
  {
   "cell_type": "markdown",
   "metadata": {},
   "source": [
    "##### 18.06 Spring2019  pset 5 \n",
    "## due  Wednesday  3/13 at 10:55am"
   ]
  },
  {
   "cell_type": "markdown",
   "metadata": {},
   "source": [
    "(1) Warmup: this should perhaps be second nature by now:\n",
    "\n",
    "(A) If r=m=n, (square), Ax=b has ________ solution(s). <br>\n",
    "(B) If m>r=n, (tall skinny, full column rank), Ax=b has _____ or ______ solution(s) <br>\n",
    "(C) If m=r<n, (short wide,full row rank), Ax=b has ____________ solution(s). <br>\n",
    "(D) If r<m,r<n, Ax=b has ________ or ____________ solutions."
   ]
  },
  {
   "cell_type": "markdown",
   "metadata": {},
   "source": [
    "(2) Warmup: A matrix is m x n what are the possible dimensions?<br>\n",
    "(A) dim(col(A))? <br>\n",
    "(B) dim(row(A))+dim(null(A))? <br>\n",
    "(C) the sum of the dimensions of the four fundamental subspaces? <br>\n",
    "(D) dim(col(A)) + dim(row(A))?"
   ]
  },
  {
   "cell_type": "markdown",
   "metadata": {},
   "source": [
    "(3) Consider the vector space Poly4 of polynomials of the form $P(x)=a+bx+cx^2+dx^3+ex^4$.\n",
    "The operator $d/dx$ takes $P(x)$ to $P'(x)$.  <br>\n",
    "(A) What kinds of functions should\n",
    "we say live in the nullspace of $d/dx$? <br> (B) What kinds of functions are in the analog\n",
    "of the column space?  (If the column space is {Av} for column vectors, then perhaps it should\n",
    "be {P' for P in Poly4}.) <br>(C) What should we call the rank of $d/dx$ acting on Poly4?  \n",
    "<br>(D)\n",
    "If P(x) is in the \"column space\", what is the analog of the solution to Ax=b? <br> (E) are there 0,1, or infinitely\n",
    "many solutions?\n"
   ]
  },
  {
   "cell_type": "markdown",
   "metadata": {},
   "source": [
    "(4) This is GS p. 179 problem 39 with hints. (no need to see the original) <br>\n",
    " Suppose A is 5 by 4 with rank 4.<br>\n",
    "(A) The columns of A are necessarily/possibly/never independent? (circle the best answer) <br>\n",
    "    (B) The columns of A necessarily/possibly/never for a basis for $R^5$ <br>\n",
    "    (C) Suppose there is a vector $b$ which makes $[A \\ b]$ an invertible square matrix.  Then the\n",
    "    columns of $[A \\ b]$ are necessarily/possibly/never independent?  <br>\n",
    "    (D) Under the assumption in (C), $Ax=b$ can not be solved.  Why not? <br>\n",
    "    (E) What is the possible rank of $[A \\ b]$ if $[A \\ b]$ is not invertible? Why? <br>\n",
    "    (F) Show that if $[A \\ b]$  is singular (not invertible) that Ax=b must be solvable."
   ]
  },
  {
   "cell_type": "markdown",
   "metadata": {},
   "source": [
    "(5) This is exactly GS p. 191 problem 17.  This problem is completely doable by eyeballing and pencil and paper, but you may use Julia if you like. <br>\n",
    "Describe the four subspace of $R^3$ associated with <br>\n"
   ]
  },
  {
   "cell_type": "code",
   "execution_count": 44,
   "metadata": {},
   "outputs": [
    {
     "data": {
      "text/plain": [
       "3×3 Array{Int64,2}:\n",
       " 0  1  0\n",
       " 0  0  1\n",
       " 0  0  0"
      ]
     },
     "execution_count": 44,
     "metadata": {},
     "output_type": "execute_result"
    }
   ],
   "source": [
    "# (5A)\n",
    "A = [ 0 1 0;0 0 1;0 0 0]"
   ]
  },
  {
   "cell_type": "code",
   "execution_count": 45,
   "metadata": {},
   "outputs": [
    {
     "data": {
      "text/plain": [
       "3×3 Array{Int64,2}:\n",
       " 1  1  0\n",
       " 0  1  1\n",
       " 0  0  1"
      ]
     },
     "execution_count": 45,
     "metadata": {},
     "output_type": "execute_result"
    }
   ],
   "source": [
    "# and (5B)\n",
    "I + A\n"
   ]
  },
  {
   "cell_type": "markdown",
   "metadata": {},
   "source": [
    "(6) Suppose we have $A=[u \\  w][v \\ x]^T$ without any assumptions whatsoever on the vectors u,v,w,x other than is required by block notation. <br>\n",
    "(A) What are the possible ranks of $A$ assuming $A$ is $m \\times n$? <br>\n",
    "(B) Under what conditions is the rank of $A$ 0? <br>\n",
    "(C) Under what conditions is the rank of $A$ 1?\n"
   ]
  },
  {
   "cell_type": "markdown",
   "metadata": {},
   "source": [
    "(7) Write the unique matrices  $U_1$ and $U_{-1}$ that makes these  equalities: (the row vector contain functions of x)<br>\n",
    "(A) $[1 \\  \\ (x+1) \\ \\ (x+1)^2 \\ \\  (x+1)^3 \\  \\ (x+1)^4] \\ = \\ [1 \\  \\ x \\ \\ x^2 \\  \\ x^3 \\ \\ x^4] \\ U_{1}$ <br>\n",
    "(B) $[1 \\  \\ (x-1) \\ \\ (x-1)^2 \\ \\  (x-1)^3 \\  \\ (x-1)^4] \\ = \\ [1 \\  \\ x \\ \\ x^2 \\  \\ x^3 \\ \\ x^4] \\ U_{-1}$ <br>\n",
    "(C) Suppose $p(x)$ is a polynomial of degree at most 4 written as $a+bx+cx^2+dx^3+ex^4$ the polynomial whose coefficients are represented by $$U_1 \\begin{pmatrix} a \\\\ b \\\\ c \\\\ d \\\\ e \\end{pmatrix}$$ is (choose one) <br>\n",
    "    a) $p(2x)$ b) $p(x+1)$ c)$p(x-1)$ d)$p(x^2)$ <br>\n",
    "    (D) argue without any calculation or mention of the entries of $U_1$ and  $U_{-1}$ that $U_1$ and $U_{-1}$  must be inverses of each other. (Remark: Isn't that cool that you can understand an inverse rather than compute it?  ) \\br\n",
    "    (E) What is the polynomial obtained by applying $U_1^3$ to a vector of coefficients?  (no computation please, just brain power) <br>\n",
    "    a) $p(x+3)$ b) $p(x-3)$ c) $p(x)^3$ d)$p(x^3)$\n",
    "    "
   ]
  },
  {
   "cell_type": "markdown",
   "metadata": {},
   "source": [
    "(8) (Exact Copy of Strang p.178 problem 29) What subspace of 3x3 matrices is spanned (take all combinations) by <br>\n",
    "(A) The invertible matrices? <br>\n",
    "(B) The rank one matrices? <br>\n",
    "(C) The identity matrix?"
   ]
  },
  {
   "cell_type": "markdown",
   "metadata": {},
   "source": [
    "(9) (A) Are the six three by three permutation matrices linearly dependent or linearly independent?  \n",
    "(B) Do they span the nine dimensional space of 3x3 matrices or a subspace (if so, what dimension?)\n",
    "You can do this with pencil and paper or optionally if you like code you can use the Julia code to help you:\n",
    "(explanations of all the syntax are provided) (C) Describe the subspace of 3x3 matrices spanned by the permutation matrices.\n",
    "\n",
    "Note: learning Julia is not required for this course.  You can optionally ignore the Julia for this problem,\n",
    "execute the Julia without understanding it, or try to understand the syntax.  Your choice depending on your interests and background.  The minimial time solution may be the second choice for many of you (look at the output without trying to fully\n",
    "understand the syntax.  The maximal time: do it by hand, and learn julia syntax, would be the maximal education opportunity.)"
   ]
  },
  {
   "cell_type": "code",
   "execution_count": 46,
   "metadata": {},
   "outputs": [
    {
     "data": {
      "text/plain": [
       "3×3 Array{Int64,2}:\n",
       " 1  0  0\n",
       " 0  1  0\n",
       " 0  0  1"
      ]
     },
     "metadata": {},
     "output_type": "display_data"
    },
    {
     "data": {
      "text/plain": [
       "3×3 Array{Int64,2}:\n",
       " 1  0  0\n",
       " 0  0  1\n",
       " 0  1  0"
      ]
     },
     "metadata": {},
     "output_type": "display_data"
    },
    {
     "data": {
      "text/plain": [
       "3×3 Array{Int64,2}:\n",
       " 0  1  0\n",
       " 1  0  0\n",
       " 0  0  1"
      ]
     },
     "metadata": {},
     "output_type": "display_data"
    },
    {
     "data": {
      "text/plain": [
       "3×3 Array{Int64,2}:\n",
       " 0  1  0\n",
       " 0  0  1\n",
       " 1  0  0"
      ]
     },
     "metadata": {},
     "output_type": "display_data"
    },
    {
     "data": {
      "text/plain": [
       "3×3 Array{Int64,2}:\n",
       " 0  0  1\n",
       " 1  0  0\n",
       " 0  1  0"
      ]
     },
     "metadata": {},
     "output_type": "display_data"
    },
    {
     "data": {
      "text/plain": [
       "3×3 Array{Int64,2}:\n",
       " 0  0  1\n",
       " 0  1  0\n",
       " 1  0  0"
      ]
     },
     "metadata": {},
     "output_type": "display_data"
    }
   ],
   "source": [
    "# The following code displays the permutation matrices for your convenience\n",
    "Permutations = [[1,2,3],[1,3,2],[2,1,3],[2,3,1],[3,1,2],[3,2,1]] # all permutations of 1:3 in 6 vector of 3 vectors\n",
    "Identity = [1 0 0;0 1 0;0 0 1] # 3x3 identity matrix\n",
    "PermutationMatrices = [Identity[p,:] for p in Permutations] # 6 vector of PermutationMatrices\n",
    "display.(PermutationMatrices); # Apply the display function elementwise just to see the Permutation Matrices"
   ]
  },
  {
   "cell_type": "code",
   "execution_count": 47,
   "metadata": {},
   "outputs": [
    {
     "data": {
      "text/plain": [
       "9×6 Array{Int64,2}:\n",
       " 1  1  0  0  0  0\n",
       " 0  0  1  0  1  0\n",
       " 0  0  0  1  0  1\n",
       " 0  0  1  1  0  0\n",
       " 1  0  0  0  0  1\n",
       " 0  1  0  0  1  0\n",
       " 0  0  0  0  1  1\n",
       " 0  1  0  1  0  0\n",
       " 1  0  1  0  0  0"
      ]
     },
     "execution_count": 47,
     "metadata": {},
     "output_type": "execute_result"
    }
   ],
   "source": [
    "# Compute a 9x6 matrix of squashed permutation matrices\n",
    "#vec flattens a 3x3 matrix to a 9 vector and hcat stores this in a matrix. The three dots are called splat, and collect the arguments.\n",
    "A = hcat(vec.(PermutationMatrices)...)"
   ]
  },
  {
   "cell_type": "code",
   "execution_count": 48,
   "metadata": {},
   "outputs": [
    {
     "data": {
      "text/plain": [
       "5"
      ]
     },
     "execution_count": 48,
     "metadata": {},
     "output_type": "execute_result"
    }
   ],
   "source": [
    "# Compute the rank of the above 9x6 matrix\n",
    "using LinearAlgebra\n",
    "rank(A)"
   ]
  },
  {
   "cell_type": "code",
   "execution_count": 49,
   "metadata": {},
   "outputs": [
    {
     "data": {
      "text/plain": [
       "6×6 Adjoint{Float64,Array{Float64,2}}:\n",
       " -0.408248   5.42288e-17   0.816497     -0.0         0.0        -0.408248\n",
       " -0.408248   0.70636      -3.20494e-17   0.0638053   0.404538    0.408248\n",
       " -0.408248  -0.270989      1.60247e-16   0.62547    -0.449465    0.408248\n",
       " -0.408248  -0.345017     -0.408248      0.254573    0.562278   -0.408248\n",
       " -0.408248   0.345017     -0.408248     -0.254573   -0.562278   -0.408248\n",
       " -0.408248  -0.435371      1.60247e-16  -0.689276    0.0449263   0.408248"
      ]
     },
     "execution_count": 49,
     "metadata": {},
     "output_type": "execute_result"
    }
   ],
   "source": [
    "# Compute the full SVD, to identify the nullspace vector\n",
    "U,s,V = svd(A,full=true)\n",
    "V"
   ]
  },
  {
   "cell_type": "markdown",
   "metadata": {},
   "source": [
    "(10) Suppose y₁(x),y₂(x),y₃(x),y₄(x) are four non-zero polynomials of degree at most 2.  (This means\n",
    "the functions have the form ax²+bx+c, where at least one of the coefficients is nonzero.) \n",
    "What possibilities are there in the dimension of the vector space spanned by y₁(x),y₂(x),y₃(x),y₄(x)?\n",
    "Give examples for each possibility and explain briefly why no other dimension can happen."
   ]
  },
  {
   "cell_type": "code",
   "execution_count": 50,
   "metadata": {},
   "outputs": [
    {
     "data": {
      "text/plain": [
       "9×9 Array{Float64,2}:\n",
       " -0.333333   0.407817    0.471405  …   0.316793   -0.19664    -0.100651 \n",
       " -0.333333   0.0427396  -0.235702     -0.234431   -0.0898219  -0.584161 \n",
       " -0.333333  -0.450557   -0.235702     -0.292684   -0.564301    0.0775894\n",
       " -0.333333  -0.355651   -0.235702      0.198654    0.439449    0.339693 \n",
       " -0.333333  -0.251361    0.471405     -0.352571    0.546267   -0.143816 \n",
       " -0.333333   0.607013   -0.235702  …  -0.410823    0.0717885   0.517934 \n",
       " -0.333333  -0.0521659  -0.235702      0.645255    0.0180334   0.0662264\n",
       " -0.333333   0.208622   -0.235702      0.0940301   0.124851   -0.417283 \n",
       " -0.333333  -0.156456    0.471405      0.0357774  -0.349627    0.244467 "
      ]
     },
     "execution_count": 50,
     "metadata": {},
     "output_type": "execute_result"
    }
   ],
   "source": [
    "U"
   ]
  },
  {
   "cell_type": "code",
   "execution_count": 71,
   "metadata": {},
   "outputs": [
    {
     "data": {
      "text/plain": [
       "3×3 Array{Int64,2}:\n",
       "  2  10  30\n",
       " 40   1   1\n",
       "  0  31  11"
      ]
     },
     "execution_count": 71,
     "metadata": {},
     "output_type": "execute_result"
    }
   ],
   "source": [
    "sum(PermutationMatrices.*[1, 1, 10, 0, 30, 0] )"
   ]
  },
  {
   "cell_type": "code",
   "execution_count": 83,
   "metadata": {},
   "outputs": [
    {
     "data": {
      "text/plain": [
       "3×3 Array{Int64,2}:\n",
       "  3  7  11\n",
       "  8  7   6\n",
       " 10  7   4"
      ]
     },
     "execution_count": 83,
     "metadata": {},
     "output_type": "execute_result"
    }
   ],
   "source": [
    "([1 2 3 4 5 6] * PermutationMatrices)[1]"
   ]
  },
  {
   "cell_type": "code",
   "execution_count": 81,
   "metadata": {},
   "outputs": [
    {
     "data": {
      "text/plain": [
       "1-element Array{Int64,1}:\n",
       " 91"
      ]
     },
     "execution_count": 81,
     "metadata": {},
     "output_type": "execute_result"
    }
   ],
   "source": [
    "[1 2 3 4 5 6] *[1, 2, 3, 4, 5, 6]"
   ]
  },
  {
   "cell_type": "code",
   "execution_count": 80,
   "metadata": {},
   "outputs": [
    {
     "data": {
      "text/plain": [
       "1×6 Array{Int64,2}:\n",
       " 1  2  3  4  5  6"
      ]
     },
     "execution_count": 80,
     "metadata": {},
     "output_type": "execute_result"
    }
   ],
   "source": [
    "[1 2 3 4 5 6]"
   ]
  },
  {
   "cell_type": "code",
   "execution_count": 98,
   "metadata": {},
   "outputs": [
    {
     "data": {
      "text/plain": [
       "3×3 Array{Int64,2}:\n",
       " 2  2  2\n",
       " 1  3  2\n",
       " 3  1  2"
      ]
     },
     "execution_count": 98,
     "metadata": {},
     "output_type": "execute_result"
    }
   ],
   "source": [
    "sum( PermutationMatrices[i]*(rand(0:2)) for i=1:6)"
   ]
  },
  {
   "cell_type": "code",
   "execution_count": null,
   "metadata": {},
   "outputs": [],
   "source": []
  },
  {
   "cell_type": "code",
   "execution_count": null,
   "metadata": {},
   "outputs": [],
   "source": []
  }
 ],
 "metadata": {
  "kernelspec": {
   "display_name": "Julia 1.0.0",
   "language": "julia",
   "name": "julia-1.0"
  },
  "language_info": {
   "file_extension": ".jl",
   "mimetype": "application/julia",
   "name": "julia",
   "version": "1.0.0"
  }
 },
 "nbformat": 4,
 "nbformat_minor": 2
}
