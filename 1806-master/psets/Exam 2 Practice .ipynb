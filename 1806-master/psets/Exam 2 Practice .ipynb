{
 "cells": [
  {
   "cell_type": "markdown",
   "metadata": {},
   "source": [
    "I realized we didn't schedule a HW7 during spring break on purpose given that it's no fun to work\n",
    "on a homework during the break, but we do have an exam coming up.  Therefore here are some questions that might resemble test questions or may just be good study guides for the exam.  Also please look over the homeworks."
   ]
  },
  {
   "cell_type": "markdown",
   "metadata": {},
   "source": [
    "1a) Under what size conditions does Trace(AB) = Trace(BA)? <br>\n",
    "1b) Under what size conditions does Trace(ABC) = Trace(BCA)?"
   ]
  },
  {
   "cell_type": "markdown",
   "metadata": {},
   "source": [
    "2a. Find a basis for all polynomials of the form $a+bx+cx^2+dx^3$ whose integral on $[0,1]$ is 0. <br>\n",
    "2b. Find a basis for all polynomials that are a derivative of polynomials of the form $a+bx+cx^2+dx^3$ <br>\n",
    "2c. Find a basis for all polynomials that are of the form  $a+b(x+1)+c(x+1)^2+d(x+1)^3$ <br>\n",
    "2d. Find a basis for all polynomials of the form $a+bx+cx^2+dx^3$ whose value at 1 is 0."
   ]
  },
  {
   "cell_type": "markdown",
   "metadata": {},
   "source": [
    "(3). How many parameters are needed to specify a linear transformation from 10x10x10 arrays to $R^2$? "
   ]
  },
  {
   "cell_type": "markdown",
   "metadata": {},
   "source": [
    "(4). Compute the gradient of $f(x)=x^Tx  + sum(x) $ without the use of indices."
   ]
  },
  {
   "cell_type": "markdown",
   "metadata": {},
   "source": [
    " (5a). Remembering that df(x) = f'(x) dx for scalar functions, what is dh.(A) in terms of f'.(A) and dA?\n",
    "(Here the dot denotes elementwise function application and A is a matrix.)  <br>\n",
    "(5b). (Challenging?) If g(A) = h.(A*x -b), where x and b are held fixed, h is a scalar function, compute dg in terms of dA.  This is \n",
    "a linear transformation from the matrix dA to the vector dg.\n"
   ]
  },
  {
   "cell_type": "markdown",
   "metadata": {},
   "source": [
    "(6). True or false: <br>\n",
    "a) det(2A) = 2 det(A) for all n <br>\n",
    "b) det(-A) = -det(A) if the size n is odd <br>\n",
    "c) det(A+B) = det(A) + det(B) since determinants are multilinear <br>\n",
    "d) det(inv(A)) = 1/det(A)"
   ]
  },
  {
   "cell_type": "markdown",
   "metadata": {},
   "source": [
    "(7). Give an example of a matrix A where the rows of A are not a basis for the rowspace.\n",
    "    "
   ]
  },
  {
   "cell_type": "markdown",
   "metadata": {},
   "source": [
    "(8). Suppose we have  𝐴=[𝑢 v 𝑤][ 𝑥 y z]𝑇  without any assumptions whatsoever on the vectors u,v,w,x,y,z other than is required by block notation. <br>\n",
    "(A) What are the possible ranks of  𝐴  assuming  𝐴  is  𝑚×𝑛 ?  <br>\n",
    "(B) Under what conditions is the rank of  𝐴  3? <br>\n",
    "(C) Under what conditions is the rank of  𝐴  1?"
   ]
  },
  {
   "cell_type": "markdown",
   "metadata": {},
   "source": [
    "(9). Suppose we are given the full SVD of an mxn matrix A on a computer. <br>\n",
    "9a. How would you obtain the rank r? <br>\n",
    "9b. How would you check if $A^TA$ is invertible? <br>\n",
    "9c. How would you check, given a vector $b$, if $Ax=b$ has a solution? <br>\n",
    "9d. If Ax=b has at least one solution, how would you obtain the solution $x$? <br>\n",
    "9e. What is the complete solution to Ax=b, assuming at least one solution?"
   ]
  },
  {
   "cell_type": "markdown",
   "metadata": {},
   "source": [
    "(10).  Suppose you have two non-colinear vectors in $R^3$.  How might you use the full svd to compute the direction of the cross product of these two vectors?"
   ]
  },
  {
   "cell_type": "markdown",
   "metadata": {},
   "source": [
    "Remember that the determinant of a product of square matrices is the product of the determinants. <br>\n",
    "(11a.) Use Q'Q=I to show that det(Q)=±1 for an orthogonal matrix Q. <br>\n",
    "(11b.)  Show that det(A) is ±(the product of the n singular values) assuming $A$ is non-singular."
   ]
  },
  {
   "cell_type": "markdown",
   "metadata": {},
   "source": [
    "(12). Describe how you can use the compact svd to obtain the projection matrix onto the column space of a matrix $A$? Are there any conditions on A?"
   ]
  },
  {
   "cell_type": "markdown",
   "metadata": {},
   "source": [
    "(13). Describe the solution to the least squares problem Ax≈b when b is not necessasrily in the column space of A in terms of the compact SVD.  You may assume that A has independent columns."
   ]
  },
  {
   "cell_type": "markdown",
   "metadata": {},
   "source": [
    "(14). A vector space V has two bases: $b_1,b_2,b_3,b_4$ and $d_1,d_2,d_3,d_4$. <br>\n",
    "14a. What is the dimension of $V$? <br>\n",
    "14b. Suppose $[b_1,b_2,b_3,b_4] = [d_1,d_2,d_3,d_4] \\begin{pmatrix} 1 &&& \\\\ x &1&& \\\\ y &&1& \\\\ z &&& 1 \\end{pmatrix}$.  What is $d_1+d_2+d_3+d_4$ in terms of the b's?"
   ]
  },
  {
   "cell_type": "markdown",
   "metadata": {},
   "source": [
    "The question below appeared on last year's quiz 2 as problem 4. Parts c and d were considered challenging.\n",
    "The solutions are posted [here](https://web.mit.edu/18.06/www/Spring18/quiz2solutions.pdf)."
   ]
  },
  {
   "cell_type": "markdown",
   "metadata": {},
   "source": [
    "15) Let d(A) be a scalar function of 3 × 2 matrices A with the following properties: <br>\n",
    "α) If you interchange the two columns of A, d(A) flips sign. <br>\n",
    "β) d(A) is linear in each of the columns of A. <br>\n",
    "γ) d(A) is non-zero for at least one 3 × 2 A."
   ]
  },
  {
   "cell_type": "markdown",
   "metadata": {},
   "source": [
    "(15a.)  What is d(2A) in terms of d(A)?"
   ]
  },
  {
   "cell_type": "markdown",
   "metadata": {},
   "source": [
    "(15b.) Give an example d(A) that satisfies the three requirements of this question <br>"
   ]
  },
  {
   "cell_type": "markdown",
   "metadata": {},
   "source": [
    "(15c.) We recall that the determinant of square matrices is linear in each column and\n",
    "each row of the square matrix. Can property β be extended to rows and columns of 3 × 2\n",
    "matrices A to create a d(A) with the three requirements of this question? If yes, give an\n",
    "example, if not, why not?"
   ]
  },
  {
   "cell_type": "markdown",
   "metadata": {},
   "source": [
    "(15d.) If we discard property γ to allow the “zero” function, the set of all functions\n",
    "d(A) satisfying α and β form a three dimensional vector space. Describe explicitly this vector\n",
    "space of functions in terms of the elements of A."
   ]
  },
  {
   "cell_type": "markdown",
   "metadata": {},
   "source": [
    "16a) Under what size conditions does Trace(AB) = Trace(BA)? <br>\n",
    "16b) Under what size conditions does Trace(ABC) = Trace(BCA)?"
   ]
  },
  {
   "cell_type": "code",
   "execution_count": null,
   "metadata": {},
   "outputs": [],
   "source": []
  }
 ],
 "metadata": {
  "kernelspec": {
   "display_name": "Julia 1.0.0",
   "language": "julia",
   "name": "julia-1.0"
  },
  "language_info": {
   "file_extension": ".jl",
   "mimetype": "application/julia",
   "name": "julia",
   "version": "1.0.0"
  }
 },
 "nbformat": 4,
 "nbformat_minor": 2
}
