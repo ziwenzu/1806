{
 "cells": [
  {
   "cell_type": "markdown",
   "metadata": {},
   "source": [
    "##### 18.06 Spring2019  pset 6 \n",
    "## due  Wednesday  3/20 at 10:55am"
   ]
  },
  {
   "cell_type": "markdown",
   "metadata": {},
   "source": [
    "(1) Suppose an mxn matrix A has rank r.  What are the ranks of\n",
    "\n",
    "(A) $A^T$?\n",
    "(B) $AA^T$ ?\n",
    "    (C) $AA^T + \\lambda I$? ($\\lambda>0$)\n",
    "(D) $A^TAA^TA$?"
   ]
  },
  {
   "cell_type": "markdown",
   "metadata": {},
   "source": [
    "(2) (Easy) Without indices show that trace(ABC) = trace(BCA) using trace(XY)=trace(YX) whenever the matrix products make sense."
   ]
  },
  {
   "cell_type": "markdown",
   "metadata": {},
   "source": [
    "(3) A reflector is defined as a matrix of the form  $Q = I -2 uu^T$ where $\\|u\\|=1$. (A) Show that a reflector is orthogonal by showing that Q is symmetric and $Q^2=I$. (B) Explain briefly why this makes $Q$ orthogonal."
   ]
  },
  {
   "cell_type": "markdown",
   "metadata": {},
   "source": [
    "(4) GS p203 13.  Put bases for the subspaces V and W in the columns of matrices A and B.  Show that V and\n",
    "    W are orthogonal subspaces if and only $A^TB$ is the zero matrix.  To be clear <br> (A) Show that if V and W\n",
    "            are orthogonal then $A^TB$ iz zero,  <br> (B)and if  $A^TB$ is the zero matrixm then V and W are orthogonal."
   ]
  },
  {
   "cell_type": "markdown",
   "metadata": {},
   "source": [
    "(5) GS p204 23 : If a subspace $S$ is contained in a subspace $V$, then $S^\\perp$ contains $V^\\perp$."
   ]
  },
  {
   "cell_type": "markdown",
   "metadata": {},
   "source": [
    "(6) GS p.407 Which of these transformations are not linear? The input is $v=(v_1,v_2)$: <br>\n",
    "(a) $T(v)=(v_2,v_1)$ <br>\n",
    "(b) $T(v)=(v_1,v_1)$ <br>\n",
    "(c) $T(v)=(0,v_1)$ <br>\n",
    "(d) $T(v)=(0,1)$ <br>\n",
    "(e) $T(v) = v_2 - v_1 $ <br>\n",
    "(f) $T(v)=v_1v_2$"
   ]
  },
  {
   "cell_type": "markdown",
   "metadata": {},
   "source": [
    "(7) Which of the these transformations is a linear transformation of $ n \\times n$ matrices $X$: \n",
    "(Any matrices A and B are fixed n by n matrices.) <br> \n",
    "(a) $T(X) = X^T$ <br>\n",
    "(b) $T(X) = X^TX$ <br>\n",
    "(c) $T(X) = A.*X$ <br>\n",
    "(d) $T(X) = BXA^T$ <br>\n",
    "(e) $T(X) = AXA$"
   ]
  },
  {
   "cell_type": "markdown",
   "metadata": {},
   "source": [
    "(8) Suppose for polynomials of the form $P(x) = a+bx+cx^2 +dx^3$, we say that $P_1 \\perp P_2$ when\n",
    "    $\\int_0^1 P_1(t) P_2(t) dt$ =0. (a) Explain why this is a natural genaralization of dot product.\n",
    "    (b) Describe the polynomials that are orthogonal to the constants $P(x)=a$. (c) What is the dimensionality\n",
    "    of the set of functions of the form a+bx+cx^2 that are orthogonal to the constants."
   ]
  },
  {
   "cell_type": "markdown",
   "metadata": {},
   "source": [
    "(9) Consider the graph and associated matrix from Strang's book p.453.  You will not need to own the book, nor be familiar with circuits to do this problem.\n",
    "![graph](graph.png)"
   ]
  },
  {
   "cell_type": "markdown",
   "metadata": {},
   "source": [
    "A graph is a collection of n vertices (called nodes) and m directed line segments called edges. The information in a graph can be tabulated in matrix form.  Row i of A corresponds to edge i, there is -1 in the outgoing vertex and a +1 for the incoming.  For example edge 6 goes from node 3 to node 4, so there is a -1 in the (6,3) entry and a +1 in the (6,4) entry.\n",
    "\n",
    "From a column viewpoint, column j has a +1 for all incoming edges, and a -1 for all outgoing edges.\n",
    "\n",
    "From an imformation view, there is no difference between the picture on the left, and the matrix A.\n",
    "\n",
    "\n",
    "Here is A in Julia, it's rank and rows 1,2,and 4."
   ]
  },
  {
   "cell_type": "code",
   "execution_count": 15,
   "metadata": {},
   "outputs": [
    {
     "data": {
      "text/plain": [
       "6×4 Array{Int64,2}:\n",
       " -1   1   0  0\n",
       " -1   0   1  0\n",
       "  0  -1   1  0\n",
       " -1   0   0  1\n",
       "  0  -1   0  1\n",
       "  0   0  -1  1"
      ]
     },
     "execution_count": 15,
     "metadata": {},
     "output_type": "execute_result"
    }
   ],
   "source": [
    "A = [-1  1  0 0\n",
    "     -1  0  1 0\n",
    "      0 -1  1 0\n",
    "     -1  0  0 1\n",
    "      0 -1  0 1\n",
    "      0  0 -1 1]"
   ]
  },
  {
   "cell_type": "code",
   "execution_count": 12,
   "metadata": {},
   "outputs": [
    {
     "data": {
      "text/plain": [
       "3"
      ]
     },
     "execution_count": 12,
     "metadata": {},
     "output_type": "execute_result"
    }
   ],
   "source": [
    "using LinearAlgebra\n",
    "rank(A)"
   ]
  },
  {
   "cell_type": "code",
   "execution_count": 13,
   "metadata": {},
   "outputs": [
    {
     "data": {
      "text/plain": [
       "3×4 Array{Int64,2}:\n",
       " -1  1  0  0\n",
       " -1  0  1  0\n",
       " -1  0  0  1"
      ]
     },
     "execution_count": 13,
     "metadata": {},
     "output_type": "execute_result"
    }
   ],
   "source": [
    "A[ [1,2,4], :]"
   ]
  },
  {
   "cell_type": "markdown",
   "metadata": {},
   "source": [
    "(A) Argue that the rows above are independent without a computer.   <br>\n",
    "(B) Find a nullspace vector for the matrix A and argue that the rank of A must therefore be 3."
   ]
  },
  {
   "cell_type": "markdown",
   "metadata": {},
   "source": [
    "(C) There are four conditions, one at each node, that one can check for a vector $b$  in $R^6$ to be in the left\n",
    "    nullspace. If you speak the language of electrical current, say something about current \"in\" and current \"out\" at each node if  $b$ is in the left-nullspace. Otherwise just write the four equations."
   ]
  },
  {
   "cell_type": "markdown",
   "metadata": {},
   "source": [
    "![loops](loops.png)"
   ]
  },
  {
   "cell_type": "markdown",
   "metadata": {},
   "source": [
    "A loop is defined as a path that traverses each node no more than once.  It can be encoded as vector of ±1 where +1 means the loop follows the edge in the direction of the arrow, and -1 is the opposite.  The three loops encoded as vectors appear above."
   ]
  },
  {
   "cell_type": "markdown",
   "metadata": {},
   "source": [
    "(D) These three vectors are a basis for the __(fill in the blank) __space of A."
   ]
  },
  {
   "cell_type": "markdown",
   "metadata": {},
   "source": [
    "(E) Use the result of (D) to find three conditions that are equivalent to the four conditions in (C).  (No worries if you haven't seen this before, but this is the rigorous approach\n",
    "to loop currents that you may have seen in a physics or EE class.  Loop currents are a basis\n",
    "for a fundamental space and therefore are more efficient than examining every node.)"
   ]
  },
  {
   "cell_type": "markdown",
   "metadata": {},
   "source": [
    "(F) Suppose v is in $R^4$, the result of $Av$ is physically known as the voltage drop vector.  Argue that all voltage drop vectors are orthogonal to the three loop vectors above."
   ]
  },
  {
   "cell_type": "markdown",
   "metadata": {},
   "source": [
    "(10) Draw your own (connected) graph with five or more nodes and enough loops, <br>\n",
    "(A) draw the \"A\" matrix with one +1 and one -1 in each row <br>\n",
    "(B) argue that the rank of A is n-1 <br>\n",
    "(C) investigate loop vectors, i think there should be m-r = m-(n-1) independent ones. Can you find a basis for the right fundamental subspace with m-(n-1) independent vectors?"
   ]
  },
  {
   "cell_type": "markdown",
   "metadata": {},
   "source": [
    "(Note: \"connected\" means that every node can get to every other node by following\n",
    "edges in the + or - direction)"
   ]
  },
  {
   "cell_type": "code",
   "execution_count": null,
   "metadata": {},
   "outputs": [],
   "source": []
  }
 ],
 "metadata": {
  "kernelspec": {
   "display_name": "Julia 1.0.0",
   "language": "julia",
   "name": "julia-1.0"
  },
  "language_info": {
   "file_extension": ".jl",
   "mimetype": "application/julia",
   "name": "julia",
   "version": "1.0.0"
  }
 },
 "nbformat": 4,
 "nbformat_minor": 2
}
