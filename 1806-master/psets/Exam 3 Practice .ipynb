{
 "cells": [
  {
   "cell_type": "markdown",
   "metadata": {},
   "source": [
    "Exam 3 practice\n",
    "\n",
    "Do go over homeworks and notes as well.\n",
    "\n",
    "We will perform Julia computations for you.  You will not need the computer to solve any problems. "
   ]
  },
  {
   "cell_type": "markdown",
   "metadata": {},
   "source": [
    "(1) Let $E_n$ by the symmetric tridiagonal ones matrix.  For example"
   ]
  },
  {
   "cell_type": "code",
   "execution_count": 15,
   "metadata": {},
   "outputs": [
    {
     "data": {
      "text/plain": [
       "7×7 Array{Float64,2}:\n",
       "  1.0   0.0  -1.0   1.0   0.0  -1.0   1.0\n",
       "  0.0   0.0   1.0  -1.0   0.0   1.0  -1.0\n",
       " -1.0   1.0   0.0   0.0   0.0   0.0   0.0\n",
       "  1.0  -1.0   0.0   1.0   0.0  -1.0   1.0\n",
       "  0.0   0.0   0.0   0.0   0.0   1.0  -1.0\n",
       " -1.0   1.0   0.0  -1.0   1.0   0.0   0.0\n",
       "  1.0  -1.0   0.0   1.0  -1.0   0.0   1.0"
      ]
     },
     "execution_count": 15,
     "metadata": {},
     "output_type": "execute_result"
    }
   ],
   "source": [
    "using LinearAlgebra\n",
    "E(n) = SymTridiagonal(ones(Int,n),ones(Int,n-1),ones(Int,n-1))\n",
    "\n",
    "E(n) = Tridiagonal(ones(Int,n-1),ones(Int,n),ones(Int,n-1))\n",
    "inv(E(7))"
   ]
  },
  {
   "cell_type": "code",
   "execution_count": 2,
   "metadata": {},
   "outputs": [
    {
     "data": {
      "text/plain": [
       "9×9 Array{Float64,2}:\n",
       " NaN  NaN  NaN  NaN  NaN  NaN  NaN  NaN  NaN\n",
       " NaN  NaN  NaN  NaN  NaN  NaN  NaN  NaN  NaN\n",
       " NaN  NaN  NaN  NaN  NaN  NaN  NaN  NaN  NaN\n",
       " NaN  NaN  NaN  NaN  NaN  NaN  NaN  NaN  NaN\n",
       " NaN  NaN  NaN  NaN  NaN  NaN  NaN  NaN  NaN\n",
       " NaN  NaN  NaN  NaN  NaN  NaN  NaN  NaN  NaN\n",
       " NaN  NaN  NaN  NaN  NaN  NaN  NaN  NaN  NaN\n",
       " NaN  NaN  NaN  NaN  NaN  NaN  NaN  NaN  NaN\n",
       " NaN  NaN  NaN  NaN  NaN  NaN  NaN  NaN  NaN"
      ]
     },
     "execution_count": 2,
     "metadata": {},
     "output_type": "execute_result"
    }
   ],
   "source": [
    "E(9)^(-1)"
   ]
  },
  {
   "cell_type": "markdown",
   "metadata": {},
   "source": [
    "(1a) When n=5, column 1 plus column 4 is the \"ones\" vector.  Find two other columns that add to the ones vector.\n",
    "What is the determinant of $E_5$? and provide one  eigenvalue and corresponding eigenvector of $E_5$."
   ]
  },
  {
   "cell_type": "markdown",
   "metadata": {},
   "source": [
    "(1b) Is $E_5$ diagonalizible?  Why or why not?"
   ]
  },
  {
   "cell_type": "markdown",
   "metadata": {},
   "source": [
    "(1c) Is the cofactor matrix of $E_n$ symmetric for all n?  Why or why not?"
   ]
  },
  {
   "cell_type": "code",
   "execution_count": 4,
   "metadata": {},
   "outputs": [
    {
     "data": {
      "text/plain": [
       "6×6 SymTridiagonal{Int64,Array{Int64,1}}:\n",
       " 1  1  ⋅  ⋅  ⋅  ⋅\n",
       " 1  1  1  ⋅  ⋅  ⋅\n",
       " ⋅  1  1  1  ⋅  ⋅\n",
       " ⋅  ⋅  1  1  1  ⋅\n",
       " ⋅  ⋅  ⋅  1  1  1\n",
       " ⋅  ⋅  ⋅  ⋅  1  1"
      ]
     },
     "execution_count": 4,
     "metadata": {},
     "output_type": "execute_result"
    }
   ],
   "source": [
    "E(6)"
   ]
  },
  {
   "cell_type": "markdown",
   "metadata": {},
   "source": [
    "(1d) What is the determinant of $E_6$? What is the volume of the image of the unit cube: <br>\n",
    "    $\\{ E_6x, x\\in R^6,  0 \\le x_i \\le 1 \\}$"
   ]
  },
  {
   "cell_type": "code",
   "execution_count": 2,
   "metadata": {},
   "outputs": [
    {
     "data": {
      "text/plain": [
       "8×8 SymTridiagonal{Int64,Array{Int64,1}}:\n",
       " 1  1  ⋅  ⋅  ⋅  ⋅  ⋅  ⋅\n",
       " 1  1  1  ⋅  ⋅  ⋅  ⋅  ⋅\n",
       " ⋅  1  1  1  ⋅  ⋅  ⋅  ⋅\n",
       " ⋅  ⋅  1  1  1  ⋅  ⋅  ⋅\n",
       " ⋅  ⋅  ⋅  1  1  1  ⋅  ⋅\n",
       " ⋅  ⋅  ⋅  ⋅  1  1  1  ⋅\n",
       " ⋅  ⋅  ⋅  ⋅  ⋅  1  1  1\n",
       " ⋅  ⋅  ⋅  ⋅  ⋅  ⋅  1  1"
      ]
     },
     "execution_count": 2,
     "metadata": {},
     "output_type": "execute_result"
    }
   ],
   "source": [
    "E(8)"
   ]
  },
  {
   "cell_type": "markdown",
   "metadata": {},
   "source": [
    "(1e) It turns out that for $n=2,5,8,11,14$ $E_n$ is singular.  Find an eigenvector of $E_n$ for all such $n$."
   ]
  },
  {
   "cell_type": "markdown",
   "metadata": {},
   "source": [
    "(1f) What is the sum of the eigenvalues of $E_n$ for all n?"
   ]
  },
  {
   "cell_type": "markdown",
   "metadata": {},
   "source": [
    "When n=7, we can compute $E_n^2$:"
   ]
  },
  {
   "cell_type": "code",
   "execution_count": 5,
   "metadata": {},
   "outputs": [
    {
     "data": {
      "text/plain": [
       "7×7 Array{Int64,2}:\n",
       " 2  2  1  0  0  0  0\n",
       " 2  3  2  1  0  0  0\n",
       " 1  2  3  2  1  0  0\n",
       " 0  1  2  3  2  1  0\n",
       " 0  0  1  2  3  2  1\n",
       " 0  0  0  1  2  3  2\n",
       " 0  0  0  0  1  2  2"
      ]
     },
     "execution_count": 5,
     "metadata": {},
     "output_type": "execute_result"
    }
   ],
   "source": [
    "E(7)^2"
   ]
  },
  {
   "cell_type": "markdown",
   "metadata": {},
   "source": [
    "(1g) What is the sum of the squares of the eigenvalues of $E_8$? Generalize for all n. Explain."
   ]
  },
  {
   "cell_type": "code",
   "execution_count": 8,
   "metadata": {},
   "outputs": [
    {
     "data": {
      "text/plain": [
       "7×7 Array{Int64,2}:\n",
       "  1   0  -1   1   0  -1   1\n",
       "  0   0   1  -1   0   1  -1\n",
       " -1   1   0   0   0   0   0\n",
       "  1  -1   0   1   0  -1   1\n",
       "  0   0   0   0   0   1  -1\n",
       " -1   1   0  -1   1   0   0\n",
       "  1  -1   0   1  -1   0   1"
      ]
     },
     "execution_count": 8,
     "metadata": {},
     "output_type": "execute_result"
    }
   ],
   "source": [
    "inv(E(7))"
   ]
  },
  {
   "cell_type": "markdown",
   "metadata": {},
   "source": [
    "(1h) Use the above computation to say what is the sum of the reciprocals of the eigenvalues of $E_7$?"
   ]
  },
  {
   "cell_type": "markdown",
   "metadata": {},
   "source": [
    "(2a) What is the determinant of $A = \\left(\\begin{array}{rrrrr}1&0&0&0&0\\\\- a&1&0&0&0\\\\0&- b&1&0&0\\\\0&0&- c&1&0\\\\0&0&0&- d&1\\end{array}\\right)$?"
   ]
  },
  {
   "cell_type": "markdown",
   "metadata": {},
   "source": [
    "(2b) What are the eigenvalues of $A$?"
   ]
  },
  {
   "cell_type": "markdown",
   "metadata": {},
   "source": [
    "(2c) Give an example (by picking a,b,c,d) where $A$ is diagonalizible, and another example where it is not."
   ]
  },
  {
   "cell_type": "markdown",
   "metadata": {},
   "source": [
    "(2d) What is the first column of the inverse of $A$ using determinants and cofactors? (This question should not require much pencil and paper work.)"
   ]
  },
  {
   "cell_type": "markdown",
   "metadata": {},
   "source": [
    "(3) Let P be the permutation matrix\n",
    "$$ \\begin{pmatrix} . &1 & . & .\\\\ . & . & 1 & . \\\\ . & . &  . & 1 \\\\ 1 & . & . & .\\end{pmatrix}.$$"
   ]
  },
  {
   "cell_type": "markdown",
   "metadata": {},
   "source": [
    "(3a) What is $P^4$? "
   ]
  },
  {
   "cell_type": "markdown",
   "metadata": {},
   "source": [
    "(3b) It turns out $P$ has four distinct eigenvalues.  Use your answer to (3a) to say what they are. "
   ]
  },
  {
   "cell_type": "markdown",
   "metadata": {},
   "source": [
    "(3c) Does $P$ have four distinct singular values?"
   ]
  },
  {
   "cell_type": "markdown",
   "metadata": {},
   "source": [
    "(3d) Find an eigenvector of $P$."
   ]
  },
  {
   "cell_type": "markdown",
   "metadata": {},
   "source": [
    "(3e) Compute det(P$\\pm$I)"
   ]
  },
  {
   "cell_type": "markdown",
   "metadata": {},
   "source": [
    "(4) A matrix can be factored as $A=X\\Lambda X^{-1}$."
   ]
  },
  {
   "cell_type": "markdown",
   "metadata": {},
   "source": [
    "(4a) This matrix is i)definitely, ii)possibly, iii)definitely not invertible. (pick one)"
   ]
  },
  {
   "cell_type": "markdown",
   "metadata": {},
   "source": [
    "(4b) This matrix i)definitely ii)possible, iii) definitely not diagonalizible (pick one)"
   ]
  },
  {
   "cell_type": "markdown",
   "metadata": {},
   "source": [
    "(4c) Find an eigen factorization for $(A-I)(A-2I)$."
   ]
  },
  {
   "cell_type": "markdown",
   "metadata": {},
   "source": [
    "(4d) Find a factorization for  $(𝐴−\\lambda_1 I)\\ldots(𝐴−\\lambda_n𝐼)$ and then put this matrix in simplest form ."
   ]
  },
  {
   "cell_type": "markdown",
   "metadata": {},
   "source": [
    "(4e) Suppose the largest eigenvalue has absolute value less than 1.  Then the matrix\n",
    "$A-I$ is i) definitely ii) possibly iii)definitely not invetible. (pick one)"
   ]
  },
  {
   "cell_type": "markdown",
   "metadata": {},
   "source": [
    "(4f) Suppose the largest eigenvalue has absolute value exactly 1.  Then the matrix\n",
    "$A-I$ is i) definitely ii) possibly iii)definitely not invetible. (pick one)"
   ]
  },
  {
   "cell_type": "markdown",
   "metadata": {},
   "source": [
    "(5) The image of the unit cicle for a certain 2x2 symmetric matrix is an ellipse with semiaxes\n",
    " 1806 and 2019. What are all the possibilities for the eigenvalues of this matrix?"
   ]
  },
  {
   "cell_type": "markdown",
   "metadata": {},
   "source": [
    "(6) True or false.  A matrix with real eigenvalues and eigenvectors must be symmetric.  Explain?"
   ]
  },
  {
   "cell_type": "markdown",
   "metadata": {},
   "source": [
    "(7) A matrix is symmetric and orthogonal.  What are the possible eigenvalues?"
   ]
  },
  {
   "cell_type": "markdown",
   "metadata": {},
   "source": [
    "(8) A matrix is a projection matrix and orthogonal.  What are the possible matrices?"
   ]
  },
  {
   "cell_type": "markdown",
   "metadata": {},
   "source": [
    "(9) A matrix has all of its eigenvalues $0$.  The set of matrices similar is i)infinite ii)possibly finite iii)must be finite.  (Pick the best answer)"
   ]
  },
  {
   "cell_type": "markdown",
   "metadata": {},
   "source": [
    "(10) True or false.  The absolute value of the eigenvalues of a matrix $A$ always describe the semi-axes of\n",
    "the image of the unit ball under $A$."
   ]
  },
  {
   "cell_type": "markdown",
   "metadata": {},
   "source": [
    "(11) Suppose that all the nonzero eigenvalues of $A$ are distinct, and the dimension of the nullspace of $A$ is equal to the number of $0$ eigenvalues.  Why is $A$ diagonalizible?"
   ]
  },
  {
   "cell_type": "markdown",
   "metadata": {},
   "source": [
    "(12) A matrix has all eigenvalues real and negative.  What can you say about the matrix exp(At) as $t\\rightarrow \\infty$?"
   ]
  },
  {
   "cell_type": "code",
   "execution_count": null,
   "metadata": {},
   "outputs": [],
   "source": []
  }
 ],
 "metadata": {
  "@webio": {
   "lastCommId": null,
   "lastKernelId": null
  },
  "kernelspec": {
   "display_name": "Julia 1.1.0",
   "language": "julia",
   "name": "julia-1.1"
  },
  "language_info": {
   "file_extension": ".jl",
   "mimetype": "application/julia",
   "name": "julia",
   "version": "1.1.0"
  }
 },
 "nbformat": 4,
 "nbformat_minor": 2
}
