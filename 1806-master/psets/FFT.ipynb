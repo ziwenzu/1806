{
 "cells": [
  {
   "cell_type": "code",
   "execution_count": 1,
   "metadata": {},
   "outputs": [],
   "source": [
    "using FFTW"
   ]
  },
  {
   "cell_type": "code",
   "execution_count": 2,
   "metadata": {},
   "outputs": [
    {
     "data": {
      "text/html": [
       "<script>\n",
       "// Immediately-invoked-function-expression to avoid global variables.\n",
       "(function() {\n",
       "    var warning_div = document.getElementById(\"webio-warning-125552621390582523\");\n",
       "    var hide = function () {\n",
       "        var script = document.getElementById(\"webio-setup-4968591430157511980\");\n",
       "        var parent = script && script.parentElement;\n",
       "        var grandparent = parent && parent.parentElement;\n",
       "        if (grandparent) {\n",
       "            grandparent.style.display = \"none\";\n",
       "        }\n",
       "        warning_div.style.display = \"none\";\n",
       "    };\n",
       "    if (typeof Jupyter !== \"undefined\") {\n",
       "        console.log(\"WebIO detected Jupyter notebook environment.\");\n",
       "        // Jupyter notebook.\n",
       "        var extensions = (\n",
       "            Jupyter\n",
       "            && Jupyter.notebook.config.data\n",
       "            && Jupyter.notebook.config.data.load_extensions\n",
       "        );\n",
       "        if (extensions && extensions[\"webio/main\"]) {\n",
       "            // Extension already loaded.\n",
       "            console.log(\"Jupyter WebIO nbextension detected; not loading ad-hoc.\");\n",
       "            hide();\n",
       "            return;\n",
       "        }\n",
       "        console.warn(\"Loading WebIO Jupyter extension on an ad-hoc basis. Consider enabling the WebIO nbextension for a stabler experience (this should happen automatically when building WebIO).\");\n",
       "        require([\"/assetserver/fbbf91fe0559653da977c92eeedfcda7e3bdcf8c-dist/main.js\"], function (webIOModule) {\n",
       "            webIOModule.load_ipython_extension();\n",
       "        });\n",
       "        warning_div.innerHTML = \"<strong>Loading WebIO Jupyter extension on an ad-hoc basis. Consider enabling the WebIO nbextension for a stabler experience (this should happen automatically when building WebIO).</strong>\";\n",
       "    } else if (window.location.pathname.includes(\"/lab\")) {\n",
       "        // Guessing JupyterLa\n",
       "        console.log(\"Jupyter Lab detected; make sure the @webio/jupyter-lab-provider labextension is installed.\");\n",
       "        hide();\n",
       "        return;\n",
       "    }\n",
       "})();\n",
       "\n",
       "</script>\n",
       "<div\n",
       "    id=\"webio-warning-125552621390582523\"\n",
       "    class=\"output_text output_stderr\"\n",
       "    style=\"padding: 1em; font-weight: bold;\"\n",
       ">\n",
       "    Unable to load WebIO. Please make sure WebIO works for your Jupyter client.\n",
       "    <!-- TODO: link to installation docs. -->\n",
       "</div>\n"
      ],
      "text/plain": [
       "HTML{String}(\"<script>\\n// Immediately-invoked-function-expression to avoid global variables.\\n(function() {\\n    var warning_div = document.getElementById(\\\"webio-warning-125552621390582523\\\");\\n    var hide = function () {\\n        var script = document.getElementById(\\\"webio-setup-4968591430157511980\\\");\\n        var parent = script && script.parentElement;\\n        var grandparent = parent && parent.parentElement;\\n        if (grandparent) {\\n            grandparent.style.display = \\\"none\\\";\\n        }\\n        warning_div.style.display = \\\"none\\\";\\n    };\\n    if (typeof Jupyter !== \\\"undefined\\\") {\\n        console.log(\\\"WebIO detected Jupyter notebook environment.\\\");\\n        // Jupyter notebook.\\n        var extensions = (\\n            Jupyter\\n            && Jupyter.notebook.config.data\\n            && Jupyter.notebook.config.data.load_extensions\\n        );\\n        if (extensions && extensions[\\\"webio/main\\\"]) {\\n            // Extension already loaded.\\n            console.log(\\\"Jupyter WebIO nbextension detected; not loading ad-hoc.\\\");\\n            hide();\\n            return;\\n        }\\n        console.warn(\\\"Loading WebIO Jupyter extension on an ad-hoc basis. Consider enabling the WebIO nbextension for a stabler experience (this should happen automatically when building WebIO).\\\");\\n        require([\\\"/assetserver/fbbf91fe0559653da977c92eeedfcda7e3bdcf8c-dist/main.js\\\"], function (webIOModule) {\\n            webIOModule.load_ipython_extension();\\n        });\\n        warning_div.innerHTML = \\\"<strong>Loading WebIO Jupyter extension on an ad-hoc basis. Consider enabling the WebIO nbextension for a stabler experience (this should happen automatically when building WebIO).</strong>\\\";\\n    } else if (window.location.pathname.includes(\\\"/lab\\\")) {\\n        // Guessing JupyterLa\\n        console.log(\\\"Jupyter Lab detected; make sure the @webio/jupyter-lab-provider labextension is installed.\\\");\\n        hide();\\n        return;\\n    }\\n})();\\n\\n</script>\\n<div\\n    id=\\\"webio-warning-125552621390582523\\\"\\n    class=\\\"output_text output_stderr\\\"\\n    style=\\\"padding: 1em; font-weight: bold;\\\"\\n>\\n    Unable to load WebIO. Please make sure WebIO works for your Jupyter client.\\n    <!-- TODO: link to installation docs. -->\\n</div>\\n\")"
      ]
     },
     "metadata": {},
     "output_type": "display_data"
    }
   ],
   "source": [
    "using Interact"
   ]
  },
  {
   "cell_type": "code",
   "execution_count": 6,
   "metadata": {},
   "outputs": [],
   "source": [
    "using LinearAlgebra"
   ]
  },
  {
   "cell_type": "code",
   "execution_count": 10,
   "metadata": {},
   "outputs": [],
   "source": [
    "using Plots"
   ]
  },
  {
   "cell_type": "markdown",
   "metadata": {},
   "source": [
    "# The Fast Fourier Transform (FFT)"
   ]
  },
  {
   "cell_type": "markdown",
   "metadata": {},
   "source": [
    "The Fourier Transform in some form or another, shows up everywhere -- in continuous math, discrete math, everywhere."
   ]
  },
  {
   "cell_type": "markdown",
   "metadata": {},
   "source": [
    "## Discrete Fourier Transform"
   ]
  },
  {
   "cell_type": "markdown",
   "metadata": {},
   "source": [
    "With matrices:\n",
    "\n",
    "$n \\times n$ Fourier matrix: \n",
    "\n",
    "$$F_n = [e^{-2\\pi i j k/n}]_{0 \\le j < n, 0 \\le k < n}$$"
   ]
  },
  {
   "cell_type": "markdown",
   "metadata": {},
   "source": [
    "$$F_2 = \\begin{bmatrix} 1 & 1 \\\\ 1 & -1 \\end{bmatrix}$$"
   ]
  },
  {
   "cell_type": "markdown",
   "metadata": {},
   "source": [
    "Fourier transform: Given data $x \\in \\mathbf{C}^n$, $y = F_n x$ is the Fourier transform. Of course, it is not done this way! The matrix has a lot of structure and can be done in $n \\log_2 n$ steps."
   ]
  },
  {
   "cell_type": "code",
   "execution_count": 3,
   "metadata": {},
   "outputs": [
    {
     "data": {
      "text/plain": [
       "4×4 Array{Complex{Float64},2}:\n",
       " 1.0-0.0im   1.0-0.0im   1.0-0.0im   1.0-0.0im\n",
       " 1.0-0.0im   0.0-1.0im  -1.0-0.0im  -0.0+1.0im\n",
       " 1.0-0.0im  -1.0-0.0im   1.0+0.0im  -1.0-0.0im\n",
       " 1.0-0.0im  -0.0+1.0im  -1.0-0.0im   0.0-1.0im"
      ]
     },
     "execution_count": 3,
     "metadata": {},
     "output_type": "execute_result"
    }
   ],
   "source": [
    "n = 4; round.([exp(-2π * im * j * k / n) for j=0:3, k=0:3])"
   ]
  },
  {
   "cell_type": "code",
   "execution_count": 4,
   "metadata": {},
   "outputs": [
    {
     "data": {
      "text/plain": [
       "F (generic function with 1 method)"
      ]
     },
     "execution_count": 4,
     "metadata": {},
     "output_type": "execute_result"
    }
   ],
   "source": [
    "F(n) = fft(Matrix(I,n,n), 1)"
   ]
  },
  {
   "cell_type": "code",
   "execution_count": 7,
   "metadata": {},
   "outputs": [
    {
     "data": {
      "application/vnd.webio.node+json": {
       "children": [
        {
         "children": [
          {
           "children": [
            {
             "children": [
              {
               "children": [
                {
                 "children": [
                  "n"
                 ],
                 "instanceArgs": {
                  "namespace": "html",
                  "tag": "label"
                 },
                 "nodeType": "DOM",
                 "props": {
                  "className": "interact ",
                  "style": {
                   "padding": "5px 10px 0px 10px"
                  }
                 },
                 "type": "node"
                }
               ],
               "instanceArgs": {
                "namespace": "html",
                "tag": "div"
               },
               "nodeType": "DOM",
               "props": {
                "className": "interact-flex-row-left"
               },
               "type": "node"
              },
              {
               "children": [
                {
                 "children": [],
                 "instanceArgs": {
                  "namespace": "html",
                  "tag": "input"
                 },
                 "nodeType": "DOM",
                 "props": {
                  "attributes": {
                   "data-bind": "numericValue: index, valueUpdate: 'input', event: {change: function (){this.changes(this.changes()+1)}}",
                   "orient": "horizontal",
                   "type": "range"
                  },
                  "className": "slider slider is-fullwidth",
                  "max": 10,
                  "min": 1,
                  "step": 1,
                  "style": {}
                 },
                 "type": "node"
                }
               ],
               "instanceArgs": {
                "namespace": "html",
                "tag": "div"
               },
               "nodeType": "DOM",
               "props": {
                "className": "interact-flex-row-center"
               },
               "type": "node"
              },
              {
               "children": [
                {
                 "children": [],
                 "instanceArgs": {
                  "namespace": "html",
                  "tag": "p"
                 },
                 "nodeType": "DOM",
                 "props": {
                  "attributes": {
                   "data-bind": "text: formatted_val"
                  }
                 },
                 "type": "node"
                }
               ],
               "instanceArgs": {
                "namespace": "html",
                "tag": "div"
               },
               "nodeType": "DOM",
               "props": {
                "className": "interact-flex-row-right"
               },
               "type": "node"
              }
             ],
             "instanceArgs": {
              "namespace": "html",
              "tag": "div"
             },
             "nodeType": "DOM",
             "props": {
              "className": "interact-flex-row interact-widget"
             },
             "type": "node"
            }
           ],
           "instanceArgs": {
            "handlers": {
             "changes": [
              "(function (val){return (val!=this.model[\"changes\"]()) ? (this.valueFromJulia[\"changes\"]=true, this.model[\"changes\"](val)) : undefined})"
             ],
             "index": [
              "(function (val){return (val!=this.model[\"index\"]()) ? (this.valueFromJulia[\"index\"]=true, this.model[\"index\"](val)) : undefined})"
             ]
            },
            "id": "knockout-component-11de6504-cee0-4713-ae30-919d9604339a",
            "imports": {
             "data": [
              {
               "name": "knockout",
               "type": "js",
               "url": "/assetserver/a8d465714ca0b50fcacaa7d87d7fe7277251eb7a-knockout.js"
              },
              {
               "name": "knockout_punches",
               "type": "js",
               "url": "/assetserver/fadafe50514ba2741549559683e093f56983d17e-knockout_punches.js"
              },
              {
               "name": null,
               "type": "js",
               "url": "/assetserver/63630a7ccdf5bd5d44a8feb7a4d460731215c312-all.js"
              },
              {
               "name": null,
               "type": "css",
               "url": "/assetserver/80b07db3456327364d1ddf7241edced2116b96b7-style.css"
              },
              {
               "name": null,
               "type": "css",
               "url": "/assetserver/f6aed912610be690301640e34f5afbde68442a99-bulma_confined.min.css"
              }
             ],
             "type": "async_block"
            },
            "mount_callbacks": [
             "function () {\n    var handler = (function (ko, koPunches) {\n    ko.punches.enableAll();\n    ko.bindingHandlers.numericValue = {\n        init : function(element, valueAccessor, allBindings, data, context) {\n            var stringified = ko.observable(ko.unwrap(valueAccessor()));\n            stringified.subscribe(function(value) {\n                var val = parseFloat(value);\n                if (!isNaN(val)) {\n                    valueAccessor()(val);\n                }\n            })\n            valueAccessor().subscribe(function(value) {\n                var str = JSON.stringify(value);\n                if ((str == \"0\") && ([\"-0\", \"-0.\"].indexOf(stringified()) >= 0))\n                     return;\n                 if ([\"null\", \"\"].indexOf(str) >= 0)\n                     return;\n                stringified(str);\n            })\n            ko.applyBindingsToNode(element, { value: stringified, valueUpdate: allBindings.get('valueUpdate')}, context);\n        }\n    };\n    var json_data = {\"formatted_vals\":[\"1\",\"2\",\"3\",\"4\",\"5\",\"6\",\"7\",\"8\",\"9\",\"10\"],\"changes\":WebIO.getval({\"name\":\"changes\",\"scope\":\"knockout-component-11de6504-cee0-4713-ae30-919d9604339a\",\"id\":\"ob_04\",\"type\":\"observable\"}),\"index\":WebIO.getval({\"name\":\"index\",\"scope\":\"knockout-component-11de6504-cee0-4713-ae30-919d9604339a\",\"id\":\"ob_03\",\"type\":\"observable\"})};\n    var self = this;\n    function AppViewModel() {\n        for (var key in json_data) {\n            var el = json_data[key];\n            this[key] = Array.isArray(el) ? ko.observableArray(el) : ko.observable(el);\n        }\n        \n        [this[\"formatted_val\"]=ko.computed(    function(){\n        return this.formatted_vals()[parseInt(this.index())-1];\n    }\n,this)]\n        [this[\"changes\"].subscribe((function (val){!(this.valueFromJulia[\"changes\"]) ? (WebIO.setval({\"name\":\"changes\",\"scope\":\"knockout-component-11de6504-cee0-4713-ae30-919d9604339a\",\"id\":\"ob_04\",\"type\":\"observable\"},val)) : undefined; return this.valueFromJulia[\"changes\"]=false}),self),this[\"index\"].subscribe((function (val){!(this.valueFromJulia[\"index\"]) ? (WebIO.setval({\"name\":\"index\",\"scope\":\"knockout-component-11de6504-cee0-4713-ae30-919d9604339a\",\"id\":\"ob_03\",\"type\":\"observable\"},val)) : undefined; return this.valueFromJulia[\"index\"]=false}),self)]\n        \n    }\n    self.model = new AppViewModel();\n    self.valueFromJulia = {};\n    for (var key in json_data) {\n        self.valueFromJulia[key] = false;\n    }\n    ko.applyBindings(self.model, self.dom);\n}\n);\n    (WebIO.importBlock({\"data\":[{\"name\":\"knockout\",\"type\":\"js\",\"url\":\"/assetserver/a8d465714ca0b50fcacaa7d87d7fe7277251eb7a-knockout.js\"},{\"name\":\"knockout_punches\",\"type\":\"js\",\"url\":\"/assetserver/fadafe50514ba2741549559683e093f56983d17e-knockout_punches.js\"}],\"type\":\"async_block\"})).then((imports) => handler.apply(this, imports));\n}\n"
            ],
            "observables": {
             "changes": {
              "id": "ob_04",
              "sync": false,
              "value": 0
             },
             "index": {
              "id": "ob_03",
              "sync": true,
              "value": 5
             }
            },
            "systemjs_options": null
           },
           "nodeType": "Scope",
           "props": {},
           "type": "node"
          }
         ],
         "instanceArgs": {
          "namespace": "html",
          "tag": "div"
         },
         "nodeType": "DOM",
         "props": {
          "className": "field interact-widget"
         },
         "type": "node"
        },
        {
         "children": [
          {
           "children": [],
           "instanceArgs": {
            "id": "ob_10",
            "name": "obs-node"
           },
           "nodeType": "ObservableNode",
           "props": {},
           "type": "node"
          }
         ],
         "instanceArgs": {
          "handlers": {},
          "id": "scope-6e6c50b8-b2c7-4c40-b4bd-218d44375cdd",
          "imports": {
           "data": [],
           "type": "async_block"
          },
          "mount_callbacks": [],
          "observables": {
           "obs-node": {
            "id": "ob_10",
            "sync": false,
            "value": {
             "children": [
              {
               "children": [],
               "instanceArgs": {
                "namespace": "html",
                "tag": "div"
               },
               "nodeType": "DOM",
               "props": {
                "setInnerHtml": "<pre>5×5 Array{Complex{Float64},2}:\n 1.0+0.0im        1.0+0.0im             1.0+0.0im             1.0+0.0im             1.0+0.0im     \n 1.0+0.0im   0.309017-0.951057im  -0.809017-0.587785im  -0.809017+0.587785im   0.309017+0.951057im\n 1.0+0.0im  -0.809017-0.587785im   0.309017+0.951057im   0.309017-0.951057im  -0.809017+0.587785im\n 1.0+0.0im  -0.809017+0.587785im   0.309017-0.951057im   0.309017+0.951057im  -0.809017-0.587785im\n 1.0+0.0im   0.309017+0.951057im  -0.809017+0.587785im  -0.809017-0.587785im   0.309017-0.951057im</pre>"
               },
               "type": "node"
              }
             ],
             "instanceArgs": {
              "namespace": "html",
              "tag": "div"
             },
             "nodeType": "DOM",
             "props": {
              "className": "interact-flex-row interact-widget"
             },
             "type": "node"
            }
           }
          },
          "systemjs_options": null
         },
         "nodeType": "Scope",
         "props": {},
         "type": "node"
        }
       ],
       "instanceArgs": {
        "namespace": "html",
        "tag": "div"
       },
       "nodeType": "DOM",
       "props": {},
       "type": "node"
      },
      "text/html": [
       "<div\n",
       "    class=\"webio-mountpoint\"\n",
       "    data-webio-mountpoint=\"3617271902266964235\"\n",
       ">\n",
       "    <script>\n",
       "    if (window.require && require.defined && require.defined(\"nbextensions/webio/main\")) {\n",
       "        console.log(\"Jupyter WebIO extension detected, not mounting.\");\n",
       "    } else if (window.WebIO) {\n",
       "        WebIO.mount(\n",
       "            document.querySelector('[data-webio-mountpoint=\"3617271902266964235\"]'),\n",
       "            {\"props\":{},\"nodeType\":\"DOM\",\"type\":\"node\",\"instanceArgs\":{\"namespace\":\"html\",\"tag\":\"div\"},\"children\":[{\"props\":{\"className\":\"field interact-widget\"},\"nodeType\":\"DOM\",\"type\":\"node\",\"instanceArgs\":{\"namespace\":\"html\",\"tag\":\"div\"},\"children\":[{\"props\":{},\"nodeType\":\"Scope\",\"type\":\"node\",\"instanceArgs\":{\"imports\":{\"data\":[{\"name\":\"knockout\",\"type\":\"js\",\"url\":\"\\/assetserver\\/a8d465714ca0b50fcacaa7d87d7fe7277251eb7a-knockout.js\"},{\"name\":\"knockout_punches\",\"type\":\"js\",\"url\":\"\\/assetserver\\/fadafe50514ba2741549559683e093f56983d17e-knockout_punches.js\"},{\"name\":null,\"type\":\"js\",\"url\":\"\\/assetserver\\/63630a7ccdf5bd5d44a8feb7a4d460731215c312-all.js\"},{\"name\":null,\"type\":\"css\",\"url\":\"\\/assetserver\\/80b07db3456327364d1ddf7241edced2116b96b7-style.css\"},{\"name\":null,\"type\":\"css\",\"url\":\"\\/assetserver\\/f6aed912610be690301640e34f5afbde68442a99-bulma_confined.min.css\"}],\"type\":\"async_block\"},\"id\":\"knockout-component-11de6504-cee0-4713-ae30-919d9604339a\",\"handlers\":{\"changes\":[\"(function (val){return (val!=this.model[\\\"changes\\\"]()) ? (this.valueFromJulia[\\\"changes\\\"]=true, this.model[\\\"changes\\\"](val)) : undefined})\"],\"index\":[\"(function (val){return (val!=this.model[\\\"index\\\"]()) ? (this.valueFromJulia[\\\"index\\\"]=true, this.model[\\\"index\\\"](val)) : undefined})\"]},\"systemjs_options\":null,\"mount_callbacks\":[\"function () {\\n    var handler = (function (ko, koPunches) {\\n    ko.punches.enableAll();\\n    ko.bindingHandlers.numericValue = {\\n        init : function(element, valueAccessor, allBindings, data, context) {\\n            var stringified = ko.observable(ko.unwrap(valueAccessor()));\\n            stringified.subscribe(function(value) {\\n                var val = parseFloat(value);\\n                if (!isNaN(val)) {\\n                    valueAccessor()(val);\\n                }\\n            })\\n            valueAccessor().subscribe(function(value) {\\n                var str = JSON.stringify(value);\\n                if ((str == \\\"0\\\") && ([\\\"-0\\\", \\\"-0.\\\"].indexOf(stringified()) >= 0))\\n                     return;\\n                 if ([\\\"null\\\", \\\"\\\"].indexOf(str) >= 0)\\n                     return;\\n                stringified(str);\\n            })\\n            ko.applyBindingsToNode(element, { value: stringified, valueUpdate: allBindings.get('valueUpdate')}, context);\\n        }\\n    };\\n    var json_data = {\\\"formatted_vals\\\":[\\\"1\\\",\\\"2\\\",\\\"3\\\",\\\"4\\\",\\\"5\\\",\\\"6\\\",\\\"7\\\",\\\"8\\\",\\\"9\\\",\\\"10\\\"],\\\"changes\\\":WebIO.getval({\\\"name\\\":\\\"changes\\\",\\\"scope\\\":\\\"knockout-component-11de6504-cee0-4713-ae30-919d9604339a\\\",\\\"id\\\":\\\"ob_04\\\",\\\"type\\\":\\\"observable\\\"}),\\\"index\\\":WebIO.getval({\\\"name\\\":\\\"index\\\",\\\"scope\\\":\\\"knockout-component-11de6504-cee0-4713-ae30-919d9604339a\\\",\\\"id\\\":\\\"ob_03\\\",\\\"type\\\":\\\"observable\\\"})};\\n    var self = this;\\n    function AppViewModel() {\\n        for (var key in json_data) {\\n            var el = json_data[key];\\n            this[key] = Array.isArray(el) ? ko.observableArray(el) : ko.observable(el);\\n        }\\n        \\n        [this[\\\"formatted_val\\\"]=ko.computed(    function(){\\n        return this.formatted_vals()[parseInt(this.index())-1];\\n    }\\n,this)]\\n        [this[\\\"changes\\\"].subscribe((function (val){!(this.valueFromJulia[\\\"changes\\\"]) ? (WebIO.setval({\\\"name\\\":\\\"changes\\\",\\\"scope\\\":\\\"knockout-component-11de6504-cee0-4713-ae30-919d9604339a\\\",\\\"id\\\":\\\"ob_04\\\",\\\"type\\\":\\\"observable\\\"},val)) : undefined; return this.valueFromJulia[\\\"changes\\\"]=false}),self),this[\\\"index\\\"].subscribe((function (val){!(this.valueFromJulia[\\\"index\\\"]) ? (WebIO.setval({\\\"name\\\":\\\"index\\\",\\\"scope\\\":\\\"knockout-component-11de6504-cee0-4713-ae30-919d9604339a\\\",\\\"id\\\":\\\"ob_03\\\",\\\"type\\\":\\\"observable\\\"},val)) : undefined; return this.valueFromJulia[\\\"index\\\"]=false}),self)]\\n        \\n    }\\n    self.model = new AppViewModel();\\n    self.valueFromJulia = {};\\n    for (var key in json_data) {\\n        self.valueFromJulia[key] = false;\\n    }\\n    ko.applyBindings(self.model, self.dom);\\n}\\n);\\n    (WebIO.importBlock({\\\"data\\\":[{\\\"name\\\":\\\"knockout\\\",\\\"type\\\":\\\"js\\\",\\\"url\\\":\\\"\\/assetserver\\/a8d465714ca0b50fcacaa7d87d7fe7277251eb7a-knockout.js\\\"},{\\\"name\\\":\\\"knockout_punches\\\",\\\"type\\\":\\\"js\\\",\\\"url\\\":\\\"\\/assetserver\\/fadafe50514ba2741549559683e093f56983d17e-knockout_punches.js\\\"}],\\\"type\\\":\\\"async_block\\\"})).then((imports) => handler.apply(this, imports));\\n}\\n\"],\"observables\":{\"changes\":{\"sync\":false,\"id\":\"ob_04\",\"value\":0},\"index\":{\"sync\":true,\"id\":\"ob_03\",\"value\":5}}},\"children\":[{\"props\":{\"className\":\"interact-flex-row interact-widget\"},\"nodeType\":\"DOM\",\"type\":\"node\",\"instanceArgs\":{\"namespace\":\"html\",\"tag\":\"div\"},\"children\":[{\"props\":{\"className\":\"interact-flex-row-left\"},\"nodeType\":\"DOM\",\"type\":\"node\",\"instanceArgs\":{\"namespace\":\"html\",\"tag\":\"div\"},\"children\":[{\"props\":{\"className\":\"interact \",\"style\":{\"padding\":\"5px 10px 0px 10px\"}},\"nodeType\":\"DOM\",\"type\":\"node\",\"instanceArgs\":{\"namespace\":\"html\",\"tag\":\"label\"},\"children\":[\"n\"]}]},{\"props\":{\"className\":\"interact-flex-row-center\"},\"nodeType\":\"DOM\",\"type\":\"node\",\"instanceArgs\":{\"namespace\":\"html\",\"tag\":\"div\"},\"children\":[{\"props\":{\"max\":10,\"min\":1,\"attributes\":{\"type\":\"range\",\"data-bind\":\"numericValue: index, valueUpdate: 'input', event: {change: function (){this.changes(this.changes()+1)}}\",\"orient\":\"horizontal\"},\"step\":1,\"className\":\"slider slider is-fullwidth\",\"style\":{}},\"nodeType\":\"DOM\",\"type\":\"node\",\"instanceArgs\":{\"namespace\":\"html\",\"tag\":\"input\"},\"children\":[]}]},{\"props\":{\"className\":\"interact-flex-row-right\"},\"nodeType\":\"DOM\",\"type\":\"node\",\"instanceArgs\":{\"namespace\":\"html\",\"tag\":\"div\"},\"children\":[{\"props\":{\"attributes\":{\"data-bind\":\"text: formatted_val\"}},\"nodeType\":\"DOM\",\"type\":\"node\",\"instanceArgs\":{\"namespace\":\"html\",\"tag\":\"p\"},\"children\":[]}]}]}]}]},{\"props\":{},\"nodeType\":\"Scope\",\"type\":\"node\",\"instanceArgs\":{\"imports\":{\"data\":[],\"type\":\"async_block\"},\"id\":\"scope-a97073be-e41d-4d18-90b4-0d9cc9203a31\",\"handlers\":{},\"systemjs_options\":null,\"mount_callbacks\":[],\"observables\":{\"obs-node\":{\"sync\":false,\"id\":\"ob_08\",\"value\":{\"props\":{\"className\":\"interact-flex-row interact-widget\"},\"nodeType\":\"DOM\",\"type\":\"node\",\"instanceArgs\":{\"namespace\":\"html\",\"tag\":\"div\"},\"children\":[{\"props\":{\"setInnerHtml\":\"<pre>5×5 Array{Complex{Float64},2}:\\n 1.0+0.0im        1.0+0.0im             1.0+0.0im             1.0+0.0im             1.0+0.0im     \\n 1.0+0.0im   0.309017-0.951057im  -0.809017-0.587785im  -0.809017+0.587785im   0.309017+0.951057im\\n 1.0+0.0im  -0.809017-0.587785im   0.309017+0.951057im   0.309017-0.951057im  -0.809017+0.587785im\\n 1.0+0.0im  -0.809017+0.587785im   0.309017-0.951057im   0.309017+0.951057im  -0.809017-0.587785im\\n 1.0+0.0im   0.309017+0.951057im  -0.809017+0.587785im  -0.809017-0.587785im   0.309017-0.951057im<\\/pre>\"},\"nodeType\":\"DOM\",\"type\":\"node\",\"instanceArgs\":{\"namespace\":\"html\",\"tag\":\"div\"},\"children\":[]}]}}}},\"children\":[{\"props\":{},\"nodeType\":\"ObservableNode\",\"type\":\"node\",\"instanceArgs\":{\"id\":\"ob_08\",\"name\":\"obs-node\"},\"children\":[]}]}]},\n",
       "            window,\n",
       "        );\n",
       "    } else {\n",
       "        document\n",
       "            .querySelector('[data-webio-mountpoint=\"3617271902266964235\"]')\n",
       "            .innerHTML = '<strong>WebIO not detected.</strong>';\n",
       "    }\n",
       "    </script>\n",
       "</div>\n"
      ],
      "text/plain": [
       "Node{WebIO.DOM}(WebIO.DOM(:html, :div), Any[Node{DOM}(DOM(:html, :div), Any[Scope(\"knockout-component-11de6504-cee0-4713-ae30-919d9604339a\", Node{DOM}(DOM(:html, :div), Any[Node{DOM}(DOM(:html, :div), Any[Node{DOM}(DOM(:html, :label), Any[\"n\"], Dict{Symbol,Any}(:className=>\"interact \",:style=>Dict{Any,Any}(:padding=>\"5px 10px 0px 10px\")), 1)], Dict{Symbol,Any}(:className=>\"interact-flex-row-left\"), 2), Node{DOM}(DOM(:html, :div), Any[Node{DOM}(DOM(:html, :input), Any[], Dict{Symbol,Any}(:max=>10,:min=>1,:attributes=>Dict{Any,Any}(:type=>\"range\",Symbol(\"data-bind\")=>\"numericValue: index, valueUpdate: 'input', event: {change: function (){this.changes(this.changes()+1)}}\",\"orient\"=>\"horizontal\"),:step=>1,:className=>\"slider slider is-fullwidth\",:style=>Dict{Any,Any}()), 0)], Dict{Symbol,Any}(:className=>\"interact-flex-row-center\"), 1), Node{DOM}(DOM(:html, :div), Any[Node{DOM}(DOM(:html, :p), Any[], Dict{Symbol,Any}(:attributes=>Dict(\"data-bind\"=>\"text: formatted_val\")), 0)], Dict{Symbol,Any}(:className=>\"interact-flex-row-right\"), 1)], Dict{Symbol,Any}(:className=>\"interact-flex-row interact-widget\"), 7), Dict{String,Tuple{Observables.AbstractObservable,Union{Nothing, Bool}}}(\"changes\"=>(Observable{Int64} with 1 listeners. Value:\n",
       "0, nothing),\"index\"=>(Observable{Int64} with 2 listeners. Value:\n",
       "5, nothing)), Set(String[]), nothing, Asset[Asset(\"js\", \"knockout\", \"/Users/alanedelman/.julia/packages/Knockout/JE2Yq/src/../assets/knockout.js\"), Asset(\"js\", \"knockout_punches\", \"/Users/alanedelman/.julia/packages/Knockout/JE2Yq/src/../assets/knockout_punches.js\"), Asset(\"js\", nothing, \"/Users/alanedelman/.julia/packages/InteractBase/R8JgH/src/../assets/all.js\"), Asset(\"css\", nothing, \"/Users/alanedelman/.julia/packages/InteractBase/R8JgH/src/../assets/style.css\"), Asset(\"css\", nothing, \"/Users/alanedelman/.julia/packages/Interact/0klKX/src/../assets/bulma_confined.min.css\")], Dict{Any,Any}(\"changes\"=>Any[JSString(\"(function (val){return (val!=this.model[\\\"changes\\\"]()) ? (this.valueFromJulia[\\\"changes\\\"]=true, this.model[\\\"changes\\\"](val)) : undefined})\")],\"index\"=>Any[JSString(\"(function (val){return (val!=this.model[\\\"index\\\"]()) ? (this.valueFromJulia[\\\"index\\\"]=true, this.model[\\\"index\\\"](val)) : undefined})\")]), ConnectionPool(Channel{Any}(sz_max:9223372036854775807,sz_curr:0), Set(AbstractConnection[]), Channel{AbstractConnection}(sz_max:32,sz_curr:0)), WebIO.JSString[JSString(\"function () {\\n    var handler = (function (ko, koPunches) {\\n    ko.punches.enableAll();\\n    ko.bindingHandlers.numericValue = {\\n        init : function(element, valueAccessor, allBindings, data, context) {\\n            var stringified = ko.observable(ko.unwrap(valueAccessor()));\\n            stringified.subscribe(function(value) {\\n                var val = parseFloat(value);\\n                if (!isNaN(val)) {\\n                    valueAccessor()(val);\\n                }\\n            })\\n            valueAccessor().subscribe(function(value) {\\n                var str = JSON.stringify(value);\\n                if ((str == \\\"0\\\") && ([\\\"-0\\\", \\\"-0.\\\"].indexOf(stringified()) >= 0))\\n                     return;\\n                 if ([\\\"null\\\", \\\"\\\"].indexOf(str) >= 0)\\n                     return;\\n                stringified(str);\\n            })\\n            ko.applyBindingsToNode(element, { value: stringified, valueUpdate: allBindings.get('valueUpdate')}, context);\\n        }\\n    };\\n    var json_data = {\\\"formatted_vals\\\":[\\\"1\\\",\\\"2\\\",\\\"3\\\",\\\"4\\\",\\\"5\\\",\\\"6\\\",\\\"7\\\",\\\"8\\\",\\\"9\\\",\\\"10\\\"],\\\"changes\\\":WebIO.getval({\\\"name\\\":\\\"changes\\\",\\\"scope\\\":\\\"knockout-component-11de6504-cee0-4713-ae30-919d9604339a\\\",\\\"id\\\":\\\"ob_04\\\",\\\"type\\\":\\\"observable\\\"}),\\\"index\\\":WebIO.getval({\\\"name\\\":\\\"index\\\",\\\"scope\\\":\\\"knockout-component-11de6504-cee0-4713-ae30-919d9604339a\\\",\\\"id\\\":\\\"ob_03\\\",\\\"type\\\":\\\"observable\\\"})};\\n    var self = this;\\n    function AppViewModel() {\\n        for (var key in json_data) {\\n            var el = json_data[key];\\n            this[key] = Array.isArray(el) ? ko.observableArray(el) : ko.observable(el);\\n        }\\n        \\n        [this[\\\"formatted_val\\\"]=ko.computed(    function(){\\n        return this.formatted_vals()[parseInt(this.index())-1];\\n    }\\n,this)]\\n        [this[\\\"changes\\\"].subscribe((function (val){!(this.valueFromJulia[\\\"changes\\\"]) ? (WebIO.setval({\\\"name\\\":\\\"changes\\\",\\\"scope\\\":\\\"knockout-component-11de6504-cee0-4713-ae30-919d9604339a\\\",\\\"id\\\":\\\"ob_04\\\",\\\"type\\\":\\\"observable\\\"},val)) : undefined; return this.valueFromJulia[\\\"changes\\\"]=false}),self),this[\\\"index\\\"].subscribe((function (val){!(this.valueFromJulia[\\\"index\\\"]) ? (WebIO.setval({\\\"name\\\":\\\"index\\\",\\\"scope\\\":\\\"knockout-component-11de6504-cee0-4713-ae30-919d9604339a\\\",\\\"id\\\":\\\"ob_03\\\",\\\"type\\\":\\\"observable\\\"},val)) : undefined; return this.valueFromJulia[\\\"index\\\"]=false}),self)]\\n        \\n    }\\n    self.model = new AppViewModel();\\n    self.valueFromJulia = {};\\n    for (var key in json_data) {\\n        self.valueFromJulia[key] = false;\\n    }\\n    ko.applyBindings(self.model, self.dom);\\n}\\n);\\n    (WebIO.importBlock({\\\"data\\\":[{\\\"name\\\":\\\"knockout\\\",\\\"type\\\":\\\"js\\\",\\\"url\\\":\\\"/assetserver/a8d465714ca0b50fcacaa7d87d7fe7277251eb7a-knockout.js\\\"},{\\\"name\\\":\\\"knockout_punches\\\",\\\"type\\\":\\\"js\\\",\\\"url\\\":\\\"/assetserver/fadafe50514ba2741549559683e093f56983d17e-knockout_punches.js\\\"}],\\\"type\\\":\\\"async_block\\\"})).then((imports) => handler.apply(this, imports));\\n}\\n\")])], Dict{Symbol,Any}(:className=>\"field interact-widget\"), 1), Observable{Any} with 0 listeners. Value:\n",
       "Node{DOM}(DOM(:html, :div), Any[Complex{Float64}[1.0+0.0im 1.0+0.0im … 1.0+0.0im 1.0+0.0im; 1.0+0.0im 0.309017-0.951057im … -0.809017+0.587785im 0.309017+0.951057im; … ; 1.0+0.0im -0.809017+0.587785im … 0.309017+0.951057im -0.809017-0.587785im; 1.0+0.0im 0.309017+0.951057im … -0.809017-0.587785im 0.309017-0.951057im]], Dict{Symbol,Any}(:className=>\"interact-flex-row interact-widget\"), 1)], Dict{Symbol,Any}(), 2)"
      ]
     },
     "execution_count": 7,
     "metadata": {
      "application/vnd.webio.node+json": {
       "kernelId": "ff0b2550-d4f2-44da-a29b-2973471c31af"
      }
     },
     "output_type": "execute_result"
    }
   ],
   "source": [
    "@manipulate for n in 1:10\n",
    "    F(n)\n",
    "end"
   ]
  },
  {
   "cell_type": "code",
   "execution_count": 8,
   "metadata": {},
   "outputs": [
    {
     "data": {
      "text/plain": [
       "3×3 Array{Complex{Float64},2}:\n",
       " 1.0+0.0im   1.0+0.0im        1.0+0.0im     \n",
       " 1.0+0.0im  -0.5-0.866025im  -0.5+0.866025im\n",
       " 1.0+0.0im  -0.5+0.866025im  -0.5-0.866025im"
      ]
     },
     "execution_count": 8,
     "metadata": {},
     "output_type": "execute_result"
    }
   ],
   "source": [
    "F(3)"
   ]
  },
  {
   "cell_type": "code",
   "execution_count": 9,
   "metadata": {},
   "outputs": [
    {
     "data": {
      "text/plain": [
       "4×4 Array{Complex{Float64},2}:\n",
       " 1.0+0.0im   1.0+0.0im   1.0+0.0im   1.0+0.0im\n",
       " 1.0+0.0im   0.0-1.0im  -1.0+0.0im   0.0+1.0im\n",
       " 1.0+0.0im  -1.0+0.0im   1.0+0.0im  -1.0+0.0im\n",
       " 1.0+0.0im   0.0+1.0im  -1.0+0.0im   0.0-1.0im"
      ]
     },
     "execution_count": 9,
     "metadata": {},
     "output_type": "execute_result"
    }
   ],
   "source": [
    "F(4)"
   ]
  },
  {
   "cell_type": "code",
   "execution_count": 200,
   "metadata": {},
   "outputs": [
    {
     "data": {
      "application/vnd.webio.node+json": {
       "children": [
        {
         "children": [
          {
           "children": [
            {
             "children": [
              {
               "children": [
                {
                 "children": [
                  "i"
                 ],
                 "instanceArgs": {
                  "namespace": "html",
                  "tag": "label"
                 },
                 "nodeType": "DOM",
                 "props": {
                  "className": "interact ",
                  "style": {
                   "padding": "5px 10px 0px 10px"
                  }
                 },
                 "type": "node"
                }
               ],
               "instanceArgs": {
                "namespace": "html",
                "tag": "div"
               },
               "nodeType": "DOM",
               "props": {
                "className": "interact-flex-row-left"
               },
               "type": "node"
              },
              {
               "children": [
                {
                 "children": [],
                 "instanceArgs": {
                  "namespace": "html",
                  "tag": "input"
                 },
                 "nodeType": "DOM",
                 "props": {
                  "attributes": {
                   "data-bind": "numericValue: index, valueUpdate: 'input', event: {change: function (){this.changes(this.changes()+1)}}",
                   "orient": "horizontal",
                   "type": "range"
                  },
                  "className": "slider slider is-fullwidth",
                  "max": 6,
                  "min": 2,
                  "step": 1,
                  "style": {}
                 },
                 "type": "node"
                }
               ],
               "instanceArgs": {
                "namespace": "html",
                "tag": "div"
               },
               "nodeType": "DOM",
               "props": {
                "className": "interact-flex-row-center"
               },
               "type": "node"
              },
              {
               "children": [
                {
                 "children": [],
                 "instanceArgs": {
                  "namespace": "html",
                  "tag": "p"
                 },
                 "nodeType": "DOM",
                 "props": {
                  "attributes": {
                   "data-bind": "text: formatted_val"
                  }
                 },
                 "type": "node"
                }
               ],
               "instanceArgs": {
                "namespace": "html",
                "tag": "div"
               },
               "nodeType": "DOM",
               "props": {
                "className": "interact-flex-row-right"
               },
               "type": "node"
              }
             ],
             "instanceArgs": {
              "namespace": "html",
              "tag": "div"
             },
             "nodeType": "DOM",
             "props": {
              "className": "interact-flex-row interact-widget"
             },
             "type": "node"
            }
           ],
           "instanceArgs": {
            "handlers": {
             "changes": [
              "(function (val){return (val!=this.model[\"changes\"]()) ? (this.valueFromJulia[\"changes\"]=true, this.model[\"changes\"](val)) : undefined})"
             ],
             "index": [
              "(function (val){return (val!=this.model[\"index\"]()) ? (this.valueFromJulia[\"index\"]=true, this.model[\"index\"](val)) : undefined})"
             ]
            },
            "id": "knockout-component-deb12614-9a50-4851-bcde-0db09e71f78d",
            "imports": {
             "data": [
              {
               "name": "knockout",
               "type": "js",
               "url": "/assetserver/a8d465714ca0b50fcacaa7d87d7fe7277251eb7a-knockout.js"
              },
              {
               "name": "knockout_punches",
               "type": "js",
               "url": "/assetserver/fadafe50514ba2741549559683e093f56983d17e-knockout_punches.js"
              },
              {
               "name": null,
               "type": "js",
               "url": "/assetserver/63630a7ccdf5bd5d44a8feb7a4d460731215c312-all.js"
              },
              {
               "name": null,
               "type": "css",
               "url": "/assetserver/80b07db3456327364d1ddf7241edced2116b96b7-style.css"
              },
              {
               "name": null,
               "type": "css",
               "url": "/assetserver/f6aed912610be690301640e34f5afbde68442a99-bulma_confined.min.css"
              }
             ],
             "type": "async_block"
            },
            "mount_callbacks": [
             "function () {\n    var handler = (function (ko, koPunches) {\n    ko.punches.enableAll();\n    ko.bindingHandlers.numericValue = {\n        init : function(element, valueAccessor, allBindings, data, context) {\n            var stringified = ko.observable(ko.unwrap(valueAccessor()));\n            stringified.subscribe(function(value) {\n                var val = parseFloat(value);\n                if (!isNaN(val)) {\n                    valueAccessor()(val);\n                }\n            })\n            valueAccessor().subscribe(function(value) {\n                var str = JSON.stringify(value);\n                if ((str == \"0\") && ([\"-0\", \"-0.\"].indexOf(stringified()) >= 0))\n                     return;\n                 if ([\"null\", \"\"].indexOf(str) >= 0)\n                     return;\n                stringified(str);\n            })\n            ko.applyBindingsToNode(element, { value: stringified, valueUpdate: allBindings.get('valueUpdate')}, context);\n        }\n    };\n    var json_data = {\"formatted_vals\":[\"2\",\"3\",\"4\",\"5\",\"6\"],\"changes\":WebIO.getval({\"name\":\"changes\",\"scope\":\"knockout-component-deb12614-9a50-4851-bcde-0db09e71f78d\",\"id\":\"ob_52\",\"type\":\"observable\"}),\"index\":WebIO.getval({\"name\":\"index\",\"scope\":\"knockout-component-deb12614-9a50-4851-bcde-0db09e71f78d\",\"id\":\"ob_51\",\"type\":\"observable\"})};\n    var self = this;\n    function AppViewModel() {\n        for (var key in json_data) {\n            var el = json_data[key];\n            this[key] = Array.isArray(el) ? ko.observableArray(el) : ko.observable(el);\n        }\n        \n        [this[\"formatted_val\"]=ko.computed(    function(){\n        return this.formatted_vals()[parseInt(this.index())-1];\n    }\n,this)]\n        [this[\"changes\"].subscribe((function (val){!(this.valueFromJulia[\"changes\"]) ? (WebIO.setval({\"name\":\"changes\",\"scope\":\"knockout-component-deb12614-9a50-4851-bcde-0db09e71f78d\",\"id\":\"ob_52\",\"type\":\"observable\"},val)) : undefined; return this.valueFromJulia[\"changes\"]=false}),self),this[\"index\"].subscribe((function (val){!(this.valueFromJulia[\"index\"]) ? (WebIO.setval({\"name\":\"index\",\"scope\":\"knockout-component-deb12614-9a50-4851-bcde-0db09e71f78d\",\"id\":\"ob_51\",\"type\":\"observable\"},val)) : undefined; return this.valueFromJulia[\"index\"]=false}),self)]\n        \n    }\n    self.model = new AppViewModel();\n    self.valueFromJulia = {};\n    for (var key in json_data) {\n        self.valueFromJulia[key] = false;\n    }\n    ko.applyBindings(self.model, self.dom);\n}\n);\n    (WebIO.importBlock({\"data\":[{\"name\":\"knockout\",\"type\":\"js\",\"url\":\"/assetserver/a8d465714ca0b50fcacaa7d87d7fe7277251eb7a-knockout.js\"},{\"name\":\"knockout_punches\",\"type\":\"js\",\"url\":\"/assetserver/fadafe50514ba2741549559683e093f56983d17e-knockout_punches.js\"}],\"type\":\"async_block\"})).then((imports) => handler.apply(this, imports));\n}\n"
            ],
            "observables": {
             "changes": {
              "id": "ob_52",
              "sync": false,
              "value": 0
             },
             "index": {
              "id": "ob_51",
              "sync": true,
              "value": 4
             }
            },
            "systemjs_options": null
           },
           "nodeType": "Scope",
           "props": {},
           "type": "node"
          }
         ],
         "instanceArgs": {
          "namespace": "html",
          "tag": "div"
         },
         "nodeType": "DOM",
         "props": {
          "className": "field interact-widget"
         },
         "type": "node"
        },
        {
         "children": [
          {
           "children": [],
           "instanceArgs": {
            "id": "ob_58",
            "name": "obs-node"
           },
           "nodeType": "ObservableNode",
           "props": {},
           "type": "node"
          }
         ],
         "instanceArgs": {
          "handlers": {},
          "id": "scope-9cc8477e-477b-4fea-9f7b-b84cafc09b67",
          "imports": {
           "data": [],
           "type": "async_block"
          },
          "mount_callbacks": [],
          "observables": {
           "obs-node": {
            "id": "ob_58",
            "sync": false,
            "value": {
             "children": [
              {
               "children": [],
               "instanceArgs": {
                "namespace": "html",
                "tag": "div"
               },
               "nodeType": "DOM",
               "props": {
                "setInnerHtml": "<?xml version=\"1.0\" encoding=\"utf-8\"?>\n<svg xmlns=\"http://www.w3.org/2000/svg\" xmlns:xlink=\"http://www.w3.org/1999/xlink\" width=\"600\" height=\"400\" viewBox=\"0 0 2400 1600\">\n<defs>\n  <clipPath id=\"clip1400\">\n    <rect x=\"0\" y=\"0\" width=\"2400\" height=\"1600\"/>\n  </clipPath>\n</defs>\n<polygon clip-path=\"url(#clip1400)\" points=\"\n0,1600 2400,1600 2400,0 0,0 \n  \" fill=\"#ffffff\" fill-rule=\"evenodd\" fill-opacity=\"1\"/>\n<defs>\n  <clipPath id=\"clip1401\">\n    <rect x=\"480\" y=\"0\" width=\"1681\" height=\"1600\"/>\n  </clipPath>\n</defs>\n<polygon clip-path=\"url(#clip1400)\" points=\"\n565.321,1487.47 1969.44,1487.47 1969.44,47.2441 565.321,47.2441 \n  \" fill=\"#ffffff\" fill-rule=\"evenodd\" fill-opacity=\"1\"/>\n<defs>\n  <clipPath id=\"clip1402\">\n    <rect x=\"565\" y=\"47\" width=\"1405\" height=\"1441\"/>\n  </clipPath>\n</defs>\n<polyline clip-path=\"url(#clip1402)\" style=\"stroke:#000000; stroke-width:2; stroke-opacity:0.1; fill:none\" points=\"\n  884.466,1487.47 884.466,47.2441 \n  \"/>\n<polyline clip-path=\"url(#clip1402)\" style=\"stroke:#000000; stroke-width:2; stroke-opacity:0.1; fill:none\" points=\"\n  1232.88,1487.47 1232.88,47.2441 \n  \"/>\n<polyline clip-path=\"url(#clip1402)\" style=\"stroke:#000000; stroke-width:2; stroke-opacity:0.1; fill:none\" points=\"\n  1581.29,1487.47 1581.29,47.2441 \n  \"/>\n<polyline clip-path=\"url(#clip1402)\" style=\"stroke:#000000; stroke-width:2; stroke-opacity:0.1; fill:none\" points=\"\n  1929.7,1487.47 1929.7,47.2441 \n  \"/>\n<polyline clip-path=\"url(#clip1402)\" style=\"stroke:#000000; stroke-width:2; stroke-opacity:0.1; fill:none\" points=\"\n  565.321,1464.18 1969.44,1464.18 \n  \"/>\n<polyline clip-path=\"url(#clip1402)\" style=\"stroke:#000000; stroke-width:2; stroke-opacity:0.1; fill:none\" points=\"\n  565.321,1115.77 1969.44,1115.77 \n  \"/>\n<polyline clip-path=\"url(#clip1402)\" style=\"stroke:#000000; stroke-width:2; stroke-opacity:0.1; fill:none\" points=\"\n  565.321,767.359 1969.44,767.359 \n  \"/>\n<polyline clip-path=\"url(#clip1402)\" style=\"stroke:#000000; stroke-width:2; stroke-opacity:0.1; fill:none\" points=\"\n  565.321,418.947 1969.44,418.947 \n  \"/>\n<polyline clip-path=\"url(#clip1402)\" style=\"stroke:#000000; stroke-width:2; stroke-opacity:0.1; fill:none\" points=\"\n  565.321,70.5345 1969.44,70.5345 \n  \"/>\n<polyline clip-path=\"url(#clip1400)\" style=\"stroke:#000000; stroke-width:4; stroke-opacity:1; fill:none\" points=\"\n  565.321,1487.47 1969.44,1487.47 \n  \"/>\n<polyline clip-path=\"url(#clip1400)\" style=\"stroke:#000000; stroke-width:4; stroke-opacity:1; fill:none\" points=\"\n  565.321,1487.47 565.321,47.2441 \n  \"/>\n<polyline clip-path=\"url(#clip1400)\" style=\"stroke:#000000; stroke-width:4; stroke-opacity:1; fill:none\" points=\"\n  884.466,1487.47 884.466,1465.87 \n  \"/>\n<polyline clip-path=\"url(#clip1400)\" style=\"stroke:#000000; stroke-width:4; stroke-opacity:1; fill:none\" points=\"\n  1232.88,1487.47 1232.88,1465.87 \n  \"/>\n<polyline clip-path=\"url(#clip1400)\" style=\"stroke:#000000; stroke-width:4; stroke-opacity:1; fill:none\" points=\"\n  1581.29,1487.47 1581.29,1465.87 \n  \"/>\n<polyline clip-path=\"url(#clip1400)\" style=\"stroke:#000000; stroke-width:4; stroke-opacity:1; fill:none\" points=\"\n  1929.7,1487.47 1929.7,1465.87 \n  \"/>\n<polyline clip-path=\"url(#clip1400)\" style=\"stroke:#000000; stroke-width:4; stroke-opacity:1; fill:none\" points=\"\n  565.321,1464.18 586.383,1464.18 \n  \"/>\n<polyline clip-path=\"url(#clip1400)\" style=\"stroke:#000000; stroke-width:4; stroke-opacity:1; fill:none\" points=\"\n  565.321,1115.77 586.383,1115.77 \n  \"/>\n<polyline clip-path=\"url(#clip1400)\" style=\"stroke:#000000; stroke-width:4; stroke-opacity:1; fill:none\" points=\"\n  565.321,767.359 586.383,767.359 \n  \"/>\n<polyline clip-path=\"url(#clip1400)\" style=\"stroke:#000000; stroke-width:4; stroke-opacity:1; fill:none\" points=\"\n  565.321,418.947 586.383,418.947 \n  \"/>\n<polyline clip-path=\"url(#clip1400)\" style=\"stroke:#000000; stroke-width:4; stroke-opacity:1; fill:none\" points=\"\n  565.321,70.5345 586.383,70.5345 \n  \"/>\n<g clip-path=\"url(#clip1400)\">\n<text style=\"fill:#000000; fill-opacity:1; font-family:Arial,Helvetica Neue,Helvetica,sans-serif; font-size:48px; text-anchor:middle;\" transform=\"rotate(0, 884.466, 1541.47)\" x=\"884.466\" y=\"1541.47\">-0.5</text>\n</g>\n<g clip-path=\"url(#clip1400)\">\n<text style=\"fill:#000000; fill-opacity:1; font-family:Arial,Helvetica Neue,Helvetica,sans-serif; font-size:48px; text-anchor:middle;\" transform=\"rotate(0, 1232.88, 1541.47)\" x=\"1232.88\" y=\"1541.47\">0.0</text>\n</g>\n<g clip-path=\"url(#clip1400)\">\n<text style=\"fill:#000000; fill-opacity:1; font-family:Arial,Helvetica Neue,Helvetica,sans-serif; font-size:48px; text-anchor:middle;\" transform=\"rotate(0, 1581.29, 1541.47)\" x=\"1581.29\" y=\"1541.47\">0.5</text>\n</g>\n<g clip-path=\"url(#clip1400)\">\n<text style=\"fill:#000000; fill-opacity:1; font-family:Arial,Helvetica Neue,Helvetica,sans-serif; font-size:48px; text-anchor:middle;\" transform=\"rotate(0, 1929.7, 1541.47)\" x=\"1929.7\" y=\"1541.47\">1.0</text>\n</g>\n<g clip-path=\"url(#clip1400)\">\n<text style=\"fill:#000000; fill-opacity:1; font-family:Arial,Helvetica Neue,Helvetica,sans-serif; font-size:48px; text-anchor:end;\" transform=\"rotate(0, 541.321, 1481.68)\" x=\"541.321\" y=\"1481.68\">-1.0</text>\n</g>\n<g clip-path=\"url(#clip1400)\">\n<text style=\"fill:#000000; fill-opacity:1; font-family:Arial,Helvetica Neue,Helvetica,sans-serif; font-size:48px; text-anchor:end;\" transform=\"rotate(0, 541.321, 1133.27)\" x=\"541.321\" y=\"1133.27\">-0.5</text>\n</g>\n<g clip-path=\"url(#clip1400)\">\n<text style=\"fill:#000000; fill-opacity:1; font-family:Arial,Helvetica Neue,Helvetica,sans-serif; font-size:48px; text-anchor:end;\" transform=\"rotate(0, 541.321, 784.859)\" x=\"541.321\" y=\"784.859\">0.0</text>\n</g>\n<g clip-path=\"url(#clip1400)\">\n<text style=\"fill:#000000; fill-opacity:1; font-family:Arial,Helvetica Neue,Helvetica,sans-serif; font-size:48px; text-anchor:end;\" transform=\"rotate(0, 541.321, 436.447)\" x=\"541.321\" y=\"436.447\">0.5</text>\n</g>\n<g clip-path=\"url(#clip1400)\">\n<text style=\"fill:#000000; fill-opacity:1; font-family:Arial,Helvetica Neue,Helvetica,sans-serif; font-size:48px; text-anchor:end;\" transform=\"rotate(0, 541.321, 88.0345)\" x=\"541.321\" y=\"88.0345\">1.0</text>\n</g>\n<polyline clip-path=\"url(#clip1402)\" style=\"stroke:#009af9; stroke-width:4; stroke-opacity:1; fill:none\" points=\"\n  1929.7,767.359 605.061,1069.7 1667.34,222.56 1077.82,1446.71 1077.82,88.0053 1667.34,1312.16 605.061,465.018 1929.7,767.359 \n  \"/>\n</svg>\n"
               },
               "type": "node"
              }
             ],
             "instanceArgs": {
              "namespace": "html",
              "tag": "div"
             },
             "nodeType": "DOM",
             "props": {
              "className": "interact-flex-row interact-widget"
             },
             "type": "node"
            }
           }
          },
          "systemjs_options": null
         },
         "nodeType": "Scope",
         "props": {},
         "type": "node"
        }
       ],
       "instanceArgs": {
        "namespace": "html",
        "tag": "div"
       },
       "nodeType": "DOM",
       "props": {},
       "type": "node"
      },
      "text/html": [
       "<div\n",
       "    class=\"webio-mountpoint\"\n",
       "    data-webio-mountpoint=\"17322718395273094579\"\n",
       ">\n",
       "    <script>\n",
       "    if (window.require && require.defined && require.defined(\"nbextensions/webio/main\")) {\n",
       "        console.log(\"Jupyter WebIO extension detected, not mounting.\");\n",
       "    } else if (window.WebIO) {\n",
       "        WebIO.mount(\n",
       "            document.querySelector('[data-webio-mountpoint=\"17322718395273094579\"]'),\n",
       "            {\"props\":{},\"nodeType\":\"DOM\",\"type\":\"node\",\"instanceArgs\":{\"namespace\":\"html\",\"tag\":\"div\"},\"children\":[{\"props\":{\"className\":\"field interact-widget\"},\"nodeType\":\"DOM\",\"type\":\"node\",\"instanceArgs\":{\"namespace\":\"html\",\"tag\":\"div\"},\"children\":[{\"props\":{},\"nodeType\":\"Scope\",\"type\":\"node\",\"instanceArgs\":{\"imports\":{\"data\":[{\"name\":\"knockout\",\"type\":\"js\",\"url\":\"\\/assetserver\\/a8d465714ca0b50fcacaa7d87d7fe7277251eb7a-knockout.js\"},{\"name\":\"knockout_punches\",\"type\":\"js\",\"url\":\"\\/assetserver\\/fadafe50514ba2741549559683e093f56983d17e-knockout_punches.js\"},{\"name\":null,\"type\":\"js\",\"url\":\"\\/assetserver\\/63630a7ccdf5bd5d44a8feb7a4d460731215c312-all.js\"},{\"name\":null,\"type\":\"css\",\"url\":\"\\/assetserver\\/80b07db3456327364d1ddf7241edced2116b96b7-style.css\"},{\"name\":null,\"type\":\"css\",\"url\":\"\\/assetserver\\/f6aed912610be690301640e34f5afbde68442a99-bulma_confined.min.css\"}],\"type\":\"async_block\"},\"id\":\"knockout-component-deb12614-9a50-4851-bcde-0db09e71f78d\",\"handlers\":{\"changes\":[\"(function (val){return (val!=this.model[\\\"changes\\\"]()) ? (this.valueFromJulia[\\\"changes\\\"]=true, this.model[\\\"changes\\\"](val)) : undefined})\"],\"index\":[\"(function (val){return (val!=this.model[\\\"index\\\"]()) ? (this.valueFromJulia[\\\"index\\\"]=true, this.model[\\\"index\\\"](val)) : undefined})\"]},\"systemjs_options\":null,\"mount_callbacks\":[\"function () {\\n    var handler = (function (ko, koPunches) {\\n    ko.punches.enableAll();\\n    ko.bindingHandlers.numericValue = {\\n        init : function(element, valueAccessor, allBindings, data, context) {\\n            var stringified = ko.observable(ko.unwrap(valueAccessor()));\\n            stringified.subscribe(function(value) {\\n                var val = parseFloat(value);\\n                if (!isNaN(val)) {\\n                    valueAccessor()(val);\\n                }\\n            })\\n            valueAccessor().subscribe(function(value) {\\n                var str = JSON.stringify(value);\\n                if ((str == \\\"0\\\") && ([\\\"-0\\\", \\\"-0.\\\"].indexOf(stringified()) >= 0))\\n                     return;\\n                 if ([\\\"null\\\", \\\"\\\"].indexOf(str) >= 0)\\n                     return;\\n                stringified(str);\\n            })\\n            ko.applyBindingsToNode(element, { value: stringified, valueUpdate: allBindings.get('valueUpdate')}, context);\\n        }\\n    };\\n    var json_data = {\\\"formatted_vals\\\":[\\\"2\\\",\\\"3\\\",\\\"4\\\",\\\"5\\\",\\\"6\\\"],\\\"changes\\\":WebIO.getval({\\\"name\\\":\\\"changes\\\",\\\"scope\\\":\\\"knockout-component-deb12614-9a50-4851-bcde-0db09e71f78d\\\",\\\"id\\\":\\\"ob_52\\\",\\\"type\\\":\\\"observable\\\"}),\\\"index\\\":WebIO.getval({\\\"name\\\":\\\"index\\\",\\\"scope\\\":\\\"knockout-component-deb12614-9a50-4851-bcde-0db09e71f78d\\\",\\\"id\\\":\\\"ob_51\\\",\\\"type\\\":\\\"observable\\\"})};\\n    var self = this;\\n    function AppViewModel() {\\n        for (var key in json_data) {\\n            var el = json_data[key];\\n            this[key] = Array.isArray(el) ? ko.observableArray(el) : ko.observable(el);\\n        }\\n        \\n        [this[\\\"formatted_val\\\"]=ko.computed(    function(){\\n        return this.formatted_vals()[parseInt(this.index())-1];\\n    }\\n,this)]\\n        [this[\\\"changes\\\"].subscribe((function (val){!(this.valueFromJulia[\\\"changes\\\"]) ? (WebIO.setval({\\\"name\\\":\\\"changes\\\",\\\"scope\\\":\\\"knockout-component-deb12614-9a50-4851-bcde-0db09e71f78d\\\",\\\"id\\\":\\\"ob_52\\\",\\\"type\\\":\\\"observable\\\"},val)) : undefined; return this.valueFromJulia[\\\"changes\\\"]=false}),self),this[\\\"index\\\"].subscribe((function (val){!(this.valueFromJulia[\\\"index\\\"]) ? (WebIO.setval({\\\"name\\\":\\\"index\\\",\\\"scope\\\":\\\"knockout-component-deb12614-9a50-4851-bcde-0db09e71f78d\\\",\\\"id\\\":\\\"ob_51\\\",\\\"type\\\":\\\"observable\\\"},val)) : undefined; return this.valueFromJulia[\\\"index\\\"]=false}),self)]\\n        \\n    }\\n    self.model = new AppViewModel();\\n    self.valueFromJulia = {};\\n    for (var key in json_data) {\\n        self.valueFromJulia[key] = false;\\n    }\\n    ko.applyBindings(self.model, self.dom);\\n}\\n);\\n    (WebIO.importBlock({\\\"data\\\":[{\\\"name\\\":\\\"knockout\\\",\\\"type\\\":\\\"js\\\",\\\"url\\\":\\\"\\/assetserver\\/a8d465714ca0b50fcacaa7d87d7fe7277251eb7a-knockout.js\\\"},{\\\"name\\\":\\\"knockout_punches\\\",\\\"type\\\":\\\"js\\\",\\\"url\\\":\\\"\\/assetserver\\/fadafe50514ba2741549559683e093f56983d17e-knockout_punches.js\\\"}],\\\"type\\\":\\\"async_block\\\"})).then((imports) => handler.apply(this, imports));\\n}\\n\"],\"observables\":{\"changes\":{\"sync\":false,\"id\":\"ob_52\",\"value\":0},\"index\":{\"sync\":true,\"id\":\"ob_51\",\"value\":4}}},\"children\":[{\"props\":{\"className\":\"interact-flex-row interact-widget\"},\"nodeType\":\"DOM\",\"type\":\"node\",\"instanceArgs\":{\"namespace\":\"html\",\"tag\":\"div\"},\"children\":[{\"props\":{\"className\":\"interact-flex-row-left\"},\"nodeType\":\"DOM\",\"type\":\"node\",\"instanceArgs\":{\"namespace\":\"html\",\"tag\":\"div\"},\"children\":[{\"props\":{\"className\":\"interact \",\"style\":{\"padding\":\"5px 10px 0px 10px\"}},\"nodeType\":\"DOM\",\"type\":\"node\",\"instanceArgs\":{\"namespace\":\"html\",\"tag\":\"label\"},\"children\":[\"i\"]}]},{\"props\":{\"className\":\"interact-flex-row-center\"},\"nodeType\":\"DOM\",\"type\":\"node\",\"instanceArgs\":{\"namespace\":\"html\",\"tag\":\"div\"},\"children\":[{\"props\":{\"max\":6,\"min\":2,\"attributes\":{\"type\":\"range\",\"data-bind\":\"numericValue: index, valueUpdate: 'input', event: {change: function (){this.changes(this.changes()+1)}}\",\"orient\":\"horizontal\"},\"step\":1,\"className\":\"slider slider is-fullwidth\",\"style\":{}},\"nodeType\":\"DOM\",\"type\":\"node\",\"instanceArgs\":{\"namespace\":\"html\",\"tag\":\"input\"},\"children\":[]}]},{\"props\":{\"className\":\"interact-flex-row-right\"},\"nodeType\":\"DOM\",\"type\":\"node\",\"instanceArgs\":{\"namespace\":\"html\",\"tag\":\"div\"},\"children\":[{\"props\":{\"attributes\":{\"data-bind\":\"text: formatted_val\"}},\"nodeType\":\"DOM\",\"type\":\"node\",\"instanceArgs\":{\"namespace\":\"html\",\"tag\":\"p\"},\"children\":[]}]}]}]}]},{\"props\":{},\"nodeType\":\"Scope\",\"type\":\"node\",\"instanceArgs\":{\"imports\":{\"data\":[],\"type\":\"async_block\"},\"id\":\"scope-587fcecc-ffe8-4ff3-936e-dc30e3c8b588\",\"handlers\":{},\"systemjs_options\":null,\"mount_callbacks\":[],\"observables\":{\"obs-node\":{\"sync\":false,\"id\":\"ob_56\",\"value\":{\"props\":{\"className\":\"interact-flex-row interact-widget\"},\"nodeType\":\"DOM\",\"type\":\"node\",\"instanceArgs\":{\"namespace\":\"html\",\"tag\":\"div\"},\"children\":[{\"props\":{\"setInnerHtml\":\"<?xml version=\\\"1.0\\\" encoding=\\\"utf-8\\\"?>\\n<svg xmlns=\\\"http:\\/\\/www.w3.org\\/2000\\/svg\\\" xmlns:xlink=\\\"http:\\/\\/www.w3.org\\/1999\\/xlink\\\" width=\\\"600\\\" height=\\\"400\\\" viewBox=\\\"0 0 2400 1600\\\">\\n<defs>\\n  <clipPath id=\\\"clip1000\\\">\\n    <rect x=\\\"0\\\" y=\\\"0\\\" width=\\\"2400\\\" height=\\\"1600\\\"\\/>\\n  <\\/clipPath>\\n<\\/defs>\\n<polygon clip-path=\\\"url(#clip1000)\\\" points=\\\"\\n0,1600 2400,1600 2400,0 0,0 \\n  \\\" fill=\\\"#ffffff\\\" fill-rule=\\\"evenodd\\\" fill-opacity=\\\"1\\\"\\/>\\n<defs>\\n  <clipPath id=\\\"clip1001\\\">\\n    <rect x=\\\"480\\\" y=\\\"0\\\" width=\\\"1681\\\" height=\\\"1600\\\"\\/>\\n  <\\/clipPath>\\n<\\/defs>\\n<polygon clip-path=\\\"url(#clip1000)\\\" points=\\\"\\n565.321,1487.47 1969.44,1487.47 1969.44,47.2441 565.321,47.2441 \\n  \\\" fill=\\\"#ffffff\\\" fill-rule=\\\"evenodd\\\" fill-opacity=\\\"1\\\"\\/>\\n<defs>\\n  <clipPath id=\\\"clip1002\\\">\\n    <rect x=\\\"565\\\" y=\\\"47\\\" width=\\\"1405\\\" height=\\\"1441\\\"\\/>\\n  <\\/clipPath>\\n<\\/defs>\\n<polyline clip-path=\\\"url(#clip1002)\\\" style=\\\"stroke:#000000; stroke-width:2; stroke-opacity:0.1; fill:none\\\" points=\\\"\\n  884.466,1487.47 884.466,47.2441 \\n  \\\"\\/>\\n<polyline clip-path=\\\"url(#clip1002)\\\" style=\\\"stroke:#000000; stroke-width:2; stroke-opacity:0.1; fill:none\\\" points=\\\"\\n  1232.88,1487.47 1232.88,47.2441 \\n  \\\"\\/>\\n<polyline clip-path=\\\"url(#clip1002)\\\" style=\\\"stroke:#000000; stroke-width:2; stroke-opacity:0.1; fill:none\\\" points=\\\"\\n  1581.29,1487.47 1581.29,47.2441 \\n  \\\"\\/>\\n<polyline clip-path=\\\"url(#clip1002)\\\" style=\\\"stroke:#000000; stroke-width:2; stroke-opacity:0.1; fill:none\\\" points=\\\"\\n  1929.7,1487.47 1929.7,47.2441 \\n  \\\"\\/>\\n<polyline clip-path=\\\"url(#clip1002)\\\" style=\\\"stroke:#000000; stroke-width:2; stroke-opacity:0.1; fill:none\\\" points=\\\"\\n  565.321,1464.18 1969.44,1464.18 \\n  \\\"\\/>\\n<polyline clip-path=\\\"url(#clip1002)\\\" style=\\\"stroke:#000000; stroke-width:2; stroke-opacity:0.1; fill:none\\\" points=\\\"\\n  565.321,1115.77 1969.44,1115.77 \\n  \\\"\\/>\\n<polyline clip-path=\\\"url(#clip1002)\\\" style=\\\"stroke:#000000; stroke-width:2; stroke-opacity:0.1; fill:none\\\" points=\\\"\\n  565.321,767.359 1969.44,767.359 \\n  \\\"\\/>\\n<polyline clip-path=\\\"url(#clip1002)\\\" style=\\\"stroke:#000000; stroke-width:2; stroke-opacity:0.1; fill:none\\\" points=\\\"\\n  565.321,418.947 1969.44,418.947 \\n  \\\"\\/>\\n<polyline clip-path=\\\"url(#clip1002)\\\" style=\\\"stroke:#000000; stroke-width:2; stroke-opacity:0.1; fill:none\\\" points=\\\"\\n  565.321,70.5345 1969.44,70.5345 \\n  \\\"\\/>\\n<polyline clip-path=\\\"url(#clip1000)\\\" style=\\\"stroke:#000000; stroke-width:4; stroke-opacity:1; fill:none\\\" points=\\\"\\n  565.321,1487.47 1969.44,1487.47 \\n  \\\"\\/>\\n<polyline clip-path=\\\"url(#clip1000)\\\" style=\\\"stroke:#000000; stroke-width:4; stroke-opacity:1; fill:none\\\" points=\\\"\\n  565.321,1487.47 565.321,47.2441 \\n  \\\"\\/>\\n<polyline clip-path=\\\"url(#clip1000)\\\" style=\\\"stroke:#000000; stroke-width:4; stroke-opacity:1; fill:none\\\" points=\\\"\\n  884.466,1487.47 884.466,1465.87 \\n  \\\"\\/>\\n<polyline clip-path=\\\"url(#clip1000)\\\" style=\\\"stroke:#000000; stroke-width:4; stroke-opacity:1; fill:none\\\" points=\\\"\\n  1232.88,1487.47 1232.88,1465.87 \\n  \\\"\\/>\\n<polyline clip-path=\\\"url(#clip1000)\\\" style=\\\"stroke:#000000; stroke-width:4; stroke-opacity:1; fill:none\\\" points=\\\"\\n  1581.29,1487.47 1581.29,1465.87 \\n  \\\"\\/>\\n<polyline clip-path=\\\"url(#clip1000)\\\" style=\\\"stroke:#000000; stroke-width:4; stroke-opacity:1; fill:none\\\" points=\\\"\\n  1929.7,1487.47 1929.7,1465.87 \\n  \\\"\\/>\\n<polyline clip-path=\\\"url(#clip1000)\\\" style=\\\"stroke:#000000; stroke-width:4; stroke-opacity:1; fill:none\\\" points=\\\"\\n  565.321,1464.18 586.383,1464.18 \\n  \\\"\\/>\\n<polyline clip-path=\\\"url(#clip1000)\\\" style=\\\"stroke:#000000; stroke-width:4; stroke-opacity:1; fill:none\\\" points=\\\"\\n  565.321,1115.77 586.383,1115.77 \\n  \\\"\\/>\\n<polyline clip-path=\\\"url(#clip1000)\\\" style=\\\"stroke:#000000; stroke-width:4; stroke-opacity:1; fill:none\\\" points=\\\"\\n  565.321,767.359 586.383,767.359 \\n  \\\"\\/>\\n<polyline clip-path=\\\"url(#clip1000)\\\" style=\\\"stroke:#000000; stroke-width:4; stroke-opacity:1; fill:none\\\" points=\\\"\\n  565.321,418.947 586.383,418.947 \\n  \\\"\\/>\\n<polyline clip-path=\\\"url(#clip1000)\\\" style=\\\"stroke:#000000; stroke-width:4; stroke-opacity:1; fill:none\\\" points=\\\"\\n  565.321,70.5345 586.383,70.5345 \\n  \\\"\\/>\\n<g clip-path=\\\"url(#clip1000)\\\">\\n<text style=\\\"fill:#000000; fill-opacity:1; font-family:Arial,Helvetica Neue,Helvetica,sans-serif; font-size:48px; text-anchor:middle;\\\" transform=\\\"rotate(0, 884.466, 1541.47)\\\" x=\\\"884.466\\\" y=\\\"1541.47\\\">-0.5<\\/text>\\n<\\/g>\\n<g clip-path=\\\"url(#clip1000)\\\">\\n<text style=\\\"fill:#000000; fill-opacity:1; font-family:Arial,Helvetica Neue,Helvetica,sans-serif; font-size:48px; text-anchor:middle;\\\" transform=\\\"rotate(0, 1232.88, 1541.47)\\\" x=\\\"1232.88\\\" y=\\\"1541.47\\\">0.0<\\/text>\\n<\\/g>\\n<g clip-path=\\\"url(#clip1000)\\\">\\n<text style=\\\"fill:#000000; fill-opacity:1; font-family:Arial,Helvetica Neue,Helvetica,sans-serif; font-size:48px; text-anchor:middle;\\\" transform=\\\"rotate(0, 1581.29, 1541.47)\\\" x=\\\"1581.29\\\" y=\\\"1541.47\\\">0.5<\\/text>\\n<\\/g>\\n<g clip-path=\\\"url(#clip1000)\\\">\\n<text style=\\\"fill:#000000; fill-opacity:1; font-family:Arial,Helvetica Neue,Helvetica,sans-serif; font-size:48px; text-anchor:middle;\\\" transform=\\\"rotate(0, 1929.7, 1541.47)\\\" x=\\\"1929.7\\\" y=\\\"1541.47\\\">1.0<\\/text>\\n<\\/g>\\n<g clip-path=\\\"url(#clip1000)\\\">\\n<text style=\\\"fill:#000000; fill-opacity:1; font-family:Arial,Helvetica Neue,Helvetica,sans-serif; font-size:48px; text-anchor:end;\\\" transform=\\\"rotate(0, 541.321, 1481.68)\\\" x=\\\"541.321\\\" y=\\\"1481.68\\\">-1.0<\\/text>\\n<\\/g>\\n<g clip-path=\\\"url(#clip1000)\\\">\\n<text style=\\\"fill:#000000; fill-opacity:1; font-family:Arial,Helvetica Neue,Helvetica,sans-serif; font-size:48px; text-anchor:end;\\\" transform=\\\"rotate(0, 541.321, 1133.27)\\\" x=\\\"541.321\\\" y=\\\"1133.27\\\">-0.5<\\/text>\\n<\\/g>\\n<g clip-path=\\\"url(#clip1000)\\\">\\n<text style=\\\"fill:#000000; fill-opacity:1; font-family:Arial,Helvetica Neue,Helvetica,sans-serif; font-size:48px; text-anchor:end;\\\" transform=\\\"rotate(0, 541.321, 784.859)\\\" x=\\\"541.321\\\" y=\\\"784.859\\\">0.0<\\/text>\\n<\\/g>\\n<g clip-path=\\\"url(#clip1000)\\\">\\n<text style=\\\"fill:#000000; fill-opacity:1; font-family:Arial,Helvetica Neue,Helvetica,sans-serif; font-size:48px; text-anchor:end;\\\" transform=\\\"rotate(0, 541.321, 436.447)\\\" x=\\\"541.321\\\" y=\\\"436.447\\\">0.5<\\/text>\\n<\\/g>\\n<g clip-path=\\\"url(#clip1000)\\\">\\n<text style=\\\"fill:#000000; fill-opacity:1; font-family:Arial,Helvetica Neue,Helvetica,sans-serif; font-size:48px; text-anchor:end;\\\" transform=\\\"rotate(0, 541.321, 88.0345)\\\" x=\\\"541.321\\\" y=\\\"88.0345\\\">1.0<\\/text>\\n<\\/g>\\n<polyline clip-path=\\\"url(#clip1002)\\\" style=\\\"stroke:#009af9; stroke-width:4; stroke-opacity:1; fill:none\\\" points=\\\"\\n  1929.7,767.359 605.061,1069.7 1667.34,222.56 1077.82,1446.71 1077.82,88.0053 1667.34,1312.16 605.061,465.018 1929.7,767.359 \\n  \\\"\\/>\\n<\\/svg>\\n\"},\"nodeType\":\"DOM\",\"type\":\"node\",\"instanceArgs\":{\"namespace\":\"html\",\"tag\":\"div\"},\"children\":[]}]}}}},\"children\":[{\"props\":{},\"nodeType\":\"ObservableNode\",\"type\":\"node\",\"instanceArgs\":{\"id\":\"ob_56\",\"name\":\"obs-node\"},\"children\":[]}]}]},\n",
       "            window,\n",
       "        );\n",
       "    } else {\n",
       "        document\n",
       "            .querySelector('[data-webio-mountpoint=\"17322718395273094579\"]')\n",
       "            .innerHTML = '<strong>WebIO not detected.</strong>';\n",
       "    }\n",
       "    </script>\n",
       "</div>\n"
      ],
      "text/plain": [
       "Node{WebIO.DOM}(WebIO.DOM(:html, :div), Any[Node{DOM}(DOM(:html, :div), Any[Scope(\"knockout-component-deb12614-9a50-4851-bcde-0db09e71f78d\", Node{DOM}(DOM(:html, :div), Any[Node{DOM}(DOM(:html, :div), Any[Node{DOM}(DOM(:html, :label), Any[\"i\"], Dict{Symbol,Any}(:className=>\"interact \",:style=>Dict{Any,Any}(:padding=>\"5px 10px 0px 10px\")), 1)], Dict{Symbol,Any}(:className=>\"interact-flex-row-left\"), 2), Node{DOM}(DOM(:html, :div), Any[Node{DOM}(DOM(:html, :input), Any[], Dict{Symbol,Any}(:max=>6,:min=>2,:attributes=>Dict{Any,Any}(:type=>\"range\",Symbol(\"data-bind\")=>\"numericValue: index, valueUpdate: 'input', event: {change: function (){this.changes(this.changes()+1)}}\",\"orient\"=>\"horizontal\"),:step=>1,:className=>\"slider slider is-fullwidth\",:style=>Dict{Any,Any}()), 0)], Dict{Symbol,Any}(:className=>\"interact-flex-row-center\"), 1), Node{DOM}(DOM(:html, :div), Any[Node{DOM}(DOM(:html, :p), Any[], Dict{Symbol,Any}(:attributes=>Dict(\"data-bind\"=>\"text: formatted_val\")), 0)], Dict{Symbol,Any}(:className=>\"interact-flex-row-right\"), 1)], Dict{Symbol,Any}(:className=>\"interact-flex-row interact-widget\"), 7), Dict{String,Tuple{Observables.AbstractObservable,Union{Nothing, Bool}}}(\"changes\"=>(Observable{Int64} with 1 listeners. Value:\n",
       "0, nothing),\"index\"=>(Observable{Int64} with 2 listeners. Value:\n",
       "4, nothing)), Set(String[]), nothing, Asset[Asset(\"js\", \"knockout\", \"/Users/alanedelman/.julia/packages/Knockout/JE2Yq/src/../assets/knockout.js\"), Asset(\"js\", \"knockout_punches\", \"/Users/alanedelman/.julia/packages/Knockout/JE2Yq/src/../assets/knockout_punches.js\"), Asset(\"js\", nothing, \"/Users/alanedelman/.julia/packages/InteractBase/R8JgH/src/../assets/all.js\"), Asset(\"css\", nothing, \"/Users/alanedelman/.julia/packages/InteractBase/R8JgH/src/../assets/style.css\"), Asset(\"css\", nothing, \"/Users/alanedelman/.julia/packages/Interact/0klKX/src/../assets/bulma_confined.min.css\")], Dict{Any,Any}(\"changes\"=>Any[JSString(\"(function (val){return (val!=this.model[\\\"changes\\\"]()) ? (this.valueFromJulia[\\\"changes\\\"]=true, this.model[\\\"changes\\\"](val)) : undefined})\")],\"index\"=>Any[JSString(\"(function (val){return (val!=this.model[\\\"index\\\"]()) ? (this.valueFromJulia[\\\"index\\\"]=true, this.model[\\\"index\\\"](val)) : undefined})\")]), ConnectionPool(Channel{Any}(sz_max:9223372036854775807,sz_curr:0), Set(AbstractConnection[]), Channel{AbstractConnection}(sz_max:32,sz_curr:0)), WebIO.JSString[JSString(\"function () {\\n    var handler = (function (ko, koPunches) {\\n    ko.punches.enableAll();\\n    ko.bindingHandlers.numericValue = {\\n        init : function(element, valueAccessor, allBindings, data, context) {\\n            var stringified = ko.observable(ko.unwrap(valueAccessor()));\\n            stringified.subscribe(function(value) {\\n                var val = parseFloat(value);\\n                if (!isNaN(val)) {\\n                    valueAccessor()(val);\\n                }\\n            })\\n            valueAccessor().subscribe(function(value) {\\n                var str = JSON.stringify(value);\\n                if ((str == \\\"0\\\") && ([\\\"-0\\\", \\\"-0.\\\"].indexOf(stringified()) >= 0))\\n                     return;\\n                 if ([\\\"null\\\", \\\"\\\"].indexOf(str) >= 0)\\n                     return;\\n                stringified(str);\\n            })\\n            ko.applyBindingsToNode(element, { value: stringified, valueUpdate: allBindings.get('valueUpdate')}, context);\\n        }\\n    };\\n    var json_data = {\\\"formatted_vals\\\":[\\\"2\\\",\\\"3\\\",\\\"4\\\",\\\"5\\\",\\\"6\\\"],\\\"changes\\\":WebIO.getval({\\\"name\\\":\\\"changes\\\",\\\"scope\\\":\\\"knockout-component-deb12614-9a50-4851-bcde-0db09e71f78d\\\",\\\"id\\\":\\\"ob_52\\\",\\\"type\\\":\\\"observable\\\"}),\\\"index\\\":WebIO.getval({\\\"name\\\":\\\"index\\\",\\\"scope\\\":\\\"knockout-component-deb12614-9a50-4851-bcde-0db09e71f78d\\\",\\\"id\\\":\\\"ob_51\\\",\\\"type\\\":\\\"observable\\\"})};\\n    var self = this;\\n    function AppViewModel() {\\n        for (var key in json_data) {\\n            var el = json_data[key];\\n            this[key] = Array.isArray(el) ? ko.observableArray(el) : ko.observable(el);\\n        }\\n        \\n        [this[\\\"formatted_val\\\"]=ko.computed(    function(){\\n        return this.formatted_vals()[parseInt(this.index())-1];\\n    }\\n,this)]\\n        [this[\\\"changes\\\"].subscribe((function (val){!(this.valueFromJulia[\\\"changes\\\"]) ? (WebIO.setval({\\\"name\\\":\\\"changes\\\",\\\"scope\\\":\\\"knockout-component-deb12614-9a50-4851-bcde-0db09e71f78d\\\",\\\"id\\\":\\\"ob_52\\\",\\\"type\\\":\\\"observable\\\"},val)) : undefined; return this.valueFromJulia[\\\"changes\\\"]=false}),self),this[\\\"index\\\"].subscribe((function (val){!(this.valueFromJulia[\\\"index\\\"]) ? (WebIO.setval({\\\"name\\\":\\\"index\\\",\\\"scope\\\":\\\"knockout-component-deb12614-9a50-4851-bcde-0db09e71f78d\\\",\\\"id\\\":\\\"ob_51\\\",\\\"type\\\":\\\"observable\\\"},val)) : undefined; return this.valueFromJulia[\\\"index\\\"]=false}),self)]\\n        \\n    }\\n    self.model = new AppViewModel();\\n    self.valueFromJulia = {};\\n    for (var key in json_data) {\\n        self.valueFromJulia[key] = false;\\n    }\\n    ko.applyBindings(self.model, self.dom);\\n}\\n);\\n    (WebIO.importBlock({\\\"data\\\":[{\\\"name\\\":\\\"knockout\\\",\\\"type\\\":\\\"js\\\",\\\"url\\\":\\\"/assetserver/a8d465714ca0b50fcacaa7d87d7fe7277251eb7a-knockout.js\\\"},{\\\"name\\\":\\\"knockout_punches\\\",\\\"type\\\":\\\"js\\\",\\\"url\\\":\\\"/assetserver/fadafe50514ba2741549559683e093f56983d17e-knockout_punches.js\\\"}],\\\"type\\\":\\\"async_block\\\"})).then((imports) => handler.apply(this, imports));\\n}\\n\")])], Dict{Symbol,Any}(:className=>\"field interact-widget\"), 1), Observable{Any} with 0 listeners. Value:\n",
       "Node{DOM}(DOM(:html, :div), Any[Plot{Plots.GRBackend() n=1}], Dict{Symbol,Any}(:className=>\"interact-flex-row interact-widget\"), 1)], Dict{Symbol,Any}(), 2)"
      ]
     },
     "execution_count": 200,
     "metadata": {
      "application/vnd.webio.node+json": {
       "kernelId": "ff0b2550-d4f2-44da-a29b-2973471c31af"
      }
     },
     "output_type": "execute_result"
    },
    {
     "name": "stderr",
     "output_type": "stream",
     "text": [
      "BoundsError: attempt to access 7×7 Array{Complex{Float64},2} at index [Base.Slice(Base.OneTo(7)), 50]\n",
      "Stacktrace:\n",
      " [1] \u001b[1mthrow_boundserror\u001b[22m\u001b[1m(\u001b[22m::"
     ]
    },
    {
     "ename": "BoundsError",
     "evalue": "BoundsError: attempt to access 7×7 Array{Complex{Float64},2} at index [Base.Slice(Base.OneTo(7)), 50]",
     "output_type": "error",
     "traceback": [
      "KERNEL EXCEPTION",
      "BoundsError: attempt to access 7×7 Array{Complex{Float64},2} at index [Base.Slice(Base.OneTo(7)), 50]",
      "",
      "Stacktrace:",
      " [1] throw_boundserror(::Array{Complex{Float64},2}, ::Tuple{Base.Slice{Base.OneTo{Int64}},Int64}) at ./abstractarray.jl:484",
      " [2] checkbounds at ./abstractarray.jl:449 [inlined]",
      " [3] _getindex at ./multidimensional.jl:641 [inlined]",
      " [4] getindex at ./abstractarray.jl:927 [inlined]",
      " [5] (::getfield(Main, Symbol(\"##15#16\")))(::Int64) at ./In[14]:4",
      " [6] (::getfield(Observables, Symbol(\"##16#17\")){getfield(Main, Symbol(\"##15#16\")),Observable{Any}})(::Int64) at /Users/alanedelman/.julia/packages/Observables/qCJWB/src/Observables.jl:152",
      " [7] (::getfield(Observables, Symbol(\"#g#15\")){getfield(Observables, Symbol(\"##16#17\")){getfield(Main, Symbol(\"##15#16\")),Observable{Any}},Tuple{Widget{:slider,Int64}}})(::Int64) at /Users/alanedelman/.julia/packages/Observables/qCJWB/src/Observables.jl:136",
      " [8] #setindex!#1(::getfield(WebIO, Symbol(\"##39#40\")), ::Function, ::Observable{Int64}, ::Int64) at /Users/alanedelman/.julia/packages/Observables/qCJWB/src/Observables.jl:87",
      " [9] #setindex! at ./none:0 [inlined]",
      " [10] setexcludinghandlers at /Users/alanedelman/.julia/packages/Observables/qCJWB/src/Observables.jl:103 [inlined]",
      " [11] set_nosync(::Observable{Int64}, ::Int64) at /Users/alanedelman/.julia/packages/WebIO/7G1ZY/src/scope.jl:336",
      " [12] dispatch(::Scope, ::String, ::Int64) at /Users/alanedelman/.julia/packages/WebIO/7G1ZY/src/scope.jl:344",
      " [13] dispatch_command(::WebIO.IJuliaConnection, ::Dict{String,Any}) at /Users/alanedelman/.julia/packages/WebIO/7G1ZY/src/connection.jl:107",
      " [14] dispatch(::WebIO.IJuliaConnection, ::Dict{String,Any}) at /Users/alanedelman/.julia/packages/WebIO/7G1ZY/src/connection.jl:75",
      " [15] (::getfield(WebIO, Symbol(\"##84#85\")){WebIO.IJuliaConnection})(::IJulia.Msg) at /Users/alanedelman/.julia/packages/WebIO/7G1ZY/src/providers/ijulia.jl:21",
      " [16] comm_msg(::ZMQ.Socket, ::IJulia.Msg) at /Users/alanedelman/.julia/packages/IJulia/gI2uA/src/comm_manager.jl:134",
      " [17] #invokelatest#1 at ./essentials.jl:742 [inlined]",
      " [18] invokelatest at ./essentials.jl:741 [inlined]",
      " [19] eventloop(::ZMQ.Socket) at /Users/alanedelman/.julia/packages/IJulia/gI2uA/src/eventloop.jl:8",
      " [20] (::getfield(IJulia, Symbol(\"##15#18\")))() at ./task.jl:259"
     ]
    },
    {
     "name": "stderr",
     "output_type": "stream",
     "text": [
      "Array{Complex{Float64},2}, ::Tuple{Base.Slice{Base.OneTo{Int64}},Int64}\u001b[1m)\u001b[22m at \u001b[1m./abstractarray.jl:484\u001b[22m\n",
      " [2] \u001b[1mcheckbounds\u001b[22m at \u001b[1m./abstractarray.jl:449\u001b[22m [inlined]\n",
      " [3] \u001b[1m_getindex\u001b[22m at \u001b[1m./multidimensional.jl:641\u001b[22m [inlined]\n",
      " [4] \u001b[1mgetindex\u001b[22m at \u001b[1m./abstractarray.jl:927\u001b[22m [inlined]\n",
      " [5] \u001b[1m(::getfield(Main, Symbol(\"##15#16\")))\u001b[22m\u001b[1m(\u001b[22m::Int64\u001b[1m)\u001b[22m at \u001b[1m./In[14]:4\u001b[22m\n",
      " [6] \u001b[1m(::getfield(Observables, Symbol(\"##16#17\")){getfield(Main, Symbol(\"##15#16\")),Observable{Any}})\u001b[22m\u001b[1m(\u001b[22m::Int64\u001b[1m)\u001b[22m at \u001b[1m/Users/alanedelman/.julia/packages/Observables/qCJWB/src/Observables.jl:152\u001b[22m\n",
      " [7] \u001b[1m(::getfield(Observables, Symbol(\"#g#15\")){getfield(Observables, Symbol(\"##16#17\")){getfield(Main, Symbol(\"##15#16\")),Observable{Any}},Tuple{Widget{:slider,Int64}}})\u001b[22m\u001b[1m(\u001b[22m::Int64\u001b[1m)\u001b[22m at \u001b[1m/Users/alanedelman/.julia/packages/Observables/qCJWB/src/Observables.jl:136\u001b[22m\n",
      " [8] \u001b[1m#setindex!#1\u001b[22m\u001b[1m(\u001b[22m::getfield(WebIO, Symbol(\"##39#40\")), ::Function, ::Observable{Int64}, ::Int64\u001b[1m)\u001b[22m at \u001b[1m/Users/alanedelman/.julia/packages/Observables/qCJWB/src/Observables.jl:87\u001b[22m\n",
      " [9] \u001b[1m#setindex!\u001b[22m at \u001b[1m./none:0\u001b[22m [inlined]\n",
      " [10] \u001b[1msetexcludinghandlers\u001b[22m at \u001b[1m/Users/alanedelman/.julia/packages/Observables/qCJWB/src/Observables.jl:103\u001b[22m [inlined]\n",
      " [11] \u001b[1mset_nosync\u001b[22m\u001b[1m(\u001b[22m::Observable{Int64}, ::Int64\u001b[1m)\u001b[22m at \u001b[1m/Users/alanedelman/.julia/packages/WebIO/7G1ZY/src/scope.jl:336\u001b[22m\n",
      " [12] \u001b[1mdispatch\u001b[22m\u001b[1m(\u001b[22m::Scope, ::String, ::Int64\u001b[1m)\u001b[22m at \u001b[1m/Users/alanedelman/.julia/packages/WebIO/7G1ZY/src/scope.jl:344\u001b[22m\n",
      " [13] \u001b[1mdispatch_command\u001b[22m\u001b[1m(\u001b[22m::WebIO.IJuliaConnection, ::Dict{String,Any}\u001b[1m)\u001b[22m at \u001b[1m/Users/alanedelman/.julia/packages/WebIO/7G1ZY/src/connection.jl:107\u001b[22m\n",
      " [14] \u001b[1mdispatch\u001b[22m\u001b[1m(\u001b[22m::WebIO.IJuliaConnection, ::Dict{String,Any}\u001b[1m)\u001b[22m at \u001b[1m/Users/alanedelman/.julia/packages/WebIO/7G1ZY/src/connection.jl:75\u001b[22m\n",
      " [15] \u001b[1m(::getfield(WebIO, Symbol(\"##84#85\")){WebIO.IJuliaConnection})\u001b[22m\u001b[1m(\u001b[22m::IJulia.Msg\u001b[1m)\u001b[22m at \u001b[1m/Users/alanedelman/.julia/packages/WebIO/7G1ZY/src/providers/ijulia.jl:21\u001b[22m\n",
      " [16] \u001b[1mcomm_msg\u001b[22m\u001b[1m(\u001b[22m::ZMQ.Socket, ::IJulia.Msg\u001b[1m)\u001b[22m at \u001b[1m/Users/alanedelman/.julia/packages/IJulia/gI2uA/src/comm_manager.jl:134\u001b[22m\n",
      " [17] \u001b[1m#invokelatest#1\u001b[22m at \u001b[1m./essentials.jl:742\u001b[22m [inlined]\n",
      " [18] \u001b[1minvokelatest\u001b[22m at \u001b[1m./essentials.jl:741\u001b[22m [inlined]\n",
      " [19] \u001b[1meventloop\u001b[22m\u001b[1m(\u001b[22m::ZMQ.Socket\u001b[1m)\u001b[22m at \u001b[1m/Users/alanedelman/.julia/packages/IJulia/gI2uA/src/eventloop.jl:8\u001b[22m\n",
      " [20] \u001b[1m(::getfield(IJulia, Symbol(\"##15#18\")))\u001b[22m\u001b[1m(\u001b[22m\u001b[1m)\u001b[22m at \u001b[1m./task.jl:259\u001b[22m"
     ]
    },
    {
     "ename": "BoundsError",
     "evalue": "BoundsError: attempt to access 7×7 Array{Complex{Float64},2} at index [Base.Slice(Base.OneTo(7)), 48]",
     "output_type": "error",
     "traceback": [
      "KERNEL EXCEPTION",
      "BoundsError: attempt to access 7×7 Array{Complex{Float64},2} at index [Base.Slice(Base.OneTo(7)), 48]",
      "",
      "Stacktrace:",
      " [1] throw_boundserror(::Array{Complex{Float64},2}, ::Tuple{Base.Slice{Base.OneTo{Int64}},Int64}) at ./abstractarray.jl:484",
      " [2] checkbounds at ./abstractarray.jl:449 [inlined]",
      " [3] _getindex at ./multidimensional.jl:641 [inlined]",
      " [4] getindex at ./abstractarray.jl:927 [inlined]",
      " [5] (::getfield(Main, Symbol(\"##15#16\")))(::Int64) at ./In[14]:4",
      " [6] (::getfield(Observables, Symbol(\"##16#17\")){getfield(Main, Symbol(\"##15#16\")),Observable{Any}})(::Int64) at /Users/alanedelman/.julia/packages/Observables/qCJWB/src/Observables.jl:152",
      " [7] (::getfield(Observables, Symbol(\"#g#15\")){getfield(Observables, Symbol(\"##16#17\")){getfield(Main, Symbol(\"##15#16\")),Observable{Any}},Tuple{Widget{:slider,Int64}}})(::Int64) at /Users/alanedelman/.julia/packages/Observables/qCJWB/src/Observables.jl:136",
      " [8] #setindex!#1(::getfield(WebIO, Symbol(\"##39#40\")), ::Function, ::Observable{Int64}, ::Int64) at /Users/alanedelman/.julia/packages/Observables/qCJWB/src/Observables.jl:87",
      " [9] #setindex! at ./none:0 [inlined]",
      " [10] setexcludinghandlers at /Users/alanedelman/.julia/packages/Observables/qCJWB/src/Observables.jl:103 [inlined]",
      " [11] set_nosync(::Observable{Int64}, ::Int64) at /Users/alanedelman/.julia/packages/WebIO/7G1ZY/src/scope.jl:336",
      " [12] dispatch(::Scope, ::String, ::Int64) at /Users/alanedelman/.julia/packages/WebIO/7G1ZY/src/scope.jl:344",
      " [13] dispatch_command(::WebIO.IJuliaConnection, ::Dict{String,Any}) at /Users/alanedelman/.julia/packages/WebIO/7G1ZY/src/connection.jl:107",
      " [14] dispatch(::WebIO.IJuliaConnection, ::Dict{String,Any}) at /Users/alanedelman/.julia/packages/WebIO/7G1ZY/src/connection.jl:75",
      " [15] (::getfield(WebIO, Symbol(\"##84#85\")){WebIO.IJuliaConnection})(::IJulia.Msg) at /Users/alanedelman/.julia/packages/WebIO/7G1ZY/src/providers/ijulia.jl:21",
      " [16] comm_msg(::ZMQ.Socket, ::IJulia.Msg) at /Users/alanedelman/.julia/packages/IJulia/gI2uA/src/comm_manager.jl:134",
      " [17] #invokelatest#1 at ./essentials.jl:742 [inlined]",
      " [18] invokelatest at ./essentials.jl:741 [inlined]",
      " [19] eventloop(::ZMQ.Socket) at /Users/alanedelman/.julia/packages/IJulia/gI2uA/src/eventloop.jl:8",
      " [20] (::getfield(IJulia, Symbol(\"##15#18\")))() at ./task.jl:259"
     ]
    },
    {
     "name": "stderr",
     "output_type": "stream",
     "text": [
      "BoundsError: attempt to access 7×7 Array{Complex{Float64},2} at index [Base.Slice(Base.OneTo(7)), 48]\n",
      "Stacktrace:\n",
      " [1] \u001b[1mthrow_boundserror\u001b[22m\u001b[1m(\u001b[22m::Array{Complex{Float64},2}, ::Tuple{Base.Slice{Base.OneTo{Int64}},Int64}\u001b[1m)\u001b[22m at \u001b[1m./abstractarray.jl:484\u001b[22m\n",
      " [2] \u001b[1mcheckbounds\u001b[22m at \u001b[1m./abstractarray.jl:449\u001b[22m [inlined]\n",
      " [3] \u001b[1m_getindex\u001b[22m at \u001b[1m./multidimensional.jl:641\u001b[22m [inlined]\n",
      " [4] \u001b[1mgetindex\u001b[22m at \u001b[1m./abstractarray.jl:927\u001b[22m [inlined]\n",
      " [5] \u001b[1m(::getfield(Main, Symbol(\"##15#16\")))\u001b[22m\u001b[1m(\u001b[22m::Int64\u001b[1m)\u001b[22m at \u001b[1m./In[14]:4\u001b[22m\n",
      " [6] \u001b[1m(::getfield(Observables, Symbol(\"##16#17\")){getfield(Main, Symbol(\"##15#16\")),Observable{Any}})\u001b[22m\u001b[1m(\u001b[22m::Int64\u001b[1m)\u001b[22m at \u001b[1m/Users/alanedelman/.julia/packages/Observables/qCJWB/src/Observables.jl:152\u001b[22m\n",
      " [7] \u001b[1m(::getfield(Observables, Symbol(\"#g#15\")){getfield(Observables, Symbol(\"##16#17\")){getfield(Main, Symbol(\"##15#16\")),Observable{Any}},Tuple{Widget{:slider,Int64}}})\u001b[22m\u001b[1m(\u001b[22m::Int64\u001b[1m)\u001b[22m at \u001b[1m/Users/alanedelman/.julia/packages/Observables/qCJWB/src/Observables.jl:136\u001b[22m\n",
      " [8] \u001b[1m#setindex!#1\u001b[22m\u001b[1m(\u001b[22m::getfield(WebIO, Symbol(\"##39#40\")), ::Function, ::Observable{Int64}, ::Int64\u001b[1m)\u001b[22m at \u001b[1m/Users/alanedelman/.julia/packages/Observables/qCJWB/src/Observables.jl:87\u001b[22m\n",
      " [9] \u001b[1m#setindex!\u001b[22m at \u001b[1m./none:0\u001b[22m [inlined]\n",
      " [10] \u001b[1msetexcludinghandlers\u001b[22m at \u001b[1m/Users/alanedelman/.julia/packages/Observables/qCJWB/src/Observables.jl:103\u001b[22m [inlined]\n",
      " [11] \u001b[1mset_nosync\u001b[22m\u001b[1m(\u001b[22m::Observable{Int64}, ::Int64\u001b[1m)\u001b[22m at \u001b[1m/Users/alanedelman/.julia/packages/WebIO/7G1ZY/src/scope.jl:336\u001b[22m\n",
      " [12] \u001b[1mdispatch\u001b[22m\u001b[1m(\u001b[22m::Scope, ::String, ::Int64\u001b[1m)\u001b[22m at \u001b[1m/Users/alanedelman/.julia/packages/WebIO/7G1ZY/src/scope.jl:344\u001b[22m\n",
      " [13] \u001b[1mdispatch_command\u001b[22m\u001b[1m(\u001b[22m::WebIO.IJuliaConnection, ::Dict{String,Any}\u001b[1m)\u001b[22m at \u001b[1m/Users/alanedelman/.julia/packages/WebIO/7G1ZY/src/connection.jl:107\u001b[22m\n",
      " [14] \u001b[1mdispatch\u001b[22m\u001b[1m(\u001b[22m::WebIO.IJuliaConnection, ::Dict{String,Any}\u001b[1m)\u001b[22m at \u001b[1m/Users/alanedelman/.julia/packages/WebIO/7G1ZY/src/connection.jl:75\u001b[22m\n",
      " [15] \u001b[1m(::getfield(WebIO, Symbol(\"##84#85\")){WebIO.IJuliaConnection})\u001b[22m\u001b[1m(\u001b[22m::IJulia.Msg\u001b[1m)\u001b[22m at \u001b[1m/Users/alanedelman/.julia/packages/WebIO/7G1ZY/src/providers/ijulia.jl:21\u001b[22m\n",
      " [16] \u001b[1mcomm_msg\u001b[22m\u001b[1m(\u001b[22m::ZMQ.Socket, ::IJulia.Msg\u001b[1m)\u001b[22m at \u001b[1m/Users/alanedelman/.julia/packages/IJulia/gI2uA/src/comm_manager.jl:134\u001b[22m\n",
      " [17] \u001b[1m#invokelatest#1\u001b[22m at \u001b[1m./essentials.jl:742\u001b[22m [inlined]\n",
      " [18] \u001b[1minvokelatest\u001b[22m at \u001b[1m./essentials.jl:741\u001b[22m [inlined]\n",
      " [19] \u001b[1meventloop\u001b[22m\u001b[1m(\u001b[22m::ZMQ.Socket\u001b[1m)\u001b[22m at \u001b[1m/Users/alanedelman/.julia/packages/IJulia/gI2uA/src/eventloop.jl:8\u001b[22m\n",
      " [20] \u001b[1m(::getfield(IJulia, Symbol(\"##15#18\")))\u001b[22m\u001b[1m(\u001b[22m\u001b[1m)\u001b[22m at \u001b[1m./task.jl:259\u001b[22m"
     ]
    },
    {
     "ename": "BoundsError",
     "evalue": "BoundsError: attempt to access 7×7 Array{Complex{Float64},2} at index [Base.Slice(Base.OneTo(7)), 46]",
     "output_type": "error",
     "traceback": [
      "KERNEL EXCEPTION",
      "BoundsError: attempt to access 7×7 Array{Complex{Float64},2} at index [Base.Slice(Base.OneTo(7)), 46]",
      "",
      "Stacktrace:",
      " [1] throw_boundserror(::Array{Complex{Float64},2}, ::Tuple{Base.Slice{Base.OneTo{Int64}},Int64}) at ./abstractarray.jl:484",
      " [2] checkbounds at ./abstractarray.jl:449 [inlined]",
      " [3] _getindex at ./multidimensional.jl:641 [inlined]",
      " [4] getindex at ./abstractarray.jl:927 [inlined]",
      " [5] (::getfield(Main, Symbol(\"##15#16\")))(::Int64) at ./In[14]:4",
      " [6] (::getfield(Observables, Symbol(\"##16#17\")){getfield(Main, Symbol(\"##15#16\")),Observable{Any}})(::Int64) at /Users/alanedelman/.julia/packages/Observables/qCJWB/src/Observables.jl:152",
      " [7] (::getfield(Observables, Symbol(\"#g#15\")){getfield(Observables, Symbol(\"##16#17\")){getfield(Main, Symbol(\"##15#16\")),Observable{Any}},Tuple{Widget{:slider,Int64}}})(::Int64) at /Users/alanedelman/.julia/packages/Observables/qCJWB/src/Observables.jl:136",
      " [8] #setindex!#1(::getfield(WebIO, Symbol(\"##39#40\")), ::Function, ::Observable{Int64}, ::Int64) at /Users/alanedelman/.julia/packages/Observables/qCJWB/src/Observables.jl:87",
      " [9] #setindex! at ./none:0 [inlined]",
      " [10] setexcludinghandlers at /Users/alanedelman/.julia/packages/Observables/qCJWB/src/Observables.jl:103 [inlined]",
      " [11] set_nosync(::Observable{Int64}, ::Int64) at /Users/alanedelman/.julia/packages/WebIO/7G1ZY/src/scope.jl:336",
      " [12] dispatch(::Scope, ::String, ::Int64) at /Users/alanedelman/.julia/packages/WebIO/7G1ZY/src/scope.jl:344",
      " [13] dispatch_command(::WebIO.IJuliaConnection, ::Dict{String,Any}) at /Users/alanedelman/.julia/packages/WebIO/7G1ZY/src/connection.jl:107",
      " [14] dispatch(::WebIO.IJuliaConnection, ::Dict{String,Any}) at /Users/alanedelman/.julia/packages/WebIO/7G1ZY/src/connection.jl:75",
      " [15] (::getfield(WebIO, Symbol(\"##84#85\")){WebIO.IJuliaConnection})(::IJulia.Msg) at /Users/alanedelman/.julia/packages/WebIO/7G1ZY/src/providers/ijulia.jl:21",
      " [16] comm_msg(::ZMQ.Socket, ::IJulia.Msg) at /Users/alanedelman/.julia/packages/IJulia/gI2uA/src/comm_manager.jl:134",
      " [17] #invokelatest#1 at ./essentials.jl:742 [inlined]",
      " [18] invokelatest at ./essentials.jl:741 [inlined]",
      " [19] eventloop(::ZMQ.Socket) at /Users/alanedelman/.julia/packages/IJulia/gI2uA/src/eventloop.jl:8",
      " [20] (::getfield(IJulia, Symbol(\"##15#18\")))() at ./task.jl:259"
     ]
    },
    {
     "name": "stderr",
     "output_type": "stream",
     "text": [
      "BoundsError: attempt to access 7×7 Array{Complex{Float64},2} at index [Base.Slice(Base.OneTo(7)), 46]\n",
      "Stacktrace:\n",
      " [1] \u001b[1mthrow_boundserror\u001b[22m\u001b[1m(\u001b[22m::Array{Complex{Float64},2}, ::Tuple{Base.Slice{Base.OneTo{Int64}},Int64}\u001b[1m)\u001b[22m at \u001b[1m./abstractarray.jl:484\u001b[22m\n",
      " [2] \u001b[1mcheckbounds\u001b[22m at \u001b[1m./abstractarray.jl:449\u001b[22m [inlined]\n",
      " [3] \u001b[1m_getindex\u001b[22m at \u001b[1m./multidimensional.jl:641\u001b[22m [inlined]\n",
      " [4] \u001b[1mgetindex\u001b[22m at \u001b[1m./abstractarray.jl:927\u001b[22m [inlined]\n",
      " [5] \u001b[1m(::getfield(Main, Symbol(\"##15#16\")))\u001b[22m\u001b[1m(\u001b[22m::Int64\u001b[1m)\u001b[22m at \u001b[1m./In[14]:4\u001b[22m\n",
      " [6] \u001b[1m(::getfield(Observables, Symbol(\"##16#17\")){getfield(Main, Symbol(\"##15#16\")),Observable{Any}})\u001b[22m\u001b[1m(\u001b[22m::Int64\u001b[1m)\u001b[22m at \u001b[1m/Users/alanedelman/.julia/packages/Observables/qCJWB/src/Observables.jl:152\u001b[22m\n",
      " [7] \u001b[1m(::getfield(Observables, Symbol(\"#g#15\")){getfield(Observables, Symbol(\"##16#17\")){getfield(Main, Symbol(\"##15#16\")),Observable{Any}},Tuple{Widget{:slider,Int64}}})\u001b[22m\u001b[1m(\u001b[22m::Int64\u001b[1m)\u001b[22m at \u001b[1m/Users/alanedelman/.julia/packages/Observables/qCJWB/src/Observables.jl:136\u001b[22m\n",
      " [8] \u001b[1m#setindex!#1\u001b[22m\u001b[1m(\u001b[22m::getfield(WebIO, Symbol(\"##39#40\")), ::Function, ::Observable{Int64}, ::Int64\u001b[1m)\u001b[22m at \u001b[1m/Users/alanedelman/.julia/packages/Observables/qCJWB/src/Observables.jl:87\u001b[22m\n",
      " [9] \u001b[1m#setindex!\u001b[22m at \u001b[1m./none:0\u001b[22m [inlined]\n",
      " [10] \u001b[1msetexcludinghandlers\u001b[22m at \u001b[1m/Users/alanedelman/.julia/packages/Observables/qCJWB/src/Observables.jl:103\u001b[22m [inlined]\n",
      " [11] \u001b[1mset_nosync\u001b[22m\u001b[1m(\u001b[22m::Observable{Int64}, ::Int64\u001b[1m)\u001b[22m at \u001b[1m/Users/alanedelman/.julia/packages/WebIO/7G1ZY/src/scope.jl:336\u001b[22m\n",
      " [12] \u001b[1mdispatch\u001b[22m\u001b[1m(\u001b[22m::Scope, ::String, ::Int64\u001b[1m)\u001b[22m at \u001b[1m/Users/alanedelman/.julia/packages/WebIO/7G1ZY/src/scope.jl:344\u001b[22m\n",
      " [13] \u001b[1mdispatch_command\u001b[22m\u001b[1m(\u001b[22m::WebIO.IJuliaConnection, ::Dict{String,Any}\u001b[1m)\u001b[22m at \u001b[1m/Users/alanedelman/.julia/packages/WebIO/7G1ZY/src/connection.jl:107\u001b[22m\n",
      " [14] \u001b[1mdispatch\u001b[22m\u001b[1m(\u001b[22m::WebIO.IJuliaConnection, ::Dict{String,Any}\u001b[1m)\u001b[22m at \u001b[1m/Users/alanedelman/.julia/packages/WebIO/7G1ZY/src/connection.jl:75\u001b[22m\n",
      " [15] \u001b[1m(::getfield(WebIO, Symbol(\"##84#85\")){WebIO.IJuliaConnection})\u001b[22m\u001b[1m(\u001b[22m::IJulia.Msg\u001b[1m)\u001b[22m at \u001b[1m/Users/alanedelman/.julia/packages/WebIO/7G1ZY/src/providers/ijulia.jl:21\u001b[22m\n",
      " [16] \u001b[1mcomm_msg\u001b[22m\u001b[1m(\u001b[22m::ZMQ.Socket, ::IJulia.Msg\u001b[1m)\u001b[22m at \u001b[1m/Users/alanedelman/.julia/packages/IJulia/gI2uA/src/comm_manager.jl:134\u001b[22m\n",
      " [17] \u001b[1m#invokelatest#1\u001b[22m at \u001b[1m./essentials.jl:742\u001b[22m [inlined]\n",
      " [18] \u001b[1minvokelatest\u001b[22m at \u001b[1m./essentials.jl:741\u001b[22m [inlined]\n",
      " [19] \u001b[1meventloop\u001b[22m\u001b[1m(\u001b[22m::ZMQ.Socket\u001b[1m)\u001b[22m at \u001b[1m/Users/alanedelman/.julia/packages/IJulia/gI2uA/src/eventloop.jl:8\u001b[22m\n",
      " [20] \u001b[1m(::getfield(IJulia, Symbol(\"##15#18\")))\u001b[22m\u001b[1m(\u001b[22m\u001b[1m)\u001b[22m at \u001b[1m./task.jl:259\u001b[22m"
     ]
    },
    {
     "ename": "BoundsError",
     "evalue": "BoundsError: attempt to access 7×7 Array{Complex{Float64},2} at index [Base.Slice(Base.OneTo(7)), 43]",
     "output_type": "error",
     "traceback": [
      "KERNEL EXCEPTION",
      "BoundsError: attempt to access 7×7 Array{Complex{Float64},2} at index [Base.Slice(Base.OneTo(7)), 43]",
      "",
      "Stacktrace:",
      " [1] throw_boundserror(::Array{Complex{Float64},2}, ::Tuple{Base.Slice{Base.OneTo{Int64}},Int64}) at ./abstractarray.jl:484",
      " [2] checkbounds at ./abstractarray.jl:449 [inlined]",
      " [3] _getindex at ./multidimensional.jl:641 [inlined]",
      " [4] getindex at ./abstractarray.jl:927 [inlined]",
      " [5] (::getfield(Main, Symbol(\"##15#16\")))(::Int64) at ./In[14]:4",
      " [6] (::getfield(Observables, Symbol(\"##16#17\")){getfield(Main, Symbol(\"##15#16\")),Observable{Any}})(::Int64) at /Users/alanedelman/.julia/packages/Observables/qCJWB/src/Observables.jl:152",
      " [7] (::getfield(Observables, Symbol(\"#g#15\")){getfield(Observables, Symbol(\"##16#17\")){getfield(Main, Symbol(\"##15#16\")),Observable{Any}},Tuple{Widget{:slider,Int64}}})(::Int64) at /Users/alanedelman/.julia/packages/Observables/qCJWB/src/Observables.jl:136",
      " [8] #setindex!#1(::getfield(WebIO, Symbol(\"##39#40\")), ::Function, ::Observable{Int64}, ::Int64) at /Users/alanedelman/.julia/packages/Observables/qCJWB/src/Observables.jl:87",
      " [9] #setindex! at ./none:0 [inlined]",
      " [10] setexcludinghandlers at /Users/alanedelman/.julia/packages/Observables/qCJWB/src/Observables.jl:103 [inlined]",
      " [11] set_nosync(::Observable{Int64}, ::Int64) at /Users/alanedelman/.julia/packages/WebIO/7G1ZY/src/scope.jl:336",
      " [12] dispatch(::Scope, ::String, ::Int64) at /Users/alanedelman/.julia/packages/WebIO/7G1ZY/src/scope.jl:344",
      " [13] dispatch_command(::WebIO.IJuliaConnection, ::Dict{String,Any}) at /Users/alanedelman/.julia/packages/WebIO/7G1ZY/src/connection.jl:107",
      " [14] dispatch(::WebIO.IJuliaConnection, ::Dict{String,Any}) at /Users/alanedelman/.julia/packages/WebIO/7G1ZY/src/connection.jl:75",
      " [15] (::getfield(WebIO, Symbol(\"##84#85\")){WebIO.IJuliaConnection})(::IJulia.Msg) at /Users/alanedelman/.julia/packages/WebIO/7G1ZY/src/providers/ijulia.jl:21",
      " [16] comm_msg(::ZMQ.Socket, ::IJulia.Msg) at /Users/alanedelman/.julia/packages/IJulia/gI2uA/src/comm_manager.jl:134",
      " [17] #invokelatest#1 at ./essentials.jl:742 [inlined]",
      " [18] invokelatest at ./essentials.jl:741 [inlined]",
      " [19] eventloop(::ZMQ.Socket) at /Users/alanedelman/.julia/packages/IJulia/gI2uA/src/eventloop.jl:8",
      " [20] (::getfield(IJulia, Symbol(\"##15#18\")))() at ./task.jl:259"
     ]
    },
    {
     "name": "stderr",
     "output_type": "stream",
     "text": [
      "BoundsError: attempt to access 7×7 Array{Complex{Float64},2} at index [Base.Slice(Base.OneTo(7)), 43]\n",
      "Stacktrace:\n",
      " [1] \u001b[1mthrow_boundserror\u001b[22m\u001b[1m(\u001b[22m::Array{Complex{Float64},2}, ::Tuple{Base.Slice{Base.OneTo{Int64}},Int64}\u001b[1m)\u001b[22m at \u001b[1m./abstractarray.jl:484\u001b[22m\n",
      " [2] \u001b[1mcheckbounds\u001b[22m at \u001b[1m./abstractarray.jl:449\u001b[22m [inlined]\n",
      " [3] \u001b[1m_getindex\u001b[22m at \u001b[1m./multidimensional.jl:641\u001b[22m [inlined]\n",
      " [4] \u001b[1mgetindex\u001b[22m at \u001b[1m./abstractarray.jl:927\u001b[22m [inlined]\n",
      " [5] \u001b[1m(::getfield(Main, Symbol(\"##15#16\")))\u001b[22m\u001b[1m(\u001b[22m::Int64\u001b[1m)\u001b[22m at \u001b[1m./In[14]:4\u001b[22m\n",
      " [6] \u001b[1m(::getfield(Observables, Symbol(\"##16#17\")){getfield(Main, Symbol(\"##15#16\")),Observable{Any}})\u001b[22m\u001b[1m(\u001b[22m::Int64\u001b[1m)\u001b[22m at \u001b[1m/Users/alanedelman/.julia/packages/Observables/qCJWB/src/Observables.jl:152\u001b[22m\n",
      " [7] \u001b[1m(::getfield(Observables, Symbol(\"#g#15\")){getfield(Observables, Symbol(\"##16#17\")){getfield(Main, Symbol(\"##15#16\")),Observable{Any}},Tuple{Widget{:slider,Int64}}})\u001b[22m\u001b[1m(\u001b[22m::Int64\u001b[1m)\u001b[22m at \u001b[1m/Users/alanedelman/.julia/packages/Observables/qCJWB/src/Observables.jl:136\u001b[22m\n",
      " [8] \u001b[1m#setindex!#1\u001b[22m\u001b[1m(\u001b[22m::getfield(WebIO, Symbol(\"##39#40\")), ::Function, ::Observable{Int64}, ::Int64\u001b[1m)\u001b[22m at \u001b[1m/Users/alanedelman/.julia/packages/Observables/qCJWB/src/Observables.jl:87\u001b[22m\n",
      " [9] \u001b[1m#setindex!\u001b[22m at \u001b[1m./none:0\u001b[22m [inlined]\n",
      " [10] \u001b[1msetexcludinghandlers\u001b[22m at \u001b[1m/Users/alanedelman/.julia/packages/Observables/qCJWB/src/Observables.jl:103\u001b[22m [inlined]\n",
      " [11] \u001b[1mset_nosync\u001b[22m\u001b[1m(\u001b[22m::Observable{Int64}, ::Int64\u001b[1m)\u001b[22m at \u001b[1m/Users/alanedelman/.julia/packages/WebIO/7G1ZY/src/scope.jl:336\u001b[22m\n",
      " [12] \u001b[1mdispatch\u001b[22m\u001b[1m(\u001b[22m::Scope, ::String, ::Int64\u001b[1m)\u001b[22m at \u001b[1m/Users/alanedelman/.julia/packages/WebIO/7G1ZY/src/scope.jl:344\u001b[22m\n",
      " [13] \u001b[1mdispatch_command\u001b[22m\u001b[1m(\u001b[22m::WebIO.IJuliaConnection, ::Dict{String,Any}\u001b[1m)\u001b[22m at \u001b[1m/Users/alanedelman/.julia/packages/WebIO/7G1ZY/src/connection.jl:107\u001b[22m\n",
      " [14] \u001b[1mdispatch\u001b[22m\u001b[1m(\u001b[22m::WebIO.IJuliaConnection, ::Dict{String,Any}\u001b[1m)\u001b[22m at \u001b[1m/Users/alanedelman/.julia/packages/WebIO/7G1ZY/src/connection.jl:75\u001b[22m\n",
      " [15] \u001b[1m(::getfield(WebIO, Symbol(\"##84#85\")){WebIO.IJuliaConnection})\u001b[22m\u001b[1m(\u001b[22m::IJulia.Msg\u001b[1m)\u001b[22m at \u001b[1m/Users/alanedelman/.julia/packages/WebIO/7G1ZY/src/providers/ijulia.jl:21\u001b[22m\n",
      " [16] \u001b[1mcomm_msg\u001b[22m\u001b[1m(\u001b[22m::ZMQ.Socket, ::IJulia.Msg\u001b[1m)\u001b[22m at \u001b[1m/Users/alanedelman/.julia/packages/IJulia/gI2uA/src/comm_manager.jl:134\u001b[22m\n",
      " [17] \u001b[1m#invokelatest#1\u001b[22m at \u001b[1m./essentials.jl:742\u001b[22m [inlined]\n",
      " [18] \u001b[1minvokelatest\u001b[22m at \u001b[1m./essentials.jl:741\u001b[22m [inlined]\n",
      " [19] \u001b[1meventloop\u001b[22m\u001b[1m(\u001b[22m::ZMQ.Socket\u001b[1m)\u001b[22m at \u001b[1m/Users/alanedelman/.julia/packages/IJulia/gI2uA/src/eventloop.jl:8\u001b[22m\n",
      " [20] \u001b[1m(::getfield(IJulia, Symbol(\"##15#18\")))\u001b[22m\u001b[1m(\u001b[22m\u001b[1m)\u001b[22m at \u001b[1m./task.jl:259\u001b[22m"
     ]
    },
    {
     "ename": "BoundsError",
     "evalue": "BoundsError: attempt to access 7×7 Array{Complex{Float64},2} at index [Base.Slice(Base.OneTo(7)), 40]",
     "output_type": "error",
     "traceback": [
      "KERNEL EXCEPTION",
      "BoundsError: attempt to access 7×7 Array{Complex{Float64},2} at index [Base.Slice(Base.OneTo(7)), 40]",
      "",
      "Stacktrace:",
      " [1] throw_boundserror(::Array{Complex{Float64},2}, ::Tuple{Base.Slice{Base.OneTo{Int64}},Int64}) at ./abstractarray.jl:484",
      " [2] checkbounds at ./abstractarray.jl:449 [inlined]",
      " [3] _getindex at ./multidimensional.jl:641 [inlined]",
      " [4] getindex at ./abstractarray.jl:927 [inlined]",
      " [5] (::getfield(Main, Symbol(\"##15#16\")))(::Int64) at ./In[14]:4",
      " [6] (::getfield(Observables, Symbol(\"##16#17\")){getfield(Main, Symbol(\"##15#16\")),Observable{Any}})(::Int64) at /Users/alanedelman/.julia/packages/Observables/qCJWB/src/Observables.jl:152",
      " [7] (::getfield(Observables, Symbol(\"#g#15\")){getfield(Observables, Symbol(\"##16#17\")){getfield(Main, Symbol(\"##15#16\")),Observable{Any}},Tuple{Widget{:slider,Int64}}})(::Int64) at /Users/alanedelman/.julia/packages/Observables/qCJWB/src/Observables.jl:136",
      " [8] #setindex!#1(::getfield(WebIO, Symbol(\"##39#40\")), ::Function, ::Observable{Int64}, ::Int64) at /Users/alanedelman/.julia/packages/Observables/qCJWB/src/Observables.jl:87",
      " [9] #setindex! at ./none:0 [inlined]",
      " [10] setexcludinghandlers at /Users/alanedelman/.julia/packages/Observables/qCJWB/src/Observables.jl:103 [inlined]",
      " [11] set_nosync(::Observable{Int64}, ::Int64) at /Users/alanedelman/.julia/packages/WebIO/7G1ZY/src/scope.jl:336",
      " [12] dispatch(::Scope, ::String, ::Int64) at /Users/alanedelman/.julia/packages/WebIO/7G1ZY/src/scope.jl:344",
      " [13] dispatch_command(::WebIO.IJuliaConnection, ::Dict{String,Any}) at /Users/alanedelman/.julia/packages/WebIO/7G1ZY/src/connection.jl:107",
      " [14] dispatch(::WebIO.IJuliaConnection, ::Dict{String,Any}) at /Users/alanedelman/.julia/packages/WebIO/7G1ZY/src/connection.jl:75",
      " [15] (::getfield(WebIO, Symbol(\"##84#85\")){WebIO.IJuliaConnection})(::IJulia.Msg) at /Users/alanedelman/.julia/packages/WebIO/7G1ZY/src/providers/ijulia.jl:21",
      " [16] comm_msg(::ZMQ.Socket, ::IJulia.Msg) at /Users/alanedelman/.julia/packages/IJulia/gI2uA/src/comm_manager.jl:134",
      " [17] #invokelatest#1 at ./essentials.jl:742 [inlined]",
      " [18] invokelatest at ./essentials.jl:741 [inlined]",
      " [19] eventloop(::ZMQ.Socket) at /Users/alanedelman/.julia/packages/IJulia/gI2uA/src/eventloop.jl:8",
      " [20] (::getfield(IJulia, Symbol(\"##15#18\")))() at ./task.jl:259"
     ]
    },
    {
     "name": "stderr",
     "output_type": "stream",
     "text": [
      "BoundsError: attempt to access 7×7 Array{Complex{Float64},2} at index [Base.Slice(Base.OneTo(7)), 40]\n",
      "Stacktrace:\n",
      " [1] \u001b[1mthrow_boundserror\u001b[22m\u001b[1m(\u001b[22m::Array{Complex{Float64},2}, ::Tuple{Base.Slice{Base.OneTo{Int64}},Int64}\u001b[1m)\u001b[22m at \u001b[1m./abstractarray.jl:484\u001b[22m\n",
      " [2] \u001b[1mcheckbounds\u001b[22m at \u001b[1m./abstractarray.jl:449\u001b[22m [inlined]\n",
      " [3] \u001b[1m_getindex\u001b[22m at \u001b[1m./multidimensional.jl:641\u001b[22m [inlined]\n",
      " [4] \u001b[1mgetindex\u001b[22m at \u001b[1m./abstractarray.jl:927\u001b[22m [inlined]\n",
      " [5] \u001b[1m(::getfield(Main, Symbol(\"##15#16\")))\u001b[22m\u001b[1m(\u001b[22m::Int64\u001b[1m)\u001b[22m at \u001b[1m./In[14]:4\u001b[22m\n",
      " [6] \u001b[1m(::getfield(Observables, Symbol(\"##16#17\")){getfield(Main, Symbol(\"##15#16\")),Observable{Any}})\u001b[22m\u001b[1m(\u001b[22m::Int64\u001b[1m)\u001b[22m at \u001b[1m/Users/alanedelman/.julia/packages/Observables/qCJWB/src/Observables.jl:152\u001b[22m\n",
      " [7] \u001b[1m(::getfield(Observables, Symbol(\"#g#15\")){getfield(Observables, Symbol(\"##16#17\")){getfield(Main, Symbol(\"##15#16\")),Observable{Any}},Tuple{Widget{:slider,Int64}}})\u001b[22m\u001b[1m(\u001b[22m::Int64\u001b[1m)\u001b[22m at \u001b[1m/Users/alanedelman/.julia/packages/Observables/qCJWB/src/Observables.jl:136\u001b[22m\n",
      " [8] \u001b[1m#setindex!#1\u001b[22m\u001b[1m(\u001b[22m::getfield(WebIO, Symbol(\"##39#40\")), ::Function, ::Observable{Int64}, ::Int64\u001b[1m)\u001b[22m at \u001b[1m/Users/alanedelman/.julia/packages/Observables/qCJWB/src/Observables.jl:87\u001b[22m\n",
      " [9] \u001b[1m#setindex!\u001b[22m at \u001b[1m./none:0\u001b[22m [inlined]\n",
      " [10] \u001b[1msetexcludinghandlers\u001b[22m at \u001b[1m/Users/alanedelman/.julia/packages/Observables/qCJWB/src/Observables.jl:103\u001b[22m [inlined]\n",
      " [11] \u001b[1mset_nosync\u001b[22m\u001b[1m(\u001b[22m::Observable{Int64}, ::Int64\u001b[1m)\u001b[22m at \u001b[1m/Users/alanedelman/.julia/packages/WebIO/7G1ZY/src/scope.jl:336\u001b[22m\n",
      " [12] \u001b[1mdispatch\u001b[22m\u001b[1m(\u001b[22m::Scope, ::String, ::Int64\u001b[1m)\u001b[22m at \u001b[1m/Users/alanedelman/.julia/packages/WebIO/7G1ZY/src/scope.jl:344\u001b[22m\n",
      " [13] \u001b[1mdispatch_command\u001b[22m\u001b[1m(\u001b[22m::WebIO.IJuliaConnection, ::Dict{String,Any}\u001b[1m)\u001b[22m at \u001b[1m/Users/alanedelman/.julia/packages/WebIO/7G1ZY/src/connection.jl:107\u001b[22m\n",
      " [14] \u001b[1mdispatch\u001b[22m\u001b[1m(\u001b[22m::WebIO.IJuliaConnection, ::Dict{String,Any}\u001b[1m)\u001b[22m at \u001b[1m/Users/alanedelman/.julia/packages/WebIO/7G1ZY/src/connection.jl:75\u001b[22m\n",
      " [15] \u001b[1m(::getfield(WebIO, Symbol(\"##84#85\")){WebIO.IJuliaConnection})\u001b[22m\u001b[1m(\u001b[22m::IJulia.Msg\u001b[1m)\u001b[22m at \u001b[1m/Users/alanedelman/.julia/packages/WebIO/7G1ZY/src/providers/ijulia.jl:21\u001b[22m\n",
      " [16] \u001b[1mcomm_msg\u001b[22m\u001b[1m(\u001b[22m::ZMQ.Socket, ::IJulia.Msg\u001b[1m)\u001b[22m at \u001b[1m/Users/alanedelman/.julia/packages/IJulia/gI2uA/src/comm_manager.jl:134\u001b[22m\n",
      " [17] \u001b[1m#invokelatest#1\u001b[22m at \u001b[1m./essentials.jl:742\u001b[22m [inlined]\n",
      " [18] \u001b[1minvokelatest\u001b[22m at \u001b[1m./essentials.jl:741\u001b[22m [inlined]\n",
      " [19] \u001b[1meventloop\u001b[22m\u001b[1m(\u001b[22m::ZMQ.Socket\u001b[1m)\u001b[22m at \u001b[1m/Users/alanedelman/.julia/packages/IJulia/gI2uA/src/eventloop.jl:8\u001b[22m\n",
      " [20] \u001b[1m(::getfield(IJulia, Symbol(\"##15#18\")))\u001b[22m\u001b[1m(\u001b[22m\u001b[1m)\u001b[22m at \u001b[1m./task.jl:259\u001b[22m"
     ]
    },
    {
     "ename": "BoundsError",
     "evalue": "BoundsError: attempt to access 7×7 Array{Complex{Float64},2} at index [Base.Slice(Base.OneTo(7)), 37]",
     "output_type": "error",
     "traceback": [
      "KERNEL EXCEPTION",
      "BoundsError: attempt to access 7×7 Array{Complex{Float64},2} at index [Base.Slice(Base.OneTo(7)), 37]",
      "",
      "Stacktrace:",
      " [1] throw_boundserror(::Array{Complex{Float64},2}, ::Tuple{Base.Slice{Base.OneTo{Int64}},Int64}) at ./abstractarray.jl:484",
      " [2] checkbounds at ./abstractarray.jl:449 [inlined]",
      " [3] _getindex at ./multidimensional.jl:641 [inlined]",
      " [4] getindex at ./abstractarray.jl:927 [inlined]",
      " [5] (::getfield(Main, Symbol(\"##15#16\")))(::Int64) at ./In[14]:4",
      " [6] (::getfield(Observables, Symbol(\"##16#17\")){getfield(Main, Symbol(\"##15#16\")),Observable{Any}})(::Int64) at /Users/alanedelman/.julia/packages/Observables/qCJWB/src/Observables.jl:152",
      " [7] (::getfield(Observables, Symbol(\"#g#15\")){getfield(Observables, Symbol(\"##16#17\")){getfield(Main, Symbol(\"##15#16\")),Observable{Any}},Tuple{Widget{:slider,Int64}}})(::Int64) at /Users/alanedelman/.julia/packages/Observables/qCJWB/src/Observables.jl:136",
      " [8] #setindex!#1(::getfield(WebIO, Symbol(\"##39#40\")), ::Function, ::Observable{Int64}, ::Int64) at /Users/alanedelman/.julia/packages/Observables/qCJWB/src/Observables.jl:87",
      " [9] #setindex! at ./none:0 [inlined]",
      " [10] setexcludinghandlers at /Users/alanedelman/.julia/packages/Observables/qCJWB/src/Observables.jl:103 [inlined]",
      " [11] set_nosync(::Observable{Int64}, ::Int64) at /Users/alanedelman/.julia/packages/WebIO/7G1ZY/src/scope.jl:336",
      " [12] dispatch(::Scope, ::String, ::Int64) at /Users/alanedelman/.julia/packages/WebIO/7G1ZY/src/scope.jl:344",
      " [13] dispatch_command(::WebIO.IJuliaConnection, ::Dict{String,Any}) at /Users/alanedelman/.julia/packages/WebIO/7G1ZY/src/connection.jl:107",
      " [14] dispatch(::WebIO.IJuliaConnection, ::Dict{String,Any}) at /Users/alanedelman/.julia/packages/WebIO/7G1ZY/src/connection.jl:75",
      " [15] (::getfield(WebIO, Symbol(\"##84#85\")){WebIO.IJuliaConnection})(::IJulia.Msg) at /Users/alanedelman/.julia/packages/WebIO/7G1ZY/src/providers/ijulia.jl:21",
      " [16] comm_msg(::ZMQ.Socket, ::IJulia.Msg) at /Users/alanedelman/.julia/packages/IJulia/gI2uA/src/comm_manager.jl:134",
      " [17] #invokelatest#1 at ./essentials.jl:742 [inlined]",
      " [18] invokelatest at ./essentials.jl:741 [inlined]",
      " [19] eventloop(::ZMQ.Socket) at /Users/alanedelman/.julia/packages/IJulia/gI2uA/src/eventloop.jl:8",
      " [20] (::getfield(IJulia, Symbol(\"##15#18\")))() at ./task.jl:259"
     ]
    },
    {
     "name": "stderr",
     "output_type": "stream",
     "text": [
      "BoundsError: attempt to access 7×7 Array{Complex{Float64},2} at index [Base.Slice(Base.OneTo(7)), 37]\n",
      "Stacktrace:\n",
      " [1] \u001b[1mthrow_boundserror\u001b[22m\u001b[1m(\u001b[22m::Array{Complex{Float64},2}, ::Tuple{Base.Slice{Base.OneTo{Int64}},Int64}\u001b[1m)\u001b[22m at \u001b[1m./abstractarray.jl:484\u001b[22m\n",
      " [2] \u001b[1mcheckbounds\u001b[22m at \u001b[1m./abstractarray.jl:449\u001b[22m [inlined]\n",
      " [3] \u001b[1m_getindex\u001b[22m at \u001b[1m./multidimensional.jl:641\u001b[22m [inlined]\n",
      " [4] \u001b[1mgetindex\u001b[22m at \u001b[1m./abstractarray.jl:927\u001b[22m [inlined]\n",
      " [5] \u001b[1m(::getfield(Main, Symbol(\"##15#16\")))\u001b[22m\u001b[1m(\u001b[22m::Int64\u001b[1m)\u001b[22m at \u001b[1m./In[14]:4\u001b[22m\n",
      " [6] \u001b[1m(::getfield(Observables, Symbol(\"##16#17\")){getfield(Main, Symbol(\"##15#16\")),Observable{Any}})\u001b[22m\u001b[1m(\u001b[22m::Int64\u001b[1m)\u001b[22m at \u001b[1m/Users/alanedelman/.julia/packages/Observables/qCJWB/src/Observables.jl:152\u001b[22m\n",
      " [7] \u001b[1m(::getfield(Observables, Symbol(\"#g#15\")){getfield(Observables, Symbol(\"##16#17\")){getfield(Main, Symbol(\"##15#16\")),Observable{Any}},Tuple{Widget{:slider,Int64}}})\u001b[22m\u001b[1m(\u001b[22m::Int64\u001b[1m)\u001b[22m at \u001b[1m/Users/alanedelman/.julia/packages/Observables/qCJWB/src/Observables.jl:136\u001b[22m\n",
      " [8] \u001b[1m#setindex!#1\u001b[22m\u001b[1m(\u001b[22m::getfield(WebIO, Symbol(\"##39#40\")), ::Function, ::Observable{Int64}, ::Int64\u001b[1m)\u001b[22m at \u001b[1m/Users/alanedelman/.julia/packages/Observables/qCJWB/src/Observables.jl:87\u001b[22m\n",
      " [9] \u001b[1m#setindex!\u001b[22m at \u001b[1m./none:0\u001b[22m [inlined]\n",
      " [10] \u001b[1msetexcludinghandlers\u001b[22m at \u001b[1m/Users/alanedelman/.julia/packages/Observables/qCJWB/src/Observables.jl:103\u001b[22m [inlined]\n",
      " [11] \u001b[1mset_nosync\u001b[22m\u001b[1m(\u001b[22m::Observable{Int64}, ::Int64\u001b[1m)\u001b[22m at \u001b[1m/Users/alanedelman/.julia/packages/WebIO/7G1ZY/src/scope.jl:336\u001b[22m\n",
      " [12] \u001b[1mdispatch\u001b[22m\u001b[1m(\u001b[22m::Scope, ::String, ::Int64\u001b[1m)\u001b[22m at \u001b[1m/Users/alanedelman/.julia/packages/WebIO/7G1ZY/src/scope.jl:344\u001b[22m\n",
      " [13] \u001b[1mdispatch_command\u001b[22m\u001b[1m(\u001b[22m::WebIO.IJuliaConnection, ::Dict{String,Any}\u001b[1m)\u001b[22m at \u001b[1m/Users/alanedelman/.julia/packages/WebIO/7G1ZY/src/connection.jl:107\u001b[22m\n",
      " [14] \u001b[1mdispatch\u001b[22m\u001b[1m(\u001b[22m::WebIO.IJuliaConnection, ::Dict{String,Any}\u001b[1m)\u001b[22m at \u001b[1m/Users/alanedelman/.julia/packages/WebIO/7G1ZY/src/connection.jl:75\u001b[22m\n",
      " [15] \u001b[1m(::getfield(WebIO, Symbol(\"##84#85\")){WebIO.IJuliaConnection})\u001b[22m\u001b[1m(\u001b[22m::IJulia.Msg\u001b[1m)\u001b[22m at \u001b[1m/Users/alanedelman/.julia/packages/WebIO/7G1ZY/src/providers/ijulia.jl:21\u001b[22m\n",
      " [16] \u001b[1mcomm_msg\u001b[22m\u001b[1m(\u001b[22m::ZMQ.Socket, ::IJulia.Msg\u001b[1m)\u001b[22m at \u001b[1m/Users/alanedelman/.julia/packages/IJulia/gI2uA/src/comm_manager.jl:134\u001b[22m\n",
      " [17] \u001b[1m#invokelatest#1\u001b[22m at \u001b[1m./essentials.jl:742\u001b[22m [inlined]\n",
      " [18] \u001b[1minvokelatest\u001b[22m at \u001b[1m./essentials.jl:741\u001b[22m [inlined]\n",
      " [19] \u001b[1meventloop\u001b[22m\u001b[1m(\u001b[22m::ZMQ.Socket\u001b[1m)\u001b[22m at \u001b[1m/Users/alanedelman/.julia/packages/IJulia/gI2uA/src/eventloop.jl:8\u001b[22m\n",
      " [20] \u001b[1m(::getfield(IJulia, Symbol(\"##15#18\")))\u001b[22m\u001b[1m(\u001b[22m\u001b[1m)\u001b[22m at \u001b[1m./task.jl:259\u001b[22m"
     ]
    },
    {
     "ename": "BoundsError",
     "evalue": "BoundsError: attempt to access 7×7 Array{Complex{Float64},2} at index [Base.Slice(Base.OneTo(7)), 36]",
     "output_type": "error",
     "traceback": [
      "KERNEL EXCEPTION",
      "BoundsError: attempt to access 7×7 Array{Complex{Float64},2} at index [Base.Slice(Base.OneTo(7)), 36]",
      "",
      "Stacktrace:",
      " [1] throw_boundserror(::Array{Complex{Float64},2}, ::Tuple{Base.Slice{Base.OneTo{Int64}},Int64}) at ./abstractarray.jl:484",
      " [2] checkbounds at ./abstractarray.jl:449 [inlined]",
      " [3] _getindex at ./multidimensional.jl:641 [inlined]",
      " [4] getindex at ./abstractarray.jl:927 [inlined]",
      " [5] (::getfield(Main, Symbol(\"##15#16\")))(::Int64) at ./In[14]:4",
      " [6] (::getfield(Observables, Symbol(\"##16#17\")){getfield(Main, Symbol(\"##15#16\")),Observable{Any}})(::Int64) at /Users/alanedelman/.julia/packages/Observables/qCJWB/src/Observables.jl:152",
      " [7] (::getfield(Observables, Symbol(\"#g#15\")){getfield(Observables, Symbol(\"##16#17\")){getfield(Main, Symbol(\"##15#16\")),Observable{Any}},Tuple{Widget{:slider,Int64}}})(::Int64) at /Users/alanedelman/.julia/packages/Observables/qCJWB/src/Observables.jl:136",
      " [8] #setindex!#1(::getfield(WebIO, Symbol(\"##39#40\")), ::Function, ::Observable{Int64}, ::Int64) at /Users/alanedelman/.julia/packages/Observables/qCJWB/src/Observables.jl:87",
      " [9] #setindex! at ./none:0 [inlined]",
      " [10] setexcludinghandlers at /Users/alanedelman/.julia/packages/Observables/qCJWB/src/Observables.jl:103 [inlined]",
      " [11] set_nosync(::Observable{Int64}, ::Int64) at /Users/alanedelman/.julia/packages/WebIO/7G1ZY/src/scope.jl:336",
      " [12] dispatch(::Scope, ::String, ::Int64) at /Users/alanedelman/.julia/packages/WebIO/7G1ZY/src/scope.jl:344",
      " [13] dispatch_command(::WebIO.IJuliaConnection, ::Dict{String,Any}) at /Users/alanedelman/.julia/packages/WebIO/7G1ZY/src/connection.jl:107",
      " [14] dispatch(::WebIO.IJuliaConnection, ::Dict{String,Any}) at /Users/alanedelman/.julia/packages/WebIO/7G1ZY/src/connection.jl:75",
      " [15] (::getfield(WebIO, Symbol(\"##84#85\")){WebIO.IJuliaConnection})(::IJulia.Msg) at /Users/alanedelman/.julia/packages/WebIO/7G1ZY/src/providers/ijulia.jl:21",
      " [16] comm_msg(::ZMQ.Socket, ::IJulia.Msg) at /Users/alanedelman/.julia/packages/IJulia/gI2uA/src/comm_manager.jl:134",
      " [17] #invokelatest#1 at ./essentials.jl:742 [inlined]",
      " [18] invokelatest at ./essentials.jl:741 [inlined]",
      " [19] eventloop(::ZMQ.Socket) at /Users/alanedelman/.julia/packages/IJulia/gI2uA/src/eventloop.jl:8",
      " [20] (::getfield(IJulia, Symbol(\"##15#18\")))() at ./task.jl:259"
     ]
    },
    {
     "name": "stderr",
     "output_type": "stream",
     "text": [
      "BoundsError: attempt to access 7×7 Array{Complex{Float64},2} at index [Base.Slice(Base.OneTo(7)), 36]\n",
      "Stacktrace:\n",
      " [1] \u001b[1mthrow_boundserror\u001b[22m\u001b[1m(\u001b[22m::Array{Complex{Float64},2}, ::Tuple{Base.Slice{Base.OneTo{Int64}},Int64}\u001b[1m)\u001b[22m at \u001b[1m./abstractarray.jl:484\u001b[22m\n",
      " [2] \u001b[1mcheckbounds\u001b[22m at \u001b[1m./abstractarray.jl:449\u001b[22m [inlined]\n",
      " [3] \u001b[1m_getindex\u001b[22m at \u001b[1m./multidimensional.jl:641\u001b[22m [inlined]\n",
      " [4] \u001b[1mgetindex\u001b[22m at \u001b[1m./abstractarray.jl:927\u001b[22m [inlined]\n",
      " [5] \u001b[1m(::getfield(Main, Symbol(\"##15#16\")))\u001b[22m\u001b[1m(\u001b[22m::Int64\u001b[1m)\u001b[22m at \u001b[1m./In[14]:4\u001b[22m\n",
      " [6] \u001b[1m(::getfield(Observables, Symbol(\"##16#17\")){getfield(Main, Symbol(\"##15#16\")),Observable{Any}})\u001b[22m\u001b[1m(\u001b[22m::Int64\u001b[1m)\u001b[22m at \u001b[1m/Users/alanedelman/.julia/packages/Observables/qCJWB/src/Observables.jl:152\u001b[22m\n",
      " [7] \u001b[1m(::getfield(Observables, Symbol(\"#g#15\")){getfield(Observables, Symbol(\"##16#17\")){getfield(Main, Symbol(\"##15#16\")),Observable{Any}},Tuple{Widget{:slider,Int64}}})\u001b[22m\u001b[1m(\u001b[22m::Int64\u001b[1m)\u001b[22m at \u001b[1m/Users/alanedelman/.julia/packages/Observables/qCJWB/src/Observables.jl:136\u001b[22m\n",
      " [8] \u001b[1m#setindex!#1\u001b[22m\u001b[1m(\u001b[22m::getfield(WebIO, Symbol(\"##39#40\")), ::Function, ::Observable{Int64}, ::Int64\u001b[1m)\u001b[22m at \u001b[1m/Users/alanedelman/.julia/packages/Observables/qCJWB/src/Observables.jl:87\u001b[22m\n",
      " [9] \u001b[1m#setindex!\u001b[22m at \u001b[1m./none:0\u001b[22m [inlined]\n",
      " [10] \u001b[1msetexcludinghandlers\u001b[22m at \u001b[1m/Users/alanedelman/.julia/packages/Observables/qCJWB/src/Observables.jl:103\u001b[22m [inlined]\n",
      " [11] \u001b[1mset_nosync\u001b[22m\u001b[1m(\u001b[22m::Observable{Int64}, ::Int64\u001b[1m)\u001b[22m at \u001b[1m/Users/alanedelman/.julia/packages/WebIO/7G1ZY/src/scope.jl:336\u001b[22m\n",
      " [12] \u001b[1mdispatch\u001b[22m\u001b[1m(\u001b[22m::Scope, ::String, ::Int64\u001b[1m)\u001b[22m at \u001b[1m/Users/alanedelman/.julia/packages/WebIO/7G1ZY/src/scope.jl:344\u001b[22m\n",
      " [13] \u001b[1mdispatch_command\u001b[22m\u001b[1m(\u001b[22m::WebIO.IJuliaConnection, ::Dict{String,Any}\u001b[1m)\u001b[22m at \u001b[1m/Users/alanedelman/.julia/packages/WebIO/7G1ZY/src/connection.jl:107\u001b[22m\n",
      " [14] \u001b[1mdispatch\u001b[22m\u001b[1m(\u001b[22m::WebIO.IJuliaConnection, ::Dict{String,Any}\u001b[1m)\u001b[22m at \u001b[1m/Users/alanedelman/.julia/packages/WebIO/7G1ZY/src/connection.jl:75\u001b[22m\n",
      " [15] \u001b[1m(::getfield(WebIO, Symbol(\"##84#85\")){WebIO.IJuliaConnection})\u001b[22m\u001b[1m(\u001b[22m::IJulia.Msg\u001b[1m)\u001b[22m at \u001b[1m/Users/alanedelman/.julia/packages/WebIO/7G1ZY/src/providers/ijulia.jl:21\u001b[22m\n",
      " [16] \u001b[1mcomm_msg\u001b[22m\u001b[1m(\u001b[22m::ZMQ.Socket, ::IJulia.Msg\u001b[1m)\u001b[22m at \u001b[1m/Users/alanedelman/.julia/packages/IJulia/gI2uA/src/comm_manager.jl:134\u001b[22m\n",
      " [17] \u001b[1m#invokelatest#1\u001b[22m at \u001b[1m./essentials.jl:742\u001b[22m [inlined]\n",
      " [18] \u001b[1minvokelatest\u001b[22m at \u001b[1m./essentials.jl:741\u001b[22m [inlined]\n",
      " [19] \u001b[1meventloop\u001b[22m\u001b[1m(\u001b[22m::ZMQ.Socket\u001b[1m)\u001b[22m at \u001b[1m/Users/alanedelman/.julia/packages/IJulia/gI2uA/src/eventloop.jl:8\u001b[22m\n",
      " [20] \u001b[1m(::getfield(IJulia, Symbol(\"##15#18\")))\u001b[22m\u001b[1m(\u001b[22m\u001b[1m)\u001b[22m at \u001b[1m./task.jl:259\u001b[22m"
     ]
    },
    {
     "ename": "BoundsError",
     "evalue": "BoundsError: attempt to access 7×7 Array{Complex{Float64},2} at index [Base.Slice(Base.OneTo(7)), 29]",
     "output_type": "error",
     "traceback": [
      "KERNEL EXCEPTION",
      "BoundsError: attempt to access 7×7 Array{Complex{Float64},2} at index [Base.Slice(Base.OneTo(7)), 29]",
      "",
      "Stacktrace:",
      " [1] throw_boundserror(::Array{Complex{Float64},2}, ::Tuple{Base.Slice{Base.OneTo{Int64}},Int64}) at ./abstractarray.jl:484",
      " [2] checkbounds at ./abstractarray.jl:449 [inlined]",
      " [3] _getindex at ./multidimensional.jl:641 [inlined]",
      " [4] getindex at ./abstractarray.jl:927 [inlined]",
      " [5] (::getfield(Main, Symbol(\"##15#16\")))(::Int64) at ./In[14]:4",
      " [6] (::getfield(Observables, Symbol(\"##16#17\")){getfield(Main, Symbol(\"##15#16\")),Observable{Any}})(::Int64) at /Users/alanedelman/.julia/packages/Observables/qCJWB/src/Observables.jl:152",
      " [7] (::getfield(Observables, Symbol(\"#g#15\")){getfield(Observables, Symbol(\"##16#17\")){getfield(Main, Symbol(\"##15#16\")),Observable{Any}},Tuple{Widget{:slider,Int64}}})(::Int64) at /Users/alanedelman/.julia/packages/Observables/qCJWB/src/Observables.jl:136",
      " [8] #setindex!#1(::getfield(WebIO, Symbol(\"##39#40\")), ::Function, ::Observable{Int64}, ::Int64) at /Users/alanedelman/.julia/packages/Observables/qCJWB/src/Observables.jl:87",
      " [9] #setindex! at ./none:0 [inlined]",
      " [10] setexcludinghandlers at /Users/alanedelman/.julia/packages/Observables/qCJWB/src/Observables.jl:103 [inlined]",
      " [11] set_nosync(::Observable{Int64}, ::Int64) at /Users/alanedelman/.julia/packages/WebIO/7G1ZY/src/scope.jl:336",
      " [12] dispatch(::Scope, ::String, ::Int64) at /Users/alanedelman/.julia/packages/WebIO/7G1ZY/src/scope.jl:344",
      " [13] dispatch_command(::WebIO.IJuliaConnection, ::Dict{String,Any}) at /Users/alanedelman/.julia/packages/WebIO/7G1ZY/src/connection.jl:107",
      " [14] dispatch(::WebIO.IJuliaConnection, ::Dict{String,Any}) at /Users/alanedelman/.julia/packages/WebIO/7G1ZY/src/connection.jl:75",
      " [15] (::getfield(WebIO, Symbol(\"##84#85\")){WebIO.IJuliaConnection})(::IJulia.Msg) at /Users/alanedelman/.julia/packages/WebIO/7G1ZY/src/providers/ijulia.jl:21",
      " [16] comm_msg(::ZMQ.Socket, ::IJulia.Msg) at /Users/alanedelman/.julia/packages/IJulia/gI2uA/src/comm_manager.jl:134",
      " [17] #invokelatest#1 at ./essentials.jl:742 [inlined]",
      " [18] invokelatest at ./essentials.jl:741 [inlined]",
      " [19] eventloop(::ZMQ.Socket) at /Users/alanedelman/.julia/packages/IJulia/gI2uA/src/eventloop.jl:8",
      " [20] (::getfield(IJulia, Symbol(\"##15#18\")))() at ./task.jl:259"
     ]
    },
    {
     "name": "stderr",
     "output_type": "stream",
     "text": [
      "BoundsError: attempt to access 7×7 Array{Complex{Float64},2} at index [Base.Slice(Base.OneTo(7)), 29]\n",
      "Stacktrace:\n",
      " [1] \u001b[1mthrow_boundserror\u001b[22m\u001b[1m(\u001b[22m::Array{Complex{Float64},2}, ::Tuple{Base.Slice{Base.OneTo{Int64}},Int64}\u001b[1m)\u001b[22m at \u001b[1m./abstractarray.jl:484\u001b[22m\n",
      " [2] \u001b[1mcheckbounds\u001b[22m at \u001b[1m./abstractarray.jl:449\u001b[22m [inlined]\n",
      " [3] \u001b[1m_getindex\u001b[22m at \u001b[1m./multidimensional.jl:641\u001b[22m [inlined]\n",
      " [4] \u001b[1mgetindex\u001b[22m at \u001b[1m./abstractarray.jl:927\u001b[22m [inlined]\n",
      " [5] \u001b[1m(::getfield(Main, Symbol(\"##15#16\")))\u001b[22m\u001b[1m(\u001b[22m::Int64\u001b[1m)\u001b[22m at \u001b[1m./In[14]:4\u001b[22m\n",
      " [6] \u001b[1m(::getfield(Observables, Symbol(\"##16#17\")){getfield(Main, Symbol(\"##15#16\")),Observable{Any}})\u001b[22m\u001b[1m(\u001b[22m::Int64\u001b[1m)\u001b[22m at \u001b[1m/Users/alanedelman/.julia/packages/Observables/qCJWB/src/Observables.jl:152\u001b[22m\n",
      " [7] \u001b[1m(::getfield(Observables, Symbol(\"#g#15\")){getfield(Observables, Symbol(\"##16#17\")){getfield(Main, Symbol(\"##15#16\")),Observable{Any}},Tuple{Widget{:slider,Int64}}})\u001b[22m\u001b[1m(\u001b[22m::Int64\u001b[1m)\u001b[22m at \u001b[1m/Users/alanedelman/.julia/packages/Observables/qCJWB/src/Observables.jl:136\u001b[22m\n",
      " [8] \u001b[1m#setindex!#1\u001b[22m\u001b[1m(\u001b[22m::getfield(WebIO, Symbol(\"##39#40\")), ::Function, ::Observable{Int64}, ::Int64\u001b[1m)\u001b[22m at \u001b[1m/Users/alanedelman/.julia/packages/Observables/qCJWB/src/Observables.jl:87\u001b[22m\n",
      " [9] \u001b[1m#setindex!\u001b[22m at \u001b[1m./none:0\u001b[22m [inlined]\n",
      " [10] \u001b[1msetexcludinghandlers\u001b[22m at \u001b[1m/Users/alanedelman/.julia/packages/Observables/qCJWB/src/Observables.jl:103\u001b[22m [inlined]\n",
      " [11] \u001b[1mset_nosync\u001b[22m\u001b[1m(\u001b[22m::Observable{Int64}, ::Int64\u001b[1m)\u001b[22m at \u001b[1m/Users/alanedelman/.julia/packages/WebIO/7G1ZY/src/scope.jl:336\u001b[22m\n",
      " [12] \u001b[1mdispatch\u001b[22m\u001b[1m(\u001b[22m::Scope, ::String, ::Int64\u001b[1m)\u001b[22m at \u001b[1m/Users/alanedelman/.julia/packages/WebIO/7G1ZY/src/scope.jl:344\u001b[22m\n",
      " [13] \u001b[1mdispatch_command\u001b[22m\u001b[1m(\u001b[22m::WebIO.IJuliaConnection, ::Dict{String,Any}\u001b[1m)\u001b[22m at \u001b[1m/Users/alanedelman/.julia/packages/WebIO/7G1ZY/src/connection.jl:107\u001b[22m\n",
      " [14] \u001b[1mdispatch\u001b[22m\u001b[1m(\u001b[22m::WebIO.IJuliaConnection, ::Dict{String,Any}\u001b[1m)\u001b[22m at \u001b[1m/Users/alanedelman/.julia/packages/WebIO/7G1ZY/src/connection.jl:75\u001b[22m\n",
      " [15] \u001b[1m(::getfield(WebIO, Symbol(\"##84#85\")){WebIO.IJuliaConnection})\u001b[22m\u001b[1m(\u001b[22m::IJulia.Msg\u001b[1m)\u001b[22m at \u001b[1m/Users/alanedelman/.julia/packages/WebIO/7G1ZY/src/providers/ijulia.jl:21\u001b[22m\n",
      " [16] \u001b[1mcomm_msg\u001b[22m\u001b[1m(\u001b[22m::ZMQ.Socket, ::IJulia.Msg\u001b[1m)\u001b[22m at \u001b[1m/Users/alanedelman/.julia/packages/IJulia/gI2uA/src/comm_manager.jl:134\u001b[22m\n",
      " [17] \u001b[1m#invokelatest#1\u001b[22m at \u001b[1m./essentials.jl:742\u001b[22m [inlined]\n",
      " [18] \u001b[1minvokelatest\u001b[22m at \u001b[1m./essentials.jl:741\u001b[22m [inlined]\n",
      " [19] \u001b[1meventloop\u001b[22m\u001b[1m(\u001b[22m::ZMQ.Socket\u001b[1m)\u001b[22m at \u001b[1m/Users/alanedelman/.julia/packages/IJulia/gI2uA/src/eventloop.jl:8\u001b[22m\n",
      " [20] \u001b[1m(::getfield(IJulia, Symbol(\"##15#18\")))\u001b[22m\u001b[1m(\u001b[22m\u001b[1m)\u001b[22m at \u001b[1m./task.jl:259\u001b[22m"
     ]
    },
    {
     "ename": "BoundsError",
     "evalue": "BoundsError: attempt to access 7×7 Array{Complex{Float64},2} at index [Base.Slice(Base.OneTo(7)), 24]",
     "output_type": "error",
     "traceback": [
      "KERNEL EXCEPTION",
      "BoundsError: attempt to access 7×7 Array{Complex{Float64},2} at index [Base.Slice(Base.OneTo(7)), 24]",
      "",
      "Stacktrace:",
      " [1] throw_boundserror(::Array{Complex{Float64},2}, ::Tuple{Base.Slice{Base.OneTo{Int64}},Int64}) at ./abstractarray.jl:484",
      " [2] checkbounds at ./abstractarray.jl:449 [inlined]",
      " [3] _getindex at ./multidimensional.jl:641 [inlined]",
      " [4] getindex at ./abstractarray.jl:927 [inlined]",
      " [5] (::getfield(Main, Symbol(\"##15#16\")))(::Int64) at ./In[14]:4",
      " [6] (::getfield(Observables, Symbol(\"##16#17\")){getfield(Main, Symbol(\"##15#16\")),Observable{Any}})(::Int64) at /Users/alanedelman/.julia/packages/Observables/qCJWB/src/Observables.jl:152",
      " [7] (::getfield(Observables, Symbol(\"#g#15\")){getfield(Observables, Symbol(\"##16#17\")){getfield(Main, Symbol(\"##15#16\")),Observable{Any}},Tuple{Widget{:slider,Int64}}})(::Int64) at /Users/alanedelman/.julia/packages/Observables/qCJWB/src/Observables.jl:136",
      " [8] #setindex!#1(::getfield(WebIO, Symbol(\"##39#40\")), ::Function, ::Observable{Int64}, ::Int64) at /Users/alanedelman/.julia/packages/Observables/qCJWB/src/Observables.jl:87",
      " [9] #setindex! at ./none:0 [inlined]",
      " [10] setexcludinghandlers at /Users/alanedelman/.julia/packages/Observables/qCJWB/src/Observables.jl:103 [inlined]",
      " [11] set_nosync(::Observable{Int64}, ::Int64) at /Users/alanedelman/.julia/packages/WebIO/7G1ZY/src/scope.jl:336",
      " [12] dispatch(::Scope, ::String, ::Int64) at /Users/alanedelman/.julia/packages/WebIO/7G1ZY/src/scope.jl:344",
      " [13] dispatch_command(::WebIO.IJuliaConnection, ::Dict{String,Any}) at /Users/alanedelman/.julia/packages/WebIO/7G1ZY/src/connection.jl:107",
      " [14] dispatch(::WebIO.IJuliaConnection, ::Dict{String,Any}) at /Users/alanedelman/.julia/packages/WebIO/7G1ZY/src/connection.jl:75",
      " [15] (::getfield(WebIO, Symbol(\"##84#85\")){WebIO.IJuliaConnection})(::IJulia.Msg) at /Users/alanedelman/.julia/packages/WebIO/7G1ZY/src/providers/ijulia.jl:21",
      " [16] comm_msg(::ZMQ.Socket, ::IJulia.Msg) at /Users/alanedelman/.julia/packages/IJulia/gI2uA/src/comm_manager.jl:134",
      " [17] #invokelatest#1 at ./essentials.jl:742 [inlined]",
      " [18] invokelatest at ./essentials.jl:741 [inlined]",
      " [19] eventloop(::ZMQ.Socket) at /Users/alanedelman/.julia/packages/IJulia/gI2uA/src/eventloop.jl:8",
      " [20] (::getfield(IJulia, Symbol(\"##15#18\")))() at ./task.jl:259"
     ]
    },
    {
     "name": "stderr",
     "output_type": "stream",
     "text": [
      "BoundsError: attempt to access 7×7 Array{Complex{Float64},2} at index [Base.Slice(Base.OneTo(7)), 24]\n",
      "Stacktrace:\n",
      " [1] \u001b[1mthrow_boundserror\u001b[22m\u001b[1m(\u001b[22m::Array{Complex{Float64},2}, ::Tuple{Base.Slice{Base.OneTo{Int64}},Int64}\u001b[1m)\u001b[22m at \u001b[1m./abstractarray.jl:484\u001b[22m\n",
      " [2] \u001b[1mcheckbounds\u001b[22m at \u001b[1m./abstractarray.jl:449\u001b[22m [inlined]\n",
      " [3] \u001b[1m_getindex\u001b[22m at \u001b[1m./multidimensional.jl:641\u001b[22m [inlined]\n",
      " [4] \u001b[1mgetindex\u001b[22m at \u001b[1m./abstractarray.jl:927\u001b[22m [inlined]\n",
      " [5] \u001b[1m(::getfield(Main, Symbol(\"##15#16\")))\u001b[22m\u001b[1m(\u001b[22m::Int64\u001b[1m)\u001b[22m at \u001b[1m./In[14]:4\u001b[22m\n",
      " [6] \u001b[1m(::getfield(Observables, Symbol(\"##16#17\")){getfield(Main, Symbol(\"##15#16\")),Observable{Any}})\u001b[22m\u001b[1m(\u001b[22m::Int64\u001b[1m)\u001b[22m at \u001b[1m/Users/alanedelman/.julia/packages/Observables/qCJWB/src/Observables.jl:152\u001b[22m\n",
      " [7] \u001b[1m(::getfield(Observables, Symbol(\"#g#15\")){getfield(Observables, Symbol(\"##16#17\")){getfield(Main, Symbol(\"##15#16\")),Observable{Any}},Tuple{Widget{:slider,Int64}}})\u001b[22m\u001b[1m(\u001b[22m::Int64\u001b[1m)\u001b[22m at \u001b[1m/Users/alanedelman/.julia/packages/Observables/qCJWB/src/Observables.jl:136\u001b[22m\n",
      " [8] \u001b[1m#setindex!#1\u001b[22m\u001b[1m(\u001b[22m::getfield(WebIO, Symbol(\"##39#40\")), ::Function, ::Observable{Int64}, ::Int64\u001b[1m)\u001b[22m at \u001b[1m/Users/alanedelman/.julia/packages/Observables/qCJWB/src/Observables.jl:87\u001b[22m\n",
      " [9] \u001b[1m#setindex!\u001b[22m at \u001b[1m./none:0\u001b[22m [inlined]\n",
      " [10] \u001b[1msetexcludinghandlers\u001b[22m at \u001b[1m/Users/alanedelman/.julia/packages/Observables/qCJWB/src/Observables.jl:103\u001b[22m [inlined]\n",
      " [11] \u001b[1mset_nosync\u001b[22m\u001b[1m(\u001b[22m::Observable{Int64}, ::Int64\u001b[1m)\u001b[22m at \u001b[1m/Users/alanedelman/.julia/packages/WebIO/7G1ZY/src/scope.jl:336\u001b[22m\n",
      " [12] \u001b[1mdispatch\u001b[22m\u001b[1m(\u001b[22m::Scope, ::String, ::Int64\u001b[1m)\u001b[22m at \u001b[1m/Users/alanedelman/.julia/packages/WebIO/7G1ZY/src/scope.jl:344\u001b[22m\n",
      " [13] \u001b[1mdispatch_command\u001b[22m\u001b[1m(\u001b[22m::WebIO.IJuliaConnection, ::Dict{String,Any}\u001b[1m)\u001b[22m at \u001b[1m/Users/alanedelman/.julia/packages/WebIO/7G1ZY/src/connection.jl:107\u001b[22m\n",
      " [14] \u001b[1mdispatch\u001b[22m\u001b[1m(\u001b[22m::WebIO.IJuliaConnection, ::Dict{String,Any}\u001b[1m)\u001b[22m at \u001b[1m/Users/alanedelman/.julia/packages/WebIO/7G1ZY/src/connection.jl:75\u001b[22m\n",
      " [15] \u001b[1m(::getfield(WebIO, Symbol(\"##84#85\")){WebIO.IJuliaConnection})\u001b[22m\u001b[1m(\u001b[22m::IJulia.Msg\u001b[1m)\u001b[22m at \u001b[1m/Users/alanedelman/.julia/packages/WebIO/7G1ZY/src/providers/ijulia.jl:21\u001b[22m\n",
      " [16] \u001b[1mcomm_msg\u001b[22m\u001b[1m(\u001b[22m::ZMQ.Socket, ::IJulia.Msg\u001b[1m)\u001b[22m at \u001b[1m/Users/alanedelman/.julia/packages/IJulia/gI2uA/src/comm_manager.jl:134\u001b[22m\n",
      " [17] \u001b[1m#invokelatest#1\u001b[22m at \u001b[1m./essentials.jl:742\u001b[22m [inlined]\n",
      " [18] \u001b[1minvokelatest\u001b[22m at \u001b[1m./essentials.jl:741\u001b[22m [inlined]\n",
      " [19] \u001b[1meventloop\u001b[22m\u001b[1m(\u001b[22m::ZMQ.Socket\u001b[1m)\u001b[22m at \u001b[1m/Users/alanedelman/.julia/packages/IJulia/gI2uA/src/eventloop.jl:8\u001b[22m\n",
      " [20] \u001b[1m(::getfield(IJulia, Symbol(\"##15#18\")))\u001b[22m\u001b[1m(\u001b[22m\u001b[1m)\u001b[22m at \u001b[1m./task.jl:259\u001b[22m"
     ]
    },
    {
     "ename": "BoundsError",
     "evalue": "BoundsError: attempt to access 7×7 Array{Complex{Float64},2} at index [Base.Slice(Base.OneTo(7)), 20]",
     "output_type": "error",
     "traceback": [
      "KERNEL EXCEPTION",
      "BoundsError: attempt to access 7×7 Array{Complex{Float64},2} at index [Base.Slice(Base.OneTo(7)), 20]",
      "",
      "Stacktrace:",
      " [1] throw_boundserror(::Array{Complex{Float64},2}, ::Tuple{Base.Slice{Base.OneTo{Int64}},Int64}) at ./abstractarray.jl:484",
      " [2] checkbounds at ./abstractarray.jl:449 [inlined]",
      " [3] _getindex at ./multidimensional.jl:641 [inlined]",
      " [4] getindex at ./abstractarray.jl:927 [inlined]",
      " [5] (::getfield(Main, Symbol(\"##15#16\")))(::Int64) at ./In[14]:4",
      " [6] (::getfield(Observables, Symbol(\"##16#17\")){getfield(Main, Symbol(\"##15#16\")),Observable{Any}})(::Int64) at /Users/alanedelman/.julia/packages/Observables/qCJWB/src/Observables.jl:152",
      " [7] (::getfield(Observables, Symbol(\"#g#15\")){getfield(Observables, Symbol(\"##16#17\")){getfield(Main, Symbol(\"##15#16\")),Observable{Any}},Tuple{Widget{:slider,Int64}}})(::Int64) at /Users/alanedelman/.julia/packages/Observables/qCJWB/src/Observables.jl:136",
      " [8] #setindex!#1(::getfield(WebIO, Symbol(\"##39#40\")), ::Function, ::Observable{Int64}, ::Int64) at /Users/alanedelman/.julia/packages/Observables/qCJWB/src/Observables.jl:87",
      " [9] #setindex! at ./none:0 [inlined]",
      " [10] setexcludinghandlers at /Users/alanedelman/.julia/packages/Observables/qCJWB/src/Observables.jl:103 [inlined]",
      " [11] set_nosync(::Observable{Int64}, ::Int64) at /Users/alanedelman/.julia/packages/WebIO/7G1ZY/src/scope.jl:336",
      " [12] dispatch(::Scope, ::String, ::Int64) at /Users/alanedelman/.julia/packages/WebIO/7G1ZY/src/scope.jl:344",
      " [13] dispatch_command(::WebIO.IJuliaConnection, ::Dict{String,Any}) at /Users/alanedelman/.julia/packages/WebIO/7G1ZY/src/connection.jl:107",
      " [14] dispatch(::WebIO.IJuliaConnection, ::Dict{String,Any}) at /Users/alanedelman/.julia/packages/WebIO/7G1ZY/src/connection.jl:75",
      " [15] (::getfield(WebIO, Symbol(\"##84#85\")){WebIO.IJuliaConnection})(::IJulia.Msg) at /Users/alanedelman/.julia/packages/WebIO/7G1ZY/src/providers/ijulia.jl:21",
      " [16] comm_msg(::ZMQ.Socket, ::IJulia.Msg) at /Users/alanedelman/.julia/packages/IJulia/gI2uA/src/comm_manager.jl:134",
      " [17] #invokelatest#1 at ./essentials.jl:742 [inlined]",
      " [18] invokelatest at ./essentials.jl:741 [inlined]",
      " [19] eventloop(::ZMQ.Socket) at /Users/alanedelman/.julia/packages/IJulia/gI2uA/src/eventloop.jl:8",
      " [20] (::getfield(IJulia, Symbol(\"##15#18\")))() at ./task.jl:259"
     ]
    },
    {
     "name": "stderr",
     "output_type": "stream",
     "text": [
      "BoundsError: attempt to access 7×7 Array{Complex{Float64},2} at index [Base.Slice(Base.OneTo(7)), 20]\n",
      "Stacktrace:\n",
      " [1] \u001b[1mthrow_boundserror\u001b[22m\u001b[1m(\u001b[22m::Array{Complex{Float64},2}, ::Tuple{Base.Slice{Base.OneTo{Int64}},Int64}\u001b[1m)\u001b[22m at \u001b[1m./abstractarray.jl:484\u001b[22m\n",
      " [2] \u001b[1mcheckbounds\u001b[22m at \u001b[1m./abstractarray.jl:449\u001b[22m [inlined]\n",
      " [3] \u001b[1m_getindex\u001b[22m at \u001b[1m./multidimensional.jl:641\u001b[22m [inlined]\n",
      " [4] \u001b[1mgetindex\u001b[22m at \u001b[1m./abstractarray.jl:927\u001b[22m [inlined]\n",
      " [5] \u001b[1m(::getfield(Main, Symbol(\"##15#16\")))\u001b[22m\u001b[1m(\u001b[22m::Int64\u001b[1m)\u001b[22m at \u001b[1m./In[14]:4\u001b[22m\n",
      " [6] \u001b[1m(::getfield(Observables, Symbol(\"##16#17\")){getfield(Main, Symbol(\"##15#16\")),Observable{Any}})\u001b[22m\u001b[1m(\u001b[22m::Int64\u001b[1m)\u001b[22m at \u001b[1m/Users/alanedelman/.julia/packages/Observables/qCJWB/src/Observables.jl:152\u001b[22m\n",
      " [7] \u001b[1m(::getfield(Observables, Symbol(\"#g#15\")){getfield(Observables, Symbol(\"##16#17\")){getfield(Main, Symbol(\"##15#16\")),Observable{Any}},Tuple{Widget{:slider,Int64}}})\u001b[22m\u001b[1m(\u001b[22m::Int64\u001b[1m)\u001b[22m at \u001b[1m/Users/alanedelman/.julia/packages/Observables/qCJWB/src/Observables.jl:136\u001b[22m\n",
      " [8] \u001b[1m#setindex!#1\u001b[22m\u001b[1m(\u001b[22m::getfield(WebIO, Symbol(\"##39#40\")), ::Function, ::Observable{Int64}, ::Int64\u001b[1m)\u001b[22m at \u001b[1m/Users/alanedelman/.julia/packages/Observables/qCJWB/src/Observables.jl:87\u001b[22m\n",
      " [9] \u001b[1m#setindex!\u001b[22m at \u001b[1m./none:0\u001b[22m [inlined]\n",
      " [10] \u001b[1msetexcludinghandlers\u001b[22m at \u001b[1m/Users/alanedelman/.julia/packages/Observables/qCJWB/src/Observables.jl:103\u001b[22m [inlined]\n",
      " [11] \u001b[1mset_nosync\u001b[22m\u001b[1m(\u001b[22m::Observable{Int64}, ::Int64\u001b[1m)\u001b[22m at \u001b[1m/Users/alanedelman/.julia/packages/WebIO/7G1ZY/src/scope.jl:336\u001b[22m\n",
      " [12] \u001b[1mdispatch\u001b[22m\u001b[1m(\u001b[22m::Scope, ::String, ::Int64\u001b[1m)\u001b[22m at \u001b[1m/Users/alanedelman/.julia/packages/WebIO/7G1ZY/src/scope.jl:344\u001b[22m\n",
      " [13] \u001b[1mdispatch_command\u001b[22m\u001b[1m(\u001b[22m::WebIO.IJuliaConnection, ::Dict{String,Any}\u001b[1m)\u001b[22m at \u001b[1m/Users/alanedelman/.julia/packages/WebIO/7G1ZY/src/connection.jl:107\u001b[22m\n",
      " [14] \u001b[1mdispatch\u001b[22m\u001b[1m(\u001b[22m::WebIO.IJuliaConnection, ::Dict{String,Any}\u001b[1m)\u001b[22m at \u001b[1m/Users/alanedelman/.julia/packages/WebIO/7G1ZY/src/connection.jl:75\u001b[22m\n",
      " [15] \u001b[1m(::getfield(WebIO, Symbol(\"##84#85\")){WebIO.IJuliaConnection})\u001b[22m\u001b[1m(\u001b[22m::IJulia.Msg\u001b[1m)\u001b[22m at \u001b[1m/Users/alanedelman/.julia/packages/WebIO/7G1ZY/src/providers/ijulia.jl:21\u001b[22m\n",
      " [16] \u001b[1mcomm_msg\u001b[22m\u001b[1m(\u001b[22m::ZMQ.Socket, ::IJulia.Msg\u001b[1m)\u001b[22m at \u001b[1m/Users/alanedelman/.julia/packages/IJulia/gI2uA/src/comm_manager.jl:134\u001b[22m\n",
      " [17] \u001b[1m#invokelatest#1\u001b[22m at \u001b[1m./essentials.jl:742\u001b[22m [inlined]\n",
      " [18] \u001b[1minvokelatest\u001b[22m at \u001b[1m./essentials.jl:741\u001b[22m [inlined]\n",
      " [19] \u001b[1meventloop\u001b[22m\u001b[1m(\u001b[22m::ZMQ.Socket\u001b[1m)\u001b[22m at \u001b[1m/Users/alanedelman/.julia/packages/IJulia/gI2uA/src/eventloop.jl:8\u001b[22m\n",
      " [20] \u001b[1m(::getfield(IJulia, Symbol(\"##15#18\")))\u001b[22m\u001b[1m(\u001b[22m\u001b[1m)\u001b[22m at \u001b[1m./task.jl:259\u001b[22m"
     ]
    },
    {
     "ename": "BoundsError",
     "evalue": "BoundsError: attempt to access 7×7 Array{Complex{Float64},2} at index [Base.Slice(Base.OneTo(7)), 16]",
     "output_type": "error",
     "traceback": [
      "KERNEL EXCEPTION",
      "BoundsError: attempt to access 7×7 Array{Complex{Float64},2} at index [Base.Slice(Base.OneTo(7)), 16]",
      "",
      "Stacktrace:",
      " [1] throw_boundserror(::Array{Complex{Float64},2}, ::Tuple{Base.Slice{Base.OneTo{Int64}},Int64}) at ./abstractarray.jl:484",
      " [2] checkbounds at ./abstractarray.jl:449 [inlined]",
      " [3] _getindex at ./multidimensional.jl:641 [inlined]",
      " [4] getindex at ./abstractarray.jl:927 [inlined]",
      " [5] (::getfield(Main, Symbol(\"##15#16\")))(::Int64) at ./In[14]:4",
      " [6] (::getfield(Observables, Symbol(\"##16#17\")){getfield(Main, Symbol(\"##15#16\")),Observable{Any}})(::Int64) at /Users/alanedelman/.julia/packages/Observables/qCJWB/src/Observables.jl:152",
      " [7] (::getfield(Observables, Symbol(\"#g#15\")){getfield(Observables, Symbol(\"##16#17\")){getfield(Main, Symbol(\"##15#16\")),Observable{Any}},Tuple{Widget{:slider,Int64}}})(::Int64) at /Users/alanedelman/.julia/packages/Observables/qCJWB/src/Observables.jl:136",
      " [8] #setindex!#1(::getfield(WebIO, Symbol(\"##39#40\")), ::Function, ::Observable{Int64}, ::Int64) at /Users/alanedelman/.julia/packages/Observables/qCJWB/src/Observables.jl:87",
      " [9] #setindex! at ./none:0 [inlined]",
      " [10] setexcludinghandlers at /Users/alanedelman/.julia/packages/Observables/qCJWB/src/Observables.jl:103 [inlined]",
      " [11] set_nosync(::Observable{Int64}, ::Int64) at /Users/alanedelman/.julia/packages/WebIO/7G1ZY/src/scope.jl:336",
      " [12] dispatch(::Scope, ::String, ::Int64) at /Users/alanedelman/.julia/packages/WebIO/7G1ZY/src/scope.jl:344",
      " [13] dispatch_command(::WebIO.IJuliaConnection, ::Dict{String,Any}) at /Users/alanedelman/.julia/packages/WebIO/7G1ZY/src/connection.jl:107",
      " [14] dispatch(::WebIO.IJuliaConnection, ::Dict{String,Any}) at /Users/alanedelman/.julia/packages/WebIO/7G1ZY/src/connection.jl:75",
      " [15] (::getfield(WebIO, Symbol(\"##84#85\")){WebIO.IJuliaConnection})(::IJulia.Msg) at /Users/alanedelman/.julia/packages/WebIO/7G1ZY/src/providers/ijulia.jl:21",
      " [16] comm_msg(::ZMQ.Socket, ::IJulia.Msg) at /Users/alanedelman/.julia/packages/IJulia/gI2uA/src/comm_manager.jl:134",
      " [17] #invokelatest#1 at ./essentials.jl:742 [inlined]",
      " [18] invokelatest at ./essentials.jl:741 [inlined]",
      " [19] eventloop(::ZMQ.Socket) at /Users/alanedelman/.julia/packages/IJulia/gI2uA/src/eventloop.jl:8",
      " [20] (::getfield(IJulia, Symbol(\"##15#18\")))() at ./task.jl:259"
     ]
    },
    {
     "name": "stderr",
     "output_type": "stream",
     "text": [
      "BoundsError: attempt to access 7×7 Array{Complex{Float64},2} at index [Base.Slice(Base.OneTo(7)), 16]\n",
      "Stacktrace:\n",
      " [1] \u001b[1mthrow_boundserror\u001b[22m\u001b[1m(\u001b[22m::Array{Complex{Float64},2}, ::Tuple{Base.Slice{Base.OneTo{Int64}},Int64}\u001b[1m)\u001b[22m at \u001b[1m./abstractarray.jl:484\u001b[22m\n",
      " [2] \u001b[1mcheckbounds\u001b[22m at \u001b[1m./abstractarray.jl:449\u001b[22m [inlined]\n",
      " [3] \u001b[1m_getindex\u001b[22m at \u001b[1m./multidimensional.jl:641\u001b[22m [inlined]\n",
      " [4] \u001b[1mgetindex\u001b[22m at \u001b[1m./abstractarray.jl:927\u001b[22m [inlined]\n",
      " [5] \u001b[1m(::getfield(Main, Symbol(\"##15#16\")))\u001b[22m\u001b[1m(\u001b[22m::Int64\u001b[1m)\u001b[22m at \u001b[1m./In[14]:4\u001b[22m\n",
      " [6] \u001b[1m(::getfield(Observables, Symbol(\"##16#17\")){getfield(Main, Symbol(\"##15#16\")),Observable{Any}})\u001b[22m\u001b[1m(\u001b[22m::Int64\u001b[1m)\u001b[22m at \u001b[1m/Users/alanedelman/.julia/packages/Observables/qCJWB/src/Observables.jl:152\u001b[22m\n",
      " [7] \u001b[1m(::getfield(Observables, Symbol(\"#g#15\")){getfield(Observables, Symbol(\"##16#17\")){getfield(Main, Symbol(\"##15#16\")),Observable{Any}},Tuple{Widget{:slider,Int64}}})\u001b[22m\u001b[1m(\u001b[22m::Int64\u001b[1m)\u001b[22m at \u001b[1m/Users/alanedelman/.julia/packages/Observables/qCJWB/src/Observables.jl:136\u001b[22m\n",
      " [8] \u001b[1m#setindex!#1\u001b[22m\u001b[1m(\u001b[22m::getfield(WebIO, Symbol(\"##39#40\")), ::Function, ::Observable{Int64}, ::Int64\u001b[1m)\u001b[22m at \u001b[1m/Users/alanedelman/.julia/packages/Observables/qCJWB/src/Observables.jl:87\u001b[22m\n",
      " [9] \u001b[1m#setindex!\u001b[22m at \u001b[1m./none:0\u001b[22m [inlined]\n",
      " [10] \u001b[1msetexcludinghandlers\u001b[22m at \u001b[1m/Users/alanedelman/.julia/packages/Observables/qCJWB/src/Observables.jl:103\u001b[22m [inlined]\n",
      " [11] \u001b[1mset_nosync\u001b[22m\u001b[1m(\u001b[22m::Observable{Int64}, ::Int64\u001b[1m)\u001b[22m at \u001b[1m/Users/alanedelman/.julia/packages/WebIO/7G1ZY/src/scope.jl:336\u001b[22m\n",
      " [12] \u001b[1mdispatch\u001b[22m\u001b[1m(\u001b[22m::Scope, ::String, ::Int64\u001b[1m)\u001b[22m at \u001b[1m/Users/alanedelman/.julia/packages/WebIO/7G1ZY/src/scope.jl:344\u001b[22m\n",
      " [13] \u001b[1mdispatch_command\u001b[22m\u001b[1m(\u001b[22m::WebIO.IJuliaConnection, ::Dict{String,Any}\u001b[1m)\u001b[22m at \u001b[1m/Users/alanedelman/.julia/packages/WebIO/7G1ZY/src/connection.jl:107\u001b[22m\n",
      " [14] \u001b[1mdispatch\u001b[22m\u001b[1m(\u001b[22m::WebIO.IJuliaConnection, ::Dict{String,Any}\u001b[1m)\u001b[22m at \u001b[1m/Users/alanedelman/.julia/packages/WebIO/7G1ZY/src/connection.jl:75\u001b[22m\n",
      " [15] \u001b[1m(::getfield(WebIO, Symbol(\"##84#85\")){WebIO.IJuliaConnection})\u001b[22m\u001b[1m(\u001b[22m::IJulia.Msg\u001b[1m)\u001b[22m at \u001b[1m/Users/alanedelman/.julia/packages/WebIO/7G1ZY/src/providers/ijulia.jl:21\u001b[22m\n",
      " [16] \u001b[1mcomm_msg\u001b[22m\u001b[1m(\u001b[22m::ZMQ.Socket, ::IJulia.Msg\u001b[1m)\u001b[22m at \u001b[1m/Users/alanedelman/.julia/packages/IJulia/gI2uA/src/comm_manager.jl:134\u001b[22m\n",
      " [17] \u001b[1m#invokelatest#1\u001b[22m at \u001b[1m./essentials.jl:742\u001b[22m [inlined]\n",
      " [18] \u001b[1minvokelatest\u001b[22m at \u001b[1m./essentials.jl:741\u001b[22m [inlined]\n",
      " [19] \u001b[1meventloop\u001b[22m\u001b[1m(\u001b[22m::ZMQ.Socket\u001b[1m)\u001b[22m at \u001b[1m/Users/alanedelman/.julia/packages/IJulia/gI2uA/src/eventloop.jl:8\u001b[22m\n",
      " [20] \u001b[1m(::getfield(IJulia, Symbol(\"##15#18\")))\u001b[22m\u001b[1m(\u001b[22m\u001b[1m)\u001b[22m at \u001b[1m./task.jl:259\u001b[22m"
     ]
    },
    {
     "ename": "BoundsError",
     "evalue": "BoundsError: attempt to access 7×7 Array{Complex{Float64},2} at index [Base.Slice(Base.OneTo(7)), 11]",
     "output_type": "error",
     "traceback": [
      "KERNEL EXCEPTION",
      "BoundsError: attempt to access 7×7 Array{Complex{Float64},2} at index [Base.Slice(Base.OneTo(7)), 11]",
      "",
      "Stacktrace:",
      " [1] throw_boundserror(::Array{Complex{Float64},2}, ::Tuple{Base.Slice{Base.OneTo{Int64}},Int64}) at ./abstractarray.jl:484",
      " [2] checkbounds at ./abstractarray.jl:449 [inlined]",
      " [3] _getindex at ./multidimensional.jl:641 [inlined]",
      " [4] getindex at ./abstractarray.jl:927 [inlined]",
      " [5] (::getfield(Main, Symbol(\"##15#16\")))(::Int64) at ./In[14]:4",
      " [6] (::getfield(Observables, Symbol(\"##16#17\")){getfield(Main, Symbol(\"##15#16\")),Observable{Any}})(::Int64) at /Users/alanedelman/.julia/packages/Observables/qCJWB/src/Observables.jl:152",
      " [7] (::getfield(Observables, Symbol(\"#g#15\")){getfield(Observables, Symbol(\"##16#17\")){getfield(Main, Symbol(\"##15#16\")),Observable{Any}},Tuple{Widget{:slider,Int64}}})(::Int64) at /Users/alanedelman/.julia/packages/Observables/qCJWB/src/Observables.jl:136",
      " [8] #setindex!#1(::getfield(WebIO, Symbol(\"##39#40\")), ::Function, ::Observable{Int64}, ::Int64) at /Users/alanedelman/.julia/packages/Observables/qCJWB/src/Observables.jl:87",
      " [9] #setindex! at ./none:0 [inlined]",
      " [10] setexcludinghandlers at /Users/alanedelman/.julia/packages/Observables/qCJWB/src/Observables.jl:103 [inlined]",
      " [11] set_nosync(::Observable{Int64}, ::Int64) at /Users/alanedelman/.julia/packages/WebIO/7G1ZY/src/scope.jl:336",
      " [12] dispatch(::Scope, ::String, ::Int64) at /Users/alanedelman/.julia/packages/WebIO/7G1ZY/src/scope.jl:344",
      " [13] dispatch_command(::WebIO.IJuliaConnection, ::Dict{String,Any}) at /Users/alanedelman/.julia/packages/WebIO/7G1ZY/src/connection.jl:107",
      " [14] dispatch(::WebIO.IJuliaConnection, ::Dict{String,Any}) at /Users/alanedelman/.julia/packages/WebIO/7G1ZY/src/connection.jl:75",
      " [15] (::getfield(WebIO, Symbol(\"##84#85\")){WebIO.IJuliaConnection})(::IJulia.Msg) at /Users/alanedelman/.julia/packages/WebIO/7G1ZY/src/providers/ijulia.jl:21",
      " [16] comm_msg(::ZMQ.Socket, ::IJulia.Msg) at /Users/alanedelman/.julia/packages/IJulia/gI2uA/src/comm_manager.jl:134",
      " [17] #invokelatest#1 at ./essentials.jl:742 [inlined]",
      " [18] invokelatest at ./essentials.jl:741 [inlined]",
      " [19] eventloop(::ZMQ.Socket) at /Users/alanedelman/.julia/packages/IJulia/gI2uA/src/eventloop.jl:8",
      " [20] (::getfield(IJulia, Symbol(\"##15#18\")))() at ./task.jl:259"
     ]
    },
    {
     "name": "stderr",
     "output_type": "stream",
     "text": [
      "BoundsError: attempt to access 7×7 Array{Complex{Float64},2} at index [Base.Slice(Base.OneTo(7)), 11]\n",
      "Stacktrace:\n",
      " [1] \u001b[1mthrow_boundserror\u001b[22m\u001b[1m(\u001b[22m::Array{Complex{Float64},2}, ::Tuple{Base.Slice{Base.OneTo{Int64}},Int64}\u001b[1m)\u001b[22m at \u001b[1m./abstractarray.jl:484\u001b[22m\n",
      " [2] \u001b[1mcheckbounds\u001b[22m at \u001b[1m./abstractarray.jl:449\u001b[22m [inlined]\n",
      " [3] \u001b[1m_getindex\u001b[22m at \u001b[1m./multidimensional.jl:641\u001b[22m [inlined]\n",
      " [4] \u001b[1mgetindex\u001b[22m at \u001b[1m./abstractarray.jl:927\u001b[22m [inlined]\n",
      " [5] \u001b[1m(::getfield(Main, Symbol(\"##15#16\")))\u001b[22m\u001b[1m(\u001b[22m::Int64\u001b[1m)\u001b[22m at \u001b[1m./In[14]:4\u001b[22m\n",
      " [6] \u001b[1m(::getfield(Observables, Symbol(\"##16#17\")){getfield(Main, Symbol(\"##15#16\")),Observable{Any}})\u001b[22m\u001b[1m(\u001b[22m::Int64\u001b[1m)\u001b[22m at \u001b[1m/Users/alanedelman/.julia/packages/Observables/qCJWB/src/Observables.jl:152\u001b[22m\n",
      " [7] \u001b[1m(::getfield(Observables, Symbol(\"#g#15\")){getfield(Observables, Symbol(\"##16#17\")){getfield(Main, Symbol(\"##15#16\")),Observable{Any}},Tuple{Widget{:slider,Int64}}})\u001b[22m\u001b[1m(\u001b[22m::Int64\u001b[1m)\u001b[22m at \u001b[1m/Users/alanedelman/.julia/packages/Observables/qCJWB/src/Observables.jl:136\u001b[22m\n",
      " [8] \u001b[1m#setindex!#1\u001b[22m\u001b[1m(\u001b[22m::getfield(WebIO, Symbol(\"##39#40\")), ::Function, ::Observable{Int64}, ::Int64\u001b[1m)\u001b[22m at \u001b[1m/Users/alanedelman/.julia/packages/Observables/qCJWB/src/Observables.jl:87\u001b[22m\n",
      " [9] \u001b[1m#setindex!\u001b[22m at \u001b[1m./none:0\u001b[22m [inlined]\n",
      " [10] \u001b[1msetexcludinghandlers\u001b[22m at \u001b[1m/Users/alanedelman/.julia/packages/Observables/qCJWB/src/Observables.jl:103\u001b[22m [inlined]\n",
      " [11] \u001b[1mset_nosync\u001b[22m\u001b[1m(\u001b[22m::Observable{Int64}, ::Int64\u001b[1m)\u001b[22m at \u001b[1m/Users/alanedelman/.julia/packages/WebIO/7G1ZY/src/scope.jl:336\u001b[22m\n",
      " [12] \u001b[1mdispatch\u001b[22m\u001b[1m(\u001b[22m::Scope, ::String, ::Int64\u001b[1m)\u001b[22m at \u001b[1m/Users/alanedelman/.julia/packages/WebIO/7G1ZY/src/scope.jl:344\u001b[22m\n",
      " [13] \u001b[1mdispatch_command\u001b[22m\u001b[1m(\u001b[22m::WebIO.IJuliaConnection, ::Dict{String,Any}\u001b[1m)\u001b[22m at \u001b[1m/Users/alanedelman/.julia/packages/WebIO/7G1ZY/src/connection.jl:107\u001b[22m\n",
      " [14] \u001b[1mdispatch\u001b[22m\u001b[1m(\u001b[22m::WebIO.IJuliaConnection, ::Dict{String,Any}\u001b[1m)\u001b[22m at \u001b[1m/Users/alanedelman/.julia/packages/WebIO/7G1ZY/src/connection.jl:75\u001b[22m\n",
      " [15] \u001b[1m(::getfield(WebIO, Symbol(\"##84#85\")){WebIO.IJuliaConnection})\u001b[22m\u001b[1m(\u001b[22m::IJulia.Msg\u001b[1m)\u001b[22m at \u001b[1m/Users/alanedelman/.julia/packages/WebIO/7G1ZY/src/providers/ijulia.jl:21\u001b[22m\n",
      " [16] \u001b[1mcomm_msg\u001b[22m\u001b[1m(\u001b[22m::ZMQ.Socket, ::IJulia.Msg\u001b[1m)\u001b[22m at \u001b[1m/Users/alanedelman/.julia/packages/IJulia/gI2uA/src/comm_manager.jl:134\u001b[22m\n",
      " [17] \u001b[1m#invokelatest#1\u001b[22m at \u001b[1m./essentials.jl:742\u001b[22m [inlined]\n",
      " [18] \u001b[1minvokelatest\u001b[22m at \u001b[1m./essentials.jl:741\u001b[22m [inlined]\n",
      " [19] \u001b[1meventloop\u001b[22m\u001b[1m(\u001b[22m::ZMQ.Socket\u001b[1m)\u001b[22m at \u001b[1m/Users/alanedelman/.julia/packages/IJulia/gI2uA/src/eventloop.jl:8\u001b[22m\n",
      " [20] \u001b[1m(::getfield(IJulia, Symbol(\"##15#18\")))\u001b[22m\u001b[1m(\u001b[22m\u001b[1m)\u001b[22m at \u001b[1m./task.jl:259\u001b[22m"
     ]
    }
   ],
   "source": [
    "n=7\n",
    "@manipulate for i=2:(n-1)\n",
    "plot()   \n",
    "    FF = F(n)[:,i]\n",
    "    plot!([real.(FF);1], [imag.(FF);0])  \n",
    "    plot!(aspect_ratio=1,legend=false)\n",
    "end"
   ]
  },
  {
   "cell_type": "code",
   "execution_count": 201,
   "metadata": {},
   "outputs": [
    {
     "data": {
      "application/vnd.webio.node+json": {
       "children": [
        {
         "children": [
          {
           "children": [
            {
             "children": [
              {
               "children": [
                {
                 "children": [
                  "i"
                 ],
                 "instanceArgs": {
                  "namespace": "html",
                  "tag": "label"
                 },
                 "nodeType": "DOM",
                 "props": {
                  "className": "interact ",
                  "style": {
                   "padding": "5px 10px 0px 10px"
                  }
                 },
                 "type": "node"
                }
               ],
               "instanceArgs": {
                "namespace": "html",
                "tag": "div"
               },
               "nodeType": "DOM",
               "props": {
                "className": "interact-flex-row-left"
               },
               "type": "node"
              },
              {
               "children": [
                {
                 "children": [],
                 "instanceArgs": {
                  "namespace": "html",
                  "tag": "input"
                 },
                 "nodeType": "DOM",
                 "props": {
                  "attributes": {
                   "data-bind": "numericValue: index, valueUpdate: 'input', event: {change: function (){this.changes(this.changes()+1)}}",
                   "orient": "horizontal",
                   "type": "range"
                  },
                  "className": "slider slider is-fullwidth",
                  "max": 100,
                  "min": 2,
                  "step": 1,
                  "style": {}
                 },
                 "type": "node"
                }
               ],
               "instanceArgs": {
                "namespace": "html",
                "tag": "div"
               },
               "nodeType": "DOM",
               "props": {
                "className": "interact-flex-row-center"
               },
               "type": "node"
              },
              {
               "children": [
                {
                 "children": [],
                 "instanceArgs": {
                  "namespace": "html",
                  "tag": "p"
                 },
                 "nodeType": "DOM",
                 "props": {
                  "attributes": {
                   "data-bind": "text: formatted_val"
                  }
                 },
                 "type": "node"
                }
               ],
               "instanceArgs": {
                "namespace": "html",
                "tag": "div"
               },
               "nodeType": "DOM",
               "props": {
                "className": "interact-flex-row-right"
               },
               "type": "node"
              }
             ],
             "instanceArgs": {
              "namespace": "html",
              "tag": "div"
             },
             "nodeType": "DOM",
             "props": {
              "className": "interact-flex-row interact-widget"
             },
             "type": "node"
            }
           ],
           "instanceArgs": {
            "handlers": {
             "changes": [
              "(function (val){return (val!=this.model[\"changes\"]()) ? (this.valueFromJulia[\"changes\"]=true, this.model[\"changes\"](val)) : undefined})"
             ],
             "index": [
              "(function (val){return (val!=this.model[\"index\"]()) ? (this.valueFromJulia[\"index\"]=true, this.model[\"index\"](val)) : undefined})"
             ]
            },
            "id": "knockout-component-176ee7ba-d415-4cb7-b56d-ad898e841252",
            "imports": {
             "data": [
              {
               "name": "knockout",
               "type": "js",
               "url": "/assetserver/a8d465714ca0b50fcacaa7d87d7fe7277251eb7a-knockout.js"
              },
              {
               "name": "knockout_punches",
               "type": "js",
               "url": "/assetserver/fadafe50514ba2741549559683e093f56983d17e-knockout_punches.js"
              },
              {
               "name": null,
               "type": "js",
               "url": "/assetserver/63630a7ccdf5bd5d44a8feb7a4d460731215c312-all.js"
              },
              {
               "name": null,
               "type": "css",
               "url": "/assetserver/80b07db3456327364d1ddf7241edced2116b96b7-style.css"
              },
              {
               "name": null,
               "type": "css",
               "url": "/assetserver/f6aed912610be690301640e34f5afbde68442a99-bulma_confined.min.css"
              }
             ],
             "type": "async_block"
            },
            "mount_callbacks": [
             "function () {\n    var handler = (function (ko, koPunches) {\n    ko.punches.enableAll();\n    ko.bindingHandlers.numericValue = {\n        init : function(element, valueAccessor, allBindings, data, context) {\n            var stringified = ko.observable(ko.unwrap(valueAccessor()));\n            stringified.subscribe(function(value) {\n                var val = parseFloat(value);\n                if (!isNaN(val)) {\n                    valueAccessor()(val);\n                }\n            })\n            valueAccessor().subscribe(function(value) {\n                var str = JSON.stringify(value);\n                if ((str == \"0\") && ([\"-0\", \"-0.\"].indexOf(stringified()) >= 0))\n                     return;\n                 if ([\"null\", \"\"].indexOf(str) >= 0)\n                     return;\n                stringified(str);\n            })\n            ko.applyBindingsToNode(element, { value: stringified, valueUpdate: allBindings.get('valueUpdate')}, context);\n        }\n    };\n    var json_data = {\"formatted_vals\":[\"2\",\"3\",\"4\",\"5\",\"6\",\"7\",\"8\",\"9\",\"10\",\"11\",\"12\",\"13\",\"14\",\"15\",\"16\",\"17\",\"18\",\"19\",\"20\",\"21\",\"22\",\"23\",\"24\",\"25\",\"26\",\"27\",\"28\",\"29\",\"30\",\"31\",\"32\",\"33\",\"34\",\"35\",\"36\",\"37\",\"38\",\"39\",\"40\",\"41\",\"42\",\"43\",\"44\",\"45\",\"46\",\"47\",\"48\",\"49\",\"50\",\"51\",\"52\",\"53\",\"54\",\"55\",\"56\",\"57\",\"58\",\"59\",\"60\",\"61\",\"62\",\"63\",\"64\",\"65\",\"66\",\"67\",\"68\",\"69\",\"70\",\"71\",\"72\",\"73\",\"74\",\"75\",\"76\",\"77\",\"78\",\"79\",\"80\",\"81\",\"82\",\"83\",\"84\",\"85\",\"86\",\"87\",\"88\",\"89\",\"90\",\"91\",\"92\",\"93\",\"94\",\"95\",\"96\",\"97\",\"98\",\"99\",\"100\"],\"changes\":WebIO.getval({\"name\":\"changes\",\"scope\":\"knockout-component-176ee7ba-d415-4cb7-b56d-ad898e841252\",\"id\":\"ob_60\",\"type\":\"observable\"}),\"index\":WebIO.getval({\"name\":\"index\",\"scope\":\"knockout-component-176ee7ba-d415-4cb7-b56d-ad898e841252\",\"id\":\"ob_59\",\"type\":\"observable\"})};\n    var self = this;\n    function AppViewModel() {\n        for (var key in json_data) {\n            var el = json_data[key];\n            this[key] = Array.isArray(el) ? ko.observableArray(el) : ko.observable(el);\n        }\n        \n        [this[\"formatted_val\"]=ko.computed(    function(){\n        return this.formatted_vals()[parseInt(this.index())-1];\n    }\n,this)]\n        [this[\"changes\"].subscribe((function (val){!(this.valueFromJulia[\"changes\"]) ? (WebIO.setval({\"name\":\"changes\",\"scope\":\"knockout-component-176ee7ba-d415-4cb7-b56d-ad898e841252\",\"id\":\"ob_60\",\"type\":\"observable\"},val)) : undefined; return this.valueFromJulia[\"changes\"]=false}),self),this[\"index\"].subscribe((function (val){!(this.valueFromJulia[\"index\"]) ? (WebIO.setval({\"name\":\"index\",\"scope\":\"knockout-component-176ee7ba-d415-4cb7-b56d-ad898e841252\",\"id\":\"ob_59\",\"type\":\"observable\"},val)) : undefined; return this.valueFromJulia[\"index\"]=false}),self)]\n        \n    }\n    self.model = new AppViewModel();\n    self.valueFromJulia = {};\n    for (var key in json_data) {\n        self.valueFromJulia[key] = false;\n    }\n    ko.applyBindings(self.model, self.dom);\n}\n);\n    (WebIO.importBlock({\"data\":[{\"name\":\"knockout\",\"type\":\"js\",\"url\":\"/assetserver/a8d465714ca0b50fcacaa7d87d7fe7277251eb7a-knockout.js\"},{\"name\":\"knockout_punches\",\"type\":\"js\",\"url\":\"/assetserver/fadafe50514ba2741549559683e093f56983d17e-knockout_punches.js\"}],\"type\":\"async_block\"})).then((imports) => handler.apply(this, imports));\n}\n"
            ],
            "observables": {
             "changes": {
              "id": "ob_60",
              "sync": false,
              "value": 0
             },
             "index": {
              "id": "ob_59",
              "sync": true,
              "value": 51
             }
            },
            "systemjs_options": null
           },
           "nodeType": "Scope",
           "props": {},
           "type": "node"
          }
         ],
         "instanceArgs": {
          "namespace": "html",
          "tag": "div"
         },
         "nodeType": "DOM",
         "props": {
          "className": "field interact-widget"
         },
         "type": "node"
        },
        {
         "children": [
          {
           "children": [],
           "instanceArgs": {
            "id": "ob_66",
            "name": "obs-node"
           },
           "nodeType": "ObservableNode",
           "props": {},
           "type": "node"
          }
         ],
         "instanceArgs": {
          "handlers": {},
          "id": "scope-e59c62a2-ad44-423a-8cd9-00fd8372cac5",
          "imports": {
           "data": [],
           "type": "async_block"
          },
          "mount_callbacks": [],
          "observables": {
           "obs-node": {
            "id": "ob_66",
            "sync": false,
            "value": {
             "children": [
              {
               "children": [],
               "instanceArgs": {
                "namespace": "html",
                "tag": "div"
               },
               "nodeType": "DOM",
               "props": {
                "setInnerHtml": "<?xml version=\"1.0\" encoding=\"utf-8\"?>\n<svg xmlns=\"http://www.w3.org/2000/svg\" xmlns:xlink=\"http://www.w3.org/1999/xlink\" width=\"600\" height=\"400\" viewBox=\"0 0 2400 1600\">\n<defs>\n  <clipPath id=\"clip9000\">\n    <rect x=\"0\" y=\"0\" width=\"2400\" height=\"1600\"/>\n  </clipPath>\n</defs>\n<polygon clip-path=\"url(#clip9000)\" points=\"\n0,1600 2400,1600 2400,0 0,0 \n  \" fill=\"#ffffff\" fill-rule=\"evenodd\" fill-opacity=\"1\"/>\n<defs>\n  <clipPath id=\"clip9001\">\n    <rect x=\"480\" y=\"0\" width=\"1681\" height=\"1600\"/>\n  </clipPath>\n</defs>\n<polygon clip-path=\"url(#clip9000)\" points=\"\n547.354,1487.47 1987.41,1487.47 1987.41,47.2441 547.354,47.2441 \n  \" fill=\"#ffffff\" fill-rule=\"evenodd\" fill-opacity=\"1\"/>\n<defs>\n  <clipPath id=\"clip9002\">\n    <rect x=\"547\" y=\"47\" width=\"1441\" height=\"1441\"/>\n  </clipPath>\n</defs>\n<polyline clip-path=\"url(#clip9002)\" style=\"stroke:#000000; stroke-width:2; stroke-opacity:0.1; fill:none\" points=\"\n  587.781,1487.47 587.781,47.2441 \n  \"/>\n<polyline clip-path=\"url(#clip9002)\" style=\"stroke:#000000; stroke-width:2; stroke-opacity:0.1; fill:none\" points=\"\n  927.5,1487.47 927.5,47.2441 \n  \"/>\n<polyline clip-path=\"url(#clip9002)\" style=\"stroke:#000000; stroke-width:2; stroke-opacity:0.1; fill:none\" points=\"\n  1267.22,1487.47 1267.22,47.2441 \n  \"/>\n<polyline clip-path=\"url(#clip9002)\" style=\"stroke:#000000; stroke-width:2; stroke-opacity:0.1; fill:none\" points=\"\n  1606.94,1487.47 1606.94,47.2441 \n  \"/>\n<polyline clip-path=\"url(#clip9002)\" style=\"stroke:#000000; stroke-width:2; stroke-opacity:0.1; fill:none\" points=\"\n  1946.65,1487.47 1946.65,47.2441 \n  \"/>\n<polyline clip-path=\"url(#clip9002)\" style=\"stroke:#000000; stroke-width:2; stroke-opacity:0.1; fill:none\" points=\"\n  547.354,1446.8 1987.41,1446.8 \n  \"/>\n<polyline clip-path=\"url(#clip9002)\" style=\"stroke:#000000; stroke-width:2; stroke-opacity:0.1; fill:none\" points=\"\n  547.354,1107.08 1987.41,1107.08 \n  \"/>\n<polyline clip-path=\"url(#clip9002)\" style=\"stroke:#000000; stroke-width:2; stroke-opacity:0.1; fill:none\" points=\"\n  547.354,767.359 1987.41,767.359 \n  \"/>\n<polyline clip-path=\"url(#clip9002)\" style=\"stroke:#000000; stroke-width:2; stroke-opacity:0.1; fill:none\" points=\"\n  547.354,427.641 1987.41,427.641 \n  \"/>\n<polyline clip-path=\"url(#clip9002)\" style=\"stroke:#000000; stroke-width:2; stroke-opacity:0.1; fill:none\" points=\"\n  547.354,87.9232 1987.41,87.9232 \n  \"/>\n<polyline clip-path=\"url(#clip9000)\" style=\"stroke:#000000; stroke-width:4; stroke-opacity:1; fill:none\" points=\"\n  547.354,1487.47 1987.41,1487.47 \n  \"/>\n<polyline clip-path=\"url(#clip9000)\" style=\"stroke:#000000; stroke-width:4; stroke-opacity:1; fill:none\" points=\"\n  547.354,1487.47 547.354,47.2441 \n  \"/>\n<polyline clip-path=\"url(#clip9000)\" style=\"stroke:#000000; stroke-width:4; stroke-opacity:1; fill:none\" points=\"\n  587.781,1487.47 587.781,1465.87 \n  \"/>\n<polyline clip-path=\"url(#clip9000)\" style=\"stroke:#000000; stroke-width:4; stroke-opacity:1; fill:none\" points=\"\n  927.5,1487.47 927.5,1465.87 \n  \"/>\n<polyline clip-path=\"url(#clip9000)\" style=\"stroke:#000000; stroke-width:4; stroke-opacity:1; fill:none\" points=\"\n  1267.22,1487.47 1267.22,1465.87 \n  \"/>\n<polyline clip-path=\"url(#clip9000)\" style=\"stroke:#000000; stroke-width:4; stroke-opacity:1; fill:none\" points=\"\n  1606.94,1487.47 1606.94,1465.87 \n  \"/>\n<polyline clip-path=\"url(#clip9000)\" style=\"stroke:#000000; stroke-width:4; stroke-opacity:1; fill:none\" points=\"\n  1946.65,1487.47 1946.65,1465.87 \n  \"/>\n<polyline clip-path=\"url(#clip9000)\" style=\"stroke:#000000; stroke-width:4; stroke-opacity:1; fill:none\" points=\"\n  547.354,1446.8 568.955,1446.8 \n  \"/>\n<polyline clip-path=\"url(#clip9000)\" style=\"stroke:#000000; stroke-width:4; stroke-opacity:1; fill:none\" points=\"\n  547.354,1107.08 568.955,1107.08 \n  \"/>\n<polyline clip-path=\"url(#clip9000)\" style=\"stroke:#000000; stroke-width:4; stroke-opacity:1; fill:none\" points=\"\n  547.354,767.359 568.955,767.359 \n  \"/>\n<polyline clip-path=\"url(#clip9000)\" style=\"stroke:#000000; stroke-width:4; stroke-opacity:1; fill:none\" points=\"\n  547.354,427.641 568.955,427.641 \n  \"/>\n<polyline clip-path=\"url(#clip9000)\" style=\"stroke:#000000; stroke-width:4; stroke-opacity:1; fill:none\" points=\"\n  547.354,87.9232 568.955,87.9232 \n  \"/>\n<g clip-path=\"url(#clip9000)\">\n<text style=\"fill:#000000; fill-opacity:1; font-family:Arial,Helvetica Neue,Helvetica,sans-serif; font-size:48px; text-anchor:middle;\" transform=\"rotate(0, 587.781, 1541.47)\" x=\"587.781\" y=\"1541.47\">-1.0</text>\n</g>\n<g clip-path=\"url(#clip9000)\">\n<text style=\"fill:#000000; fill-opacity:1; font-family:Arial,Helvetica Neue,Helvetica,sans-serif; font-size:48px; text-anchor:middle;\" transform=\"rotate(0, 927.5, 1541.47)\" x=\"927.5\" y=\"1541.47\">-0.5</text>\n</g>\n<g clip-path=\"url(#clip9000)\">\n<text style=\"fill:#000000; fill-opacity:1; font-family:Arial,Helvetica Neue,Helvetica,sans-serif; font-size:48px; text-anchor:middle;\" transform=\"rotate(0, 1267.22, 1541.47)\" x=\"1267.22\" y=\"1541.47\">0.0</text>\n</g>\n<g clip-path=\"url(#clip9000)\">\n<text style=\"fill:#000000; fill-opacity:1; font-family:Arial,Helvetica Neue,Helvetica,sans-serif; font-size:48px; text-anchor:middle;\" transform=\"rotate(0, 1606.94, 1541.47)\" x=\"1606.94\" y=\"1541.47\">0.5</text>\n</g>\n<g clip-path=\"url(#clip9000)\">\n<text style=\"fill:#000000; fill-opacity:1; font-family:Arial,Helvetica Neue,Helvetica,sans-serif; font-size:48px; text-anchor:middle;\" transform=\"rotate(0, 1946.65, 1541.47)\" x=\"1946.65\" y=\"1541.47\">1.0</text>\n</g>\n<g clip-path=\"url(#clip9000)\">\n<text style=\"fill:#000000; fill-opacity:1; font-family:Arial,Helvetica Neue,Helvetica,sans-serif; font-size:48px; text-anchor:end;\" transform=\"rotate(0, 523.354, 1464.3)\" x=\"523.354\" y=\"1464.3\">-1.0</text>\n</g>\n<g clip-path=\"url(#clip9000)\">\n<text style=\"fill:#000000; fill-opacity:1; font-family:Arial,Helvetica Neue,Helvetica,sans-serif; font-size:48px; text-anchor:end;\" transform=\"rotate(0, 523.354, 1124.58)\" x=\"523.354\" y=\"1124.58\">-0.5</text>\n</g>\n<g clip-path=\"url(#clip9000)\">\n<text style=\"fill:#000000; fill-opacity:1; font-family:Arial,Helvetica Neue,Helvetica,sans-serif; font-size:48px; text-anchor:end;\" transform=\"rotate(0, 523.354, 784.859)\" x=\"523.354\" y=\"784.859\">0.0</text>\n</g>\n<g clip-path=\"url(#clip9000)\">\n<text style=\"fill:#000000; fill-opacity:1; font-family:Arial,Helvetica Neue,Helvetica,sans-serif; font-size:48px; text-anchor:end;\" transform=\"rotate(0, 523.354, 445.141)\" x=\"523.354\" y=\"445.141\">0.5</text>\n</g>\n<g clip-path=\"url(#clip9000)\">\n<text style=\"fill:#000000; fill-opacity:1; font-family:Arial,Helvetica Neue,Helvetica,sans-serif; font-size:48px; text-anchor:end;\" transform=\"rotate(0, 523.354, 105.423)\" x=\"523.354\" y=\"105.423\">1.0</text>\n</g>\n<polyline clip-path=\"url(#clip9002)\" style=\"stroke:#009af9; stroke-width:4; stroke-opacity:1; fill:none\" points=\"\n  1946.65,767.359 588.11,788.49 1945.34,725.119 590.737,830.669 1941.4,683.042 595.982,872.603 1934.86,641.292 603.823,914.13 1925.73,600.029 614.231,955.089 \n  1914.05,559.413 627.165,995.322 1899.87,519.602 642.576,1034.67 1883.24,480.749 660.403,1072.99 1864.23,443.006 680.578,1110.12 1842.91,406.517 703.022,1145.93 \n  1819.37,371.424 727.649,1180.28 1793.68,337.863 754.364,1213.02 1765.96,305.964 783.062,1244.04 1736.31,275.849 813.634,1273.22 1704.85,247.637 845.961,1300.44 \n  1671.69,221.434 879.917,1325.6 1636.97,197.344 915.372,1348.6 1600.82,175.46 952.188,1369.35 1563.37,155.865 990.223,1387.77 1524.78,138.636 1029.33,1403.79 \n  1485.2,123.839 1069.36,1417.35 1444.77,111.532 1110.15,1428.39 1403.65,101.763 1151.55,1436.88 1362.01,94.5681 1193.4,1442.77 1320,89.9764 1235.53,1446.06 \n  1277.78,88.0053 1277.78,1446.71 1235.53,88.6626 1320,1444.74 1193.4,91.9455 1362.01,1440.15 1151.55,97.8416 1403.65,1432.96 1110.15,106.328 1444.77,1423.19 \n  1069.36,117.371 1485.2,1410.88 1029.33,130.93 1524.78,1396.08 990.223,146.95 1563.37,1378.85 952.188,165.371 1600.82,1359.26 915.372,186.121 1636.97,1337.37 \n  879.917,209.119 1671.69,1313.28 845.961,234.278 1704.85,1287.08 813.634,261.498 1736.31,1258.87 783.062,290.676 1765.96,1228.76 754.364,321.698 1793.68,1196.86 \n  727.649,354.444 1819.37,1163.29 703.022,388.787 1842.91,1128.2 680.578,424.595 1864.23,1091.71 660.403,461.73 1883.24,1053.97 642.576,500.046 1899.87,1015.12 \n  627.165,539.397 1914.05,975.306 614.231,579.63 1925.73,934.69 603.823,620.589 1934.86,893.427 595.982,662.116 1941.4,851.677 590.737,704.05 1945.34,809.6 \n  588.11,746.229 1946.65,767.359 \n  \"/>\n</svg>\n"
               },
               "type": "node"
              }
             ],
             "instanceArgs": {
              "namespace": "html",
              "tag": "div"
             },
             "nodeType": "DOM",
             "props": {
              "className": "interact-flex-row interact-widget"
             },
             "type": "node"
            }
           }
          },
          "systemjs_options": null
         },
         "nodeType": "Scope",
         "props": {},
         "type": "node"
        }
       ],
       "instanceArgs": {
        "namespace": "html",
        "tag": "div"
       },
       "nodeType": "DOM",
       "props": {},
       "type": "node"
      },
      "text/html": [
       "<div\n",
       "    class=\"webio-mountpoint\"\n",
       "    data-webio-mountpoint=\"5871269693424246015\"\n",
       ">\n",
       "    <script>\n",
       "    if (window.require && require.defined && require.defined(\"nbextensions/webio/main\")) {\n",
       "        console.log(\"Jupyter WebIO extension detected, not mounting.\");\n",
       "    } else if (window.WebIO) {\n",
       "        WebIO.mount(\n",
       "            document.querySelector('[data-webio-mountpoint=\"5871269693424246015\"]'),\n",
       "            {\"props\":{},\"nodeType\":\"DOM\",\"type\":\"node\",\"instanceArgs\":{\"namespace\":\"html\",\"tag\":\"div\"},\"children\":[{\"props\":{\"className\":\"field interact-widget\"},\"nodeType\":\"DOM\",\"type\":\"node\",\"instanceArgs\":{\"namespace\":\"html\",\"tag\":\"div\"},\"children\":[{\"props\":{},\"nodeType\":\"Scope\",\"type\":\"node\",\"instanceArgs\":{\"imports\":{\"data\":[{\"name\":\"knockout\",\"type\":\"js\",\"url\":\"\\/assetserver\\/a8d465714ca0b50fcacaa7d87d7fe7277251eb7a-knockout.js\"},{\"name\":\"knockout_punches\",\"type\":\"js\",\"url\":\"\\/assetserver\\/fadafe50514ba2741549559683e093f56983d17e-knockout_punches.js\"},{\"name\":null,\"type\":\"js\",\"url\":\"\\/assetserver\\/63630a7ccdf5bd5d44a8feb7a4d460731215c312-all.js\"},{\"name\":null,\"type\":\"css\",\"url\":\"\\/assetserver\\/80b07db3456327364d1ddf7241edced2116b96b7-style.css\"},{\"name\":null,\"type\":\"css\",\"url\":\"\\/assetserver\\/f6aed912610be690301640e34f5afbde68442a99-bulma_confined.min.css\"}],\"type\":\"async_block\"},\"id\":\"knockout-component-176ee7ba-d415-4cb7-b56d-ad898e841252\",\"handlers\":{\"changes\":[\"(function (val){return (val!=this.model[\\\"changes\\\"]()) ? (this.valueFromJulia[\\\"changes\\\"]=true, this.model[\\\"changes\\\"](val)) : undefined})\"],\"index\":[\"(function (val){return (val!=this.model[\\\"index\\\"]()) ? (this.valueFromJulia[\\\"index\\\"]=true, this.model[\\\"index\\\"](val)) : undefined})\"]},\"systemjs_options\":null,\"mount_callbacks\":[\"function () {\\n    var handler = (function (ko, koPunches) {\\n    ko.punches.enableAll();\\n    ko.bindingHandlers.numericValue = {\\n        init : function(element, valueAccessor, allBindings, data, context) {\\n            var stringified = ko.observable(ko.unwrap(valueAccessor()));\\n            stringified.subscribe(function(value) {\\n                var val = parseFloat(value);\\n                if (!isNaN(val)) {\\n                    valueAccessor()(val);\\n                }\\n            })\\n            valueAccessor().subscribe(function(value) {\\n                var str = JSON.stringify(value);\\n                if ((str == \\\"0\\\") && ([\\\"-0\\\", \\\"-0.\\\"].indexOf(stringified()) >= 0))\\n                     return;\\n                 if ([\\\"null\\\", \\\"\\\"].indexOf(str) >= 0)\\n                     return;\\n                stringified(str);\\n            })\\n            ko.applyBindingsToNode(element, { value: stringified, valueUpdate: allBindings.get('valueUpdate')}, context);\\n        }\\n    };\\n    var json_data = {\\\"formatted_vals\\\":[\\\"2\\\",\\\"3\\\",\\\"4\\\",\\\"5\\\",\\\"6\\\",\\\"7\\\",\\\"8\\\",\\\"9\\\",\\\"10\\\",\\\"11\\\",\\\"12\\\",\\\"13\\\",\\\"14\\\",\\\"15\\\",\\\"16\\\",\\\"17\\\",\\\"18\\\",\\\"19\\\",\\\"20\\\",\\\"21\\\",\\\"22\\\",\\\"23\\\",\\\"24\\\",\\\"25\\\",\\\"26\\\",\\\"27\\\",\\\"28\\\",\\\"29\\\",\\\"30\\\",\\\"31\\\",\\\"32\\\",\\\"33\\\",\\\"34\\\",\\\"35\\\",\\\"36\\\",\\\"37\\\",\\\"38\\\",\\\"39\\\",\\\"40\\\",\\\"41\\\",\\\"42\\\",\\\"43\\\",\\\"44\\\",\\\"45\\\",\\\"46\\\",\\\"47\\\",\\\"48\\\",\\\"49\\\",\\\"50\\\",\\\"51\\\",\\\"52\\\",\\\"53\\\",\\\"54\\\",\\\"55\\\",\\\"56\\\",\\\"57\\\",\\\"58\\\",\\\"59\\\",\\\"60\\\",\\\"61\\\",\\\"62\\\",\\\"63\\\",\\\"64\\\",\\\"65\\\",\\\"66\\\",\\\"67\\\",\\\"68\\\",\\\"69\\\",\\\"70\\\",\\\"71\\\",\\\"72\\\",\\\"73\\\",\\\"74\\\",\\\"75\\\",\\\"76\\\",\\\"77\\\",\\\"78\\\",\\\"79\\\",\\\"80\\\",\\\"81\\\",\\\"82\\\",\\\"83\\\",\\\"84\\\",\\\"85\\\",\\\"86\\\",\\\"87\\\",\\\"88\\\",\\\"89\\\",\\\"90\\\",\\\"91\\\",\\\"92\\\",\\\"93\\\",\\\"94\\\",\\\"95\\\",\\\"96\\\",\\\"97\\\",\\\"98\\\",\\\"99\\\",\\\"100\\\"],\\\"changes\\\":WebIO.getval({\\\"name\\\":\\\"changes\\\",\\\"scope\\\":\\\"knockout-component-176ee7ba-d415-4cb7-b56d-ad898e841252\\\",\\\"id\\\":\\\"ob_60\\\",\\\"type\\\":\\\"observable\\\"}),\\\"index\\\":WebIO.getval({\\\"name\\\":\\\"index\\\",\\\"scope\\\":\\\"knockout-component-176ee7ba-d415-4cb7-b56d-ad898e841252\\\",\\\"id\\\":\\\"ob_59\\\",\\\"type\\\":\\\"observable\\\"})};\\n    var self = this;\\n    function AppViewModel() {\\n        for (var key in json_data) {\\n            var el = json_data[key];\\n            this[key] = Array.isArray(el) ? ko.observableArray(el) : ko.observable(el);\\n        }\\n        \\n        [this[\\\"formatted_val\\\"]=ko.computed(    function(){\\n        return this.formatted_vals()[parseInt(this.index())-1];\\n    }\\n,this)]\\n        [this[\\\"changes\\\"].subscribe((function (val){!(this.valueFromJulia[\\\"changes\\\"]) ? (WebIO.setval({\\\"name\\\":\\\"changes\\\",\\\"scope\\\":\\\"knockout-component-176ee7ba-d415-4cb7-b56d-ad898e841252\\\",\\\"id\\\":\\\"ob_60\\\",\\\"type\\\":\\\"observable\\\"},val)) : undefined; return this.valueFromJulia[\\\"changes\\\"]=false}),self),this[\\\"index\\\"].subscribe((function (val){!(this.valueFromJulia[\\\"index\\\"]) ? (WebIO.setval({\\\"name\\\":\\\"index\\\",\\\"scope\\\":\\\"knockout-component-176ee7ba-d415-4cb7-b56d-ad898e841252\\\",\\\"id\\\":\\\"ob_59\\\",\\\"type\\\":\\\"observable\\\"},val)) : undefined; return this.valueFromJulia[\\\"index\\\"]=false}),self)]\\n        \\n    }\\n    self.model = new AppViewModel();\\n    self.valueFromJulia = {};\\n    for (var key in json_data) {\\n        self.valueFromJulia[key] = false;\\n    }\\n    ko.applyBindings(self.model, self.dom);\\n}\\n);\\n    (WebIO.importBlock({\\\"data\\\":[{\\\"name\\\":\\\"knockout\\\",\\\"type\\\":\\\"js\\\",\\\"url\\\":\\\"\\/assetserver\\/a8d465714ca0b50fcacaa7d87d7fe7277251eb7a-knockout.js\\\"},{\\\"name\\\":\\\"knockout_punches\\\",\\\"type\\\":\\\"js\\\",\\\"url\\\":\\\"\\/assetserver\\/fadafe50514ba2741549559683e093f56983d17e-knockout_punches.js\\\"}],\\\"type\\\":\\\"async_block\\\"})).then((imports) => handler.apply(this, imports));\\n}\\n\"],\"observables\":{\"changes\":{\"sync\":false,\"id\":\"ob_60\",\"value\":0},\"index\":{\"sync\":true,\"id\":\"ob_59\",\"value\":51}}},\"children\":[{\"props\":{\"className\":\"interact-flex-row interact-widget\"},\"nodeType\":\"DOM\",\"type\":\"node\",\"instanceArgs\":{\"namespace\":\"html\",\"tag\":\"div\"},\"children\":[{\"props\":{\"className\":\"interact-flex-row-left\"},\"nodeType\":\"DOM\",\"type\":\"node\",\"instanceArgs\":{\"namespace\":\"html\",\"tag\":\"div\"},\"children\":[{\"props\":{\"className\":\"interact \",\"style\":{\"padding\":\"5px 10px 0px 10px\"}},\"nodeType\":\"DOM\",\"type\":\"node\",\"instanceArgs\":{\"namespace\":\"html\",\"tag\":\"label\"},\"children\":[\"i\"]}]},{\"props\":{\"className\":\"interact-flex-row-center\"},\"nodeType\":\"DOM\",\"type\":\"node\",\"instanceArgs\":{\"namespace\":\"html\",\"tag\":\"div\"},\"children\":[{\"props\":{\"max\":100,\"min\":2,\"attributes\":{\"type\":\"range\",\"data-bind\":\"numericValue: index, valueUpdate: 'input', event: {change: function (){this.changes(this.changes()+1)}}\",\"orient\":\"horizontal\"},\"step\":1,\"className\":\"slider slider is-fullwidth\",\"style\":{}},\"nodeType\":\"DOM\",\"type\":\"node\",\"instanceArgs\":{\"namespace\":\"html\",\"tag\":\"input\"},\"children\":[]}]},{\"props\":{\"className\":\"interact-flex-row-right\"},\"nodeType\":\"DOM\",\"type\":\"node\",\"instanceArgs\":{\"namespace\":\"html\",\"tag\":\"div\"},\"children\":[{\"props\":{\"attributes\":{\"data-bind\":\"text: formatted_val\"}},\"nodeType\":\"DOM\",\"type\":\"node\",\"instanceArgs\":{\"namespace\":\"html\",\"tag\":\"p\"},\"children\":[]}]}]}]}]},{\"props\":{},\"nodeType\":\"Scope\",\"type\":\"node\",\"instanceArgs\":{\"imports\":{\"data\":[],\"type\":\"async_block\"},\"id\":\"scope-ba6161f1-aaab-478c-80ca-8da7ae9632b6\",\"handlers\":{},\"systemjs_options\":null,\"mount_callbacks\":[],\"observables\":{\"obs-node\":{\"sync\":false,\"id\":\"ob_64\",\"value\":{\"props\":{\"className\":\"interact-flex-row interact-widget\"},\"nodeType\":\"DOM\",\"type\":\"node\",\"instanceArgs\":{\"namespace\":\"html\",\"tag\":\"div\"},\"children\":[{\"props\":{\"setInnerHtml\":\"<?xml version=\\\"1.0\\\" encoding=\\\"utf-8\\\"?>\\n<svg xmlns=\\\"http:\\/\\/www.w3.org\\/2000\\/svg\\\" xmlns:xlink=\\\"http:\\/\\/www.w3.org\\/1999\\/xlink\\\" width=\\\"600\\\" height=\\\"400\\\" viewBox=\\\"0 0 2400 1600\\\">\\n<defs>\\n  <clipPath id=\\\"clip8600\\\">\\n    <rect x=\\\"0\\\" y=\\\"0\\\" width=\\\"2400\\\" height=\\\"1600\\\"\\/>\\n  <\\/clipPath>\\n<\\/defs>\\n<polygon clip-path=\\\"url(#clip8600)\\\" points=\\\"\\n0,1600 2400,1600 2400,0 0,0 \\n  \\\" fill=\\\"#ffffff\\\" fill-rule=\\\"evenodd\\\" fill-opacity=\\\"1\\\"\\/>\\n<defs>\\n  <clipPath id=\\\"clip8601\\\">\\n    <rect x=\\\"480\\\" y=\\\"0\\\" width=\\\"1681\\\" height=\\\"1600\\\"\\/>\\n  <\\/clipPath>\\n<\\/defs>\\n<polygon clip-path=\\\"url(#clip8600)\\\" points=\\\"\\n547.354,1487.47 1987.41,1487.47 1987.41,47.2441 547.354,47.2441 \\n  \\\" fill=\\\"#ffffff\\\" fill-rule=\\\"evenodd\\\" fill-opacity=\\\"1\\\"\\/>\\n<defs>\\n  <clipPath id=\\\"clip8602\\\">\\n    <rect x=\\\"547\\\" y=\\\"47\\\" width=\\\"1441\\\" height=\\\"1441\\\"\\/>\\n  <\\/clipPath>\\n<\\/defs>\\n<polyline clip-path=\\\"url(#clip8602)\\\" style=\\\"stroke:#000000; stroke-width:2; stroke-opacity:0.1; fill:none\\\" points=\\\"\\n  587.781,1487.47 587.781,47.2441 \\n  \\\"\\/>\\n<polyline clip-path=\\\"url(#clip8602)\\\" style=\\\"stroke:#000000; stroke-width:2; stroke-opacity:0.1; fill:none\\\" points=\\\"\\n  927.5,1487.47 927.5,47.2441 \\n  \\\"\\/>\\n<polyline clip-path=\\\"url(#clip8602)\\\" style=\\\"stroke:#000000; stroke-width:2; stroke-opacity:0.1; fill:none\\\" points=\\\"\\n  1267.22,1487.47 1267.22,47.2441 \\n  \\\"\\/>\\n<polyline clip-path=\\\"url(#clip8602)\\\" style=\\\"stroke:#000000; stroke-width:2; stroke-opacity:0.1; fill:none\\\" points=\\\"\\n  1606.94,1487.47 1606.94,47.2441 \\n  \\\"\\/>\\n<polyline clip-path=\\\"url(#clip8602)\\\" style=\\\"stroke:#000000; stroke-width:2; stroke-opacity:0.1; fill:none\\\" points=\\\"\\n  1946.65,1487.47 1946.65,47.2441 \\n  \\\"\\/>\\n<polyline clip-path=\\\"url(#clip8602)\\\" style=\\\"stroke:#000000; stroke-width:2; stroke-opacity:0.1; fill:none\\\" points=\\\"\\n  547.354,1446.8 1987.41,1446.8 \\n  \\\"\\/>\\n<polyline clip-path=\\\"url(#clip8602)\\\" style=\\\"stroke:#000000; stroke-width:2; stroke-opacity:0.1; fill:none\\\" points=\\\"\\n  547.354,1107.08 1987.41,1107.08 \\n  \\\"\\/>\\n<polyline clip-path=\\\"url(#clip8602)\\\" style=\\\"stroke:#000000; stroke-width:2; stroke-opacity:0.1; fill:none\\\" points=\\\"\\n  547.354,767.359 1987.41,767.359 \\n  \\\"\\/>\\n<polyline clip-path=\\\"url(#clip8602)\\\" style=\\\"stroke:#000000; stroke-width:2; stroke-opacity:0.1; fill:none\\\" points=\\\"\\n  547.354,427.641 1987.41,427.641 \\n  \\\"\\/>\\n<polyline clip-path=\\\"url(#clip8602)\\\" style=\\\"stroke:#000000; stroke-width:2; stroke-opacity:0.1; fill:none\\\" points=\\\"\\n  547.354,87.9232 1987.41,87.9232 \\n  \\\"\\/>\\n<polyline clip-path=\\\"url(#clip8600)\\\" style=\\\"stroke:#000000; stroke-width:4; stroke-opacity:1; fill:none\\\" points=\\\"\\n  547.354,1487.47 1987.41,1487.47 \\n  \\\"\\/>\\n<polyline clip-path=\\\"url(#clip8600)\\\" style=\\\"stroke:#000000; stroke-width:4; stroke-opacity:1; fill:none\\\" points=\\\"\\n  547.354,1487.47 547.354,47.2441 \\n  \\\"\\/>\\n<polyline clip-path=\\\"url(#clip8600)\\\" style=\\\"stroke:#000000; stroke-width:4; stroke-opacity:1; fill:none\\\" points=\\\"\\n  587.781,1487.47 587.781,1465.87 \\n  \\\"\\/>\\n<polyline clip-path=\\\"url(#clip8600)\\\" style=\\\"stroke:#000000; stroke-width:4; stroke-opacity:1; fill:none\\\" points=\\\"\\n  927.5,1487.47 927.5,1465.87 \\n  \\\"\\/>\\n<polyline clip-path=\\\"url(#clip8600)\\\" style=\\\"stroke:#000000; stroke-width:4; stroke-opacity:1; fill:none\\\" points=\\\"\\n  1267.22,1487.47 1267.22,1465.87 \\n  \\\"\\/>\\n<polyline clip-path=\\\"url(#clip8600)\\\" style=\\\"stroke:#000000; stroke-width:4; stroke-opacity:1; fill:none\\\" points=\\\"\\n  1606.94,1487.47 1606.94,1465.87 \\n  \\\"\\/>\\n<polyline clip-path=\\\"url(#clip8600)\\\" style=\\\"stroke:#000000; stroke-width:4; stroke-opacity:1; fill:none\\\" points=\\\"\\n  1946.65,1487.47 1946.65,1465.87 \\n  \\\"\\/>\\n<polyline clip-path=\\\"url(#clip8600)\\\" style=\\\"stroke:#000000; stroke-width:4; stroke-opacity:1; fill:none\\\" points=\\\"\\n  547.354,1446.8 568.955,1446.8 \\n  \\\"\\/>\\n<polyline clip-path=\\\"url(#clip8600)\\\" style=\\\"stroke:#000000; stroke-width:4; stroke-opacity:1; fill:none\\\" points=\\\"\\n  547.354,1107.08 568.955,1107.08 \\n  \\\"\\/>\\n<polyline clip-path=\\\"url(#clip8600)\\\" style=\\\"stroke:#000000; stroke-width:4; stroke-opacity:1; fill:none\\\" points=\\\"\\n  547.354,767.359 568.955,767.359 \\n  \\\"\\/>\\n<polyline clip-path=\\\"url(#clip8600)\\\" style=\\\"stroke:#000000; stroke-width:4; stroke-opacity:1; fill:none\\\" points=\\\"\\n  547.354,427.641 568.955,427.641 \\n  \\\"\\/>\\n<polyline clip-path=\\\"url(#clip8600)\\\" style=\\\"stroke:#000000; stroke-width:4; stroke-opacity:1; fill:none\\\" points=\\\"\\n  547.354,87.9232 568.955,87.9232 \\n  \\\"\\/>\\n<g clip-path=\\\"url(#clip8600)\\\">\\n<text style=\\\"fill:#000000; fill-opacity:1; font-family:Arial,Helvetica Neue,Helvetica,sans-serif; font-size:48px; text-anchor:middle;\\\" transform=\\\"rotate(0, 587.781, 1541.47)\\\" x=\\\"587.781\\\" y=\\\"1541.47\\\">-1.0<\\/text>\\n<\\/g>\\n<g clip-path=\\\"url(#clip8600)\\\">\\n<text style=\\\"fill:#000000; fill-opacity:1; font-family:Arial,Helvetica Neue,Helvetica,sans-serif; font-size:48px; text-anchor:middle;\\\" transform=\\\"rotate(0, 927.5, 1541.47)\\\" x=\\\"927.5\\\" y=\\\"1541.47\\\">-0.5<\\/text>\\n<\\/g>\\n<g clip-path=\\\"url(#clip8600)\\\">\\n<text style=\\\"fill:#000000; fill-opacity:1; font-family:Arial,Helvetica Neue,Helvetica,sans-serif; font-size:48px; text-anchor:middle;\\\" transform=\\\"rotate(0, 1267.22, 1541.47)\\\" x=\\\"1267.22\\\" y=\\\"1541.47\\\">0.0<\\/text>\\n<\\/g>\\n<g clip-path=\\\"url(#clip8600)\\\">\\n<text style=\\\"fill:#000000; fill-opacity:1; font-family:Arial,Helvetica Neue,Helvetica,sans-serif; font-size:48px; text-anchor:middle;\\\" transform=\\\"rotate(0, 1606.94, 1541.47)\\\" x=\\\"1606.94\\\" y=\\\"1541.47\\\">0.5<\\/text>\\n<\\/g>\\n<g clip-path=\\\"url(#clip8600)\\\">\\n<text style=\\\"fill:#000000; fill-opacity:1; font-family:Arial,Helvetica Neue,Helvetica,sans-serif; font-size:48px; text-anchor:middle;\\\" transform=\\\"rotate(0, 1946.65, 1541.47)\\\" x=\\\"1946.65\\\" y=\\\"1541.47\\\">1.0<\\/text>\\n<\\/g>\\n<g clip-path=\\\"url(#clip8600)\\\">\\n<text style=\\\"fill:#000000; fill-opacity:1; font-family:Arial,Helvetica Neue,Helvetica,sans-serif; font-size:48px; text-anchor:end;\\\" transform=\\\"rotate(0, 523.354, 1464.3)\\\" x=\\\"523.354\\\" y=\\\"1464.3\\\">-1.0<\\/text>\\n<\\/g>\\n<g clip-path=\\\"url(#clip8600)\\\">\\n<text style=\\\"fill:#000000; fill-opacity:1; font-family:Arial,Helvetica Neue,Helvetica,sans-serif; font-size:48px; text-anchor:end;\\\" transform=\\\"rotate(0, 523.354, 1124.58)\\\" x=\\\"523.354\\\" y=\\\"1124.58\\\">-0.5<\\/text>\\n<\\/g>\\n<g clip-path=\\\"url(#clip8600)\\\">\\n<text style=\\\"fill:#000000; fill-opacity:1; font-family:Arial,Helvetica Neue,Helvetica,sans-serif; font-size:48px; text-anchor:end;\\\" transform=\\\"rotate(0, 523.354, 784.859)\\\" x=\\\"523.354\\\" y=\\\"784.859\\\">0.0<\\/text>\\n<\\/g>\\n<g clip-path=\\\"url(#clip8600)\\\">\\n<text style=\\\"fill:#000000; fill-opacity:1; font-family:Arial,Helvetica Neue,Helvetica,sans-serif; font-size:48px; text-anchor:end;\\\" transform=\\\"rotate(0, 523.354, 445.141)\\\" x=\\\"523.354\\\" y=\\\"445.141\\\">0.5<\\/text>\\n<\\/g>\\n<g clip-path=\\\"url(#clip8600)\\\">\\n<text style=\\\"fill:#000000; fill-opacity:1; font-family:Arial,Helvetica Neue,Helvetica,sans-serif; font-size:48px; text-anchor:end;\\\" transform=\\\"rotate(0, 523.354, 105.423)\\\" x=\\\"523.354\\\" y=\\\"105.423\\\">1.0<\\/text>\\n<\\/g>\\n<polyline clip-path=\\\"url(#clip8602)\\\" style=\\\"stroke:#009af9; stroke-width:4; stroke-opacity:1; fill:none\\\" points=\\\"\\n  1946.65,767.359 588.11,788.49 1945.34,725.119 590.737,830.669 1941.4,683.042 595.982,872.603 1934.86,641.292 603.823,914.13 1925.73,600.029 614.231,955.089 \\n  1914.05,559.413 627.165,995.322 1899.87,519.602 642.576,1034.67 1883.24,480.749 660.403,1072.99 1864.23,443.006 680.578,1110.12 1842.91,406.517 703.022,1145.93 \\n  1819.37,371.424 727.649,1180.28 1793.68,337.863 754.364,1213.02 1765.96,305.964 783.062,1244.04 1736.31,275.849 813.634,1273.22 1704.85,247.637 845.961,1300.44 \\n  1671.69,221.434 879.917,1325.6 1636.97,197.344 915.372,1348.6 1600.82,175.46 952.188,1369.35 1563.37,155.865 990.223,1387.77 1524.78,138.636 1029.33,1403.79 \\n  1485.2,123.839 1069.36,1417.35 1444.77,111.532 1110.15,1428.39 1403.65,101.763 1151.55,1436.88 1362.01,94.5681 1193.4,1442.77 1320,89.9764 1235.53,1446.06 \\n  1277.78,88.0053 1277.78,1446.71 1235.53,88.6626 1320,1444.74 1193.4,91.9455 1362.01,1440.15 1151.55,97.8416 1403.65,1432.96 1110.15,106.328 1444.77,1423.19 \\n  1069.36,117.371 1485.2,1410.88 1029.33,130.93 1524.78,1396.08 990.223,146.95 1563.37,1378.85 952.188,165.371 1600.82,1359.26 915.372,186.121 1636.97,1337.37 \\n  879.917,209.119 1671.69,1313.28 845.961,234.278 1704.85,1287.08 813.634,261.498 1736.31,1258.87 783.062,290.676 1765.96,1228.76 754.364,321.698 1793.68,1196.86 \\n  727.649,354.444 1819.37,1163.29 703.022,388.787 1842.91,1128.2 680.578,424.595 1864.23,1091.71 660.403,461.73 1883.24,1053.97 642.576,500.046 1899.87,1015.12 \\n  627.165,539.397 1914.05,975.306 614.231,579.63 1925.73,934.69 603.823,620.589 1934.86,893.427 595.982,662.116 1941.4,851.677 590.737,704.05 1945.34,809.6 \\n  588.11,746.229 1946.65,767.359 \\n  \\\"\\/>\\n<\\/svg>\\n\"},\"nodeType\":\"DOM\",\"type\":\"node\",\"instanceArgs\":{\"namespace\":\"html\",\"tag\":\"div\"},\"children\":[]}]}}}},\"children\":[{\"props\":{},\"nodeType\":\"ObservableNode\",\"type\":\"node\",\"instanceArgs\":{\"id\":\"ob_64\",\"name\":\"obs-node\"},\"children\":[]}]}]},\n",
       "            window,\n",
       "        );\n",
       "    } else {\n",
       "        document\n",
       "            .querySelector('[data-webio-mountpoint=\"5871269693424246015\"]')\n",
       "            .innerHTML = '<strong>WebIO not detected.</strong>';\n",
       "    }\n",
       "    </script>\n",
       "</div>\n"
      ],
      "text/plain": [
       "Node{WebIO.DOM}(WebIO.DOM(:html, :div), Any[Node{DOM}(DOM(:html, :div), Any[Scope(\"knockout-component-176ee7ba-d415-4cb7-b56d-ad898e841252\", Node{DOM}(DOM(:html, :div), Any[Node{DOM}(DOM(:html, :div), Any[Node{DOM}(DOM(:html, :label), Any[\"i\"], Dict{Symbol,Any}(:className=>\"interact \",:style=>Dict{Any,Any}(:padding=>\"5px 10px 0px 10px\")), 1)], Dict{Symbol,Any}(:className=>\"interact-flex-row-left\"), 2), Node{DOM}(DOM(:html, :div), Any[Node{DOM}(DOM(:html, :input), Any[], Dict{Symbol,Any}(:max=>100,:min=>2,:attributes=>Dict{Any,Any}(:type=>\"range\",Symbol(\"data-bind\")=>\"numericValue: index, valueUpdate: 'input', event: {change: function (){this.changes(this.changes()+1)}}\",\"orient\"=>\"horizontal\"),:step=>1,:className=>\"slider slider is-fullwidth\",:style=>Dict{Any,Any}()), 0)], Dict{Symbol,Any}(:className=>\"interact-flex-row-center\"), 1), Node{DOM}(DOM(:html, :div), Any[Node{DOM}(DOM(:html, :p), Any[], Dict{Symbol,Any}(:attributes=>Dict(\"data-bind\"=>\"text: formatted_val\")), 0)], Dict{Symbol,Any}(:className=>\"interact-flex-row-right\"), 1)], Dict{Symbol,Any}(:className=>\"interact-flex-row interact-widget\"), 7), Dict{String,Tuple{Observables.AbstractObservable,Union{Nothing, Bool}}}(\"changes\"=>(Observable{Int64} with 1 listeners. Value:\n",
       "0, nothing),\"index\"=>(Observable{Int64} with 2 listeners. Value:\n",
       "51, nothing)), Set(String[]), nothing, Asset[Asset(\"js\", \"knockout\", \"/Users/alanedelman/.julia/packages/Knockout/JE2Yq/src/../assets/knockout.js\"), Asset(\"js\", \"knockout_punches\", \"/Users/alanedelman/.julia/packages/Knockout/JE2Yq/src/../assets/knockout_punches.js\"), Asset(\"js\", nothing, \"/Users/alanedelman/.julia/packages/InteractBase/R8JgH/src/../assets/all.js\"), Asset(\"css\", nothing, \"/Users/alanedelman/.julia/packages/InteractBase/R8JgH/src/../assets/style.css\"), Asset(\"css\", nothing, \"/Users/alanedelman/.julia/packages/Interact/0klKX/src/../assets/bulma_confined.min.css\")], Dict{Any,Any}(\"changes\"=>Any[JSString(\"(function (val){return (val!=this.model[\\\"changes\\\"]()) ? (this.valueFromJulia[\\\"changes\\\"]=true, this.model[\\\"changes\\\"](val)) : undefined})\")],\"index\"=>Any[JSString(\"(function (val){return (val!=this.model[\\\"index\\\"]()) ? (this.valueFromJulia[\\\"index\\\"]=true, this.model[\\\"index\\\"](val)) : undefined})\")]), ConnectionPool(Channel{Any}(sz_max:9223372036854775807,sz_curr:0), Set(AbstractConnection[]), Channel{AbstractConnection}(sz_max:32,sz_curr:0)), WebIO.JSString[JSString(\"function () {\\n    var handler = (function (ko, koPunches) {\\n    ko.punches.enableAll();\\n    ko.bindingHandlers.numericValue = {\\n        init : function(element, valueAccessor, allBindings, data, context) {\\n            var stringified = ko.observable(ko.unwrap(valueAccessor()));\\n            stringified.subscribe(function(value) {\\n                var val = parseFloat(value);\\n                if (!isNaN(val)) {\\n                    valueAccessor()(val);\\n                }\\n            })\\n            valueAccessor().subscribe(function(value) {\\n                var str = JSON.stringify(value);\\n                if ((str == \\\"0\\\") && ([\\\"-0\\\", \\\"-0.\\\"].indexOf(stringified()) >= 0))\\n                     return;\\n                 if ([\\\"null\\\", \\\"\\\"].indexOf(str) >= 0)\\n                     return;\\n                stringified(str);\\n            })\\n            ko.applyBindingsToNode(element, { value: stringified, valueUpdate: allBindings.get('valueUpdate')}, context);\\n        }\\n    };\\n    var json_data = {\\\"formatted_vals\\\":[\\\"2\\\",\\\"3\\\",\\\"4\\\",\\\"5\\\",\\\"6\\\",\\\"7\\\",\\\"8\\\",\\\"9\\\",\\\"10\\\",\\\"11\\\",\\\"12\\\",\\\"13\\\",\\\"14\\\",\\\"15\\\",\\\"16\\\",\\\"17\\\",\\\"18\\\",\\\"19\\\",\\\"20\\\",\\\"21\\\",\\\"22\\\",\\\"23\\\",\\\"24\\\",\\\"25\\\",\\\"26\\\",\\\"27\\\",\\\"28\\\",\\\"29\\\",\\\"30\\\",\\\"31\\\",\\\"32\\\",\\\"33\\\",\\\"34\\\",\\\"35\\\",\\\"36\\\",\\\"37\\\",\\\"38\\\",\\\"39\\\",\\\"40\\\",\\\"41\\\",\\\"42\\\",\\\"43\\\",\\\"44\\\",\\\"45\\\",\\\"46\\\",\\\"47\\\",\\\"48\\\",\\\"49\\\",\\\"50\\\",\\\"51\\\",\\\"52\\\",\\\"53\\\",\\\"54\\\",\\\"55\\\",\\\"56\\\",\\\"57\\\",\\\"58\\\",\\\"59\\\",\\\"60\\\",\\\"61\\\",\\\"62\\\",\\\"63\\\",\\\"64\\\",\\\"65\\\",\\\"66\\\",\\\"67\\\",\\\"68\\\",\\\"69\\\",\\\"70\\\",\\\"71\\\",\\\"72\\\",\\\"73\\\",\\\"74\\\",\\\"75\\\",\\\"76\\\",\\\"77\\\",\\\"78\\\",\\\"79\\\",\\\"80\\\",\\\"81\\\",\\\"82\\\",\\\"83\\\",\\\"84\\\",\\\"85\\\",\\\"86\\\",\\\"87\\\",\\\"88\\\",\\\"89\\\",\\\"90\\\",\\\"91\\\",\\\"92\\\",\\\"93\\\",\\\"94\\\",\\\"95\\\",\\\"96\\\",\\\"97\\\",\\\"98\\\",\\\"99\\\",\\\"100\\\"],\\\"changes\\\":WebIO.getval({\\\"name\\\":\\\"changes\\\",\\\"scope\\\":\\\"knockout-component-176ee7ba-d415-4cb7-b56d-ad898e841252\\\",\\\"id\\\":\\\"ob_60\\\",\\\"type\\\":\\\"observable\\\"}),\\\"index\\\":WebIO.getval({\\\"name\\\":\\\"index\\\",\\\"scope\\\":\\\"knockout-component-176ee7ba-d415-4cb7-b56d-ad898e841252\\\",\\\"id\\\":\\\"ob_59\\\",\\\"type\\\":\\\"observable\\\"})};\\n    var self = this;\\n    function AppViewModel() {\\n        for (var key in json_data) {\\n            var el = json_data[key];\\n            this[key] = Array.isArray(el) ? ko.observableArray(el) : ko.observable(el);\\n        }\\n        \\n        [this[\\\"formatted_val\\\"]=ko.computed(    function(){\\n        return this.formatted_vals()[parseInt(this.index())-1];\\n    }\\n,this)]\\n        [this[\\\"changes\\\"].subscribe((function (val){!(this.valueFromJulia[\\\"changes\\\"]) ? (WebIO.setval({\\\"name\\\":\\\"changes\\\",\\\"scope\\\":\\\"knockout-component-176ee7ba-d415-4cb7-b56d-ad898e841252\\\",\\\"id\\\":\\\"ob_60\\\",\\\"type\\\":\\\"observable\\\"},val)) : undefined; return this.valueFromJulia[\\\"changes\\\"]=false}),self),this[\\\"index\\\"].subscribe((function (val){!(this.valueFromJulia[\\\"index\\\"]) ? (WebIO.setval({\\\"name\\\":\\\"index\\\",\\\"scope\\\":\\\"knockout-component-176ee7ba-d415-4cb7-b56d-ad898e841252\\\",\\\"id\\\":\\\"ob_59\\\",\\\"type\\\":\\\"observable\\\"},val)) : undefined; return this.valueFromJulia[\\\"index\\\"]=false}),self)]\\n        \\n    }\\n    self.model = new AppViewModel();\\n    self.valueFromJulia = {};\\n    for (var key in json_data) {\\n        self.valueFromJulia[key] = false;\\n    }\\n    ko.applyBindings(self.model, self.dom);\\n}\\n);\\n    (WebIO.importBlock({\\\"data\\\":[{\\\"name\\\":\\\"knockout\\\",\\\"type\\\":\\\"js\\\",\\\"url\\\":\\\"/assetserver/a8d465714ca0b50fcacaa7d87d7fe7277251eb7a-knockout.js\\\"},{\\\"name\\\":\\\"knockout_punches\\\",\\\"type\\\":\\\"js\\\",\\\"url\\\":\\\"/assetserver/fadafe50514ba2741549559683e093f56983d17e-knockout_punches.js\\\"}],\\\"type\\\":\\\"async_block\\\"})).then((imports) => handler.apply(this, imports));\\n}\\n\")])], Dict{Symbol,Any}(:className=>\"field interact-widget\"), 1), Observable{Any} with 0 listeners. Value:\n",
       "Node{DOM}(DOM(:html, :div), Any[Plot{Plots.GRBackend() n=1}], Dict{Symbol,Any}(:className=>\"interact-flex-row interact-widget\"), 1)], Dict{Symbol,Any}(), 2)"
      ]
     },
     "execution_count": 201,
     "metadata": {
      "application/vnd.webio.node+json": {
       "kernelId": "ff0b2550-d4f2-44da-a29b-2973471c31af"
      }
     },
     "output_type": "execute_result"
    }
   ],
   "source": [
    "n=101\n",
    "@manipulate for i=2:n-1\n",
    "plot()   \n",
    "    FF = F(n)[:,i]\n",
    "    plot!([real.(FF);1], [imag.(FF);0])  \n",
    "    plot!(aspect_ratio=1,legend=false)\n",
    "end"
   ]
  },
  {
   "cell_type": "code",
   "execution_count": 13,
   "metadata": {},
   "outputs": [
    {
     "data": {
      "application/vnd.webio.node+json": {
       "children": [
        {
         "children": [
          {
           "children": [
            {
             "children": [
              {
               "children": [
                {
                 "children": [
                  "n"
                 ],
                 "instanceArgs": {
                  "namespace": "html",
                  "tag": "label"
                 },
                 "nodeType": "DOM",
                 "props": {
                  "className": "interact ",
                  "style": {
                   "padding": "5px 10px 0px 10px"
                  }
                 },
                 "type": "node"
                }
               ],
               "instanceArgs": {
                "namespace": "html",
                "tag": "div"
               },
               "nodeType": "DOM",
               "props": {
                "className": "interact-flex-row-left"
               },
               "type": "node"
              },
              {
               "children": [
                {
                 "children": [],
                 "instanceArgs": {
                  "namespace": "html",
                  "tag": "input"
                 },
                 "nodeType": "DOM",
                 "props": {
                  "attributes": {
                   "data-bind": "numericValue: index, valueUpdate: 'input', event: {change: function (){this.changes(this.changes()+1)}}",
                   "orient": "horizontal",
                   "type": "range"
                  },
                  "className": "slider slider is-fullwidth",
                  "max": 50,
                  "min": 2,
                  "step": 1,
                  "style": {}
                 },
                 "type": "node"
                }
               ],
               "instanceArgs": {
                "namespace": "html",
                "tag": "div"
               },
               "nodeType": "DOM",
               "props": {
                "className": "interact-flex-row-center"
               },
               "type": "node"
              },
              {
               "children": [
                {
                 "children": [],
                 "instanceArgs": {
                  "namespace": "html",
                  "tag": "p"
                 },
                 "nodeType": "DOM",
                 "props": {
                  "attributes": {
                   "data-bind": "text: formatted_val"
                  }
                 },
                 "type": "node"
                }
               ],
               "instanceArgs": {
                "namespace": "html",
                "tag": "div"
               },
               "nodeType": "DOM",
               "props": {
                "className": "interact-flex-row-right"
               },
               "type": "node"
              }
             ],
             "instanceArgs": {
              "namespace": "html",
              "tag": "div"
             },
             "nodeType": "DOM",
             "props": {
              "className": "interact-flex-row interact-widget"
             },
             "type": "node"
            }
           ],
           "instanceArgs": {
            "handlers": {
             "changes": [
              "(function (val){return (val!=this.model[\"changes\"]()) ? (this.valueFromJulia[\"changes\"]=true, this.model[\"changes\"](val)) : undefined})"
             ],
             "index": [
              "(function (val){return (val!=this.model[\"index\"]()) ? (this.valueFromJulia[\"index\"]=true, this.model[\"index\"](val)) : undefined})"
             ]
            },
            "id": "knockout-component-a680afa7-7c66-42fb-88bc-deee9c3ad667",
            "imports": {
             "data": [
              {
               "name": "knockout",
               "type": "js",
               "url": "/assetserver/a8d465714ca0b50fcacaa7d87d7fe7277251eb7a-knockout.js"
              },
              {
               "name": "knockout_punches",
               "type": "js",
               "url": "/assetserver/fadafe50514ba2741549559683e093f56983d17e-knockout_punches.js"
              },
              {
               "name": null,
               "type": "js",
               "url": "/assetserver/63630a7ccdf5bd5d44a8feb7a4d460731215c312-all.js"
              },
              {
               "name": null,
               "type": "css",
               "url": "/assetserver/80b07db3456327364d1ddf7241edced2116b96b7-style.css"
              },
              {
               "name": null,
               "type": "css",
               "url": "/assetserver/f6aed912610be690301640e34f5afbde68442a99-bulma_confined.min.css"
              }
             ],
             "type": "async_block"
            },
            "mount_callbacks": [
             "function () {\n    var handler = (function (ko, koPunches) {\n    ko.punches.enableAll();\n    ko.bindingHandlers.numericValue = {\n        init : function(element, valueAccessor, allBindings, data, context) {\n            var stringified = ko.observable(ko.unwrap(valueAccessor()));\n            stringified.subscribe(function(value) {\n                var val = parseFloat(value);\n                if (!isNaN(val)) {\n                    valueAccessor()(val);\n                }\n            })\n            valueAccessor().subscribe(function(value) {\n                var str = JSON.stringify(value);\n                if ((str == \"0\") && ([\"-0\", \"-0.\"].indexOf(stringified()) >= 0))\n                     return;\n                 if ([\"null\", \"\"].indexOf(str) >= 0)\n                     return;\n                stringified(str);\n            })\n            ko.applyBindingsToNode(element, { value: stringified, valueUpdate: allBindings.get('valueUpdate')}, context);\n        }\n    };\n    var json_data = {\"formatted_vals\":[\"2\",\"3\",\"4\",\"5\",\"6\",\"7\",\"8\",\"9\",\"10\",\"11\",\"12\",\"13\",\"14\",\"15\",\"16\",\"17\",\"18\",\"19\",\"20\",\"21\",\"22\",\"23\",\"24\",\"25\",\"26\",\"27\",\"28\",\"29\",\"30\",\"31\",\"32\",\"33\",\"34\",\"35\",\"36\",\"37\",\"38\",\"39\",\"40\",\"41\",\"42\",\"43\",\"44\",\"45\",\"46\",\"47\",\"48\",\"49\",\"50\"],\"changes\":WebIO.getval({\"name\":\"changes\",\"scope\":\"knockout-component-a680afa7-7c66-42fb-88bc-deee9c3ad667\",\"id\":\"ob_28\",\"type\":\"observable\"}),\"index\":WebIO.getval({\"name\":\"index\",\"scope\":\"knockout-component-a680afa7-7c66-42fb-88bc-deee9c3ad667\",\"id\":\"ob_27\",\"type\":\"observable\"})};\n    var self = this;\n    function AppViewModel() {\n        for (var key in json_data) {\n            var el = json_data[key];\n            this[key] = Array.isArray(el) ? ko.observableArray(el) : ko.observable(el);\n        }\n        \n        [this[\"formatted_val\"]=ko.computed(    function(){\n        return this.formatted_vals()[parseInt(this.index())-1];\n    }\n,this)]\n        [this[\"changes\"].subscribe((function (val){!(this.valueFromJulia[\"changes\"]) ? (WebIO.setval({\"name\":\"changes\",\"scope\":\"knockout-component-a680afa7-7c66-42fb-88bc-deee9c3ad667\",\"id\":\"ob_28\",\"type\":\"observable\"},val)) : undefined; return this.valueFromJulia[\"changes\"]=false}),self),this[\"index\"].subscribe((function (val){!(this.valueFromJulia[\"index\"]) ? (WebIO.setval({\"name\":\"index\",\"scope\":\"knockout-component-a680afa7-7c66-42fb-88bc-deee9c3ad667\",\"id\":\"ob_27\",\"type\":\"observable\"},val)) : undefined; return this.valueFromJulia[\"index\"]=false}),self)]\n        \n    }\n    self.model = new AppViewModel();\n    self.valueFromJulia = {};\n    for (var key in json_data) {\n        self.valueFromJulia[key] = false;\n    }\n    ko.applyBindings(self.model, self.dom);\n}\n);\n    (WebIO.importBlock({\"data\":[{\"name\":\"knockout\",\"type\":\"js\",\"url\":\"/assetserver/a8d465714ca0b50fcacaa7d87d7fe7277251eb7a-knockout.js\"},{\"name\":\"knockout_punches\",\"type\":\"js\",\"url\":\"/assetserver/fadafe50514ba2741549559683e093f56983d17e-knockout_punches.js\"}],\"type\":\"async_block\"})).then((imports) => handler.apply(this, imports));\n}\n"
            ],
            "observables": {
             "changes": {
              "id": "ob_28",
              "sync": false,
              "value": 0
             },
             "index": {
              "id": "ob_27",
              "sync": true,
              "value": 26
             }
            },
            "systemjs_options": null
           },
           "nodeType": "Scope",
           "props": {},
           "type": "node"
          }
         ],
         "instanceArgs": {
          "namespace": "html",
          "tag": "div"
         },
         "nodeType": "DOM",
         "props": {
          "className": "field interact-widget"
         },
         "type": "node"
        },
        {
         "children": [
          {
           "children": [],
           "instanceArgs": {
            "id": "ob_34",
            "name": "obs-node"
           },
           "nodeType": "ObservableNode",
           "props": {},
           "type": "node"
          }
         ],
         "instanceArgs": {
          "handlers": {},
          "id": "scope-7a14f8fc-a493-4194-9916-5bf656f7af41",
          "imports": {
           "data": [],
           "type": "async_block"
          },
          "mount_callbacks": [],
          "observables": {
           "obs-node": {
            "id": "ob_34",
            "sync": false,
            "value": {
             "children": [
              {
               "children": [],
               "instanceArgs": {
                "namespace": "html",
                "tag": "div"
               },
               "nodeType": "DOM",
               "props": {
                "setInnerHtml": "<?xml version=\"1.0\" encoding=\"utf-8\"?>\n<svg xmlns=\"http://www.w3.org/2000/svg\" xmlns:xlink=\"http://www.w3.org/1999/xlink\" width=\"600\" height=\"400\" viewBox=\"0 0 2400 1600\">\n<defs>\n  <clipPath id=\"clip6600\">\n    <rect x=\"0\" y=\"0\" width=\"2400\" height=\"1600\"/>\n  </clipPath>\n</defs>\n<polygon clip-path=\"url(#clip6600)\" points=\"\n0,1600 2400,1600 2400,0 0,0 \n  \" fill=\"#ffffff\" fill-rule=\"evenodd\" fill-opacity=\"1\"/>\n<defs>\n  <clipPath id=\"clip6601\">\n    <rect x=\"480\" y=\"0\" width=\"1681\" height=\"1600\"/>\n  </clipPath>\n</defs>\n<polygon clip-path=\"url(#clip6600)\" points=\"\n541.978,1487.47 1992.79,1487.47 1992.79,47.2441 541.978,47.2441 \n  \" fill=\"#ffffff\" fill-rule=\"evenodd\" fill-opacity=\"1\"/>\n<defs>\n  <clipPath id=\"clip6602\">\n    <rect x=\"541\" y=\"47\" width=\"1452\" height=\"1441\"/>\n  </clipPath>\n</defs>\n<polyline clip-path=\"url(#clip6602)\" style=\"stroke:#000000; stroke-width:2; stroke-opacity:0.1; fill:none\" points=\"\n  583.038,1487.47 583.038,47.2441 \n  \"/>\n<polyline clip-path=\"url(#clip6602)\" style=\"stroke:#000000; stroke-width:2; stroke-opacity:0.1; fill:none\" points=\"\n  925.21,1487.47 925.21,47.2441 \n  \"/>\n<polyline clip-path=\"url(#clip6602)\" style=\"stroke:#000000; stroke-width:2; stroke-opacity:0.1; fill:none\" points=\"\n  1267.38,1487.47 1267.38,47.2441 \n  \"/>\n<polyline clip-path=\"url(#clip6602)\" style=\"stroke:#000000; stroke-width:2; stroke-opacity:0.1; fill:none\" points=\"\n  1609.55,1487.47 1609.55,47.2441 \n  \"/>\n<polyline clip-path=\"url(#clip6602)\" style=\"stroke:#000000; stroke-width:2; stroke-opacity:0.1; fill:none\" points=\"\n  1951.73,1487.47 1951.73,47.2441 \n  \"/>\n<polyline clip-path=\"url(#clip6602)\" style=\"stroke:#000000; stroke-width:2; stroke-opacity:0.1; fill:none\" points=\"\n  541.978,1451.7 1992.79,1451.7 \n  \"/>\n<polyline clip-path=\"url(#clip6602)\" style=\"stroke:#000000; stroke-width:2; stroke-opacity:0.1; fill:none\" points=\"\n  541.978,1109.53 1992.79,1109.53 \n  \"/>\n<polyline clip-path=\"url(#clip6602)\" style=\"stroke:#000000; stroke-width:2; stroke-opacity:0.1; fill:none\" points=\"\n  541.978,767.359 1992.79,767.359 \n  \"/>\n<polyline clip-path=\"url(#clip6602)\" style=\"stroke:#000000; stroke-width:2; stroke-opacity:0.1; fill:none\" points=\"\n  541.978,425.188 1992.79,425.188 \n  \"/>\n<polyline clip-path=\"url(#clip6602)\" style=\"stroke:#000000; stroke-width:2; stroke-opacity:0.1; fill:none\" points=\"\n  541.978,83.0157 1992.79,83.0157 \n  \"/>\n<polyline clip-path=\"url(#clip6600)\" style=\"stroke:#000000; stroke-width:4; stroke-opacity:1; fill:none\" points=\"\n  541.978,1487.47 1992.79,1487.47 \n  \"/>\n<polyline clip-path=\"url(#clip6600)\" style=\"stroke:#000000; stroke-width:4; stroke-opacity:1; fill:none\" points=\"\n  541.978,1487.47 541.978,47.2441 \n  \"/>\n<polyline clip-path=\"url(#clip6600)\" style=\"stroke:#000000; stroke-width:4; stroke-opacity:1; fill:none\" points=\"\n  583.038,1487.47 583.038,1465.87 \n  \"/>\n<polyline clip-path=\"url(#clip6600)\" style=\"stroke:#000000; stroke-width:4; stroke-opacity:1; fill:none\" points=\"\n  925.21,1487.47 925.21,1465.87 \n  \"/>\n<polyline clip-path=\"url(#clip6600)\" style=\"stroke:#000000; stroke-width:4; stroke-opacity:1; fill:none\" points=\"\n  1267.38,1487.47 1267.38,1465.87 \n  \"/>\n<polyline clip-path=\"url(#clip6600)\" style=\"stroke:#000000; stroke-width:4; stroke-opacity:1; fill:none\" points=\"\n  1609.55,1487.47 1609.55,1465.87 \n  \"/>\n<polyline clip-path=\"url(#clip6600)\" style=\"stroke:#000000; stroke-width:4; stroke-opacity:1; fill:none\" points=\"\n  1951.73,1487.47 1951.73,1465.87 \n  \"/>\n<polyline clip-path=\"url(#clip6600)\" style=\"stroke:#000000; stroke-width:4; stroke-opacity:1; fill:none\" points=\"\n  541.978,1451.7 563.74,1451.7 \n  \"/>\n<polyline clip-path=\"url(#clip6600)\" style=\"stroke:#000000; stroke-width:4; stroke-opacity:1; fill:none\" points=\"\n  541.978,1109.53 563.74,1109.53 \n  \"/>\n<polyline clip-path=\"url(#clip6600)\" style=\"stroke:#000000; stroke-width:4; stroke-opacity:1; fill:none\" points=\"\n  541.978,767.359 563.74,767.359 \n  \"/>\n<polyline clip-path=\"url(#clip6600)\" style=\"stroke:#000000; stroke-width:4; stroke-opacity:1; fill:none\" points=\"\n  541.978,425.188 563.74,425.188 \n  \"/>\n<polyline clip-path=\"url(#clip6600)\" style=\"stroke:#000000; stroke-width:4; stroke-opacity:1; fill:none\" points=\"\n  541.978,83.0157 563.74,83.0157 \n  \"/>\n<g clip-path=\"url(#clip6600)\">\n<text style=\"fill:#000000; fill-opacity:1; font-family:Arial,Helvetica Neue,Helvetica,sans-serif; font-size:48px; text-anchor:middle;\" transform=\"rotate(0, 583.038, 1541.47)\" x=\"583.038\" y=\"1541.47\">-1.0</text>\n</g>\n<g clip-path=\"url(#clip6600)\">\n<text style=\"fill:#000000; fill-opacity:1; font-family:Arial,Helvetica Neue,Helvetica,sans-serif; font-size:48px; text-anchor:middle;\" transform=\"rotate(0, 925.21, 1541.47)\" x=\"925.21\" y=\"1541.47\">-0.5</text>\n</g>\n<g clip-path=\"url(#clip6600)\">\n<text style=\"fill:#000000; fill-opacity:1; font-family:Arial,Helvetica Neue,Helvetica,sans-serif; font-size:48px; text-anchor:middle;\" transform=\"rotate(0, 1267.38, 1541.47)\" x=\"1267.38\" y=\"1541.47\">0.0</text>\n</g>\n<g clip-path=\"url(#clip6600)\">\n<text style=\"fill:#000000; fill-opacity:1; font-family:Arial,Helvetica Neue,Helvetica,sans-serif; font-size:48px; text-anchor:middle;\" transform=\"rotate(0, 1609.55, 1541.47)\" x=\"1609.55\" y=\"1541.47\">0.5</text>\n</g>\n<g clip-path=\"url(#clip6600)\">\n<text style=\"fill:#000000; fill-opacity:1; font-family:Arial,Helvetica Neue,Helvetica,sans-serif; font-size:48px; text-anchor:middle;\" transform=\"rotate(0, 1951.73, 1541.47)\" x=\"1951.73\" y=\"1541.47\">1.0</text>\n</g>\n<g clip-path=\"url(#clip6600)\">\n<text style=\"fill:#000000; fill-opacity:1; font-family:Arial,Helvetica Neue,Helvetica,sans-serif; font-size:48px; text-anchor:end;\" transform=\"rotate(0, 517.978, 1469.2)\" x=\"517.978\" y=\"1469.2\">-1.0</text>\n</g>\n<g clip-path=\"url(#clip6600)\">\n<text style=\"fill:#000000; fill-opacity:1; font-family:Arial,Helvetica Neue,Helvetica,sans-serif; font-size:48px; text-anchor:end;\" transform=\"rotate(0, 517.978, 1127.03)\" x=\"517.978\" y=\"1127.03\">-0.5</text>\n</g>\n<g clip-path=\"url(#clip6600)\">\n<text style=\"fill:#000000; fill-opacity:1; font-family:Arial,Helvetica Neue,Helvetica,sans-serif; font-size:48px; text-anchor:end;\" transform=\"rotate(0, 517.978, 784.859)\" x=\"517.978\" y=\"784.859\">0.0</text>\n</g>\n<g clip-path=\"url(#clip6600)\">\n<text style=\"fill:#000000; fill-opacity:1; font-family:Arial,Helvetica Neue,Helvetica,sans-serif; font-size:48px; text-anchor:end;\" transform=\"rotate(0, 517.978, 442.688)\" x=\"517.978\" y=\"442.688\">0.5</text>\n</g>\n<g clip-path=\"url(#clip6600)\">\n<text style=\"fill:#000000; fill-opacity:1; font-family:Arial,Helvetica Neue,Helvetica,sans-serif; font-size:48px; text-anchor:end;\" transform=\"rotate(0, 517.978, 100.516)\" x=\"517.978\" y=\"100.516\">1.0</text>\n</g>\n<polyline clip-path=\"url(#clip6602)\" style=\"stroke:#009af9; stroke-width:4; stroke-opacity:1; fill:none\" points=\"\n  1951.73,767.359 1951.73,767.359 \n  \n  \n  \"/>\n<polyline clip-path=\"url(#clip6602)\" style=\"stroke:#e26f46; stroke-width:4; stroke-opacity:1; fill:none\" points=\"\n  1951.73,767.359 1931.84,931.134 1873.34,1085.39 1779.62,1221.16 1656.13,1330.56 1510.05,1407.23 1349.87,1446.71 1184.89,1446.71 1024.71,1407.23 878.63,1330.56 \n  755.143,1221.16 661.426,1085.39 602.924,931.134 583.038,767.359 602.924,603.585 661.426,449.329 755.143,313.556 878.63,204.156 1024.71,127.487 1184.89,88.0053 \n  1349.87,88.0053 1510.05,127.487 1656.13,204.156 1779.62,313.556 1873.34,449.329 1931.84,603.585 \n  \"/>\n<polyline clip-path=\"url(#clip6602)\" style=\"stroke:#3da44d; stroke-width:4; stroke-opacity:1; fill:none\" points=\"\n  1951.73,767.359 1873.34,1085.39 1656.13,1330.56 1349.87,1446.71 1024.71,1407.23 755.143,1221.16 602.924,931.134 602.924,603.585 755.143,313.556 1024.71,127.487 \n  1349.87,88.0053 1656.13,204.156 1873.34,449.329 1951.73,767.359 1873.34,1085.39 1656.13,1330.56 1349.87,1446.71 1024.71,1407.23 755.143,1221.16 602.924,931.134 \n  602.924,603.585 755.143,313.556 1024.71,127.487 1349.87,88.0053 1656.13,204.156 1873.34,449.329 \n  \"/>\n<polyline clip-path=\"url(#clip6602)\" style=\"stroke:#c271d2; stroke-width:4; stroke-opacity:1; fill:none\" points=\"\n  1951.73,767.359 1779.62,1221.16 1349.87,1446.71 878.63,1330.56 602.924,931.134 661.426,449.329 1024.71,127.487 1510.05,127.487 1873.34,449.329 1931.84,931.134 \n  1656.13,1330.56 1184.89,1446.71 755.143,1221.16 583.038,767.359 755.143,313.556 1184.89,88.0053 1656.13,204.156 1931.84,603.585 1873.34,1085.39 1510.05,1407.23 \n  1024.71,1407.23 661.426,1085.39 602.924,603.585 878.63,204.156 1349.87,88.0053 1779.62,313.556 \n  \"/>\n<polyline clip-path=\"url(#clip6602)\" style=\"stroke:#ac8d18; stroke-width:4; stroke-opacity:1; fill:none\" points=\"\n  1951.73,767.359 1656.13,1330.56 1024.71,1407.23 602.924,931.134 755.143,313.556 1349.87,88.0053 1873.34,449.329 1873.34,1085.39 1349.87,1446.71 755.143,1221.16 \n  602.924,603.585 1024.71,127.487 1656.13,204.156 1951.73,767.359 1656.13,1330.56 1024.71,1407.23 602.924,931.134 755.143,313.556 1349.87,88.0053 1873.34,449.329 \n  1873.34,1085.39 1349.87,1446.71 755.143,1221.16 602.924,603.585 1024.71,127.487 1656.13,204.156 \n  \"/>\n<polyline clip-path=\"url(#clip6602)\" style=\"stroke:#00a9ad; stroke-width:4; stroke-opacity:1; fill:none\" points=\"\n  1951.73,767.359 1510.05,1407.23 755.143,1221.16 661.426,449.329 1349.87,88.0053 1931.84,603.585 1656.13,1330.56 878.63,1330.56 602.924,603.585 1184.89,88.0053 \n  1873.34,449.329 1779.62,1221.16 1024.71,1407.23 583.038,767.359 1024.71,127.487 1779.62,313.556 1873.34,1085.39 1184.89,1446.71 602.924,931.134 878.63,204.156 \n  1656.13,204.156 1931.84,931.134 1349.87,1446.71 661.426,1085.39 755.143,313.556 1510.05,127.487 \n  \"/>\n<polyline clip-path=\"url(#clip6602)\" style=\"stroke:#ed5d92; stroke-width:4; stroke-opacity:1; fill:none\" points=\"\n  1951.73,767.359 1349.87,1446.71 602.924,931.134 1024.71,127.487 1873.34,449.329 1656.13,1330.56 755.143,1221.16 755.143,313.556 1656.13,204.156 1873.34,1085.39 \n  1024.71,1407.23 602.924,603.585 1349.87,88.0053 1951.73,767.359 1349.87,1446.71 602.924,931.134 1024.71,127.487 1873.34,449.329 1656.13,1330.56 755.143,1221.16 \n  755.143,313.556 1656.13,204.156 1873.34,1085.39 1024.71,1407.23 602.924,603.585 1349.87,88.0053 \n  \"/>\n<polyline clip-path=\"url(#clip6602)\" style=\"stroke:#c68125; stroke-width:4; stroke-opacity:1; fill:none\" points=\"\n  1951.73,767.359 1184.89,1446.71 602.924,603.585 1510.05,127.487 1873.34,1085.39 878.63,1330.56 755.143,313.556 1779.62,313.556 1656.13,1330.56 661.426,1085.39 \n  1024.71,127.487 1931.84,603.585 1349.87,1446.71 583.038,767.359 1349.87,88.0053 1931.84,931.134 1024.71,1407.23 661.426,449.329 1656.13,204.156 1779.62,1221.16 \n  755.143,1221.16 878.63,204.156 1873.34,449.329 1510.05,1407.23 602.924,931.134 1184.89,88.0053 \n  \"/>\n<polyline clip-path=\"url(#clip6602)\" style=\"stroke:#00a98d; stroke-width:4; stroke-opacity:1; fill:none\" points=\"\n  1951.73,767.359 1024.71,1407.23 755.143,313.556 1873.34,449.329 1349.87,1446.71 602.924,603.585 1656.13,204.156 1656.13,1330.56 602.924,931.134 1349.87,88.0053 \n  1873.34,1085.39 755.143,1221.16 1024.71,127.487 1951.73,767.359 1024.71,1407.23 755.143,313.556 1873.34,449.329 1349.87,1446.71 602.924,603.585 1656.13,204.156 \n  1656.13,1330.56 602.924,931.134 1349.87,88.0053 1873.34,1085.39 755.143,1221.16 1024.71,127.487 \n  \"/>\n<polyline clip-path=\"url(#clip6602)\" style=\"stroke:#8e971d; stroke-width:4; stroke-opacity:1; fill:none\" points=\"\n  1951.73,767.359 878.63,1330.56 1024.71,127.487 1931.84,931.134 755.143,1221.16 1184.89,88.0053 1873.34,1085.39 661.426,1085.39 1349.87,88.0053 1779.62,1221.16 \n  602.924,931.134 1510.05,127.487 1656.13,1330.56 583.038,767.359 1656.13,204.156 1510.05,1407.23 602.924,603.585 1779.62,313.556 1349.87,1446.71 661.426,449.329 \n  1873.34,449.329 1184.89,1446.71 755.143,313.556 1931.84,603.585 1024.71,1407.23 878.63,204.156 \n  \"/>\n<polyline clip-path=\"url(#clip6602)\" style=\"stroke:#00a8cb; stroke-width:4; stroke-opacity:1; fill:none\" points=\"\n  1951.73,767.359 755.143,1221.16 1349.87,88.0053 1656.13,1330.56 602.924,603.585 1873.34,449.329 1024.71,1407.23 1024.71,127.487 1873.34,1085.39 602.924,931.134 \n  1656.13,204.156 1349.87,1446.71 755.143,313.556 1951.73,767.359 755.143,1221.16 1349.87,88.0053 1656.13,1330.56 602.924,603.585 1873.34,449.329 1024.71,1407.23 \n  1024.71,127.487 1873.34,1085.39 602.924,931.134 1656.13,204.156 1349.87,1446.71 755.143,313.556 \n  \"/>\n<polyline clip-path=\"url(#clip6602)\" style=\"stroke:#9b7fe8; stroke-width:4; stroke-opacity:1; fill:none\" points=\"\n  1951.73,767.359 661.426,1085.39 1656.13,204.156 1184.89,1446.71 1024.71,127.487 1779.62,1221.16 602.924,603.585 1931.84,603.585 755.143,1221.16 1510.05,127.487 \n  1349.87,1446.71 878.63,204.156 1873.34,1085.39 583.038,767.359 1873.34,449.329 878.63,1330.56 1349.87,88.0053 1510.05,1407.23 755.143,313.556 1931.84,931.134 \n  602.924,931.134 1779.62,313.556 1024.71,1407.23 1184.89,88.0053 1656.13,1330.56 661.426,449.329 \n  \"/>\n<polyline clip-path=\"url(#clip6602)\" style=\"stroke:#608cf6; stroke-width:4; stroke-opacity:1; fill:none\" points=\"\n  1951.73,767.359 602.924,931.134 1873.34,449.329 755.143,1221.16 1656.13,204.156 1024.71,1407.23 1349.87,88.0053 1349.87,1446.71 1024.71,127.487 1656.13,1330.56 \n  755.143,313.556 1873.34,1085.39 602.924,603.585 1951.73,767.359 602.924,931.134 1873.34,449.329 755.143,1221.16 1656.13,204.156 1024.71,1407.23 1349.87,88.0053 \n  1349.87,1446.71 1024.71,127.487 1656.13,1330.56 755.143,313.556 1873.34,1085.39 602.924,603.585 \n  \"/>\n<polyline clip-path=\"url(#clip6602)\" style=\"stroke:#f05f73; stroke-width:4; stroke-opacity:1; fill:none\" points=\"\n  1951.73,767.359 583.038,767.359 1951.73,767.359 583.038,767.359 1951.73,767.359 583.038,767.359 1951.73,767.359 583.038,767.359 1951.73,767.359 583.038,767.359 \n  1951.73,767.359 583.038,767.359 1951.73,767.359 583.038,767.359 1951.73,767.359 583.038,767.359 1951.73,767.359 583.038,767.359 1951.73,767.359 583.038,767.359 \n  1951.73,767.359 583.038,767.359 1951.73,767.359 583.038,767.359 1951.73,767.359 583.038,767.359 \n  \"/>\n<polyline clip-path=\"url(#clip6602)\" style=\"stroke:#dd64b5; stroke-width:4; stroke-opacity:1; fill:none\" points=\"\n  1951.73,767.359 602.924,603.585 1873.34,1085.39 755.143,313.556 1656.13,1330.56 1024.71,127.487 1349.87,1446.71 1349.87,88.0053 1024.71,1407.23 1656.13,204.156 \n  755.143,1221.16 1873.34,449.329 602.924,931.134 1951.73,767.359 602.924,603.585 1873.34,1085.39 755.143,313.556 1656.13,1330.56 1024.71,127.487 1349.87,1446.71 \n  1349.87,88.0053 1024.71,1407.23 1656.13,204.156 755.143,1221.16 1873.34,449.329 602.924,931.134 \n  \"/>\n<polyline clip-path=\"url(#clip6602)\" style=\"stroke:#6b9e32; stroke-width:4; stroke-opacity:1; fill:none\" points=\"\n  1951.73,767.359 661.426,449.329 1656.13,1330.56 1184.89,88.0053 1024.71,1407.23 1779.62,313.556 602.924,931.134 1931.84,931.134 755.143,313.556 1510.05,1407.23 \n  1349.87,88.0053 878.63,1330.56 1873.34,449.329 583.038,767.359 1873.34,1085.39 878.63,204.156 1349.87,1446.71 1510.05,127.487 755.143,1221.16 1931.84,603.585 \n  602.924,603.585 1779.62,1221.16 1024.71,127.487 1184.89,1446.71 1656.13,204.156 661.426,1085.39 \n  \"/>\n<polyline clip-path=\"url(#clip6602)\" style=\"stroke:#718c69; stroke-width:4; stroke-opacity:1; fill:none\" points=\"\n  1951.73,767.359 755.143,313.556 1349.87,1446.71 1656.13,204.156 602.924,931.134 1873.34,1085.39 1024.71,127.487 1024.71,1407.23 1873.34,449.329 602.924,603.585 \n  1656.13,1330.56 1349.87,88.0053 755.143,1221.16 1951.73,767.359 755.143,313.556 1349.87,1446.71 1656.13,204.156 602.924,931.134 1873.34,1085.39 1024.71,127.487 \n  1024.71,1407.23 1873.34,449.329 602.924,603.585 1656.13,1330.56 1349.87,88.0053 755.143,1221.16 \n  \"/>\n<polyline clip-path=\"url(#clip6602)\" style=\"stroke:#47988b; stroke-width:4; stroke-opacity:1; fill:none\" points=\"\n  1951.73,767.359 878.63,204.156 1024.71,1407.23 1931.84,603.585 755.143,313.556 1184.89,1446.71 1873.34,449.329 661.426,449.329 1349.87,1446.71 1779.62,313.556 \n  602.924,603.585 1510.05,1407.23 1656.13,204.156 583.038,767.359 1656.13,1330.56 1510.05,127.487 602.924,931.134 1779.62,1221.16 1349.87,88.0053 661.426,1085.39 \n  1873.34,1085.39 1184.89,88.0053 755.143,1221.16 1931.84,931.134 1024.71,127.487 878.63,1330.56 \n  \"/>\n<polyline clip-path=\"url(#clip6602)\" style=\"stroke:#1ea68c; stroke-width:4; stroke-opacity:1; fill:none\" points=\"\n  1951.73,767.359 1024.71,127.487 755.143,1221.16 1873.34,1085.39 1349.87,88.0053 602.924,931.134 1656.13,1330.56 1656.13,204.156 602.924,603.585 1349.87,1446.71 \n  1873.34,449.329 755.143,313.556 1024.71,1407.23 1951.73,767.359 1024.71,127.487 755.143,1221.16 1873.34,1085.39 1349.87,88.0053 602.924,931.134 1656.13,1330.56 \n  1656.13,204.156 602.924,603.585 1349.87,1446.71 1873.34,449.329 755.143,313.556 1024.71,1407.23 \n  \"/>\n<polyline clip-path=\"url(#clip6602)\" style=\"stroke:#af78dd; stroke-width:4; stroke-opacity:1; fill:none\" points=\"\n  1951.73,767.359 1184.89,88.0053 602.924,931.134 1510.05,1407.23 1873.34,449.329 878.63,204.156 755.143,1221.16 1779.62,1221.16 1656.13,204.156 661.426,449.329 \n  1024.71,1407.23 1931.84,931.134 1349.87,88.0053 583.038,767.359 1349.87,1446.71 1931.84,603.585 1024.71,127.487 661.426,1085.39 1656.13,1330.56 1779.62,313.556 \n  755.143,313.556 878.63,1330.56 1873.34,1085.39 1510.05,127.487 602.924,603.585 1184.89,1446.71 \n  \"/>\n<polyline clip-path=\"url(#clip6602)\" style=\"stroke:#868d87; stroke-width:4; stroke-opacity:1; fill:none\" points=\"\n  1951.73,767.359 1349.87,88.0053 602.924,603.585 1024.71,1407.23 1873.34,1085.39 1656.13,204.156 755.143,313.556 755.143,1221.16 1656.13,1330.56 1873.34,449.329 \n  1024.71,127.487 602.924,931.134 1349.87,1446.71 1951.73,767.359 1349.87,88.0053 602.924,603.585 1024.71,1407.23 1873.34,1085.39 1656.13,204.156 755.143,313.556 \n  755.143,1221.16 1656.13,1330.56 1873.34,449.329 1024.71,127.487 602.924,931.134 1349.87,1446.71 \n  \"/>\n<polyline clip-path=\"url(#clip6602)\" style=\"stroke:#47a065; stroke-width:4; stroke-opacity:1; fill:none\" points=\"\n  1951.73,767.359 1510.05,127.487 755.143,313.556 661.426,1085.39 1349.87,1446.71 1931.84,931.134 1656.13,204.156 878.63,204.156 602.924,931.134 1184.89,1446.71 \n  1873.34,1085.39 1779.62,313.556 1024.71,127.487 583.038,767.359 1024.71,1407.23 1779.62,1221.16 1873.34,449.329 1184.89,88.0053 602.924,603.585 878.63,1330.56 \n  1656.13,1330.56 1931.84,603.585 1349.87,88.0053 661.426,449.329 755.143,1221.16 1510.05,1407.23 \n  \"/>\n<polyline clip-path=\"url(#clip6602)\" style=\"stroke:#7683af; stroke-width:4; stroke-opacity:1; fill:none\" points=\"\n  1951.73,767.359 1656.13,204.156 1024.71,127.487 602.924,603.585 755.143,1221.16 1349.87,1446.71 1873.34,1085.39 1873.34,449.329 1349.87,88.0053 755.143,313.556 \n  602.924,931.134 1024.71,1407.23 1656.13,1330.56 1951.73,767.359 1656.13,204.156 1024.71,127.487 602.924,603.585 755.143,1221.16 1349.87,1446.71 1873.34,1085.39 \n  1873.34,449.329 1349.87,88.0053 755.143,313.556 602.924,931.134 1024.71,1407.23 1656.13,1330.56 \n  \"/>\n<polyline clip-path=\"url(#clip6602)\" style=\"stroke:#b08086; stroke-width:4; stroke-opacity:1; fill:none\" points=\"\n  1951.73,767.359 1779.62,313.556 1349.87,88.0053 878.63,204.156 602.924,603.585 661.426,1085.39 1024.71,1407.23 1510.05,1407.23 1873.34,1085.39 1931.84,603.585 \n  1656.13,204.156 1184.89,88.0053 755.143,313.556 583.038,767.359 755.143,1221.16 1184.89,1446.71 1656.13,1330.56 1931.84,931.134 1873.34,449.329 1510.05,127.487 \n  1024.71,127.487 661.426,449.329 602.924,931.134 878.63,1330.56 1349.87,1446.71 1779.62,1221.16 \n  \"/>\n<polyline clip-path=\"url(#clip6602)\" style=\"stroke:#309ac1; stroke-width:4; stroke-opacity:1; fill:none\" points=\"\n  1951.73,767.359 1873.34,449.329 1656.13,204.156 1349.87,88.0053 1024.71,127.487 755.143,313.556 602.924,603.585 602.924,931.134 755.143,1221.16 1024.71,1407.23 \n  1349.87,1446.71 1656.13,1330.56 1873.34,1085.39 1951.73,767.359 1873.34,449.329 1656.13,204.156 1349.87,88.0053 1024.71,127.487 755.143,313.556 602.924,603.585 \n  602.924,931.134 755.143,1221.16 1024.71,1407.23 1349.87,1446.71 1656.13,1330.56 1873.34,1085.39 \n  \"/>\n<polyline clip-path=\"url(#clip6602)\" style=\"stroke:#788490; stroke-width:4; stroke-opacity:1; fill:none\" points=\"\n  1951.73,767.359 1931.84,603.585 1873.34,449.329 1779.62,313.556 1656.13,204.156 1510.05,127.487 1349.87,88.0053 1184.89,88.0053 1024.71,127.487 878.63,204.156 \n  755.143,313.556 661.426,449.329 602.924,603.585 583.038,767.359 602.924,931.134 661.426,1085.39 755.143,1221.16 878.63,1330.56 1024.71,1407.23 1184.89,1446.71 \n  1349.87,1446.71 1510.05,1407.23 1656.13,1330.56 1779.62,1221.16 1873.34,1085.39 1931.84,931.134 \n  \"/>\n</svg>\n"
               },
               "type": "node"
              }
             ],
             "instanceArgs": {
              "namespace": "html",
              "tag": "div"
             },
             "nodeType": "DOM",
             "props": {
              "className": "interact-flex-row interact-widget"
             },
             "type": "node"
            }
           }
          },
          "systemjs_options": null
         },
         "nodeType": "Scope",
         "props": {},
         "type": "node"
        }
       ],
       "instanceArgs": {
        "namespace": "html",
        "tag": "div"
       },
       "nodeType": "DOM",
       "props": {},
       "type": "node"
      },
      "text/html": [
       "<div\n",
       "    class=\"webio-mountpoint\"\n",
       "    data-webio-mountpoint=\"18179750732114514788\"\n",
       ">\n",
       "    <script>\n",
       "    if (window.require && require.defined && require.defined(\"nbextensions/webio/main\")) {\n",
       "        console.log(\"Jupyter WebIO extension detected, not mounting.\");\n",
       "    } else if (window.WebIO) {\n",
       "        WebIO.mount(\n",
       "            document.querySelector('[data-webio-mountpoint=\"18179750732114514788\"]'),\n",
       "            {\"props\":{},\"nodeType\":\"DOM\",\"type\":\"node\",\"instanceArgs\":{\"namespace\":\"html\",\"tag\":\"div\"},\"children\":[{\"props\":{\"className\":\"field interact-widget\"},\"nodeType\":\"DOM\",\"type\":\"node\",\"instanceArgs\":{\"namespace\":\"html\",\"tag\":\"div\"},\"children\":[{\"props\":{},\"nodeType\":\"Scope\",\"type\":\"node\",\"instanceArgs\":{\"imports\":{\"data\":[{\"name\":\"knockout\",\"type\":\"js\",\"url\":\"\\/assetserver\\/a8d465714ca0b50fcacaa7d87d7fe7277251eb7a-knockout.js\"},{\"name\":\"knockout_punches\",\"type\":\"js\",\"url\":\"\\/assetserver\\/fadafe50514ba2741549559683e093f56983d17e-knockout_punches.js\"},{\"name\":null,\"type\":\"js\",\"url\":\"\\/assetserver\\/63630a7ccdf5bd5d44a8feb7a4d460731215c312-all.js\"},{\"name\":null,\"type\":\"css\",\"url\":\"\\/assetserver\\/80b07db3456327364d1ddf7241edced2116b96b7-style.css\"},{\"name\":null,\"type\":\"css\",\"url\":\"\\/assetserver\\/f6aed912610be690301640e34f5afbde68442a99-bulma_confined.min.css\"}],\"type\":\"async_block\"},\"id\":\"knockout-component-a680afa7-7c66-42fb-88bc-deee9c3ad667\",\"handlers\":{\"changes\":[\"(function (val){return (val!=this.model[\\\"changes\\\"]()) ? (this.valueFromJulia[\\\"changes\\\"]=true, this.model[\\\"changes\\\"](val)) : undefined})\"],\"index\":[\"(function (val){return (val!=this.model[\\\"index\\\"]()) ? (this.valueFromJulia[\\\"index\\\"]=true, this.model[\\\"index\\\"](val)) : undefined})\"]},\"systemjs_options\":null,\"mount_callbacks\":[\"function () {\\n    var handler = (function (ko, koPunches) {\\n    ko.punches.enableAll();\\n    ko.bindingHandlers.numericValue = {\\n        init : function(element, valueAccessor, allBindings, data, context) {\\n            var stringified = ko.observable(ko.unwrap(valueAccessor()));\\n            stringified.subscribe(function(value) {\\n                var val = parseFloat(value);\\n                if (!isNaN(val)) {\\n                    valueAccessor()(val);\\n                }\\n            })\\n            valueAccessor().subscribe(function(value) {\\n                var str = JSON.stringify(value);\\n                if ((str == \\\"0\\\") && ([\\\"-0\\\", \\\"-0.\\\"].indexOf(stringified()) >= 0))\\n                     return;\\n                 if ([\\\"null\\\", \\\"\\\"].indexOf(str) >= 0)\\n                     return;\\n                stringified(str);\\n            })\\n            ko.applyBindingsToNode(element, { value: stringified, valueUpdate: allBindings.get('valueUpdate')}, context);\\n        }\\n    };\\n    var json_data = {\\\"formatted_vals\\\":[\\\"2\\\",\\\"3\\\",\\\"4\\\",\\\"5\\\",\\\"6\\\",\\\"7\\\",\\\"8\\\",\\\"9\\\",\\\"10\\\",\\\"11\\\",\\\"12\\\",\\\"13\\\",\\\"14\\\",\\\"15\\\",\\\"16\\\",\\\"17\\\",\\\"18\\\",\\\"19\\\",\\\"20\\\",\\\"21\\\",\\\"22\\\",\\\"23\\\",\\\"24\\\",\\\"25\\\",\\\"26\\\",\\\"27\\\",\\\"28\\\",\\\"29\\\",\\\"30\\\",\\\"31\\\",\\\"32\\\",\\\"33\\\",\\\"34\\\",\\\"35\\\",\\\"36\\\",\\\"37\\\",\\\"38\\\",\\\"39\\\",\\\"40\\\",\\\"41\\\",\\\"42\\\",\\\"43\\\",\\\"44\\\",\\\"45\\\",\\\"46\\\",\\\"47\\\",\\\"48\\\",\\\"49\\\",\\\"50\\\"],\\\"changes\\\":WebIO.getval({\\\"name\\\":\\\"changes\\\",\\\"scope\\\":\\\"knockout-component-a680afa7-7c66-42fb-88bc-deee9c3ad667\\\",\\\"id\\\":\\\"ob_28\\\",\\\"type\\\":\\\"observable\\\"}),\\\"index\\\":WebIO.getval({\\\"name\\\":\\\"index\\\",\\\"scope\\\":\\\"knockout-component-a680afa7-7c66-42fb-88bc-deee9c3ad667\\\",\\\"id\\\":\\\"ob_27\\\",\\\"type\\\":\\\"observable\\\"})};\\n    var self = this;\\n    function AppViewModel() {\\n        for (var key in json_data) {\\n            var el = json_data[key];\\n            this[key] = Array.isArray(el) ? ko.observableArray(el) : ko.observable(el);\\n        }\\n        \\n        [this[\\\"formatted_val\\\"]=ko.computed(    function(){\\n        return this.formatted_vals()[parseInt(this.index())-1];\\n    }\\n,this)]\\n        [this[\\\"changes\\\"].subscribe((function (val){!(this.valueFromJulia[\\\"changes\\\"]) ? (WebIO.setval({\\\"name\\\":\\\"changes\\\",\\\"scope\\\":\\\"knockout-component-a680afa7-7c66-42fb-88bc-deee9c3ad667\\\",\\\"id\\\":\\\"ob_28\\\",\\\"type\\\":\\\"observable\\\"},val)) : undefined; return this.valueFromJulia[\\\"changes\\\"]=false}),self),this[\\\"index\\\"].subscribe((function (val){!(this.valueFromJulia[\\\"index\\\"]) ? (WebIO.setval({\\\"name\\\":\\\"index\\\",\\\"scope\\\":\\\"knockout-component-a680afa7-7c66-42fb-88bc-deee9c3ad667\\\",\\\"id\\\":\\\"ob_27\\\",\\\"type\\\":\\\"observable\\\"},val)) : undefined; return this.valueFromJulia[\\\"index\\\"]=false}),self)]\\n        \\n    }\\n    self.model = new AppViewModel();\\n    self.valueFromJulia = {};\\n    for (var key in json_data) {\\n        self.valueFromJulia[key] = false;\\n    }\\n    ko.applyBindings(self.model, self.dom);\\n}\\n);\\n    (WebIO.importBlock({\\\"data\\\":[{\\\"name\\\":\\\"knockout\\\",\\\"type\\\":\\\"js\\\",\\\"url\\\":\\\"\\/assetserver\\/a8d465714ca0b50fcacaa7d87d7fe7277251eb7a-knockout.js\\\"},{\\\"name\\\":\\\"knockout_punches\\\",\\\"type\\\":\\\"js\\\",\\\"url\\\":\\\"\\/assetserver\\/fadafe50514ba2741549559683e093f56983d17e-knockout_punches.js\\\"}],\\\"type\\\":\\\"async_block\\\"})).then((imports) => handler.apply(this, imports));\\n}\\n\"],\"observables\":{\"changes\":{\"sync\":false,\"id\":\"ob_28\",\"value\":0},\"index\":{\"sync\":true,\"id\":\"ob_27\",\"value\":26}}},\"children\":[{\"props\":{\"className\":\"interact-flex-row interact-widget\"},\"nodeType\":\"DOM\",\"type\":\"node\",\"instanceArgs\":{\"namespace\":\"html\",\"tag\":\"div\"},\"children\":[{\"props\":{\"className\":\"interact-flex-row-left\"},\"nodeType\":\"DOM\",\"type\":\"node\",\"instanceArgs\":{\"namespace\":\"html\",\"tag\":\"div\"},\"children\":[{\"props\":{\"className\":\"interact \",\"style\":{\"padding\":\"5px 10px 0px 10px\"}},\"nodeType\":\"DOM\",\"type\":\"node\",\"instanceArgs\":{\"namespace\":\"html\",\"tag\":\"label\"},\"children\":[\"n\"]}]},{\"props\":{\"className\":\"interact-flex-row-center\"},\"nodeType\":\"DOM\",\"type\":\"node\",\"instanceArgs\":{\"namespace\":\"html\",\"tag\":\"div\"},\"children\":[{\"props\":{\"max\":50,\"min\":2,\"attributes\":{\"type\":\"range\",\"data-bind\":\"numericValue: index, valueUpdate: 'input', event: {change: function (){this.changes(this.changes()+1)}}\",\"orient\":\"horizontal\"},\"step\":1,\"className\":\"slider slider is-fullwidth\",\"style\":{}},\"nodeType\":\"DOM\",\"type\":\"node\",\"instanceArgs\":{\"namespace\":\"html\",\"tag\":\"input\"},\"children\":[]}]},{\"props\":{\"className\":\"interact-flex-row-right\"},\"nodeType\":\"DOM\",\"type\":\"node\",\"instanceArgs\":{\"namespace\":\"html\",\"tag\":\"div\"},\"children\":[{\"props\":{\"attributes\":{\"data-bind\":\"text: formatted_val\"}},\"nodeType\":\"DOM\",\"type\":\"node\",\"instanceArgs\":{\"namespace\":\"html\",\"tag\":\"p\"},\"children\":[]}]}]}]}]},{\"props\":{},\"nodeType\":\"Scope\",\"type\":\"node\",\"instanceArgs\":{\"imports\":{\"data\":[],\"type\":\"async_block\"},\"id\":\"scope-f40852ff-95b4-482a-b025-13cfd2f51de4\",\"handlers\":{},\"systemjs_options\":null,\"mount_callbacks\":[],\"observables\":{\"obs-node\":{\"sync\":false,\"id\":\"ob_32\",\"value\":{\"props\":{\"className\":\"interact-flex-row interact-widget\"},\"nodeType\":\"DOM\",\"type\":\"node\",\"instanceArgs\":{\"namespace\":\"html\",\"tag\":\"div\"},\"children\":[{\"props\":{\"setInnerHtml\":\"<?xml version=\\\"1.0\\\" encoding=\\\"utf-8\\\"?>\\n<svg xmlns=\\\"http:\\/\\/www.w3.org\\/2000\\/svg\\\" xmlns:xlink=\\\"http:\\/\\/www.w3.org\\/1999\\/xlink\\\" width=\\\"600\\\" height=\\\"400\\\" viewBox=\\\"0 0 2400 1600\\\">\\n<defs>\\n  <clipPath id=\\\"clip6200\\\">\\n    <rect x=\\\"0\\\" y=\\\"0\\\" width=\\\"2400\\\" height=\\\"1600\\\"\\/>\\n  <\\/clipPath>\\n<\\/defs>\\n<polygon clip-path=\\\"url(#clip6200)\\\" points=\\\"\\n0,1600 2400,1600 2400,0 0,0 \\n  \\\" fill=\\\"#ffffff\\\" fill-rule=\\\"evenodd\\\" fill-opacity=\\\"1\\\"\\/>\\n<defs>\\n  <clipPath id=\\\"clip6201\\\">\\n    <rect x=\\\"480\\\" y=\\\"0\\\" width=\\\"1681\\\" height=\\\"1600\\\"\\/>\\n  <\\/clipPath>\\n<\\/defs>\\n<polygon clip-path=\\\"url(#clip6200)\\\" points=\\\"\\n541.978,1487.47 1992.79,1487.47 1992.79,47.2441 541.978,47.2441 \\n  \\\" fill=\\\"#ffffff\\\" fill-rule=\\\"evenodd\\\" fill-opacity=\\\"1\\\"\\/>\\n<defs>\\n  <clipPath id=\\\"clip6202\\\">\\n    <rect x=\\\"541\\\" y=\\\"47\\\" width=\\\"1452\\\" height=\\\"1441\\\"\\/>\\n  <\\/clipPath>\\n<\\/defs>\\n<polyline clip-path=\\\"url(#clip6202)\\\" style=\\\"stroke:#000000; stroke-width:2; stroke-opacity:0.1; fill:none\\\" points=\\\"\\n  583.038,1487.47 583.038,47.2441 \\n  \\\"\\/>\\n<polyline clip-path=\\\"url(#clip6202)\\\" style=\\\"stroke:#000000; stroke-width:2; stroke-opacity:0.1; fill:none\\\" points=\\\"\\n  925.21,1487.47 925.21,47.2441 \\n  \\\"\\/>\\n<polyline clip-path=\\\"url(#clip6202)\\\" style=\\\"stroke:#000000; stroke-width:2; stroke-opacity:0.1; fill:none\\\" points=\\\"\\n  1267.38,1487.47 1267.38,47.2441 \\n  \\\"\\/>\\n<polyline clip-path=\\\"url(#clip6202)\\\" style=\\\"stroke:#000000; stroke-width:2; stroke-opacity:0.1; fill:none\\\" points=\\\"\\n  1609.55,1487.47 1609.55,47.2441 \\n  \\\"\\/>\\n<polyline clip-path=\\\"url(#clip6202)\\\" style=\\\"stroke:#000000; stroke-width:2; stroke-opacity:0.1; fill:none\\\" points=\\\"\\n  1951.73,1487.47 1951.73,47.2441 \\n  \\\"\\/>\\n<polyline clip-path=\\\"url(#clip6202)\\\" style=\\\"stroke:#000000; stroke-width:2; stroke-opacity:0.1; fill:none\\\" points=\\\"\\n  541.978,1451.7 1992.79,1451.7 \\n  \\\"\\/>\\n<polyline clip-path=\\\"url(#clip6202)\\\" style=\\\"stroke:#000000; stroke-width:2; stroke-opacity:0.1; fill:none\\\" points=\\\"\\n  541.978,1109.53 1992.79,1109.53 \\n  \\\"\\/>\\n<polyline clip-path=\\\"url(#clip6202)\\\" style=\\\"stroke:#000000; stroke-width:2; stroke-opacity:0.1; fill:none\\\" points=\\\"\\n  541.978,767.359 1992.79,767.359 \\n  \\\"\\/>\\n<polyline clip-path=\\\"url(#clip6202)\\\" style=\\\"stroke:#000000; stroke-width:2; stroke-opacity:0.1; fill:none\\\" points=\\\"\\n  541.978,425.188 1992.79,425.188 \\n  \\\"\\/>\\n<polyline clip-path=\\\"url(#clip6202)\\\" style=\\\"stroke:#000000; stroke-width:2; stroke-opacity:0.1; fill:none\\\" points=\\\"\\n  541.978,83.0157 1992.79,83.0157 \\n  \\\"\\/>\\n<polyline clip-path=\\\"url(#clip6200)\\\" style=\\\"stroke:#000000; stroke-width:4; stroke-opacity:1; fill:none\\\" points=\\\"\\n  541.978,1487.47 1992.79,1487.47 \\n  \\\"\\/>\\n<polyline clip-path=\\\"url(#clip6200)\\\" style=\\\"stroke:#000000; stroke-width:4; stroke-opacity:1; fill:none\\\" points=\\\"\\n  541.978,1487.47 541.978,47.2441 \\n  \\\"\\/>\\n<polyline clip-path=\\\"url(#clip6200)\\\" style=\\\"stroke:#000000; stroke-width:4; stroke-opacity:1; fill:none\\\" points=\\\"\\n  583.038,1487.47 583.038,1465.87 \\n  \\\"\\/>\\n<polyline clip-path=\\\"url(#clip6200)\\\" style=\\\"stroke:#000000; stroke-width:4; stroke-opacity:1; fill:none\\\" points=\\\"\\n  925.21,1487.47 925.21,1465.87 \\n  \\\"\\/>\\n<polyline clip-path=\\\"url(#clip6200)\\\" style=\\\"stroke:#000000; stroke-width:4; stroke-opacity:1; fill:none\\\" points=\\\"\\n  1267.38,1487.47 1267.38,1465.87 \\n  \\\"\\/>\\n<polyline clip-path=\\\"url(#clip6200)\\\" style=\\\"stroke:#000000; stroke-width:4; stroke-opacity:1; fill:none\\\" points=\\\"\\n  1609.55,1487.47 1609.55,1465.87 \\n  \\\"\\/>\\n<polyline clip-path=\\\"url(#clip6200)\\\" style=\\\"stroke:#000000; stroke-width:4; stroke-opacity:1; fill:none\\\" points=\\\"\\n  1951.73,1487.47 1951.73,1465.87 \\n  \\\"\\/>\\n<polyline clip-path=\\\"url(#clip6200)\\\" style=\\\"stroke:#000000; stroke-width:4; stroke-opacity:1; fill:none\\\" points=\\\"\\n  541.978,1451.7 563.74,1451.7 \\n  \\\"\\/>\\n<polyline clip-path=\\\"url(#clip6200)\\\" style=\\\"stroke:#000000; stroke-width:4; stroke-opacity:1; fill:none\\\" points=\\\"\\n  541.978,1109.53 563.74,1109.53 \\n  \\\"\\/>\\n<polyline clip-path=\\\"url(#clip6200)\\\" style=\\\"stroke:#000000; stroke-width:4; stroke-opacity:1; fill:none\\\" points=\\\"\\n  541.978,767.359 563.74,767.359 \\n  \\\"\\/>\\n<polyline clip-path=\\\"url(#clip6200)\\\" style=\\\"stroke:#000000; stroke-width:4; stroke-opacity:1; fill:none\\\" points=\\\"\\n  541.978,425.188 563.74,425.188 \\n  \\\"\\/>\\n<polyline clip-path=\\\"url(#clip6200)\\\" style=\\\"stroke:#000000; stroke-width:4; stroke-opacity:1; fill:none\\\" points=\\\"\\n  541.978,83.0157 563.74,83.0157 \\n  \\\"\\/>\\n<g clip-path=\\\"url(#clip6200)\\\">\\n<text style=\\\"fill:#000000; fill-opacity:1; font-family:Arial,Helvetica Neue,Helvetica,sans-serif; font-size:48px; text-anchor:middle;\\\" transform=\\\"rotate(0, 583.038, 1541.47)\\\" x=\\\"583.038\\\" y=\\\"1541.47\\\">-1.0<\\/text>\\n<\\/g>\\n<g clip-path=\\\"url(#clip6200)\\\">\\n<text style=\\\"fill:#000000; fill-opacity:1; font-family:Arial,Helvetica Neue,Helvetica,sans-serif; font-size:48px; text-anchor:middle;\\\" transform=\\\"rotate(0, 925.21, 1541.47)\\\" x=\\\"925.21\\\" y=\\\"1541.47\\\">-0.5<\\/text>\\n<\\/g>\\n<g clip-path=\\\"url(#clip6200)\\\">\\n<text style=\\\"fill:#000000; fill-opacity:1; font-family:Arial,Helvetica Neue,Helvetica,sans-serif; font-size:48px; text-anchor:middle;\\\" transform=\\\"rotate(0, 1267.38, 1541.47)\\\" x=\\\"1267.38\\\" y=\\\"1541.47\\\">0.0<\\/text>\\n<\\/g>\\n<g clip-path=\\\"url(#clip6200)\\\">\\n<text style=\\\"fill:#000000; fill-opacity:1; font-family:Arial,Helvetica Neue,Helvetica,sans-serif; font-size:48px; text-anchor:middle;\\\" transform=\\\"rotate(0, 1609.55, 1541.47)\\\" x=\\\"1609.55\\\" y=\\\"1541.47\\\">0.5<\\/text>\\n<\\/g>\\n<g clip-path=\\\"url(#clip6200)\\\">\\n<text style=\\\"fill:#000000; fill-opacity:1; font-family:Arial,Helvetica Neue,Helvetica,sans-serif; font-size:48px; text-anchor:middle;\\\" transform=\\\"rotate(0, 1951.73, 1541.47)\\\" x=\\\"1951.73\\\" y=\\\"1541.47\\\">1.0<\\/text>\\n<\\/g>\\n<g clip-path=\\\"url(#clip6200)\\\">\\n<text style=\\\"fill:#000000; fill-opacity:1; font-family:Arial,Helvetica Neue,Helvetica,sans-serif; font-size:48px; text-anchor:end;\\\" transform=\\\"rotate(0, 517.978, 1469.2)\\\" x=\\\"517.978\\\" y=\\\"1469.2\\\">-1.0<\\/text>\\n<\\/g>\\n<g clip-path=\\\"url(#clip6200)\\\">\\n<text style=\\\"fill:#000000; fill-opacity:1; font-family:Arial,Helvetica Neue,Helvetica,sans-serif; font-size:48px; text-anchor:end;\\\" transform=\\\"rotate(0, 517.978, 1127.03)\\\" x=\\\"517.978\\\" y=\\\"1127.03\\\">-0.5<\\/text>\\n<\\/g>\\n<g clip-path=\\\"url(#clip6200)\\\">\\n<text style=\\\"fill:#000000; fill-opacity:1; font-family:Arial,Helvetica Neue,Helvetica,sans-serif; font-size:48px; text-anchor:end;\\\" transform=\\\"rotate(0, 517.978, 784.859)\\\" x=\\\"517.978\\\" y=\\\"784.859\\\">0.0<\\/text>\\n<\\/g>\\n<g clip-path=\\\"url(#clip6200)\\\">\\n<text style=\\\"fill:#000000; fill-opacity:1; font-family:Arial,Helvetica Neue,Helvetica,sans-serif; font-size:48px; text-anchor:end;\\\" transform=\\\"rotate(0, 517.978, 442.688)\\\" x=\\\"517.978\\\" y=\\\"442.688\\\">0.5<\\/text>\\n<\\/g>\\n<g clip-path=\\\"url(#clip6200)\\\">\\n<text style=\\\"fill:#000000; fill-opacity:1; font-family:Arial,Helvetica Neue,Helvetica,sans-serif; font-size:48px; text-anchor:end;\\\" transform=\\\"rotate(0, 517.978, 100.516)\\\" x=\\\"517.978\\\" y=\\\"100.516\\\">1.0<\\/text>\\n<\\/g>\\n<polyline clip-path=\\\"url(#clip6202)\\\" style=\\\"stroke:#009af9; stroke-width:4; stroke-opacity:1; fill:none\\\" points=\\\"\\n  1951.73,767.359 1951.73,767.359 \\n  \\n  \\n  \\\"\\/>\\n<polyline clip-path=\\\"url(#clip6202)\\\" style=\\\"stroke:#e26f46; stroke-width:4; stroke-opacity:1; fill:none\\\" points=\\\"\\n  1951.73,767.359 1931.84,931.134 1873.34,1085.39 1779.62,1221.16 1656.13,1330.56 1510.05,1407.23 1349.87,1446.71 1184.89,1446.71 1024.71,1407.23 878.63,1330.56 \\n  755.143,1221.16 661.426,1085.39 602.924,931.134 583.038,767.359 602.924,603.585 661.426,449.329 755.143,313.556 878.63,204.156 1024.71,127.487 1184.89,88.0053 \\n  1349.87,88.0053 1510.05,127.487 1656.13,204.156 1779.62,313.556 1873.34,449.329 1931.84,603.585 \\n  \\\"\\/>\\n<polyline clip-path=\\\"url(#clip6202)\\\" style=\\\"stroke:#3da44d; stroke-width:4; stroke-opacity:1; fill:none\\\" points=\\\"\\n  1951.73,767.359 1873.34,1085.39 1656.13,1330.56 1349.87,1446.71 1024.71,1407.23 755.143,1221.16 602.924,931.134 602.924,603.585 755.143,313.556 1024.71,127.487 \\n  1349.87,88.0053 1656.13,204.156 1873.34,449.329 1951.73,767.359 1873.34,1085.39 1656.13,1330.56 1349.87,1446.71 1024.71,1407.23 755.143,1221.16 602.924,931.134 \\n  602.924,603.585 755.143,313.556 1024.71,127.487 1349.87,88.0053 1656.13,204.156 1873.34,449.329 \\n  \\\"\\/>\\n<polyline clip-path=\\\"url(#clip6202)\\\" style=\\\"stroke:#c271d2; stroke-width:4; stroke-opacity:1; fill:none\\\" points=\\\"\\n  1951.73,767.359 1779.62,1221.16 1349.87,1446.71 878.63,1330.56 602.924,931.134 661.426,449.329 1024.71,127.487 1510.05,127.487 1873.34,449.329 1931.84,931.134 \\n  1656.13,1330.56 1184.89,1446.71 755.143,1221.16 583.038,767.359 755.143,313.556 1184.89,88.0053 1656.13,204.156 1931.84,603.585 1873.34,1085.39 1510.05,1407.23 \\n  1024.71,1407.23 661.426,1085.39 602.924,603.585 878.63,204.156 1349.87,88.0053 1779.62,313.556 \\n  \\\"\\/>\\n<polyline clip-path=\\\"url(#clip6202)\\\" style=\\\"stroke:#ac8d18; stroke-width:4; stroke-opacity:1; fill:none\\\" points=\\\"\\n  1951.73,767.359 1656.13,1330.56 1024.71,1407.23 602.924,931.134 755.143,313.556 1349.87,88.0053 1873.34,449.329 1873.34,1085.39 1349.87,1446.71 755.143,1221.16 \\n  602.924,603.585 1024.71,127.487 1656.13,204.156 1951.73,767.359 1656.13,1330.56 1024.71,1407.23 602.924,931.134 755.143,313.556 1349.87,88.0053 1873.34,449.329 \\n  1873.34,1085.39 1349.87,1446.71 755.143,1221.16 602.924,603.585 1024.71,127.487 1656.13,204.156 \\n  \\\"\\/>\\n<polyline clip-path=\\\"url(#clip6202)\\\" style=\\\"stroke:#00a9ad; stroke-width:4; stroke-opacity:1; fill:none\\\" points=\\\"\\n  1951.73,767.359 1510.05,1407.23 755.143,1221.16 661.426,449.329 1349.87,88.0053 1931.84,603.585 1656.13,1330.56 878.63,1330.56 602.924,603.585 1184.89,88.0053 \\n  1873.34,449.329 1779.62,1221.16 1024.71,1407.23 583.038,767.359 1024.71,127.487 1779.62,313.556 1873.34,1085.39 1184.89,1446.71 602.924,931.134 878.63,204.156 \\n  1656.13,204.156 1931.84,931.134 1349.87,1446.71 661.426,1085.39 755.143,313.556 1510.05,127.487 \\n  \\\"\\/>\\n<polyline clip-path=\\\"url(#clip6202)\\\" style=\\\"stroke:#ed5d92; stroke-width:4; stroke-opacity:1; fill:none\\\" points=\\\"\\n  1951.73,767.359 1349.87,1446.71 602.924,931.134 1024.71,127.487 1873.34,449.329 1656.13,1330.56 755.143,1221.16 755.143,313.556 1656.13,204.156 1873.34,1085.39 \\n  1024.71,1407.23 602.924,603.585 1349.87,88.0053 1951.73,767.359 1349.87,1446.71 602.924,931.134 1024.71,127.487 1873.34,449.329 1656.13,1330.56 755.143,1221.16 \\n  755.143,313.556 1656.13,204.156 1873.34,1085.39 1024.71,1407.23 602.924,603.585 1349.87,88.0053 \\n  \\\"\\/>\\n<polyline clip-path=\\\"url(#clip6202)\\\" style=\\\"stroke:#c68125; stroke-width:4; stroke-opacity:1; fill:none\\\" points=\\\"\\n  1951.73,767.359 1184.89,1446.71 602.924,603.585 1510.05,127.487 1873.34,1085.39 878.63,1330.56 755.143,313.556 1779.62,313.556 1656.13,1330.56 661.426,1085.39 \\n  1024.71,127.487 1931.84,603.585 1349.87,1446.71 583.038,767.359 1349.87,88.0053 1931.84,931.134 1024.71,1407.23 661.426,449.329 1656.13,204.156 1779.62,1221.16 \\n  755.143,1221.16 878.63,204.156 1873.34,449.329 1510.05,1407.23 602.924,931.134 1184.89,88.0053 \\n  \\\"\\/>\\n<polyline clip-path=\\\"url(#clip6202)\\\" style=\\\"stroke:#00a98d; stroke-width:4; stroke-opacity:1; fill:none\\\" points=\\\"\\n  1951.73,767.359 1024.71,1407.23 755.143,313.556 1873.34,449.329 1349.87,1446.71 602.924,603.585 1656.13,204.156 1656.13,1330.56 602.924,931.134 1349.87,88.0053 \\n  1873.34,1085.39 755.143,1221.16 1024.71,127.487 1951.73,767.359 1024.71,1407.23 755.143,313.556 1873.34,449.329 1349.87,1446.71 602.924,603.585 1656.13,204.156 \\n  1656.13,1330.56 602.924,931.134 1349.87,88.0053 1873.34,1085.39 755.143,1221.16 1024.71,127.487 \\n  \\\"\\/>\\n<polyline clip-path=\\\"url(#clip6202)\\\" style=\\\"stroke:#8e971d; stroke-width:4; stroke-opacity:1; fill:none\\\" points=\\\"\\n  1951.73,767.359 878.63,1330.56 1024.71,127.487 1931.84,931.134 755.143,1221.16 1184.89,88.0053 1873.34,1085.39 661.426,1085.39 1349.87,88.0053 1779.62,1221.16 \\n  602.924,931.134 1510.05,127.487 1656.13,1330.56 583.038,767.359 1656.13,204.156 1510.05,1407.23 602.924,603.585 1779.62,313.556 1349.87,1446.71 661.426,449.329 \\n  1873.34,449.329 1184.89,1446.71 755.143,313.556 1931.84,603.585 1024.71,1407.23 878.63,204.156 \\n  \\\"\\/>\\n<polyline clip-path=\\\"url(#clip6202)\\\" style=\\\"stroke:#00a8cb; stroke-width:4; stroke-opacity:1; fill:none\\\" points=\\\"\\n  1951.73,767.359 755.143,1221.16 1349.87,88.0053 1656.13,1330.56 602.924,603.585 1873.34,449.329 1024.71,1407.23 1024.71,127.487 1873.34,1085.39 602.924,931.134 \\n  1656.13,204.156 1349.87,1446.71 755.143,313.556 1951.73,767.359 755.143,1221.16 1349.87,88.0053 1656.13,1330.56 602.924,603.585 1873.34,449.329 1024.71,1407.23 \\n  1024.71,127.487 1873.34,1085.39 602.924,931.134 1656.13,204.156 1349.87,1446.71 755.143,313.556 \\n  \\\"\\/>\\n<polyline clip-path=\\\"url(#clip6202)\\\" style=\\\"stroke:#9b7fe8; stroke-width:4; stroke-opacity:1; fill:none\\\" points=\\\"\\n  1951.73,767.359 661.426,1085.39 1656.13,204.156 1184.89,1446.71 1024.71,127.487 1779.62,1221.16 602.924,603.585 1931.84,603.585 755.143,1221.16 1510.05,127.487 \\n  1349.87,1446.71 878.63,204.156 1873.34,1085.39 583.038,767.359 1873.34,449.329 878.63,1330.56 1349.87,88.0053 1510.05,1407.23 755.143,313.556 1931.84,931.134 \\n  602.924,931.134 1779.62,313.556 1024.71,1407.23 1184.89,88.0053 1656.13,1330.56 661.426,449.329 \\n  \\\"\\/>\\n<polyline clip-path=\\\"url(#clip6202)\\\" style=\\\"stroke:#608cf6; stroke-width:4; stroke-opacity:1; fill:none\\\" points=\\\"\\n  1951.73,767.359 602.924,931.134 1873.34,449.329 755.143,1221.16 1656.13,204.156 1024.71,1407.23 1349.87,88.0053 1349.87,1446.71 1024.71,127.487 1656.13,1330.56 \\n  755.143,313.556 1873.34,1085.39 602.924,603.585 1951.73,767.359 602.924,931.134 1873.34,449.329 755.143,1221.16 1656.13,204.156 1024.71,1407.23 1349.87,88.0053 \\n  1349.87,1446.71 1024.71,127.487 1656.13,1330.56 755.143,313.556 1873.34,1085.39 602.924,603.585 \\n  \\\"\\/>\\n<polyline clip-path=\\\"url(#clip6202)\\\" style=\\\"stroke:#f05f73; stroke-width:4; stroke-opacity:1; fill:none\\\" points=\\\"\\n  1951.73,767.359 583.038,767.359 1951.73,767.359 583.038,767.359 1951.73,767.359 583.038,767.359 1951.73,767.359 583.038,767.359 1951.73,767.359 583.038,767.359 \\n  1951.73,767.359 583.038,767.359 1951.73,767.359 583.038,767.359 1951.73,767.359 583.038,767.359 1951.73,767.359 583.038,767.359 1951.73,767.359 583.038,767.359 \\n  1951.73,767.359 583.038,767.359 1951.73,767.359 583.038,767.359 1951.73,767.359 583.038,767.359 \\n  \\\"\\/>\\n<polyline clip-path=\\\"url(#clip6202)\\\" style=\\\"stroke:#dd64b5; stroke-width:4; stroke-opacity:1; fill:none\\\" points=\\\"\\n  1951.73,767.359 602.924,603.585 1873.34,1085.39 755.143,313.556 1656.13,1330.56 1024.71,127.487 1349.87,1446.71 1349.87,88.0053 1024.71,1407.23 1656.13,204.156 \\n  755.143,1221.16 1873.34,449.329 602.924,931.134 1951.73,767.359 602.924,603.585 1873.34,1085.39 755.143,313.556 1656.13,1330.56 1024.71,127.487 1349.87,1446.71 \\n  1349.87,88.0053 1024.71,1407.23 1656.13,204.156 755.143,1221.16 1873.34,449.329 602.924,931.134 \\n  \\\"\\/>\\n<polyline clip-path=\\\"url(#clip6202)\\\" style=\\\"stroke:#6b9e32; stroke-width:4; stroke-opacity:1; fill:none\\\" points=\\\"\\n  1951.73,767.359 661.426,449.329 1656.13,1330.56 1184.89,88.0053 1024.71,1407.23 1779.62,313.556 602.924,931.134 1931.84,931.134 755.143,313.556 1510.05,1407.23 \\n  1349.87,88.0053 878.63,1330.56 1873.34,449.329 583.038,767.359 1873.34,1085.39 878.63,204.156 1349.87,1446.71 1510.05,127.487 755.143,1221.16 1931.84,603.585 \\n  602.924,603.585 1779.62,1221.16 1024.71,127.487 1184.89,1446.71 1656.13,204.156 661.426,1085.39 \\n  \\\"\\/>\\n<polyline clip-path=\\\"url(#clip6202)\\\" style=\\\"stroke:#718c69; stroke-width:4; stroke-opacity:1; fill:none\\\" points=\\\"\\n  1951.73,767.359 755.143,313.556 1349.87,1446.71 1656.13,204.156 602.924,931.134 1873.34,1085.39 1024.71,127.487 1024.71,1407.23 1873.34,449.329 602.924,603.585 \\n  1656.13,1330.56 1349.87,88.0053 755.143,1221.16 1951.73,767.359 755.143,313.556 1349.87,1446.71 1656.13,204.156 602.924,931.134 1873.34,1085.39 1024.71,127.487 \\n  1024.71,1407.23 1873.34,449.329 602.924,603.585 1656.13,1330.56 1349.87,88.0053 755.143,1221.16 \\n  \\\"\\/>\\n<polyline clip-path=\\\"url(#clip6202)\\\" style=\\\"stroke:#47988b; stroke-width:4; stroke-opacity:1; fill:none\\\" points=\\\"\\n  1951.73,767.359 878.63,204.156 1024.71,1407.23 1931.84,603.585 755.143,313.556 1184.89,1446.71 1873.34,449.329 661.426,449.329 1349.87,1446.71 1779.62,313.556 \\n  602.924,603.585 1510.05,1407.23 1656.13,204.156 583.038,767.359 1656.13,1330.56 1510.05,127.487 602.924,931.134 1779.62,1221.16 1349.87,88.0053 661.426,1085.39 \\n  1873.34,1085.39 1184.89,88.0053 755.143,1221.16 1931.84,931.134 1024.71,127.487 878.63,1330.56 \\n  \\\"\\/>\\n<polyline clip-path=\\\"url(#clip6202)\\\" style=\\\"stroke:#1ea68c; stroke-width:4; stroke-opacity:1; fill:none\\\" points=\\\"\\n  1951.73,767.359 1024.71,127.487 755.143,1221.16 1873.34,1085.39 1349.87,88.0053 602.924,931.134 1656.13,1330.56 1656.13,204.156 602.924,603.585 1349.87,1446.71 \\n  1873.34,449.329 755.143,313.556 1024.71,1407.23 1951.73,767.359 1024.71,127.487 755.143,1221.16 1873.34,1085.39 1349.87,88.0053 602.924,931.134 1656.13,1330.56 \\n  1656.13,204.156 602.924,603.585 1349.87,1446.71 1873.34,449.329 755.143,313.556 1024.71,1407.23 \\n  \\\"\\/>\\n<polyline clip-path=\\\"url(#clip6202)\\\" style=\\\"stroke:#af78dd; stroke-width:4; stroke-opacity:1; fill:none\\\" points=\\\"\\n  1951.73,767.359 1184.89,88.0053 602.924,931.134 1510.05,1407.23 1873.34,449.329 878.63,204.156 755.143,1221.16 1779.62,1221.16 1656.13,204.156 661.426,449.329 \\n  1024.71,1407.23 1931.84,931.134 1349.87,88.0053 583.038,767.359 1349.87,1446.71 1931.84,603.585 1024.71,127.487 661.426,1085.39 1656.13,1330.56 1779.62,313.556 \\n  755.143,313.556 878.63,1330.56 1873.34,1085.39 1510.05,127.487 602.924,603.585 1184.89,1446.71 \\n  \\\"\\/>\\n<polyline clip-path=\\\"url(#clip6202)\\\" style=\\\"stroke:#868d87; stroke-width:4; stroke-opacity:1; fill:none\\\" points=\\\"\\n  1951.73,767.359 1349.87,88.0053 602.924,603.585 1024.71,1407.23 1873.34,1085.39 1656.13,204.156 755.143,313.556 755.143,1221.16 1656.13,1330.56 1873.34,449.329 \\n  1024.71,127.487 602.924,931.134 1349.87,1446.71 1951.73,767.359 1349.87,88.0053 602.924,603.585 1024.71,1407.23 1873.34,1085.39 1656.13,204.156 755.143,313.556 \\n  755.143,1221.16 1656.13,1330.56 1873.34,449.329 1024.71,127.487 602.924,931.134 1349.87,1446.71 \\n  \\\"\\/>\\n<polyline clip-path=\\\"url(#clip6202)\\\" style=\\\"stroke:#47a065; stroke-width:4; stroke-opacity:1; fill:none\\\" points=\\\"\\n  1951.73,767.359 1510.05,127.487 755.143,313.556 661.426,1085.39 1349.87,1446.71 1931.84,931.134 1656.13,204.156 878.63,204.156 602.924,931.134 1184.89,1446.71 \\n  1873.34,1085.39 1779.62,313.556 1024.71,127.487 583.038,767.359 1024.71,1407.23 1779.62,1221.16 1873.34,449.329 1184.89,88.0053 602.924,603.585 878.63,1330.56 \\n  1656.13,1330.56 1931.84,603.585 1349.87,88.0053 661.426,449.329 755.143,1221.16 1510.05,1407.23 \\n  \\\"\\/>\\n<polyline clip-path=\\\"url(#clip6202)\\\" style=\\\"stroke:#7683af; stroke-width:4; stroke-opacity:1; fill:none\\\" points=\\\"\\n  1951.73,767.359 1656.13,204.156 1024.71,127.487 602.924,603.585 755.143,1221.16 1349.87,1446.71 1873.34,1085.39 1873.34,449.329 1349.87,88.0053 755.143,313.556 \\n  602.924,931.134 1024.71,1407.23 1656.13,1330.56 1951.73,767.359 1656.13,204.156 1024.71,127.487 602.924,603.585 755.143,1221.16 1349.87,1446.71 1873.34,1085.39 \\n  1873.34,449.329 1349.87,88.0053 755.143,313.556 602.924,931.134 1024.71,1407.23 1656.13,1330.56 \\n  \\\"\\/>\\n<polyline clip-path=\\\"url(#clip6202)\\\" style=\\\"stroke:#b08086; stroke-width:4; stroke-opacity:1; fill:none\\\" points=\\\"\\n  1951.73,767.359 1779.62,313.556 1349.87,88.0053 878.63,204.156 602.924,603.585 661.426,1085.39 1024.71,1407.23 1510.05,1407.23 1873.34,1085.39 1931.84,603.585 \\n  1656.13,204.156 1184.89,88.0053 755.143,313.556 583.038,767.359 755.143,1221.16 1184.89,1446.71 1656.13,1330.56 1931.84,931.134 1873.34,449.329 1510.05,127.487 \\n  1024.71,127.487 661.426,449.329 602.924,931.134 878.63,1330.56 1349.87,1446.71 1779.62,1221.16 \\n  \\\"\\/>\\n<polyline clip-path=\\\"url(#clip6202)\\\" style=\\\"stroke:#309ac1; stroke-width:4; stroke-opacity:1; fill:none\\\" points=\\\"\\n  1951.73,767.359 1873.34,449.329 1656.13,204.156 1349.87,88.0053 1024.71,127.487 755.143,313.556 602.924,603.585 602.924,931.134 755.143,1221.16 1024.71,1407.23 \\n  1349.87,1446.71 1656.13,1330.56 1873.34,1085.39 1951.73,767.359 1873.34,449.329 1656.13,204.156 1349.87,88.0053 1024.71,127.487 755.143,313.556 602.924,603.585 \\n  602.924,931.134 755.143,1221.16 1024.71,1407.23 1349.87,1446.71 1656.13,1330.56 1873.34,1085.39 \\n  \\\"\\/>\\n<polyline clip-path=\\\"url(#clip6202)\\\" style=\\\"stroke:#788490; stroke-width:4; stroke-opacity:1; fill:none\\\" points=\\\"\\n  1951.73,767.359 1931.84,603.585 1873.34,449.329 1779.62,313.556 1656.13,204.156 1510.05,127.487 1349.87,88.0053 1184.89,88.0053 1024.71,127.487 878.63,204.156 \\n  755.143,313.556 661.426,449.329 602.924,603.585 583.038,767.359 602.924,931.134 661.426,1085.39 755.143,1221.16 878.63,1330.56 1024.71,1407.23 1184.89,1446.71 \\n  1349.87,1446.71 1510.05,1407.23 1656.13,1330.56 1779.62,1221.16 1873.34,1085.39 1931.84,931.134 \\n  \\\"\\/>\\n<\\/svg>\\n\"},\"nodeType\":\"DOM\",\"type\":\"node\",\"instanceArgs\":{\"namespace\":\"html\",\"tag\":\"div\"},\"children\":[]}]}}}},\"children\":[{\"props\":{},\"nodeType\":\"ObservableNode\",\"type\":\"node\",\"instanceArgs\":{\"id\":\"ob_32\",\"name\":\"obs-node\"},\"children\":[]}]}]},\n",
       "            window,\n",
       "        );\n",
       "    } else {\n",
       "        document\n",
       "            .querySelector('[data-webio-mountpoint=\"18179750732114514788\"]')\n",
       "            .innerHTML = '<strong>WebIO not detected.</strong>';\n",
       "    }\n",
       "    </script>\n",
       "</div>\n"
      ],
      "text/plain": [
       "Node{WebIO.DOM}(WebIO.DOM(:html, :div), Any[Node{DOM}(DOM(:html, :div), Any[Scope(\"knockout-component-a680afa7-7c66-42fb-88bc-deee9c3ad667\", Node{DOM}(DOM(:html, :div), Any[Node{DOM}(DOM(:html, :div), Any[Node{DOM}(DOM(:html, :label), Any[\"n\"], Dict{Symbol,Any}(:className=>\"interact \",:style=>Dict{Any,Any}(:padding=>\"5px 10px 0px 10px\")), 1)], Dict{Symbol,Any}(:className=>\"interact-flex-row-left\"), 2), Node{DOM}(DOM(:html, :div), Any[Node{DOM}(DOM(:html, :input), Any[], Dict{Symbol,Any}(:max=>50,:min=>2,:attributes=>Dict{Any,Any}(:type=>\"range\",Symbol(\"data-bind\")=>\"numericValue: index, valueUpdate: 'input', event: {change: function (){this.changes(this.changes()+1)}}\",\"orient\"=>\"horizontal\"),:step=>1,:className=>\"slider slider is-fullwidth\",:style=>Dict{Any,Any}()), 0)], Dict{Symbol,Any}(:className=>\"interact-flex-row-center\"), 1), Node{DOM}(DOM(:html, :div), Any[Node{DOM}(DOM(:html, :p), Any[], Dict{Symbol,Any}(:attributes=>Dict(\"data-bind\"=>\"text: formatted_val\")), 0)], Dict{Symbol,Any}(:className=>\"interact-flex-row-right\"), 1)], Dict{Symbol,Any}(:className=>\"interact-flex-row interact-widget\"), 7), Dict{String,Tuple{Observables.AbstractObservable,Union{Nothing, Bool}}}(\"changes\"=>(Observable{Int64} with 1 listeners. Value:\n",
       "0, nothing),\"index\"=>(Observable{Int64} with 2 listeners. Value:\n",
       "26, nothing)), Set(String[]), nothing, Asset[Asset(\"js\", \"knockout\", \"/Users/alanedelman/.julia/packages/Knockout/JE2Yq/src/../assets/knockout.js\"), Asset(\"js\", \"knockout_punches\", \"/Users/alanedelman/.julia/packages/Knockout/JE2Yq/src/../assets/knockout_punches.js\"), Asset(\"js\", nothing, \"/Users/alanedelman/.julia/packages/InteractBase/R8JgH/src/../assets/all.js\"), Asset(\"css\", nothing, \"/Users/alanedelman/.julia/packages/InteractBase/R8JgH/src/../assets/style.css\"), Asset(\"css\", nothing, \"/Users/alanedelman/.julia/packages/Interact/0klKX/src/../assets/bulma_confined.min.css\")], Dict{Any,Any}(\"changes\"=>Any[JSString(\"(function (val){return (val!=this.model[\\\"changes\\\"]()) ? (this.valueFromJulia[\\\"changes\\\"]=true, this.model[\\\"changes\\\"](val)) : undefined})\")],\"index\"=>Any[JSString(\"(function (val){return (val!=this.model[\\\"index\\\"]()) ? (this.valueFromJulia[\\\"index\\\"]=true, this.model[\\\"index\\\"](val)) : undefined})\")]), ConnectionPool(Channel{Any}(sz_max:9223372036854775807,sz_curr:0), Set(AbstractConnection[]), Channel{AbstractConnection}(sz_max:32,sz_curr:0)), WebIO.JSString[JSString(\"function () {\\n    var handler = (function (ko, koPunches) {\\n    ko.punches.enableAll();\\n    ko.bindingHandlers.numericValue = {\\n        init : function(element, valueAccessor, allBindings, data, context) {\\n            var stringified = ko.observable(ko.unwrap(valueAccessor()));\\n            stringified.subscribe(function(value) {\\n                var val = parseFloat(value);\\n                if (!isNaN(val)) {\\n                    valueAccessor()(val);\\n                }\\n            })\\n            valueAccessor().subscribe(function(value) {\\n                var str = JSON.stringify(value);\\n                if ((str == \\\"0\\\") && ([\\\"-0\\\", \\\"-0.\\\"].indexOf(stringified()) >= 0))\\n                     return;\\n                 if ([\\\"null\\\", \\\"\\\"].indexOf(str) >= 0)\\n                     return;\\n                stringified(str);\\n            })\\n            ko.applyBindingsToNode(element, { value: stringified, valueUpdate: allBindings.get('valueUpdate')}, context);\\n        }\\n    };\\n    var json_data = {\\\"formatted_vals\\\":[\\\"2\\\",\\\"3\\\",\\\"4\\\",\\\"5\\\",\\\"6\\\",\\\"7\\\",\\\"8\\\",\\\"9\\\",\\\"10\\\",\\\"11\\\",\\\"12\\\",\\\"13\\\",\\\"14\\\",\\\"15\\\",\\\"16\\\",\\\"17\\\",\\\"18\\\",\\\"19\\\",\\\"20\\\",\\\"21\\\",\\\"22\\\",\\\"23\\\",\\\"24\\\",\\\"25\\\",\\\"26\\\",\\\"27\\\",\\\"28\\\",\\\"29\\\",\\\"30\\\",\\\"31\\\",\\\"32\\\",\\\"33\\\",\\\"34\\\",\\\"35\\\",\\\"36\\\",\\\"37\\\",\\\"38\\\",\\\"39\\\",\\\"40\\\",\\\"41\\\",\\\"42\\\",\\\"43\\\",\\\"44\\\",\\\"45\\\",\\\"46\\\",\\\"47\\\",\\\"48\\\",\\\"49\\\",\\\"50\\\"],\\\"changes\\\":WebIO.getval({\\\"name\\\":\\\"changes\\\",\\\"scope\\\":\\\"knockout-component-a680afa7-7c66-42fb-88bc-deee9c3ad667\\\",\\\"id\\\":\\\"ob_28\\\",\\\"type\\\":\\\"observable\\\"}),\\\"index\\\":WebIO.getval({\\\"name\\\":\\\"index\\\",\\\"scope\\\":\\\"knockout-component-a680afa7-7c66-42fb-88bc-deee9c3ad667\\\",\\\"id\\\":\\\"ob_27\\\",\\\"type\\\":\\\"observable\\\"})};\\n    var self = this;\\n    function AppViewModel() {\\n        for (var key in json_data) {\\n            var el = json_data[key];\\n            this[key] = Array.isArray(el) ? ko.observableArray(el) : ko.observable(el);\\n        }\\n        \\n        [this[\\\"formatted_val\\\"]=ko.computed(    function(){\\n        return this.formatted_vals()[parseInt(this.index())-1];\\n    }\\n,this)]\\n        [this[\\\"changes\\\"].subscribe((function (val){!(this.valueFromJulia[\\\"changes\\\"]) ? (WebIO.setval({\\\"name\\\":\\\"changes\\\",\\\"scope\\\":\\\"knockout-component-a680afa7-7c66-42fb-88bc-deee9c3ad667\\\",\\\"id\\\":\\\"ob_28\\\",\\\"type\\\":\\\"observable\\\"},val)) : undefined; return this.valueFromJulia[\\\"changes\\\"]=false}),self),this[\\\"index\\\"].subscribe((function (val){!(this.valueFromJulia[\\\"index\\\"]) ? (WebIO.setval({\\\"name\\\":\\\"index\\\",\\\"scope\\\":\\\"knockout-component-a680afa7-7c66-42fb-88bc-deee9c3ad667\\\",\\\"id\\\":\\\"ob_27\\\",\\\"type\\\":\\\"observable\\\"},val)) : undefined; return this.valueFromJulia[\\\"index\\\"]=false}),self)]\\n        \\n    }\\n    self.model = new AppViewModel();\\n    self.valueFromJulia = {};\\n    for (var key in json_data) {\\n        self.valueFromJulia[key] = false;\\n    }\\n    ko.applyBindings(self.model, self.dom);\\n}\\n);\\n    (WebIO.importBlock({\\\"data\\\":[{\\\"name\\\":\\\"knockout\\\",\\\"type\\\":\\\"js\\\",\\\"url\\\":\\\"/assetserver/a8d465714ca0b50fcacaa7d87d7fe7277251eb7a-knockout.js\\\"},{\\\"name\\\":\\\"knockout_punches\\\",\\\"type\\\":\\\"js\\\",\\\"url\\\":\\\"/assetserver/fadafe50514ba2741549559683e093f56983d17e-knockout_punches.js\\\"}],\\\"type\\\":\\\"async_block\\\"})).then((imports) => handler.apply(this, imports));\\n}\\n\")])], Dict{Symbol,Any}(:className=>\"field interact-widget\"), 1), Observable{Any} with 0 listeners. Value:\n",
       "Node{DOM}(DOM(:html, :div), Any[Plot{Plots.GRBackend() n=26}], Dict{Symbol,Any}(:className=>\"interact-flex-row interact-widget\"), 1)], Dict{Symbol,Any}(), 2)"
      ]
     },
     "execution_count": 13,
     "metadata": {
      "application/vnd.webio.node+json": {
       "kernelId": "ff0b2550-d4f2-44da-a29b-2973471c31af"
      }
     },
     "output_type": "execute_result"
    }
   ],
   "source": [
    "@manipulate for n=2:50\n",
    "    plot()\n",
    "    for i=1:n\n",
    "        FF = F(n)[:,i]\n",
    "           plot!(real(FF), imag(FF))\n",
    "    end\n",
    "    plot!(aspect_ratio=1,legend=false)\n",
    "    end        "
   ]
  },
  {
   "cell_type": "code",
   "execution_count": 15,
   "metadata": {},
   "outputs": [
    {
     "data": {
      "application/vnd.webio.node+json": {
       "children": [
        {
         "children": [
          {
           "children": [
            {
             "children": [
              {
               "children": [
                {
                 "children": [
                  "i"
                 ],
                 "instanceArgs": {
                  "namespace": "html",
                  "tag": "label"
                 },
                 "nodeType": "DOM",
                 "props": {
                  "className": "interact ",
                  "style": {
                   "padding": "5px 10px 0px 10px"
                  }
                 },
                 "type": "node"
                }
               ],
               "instanceArgs": {
                "namespace": "html",
                "tag": "div"
               },
               "nodeType": "DOM",
               "props": {
                "className": "interact-flex-row-left"
               },
               "type": "node"
              },
              {
               "children": [
                {
                 "children": [],
                 "instanceArgs": {
                  "namespace": "html",
                  "tag": "input"
                 },
                 "nodeType": "DOM",
                 "props": {
                  "attributes": {
                   "data-bind": "numericValue: index, valueUpdate: 'input', event: {change: function (){this.changes(this.changes()+1)}}",
                   "orient": "horizontal",
                   "type": "range"
                  },
                  "className": "slider slider is-fullwidth",
                  "max": 100,
                  "min": 3,
                  "step": 1,
                  "style": {}
                 },
                 "type": "node"
                }
               ],
               "instanceArgs": {
                "namespace": "html",
                "tag": "div"
               },
               "nodeType": "DOM",
               "props": {
                "className": "interact-flex-row-center"
               },
               "type": "node"
              },
              {
               "children": [
                {
                 "children": [],
                 "instanceArgs": {
                  "namespace": "html",
                  "tag": "p"
                 },
                 "nodeType": "DOM",
                 "props": {
                  "attributes": {
                   "data-bind": "text: formatted_val"
                  }
                 },
                 "type": "node"
                }
               ],
               "instanceArgs": {
                "namespace": "html",
                "tag": "div"
               },
               "nodeType": "DOM",
               "props": {
                "className": "interact-flex-row-right"
               },
               "type": "node"
              }
             ],
             "instanceArgs": {
              "namespace": "html",
              "tag": "div"
             },
             "nodeType": "DOM",
             "props": {
              "className": "interact-flex-row interact-widget"
             },
             "type": "node"
            }
           ],
           "instanceArgs": {
            "handlers": {
             "changes": [
              "(function (val){return (val!=this.model[\"changes\"]()) ? (this.valueFromJulia[\"changes\"]=true, this.model[\"changes\"](val)) : undefined})"
             ],
             "index": [
              "(function (val){return (val!=this.model[\"index\"]()) ? (this.valueFromJulia[\"index\"]=true, this.model[\"index\"](val)) : undefined})"
             ]
            },
            "id": "knockout-component-c8036ba8-d0ac-46c2-a285-542313cb709f",
            "imports": {
             "data": [
              {
               "name": "knockout",
               "type": "js",
               "url": "/assetserver/f07383ad7ba5d9e293900fdc7e5e611110d6ff32-knockout.js"
              },
              {
               "name": "knockout_punches",
               "type": "js",
               "url": "/assetserver/306cc87ce82e45c3e5eb81524cb970ae2bab3932-knockout_punches.js"
              },
              {
               "name": null,
               "type": "js",
               "url": "/assetserver/69078235d89420aa60ec07ae908cfcc65b6ecf85-all.js"
              },
              {
               "name": null,
               "type": "css",
               "url": "/assetserver/98bc206151bf33944d9780fd349511e9eae784a0-style.css"
              },
              {
               "name": null,
               "type": "css",
               "url": "/assetserver/13615fa9690b1c4388c3fe14db802e442333ebc4-bulma_confined.min.css"
              }
             ],
             "type": "async_block"
            },
            "mount_callbacks": [
             "function () {\n    var handler = (function (ko, koPunches) {\n    ko.punches.enableAll();\n    ko.bindingHandlers.numericValue = {\n        init : function(element, valueAccessor, allBindings, data, context) {\n            var stringified = ko.observable(ko.unwrap(valueAccessor()));\n            stringified.subscribe(function(value) {\n                var val = parseFloat(value);\n                if (!isNaN(val)) {\n                    valueAccessor()(val);\n                }\n            })\n            valueAccessor().subscribe(function(value) {\n                var str = JSON.stringify(value);\n                if ((str == \"0\") && ([\"-0\", \"-0.\"].indexOf(stringified()) >= 0))\n                     return;\n                 if ([\"null\", \"\"].indexOf(str) >= 0)\n                     return;\n                stringified(str);\n            })\n            ko.applyBindingsToNode(element, { value: stringified, valueUpdate: allBindings.get('valueUpdate')}, context);\n        }\n    };\n    var json_data = {\"formatted_vals\":[\"3\",\"4\",\"5\",\"6\",\"7\",\"8\",\"9\",\"10\",\"11\",\"12\",\"13\",\"14\",\"15\",\"16\",\"17\",\"18\",\"19\",\"20\",\"21\",\"22\",\"23\",\"24\",\"25\",\"26\",\"27\",\"28\",\"29\",\"30\",\"31\",\"32\",\"33\",\"34\",\"35\",\"36\",\"37\",\"38\",\"39\",\"40\",\"41\",\"42\",\"43\",\"44\",\"45\",\"46\",\"47\",\"48\",\"49\",\"50\",\"51\",\"52\",\"53\",\"54\",\"55\",\"56\",\"57\",\"58\",\"59\",\"60\",\"61\",\"62\",\"63\",\"64\",\"65\",\"66\",\"67\",\"68\",\"69\",\"70\",\"71\",\"72\",\"73\",\"74\",\"75\",\"76\",\"77\",\"78\",\"79\",\"80\",\"81\",\"82\",\"83\",\"84\",\"85\",\"86\",\"87\",\"88\",\"89\",\"90\",\"91\",\"92\",\"93\",\"94\",\"95\",\"96\",\"97\",\"98\",\"99\",\"100\"],\"changes\":WebIO.getval({\"name\":\"changes\",\"scope\":\"knockout-component-c8036ba8-d0ac-46c2-a285-542313cb709f\",\"id\":\"ob_66\",\"type\":\"observable\"}),\"index\":WebIO.getval({\"name\":\"index\",\"scope\":\"knockout-component-c8036ba8-d0ac-46c2-a285-542313cb709f\",\"id\":\"ob_65\",\"type\":\"observable\"})};\n    var self = this;\n    function AppViewModel() {\n        for (var key in json_data) {\n            var el = json_data[key];\n            this[key] = Array.isArray(el) ? ko.observableArray(el) : ko.observable(el);\n        }\n        \n        [this[\"formatted_val\"]=ko.computed(    function(){\n        return this.formatted_vals()[parseInt(this.index())-1];\n    }\n,this)]\n        [this[\"changes\"].subscribe((function (val){!(this.valueFromJulia[\"changes\"]) ? (WebIO.setval({\"name\":\"changes\",\"scope\":\"knockout-component-c8036ba8-d0ac-46c2-a285-542313cb709f\",\"id\":\"ob_66\",\"type\":\"observable\"},val)) : undefined; return this.valueFromJulia[\"changes\"]=false}),self),this[\"index\"].subscribe((function (val){!(this.valueFromJulia[\"index\"]) ? (WebIO.setval({\"name\":\"index\",\"scope\":\"knockout-component-c8036ba8-d0ac-46c2-a285-542313cb709f\",\"id\":\"ob_65\",\"type\":\"observable\"},val)) : undefined; return this.valueFromJulia[\"index\"]=false}),self)]\n        \n    }\n    self.model = new AppViewModel();\n    self.valueFromJulia = {};\n    for (var key in json_data) {\n        self.valueFromJulia[key] = false;\n    }\n    ko.applyBindings(self.model, self.dom);\n}\n);\n    (WebIO.importBlock({\"data\":[{\"name\":\"knockout\",\"type\":\"js\",\"url\":\"/assetserver/f07383ad7ba5d9e293900fdc7e5e611110d6ff32-knockout.js\"},{\"name\":\"knockout_punches\",\"type\":\"js\",\"url\":\"/assetserver/306cc87ce82e45c3e5eb81524cb970ae2bab3932-knockout_punches.js\"}],\"type\":\"async_block\"})).then((imports) => handler.apply(this, imports));\n}\n"
            ],
            "observables": {
             "changes": {
              "id": "ob_66",
              "sync": false,
              "value": 0
             },
             "index": {
              "id": "ob_65",
              "sync": true,
              "value": 51
             }
            },
            "systemjs_options": null
           },
           "nodeType": "Scope",
           "props": {},
           "type": "node"
          }
         ],
         "instanceArgs": {
          "namespace": "html",
          "tag": "div"
         },
         "nodeType": "DOM",
         "props": {
          "className": "field interact-widget"
         },
         "type": "node"
        },
        {
         "children": [
          {
           "children": [],
           "instanceArgs": {
            "id": "ob_72",
            "name": "obs-node"
           },
           "nodeType": "ObservableNode",
           "props": {},
           "type": "node"
          }
         ],
         "instanceArgs": {
          "handlers": {},
          "id": "scope-e25a77f4-6de4-48eb-a2cc-5531fa52e883",
          "imports": {
           "data": [],
           "type": "async_block"
          },
          "mount_callbacks": [],
          "observables": {
           "obs-node": {
            "id": "ob_72",
            "sync": false,
            "value": {
             "children": [
              {
               "children": [],
               "instanceArgs": {
                "namespace": "html",
                "tag": "div"
               },
               "nodeType": "DOM",
               "props": {
                "setInnerHtml": "<img src=\"data:image/png;base64,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\" />"
               },
               "type": "node"
              }
             ],
             "instanceArgs": {
              "namespace": "html",
              "tag": "div"
             },
             "nodeType": "DOM",
             "props": {
              "className": "interact-flex-row interact-widget"
             },
             "type": "node"
            }
           }
          },
          "systemjs_options": null
         },
         "nodeType": "Scope",
         "props": {},
         "type": "node"
        }
       ],
       "instanceArgs": {
        "namespace": "html",
        "tag": "div"
       },
       "nodeType": "DOM",
       "props": {},
       "type": "node"
      },
      "text/html": [
       "<div\n",
       "    class=\"webio-mountpoint\"\n",
       "    data-webio-mountpoint=\"1276945539757569107\"\n",
       ">\n",
       "    <script>\n",
       "    if (window.require && require.defined && require.defined(\"nbextensions/webio/main\")) {\n",
       "        console.log(\"Jupyter WebIO extension detected, not mounting.\");\n",
       "    } else if (window.WebIO) {\n",
       "        WebIO.mount(\n",
       "            document.querySelector('[data-webio-mountpoint=\"1276945539757569107\"]'),\n",
       "            {\"props\":{},\"nodeType\":\"DOM\",\"type\":\"node\",\"instanceArgs\":{\"namespace\":\"html\",\"tag\":\"div\"},\"children\":[{\"props\":{\"className\":\"field interact-widget\"},\"nodeType\":\"DOM\",\"type\":\"node\",\"instanceArgs\":{\"namespace\":\"html\",\"tag\":\"div\"},\"children\":[{\"props\":{},\"nodeType\":\"Scope\",\"type\":\"node\",\"instanceArgs\":{\"imports\":{\"data\":[{\"name\":\"knockout\",\"type\":\"js\",\"url\":\"\\/assetserver\\/f07383ad7ba5d9e293900fdc7e5e611110d6ff32-knockout.js\"},{\"name\":\"knockout_punches\",\"type\":\"js\",\"url\":\"\\/assetserver\\/306cc87ce82e45c3e5eb81524cb970ae2bab3932-knockout_punches.js\"},{\"name\":null,\"type\":\"js\",\"url\":\"\\/assetserver\\/69078235d89420aa60ec07ae908cfcc65b6ecf85-all.js\"},{\"name\":null,\"type\":\"css\",\"url\":\"\\/assetserver\\/98bc206151bf33944d9780fd349511e9eae784a0-style.css\"},{\"name\":null,\"type\":\"css\",\"url\":\"\\/assetserver\\/13615fa9690b1c4388c3fe14db802e442333ebc4-bulma_confined.min.css\"}],\"type\":\"async_block\"},\"id\":\"knockout-component-c8036ba8-d0ac-46c2-a285-542313cb709f\",\"handlers\":{\"changes\":[\"(function (val){return (val!=this.model[\\\"changes\\\"]()) ? (this.valueFromJulia[\\\"changes\\\"]=true, this.model[\\\"changes\\\"](val)) : undefined})\"],\"index\":[\"(function (val){return (val!=this.model[\\\"index\\\"]()) ? (this.valueFromJulia[\\\"index\\\"]=true, this.model[\\\"index\\\"](val)) : undefined})\"]},\"systemjs_options\":null,\"mount_callbacks\":[\"function () {\\n    var handler = (function (ko, koPunches) {\\n    ko.punches.enableAll();\\n    ko.bindingHandlers.numericValue = {\\n        init : function(element, valueAccessor, allBindings, data, context) {\\n            var stringified = ko.observable(ko.unwrap(valueAccessor()));\\n            stringified.subscribe(function(value) {\\n                var val = parseFloat(value);\\n                if (!isNaN(val)) {\\n                    valueAccessor()(val);\\n                }\\n            })\\n            valueAccessor().subscribe(function(value) {\\n                var str = JSON.stringify(value);\\n                if ((str == \\\"0\\\") && ([\\\"-0\\\", \\\"-0.\\\"].indexOf(stringified()) >= 0))\\n                     return;\\n                 if ([\\\"null\\\", \\\"\\\"].indexOf(str) >= 0)\\n                     return;\\n                stringified(str);\\n            })\\n            ko.applyBindingsToNode(element, { value: stringified, valueUpdate: allBindings.get('valueUpdate')}, context);\\n        }\\n    };\\n    var json_data = {\\\"formatted_vals\\\":[\\\"3\\\",\\\"4\\\",\\\"5\\\",\\\"6\\\",\\\"7\\\",\\\"8\\\",\\\"9\\\",\\\"10\\\",\\\"11\\\",\\\"12\\\",\\\"13\\\",\\\"14\\\",\\\"15\\\",\\\"16\\\",\\\"17\\\",\\\"18\\\",\\\"19\\\",\\\"20\\\",\\\"21\\\",\\\"22\\\",\\\"23\\\",\\\"24\\\",\\\"25\\\",\\\"26\\\",\\\"27\\\",\\\"28\\\",\\\"29\\\",\\\"30\\\",\\\"31\\\",\\\"32\\\",\\\"33\\\",\\\"34\\\",\\\"35\\\",\\\"36\\\",\\\"37\\\",\\\"38\\\",\\\"39\\\",\\\"40\\\",\\\"41\\\",\\\"42\\\",\\\"43\\\",\\\"44\\\",\\\"45\\\",\\\"46\\\",\\\"47\\\",\\\"48\\\",\\\"49\\\",\\\"50\\\",\\\"51\\\",\\\"52\\\",\\\"53\\\",\\\"54\\\",\\\"55\\\",\\\"56\\\",\\\"57\\\",\\\"58\\\",\\\"59\\\",\\\"60\\\",\\\"61\\\",\\\"62\\\",\\\"63\\\",\\\"64\\\",\\\"65\\\",\\\"66\\\",\\\"67\\\",\\\"68\\\",\\\"69\\\",\\\"70\\\",\\\"71\\\",\\\"72\\\",\\\"73\\\",\\\"74\\\",\\\"75\\\",\\\"76\\\",\\\"77\\\",\\\"78\\\",\\\"79\\\",\\\"80\\\",\\\"81\\\",\\\"82\\\",\\\"83\\\",\\\"84\\\",\\\"85\\\",\\\"86\\\",\\\"87\\\",\\\"88\\\",\\\"89\\\",\\\"90\\\",\\\"91\\\",\\\"92\\\",\\\"93\\\",\\\"94\\\",\\\"95\\\",\\\"96\\\",\\\"97\\\",\\\"98\\\",\\\"99\\\",\\\"100\\\"],\\\"changes\\\":WebIO.getval({\\\"name\\\":\\\"changes\\\",\\\"scope\\\":\\\"knockout-component-c8036ba8-d0ac-46c2-a285-542313cb709f\\\",\\\"id\\\":\\\"ob_66\\\",\\\"type\\\":\\\"observable\\\"}),\\\"index\\\":WebIO.getval({\\\"name\\\":\\\"index\\\",\\\"scope\\\":\\\"knockout-component-c8036ba8-d0ac-46c2-a285-542313cb709f\\\",\\\"id\\\":\\\"ob_65\\\",\\\"type\\\":\\\"observable\\\"})};\\n    var self = this;\\n    function AppViewModel() {\\n        for (var key in json_data) {\\n            var el = json_data[key];\\n            this[key] = Array.isArray(el) ? ko.observableArray(el) : ko.observable(el);\\n        }\\n        \\n        [this[\\\"formatted_val\\\"]=ko.computed(    function(){\\n        return this.formatted_vals()[parseInt(this.index())-1];\\n    }\\n,this)]\\n        [this[\\\"changes\\\"].subscribe((function (val){!(this.valueFromJulia[\\\"changes\\\"]) ? (WebIO.setval({\\\"name\\\":\\\"changes\\\",\\\"scope\\\":\\\"knockout-component-c8036ba8-d0ac-46c2-a285-542313cb709f\\\",\\\"id\\\":\\\"ob_66\\\",\\\"type\\\":\\\"observable\\\"},val)) : undefined; return this.valueFromJulia[\\\"changes\\\"]=false}),self),this[\\\"index\\\"].subscribe((function (val){!(this.valueFromJulia[\\\"index\\\"]) ? (WebIO.setval({\\\"name\\\":\\\"index\\\",\\\"scope\\\":\\\"knockout-component-c8036ba8-d0ac-46c2-a285-542313cb709f\\\",\\\"id\\\":\\\"ob_65\\\",\\\"type\\\":\\\"observable\\\"},val)) : undefined; return this.valueFromJulia[\\\"index\\\"]=false}),self)]\\n        \\n    }\\n    self.model = new AppViewModel();\\n    self.valueFromJulia = {};\\n    for (var key in json_data) {\\n        self.valueFromJulia[key] = false;\\n    }\\n    ko.applyBindings(self.model, self.dom);\\n}\\n);\\n    (WebIO.importBlock({\\\"data\\\":[{\\\"name\\\":\\\"knockout\\\",\\\"type\\\":\\\"js\\\",\\\"url\\\":\\\"\\/assetserver\\/f07383ad7ba5d9e293900fdc7e5e611110d6ff32-knockout.js\\\"},{\\\"name\\\":\\\"knockout_punches\\\",\\\"type\\\":\\\"js\\\",\\\"url\\\":\\\"\\/assetserver\\/306cc87ce82e45c3e5eb81524cb970ae2bab3932-knockout_punches.js\\\"}],\\\"type\\\":\\\"async_block\\\"})).then((imports) => handler.apply(this, imports));\\n}\\n\"],\"observables\":{\"changes\":{\"sync\":false,\"id\":\"ob_66\",\"value\":0},\"index\":{\"sync\":true,\"id\":\"ob_65\",\"value\":51}}},\"children\":[{\"props\":{\"className\":\"interact-flex-row interact-widget\"},\"nodeType\":\"DOM\",\"type\":\"node\",\"instanceArgs\":{\"namespace\":\"html\",\"tag\":\"div\"},\"children\":[{\"props\":{\"className\":\"interact-flex-row-left\"},\"nodeType\":\"DOM\",\"type\":\"node\",\"instanceArgs\":{\"namespace\":\"html\",\"tag\":\"div\"},\"children\":[{\"props\":{\"className\":\"interact \",\"style\":{\"padding\":\"5px 10px 0px 10px\"}},\"nodeType\":\"DOM\",\"type\":\"node\",\"instanceArgs\":{\"namespace\":\"html\",\"tag\":\"label\"},\"children\":[\"i\"]}]},{\"props\":{\"className\":\"interact-flex-row-center\"},\"nodeType\":\"DOM\",\"type\":\"node\",\"instanceArgs\":{\"namespace\":\"html\",\"tag\":\"div\"},\"children\":[{\"props\":{\"max\":100,\"min\":3,\"attributes\":{\"type\":\"range\",\"data-bind\":\"numericValue: index, valueUpdate: 'input', event: {change: function (){this.changes(this.changes()+1)}}\",\"orient\":\"horizontal\"},\"step\":1,\"className\":\"slider slider is-fullwidth\",\"style\":{}},\"nodeType\":\"DOM\",\"type\":\"node\",\"instanceArgs\":{\"namespace\":\"html\",\"tag\":\"input\"},\"children\":[]}]},{\"props\":{\"className\":\"interact-flex-row-right\"},\"nodeType\":\"DOM\",\"type\":\"node\",\"instanceArgs\":{\"namespace\":\"html\",\"tag\":\"div\"},\"children\":[{\"props\":{\"attributes\":{\"data-bind\":\"text: formatted_val\"}},\"nodeType\":\"DOM\",\"type\":\"node\",\"instanceArgs\":{\"namespace\":\"html\",\"tag\":\"p\"},\"children\":[]}]}]}]}]},{\"props\":{},\"nodeType\":\"Scope\",\"type\":\"node\",\"instanceArgs\":{\"imports\":{\"data\":[],\"type\":\"async_block\"},\"id\":\"scope-0125baaf-c890-4c28-8434-67c0af5f0341\",\"handlers\":{},\"systemjs_options\":null,\"mount_callbacks\":[],\"observables\":{\"obs-node\":{\"sync\":false,\"id\":\"ob_70\",\"value\":{\"props\":{\"className\":\"interact-flex-row interact-widget\"},\"nodeType\":\"DOM\",\"type\":\"node\",\"instanceArgs\":{\"namespace\":\"html\",\"tag\":\"div\"},\"children\":[{\"props\":{\"setInnerHtml\":\"<img src=\\\"data:image\\/png;base64,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\\\" \\/>\"},\"nodeType\":\"DOM\",\"type\":\"node\",\"instanceArgs\":{\"namespace\":\"html\",\"tag\":\"div\"},\"children\":[]}]}}}},\"children\":[{\"props\":{},\"nodeType\":\"ObservableNode\",\"type\":\"node\",\"instanceArgs\":{\"id\":\"ob_70\",\"name\":\"obs-node\"},\"children\":[]}]}]},\n",
       "            window,\n",
       "        );\n",
       "    } else {\n",
       "        document\n",
       "            .querySelector('[data-webio-mountpoint=\"1276945539757569107\"]')\n",
       "            .innerHTML = '<strong>WebIO not detected.</strong>';\n",
       "    }\n",
       "    </script>\n",
       "</div>\n"
      ],
      "text/plain": [
       "Node{WebIO.DOM}(WebIO.DOM(:html, :div), Any[Node{DOM}(DOM(:html, :div), Any[Scope(\"knockout-component-c8036ba8-d0ac-46c2-a285-542313cb709f\", Node{DOM}(DOM(:html, :div), Any[Node{DOM}(DOM(:html, :div), Any[Node{DOM}(DOM(:html, :label), Any[\"i\"], Dict{Symbol,Any}(:className=>\"interact \",:style=>Dict{Any,Any}(:padding=>\"5px 10px 0px 10px\")), 1)], Dict{Symbol,Any}(:className=>\"interact-flex-row-left\"), 2), Node{DOM}(DOM(:html, :div), Any[Node{DOM}(DOM(:html, :input), Any[], Dict{Symbol,Any}(:max=>100,:min=>3,:attributes=>Dict{Any,Any}(:type=>\"range\",Symbol(\"data-bind\")=>\"numericValue: index, valueUpdate: 'input', event: {change: function (){this.changes(this.changes()+1)}}\",\"orient\"=>\"horizontal\"),:step=>1,:className=>\"slider slider is-fullwidth\",:style=>Dict{Any,Any}()), 0)], Dict{Symbol,Any}(:className=>\"interact-flex-row-center\"), 1), Node{DOM}(DOM(:html, :div), Any[Node{DOM}(DOM(:html, :p), Any[], Dict{Symbol,Any}(:attributes=>Dict(\"data-bind\"=>\"text: formatted_val\")), 0)], Dict{Symbol,Any}(:className=>\"interact-flex-row-right\"), 1)], Dict{Symbol,Any}(:className=>\"interact-flex-row interact-widget\"), 7), Dict{String,Tuple{Observables.AbstractObservable,Union{Nothing, Bool}}}(\"changes\"=>(Observable{Int64} with 1 listeners. Value:\n",
       "0, nothing),\"index\"=>(Observable{Int64} with 2 listeners. Value:\n",
       "51, nothing)), Set(String[]), nothing, Asset[Asset(\"js\", \"knockout\", \"/Users/edelman/.julia/packages/Knockout/JE2Yq/src/../assets/knockout.js\"), Asset(\"js\", \"knockout_punches\", \"/Users/edelman/.julia/packages/Knockout/JE2Yq/src/../assets/knockout_punches.js\"), Asset(\"js\", nothing, \"/Users/edelman/.julia/packages/InteractBase/R8JgH/src/../assets/all.js\"), Asset(\"css\", nothing, \"/Users/edelman/.julia/packages/InteractBase/R8JgH/src/../assets/style.css\"), Asset(\"css\", nothing, \"/Users/edelman/.julia/packages/Interact/0klKX/src/../assets/bulma_confined.min.css\")], Dict{Any,Any}(\"changes\"=>Any[JSString(\"(function (val){return (val!=this.model[\\\"changes\\\"]()) ? (this.valueFromJulia[\\\"changes\\\"]=true, this.model[\\\"changes\\\"](val)) : undefined})\")],\"index\"=>Any[JSString(\"(function (val){return (val!=this.model[\\\"index\\\"]()) ? (this.valueFromJulia[\\\"index\\\"]=true, this.model[\\\"index\\\"](val)) : undefined})\")]), ConnectionPool(Channel{Any}(sz_max:9223372036854775807,sz_curr:0), Set(AbstractConnection[]), Channel{AbstractConnection}(sz_max:32,sz_curr:0)), WebIO.JSString[JSString(\"function () {\\n    var handler = (function (ko, koPunches) {\\n    ko.punches.enableAll();\\n    ko.bindingHandlers.numericValue = {\\n        init : function(element, valueAccessor, allBindings, data, context) {\\n            var stringified = ko.observable(ko.unwrap(valueAccessor()));\\n            stringified.subscribe(function(value) {\\n                var val = parseFloat(value);\\n                if (!isNaN(val)) {\\n                    valueAccessor()(val);\\n                }\\n            })\\n            valueAccessor().subscribe(function(value) {\\n                var str = JSON.stringify(value);\\n                if ((str == \\\"0\\\") && ([\\\"-0\\\", \\\"-0.\\\"].indexOf(stringified()) >= 0))\\n                     return;\\n                 if ([\\\"null\\\", \\\"\\\"].indexOf(str) >= 0)\\n                     return;\\n                stringified(str);\\n            })\\n            ko.applyBindingsToNode(element, { value: stringified, valueUpdate: allBindings.get('valueUpdate')}, context);\\n        }\\n    };\\n    var json_data = {\\\"formatted_vals\\\":[\\\"3\\\",\\\"4\\\",\\\"5\\\",\\\"6\\\",\\\"7\\\",\\\"8\\\",\\\"9\\\",\\\"10\\\",\\\"11\\\",\\\"12\\\",\\\"13\\\",\\\"14\\\",\\\"15\\\",\\\"16\\\",\\\"17\\\",\\\"18\\\",\\\"19\\\",\\\"20\\\",\\\"21\\\",\\\"22\\\",\\\"23\\\",\\\"24\\\",\\\"25\\\",\\\"26\\\",\\\"27\\\",\\\"28\\\",\\\"29\\\",\\\"30\\\",\\\"31\\\",\\\"32\\\",\\\"33\\\",\\\"34\\\",\\\"35\\\",\\\"36\\\",\\\"37\\\",\\\"38\\\",\\\"39\\\",\\\"40\\\",\\\"41\\\",\\\"42\\\",\\\"43\\\",\\\"44\\\",\\\"45\\\",\\\"46\\\",\\\"47\\\",\\\"48\\\",\\\"49\\\",\\\"50\\\",\\\"51\\\",\\\"52\\\",\\\"53\\\",\\\"54\\\",\\\"55\\\",\\\"56\\\",\\\"57\\\",\\\"58\\\",\\\"59\\\",\\\"60\\\",\\\"61\\\",\\\"62\\\",\\\"63\\\",\\\"64\\\",\\\"65\\\",\\\"66\\\",\\\"67\\\",\\\"68\\\",\\\"69\\\",\\\"70\\\",\\\"71\\\",\\\"72\\\",\\\"73\\\",\\\"74\\\",\\\"75\\\",\\\"76\\\",\\\"77\\\",\\\"78\\\",\\\"79\\\",\\\"80\\\",\\\"81\\\",\\\"82\\\",\\\"83\\\",\\\"84\\\",\\\"85\\\",\\\"86\\\",\\\"87\\\",\\\"88\\\",\\\"89\\\",\\\"90\\\",\\\"91\\\",\\\"92\\\",\\\"93\\\",\\\"94\\\",\\\"95\\\",\\\"96\\\",\\\"97\\\",\\\"98\\\",\\\"99\\\",\\\"100\\\"],\\\"changes\\\":WebIO.getval({\\\"name\\\":\\\"changes\\\",\\\"scope\\\":\\\"knockout-component-c8036ba8-d0ac-46c2-a285-542313cb709f\\\",\\\"id\\\":\\\"ob_66\\\",\\\"type\\\":\\\"observable\\\"}),\\\"index\\\":WebIO.getval({\\\"name\\\":\\\"index\\\",\\\"scope\\\":\\\"knockout-component-c8036ba8-d0ac-46c2-a285-542313cb709f\\\",\\\"id\\\":\\\"ob_65\\\",\\\"type\\\":\\\"observable\\\"})};\\n    var self = this;\\n    function AppViewModel() {\\n        for (var key in json_data) {\\n            var el = json_data[key];\\n            this[key] = Array.isArray(el) ? ko.observableArray(el) : ko.observable(el);\\n        }\\n        \\n        [this[\\\"formatted_val\\\"]=ko.computed(    function(){\\n        return this.formatted_vals()[parseInt(this.index())-1];\\n    }\\n,this)]\\n        [this[\\\"changes\\\"].subscribe((function (val){!(this.valueFromJulia[\\\"changes\\\"]) ? (WebIO.setval({\\\"name\\\":\\\"changes\\\",\\\"scope\\\":\\\"knockout-component-c8036ba8-d0ac-46c2-a285-542313cb709f\\\",\\\"id\\\":\\\"ob_66\\\",\\\"type\\\":\\\"observable\\\"},val)) : undefined; return this.valueFromJulia[\\\"changes\\\"]=false}),self),this[\\\"index\\\"].subscribe((function (val){!(this.valueFromJulia[\\\"index\\\"]) ? (WebIO.setval({\\\"name\\\":\\\"index\\\",\\\"scope\\\":\\\"knockout-component-c8036ba8-d0ac-46c2-a285-542313cb709f\\\",\\\"id\\\":\\\"ob_65\\\",\\\"type\\\":\\\"observable\\\"},val)) : undefined; return this.valueFromJulia[\\\"index\\\"]=false}),self)]\\n        \\n    }\\n    self.model = new AppViewModel();\\n    self.valueFromJulia = {};\\n    for (var key in json_data) {\\n        self.valueFromJulia[key] = false;\\n    }\\n    ko.applyBindings(self.model, self.dom);\\n}\\n);\\n    (WebIO.importBlock({\\\"data\\\":[{\\\"name\\\":\\\"knockout\\\",\\\"type\\\":\\\"js\\\",\\\"url\\\":\\\"/assetserver/f07383ad7ba5d9e293900fdc7e5e611110d6ff32-knockout.js\\\"},{\\\"name\\\":\\\"knockout_punches\\\",\\\"type\\\":\\\"js\\\",\\\"url\\\":\\\"/assetserver/306cc87ce82e45c3e5eb81524cb970ae2bab3932-knockout_punches.js\\\"}],\\\"type\\\":\\\"async_block\\\"})).then((imports) => handler.apply(this, imports));\\n}\\n\")])], Dict{Symbol,Any}(:className=>\"field interact-widget\"), 1), Observable{Any} with 0 listeners. Value:\n",
       "Node{DOM}(DOM(:html, :div), Any[Plot{Plots.PyPlotBackend() n=1}], Dict{Symbol,Any}(:className=>\"interact-flex-row interact-widget\"), 1)], Dict{Symbol,Any}(), 2)"
      ]
     },
     "execution_count": 15,
     "metadata": {
      "application/vnd.webio.node+json": {
       "kernelId": "02470bc6-2c70-446c-b7dc-45dc17a02c40"
      }
     },
     "output_type": "execute_result"
    }
   ],
   "source": [
    "        "
   ]
  },
  {
   "cell_type": "markdown",
   "metadata": {},
   "source": [
    "## Taylor series using the FFT:"
   ]
  },
  {
   "cell_type": "code",
   "execution_count": 207,
   "metadata": {},
   "outputs": [
    {
     "data": {
      "text/plain": [
       "16-element Array{Complex{Float64},1}:\n",
       "                 1.0 + 0.0im               \n",
       "  0.9238795325112867 - 0.3826834323650898im\n",
       "  0.7071067811865476 - 0.7071067811865476im\n",
       "  0.3826834323650898 - 0.9238795325112867im\n",
       "                 0.0 - 1.0im               \n",
       " -0.3826834323650898 - 0.9238795325112867im\n",
       " -0.7071067811865476 - 0.7071067811865476im\n",
       " -0.9238795325112867 - 0.3826834323650898im\n",
       "                -1.0 + 0.0im               \n",
       " -0.9238795325112867 + 0.3826834323650898im\n",
       " -0.7071067811865476 + 0.7071067811865476im\n",
       " -0.3826834323650898 + 0.9238795325112867im\n",
       "                 0.0 + 1.0im               \n",
       "  0.3826834323650898 + 0.9238795325112867im\n",
       "  0.7071067811865476 + 0.7071067811865476im\n",
       "  0.9238795325112867 + 0.3826834323650898im"
      ]
     },
     "execution_count": 207,
     "metadata": {},
     "output_type": "execute_result"
    }
   ],
   "source": [
    "F16 = F(16)\n",
    "r = F16[:, 2]  # 8 roots of unity"
   ]
  },
  {
   "cell_type": "code",
   "execution_count": 208,
   "metadata": {},
   "outputs": [
    {
     "data": {
      "text/plain": [
       "16-element Array{Complex{Float64},1}:\n",
       "                    0.0 + 0.0im\n",
       "     1.0000000000000027 + 0.0im\n",
       "                    0.0 + 0.0im\n",
       "   -0.16666666666666669 + 0.0im\n",
       "                    0.0 + 0.0im\n",
       "   0.008333333333333276 + 0.0im\n",
       "                    0.0 + 0.0im\n",
       " -0.0001984126984126422 + 0.0im\n",
       "                    0.0 + 0.0im\n",
       "  2.7557319223769916e-6 + 0.0im\n",
       "                    0.0 + 0.0im\n",
       " -2.5052108415524188e-8 + 0.0im\n",
       "                    0.0 + 0.0im\n",
       " 1.6059042984295502e-10 + 0.0im\n",
       "                    0.0 + 0.0im\n",
       " -7.646105970593453e-13 + 0.0im"
      ]
     },
     "execution_count": 208,
     "metadata": {},
     "output_type": "execute_result"
    }
   ],
   "source": [
    "e = exp(1)\n",
    "ifft(sin.(r))"
   ]
  },
  {
   "cell_type": "code",
   "execution_count": 205,
   "metadata": {},
   "outputs": [
    {
     "data": {
      "text/plain": [
       "7-element Array{Float64,1}:\n",
       " 1.0                  \n",
       " 0.5                  \n",
       " 0.16666666666666666  \n",
       " 0.041666666666666664 \n",
       " 0.008333333333333333 \n",
       " 0.001388888888888889 \n",
       " 0.0001984126984126984"
      ]
     },
     "execution_count": 205,
     "metadata": {},
     "output_type": "execute_result"
    }
   ],
   "source": [
    "1 ./cumprod(1:7)"
   ]
  },
  {
   "cell_type": "markdown",
   "metadata": {},
   "source": [
    "The main point of the $n \\log n$ algorithm: $F_8$ is essentially made up of $F_4$s."
   ]
  },
  {
   "cell_type": "code",
   "execution_count": 18,
   "metadata": {},
   "outputs": [
    {
     "data": {
      "text/plain": [
       "4×4 Array{Complex{Float64},2}:\n",
       " 1.0+0.0im   1.0+0.0im   1.0+0.0im   1.0+0.0im\n",
       " 1.0+0.0im   0.0-1.0im  -1.0+0.0im   0.0+1.0im\n",
       " 1.0+0.0im  -1.0+0.0im   1.0+0.0im  -1.0+0.0im\n",
       " 1.0+0.0im   0.0+1.0im  -1.0+0.0im   0.0-1.0im"
      ]
     },
     "execution_count": 18,
     "metadata": {},
     "output_type": "execute_result"
    }
   ],
   "source": [
    "F(4)"
   ]
  },
  {
   "cell_type": "code",
   "execution_count": 19,
   "metadata": {},
   "outputs": [
    {
     "data": {
      "text/plain": [
       "8×8 Array{Complex{Float64},2}:\n",
       " 1.0+0.0im        1.0+0.0im       …   1.0+0.0im        1.0+0.0im     \n",
       " 1.0+0.0im   0.707107-0.707107im      0.0+1.0im   0.707107+0.707107im\n",
       " 1.0+0.0im        0.0-1.0im          -1.0+0.0im        0.0+1.0im     \n",
       " 1.0+0.0im  -0.707107-0.707107im      0.0-1.0im  -0.707107+0.707107im\n",
       " 1.0+0.0im       -1.0+0.0im           1.0+0.0im       -1.0+0.0im     \n",
       " 1.0+0.0im  -0.707107+0.707107im  …   0.0+1.0im  -0.707107-0.707107im\n",
       " 1.0+0.0im        0.0+1.0im          -1.0+0.0im        0.0-1.0im     \n",
       " 1.0+0.0im   0.707107+0.707107im      0.0-1.0im   0.707107-0.707107im"
      ]
     },
     "execution_count": 19,
     "metadata": {},
     "output_type": "execute_result"
    }
   ],
   "source": [
    "F(8)"
   ]
  },
  {
   "cell_type": "markdown",
   "metadata": {},
   "source": [
    "$$F_8[:, \\mathrm{even columns, odd columns}] = \\begin{bmatrix} F_4 & D_4  F_4 \\\\ F_4 & -D_4 F_4  \\end{bmatrix}$$\n",
    "\n",
    "The $D_4$s are called **twiddle factors**."
   ]
  },
  {
   "cell_type": "code",
   "execution_count": 20,
   "metadata": {},
   "outputs": [
    {
     "data": {
      "text/plain": [
       "4×4 Array{Complex{Float64},2}:\n",
       " 1.0+0.0im   1.0+0.0im   1.0+0.0im   1.0+0.0im\n",
       " 1.0+0.0im   0.0-1.0im  -1.0+0.0im   0.0+1.0im\n",
       " 1.0+0.0im  -1.0+0.0im   1.0+0.0im  -1.0+0.0im\n",
       " 1.0+0.0im   0.0+1.0im  -1.0+0.0im   0.0-1.0im"
      ]
     },
     "execution_count": 20,
     "metadata": {},
     "output_type": "execute_result"
    }
   ],
   "source": [
    "F4 = F(4)"
   ]
  },
  {
   "cell_type": "code",
   "execution_count": 21,
   "metadata": {},
   "outputs": [
    {
     "data": {
      "text/plain": [
       "true"
      ]
     },
     "execution_count": 21,
     "metadata": {},
     "output_type": "execute_result"
    }
   ],
   "source": [
    "F8[:, [1, 3, 5, 7, 2, 4, 6, 8]][1:4, 1:4] == F(4)"
   ]
  },
  {
   "cell_type": "code",
   "execution_count": 22,
   "metadata": {},
   "outputs": [
    {
     "data": {
      "text/plain": [
       "true"
      ]
     },
     "execution_count": 22,
     "metadata": {},
     "output_type": "execute_result"
    }
   ],
   "source": [
    "F8[:, [1, 3, 5, 7, 2, 4, 6, 8]][5:8, 1:4] == F(4)"
   ]
  },
  {
   "cell_type": "code",
   "execution_count": 23,
   "metadata": {},
   "outputs": [
    {
     "data": {
      "text/plain": [
       "4×4 Array{Complex{Float64},2}:\n",
       " 1.0+0.0im       0.0+0.0im       0.0+0.0im        0.0+0.0im     \n",
       " 0.0+0.0im  0.707107-0.707107im  0.0+0.0im        0.0+0.0im     \n",
       " 0.0+0.0im       0.0+0.0im       0.0-1.0im        0.0+0.0im     \n",
       " 0.0+0.0im       0.0+0.0im       0.0+0.0im  -0.707107-0.707107im"
      ]
     },
     "execution_count": 23,
     "metadata": {},
     "output_type": "execute_result"
    }
   ],
   "source": [
    "F8[:, [1, 3, 5, 7, 2, 4, 6, 8]][1:4, 5:8] * inv(F4)"
   ]
  },
  {
   "cell_type": "code",
   "execution_count": 24,
   "metadata": {},
   "outputs": [
    {
     "data": {
      "text/plain": [
       "4×4 Array{Complex{Float64},2}:\n",
       " -1.0+0.0im        0.0+0.0im       0.0+0.0im       0.0+0.0im     \n",
       "  0.0+0.0im  -0.707107+0.707107im  0.0+0.0im       0.0+0.0im     \n",
       "  0.0+0.0im        0.0+0.0im       0.0+1.0im       0.0+0.0im     \n",
       "  0.0+0.0im        0.0+0.0im       0.0+0.0im  0.707107+0.707107im"
      ]
     },
     "execution_count": 24,
     "metadata": {},
     "output_type": "execute_result"
    }
   ],
   "source": [
    "(F8[:, [1, 3, 5, 7, 2, 4, 6, 8]][5:8, 5:8]) * inv(F4)"
   ]
  },
  {
   "cell_type": "code",
   "execution_count": 209,
   "metadata": {},
   "outputs": [
    {
     "data": {
      "text/plain": [
       "9×9 Array{Complex{Float64},2}:\n",
       " 1.0+0.0im        1.0+0.0im       …        1.0+0.0im     \n",
       " 1.0+0.0im   0.766044-0.642788im      0.766044+0.642788im\n",
       " 1.0+0.0im   0.173648-0.984808im      0.173648+0.984808im\n",
       " 1.0+0.0im       -0.5-0.866025im          -0.5+0.866025im\n",
       " 1.0+0.0im  -0.939693-0.34202im      -0.939693+0.34202im \n",
       " 1.0+0.0im  -0.939693+0.34202im   …  -0.939693-0.34202im \n",
       " 1.0+0.0im       -0.5+0.866025im          -0.5-0.866025im\n",
       " 1.0+0.0im   0.173648+0.984808im      0.173648-0.984808im\n",
       " 1.0+0.0im   0.766044+0.642788im      0.766044-0.642788im"
      ]
     },
     "execution_count": 209,
     "metadata": {},
     "output_type": "execute_result"
    }
   ],
   "source": [
    "F9 = F(9)"
   ]
  },
  {
   "cell_type": "code",
   "execution_count": 210,
   "metadata": {},
   "outputs": [
    {
     "data": {
      "text/plain": [
       "9-element Array{Float64,1}:\n",
       " 3.000000000000001 \n",
       " 3.0000000000000004\n",
       " 3.0               \n",
       " 3.0               \n",
       " 3.0               \n",
       " 3.0               \n",
       " 3.0               \n",
       " 3.0               \n",
       " 3.0               "
      ]
     },
     "execution_count": 210,
     "metadata": {},
     "output_type": "execute_result"
    }
   ],
   "source": [
    "svdvals(F9)"
   ]
  },
  {
   "cell_type": "code",
   "execution_count": 211,
   "metadata": {},
   "outputs": [
    {
     "data": {
      "text/plain": [
       "9×9 Array{Complex{Float64},2}:\n",
       " 0.333333+0.0im   0.333333+0.0im       …   0.333333+0.0im     \n",
       " 0.333333+0.0im   0.255348-0.214263im      0.255348+0.214263im\n",
       " 0.333333+0.0im  0.0578827-0.328269im     0.0578827+0.328269im\n",
       " 0.333333+0.0im  -0.166667-0.288675im     -0.166667+0.288675im\n",
       " 0.333333+0.0im  -0.313231-0.114007im     -0.313231+0.114007im\n",
       " 0.333333+0.0im  -0.313231+0.114007im  …  -0.313231-0.114007im\n",
       " 0.333333+0.0im  -0.166667+0.288675im     -0.166667-0.288675im\n",
       " 0.333333+0.0im  0.0578827+0.328269im     0.0578827-0.328269im\n",
       " 0.333333+0.0im   0.255348+0.214263im      0.255348-0.214263im"
      ]
     },
     "execution_count": 211,
     "metadata": {},
     "output_type": "execute_result"
    }
   ],
   "source": [
    "U = F9 /3"
   ]
  },
  {
   "cell_type": "code",
   "execution_count": 212,
   "metadata": {},
   "outputs": [
    {
     "data": {
      "text/plain": [
       "9-element Array{Float64,1}:\n",
       " 1.0000000000000002\n",
       " 1.0000000000000002\n",
       " 1.0000000000000002\n",
       " 1.0               \n",
       " 1.0               \n",
       " 0.9999999999999999\n",
       " 0.9999999999999999\n",
       " 0.9999999999999999\n",
       " 0.9999999999999999"
      ]
     },
     "execution_count": 212,
     "metadata": {},
     "output_type": "execute_result"
    }
   ],
   "source": [
    "svdvals(U)"
   ]
  },
  {
   "cell_type": "code",
   "execution_count": 214,
   "metadata": {},
   "outputs": [
    {
     "data": {
      "text/plain": [
       "9×9 Array{Complex{Float64},2}:\n",
       " -0.0+0.0im  -0.0+0.0im  -0.0-0.0im  …   0.0+0.0im   0.0-0.0im   0.0+0.0im\n",
       " -0.0-0.0im  -0.0+0.0im  -0.0-0.0im      0.0+0.0im  -0.0+0.0im   0.0-0.0im\n",
       " -0.0+0.0im  -0.0+0.0im  -0.0+0.0im      0.0+0.0im  -0.0-0.0im   0.0-0.0im\n",
       "  0.0+0.0im   0.0-0.0im   0.0-0.0im      0.0-0.0im  -0.0+0.0im   0.0-0.0im\n",
       "  0.0-0.0im  -0.0+0.0im  -0.0+0.0im      0.0-0.0im  -0.0-0.0im  -0.0-0.0im\n",
       "  0.0+0.0im  -0.0+0.0im  -0.0-0.0im  …   0.0+0.0im   0.0+0.0im  -0.0-0.0im\n",
       "  0.0-0.0im   0.0-0.0im   0.0-0.0im      0.0+0.0im   0.0+0.0im  -0.0-0.0im\n",
       "  0.0+0.0im  -0.0-0.0im  -0.0+0.0im      0.0-0.0im   0.0+0.0im  -0.0-0.0im\n",
       "  0.0-0.0im   0.0+0.0im   0.0+0.0im     -0.0+0.0im  -0.0+0.0im  -0.0+0.0im"
      ]
     },
     "execution_count": 214,
     "metadata": {},
     "output_type": "execute_result"
    }
   ],
   "source": [
    "round.(U'U - I, digits=3)"
   ]
  },
  {
   "cell_type": "code",
   "execution_count": null,
   "metadata": {},
   "outputs": [],
   "source": [
    "inv( F(n) ) === F(n)' /n"
   ]
  },
  {
   "cell_type": "markdown",
   "metadata": {},
   "source": [
    "\"Decimation in time or in frequency\""
   ]
  },
  {
   "cell_type": "code",
   "execution_count": 216,
   "metadata": {},
   "outputs": [
    {
     "data": {
      "text/plain": [
       "7-element Array{Float64,1}:\n",
       " 0.6717298008081531  \n",
       " 0.014357361990954345\n",
       " 0.039527773555082316\n",
       " 0.4167459240196358  \n",
       " 0.3102124881897677  \n",
       " 0.2984453299460128  \n",
       " 0.25814845173708945 "
      ]
     },
     "execution_count": 216,
     "metadata": {},
     "output_type": "execute_result"
    }
   ],
   "source": [
    "X = randn(7,7)\n",
    "A = X*Diagonal(rand(7))*inv(X)\n",
    "eigvals(A)"
   ]
  },
  {
   "cell_type": "code",
   "execution_count": 157,
   "metadata": {},
   "outputs": [
    {
     "data": {
      "text/plain": [
       "7×7 Array{Float64,2}:\n",
       "  -1.76372  -2.14744  -0.940061   -3.06001   0.301288    2.35299   1.38224\n",
       "  -6.57196  -4.67556  -2.12314    -7.50232  -0.21246     6.25122   4.16472\n",
       "  -3.4987   -2.71328  -0.578862   -3.62177  -0.150788    3.24728   1.97447\n",
       "  -3.00391  -2.60671  -0.827443   -2.58486   0.321929    2.62692   2.14141\n",
       "   2.68134   2.17996   0.93986     3.14188   0.543476   -2.54784  -1.67706\n",
       " -11.1669   -9.40423  -3.59005   -12.7354    0.494962   11.0714    7.22144\n",
       "  -3.07029  -2.501    -1.06779    -3.46178  -0.0469495   2.86081   2.44993"
      ]
     },
     "execution_count": 157,
     "metadata": {},
     "output_type": "execute_result"
    }
   ],
   "source": [
    "A"
   ]
  },
  {
   "cell_type": "code",
   "execution_count": 241,
   "metadata": {},
   "outputs": [
    {
     "data": {
      "text/plain": [
       "7×7 Array{Float64,2}:\n",
       "  0.672  -0.072   0.078   0.139   0.043   2.128   0.122\n",
       " -0.0     0.417   0.042   0.019   0.047   0.312   0.137\n",
       "  0.0    -0.0     0.31    0.002   0.0    -0.038   0.047\n",
       " -0.0    -0.0    -0.001   0.298   0.062   0.669   0.303\n",
       " -0.0     0.0     0.0     0.0     0.258   0.603  -0.138\n",
       " -0.0    -0.0     0.0     0.0    -0.0     0.04   -0.001\n",
       "  0.0     0.0    -0.0    -0.0     0.0    -0.0     0.014"
      ]
     },
     "execution_count": 241,
     "metadata": {},
     "output_type": "execute_result"
    }
   ],
   "source": [
    "Q,R = qr(A)\n",
    "A = R*Q\n",
    "round.(A,digits=3)"
   ]
  },
  {
   "cell_type": "code",
   "execution_count": null,
   "metadata": {},
   "outputs": [],
   "source": []
  },
  {
   "cell_type": "code",
   "execution_count": null,
   "metadata": {},
   "outputs": [],
   "source": []
  }
 ],
 "metadata": {
  "@webio": {
   "lastCommId": "a104387bcc3a46998d95d4232335d56b",
   "lastKernelId": "ff0b2550-d4f2-44da-a29b-2973471c31af"
  },
  "kernelspec": {
   "display_name": "Julia 1.1.0",
   "language": "julia",
   "name": "julia-1.1"
  },
  "language_info": {
   "file_extension": ".jl",
   "mimetype": "application/julia",
   "name": "julia",
   "version": "1.1.0"
  },
  "widgets": {
   "state": {
    "7af8e045-8015-45d6-93c9-dd5e365f6bea": {
     "views": [
      {
       "cell_index": 9
      }
     ]
    },
    "8e4ab1af-4fb7-4039-9b54-c3c1e791648d": {
     "views": [
      {
       "cell_index": 11
      }
     ]
    }
   },
   "version": "1.2.0"
  }
 },
 "nbformat": 4,
 "nbformat_minor": 1
}
