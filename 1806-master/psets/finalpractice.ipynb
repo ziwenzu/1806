{
 "cells": [
  {
   "cell_type": "markdown",
   "metadata": {},
   "source": [
    "# Additional practice problems for 18.06 final"
   ]
  },
  {
   "cell_type": "markdown",
   "metadata": {},
   "source": [
    "### Problem 1\n",
    "\n",
    "Give a brief and convincing argument.  (Not an example.)"
   ]
  },
  {
   "cell_type": "markdown",
   "metadata": {},
   "source": [
    "(1a) The square of a symmetric matrix is symmetric."
   ]
  },
  {
   "cell_type": "markdown",
   "metadata": {},
   "source": [
    "(1b) The square of a projection matrix is a projection matrix."
   ]
  },
  {
   "cell_type": "markdown",
   "metadata": {},
   "source": [
    "(1c) The square of a matrix with positive entries has positive entries."
   ]
  },
  {
   "cell_type": "markdown",
   "metadata": {},
   "source": [
    "(1d) The square of a positive definite matrix is positive definite."
   ]
  },
  {
   "cell_type": "markdown",
   "metadata": {},
   "source": [
    "(1d) The square of a positive Markov matrix is a positive Markov matrix."
   ]
  },
  {
   "cell_type": "markdown",
   "metadata": {},
   "source": [
    "(1e) The square of an orthogonal matrix is orthogonal."
   ]
  },
  {
   "cell_type": "markdown",
   "metadata": {},
   "source": [
    "### Problem 2\n",
    "\n",
    "Find a $2\\times 2$ matrix that is Markov and Positive Definite."
   ]
  },
  {
   "cell_type": "markdown",
   "metadata": {},
   "source": [
    "### Problem 3\n",
    "\n",
    "Am I a vector space? Why or why not?"
   ]
  },
  {
   "cell_type": "markdown",
   "metadata": {},
   "source": [
    "(3a) All nxn matrices with determinant 1."
   ]
  },
  {
   "cell_type": "markdown",
   "metadata": {},
   "source": [
    "(3b) Given a fixed $n\\times n$ matrix $A$, the set of linear tranformations of the form $f(X) = AX + XA$."
   ]
  },
  {
   "cell_type": "markdown",
   "metadata": {},
   "source": [
    "(3c)  The set consisting of nxn matrices A that are either positive definite, or -A is positive definite, or A is the zero matrix."
   ]
  },
  {
   "cell_type": "markdown",
   "metadata": {},
   "source": [
    "(3d) The set of nxn matrices of the form $A-A^T$."
   ]
  },
  {
   "cell_type": "markdown",
   "metadata": {},
   "source": [
    "(3e)  Matrix Polynomials of the form $P(X) = A + BX + CX^2$, where $X$ is an indeterminate (symbolic) $n\\times n$ matrix."
   ]
  },
  {
   "cell_type": "markdown",
   "metadata": {},
   "source": [
    "### Problem 4\n",
    "\n",
    "Suppose $Q$ is an orthogonal eigenvector matrix of some symmetric matrix $S$, and $x$ is the sum of the columns of $Q$. What is $x^TSx$ in terms of the eigenvalues of $S$?"
   ]
  },
  {
   "cell_type": "markdown",
   "metadata": {},
   "source": [
    "### Problem 5\n",
    "\n",
    "Set up a matrix least squares problem if we are interested in taking $n$ data points $(x_i,y_i)$ and we wish to find the best function $f(x)=c_1 \\sin(x) + c_2 \\cos(x)$ through the data points.\n",
    "Write the solution to the least squares problem in terms of the compact SVD of your matrix."
   ]
  },
  {
   "cell_type": "markdown",
   "metadata": {},
   "source": [
    "### Problem 6\n",
    "\n",
    "Find a basis for the following vector spaces:"
   ]
  },
  {
   "cell_type": "markdown",
   "metadata": {},
   "source": [
    "(6a) Polynomials of degree at  most 4 whose 2nd and 3rd derivatives at 0 are 0."
   ]
  },
  {
   "cell_type": "markdown",
   "metadata": {},
   "source": [
    "(6b) 2x2 matrices for which trace($A^TX$)=0 where $A$ is the $2\\times 2$ \"ones\" matrix."
   ]
  },
  {
   "cell_type": "markdown",
   "metadata": {},
   "source": [
    "### Problem 7\n",
    "\n",
    "One definition of a symmetric matrix $S$ is that $S_{ij}=S_{ji}$ for all pairs $(i,j)$."
   ]
  },
  {
   "cell_type": "markdown",
   "metadata": {},
   "source": [
    "There are six permutations of three indices $ijk$: $ijk$,$ikj$,$jik$, etc.  Find a basis for all symmetric $2\\times 2 \\times 2$ arrays, where symmetric is defined such that $S_{ijk} =  S_{ikj} = S_{jik} = ... $ (Six items all equal.)"
   ]
  },
  {
   "cell_type": "markdown",
   "metadata": {},
   "source": [
    "### Problem 8\n",
    "\n",
    "What is the dimension of the vector space of linear transformations from $2\\times 2\\times 2$ matrices to polynomials of degree 9?"
   ]
  },
  {
   "cell_type": "markdown",
   "metadata": {},
   "source": [
    "### Problem 9\n",
    "\n",
    "Let $x$ be a vector from $R^n$.  The vandermonde matrix $V$ is defined as\n",
    "$V_{ij} = x_i^{j-1}$. \n",
    "\n",
    "(9a) Is the set of $2019\\times 2019$ vandermonde matrices a vector space?   <br>\n",
    "\n",
    "(9b) How many parameters are needed to represent an $n\\times n$  vandermonde matrix on a computer? <br>\n",
    "\n",
    "(9c) Suppose $V$ is an invertible  vandermonde for a vector $x$ in $\\mathbb{R}^n$.  Let $y$ be a vector in $\\mathbb{R}^n$. The vector $c$ that satisfies $Vc=y$ are the coefficients of some polynomial.  This polynomial goes through which $n$ points?"
   ]
  },
  {
   "cell_type": "markdown",
   "metadata": {},
   "source": [
    "(9d) Can a 2x2 vandermonde be positive Markov?"
   ]
  },
  {
   "cell_type": "markdown",
   "metadata": {},
   "source": [
    "(9e) Can a  2x2 vandermonde be positive definite?"
   ]
  },
  {
   "cell_type": "markdown",
   "metadata": {},
   "source": [
    "### Problem 10\n",
    "\n",
    "Compute the gradient of  $f(x)=x^𝑇x+w^Tx$  without the use of indices, where $x$ and $w$ are in $\\mathbb{R}^n$."
   ]
  },
  {
   "cell_type": "markdown",
   "metadata": {},
   "source": [
    "### Problem 11\n",
    "\n",
    "Compute the gradient of $f(A)=  trace(A^T A) + trace(W^T A)$, where the matrices are $n \\times n$. The answer should be in the form of an $n\\times n$ matrix."
   ]
  },
  {
   "cell_type": "markdown",
   "metadata": {},
   "source": [
    "### Problem 12\n",
    "\n",
    "Explain the following: If $A$ is a two by two rotation through a positive acute angle $\\theta$, then $A$ can not have real eigenvalues."
   ]
  },
  {
   "cell_type": "markdown",
   "metadata": {},
   "source": [
    "### Problem 13\n",
    "\n",
    "Compute $d(A^3)$ in terms of $A$ and $dA$."
   ]
  },
  {
   "cell_type": "markdown",
   "metadata": {},
   "source": [
    "### Problem 14\n",
    "\n",
    "What is the eigenvector with negative eigenvalue of the reflection matrix $I-2xx^T/x^Tx$? "
   ]
  },
  {
   "cell_type": "markdown",
   "metadata": {},
   "source": [
    "### Problem 15\n",
    "\n",
    "What is the trace of a rank one projection matrix?"
   ]
  },
  {
   "cell_type": "markdown",
   "metadata": {},
   "source": [
    "### Problem 16\n",
    "\n",
    "The number of nonzero eigenvalues of a symmetric matrix is always (a) greather than or equal to the rank (b) less than or equal to the rank (c) equal to the rank.  Pick the best answer and explain."
   ]
  },
  {
   "cell_type": "markdown",
   "metadata": {},
   "source": [
    "### Problem 17\n",
    "\n",
    "A markov matrix has second eigenvalue $\\lambda_2 = \\left(\\frac{1}{1000}\\right)^{\\frac{1}{1806}}$ and all other eigenvalues much smaller. After 1806 transition steps, approximately how many digits of the steady state might you expect to see?"
   ]
  },
  {
   "cell_type": "markdown",
   "metadata": {},
   "source": [
    "### Problem 18\n",
    "\n",
    "A symmetric matrix has eigenvalues $1,2,3,4,5$.  Give a direct argument (without using the 7 equivalent properties of positive definite matrices) that $x^T S x>0$ if $x$ is not $0$."
   ]
  },
  {
   "cell_type": "markdown",
   "metadata": {},
   "source": [
    "### Problem 19\n",
    "\n",
    "Find a diagonal similarity transformation that proves that the matrix $\\begin{pmatrix} 1 & 5 \\\\ 0 & 1 \\end{pmatrix}$  is similar to $\\begin{pmatrix} 1 & 10 \\\\ 0 & 1 \\end{pmatrix}$."
   ]
  },
  {
   "cell_type": "markdown",
   "metadata": {},
   "source": [
    "### Problem 20\n",
    "\n",
    "Suppose that $A = QBQ^T$ where $Q$ is orthogonal but $A$ and $B$ need not be symmetric."
   ]
  },
  {
   "cell_type": "markdown",
   "metadata": {},
   "source": [
    "(20a)  Are $A$ and $B$ necessarily similar?"
   ]
  },
  {
   "cell_type": "markdown",
   "metadata": {},
   "source": [
    "(20b) Do $A$ and $B$ necessarily have the same singular values?"
   ]
  },
  {
   "cell_type": "markdown",
   "metadata": {},
   "source": [
    "(21) If $A$ is positive definite and $X$ is non-singular, is $X^TAX$ necessarily positive definite?  Explain briefly."
   ]
  },
  {
   "cell_type": "markdown",
   "metadata": {},
   "source": [
    "(22) Are the matrices similar to a positive Markov matrices necessarily positive Markov?"
   ]
  },
  {
   "cell_type": "code",
   "execution_count": null,
   "metadata": {},
   "outputs": [],
   "source": []
  }
 ],
 "metadata": {
  "kernelspec": {
   "display_name": "Julia 1.0.0",
   "language": "julia",
   "name": "julia-1.0"
  },
  "language_info": {
   "file_extension": ".jl",
   "mimetype": "application/julia",
   "name": "julia",
   "version": "1.0.3"
  }
 },
 "nbformat": 4,
 "nbformat_minor": 2
}
