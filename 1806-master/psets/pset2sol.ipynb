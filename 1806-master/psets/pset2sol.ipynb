{
 "cells": [
  {
   "cell_type": "markdown",
   "metadata": {},
   "source": [
    "# 18.06 Spring2019 pset 2 \n",
    "## due Wednesday  2/20 at 10:55am"
   ]
  },
  {
   "cell_type": "markdown",
   "metadata": {},
   "source": [
    "Note about pedagogical style: Your professor tends to use the technique of \"foreshadowing.\"  This means that you may see a notion in the homework that we believe you are ready to attack at this point in the class,  but the bigger picture emerges later. It is well known that most students learn best this way.  Of course if you start googling around, you can see the bigger picture earlier, at least with some other author's notation or point of view.  I can't and wouldn't stop you, but rest assured you will see concepts over and over again in expanding waves in this class. <br> <br>\n",
    "If you need to know where we are heading, I am planning to cover all of the results (but not the methods in) Strang's chapters 2 and 3 by leading up to the SVD (singular value decomposition) without any mention of pivot variables, free variables, or eigenvalues.  This means you are less likely to understand how to hand compute the various concepts, and more likely to understand them conceptually.  This gives us time to also show you some applications.  It is indeed an experiment, which is why I welcome feedback, positive and negative, during my many, office hours, but I honestly feel in my heart that I am providing a valuable approach.\n",
    "<br><br>\n",
    "The problem sets are meant to be learning experiences, and perhaps more challenging than you are familiar with.  This is not going to be the style of class where you find a similar problem in the lecture notes and just repeat.  You may have to reach back into the 18.02 prerequisites for this class.  You may learn a lot by working with other students in the class.  There is a lot to be learned  [at the math learning center](https://math.mit.edu/learningcenter/), in recitations, during the TAs office hours, and my numerous office hours.  No promises that 18.06 is easy, only that you will learn a lot!\n",
    "\n",
    "All questions are 10 points, problem 10 will be a freebie if you execute it. (Coming soon)"
   ]
  },
  {
   "cell_type": "markdown",
   "metadata": {},
   "source": [
    "### 1. Warmup questions  (10 points, -1 for wrong answers until 0 is reached)\n",
    "   Reminder: in mathematical contexts the distinction between an n-vector and an nx1 single column matrix tends to be blurred.  On computers this can and does cause problems.  In the following, we will blur the distinction. For these problems, some of you will know how to do it from the prerequisites, some will ask your friends or your recitation instructor, but in any event you will strengthen your general feel for linear algebra.<br> \n",
    "    Some places worth looking for answers are Strang Section 1.2, page 194, VMLS page 58.  The definition of a [normal](https://en.wikipedia.org/wiki/Normal_(geometry)), the definition of a [gradient](https://www.khanacademy.org/math/multivariable-calculus/multivariable-derivatives/partial-derivative-and-gradient-articles/a/the-gradient), the definition of a [plane](http://mathworld.wolfram.com/Plane.html) and the definition of a [hyperplane](http://mathworld.wolfram.com/Hyperplane.html) which generalizes a plane. Also ||v|| = sqrt(vᵀv), is the length of a vector v, sometimes pronounced the norm of v, or the magnitude of v.  \n",
    "   \n",
    "   \n",
    "   \n",
    "   \n",
    "       1a. If vᵀw=0 we say that v and w are a) perpendicular b) orthogonal c) at right angles d) all the above.\n",
    "       1b. The equation 2x+3y+4z = 0 describes a a) line  b)  plane through 0  c)  plane not through 0 d) sphere\n",
    "       1c. A normal to your answer in 1b is __________?\n",
    "       1d. The equation 2x+3y+4z = 2019 describes a a) line  b)  plane through 0  c)  plane not through 0 d) sphere\n",
    "       1e. A normal to your answer in 1d is __________?\n",
    "       1f. The equation x²+y²+z²=1 describes a a) line  b)  plane through 0  c)  plane not through 0 d) sphere\n",
    "       1g. A normal to your answer in 1f is __________?  (Hint: ok to use intuition from two or three dimensions)\n",
    "       1h. Calculate the gradient of f(x,y,z) = 2x+3y+4z\n",
    "       1i. Calculate the gradient of f(x,y,z) = x²+y²+z² \n",
    "       1j. The inequality 2x+3y+4z > 0 describes a region of 3 dimensional space.  Describe that region:_____\n",
    "       1k. The inequality 2x+3y+4z < 2019 describes a region of 3 dimensional space.  Describe that region:_____\n",
    "       1l.  Using vector language in Rⁿ, (no elements or indices)  write an equation that describes every v on the hyperplane through 0 with given normal vector w (not 0).  \n",
    "       1m. Give an example of a hyperplane parallel to the hyperplane in 1l above that does  not go through 0.\n",
    "       1n. Suppose given a nonzero w that we consider the hyperplane of all v for which  wᵀv=1.  Find the unique vector v (in terms of w) that is on this hyperplane in the direction w.  (It is helpful to define ||w|| as the length of w.) \n",
    "\n",
    "       "
   ]
  },
  {
   "cell_type": "markdown",
   "metadata": {},
   "source": [
    "## Solution\n",
    "\n",
    "1a. d) all the above.\n",
    "\n",
    "1b. b)  plane through $0$.\n",
    "\n",
    "1c. $(2,3,4)$.\n",
    "\n",
    "1d. c)  plane not through $0$.\n",
    "\n",
    "1e. $(2,3,4)$.\n",
    "\n",
    "1f. d) sphere\n",
    "\n",
    "1g. $(x,y,z)$.\n",
    "\n",
    "1h. $(2,3,4)$.\n",
    "\n",
    "1i. $(2x,2y,2z)$ \n",
    "\n",
    "1j. The plane $2x+3y+4z = 0$ divides $\\mathbb{R}^3$ into two half spaces. The region $2x+3y+4z > 0$ is the half space containing the point $(2,3,4)$.\n",
    "\n",
    "1k. The plane $2x+3y+4z = 2019$ divides $\\mathbb{R}^3$ into two half spaces. The region 2x+3y+4z < 2019 is the half space containing the point $(0,0,0)$.\n",
    "\n",
    "1l. $w^T v = 0$.  \n",
    "\n",
    "1m. Any $w^Tv = c$ where $c \\ne 0$.\n",
    "\n",
    "1n. $v = \\frac{w}{w^Tw}$"
   ]
  },
  {
   "cell_type": "markdown",
   "metadata": {},
   "source": [
    "## 2. (Real) Vector Spaces (10 points) (Strang page 123, Lecture 2 slides)\n",
    "\n",
    "a) If $v$ is a vector in any vector space, what is the complete list of vectors that must also be in this vector space?\n",
    "\n",
    "b) Must a vector space contain a zero vector?  Why?\n",
    "\n",
    "c) What is the zero vector in $R^4$? in $R^{2,3}$? What is the zero function?  What is the zero  (differential) operator from functions to functions? (Hint: The zero  operator takes in an arbitrary function and returns....)\n",
    "\n",
    "d) State in words the difference between the zero function and the zero operator, as they seem so similar."
   ]
  },
  {
   "cell_type": "markdown",
   "metadata": {},
   "source": [
    "## Solution\n",
    "\n",
    "a) The set of all $cv$ where $c \\in \\mathbb{R}$ is the complete list of vectors that must also be in this vector space.\n",
    "\n",
    "b) This is by definition of a vector space. Alternatively, $0v = 0$.\n",
    "\n",
    "c) The zero in $\\mathbb{R}^4$ is $(0,0,0,0)$. The zero in $\\mathbb{R}^{2,3}$ is $\\begin{pmatrix} 0 & 0 & 0 \\\\ 0 & 0 & 0 \\end{pmatrix}$. Given some domain $D$, the zero function is the function $z(x) = 0$ for every $x \\in D$. The zero operator $Z$ is the operator which takes a function $f$ and maps it to the zero function $z$.\n",
    "\n",
    "d) The zero function maps to the point $0$ whereas the zero operator maps to the zero function."
   ]
  },
  {
   "cell_type": "markdown",
   "metadata": {},
   "source": [
    "## 3. Am I a vector space?  (The basic question here is whether every linear combination is in the space.  If there is no zero, then I'm for sure not a vector space.)"
   ]
  },
  {
   "cell_type": "markdown",
   "metadata": {},
   "source": [
    "a) All vectors in $R^n$ whose entries sum to 0.\n",
    "\n",
    "b) All matrices in $R^{m,n}$ whose entries when squared sum to 1.\n",
    "\n",
    "c) Cubic polynomials of the form $f(x) = a + bx + cx^2 + dx^3$, where $a,b,c,d$ are arbitrary, possibly 0.\n",
    "\n",
    "d) All linear functions of the form $f(x) = mx +b$, where $f(17)=0$. ($m$ or $b$ may possibly be 0)\n",
    "\n",
    "e)  All linear functions of the form $f(x) = mx +b$, where $f(0)=17$.($m$ or $b$ may possibly be 0)"
   ]
  },
  {
   "cell_type": "markdown",
   "metadata": {},
   "source": [
    "## Solution\n",
    "\n",
    "a) This is a vector space. If $(a_1,\\ldots,a_n), (b_1,\\ldots,b_n) \\in \\mathbb{R}^n$ such that\n",
    "$$ a_1 + \\cdots + a_n = 0, \\quad b_1 + \\cdots + b_n = 0 $$\n",
    "then for any $c,d \\in \\mathbb{R}$ we have\n",
    "$$ c(a_1,\\ldots,a_n) + d(b_1,\\ldots,b_n) = (ca_1 + db_1,\\ldots,ca_n + db_n) $$\n",
    "where\n",
    "$$ ca_1 + db_1 + \\cdots + ca_n + db_n = c(a_1 + \\cdots + a_n) + d(b_1 + \\cdots + b_n) = 0. $$\n",
    "\n",
    "b) This is not a vector space. Indeed, the zero matrix is not in this space since the squared sum of the entries is $0$.\n",
    "\n",
    "c) This is a vector space. If $f_1(x) = a_1 + b_1 x + c_1 x^2 + d_1 x^3$ and $f_2(x) = a_2 + b_2 x + c_2 x^2 + d_1 x^3$, then for any $e_1,e_2 \\in \\mathbb{R}$ we have\n",
    "$$ e_1 f_1(x) + e_2 f_2(x) = (e_1 a_1 + e_2 a_2) + (e_1 b_1 + e_2 b_2) x + (e_1 c_1 + e_2 c_2) x^2 + (e_1 d_1 + e_2 d_2) x^3. $$\n",
    "\n",
    "d) This is a vector space. If $f(x) = mx + b$ and $g(x) = nx + c$, then for any $d,e \\in \\mathbb{R}$ we have\n",
    "$$ d f(x) + e g(x) = (dm + en)x + (db + ec). $$\n",
    "Furthermore, if $f(17) = 0$ and $g(17) = 0$, then\n",
    "$$ d f(17) + e g(17) = 0. $$\n",
    "\n",
    "e) This is not a vector space. Indeed, the zero function $z$ satisfies $z(0) = 0 \\ne 17$."
   ]
  },
  {
   "cell_type": "markdown",
   "metadata": {},
   "source": [
    "## 4. Nullspace\n",
    "\n",
    "A fact you are supposed to already know about matrices is that $M(cv+dw) = cMv+dMw$, if $M$ is any matrix, $c$ and $d$ are any scalars, and $v$ and $w$ are any vectors.  \n",
    "\n",
    "Suppose for some particular rectangular matrix $M$, we have $Mv=0$ and $Mw=0$ for some particular vectors $v$ and $w$.  Is it true that if $x$ is a linear combination of $v$ and $w$ then $Mx$ is also 0? Why?\n",
    "\n",
    "The set of vectors $x$ for which $Mx=0$ is known as the nullspace of $M$.  For an mxn matrix, we point out two extremes among the typically infinitely many possibilities: it could be the zero vector in $R^n$ or it could be all of $R^n$. (We will see there are usually lots of possibilities in between.)\n",
    "\n",
    "What is the nullspace of the $n$ by $n$ identity matrix?  The $n$ by $n$ zero matrix?  The $m$ by $n$ matrix of all ones?"
   ]
  },
  {
   "cell_type": "markdown",
   "metadata": {},
   "source": [
    "## Solution\n",
    "\n",
    "True. If $x$ is a linear combination of $v,w$, we may write $x = cv + dw$ for some $c,d \\in \\mathbb{R}$. Then\n",
    "$$ Mx = M(cv + dw) = c Mv + d Mw = 0. $$\n",
    "\n",
    "Suppose $I$ is the $n\\times n$ identity matrix. Then the only vector which satisfies $Ix = 0$ is $x = 0$. Thus the null space of $I$ is $\\{0\\}$.\n",
    "\n",
    "Suppose $Z$ is the $n\\times n$ zero matrix. Then every vector $x \\in \\mathbb{R}^n$ satisfies $Zx = 0$. Thus the null space of $Z$ is $\\mathbb{R}^n$.\n",
    "\n",
    "Let $A$ be the $m\\times n$ matrix of all $1$s. Then\n",
    "$$ A = \\begin{pmatrix} 1 & \\cdots & 1 \\\\ \\vdots & \\ddots & \\vdots \\\\ 1 & \\cdots & 1 \\end{pmatrix} \\begin{pmatrix} x_1 \\\\ \\vdots \\\\ x_n \\end{pmatrix} = \\begin{pmatrix} 0 \\\\ \\vdots \\\\ 0 \\end{pmatrix} $$\n",
    "exactly when \n",
    "$$ x_1 + \\cdots + x_n = 0. $$\n",
    "Thus the null space of $A$ is $\\{(x_1,\\ldots,x_n) \\in \\mathbb{R}^n: x_1 + \\cdots + x_n = 0 \\}$. This is the hyperplane through the origin with normal vector $(1,\\ldots,1)$.\n"
   ]
  },
  {
   "cell_type": "markdown",
   "metadata": {},
   "source": [
    "## 5. Column Space\n",
    "\n",
    "The column space of a matrix $M$ is the set of all vectors $y$ which can be written in the form $Mx$ for some vector $x$.  Why is the column space a vector space?\n",
    "\n",
    "What is the column space of the $n$ by $n$ identity matrix?  The $n$ by $n$ zero matrix?  The $m$ by $n$ matrix of all ones?\n"
   ]
  },
  {
   "cell_type": "markdown",
   "metadata": {},
   "source": [
    "## Solution\n",
    "\n",
    "If $y_1,y_2$ are in the column space of $M$, then $y_1 = Mx_1, y_2 = Mx_2$. Then for any $c,d \\in \\mathbb{R}$ we have\n",
    "$$ cy_1 + dy_2 = cMx_1 + dMx_2 = M(cx_1 + dx_2) $$\n",
    "so that $cy_1 + dy_2$ is in the column space of $M$. This shows the column space is a vector space.\n",
    "\n",
    "Suppose $I$ is the $n\\times n$ identity matrix. Then for each $x \\in \\mathbb{R}^n$, we have $x = Ix$. Thus the column space of $I$ is $\\mathbb{R}^n$.\n",
    "\n",
    "Suppose $Z$ is the $n\\times n$ zero matrix. Then $0 = Zx$ for every $x \\in \\mathbb{R}^n$. Thus the column space of $Z$ is $\\{0\\}$.\n",
    "\n",
    "Suppose $A$ is the  $m\\times n$ matrix of all $1$s. Then\n",
    "$$ A = \\begin{pmatrix} 1 & \\cdots & 1 \\\\ \\vdots & \\ddots & \\vdots \\\\ 1 & \\cdots & 1 \\end{pmatrix} \\begin{pmatrix} x_1 \\\\ \\vdots \\\\ x_n \\end{pmatrix} = \\begin{pmatrix} x_1 + \\cdots + x_n \\\\ \\vdots \\\\ x_1 + \\cdots + x_n \\end{pmatrix}. $$\n",
    "Thus the column space of $A$ is $\\{(c,\\ldots,c): c \\in \\mathbb{R} \\}$. This is the line in the direction of $(1,\\ldots,1)$."
   ]
  },
  {
   "cell_type": "markdown",
   "metadata": {},
   "source": [
    "## 6. Using the SVD\n",
    "\n"
   ]
  },
  {
   "cell_type": "code",
   "execution_count": 1,
   "metadata": {},
   "outputs": [],
   "source": [
    "using LinearAlgebra"
   ]
  },
  {
   "cell_type": "markdown",
   "metadata": {},
   "source": [
    "In Julia if you are given an m x n matrix $A$, Julia returns a matrix $U$, a vector $s$ and a Matrix $V$ for which  A = U * Diagonal(s) * V' (up to floating point roundoff errors) <br>\n",
    "\n",
    "If m >n,  $U$ is m by n, Diagonal(s) is n by n,  and $V$ is n by n. <br>\n",
    "If m < n $U$ is m by m, Diagonal(s) is m by m, and $V$ is n by m.\n",
    "\n",
    "You can remember this because the result is m by n, and the Diagonal(s) is always square whose size is the smaller of m and n.\n",
    "\n",
    "Here are some examples: <br>\n",
    "(Don't forget to execute the using LinearAlgebra) or else svd won't be a known function\n"
   ]
  },
  {
   "cell_type": "code",
   "execution_count": 2,
   "metadata": {},
   "outputs": [
    {
     "name": "stdout",
     "output_type": "stream",
     "text": [
      "(4, 4)(4, 4)(5, 4)\n"
     ]
    }
   ],
   "source": [
    "A = rand(4,5)\n",
    "U,s,V = svd(A)\n",
    "println( size(U), size(Diagonal(s)), size(V))"
   ]
  },
  {
   "cell_type": "code",
   "execution_count": 3,
   "metadata": {},
   "outputs": [
    {
     "name": "stdout",
     "output_type": "stream",
     "text": [
      "(5, 4)(4, 4)(4, 4)\n"
     ]
    }
   ],
   "source": [
    "A = rand(5,4)\n",
    "U,s,V = svd(A)\n",
    "println( size(U), size(Diagonal(s)), size(V))"
   ]
  },
  {
   "cell_type": "markdown",
   "metadata": {},
   "source": [
    "What are the sizes of $U$, $Diagonal(s)$ and $V$ for <br>\n",
    "    a) A 10x10 matrix? <br>\n",
    "    b) A 10x20 matrix? <br>\n",
    "    c) A 20x10 matrix?"
   ]
  },
  {
   "cell_type": "markdown",
   "metadata": {},
   "source": [
    "## Solution\n",
    "\n",
    "If $A$ is $10\\times 10$, then $U$ is $10\\times 10$, $D$ is $10\\times 10$, and $V$ is $10\\times 10$.\n",
    "\n",
    "If $A$ is $10\\times 20$, then $U$ is $10\\times 10$, $D$ is $10\\times 10$, and $V$ is $10\\times 20$.\n",
    "\n",
    "If $A$ is $20\\times 10$, then $U$ is $20\\times 10$, $D$ is $10\\times 10$, and $V$ is $10\\times 10$."
   ]
  },
  {
   "cell_type": "markdown",
   "metadata": {},
   "source": [
    "## 7. It is possible to solve Ax=b for an invertible A using the svd. It's slightly less efficient than LU but usually quite reasonably accurate, even at least as accurate as LU."
   ]
  },
  {
   "cell_type": "markdown",
   "metadata": {},
   "source": [
    "Here is an example from Svetlana's problems posted in Piazza:\n",
    "\n",
    "x + 2y + 3z =1 <br>\n",
    "y + z = 2 <br>\n",
    "3x + y - z =3\n",
    "\n",
    "Solution:\n"
   ]
  },
  {
   "cell_type": "code",
   "execution_count": 52,
   "metadata": {},
   "outputs": [
    {
     "data": {
      "text/plain": [
       "3×3 Array{Int64,2}:\n",
       " 1  2   3\n",
       " 0  1   1\n",
       " 3  1  -1"
      ]
     },
     "execution_count": 52,
     "metadata": {},
     "output_type": "execute_result"
    }
   ],
   "source": [
    "# Form the Matrix\n",
    "A = [1 2 3 ; 0 1 1;3 1 -1]"
   ]
  },
  {
   "cell_type": "code",
   "execution_count": 54,
   "metadata": {},
   "outputs": [
    {
     "data": {
      "text/plain": [
       "3-element Array{Int64,1}:\n",
       " 1\n",
       " 2\n",
       " 3"
      ]
     },
     "execution_count": 54,
     "metadata": {},
     "output_type": "execute_result"
    }
   ],
   "source": [
    "# For the right hand side b\n",
    "b = [1, 2, 3]"
   ]
  },
  {
   "cell_type": "code",
   "execution_count": 59,
   "metadata": {},
   "outputs": [
    {
     "data": {
      "text/plain": [
       "3-element Array{Float64,1}:\n",
       " -0.9999999999999999\n",
       "  4.000000000000002 \n",
       " -1.9999999999999993"
      ]
     },
     "execution_count": 59,
     "metadata": {},
     "output_type": "execute_result"
    }
   ],
   "source": [
    "U,s,V = svd(A)\n",
    "V*((U'b)./s)"
   ]
  },
  {
   "cell_type": "markdown",
   "metadata": {},
   "source": [
    "Don't let floating point fool you, the answer given is -1,4,-2.  Check that the solution is right.  Explain mathematically why V*((U'b)./s) gives the right answer."
   ]
  },
  {
   "cell_type": "markdown",
   "metadata": {},
   "source": [
    "On an exam, you will not be expected to compute an SVD using eigenvalues or a computer.  The SVD story will unfold during the course of the semester."
   ]
  },
  {
   "cell_type": "markdown",
   "metadata": {},
   "source": [
    "## Solution\n",
    "\n",
    "For a square matrix $A$ with SVD $UDV$, the matrices $U,V$ are orthogonal.\n",
    "\n",
    "We have\n",
    "$$ UDVx = Ax = b \\quad \\implies \\quad x = V^T D^{-1} U^Tb $$\n",
    "which corresponds to the given command."
   ]
  },
  {
   "cell_type": "markdown",
   "metadata": {},
   "source": [
    "## 8.  Suppose $W$ is an unknown 2x2 matrix, and we want to approximately find a $W$ that best fits $Wxᵢ=yᵢ$ where x₁,x₂,x₃,y₁,y₂,y₃ are each known 2 vectors?  How would you find $W$ using QR?\n",
    "Hint: this is tricky because the unknowns are the four elements in $W$.  I think this problem is hard."
   ]
  },
  {
   "cell_type": "markdown",
   "metadata": {},
   "source": []
  },
  {
   "cell_type": "markdown",
   "metadata": {},
   "source": [
    "## Solution\n",
    "\n",
    "Write $x_i = (x_{i1}, x_{i2})$ and $y_i = (y_{i1},y_{i2})$. We want to find $W = \\begin{pmatrix} w_{11} & w_{12} \\\\ w_{21} & w_{22} \\end{pmatrix}$ that best approximates\n",
    "$$ y_i = Wx_i, \\quad \\quad i = 1,2,3 $$\n",
    "which we may expand out as\n",
    "$$ y_{ij} = w_{j1} x_{i1} + w_{j2} x_{i2}, \\quad \\quad i = 1,2,3; j = 1,2 $$\n",
    "in the sense of least squares; that is we want $W$ to minimize\n",
    "$$ \\sum_{i=1}^3 \\sum_{j=1}^2 (y_{ij} - w_{j1} x_{i1} - w_{j2} x_{i2})^2. $$\n",
    "\n",
    "We may express these equations as a single matrix equation\n",
    "$$ Y = Xw $$\n",
    "where\n",
    "$$ Y = \\begin{pmatrix} y_{11} \\\\ y_{21} \\\\ y_{31} \\\\ y_{12} \\\\ y_{22} \\\\ y_{32} \\end{pmatrix}, \\quad X = \\begin{pmatrix} x_{11} & x_{12} & 0 & 0 \\\\ x_{21} & x_{22} & 0 & 0 \\\\ x_{31} & x_{32} & 0 & 0 \\\\ 0 & 0 & x_{11} & x_{12} \\\\ 0 & 0 & x_{21} & x_{22} \\\\ 0 & 0 & x_{31} & x_{32} \\end{pmatrix}, \\quad w = \\begin{pmatrix} w_{11} \\\\ w_{12} \\\\ w_{21} \\\\ w_{22} \\end{pmatrix} $$\n",
    "If we factorize $X = QR$ where $Q^T Q = I$ and $R$ is upper triangular with positive entires, then we know that the best fitting $w$ is given by\n",
    "$$ w = \\begin{pmatrix} w_{11} \\\\ w_{12} \\\\ w_{21} \\\\ w_{22} \\end{pmatrix} = R^{-1} Q^T Y.$$"
   ]
  },
  {
   "cell_type": "markdown",
   "metadata": {},
   "source": [
    " ## 9. A Permutation of n \n",
    " is a rearrangement of the numbers 1 through n. Here is a random permutation of 1:5"
   ]
  },
  {
   "cell_type": "code",
   "execution_count": 70,
   "metadata": {},
   "outputs": [
    {
     "data": {
      "text/plain": [
       "5-element Array{Int64,1}:\n",
       " 5\n",
       " 4\n",
       " 2\n",
       " 1\n",
       " 3"
      ]
     },
     "execution_count": 70,
     "metadata": {},
     "output_type": "execute_result"
    }
   ],
   "source": [
    "using Random\n",
    "p = randperm(5)"
   ]
  },
  {
   "cell_type": "markdown",
   "metadata": {},
   "source": [
    "A Permutation matrix is row reordering of the identity matrix"
   ]
  },
  {
   "cell_type": "code",
   "execution_count": 80,
   "metadata": {},
   "outputs": [
    {
     "data": {
      "text/plain": [
       "5×5 Array{Int64,2}:\n",
       " 1  0  0  0  0\n",
       " 0  1  0  0  0\n",
       " 0  0  1  0  0\n",
       " 0  0  0  1  0\n",
       " 0  0  0  0  1"
      ]
     },
     "execution_count": 80,
     "metadata": {},
     "output_type": "execute_result"
    }
   ],
   "source": [
    "ident = Matrix{Int64}(I,5,5)"
   ]
  },
  {
   "cell_type": "code",
   "execution_count": 81,
   "metadata": {},
   "outputs": [
    {
     "data": {
      "text/plain": [
       "5×5 Array{Int64,2}:\n",
       " 0  0  0  0  1\n",
       " 0  0  0  1  0\n",
       " 0  1  0  0  0\n",
       " 1  0  0  0  0\n",
       " 0  0  1  0  0"
      ]
     },
     "execution_count": 81,
     "metadata": {},
     "output_type": "execute_result"
    }
   ],
   "source": [
    "ident[p,:]"
   ]
  },
  {
   "cell_type": "markdown",
   "metadata": {},
   "source": [
    "What is closest to the number of parameters that are needed for an n x n permutation matrix?\n",
    "    a) n^2  b) n   c)n!  d)n^n"
   ]
  },
  {
   "cell_type": "markdown",
   "metadata": {},
   "source": [
    "## Solution\n",
    "\n",
    "The closest number of parameters of $n$, given by (b).\n",
    "\n",
    "Note that each permutation matrix has a single $1$ in each column and row. So each permutation matrix may be parametrized by an $n$-vector $(m_1,\\ldots,m_n)$ where the $i$th number $m_i$ gives the column index of the $1$ in the $i$th row."
   ]
  },
  {
   "cell_type": "markdown",
   "metadata": {},
   "source": [
    "# 10. a Julia application of linear algebra\n",
    "Understanding this code is not required for this class, but is an extra for those interested.  All of you might want to look just a little and execute the lines though."
   ]
  },
  {
   "cell_type": "markdown",
   "metadata": {},
   "source": [
    " The signed distance to a hyperplane is one of those standard machine learning (and elsewhere!) codes.  In one commonly used notation, hyperplanes are written as the set of x for which θᵀx + θ₀ = 0 where θ is in Rⁿ and θ₀ is in R. The formula for the distance of a point p to this hyperplane is <br>\n",
    "      distance =  (θᵀp +θ₀ )/||θ||"
   ]
  },
  {
   "cell_type": "code",
   "execution_count": 163,
   "metadata": {},
   "outputs": [
    {
     "data": {
      "text/plain": [
       "d (generic function with 3 methods)"
      ]
     },
     "execution_count": 163,
     "metadata": {},
     "output_type": "execute_result"
    }
   ],
   "source": [
    "using LinearAlgebra\n",
    "# Formula in Julia looks a lot like the math\n",
    "d(p,θ,θ₀) = (θ'p .+ θ₀)/norm(θ)\n",
    "\n",
    "# If you would like to annotate with types, this is also allowed\n",
    "# this says p and θ must be vectors and θ₀ a number\n",
    "d(p::Vector, θ::Vector, θ₀::Number) = (θ'p .+ θ₀)/norm(θ)"
   ]
  },
  {
   "cell_type": "code",
   "execution_count": 164,
   "metadata": {},
   "outputs": [
    {
     "data": {
      "text/plain": [
       "0.6736808399014581"
      ]
     },
     "execution_count": 164,
     "metadata": {},
     "output_type": "execute_result"
    }
   ],
   "source": [
    "n = 7\n",
    "d( rand(n), rand(n), rand() )"
   ]
  },
  {
   "cell_type": "markdown",
   "metadata": {},
   "source": [
    "Python is a very popular language these days.  It is really nice to have lots of friends who know the same language.  Python suffers, however, from the two language problem:  that efficient machine learning code tends to use C or C++, and even numpy tends to mix metaphors being sort of python like and sort of something different. "
   ]
  },
  {
   "cell_type": "markdown",
   "metadata": {},
   "source": [
    "Are we above or below the hyperplane?"
   ]
  },
  {
   "cell_type": "code",
   "execution_count": 165,
   "metadata": {},
   "outputs": [
    {
     "data": {
      "text/plain": [
       "which_side (generic function with 1 method)"
      ]
     },
     "execution_count": 165,
     "metadata": {},
     "output_type": "execute_result"
    }
   ],
   "source": [
    "which_side(p,θ,θ₀) = d(p,θ,θ₀)<0 ? \"I'm below\" : \"I'm above\" # Ternary operator"
   ]
  },
  {
   "cell_type": "code",
   "execution_count": 166,
   "metadata": {},
   "outputs": [
    {
     "data": {
      "text/plain": [
       "\"I'm below\""
      ]
     },
     "execution_count": 166,
     "metadata": {},
     "output_type": "execute_result"
    }
   ],
   "source": [
    "which_side(randn(n), rand(n), rand() )"
   ]
  },
  {
   "cell_type": "markdown",
   "metadata": {},
   "source": [
    "What if we have a matrix of 5 data points, each column is in R^n?"
   ]
  },
  {
   "cell_type": "code",
   "execution_count": 167,
   "metadata": {},
   "outputs": [
    {
     "data": {
      "text/plain": [
       "7×5 Array{Float64,2}:\n",
       " -0.0135899  -1.85682   -1.4147    -1.73322   -0.29654 \n",
       " -0.0583988   0.39595   -0.748555  -0.760963   0.468719\n",
       "  0.898581    1.31427   -0.790358  -0.1995     0.90457 \n",
       " -0.0752133   0.334317  -0.557758  -2.391      0.729908\n",
       "  0.432025    1.12397   -1.70417    1.31616    1.78537 \n",
       " -0.494314   -2.58893    0.245257  -1.75916    0.439534\n",
       " -1.50217    -1.00493   -1.25288   -0.790197   1.21259 "
      ]
     },
     "execution_count": 167,
     "metadata": {},
     "output_type": "execute_result"
    }
   ],
   "source": [
    "P = randn(n,5)"
   ]
  },
  {
   "cell_type": "code",
   "execution_count": 168,
   "metadata": {},
   "outputs": [
    {
     "data": {
      "text/plain": [
       "1×5 Array{Float64,2}:\n",
       " -0.0509957  -1.44167  -1.57092  -2.49945  1.62281"
      ]
     },
     "execution_count": 168,
     "metadata": {},
     "output_type": "execute_result"
    }
   ],
   "source": [
    "distances = d( P, rand(n), rand() )  # Code evaluates five distances"
   ]
  },
  {
   "cell_type": "code",
   "execution_count": 169,
   "metadata": {},
   "outputs": [
    {
     "data": {
      "text/plain": [
       "1×5 Array{Float64,2}:\n",
       " -1.0  -1.0  -1.0  -1.0  1.0"
      ]
     },
     "execution_count": 169,
     "metadata": {},
     "output_type": "execute_result"
    }
   ],
   "source": [
    "sign.(distances)  # elementwise sign function tells you above or below"
   ]
  },
  {
   "cell_type": "markdown",
   "metadata": {},
   "source": [
    "Carrying around a θ and θ₀ separately seems silly.  How likely are you to remember that this is a pair next month?  Let's wrap them together:"
   ]
  },
  {
   "cell_type": "code",
   "execution_count": 170,
   "metadata": {},
   "outputs": [],
   "source": [
    "struct Hyperplane\n",
    "    θ  :: Vector\n",
    "    θ₀ :: Number\n",
    "end"
   ]
  },
  {
   "cell_type": "code",
   "execution_count": 171,
   "metadata": {},
   "outputs": [
    {
     "data": {
      "text/plain": [
       "Hyperplane([0.754178, 0.452019, 0.854368], 0.7806995443589713)"
      ]
     },
     "execution_count": 171,
     "metadata": {},
     "output_type": "execute_result"
    }
   ],
   "source": [
    "h = Hyperplane( rand(3), rand() )"
   ]
  },
  {
   "cell_type": "code",
   "execution_count": 172,
   "metadata": {},
   "outputs": [
    {
     "name": "stdout",
     "output_type": "stream",
     "text": [
      "Hyperplane\n",
      "  θ: Array{Float64}((3,)) [0.754178, 0.452019, 0.854368]\n",
      "  θ₀: Float64 0.7806995443589713\n"
     ]
    }
   ],
   "source": [
    "dump(h)  # see what's inside"
   ]
  },
  {
   "cell_type": "markdown",
   "metadata": {},
   "source": [
    "Let's make it easy to write the more natural distance to a hyperplane function"
   ]
  },
  {
   "cell_type": "code",
   "execution_count": 173,
   "metadata": {},
   "outputs": [
    {
     "data": {
      "text/plain": [
       "d (generic function with 3 methods)"
      ]
     },
     "execution_count": 173,
     "metadata": {},
     "output_type": "execute_result"
    }
   ],
   "source": [
    "d(p::Vector,  h::Hyperplane )  = d(p,h.θ,h.θ₀)"
   ]
  },
  {
   "cell_type": "code",
   "execution_count": 174,
   "metadata": {},
   "outputs": [
    {
     "data": {
      "text/plain": [
       "-0.7457277112775967"
      ]
     },
     "execution_count": 174,
     "metadata": {},
     "output_type": "execute_result"
    }
   ],
   "source": [
    "h = Hyperplane( rand(n), rand() )\n",
    "d( randn(n), h)"
   ]
  },
  {
   "cell_type": "markdown",
   "metadata": {},
   "source": [
    "This professor encourages good coding, where mathemtical abstractions are wrapped with their names rather than being isolated as greek letters."
   ]
  },
  {
   "cell_type": "markdown",
   "metadata": {},
   "source": [
    "Let's generate a vector of 10 hyperplanes:"
   ]
  },
  {
   "cell_type": "code",
   "execution_count": 175,
   "metadata": {},
   "outputs": [
    {
     "data": {
      "text/plain": [
       "10-element Array{Hyperplane,1}:\n",
       " Hyperplane([0.639999, 0.381686, 0.451886], 0.1268770727445261) \n",
       " Hyperplane([0.782602, 0.790227, 0.132017], 0.06124709194394651)\n",
       " Hyperplane([0.638825, 0.459649, 0.0769363], 0.9779856818512844)\n",
       " Hyperplane([0.601499, 0.857207, 0.776075], 0.35331470556440636)\n",
       " Hyperplane([0.500564, 0.459139, 0.621231], 0.8541667481679043) \n",
       " Hyperplane([0.527508, 0.95329, 0.435191], 0.054942045856016586)\n",
       " Hyperplane([0.838488, 0.390493, 0.190962], 0.39390438127219274)\n",
       " Hyperplane([0.275477, 0.896726, 0.339034], 0.4137173415074926) \n",
       " Hyperplane([0.166933, 0.977787, 0.0165396], 0.8839908695144154)\n",
       " Hyperplane([0.0228206, 0.547961, 0.996911], 0.7564915268371468)"
      ]
     },
     "execution_count": 175,
     "metadata": {},
     "output_type": "execute_result"
    }
   ],
   "source": [
    "hyperplanes = [Hyperplane( rand(3), rand() ) for i=1:10 ]"
   ]
  },
  {
   "cell_type": "markdown",
   "metadata": {},
   "source": [
    "Notice this is 10-element vector whose elements are hyperplanes !!"
   ]
  },
  {
   "cell_type": "markdown",
   "metadata": {},
   "source": [
    "Let's see if a random point is above or below these hyperplanes."
   ]
  },
  {
   "cell_type": "code",
   "execution_count": 176,
   "metadata": {},
   "outputs": [
    {
     "data": {
      "text/plain": [
       "3-element Array{Float64,1}:\n",
       " 0.13038386350675657\n",
       " 0.7420231369911667 \n",
       " 0.22137717632262296"
      ]
     },
     "execution_count": 176,
     "metadata": {},
     "output_type": "execute_result"
    }
   ],
   "source": [
    "p = randn(3)"
   ]
  },
  {
   "cell_type": "code",
   "execution_count": 178,
   "metadata": {},
   "outputs": [
    {
     "data": {
      "text/plain": [
       "10-element Array{Float64,1}:\n",
       " 0.6811138314488024\n",
       " 0.6954398194536037\n",
       " 1.7949674760014023\n",
       " 0.9510484436008779\n",
       " 1.518376859487798 \n",
       " 0.7905034014117159\n",
       " 0.8843732377089485\n",
       " 1.1930979743272325\n",
       " 1.648023020172752 \n",
       " 1.2187964026961917"
      ]
     },
     "execution_count": 178,
     "metadata": {},
     "output_type": "execute_result"
    }
   ],
   "source": [
    "d.( [p] , hyperplanes)"
   ]
  },
  {
   "cell_type": "markdown",
   "metadata": {},
   "source": [
    "or maybe more readable"
   ]
  },
  {
   "cell_type": "code",
   "execution_count": 179,
   "metadata": {},
   "outputs": [
    {
     "data": {
      "text/plain": [
       "10-element Array{Float64,1}:\n",
       " 0.6811138314488024\n",
       " 0.6954398194536037\n",
       " 1.7949674760014023\n",
       " 0.9510484436008779\n",
       " 1.518376859487798 \n",
       " 0.7905034014117159\n",
       " 0.8843732377089485\n",
       " 1.1930979743272325\n",
       " 1.648023020172752 \n",
       " 1.2187964026961917"
      ]
     },
     "execution_count": 179,
     "metadata": {},
     "output_type": "execute_result"
    }
   ],
   "source": [
    "[  d(p, h) for h ∈ hyperplanes ]"
   ]
  },
  {
   "cell_type": "markdown",
   "metadata": {},
   "source": [
    "For those really into 6.036, feel free to take a look at a (very short) sample [perceptron training implementation](https://nbviewer.jupyter.org/github/mitmath/1806/blob/master/psets/perceptron.ipynb). "
   ]
  },
  {
   "cell_type": "code",
   "execution_count": null,
   "metadata": {},
   "outputs": [],
   "source": []
  }
 ],
 "metadata": {
  "kernelspec": {
   "display_name": "Julia 0.6.4",
   "language": "julia",
   "name": "julia-0.6"
  },
  "language_info": {
   "file_extension": ".jl",
   "mimetype": "application/julia",
   "name": "julia",
   "version": "0.6.4"
  }
 },
 "nbformat": 4,
 "nbformat_minor": 2
}
