{
 "cells": [
  {
   "cell_type": "markdown",
   "metadata": {},
   "source": [
    "# 18.06 pset 6 (due 10/18, 11am)"
   ]
  },
  {
   "cell_type": "markdown",
   "metadata": {},
   "source": [
    "## Problem 1 (10 pts)\n",
    "\n",
    "As in our derivation of $A^TAx=A^Tb$ from minimizing $\\Vert b - Ax\\Vert$, it is often useful to do calculus (derivatives and integrals) on vectors and matrices.  If you have a matrix $A$ that is a function $A(\\alpha)$ of some parameter $\\alpha$, then its derivative $dA/d\\alpha$ is just  $$\\frac{dA}{d\\alpha} = \\lim_{h\\to0}\\frac{A(\\alpha+h)-A(\\alpha)}{h} = \\begin{pmatrix} \\frac{da_{1,1}}{d\\alpha} & \\frac{da_{1,2}}{d\\alpha} & \\cdots \\\\ \\frac{da_{2,1}}{d\\alpha} & \\frac{da_{2,2}}{d\\alpha} & \\cdots \\\\ \\vdots & \\vdots & \\ddots \\end{pmatrix},$$ the matrix of the ordinary derivatives of each entry $a_{i,j}$ of $A$.  Lots of rules immediately follow, e.g. it should be obvious that $\\frac{d(A^T)}{d\\alpha} = \\left(\\frac{dA}{d\\alpha}\\right)^T$.\n",
    "\n",
    "* If $C = AB$ ($A$ is $m \\times n$ and $B$ is $n \\times p$), then each entry $c_{i,j}$ of $C$ is $c_{i,j} = \\sum_{k=1}^n a_{i,k} b_{k,j}$ (see lecture 2, perspective 1).   From this, apply the usual 18.01 product rule etc. to find the product rule $\\frac{dC}{d\\alpha} = ???$ for matrices (where the entries of both A and B are functions of α).\n",
    "\n",
    "* Suppose the invertible square matrix $A$ has entries that are a function of $\\alpha$.  If $x$ is the solution to $Ax=b$ (where b is a constant vector, independent of α), then\n",
    "  - Give a formula for $\\frac{dx}{d\\alpha}$.  (Hint: take the derivative of both sides of Ax=b using your product rule and then solve for dx/dα.)\n",
    "  - Give a formula for $\\frac{d(A^{-1})}{d\\alpha}$.   (Hint: you get the columns of $A^{-1}$ by solving for $x$ with $b = e_1, e_2, \\ldots$.)  Your answer should be in terms of $A$, $A^{-1}$, $dA/d\\alpha$, $b$, and/or combinations thereof."
   ]
  },
  {
   "cell_type": "markdown",
   "metadata": {},
   "source": [
    "## Problem 2 (10 points)\n",
    "\n",
    "Suppose that we have a series of $n$ data points $(a_i, b_i)$ that we want to fit to a function of the form:\n",
    "\n",
    "$$\n",
    "b(a) = c \\sin(\\omega a + \\phi)\n",
    "$$\n",
    "\n",
    "for an unknown amplitude $c$ and an unknown phase angle $\\phi$, but a *given* frequency $\\omega$.  We want to find the *least-square* $c$ and $\\phi \\in [-\\pi, \\pi)$, i.e. the ones that minimize $\\sum_i [b_i - b(a_i)]^2$ as in class.\n",
    "\n",
    "* As written above, $b(a)$ is a nonlinear function of $\\phi$.  Using the angle-addition identity for sine (google it), rewrite this as a *linear* function of two *new* unknown parameters $x_1,x_2$ so that $$\\begin{pmatrix} b(a_1) \\\\ b(a_2) \\\\ \\vdots \\\\ b(a_n) \\end{pmatrix} = Ax$$ for some $n\\times 2$ matrix $A$.\n",
    "  - Give the matrix $A$ explicitly.\n",
    "  - Give a formula for $c$ and $\\phi$ in terms of $x_1$ and $x_2$.   (You may find the [atan2 function](https://en.wikipedia.org/wiki/Atan2) helpful.)\n",
    "  \n",
    "* The following code gives 100 data points $(a_i, b_i)$ for a frequency $\\omega = 2\\pi$.  Modify the code (fill in the `????`) to compute the best-fit $c$ and $\\phi$ and plot the resulting best-fit curve.\n",
    "\n",
    "You should turn in what code you wrote for `????` and what $c$ and $\\phi$ you got.  You don't need to turn in your plot — but if your curve doesn't roughly go through the data points, you are doing something wrong!"
   ]
  },
  {
   "cell_type": "code",
   "execution_count": null,
   "metadata": {},
   "outputs": [],
   "source": [
    "a = [-0.0020571, 0.0234368, 0.0131772, 0.0364537, 0.02458, 0.0553003, 0.0649847, 0.0667423, 0.0835347, 0.0873754, 0.0860518, 0.110606, 0.120988, 0.120872, 0.136634, 0.150958, 0.15873, 0.164522, 0.191929, 0.197508, 0.192026, 0.22178, 0.226886, 0.242289, 0.227212, 0.249128, 0.270098, 0.273125, 0.29594, 0.267332, 0.302427, 0.313911, 0.303093, 0.324527, 0.333408, 0.341294, 0.351236, 0.375601, 0.37823, 0.39675, 0.399365, 0.413612, 0.444659, 0.435332, 0.437833, 0.441308, 0.464099, 0.465531, 0.495956, 0.500535, 0.493443, 0.524714, 0.515599, 0.51726, 0.541133, 0.558809, 0.571957, 0.583461, 0.590294, 0.586423, 0.613441, 0.5995, 0.628169, 0.622209, 0.677795, 0.669183, 0.681861, 0.670965, 0.685153, 0.718431, 0.712982, 0.698772, 0.730441, 0.751577, 0.736971, 0.756728, 0.745847, 0.779236, 0.784867, 0.804464, 0.811565, 0.809182, 0.811859, 0.840568, 0.847529, 0.865416, 0.871873, 0.871151, 0.877924, 0.915995, 0.918345, 0.917561, 0.929699, 0.947075, 0.948119, 0.957958, 0.969449, 1.01146, 0.977625, 1.00604]\n",
    "b = [0.21573, 0.221734, 0.349714, 0.329997, 0.460348, 0.624731, 0.556417, 0.684642, 0.762612, 0.754299, 0.766803, 0.917739, 0.93527, 1.03527, 0.948106, 1.11401, 1.12471, 1.08913, 1.20989, 1.27851, 1.23481, 1.20229, 1.32088, 1.23435, 1.1618, 1.39465, 1.26524, 1.23932, 1.20349, 1.15636, 1.09365, 1.10775, 1.1303, 1.06158, 0.9227, 0.912458, 0.759356, 0.785229, 0.581536, 0.633751, 0.480104, 0.468525, 0.446304, 0.288345, 0.346544, 0.179543, 0.143928, 0.0189101, -0.0855253, -0.133835, -0.225411, -0.269586, -0.347995, -0.467696, -0.497237, -0.47675, -0.628402, -0.719642, -0.689271, -0.878614, -0.82304, -0.999039, -1.00726, -1.08171, -1.10438, -1.04714, -1.13234, -1.11837, -1.16706, -1.17111, -1.18153, -1.24074, -1.23679, -1.26892, -1.34217, -1.19197, -1.16301, -1.12142, -1.14242, -1.20055, -0.991114, -1.0782, -1.00512, -0.930438, -0.906866, -0.900119, -0.757967, -0.78452, -0.694501, -0.578888, -0.476328, -0.502321, -0.395007, -0.276761, -0.248281, -0.045326, -0.0160062, -0.019926, 0.0510702, 0.136694]\n",
    "mean(a), mean(b), length(a), length(b)"
   ]
  },
  {
   "cell_type": "markdown",
   "metadata": {},
   "source": [
    "Hint: if you wanted to make a matrix A whose rows were $[\\sin(3a_i)\\; \\sin(4πa_i)]$ for $i = 1,\\ldots,n$, you would do `A = [sin.(3*a) sin.(4π*a)]` in Julia.   Adjust as needed:"
   ]
  },
  {
   "cell_type": "code",
   "execution_count": null,
   "metadata": {
    "collapsed": true
   },
   "outputs": [],
   "source": [
    "A = [ ????  ???? ]"
   ]
  },
  {
   "cell_type": "code",
   "execution_count": null,
   "metadata": {},
   "outputs": [],
   "source": [
    "x̂ = A \\ b  # solve for the least-square solution x̂"
   ]
  },
  {
   "cell_type": "markdown",
   "metadata": {},
   "source": [
    "Given the least-square $\\hat{x}$, fill in your formula for $c$ and $\\phi$ in terms of $\\hat{x}_1$ and $\\hat{x}_2$ (`x̂[1]` and `x̂[2]` in Julia).\n",
    "\n",
    "Julia's [math functions](https://docs.julialang.org/en/release-0.4/stdlib/math) like `sqrt`, `hypot`, `norm`, or `atan2` functions will be helpful here.\n",
    "\n",
    "Note: you can type `x̂` by typing `x\\hat` and then hitting tab."
   ]
  },
  {
   "cell_type": "code",
   "execution_count": null,
   "metadata": {
    "collapsed": true
   },
   "outputs": [],
   "source": [
    "# some function of x̂ or x̂[1] and x̂[2]:\n",
    "c = ???"
   ]
  },
  {
   "cell_type": "code",
   "execution_count": null,
   "metadata": {
    "collapsed": true
   },
   "outputs": [],
   "source": [
    "ϕ = ???"
   ]
  },
  {
   "cell_type": "markdown",
   "metadata": {},
   "source": [
    "Now, plot the data along with your best-fit curve.  If you did everything right, the curve should *nearly* go through the data points!"
   ]
  },
  {
   "cell_type": "code",
   "execution_count": null,
   "metadata": {},
   "outputs": [],
   "source": [
    "using PyPlot\n",
    "\n",
    "plot(a, b, \"r.\")\n",
    "\n",
    "â = linspace(0,1,300)\n",
    "plot(â, c * sin.(2π*â + ϕ), \"k-\")\n",
    "\n",
    "xlabel(L\"a\")\n",
    "ylabel(L\"b\")\n",
    "title(\"best-fit sinusoid\")\n",
    "legend([\"data\", \"fit\"])\n",
    "\n",
    "grid()"
   ]
  },
  {
   "cell_type": "markdown",
   "metadata": {},
   "source": [
    "## Problem 3 (10 points)\n",
    "\n",
    "From Strang, section 4.3, problem 27 (distance between lines):\n",
    "\n",
    "The points $P = \\begin{pmatrix} x \\\\ x \\\\ x \\end{pmatrix}$ and $Q = \\begin{pmatrix}y \\\\ 3y \\\\ -1 \\end{pmatrix}$ are on two lines in space that don't meet.\n",
    "\n",
    "* Choose $x$ and $y$ to minimize the squared distance $\\Vert P - Q\\Vert^2$.\n",
    "\n",
    "  - Express this problem in matrix form as minimizing $$\\Vert A\\vec{x} - \\vec{b}\\Vert^2$$ for $\\vec{x}=\\begin{pmatrix}x\\\\y\\end{pmatrix}$, some matrix $A$, and some vector $\\vec{b}$.\n",
    "  - Solve the normal equations $A^T A \\hat{x} = A^T \\vec{b}$ to find the minimizer $\\hat{x}$.\n",
    "\n",
    "* The line connecting the closest $P$ and $Q$ is perpendicular to `__________`.\n"
   ]
  },
  {
   "cell_type": "markdown",
   "metadata": {},
   "source": [
    "## Problem 4 (10 points)\n",
    "\n",
    "From Strang, section 4.2, questions 11–12:\n",
    "\n",
    "* Project $b$ onto $C(A)$ by solving $A^T A \\hat{x} = A^T b$ to obtain the projection $p = A\\hat{x}$ for $A = \\begin{pmatrix} 1 & 1 \\\\ 0 & 1 \\\\ 0 & 0 \\end{pmatrix}$ and $b = \\begin{pmatrix} 2 \\\\ 3 \\\\ 4 \\end{pmatrix}$.\n",
    "\n",
    "* Find $e = b - p$, and verify that it is perpendicular to the columns of $A$.\n",
    "\n",
    "* Compute the projection matrix $P$ onto $C(A)$, verify that $Pb$ gives the same $p$, and verify that $P^2 = P$.  (You can google the formula for the inverse of a 2-by-2 matrix to shorten your algebra, or you can look carefully at $A$ to see if there is a quicker way.)"
   ]
  },
  {
   "cell_type": "markdown",
   "metadata": {},
   "source": [
    "## Problem 5 (5 points)\n",
    "\n",
    "From Strang, section 4.2, question 24.\n",
    "\n",
    "$N(A^T)$ is `______` to $C(A)$.  So if $A^T b = 0$, the projection of $b$ onto $C(A)$ should be $p = $ `______`.  Check that $P = A(A^T A)^{-1} A^T$ gives this answer."
   ]
  },
  {
   "cell_type": "markdown",
   "metadata": {},
   "source": [
    "## Problem 6 (10 points)\n",
    "\n",
    "From Strang, section 4.2, problem 30.\n",
    "\n",
    "* Find the projection matrix $P_C$ onto the column space $C(A)$ (after looking closely at the matrix!) for $A = \\begin{pmatrix} 3 & 6 & 6 \\\\ 4 & 8 & 8 \\end{pmatrix}$.\n",
    "\n",
    "* Find the 3 by 3 projection matrix $P_R$ onto the row space of $A$.  (You can google the formula for the inverse of a 2 by 2 matrix to try to shorten your algebra… though the fact that A is rank-deficient may give you some trouble… but there is an even simpler way to do it if you realize that the row space is `_____`-dimensional.)  Multiply $B = P_C A P_R$.  Your answer $B$ may be a little surprising at first — can you explain it?"
   ]
  }
 ],
 "metadata": {
  "kernelspec": {
   "display_name": "Julia 1.0.5",
   "language": "julia",
   "name": "julia-1.0"
  },
  "language_info": {
   "file_extension": ".jl",
   "mimetype": "application/julia",
   "name": "julia",
   "version": "1.0.5"
  },
  "latex_envs": {
   "LaTeX_envs_menu_present": true,
   "autoclose": false,
   "autocomplete": true,
   "bibliofile": "biblio.bib",
   "cite_by": "apalike",
   "current_citInitial": 1,
   "eqLabelWithNumbers": true,
   "eqNumInitial": 1,
   "hotkeys": {
    "equation": "Ctrl-E",
    "itemize": "Ctrl-I"
   },
   "labels_anchors": false,
   "latex_user_defs": false,
   "report_style_numbering": false,
   "user_envs_cfg": false
  },
  "toc": {
   "base_numbering": 1,
   "nav_menu": {},
   "number_sections": true,
   "sideBar": true,
   "skip_h1_title": false,
   "title_cell": "Table of Contents",
   "title_sidebar": "Contents",
   "toc_cell": false,
   "toc_position": {},
   "toc_section_display": true,
   "toc_window_display": false
  },
  "varInspector": {
   "cols": {
    "lenName": 16,
    "lenType": 16,
    "lenVar": 40
   },
   "kernels_config": {
    "python": {
     "delete_cmd_postfix": "",
     "delete_cmd_prefix": "del ",
     "library": "var_list.py",
     "varRefreshCmd": "print(var_dic_list())"
    },
    "r": {
     "delete_cmd_postfix": ") ",
     "delete_cmd_prefix": "rm(",
     "library": "var_list.r",
     "varRefreshCmd": "cat(var_dic_list()) "
    }
   },
   "types_to_exclude": [
    "module",
    "function",
    "builtin_function_or_method",
    "instance",
    "_Feature"
   ],
   "window_display": false
  }
 },
 "nbformat": 4,
 "nbformat_minor": 2
}
